{
 "cells": [
  {
   "cell_type": "code",
   "execution_count": 1,
   "id": "6859afc9",
   "metadata": {},
   "outputs": [
    {
     "name": "stdout",
     "output_type": "stream",
     "text": [
      "WARNING:tensorflow:From C:\\Users\\user\\anaconda3\\lib\\site-packages\\tensorflow\\python\\compat\\v2_compat.py:96: disable_resource_variables (from tensorflow.python.ops.variable_scope) is deprecated and will be removed in a future version.\n",
      "Instructions for updating:\n",
      "non-resource variables are not supported in the long term\n"
     ]
    }
   ],
   "source": [
    "from __future__ import print_function\n",
    "\n",
    "import numpy as np\n",
    "import pandas as pd\n",
    "import collections\n",
    "from mpl_toolkits.mplot3d import Axes3D\n",
    "from IPython import display\n",
    "from matplotlib import pyplot as plt\n",
    "from IPython.display import display\n",
    "import seaborn as sns\n",
    "import sklearn\n",
    "import sklearn.manifold\n",
    "import tensorflow.compat.v1 as tf\n",
    "tf.disable_v2_behavior()\n",
    "tf.logging.set_verbosity(tf.logging.ERROR)"
   ]
  },
  {
   "cell_type": "code",
   "execution_count": 2,
   "id": "50b935de",
   "metadata": {},
   "outputs": [
    {
     "name": "stderr",
     "output_type": "stream",
     "text": [
      "C:\\Users\\user\\anaconda3\\lib\\site-packages\\lightfm\\_lightfm_fast.py:9: UserWarning: LightFM was compiled without OpenMP support. Only a single thread will be used.\n",
      "  warnings.warn(\n"
     ]
    }
   ],
   "source": [
    "from sklearn.model_selection import train_test_split\n",
    "from sklearn.metrics import accuracy_score\n",
    "from sklearn.metrics import mean_squared_error\n",
    "from collections import Counter, defaultdict\n",
    "from operator import itemgetter\n",
    "import tensorflow as tf\n",
    "from tensorflow import keras\n",
    "from pylab import rcParams\n",
    "from pylab import savefig\n",
    "import lightfm\n",
    "from lightfm import LightFM\n",
    "from lightfm.data import Dataset\n",
    "from lightfm import cross_validation\n",
    "from lightfm.evaluation import precision_at_k\n",
    "from lightfm.evaluation import recall_at_k\n",
    "from lightfm.cross_validation import random_train_test_split\n",
    "from scipy.sparse import csr_matrix\n",
    "import scipy\n",
    "\n",
    "from sklearn.model_selection import train_test_split\n",
    "from collections import Counter, defaultdict\n",
    "from sklearn.metrics import accuracy_score\n",
    "import matplotlib.ticker as ticker\n",
    "from math import sqrt\n",
    "from sklearn.metrics import mean_squared_error"
   ]
  },
  {
   "cell_type": "code",
   "execution_count": 3,
   "id": "85c6870b",
   "metadata": {},
   "outputs": [],
   "source": [
    "# Install Altair and activate its colab renderer.\n",
    "#print(\"Installing Altair...\")\n",
    "#!pip install git+git://github.com/altair-viz/altair.git\n",
    "#import altair as alt\n",
    "#alt.data_transformers.enable('default', max_rows=None)\n",
    "#alt.renderers.enable('colab')\n",
    "#print(\"Done installing Altair.\")\n",
    "\n",
    "# Install spreadsheets and import authentication module.\n",
    "#USER_RATINGS = False\n",
    "#!pip install --upgrade -q gspread\n",
    "#from google.colab import auth\n",
    "#import gspread\n",
    "#from oauth2client.client import GoogleCredentials"
   ]
  },
  {
   "cell_type": "code",
   "execution_count": 4,
   "id": "700b07b3",
   "metadata": {},
   "outputs": [],
   "source": [
    "import matplotlib.pyplot as plt\n",
    "import os\n",
    "import warnings\n",
    "from keras.layers import Input, Embedding, Flatten, Dot, Dense, Concatenate\n",
    "from keras.models import Model"
   ]
  },
  {
   "cell_type": "markdown",
   "id": "32ff44ac",
   "metadata": {},
   "source": [
    "Firstly, I converted my data files from .dat to .csv format. I did this via excel using the data tab and it's \"get external data\" option and extracted it from text. All the delimiting was done by default and I had my files in a delimited format."
   ]
  },
  {
   "cell_type": "code",
   "execution_count": 41,
   "id": "e612c1ae",
   "metadata": {},
   "outputs": [
    {
     "data": {
      "text/html": [
       "<div>\n",
       "<style scoped>\n",
       "    .dataframe tbody tr th:only-of-type {\n",
       "        vertical-align: middle;\n",
       "    }\n",
       "\n",
       "    .dataframe tbody tr th {\n",
       "        vertical-align: top;\n",
       "    }\n",
       "\n",
       "    .dataframe thead th {\n",
       "        text-align: right;\n",
       "    }\n",
       "</style>\n",
       "<table border=\"1\" class=\"dataframe\">\n",
       "  <thead>\n",
       "    <tr style=\"text-align: right;\">\n",
       "      <th></th>\n",
       "      <th>id</th>\n",
       "      <th>name</th>\n",
       "      <th>url</th>\n",
       "      <th>pictureURL</th>\n",
       "    </tr>\n",
       "  </thead>\n",
       "  <tbody>\n",
       "    <tr>\n",
       "      <th>0</th>\n",
       "      <td>1</td>\n",
       "      <td>MALICE MIZER</td>\n",
       "      <td>http://www.last.fm/music/MALICE+MIZER</td>\n",
       "      <td>http://userserve-ak.last.fm/serve/252/10808.jpg</td>\n",
       "    </tr>\n",
       "    <tr>\n",
       "      <th>1</th>\n",
       "      <td>2</td>\n",
       "      <td>Diary of Dreams</td>\n",
       "      <td>http://www.last.fm/music/Diary+of+Dreams</td>\n",
       "      <td>http://userserve-ak.last.fm/serve/252/3052066.jpg</td>\n",
       "    </tr>\n",
       "    <tr>\n",
       "      <th>2</th>\n",
       "      <td>3</td>\n",
       "      <td>Carpathian Forest</td>\n",
       "      <td>http://www.last.fm/music/Carpathian+Forest</td>\n",
       "      <td>http://userserve-ak.last.fm/serve/252/40222717...</td>\n",
       "    </tr>\n",
       "    <tr>\n",
       "      <th>3</th>\n",
       "      <td>4</td>\n",
       "      <td>Moi dix Mois</td>\n",
       "      <td>http://www.last.fm/music/Moi+dix+Mois</td>\n",
       "      <td>http://userserve-ak.last.fm/serve/252/54697835...</td>\n",
       "    </tr>\n",
       "    <tr>\n",
       "      <th>4</th>\n",
       "      <td>5</td>\n",
       "      <td>Bella Morte</td>\n",
       "      <td>http://www.last.fm/music/Bella+Morte</td>\n",
       "      <td>http://userserve-ak.last.fm/serve/252/14789013...</td>\n",
       "    </tr>\n",
       "    <tr>\n",
       "      <th>...</th>\n",
       "      <td>...</td>\n",
       "      <td>...</td>\n",
       "      <td>...</td>\n",
       "      <td>...</td>\n",
       "    </tr>\n",
       "    <tr>\n",
       "      <th>17627</th>\n",
       "      <td>18741</td>\n",
       "      <td>Diamanda GalÃ¡s</td>\n",
       "      <td>http://www.last.fm/music/Diamanda+Gal%C3%A1s</td>\n",
       "      <td>http://userserve-ak.last.fm/serve/252/16352971...</td>\n",
       "    </tr>\n",
       "    <tr>\n",
       "      <th>17628</th>\n",
       "      <td>18742</td>\n",
       "      <td>Aya RL</td>\n",
       "      <td>http://www.last.fm/music/Aya+RL</td>\n",
       "      <td>http://userserve-ak.last.fm/serve/252/207445.jpg</td>\n",
       "    </tr>\n",
       "    <tr>\n",
       "      <th>17629</th>\n",
       "      <td>18743</td>\n",
       "      <td>Coptic Rain</td>\n",
       "      <td>http://www.last.fm/music/Coptic+Rain</td>\n",
       "      <td>http://userserve-ak.last.fm/serve/252/344868.jpg</td>\n",
       "    </tr>\n",
       "    <tr>\n",
       "      <th>17630</th>\n",
       "      <td>18744</td>\n",
       "      <td>Oz Alchemist</td>\n",
       "      <td>http://www.last.fm/music/Oz+Alchemist</td>\n",
       "      <td>http://userserve-ak.last.fm/serve/252/29297695...</td>\n",
       "    </tr>\n",
       "    <tr>\n",
       "      <th>17631</th>\n",
       "      <td>18745</td>\n",
       "      <td>Grzegorz Tomczak</td>\n",
       "      <td>http://www.last.fm/music/Grzegorz+Tomczak</td>\n",
       "      <td>http://userserve-ak.last.fm/serve/252/59486303...</td>\n",
       "    </tr>\n",
       "  </tbody>\n",
       "</table>\n",
       "<p>17632 rows × 4 columns</p>\n",
       "</div>"
      ],
      "text/plain": [
       "          id               name                                           url  \\\n",
       "0          1       MALICE MIZER         http://www.last.fm/music/MALICE+MIZER   \n",
       "1          2    Diary of Dreams      http://www.last.fm/music/Diary+of+Dreams   \n",
       "2          3  Carpathian Forest    http://www.last.fm/music/Carpathian+Forest   \n",
       "3          4       Moi dix Mois         http://www.last.fm/music/Moi+dix+Mois   \n",
       "4          5        Bella Morte          http://www.last.fm/music/Bella+Morte   \n",
       "...      ...                ...                                           ...   \n",
       "17627  18741    Diamanda GalÃ¡s  http://www.last.fm/music/Diamanda+Gal%C3%A1s   \n",
       "17628  18742             Aya RL               http://www.last.fm/music/Aya+RL   \n",
       "17629  18743        Coptic Rain          http://www.last.fm/music/Coptic+Rain   \n",
       "17630  18744       Oz Alchemist         http://www.last.fm/music/Oz+Alchemist   \n",
       "17631  18745   Grzegorz Tomczak     http://www.last.fm/music/Grzegorz+Tomczak   \n",
       "\n",
       "                                              pictureURL  \n",
       "0        http://userserve-ak.last.fm/serve/252/10808.jpg  \n",
       "1      http://userserve-ak.last.fm/serve/252/3052066.jpg  \n",
       "2      http://userserve-ak.last.fm/serve/252/40222717...  \n",
       "3      http://userserve-ak.last.fm/serve/252/54697835...  \n",
       "4      http://userserve-ak.last.fm/serve/252/14789013...  \n",
       "...                                                  ...  \n",
       "17627  http://userserve-ak.last.fm/serve/252/16352971...  \n",
       "17628   http://userserve-ak.last.fm/serve/252/207445.jpg  \n",
       "17629   http://userserve-ak.last.fm/serve/252/344868.jpg  \n",
       "17630  http://userserve-ak.last.fm/serve/252/29297695...  \n",
       "17631  http://userserve-ak.last.fm/serve/252/59486303...  \n",
       "\n",
       "[17632 rows x 4 columns]"
      ]
     },
     "execution_count": 41,
     "metadata": {},
     "output_type": "execute_result"
    }
   ],
   "source": [
    "df = pd.read_csv(\"data/hetrec2011-lastfm-2k/artists.csv\")\n",
    "df"
   ]
  },
  {
   "cell_type": "code",
   "execution_count": 42,
   "id": "1df4cee2",
   "metadata": {},
   "outputs": [
    {
     "data": {
      "text/plain": [
       "965"
      ]
     },
     "execution_count": 42,
     "metadata": {},
     "output_type": "execute_result"
    }
   ],
   "source": [
    "df['id'] = pd.to_numeric(df['id'])\n",
    "lst = []\n",
    "m = np.array(df['id'])\n",
    "for i in range(0,17632):\n",
    "    #print(i)\n",
    "    if i not in df.id.values:\n",
    "        lst.append(i)\n",
    "\n",
    "len(lst)"
   ]
  },
  {
   "cell_type": "code",
   "execution_count": 43,
   "id": "fb4b1d21",
   "metadata": {},
   "outputs": [],
   "source": [
    "newart = []\n",
    "for i in range(0, 17632):\n",
    "    newart.append(i)"
   ]
  },
  {
   "cell_type": "code",
   "execution_count": 44,
   "id": "fce87f3e",
   "metadata": {},
   "outputs": [],
   "source": [
    "newart = np.array(newart)\n",
    "df['artID'] = newart.tolist()"
   ]
  },
  {
   "cell_type": "code",
   "execution_count": 45,
   "id": "8188ad48",
   "metadata": {},
   "outputs": [
    {
     "data": {
      "text/html": [
       "<div>\n",
       "<style scoped>\n",
       "    .dataframe tbody tr th:only-of-type {\n",
       "        vertical-align: middle;\n",
       "    }\n",
       "\n",
       "    .dataframe tbody tr th {\n",
       "        vertical-align: top;\n",
       "    }\n",
       "\n",
       "    .dataframe thead th {\n",
       "        text-align: right;\n",
       "    }\n",
       "</style>\n",
       "<table border=\"1\" class=\"dataframe\">\n",
       "  <thead>\n",
       "    <tr style=\"text-align: right;\">\n",
       "      <th></th>\n",
       "      <th>id</th>\n",
       "      <th>name</th>\n",
       "      <th>url</th>\n",
       "      <th>pictureURL</th>\n",
       "      <th>artID</th>\n",
       "    </tr>\n",
       "  </thead>\n",
       "  <tbody>\n",
       "    <tr>\n",
       "      <th>0</th>\n",
       "      <td>1</td>\n",
       "      <td>MALICE MIZER</td>\n",
       "      <td>http://www.last.fm/music/MALICE+MIZER</td>\n",
       "      <td>http://userserve-ak.last.fm/serve/252/10808.jpg</td>\n",
       "      <td>0</td>\n",
       "    </tr>\n",
       "    <tr>\n",
       "      <th>1</th>\n",
       "      <td>2</td>\n",
       "      <td>Diary of Dreams</td>\n",
       "      <td>http://www.last.fm/music/Diary+of+Dreams</td>\n",
       "      <td>http://userserve-ak.last.fm/serve/252/3052066.jpg</td>\n",
       "      <td>1</td>\n",
       "    </tr>\n",
       "    <tr>\n",
       "      <th>2</th>\n",
       "      <td>3</td>\n",
       "      <td>Carpathian Forest</td>\n",
       "      <td>http://www.last.fm/music/Carpathian+Forest</td>\n",
       "      <td>http://userserve-ak.last.fm/serve/252/40222717...</td>\n",
       "      <td>2</td>\n",
       "    </tr>\n",
       "    <tr>\n",
       "      <th>3</th>\n",
       "      <td>4</td>\n",
       "      <td>Moi dix Mois</td>\n",
       "      <td>http://www.last.fm/music/Moi+dix+Mois</td>\n",
       "      <td>http://userserve-ak.last.fm/serve/252/54697835...</td>\n",
       "      <td>3</td>\n",
       "    </tr>\n",
       "    <tr>\n",
       "      <th>4</th>\n",
       "      <td>5</td>\n",
       "      <td>Bella Morte</td>\n",
       "      <td>http://www.last.fm/music/Bella+Morte</td>\n",
       "      <td>http://userserve-ak.last.fm/serve/252/14789013...</td>\n",
       "      <td>4</td>\n",
       "    </tr>\n",
       "  </tbody>\n",
       "</table>\n",
       "</div>"
      ],
      "text/plain": [
       "   id               name                                         url  \\\n",
       "0   1       MALICE MIZER       http://www.last.fm/music/MALICE+MIZER   \n",
       "1   2    Diary of Dreams    http://www.last.fm/music/Diary+of+Dreams   \n",
       "2   3  Carpathian Forest  http://www.last.fm/music/Carpathian+Forest   \n",
       "3   4       Moi dix Mois       http://www.last.fm/music/Moi+dix+Mois   \n",
       "4   5        Bella Morte        http://www.last.fm/music/Bella+Morte   \n",
       "\n",
       "                                          pictureURL  artID  \n",
       "0    http://userserve-ak.last.fm/serve/252/10808.jpg      0  \n",
       "1  http://userserve-ak.last.fm/serve/252/3052066.jpg      1  \n",
       "2  http://userserve-ak.last.fm/serve/252/40222717...      2  \n",
       "3  http://userserve-ak.last.fm/serve/252/54697835...      3  \n",
       "4  http://userserve-ak.last.fm/serve/252/14789013...      4  "
      ]
     },
     "execution_count": 45,
     "metadata": {},
     "output_type": "execute_result"
    }
   ],
   "source": [
    "#df.drop(columns=['id'], inplace=True)\n",
    "df.head()"
   ]
  },
  {
   "cell_type": "markdown",
   "id": "1df5cbe5",
   "metadata": {},
   "source": [
    "There appears to be some unclean names such as \"Diamanda GalÃ¡s\" among others just taking an initial look at the data here."
   ]
  },
  {
   "cell_type": "code",
   "execution_count": 62,
   "id": "b4904c2d",
   "metadata": {},
   "outputs": [
    {
     "data": {
      "text/html": [
       "<div>\n",
       "<style scoped>\n",
       "    .dataframe tbody tr th:only-of-type {\n",
       "        vertical-align: middle;\n",
       "    }\n",
       "\n",
       "    .dataframe tbody tr th {\n",
       "        vertical-align: top;\n",
       "    }\n",
       "\n",
       "    .dataframe thead th {\n",
       "        text-align: right;\n",
       "    }\n",
       "</style>\n",
       "<table border=\"1\" class=\"dataframe\">\n",
       "  <thead>\n",
       "    <tr style=\"text-align: right;\">\n",
       "      <th></th>\n",
       "      <th>tagID</th>\n",
       "      <th>tagValue</th>\n",
       "    </tr>\n",
       "  </thead>\n",
       "  <tbody>\n",
       "    <tr>\n",
       "      <th>0</th>\n",
       "      <td>1</td>\n",
       "      <td>metal</td>\n",
       "    </tr>\n",
       "    <tr>\n",
       "      <th>1</th>\n",
       "      <td>2</td>\n",
       "      <td>alternative metal</td>\n",
       "    </tr>\n",
       "    <tr>\n",
       "      <th>2</th>\n",
       "      <td>3</td>\n",
       "      <td>goth rock</td>\n",
       "    </tr>\n",
       "    <tr>\n",
       "      <th>3</th>\n",
       "      <td>4</td>\n",
       "      <td>black metal</td>\n",
       "    </tr>\n",
       "    <tr>\n",
       "      <th>4</th>\n",
       "      <td>5</td>\n",
       "      <td>death metal</td>\n",
       "    </tr>\n",
       "    <tr>\n",
       "      <th>...</th>\n",
       "      <td>...</td>\n",
       "      <td>...</td>\n",
       "    </tr>\n",
       "    <tr>\n",
       "      <th>11941</th>\n",
       "      <td>12644</td>\n",
       "      <td>suomi</td>\n",
       "    </tr>\n",
       "    <tr>\n",
       "      <th>11942</th>\n",
       "      <td>12645</td>\n",
       "      <td>symbiosis</td>\n",
       "    </tr>\n",
       "    <tr>\n",
       "      <th>11943</th>\n",
       "      <td>12646</td>\n",
       "      <td>sverige</td>\n",
       "    </tr>\n",
       "    <tr>\n",
       "      <th>11944</th>\n",
       "      <td>12647</td>\n",
       "      <td>eire</td>\n",
       "    </tr>\n",
       "    <tr>\n",
       "      <th>11945</th>\n",
       "      <td>12648</td>\n",
       "      <td>electro latino</td>\n",
       "    </tr>\n",
       "  </tbody>\n",
       "</table>\n",
       "<p>11946 rows × 2 columns</p>\n",
       "</div>"
      ],
      "text/plain": [
       "       tagID           tagValue\n",
       "0          1              metal\n",
       "1          2  alternative metal\n",
       "2          3          goth rock\n",
       "3          4        black metal\n",
       "4          5        death metal\n",
       "...      ...                ...\n",
       "11941  12644              suomi\n",
       "11942  12645          symbiosis\n",
       "11943  12646            sverige\n",
       "11944  12647               eire\n",
       "11945  12648     electro latino\n",
       "\n",
       "[11946 rows x 2 columns]"
      ]
     },
     "execution_count": 62,
     "metadata": {},
     "output_type": "execute_result"
    }
   ],
   "source": [
    "df1 = pd.read_csv(\"data/hetrec2011-lastfm-2k/tags.csv\")\n",
    "df1"
   ]
  },
  {
   "cell_type": "code",
   "execution_count": 63,
   "id": "372d8f1a",
   "metadata": {},
   "outputs": [
    {
     "data": {
      "text/html": [
       "<div>\n",
       "<style scoped>\n",
       "    .dataframe tbody tr th:only-of-type {\n",
       "        vertical-align: middle;\n",
       "    }\n",
       "\n",
       "    .dataframe tbody tr th {\n",
       "        vertical-align: top;\n",
       "    }\n",
       "\n",
       "    .dataframe thead th {\n",
       "        text-align: right;\n",
       "    }\n",
       "</style>\n",
       "<table border=\"1\" class=\"dataframe\">\n",
       "  <thead>\n",
       "    <tr style=\"text-align: right;\">\n",
       "      <th></th>\n",
       "      <th>userID</th>\n",
       "      <th>artistID</th>\n",
       "      <th>weight</th>\n",
       "    </tr>\n",
       "  </thead>\n",
       "  <tbody>\n",
       "    <tr>\n",
       "      <th>0</th>\n",
       "      <td>2</td>\n",
       "      <td>51</td>\n",
       "      <td>13883</td>\n",
       "    </tr>\n",
       "    <tr>\n",
       "      <th>1</th>\n",
       "      <td>2</td>\n",
       "      <td>52</td>\n",
       "      <td>11690</td>\n",
       "    </tr>\n",
       "    <tr>\n",
       "      <th>2</th>\n",
       "      <td>2</td>\n",
       "      <td>53</td>\n",
       "      <td>11351</td>\n",
       "    </tr>\n",
       "    <tr>\n",
       "      <th>3</th>\n",
       "      <td>2</td>\n",
       "      <td>54</td>\n",
       "      <td>10300</td>\n",
       "    </tr>\n",
       "    <tr>\n",
       "      <th>4</th>\n",
       "      <td>2</td>\n",
       "      <td>55</td>\n",
       "      <td>8983</td>\n",
       "    </tr>\n",
       "    <tr>\n",
       "      <th>...</th>\n",
       "      <td>...</td>\n",
       "      <td>...</td>\n",
       "      <td>...</td>\n",
       "    </tr>\n",
       "    <tr>\n",
       "      <th>92829</th>\n",
       "      <td>2100</td>\n",
       "      <td>18726</td>\n",
       "      <td>337</td>\n",
       "    </tr>\n",
       "    <tr>\n",
       "      <th>92830</th>\n",
       "      <td>2100</td>\n",
       "      <td>18727</td>\n",
       "      <td>297</td>\n",
       "    </tr>\n",
       "    <tr>\n",
       "      <th>92831</th>\n",
       "      <td>2100</td>\n",
       "      <td>18728</td>\n",
       "      <td>281</td>\n",
       "    </tr>\n",
       "    <tr>\n",
       "      <th>92832</th>\n",
       "      <td>2100</td>\n",
       "      <td>18729</td>\n",
       "      <td>280</td>\n",
       "    </tr>\n",
       "    <tr>\n",
       "      <th>92833</th>\n",
       "      <td>2100</td>\n",
       "      <td>18730</td>\n",
       "      <td>263</td>\n",
       "    </tr>\n",
       "  </tbody>\n",
       "</table>\n",
       "<p>92834 rows × 3 columns</p>\n",
       "</div>"
      ],
      "text/plain": [
       "       userID  artistID  weight\n",
       "0           2        51   13883\n",
       "1           2        52   11690\n",
       "2           2        53   11351\n",
       "3           2        54   10300\n",
       "4           2        55    8983\n",
       "...       ...       ...     ...\n",
       "92829    2100     18726     337\n",
       "92830    2100     18727     297\n",
       "92831    2100     18728     281\n",
       "92832    2100     18729     280\n",
       "92833    2100     18730     263\n",
       "\n",
       "[92834 rows x 3 columns]"
      ]
     },
     "execution_count": 63,
     "metadata": {},
     "output_type": "execute_result"
    }
   ],
   "source": [
    "df2 = pd.read_csv(\"data/hetrec2011-lastfm-2k/user_artists.csv\")\n",
    "df2"
   ]
  },
  {
   "cell_type": "code",
   "execution_count": 64,
   "id": "213e5d31",
   "metadata": {},
   "outputs": [
    {
     "data": {
      "text/plain": [
       "1"
      ]
     },
     "execution_count": 64,
     "metadata": {},
     "output_type": "execute_result"
    }
   ],
   "source": [
    "df2['artistID'].min()"
   ]
  },
  {
   "cell_type": "code",
   "execution_count": null,
   "id": "75cc8c19",
   "metadata": {},
   "outputs": [],
   "source": [
    "# Since the ids start at 2, we get them to start at 0. We also need to have the max value 1 less than the no of unique values.\n",
    "df2[\"userID\"] = df2[\"userID\"].apply(lambda x: str(x-2))\n",
    "df2[\"artistID\"] = df2[\"artistID\"].apply(lambda x: str(x-1))"
   ]
  },
  {
   "cell_type": "code",
   "execution_count": null,
   "id": "0bf17f35",
   "metadata": {},
   "outputs": [],
   "source": [
    "df2['userID'] = df2['userID'].astype(int)\n",
    "xyz =  np.array(df2['userID'])\n",
    "#zzz = np.array(played['userID'])\n",
    "vals = []\n",
    "for i in range(len(xyz)):\n",
    "    v = xyz[i]\n",
    "    if v not in vals:\n",
    "        vals.append(v)\n",
    "    else:\n",
    "        continue"
   ]
  },
  {
   "cell_type": "code",
   "execution_count": null,
   "id": "b0a192a5",
   "metadata": {},
   "outputs": [],
   "source": [
    "vals[-1]"
   ]
  },
  {
   "cell_type": "code",
   "execution_count": null,
   "id": "62ffd020",
   "metadata": {},
   "outputs": [],
   "source": [
    "unique_list = list(set(vals))\n",
    "unique_list.sort()\n",
    "unique_list[-1]"
   ]
  },
  {
   "cell_type": "code",
   "execution_count": null,
   "id": "86c40ba8",
   "metadata": {},
   "outputs": [],
   "source": [
    "usenew = []\n",
    "for i in range(0, 1892):\n",
    "    usenew.append(i)\n",
    "\n",
    "usenew[-1]"
   ]
  },
  {
   "cell_type": "code",
   "execution_count": null,
   "id": "f93271d0",
   "metadata": {},
   "outputs": [],
   "source": [
    "keys = unique_list\n",
    "values = usenew\n",
    "dictionary = dict(zip(keys, values))\n",
    "print(dictionary) # {'a': 1, 'b': 2, 'c': 3}"
   ]
  },
  {
   "cell_type": "code",
   "execution_count": null,
   "id": "04397e42",
   "metadata": {},
   "outputs": [],
   "source": [
    "s = df2['userID']\n",
    "\n",
    "df2['userID'] = s.map(dictionary)"
   ]
  },
  {
   "cell_type": "code",
   "execution_count": null,
   "id": "ee4af8c8",
   "metadata": {},
   "outputs": [],
   "source": [
    "df2.head()"
   ]
  },
  {
   "cell_type": "code",
   "execution_count": null,
   "id": "4bc026c8",
   "metadata": {},
   "outputs": [],
   "source": [
    "df2['artistID'] = df2['artistID'].astype(int)\n",
    "xyz =  np.array(df2['artistID'])\n",
    "#zzz = np.array(played['userID'])\n",
    "vals = []\n",
    "for i in range(len(xyz)):\n",
    "    v = xyz[i]\n",
    "    if v not in vals:\n",
    "        vals.append(v)\n",
    "    else:\n",
    "        continue"
   ]
  },
  {
   "cell_type": "code",
   "execution_count": null,
   "id": "065e2a0b",
   "metadata": {},
   "outputs": [],
   "source": [
    "unique_list = list(set(vals))\n",
    "unique_list.sort()\n",
    "unique_list[0]"
   ]
  },
  {
   "cell_type": "code",
   "execution_count": null,
   "id": "ab4a2de0",
   "metadata": {},
   "outputs": [],
   "source": [
    "usenew = []\n",
    "for i in range(0, 17632):\n",
    "    usenew.append(i)\n",
    "\n",
    "usenew[-1]"
   ]
  },
  {
   "cell_type": "code",
   "execution_count": null,
   "id": "4e728879",
   "metadata": {},
   "outputs": [],
   "source": [
    "keys = unique_list\n",
    "values = usenew\n",
    "diction = dict(zip(keys, values))\n",
    "#print(diction) # {'a': 1, 'b': 2, 'c': 3}"
   ]
  },
  {
   "cell_type": "code",
   "execution_count": null,
   "id": "090cd02b",
   "metadata": {},
   "outputs": [],
   "source": [
    "s = df2['artistID']\n",
    "\n",
    "df2['artistID'] = s.map(diction)"
   ]
  },
  {
   "cell_type": "code",
   "execution_count": null,
   "id": "fb926189",
   "metadata": {},
   "outputs": [],
   "source": [
    "df2['weight'].max()"
   ]
  },
  {
   "cell_type": "code",
   "execution_count": null,
   "id": "4c376ed3",
   "metadata": {},
   "outputs": [],
   "source": [
    "df2"
   ]
  },
  {
   "cell_type": "code",
   "execution_count": null,
   "id": "b2ef80de",
   "metadata": {},
   "outputs": [],
   "source": [
    "df3 = pd.read_csv(\"data/hetrec2011-lastfm-2k/user_friends.csv\")\n",
    "df3"
   ]
  },
  {
   "cell_type": "code",
   "execution_count": null,
   "id": "97deb688",
   "metadata": {},
   "outputs": [],
   "source": [
    "# Since the ids start at 2, we get them to start at 0. We also need to have the max value 1 less than the no of unique values.\n",
    "df3[\"userID\"] = df3[\"userID\"].apply(lambda x: str(x-2))\n",
    "df3[\"friendID\"] = df3[\"friendID\"].apply(lambda x: str(x-2))\n",
    "\n",
    "df3['userID'] = pd.to_numeric(df3['userID'])\n",
    "df3['friendID'] = pd.to_numeric(df3['friendID'])"
   ]
  },
  {
   "cell_type": "code",
   "execution_count": null,
   "id": "b916fd54",
   "metadata": {},
   "outputs": [],
   "source": [
    "df3['friendID'].max()"
   ]
  },
  {
   "cell_type": "code",
   "execution_count": null,
   "id": "dd5da2d4",
   "metadata": {},
   "outputs": [],
   "source": [
    "df3['friendID'].nunique()"
   ]
  },
  {
   "cell_type": "code",
   "execution_count": null,
   "id": "1680bc3e",
   "metadata": {},
   "outputs": [],
   "source": [
    "xyz =  np.array(df3['userID'])\n",
    "#zzz = np.array(df2['userID'])\n",
    "vals = []\n",
    "for i in range(len(xyz)):\n",
    "    if xyz[i] not in vals:\n",
    "        vals.append(xyz[i])"
   ]
  },
  {
   "cell_type": "code",
   "execution_count": null,
   "id": "6e9f6baf",
   "metadata": {},
   "outputs": [],
   "source": [
    "unique_list = list(set(vals))\n",
    "unique_list.sort()\n",
    "unique_list[-1]"
   ]
  },
  {
   "cell_type": "code",
   "execution_count": null,
   "id": "ed40605e",
   "metadata": {},
   "outputs": [],
   "source": [
    "usenew = []\n",
    "for i in range(0, 1892):\n",
    "    usenew.append(i)\n",
    "\n",
    "usenew[-1]"
   ]
  },
  {
   "cell_type": "code",
   "execution_count": null,
   "id": "0f5871cf",
   "metadata": {},
   "outputs": [],
   "source": [
    "keys = unique_list\n",
    "values = usenew\n",
    "dictionary = dict(zip(keys, values))\n",
    "#print(dictionary) # {'a': 1, 'b': 2, 'c': 3}"
   ]
  },
  {
   "cell_type": "code",
   "execution_count": null,
   "id": "9c01b1f3",
   "metadata": {},
   "outputs": [],
   "source": [
    "s = df3['userID']\n",
    "\n",
    "df3['userID'] = s.map(dictionary)"
   ]
  },
  {
   "cell_type": "code",
   "execution_count": null,
   "id": "f04f5753",
   "metadata": {},
   "outputs": [],
   "source": [
    "o = df3['friendID']\n",
    "\n",
    "df3['friendID'] = o.map(dictionary)"
   ]
  },
  {
   "cell_type": "code",
   "execution_count": null,
   "id": "78a14757",
   "metadata": {},
   "outputs": [],
   "source": [
    "df3['friendID'].max()"
   ]
  },
  {
   "cell_type": "code",
   "execution_count": null,
   "id": "eaa9e409",
   "metadata": {},
   "outputs": [],
   "source": [
    "df3.isnull().values.any()"
   ]
  },
  {
   "cell_type": "code",
   "execution_count": 10,
   "id": "1dff649e",
   "metadata": {},
   "outputs": [
    {
     "data": {
      "text/html": [
       "<div>\n",
       "<style scoped>\n",
       "    .dataframe tbody tr th:only-of-type {\n",
       "        vertical-align: middle;\n",
       "    }\n",
       "\n",
       "    .dataframe tbody tr th {\n",
       "        vertical-align: top;\n",
       "    }\n",
       "\n",
       "    .dataframe thead th {\n",
       "        text-align: right;\n",
       "    }\n",
       "</style>\n",
       "<table border=\"1\" class=\"dataframe\">\n",
       "  <thead>\n",
       "    <tr style=\"text-align: right;\">\n",
       "      <th></th>\n",
       "      <th>userID</th>\n",
       "      <th>artistID</th>\n",
       "      <th>tagID</th>\n",
       "      <th>day</th>\n",
       "      <th>month</th>\n",
       "      <th>year</th>\n",
       "    </tr>\n",
       "  </thead>\n",
       "  <tbody>\n",
       "    <tr>\n",
       "      <th>0</th>\n",
       "      <td>2</td>\n",
       "      <td>52</td>\n",
       "      <td>13</td>\n",
       "      <td>1</td>\n",
       "      <td>4</td>\n",
       "      <td>2009</td>\n",
       "    </tr>\n",
       "    <tr>\n",
       "      <th>1</th>\n",
       "      <td>2</td>\n",
       "      <td>52</td>\n",
       "      <td>15</td>\n",
       "      <td>1</td>\n",
       "      <td>4</td>\n",
       "      <td>2009</td>\n",
       "    </tr>\n",
       "    <tr>\n",
       "      <th>2</th>\n",
       "      <td>2</td>\n",
       "      <td>52</td>\n",
       "      <td>18</td>\n",
       "      <td>1</td>\n",
       "      <td>4</td>\n",
       "      <td>2009</td>\n",
       "    </tr>\n",
       "    <tr>\n",
       "      <th>3</th>\n",
       "      <td>2</td>\n",
       "      <td>52</td>\n",
       "      <td>21</td>\n",
       "      <td>1</td>\n",
       "      <td>4</td>\n",
       "      <td>2009</td>\n",
       "    </tr>\n",
       "    <tr>\n",
       "      <th>4</th>\n",
       "      <td>2</td>\n",
       "      <td>52</td>\n",
       "      <td>41</td>\n",
       "      <td>1</td>\n",
       "      <td>4</td>\n",
       "      <td>2009</td>\n",
       "    </tr>\n",
       "    <tr>\n",
       "      <th>...</th>\n",
       "      <td>...</td>\n",
       "      <td>...</td>\n",
       "      <td>...</td>\n",
       "      <td>...</td>\n",
       "      <td>...</td>\n",
       "      <td>...</td>\n",
       "    </tr>\n",
       "    <tr>\n",
       "      <th>186474</th>\n",
       "      <td>2100</td>\n",
       "      <td>16437</td>\n",
       "      <td>4</td>\n",
       "      <td>1</td>\n",
       "      <td>7</td>\n",
       "      <td>2010</td>\n",
       "    </tr>\n",
       "    <tr>\n",
       "      <th>186475</th>\n",
       "      <td>2100</td>\n",
       "      <td>16437</td>\n",
       "      <td>292</td>\n",
       "      <td>1</td>\n",
       "      <td>5</td>\n",
       "      <td>2010</td>\n",
       "    </tr>\n",
       "    <tr>\n",
       "      <th>186476</th>\n",
       "      <td>2100</td>\n",
       "      <td>16437</td>\n",
       "      <td>2087</td>\n",
       "      <td>1</td>\n",
       "      <td>7</td>\n",
       "      <td>2010</td>\n",
       "    </tr>\n",
       "    <tr>\n",
       "      <th>186477</th>\n",
       "      <td>2100</td>\n",
       "      <td>16437</td>\n",
       "      <td>2801</td>\n",
       "      <td>1</td>\n",
       "      <td>5</td>\n",
       "      <td>2010</td>\n",
       "    </tr>\n",
       "    <tr>\n",
       "      <th>186478</th>\n",
       "      <td>2100</td>\n",
       "      <td>16437</td>\n",
       "      <td>3335</td>\n",
       "      <td>1</td>\n",
       "      <td>7</td>\n",
       "      <td>2010</td>\n",
       "    </tr>\n",
       "  </tbody>\n",
       "</table>\n",
       "<p>186479 rows × 6 columns</p>\n",
       "</div>"
      ],
      "text/plain": [
       "        userID  artistID  tagID  day  month  year\n",
       "0            2        52     13    1      4  2009\n",
       "1            2        52     15    1      4  2009\n",
       "2            2        52     18    1      4  2009\n",
       "3            2        52     21    1      4  2009\n",
       "4            2        52     41    1      4  2009\n",
       "...        ...       ...    ...  ...    ...   ...\n",
       "186474    2100     16437      4    1      7  2010\n",
       "186475    2100     16437    292    1      5  2010\n",
       "186476    2100     16437   2087    1      7  2010\n",
       "186477    2100     16437   2801    1      5  2010\n",
       "186478    2100     16437   3335    1      7  2010\n",
       "\n",
       "[186479 rows x 6 columns]"
      ]
     },
     "execution_count": 10,
     "metadata": {},
     "output_type": "execute_result"
    }
   ],
   "source": [
    "df4 = pd.read_csv(\"data/hetrec2011-lastfm-2k/user_taggedartists-timestamps.csv\")\n",
    "df4"
   ]
  },
  {
   "cell_type": "code",
   "execution_count": null,
   "id": "b926d128",
   "metadata": {},
   "outputs": [],
   "source": [
    "df5 = pd.read_csv(\"data/hetrec2011-lastfm-2k/user_taggedartists.csv\")\n",
    "df5.head()"
   ]
  },
  {
   "cell_type": "markdown",
   "id": "e1b083bc",
   "metadata": {},
   "source": [
    "Our last two dataframes seem exactly the same. Let's check this before we delete anything."
   ]
  },
  {
   "cell_type": "code",
   "execution_count": null,
   "id": "35a8d448",
   "metadata": {},
   "outputs": [],
   "source": [
    "def checkequality(A, B):\n",
    "\n",
    "    df11 = A.sort_index(axis=1)\n",
    "    df11 = df11.sort_values(df11.columns.tolist()).reset_index(drop=True)\n",
    "\n",
    "    df22 = B.sort_index(axis=1)\n",
    "    df22 = df22.sort_values(df22.columns.tolist()).reset_index(drop=True)\n",
    "    return (df11 == df22).values.all()\n",
    "\n",
    "a = checkequality(df4, df5)\n",
    "print (a)"
   ]
  },
  {
   "cell_type": "markdown",
   "id": "36d9edee",
   "metadata": {},
   "source": [
    "Two of our files are exactly the same. We can delete one of these accordingly."
   ]
  },
  {
   "cell_type": "code",
   "execution_count": null,
   "id": "5515d87d",
   "metadata": {},
   "outputs": [],
   "source": [
    "del df5"
   ]
  },
  {
   "cell_type": "code",
   "execution_count": null,
   "id": "a193c3f2",
   "metadata": {},
   "outputs": [],
   "source": [
    "# Since the ids start at 2, we get them to start at 0. We also need to have the max value 1 less than the no of unique values.\n",
    "df4[\"userID\"] = df4[\"userID\"].apply(lambda x: str(x-2))\n",
    "df4[\"artistID\"] = df4[\"artistID\"].apply(lambda x: str(x-1))\n",
    "\n",
    "df4['artistID'] = df4['artistID'].astype(int)\n",
    "df4['userID'] = df4['userID'].astype(int)"
   ]
  },
  {
   "cell_type": "code",
   "execution_count": null,
   "id": "f03b074e",
   "metadata": {},
   "outputs": [],
   "source": [
    "xyz =  np.array(df4['artistID'])\n",
    "#zzz = np.array(played['userID'])\n",
    "vals = []\n",
    "for i in range(len(xyz)):\n",
    "    v = xyz[i]\n",
    "    if v not in vals:\n",
    "        vals.append(v)\n",
    "    else:\n",
    "        continue"
   ]
  },
  {
   "cell_type": "code",
   "execution_count": null,
   "id": "3f0d91d9",
   "metadata": {},
   "outputs": [],
   "source": [
    "unique_list = list(set(vals))\n",
    "unique_list.sort()\n",
    "print(unique_list[-1])\n",
    "\n",
    "usenew = []\n",
    "for i in range(0, 17632):\n",
    "    usenew.append(i)\n",
    "\n",
    "usenew[-1]"
   ]
  },
  {
   "cell_type": "code",
   "execution_count": null,
   "id": "cac8dd2d",
   "metadata": {},
   "outputs": [],
   "source": [
    "keys = unique_list\n",
    "values = usenew\n",
    "diction = dict(zip(keys, values))\n",
    "#print(diction) # {'a': 1, 'b': 2, 'c': 3}"
   ]
  },
  {
   "cell_type": "code",
   "execution_count": null,
   "id": "ddf00d3d",
   "metadata": {},
   "outputs": [],
   "source": [
    "s = df4['artistID']\n",
    "\n",
    "df4['artistID'] = s.map(diction)"
   ]
  },
  {
   "cell_type": "code",
   "execution_count": null,
   "id": "9df8a830",
   "metadata": {},
   "outputs": [],
   "source": [
    "s = df4['userID']\n",
    "\n",
    "df4['userID'] = s.map(dictionary)\n",
    "print(dictionary)"
   ]
  },
  {
   "cell_type": "code",
   "execution_count": null,
   "id": "48e54c4b",
   "metadata": {},
   "outputs": [],
   "source": [
    "df4"
   ]
  },
  {
   "cell_type": "code",
   "execution_count": null,
   "id": "19826964",
   "metadata": {},
   "outputs": [],
   "source": [
    "df4.drop(columns=['day', 'month', 'year'], inplace=True)"
   ]
  },
  {
   "cell_type": "code",
   "execution_count": null,
   "id": "6f6bf95d",
   "metadata": {},
   "outputs": [],
   "source": [
    "tags = pd.merge(df1, df4, how=\"inner\", left_on=\"tagID\", right_on=\"tagID\")\n",
    "tags.isnull().values.any()\n",
    "tags['artistID'].max()"
   ]
  },
  {
   "cell_type": "markdown",
   "id": "522539a4",
   "metadata": {},
   "source": [
    "# Methodology\n",
    "Now that all our data files are read in and in the appropriate format we will begin our end to end process. These are as follows:\n",
    "##### 1. Data cleaning and processing\n",
    "##### 2. Visualization\n",
    "##### 3. Fitting our Model\n",
    "##### 4. Evaluating our Model"
   ]
  },
  {
   "cell_type": "markdown",
   "id": "cb32b05e",
   "metadata": {},
   "source": [
    "# Cleaning and Processing\n",
    "\n",
    "### Initial analysis and cleaning"
   ]
  },
  {
   "cell_type": "code",
   "execution_count": null,
   "id": "1bc754b3",
   "metadata": {},
   "outputs": [],
   "source": [
    "df['name'].value_counts()"
   ]
  },
  {
   "cell_type": "code",
   "execution_count": null,
   "id": "421c76c1",
   "metadata": {},
   "outputs": [],
   "source": [
    "df1['tagID'].value_counts()"
   ]
  },
  {
   "cell_type": "markdown",
   "id": "08028b1e",
   "metadata": {},
   "source": [
    "After initial observation, I feel the timestamp dataframe is of little use to me and hence disregard it. As per the readme file we have 1892 users and 17632 artists in our data."
   ]
  },
  {
   "cell_type": "code",
   "execution_count": null,
   "id": "624c8263",
   "metadata": {},
   "outputs": [],
   "source": [
    "dfs = [df, df1, df2, df3, df4]\n",
    "na = []\n",
    "for i in range(len(dfs)):\n",
    "    if dfs[i].isnull().values.any() > 0:\n",
    "        na.append(dfs[i])"
   ]
  },
  {
   "cell_type": "code",
   "execution_count": null,
   "id": "720e9fde",
   "metadata": {},
   "outputs": [],
   "source": [
    "na"
   ]
  },
  {
   "cell_type": "markdown",
   "id": "f47006fd",
   "metadata": {},
   "source": [
    "The only dataframe with nulls is our artists dataframe. Let's investigate this further to see if there is any important missing values such as ID's etc."
   ]
  },
  {
   "cell_type": "code",
   "execution_count": null,
   "id": "78ee7f82",
   "metadata": {},
   "outputs": [],
   "source": [
    "df.dtypes"
   ]
  },
  {
   "cell_type": "code",
   "execution_count": null,
   "id": "b8326c87",
   "metadata": {},
   "outputs": [],
   "source": [
    "features_with_na = [features for features in df.columns if df[features].isnull().sum() > 0]\n",
    "\n",
    "for feature in features_with_na: \n",
    "    print(feature, np.round(df[feature].isnull().mean(), 4), '% missing values')\n",
    "    print(features_with_na)"
   ]
  },
  {
   "cell_type": "markdown",
   "id": "2d1ccfc7",
   "metadata": {},
   "source": [
    "This is a positive result as there are very few null values in the dataframe and the small amount that exist are in a column of lesser important that we will not need to impute missing values for."
   ]
  },
  {
   "cell_type": "code",
   "execution_count": null,
   "id": "6e4d5a4d",
   "metadata": {},
   "outputs": [],
   "source": [
    "played = pd.merge(df, df2, how=\"inner\", left_on=\"artID\", right_on=\"artistID\")\n",
    "played.rename(columns={\"weight\": \"played\"}, inplace=True)"
   ]
  },
  {
   "cell_type": "markdown",
   "id": "9b76b522",
   "metadata": {},
   "source": [
    "We will drop the pictureURL column as there is not much information to be gained and there is some nulls present."
   ]
  },
  {
   "cell_type": "code",
   "execution_count": null,
   "id": "f03db6c5",
   "metadata": {},
   "outputs": [],
   "source": [
    "played.drop(columns=['pictureURL'], inplace=True)"
   ]
  },
  {
   "cell_type": "markdown",
   "id": "cb0bdf94",
   "metadata": {},
   "source": [
    "# Last Method"
   ]
  },
  {
   "cell_type": "code",
   "execution_count": null,
   "id": "1c95c2d5",
   "metadata": {},
   "outputs": [],
   "source": [
    "ratings_df = played.pivot(\n",
    "    index='userID', \n",
    "    columns='artistID', \n",
    "    values='playedUserNorm'\n",
    ")"
   ]
  },
  {
   "cell_type": "code",
   "execution_count": null,
   "id": "753c5dd5",
   "metadata": {},
   "outputs": [],
   "source": [
    "ratings = ratings_df.fillna(0).values"
   ]
  },
  {
   "cell_type": "code",
   "execution_count": null,
   "id": "49c8089a",
   "metadata": {},
   "outputs": [],
   "source": [
    "sparsity = float(len(ratings.nonzero()[0]))\n",
    "sparsity /= (ratings.shape[0] * ratings.shape[1])\n",
    "sparsity *= 100\n",
    "print('{:.2f}%'.format(sparsity))"
   ]
  },
  {
   "cell_type": "code",
   "execution_count": null,
   "id": "6a32a5b6",
   "metadata": {},
   "outputs": [],
   "source": [
    "MIN_USER_RATINGS = 35\n",
    "DELETE_RATING_COUNT = 15\n",
    "\n",
    "def traintest_split(ratings):\n",
    "    \n",
    "    validation = np.zeros(ratings.shape)\n",
    "    train = ratings.copy()\n",
    "    \n",
    "    for user in np.arange(ratings.shape[0]):\n",
    "        if len(ratings[user,:].nonzero()[0]) >= MIN_USER_RATINGS:\n",
    "            val_ratings = np.random.choice(\n",
    "                ratings[user, :].nonzero()[0], \n",
    "                size=DELETE_RATING_COUNT,\n",
    "                replace=False\n",
    "            )\n",
    "            train[user, val_ratings] = 0\n",
    "            validation[user, val_ratings] = ratings[user, val_ratings]\n",
    "    return train, validation"
   ]
  },
  {
   "cell_type": "code",
   "execution_count": null,
   "id": "6355b6a6",
   "metadata": {},
   "outputs": [],
   "source": [
    "train, val = traintest_split(ratings)"
   ]
  },
  {
   "cell_type": "code",
   "execution_count": null,
   "id": "62a35e15",
   "metadata": {},
   "outputs": [],
   "source": [
    "train.shape"
   ]
  },
  {
   "cell_type": "code",
   "execution_count": null,
   "id": "83d9c073",
   "metadata": {},
   "outputs": [],
   "source": [
    "def rmse(prediction, ground_truth):\n",
    "    prediction = prediction[ground_truth.nonzero()].flatten() \n",
    "    ground_truth = ground_truth[ground_truth.nonzero()].flatten()\n",
    "    return sqrt(mean_squared_error(prediction, ground_truth))"
   ]
  },
  {
   "cell_type": "code",
   "execution_count": null,
   "id": "c0966b58",
   "metadata": {},
   "outputs": [],
   "source": [
    "class Recommender:\n",
    "  \n",
    "  def __init__(self, n_epochs=200, n_latent_features=3, lmbda=0.1, learning_rate=0.001):\n",
    "    self.n_epochs = n_epochs\n",
    "    self.n_latent_features = n_latent_features\n",
    "    self.lmbda = lmbda\n",
    "    self.learning_rate = learning_rate\n",
    "  \n",
    "  def predictions(self, P, Q):\n",
    "    return np.dot(P.T, Q)\n",
    "  \n",
    "  def fit(self, X_train, X_val):\n",
    "    m, n = X_train.shape\n",
    "\n",
    "    self.P = 3 * np.random.rand(self.n_latent_features, m)\n",
    "    self.Q = 3 * np.random.rand(self.n_latent_features, n)\n",
    "    \n",
    "    self.train_error = []\n",
    "    self.val_error = []\n",
    "\n",
    "    users, items = X_train.nonzero()\n",
    "    \n",
    "    for epoch in range(self.n_epochs):\n",
    "        for u, i in zip(users, items):\n",
    "            error = X_train[u, i] - self.predictions(self.P[:,u], self.Q[:,i])\n",
    "            self.P[:, u] += self.learning_rate * (error * self.Q[:, i] - self.lmbda * self.P[:, u])\n",
    "            self.Q[:, i] += self.learning_rate * (error * self.P[:, u] - self.lmbda * self.Q[:, i])\n",
    "\n",
    "        train_rmse = rmse(self.predictions(self.P, self.Q), X_train)\n",
    "        val_rmse = rmse(self.predictions(self.P, self.Q), X_val)\n",
    "        self.train_error.append(train_rmse)\n",
    "        self.val_error.append(val_rmse)\n",
    "        \n",
    "    return self\n",
    "  \n",
    "  def predict(self, X_train, user_index):\n",
    "    y_hat = self.predictions(self.P, self.Q)\n",
    "    predictions_index = np.where(X_train[user_index, :] == 0)[0]\n",
    "    return y_hat[user_index, predictions_index].flatten()"
   ]
  },
  {
   "cell_type": "code",
   "execution_count": null,
   "id": "43ac0714",
   "metadata": {},
   "outputs": [],
   "source": [
    "recommender = Recommender().fit(train, val)"
   ]
  },
  {
   "cell_type": "code",
   "execution_count": null,
   "id": "386d7cc2",
   "metadata": {},
   "outputs": [],
   "source": [
    "plt.figure(figsize=(16,8))\n",
    "plt.plot(range(recommender.n_epochs), recommender.train_error, marker='o', label='Training Data');\n",
    "plt.plot(range(recommender.n_epochs), recommender.val_error, marker='v', label='Validation Data');\n",
    "plt.xlabel('Number of Epochs');\n",
    "plt.ylabel('RMSE');\n",
    "plt.legend()\n",
    "plt.grid()\n",
    "plt.show()"
   ]
  },
  {
   "cell_type": "markdown",
   "id": "57162f42",
   "metadata": {},
   "source": [
    "## Making Recommendations"
   ]
  },
  {
   "cell_type": "code",
   "execution_count": null,
   "id": "06fe918e",
   "metadata": {},
   "outputs": [],
   "source": [
    "user_id = 83\n",
    "user_index = ratings_df.index.get_loc(user_id)\n",
    "predictions_index = np.where(train[user_index, :] == 0)[0]\n",
    "\n",
    "rating_predictions = recommender.predict(train, user_index)"
   ]
  },
  {
   "cell_type": "code",
   "execution_count": null,
   "id": "5e1750db",
   "metadata": {},
   "outputs": [],
   "source": [
    "def create_artist_ratings(artists_df, artists_index, ratings, n=10):\n",
    "    artist_ids = ratings_df.columns[artists_index]\n",
    "    artist_ratings = pd.DataFrame(data=dict(artistId=artist_ids, rating=ratings))\n",
    "    top_n_artists = artist_ratings.sort_values(\"rating\", ascending=False).head(n)\n",
    "  \n",
    "    artist_recommendations = artists_df[artists_df.artID.isin(top_n_artists.artistId)].reset_index(drop=True)\n",
    "    artist_recommendations['rating'] = pd.Series(top_n_artists.rating.values)\n",
    "    return artist_recommendations.sort_values(\"rating\", ascending=False)"
   ]
  },
  {
   "cell_type": "code",
   "execution_count": null,
   "id": "c4b28f5f",
   "metadata": {},
   "outputs": [],
   "source": [
    "existing_ratings_index = np.where(train[user_index, :] > 0)[0]\n",
    "existing_ratings = train[user_index, existing_ratings_index]\n",
    "\n",
    "create_artist_ratings(df, existing_ratings_index, existing_ratings)"
   ]
  },
  {
   "cell_type": "code",
   "execution_count": null,
   "id": "f4235eca",
   "metadata": {},
   "outputs": [],
   "source": [
    "create_artist_ratings(df, predictions_index, rating_predictions)"
   ]
  },
  {
   "cell_type": "markdown",
   "id": "cf5736f7",
   "metadata": {},
   "source": [
    "Let's run a similar evaluation process over our second alternate method. We will look at the same user ID of 83 and look at the recommendations it makes."
   ]
  },
  {
   "cell_type": "code",
   "execution_count": null,
   "id": "8390c2be",
   "metadata": {},
   "outputs": [],
   "source": [
    "played[played['userID'] == 83]"
   ]
  },
  {
   "cell_type": "code",
   "execution_count": null,
   "id": "53dee9ff",
   "metadata": {},
   "outputs": [],
   "source": [
    "pre = create_artist_ratings(df, predictions_index, rating_predictions)\n",
    "zzzz2 = pd.merge(pre, tags, how=\"inner\", left_on=['artID'], right_on=['artistID'])"
   ]
  },
  {
   "cell_type": "code",
   "execution_count": null,
   "id": "28397671",
   "metadata": {},
   "outputs": [],
   "source": [
    "zzzz2['tagValue'].value_counts()"
   ]
  },
  {
   "cell_type": "markdown",
   "id": "de2c35fe",
   "metadata": {},
   "source": [
    "We can see again that our system appears to be recommending artists of popular genres / tags more so and not making relevant recommendations. It is good that it is making novel recommendations on one hand and giving the user a wider scope of music. However, it must be said it would be more advisable if it could make recommendations more similar to what a user listens to identifying less popular artists of similar genres that they may have missed. This recommender like our neural network recommender appears to be suffering from the \"cold start\" problem many recommenders encounter."
   ]
  },
  {
   "cell_type": "code",
   "execution_count": 68,
   "id": "a0193bf3",
   "metadata": {},
   "outputs": [],
   "source": [
    "## rough work"
   ]
  },
  {
   "cell_type": "code",
   "execution_count": null,
   "id": "d8073b4d",
   "metadata": {},
   "outputs": [],
   "source": [
    "df2['userID'] = df2['userID'].astype(int)\n",
    "df2['artistID'] = df2['artistID'].astype(int)"
   ]
  },
  {
   "cell_type": "code",
   "execution_count": 12,
   "id": "22e0122c",
   "metadata": {},
   "outputs": [],
   "source": [
    "vals = (df4['artistID'].unique()).tolist()"
   ]
  },
  {
   "cell_type": "code",
   "execution_count": 13,
   "id": "694c8bbf",
   "metadata": {},
   "outputs": [],
   "source": [
    "vals.sort()"
   ]
  },
  {
   "cell_type": "code",
   "execution_count": 27,
   "id": "0ce0afab",
   "metadata": {},
   "outputs": [],
   "source": [
    "vals = (df4['artistID'].unique()).tolist()\n",
    "vals.sort()\n",
    "values = []\n",
    "for i in range(len(vals)):\n",
    "    if vals[i] in m:\n",
    "        values.append(vals[i])"
   ]
  },
  {
   "cell_type": "code",
   "execution_count": 28,
   "id": "f8a822ed",
   "metadata": {},
   "outputs": [
    {
     "data": {
      "text/plain": [
       "12523"
      ]
     },
     "execution_count": 28,
     "metadata": {},
     "output_type": "execute_result"
    }
   ],
   "source": [
    "len(df4['artistID'].unique())"
   ]
  },
  {
   "cell_type": "code",
   "execution_count": 29,
   "id": "202520b4",
   "metadata": {},
   "outputs": [
    {
     "data": {
      "text/plain": [
       "18744"
      ]
     },
     "execution_count": 29,
     "metadata": {},
     "output_type": "execute_result"
    }
   ],
   "source": [
    "df4['artistID'].max()"
   ]
  },
  {
   "cell_type": "code",
   "execution_count": 30,
   "id": "bab696c3",
   "metadata": {},
   "outputs": [
    {
     "data": {
      "text/plain": [
       "userID      int64\n",
       "artistID    int64\n",
       "tagID       int64\n",
       "day         int64\n",
       "month       int64\n",
       "year        int64\n",
       "dtype: object"
      ]
     },
     "execution_count": 30,
     "metadata": {},
     "output_type": "execute_result"
    }
   ],
   "source": [
    "df4.dtypes"
   ]
  },
  {
   "cell_type": "code",
   "execution_count": 31,
   "id": "24b6e0ef",
   "metadata": {},
   "outputs": [
    {
     "data": {
      "text/plain": [
       "18744"
      ]
     },
     "execution_count": 31,
     "metadata": {},
     "output_type": "execute_result"
    }
   ],
   "source": [
    "vals[-1]"
   ]
  },
  {
   "cell_type": "code",
   "execution_count": 32,
   "id": "3349bb0b",
   "metadata": {},
   "outputs": [
    {
     "data": {
      "text/plain": [
       "12133"
      ]
     },
     "execution_count": 32,
     "metadata": {},
     "output_type": "execute_result"
    }
   ],
   "source": [
    "len(values)"
   ]
  },
  {
   "cell_type": "code",
   "execution_count": 34,
   "id": "f4e8378e",
   "metadata": {},
   "outputs": [],
   "source": [
    "missing = []\n",
    "for i in range(len(vals)):\n",
    "    if vals[i] not in values:\n",
    "        missing.append(vals[i])"
   ]
  },
  {
   "cell_type": "code",
   "execution_count": 35,
   "id": "b65f0a56",
   "metadata": {},
   "outputs": [
    {
     "data": {
      "text/plain": [
       "390"
      ]
     },
     "execution_count": 35,
     "metadata": {},
     "output_type": "execute_result"
    }
   ],
   "source": [
    "len(missing)"
   ]
  },
  {
   "cell_type": "code",
   "execution_count": 36,
   "id": "37e3b860",
   "metadata": {},
   "outputs": [
    {
     "data": {
      "text/plain": [
       "14"
      ]
     },
     "execution_count": 36,
     "metadata": {},
     "output_type": "execute_result"
    }
   ],
   "source": [
    "missing[0]"
   ]
  },
  {
   "cell_type": "code",
   "execution_count": 40,
   "id": "7c92921c",
   "metadata": {},
   "outputs": [
    {
     "name": "stdout",
     "output_type": "stream",
     "text": [
      "12523\n"
     ]
    }
   ],
   "source": [
    "list3 = values + missing\n",
    "print(len(list3))"
   ]
  },
  {
   "cell_type": "code",
   "execution_count": 46,
   "id": "98bf3872",
   "metadata": {},
   "outputs": [
    {
     "name": "stdout",
     "output_type": "stream",
     "text": [
      "{1: 0, 2: 1, 3: 2, 4: 3, 5: 4, 6: 5, 7: 6, 8: 7, 9: 8, 10: 9, 11: 10, 12: 11, 13: 12, 15: 13, 16: 14, 17: 15, 18: 16, 19: 17, 20: 18, 21: 19, 22: 20, 23: 21, 24: 22, 25: 23, 26: 24, 27: 25, 28: 26, 30: 27, 31: 28, 32: 29, 34: 30, 36: 31, 37: 32, 38: 33, 39: 34, 40: 35, 41: 36, 43: 37, 44: 38, 45: 39, 46: 40, 47: 41, 48: 42, 49: 43, 50: 44, 51: 45, 52: 46, 53: 47, 54: 48, 55: 49, 56: 50, 57: 51, 58: 52, 59: 53, 60: 54, 61: 55, 62: 56, 63: 57, 64: 58, 65: 59, 66: 60, 67: 61, 68: 62, 69: 63, 70: 64, 71: 65, 72: 66, 73: 67, 74: 68, 75: 69, 76: 70, 77: 71, 78: 72, 79: 73, 80: 74, 81: 75, 82: 76, 83: 77, 84: 78, 85: 79, 86: 80, 87: 81, 88: 82, 89: 83, 90: 84, 91: 85, 92: 86, 93: 87, 94: 88, 95: 89, 96: 90, 97: 91, 98: 92, 99: 93, 100: 94, 101: 95, 102: 96, 103: 97, 104: 98, 105: 99, 106: 100, 107: 101, 108: 102, 109: 103, 110: 104, 111: 105, 112: 106, 113: 107, 114: 108, 115: 109, 116: 110, 117: 111, 118: 112, 119: 113, 120: 114, 121: 115, 122: 116, 123: 117, 124: 118, 125: 119, 126: 120, 127: 121, 128: 122, 129: 123, 130: 124, 131: 125, 132: 126, 133: 127, 134: 128, 135: 129, 136: 130, 137: 131, 138: 132, 139: 133, 140: 134, 141: 135, 142: 136, 143: 137, 144: 138, 145: 139, 146: 140, 147: 141, 148: 142, 149: 143, 150: 144, 151: 145, 152: 146, 153: 147, 154: 148, 155: 149, 156: 150, 157: 151, 158: 152, 159: 153, 160: 154, 161: 155, 162: 156, 163: 157, 164: 158, 165: 159, 166: 160, 167: 161, 168: 162, 169: 163, 170: 164, 171: 165, 172: 166, 173: 167, 174: 168, 175: 169, 176: 170, 177: 171, 178: 172, 179: 173, 180: 174, 181: 175, 182: 176, 183: 177, 184: 178, 185: 179, 186: 180, 187: 181, 188: 182, 189: 183, 190: 184, 191: 185, 192: 186, 193: 187, 194: 188, 195: 189, 196: 190, 197: 191, 198: 192, 199: 193, 200: 194, 201: 195, 202: 196, 203: 197, 204: 198, 205: 199, 206: 200, 207: 201, 208: 202, 209: 203, 210: 204, 211: 205, 212: 206, 213: 207, 214: 208, 215: 209, 216: 210, 217: 211, 218: 212, 219: 213, 220: 214, 221: 215, 222: 216, 223: 217, 224: 218, 225: 219, 226: 220, 227: 221, 228: 222, 229: 223, 230: 224, 231: 225, 232: 226, 233: 227, 234: 228, 235: 229, 236: 230, 237: 231, 238: 232, 239: 233, 240: 234, 241: 235, 242: 236, 243: 237, 244: 238, 245: 239, 246: 240, 247: 241, 248: 242, 249: 243, 250: 244, 251: 245, 252: 246, 253: 247, 254: 248, 255: 249, 256: 250, 257: 251, 258: 252, 259: 253, 260: 254, 261: 255, 262: 256, 263: 257, 264: 258, 265: 259, 266: 260, 267: 261, 268: 262, 269: 263, 270: 264, 271: 265, 272: 266, 273: 267, 274: 268, 275: 269, 276: 270, 277: 271, 278: 272, 279: 273, 280: 274, 281: 275, 282: 276, 283: 277, 284: 278, 285: 279, 286: 280, 287: 281, 288: 282, 289: 283, 290: 284, 291: 285, 292: 286, 293: 287, 294: 288, 295: 289, 296: 290, 297: 291, 298: 292, 299: 293, 300: 294, 301: 295, 302: 296, 303: 297, 304: 298, 305: 299, 306: 300, 307: 301, 308: 302, 309: 303, 310: 304, 311: 305, 312: 306, 313: 307, 314: 308, 315: 309, 316: 310, 317: 311, 318: 312, 319: 313, 320: 314, 321: 315, 322: 316, 323: 317, 324: 318, 325: 319, 326: 320, 327: 321, 328: 322, 329: 323, 330: 324, 331: 325, 332: 326, 333: 327, 334: 328, 335: 329, 336: 330, 337: 331, 338: 332, 339: 333, 340: 334, 341: 335, 342: 336, 343: 337, 344: 338, 345: 339, 346: 340, 347: 341, 348: 342, 349: 343, 350: 344, 351: 345, 352: 346, 353: 347, 354: 348, 355: 349, 356: 350, 357: 351, 358: 352, 359: 353, 360: 354, 361: 355, 362: 356, 363: 357, 364: 358, 365: 359, 366: 360, 367: 361, 368: 362, 369: 363, 370: 364, 371: 365, 372: 366, 373: 367, 374: 368, 375: 369, 376: 370, 377: 371, 378: 372, 379: 373, 380: 374, 381: 375, 382: 376, 383: 377, 384: 378, 385: 379, 386: 380, 387: 381, 388: 382, 389: 383, 390: 384, 391: 385, 392: 386, 393: 387, 394: 388, 395: 389, 396: 390, 397: 391, 398: 392, 399: 393, 400: 394, 401: 395, 402: 396, 403: 397, 404: 398, 405: 399, 406: 400, 407: 401, 408: 402, 409: 403, 410: 404, 411: 405, 412: 406, 413: 407, 414: 408, 415: 409, 416: 410, 417: 411, 418: 412, 419: 413, 420: 414, 421: 415, 422: 416, 423: 417, 424: 418, 425: 419, 426: 420, 427: 421, 428: 422, 429: 423, 430: 424, 431: 425, 432: 426, 433: 427, 434: 428, 435: 429, 436: 430, 437: 431, 438: 432, 439: 433, 440: 434, 441: 435, 442: 436, 443: 437, 444: 438, 445: 439, 446: 440, 447: 441, 448: 442, 449: 443, 450: 444, 451: 445, 452: 446, 453: 447, 454: 448, 455: 449, 456: 450, 457: 451, 458: 452, 459: 453, 460: 454, 461: 455, 462: 456, 463: 457, 464: 458, 465: 459, 466: 460, 467: 461, 468: 462, 469: 463, 470: 464, 471: 465, 472: 466, 473: 467, 474: 468, 475: 469, 476: 470, 477: 471, 478: 472, 479: 473, 480: 474, 481: 475, 482: 476, 483: 477, 484: 478, 485: 479, 486: 480, 487: 481, 488: 482, 489: 483, 490: 484, 491: 485, 492: 486, 493: 487, 494: 488, 495: 489, 496: 490, 497: 491, 498: 492, 499: 493, 500: 494, 501: 495, 502: 496, 503: 497, 504: 498, 505: 499, 506: 500, 507: 501, 508: 502, 509: 503, 510: 504, 511: 505, 512: 506, 513: 507, 514: 508, 515: 509, 516: 510, 517: 511, 518: 512, 519: 513, 520: 514, 521: 515, 522: 516, 523: 517, 524: 518, 525: 519, 526: 520, 527: 521, 528: 522, 529: 523, 530: 524, 531: 525, 532: 526, 533: 527, 534: 528, 535: 529, 536: 530, 537: 531, 538: 532, 539: 533, 540: 534, 541: 535, 542: 536, 543: 537, 544: 538, 545: 539, 546: 540, 547: 541, 548: 542, 549: 543, 550: 544, 551: 545, 552: 546, 553: 547, 554: 548, 555: 549, 556: 550, 557: 551, 558: 552, 559: 553, 560: 554, 561: 555, 562: 556, 563: 557, 564: 558, 565: 559, 566: 560, 567: 561, 568: 562, 569: 563, 570: 564, 571: 565, 572: 566, 573: 567, 574: 568, 575: 569, 576: 570, 577: 571, 578: 572, 579: 573, 580: 574, 581: 575, 582: 576, 583: 577, 584: 578, 585: 579, 586: 580, 587: 581, 588: 582, 589: 583, 590: 584, 591: 585, 592: 586, 593: 587, 594: 588, 595: 589, 596: 590, 597: 591, 598: 592, 599: 593, 600: 594, 601: 595, 602: 596, 603: 597, 604: 598, 605: 599, 606: 600, 607: 601, 608: 602, 609: 603, 610: 604, 611: 605, 612: 606, 613: 607, 614: 608, 615: 609, 616: 610, 617: 611, 618: 612, 619: 613, 620: 614, 621: 615, 622: 616, 623: 617, 624: 618, 625: 619, 626: 620, 627: 621, 628: 622, 629: 623, 630: 624, 631: 625, 632: 626, 633: 627, 634: 628, 635: 629, 636: 630, 637: 631, 638: 632, 639: 633, 640: 634, 641: 635, 642: 636, 643: 637, 644: 638, 645: 639, 646: 640, 647: 641, 648: 642, 649: 643, 650: 644, 651: 645, 652: 646, 653: 647, 654: 648, 655: 649, 656: 650, 657: 651, 658: 652, 659: 653, 660: 654, 661: 655, 662: 656, 663: 657, 664: 658, 665: 659, 666: 660, 667: 661, 668: 662, 669: 663, 670: 664, 671: 665, 672: 666, 673: 667, 674: 668, 675: 669, 676: 670, 677: 671, 678: 672, 679: 673, 680: 674, 681: 675, 682: 676, 683: 677, 684: 678, 685: 679, 686: 680, 687: 681, 688: 682, 689: 683, 690: 684, 691: 685, 692: 686, 693: 687, 694: 688, 695: 689, 696: 690, 697: 691, 698: 692, 699: 693, 700: 694, 701: 695, 702: 696, 703: 697, 704: 698, 705: 699, 706: 700, 707: 701, 708: 702, 709: 703, 710: 704, 711: 705, 712: 706, 713: 707, 714: 708, 715: 709, 716: 710, 717: 711, 718: 712, 719: 713, 720: 714, 721: 715, 722: 716, 723: 717, 724: 718, 725: 719, 726: 720, 727: 721, 728: 722, 729: 723, 730: 724, 731: 725, 732: 726, 733: 727, 734: 728, 735: 729, 736: 730, 737: 731, 738: 732, 739: 733, 743: 734, 744: 735, 745: 736, 746: 737, 747: 738, 748: 739, 749: 740, 750: 741, 751: 742, 752: 743, 753: 744, 754: 745, 755: 746, 756: 747, 757: 748, 758: 749, 759: 750, 760: 751, 761: 752, 762: 753, 763: 754, 764: 755, 765: 756, 766: 757, 767: 758, 768: 759, 769: 760, 770: 761, 771: 762, 772: 763, 773: 764, 774: 765, 775: 766, 776: 767, 777: 768, 778: 769, 779: 770, 780: 771, 781: 772, 782: 773, 783: 774, 784: 775, 785: 776, 786: 777, 787: 778, 788: 779, 789: 780, 790: 781, 791: 782, 792: 783, 793: 784, 794: 785, 795: 786, 796: 787, 797: 788, 798: 789, 799: 790, 800: 791, 801: 792, 802: 793, 803: 794, 804: 795, 805: 796, 806: 797, 807: 798, 808: 799, 809: 800, 810: 801, 811: 802, 812: 803, 813: 804, 814: 805, 815: 806, 816: 807, 817: 808, 818: 809, 819: 810, 820: 811, 821: 812, 822: 813, 823: 814, 824: 815, 825: 816, 826: 817, 827: 818, 828: 819, 829: 820, 830: 821, 831: 822, 832: 823, 833: 824, 834: 825, 835: 826, 836: 827, 837: 828, 838: 829, 839: 830, 840: 831, 841: 832, 842: 833, 843: 834, 844: 835, 845: 836, 846: 837, 847: 838, 848: 839, 849: 840, 850: 841, 851: 842, 852: 843, 853: 844, 854: 845, 855: 846, 856: 847, 857: 848, 858: 849, 859: 850, 860: 851, 861: 852, 862: 853, 863: 854, 864: 855, 865: 856, 866: 857, 867: 858, 868: 859, 869: 860, 870: 861, 871: 862, 872: 863, 873: 864, 874: 865, 875: 866, 876: 867, 877: 868, 878: 869, 879: 870, 880: 871, 881: 872, 882: 873, 883: 874, 884: 875, 885: 876, 886: 877, 887: 878, 888: 879, 889: 880, 890: 881, 891: 882, 892: 883, 893: 884, 894: 885, 895: 886, 896: 887, 897: 888, 898: 889, 899: 890, 900: 891, 901: 892, 902: 893, 903: 894, 904: 895, 905: 896, 906: 897, 907: 898, 908: 899, 909: 900, 910: 901, 911: 902, 912: 903, 913: 904, 914: 905, 915: 906, 916: 907, 917: 908, 918: 909, 919: 910, 920: 911, 921: 912, 922: 913, 923: 914, 924: 915, 925: 916, 926: 917, 927: 918, 928: 919, 929: 920, 930: 921, 931: 922, 932: 923, 933: 924, 934: 925, 935: 926, 936: 927, 937: 928, 938: 929, 939: 930, 940: 931, 941: 932, 942: 933, 943: 934, 944: 935, 945: 936, 946: 937, 947: 938, 948: 939, 949: 940, 950: 941, 951: 942, 952: 943, 953: 944, 954: 945, 955: 946, 956: 947, 957: 948, 958: 949, 959: 950, 960: 951, 961: 952, 962: 953, 963: 954, 964: 955, 965: 956, 966: 957, 967: 958, 968: 959, 969: 960, 970: 961, 971: 962, 972: 963, 973: 964, 974: 965, 975: 966, 976: 967, 977: 968, 978: 969, 979: 970, 980: 971, 981: 972, 982: 973, 983: 974, 984: 975, 985: 976, 986: 977, 987: 978, 988: 979, 989: 980, 990: 981, 991: 982, 992: 983, 993: 984, 994: 985, 995: 986, 996: 987, 997: 988, 998: 989, 999: 990, 1000: 991, 1001: 992, 1002: 993, 1003: 994, 1004: 995, 1005: 996, 1006: 997, 1007: 998, 1008: 999, 1009: 1000, 1010: 1001, 1011: 1002, 1012: 1003, 1013: 1004, 1014: 1005, 1015: 1006, 1016: 1007, 1017: 1008, 1018: 1009, 1019: 1010, 1020: 1011, 1021: 1012, 1022: 1013, 1023: 1014, 1024: 1015, 1025: 1016, 1026: 1017, 1027: 1018, 1028: 1019, 1029: 1020, 1030: 1021, 1031: 1022, 1032: 1023, 1033: 1024, 1034: 1025, 1035: 1026, 1036: 1027, 1037: 1028, 1038: 1029, 1039: 1030, 1040: 1031, 1041: 1032, 1042: 1033, 1043: 1034, 1044: 1035, 1045: 1036, 1046: 1037, 1047: 1038, 1048: 1039, 1049: 1040, 1050: 1041, 1051: 1042, 1052: 1043, 1053: 1044, 1054: 1045, 1055: 1046, 1056: 1047, 1057: 1048, 1058: 1049, 1059: 1050, 1060: 1051, 1061: 1052, 1062: 1053, 1063: 1054, 1064: 1055, 1065: 1056, 1066: 1057, 1067: 1058, 1068: 1059, 1069: 1060, 1070: 1061, 1071: 1062, 1072: 1063, 1073: 1064, 1074: 1065, 1075: 1066, 1076: 1067, 1077: 1068, 1078: 1069, 1079: 1070, 1080: 1071, 1081: 1072, 1082: 1073, 1083: 1074, 1084: 1075, 1085: 1076, 1086: 1077, 1087: 1078, 1088: 1079, 1089: 1080, 1090: 1081, 1091: 1082, 1092: 1083, 1093: 1084, 1094: 1085, 1095: 1086, 1096: 1087, 1097: 1088, 1098: 1089, 1099: 1090, 1100: 1091, 1101: 1092, 1102: 1093, 1103: 1094, 1104: 1095, 1105: 1096, 1106: 1097, 1107: 1098, 1108: 1099, 1109: 1100, 1110: 1101, 1111: 1102, 1112: 1103, 1113: 1104, 1114: 1105, 1115: 1106, 1116: 1107, 1117: 1108, 1118: 1109, 1119: 1110, 1120: 1111, 1121: 1112, 1122: 1113, 1123: 1114, 1124: 1115, 1125: 1116, 1126: 1117, 1127: 1118, 1128: 1119, 1129: 1120, 1130: 1121, 1131: 1122, 1132: 1123, 1133: 1124, 1134: 1125, 1135: 1126, 1136: 1127, 1137: 1128, 1138: 1129, 1139: 1130, 1140: 1131, 1141: 1132, 1142: 1133, 1143: 1134, 1144: 1135, 1145: 1136, 1146: 1137, 1147: 1138, 1148: 1139, 1149: 1140, 1150: 1141, 1151: 1142, 1152: 1143, 1153: 1144, 1154: 1145, 1155: 1146, 1156: 1147, 1157: 1148, 1158: 1149, 1159: 1150, 1160: 1151, 1161: 1152, 1162: 1153, 1163: 1154, 1164: 1155, 1165: 1156, 1166: 1157, 1167: 1158, 1168: 1159, 1169: 1160, 1170: 1161, 1171: 1162, 1172: 1163, 1173: 1164, 1174: 1165, 1175: 1166, 1176: 1167, 1177: 1168, 1178: 1169, 1179: 1170, 1180: 1171, 1181: 1172, 1182: 1173, 1183: 1174, 1184: 1175, 1185: 1176, 1186: 1177, 1187: 1178, 1188: 1179, 1189: 1180, 1190: 1181, 1191: 1182, 1192: 1183, 1193: 1184, 1194: 1185, 1195: 1186, 1196: 1187, 1197: 1188, 1198: 1189, 1199: 1190, 1200: 1191, 1201: 1192, 1202: 1193, 1203: 1194, 1204: 1195, 1205: 1196, 1206: 1197, 1207: 1198, 1208: 1199, 1209: 1200, 1210: 1201, 1211: 1202, 1212: 1203, 1213: 1204, 1214: 1205, 1215: 1206, 1216: 1207, 1217: 1208, 1218: 1209, 1219: 1210, 1220: 1211, 1221: 1212, 1222: 1213, 1223: 1214, 1224: 1215, 1225: 1216, 1226: 1217, 1227: 1218, 1228: 1219, 1229: 1220, 1230: 1221, 1231: 1222, 1232: 1223, 1233: 1224, 1234: 1225, 1235: 1226, 1236: 1227, 1237: 1228, 1238: 1229, 1239: 1230, 1240: 1231, 1241: 1232, 1242: 1233, 1243: 1234, 1244: 1235, 1245: 1236, 1246: 1237, 1247: 1238, 1248: 1239, 1249: 1240, 1250: 1241, 1251: 1242, 1252: 1243, 1253: 1244, 1254: 1245, 1255: 1246, 1256: 1247, 1257: 1248, 1258: 1249, 1259: 1250, 1260: 1251, 1261: 1252, 1262: 1253, 1263: 1254, 1264: 1255, 1265: 1256, 1266: 1257, 1267: 1258, 1268: 1259, 1269: 1260, 1270: 1261, 1271: 1262, 1272: 1263, 1273: 1264, 1274: 1265, 1275: 1266, 1276: 1267, 1277: 1268, 1278: 1269, 1279: 1270, 1280: 1271, 1281: 1272, 1282: 1273, 1283: 1274, 1284: 1275, 1285: 1276, 1286: 1277, 1287: 1278, 1288: 1279, 1289: 1280, 1290: 1281, 1291: 1282, 1292: 1283, 1293: 1284, 1294: 1285, 1295: 1286, 1296: 1287, 1297: 1288, 1298: 1289, 1299: 1290, 1300: 1291, 1301: 1292, 1302: 1293, 1303: 1294, 1304: 1295, 1305: 1296, 1306: 1297, 1307: 1298, 1308: 1299, 1309: 1300, 1310: 1301, 1311: 1302, 1312: 1303, 1313: 1304, 1314: 1305, 1315: 1306, 1316: 1307, 1317: 1308, 1318: 1309, 1319: 1310, 1320: 1311, 1321: 1312, 1322: 1313, 1323: 1314, 1324: 1315, 1325: 1316, 1326: 1317, 1327: 1318, 1328: 1319, 1329: 1320, 1330: 1321, 1331: 1322, 1332: 1323, 1333: 1324, 1334: 1325, 1335: 1326, 1336: 1327, 1337: 1328, 1338: 1329, 1339: 1330, 1340: 1331, 1341: 1332, 1342: 1333, 1343: 1334, 1344: 1335, 1345: 1336, 1346: 1337, 1347: 1338, 1348: 1339, 1349: 1340, 1350: 1341, 1351: 1342, 1352: 1343, 1353: 1344, 1354: 1345, 1355: 1346, 1356: 1347, 1357: 1348, 1358: 1349, 1359: 1350, 1360: 1351, 1361: 1352, 1362: 1353, 1363: 1354, 1364: 1355, 1365: 1356, 1366: 1357, 1367: 1358, 1368: 1359, 1369: 1360, 1370: 1361, 1371: 1362, 1372: 1363, 1373: 1364, 1374: 1365, 1375: 1366, 1376: 1367, 1377: 1368, 1378: 1369, 1379: 1370, 1380: 1371, 1381: 1372, 1382: 1373, 1383: 1374, 1384: 1375, 1385: 1376, 1386: 1377, 1387: 1378, 1388: 1379, 1389: 1380, 1390: 1381, 1391: 1382, 1392: 1383, 1393: 1384, 1394: 1385, 1395: 1386, 1396: 1387, 1397: 1388, 1398: 1389, 1399: 1390, 1400: 1391, 1401: 1392, 1402: 1393, 1403: 1394, 1404: 1395, 1405: 1396, 1406: 1397, 1407: 1398, 1408: 1399, 1409: 1400, 1410: 1401, 1411: 1402, 1412: 1403, 1413: 1404, 1414: 1405, 1415: 1406, 1416: 1407, 1417: 1408, 1418: 1409, 1419: 1410, 1420: 1411, 1421: 1412, 1422: 1413, 1423: 1414, 1424: 1415, 1425: 1416, 1426: 1417, 1427: 1418, 1428: 1419, 1429: 1420, 1430: 1421, 1431: 1422, 1432: 1423, 1433: 1424, 1434: 1425, 1435: 1426, 1436: 1427, 1437: 1428, 1438: 1429, 1439: 1430, 1440: 1431, 1441: 1432, 1442: 1433, 1443: 1434, 1444: 1435, 1445: 1436, 1446: 1437, 1447: 1438, 1448: 1439, 1449: 1440, 1450: 1441, 1451: 1442, 1452: 1443, 1453: 1444, 1454: 1445, 1455: 1446, 1456: 1447, 1457: 1448, 1458: 1449, 1459: 1450, 1460: 1451, 1461: 1452, 1462: 1453, 1463: 1454, 1464: 1455, 1465: 1456, 1466: 1457, 1467: 1458, 1468: 1459, 1469: 1460, 1470: 1461, 1471: 1462, 1472: 1463, 1473: 1464, 1474: 1465, 1475: 1466, 1476: 1467, 1477: 1468, 1478: 1469, 1479: 1470, 1480: 1471, 1481: 1472, 1482: 1473, 1483: 1474, 1484: 1475, 1485: 1476, 1486: 1477, 1487: 1478, 1488: 1479, 1489: 1480, 1490: 1481, 1491: 1482, 1492: 1483, 1493: 1484, 1494: 1485, 1495: 1486, 1496: 1487, 1497: 1488, 1498: 1489, 1499: 1490, 1500: 1491, 1501: 1492, 1502: 1493, 1503: 1494, 1504: 1495, 1505: 1496, 1506: 1497, 1507: 1498, 1508: 1499, 1509: 1500, 1510: 1501, 1511: 1502, 1512: 1503, 1513: 1504, 1514: 1505, 1515: 1506, 1516: 1507, 1517: 1508, 1518: 1509, 1519: 1510, 1520: 1511, 1521: 1512, 1522: 1513, 1523: 1514, 1524: 1515, 1525: 1516, 1526: 1517, 1527: 1518, 1528: 1519, 1529: 1520, 1530: 1521, 1531: 1522, 1532: 1523, 1533: 1524, 1534: 1525, 1535: 1526, 1536: 1527, 1537: 1528, 1538: 1529, 1539: 1530, 1540: 1531, 1541: 1532, 1542: 1533, 1543: 1534, 1544: 1535, 1545: 1536, 1546: 1537, 1547: 1538, 1548: 1539, 1549: 1540, 1550: 1541, 1551: 1542, 1552: 1543, 1553: 1544, 1554: 1545, 1555: 1546, 1556: 1547, 1557: 1548, 1558: 1549, 1559: 1550, 1560: 1551, 1561: 1552, 1562: 1553, 1563: 1554, 1564: 1555, 1565: 1556, 1566: 1557, 1567: 1558, 1568: 1559, 1569: 1560, 1570: 1561, 1571: 1562, 1572: 1563, 1573: 1564, 1574: 1565, 1575: 1566, 1576: 1567, 1577: 1568, 1578: 1569, 1579: 1570, 1580: 1571, 1581: 1572, 1582: 1573, 1583: 1574, 1584: 1575, 1585: 1576, 1586: 1577, 1587: 1578, 1588: 1579, 1589: 1580, 1590: 1581, 1591: 1582, 1592: 1583, 1593: 1584, 1594: 1585, 1595: 1586, 1596: 1587, 1597: 1588, 1598: 1589, 1599: 1590, 1600: 1591, 1601: 1592, 1602: 1593, 1603: 1594, 1604: 1595, 1605: 1596, 1606: 1597, 1607: 1598, 1608: 1599, 1609: 1600, 1610: 1601, 1611: 1602, 1612: 1603, 1613: 1604, 1614: 1605, 1615: 1606, 1616: 1607, 1617: 1608, 1618: 1609, 1619: 1610, 1620: 1611, 1621: 1612, 1622: 1613, 1623: 1614, 1624: 1615, 1625: 1616, 1626: 1617, 1627: 1618, 1628: 1619, 1629: 1620, 1630: 1621, 1631: 1622, 1632: 1623, 1633: 1624, 1634: 1625, 1635: 1626, 1636: 1627, 1637: 1628, 1638: 1629, 1639: 1630, 1640: 1631, 1641: 1632, 1642: 1633, 1643: 1634, 1644: 1635, 1645: 1636, 1646: 1637, 1647: 1638, 1648: 1639, 1649: 1640, 1650: 1641, 1651: 1642, 1652: 1643, 1653: 1644, 1654: 1645, 1655: 1646, 1656: 1647, 1657: 1648, 1658: 1649, 1659: 1650, 1660: 1651, 1661: 1652, 1662: 1653, 1663: 1654, 1664: 1655, 1665: 1656, 1666: 1657, 1667: 1658, 1668: 1659, 1669: 1660, 1670: 1661, 1671: 1662, 1672: 1663, 1673: 1664, 1674: 1665, 1675: 1666, 1676: 1667, 1677: 1668, 1678: 1669, 1679: 1670, 1680: 1671, 1681: 1672, 1682: 1673, 1683: 1674, 1684: 1675, 1685: 1676, 1686: 1677, 1687: 1678, 1688: 1679, 1689: 1680, 1690: 1681, 1691: 1682, 1692: 1683, 1693: 1684, 1694: 1685, 1695: 1686, 1696: 1687, 1697: 1688, 1698: 1689, 1699: 1690, 1700: 1691, 1701: 1692, 1702: 1693, 1703: 1694, 1704: 1695, 1705: 1696, 1706: 1697, 1707: 1698, 1708: 1699, 1709: 1700, 1710: 1701, 1711: 1702, 1712: 1703, 1713: 1704, 1714: 1705, 1715: 1706, 1716: 1707, 1717: 1708, 1718: 1709, 1719: 1710, 1720: 1711, 1721: 1712, 1722: 1713, 1723: 1714, 1724: 1715, 1725: 1716, 1726: 1717, 1727: 1718, 1728: 1719, 1729: 1720, 1730: 1721, 1731: 1722, 1732: 1723, 1733: 1724, 1734: 1725, 1735: 1726, 1736: 1727, 1737: 1728, 1738: 1729, 1739: 1730, 1740: 1731, 1741: 1732, 1742: 1733, 1743: 1734, 1744: 1735, 1745: 1736, 1746: 1737, 1747: 1738, 1748: 1739, 1749: 1740, 1750: 1741, 1751: 1742, 1752: 1743, 1753: 1744, 1754: 1745, 1755: 1746, 1756: 1747, 1757: 1748, 1758: 1749, 1759: 1750, 1760: 1751, 1761: 1752, 1762: 1753, 1763: 1754, 1764: 1755, 1765: 1756, 1766: 1757, 1767: 1758, 1768: 1759, 1769: 1760, 1770: 1761, 1771: 1762, 1772: 1763, 1773: 1764, 1774: 1765, 1775: 1766, 1776: 1767, 1777: 1768, 1778: 1769, 1779: 1770, 1780: 1771, 1781: 1772, 1782: 1773, 1783: 1774, 1784: 1775, 1785: 1776, 1786: 1777, 1787: 1778, 1788: 1779, 1789: 1780, 1790: 1781, 1791: 1782, 1792: 1783, 1793: 1784, 1794: 1785, 1795: 1786, 1796: 1787, 1797: 1788, 1798: 1789, 1799: 1790, 1800: 1791, 1801: 1792, 1802: 1793, 1803: 1794, 1804: 1795, 1805: 1796, 1806: 1797, 1807: 1798, 1808: 1799, 1809: 1800, 1810: 1801, 1811: 1802, 1812: 1803, 1813: 1804, 1814: 1805, 1815: 1806, 1816: 1807, 1817: 1808, 1818: 1809, 1819: 1810, 1820: 1811, 1821: 1812, 1822: 1813, 1823: 1814, 1824: 1815, 1825: 1816, 1826: 1817, 1827: 1818, 1828: 1819, 1829: 1820, 1830: 1821, 1831: 1822, 1832: 1823, 1833: 1824, 1834: 1825, 1835: 1826, 1836: 1827, 1837: 1828, 1838: 1829, 1839: 1830, 1840: 1831, 1841: 1832, 1842: 1833, 1843: 1834, 1844: 1835, 1845: 1836, 1846: 1837, 1847: 1838, 1848: 1839, 1849: 1840, 1850: 1841, 1851: 1842, 1852: 1843, 1853: 1844, 1854: 1845, 1855: 1846, 1856: 1847, 1857: 1848, 1858: 1849, 1859: 1850, 1860: 1851, 1861: 1852, 1862: 1853, 1863: 1854, 1864: 1855, 1865: 1856, 1866: 1857, 1867: 1858, 1868: 1859, 1869: 1860, 1870: 1861, 1871: 1862, 1872: 1863, 1873: 1864, 1874: 1865, 1875: 1866, 1876: 1867, 1877: 1868, 1878: 1869, 1879: 1870, 1880: 1871, 1881: 1872, 1882: 1873, 1883: 1874, 1884: 1875, 1885: 1876, 1886: 1877, 1887: 1878, 1888: 1879, 1889: 1880, 1890: 1881, 1891: 1882, 1892: 1883, 1893: 1884, 1894: 1885, 1895: 1886, 1896: 1887, 1897: 1888, 1898: 1889, 1899: 1890, 1900: 1891, 1901: 1892, 1902: 1893, 1904: 1894, 1905: 1895, 1906: 1896, 1907: 1897, 1908: 1898, 1909: 1899, 1910: 1900, 1912: 1901, 1913: 1902, 1914: 1903, 1915: 1904, 1917: 1905, 1918: 1906, 1919: 1907, 1920: 1908, 1921: 1909, 1922: 1910, 1923: 1911, 1925: 1912, 1927: 1913, 1929: 1914, 1930: 1915, 1931: 1916, 1932: 1917, 1933: 1918, 1934: 1919, 1935: 1920, 1936: 1921, 1937: 1922, 1938: 1923, 1939: 1924, 1940: 1925, 1941: 1926, 1942: 1927, 1943: 1928, 1944: 1929, 1945: 1930, 1946: 1931, 1947: 1932, 1948: 1933, 1949: 1934, 1950: 1935, 1951: 1936, 1952: 1937, 1953: 1938, 1954: 1939, 1955: 1940, 1956: 1941, 1957: 1942, 1958: 1943, 1959: 1944, 1960: 1945, 1961: 1946, 1962: 1947, 1963: 1948, 1964: 1949, 1965: 1950, 1966: 1951, 1967: 1952, 1968: 1953, 1969: 1954, 1970: 1955, 1971: 1956, 1972: 1957, 1973: 1958, 1974: 1959, 1975: 1960, 1976: 1961, 1977: 1962, 1978: 1963, 1979: 1964, 1980: 1965, 1981: 1966, 1982: 1967, 1983: 1968, 1984: 1969, 1985: 1970, 1986: 1971, 1987: 1972, 1988: 1973, 1989: 1974, 1990: 1975, 1991: 1976, 1992: 1977, 1993: 1978, 1994: 1979, 1995: 1980, 1996: 1981, 1997: 1982, 1998: 1983, 1999: 1984, 2000: 1985, 2001: 1986, 2002: 1987, 2003: 1988, 2004: 1989, 2005: 1990, 2006: 1991, 2007: 1992, 2008: 1993, 2009: 1994, 2010: 1995, 2011: 1996, 2012: 1997, 2013: 1998, 2014: 1999, 2015: 2000, 2016: 2001, 2017: 2002, 2018: 2003, 2019: 2004, 2020: 2005, 2021: 2006, 2022: 2007, 2023: 2008, 2024: 2009, 2025: 2010, 2026: 2011, 2027: 2012, 2028: 2013, 2029: 2014, 2030: 2015, 2031: 2016, 2032: 2017, 2033: 2018, 2034: 2019, 2035: 2020, 2036: 2021, 2037: 2022, 2038: 2023, 2039: 2024, 2040: 2025, 2041: 2026, 2042: 2027, 2043: 2028, 2044: 2029, 2045: 2030, 2046: 2031, 2047: 2032, 2048: 2033, 2049: 2034, 2050: 2035, 2051: 2036, 2052: 2037, 2053: 2038, 2054: 2039, 2055: 2040, 2056: 2041, 2057: 2042, 2058: 2043, 2059: 2044, 2060: 2045, 2061: 2046, 2062: 2047, 2063: 2048, 2064: 2049, 2065: 2050, 2066: 2051, 2067: 2052, 2068: 2053, 2069: 2054, 2070: 2055, 2071: 2056, 2072: 2057, 2073: 2058, 2074: 2059, 2075: 2060, 2076: 2061, 2077: 2062, 2078: 2063, 2079: 2064, 2080: 2065, 2081: 2066, 2082: 2067, 2083: 2068, 2084: 2069, 2085: 2070, 2086: 2071, 2087: 2072, 2088: 2073, 2089: 2074, 2090: 2075, 2091: 2076, 2092: 2077, 2093: 2078, 2094: 2079, 2095: 2080, 2096: 2081, 2097: 2082, 2098: 2083, 2099: 2084, 2100: 2085, 2101: 2086, 2102: 2087, 2103: 2088, 2104: 2089, 2105: 2090, 2106: 2091, 2107: 2092, 2108: 2093, 2109: 2094, 2110: 2095, 2111: 2096, 2112: 2097, 2113: 2098, 2114: 2099, 2115: 2100, 2116: 2101, 2117: 2102, 2118: 2103, 2119: 2104, 2120: 2105, 2121: 2106, 2122: 2107, 2123: 2108, 2124: 2109, 2125: 2110, 2126: 2111, 2127: 2112, 2128: 2113, 2129: 2114, 2130: 2115, 2131: 2116, 2132: 2117, 2133: 2118, 2134: 2119, 2135: 2120, 2136: 2121, 2137: 2122, 2138: 2123, 2139: 2124, 2140: 2125, 2141: 2126, 2142: 2127, 2143: 2128, 2144: 2129, 2145: 2130, 2146: 2131, 2147: 2132, 2148: 2133, 2149: 2134, 2150: 2135, 2151: 2136, 2152: 2137, 2153: 2138, 2154: 2139, 2155: 2140, 2156: 2141, 2157: 2142, 2158: 2143, 2159: 2144, 2160: 2145, 2161: 2146, 2162: 2147, 2163: 2148, 2164: 2149, 2165: 2150, 2166: 2151, 2167: 2152, 2168: 2153, 2169: 2154, 2170: 2155, 2171: 2156, 2172: 2157, 2173: 2158, 2174: 2159, 2175: 2160, 2176: 2161, 2177: 2162, 2178: 2163, 2179: 2164, 2180: 2165, 2181: 2166, 2182: 2167, 2183: 2168, 2184: 2169, 2185: 2170, 2186: 2171, 2187: 2172, 2188: 2173, 2189: 2174, 2190: 2175, 2191: 2176, 2192: 2177, 2193: 2178, 2194: 2179, 2195: 2180, 2196: 2181, 2197: 2182, 2198: 2183, 2199: 2184, 2200: 2185, 2201: 2186, 2202: 2187, 2203: 2188, 2204: 2189, 2205: 2190, 2206: 2191, 2207: 2192, 2208: 2193, 2209: 2194, 2210: 2195, 2211: 2196, 2212: 2197, 2213: 2198, 2214: 2199, 2215: 2200, 2216: 2201, 2217: 2202, 2218: 2203, 2219: 2204, 2220: 2205, 2221: 2206, 2222: 2207, 2223: 2208, 2224: 2209, 2225: 2210, 2226: 2211, 2227: 2212, 2228: 2213, 2229: 2214, 2230: 2215, 2231: 2216, 2232: 2217, 2233: 2218, 2234: 2219, 2235: 2220, 2236: 2221, 2237: 2222, 2238: 2223, 2239: 2224, 2240: 2225, 2241: 2226, 2242: 2227, 2243: 2228, 2244: 2229, 2245: 2230, 2246: 2231, 2247: 2232, 2248: 2233, 2249: 2234, 2250: 2235, 2251: 2236, 2252: 2237, 2253: 2238, 2254: 2239, 2255: 2240, 2256: 2241, 2257: 2242, 2258: 2243, 2259: 2244, 2260: 2245, 2261: 2246, 2262: 2247, 2263: 2248, 2264: 2249, 2265: 2250, 2266: 2251, 2267: 2252, 2268: 2253, 2269: 2254, 2270: 2255, 2271: 2256, 2272: 2257, 2273: 2258, 2274: 2259, 2275: 2260, 2276: 2261, 2277: 2262, 2278: 2263, 2279: 2264, 2280: 2265, 2281: 2266, 2282: 2267, 2283: 2268, 2284: 2269, 2285: 2270, 2286: 2271, 2287: 2272, 2288: 2273, 2289: 2274, 2290: 2275, 2291: 2276, 2292: 2277, 2293: 2278, 2294: 2279, 2295: 2280, 2296: 2281, 2297: 2282, 2298: 2283, 2299: 2284, 2300: 2285, 2301: 2286, 2302: 2287, 2303: 2288, 2304: 2289, 2305: 2290, 2306: 2291, 2307: 2292, 2308: 2293, 2309: 2294, 2310: 2295, 2311: 2296, 2312: 2297, 2313: 2298, 2314: 2299, 2315: 2300, 2316: 2301, 2317: 2302, 2318: 2303, 2319: 2304, 2320: 2305, 2321: 2306, 2322: 2307, 2323: 2308, 2324: 2309, 2325: 2310, 2326: 2311, 2327: 2312, 2328: 2313, 2329: 2314, 2330: 2315, 2331: 2316, 2332: 2317, 2333: 2318, 2334: 2319, 2335: 2320, 2336: 2321, 2337: 2322, 2338: 2323, 2339: 2324, 2340: 2325, 2341: 2326, 2342: 2327, 2343: 2328, 2344: 2329, 2345: 2330, 2346: 2331, 2347: 2332, 2348: 2333, 2349: 2334, 2350: 2335, 2351: 2336, 2352: 2337, 2353: 2338, 2354: 2339, 2355: 2340, 2356: 2341, 2357: 2342, 2358: 2343, 2359: 2344, 2360: 2345, 2361: 2346, 2362: 2347, 2363: 2348, 2364: 2349, 2365: 2350, 2366: 2351, 2367: 2352, 2368: 2353, 2369: 2354, 2370: 2355, 2371: 2356, 2372: 2357, 2373: 2358, 2374: 2359, 2375: 2360, 2376: 2361, 2377: 2362, 2378: 2363, 2379: 2364, 2380: 2365, 2381: 2366, 2382: 2367, 2383: 2368, 2384: 2369, 2385: 2370, 2386: 2371, 2387: 2372, 2388: 2373, 2389: 2374, 2390: 2375, 2391: 2376, 2392: 2377, 2393: 2378, 2394: 2379, 2395: 2380, 2396: 2381, 2397: 2382, 2398: 2383, 2399: 2384, 2400: 2385, 2401: 2386, 2402: 2387, 2403: 2388, 2404: 2389, 2405: 2390, 2406: 2391, 2407: 2392, 2408: 2393, 2409: 2394, 2410: 2395, 2411: 2396, 2412: 2397, 2413: 2398, 2414: 2399, 2415: 2400, 2416: 2401, 2417: 2402, 2418: 2403, 2419: 2404, 2420: 2405, 2421: 2406, 2422: 2407, 2423: 2408, 2424: 2409, 2425: 2410, 2426: 2411, 2427: 2412, 2428: 2413, 2429: 2414, 2430: 2415, 2431: 2416, 2432: 2417, 2433: 2418, 2434: 2419, 2435: 2420, 2436: 2421, 2437: 2422, 2438: 2423, 2439: 2424, 2440: 2425, 2441: 2426, 2442: 2427, 2443: 2428, 2444: 2429, 2445: 2430, 2446: 2431, 2447: 2432, 2448: 2433, 2449: 2434, 2450: 2435, 2451: 2436, 2452: 2437, 2453: 2438, 2454: 2439, 2455: 2440, 2456: 2441, 2457: 2442, 2458: 2443, 2459: 2444, 2460: 2445, 2461: 2446, 2462: 2447, 2463: 2448, 2464: 2449, 2465: 2450, 2466: 2451, 2467: 2452, 2468: 2453, 2469: 2454, 2470: 2455, 2471: 2456, 2472: 2457, 2473: 2458, 2474: 2459, 2475: 2460, 2476: 2461, 2477: 2462, 2478: 2463, 2479: 2464, 2480: 2465, 2481: 2466, 2482: 2467, 2483: 2468, 2484: 2469, 2485: 2470, 2486: 2471, 2487: 2472, 2488: 2473, 2489: 2474, 2490: 2475, 2491: 2476, 2492: 2477, 2493: 2478, 2494: 2479, 2495: 2480, 2496: 2481, 2497: 2482, 2498: 2483, 2499: 2484, 2500: 2485, 2501: 2486, 2502: 2487, 2503: 2488, 2504: 2489, 2505: 2490, 2506: 2491, 2507: 2492, 2508: 2493, 2509: 2494, 2510: 2495, 2511: 2496, 2512: 2497, 2513: 2498, 2514: 2499, 2515: 2500, 2516: 2501, 2517: 2502, 2518: 2503, 2521: 2504, 2522: 2505, 2523: 2506, 2524: 2507, 2525: 2508, 2526: 2509, 2530: 2510, 2531: 2511, 2532: 2512, 2533: 2513, 2534: 2514, 2535: 2515, 2536: 2516, 2537: 2517, 2538: 2518, 2539: 2519, 2540: 2520, 2541: 2521, 2542: 2522, 2543: 2523, 2544: 2524, 2545: 2525, 2546: 2526, 2547: 2527, 2548: 2528, 2549: 2529, 2550: 2530, 2551: 2531, 2552: 2532, 2553: 2533, 2554: 2534, 2555: 2535, 2556: 2536, 2557: 2537, 2558: 2538, 2559: 2539, 2560: 2540, 2561: 2541, 2562: 2542, 2563: 2543, 2564: 2544, 2565: 2545, 2566: 2546, 2567: 2547, 2568: 2548, 2569: 2549, 2570: 2550, 2571: 2551, 2572: 2552, 2573: 2553, 2574: 2554, 2575: 2555, 2576: 2556, 2577: 2557, 2578: 2558, 2579: 2559, 2580: 2560, 2581: 2561, 2582: 2562, 2583: 2563, 2584: 2564, 2585: 2565, 2586: 2566, 2587: 2567, 2588: 2568, 2589: 2569, 2590: 2570, 2591: 2571, 2592: 2572, 2593: 2573, 2594: 2574, 2595: 2575, 2596: 2576, 2597: 2577, 2598: 2578, 2599: 2579, 2600: 2580, 2601: 2581, 2602: 2582, 2603: 2583, 2604: 2584, 2605: 2585, 2606: 2586, 2607: 2587, 2608: 2588, 2609: 2589, 2610: 2590, 2611: 2591, 2612: 2592, 2613: 2593, 2614: 2594, 2615: 2595, 2616: 2596, 2617: 2597, 2618: 2598, 2619: 2599, 2620: 2600, 2621: 2601, 2622: 2602, 2623: 2603, 2624: 2604, 2625: 2605, 2626: 2606, 2627: 2607, 2628: 2608, 2629: 2609, 2630: 2610, 2631: 2611, 2632: 2612, 2633: 2613, 2634: 2614, 2635: 2615, 2636: 2616, 2637: 2617, 2638: 2618, 2639: 2619, 2640: 2620, 2641: 2621, 2642: 2622, 2643: 2623, 2644: 2624, 2645: 2625, 2646: 2626, 2647: 2627, 2648: 2628, 2649: 2629, 2650: 2630, 2651: 2631, 2652: 2632, 2653: 2633, 2654: 2634, 2655: 2635, 2656: 2636, 2657: 2637, 2658: 2638, 2659: 2639, 2660: 2640, 2661: 2641, 2662: 2642, 2663: 2643, 2664: 2644, 2665: 2645, 2666: 2646, 2667: 2647, 2668: 2648, 2669: 2649, 2670: 2650, 2671: 2651, 2672: 2652, 2673: 2653, 2674: 2654, 2675: 2655, 2676: 2656, 2677: 2657, 2678: 2658, 2679: 2659, 2680: 2660, 2681: 2661, 2682: 2662, 2683: 2663, 2684: 2664, 2685: 2665, 2686: 2666, 2687: 2667, 2688: 2668, 2689: 2669, 2690: 2670, 2691: 2671, 2692: 2672, 2693: 2673, 2694: 2674, 2695: 2675, 2696: 2676, 2697: 2677, 2698: 2678, 2699: 2679, 2700: 2680, 2701: 2681, 2702: 2682, 2703: 2683, 2704: 2684, 2705: 2685, 2706: 2686, 2707: 2687, 2708: 2688, 2709: 2689, 2710: 2690, 2711: 2691, 2712: 2692, 2713: 2693, 2714: 2694, 2715: 2695, 2716: 2696, 2717: 2697, 2718: 2698, 2719: 2699, 2720: 2700, 2721: 2701, 2722: 2702, 2723: 2703, 2724: 2704, 2725: 2705, 2726: 2706, 2727: 2707, 2728: 2708, 2729: 2709, 2730: 2710, 2731: 2711, 2732: 2712, 2733: 2713, 2734: 2714, 2735: 2715, 2736: 2716, 2737: 2717, 2738: 2718, 2739: 2719, 2740: 2720, 2741: 2721, 2742: 2722, 2743: 2723, 2744: 2724, 2745: 2725, 2746: 2726, 2747: 2727, 2748: 2728, 2749: 2729, 2750: 2730, 2751: 2731, 2752: 2732, 2753: 2733, 2754: 2734, 2755: 2735, 2756: 2736, 2757: 2737, 2758: 2738, 2759: 2739, 2760: 2740, 2761: 2741, 2762: 2742, 2763: 2743, 2764: 2744, 2765: 2745, 2766: 2746, 2767: 2747, 2768: 2748, 2769: 2749, 2770: 2750, 2771: 2751, 2772: 2752, 2773: 2753, 2774: 2754, 2775: 2755, 2776: 2756, 2777: 2757, 2778: 2758, 2779: 2759, 2780: 2760, 2781: 2761, 2782: 2762, 2783: 2763, 2784: 2764, 2785: 2765, 2786: 2766, 2787: 2767, 2788: 2768, 2789: 2769, 2790: 2770, 2791: 2771, 2792: 2772, 2793: 2773, 2794: 2774, 2795: 2775, 2796: 2776, 2797: 2777, 2798: 2778, 2799: 2779, 2800: 2780, 2801: 2781, 2802: 2782, 2803: 2783, 2804: 2784, 2805: 2785, 2806: 2786, 2807: 2787, 2808: 2788, 2809: 2789, 2810: 2790, 2811: 2791, 2812: 2792, 2813: 2793, 2814: 2794, 2815: 2795, 2816: 2796, 2817: 2797, 2818: 2798, 2819: 2799, 2820: 2800, 2821: 2801, 2822: 2802, 2823: 2803, 2824: 2804, 2825: 2805, 2826: 2806, 2827: 2807, 2828: 2808, 2829: 2809, 2830: 2810, 2831: 2811, 2832: 2812, 2833: 2813, 2834: 2814, 2835: 2815, 2836: 2816, 2837: 2817, 2838: 2818, 2839: 2819, 2840: 2820, 2841: 2821, 2842: 2822, 2843: 2823, 2844: 2824, 2845: 2825, 2846: 2826, 2847: 2827, 2848: 2828, 2849: 2829, 2850: 2830, 2851: 2831, 2852: 2832, 2853: 2833, 2854: 2834, 2855: 2835, 2856: 2836, 2857: 2837, 2858: 2838, 2859: 2839, 2860: 2840, 2861: 2841, 2862: 2842, 2863: 2843, 2864: 2844, 2865: 2845, 2866: 2846, 2867: 2847, 2868: 2848, 2869: 2849, 2870: 2850, 2871: 2851, 2872: 2852, 2873: 2853, 2874: 2854, 2875: 2855, 2876: 2856, 2877: 2857, 2878: 2858, 2879: 2859, 2880: 2860, 2881: 2861, 2882: 2862, 2883: 2863, 2884: 2864, 2885: 2865, 2886: 2866, 2887: 2867, 2888: 2868, 2889: 2869, 2890: 2870, 2891: 2871, 2892: 2872, 2893: 2873, 2894: 2874, 2895: 2875, 2896: 2876, 2897: 2877, 2898: 2878, 2899: 2879, 2900: 2880, 2901: 2881, 2902: 2882, 2903: 2883, 2904: 2884, 2905: 2885, 2906: 2886, 2907: 2887, 2908: 2888, 2909: 2889, 2910: 2890, 2911: 2891, 2912: 2892, 2913: 2893, 2914: 2894, 2915: 2895, 2916: 2896, 2917: 2897, 2918: 2898, 2919: 2899, 2920: 2900, 2921: 2901, 2922: 2902, 2923: 2903, 2924: 2904, 2925: 2905, 2926: 2906, 2927: 2907, 2928: 2908, 2929: 2909, 2930: 2910, 2931: 2911, 2932: 2912, 2933: 2913, 2934: 2914, 2935: 2915, 2936: 2916, 2937: 2917, 2938: 2918, 2939: 2919, 2940: 2920, 2941: 2921, 2942: 2922, 2943: 2923, 2944: 2924, 2945: 2925, 2946: 2926, 2947: 2927, 2948: 2928, 2949: 2929, 2950: 2930, 2951: 2931, 2952: 2932, 2953: 2933, 2954: 2934, 2955: 2935, 2956: 2936, 2957: 2937, 2958: 2938, 2959: 2939, 2960: 2940, 2961: 2941, 2962: 2942, 2963: 2943, 2964: 2944, 2965: 2945, 2966: 2946, 2967: 2947, 2968: 2948, 2969: 2949, 2970: 2950, 2971: 2951, 2972: 2952, 2973: 2953, 2974: 2954, 2975: 2955, 2976: 2956, 2977: 2957, 2978: 2958, 2979: 2959, 2980: 2960, 2981: 2961, 2982: 2962, 2983: 2963, 2984: 2964, 2985: 2965, 2986: 2966, 2987: 2967, 2988: 2968, 2989: 2969, 2990: 2970, 2991: 2971, 2992: 2972, 2993: 2973, 2994: 2974, 2995: 2975, 2996: 2976, 2997: 2977, 2998: 2978, 2999: 2979, 3000: 2980, 3001: 2981, 3002: 2982, 3003: 2983, 3004: 2984, 3005: 2985, 3006: 2986, 3007: 2987, 3008: 2988, 3009: 2989, 3010: 2990, 3011: 2991, 3012: 2992, 3013: 2993, 3014: 2994, 3015: 2995, 3016: 2996, 3017: 2997, 3018: 2998, 3019: 2999, 3020: 3000, 3021: 3001, 3022: 3002, 3023: 3003, 3024: 3004, 3025: 3005, 3026: 3006, 3027: 3007, 3028: 3008, 3029: 3009, 3030: 3010, 3031: 3011, 3032: 3012, 3033: 3013, 3034: 3014, 3035: 3015, 3036: 3016, 3037: 3017, 3038: 3018, 3039: 3019, 3040: 3020, 3041: 3021, 3042: 3022, 3043: 3023, 3044: 3024, 3045: 3025, 3046: 3026, 3047: 3027, 3048: 3028, 3049: 3029, 3050: 3030, 3051: 3031, 3052: 3032, 3053: 3033, 3054: 3034, 3055: 3035, 3056: 3036, 3057: 3037, 3058: 3038, 3059: 3039, 3060: 3040, 3061: 3041, 3062: 3042, 3063: 3043, 3064: 3044, 3065: 3045, 3066: 3046, 3067: 3047, 3068: 3048, 3069: 3049, 3070: 3050, 3071: 3051, 3072: 3052, 3073: 3053, 3074: 3054, 3075: 3055, 3076: 3056, 3077: 3057, 3078: 3058, 3079: 3059, 3080: 3060, 3081: 3061, 3082: 3062, 3083: 3063, 3084: 3064, 3085: 3065, 3086: 3066, 3087: 3067, 3088: 3068, 3089: 3069, 3090: 3070, 3091: 3071, 3092: 3072, 3093: 3073, 3094: 3074, 3095: 3075, 3096: 3076, 3097: 3077, 3098: 3078, 3099: 3079, 3100: 3080, 3101: 3081, 3102: 3082, 3103: 3083, 3104: 3084, 3105: 3085, 3106: 3086, 3107: 3087, 3108: 3088, 3109: 3089, 3110: 3090, 3111: 3091, 3112: 3092, 3113: 3093, 3114: 3094, 3115: 3095, 3116: 3096, 3117: 3097, 3118: 3098, 3119: 3099, 3120: 3100, 3121: 3101, 3122: 3102, 3123: 3103, 3124: 3104, 3125: 3105, 3126: 3106, 3127: 3107, 3128: 3108, 3129: 3109, 3130: 3110, 3131: 3111, 3132: 3112, 3133: 3113, 3134: 3114, 3135: 3115, 3136: 3116, 3137: 3117, 3138: 3118, 3139: 3119, 3140: 3120, 3141: 3121, 3142: 3122, 3143: 3123, 3144: 3124, 3145: 3125, 3146: 3126, 3147: 3127, 3148: 3128, 3149: 3129, 3150: 3130, 3151: 3131, 3152: 3132, 3153: 3133, 3154: 3134, 3155: 3135, 3156: 3136, 3157: 3137, 3158: 3138, 3159: 3139, 3160: 3140, 3161: 3141, 3162: 3142, 3163: 3143, 3164: 3144, 3165: 3145, 3166: 3146, 3167: 3147, 3168: 3148, 3169: 3149, 3170: 3150, 3171: 3151, 3172: 3152, 3173: 3153, 3174: 3154, 3175: 3155, 3176: 3156, 3177: 3157, 3178: 3158, 3179: 3159, 3180: 3160, 3181: 3161, 3182: 3162, 3183: 3163, 3184: 3164, 3185: 3165, 3186: 3166, 3187: 3167, 3188: 3168, 3189: 3169, 3190: 3170, 3191: 3171, 3192: 3172, 3193: 3173, 3194: 3174, 3195: 3175, 3196: 3176, 3197: 3177, 3198: 3178, 3199: 3179, 3200: 3180, 3201: 3181, 3202: 3182, 3203: 3183, 3204: 3184, 3205: 3185, 3206: 3186, 3208: 3187, 3209: 3188, 3213: 3189, 3216: 3190, 3217: 3191, 3221: 3192, 3222: 3193, 3225: 3194, 3227: 3195, 3230: 3196, 3231: 3197, 3234: 3198, 3236: 3199, 3237: 3200, 3238: 3201, 3239: 3202, 3240: 3203, 3241: 3204, 3242: 3205, 3243: 3206, 3244: 3207, 3245: 3208, 3246: 3209, 3247: 3210, 3248: 3211, 3249: 3212, 3250: 3213, 3251: 3214, 3252: 3215, 3253: 3216, 3254: 3217, 3255: 3218, 3256: 3219, 3257: 3220, 3258: 3221, 3259: 3222, 3260: 3223, 3261: 3224, 3262: 3225, 3263: 3226, 3264: 3227, 3265: 3228, 3266: 3229, 3267: 3230, 3268: 3231, 3269: 3232, 3270: 3233, 3271: 3234, 3272: 3235, 3273: 3236, 3274: 3237, 3275: 3238, 3276: 3239, 3277: 3240, 3278: 3241, 3279: 3242, 3280: 3243, 3281: 3244, 3282: 3245, 3283: 3246, 3284: 3247, 3285: 3248, 3286: 3249, 3287: 3250, 3288: 3251, 3289: 3252, 3290: 3253, 3291: 3254, 3292: 3255, 3293: 3256, 3294: 3257, 3295: 3258, 3296: 3259, 3297: 3260, 3298: 3261, 3299: 3262, 3300: 3263, 3301: 3264, 3302: 3265, 3303: 3266, 3304: 3267, 3305: 3268, 3306: 3269, 3307: 3270, 3308: 3271, 3309: 3272, 3310: 3273, 3311: 3274, 3312: 3275, 3313: 3276, 3314: 3277, 3315: 3278, 3316: 3279, 3317: 3280, 3318: 3281, 3319: 3282, 3320: 3283, 3321: 3284, 3322: 3285, 3323: 3286, 3324: 3287, 3325: 3288, 3326: 3289, 3327: 3290, 3328: 3291, 3329: 3292, 3330: 3293, 3331: 3294, 3332: 3295, 3333: 3296, 3334: 3297, 3335: 3298, 3336: 3299, 3337: 3300, 3338: 3301, 3339: 3302, 3340: 3303, 3341: 3304, 3342: 3305, 3343: 3306, 3344: 3307, 3345: 3308, 3346: 3309, 3347: 3310, 3348: 3311, 3349: 3312, 3350: 3313, 3351: 3314, 3352: 3315, 3353: 3316, 3354: 3317, 3355: 3318, 3356: 3319, 3357: 3320, 3358: 3321, 3359: 3322, 3360: 3323, 3361: 3324, 3362: 3325, 3363: 3326, 3364: 3327, 3365: 3328, 3366: 3329, 3367: 3330, 3368: 3331, 3369: 3332, 3370: 3333, 3371: 3334, 3372: 3335, 3373: 3336, 3374: 3337, 3375: 3338, 3376: 3339, 3377: 3340, 3378: 3341, 3379: 3342, 3380: 3343, 3381: 3344, 3382: 3345, 3383: 3346, 3384: 3347, 3385: 3348, 3386: 3349, 3387: 3350, 3388: 3351, 3389: 3352, 3390: 3353, 3391: 3354, 3392: 3355, 3393: 3356, 3394: 3357, 3395: 3358, 3396: 3359, 3397: 3360, 3398: 3361, 3399: 3362, 3400: 3363, 3401: 3364, 3402: 3365, 3403: 3366, 3404: 3367, 3405: 3368, 3406: 3369, 3407: 3370, 3408: 3371, 3409: 3372, 3410: 3373, 3411: 3374, 3412: 3375, 3413: 3376, 3414: 3377, 3415: 3378, 3416: 3379, 3417: 3380, 3418: 3381, 3419: 3382, 3420: 3383, 3421: 3384, 3422: 3385, 3423: 3386, 3424: 3387, 3425: 3388, 3426: 3389, 3427: 3390, 3428: 3391, 3429: 3392, 3430: 3393, 3431: 3394, 3432: 3395, 3433: 3396, 3434: 3397, 3435: 3398, 3436: 3399, 3437: 3400, 3438: 3401, 3439: 3402, 3440: 3403, 3441: 3404, 3442: 3405, 3443: 3406, 3444: 3407, 3445: 3408, 3446: 3409, 3447: 3410, 3448: 3411, 3449: 3412, 3450: 3413, 3451: 3414, 3452: 3415, 3453: 3416, 3454: 3417, 3455: 3418, 3456: 3419, 3457: 3420, 3458: 3421, 3459: 3422, 3460: 3423, 3461: 3424, 3462: 3425, 3463: 3426, 3464: 3427, 3465: 3428, 3466: 3429, 3467: 3430, 3468: 3431, 3469: 3432, 3470: 3433, 3471: 3434, 3472: 3435, 3473: 3436, 3474: 3437, 3475: 3438, 3476: 3439, 3477: 3440, 3478: 3441, 3479: 3442, 3480: 3443, 3481: 3444, 3482: 3445, 3483: 3446, 3484: 3447, 3485: 3448, 3486: 3449, 3487: 3450, 3488: 3451, 3489: 3452, 3490: 3453, 3491: 3454, 3492: 3455, 3493: 3456, 3494: 3457, 3495: 3458, 3496: 3459, 3497: 3460, 3498: 3461, 3499: 3462, 3500: 3463, 3501: 3464, 3502: 3465, 3503: 3466, 3504: 3467, 3505: 3468, 3506: 3469, 3508: 3470, 3509: 3471, 3510: 3472, 3511: 3473, 3512: 3474, 3513: 3475, 3517: 3476, 3520: 3477, 3521: 3478, 3523: 3479, 3527: 3480, 3528: 3481, 3529: 3482, 3530: 3483, 3531: 3484, 3532: 3485, 3534: 3486, 3536: 3487, 3537: 3488, 3539: 3489, 3540: 3490, 3541: 3491, 3542: 3492, 3543: 3493, 3544: 3494, 3545: 3495, 3546: 3496, 3547: 3497, 3548: 3498, 3549: 3499, 3550: 3500, 3551: 3501, 3552: 3502, 3553: 3503, 3554: 3504, 3555: 3505, 3556: 3506, 3557: 3507, 3558: 3508, 3559: 3509, 3560: 3510, 3561: 3511, 3562: 3512, 3563: 3513, 3564: 3514, 3565: 3515, 3566: 3516, 3567: 3517, 3568: 3518, 3569: 3519, 3570: 3520, 3571: 3521, 3572: 3522, 3573: 3523, 3574: 3524, 3575: 3525, 3576: 3526, 3577: 3527, 3578: 3528, 3579: 3529, 3580: 3530, 3581: 3531, 3582: 3532, 3583: 3533, 3584: 3534, 3585: 3535, 3586: 3536, 3587: 3537, 3588: 3538, 3589: 3539, 3590: 3540, 3591: 3541, 3592: 3542, 3593: 3543, 3594: 3544, 3595: 3545, 3596: 3546, 3597: 3547, 3598: 3548, 3599: 3549, 3600: 3550, 3601: 3551, 3602: 3552, 3603: 3553, 3604: 3554, 3605: 3555, 3606: 3556, 3607: 3557, 3608: 3558, 3609: 3559, 3610: 3560, 3611: 3561, 3612: 3562, 3613: 3563, 3614: 3564, 3615: 3565, 3616: 3566, 3617: 3567, 3618: 3568, 3619: 3569, 3620: 3570, 3621: 3571, 3622: 3572, 3623: 3573, 3624: 3574, 3625: 3575, 3627: 3576, 3628: 3577, 3635: 3578, 3636: 3579, 3637: 3580, 3638: 3581, 3640: 3582, 3645: 3583, 3646: 3584, 3648: 3585, 3650: 3586, 3655: 3587, 3657: 3588, 3660: 3589, 3662: 3590, 3663: 3591, 3664: 3592, 3665: 3593, 3666: 3594, 3667: 3595, 3668: 3596, 3669: 3597, 3670: 3598, 3671: 3599, 3672: 3600, 3673: 3601, 3674: 3602, 3675: 3603, 3676: 3604, 3677: 3605, 3678: 3606, 3679: 3607, 3681: 3608, 3682: 3609, 3683: 3610, 3684: 3611, 3685: 3612, 3686: 3613, 3687: 3614, 3688: 3615, 3689: 3616, 3690: 3617, 3691: 3618, 3692: 3619, 3693: 3620, 3694: 3621, 3695: 3622, 3696: 3623, 3697: 3624, 3698: 3625, 3699: 3626, 3700: 3627, 3701: 3628, 3702: 3629, 3703: 3630, 3705: 3631, 3706: 3632, 3707: 3633, 3708: 3634, 3710: 3635, 3711: 3636, 3712: 3637, 3713: 3638, 3714: 3639, 3716: 3640, 3717: 3641, 3718: 3642, 3719: 3643, 3720: 3644, 3721: 3645, 3722: 3646, 3723: 3647, 3724: 3648, 3725: 3649, 3726: 3650, 3727: 3651, 3728: 3652, 3729: 3653, 3730: 3654, 3731: 3655, 3732: 3656, 3733: 3657, 3734: 3658, 3735: 3659, 3736: 3660, 3737: 3661, 3738: 3662, 3739: 3663, 3740: 3664, 3741: 3665, 3742: 3666, 3743: 3667, 3744: 3668, 3745: 3669, 3746: 3670, 3747: 3671, 3748: 3672, 3749: 3673, 3750: 3674, 3751: 3675, 3752: 3676, 3753: 3677, 3754: 3678, 3755: 3679, 3756: 3680, 3757: 3681, 3758: 3682, 3759: 3683, 3760: 3684, 3761: 3685, 3762: 3686, 3763: 3687, 3764: 3688, 3765: 3689, 3766: 3690, 3767: 3691, 3768: 3692, 3769: 3693, 3770: 3694, 3771: 3695, 3772: 3696, 3773: 3697, 3774: 3698, 3775: 3699, 3776: 3700, 3777: 3701, 3778: 3702, 3779: 3703, 3780: 3704, 3781: 3705, 3782: 3706, 3783: 3707, 3784: 3708, 3785: 3709, 3786: 3710, 3787: 3711, 3788: 3712, 3789: 3713, 3790: 3714, 3791: 3715, 3792: 3716, 3793: 3717, 3794: 3718, 3795: 3719, 3796: 3720, 3797: 3721, 3798: 3722, 3799: 3723, 3800: 3724, 3801: 3725, 3802: 3726, 3803: 3727, 3804: 3728, 3805: 3729, 3806: 3730, 3807: 3731, 3808: 3732, 3809: 3733, 3810: 3734, 3811: 3735, 3812: 3736, 3813: 3737, 3814: 3738, 3815: 3739, 3816: 3740, 3817: 3741, 3818: 3742, 3819: 3743, 3820: 3744, 3821: 3745, 3822: 3746, 3823: 3747, 3824: 3748, 3825: 3749, 3826: 3750, 3827: 3751, 3828: 3752, 3829: 3753, 3830: 3754, 3831: 3755, 3832: 3756, 3833: 3757, 3834: 3758, 3835: 3759, 3836: 3760, 3837: 3761, 3838: 3762, 3839: 3763, 3840: 3764, 3841: 3765, 3842: 3766, 3843: 3767, 3844: 3768, 3845: 3769, 3846: 3770, 3847: 3771, 3848: 3772, 3849: 3773, 3850: 3774, 3851: 3775, 3852: 3776, 3853: 3777, 3854: 3778, 3855: 3779, 3856: 3780, 3857: 3781, 3858: 3782, 3859: 3783, 3860: 3784, 3861: 3785, 3862: 3786, 3863: 3787, 3864: 3788, 3865: 3789, 3866: 3790, 3867: 3791, 3868: 3792, 3869: 3793, 3870: 3794, 3871: 3795, 3872: 3796, 3873: 3797, 3874: 3798, 3875: 3799, 3876: 3800, 3877: 3801, 3878: 3802, 3879: 3803, 3880: 3804, 3881: 3805, 3882: 3806, 3883: 3807, 3884: 3808, 3885: 3809, 3886: 3810, 3887: 3811, 3888: 3812, 3889: 3813, 3890: 3814, 3891: 3815, 3892: 3816, 3893: 3817, 3894: 3818, 3895: 3819, 3896: 3820, 3897: 3821, 3898: 3822, 3899: 3823, 3900: 3824, 3901: 3825, 3902: 3826, 3903: 3827, 3904: 3828, 3905: 3829, 3906: 3830, 3907: 3831, 3908: 3832, 3909: 3833, 3910: 3834, 3911: 3835, 3912: 3836, 3913: 3837, 3914: 3838, 3915: 3839, 3916: 3840, 3917: 3841, 3918: 3842, 3919: 3843, 3920: 3844, 3921: 3845, 3922: 3846, 3923: 3847, 3924: 3848, 3925: 3849, 3926: 3850, 3927: 3851, 3928: 3852, 3929: 3853, 3930: 3854, 3931: 3855, 3932: 3856, 3933: 3857, 3934: 3858, 3935: 3859, 3936: 3860, 3937: 3861, 3938: 3862, 3939: 3863, 3940: 3864, 3941: 3865, 3942: 3866, 3943: 3867, 3944: 3868, 3945: 3869, 3946: 3870, 3947: 3871, 3948: 3872, 3949: 3873, 3950: 3874, 3951: 3875, 3952: 3876, 3953: 3877, 3954: 3878, 3955: 3879, 3956: 3880, 3957: 3881, 3958: 3882, 3959: 3883, 3960: 3884, 3961: 3885, 3962: 3886, 3963: 3887, 3964: 3888, 3965: 3889, 3966: 3890, 3967: 3891, 3968: 3892, 3969: 3893, 3970: 3894, 3971: 3895, 3972: 3896, 3973: 3897, 3974: 3898, 3975: 3899, 3976: 3900, 3977: 3901, 3978: 3902, 3979: 3903, 3980: 3904, 3981: 3905, 3982: 3906, 3983: 3907, 3984: 3908, 3985: 3909, 3986: 3910, 3987: 3911, 3988: 3912, 3989: 3913, 3990: 3914, 3991: 3915, 3992: 3916, 3993: 3917, 3994: 3918, 3995: 3919, 3996: 3920, 3997: 3921, 3998: 3922, 3999: 3923, 4000: 3924, 4001: 3925, 4002: 3926, 4003: 3927, 4004: 3928, 4005: 3929, 4006: 3930, 4007: 3931, 4008: 3932, 4009: 3933, 4010: 3934, 4011: 3935, 4012: 3936, 4013: 3937, 4014: 3938, 4015: 3939, 4016: 3940, 4017: 3941, 4018: 3942, 4019: 3943, 4020: 3944, 4021: 3945, 4022: 3946, 4023: 3947, 4024: 3948, 4025: 3949, 4026: 3950, 4027: 3951, 4028: 3952, 4029: 3953, 4030: 3954, 4031: 3955, 4032: 3956, 4033: 3957, 4034: 3958, 4035: 3959, 4036: 3960, 4037: 3961, 4038: 3962, 4039: 3963, 4040: 3964, 4041: 3965, 4042: 3966, 4043: 3967, 4044: 3968, 4045: 3969, 4046: 3970, 4047: 3971, 4048: 3972, 4049: 3973, 4050: 3974, 4051: 3975, 4052: 3976, 4053: 3977, 4054: 3978, 4055: 3979, 4056: 3980, 4057: 3981, 4058: 3982, 4059: 3983, 4060: 3984, 4061: 3985, 4062: 3986, 4063: 3987, 4064: 3988, 4065: 3989, 4066: 3990, 4067: 3991, 4068: 3992, 4069: 3993, 4070: 3994, 4071: 3995, 4072: 3996, 4073: 3997, 4074: 3998, 4075: 3999, 4076: 4000, 4077: 4001, 4078: 4002, 4079: 4003, 4080: 4004, 4081: 4005, 4082: 4006, 4086: 4007, 4087: 4008, 4089: 4009, 4091: 4010, 4092: 4011, 4094: 4012, 4095: 4013, 4096: 4014, 4097: 4015, 4098: 4016, 4099: 4017, 4100: 4018, 4101: 4019, 4102: 4020, 4103: 4021, 4104: 4022, 4105: 4023, 4106: 4024, 4107: 4025, 4108: 4026, 4109: 4027, 4110: 4028, 4111: 4029, 4113: 4030, 4114: 4031, 4115: 4032, 4116: 4033, 4117: 4034, 4118: 4035, 4119: 4036, 4121: 4037, 4122: 4038, 4123: 4039, 4124: 4040, 4125: 4041, 4126: 4042, 4127: 4043, 4128: 4044, 4129: 4045, 4130: 4046, 4131: 4047, 4132: 4048, 4133: 4049, 4134: 4050, 4135: 4051, 4136: 4052, 4137: 4053, 4138: 4054, 4139: 4055, 4140: 4056, 4141: 4057, 4142: 4058, 4143: 4059, 4144: 4060, 4145: 4061, 4146: 4062, 4147: 4063, 4148: 4064, 4149: 4065, 4150: 4066, 4151: 4067, 4152: 4068, 4153: 4069, 4154: 4070, 4155: 4071, 4156: 4072, 4157: 4073, 4158: 4074, 4159: 4075, 4160: 4076, 4161: 4077, 4162: 4078, 4163: 4079, 4164: 4080, 4165: 4081, 4166: 4082, 4167: 4083, 4168: 4084, 4169: 4085, 4170: 4086, 4171: 4087, 4172: 4088, 4173: 4089, 4174: 4090, 4175: 4091, 4176: 4092, 4177: 4093, 4178: 4094, 4179: 4095, 4180: 4096, 4181: 4097, 4182: 4098, 4183: 4099, 4184: 4100, 4185: 4101, 4186: 4102, 4187: 4103, 4188: 4104, 4189: 4105, 4190: 4106, 4191: 4107, 4192: 4108, 4193: 4109, 4194: 4110, 4195: 4111, 4196: 4112, 4197: 4113, 4198: 4114, 4199: 4115, 4200: 4116, 4201: 4117, 4202: 4118, 4203: 4119, 4204: 4120, 4205: 4121, 4206: 4122, 4207: 4123, 4208: 4124, 4209: 4125, 4210: 4126, 4211: 4127, 4212: 4128, 4213: 4129, 4214: 4130, 4215: 4131, 4216: 4132, 4217: 4133, 4218: 4134, 4219: 4135, 4220: 4136, 4221: 4137, 4222: 4138, 4223: 4139, 4224: 4140, 4225: 4141, 4226: 4142, 4227: 4143, 4228: 4144, 4229: 4145, 4230: 4146, 4231: 4147, 4232: 4148, 4233: 4149, 4234: 4150, 4235: 4151, 4236: 4152, 4237: 4153, 4238: 4154, 4239: 4155, 4240: 4156, 4241: 4157, 4242: 4158, 4243: 4159, 4244: 4160, 4245: 4161, 4246: 4162, 4247: 4163, 4248: 4164, 4249: 4165, 4250: 4166, 4251: 4167, 4252: 4168, 4253: 4169, 4254: 4170, 4255: 4171, 4256: 4172, 4257: 4173, 4258: 4174, 4259: 4175, 4260: 4176, 4261: 4177, 4262: 4178, 4263: 4179, 4264: 4180, 4265: 4181, 4266: 4182, 4267: 4183, 4268: 4184, 4269: 4185, 4270: 4186, 4271: 4187, 4272: 4188, 4273: 4189, 4274: 4190, 4275: 4191, 4276: 4192, 4277: 4193, 4278: 4194, 4279: 4195, 4280: 4196, 4281: 4197, 4282: 4198, 4283: 4199, 4284: 4200, 4285: 4201, 4286: 4202, 4287: 4203, 4288: 4204, 4289: 4205, 4290: 4206, 4291: 4207, 4292: 4208, 4293: 4209, 4294: 4210, 4295: 4211, 4296: 4212, 4297: 4213, 4298: 4214, 4299: 4215, 4300: 4216, 4301: 4217, 4302: 4218, 4303: 4219, 4304: 4220, 4305: 4221, 4306: 4222, 4307: 4223, 4308: 4224, 4309: 4225, 4310: 4226, 4311: 4227, 4312: 4228, 4313: 4229, 4314: 4230, 4315: 4231, 4316: 4232, 4317: 4233, 4318: 4234, 4319: 4235, 4320: 4236, 4321: 4237, 4322: 4238, 4323: 4239, 4324: 4240, 4325: 4241, 4326: 4242, 4327: 4243, 4328: 4244, 4329: 4245, 4330: 4246, 4331: 4247, 4332: 4248, 4333: 4249, 4334: 4250, 4335: 4251, 4336: 4252, 4337: 4253, 4338: 4254, 4339: 4255, 4340: 4256, 4341: 4257, 4342: 4258, 4343: 4259, 4344: 4260, 4345: 4261, 4346: 4262, 4347: 4263, 4348: 4264, 4349: 4265, 4350: 4266, 4351: 4267, 4352: 4268, 4353: 4269, 4354: 4270, 4355: 4271, 4356: 4272, 4357: 4273, 4358: 4274, 4359: 4275, 4360: 4276, 4361: 4277, 4362: 4278, 4363: 4279, 4364: 4280, 4365: 4281, 4366: 4282, 4367: 4283, 4368: 4284, 4369: 4285, 4370: 4286, 4371: 4287, 4372: 4288, 4373: 4289, 4374: 4290, 4375: 4291, 4376: 4292, 4377: 4293, 4378: 4294, 4379: 4295, 4380: 4296, 4381: 4297, 4382: 4298, 4383: 4299, 4384: 4300, 4385: 4301, 4386: 4302, 4387: 4303, 4388: 4304, 4389: 4305, 4390: 4306, 4391: 4307, 4392: 4308, 4393: 4309, 4394: 4310, 4395: 4311, 4396: 4312, 4397: 4313, 4398: 4314, 4399: 4315, 4400: 4316, 4401: 4317, 4402: 4318, 4403: 4319, 4404: 4320, 4405: 4321, 4406: 4322, 4407: 4323, 4408: 4324, 4409: 4325, 4410: 4326, 4411: 4327, 4412: 4328, 4413: 4329, 4414: 4330, 4415: 4331, 4416: 4332, 4417: 4333, 4418: 4334, 4419: 4335, 4420: 4336, 4421: 4337, 4422: 4338, 4423: 4339, 4424: 4340, 4425: 4341, 4426: 4342, 4427: 4343, 4428: 4344, 4429: 4345, 4430: 4346, 4431: 4347, 4432: 4348, 4433: 4349, 4434: 4350, 4435: 4351, 4436: 4352, 4437: 4353, 4438: 4354, 4439: 4355, 4440: 4356, 4441: 4357, 4442: 4358, 4443: 4359, 4444: 4360, 4445: 4361, 4446: 4362, 4447: 4363, 4448: 4364, 4449: 4365, 4450: 4366, 4451: 4367, 4452: 4368, 4453: 4369, 4454: 4370, 4455: 4371, 4457: 4372, 4458: 4373, 4459: 4374, 4460: 4375, 4461: 4376, 4462: 4377, 4463: 4378, 4464: 4379, 4465: 4380, 4466: 4381, 4467: 4382, 4468: 4383, 4469: 4384, 4470: 4385, 4471: 4386, 4473: 4387, 4474: 4388, 4480: 4389, 4481: 4390, 4484: 4391, 4486: 4392, 4487: 4393, 4488: 4394, 4489: 4395, 4490: 4396, 4491: 4397, 4492: 4398, 4493: 4399, 4494: 4400, 4495: 4401, 4496: 4402, 4497: 4403, 4498: 4404, 4499: 4405, 4500: 4406, 4501: 4407, 4502: 4408, 4503: 4409, 4504: 4410, 4505: 4411, 4506: 4412, 4507: 4413, 4508: 4414, 4509: 4415, 4510: 4416, 4511: 4417, 4512: 4418, 4513: 4419, 4514: 4420, 4515: 4421, 4516: 4422, 4517: 4423, 4518: 4424, 4519: 4425, 4520: 4426, 4521: 4427, 4522: 4428, 4523: 4429, 4524: 4430, 4525: 4431, 4526: 4432, 4527: 4433, 4528: 4434, 4529: 4435, 4530: 4436, 4531: 4437, 4532: 4438, 4533: 4439, 4534: 4440, 4535: 4441, 4536: 4442, 4537: 4443, 4538: 4444, 4539: 4445, 4540: 4446, 4541: 4447, 4542: 4448, 4543: 4449, 4544: 4450, 4545: 4451, 4546: 4452, 4547: 4453, 4548: 4454, 4549: 4455, 4550: 4456, 4551: 4457, 4552: 4458, 4553: 4459, 4554: 4460, 4555: 4461, 4556: 4462, 4557: 4463, 4558: 4464, 4559: 4465, 4560: 4466, 4561: 4467, 4562: 4468, 4563: 4469, 4564: 4470, 4565: 4471, 4566: 4472, 4567: 4473, 4568: 4474, 4569: 4475, 4570: 4476, 4571: 4477, 4572: 4478, 4573: 4479, 4574: 4480, 4575: 4481, 4576: 4482, 4577: 4483, 4578: 4484, 4579: 4485, 4580: 4486, 4581: 4487, 4582: 4488, 4583: 4489, 4584: 4490, 4585: 4491, 4586: 4492, 4587: 4493, 4588: 4494, 4589: 4495, 4590: 4496, 4591: 4497, 4592: 4498, 4593: 4499, 4594: 4500, 4595: 4501, 4596: 4502, 4597: 4503, 4598: 4504, 4599: 4505, 4600: 4506, 4601: 4507, 4602: 4508, 4603: 4509, 4604: 4510, 4605: 4511, 4606: 4512, 4607: 4513, 4608: 4514, 4609: 4515, 4610: 4516, 4611: 4517, 4612: 4518, 4613: 4519, 4614: 4520, 4615: 4521, 4616: 4522, 4617: 4523, 4618: 4524, 4619: 4525, 4620: 4526, 4621: 4527, 4622: 4528, 4623: 4529, 4624: 4530, 4625: 4531, 4626: 4532, 4627: 4533, 4628: 4534, 4629: 4535, 4630: 4536, 4631: 4537, 4632: 4538, 4633: 4539, 4634: 4540, 4635: 4541, 4636: 4542, 4637: 4543, 4638: 4544, 4639: 4545, 4640: 4546, 4641: 4547, 4642: 4548, 4643: 4549, 4644: 4550, 4645: 4551, 4646: 4552, 4647: 4553, 4648: 4554, 4649: 4555, 4650: 4556, 4651: 4557, 4652: 4558, 4653: 4559, 4654: 4560, 4655: 4561, 4656: 4562, 4657: 4563, 4658: 4564, 4659: 4565, 4660: 4566, 4661: 4567, 4662: 4568, 4663: 4569, 4664: 4570, 4665: 4571, 4666: 4572, 4669: 4573, 4670: 4574, 4671: 4575, 4675: 4576, 4678: 4577, 4679: 4578, 4680: 4579, 4681: 4580, 4685: 4581, 4686: 4582, 4687: 4583, 4688: 4584, 4689: 4585, 4690: 4586, 4691: 4587, 4692: 4588, 4693: 4589, 4694: 4590, 4695: 4591, 4696: 4592, 4697: 4593, 4698: 4594, 4699: 4595, 4700: 4596, 4701: 4597, 4702: 4598, 4703: 4599, 4704: 4600, 4705: 4601, 4706: 4602, 4707: 4603, 4708: 4604, 4709: 4605, 4710: 4606, 4711: 4607, 4712: 4608, 4713: 4609, 4716: 4610, 4717: 4611, 4719: 4612, 4720: 4613, 4722: 4614, 4723: 4615, 4724: 4616, 4725: 4617, 4726: 4618, 4727: 4619, 4728: 4620, 4731: 4621, 4732: 4622, 4733: 4623, 4734: 4624, 4735: 4625, 4736: 4626, 4737: 4627, 4738: 4628, 4739: 4629, 4740: 4630, 4741: 4631, 4742: 4632, 4743: 4633, 4744: 4634, 4745: 4635, 4746: 4636, 4747: 4637, 4748: 4638, 4749: 4639, 4750: 4640, 4751: 4641, 4752: 4642, 4753: 4643, 4754: 4644, 4755: 4645, 4756: 4646, 4757: 4647, 4758: 4648, 4759: 4649, 4760: 4650, 4761: 4651, 4762: 4652, 4763: 4653, 4764: 4654, 4765: 4655, 4766: 4656, 4767: 4657, 4768: 4658, 4769: 4659, 4770: 4660, 4771: 4661, 4772: 4662, 4773: 4663, 4774: 4664, 4775: 4665, 4776: 4666, 4777: 4667, 4778: 4668, 4779: 4669, 4780: 4670, 4781: 4671, 4782: 4672, 4783: 4673, 4784: 4674, 4785: 4675, 4786: 4676, 4787: 4677, 4788: 4678, 4789: 4679, 4790: 4680, 4791: 4681, 4792: 4682, 4793: 4683, 4794: 4684, 4795: 4685, 4796: 4686, 4797: 4687, 4798: 4688, 4799: 4689, 4800: 4690, 4801: 4691, 4802: 4692, 4803: 4693, 4804: 4694, 4805: 4695, 4806: 4696, 4807: 4697, 4808: 4698, 4809: 4699, 4810: 4700, 4811: 4701, 4812: 4702, 4813: 4703, 4814: 4704, 4815: 4705, 4816: 4706, 4817: 4707, 4818: 4708, 4819: 4709, 4820: 4710, 4821: 4711, 4822: 4712, 4823: 4713, 4824: 4714, 4825: 4715, 4826: 4716, 4827: 4717, 4828: 4718, 4829: 4719, 4830: 4720, 4831: 4721, 4832: 4722, 4833: 4723, 4834: 4724, 4835: 4725, 4836: 4726, 4837: 4727, 4838: 4728, 4839: 4729, 4840: 4730, 4841: 4731, 4842: 4732, 4843: 4733, 4844: 4734, 4845: 4735, 4846: 4736, 4847: 4737, 4848: 4738, 4849: 4739, 4850: 4740, 4851: 4741, 4852: 4742, 4853: 4743, 4854: 4744, 4855: 4745, 4856: 4746, 4857: 4747, 4858: 4748, 4859: 4749, 4860: 4750, 4861: 4751, 4862: 4752, 4863: 4753, 4864: 4754, 4865: 4755, 4866: 4756, 4867: 4757, 4868: 4758, 4869: 4759, 4870: 4760, 4871: 4761, 4872: 4762, 4873: 4763, 4874: 4764, 4875: 4765, 4876: 4766, 4877: 4767, 4878: 4768, 4879: 4769, 4880: 4770, 4881: 4771, 4882: 4772, 4883: 4773, 4884: 4774, 4885: 4775, 4886: 4776, 4887: 4777, 4888: 4778, 4889: 4779, 4890: 4780, 4891: 4781, 4892: 4782, 4893: 4783, 4894: 4784, 4895: 4785, 4896: 4786, 4897: 4787, 4898: 4788, 4899: 4789, 4900: 4790, 4901: 4791, 4902: 4792, 4903: 4793, 4904: 4794, 4905: 4795, 4906: 4796, 4907: 4797, 4908: 4798, 4909: 4799, 4910: 4800, 4911: 4801, 4912: 4802, 4913: 4803, 4914: 4804, 4915: 4805, 4916: 4806, 4917: 4807, 4918: 4808, 4919: 4809, 4920: 4810, 4921: 4811, 4922: 4812, 4923: 4813, 4924: 4814, 4925: 4815, 4926: 4816, 4927: 4817, 4928: 4818, 4929: 4819, 4930: 4820, 4931: 4821, 4932: 4822, 4933: 4823, 4934: 4824, 4935: 4825, 4936: 4826, 4937: 4827, 4938: 4828, 4939: 4829, 4940: 4830, 4941: 4831, 4942: 4832, 4943: 4833, 4944: 4834, 4945: 4835, 4946: 4836, 4947: 4837, 4948: 4838, 4949: 4839, 4950: 4840, 4951: 4841, 4952: 4842, 4953: 4843, 4954: 4844, 4955: 4845, 4956: 4846, 4957: 4847, 4958: 4848, 4959: 4849, 4960: 4850, 4961: 4851, 4962: 4852, 4963: 4853, 4964: 4854, 4965: 4855, 4966: 4856, 4967: 4857, 4968: 4858, 4969: 4859, 4970: 4860, 4971: 4861, 4972: 4862, 4973: 4863, 4974: 4864, 4975: 4865, 4976: 4866, 4977: 4867, 4978: 4868, 4979: 4869, 4980: 4870, 4981: 4871, 4982: 4872, 4983: 4873, 4984: 4874, 4985: 4875, 4986: 4876, 4987: 4877, 4988: 4878, 4989: 4879, 4990: 4880, 4991: 4881, 4992: 4882, 4993: 4883, 4994: 4884, 4995: 4885, 4996: 4886, 4997: 4887, 4998: 4888, 4999: 4889, 5000: 4890, 5001: 4891, 5002: 4892, 5003: 4893, 5004: 4894, 5005: 4895, 5006: 4896, 5007: 4897, 5008: 4898, 5009: 4899, 5010: 4900, 5011: 4901, 5012: 4902, 5013: 4903, 5014: 4904, 5015: 4905, 5016: 4906, 5017: 4907, 5018: 4908, 5019: 4909, 5020: 4910, 5021: 4911, 5022: 4912, 5023: 4913, 5024: 4914, 5025: 4915, 5026: 4916, 5027: 4917, 5028: 4918, 5029: 4919, 5030: 4920, 5031: 4921, 5032: 4922, 5033: 4923, 5034: 4924, 5035: 4925, 5036: 4926, 5038: 4927, 5039: 4928, 5040: 4929, 5041: 4930, 5042: 4931, 5043: 4932, 5044: 4933, 5045: 4934, 5048: 4935, 5049: 4936, 5050: 4937, 5051: 4938, 5052: 4939, 5053: 4940, 5055: 4941, 5057: 4942, 5058: 4943, 5060: 4944, 5061: 4945, 5062: 4946, 5063: 4947, 5064: 4948, 5065: 4949, 5066: 4950, 5067: 4951, 5068: 4952, 5069: 4953, 5070: 4954, 5071: 4955, 5072: 4956, 5073: 4957, 5074: 4958, 5075: 4959, 5076: 4960, 5077: 4961, 5078: 4962, 5079: 4963, 5080: 4964, 5081: 4965, 5082: 4966, 5083: 4967, 5084: 4968, 5085: 4969, 5086: 4970, 5087: 4971, 5088: 4972, 5089: 4973, 5090: 4974, 5091: 4975, 5092: 4976, 5093: 4977, 5094: 4978, 5095: 4979, 5096: 4980, 5097: 4981, 5098: 4982, 5099: 4983, 5100: 4984, 5101: 4985, 5102: 4986, 5103: 4987, 5104: 4988, 5105: 4989, 5107: 4990, 5110: 4991, 5111: 4992, 5112: 4993, 5113: 4994, 5114: 4995, 5115: 4996, 5116: 4997, 5117: 4998, 5118: 4999, 5119: 5000, 5120: 5001, 5121: 5002, 5122: 5003, 5123: 5004, 5124: 5005, 5125: 5006, 5126: 5007, 5127: 5008, 5128: 5009, 5129: 5010, 5130: 5011, 5131: 5012, 5132: 5013, 5133: 5014, 5134: 5015, 5135: 5016, 5136: 5017, 5137: 5018, 5138: 5019, 5139: 5020, 5140: 5021, 5141: 5022, 5142: 5023, 5143: 5024, 5144: 5025, 5145: 5026, 5146: 5027, 5147: 5028, 5148: 5029, 5149: 5030, 5150: 5031, 5151: 5032, 5152: 5033, 5153: 5034, 5154: 5035, 5155: 5036, 5156: 5037, 5157: 5038, 5158: 5039, 5159: 5040, 5160: 5041, 5161: 5042, 5162: 5043, 5163: 5044, 5164: 5045, 5165: 5046, 5166: 5047, 5167: 5048, 5168: 5049, 5169: 5050, 5170: 5051, 5171: 5052, 5172: 5053, 5173: 5054, 5174: 5055, 5175: 5056, 5176: 5057, 5177: 5058, 5178: 5059, 5179: 5060, 5180: 5061, 5181: 5062, 5182: 5063, 5183: 5064, 5184: 5065, 5185: 5066, 5186: 5067, 5187: 5068, 5188: 5069, 5189: 5070, 5190: 5071, 5191: 5072, 5192: 5073, 5193: 5074, 5194: 5075, 5195: 5076, 5196: 5077, 5197: 5078, 5198: 5079, 5199: 5080, 5200: 5081, 5201: 5082, 5202: 5083, 5203: 5084, 5204: 5085, 5205: 5086, 5206: 5087, 5207: 5088, 5208: 5089, 5209: 5090, 5210: 5091, 5211: 5092, 5212: 5093, 5213: 5094, 5214: 5095, 5215: 5096, 5216: 5097, 5217: 5098, 5218: 5099, 5219: 5100, 5220: 5101, 5221: 5102, 5222: 5103, 5223: 5104, 5224: 5105, 5225: 5106, 5226: 5107, 5227: 5108, 5228: 5109, 5229: 5110, 5232: 5111, 5233: 5112, 5235: 5113, 5236: 5114, 5237: 5115, 5238: 5116, 5239: 5117, 5240: 5118, 5241: 5119, 5242: 5120, 5243: 5121, 5244: 5122, 5245: 5123, 5246: 5124, 5247: 5125, 5248: 5126, 5249: 5127, 5250: 5128, 5251: 5129, 5252: 5130, 5253: 5131, 5254: 5132, 5255: 5133, 5256: 5134, 5257: 5135, 5258: 5136, 5259: 5137, 5260: 5138, 5261: 5139, 5262: 5140, 5263: 5141, 5264: 5142, 5265: 5143, 5266: 5144, 5267: 5145, 5268: 5146, 5269: 5147, 5270: 5148, 5271: 5149, 5272: 5150, 5273: 5151, 5274: 5152, 5275: 5153, 5276: 5154, 5277: 5155, 5278: 5156, 5279: 5157, 5280: 5158, 5281: 5159, 5282: 5160, 5283: 5161, 5284: 5162, 5285: 5163, 5286: 5164, 5287: 5165, 5288: 5166, 5289: 5167, 5290: 5168, 5291: 5169, 5292: 5170, 5293: 5171, 5294: 5172, 5295: 5173, 5296: 5174, 5297: 5175, 5298: 5176, 5299: 5177, 5300: 5178, 5301: 5179, 5302: 5180, 5303: 5181, 5304: 5182, 5305: 5183, 5306: 5184, 5307: 5185, 5308: 5186, 5309: 5187, 5310: 5188, 5311: 5189, 5312: 5190, 5313: 5191, 5314: 5192, 5315: 5193, 5316: 5194, 5317: 5195, 5318: 5196, 5319: 5197, 5320: 5198, 5321: 5199, 5322: 5200, 5323: 5201, 5324: 5202, 5325: 5203, 5326: 5204, 5327: 5205, 5328: 5206, 5329: 5207, 5330: 5208, 5331: 5209, 5332: 5210, 5333: 5211, 5334: 5212, 5335: 5213, 5336: 5214, 5337: 5215, 5338: 5216, 5339: 5217, 5340: 5218, 5341: 5219, 5342: 5220, 5343: 5221, 5344: 5222, 5345: 5223, 5346: 5224, 5347: 5225, 5348: 5226, 5349: 5227, 5350: 5228, 5351: 5229, 5352: 5230, 5353: 5231, 5354: 5232, 5355: 5233, 5356: 5234, 5357: 5235, 5358: 5236, 5359: 5237, 5360: 5238, 5361: 5239, 5362: 5240, 5363: 5241, 5364: 5242, 5365: 5243, 5366: 5244, 5367: 5245, 5368: 5246, 5369: 5247, 5370: 5248, 5371: 5249, 5372: 5250, 5373: 5251, 5374: 5252, 5375: 5253, 5376: 5254, 5377: 5255, 5378: 5256, 5379: 5257, 5380: 5258, 5381: 5259, 5382: 5260, 5383: 5261, 5384: 5262, 5385: 5263, 5386: 5264, 5387: 5265, 5388: 5266, 5389: 5267, 5390: 5268, 5391: 5269, 5392: 5270, 5393: 5271, 5394: 5272, 5395: 5273, 5396: 5274, 5397: 5275, 5398: 5276, 5399: 5277, 5400: 5278, 5401: 5279, 5402: 5280, 5403: 5281, 5404: 5282, 5405: 5283, 5406: 5284, 5407: 5285, 5408: 5286, 5409: 5287, 5410: 5288, 5411: 5289, 5412: 5290, 5413: 5291, 5414: 5292, 5415: 5293, 5416: 5294, 5417: 5295, 5418: 5296, 5419: 5297, 5420: 5298, 5421: 5299, 5422: 5300, 5423: 5301, 5424: 5302, 5425: 5303, 5426: 5304, 5427: 5305, 5428: 5306, 5429: 5307, 5430: 5308, 5431: 5309, 5432: 5310, 5433: 5311, 5434: 5312, 5435: 5313, 5436: 5314, 5437: 5315, 5438: 5316, 5439: 5317, 5440: 5318, 5441: 5319, 5442: 5320, 5443: 5321, 5444: 5322, 5445: 5323, 5446: 5324, 5447: 5325, 5448: 5326, 5449: 5327, 5450: 5328, 5451: 5329, 5452: 5330, 5453: 5331, 5454: 5332, 5455: 5333, 5456: 5334, 5457: 5335, 5458: 5336, 5459: 5337, 5460: 5338, 5461: 5339, 5462: 5340, 5463: 5341, 5464: 5342, 5465: 5343, 5466: 5344, 5467: 5345, 5468: 5346, 5469: 5347, 5470: 5348, 5471: 5349, 5472: 5350, 5473: 5351, 5474: 5352, 5475: 5353, 5476: 5354, 5477: 5355, 5478: 5356, 5479: 5357, 5480: 5358, 5481: 5359, 5482: 5360, 5483: 5361, 5484: 5362, 5485: 5363, 5486: 5364, 5487: 5365, 5488: 5366, 5489: 5367, 5490: 5368, 5491: 5369, 5492: 5370, 5493: 5371, 5494: 5372, 5495: 5373, 5496: 5374, 5497: 5375, 5498: 5376, 5499: 5377, 5500: 5378, 5501: 5379, 5502: 5380, 5503: 5381, 5504: 5382, 5505: 5383, 5506: 5384, 5507: 5385, 5508: 5386, 5509: 5387, 5510: 5388, 5511: 5389, 5512: 5390, 5513: 5391, 5514: 5392, 5515: 5393, 5516: 5394, 5517: 5395, 5518: 5396, 5519: 5397, 5520: 5398, 5521: 5399, 5522: 5400, 5523: 5401, 5524: 5402, 5525: 5403, 5526: 5404, 5528: 5405, 5529: 5406, 5530: 5407, 5531: 5408, 5532: 5409, 5533: 5410, 5534: 5411, 5535: 5412, 5536: 5413, 5537: 5414, 5538: 5415, 5539: 5416, 5540: 5417, 5541: 5418, 5542: 5419, 5543: 5420, 5544: 5421, 5545: 5422, 5546: 5423, 5547: 5424, 5548: 5425, 5549: 5426, 5550: 5427, 5551: 5428, 5552: 5429, 5553: 5430, 5554: 5431, 5555: 5432, 5556: 5433, 5557: 5434, 5558: 5435, 5559: 5436, 5560: 5437, 5561: 5438, 5562: 5439, 5563: 5440, 5564: 5441, 5565: 5442, 5566: 5443, 5567: 5444, 5568: 5445, 5569: 5446, 5570: 5447, 5571: 5448, 5572: 5449, 5573: 5450, 5574: 5451, 5575: 5452, 5576: 5453, 5577: 5454, 5578: 5455, 5579: 5456, 5580: 5457, 5581: 5458, 5582: 5459, 5583: 5460, 5584: 5461, 5585: 5462, 5586: 5463, 5587: 5464, 5588: 5465, 5589: 5466, 5590: 5467, 5591: 5468, 5592: 5469, 5593: 5470, 5594: 5471, 5595: 5472, 5596: 5473, 5597: 5474, 5598: 5475, 5599: 5476, 5600: 5477, 5601: 5478, 5602: 5479, 5603: 5480, 5604: 5481, 5605: 5482, 5606: 5483, 5607: 5484, 5608: 5485, 5609: 5486, 5610: 5487, 5611: 5488, 5612: 5489, 5613: 5490, 5614: 5491, 5615: 5492, 5616: 5493, 5617: 5494, 5618: 5495, 5619: 5496, 5620: 5497, 5621: 5498, 5622: 5499, 5623: 5500, 5624: 5501, 5625: 5502, 5626: 5503, 5627: 5504, 5628: 5505, 5629: 5506, 5630: 5507, 5631: 5508, 5632: 5509, 5633: 5510, 5634: 5511, 5635: 5512, 5636: 5513, 5637: 5514, 5638: 5515, 5639: 5516, 5640: 5517, 5641: 5518, 5642: 5519, 5643: 5520, 5644: 5521, 5645: 5522, 5646: 5523, 5647: 5524, 5648: 5525, 5649: 5526, 5650: 5527, 5651: 5528, 5652: 5529, 5653: 5530, 5654: 5531, 5655: 5532, 5656: 5533, 5657: 5534, 5658: 5535, 5659: 5536, 5660: 5537, 5661: 5538, 5662: 5539, 5663: 5540, 5664: 5541, 5665: 5542, 5666: 5543, 5667: 5544, 5668: 5545, 5669: 5546, 5670: 5547, 5671: 5548, 5672: 5549, 5673: 5550, 5674: 5551, 5675: 5552, 5676: 5553, 5677: 5554, 5678: 5555, 5679: 5556, 5680: 5557, 5681: 5558, 5682: 5559, 5683: 5560, 5684: 5561, 5685: 5562, 5688: 5563, 5689: 5564, 5690: 5565, 5691: 5566, 5692: 5567, 5693: 5568, 5694: 5569, 5695: 5570, 5696: 5571, 5697: 5572, 5698: 5573, 5699: 5574, 5700: 5575, 5701: 5576, 5702: 5577, 5703: 5578, 5704: 5579, 5705: 5580, 5706: 5581, 5707: 5582, 5708: 5583, 5709: 5584, 5710: 5585, 5711: 5586, 5712: 5587, 5713: 5588, 5714: 5589, 5715: 5590, 5716: 5591, 5717: 5592, 5718: 5593, 5719: 5594, 5720: 5595, 5721: 5596, 5722: 5597, 5723: 5598, 5724: 5599, 5725: 5600, 5726: 5601, 5727: 5602, 5728: 5603, 5729: 5604, 5730: 5605, 5731: 5606, 5732: 5607, 5733: 5608, 5734: 5609, 5735: 5610, 5736: 5611, 5737: 5612, 5738: 5613, 5739: 5614, 5740: 5615, 5741: 5616, 5742: 5617, 5743: 5618, 5744: 5619, 5745: 5620, 5746: 5621, 5747: 5622, 5748: 5623, 5749: 5624, 5750: 5625, 5751: 5626, 5752: 5627, 5753: 5628, 5754: 5629, 5755: 5630, 5756: 5631, 5757: 5632, 5758: 5633, 5759: 5634, 5760: 5635, 5761: 5636, 5762: 5637, 5763: 5638, 5764: 5639, 5765: 5640, 5766: 5641, 5767: 5642, 5768: 5643, 5769: 5644, 5770: 5645, 5771: 5646, 5772: 5647, 5773: 5648, 5774: 5649, 5775: 5650, 5776: 5651, 5777: 5652, 5778: 5653, 5779: 5654, 5780: 5655, 5781: 5656, 5782: 5657, 5783: 5658, 5784: 5659, 5785: 5660, 5786: 5661, 5787: 5662, 5788: 5663, 5789: 5664, 5790: 5665, 5791: 5666, 5792: 5667, 5793: 5668, 5794: 5669, 5795: 5670, 5796: 5671, 5797: 5672, 5798: 5673, 5799: 5674, 5800: 5675, 5801: 5676, 5802: 5677, 5803: 5678, 5804: 5679, 5805: 5680, 5806: 5681, 5807: 5682, 5808: 5683, 5809: 5684, 5810: 5685, 5811: 5686, 5812: 5687, 5813: 5688, 5814: 5689, 5815: 5690, 5816: 5691, 5817: 5692, 5818: 5693, 5819: 5694, 5820: 5695, 5821: 5696, 5822: 5697, 5823: 5698, 5824: 5699, 5825: 5700, 5826: 5701, 5827: 5702, 5828: 5703, 5829: 5704, 5830: 5705, 5831: 5706, 5832: 5707, 5833: 5708, 5834: 5709, 5835: 5710, 5836: 5711, 5837: 5712, 5838: 5713, 5839: 5714, 5840: 5715, 5841: 5716, 5842: 5717, 5843: 5718, 5844: 5719, 5845: 5720, 5846: 5721, 5847: 5722, 5848: 5723, 5849: 5724, 5850: 5725, 5851: 5726, 5852: 5727, 5853: 5728, 5854: 5729, 5855: 5730, 5856: 5731, 5857: 5732, 5858: 5733, 5859: 5734, 5860: 5735, 5861: 5736, 5862: 5737, 5863: 5738, 5864: 5739, 5865: 5740, 5866: 5741, 5867: 5742, 5868: 5743, 5869: 5744, 5870: 5745, 5871: 5746, 5872: 5747, 5873: 5748, 5874: 5749, 5875: 5750, 5876: 5751, 5877: 5752, 5878: 5753, 5879: 5754, 5880: 5755, 5881: 5756, 5882: 5757, 5883: 5758, 5884: 5759, 5885: 5760, 5886: 5761, 5887: 5762, 5888: 5763, 5889: 5764, 5890: 5765, 5891: 5766, 5892: 5767, 5893: 5768, 5894: 5769, 5895: 5770, 5896: 5771, 5897: 5772, 5898: 5773, 5899: 5774, 5900: 5775, 5901: 5776, 5902: 5777, 5903: 5778, 5904: 5779, 5905: 5780, 5906: 5781, 5907: 5782, 5908: 5783, 5909: 5784, 5910: 5785, 5911: 5786, 5912: 5787, 5913: 5788, 5914: 5789, 5915: 5790, 5916: 5791, 5917: 5792, 5918: 5793, 5919: 5794, 5920: 5795, 5921: 5796, 5922: 5797, 5923: 5798, 5924: 5799, 5925: 5800, 5926: 5801, 5927: 5802, 5928: 5803, 5929: 5804, 5930: 5805, 5931: 5806, 5932: 5807, 5933: 5808, 5934: 5809, 5935: 5810, 5936: 5811, 5937: 5812, 5938: 5813, 5939: 5814, 5940: 5815, 5941: 5816, 5942: 5817, 5943: 5818, 5944: 5819, 5945: 5820, 5946: 5821, 5947: 5822, 5948: 5823, 5949: 5824, 5950: 5825, 5951: 5826, 5952: 5827, 5953: 5828, 5954: 5829, 5955: 5830, 5956: 5831, 5957: 5832, 5958: 5833, 5959: 5834, 5960: 5835, 5961: 5836, 5962: 5837, 5963: 5838, 5964: 5839, 5965: 5840, 5966: 5841, 5967: 5842, 5968: 5843, 5969: 5844, 5970: 5845, 5971: 5846, 5972: 5847, 5973: 5848, 5974: 5849, 5975: 5850, 5976: 5851, 5977: 5852, 5978: 5853, 5979: 5854, 5980: 5855, 5981: 5856, 5982: 5857, 5983: 5858, 5984: 5859, 5985: 5860, 5986: 5861, 5987: 5862, 5988: 5863, 5989: 5864, 5990: 5865, 5991: 5866, 5992: 5867, 5993: 5868, 5994: 5869, 5995: 5870, 5996: 5871, 5997: 5872, 5998: 5873, 5999: 5874, 6000: 5875, 6001: 5876, 6002: 5877, 6003: 5878, 6004: 5879, 6005: 5880, 6006: 5881, 6007: 5882, 6008: 5883, 6009: 5884, 6010: 5885, 6011: 5886, 6012: 5887, 6013: 5888, 6014: 5889, 6015: 5890, 6016: 5891, 6017: 5892, 6018: 5893, 6019: 5894, 6020: 5895, 6021: 5896, 6022: 5897, 6023: 5898, 6024: 5899, 6025: 5900, 6026: 5901, 6027: 5902, 6028: 5903, 6029: 5904, 6030: 5905, 6031: 5906, 6032: 5907, 6033: 5908, 6034: 5909, 6035: 5910, 6036: 5911, 6037: 5912, 6038: 5913, 6039: 5914, 6040: 5915, 6041: 5916, 6042: 5917, 6043: 5918, 6044: 5919, 6045: 5920, 6046: 5921, 6047: 5922, 6048: 5923, 6049: 5924, 6050: 5925, 6051: 5926, 6052: 5927, 6053: 5928, 6054: 5929, 6055: 5930, 6056: 5931, 6057: 5932, 6058: 5933, 6059: 5934, 6060: 5935, 6061: 5936, 6062: 5937, 6063: 5938, 6064: 5939, 6065: 5940, 6066: 5941, 6067: 5942, 6068: 5943, 6069: 5944, 6070: 5945, 6071: 5946, 6072: 5947, 6073: 5948, 6074: 5949, 6075: 5950, 6076: 5951, 6077: 5952, 6078: 5953, 6079: 5954, 6080: 5955, 6081: 5956, 6082: 5957, 6083: 5958, 6084: 5959, 6085: 5960, 6086: 5961, 6087: 5962, 6088: 5963, 6089: 5964, 6090: 5965, 6091: 5966, 6092: 5967, 6093: 5968, 6094: 5969, 6095: 5970, 6096: 5971, 6097: 5972, 6098: 5973, 6099: 5974, 6100: 5975, 6101: 5976, 6102: 5977, 6103: 5978, 6104: 5979, 6105: 5980, 6106: 5981, 6107: 5982, 6108: 5983, 6109: 5984, 6110: 5985, 6111: 5986, 6112: 5987, 6113: 5988, 6114: 5989, 6115: 5990, 6116: 5991, 6117: 5992, 6118: 5993, 6119: 5994, 6120: 5995, 6121: 5996, 6122: 5997, 6123: 5998, 6124: 5999, 6125: 6000, 6126: 6001, 6127: 6002, 6128: 6003, 6129: 6004, 6130: 6005, 6131: 6006, 6132: 6007, 6133: 6008, 6134: 6009, 6135: 6010, 6136: 6011, 6137: 6012, 6138: 6013, 6139: 6014, 6140: 6015, 6141: 6016, 6142: 6017, 6143: 6018, 6144: 6019, 6145: 6020, 6146: 6021, 6147: 6022, 6148: 6023, 6149: 6024, 6150: 6025, 6151: 6026, 6152: 6027, 6153: 6028, 6154: 6029, 6155: 6030, 6156: 6031, 6157: 6032, 6158: 6033, 6159: 6034, 6160: 6035, 6161: 6036, 6162: 6037, 6163: 6038, 6164: 6039, 6165: 6040, 6166: 6041, 6167: 6042, 6168: 6043, 6169: 6044, 6170: 6045, 6171: 6046, 6172: 6047, 6173: 6048, 6174: 6049, 6175: 6050, 6176: 6051, 6177: 6052, 6178: 6053, 6179: 6054, 6180: 6055, 6181: 6056, 6182: 6057, 6183: 6058, 6184: 6059, 6185: 6060, 6186: 6061, 6187: 6062, 6188: 6063, 6189: 6064, 6190: 6065, 6191: 6066, 6192: 6067, 6193: 6068, 6194: 6069, 6195: 6070, 6196: 6071, 6197: 6072, 6198: 6073, 6199: 6074, 6200: 6075, 6201: 6076, 6202: 6077, 6203: 6078, 6204: 6079, 6205: 6080, 6206: 6081, 6207: 6082, 6208: 6083, 6209: 6084, 6210: 6085, 6211: 6086, 6212: 6087, 6213: 6088, 6214: 6089, 6215: 6090, 6216: 6091, 6217: 6092, 6218: 6093, 6219: 6094, 6220: 6095, 6221: 6096, 6222: 6097, 6223: 6098, 6224: 6099, 6225: 6100, 6226: 6101, 6227: 6102, 6228: 6103, 6229: 6104, 6230: 6105, 6231: 6106, 6232: 6107, 6233: 6108, 6234: 6109, 6235: 6110, 6236: 6111, 6237: 6112, 6238: 6113, 6239: 6114, 6240: 6115, 6241: 6116, 6242: 6117, 6243: 6118, 6244: 6119, 6245: 6120, 6246: 6121, 6247: 6122, 6248: 6123, 6249: 6124, 6250: 6125, 6251: 6126, 6252: 6127, 6253: 6128, 6254: 6129, 6255: 6130, 6257: 6131, 6258: 6132, 6259: 6133, 6261: 6134, 6262: 6135, 6263: 6136, 6264: 6137, 6265: 6138, 6266: 6139, 6267: 6140, 6268: 6141, 6269: 6142, 6270: 6143, 6271: 6144, 6272: 6145, 6273: 6146, 6274: 6147, 6275: 6148, 6276: 6149, 6277: 6150, 6278: 6151, 6279: 6152, 6280: 6153, 6281: 6154, 6282: 6155, 6283: 6156, 6284: 6157, 6285: 6158, 6286: 6159, 6287: 6160, 6288: 6161, 6289: 6162, 6290: 6163, 6291: 6164, 6292: 6165, 6293: 6166, 6294: 6167, 6295: 6168, 6296: 6169, 6297: 6170, 6298: 6171, 6299: 6172, 6301: 6173, 6302: 6174, 6303: 6175, 6305: 6176, 6307: 6177, 6308: 6178, 6309: 6179, 6310: 6180, 6311: 6181, 6312: 6182, 6313: 6183, 6314: 6184, 6317: 6185, 6318: 6186, 6319: 6187, 6320: 6188, 6321: 6189, 6322: 6190, 6323: 6191, 6324: 6192, 6325: 6193, 6326: 6194, 6327: 6195, 6328: 6196, 6329: 6197, 6330: 6198, 6331: 6199, 6332: 6200, 6333: 6201, 6334: 6202, 6335: 6203, 6336: 6204, 6337: 6205, 6338: 6206, 6339: 6207, 6340: 6208, 6341: 6209, 6342: 6210, 6343: 6211, 6344: 6212, 6345: 6213, 6346: 6214, 6347: 6215, 6348: 6216, 6349: 6217, 6350: 6218, 6351: 6219, 6352: 6220, 6353: 6221, 6354: 6222, 6355: 6223, 6356: 6224, 6357: 6225, 6358: 6226, 6359: 6227, 6360: 6228, 6361: 6229, 6362: 6230, 6363: 6231, 6364: 6232, 6365: 6233, 6366: 6234, 6367: 6235, 6368: 6236, 6369: 6237, 6370: 6238, 6371: 6239, 6372: 6240, 6373: 6241, 6374: 6242, 6375: 6243, 6376: 6244, 6377: 6245, 6378: 6246, 6379: 6247, 6380: 6248, 6381: 6249, 6382: 6250, 6383: 6251, 6384: 6252, 6385: 6253, 6386: 6254, 6387: 6255, 6388: 6256, 6389: 6257, 6390: 6258, 6391: 6259, 6392: 6260, 6393: 6261, 6394: 6262, 6395: 6263, 6396: 6264, 6397: 6265, 6398: 6266, 6399: 6267, 6400: 6268, 6401: 6269, 6402: 6270, 6403: 6271, 6404: 6272, 6405: 6273, 6407: 6274, 6408: 6275, 6409: 6276, 6410: 6277, 6414: 6278, 6416: 6279, 6417: 6280, 6421: 6281, 6422: 6282, 6424: 6283, 6426: 6284, 6427: 6285, 6428: 6286, 6429: 6287, 6430: 6288, 6431: 6289, 6432: 6290, 6433: 6291, 6434: 6292, 6435: 6293, 6436: 6294, 6437: 6295, 6438: 6296, 6439: 6297, 6440: 6298, 6441: 6299, 6442: 6300, 6443: 6301, 6444: 6302, 6445: 6303, 6446: 6304, 6447: 6305, 6448: 6306, 6449: 6307, 6450: 6308, 6451: 6309, 6452: 6310, 6453: 6311, 6454: 6312, 6455: 6313, 6456: 6314, 6457: 6315, 6458: 6316, 6459: 6317, 6460: 6318, 6461: 6319, 6462: 6320, 6463: 6321, 6464: 6322, 6465: 6323, 6466: 6324, 6467: 6325, 6468: 6326, 6469: 6327, 6470: 6328, 6471: 6329, 6472: 6330, 6473: 6331, 6474: 6332, 6475: 6333, 6476: 6334, 6477: 6335, 6478: 6336, 6479: 6337, 6480: 6338, 6481: 6339, 6482: 6340, 6483: 6341, 6484: 6342, 6485: 6343, 6486: 6344, 6487: 6345, 6488: 6346, 6489: 6347, 6490: 6348, 6491: 6349, 6492: 6350, 6493: 6351, 6494: 6352, 6495: 6353, 6496: 6354, 6497: 6355, 6498: 6356, 6499: 6357, 6500: 6358, 6501: 6359, 6502: 6360, 6503: 6361, 6504: 6362, 6505: 6363, 6506: 6364, 6507: 6365, 6508: 6366, 6509: 6367, 6510: 6368, 6511: 6369, 6512: 6370, 6513: 6371, 6514: 6372, 6515: 6373, 6516: 6374, 6517: 6375, 6518: 6376, 6519: 6377, 6520: 6378, 6521: 6379, 6522: 6380, 6523: 6381, 6524: 6382, 6525: 6383, 6526: 6384, 6527: 6385, 6528: 6386, 6529: 6387, 6530: 6388, 6531: 6389, 6532: 6390, 6533: 6391, 6534: 6392, 6535: 6393, 6536: 6394, 6537: 6395, 6538: 6396, 6539: 6397, 6540: 6398, 6541: 6399, 6542: 6400, 6543: 6401, 6544: 6402, 6545: 6403, 6546: 6404, 6547: 6405, 6548: 6406, 6549: 6407, 6550: 6408, 6551: 6409, 6552: 6410, 6553: 6411, 6554: 6412, 6555: 6413, 6556: 6414, 6557: 6415, 6558: 6416, 6559: 6417, 6560: 6418, 6561: 6419, 6562: 6420, 6563: 6421, 6564: 6422, 6565: 6423, 6566: 6424, 6567: 6425, 6568: 6426, 6569: 6427, 6570: 6428, 6571: 6429, 6572: 6430, 6573: 6431, 6574: 6432, 6575: 6433, 6576: 6434, 6577: 6435, 6578: 6436, 6579: 6437, 6580: 6438, 6581: 6439, 6582: 6440, 6583: 6441, 6584: 6442, 6585: 6443, 6586: 6444, 6587: 6445, 6588: 6446, 6589: 6447, 6590: 6448, 6591: 6449, 6592: 6450, 6593: 6451, 6594: 6452, 6595: 6453, 6596: 6454, 6597: 6455, 6598: 6456, 6599: 6457, 6600: 6458, 6601: 6459, 6602: 6460, 6603: 6461, 6604: 6462, 6605: 6463, 6606: 6464, 6607: 6465, 6608: 6466, 6609: 6467, 6610: 6468, 6611: 6469, 6612: 6470, 6613: 6471, 6614: 6472, 6615: 6473, 6616: 6474, 6617: 6475, 6618: 6476, 6619: 6477, 6620: 6478, 6621: 6479, 6622: 6480, 6623: 6481, 6624: 6482, 6625: 6483, 6626: 6484, 6627: 6485, 6628: 6486, 6629: 6487, 6630: 6488, 6631: 6489, 6632: 6490, 6633: 6491, 6634: 6492, 6635: 6493, 6636: 6494, 6637: 6495, 6638: 6496, 6639: 6497, 6640: 6498, 6641: 6499, 6642: 6500, 6643: 6501, 6644: 6502, 6645: 6503, 6646: 6504, 6647: 6505, 6648: 6506, 6649: 6507, 6650: 6508, 6651: 6509, 6652: 6510, 6653: 6511, 6654: 6512, 6655: 6513, 6656: 6514, 6657: 6515, 6658: 6516, 6659: 6517, 6660: 6518, 6661: 6519, 6662: 6520, 6663: 6521, 6664: 6522, 6665: 6523, 6666: 6524, 6667: 6525, 6668: 6526, 6669: 6527, 6670: 6528, 6671: 6529, 6672: 6530, 6673: 6531, 6674: 6532, 6675: 6533, 6676: 6534, 6677: 6535, 6678: 6536, 6679: 6537, 6680: 6538, 6681: 6539, 6682: 6540, 6683: 6541, 6684: 6542, 6685: 6543, 6686: 6544, 6687: 6545, 6688: 6546, 6689: 6547, 6690: 6548, 6691: 6549, 6692: 6550, 6693: 6551, 6694: 6552, 6695: 6553, 6696: 6554, 6697: 6555, 6698: 6556, 6699: 6557, 6700: 6558, 6701: 6559, 6702: 6560, 6703: 6561, 6704: 6562, 6705: 6563, 6706: 6564, 6707: 6565, 6708: 6566, 6709: 6567, 6710: 6568, 6711: 6569, 6712: 6570, 6713: 6571, 6714: 6572, 6715: 6573, 6716: 6574, 6717: 6575, 6718: 6576, 6719: 6577, 6720: 6578, 6721: 6579, 6722: 6580, 6723: 6581, 6724: 6582, 6726: 6583, 6728: 6584, 6729: 6585, 6730: 6586, 6732: 6587, 6733: 6588, 6734: 6589, 6735: 6590, 6736: 6591, 6737: 6592, 6738: 6593, 6739: 6594, 6740: 6595, 6741: 6596, 6742: 6597, 6743: 6598, 6744: 6599, 6745: 6600, 6746: 6601, 6747: 6602, 6748: 6603, 6749: 6604, 6750: 6605, 6751: 6606, 6752: 6607, 6753: 6608, 6754: 6609, 6755: 6610, 6756: 6611, 6757: 6612, 6758: 6613, 6759: 6614, 6760: 6615, 6761: 6616, 6762: 6617, 6763: 6618, 6764: 6619, 6765: 6620, 6766: 6621, 6767: 6622, 6768: 6623, 6769: 6624, 6770: 6625, 6771: 6626, 6772: 6627, 6773: 6628, 6774: 6629, 6775: 6630, 6776: 6631, 6777: 6632, 6778: 6633, 6779: 6634, 6780: 6635, 6781: 6636, 6782: 6637, 6783: 6638, 6784: 6639, 6785: 6640, 6786: 6641, 6787: 6642, 6788: 6643, 6789: 6644, 6790: 6645, 6791: 6646, 6792: 6647, 6793: 6648, 6794: 6649, 6795: 6650, 6796: 6651, 6797: 6652, 6798: 6653, 6799: 6654, 6800: 6655, 6801: 6656, 6802: 6657, 6803: 6658, 6804: 6659, 6805: 6660, 6806: 6661, 6807: 6662, 6808: 6663, 6809: 6664, 6810: 6665, 6811: 6666, 6812: 6667, 6813: 6668, 6814: 6669, 6815: 6670, 6816: 6671, 6817: 6672, 6818: 6673, 6819: 6674, 6820: 6675, 6821: 6676, 6822: 6677, 6823: 6678, 6824: 6679, 6825: 6680, 6826: 6681, 6827: 6682, 6828: 6683, 6829: 6684, 6830: 6685, 6831: 6686, 6832: 6687, 6833: 6688, 6834: 6689, 6835: 6690, 6836: 6691, 6837: 6692, 6838: 6693, 6839: 6694, 6840: 6695, 6841: 6696, 6842: 6697, 6843: 6698, 6844: 6699, 6845: 6700, 6846: 6701, 6847: 6702, 6848: 6703, 6849: 6704, 6850: 6705, 6851: 6706, 6852: 6707, 6853: 6708, 6854: 6709, 6855: 6710, 6856: 6711, 6857: 6712, 6858: 6713, 6859: 6714, 6860: 6715, 6861: 6716, 6862: 6717, 6863: 6718, 6864: 6719, 6865: 6720, 6866: 6721, 6867: 6722, 6868: 6723, 6869: 6724, 6870: 6725, 6871: 6726, 6872: 6727, 6873: 6728, 6874: 6729, 6875: 6730, 6876: 6731, 6877: 6732, 6878: 6733, 6879: 6734, 6880: 6735, 6881: 6736, 6882: 6737, 6883: 6738, 6884: 6739, 6885: 6740, 6886: 6741, 6887: 6742, 6888: 6743, 6889: 6744, 6890: 6745, 6891: 6746, 6892: 6747, 6893: 6748, 6894: 6749, 6895: 6750, 6896: 6751, 6897: 6752, 6898: 6753, 6899: 6754, 6900: 6755, 6901: 6756, 6902: 6757, 6903: 6758, 6904: 6759, 6905: 6760, 6906: 6761, 6907: 6762, 6908: 6763, 6909: 6764, 6910: 6765, 6911: 6766, 6912: 6767, 6913: 6768, 6914: 6769, 6915: 6770, 6916: 6771, 6917: 6772, 6918: 6773, 6919: 6774, 6920: 6775, 6921: 6776, 6922: 6777, 6923: 6778, 6924: 6779, 6925: 6780, 6926: 6781, 6927: 6782, 6928: 6783, 6929: 6784, 6930: 6785, 6931: 6786, 6932: 6787, 6933: 6788, 6934: 6789, 6935: 6790, 6936: 6791, 6937: 6792, 6938: 6793, 6939: 6794, 6940: 6795, 6941: 6796, 6942: 6797, 6943: 6798, 6944: 6799, 6945: 6800, 6946: 6801, 6947: 6802, 6948: 6803, 6949: 6804, 6950: 6805, 6951: 6806, 6952: 6807, 6953: 6808, 6954: 6809, 6955: 6810, 6956: 6811, 6957: 6812, 6958: 6813, 6959: 6814, 6960: 6815, 6961: 6816, 6962: 6817, 6963: 6818, 6964: 6819, 6965: 6820, 6966: 6821, 6967: 6822, 6968: 6823, 6969: 6824, 6970: 6825, 6971: 6826, 6972: 6827, 6973: 6828, 6974: 6829, 6975: 6830, 6976: 6831, 6977: 6832, 6978: 6833, 6979: 6834, 6980: 6835, 6981: 6836, 6982: 6837, 6983: 6838, 6984: 6839, 6985: 6840, 6986: 6841, 6987: 6842, 6988: 6843, 6989: 6844, 6990: 6845, 6991: 6846, 6992: 6847, 6993: 6848, 6994: 6849, 6995: 6850, 6996: 6851, 6997: 6852, 7002: 6853, 7003: 6854, 7007: 6855, 7008: 6856, 7009: 6857, 7010: 6858, 7011: 6859, 7012: 6860, 7013: 6861, 7014: 6862, 7015: 6863, 7016: 6864, 7017: 6865, 7018: 6866, 7019: 6867, 7020: 6868, 7021: 6869, 7022: 6870, 7023: 6871, 7024: 6872, 7025: 6873, 7026: 6874, 7027: 6875, 7028: 6876, 7029: 6877, 7030: 6878, 7031: 6879, 7032: 6880, 7033: 6881, 7034: 6882, 7035: 6883, 7036: 6884, 7037: 6885, 7038: 6886, 7039: 6887, 7040: 6888, 7041: 6889, 7042: 6890, 7043: 6891, 7044: 6892, 7045: 6893, 7046: 6894, 7047: 6895, 7048: 6896, 7049: 6897, 7050: 6898, 7051: 6899, 7052: 6900, 7053: 6901, 7054: 6902, 7055: 6903, 7056: 6904, 7057: 6905, 7058: 6906, 7059: 6907, 7060: 6908, 7061: 6909, 7062: 6910, 7063: 6911, 7064: 6912, 7065: 6913, 7066: 6914, 7067: 6915, 7068: 6916, 7069: 6917, 7070: 6918, 7071: 6919, 7072: 6920, 7073: 6921, 7074: 6922, 7075: 6923, 7076: 6924, 7077: 6925, 7078: 6926, 7079: 6927, 7080: 6928, 7081: 6929, 7082: 6930, 7083: 6931, 7084: 6932, 7085: 6933, 7086: 6934, 7087: 6935, 7088: 6936, 7089: 6937, 7090: 6938, 7091: 6939, 7092: 6940, 7093: 6941, 7094: 6942, 7095: 6943, 7096: 6944, 7097: 6945, 7098: 6946, 7099: 6947, 7100: 6948, 7101: 6949, 7102: 6950, 7103: 6951, 7104: 6952, 7105: 6953, 7106: 6954, 7107: 6955, 7108: 6956, 7109: 6957, 7110: 6958, 7111: 6959, 7112: 6960, 7113: 6961, 7114: 6962, 7115: 6963, 7116: 6964, 7117: 6965, 7118: 6966, 7119: 6967, 7120: 6968, 7121: 6969, 7122: 6970, 7123: 6971, 7124: 6972, 7125: 6973, 7126: 6974, 7127: 6975, 7128: 6976, 7129: 6977, 7130: 6978, 7131: 6979, 7132: 6980, 7133: 6981, 7134: 6982, 7135: 6983, 7136: 6984, 7137: 6985, 7138: 6986, 7139: 6987, 7140: 6988, 7141: 6989, 7142: 6990, 7143: 6991, 7144: 6992, 7145: 6993, 7146: 6994, 7147: 6995, 7148: 6996, 7149: 6997, 7150: 6998, 7151: 6999, 7152: 7000, 7153: 7001, 7154: 7002, 7155: 7003, 7156: 7004, 7157: 7005, 7158: 7006, 7159: 7007, 7160: 7008, 7161: 7009, 7162: 7010, 7163: 7011, 7164: 7012, 7165: 7013, 7166: 7014, 7167: 7015, 7168: 7016, 7169: 7017, 7170: 7018, 7171: 7019, 7172: 7020, 7173: 7021, 7174: 7022, 7175: 7023, 7176: 7024, 7177: 7025, 7178: 7026, 7179: 7027, 7180: 7028, 7181: 7029, 7182: 7030, 7183: 7031, 7184: 7032, 7185: 7033, 7186: 7034, 7187: 7035, 7188: 7036, 7189: 7037, 7190: 7038, 7191: 7039, 7192: 7040, 7193: 7041, 7194: 7042, 7195: 7043, 7196: 7044, 7197: 7045, 7198: 7046, 7199: 7047, 7200: 7048, 7201: 7049, 7202: 7050, 7203: 7051, 7204: 7052, 7205: 7053, 7206: 7054, 7207: 7055, 7208: 7056, 7209: 7057, 7210: 7058, 7211: 7059, 7212: 7060, 7213: 7061, 7214: 7062, 7215: 7063, 7216: 7064, 7217: 7065, 7218: 7066, 7219: 7067, 7220: 7068, 7221: 7069, 7222: 7070, 7223: 7071, 7224: 7072, 7225: 7073, 7226: 7074, 7227: 7075, 7228: 7076, 7229: 7077, 7230: 7078, 7231: 7079, 7232: 7080, 7233: 7081, 7234: 7082, 7235: 7083, 7236: 7084, 7237: 7085, 7238: 7086, 7239: 7087, 7240: 7088, 7241: 7089, 7242: 7090, 7243: 7091, 7244: 7092, 7245: 7093, 7246: 7094, 7247: 7095, 7248: 7096, 7249: 7097, 7250: 7098, 7251: 7099, 7252: 7100, 7253: 7101, 7254: 7102, 7255: 7103, 7256: 7104, 7257: 7105, 7258: 7106, 7259: 7107, 7260: 7108, 7261: 7109, 7262: 7110, 7263: 7111, 7264: 7112, 7265: 7113, 7266: 7114, 7267: 7115, 7268: 7116, 7269: 7117, 7270: 7118, 7271: 7119, 7272: 7120, 7273: 7121, 7274: 7122, 7275: 7123, 7276: 7124, 7277: 7125, 7278: 7126, 7279: 7127, 7280: 7128, 7281: 7129, 7282: 7130, 7283: 7131, 7284: 7132, 7285: 7133, 7286: 7134, 7287: 7135, 7288: 7136, 7289: 7137, 7290: 7138, 7291: 7139, 7292: 7140, 7293: 7141, 7294: 7142, 7295: 7143, 7296: 7144, 7297: 7145, 7298: 7146, 7299: 7147, 7300: 7148, 7301: 7149, 7302: 7150, 7303: 7151, 7304: 7152, 7305: 7153, 7306: 7154, 7307: 7155, 7308: 7156, 7309: 7157, 7310: 7158, 7311: 7159, 7312: 7160, 7313: 7161, 7314: 7162, 7315: 7163, 7316: 7164, 7317: 7165, 7318: 7166, 7319: 7167, 7320: 7168, 7321: 7169, 7322: 7170, 7323: 7171, 7324: 7172, 7325: 7173, 7326: 7174, 7327: 7175, 7328: 7176, 7329: 7177, 7330: 7178, 7331: 7179, 7332: 7180, 7333: 7181, 7334: 7182, 7335: 7183, 7336: 7184, 7337: 7185, 7338: 7186, 7339: 7187, 7340: 7188, 7341: 7189, 7342: 7190, 7343: 7191, 7344: 7192, 7345: 7193, 7346: 7194, 7347: 7195, 7348: 7196, 7349: 7197, 7350: 7198, 7351: 7199, 7352: 7200, 7353: 7201, 7354: 7202, 7355: 7203, 7356: 7204, 7357: 7205, 7362: 7206, 7363: 7207, 7364: 7208, 7365: 7209, 7366: 7210, 7367: 7211, 7368: 7212, 7369: 7213, 7370: 7214, 7371: 7215, 7372: 7216, 7373: 7217, 7374: 7218, 7375: 7219, 7376: 7220, 7377: 7221, 7378: 7222, 7379: 7223, 7380: 7224, 7381: 7225, 7382: 7226, 7383: 7227, 7384: 7228, 7385: 7229, 7386: 7230, 7387: 7231, 7388: 7232, 7389: 7233, 7390: 7234, 7391: 7235, 7392: 7236, 7393: 7237, 7394: 7238, 7395: 7239, 7396: 7240, 7397: 7241, 7398: 7242, 7399: 7243, 7400: 7244, 7401: 7245, 7402: 7246, 7403: 7247, 7404: 7248, 7405: 7249, 7406: 7250, 7407: 7251, 7408: 7252, 7409: 7253, 7410: 7254, 7411: 7255, 7412: 7256, 7413: 7257, 7414: 7258, 7415: 7259, 7416: 7260, 7417: 7261, 7418: 7262, 7419: 7263, 7420: 7264, 7421: 7265, 7422: 7266, 7423: 7267, 7424: 7268, 7425: 7269, 7426: 7270, 7427: 7271, 7428: 7272, 7429: 7273, 7430: 7274, 7431: 7275, 7432: 7276, 7433: 7277, 7434: 7278, 7435: 7279, 7436: 7280, 7437: 7281, 7438: 7282, 7439: 7283, 7440: 7284, 7441: 7285, 7442: 7286, 7443: 7287, 7444: 7288, 7445: 7289, 7446: 7290, 7447: 7291, 7448: 7292, 7449: 7293, 7450: 7294, 7451: 7295, 7452: 7296, 7453: 7297, 7454: 7298, 7455: 7299, 7456: 7300, 7457: 7301, 7458: 7302, 7459: 7303, 7460: 7304, 7461: 7305, 7462: 7306, 7463: 7307, 7464: 7308, 7465: 7309, 7466: 7310, 7467: 7311, 7468: 7312, 7469: 7313, 7470: 7314, 7471: 7315, 7472: 7316, 7473: 7317, 7474: 7318, 7475: 7319, 7476: 7320, 7477: 7321, 7478: 7322, 7479: 7323, 7480: 7324, 7481: 7325, 7482: 7326, 7483: 7327, 7484: 7328, 7485: 7329, 7486: 7330, 7487: 7331, 7488: 7332, 7489: 7333, 7490: 7334, 7491: 7335, 7492: 7336, 7493: 7337, 7494: 7338, 7495: 7339, 7496: 7340, 7497: 7341, 7498: 7342, 7499: 7343, 7500: 7344, 7501: 7345, 7502: 7346, 7503: 7347, 7504: 7348, 7505: 7349, 7506: 7350, 7507: 7351, 7509: 7352, 7511: 7353, 7512: 7354, 7513: 7355, 7514: 7356, 7515: 7357, 7516: 7358, 7517: 7359, 7518: 7360, 7519: 7361, 7520: 7362, 7521: 7363, 7522: 7364, 7523: 7365, 7524: 7366, 7525: 7367, 7526: 7368, 7527: 7369, 7528: 7370, 7529: 7371, 7530: 7372, 7531: 7373, 7532: 7374, 7533: 7375, 7534: 7376, 7535: 7377, 7536: 7378, 7537: 7379, 7538: 7380, 7539: 7381, 7540: 7382, 7541: 7383, 7542: 7384, 7543: 7385, 7544: 7386, 7545: 7387, 7546: 7388, 7547: 7389, 7548: 7390, 7549: 7391, 7550: 7392, 7551: 7393, 7552: 7394, 7553: 7395, 7554: 7396, 7555: 7397, 7556: 7398, 7557: 7399, 7558: 7400, 7559: 7401, 7560: 7402, 7561: 7403, 7562: 7404, 7563: 7405, 7564: 7406, 7565: 7407, 7566: 7408, 7567: 7409, 7568: 7410, 7569: 7411, 7570: 7412, 7571: 7413, 7572: 7414, 7573: 7415, 7574: 7416, 7575: 7417, 7576: 7418, 7577: 7419, 7578: 7420, 7579: 7421, 7580: 7422, 7581: 7423, 7582: 7424, 7583: 7425, 7584: 7426, 7585: 7427, 7586: 7428, 7587: 7429, 7588: 7430, 7589: 7431, 7590: 7432, 7591: 7433, 7592: 7434, 7593: 7435, 7594: 7436, 7595: 7437, 7596: 7438, 7597: 7439, 7598: 7440, 7599: 7441, 7600: 7442, 7601: 7443, 7602: 7444, 7603: 7445, 7604: 7446, 7605: 7447, 7606: 7448, 7607: 7449, 7608: 7450, 7609: 7451, 7610: 7452, 7611: 7453, 7612: 7454, 7613: 7455, 7614: 7456, 7615: 7457, 7616: 7458, 7617: 7459, 7618: 7460, 7619: 7461, 7620: 7462, 7621: 7463, 7622: 7464, 7623: 7465, 7624: 7466, 7625: 7467, 7626: 7468, 7627: 7469, 7628: 7470, 7629: 7471, 7630: 7472, 7631: 7473, 7632: 7474, 7633: 7475, 7634: 7476, 7635: 7477, 7636: 7478, 7637: 7479, 7638: 7480, 7639: 7481, 7640: 7482, 7641: 7483, 7642: 7484, 7643: 7485, 7644: 7486, 7645: 7487, 7646: 7488, 7647: 7489, 7648: 7490, 7649: 7491, 7650: 7492, 7651: 7493, 7652: 7494, 7653: 7495, 7654: 7496, 7655: 7497, 7656: 7498, 7657: 7499, 7658: 7500, 7659: 7501, 7660: 7502, 7661: 7503, 7662: 7504, 7663: 7505, 7664: 7506, 7665: 7507, 7666: 7508, 7667: 7509, 7668: 7510, 7669: 7511, 7670: 7512, 7671: 7513, 7672: 7514, 7673: 7515, 7674: 7516, 7675: 7517, 7676: 7518, 7677: 7519, 7678: 7520, 7679: 7521, 7680: 7522, 7681: 7523, 7682: 7524, 7683: 7525, 7684: 7526, 7685: 7527, 7686: 7528, 7687: 7529, 7688: 7530, 7689: 7531, 7690: 7532, 7691: 7533, 7692: 7534, 7693: 7535, 7694: 7536, 7695: 7537, 7696: 7538, 7697: 7539, 7698: 7540, 7699: 7541, 7700: 7542, 7701: 7543, 7702: 7544, 7703: 7545, 7704: 7546, 7705: 7547, 7706: 7548, 7707: 7549, 7708: 7550, 7709: 7551, 7710: 7552, 7711: 7553, 7712: 7554, 7713: 7555, 7714: 7556, 7715: 7557, 7716: 7558, 7717: 7559, 7718: 7560, 7719: 7561, 7720: 7562, 7721: 7563, 7722: 7564, 7723: 7565, 7724: 7566, 7725: 7567, 7727: 7568, 7728: 7569, 7730: 7570, 7733: 7571, 7734: 7572, 7735: 7573, 7736: 7574, 7737: 7575, 7738: 7576, 7739: 7577, 7740: 7578, 7741: 7579, 7742: 7580, 7743: 7581, 7744: 7582, 7745: 7583, 7746: 7584, 7747: 7585, 7748: 7586, 7749: 7587, 7750: 7588, 7751: 7589, 7752: 7590, 7753: 7591, 7754: 7592, 7756: 7593, 7759: 7594, 7760: 7595, 7766: 7596, 7767: 7597, 7775: 7598, 7776: 7599, 7777: 7600, 7778: 7601, 7779: 7602, 7780: 7603, 7781: 7604, 7782: 7605, 7787: 7606, 7789: 7607, 7791: 7608, 7792: 7609, 7793: 7610, 7794: 7611, 7795: 7612, 7796: 7613, 7797: 7614, 7798: 7615, 7799: 7616, 7800: 7617, 7801: 7618, 7802: 7619, 7803: 7620, 7804: 7621, 7805: 7622, 7806: 7623, 7807: 7624, 7808: 7625, 7809: 7626, 7810: 7627, 7811: 7628, 7812: 7629, 7813: 7630, 7814: 7631, 7815: 7632, 7816: 7633, 7817: 7634, 7818: 7635, 7819: 7636, 7820: 7637, 7821: 7638, 7822: 7639, 7823: 7640, 7824: 7641, 7825: 7642, 7826: 7643, 7827: 7644, 7828: 7645, 7829: 7646, 7830: 7647, 7831: 7648, 7832: 7649, 7833: 7650, 7834: 7651, 7835: 7652, 7836: 7653, 7837: 7654, 7838: 7655, 7839: 7656, 7840: 7657, 7841: 7658, 7842: 7659, 7843: 7660, 7844: 7661, 7845: 7662, 7846: 7663, 7847: 7664, 7848: 7665, 7849: 7666, 7850: 7667, 7851: 7668, 7852: 7669, 7853: 7670, 7854: 7671, 7855: 7672, 7856: 7673, 7857: 7674, 7858: 7675, 7859: 7676, 7860: 7677, 7861: 7678, 7862: 7679, 7863: 7680, 7864: 7681, 7865: 7682, 7866: 7683, 7867: 7684, 7868: 7685, 7869: 7686, 7870: 7687, 7871: 7688, 7872: 7689, 7873: 7690, 7874: 7691, 7875: 7692, 7876: 7693, 7877: 7694, 7878: 7695, 7879: 7696, 7880: 7697, 7881: 7698, 7882: 7699, 7883: 7700, 7884: 7701, 7885: 7702, 7886: 7703, 7887: 7704, 7888: 7705, 7889: 7706, 7890: 7707, 7891: 7708, 7892: 7709, 7893: 7710, 7894: 7711, 7895: 7712, 7896: 7713, 7897: 7714, 7898: 7715, 7899: 7716, 7900: 7717, 7901: 7718, 7902: 7719, 7903: 7720, 7904: 7721, 7905: 7722, 7906: 7723, 7907: 7724, 7908: 7725, 7909: 7726, 7910: 7727, 7911: 7728, 7912: 7729, 7913: 7730, 7914: 7731, 7915: 7732, 7916: 7733, 7917: 7734, 7918: 7735, 7919: 7736, 7920: 7737, 7921: 7738, 7922: 7739, 7923: 7740, 7924: 7741, 7925: 7742, 7926: 7743, 7927: 7744, 7928: 7745, 7929: 7746, 7930: 7747, 7931: 7748, 7932: 7749, 7933: 7750, 7934: 7751, 7935: 7752, 7936: 7753, 7937: 7754, 7938: 7755, 7939: 7756, 7940: 7757, 7941: 7758, 7942: 7759, 7943: 7760, 7944: 7761, 7945: 7762, 7946: 7763, 7947: 7764, 7948: 7765, 7949: 7766, 7950: 7767, 7951: 7768, 7952: 7769, 7953: 7770, 7954: 7771, 7955: 7772, 7956: 7773, 7957: 7774, 7958: 7775, 7959: 7776, 7960: 7777, 7961: 7778, 7962: 7779, 7963: 7780, 7964: 7781, 7965: 7782, 7966: 7783, 7967: 7784, 7968: 7785, 7969: 7786, 7970: 7787, 7971: 7788, 7972: 7789, 7973: 7790, 7974: 7791, 7975: 7792, 7976: 7793, 7977: 7794, 7978: 7795, 7979: 7796, 7980: 7797, 7981: 7798, 7982: 7799, 7983: 7800, 7984: 7801, 7985: 7802, 7986: 7803, 7987: 7804, 7988: 7805, 7989: 7806, 7990: 7807, 7991: 7808, 7992: 7809, 7993: 7810, 7994: 7811, 7995: 7812, 7996: 7813, 7997: 7814, 7998: 7815, 7999: 7816, 8000: 7817, 8001: 7818, 8002: 7819, 8003: 7820, 8004: 7821, 8005: 7822, 8006: 7823, 8007: 7824, 8008: 7825, 8009: 7826, 8012: 7827, 8013: 7828, 8014: 7829, 8015: 7830, 8016: 7831, 8017: 7832, 8018: 7833, 8019: 7834, 8020: 7835, 8021: 7836, 8022: 7837, 8023: 7838, 8024: 7839, 8025: 7840, 8026: 7841, 8027: 7842, 8028: 7843, 8029: 7844, 8030: 7845, 8031: 7846, 8032: 7847, 8033: 7848, 8034: 7849, 8035: 7850, 8036: 7851, 8037: 7852, 8038: 7853, 8039: 7854, 8040: 7855, 8041: 7856, 8042: 7857, 8043: 7858, 8044: 7859, 8045: 7860, 8046: 7861, 8047: 7862, 8048: 7863, 8049: 7864, 8050: 7865, 8051: 7866, 8052: 7867, 8053: 7868, 8054: 7869, 8055: 7870, 8056: 7871, 8057: 7872, 8058: 7873, 8059: 7874, 8060: 7875, 8061: 7876, 8062: 7877, 8063: 7878, 8064: 7879, 8065: 7880, 8066: 7881, 8067: 7882, 8068: 7883, 8069: 7884, 8070: 7885, 8071: 7886, 8072: 7887, 8073: 7888, 8074: 7889, 8075: 7890, 8076: 7891, 8077: 7892, 8078: 7893, 8079: 7894, 8080: 7895, 8081: 7896, 8082: 7897, 8083: 7898, 8084: 7899, 8085: 7900, 8086: 7901, 8087: 7902, 8088: 7903, 8089: 7904, 8090: 7905, 8091: 7906, 8092: 7907, 8093: 7908, 8094: 7909, 8095: 7910, 8096: 7911, 8097: 7912, 8098: 7913, 8099: 7914, 8100: 7915, 8101: 7916, 8102: 7917, 8103: 7918, 8104: 7919, 8105: 7920, 8106: 7921, 8107: 7922, 8108: 7923, 8109: 7924, 8110: 7925, 8111: 7926, 8112: 7927, 8113: 7928, 8114: 7929, 8115: 7930, 8116: 7931, 8117: 7932, 8118: 7933, 8119: 7934, 8120: 7935, 8121: 7936, 8122: 7937, 8123: 7938, 8124: 7939, 8125: 7940, 8126: 7941, 8127: 7942, 8128: 7943, 8129: 7944, 8130: 7945, 8136: 7946, 8140: 7947, 8141: 7948, 8142: 7949, 8143: 7950, 8144: 7951, 8145: 7952, 8146: 7953, 8147: 7954, 8148: 7955, 8149: 7956, 8150: 7957, 8151: 7958, 8152: 7959, 8153: 7960, 8154: 7961, 8155: 7962, 8156: 7963, 8157: 7964, 8158: 7965, 8159: 7966, 8160: 7967, 8161: 7968, 8162: 7969, 8163: 7970, 8164: 7971, 8165: 7972, 8166: 7973, 8167: 7974, 8168: 7975, 8169: 7976, 8170: 7977, 8171: 7978, 8172: 7979, 8173: 7980, 8174: 7981, 8175: 7982, 8176: 7983, 8177: 7984, 8178: 7985, 8179: 7986, 8180: 7987, 8181: 7988, 8182: 7989, 8183: 7990, 8184: 7991, 8185: 7992, 8186: 7993, 8187: 7994, 8188: 7995, 8189: 7996, 8190: 7997, 8191: 7998, 8192: 7999, 8193: 8000, 8194: 8001, 8195: 8002, 8196: 8003, 8197: 8004, 8198: 8005, 8199: 8006, 8200: 8007, 8201: 8008, 8202: 8009, 8203: 8010, 8204: 8011, 8205: 8012, 8206: 8013, 8207: 8014, 8208: 8015, 8209: 8016, 8210: 8017, 8211: 8018, 8212: 8019, 8213: 8020, 8214: 8021, 8215: 8022, 8216: 8023, 8217: 8024, 8218: 8025, 8219: 8026, 8220: 8027, 8221: 8028, 8222: 8029, 8223: 8030, 8224: 8031, 8225: 8032, 8226: 8033, 8227: 8034, 8228: 8035, 8229: 8036, 8230: 8037, 8231: 8038, 8232: 8039, 8233: 8040, 8234: 8041, 8235: 8042, 8236: 8043, 8237: 8044, 8238: 8045, 8239: 8046, 8240: 8047, 8241: 8048, 8242: 8049, 8243: 8050, 8244: 8051, 8245: 8052, 8246: 8053, 8247: 8054, 8248: 8055, 8249: 8056, 8250: 8057, 8251: 8058, 8252: 8059, 8253: 8060, 8254: 8061, 8255: 8062, 8256: 8063, 8257: 8064, 8258: 8065, 8259: 8066, 8260: 8067, 8261: 8068, 8262: 8069, 8263: 8070, 8264: 8071, 8265: 8072, 8266: 8073, 8267: 8074, 8268: 8075, 8269: 8076, 8270: 8077, 8271: 8078, 8272: 8079, 8273: 8080, 8274: 8081, 8275: 8082, 8276: 8083, 8277: 8084, 8278: 8085, 8279: 8086, 8280: 8087, 8281: 8088, 8282: 8089, 8283: 8090, 8284: 8091, 8285: 8092, 8286: 8093, 8287: 8094, 8288: 8095, 8289: 8096, 8290: 8097, 8291: 8098, 8292: 8099, 8293: 8100, 8294: 8101, 8295: 8102, 8296: 8103, 8297: 8104, 8298: 8105, 8299: 8106, 8300: 8107, 8301: 8108, 8302: 8109, 8303: 8110, 8304: 8111, 8305: 8112, 8306: 8113, 8307: 8114, 8308: 8115, 8309: 8116, 8310: 8117, 8311: 8118, 8312: 8119, 8313: 8120, 8314: 8121, 8315: 8122, 8316: 8123, 8317: 8124, 8318: 8125, 8319: 8126, 8320: 8127, 8321: 8128, 8322: 8129, 8323: 8130, 8324: 8131, 8325: 8132, 8326: 8133, 8327: 8134, 8328: 8135, 8329: 8136, 8330: 8137, 8331: 8138, 8332: 8139, 8333: 8140, 8334: 8141, 8335: 8142, 8336: 8143, 8337: 8144, 8338: 8145, 8339: 8146, 8340: 8147, 8341: 8148, 8342: 8149, 8343: 8150, 8344: 8151, 8345: 8152, 8346: 8153, 8347: 8154, 8348: 8155, 8349: 8156, 8350: 8157, 8351: 8158, 8352: 8159, 8353: 8160, 8354: 8161, 8355: 8162, 8356: 8163, 8357: 8164, 8358: 8165, 8359: 8166, 8360: 8167, 8361: 8168, 8362: 8169, 8363: 8170, 8364: 8171, 8365: 8172, 8366: 8173, 8367: 8174, 8368: 8175, 8369: 8176, 8370: 8177, 8371: 8178, 8372: 8179, 8373: 8180, 8374: 8181, 8375: 8182, 8376: 8183, 8377: 8184, 8378: 8185, 8379: 8186, 8380: 8187, 8381: 8188, 8382: 8189, 8383: 8190, 8384: 8191, 8385: 8192, 8386: 8193, 8387: 8194, 8388: 8195, 8389: 8196, 8390: 8197, 8392: 8198, 8394: 8199, 8396: 8200, 8397: 8201, 8398: 8202, 8400: 8203, 8401: 8204, 8403: 8205, 8404: 8206, 8405: 8207, 8407: 8208, 8408: 8209, 8409: 8210, 8410: 8211, 8411: 8212, 8412: 8213, 8413: 8214, 8414: 8215, 8415: 8216, 8416: 8217, 8417: 8218, 8418: 8219, 8420: 8220, 8422: 8221, 8423: 8222, 8424: 8223, 8425: 8224, 8426: 8225, 8427: 8226, 8428: 8227, 8429: 8228, 8430: 8229, 8431: 8230, 8432: 8231, 8433: 8232, 8434: 8233, 8435: 8234, 8436: 8235, 8437: 8236, 8438: 8237, 8439: 8238, 8440: 8239, 8441: 8240, 8442: 8241, 8443: 8242, 8444: 8243, 8445: 8244, 8446: 8245, 8447: 8246, 8448: 8247, 8449: 8248, 8450: 8249, 8451: 8250, 8452: 8251, 8453: 8252, 8454: 8253, 8455: 8254, 8456: 8255, 8457: 8256, 8458: 8257, 8459: 8258, 8460: 8259, 8461: 8260, 8462: 8261, 8463: 8262, 8464: 8263, 8465: 8264, 8466: 8265, 8467: 8266, 8468: 8267, 8469: 8268, 8470: 8269, 8471: 8270, 8472: 8271, 8473: 8272, 8474: 8273, 8475: 8274, 8476: 8275, 8477: 8276, 8478: 8277, 8479: 8278, 8480: 8279, 8481: 8280, 8482: 8281, 8483: 8282, 8484: 8283, 8485: 8284, 8486: 8285, 8487: 8286, 8488: 8287, 8489: 8288, 8490: 8289, 8491: 8290, 8492: 8291, 8493: 8292, 8494: 8293, 8495: 8294, 8496: 8295, 8497: 8296, 8498: 8297, 8499: 8298, 8500: 8299, 8501: 8300, 8502: 8301, 8503: 8302, 8504: 8303, 8505: 8304, 8506: 8305, 8507: 8306, 8508: 8307, 8509: 8308, 8510: 8309, 8511: 8310, 8512: 8311, 8513: 8312, 8514: 8313, 8515: 8314, 8516: 8315, 8517: 8316, 8518: 8317, 8519: 8318, 8520: 8319, 8521: 8320, 8522: 8321, 8523: 8322, 8524: 8323, 8525: 8324, 8526: 8325, 8527: 8326, 8528: 8327, 8529: 8328, 8530: 8329, 8531: 8330, 8532: 8331, 8533: 8332, 8534: 8333, 8535: 8334, 8536: 8335, 8537: 8336, 8538: 8337, 8539: 8338, 8540: 8339, 8541: 8340, 8542: 8341, 8543: 8342, 8544: 8343, 8545: 8344, 8546: 8345, 8547: 8346, 8548: 8347, 8549: 8348, 8550: 8349, 8551: 8350, 8552: 8351, 8553: 8352, 8554: 8353, 8555: 8354, 8556: 8355, 8557: 8356, 8558: 8357, 8559: 8358, 8560: 8359, 8561: 8360, 8562: 8361, 8563: 8362, 8564: 8363, 8565: 8364, 8566: 8365, 8567: 8366, 8568: 8367, 8569: 8368, 8570: 8369, 8571: 8370, 8572: 8371, 8573: 8372, 8574: 8373, 8575: 8374, 8576: 8375, 8577: 8376, 8578: 8377, 8579: 8378, 8580: 8379, 8581: 8380, 8582: 8381, 8583: 8382, 8584: 8383, 8585: 8384, 8586: 8385, 8587: 8386, 8588: 8387, 8589: 8388, 8590: 8389, 8591: 8390, 8592: 8391, 8593: 8392, 8594: 8393, 8595: 8394, 8596: 8395, 8597: 8396, 8598: 8397, 8599: 8398, 8600: 8399, 8601: 8400, 8602: 8401, 8603: 8402, 8604: 8403, 8605: 8404, 8606: 8405, 8607: 8406, 8608: 8407, 8609: 8408, 8610: 8409, 8611: 8410, 8612: 8411, 8613: 8412, 8614: 8413, 8615: 8414, 8616: 8415, 8617: 8416, 8618: 8417, 8619: 8418, 8620: 8419, 8621: 8420, 8622: 8421, 8623: 8422, 8624: 8423, 8625: 8424, 8626: 8425, 8627: 8426, 8628: 8427, 8629: 8428, 8630: 8429, 8631: 8430, 8632: 8431, 8633: 8432, 8634: 8433, 8635: 8434, 8636: 8435, 8637: 8436, 8638: 8437, 8639: 8438, 8640: 8439, 8641: 8440, 8642: 8441, 8643: 8442, 8644: 8443, 8645: 8444, 8646: 8445, 8647: 8446, 8648: 8447, 8649: 8448, 8650: 8449, 8651: 8450, 8652: 8451, 8653: 8452, 8654: 8453, 8655: 8454, 8656: 8455, 8657: 8456, 8658: 8457, 8659: 8458, 8660: 8459, 8661: 8460, 8662: 8461, 8663: 8462, 8664: 8463, 8665: 8464, 8666: 8465, 8667: 8466, 8668: 8467, 8669: 8468, 8670: 8469, 8671: 8470, 8672: 8471, 8673: 8472, 8674: 8473, 8675: 8474, 8676: 8475, 8677: 8476, 8678: 8477, 8679: 8478, 8680: 8479, 8681: 8480, 8682: 8481, 8684: 8482, 8689: 8483, 8690: 8484, 8691: 8485, 8692: 8486, 8693: 8487, 8694: 8488, 8695: 8489, 8696: 8490, 8697: 8491, 8698: 8492, 8699: 8493, 8700: 8494, 8701: 8495, 8702: 8496, 8703: 8497, 8704: 8498, 8705: 8499, 8706: 8500, 8707: 8501, 8708: 8502, 8709: 8503, 8710: 8504, 8711: 8505, 8712: 8506, 8713: 8507, 8714: 8508, 8715: 8509, 8716: 8510, 8718: 8511, 8721: 8512, 8722: 8513, 8724: 8514, 8725: 8515, 8726: 8516, 8727: 8517, 8728: 8518, 8729: 8519, 8730: 8520, 8731: 8521, 8732: 8522, 8733: 8523, 8734: 8524, 8735: 8525, 8736: 8526, 8737: 8527, 8738: 8528, 8739: 8529, 8740: 8530, 8741: 8531, 8742: 8532, 8743: 8533, 8744: 8534, 8745: 8535, 8746: 8536, 8747: 8537, 8748: 8538, 8749: 8539, 8750: 8540, 8751: 8541, 8752: 8542, 8753: 8543, 8754: 8544, 8755: 8545, 8756: 8546, 8757: 8547, 8758: 8548, 8759: 8549, 8760: 8550, 8761: 8551, 8762: 8552, 8763: 8553, 8764: 8554, 8765: 8555, 8766: 8556, 8767: 8557, 8768: 8558, 8769: 8559, 8770: 8560, 8771: 8561, 8772: 8562, 8773: 8563, 8774: 8564, 8775: 8565, 8776: 8566, 8777: 8567, 8778: 8568, 8779: 8569, 8780: 8570, 8781: 8571, 8782: 8572, 8783: 8573, 8784: 8574, 8785: 8575, 8786: 8576, 8787: 8577, 8788: 8578, 8789: 8579, 8790: 8580, 8791: 8581, 8792: 8582, 8793: 8583, 8794: 8584, 8795: 8585, 8796: 8586, 8797: 8587, 8798: 8588, 8799: 8589, 8800: 8590, 8801: 8591, 8802: 8592, 8803: 8593, 8804: 8594, 8805: 8595, 8806: 8596, 8807: 8597, 8808: 8598, 8809: 8599, 8810: 8600, 8811: 8601, 8812: 8602, 8813: 8603, 8814: 8604, 8815: 8605, 8816: 8606, 8817: 8607, 8818: 8608, 8819: 8609, 8820: 8610, 8821: 8611, 8822: 8612, 8823: 8613, 8824: 8614, 8825: 8615, 8826: 8616, 8827: 8617, 8828: 8618, 8829: 8619, 8830: 8620, 8831: 8621, 8832: 8622, 8833: 8623, 8834: 8624, 8835: 8625, 8836: 8626, 8837: 8627, 8838: 8628, 8839: 8629, 8840: 8630, 8841: 8631, 8842: 8632, 8843: 8633, 8844: 8634, 8845: 8635, 8846: 8636, 8847: 8637, 8848: 8638, 8849: 8639, 8850: 8640, 8851: 8641, 8852: 8642, 8853: 8643, 8854: 8644, 8855: 8645, 8856: 8646, 8857: 8647, 8858: 8648, 8859: 8649, 8860: 8650, 8861: 8651, 8862: 8652, 8863: 8653, 8864: 8654, 8865: 8655, 8866: 8656, 8867: 8657, 8868: 8658, 8869: 8659, 8870: 8660, 8871: 8661, 8873: 8662, 8876: 8663, 8878: 8664, 8881: 8665, 8882: 8666, 8883: 8667, 8884: 8668, 8885: 8669, 8886: 8670, 8887: 8671, 8888: 8672, 8889: 8673, 8890: 8674, 8891: 8675, 8892: 8676, 8893: 8677, 8894: 8678, 8895: 8679, 8896: 8680, 8897: 8681, 8898: 8682, 8899: 8683, 8900: 8684, 8901: 8685, 8902: 8686, 8903: 8687, 8904: 8688, 8905: 8689, 8906: 8690, 8907: 8691, 8908: 8692, 8909: 8693, 8910: 8694, 8911: 8695, 8912: 8696, 8913: 8697, 8914: 8698, 8915: 8699, 8916: 8700, 8917: 8701, 8918: 8702, 8919: 8703, 8920: 8704, 8921: 8705, 8925: 8706, 8927: 8707, 8929: 8708, 8930: 8709, 8931: 8710, 8932: 8711, 8933: 8712, 8934: 8713, 8936: 8714, 8937: 8715, 8945: 8716, 8947: 8717, 8948: 8718, 8951: 8719, 8953: 8720, 8954: 8721, 8955: 8722, 8956: 8723, 8957: 8724, 8958: 8725, 8959: 8726, 8960: 8727, 8961: 8728, 8962: 8729, 8963: 8730, 8964: 8731, 8965: 8732, 8966: 8733, 8967: 8734, 8968: 8735, 8969: 8736, 8970: 8737, 8971: 8738, 8972: 8739, 8973: 8740, 8974: 8741, 8975: 8742, 8976: 8743, 8977: 8744, 8978: 8745, 8979: 8746, 8980: 8747, 8981: 8748, 8982: 8749, 8983: 8750, 8984: 8751, 8985: 8752, 8986: 8753, 8987: 8754, 8988: 8755, 8989: 8756, 8990: 8757, 8991: 8758, 8992: 8759, 8993: 8760, 8994: 8761, 8995: 8762, 8996: 8763, 8997: 8764, 8998: 8765, 8999: 8766, 9000: 8767, 9001: 8768, 9002: 8769, 9003: 8770, 9004: 8771, 9005: 8772, 9006: 8773, 9007: 8774, 9008: 8775, 9009: 8776, 9010: 8777, 9011: 8778, 9012: 8779, 9013: 8780, 9014: 8781, 9015: 8782, 9016: 8783, 9017: 8784, 9018: 8785, 9019: 8786, 9020: 8787, 9021: 8788, 9022: 8789, 9023: 8790, 9024: 8791, 9025: 8792, 9026: 8793, 9027: 8794, 9028: 8795, 9029: 8796, 9030: 8797, 9031: 8798, 9032: 8799, 9033: 8800, 9034: 8801, 9035: 8802, 9036: 8803, 9037: 8804, 9038: 8805, 9039: 8806, 9040: 8807, 9041: 8808, 9042: 8809, 9043: 8810, 9044: 8811, 9045: 8812, 9046: 8813, 9047: 8814, 9048: 8815, 9049: 8816, 9050: 8817, 9051: 8818, 9052: 8819, 9053: 8820, 9054: 8821, 9055: 8822, 9056: 8823, 9057: 8824, 9058: 8825, 9059: 8826, 9060: 8827, 9061: 8828, 9062: 8829, 9063: 8830, 9064: 8831, 9065: 8832, 9066: 8833, 9067: 8834, 9068: 8835, 9069: 8836, 9070: 8837, 9071: 8838, 9072: 8839, 9073: 8840, 9074: 8841, 9075: 8842, 9076: 8843, 9077: 8844, 9078: 8845, 9079: 8846, 9080: 8847, 9081: 8848, 9082: 8849, 9083: 8850, 9084: 8851, 9085: 8852, 9086: 8853, 9087: 8854, 9088: 8855, 9089: 8856, 9090: 8857, 9091: 8858, 9092: 8859, 9093: 8860, 9094: 8861, 9095: 8862, 9096: 8863, 9097: 8864, 9098: 8865, 9099: 8866, 9100: 8867, 9101: 8868, 9102: 8869, 9103: 8870, 9104: 8871, 9105: 8872, 9106: 8873, 9107: 8874, 9108: 8875, 9109: 8876, 9110: 8877, 9111: 8878, 9112: 8879, 9113: 8880, 9114: 8881, 9115: 8882, 9116: 8883, 9117: 8884, 9118: 8885, 9119: 8886, 9120: 8887, 9121: 8888, 9122: 8889, 9123: 8890, 9124: 8891, 9125: 8892, 9126: 8893, 9127: 8894, 9128: 8895, 9129: 8896, 9130: 8897, 9131: 8898, 9132: 8899, 9133: 8900, 9134: 8901, 9135: 8902, 9136: 8903, 9137: 8904, 9138: 8905, 9139: 8906, 9140: 8907, 9141: 8908, 9142: 8909, 9143: 8910, 9144: 8911, 9145: 8912, 9146: 8913, 9147: 8914, 9148: 8915, 9149: 8916, 9150: 8917, 9151: 8918, 9152: 8919, 9153: 8920, 9154: 8921, 9155: 8922, 9156: 8923, 9157: 8924, 9158: 8925, 9159: 8926, 9160: 8927, 9161: 8928, 9162: 8929, 9163: 8930, 9164: 8931, 9165: 8932, 9166: 8933, 9167: 8934, 9168: 8935, 9169: 8936, 9170: 8937, 9171: 8938, 9172: 8939, 9173: 8940, 9174: 8941, 9175: 8942, 9176: 8943, 9177: 8944, 9178: 8945, 9179: 8946, 9180: 8947, 9181: 8948, 9182: 8949, 9183: 8950, 9184: 8951, 9185: 8952, 9186: 8953, 9187: 8954, 9188: 8955, 9189: 8956, 9190: 8957, 9191: 8958, 9192: 8959, 9193: 8960, 9194: 8961, 9195: 8962, 9196: 8963, 9197: 8964, 9198: 8965, 9199: 8966, 9200: 8967, 9201: 8968, 9202: 8969, 9203: 8970, 9204: 8971, 9205: 8972, 9206: 8973, 9207: 8974, 9208: 8975, 9209: 8976, 9210: 8977, 9211: 8978, 9212: 8979, 9213: 8980, 9214: 8981, 9215: 8982, 9216: 8983, 9217: 8984, 9218: 8985, 9219: 8986, 9220: 8987, 9221: 8988, 9222: 8989, 9223: 8990, 9224: 8991, 9225: 8992, 9226: 8993, 9227: 8994, 9228: 8995, 9229: 8996, 9230: 8997, 9231: 8998, 9232: 8999, 9233: 9000, 9234: 9001, 9235: 9002, 9236: 9003, 9237: 9004, 9238: 9005, 9239: 9006, 9240: 9007, 9241: 9008, 9242: 9009, 9243: 9010, 9244: 9011, 9245: 9012, 9246: 9013, 9247: 9014, 9248: 9015, 9249: 9016, 9250: 9017, 9251: 9018, 9252: 9019, 9253: 9020, 9254: 9021, 9255: 9022, 9256: 9023, 9257: 9024, 9258: 9025, 9259: 9026, 9260: 9027, 9261: 9028, 9262: 9029, 9263: 9030, 9264: 9031, 9265: 9032, 9266: 9033, 9267: 9034, 9268: 9035, 9269: 9036, 9270: 9037, 9271: 9038, 9272: 9039, 9273: 9040, 9274: 9041, 9275: 9042, 9276: 9043, 9277: 9044, 9278: 9045, 9279: 9046, 9280: 9047, 9281: 9048, 9282: 9049, 9283: 9050, 9284: 9051, 9285: 9052, 9286: 9053, 9287: 9054, 9288: 9055, 9289: 9056, 9290: 9057, 9291: 9058, 9292: 9059, 9293: 9060, 9294: 9061, 9295: 9062, 9296: 9063, 9297: 9064, 9298: 9065, 9299: 9066, 9300: 9067, 9301: 9068, 9302: 9069, 9303: 9070, 9304: 9071, 9305: 9072, 9306: 9073, 9307: 9074, 9308: 9075, 9309: 9076, 9310: 9077, 9311: 9078, 9312: 9079, 9313: 9080, 9314: 9081, 9315: 9082, 9316: 9083, 9317: 9084, 9318: 9085, 9319: 9086, 9320: 9087, 9321: 9088, 9322: 9089, 9323: 9090, 9324: 9091, 9325: 9092, 9326: 9093, 9327: 9094, 9328: 9095, 9329: 9096, 9330: 9097, 9331: 9098, 9332: 9099, 9333: 9100, 9334: 9101, 9335: 9102, 9336: 9103, 9337: 9104, 9338: 9105, 9339: 9106, 9340: 9107, 9341: 9108, 9342: 9109, 9343: 9110, 9344: 9111, 9345: 9112, 9346: 9113, 9347: 9114, 9348: 9115, 9349: 9116, 9350: 9117, 9351: 9118, 9352: 9119, 9353: 9120, 9354: 9121, 9355: 9122, 9356: 9123, 9357: 9124, 9358: 9125, 9359: 9126, 9360: 9127, 9361: 9128, 9362: 9129, 9363: 9130, 9364: 9131, 9365: 9132, 9366: 9133, 9367: 9134, 9368: 9135, 9369: 9136, 9370: 9137, 9371: 9138, 9372: 9139, 9373: 9140, 9374: 9141, 9375: 9142, 9376: 9143, 9377: 9144, 9378: 9145, 9379: 9146, 9380: 9147, 9381: 9148, 9382: 9149, 9383: 9150, 9384: 9151, 9385: 9152, 9386: 9153, 9387: 9154, 9388: 9155, 9389: 9156, 9390: 9157, 9391: 9158, 9392: 9159, 9393: 9160, 9394: 9161, 9395: 9162, 9396: 9163, 9397: 9164, 9398: 9165, 9399: 9166, 9400: 9167, 9401: 9168, 9402: 9169, 9403: 9170, 9404: 9171, 9405: 9172, 9406: 9173, 9407: 9174, 9408: 9175, 9409: 9176, 9410: 9177, 9411: 9178, 9412: 9179, 9413: 9180, 9414: 9181, 9415: 9182, 9416: 9183, 9417: 9184, 9418: 9185, 9419: 9186, 9420: 9187, 9421: 9188, 9422: 9189, 9423: 9190, 9424: 9191, 9425: 9192, 9426: 9193, 9427: 9194, 9428: 9195, 9429: 9196, 9430: 9197, 9431: 9198, 9432: 9199, 9433: 9200, 9434: 9201, 9435: 9202, 9436: 9203, 9437: 9204, 9438: 9205, 9439: 9206, 9440: 9207, 9441: 9208, 9442: 9209, 9443: 9210, 9444: 9211, 9445: 9212, 9446: 9213, 9447: 9214, 9448: 9215, 9449: 9216, 9450: 9217, 9451: 9218, 9452: 9219, 9453: 9220, 9454: 9221, 9455: 9222, 9456: 9223, 9457: 9224, 9458: 9225, 9459: 9226, 9460: 9227, 9461: 9228, 9462: 9229, 9463: 9230, 9464: 9231, 9465: 9232, 9466: 9233, 9467: 9234, 9468: 9235, 9469: 9236, 9470: 9237, 9471: 9238, 9472: 9239, 9473: 9240, 9474: 9241, 9475: 9242, 9476: 9243, 9477: 9244, 9478: 9245, 9479: 9246, 9480: 9247, 9481: 9248, 9482: 9249, 9483: 9250, 9484: 9251, 9485: 9252, 9486: 9253, 9487: 9254, 9488: 9255, 9489: 9256, 9490: 9257, 9491: 9258, 9492: 9259, 9493: 9260, 9494: 9261, 9495: 9262, 9496: 9263, 9497: 9264, 9498: 9265, 9499: 9266, 9500: 9267, 9501: 9268, 9502: 9269, 9503: 9270, 9504: 9271, 9505: 9272, 9506: 9273, 9507: 9274, 9508: 9275, 9509: 9276, 9510: 9277, 9511: 9278, 9512: 9279, 9513: 9280, 9514: 9281, 9515: 9282, 9516: 9283, 9517: 9284, 9518: 9285, 9519: 9286, 9520: 9287, 9521: 9288, 9522: 9289, 9523: 9290, 9524: 9291, 9525: 9292, 9526: 9293, 9527: 9294, 9528: 9295, 9529: 9296, 9530: 9297, 9531: 9298, 9532: 9299, 9533: 9300, 9534: 9301, 9535: 9302, 9536: 9303, 9537: 9304, 9538: 9305, 9539: 9306, 9540: 9307, 9541: 9308, 9542: 9309, 9543: 9310, 9544: 9311, 9545: 9312, 9546: 9313, 9547: 9314, 9548: 9315, 9549: 9316, 9550: 9317, 9551: 9318, 9552: 9319, 9553: 9320, 9554: 9321, 9555: 9322, 9556: 9323, 9557: 9324, 9558: 9325, 9559: 9326, 9560: 9327, 9561: 9328, 9562: 9329, 9563: 9330, 9564: 9331, 9565: 9332, 9566: 9333, 9567: 9334, 9568: 9335, 9569: 9336, 9570: 9337, 9571: 9338, 9572: 9339, 9573: 9340, 9574: 9341, 9575: 9342, 9576: 9343, 9577: 9344, 9578: 9345, 9579: 9346, 9580: 9347, 9581: 9348, 9582: 9349, 9583: 9350, 9584: 9351, 9585: 9352, 9586: 9353, 9587: 9354, 9588: 9355, 9589: 9356, 9590: 9357, 9591: 9358, 9592: 9359, 9593: 9360, 9594: 9361, 9595: 9362, 9596: 9363, 9597: 9364, 9598: 9365, 9599: 9366, 9600: 9367, 9601: 9368, 9602: 9369, 9603: 9370, 9604: 9371, 9605: 9372, 9606: 9373, 9607: 9374, 9608: 9375, 9609: 9376, 9610: 9377, 9611: 9378, 9612: 9379, 9613: 9380, 9614: 9381, 9615: 9382, 9616: 9383, 9617: 9384, 9618: 9385, 9619: 9386, 9620: 9387, 9621: 9388, 9622: 9389, 9623: 9390, 9624: 9391, 9625: 9392, 9626: 9393, 9627: 9394, 9628: 9395, 9629: 9396, 9630: 9397, 9631: 9398, 9632: 9399, 9633: 9400, 9634: 9401, 9635: 9402, 9636: 9403, 9637: 9404, 9638: 9405, 9639: 9406, 9640: 9407, 9641: 9408, 9642: 9409, 9643: 9410, 9644: 9411, 9645: 9412, 9646: 9413, 9647: 9414, 9648: 9415, 9649: 9416, 9650: 9417, 9651: 9418, 9652: 9419, 9653: 9420, 9654: 9421, 9655: 9422, 9656: 9423, 9657: 9424, 9658: 9425, 9659: 9426, 9660: 9427, 9661: 9428, 9662: 9429, 9663: 9430, 9664: 9431, 9665: 9432, 9666: 9433, 9667: 9434, 9668: 9435, 9669: 9436, 9670: 9437, 9671: 9438, 9672: 9439, 9673: 9440, 9674: 9441, 9675: 9442, 9676: 9443, 9677: 9444, 9678: 9445, 9679: 9446, 9680: 9447, 9681: 9448, 9682: 9449, 9683: 9450, 9684: 9451, 9685: 9452, 9686: 9453, 9687: 9454, 9688: 9455, 9689: 9456, 9690: 9457, 9691: 9458, 9692: 9459, 9693: 9460, 9694: 9461, 9695: 9462, 9696: 9463, 9697: 9464, 9698: 9465, 9699: 9466, 9700: 9467, 9701: 9468, 9702: 9469, 9703: 9470, 9704: 9471, 9705: 9472, 9706: 9473, 9707: 9474, 9708: 9475, 9709: 9476, 9710: 9477, 9711: 9478, 9712: 9479, 9713: 9480, 9715: 9481, 9716: 9482, 9717: 9483, 9718: 9484, 9719: 9485, 9720: 9486, 9721: 9487, 9722: 9488, 9723: 9489, 9724: 9490, 9725: 9491, 9726: 9492, 9727: 9493, 9728: 9494, 9729: 9495, 9730: 9496, 9731: 9497, 9732: 9498, 9733: 9499, 9734: 9500, 9735: 9501, 9736: 9502, 9737: 9503, 9738: 9504, 9739: 9505, 9740: 9506, 9741: 9507, 9742: 9508, 9743: 9509, 9744: 9510, 9745: 9511, 9746: 9512, 9747: 9513, 9748: 9514, 9749: 9515, 9750: 9516, 9751: 9517, 9752: 9518, 9753: 9519, 9754: 9520, 9755: 9521, 9756: 9522, 9757: 9523, 9758: 9524, 9759: 9525, 9760: 9526, 9761: 9527, 9762: 9528, 9763: 9529, 9764: 9530, 9765: 9531, 9766: 9532, 9767: 9533, 9768: 9534, 9769: 9535, 9770: 9536, 9771: 9537, 9772: 9538, 9773: 9539, 9774: 9540, 9775: 9541, 9776: 9542, 9777: 9543, 9779: 9544, 9780: 9545, 9781: 9546, 9782: 9547, 9783: 9548, 9784: 9549, 9785: 9550, 9786: 9551, 9787: 9552, 9788: 9553, 9789: 9554, 9790: 9555, 9791: 9556, 9792: 9557, 9793: 9558, 9794: 9559, 9795: 9560, 9796: 9561, 9797: 9562, 9798: 9563, 9799: 9564, 9800: 9565, 9801: 9566, 9802: 9567, 9803: 9568, 9804: 9569, 9805: 9570, 9806: 9571, 9807: 9572, 9808: 9573, 9809: 9574, 9810: 9575, 9811: 9576, 9812: 9577, 9813: 9578, 9814: 9579, 9815: 9580, 9816: 9581, 9817: 9582, 9818: 9583, 9819: 9584, 9820: 9585, 9821: 9586, 9822: 9587, 9823: 9588, 9824: 9589, 9825: 9590, 9826: 9591, 9827: 9592, 9828: 9593, 9829: 9594, 9830: 9595, 9831: 9596, 9833: 9597, 9834: 9598, 9836: 9599, 9837: 9600, 9838: 9601, 9839: 9602, 9840: 9603, 9843: 9604, 9844: 9605, 9845: 9606, 9846: 9607, 9847: 9608, 9848: 9609, 9849: 9610, 9850: 9611, 9851: 9612, 9852: 9613, 9853: 9614, 9854: 9615, 9855: 9616, 9856: 9617, 9857: 9618, 9858: 9619, 9859: 9620, 9860: 9621, 9861: 9622, 9862: 9623, 9863: 9624, 9864: 9625, 9865: 9626, 9866: 9627, 9867: 9628, 9868: 9629, 9869: 9630, 9870: 9631, 9871: 9632, 9872: 9633, 9873: 9634, 9874: 9635, 9875: 9636, 9876: 9637, 9877: 9638, 9878: 9639, 9879: 9640, 9880: 9641, 9882: 9642, 9886: 9643, 9887: 9644, 9888: 9645, 9889: 9646, 9890: 9647, 9891: 9648, 9892: 9649, 9893: 9650, 9894: 9651, 9895: 9652, 9896: 9653, 9897: 9654, 9898: 9655, 9899: 9656, 9900: 9657, 9901: 9658, 9902: 9659, 9903: 9660, 9904: 9661, 9905: 9662, 9906: 9663, 9907: 9664, 9908: 9665, 9909: 9666, 9910: 9667, 9911: 9668, 9912: 9669, 9913: 9670, 9914: 9671, 9915: 9672, 9916: 9673, 9917: 9674, 9918: 9675, 9919: 9676, 9920: 9677, 9921: 9678, 9922: 9679, 9923: 9680, 9924: 9681, 9925: 9682, 9926: 9683, 9927: 9684, 9928: 9685, 9929: 9686, 9930: 9687, 9931: 9688, 9932: 9689, 9933: 9690, 9934: 9691, 9936: 9692, 9940: 9693, 9941: 9694, 9943: 9695, 9944: 9696, 9947: 9697, 9948: 9698, 9951: 9699, 9952: 9700, 9953: 9701, 9955: 9702, 9959: 9703, 9960: 9704, 9961: 9705, 9962: 9706, 9963: 9707, 9964: 9708, 9965: 9709, 9966: 9710, 9967: 9711, 9968: 9712, 9969: 9713, 9970: 9714, 9971: 9715, 9972: 9716, 9973: 9717, 9974: 9718, 9975: 9719, 9976: 9720, 9977: 9721, 9978: 9722, 9979: 9723, 9980: 9724, 9981: 9725, 9982: 9726, 9983: 9727, 9984: 9728, 9985: 9729, 9986: 9730, 9987: 9731, 9988: 9732, 9989: 9733, 9990: 9734, 9991: 9735, 9992: 9736, 9993: 9737, 9994: 9738, 9995: 9739, 9996: 9740, 9997: 9741, 9998: 9742, 9999: 9743, 10000: 9744, 10001: 9745, 10002: 9746, 10003: 9747, 10004: 9748, 10005: 9749, 10006: 9750, 10007: 9751, 10008: 9752, 10009: 9753, 10010: 9754, 10011: 9755, 10012: 9756, 10013: 9757, 10014: 9758, 10015: 9759, 10016: 9760, 10017: 9761, 10020: 9762, 10022: 9763, 10023: 9764, 10024: 9765, 10025: 9766, 10026: 9767, 10027: 9768, 10028: 9769, 10029: 9770, 10030: 9771, 10031: 9772, 10032: 9773, 10033: 9774, 10034: 9775, 10035: 9776, 10036: 9777, 10037: 9778, 10038: 9779, 10039: 9780, 10040: 9781, 10041: 9782, 10042: 9783, 10043: 9784, 10044: 9785, 10045: 9786, 10046: 9787, 10047: 9788, 10048: 9789, 10049: 9790, 10050: 9791, 10051: 9792, 10052: 9793, 10053: 9794, 10054: 9795, 10055: 9796, 10056: 9797, 10057: 9798, 10058: 9799, 10059: 9800, 10060: 9801, 10061: 9802, 10062: 9803, 10063: 9804, 10064: 9805, 10065: 9806, 10066: 9807, 10067: 9808, 10068: 9809, 10069: 9810, 10070: 9811, 10071: 9812, 10072: 9813, 10073: 9814, 10074: 9815, 10075: 9816, 10076: 9817, 10077: 9818, 10078: 9819, 10080: 9820, 10086: 9821, 10087: 9822, 10088: 9823, 10089: 9824, 10090: 9825, 10091: 9826, 10092: 9827, 10093: 9828, 10094: 9829, 10095: 9830, 10096: 9831, 10097: 9832, 10098: 9833, 10099: 9834, 10100: 9835, 10101: 9836, 10102: 9837, 10103: 9838, 10104: 9839, 10105: 9840, 10106: 9841, 10107: 9842, 10108: 9843, 10109: 9844, 10110: 9845, 10111: 9846, 10112: 9847, 10113: 9848, 10114: 9849, 10115: 9850, 10116: 9851, 10117: 9852, 10118: 9853, 10119: 9854, 10120: 9855, 10121: 9856, 10122: 9857, 10123: 9858, 10124: 9859, 10125: 9860, 10126: 9861, 10127: 9862, 10128: 9863, 10129: 9864, 10130: 9865, 10131: 9866, 10132: 9867, 10133: 9868, 10134: 9869, 10135: 9870, 10136: 9871, 10137: 9872, 10138: 9873, 10139: 9874, 10140: 9875, 10141: 9876, 10142: 9877, 10143: 9878, 10144: 9879, 10145: 9880, 10146: 9881, 10147: 9882, 10148: 9883, 10149: 9884, 10150: 9885, 10151: 9886, 10152: 9887, 10153: 9888, 10154: 9889, 10155: 9890, 10156: 9891, 10157: 9892, 10158: 9893, 10159: 9894, 10160: 9895, 10161: 9896, 10162: 9897, 10163: 9898, 10164: 9899, 10165: 9900, 10166: 9901, 10167: 9902, 10168: 9903, 10169: 9904, 10170: 9905, 10171: 9906, 10172: 9907, 10173: 9908, 10174: 9909, 10176: 9910, 10181: 9911, 10182: 9912, 10184: 9913, 10185: 9914, 10186: 9915, 10187: 9916, 10188: 9917, 10189: 9918, 10190: 9919, 10191: 9920, 10192: 9921, 10193: 9922, 10194: 9923, 10195: 9924, 10196: 9925, 10197: 9926, 10198: 9927, 10199: 9928, 10200: 9929, 10201: 9930, 10202: 9931, 10203: 9932, 10204: 9933, 10205: 9934, 10206: 9935, 10207: 9936, 10208: 9937, 10209: 9938, 10210: 9939, 10211: 9940, 10212: 9941, 10213: 9942, 10214: 9943, 10215: 9944, 10216: 9945, 10217: 9946, 10218: 9947, 10219: 9948, 10220: 9949, 10221: 9950, 10222: 9951, 10223: 9952, 10224: 9953, 10225: 9954, 10226: 9955, 10227: 9956, 10228: 9957, 10229: 9958, 10230: 9959, 10231: 9960, 10232: 9961, 10233: 9962, 10234: 9963, 10235: 9964, 10236: 9965, 10237: 9966, 10238: 9967, 10239: 9968, 10240: 9969, 10241: 9970, 10242: 9971, 10243: 9972, 10244: 9973, 10245: 9974, 10246: 9975, 10247: 9976, 10248: 9977, 10249: 9978, 10250: 9979, 10251: 9980, 10252: 9981, 10253: 9982, 10254: 9983, 10255: 9984, 10256: 9985, 10257: 9986, 10258: 9987, 10259: 9988, 10260: 9989, 10261: 9990, 10262: 9991, 10263: 9992, 10264: 9993, 10265: 9994, 10266: 9995, 10267: 9996, 10268: 9997, 10269: 9998, 10270: 9999, 10271: 10000, 10272: 10001, 10273: 10002, 10274: 10003, 10275: 10004, 10276: 10005, 10277: 10006, 10278: 10007, 10279: 10008, 10280: 10009, 10281: 10010, 10282: 10011, 10289: 10012, 10295: 10013, 10299: 10014, 10300: 10015, 10301: 10016, 10302: 10017, 10303: 10018, 10304: 10019, 10305: 10020, 10306: 10021, 10307: 10022, 10308: 10023, 10309: 10024, 10310: 10025, 10311: 10026, 10312: 10027, 10313: 10028, 10314: 10029, 10315: 10030, 10316: 10031, 10317: 10032, 10318: 10033, 10319: 10034, 10320: 10035, 10321: 10036, 10322: 10037, 10323: 10038, 10324: 10039, 10325: 10040, 10326: 10041, 10327: 10042, 10328: 10043, 10329: 10044, 10330: 10045, 10331: 10046, 10332: 10047, 10333: 10048, 10334: 10049, 10335: 10050, 10336: 10051, 10337: 10052, 10338: 10053, 10339: 10054, 10340: 10055, 10341: 10056, 10342: 10057, 10343: 10058, 10344: 10059, 10345: 10060, 10346: 10061, 10347: 10062, 10348: 10063, 10349: 10064, 10350: 10065, 10351: 10066, 10352: 10067, 10353: 10068, 10354: 10069, 10355: 10070, 10356: 10071, 10357: 10072, 10358: 10073, 10359: 10074, 10360: 10075, 10361: 10076, 10362: 10077, 10363: 10078, 10364: 10079, 10365: 10080, 10366: 10081, 10367: 10082, 10368: 10083, 10369: 10084, 10370: 10085, 10371: 10086, 10372: 10087, 10373: 10088, 10374: 10089, 10375: 10090, 10376: 10091, 10377: 10092, 10378: 10093, 10379: 10094, 10380: 10095, 10381: 10096, 10382: 10097, 10383: 10098, 10384: 10099, 10385: 10100, 10386: 10101, 10387: 10102, 10388: 10103, 10389: 10104, 10390: 10105, 10391: 10106, 10392: 10107, 10393: 10108, 10394: 10109, 10395: 10110, 10396: 10111, 10397: 10112, 10398: 10113, 10399: 10114, 10400: 10115, 10401: 10116, 10402: 10117, 10403: 10118, 10404: 10119, 10405: 10120, 10406: 10121, 10407: 10122, 10408: 10123, 10409: 10124, 10410: 10125, 10411: 10126, 10412: 10127, 10413: 10128, 10414: 10129, 10415: 10130, 10416: 10131, 10417: 10132, 10418: 10133, 10419: 10134, 10420: 10135, 10421: 10136, 10422: 10137, 10423: 10138, 10424: 10139, 10425: 10140, 10426: 10141, 10427: 10142, 10428: 10143, 10429: 10144, 10430: 10145, 10431: 10146, 10432: 10147, 10433: 10148, 10434: 10149, 10435: 10150, 10436: 10151, 10437: 10152, 10438: 10153, 10439: 10154, 10440: 10155, 10441: 10156, 10442: 10157, 10443: 10158, 10444: 10159, 10445: 10160, 10446: 10161, 10447: 10162, 10448: 10163, 10449: 10164, 10450: 10165, 10451: 10166, 10452: 10167, 10453: 10168, 10454: 10169, 10455: 10170, 10456: 10171, 10457: 10172, 10458: 10173, 10459: 10174, 10460: 10175, 10461: 10176, 10462: 10177, 10463: 10178, 10464: 10179, 10465: 10180, 10466: 10181, 10467: 10182, 10468: 10183, 10469: 10184, 10470: 10185, 10471: 10186, 10472: 10187, 10473: 10188, 10474: 10189, 10475: 10190, 10476: 10191, 10478: 10192, 10479: 10193, 10482: 10194, 10483: 10195, 10484: 10196, 10485: 10197, 10486: 10198, 10487: 10199, 10488: 10200, 10489: 10201, 10490: 10202, 10491: 10203, 10492: 10204, 10493: 10205, 10494: 10206, 10495: 10207, 10496: 10208, 10497: 10209, 10498: 10210, 10499: 10211, 10500: 10212, 10501: 10213, 10502: 10214, 10503: 10215, 10504: 10216, 10505: 10217, 10506: 10218, 10507: 10219, 10508: 10220, 10509: 10221, 10510: 10222, 10511: 10223, 10512: 10224, 10513: 10225, 10514: 10226, 10515: 10227, 10516: 10228, 10517: 10229, 10518: 10230, 10519: 10231, 10520: 10232, 10521: 10233, 10522: 10234, 10523: 10235, 10524: 10236, 10525: 10237, 10526: 10238, 10527: 10239, 10528: 10240, 10529: 10241, 10530: 10242, 10531: 10243, 10532: 10244, 10533: 10245, 10534: 10246, 10535: 10247, 10536: 10248, 10537: 10249, 10538: 10250, 10539: 10251, 10540: 10252, 10541: 10253, 10542: 10254, 10543: 10255, 10544: 10256, 10545: 10257, 10546: 10258, 10547: 10259, 10548: 10260, 10549: 10261, 10550: 10262, 10551: 10263, 10552: 10264, 10553: 10265, 10554: 10266, 10555: 10267, 10556: 10268, 10557: 10269, 10558: 10270, 10559: 10271, 10560: 10272, 10561: 10273, 10562: 10274, 10563: 10275, 10564: 10276, 10565: 10277, 10566: 10278, 10567: 10279, 10568: 10280, 10569: 10281, 10570: 10282, 10571: 10283, 10572: 10284, 10573: 10285, 10574: 10286, 10575: 10287, 10576: 10288, 10577: 10289, 10578: 10290, 10579: 10291, 10580: 10292, 10581: 10293, 10582: 10294, 10583: 10295, 10584: 10296, 10585: 10297, 10586: 10298, 10587: 10299, 10588: 10300, 10589: 10301, 10590: 10302, 10591: 10303, 10592: 10304, 10593: 10305, 10594: 10306, 10595: 10307, 10596: 10308, 10597: 10309, 10598: 10310, 10599: 10311, 10600: 10312, 10601: 10313, 10602: 10314, 10603: 10315, 10604: 10316, 10605: 10317, 10606: 10318, 10607: 10319, 10608: 10320, 10609: 10321, 10610: 10322, 10611: 10323, 10612: 10324, 10613: 10325, 10614: 10326, 10615: 10327, 10616: 10328, 10617: 10329, 10618: 10330, 10619: 10331, 10620: 10332, 10621: 10333, 10622: 10334, 10623: 10335, 10624: 10336, 10625: 10337, 10626: 10338, 10627: 10339, 10628: 10340, 10629: 10341, 10630: 10342, 10631: 10343, 10632: 10344, 10633: 10345, 10634: 10346, 10635: 10347, 10636: 10348, 10637: 10349, 10638: 10350, 10639: 10351, 10640: 10352, 10641: 10353, 10642: 10354, 10643: 10355, 10644: 10356, 10645: 10357, 10646: 10358, 10647: 10359, 10648: 10360, 10649: 10361, 10650: 10362, 10651: 10363, 10652: 10364, 10653: 10365, 10654: 10366, 10655: 10367, 10656: 10368, 10657: 10369, 10658: 10370, 10659: 10371, 10660: 10372, 10661: 10373, 10662: 10374, 10663: 10375, 10664: 10376, 10668: 10377, 10670: 10378, 10671: 10379, 10672: 10380, 10673: 10381, 10674: 10382, 10675: 10383, 10676: 10384, 10677: 10385, 10678: 10386, 10679: 10387, 10680: 10388, 10681: 10389, 10682: 10390, 10683: 10391, 10684: 10392, 10685: 10393, 10686: 10394, 10687: 10395, 10688: 10396, 10689: 10397, 10690: 10398, 10691: 10399, 10693: 10400, 10694: 10401, 10695: 10402, 10696: 10403, 10697: 10404, 10698: 10405, 10699: 10406, 10700: 10407, 10701: 10408, 10702: 10409, 10703: 10410, 10704: 10411, 10705: 10412, 10706: 10413, 10707: 10414, 10708: 10415, 10709: 10416, 10710: 10417, 10711: 10418, 10712: 10419, 10713: 10420, 10714: 10421, 10715: 10422, 10716: 10423, 10717: 10424, 10718: 10425, 10719: 10426, 10720: 10427, 10722: 10428, 10724: 10429, 10729: 10430, 10730: 10431, 10731: 10432, 10732: 10433, 10733: 10434, 10734: 10435, 10735: 10436, 10736: 10437, 10737: 10438, 10738: 10439, 10739: 10440, 10740: 10441, 10741: 10442, 10742: 10443, 10743: 10444, 10744: 10445, 10745: 10446, 10746: 10447, 10747: 10448, 10748: 10449, 10749: 10450, 10750: 10451, 10751: 10452, 10752: 10453, 10753: 10454, 10754: 10455, 10755: 10456, 10756: 10457, 10757: 10458, 10758: 10459, 10759: 10460, 10760: 10461, 10761: 10462, 10762: 10463, 10763: 10464, 10764: 10465, 10765: 10466, 10766: 10467, 10767: 10468, 10768: 10469, 10769: 10470, 10770: 10471, 10771: 10472, 10772: 10473, 10773: 10474, 10774: 10475, 10775: 10476, 10776: 10477, 10777: 10478, 10778: 10479, 10779: 10480, 10780: 10481, 10781: 10482, 10782: 10483, 10783: 10484, 10784: 10485, 10785: 10486, 10793: 10487, 10794: 10488, 10797: 10489, 10798: 10490, 10799: 10491, 10800: 10492, 10801: 10493, 10802: 10494, 10803: 10495, 10804: 10496, 10805: 10497, 10806: 10498, 10807: 10499, 10808: 10500, 10809: 10501, 10810: 10502, 10811: 10503, 10812: 10504, 10814: 10505, 10820: 10506, 10821: 10507, 10822: 10508, 10823: 10509, 10824: 10510, 10825: 10511, 10826: 10512, 10827: 10513, 10828: 10514, 10829: 10515, 10830: 10516, 10831: 10517, 10832: 10518, 10833: 10519, 10834: 10520, 10835: 10521, 10836: 10522, 10837: 10523, 10838: 10524, 10839: 10525, 10840: 10526, 10841: 10527, 10842: 10528, 10843: 10529, 10844: 10530, 10845: 10531, 10846: 10532, 10847: 10533, 10848: 10534, 10849: 10535, 10850: 10536, 10851: 10537, 10852: 10538, 10853: 10539, 10854: 10540, 10855: 10541, 10856: 10542, 10857: 10543, 10858: 10544, 10859: 10545, 10860: 10546, 10861: 10547, 10864: 10548, 10865: 10549, 10867: 10550, 10870: 10551, 10871: 10552, 10872: 10553, 10873: 10554, 10874: 10555, 10875: 10556, 10876: 10557, 10877: 10558, 10878: 10559, 10879: 10560, 10880: 10561, 10881: 10562, 10882: 10563, 10883: 10564, 10884: 10565, 10885: 10566, 10886: 10567, 10889: 10568, 10890: 10569, 10891: 10570, 10892: 10571, 10893: 10572, 10894: 10573, 10895: 10574, 10897: 10575, 10898: 10576, 10899: 10577, 10900: 10578, 10901: 10579, 10902: 10580, 10903: 10581, 10904: 10582, 10905: 10583, 10906: 10584, 10907: 10585, 10908: 10586, 10909: 10587, 10910: 10588, 10911: 10589, 10912: 10590, 10913: 10591, 10914: 10592, 10915: 10593, 10916: 10594, 10917: 10595, 10918: 10596, 10919: 10597, 10920: 10598, 10921: 10599, 10922: 10600, 10923: 10601, 10924: 10602, 10925: 10603, 10926: 10604, 10927: 10605, 10928: 10606, 10929: 10607, 10930: 10608, 10931: 10609, 10932: 10610, 10933: 10611, 10934: 10612, 10935: 10613, 10936: 10614, 10937: 10615, 10938: 10616, 10939: 10617, 10940: 10618, 10941: 10619, 10942: 10620, 10943: 10621, 10952: 10622, 10953: 10623, 10954: 10624, 10955: 10625, 10956: 10626, 10957: 10627, 10958: 10628, 10959: 10629, 10960: 10630, 10961: 10631, 10962: 10632, 10963: 10633, 10964: 10634, 10965: 10635, 10966: 10636, 10967: 10637, 10968: 10638, 10969: 10639, 10970: 10640, 10971: 10641, 10972: 10642, 10973: 10643, 10974: 10644, 10975: 10645, 10976: 10646, 10977: 10647, 10978: 10648, 10979: 10649, 10980: 10650, 10981: 10651, 10982: 10652, 10983: 10653, 10984: 10654, 10985: 10655, 10986: 10656, 10987: 10657, 10988: 10658, 10989: 10659, 10990: 10660, 10991: 10661, 10992: 10662, 10993: 10663, 10994: 10664, 10995: 10665, 10996: 10666, 10997: 10667, 10998: 10668, 10999: 10669, 11000: 10670, 11001: 10671, 11002: 10672, 11003: 10673, 11004: 10674, 11005: 10675, 11006: 10676, 11007: 10677, 11008: 10678, 11009: 10679, 11010: 10680, 11011: 10681, 11012: 10682, 11013: 10683, 11014: 10684, 11015: 10685, 11016: 10686, 11017: 10687, 11018: 10688, 11019: 10689, 11020: 10690, 11021: 10691, 11023: 10692, 11024: 10693, 11030: 10694, 11031: 10695, 11032: 10696, 11033: 10697, 11034: 10698, 11035: 10699, 11036: 10700, 11037: 10701, 11038: 10702, 11039: 10703, 11040: 10704, 11041: 10705, 11042: 10706, 11043: 10707, 11044: 10708, 11045: 10709, 11046: 10710, 11047: 10711, 11048: 10712, 11049: 10713, 11050: 10714, 11051: 10715, 11052: 10716, 11053: 10717, 11055: 10718, 11056: 10719, 11061: 10720, 11062: 10721, 11063: 10722, 11064: 10723, 11065: 10724, 11066: 10725, 11067: 10726, 11068: 10727, 11069: 10728, 11070: 10729, 11071: 10730, 11072: 10731, 11073: 10732, 11074: 10733, 11075: 10734, 11076: 10735, 11077: 10736, 11078: 10737, 11079: 10738, 11080: 10739, 11081: 10740, 11082: 10741, 11083: 10742, 11084: 10743, 11085: 10744, 11086: 10745, 11087: 10746, 11088: 10747, 11089: 10748, 11090: 10749, 11091: 10750, 11092: 10751, 11093: 10752, 11094: 10753, 11095: 10754, 11096: 10755, 11097: 10756, 11098: 10757, 11099: 10758, 11100: 10759, 11101: 10760, 11102: 10761, 11103: 10762, 11104: 10763, 11105: 10764, 11106: 10765, 11107: 10766, 11108: 10767, 11109: 10768, 11110: 10769, 11111: 10770, 11112: 10771, 11113: 10772, 11114: 10773, 11115: 10774, 11116: 10775, 11117: 10776, 11118: 10777, 11119: 10778, 11120: 10779, 11121: 10780, 11122: 10781, 11123: 10782, 11124: 10783, 11125: 10784, 11126: 10785, 11127: 10786, 11128: 10787, 11129: 10788, 11130: 10789, 11131: 10790, 11132: 10791, 11133: 10792, 11134: 10793, 11135: 10794, 11136: 10795, 11137: 10796, 11138: 10797, 11139: 10798, 11140: 10799, 11141: 10800, 11142: 10801, 11143: 10802, 11144: 10803, 11145: 10804, 11146: 10805, 11147: 10806, 11148: 10807, 11149: 10808, 11150: 10809, 11151: 10810, 11152: 10811, 11153: 10812, 11154: 10813, 11155: 10814, 11156: 10815, 11157: 10816, 11158: 10817, 11159: 10818, 11160: 10819, 11161: 10820, 11162: 10821, 11163: 10822, 11164: 10823, 11165: 10824, 11166: 10825, 11167: 10826, 11168: 10827, 11169: 10828, 11170: 10829, 11171: 10830, 11172: 10831, 11173: 10832, 11174: 10833, 11175: 10834, 11176: 10835, 11177: 10836, 11178: 10837, 11179: 10838, 11180: 10839, 11181: 10840, 11182: 10841, 11183: 10842, 11184: 10843, 11185: 10844, 11186: 10845, 11187: 10846, 11188: 10847, 11189: 10848, 11190: 10849, 11191: 10850, 11192: 10851, 11193: 10852, 11194: 10853, 11195: 10854, 11196: 10855, 11197: 10856, 11198: 10857, 11199: 10858, 11200: 10859, 11201: 10860, 11202: 10861, 11203: 10862, 11204: 10863, 11205: 10864, 11206: 10865, 11207: 10866, 11208: 10867, 11209: 10868, 11210: 10869, 11211: 10870, 11213: 10871, 11215: 10872, 11217: 10873, 11218: 10874, 11219: 10875, 11220: 10876, 11221: 10877, 11222: 10878, 11223: 10879, 11224: 10880, 11225: 10881, 11226: 10882, 11227: 10883, 11228: 10884, 11229: 10885, 11230: 10886, 11231: 10887, 11232: 10888, 11233: 10889, 11234: 10890, 11235: 10891, 11236: 10892, 11237: 10893, 11238: 10894, 11239: 10895, 11240: 10896, 11241: 10897, 11242: 10898, 11243: 10899, 11244: 10900, 11245: 10901, 11246: 10902, 11247: 10903, 11248: 10904, 11249: 10905, 11250: 10906, 11251: 10907, 11252: 10908, 11253: 10909, 11254: 10910, 11255: 10911, 11256: 10912, 11263: 10913, 11264: 10914, 11265: 10915, 11267: 10916, 11268: 10917, 11272: 10918, 11273: 10919, 11274: 10920, 11275: 10921, 11276: 10922, 11277: 10923, 11280: 10924, 11281: 10925, 11282: 10926, 11283: 10927, 11284: 10928, 11285: 10929, 11286: 10930, 11287: 10931, 11288: 10932, 11289: 10933, 11290: 10934, 11291: 10935, 11292: 10936, 11293: 10937, 11294: 10938, 11295: 10939, 11296: 10940, 11297: 10941, 11298: 10942, 11299: 10943, 11300: 10944, 11301: 10945, 11302: 10946, 11303: 10947, 11304: 10948, 11305: 10949, 11306: 10950, 11307: 10951, 11308: 10952, 11309: 10953, 11310: 10954, 11311: 10955, 11312: 10956, 11313: 10957, 11314: 10958, 11315: 10959, 11316: 10960, 11317: 10961, 11318: 10962, 11319: 10963, 11320: 10964, 11321: 10965, 11322: 10966, 11323: 10967, 11324: 10968, 11325: 10969, 11326: 10970, 11327: 10971, 11328: 10972, 11329: 10973, 11330: 10974, 11331: 10975, 11332: 10976, 11333: 10977, 11334: 10978, 11335: 10979, 11336: 10980, 11337: 10981, 11338: 10982, 11339: 10983, 11340: 10984, 11341: 10985, 11342: 10986, 11343: 10987, 11344: 10988, 11345: 10989, 11346: 10990, 11347: 10991, 11348: 10992, 11349: 10993, 11350: 10994, 11351: 10995, 11352: 10996, 11358: 10997, 11360: 10998, 11365: 10999, 11370: 11000, 11372: 11001, 11377: 11002, 11378: 11003, 11379: 11004, 11380: 11005, 11381: 11006, 11382: 11007, 11383: 11008, 11384: 11009, 11385: 11010, 11386: 11011, 11387: 11012, 11388: 11013, 11389: 11014, 11390: 11015, 11391: 11016, 11392: 11017, 11393: 11018, 11394: 11019, 11395: 11020, 11396: 11021, 11397: 11022, 11398: 11023, 11399: 11024, 11400: 11025, 11401: 11026, 11402: 11027, 11403: 11028, 11404: 11029, 11405: 11030, 11406: 11031, 11407: 11032, 11408: 11033, 11409: 11034, 11410: 11035, 11411: 11036, 11412: 11037, 11413: 11038, 11414: 11039, 11415: 11040, 11416: 11041, 11417: 11042, 11418: 11043, 11419: 11044, 11420: 11045, 11421: 11046, 11422: 11047, 11423: 11048, 11424: 11049, 11425: 11050, 11426: 11051, 11427: 11052, 11428: 11053, 11429: 11054, 11430: 11055, 11431: 11056, 11432: 11057, 11433: 11058, 11434: 11059, 11435: 11060, 11436: 11061, 11437: 11062, 11438: 11063, 11439: 11064, 11440: 11065, 11441: 11066, 11442: 11067, 11443: 11068, 11444: 11069, 11445: 11070, 11446: 11071, 11447: 11072, 11448: 11073, 11449: 11074, 11450: 11075, 11451: 11076, 11452: 11077, 11453: 11078, 11454: 11079, 11455: 11080, 11456: 11081, 11457: 11082, 11458: 11083, 11459: 11084, 11460: 11085, 11461: 11086, 11462: 11087, 11463: 11088, 11464: 11089, 11465: 11090, 11466: 11091, 11467: 11092, 11468: 11093, 11469: 11094, 11470: 11095, 11471: 11096, 11472: 11097, 11473: 11098, 11474: 11099, 11475: 11100, 11476: 11101, 11477: 11102, 11478: 11103, 11479: 11104, 11480: 11105, 11481: 11106, 11482: 11107, 11483: 11108, 11484: 11109, 11485: 11110, 11487: 11111, 11489: 11112, 11491: 11113, 11492: 11114, 11494: 11115, 11498: 11116, 11499: 11117, 11500: 11118, 11501: 11119, 11502: 11120, 11503: 11121, 11504: 11122, 11505: 11123, 11506: 11124, 11507: 11125, 11508: 11126, 11509: 11127, 11510: 11128, 11511: 11129, 11512: 11130, 11513: 11131, 11514: 11132, 11515: 11133, 11516: 11134, 11517: 11135, 11518: 11136, 11519: 11137, 11520: 11138, 11521: 11139, 11522: 11140, 11523: 11141, 11524: 11142, 11525: 11143, 11526: 11144, 11527: 11145, 11528: 11146, 11529: 11147, 11530: 11148, 11531: 11149, 11532: 11150, 11533: 11151, 11534: 11152, 11535: 11153, 11536: 11154, 11537: 11155, 11538: 11156, 11539: 11157, 11540: 11158, 11541: 11159, 11542: 11160, 11543: 11161, 11544: 11162, 11545: 11163, 11546: 11164, 11547: 11165, 11548: 11166, 11549: 11167, 11550: 11168, 11551: 11169, 11552: 11170, 11553: 11171, 11554: 11172, 11555: 11173, 11556: 11174, 11557: 11175, 11558: 11176, 11559: 11177, 11560: 11178, 11561: 11179, 11562: 11180, 11563: 11181, 11564: 11182, 11565: 11183, 11566: 11184, 11567: 11185, 11568: 11186, 11569: 11187, 11570: 11188, 11571: 11189, 11572: 11190, 11574: 11191, 11575: 11192, 11576: 11193, 11577: 11194, 11578: 11195, 11579: 11196, 11580: 11197, 11581: 11198, 11582: 11199, 11583: 11200, 11584: 11201, 11587: 11202, 11588: 11203, 11589: 11204, 11590: 11205, 11591: 11206, 11592: 11207, 11593: 11208, 11594: 11209, 11595: 11210, 11596: 11211, 11597: 11212, 11598: 11213, 11602: 11214, 11603: 11215, 11604: 11216, 11605: 11217, 11606: 11218, 11607: 11219, 11608: 11220, 11609: 11221, 11610: 11222, 11611: 11223, 11612: 11224, 11613: 11225, 11614: 11226, 11615: 11227, 11616: 11228, 11617: 11229, 11618: 11230, 11619: 11231, 11620: 11232, 11621: 11233, 11622: 11234, 11623: 11235, 11624: 11236, 11625: 11237, 11626: 11238, 11627: 11239, 11628: 11240, 11629: 11241, 11630: 11242, 11631: 11243, 11632: 11244, 11633: 11245, 11634: 11246, 11635: 11247, 11636: 11248, 11637: 11249, 11638: 11250, 11639: 11251, 11640: 11252, 11641: 11253, 11642: 11254, 11643: 11255, 11644: 11256, 11645: 11257, 11646: 11258, 11647: 11259, 11648: 11260, 11649: 11261, 11650: 11262, 11651: 11263, 11652: 11264, 11653: 11265, 11654: 11266, 11655: 11267, 11656: 11268, 11657: 11269, 11658: 11270, 11659: 11271, 11660: 11272, 11661: 11273, 11662: 11274, 11663: 11275, 11664: 11276, 11665: 11277, 11666: 11278, 11667: 11279, 11668: 11280, 11669: 11281, 11670: 11282, 11671: 11283, 11672: 11284, 11673: 11285, 11674: 11286, 11675: 11287, 11676: 11288, 11677: 11289, 11678: 11290, 11679: 11291, 11680: 11292, 11681: 11293, 11682: 11294, 11683: 11295, 11684: 11296, 11685: 11297, 11686: 11298, 11687: 11299, 11688: 11300, 11689: 11301, 11690: 11302, 11691: 11303, 11692: 11304, 11693: 11305, 11694: 11306, 11695: 11307, 11696: 11308, 11697: 11309, 11698: 11310, 11699: 11311, 11700: 11312, 11701: 11313, 11702: 11314, 11703: 11315, 11712: 11316, 11716: 11317, 11717: 11318, 11718: 11319, 11719: 11320, 11720: 11321, 11721: 11322, 11722: 11323, 11723: 11324, 11724: 11325, 11725: 11326, 11726: 11327, 11727: 11328, 11728: 11329, 11729: 11330, 11730: 11331, 11731: 11332, 11732: 11333, 11733: 11334, 11734: 11335, 11735: 11336, 11736: 11337, 11737: 11338, 11738: 11339, 11739: 11340, 11740: 11341, 11741: 11342, 11742: 11343, 11743: 11344, 11744: 11345, 11745: 11346, 11746: 11347, 11747: 11348, 11748: 11349, 11749: 11350, 11750: 11351, 11751: 11352, 11752: 11353, 11753: 11354, 11754: 11355, 11755: 11356, 11756: 11357, 11757: 11358, 11758: 11359, 11759: 11360, 11760: 11361, 11761: 11362, 11762: 11363, 11763: 11364, 11764: 11365, 11765: 11366, 11766: 11367, 11767: 11368, 11768: 11369, 11769: 11370, 11770: 11371, 11771: 11372, 11772: 11373, 11773: 11374, 11774: 11375, 11775: 11376, 11776: 11377, 11777: 11378, 11778: 11379, 11779: 11380, 11780: 11381, 11781: 11382, 11782: 11383, 11783: 11384, 11784: 11385, 11785: 11386, 11786: 11387, 11787: 11388, 11788: 11389, 11789: 11390, 11790: 11391, 11791: 11392, 11792: 11393, 11793: 11394, 11794: 11395, 11795: 11396, 11796: 11397, 11797: 11398, 11798: 11399, 11799: 11400, 11800: 11401, 11801: 11402, 11802: 11403, 11803: 11404, 11804: 11405, 11805: 11406, 11806: 11407, 11807: 11408, 11808: 11409, 11809: 11410, 11810: 11411, 11811: 11412, 11812: 11413, 11813: 11414, 11814: 11415, 11815: 11416, 11816: 11417, 11817: 11418, 11818: 11419, 11819: 11420, 11820: 11421, 11821: 11422, 11822: 11423, 11823: 11424, 11824: 11425, 11825: 11426, 11826: 11427, 11827: 11428, 11828: 11429, 11829: 11430, 11830: 11431, 11831: 11432, 11832: 11433, 11833: 11434, 11834: 11435, 11835: 11436, 11836: 11437, 11837: 11438, 11838: 11439, 11839: 11440, 11840: 11441, 11841: 11442, 11842: 11443, 11843: 11444, 11844: 11445, 11845: 11446, 11846: 11447, 11847: 11448, 11848: 11449, 11849: 11450, 11850: 11451, 11851: 11452, 11852: 11453, 11853: 11454, 11854: 11455, 11855: 11456, 11856: 11457, 11857: 11458, 11858: 11459, 11859: 11460, 11860: 11461, 11861: 11462, 11862: 11463, 11863: 11464, 11864: 11465, 11865: 11466, 11866: 11467, 11871: 11468, 11874: 11469, 11875: 11470, 11877: 11471, 11878: 11472, 11879: 11473, 11881: 11474, 11882: 11475, 11883: 11476, 11884: 11477, 11885: 11478, 11886: 11479, 11887: 11480, 11888: 11481, 11889: 11482, 11890: 11483, 11891: 11484, 11892: 11485, 11893: 11486, 11894: 11487, 11895: 11488, 11896: 11489, 11897: 11490, 11898: 11491, 11899: 11492, 11900: 11493, 11901: 11494, 11902: 11495, 11903: 11496, 11904: 11497, 11905: 11498, 11906: 11499, 11907: 11500, 11908: 11501, 11909: 11502, 11910: 11503, 11911: 11504, 11912: 11505, 11913: 11506, 11914: 11507, 11915: 11508, 11916: 11509, 11917: 11510, 11918: 11511, 11919: 11512, 11920: 11513, 11921: 11514, 11922: 11515, 11923: 11516, 11924: 11517, 11925: 11518, 11926: 11519, 11927: 11520, 11928: 11521, 11929: 11522, 11930: 11523, 11931: 11524, 11932: 11525, 11933: 11526, 11934: 11527, 11935: 11528, 11936: 11529, 11937: 11530, 11938: 11531, 11939: 11532, 11940: 11533, 11941: 11534, 11942: 11535, 11943: 11536, 11948: 11537, 11949: 11538, 11950: 11539, 11953: 11540, 11954: 11541, 11955: 11542, 11956: 11543, 11957: 11544, 11958: 11545, 11959: 11546, 11960: 11547, 11961: 11548, 11962: 11549, 11963: 11550, 11964: 11551, 11965: 11552, 11966: 11553, 11967: 11554, 11968: 11555, 11969: 11556, 11970: 11557, 11971: 11558, 11976: 11559, 11977: 11560, 11978: 11561, 11979: 11562, 11980: 11563, 11981: 11564, 11982: 11565, 11983: 11566, 11984: 11567, 11985: 11568, 11986: 11569, 11987: 11570, 11988: 11571, 11989: 11572, 11990: 11573, 11991: 11574, 11992: 11575, 11993: 11576, 11994: 11577, 11995: 11578, 11998: 11579, 11999: 11580, 12000: 11581, 12001: 11582, 12002: 11583, 12003: 11584, 12004: 11585, 12005: 11586, 12006: 11587, 12007: 11588, 12008: 11589, 12009: 11590, 12010: 11591, 12011: 11592, 12012: 11593, 12013: 11594, 12014: 11595, 12015: 11596, 12016: 11597, 12017: 11598, 12018: 11599, 12019: 11600, 12020: 11601, 12021: 11602, 12022: 11603, 12023: 11604, 12024: 11605, 12025: 11606, 12026: 11607, 12027: 11608, 12028: 11609, 12029: 11610, 12030: 11611, 12031: 11612, 12032: 11613, 12033: 11614, 12034: 11615, 12035: 11616, 12036: 11617, 12037: 11618, 12038: 11619, 12039: 11620, 12040: 11621, 12044: 11622, 12045: 11623, 12046: 11624, 12047: 11625, 12048: 11626, 12049: 11627, 12050: 11628, 12051: 11629, 12052: 11630, 12053: 11631, 12054: 11632, 12055: 11633, 12056: 11634, 12057: 11635, 12058: 11636, 12059: 11637, 12060: 11638, 12061: 11639, 12062: 11640, 12063: 11641, 12064: 11642, 12065: 11643, 12066: 11644, 12067: 11645, 12068: 11646, 12069: 11647, 12070: 11648, 12071: 11649, 12072: 11650, 12073: 11651, 12074: 11652, 12075: 11653, 12076: 11654, 12077: 11655, 12078: 11656, 12079: 11657, 12080: 11658, 12081: 11659, 12082: 11660, 12083: 11661, 12084: 11662, 12085: 11663, 12086: 11664, 12087: 11665, 12088: 11666, 12089: 11667, 12090: 11668, 12092: 11669, 12093: 11670, 12094: 11671, 12095: 11672, 12096: 11673, 12097: 11674, 12098: 11675, 12099: 11676, 12100: 11677, 12101: 11678, 12102: 11679, 12103: 11680, 12104: 11681, 12105: 11682, 12106: 11683, 12107: 11684, 12108: 11685, 12109: 11686, 12110: 11687, 12111: 11688, 12112: 11689, 12113: 11690, 12114: 11691, 12115: 11692, 12116: 11693, 12117: 11694, 12118: 11695, 12119: 11696, 12120: 11697, 12121: 11698, 12122: 11699, 12123: 11700, 12124: 11701, 12125: 11702, 12126: 11703, 12127: 11704, 12128: 11705, 12129: 11706, 12130: 11707, 12131: 11708, 12132: 11709, 12133: 11710, 12134: 11711, 12135: 11712, 12136: 11713, 12137: 11714, 12138: 11715, 12139: 11716, 12140: 11717, 12141: 11718, 12142: 11719, 12143: 11720, 12144: 11721, 12145: 11722, 12149: 11723, 12150: 11724, 12151: 11725, 12152: 11726, 12153: 11727, 12154: 11728, 12155: 11729, 12156: 11730, 12157: 11731, 12158: 11732, 12159: 11733, 12160: 11734, 12161: 11735, 12162: 11736, 12163: 11737, 12164: 11738, 12165: 11739, 12166: 11740, 12167: 11741, 12168: 11742, 12169: 11743, 12170: 11744, 12171: 11745, 12172: 11746, 12173: 11747, 12174: 11748, 12175: 11749, 12176: 11750, 12177: 11751, 12178: 11752, 12179: 11753, 12180: 11754, 12181: 11755, 12182: 11756, 12183: 11757, 12184: 11758, 12185: 11759, 12186: 11760, 12187: 11761, 12188: 11762, 12189: 11763, 12190: 11764, 12191: 11765, 12192: 11766, 12193: 11767, 12194: 11768, 12195: 11769, 12196: 11770, 12197: 11771, 12198: 11772, 12199: 11773, 12200: 11774, 12201: 11775, 12202: 11776, 12203: 11777, 12204: 11778, 12205: 11779, 12206: 11780, 12207: 11781, 12208: 11782, 12209: 11783, 12210: 11784, 12211: 11785, 12212: 11786, 12213: 11787, 12214: 11788, 12215: 11789, 12216: 11790, 12217: 11791, 12218: 11792, 12219: 11793, 12220: 11794, 12221: 11795, 12222: 11796, 12223: 11797, 12224: 11798, 12225: 11799, 12226: 11800, 12227: 11801, 12228: 11802, 12229: 11803, 12230: 11804, 12231: 11805, 12232: 11806, 12233: 11807, 12234: 11808, 12235: 11809, 12236: 11810, 12237: 11811, 12238: 11812, 12239: 11813, 12240: 11814, 12241: 11815, 12242: 11816, 12243: 11817, 12244: 11818, 12245: 11819, 12246: 11820, 12247: 11821, 12248: 11822, 12249: 11823, 12250: 11824, 12251: 11825, 12252: 11826, 12253: 11827, 12254: 11828, 12255: 11829, 12256: 11830, 12257: 11831, 12258: 11832, 12259: 11833, 12260: 11834, 12261: 11835, 12262: 11836, 12263: 11837, 12264: 11838, 12265: 11839, 12266: 11840, 12267: 11841, 12268: 11842, 12269: 11843, 12270: 11844, 12271: 11845, 12272: 11846, 12273: 11847, 12274: 11848, 12275: 11849, 12276: 11850, 12277: 11851, 12278: 11852, 12279: 11853, 12280: 11854, 12281: 11855, 12282: 11856, 12283: 11857, 12284: 11858, 12285: 11859, 12286: 11860, 12287: 11861, 12288: 11862, 12289: 11863, 12290: 11864, 12291: 11865, 12292: 11866, 12293: 11867, 12294: 11868, 12295: 11869, 12296: 11870, 12297: 11871, 12298: 11872, 12299: 11873, 12309: 11874, 12310: 11875, 12311: 11876, 12312: 11877, 12313: 11878, 12314: 11879, 12315: 11880, 12316: 11881, 12317: 11882, 12318: 11883, 12319: 11884, 12320: 11885, 12321: 11886, 12322: 11887, 12323: 11888, 12324: 11889, 12325: 11890, 12326: 11891, 12327: 11892, 12328: 11893, 12329: 11894, 12330: 11895, 12331: 11896, 12332: 11897, 12333: 11898, 12334: 11899, 12335: 11900, 12336: 11901, 12337: 11902, 12338: 11903, 12339: 11904, 12340: 11905, 12341: 11906, 12342: 11907, 12343: 11908, 12344: 11909, 12345: 11910, 12346: 11911, 12347: 11912, 12348: 11913, 12349: 11914, 12350: 11915, 12351: 11916, 12352: 11917, 12353: 11918, 12356: 11919, 12357: 11920, 12358: 11921, 12359: 11922, 12360: 11923, 12361: 11924, 12362: 11925, 12363: 11926, 12364: 11927, 12365: 11928, 12366: 11929, 12367: 11930, 12368: 11931, 12369: 11932, 12370: 11933, 12371: 11934, 12372: 11935, 12373: 11936, 12374: 11937, 12375: 11938, 12376: 11939, 12377: 11940, 12378: 11941, 12379: 11942, 12380: 11943, 12381: 11944, 12382: 11945, 12383: 11946, 12384: 11947, 12385: 11948, 12386: 11949, 12387: 11950, 12388: 11951, 12389: 11952, 12390: 11953, 12391: 11954, 12392: 11955, 12393: 11956, 12394: 11957, 12395: 11958, 12396: 11959, 12397: 11960, 12398: 11961, 12399: 11962, 12400: 11963, 12401: 11964, 12402: 11965, 12403: 11966, 12404: 11967, 12405: 11968, 12406: 11969, 12407: 11970, 12408: 11971, 12409: 11972, 12410: 11973, 12412: 11974, 12413: 11975, 12414: 11976, 12415: 11977, 12416: 11978, 12417: 11979, 12418: 11980, 12419: 11981, 12420: 11982, 12421: 11983, 12422: 11984, 12423: 11985, 12424: 11986, 12425: 11987, 12426: 11988, 12427: 11989, 12428: 11990, 12429: 11991, 12430: 11992, 12431: 11993, 12432: 11994, 12433: 11995, 12434: 11996, 12435: 11997, 12436: 11998, 12437: 11999, 12438: 12000, 12439: 12001, 12440: 12002, 12441: 12003, 12442: 12004, 12443: 12005, 12444: 12006, 12445: 12007, 12446: 12008, 12447: 12009, 12448: 12010, 12449: 12011, 12450: 12012, 12451: 12013, 12452: 12014, 12453: 12015, 12454: 12016, 12455: 12017, 12456: 12018, 12457: 12019, 12458: 12020, 12459: 12021, 12460: 12022, 12461: 12023, 12462: 12024, 12463: 12025, 12464: 12026, 12465: 12027, 12466: 12028, 12467: 12029, 12468: 12030, 12469: 12031, 12470: 12032, 12471: 12033, 12472: 12034, 12473: 12035, 12474: 12036, 12475: 12037, 12476: 12038, 12477: 12039, 12478: 12040, 12479: 12041, 12480: 12042, 12481: 12043, 12482: 12044, 12483: 12045, 12484: 12046, 12485: 12047, 12486: 12048, 12487: 12049, 12488: 12050, 12489: 12051, 12490: 12052, 12491: 12053, 12492: 12054, 12493: 12055, 12494: 12056, 12495: 12057, 12496: 12058, 12497: 12059, 12498: 12060, 12499: 12061, 12500: 12062, 12501: 12063, 12502: 12064, 12503: 12065, 12504: 12066, 12505: 12067, 12506: 12068, 12507: 12069, 12508: 12070, 12509: 12071, 12510: 12072, 12511: 12073, 12512: 12074, 12513: 12075, 12514: 12076, 12515: 12077, 12516: 12078, 12517: 12079, 12518: 12080, 12519: 12081, 12520: 12082, 12521: 12083, 12522: 12084, 12523: 12085, 12524: 12086, 12525: 12087, 12526: 12088, 12527: 12089, 12528: 12090, 12529: 12091, 12530: 12092, 12531: 12093, 12532: 12094, 12535: 12095, 12538: 12096, 12544: 12097, 12545: 12098, 12546: 12099, 12547: 12100, 12548: 12101, 12549: 12102, 12550: 12103, 12551: 12104, 12552: 12105, 12553: 12106, 12554: 12107, 12555: 12108, 12556: 12109, 12557: 12110, 12558: 12111, 12559: 12112, 12560: 12113, 12561: 12114, 12562: 12115, 12563: 12116, 12564: 12117, 12565: 12118, 12566: 12119, 12567: 12120, 12568: 12121, 12569: 12122, 12570: 12123, 12571: 12124, 12572: 12125, 12573: 12126, 12574: 12127, 12575: 12128, 12576: 12129, 12577: 12130, 12578: 12131, 12579: 12132, 12580: 12133, 12581: 12134, 12582: 12135, 12583: 12136, 12584: 12137, 12585: 12138, 12586: 12139, 12587: 12140, 12588: 12141, 12589: 12142, 12590: 12143, 12591: 12144, 12592: 12145, 12593: 12146, 12594: 12147, 12595: 12148, 12596: 12149, 12597: 12150, 12598: 12151, 12599: 12152, 12600: 12153, 12601: 12154, 12602: 12155, 12603: 12156, 12604: 12157, 12605: 12158, 12606: 12159, 12607: 12160, 12608: 12161, 12612: 12162, 12618: 12163, 12620: 12164, 12621: 12165, 12622: 12166, 12623: 12167, 12624: 12168, 12625: 12169, 12626: 12170, 12627: 12171, 12628: 12172, 12629: 12173, 12630: 12174, 12631: 12175, 12632: 12176, 12633: 12177, 12634: 12178, 12635: 12179, 12636: 12180, 12637: 12181, 12638: 12182, 12639: 12183, 12640: 12184, 12641: 12185, 12642: 12186, 12643: 12187, 12644: 12188, 12645: 12189, 12646: 12190, 12647: 12191, 12648: 12192, 12649: 12193, 12650: 12194, 12651: 12195, 12652: 12196, 12653: 12197, 12654: 12198, 12655: 12199, 12656: 12200, 12657: 12201, 12658: 12202, 12659: 12203, 12660: 12204, 12661: 12205, 12662: 12206, 12663: 12207, 12664: 12208, 12665: 12209, 12666: 12210, 12667: 12211, 12668: 12212, 12669: 12213, 12670: 12214, 12671: 12215, 12672: 12216, 12673: 12217, 12674: 12218, 12675: 12219, 12676: 12220, 12677: 12221, 12678: 12222, 12679: 12223, 12680: 12224, 12681: 12225, 12682: 12226, 12683: 12227, 12684: 12228, 12685: 12229, 12686: 12230, 12687: 12231, 12688: 12232, 12689: 12233, 12690: 12234, 12691: 12235, 12692: 12236, 12693: 12237, 12694: 12238, 12695: 12239, 12696: 12240, 12697: 12241, 12698: 12242, 12699: 12243, 12700: 12244, 12701: 12245, 12702: 12246, 12703: 12247, 12704: 12248, 12705: 12249, 12706: 12250, 12707: 12251, 12708: 12252, 12709: 12253, 12710: 12254, 12711: 12255, 12712: 12256, 12713: 12257, 12714: 12258, 12715: 12259, 12716: 12260, 12717: 12261, 12718: 12262, 12719: 12263, 12720: 12264, 12721: 12265, 12722: 12266, 12723: 12267, 12724: 12268, 12725: 12269, 12726: 12270, 12727: 12271, 12728: 12272, 12729: 12273, 12730: 12274, 12731: 12275, 12732: 12276, 12733: 12277, 12734: 12278, 12735: 12279, 12736: 12280, 12737: 12281, 12738: 12282, 12739: 12283, 12740: 12284, 12741: 12285, 12742: 12286, 12743: 12287, 12744: 12288, 12745: 12289, 12746: 12290, 12747: 12291, 12748: 12292, 12749: 12293, 12750: 12294, 12751: 12295, 12752: 12296, 12753: 12297, 12754: 12298, 12755: 12299, 12756: 12300, 12757: 12301, 12758: 12302, 12759: 12303, 12760: 12304, 12761: 12305, 12762: 12306, 12763: 12307, 12764: 12308, 12765: 12309, 12766: 12310, 12767: 12311, 12768: 12312, 12769: 12313, 12770: 12314, 12771: 12315, 12772: 12316, 12773: 12317, 12774: 12318, 12775: 12319, 12776: 12320, 12777: 12321, 12778: 12322, 12779: 12323, 12780: 12324, 12781: 12325, 12782: 12326, 12783: 12327, 12784: 12328, 12785: 12329, 12786: 12330, 12787: 12331, 12788: 12332, 12789: 12333, 12790: 12334, 12791: 12335, 12792: 12336, 12793: 12337, 12794: 12338, 12795: 12339, 12796: 12340, 12797: 12341, 12798: 12342, 12799: 12343, 12800: 12344, 12801: 12345, 12802: 12346, 12803: 12347, 12804: 12348, 12805: 12349, 12806: 12350, 12807: 12351, 12808: 12352, 12809: 12353, 12810: 12354, 12811: 12355, 12812: 12356, 12813: 12357, 12814: 12358, 12815: 12359, 12816: 12360, 12817: 12361, 12818: 12362, 12819: 12363, 12820: 12364, 12821: 12365, 12822: 12366, 12823: 12367, 12824: 12368, 12825: 12369, 12826: 12370, 12827: 12371, 12828: 12372, 12829: 12373, 12830: 12374, 12831: 12375, 12832: 12376, 12833: 12377, 12834: 12378, 12835: 12379, 12836: 12380, 12837: 12381, 12838: 12382, 12839: 12383, 12840: 12384, 12841: 12385, 12842: 12386, 12843: 12387, 12844: 12388, 12845: 12389, 12846: 12390, 12847: 12391, 12848: 12392, 12849: 12393, 12850: 12394, 12851: 12395, 12852: 12396, 12853: 12397, 12854: 12398, 12855: 12399, 12856: 12400, 12857: 12401, 12858: 12402, 12859: 12403, 12860: 12404, 12861: 12405, 12862: 12406, 12863: 12407, 12864: 12408, 12865: 12409, 12866: 12410, 12867: 12411, 12868: 12412, 12869: 12413, 12870: 12414, 12871: 12415, 12872: 12416, 12873: 12417, 12874: 12418, 12875: 12419, 12876: 12420, 12877: 12421, 12878: 12422, 12879: 12423, 12880: 12424, 12881: 12425, 12882: 12426, 12883: 12427, 12884: 12428, 12885: 12429, 12886: 12430, 12887: 12431, 12888: 12432, 12889: 12433, 12890: 12434, 12897: 12435, 12902: 12436, 12909: 12437, 12911: 12438, 12915: 12439, 12917: 12440, 12918: 12441, 12919: 12442, 12920: 12443, 12921: 12444, 12922: 12445, 12923: 12446, 12924: 12447, 12925: 12448, 12926: 12449, 12927: 12450, 12928: 12451, 12929: 12452, 12930: 12453, 12931: 12454, 12932: 12455, 12933: 12456, 12934: 12457, 12935: 12458, 12936: 12459, 12937: 12460, 12938: 12461, 12939: 12462, 12940: 12463, 12943: 12464, 12944: 12465, 12945: 12466, 12946: 12467, 12947: 12468, 12948: 12469, 12949: 12470, 12950: 12471, 12951: 12472, 12952: 12473, 12953: 12474, 12954: 12475, 12955: 12476, 12956: 12477, 12957: 12478, 12958: 12479, 12959: 12480, 12960: 12481, 12961: 12482, 12962: 12483, 12963: 12484, 12964: 12485, 12965: 12486, 12966: 12487, 12967: 12488, 12968: 12489, 12969: 12490, 12970: 12491, 12971: 12492, 12972: 12493, 12973: 12494, 12974: 12495, 12975: 12496, 12976: 12497, 12977: 12498, 12978: 12499, 12979: 12500, 12980: 12501, 12981: 12502, 12982: 12503, 12983: 12504, 12984: 12505, 12985: 12506, 12986: 12507, 12987: 12508, 12988: 12509, 12989: 12510, 12990: 12511, 12991: 12512, 12992: 12513, 12993: 12514, 12994: 12515, 12995: 12516, 12996: 12517, 12997: 12518, 12998: 12519, 12999: 12520, 13000: 12521, 13001: 12522, 13002: 12523, 13003: 12524, 13004: 12525, 13005: 12526, 13006: 12527, 13007: 12528, 13008: 12529, 13009: 12530, 13010: 12531, 13011: 12532, 13012: 12533, 13013: 12534, 13014: 12535, 13015: 12536, 13016: 12537, 13017: 12538, 13018: 12539, 13019: 12540, 13020: 12541, 13021: 12542, 13022: 12543, 13023: 12544, 13024: 12545, 13025: 12546, 13026: 12547, 13027: 12548, 13028: 12549, 13029: 12550, 13030: 12551, 13031: 12552, 13032: 12553, 13033: 12554, 13034: 12555, 13035: 12556, 13036: 12557, 13037: 12558, 13038: 12559, 13039: 12560, 13040: 12561, 13041: 12562, 13042: 12563, 13043: 12564, 13044: 12565, 13045: 12566, 13046: 12567, 13047: 12568, 13048: 12569, 13049: 12570, 13050: 12571, 13051: 12572, 13052: 12573, 13053: 12574, 13054: 12575, 13055: 12576, 13056: 12577, 13057: 12578, 13058: 12579, 13059: 12580, 13060: 12581, 13061: 12582, 13062: 12583, 13063: 12584, 13064: 12585, 13065: 12586, 13066: 12587, 13067: 12588, 13068: 12589, 13069: 12590, 13070: 12591, 13071: 12592, 13072: 12593, 13073: 12594, 13074: 12595, 13075: 12596, 13076: 12597, 13077: 12598, 13078: 12599, 13079: 12600, 13084: 12601, 13085: 12602, 13086: 12603, 13087: 12604, 13089: 12605, 13090: 12606, 13091: 12607, 13092: 12608, 13093: 12609, 13094: 12610, 13095: 12611, 13096: 12612, 13097: 12613, 13098: 12614, 13099: 12615, 13100: 12616, 13101: 12617, 13102: 12618, 13103: 12619, 13104: 12620, 13105: 12621, 13106: 12622, 13107: 12623, 13108: 12624, 13109: 12625, 13110: 12626, 13111: 12627, 13112: 12628, 13113: 12629, 13114: 12630, 13115: 12631, 13116: 12632, 13117: 12633, 13118: 12634, 13119: 12635, 13120: 12636, 13121: 12637, 13122: 12638, 13123: 12639, 13124: 12640, 13125: 12641, 13126: 12642, 13127: 12643, 13128: 12644, 13129: 12645, 13130: 12646, 13131: 12647, 13132: 12648, 13133: 12649, 13134: 12650, 13135: 12651, 13136: 12652, 13137: 12653, 13138: 12654, 13139: 12655, 13140: 12656, 13141: 12657, 13142: 12658, 13143: 12659, 13144: 12660, 13145: 12661, 13147: 12662, 13151: 12663, 13152: 12664, 13153: 12665, 13154: 12666, 13155: 12667, 13156: 12668, 13157: 12669, 13158: 12670, 13159: 12671, 13160: 12672, 13161: 12673, 13162: 12674, 13163: 12675, 13164: 12676, 13165: 12677, 13166: 12678, 13167: 12679, 13168: 12680, 13169: 12681, 13170: 12682, 13171: 12683, 13172: 12684, 13173: 12685, 13174: 12686, 13175: 12687, 13176: 12688, 13177: 12689, 13178: 12690, 13179: 12691, 13180: 12692, 13181: 12693, 13182: 12694, 13183: 12695, 13184: 12696, 13185: 12697, 13186: 12698, 13187: 12699, 13188: 12700, 13189: 12701, 13190: 12702, 13191: 12703, 13192: 12704, 13193: 12705, 13194: 12706, 13195: 12707, 13196: 12708, 13197: 12709, 13198: 12710, 13199: 12711, 13200: 12712, 13201: 12713, 13202: 12714, 13203: 12715, 13204: 12716, 13205: 12717, 13206: 12718, 13207: 12719, 13208: 12720, 13209: 12721, 13210: 12722, 13211: 12723, 13212: 12724, 13213: 12725, 13214: 12726, 13215: 12727, 13216: 12728, 13217: 12729, 13218: 12730, 13219: 12731, 13220: 12732, 13221: 12733, 13222: 12734, 13223: 12735, 13224: 12736, 13225: 12737, 13226: 12738, 13227: 12739, 13228: 12740, 13229: 12741, 13230: 12742, 13231: 12743, 13232: 12744, 13233: 12745, 13234: 12746, 13235: 12747, 13236: 12748, 13237: 12749, 13238: 12750, 13239: 12751, 13240: 12752, 13241: 12753, 13242: 12754, 13243: 12755, 13244: 12756, 13245: 12757, 13246: 12758, 13247: 12759, 13248: 12760, 13249: 12761, 13250: 12762, 13251: 12763, 13252: 12764, 13253: 12765, 13254: 12766, 13255: 12767, 13256: 12768, 13257: 12769, 13258: 12770, 13259: 12771, 13260: 12772, 13261: 12773, 13262: 12774, 13263: 12775, 13264: 12776, 13265: 12777, 13266: 12778, 13267: 12779, 13268: 12780, 13269: 12781, 13270: 12782, 13271: 12783, 13272: 12784, 13273: 12785, 13274: 12786, 13275: 12787, 13276: 12788, 13277: 12789, 13278: 12790, 13279: 12791, 13280: 12792, 13281: 12793, 13282: 12794, 13283: 12795, 13284: 12796, 13285: 12797, 13286: 12798, 13287: 12799, 13289: 12800, 13291: 12801, 13292: 12802, 13293: 12803, 13294: 12804, 13295: 12805, 13296: 12806, 13297: 12807, 13298: 12808, 13299: 12809, 13300: 12810, 13301: 12811, 13302: 12812, 13303: 12813, 13304: 12814, 13305: 12815, 13306: 12816, 13307: 12817, 13308: 12818, 13309: 12819, 13310: 12820, 13311: 12821, 13312: 12822, 13313: 12823, 13314: 12824, 13315: 12825, 13316: 12826, 13317: 12827, 13318: 12828, 13319: 12829, 13320: 12830, 13321: 12831, 13322: 12832, 13323: 12833, 13324: 12834, 13325: 12835, 13326: 12836, 13327: 12837, 13328: 12838, 13329: 12839, 13330: 12840, 13331: 12841, 13332: 12842, 13333: 12843, 13334: 12844, 13335: 12845, 13336: 12846, 13337: 12847, 13338: 12848, 13339: 12849, 13340: 12850, 13341: 12851, 13342: 12852, 13343: 12853, 13344: 12854, 13345: 12855, 13346: 12856, 13347: 12857, 13348: 12858, 13349: 12859, 13350: 12860, 13351: 12861, 13352: 12862, 13353: 12863, 13354: 12864, 13355: 12865, 13356: 12866, 13357: 12867, 13358: 12868, 13359: 12869, 13360: 12870, 13361: 12871, 13362: 12872, 13363: 12873, 13364: 12874, 13365: 12875, 13366: 12876, 13367: 12877, 13368: 12878, 13369: 12879, 13370: 12880, 13371: 12881, 13372: 12882, 13373: 12883, 13374: 12884, 13375: 12885, 13376: 12886, 13377: 12887, 13378: 12888, 13379: 12889, 13380: 12890, 13381: 12891, 13382: 12892, 13383: 12893, 13384: 12894, 13385: 12895, 13386: 12896, 13387: 12897, 13388: 12898, 13389: 12899, 13390: 12900, 13391: 12901, 13392: 12902, 13393: 12903, 13394: 12904, 13395: 12905, 13396: 12906, 13397: 12907, 13398: 12908, 13399: 12909, 13400: 12910, 13401: 12911, 13406: 12912, 13409: 12913, 13410: 12914, 13411: 12915, 13412: 12916, 13413: 12917, 13414: 12918, 13415: 12919, 13416: 12920, 13417: 12921, 13418: 12922, 13419: 12923, 13420: 12924, 13421: 12925, 13422: 12926, 13423: 12927, 13424: 12928, 13425: 12929, 13426: 12930, 13427: 12931, 13428: 12932, 13429: 12933, 13430: 12934, 13431: 12935, 13432: 12936, 13433: 12937, 13434: 12938, 13435: 12939, 13436: 12940, 13437: 12941, 13438: 12942, 13439: 12943, 13440: 12944, 13441: 12945, 13442: 12946, 13443: 12947, 13444: 12948, 13445: 12949, 13446: 12950, 13447: 12951, 13448: 12952, 13449: 12953, 13450: 12954, 13451: 12955, 13452: 12956, 13453: 12957, 13454: 12958, 13455: 12959, 13456: 12960, 13458: 12961, 13460: 12962, 13463: 12963, 13468: 12964, 13478: 12965, 13491: 12966, 13497: 12967, 13498: 12968, 13499: 12969, 13500: 12970, 13501: 12971, 13502: 12972, 13503: 12973, 13504: 12974, 13505: 12975, 13506: 12976, 13507: 12977, 13508: 12978, 13509: 12979, 13510: 12980, 13511: 12981, 13512: 12982, 13513: 12983, 13514: 12984, 13515: 12985, 13516: 12986, 13517: 12987, 13518: 12988, 13519: 12989, 13520: 12990, 13521: 12991, 13522: 12992, 13523: 12993, 13524: 12994, 13525: 12995, 13526: 12996, 13527: 12997, 13528: 12998, 13529: 12999, 13530: 13000, 13531: 13001, 13532: 13002, 13533: 13003, 13534: 13004, 13535: 13005, 13536: 13006, 13537: 13007, 13538: 13008, 13539: 13009, 13540: 13010, 13541: 13011, 13542: 13012, 13543: 13013, 13544: 13014, 13545: 13015, 13546: 13016, 13547: 13017, 13548: 13018, 13549: 13019, 13550: 13020, 13551: 13021, 13552: 13022, 13553: 13023, 13554: 13024, 13555: 13025, 13556: 13026, 13557: 13027, 13558: 13028, 13559: 13029, 13560: 13030, 13561: 13031, 13562: 13032, 13563: 13033, 13564: 13034, 13565: 13035, 13566: 13036, 13567: 13037, 13568: 13038, 13575: 13039, 13579: 13040, 13580: 13041, 13581: 13042, 13582: 13043, 13583: 13044, 13584: 13045, 13585: 13046, 13586: 13047, 13587: 13048, 13588: 13049, 13589: 13050, 13590: 13051, 13591: 13052, 13592: 13053, 13593: 13054, 13594: 13055, 13595: 13056, 13596: 13057, 13597: 13058, 13598: 13059, 13599: 13060, 13600: 13061, 13601: 13062, 13602: 13063, 13603: 13064, 13604: 13065, 13605: 13066, 13606: 13067, 13607: 13068, 13608: 13069, 13609: 13070, 13610: 13071, 13611: 13072, 13612: 13073, 13613: 13074, 13614: 13075, 13615: 13076, 13616: 13077, 13617: 13078, 13618: 13079, 13619: 13080, 13620: 13081, 13621: 13082, 13622: 13083, 13623: 13084, 13624: 13085, 13625: 13086, 13626: 13087, 13627: 13088, 13628: 13089, 13629: 13090, 13630: 13091, 13631: 13092, 13632: 13093, 13633: 13094, 13634: 13095, 13635: 13096, 13636: 13097, 13637: 13098, 13638: 13099, 13639: 13100, 13640: 13101, 13641: 13102, 13642: 13103, 13643: 13104, 13644: 13105, 13645: 13106, 13646: 13107, 13647: 13108, 13648: 13109, 13649: 13110, 13650: 13111, 13651: 13112, 13652: 13113, 13653: 13114, 13654: 13115, 13655: 13116, 13656: 13117, 13657: 13118, 13659: 13119, 13660: 13120, 13664: 13121, 13665: 13122, 13666: 13123, 13667: 13124, 13668: 13125, 13669: 13126, 13670: 13127, 13671: 13128, 13672: 13129, 13673: 13130, 13674: 13131, 13675: 13132, 13676: 13133, 13677: 13134, 13678: 13135, 13679: 13136, 13680: 13137, 13681: 13138, 13682: 13139, 13683: 13140, 13684: 13141, 13685: 13142, 13686: 13143, 13687: 13144, 13688: 13145, 13689: 13146, 13690: 13147, 13691: 13148, 13692: 13149, 13693: 13150, 13694: 13151, 13695: 13152, 13696: 13153, 13697: 13154, 13698: 13155, 13699: 13156, 13700: 13157, 13701: 13158, 13702: 13159, 13703: 13160, 13704: 13161, 13705: 13162, 13706: 13163, 13707: 13164, 13708: 13165, 13709: 13166, 13710: 13167, 13711: 13168, 13712: 13169, 13713: 13170, 13714: 13171, 13715: 13172, 13716: 13173, 13717: 13174, 13718: 13175, 13719: 13176, 13720: 13177, 13721: 13178, 13722: 13179, 13723: 13180, 13724: 13181, 13725: 13182, 13726: 13183, 13727: 13184, 13728: 13185, 13729: 13186, 13730: 13187, 13731: 13188, 13732: 13189, 13733: 13190, 13734: 13191, 13735: 13192, 13736: 13193, 13737: 13194, 13738: 13195, 13739: 13196, 13740: 13197, 13741: 13198, 13742: 13199, 13743: 13200, 13744: 13201, 13748: 13202, 13749: 13203, 13750: 13204, 13751: 13205, 13752: 13206, 13753: 13207, 13754: 13208, 13755: 13209, 13756: 13210, 13757: 13211, 13758: 13212, 13759: 13213, 13760: 13214, 13761: 13215, 13762: 13216, 13763: 13217, 13764: 13218, 13765: 13219, 13766: 13220, 13767: 13221, 13768: 13222, 13769: 13223, 13770: 13224, 13771: 13225, 13772: 13226, 13773: 13227, 13774: 13228, 13775: 13229, 13776: 13230, 13777: 13231, 13778: 13232, 13779: 13233, 13780: 13234, 13782: 13235, 13790: 13236, 13791: 13237, 13792: 13238, 13793: 13239, 13794: 13240, 13795: 13241, 13796: 13242, 13797: 13243, 13798: 13244, 13799: 13245, 13800: 13246, 13801: 13247, 13802: 13248, 13803: 13249, 13804: 13250, 13805: 13251, 13806: 13252, 13807: 13253, 13808: 13254, 13809: 13255, 13810: 13256, 13811: 13257, 13812: 13258, 13813: 13259, 13814: 13260, 13815: 13261, 13816: 13262, 13817: 13263, 13818: 13264, 13819: 13265, 13820: 13266, 13821: 13267, 13822: 13268, 13823: 13269, 13824: 13270, 13825: 13271, 13826: 13272, 13827: 13273, 13828: 13274, 13829: 13275, 13830: 13276, 13831: 13277, 13832: 13278, 13834: 13279, 13838: 13280, 13839: 13281, 13840: 13282, 13841: 13283, 13842: 13284, 13843: 13285, 13844: 13286, 13845: 13287, 13846: 13288, 13847: 13289, 13848: 13290, 13849: 13291, 13850: 13292, 13851: 13293, 13852: 13294, 13853: 13295, 13854: 13296, 13855: 13297, 13856: 13298, 13857: 13299, 13858: 13300, 13859: 13301, 13860: 13302, 13861: 13303, 13862: 13304, 13863: 13305, 13864: 13306, 13865: 13307, 13866: 13308, 13867: 13309, 13868: 13310, 13869: 13311, 13870: 13312, 13871: 13313, 13872: 13314, 13873: 13315, 13874: 13316, 13875: 13317, 13876: 13318, 13877: 13319, 13878: 13320, 13879: 13321, 13880: 13322, 13881: 13323, 13882: 13324, 13883: 13325, 13884: 13326, 13885: 13327, 13886: 13328, 13887: 13329, 13888: 13330, 13889: 13331, 13890: 13332, 13891: 13333, 13892: 13334, 13900: 13335, 13901: 13336, 13902: 13337, 13904: 13338, 13905: 13339, 13906: 13340, 13907: 13341, 13908: 13342, 13909: 13343, 13910: 13344, 13911: 13345, 13912: 13346, 13913: 13347, 13914: 13348, 13915: 13349, 13916: 13350, 13917: 13351, 13918: 13352, 13919: 13353, 13920: 13354, 13921: 13355, 13922: 13356, 13923: 13357, 13924: 13358, 13925: 13359, 13926: 13360, 13927: 13361, 13928: 13362, 13929: 13363, 13930: 13364, 13931: 13365, 13932: 13366, 13933: 13367, 13934: 13368, 13935: 13369, 13936: 13370, 13937: 13371, 13938: 13372, 13939: 13373, 13940: 13374, 13941: 13375, 13942: 13376, 13943: 13377, 13944: 13378, 13945: 13379, 13946: 13380, 13947: 13381, 13948: 13382, 13949: 13383, 13950: 13384, 13951: 13385, 13952: 13386, 13953: 13387, 13954: 13388, 13955: 13389, 13956: 13390, 13957: 13391, 13958: 13392, 13959: 13393, 13960: 13394, 13962: 13395, 13964: 13396, 13965: 13397, 13966: 13398, 13967: 13399, 13968: 13400, 13969: 13401, 13970: 13402, 13971: 13403, 13978: 13404, 13981: 13405, 13982: 13406, 13983: 13407, 13984: 13408, 13985: 13409, 13986: 13410, 13987: 13411, 13988: 13412, 13989: 13413, 13990: 13414, 13991: 13415, 13992: 13416, 13993: 13417, 13994: 13418, 13995: 13419, 13997: 13420, 13999: 13421, 14000: 13422, 14001: 13423, 14002: 13424, 14003: 13425, 14004: 13426, 14005: 13427, 14006: 13428, 14007: 13429, 14008: 13430, 14009: 13431, 14010: 13432, 14011: 13433, 14012: 13434, 14013: 13435, 14014: 13436, 14015: 13437, 14016: 13438, 14017: 13439, 14018: 13440, 14019: 13441, 14020: 13442, 14021: 13443, 14022: 13444, 14023: 13445, 14024: 13446, 14025: 13447, 14026: 13448, 14027: 13449, 14028: 13450, 14029: 13451, 14030: 13452, 14031: 13453, 14032: 13454, 14033: 13455, 14034: 13456, 14035: 13457, 14036: 13458, 14037: 13459, 14038: 13460, 14039: 13461, 14040: 13462, 14041: 13463, 14042: 13464, 14043: 13465, 14044: 13466, 14045: 13467, 14046: 13468, 14047: 13469, 14048: 13470, 14049: 13471, 14050: 13472, 14051: 13473, 14052: 13474, 14053: 13475, 14054: 13476, 14055: 13477, 14056: 13478, 14057: 13479, 14058: 13480, 14059: 13481, 14060: 13482, 14061: 13483, 14062: 13484, 14063: 13485, 14064: 13486, 14065: 13487, 14066: 13488, 14067: 13489, 14068: 13490, 14069: 13491, 14070: 13492, 14071: 13493, 14072: 13494, 14073: 13495, 14074: 13496, 14075: 13497, 14076: 13498, 14077: 13499, 14078: 13500, 14079: 13501, 14080: 13502, 14081: 13503, 14082: 13504, 14083: 13505, 14084: 13506, 14085: 13507, 14086: 13508, 14087: 13509, 14088: 13510, 14089: 13511, 14090: 13512, 14091: 13513, 14092: 13514, 14093: 13515, 14094: 13516, 14095: 13517, 14096: 13518, 14097: 13519, 14106: 13520, 14107: 13521, 14108: 13522, 14109: 13523, 14110: 13524, 14111: 13525, 14112: 13526, 14113: 13527, 14114: 13528, 14115: 13529, 14116: 13530, 14117: 13531, 14118: 13532, 14119: 13533, 14120: 13534, 14121: 13535, 14122: 13536, 14123: 13537, 14124: 13538, 14125: 13539, 14126: 13540, 14127: 13541, 14128: 13542, 14129: 13543, 14130: 13544, 14131: 13545, 14132: 13546, 14133: 13547, 14134: 13548, 14135: 13549, 14136: 13550, 14137: 13551, 14138: 13552, 14139: 13553, 14140: 13554, 14141: 13555, 14142: 13556, 14143: 13557, 14144: 13558, 14145: 13559, 14146: 13560, 14147: 13561, 14148: 13562, 14149: 13563, 14150: 13564, 14151: 13565, 14152: 13566, 14153: 13567, 14154: 13568, 14155: 13569, 14156: 13570, 14157: 13571, 14158: 13572, 14159: 13573, 14160: 13574, 14161: 13575, 14162: 13576, 14163: 13577, 14164: 13578, 14165: 13579, 14166: 13580, 14167: 13581, 14168: 13582, 14169: 13583, 14170: 13584, 14171: 13585, 14172: 13586, 14173: 13587, 14174: 13588, 14175: 13589, 14176: 13590, 14177: 13591, 14178: 13592, 14179: 13593, 14180: 13594, 14181: 13595, 14182: 13596, 14183: 13597, 14184: 13598, 14185: 13599, 14186: 13600, 14187: 13601, 14188: 13602, 14189: 13603, 14190: 13604, 14191: 13605, 14192: 13606, 14193: 13607, 14194: 13608, 14195: 13609, 14196: 13610, 14197: 13611, 14198: 13612, 14199: 13613, 14200: 13614, 14201: 13615, 14202: 13616, 14203: 13617, 14204: 13618, 14205: 13619, 14206: 13620, 14207: 13621, 14208: 13622, 14209: 13623, 14210: 13624, 14211: 13625, 14212: 13626, 14213: 13627, 14214: 13628, 14215: 13629, 14216: 13630, 14217: 13631, 14218: 13632, 14219: 13633, 14220: 13634, 14221: 13635, 14222: 13636, 14223: 13637, 14224: 13638, 14225: 13639, 14226: 13640, 14227: 13641, 14228: 13642, 14229: 13643, 14230: 13644, 14231: 13645, 14232: 13646, 14233: 13647, 14234: 13648, 14235: 13649, 14236: 13650, 14237: 13651, 14238: 13652, 14239: 13653, 14240: 13654, 14241: 13655, 14242: 13656, 14243: 13657, 14244: 13658, 14245: 13659, 14246: 13660, 14247: 13661, 14248: 13662, 14249: 13663, 14250: 13664, 14251: 13665, 14252: 13666, 14253: 13667, 14254: 13668, 14255: 13669, 14256: 13670, 14257: 13671, 14258: 13672, 14259: 13673, 14260: 13674, 14261: 13675, 14262: 13676, 14263: 13677, 14264: 13678, 14265: 13679, 14266: 13680, 14267: 13681, 14268: 13682, 14269: 13683, 14271: 13684, 14278: 13685, 14279: 13686, 14280: 13687, 14284: 13688, 14285: 13689, 14286: 13690, 14287: 13691, 14288: 13692, 14289: 13693, 14290: 13694, 14291: 13695, 14292: 13696, 14293: 13697, 14294: 13698, 14295: 13699, 14296: 13700, 14297: 13701, 14298: 13702, 14299: 13703, 14300: 13704, 14301: 13705, 14302: 13706, 14303: 13707, 14304: 13708, 14305: 13709, 14306: 13710, 14307: 13711, 14308: 13712, 14309: 13713, 14310: 13714, 14311: 13715, 14312: 13716, 14313: 13717, 14314: 13718, 14315: 13719, 14316: 13720, 14317: 13721, 14318: 13722, 14319: 13723, 14320: 13724, 14321: 13725, 14322: 13726, 14323: 13727, 14324: 13728, 14325: 13729, 14326: 13730, 14327: 13731, 14328: 13732, 14329: 13733, 14330: 13734, 14331: 13735, 14332: 13736, 14333: 13737, 14334: 13738, 14335: 13739, 14337: 13740, 14339: 13741, 14340: 13742, 14341: 13743, 14342: 13744, 14343: 13745, 14344: 13746, 14345: 13747, 14346: 13748, 14347: 13749, 14348: 13750, 14349: 13751, 14350: 13752, 14351: 13753, 14352: 13754, 14353: 13755, 14354: 13756, 14355: 13757, 14356: 13758, 14357: 13759, 14358: 13760, 14359: 13761, 14360: 13762, 14361: 13763, 14362: 13764, 14363: 13765, 14364: 13766, 14365: 13767, 14366: 13768, 14367: 13769, 14368: 13770, 14369: 13771, 14370: 13772, 14371: 13773, 14372: 13774, 14373: 13775, 14374: 13776, 14375: 13777, 14376: 13778, 14378: 13779, 14385: 13780, 14386: 13781, 14387: 13782, 14388: 13783, 14389: 13784, 14390: 13785, 14391: 13786, 14392: 13787, 14393: 13788, 14394: 13789, 14395: 13790, 14396: 13791, 14397: 13792, 14398: 13793, 14399: 13794, 14400: 13795, 14401: 13796, 14410: 13797, 14424: 13798, 14435: 13799, 14436: 13800, 14439: 13801, 14441: 13802, 14442: 13803, 14443: 13804, 14444: 13805, 14445: 13806, 14446: 13807, 14447: 13808, 14448: 13809, 14449: 13810, 14450: 13811, 14451: 13812, 14452: 13813, 14453: 13814, 14454: 13815, 14455: 13816, 14456: 13817, 14457: 13818, 14458: 13819, 14459: 13820, 14460: 13821, 14461: 13822, 14462: 13823, 14463: 13824, 14464: 13825, 14465: 13826, 14466: 13827, 14467: 13828, 14468: 13829, 14469: 13830, 14470: 13831, 14471: 13832, 14472: 13833, 14473: 13834, 14474: 13835, 14475: 13836, 14476: 13837, 14477: 13838, 14478: 13839, 14479: 13840, 14480: 13841, 14481: 13842, 14482: 13843, 14483: 13844, 14484: 13845, 14485: 13846, 14486: 13847, 14487: 13848, 14488: 13849, 14489: 13850, 14490: 13851, 14491: 13852, 14492: 13853, 14493: 13854, 14494: 13855, 14495: 13856, 14496: 13857, 14497: 13858, 14498: 13859, 14499: 13860, 14500: 13861, 14501: 13862, 14502: 13863, 14503: 13864, 14504: 13865, 14505: 13866, 14506: 13867, 14507: 13868, 14508: 13869, 14509: 13870, 14510: 13871, 14511: 13872, 14512: 13873, 14513: 13874, 14514: 13875, 14515: 13876, 14516: 13877, 14517: 13878, 14518: 13879, 14519: 13880, 14520: 13881, 14521: 13882, 14522: 13883, 14523: 13884, 14524: 13885, 14525: 13886, 14526: 13887, 14527: 13888, 14528: 13889, 14529: 13890, 14530: 13891, 14531: 13892, 14532: 13893, 14533: 13894, 14534: 13895, 14535: 13896, 14536: 13897, 14537: 13898, 14538: 13899, 14539: 13900, 14540: 13901, 14541: 13902, 14542: 13903, 14543: 13904, 14544: 13905, 14545: 13906, 14546: 13907, 14547: 13908, 14548: 13909, 14550: 13910, 14551: 13911, 14552: 13912, 14553: 13913, 14554: 13914, 14555: 13915, 14556: 13916, 14557: 13917, 14558: 13918, 14559: 13919, 14560: 13920, 14561: 13921, 14562: 13922, 14563: 13923, 14564: 13924, 14565: 13925, 14566: 13926, 14567: 13927, 14568: 13928, 14569: 13929, 14570: 13930, 14571: 13931, 14572: 13932, 14573: 13933, 14574: 13934, 14575: 13935, 14576: 13936, 14577: 13937, 14578: 13938, 14579: 13939, 14580: 13940, 14581: 13941, 14582: 13942, 14583: 13943, 14584: 13944, 14585: 13945, 14586: 13946, 14587: 13947, 14588: 13948, 14589: 13949, 14590: 13950, 14591: 13951, 14592: 13952, 14593: 13953, 14594: 13954, 14595: 13955, 14596: 13956, 14597: 13957, 14598: 13958, 14599: 13959, 14600: 13960, 14601: 13961, 14602: 13962, 14603: 13963, 14604: 13964, 14605: 13965, 14606: 13966, 14607: 13967, 14608: 13968, 14609: 13969, 14610: 13970, 14614: 13971, 14618: 13972, 14619: 13973, 14620: 13974, 14621: 13975, 14622: 13976, 14623: 13977, 14624: 13978, 14625: 13979, 14626: 13980, 14627: 13981, 14628: 13982, 14629: 13983, 14630: 13984, 14631: 13985, 14632: 13986, 14633: 13987, 14634: 13988, 14635: 13989, 14636: 13990, 14637: 13991, 14638: 13992, 14639: 13993, 14640: 13994, 14641: 13995, 14642: 13996, 14643: 13997, 14644: 13998, 14645: 13999, 14646: 14000, 14647: 14001, 14648: 14002, 14649: 14003, 14650: 14004, 14651: 14005, 14652: 14006, 14653: 14007, 14657: 14008, 14661: 14009, 14662: 14010, 14663: 14011, 14664: 14012, 14665: 14013, 14666: 14014, 14667: 14015, 14668: 14016, 14669: 14017, 14670: 14018, 14671: 14019, 14672: 14020, 14673: 14021, 14674: 14022, 14675: 14023, 14676: 14024, 14677: 14025, 14678: 14026, 14679: 14027, 14680: 14028, 14681: 14029, 14682: 14030, 14683: 14031, 14684: 14032, 14685: 14033, 14686: 14034, 14687: 14035, 14688: 14036, 14689: 14037, 14690: 14038, 14691: 14039, 14692: 14040, 14693: 14041, 14694: 14042, 14695: 14043, 14696: 14044, 14697: 14045, 14698: 14046, 14699: 14047, 14700: 14048, 14701: 14049, 14702: 14050, 14703: 14051, 14704: 14052, 14705: 14053, 14706: 14054, 14707: 14055, 14708: 14056, 14712: 14057, 14722: 14058, 14723: 14059, 14724: 14060, 14725: 14061, 14726: 14062, 14727: 14063, 14728: 14064, 14729: 14065, 14730: 14066, 14731: 14067, 14732: 14068, 14733: 14069, 14734: 14070, 14735: 14071, 14736: 14072, 14737: 14073, 14738: 14074, 14739: 14075, 14740: 14076, 14741: 14077, 14742: 14078, 14743: 14079, 14744: 14080, 14745: 14081, 14746: 14082, 14747: 14083, 14748: 14084, 14749: 14085, 14750: 14086, 14751: 14087, 14752: 14088, 14753: 14089, 14754: 14090, 14755: 14091, 14756: 14092, 14757: 14093, 14758: 14094, 14759: 14095, 14760: 14096, 14761: 14097, 14762: 14098, 14763: 14099, 14764: 14100, 14765: 14101, 14766: 14102, 14767: 14103, 14768: 14104, 14769: 14105, 14770: 14106, 14771: 14107, 14772: 14108, 14773: 14109, 14774: 14110, 14775: 14111, 14776: 14112, 14777: 14113, 14778: 14114, 14779: 14115, 14780: 14116, 14781: 14117, 14782: 14118, 14783: 14119, 14784: 14120, 14785: 14121, 14786: 14122, 14787: 14123, 14788: 14124, 14789: 14125, 14790: 14126, 14791: 14127, 14792: 14128, 14793: 14129, 14794: 14130, 14795: 14131, 14796: 14132, 14797: 14133, 14798: 14134, 14799: 14135, 14800: 14136, 14801: 14137, 14802: 14138, 14803: 14139, 14804: 14140, 14805: 14141, 14806: 14142, 14807: 14143, 14827: 14144, 14828: 14145, 14829: 14146, 14830: 14147, 14831: 14148, 14832: 14149, 14833: 14150, 14834: 14151, 14835: 14152, 14836: 14153, 14837: 14154, 14838: 14155, 14839: 14156, 14840: 14157, 14841: 14158, 14842: 14159, 14843: 14160, 14844: 14161, 14845: 14162, 14846: 14163, 14847: 14164, 14853: 14165, 14863: 14166, 14871: 14167, 14872: 14168, 14873: 14169, 14874: 14170, 14875: 14171, 14876: 14172, 14877: 14173, 14878: 14174, 14879: 14175, 14880: 14176, 14881: 14177, 14882: 14178, 14883: 14179, 14884: 14180, 14885: 14181, 14886: 14182, 14887: 14183, 14888: 14184, 14889: 14185, 14890: 14186, 14891: 14187, 14892: 14188, 14893: 14189, 14894: 14190, 14895: 14191, 14896: 14192, 14897: 14193, 14898: 14194, 14899: 14195, 14900: 14196, 14901: 14197, 14902: 14198, 14903: 14199, 14904: 14200, 14905: 14201, 14906: 14202, 14907: 14203, 14908: 14204, 14909: 14205, 14910: 14206, 14911: 14207, 14912: 14208, 14913: 14209, 14914: 14210, 14915: 14211, 14916: 14212, 14917: 14213, 14918: 14214, 14919: 14215, 14920: 14216, 14921: 14217, 14922: 14218, 14923: 14219, 14924: 14220, 14925: 14221, 14926: 14222, 14927: 14223, 14928: 14224, 14929: 14225, 14930: 14226, 14931: 14227, 14932: 14228, 14933: 14229, 14934: 14230, 14935: 14231, 14936: 14232, 14937: 14233, 14938: 14234, 14939: 14235, 14940: 14236, 14941: 14237, 14942: 14238, 14943: 14239, 14944: 14240, 14945: 14241, 14946: 14242, 14947: 14243, 14948: 14244, 14949: 14245, 14950: 14246, 14951: 14247, 14952: 14248, 14953: 14249, 14954: 14250, 14955: 14251, 14956: 14252, 14957: 14253, 14958: 14254, 14959: 14255, 14960: 14256, 14961: 14257, 14962: 14258, 14963: 14259, 14964: 14260, 14965: 14261, 14966: 14262, 14967: 14263, 14968: 14264, 14969: 14265, 14970: 14266, 14971: 14267, 14972: 14268, 14973: 14269, 14974: 14270, 14975: 14271, 14976: 14272, 14977: 14273, 14978: 14274, 14979: 14275, 14980: 14276, 14981: 14277, 14982: 14278, 14983: 14279, 14984: 14280, 14985: 14281, 14986: 14282, 14987: 14283, 14988: 14284, 14989: 14285, 14990: 14286, 14991: 14287, 14992: 14288, 14993: 14289, 14994: 14290, 14995: 14291, 14996: 14292, 14997: 14293, 14998: 14294, 14999: 14295, 15000: 14296, 15001: 14297, 15002: 14298, 15003: 14299, 15004: 14300, 15005: 14301, 15006: 14302, 15007: 14303, 15008: 14304, 15009: 14305, 15010: 14306, 15011: 14307, 15012: 14308, 15013: 14309, 15014: 14310, 15015: 14311, 15016: 14312, 15017: 14313, 15018: 14314, 15019: 14315, 15020: 14316, 15021: 14317, 15022: 14318, 15023: 14319, 15024: 14320, 15025: 14321, 15026: 14322, 15027: 14323, 15028: 14324, 15029: 14325, 15030: 14326, 15031: 14327, 15032: 14328, 15033: 14329, 15034: 14330, 15035: 14331, 15036: 14332, 15037: 14333, 15038: 14334, 15039: 14335, 15040: 14336, 15041: 14337, 15042: 14338, 15043: 14339, 15044: 14340, 15045: 14341, 15046: 14342, 15047: 14343, 15048: 14344, 15049: 14345, 15050: 14346, 15051: 14347, 15052: 14348, 15053: 14349, 15054: 14350, 15055: 14351, 15056: 14352, 15057: 14353, 15058: 14354, 15059: 14355, 15060: 14356, 15061: 14357, 15062: 14358, 15063: 14359, 15064: 14360, 15065: 14361, 15066: 14362, 15067: 14363, 15068: 14364, 15069: 14365, 15070: 14366, 15071: 14367, 15072: 14368, 15073: 14369, 15074: 14370, 15075: 14371, 15076: 14372, 15077: 14373, 15078: 14374, 15079: 14375, 15080: 14376, 15081: 14377, 15082: 14378, 15083: 14379, 15084: 14380, 15085: 14381, 15086: 14382, 15087: 14383, 15088: 14384, 15089: 14385, 15090: 14386, 15091: 14387, 15092: 14388, 15093: 14389, 15094: 14390, 15095: 14391, 15096: 14392, 15097: 14393, 15098: 14394, 15099: 14395, 15100: 14396, 15101: 14397, 15102: 14398, 15103: 14399, 15104: 14400, 15105: 14401, 15106: 14402, 15107: 14403, 15108: 14404, 15109: 14405, 15110: 14406, 15111: 14407, 15112: 14408, 15113: 14409, 15114: 14410, 15115: 14411, 15116: 14412, 15117: 14413, 15118: 14414, 15119: 14415, 15120: 14416, 15121: 14417, 15122: 14418, 15124: 14419, 15128: 14420, 15130: 14421, 15134: 14422, 15135: 14423, 15136: 14424, 15137: 14425, 15138: 14426, 15139: 14427, 15140: 14428, 15141: 14429, 15142: 14430, 15143: 14431, 15144: 14432, 15145: 14433, 15146: 14434, 15147: 14435, 15148: 14436, 15149: 14437, 15150: 14438, 15151: 14439, 15152: 14440, 15153: 14441, 15154: 14442, 15155: 14443, 15156: 14444, 15157: 14445, 15158: 14446, 15159: 14447, 15160: 14448, 15161: 14449, 15162: 14450, 15163: 14451, 15164: 14452, 15165: 14453, 15166: 14454, 15167: 14455, 15168: 14456, 15169: 14457, 15170: 14458, 15171: 14459, 15172: 14460, 15173: 14461, 15179: 14462, 15180: 14463, 15181: 14464, 15182: 14465, 15183: 14466, 15184: 14467, 15185: 14468, 15186: 14469, 15191: 14470, 15192: 14471, 15193: 14472, 15194: 14473, 15195: 14474, 15196: 14475, 15197: 14476, 15198: 14477, 15199: 14478, 15200: 14479, 15201: 14480, 15202: 14481, 15203: 14482, 15204: 14483, 15205: 14484, 15206: 14485, 15207: 14486, 15208: 14487, 15209: 14488, 15210: 14489, 15211: 14490, 15212: 14491, 15213: 14492, 15214: 14493, 15215: 14494, 15216: 14495, 15217: 14496, 15218: 14497, 15219: 14498, 15220: 14499, 15221: 14500, 15222: 14501, 15223: 14502, 15224: 14503, 15225: 14504, 15226: 14505, 15227: 14506, 15228: 14507, 15229: 14508, 15230: 14509, 15231: 14510, 15232: 14511, 15233: 14512, 15234: 14513, 15235: 14514, 15236: 14515, 15237: 14516, 15238: 14517, 15239: 14518, 15240: 14519, 15241: 14520, 15242: 14521, 15243: 14522, 15244: 14523, 15245: 14524, 15246: 14525, 15247: 14526, 15248: 14527, 15249: 14528, 15250: 14529, 15251: 14530, 15252: 14531, 15253: 14532, 15254: 14533, 15255: 14534, 15256: 14535, 15257: 14536, 15258: 14537, 15259: 14538, 15260: 14539, 15261: 14540, 15262: 14541, 15263: 14542, 15267: 14543, 15268: 14544, 15269: 14545, 15270: 14546, 15277: 14547, 15288: 14548, 15289: 14549, 15290: 14550, 15291: 14551, 15292: 14552, 15293: 14553, 15294: 14554, 15295: 14555, 15296: 14556, 15297: 14557, 15298: 14558, 15299: 14559, 15300: 14560, 15301: 14561, 15302: 14562, 15303: 14563, 15304: 14564, 15305: 14565, 15306: 14566, 15307: 14567, 15308: 14568, 15309: 14569, 15310: 14570, 15311: 14571, 15312: 14572, 15313: 14573, 15314: 14574, 15315: 14575, 15316: 14576, 15317: 14577, 15318: 14578, 15319: 14579, 15320: 14580, 15321: 14581, 15322: 14582, 15323: 14583, 15324: 14584, 15325: 14585, 15327: 14586, 15328: 14587, 15329: 14588, 15330: 14589, 15331: 14590, 15332: 14591, 15333: 14592, 15334: 14593, 15335: 14594, 15336: 14595, 15337: 14596, 15338: 14597, 15339: 14598, 15340: 14599, 15341: 14600, 15342: 14601, 15343: 14602, 15344: 14603, 15345: 14604, 15346: 14605, 15347: 14606, 15348: 14607, 15349: 14608, 15350: 14609, 15351: 14610, 15352: 14611, 15353: 14612, 15354: 14613, 15355: 14614, 15356: 14615, 15357: 14616, 15361: 14617, 15362: 14618, 15365: 14619, 15366: 14620, 15367: 14621, 15368: 14622, 15369: 14623, 15370: 14624, 15371: 14625, 15372: 14626, 15373: 14627, 15374: 14628, 15375: 14629, 15378: 14630, 15379: 14631, 15380: 14632, 15381: 14633, 15382: 14634, 15383: 14635, 15384: 14636, 15385: 14637, 15386: 14638, 15387: 14639, 15388: 14640, 15389: 14641, 15390: 14642, 15391: 14643, 15392: 14644, 15393: 14645, 15394: 14646, 15395: 14647, 15396: 14648, 15397: 14649, 15398: 14650, 15399: 14651, 15400: 14652, 15401: 14653, 15402: 14654, 15403: 14655, 15404: 14656, 15405: 14657, 15406: 14658, 15407: 14659, 15408: 14660, 15409: 14661, 15410: 14662, 15411: 14663, 15412: 14664, 15413: 14665, 15414: 14666, 15415: 14667, 15416: 14668, 15417: 14669, 15418: 14670, 15419: 14671, 15420: 14672, 15421: 14673, 15422: 14674, 15423: 14675, 15424: 14676, 15425: 14677, 15426: 14678, 15427: 14679, 15428: 14680, 15429: 14681, 15430: 14682, 15431: 14683, 15432: 14684, 15433: 14685, 15434: 14686, 15435: 14687, 15436: 14688, 15437: 14689, 15438: 14690, 15439: 14691, 15440: 14692, 15441: 14693, 15442: 14694, 15443: 14695, 15444: 14696, 15445: 14697, 15446: 14698, 15447: 14699, 15448: 14700, 15449: 14701, 15450: 14702, 15451: 14703, 15452: 14704, 15453: 14705, 15454: 14706, 15455: 14707, 15456: 14708, 15457: 14709, 15458: 14710, 15459: 14711, 15460: 14712, 15461: 14713, 15462: 14714, 15463: 14715, 15464: 14716, 15465: 14717, 15466: 14718, 15467: 14719, 15468: 14720, 15469: 14721, 15470: 14722, 15471: 14723, 15472: 14724, 15473: 14725, 15474: 14726, 15475: 14727, 15476: 14728, 15477: 14729, 15478: 14730, 15479: 14731, 15480: 14732, 15481: 14733, 15482: 14734, 15483: 14735, 15484: 14736, 15485: 14737, 15486: 14738, 15487: 14739, 15495: 14740, 15496: 14741, 15497: 14742, 15498: 14743, 15499: 14744, 15500: 14745, 15501: 14746, 15502: 14747, 15503: 14748, 15504: 14749, 15505: 14750, 15506: 14751, 15507: 14752, 15508: 14753, 15509: 14754, 15510: 14755, 15511: 14756, 15512: 14757, 15513: 14758, 15514: 14759, 15515: 14760, 15516: 14761, 15517: 14762, 15518: 14763, 15519: 14764, 15520: 14765, 15521: 14766, 15522: 14767, 15523: 14768, 15524: 14769, 15525: 14770, 15527: 14771, 15529: 14772, 15530: 14773, 15531: 14774, 15532: 14775, 15533: 14776, 15534: 14777, 15535: 14778, 15536: 14779, 15537: 14780, 15538: 14781, 15544: 14782, 15548: 14783, 15551: 14784, 15556: 14785, 15562: 14786, 15564: 14787, 15565: 14788, 15566: 14789, 15567: 14790, 15568: 14791, 15569: 14792, 15570: 14793, 15571: 14794, 15572: 14795, 15573: 14796, 15574: 14797, 15575: 14798, 15576: 14799, 15577: 14800, 15578: 14801, 15579: 14802, 15580: 14803, 15581: 14804, 15582: 14805, 15583: 14806, 15584: 14807, 15585: 14808, 15586: 14809, 15587: 14810, 15588: 14811, 15589: 14812, 15590: 14813, 15591: 14814, 15592: 14815, 15593: 14816, 15594: 14817, 15595: 14818, 15596: 14819, 15597: 14820, 15598: 14821, 15599: 14822, 15600: 14823, 15601: 14824, 15602: 14825, 15603: 14826, 15604: 14827, 15605: 14828, 15606: 14829, 15607: 14830, 15608: 14831, 15609: 14832, 15610: 14833, 15611: 14834, 15612: 14835, 15613: 14836, 15614: 14837, 15615: 14838, 15616: 14839, 15617: 14840, 15618: 14841, 15619: 14842, 15620: 14843, 15621: 14844, 15622: 14845, 15623: 14846, 15624: 14847, 15625: 14848, 15626: 14849, 15627: 14850, 15628: 14851, 15629: 14852, 15630: 14853, 15631: 14854, 15632: 14855, 15633: 14856, 15634: 14857, 15635: 14858, 15636: 14859, 15637: 14860, 15638: 14861, 15639: 14862, 15640: 14863, 15641: 14864, 15642: 14865, 15643: 14866, 15644: 14867, 15645: 14868, 15646: 14869, 15647: 14870, 15648: 14871, 15649: 14872, 15650: 14873, 15651: 14874, 15652: 14875, 15653: 14876, 15654: 14877, 15655: 14878, 15656: 14879, 15657: 14880, 15658: 14881, 15659: 14882, 15660: 14883, 15661: 14884, 15662: 14885, 15663: 14886, 15664: 14887, 15665: 14888, 15666: 14889, 15667: 14890, 15668: 14891, 15669: 14892, 15670: 14893, 15671: 14894, 15672: 14895, 15673: 14896, 15674: 14897, 15675: 14898, 15676: 14899, 15677: 14900, 15678: 14901, 15679: 14902, 15680: 14903, 15681: 14904, 15682: 14905, 15683: 14906, 15684: 14907, 15685: 14908, 15686: 14909, 15687: 14910, 15688: 14911, 15689: 14912, 15690: 14913, 15691: 14914, 15692: 14915, 15693: 14916, 15694: 14917, 15695: 14918, 15696: 14919, 15697: 14920, 15698: 14921, 15699: 14922, 15700: 14923, 15701: 14924, 15702: 14925, 15703: 14926, 15704: 14927, 15705: 14928, 15706: 14929, 15707: 14930, 15708: 14931, 15709: 14932, 15710: 14933, 15711: 14934, 15712: 14935, 15713: 14936, 15714: 14937, 15715: 14938, 15716: 14939, 15717: 14940, 15718: 14941, 15719: 14942, 15720: 14943, 15721: 14944, 15722: 14945, 15723: 14946, 15724: 14947, 15725: 14948, 15726: 14949, 15727: 14950, 15728: 14951, 15729: 14952, 15737: 14953, 15738: 14954, 15739: 14955, 15740: 14956, 15741: 14957, 15742: 14958, 15743: 14959, 15744: 14960, 15745: 14961, 15746: 14962, 15747: 14963, 15748: 14964, 15749: 14965, 15750: 14966, 15751: 14967, 15752: 14968, 15753: 14969, 15754: 14970, 15755: 14971, 15756: 14972, 15757: 14973, 15758: 14974, 15759: 14975, 15760: 14976, 15761: 14977, 15762: 14978, 15763: 14979, 15764: 14980, 15765: 14981, 15766: 14982, 15767: 14983, 15768: 14984, 15769: 14985, 15770: 14986, 15771: 14987, 15772: 14988, 15773: 14989, 15774: 14990, 15775: 14991, 15776: 14992, 15777: 14993, 15778: 14994, 15779: 14995, 15780: 14996, 15781: 14997, 15782: 14998, 15783: 14999, 15784: 15000, 15785: 15001, 15786: 15002, 15787: 15003, 15788: 15004, 15789: 15005, 15790: 15006, 15791: 15007, 15792: 15008, 15793: 15009, 15794: 15010, 15795: 15011, 15796: 15012, 15797: 15013, 15798: 15014, 15799: 15015, 15800: 15016, 15801: 15017, 15802: 15018, 15803: 15019, 15804: 15020, 15805: 15021, 15806: 15022, 15807: 15023, 15808: 15024, 15809: 15025, 15810: 15026, 15811: 15027, 15812: 15028, 15813: 15029, 15814: 15030, 15815: 15031, 15816: 15032, 15817: 15033, 15819: 15034, 15821: 15035, 15822: 15036, 15823: 15037, 15824: 15038, 15825: 15039, 15826: 15040, 15827: 15041, 15828: 15042, 15829: 15043, 15830: 15044, 15831: 15045, 15832: 15046, 15833: 15047, 15834: 15048, 15835: 15049, 15836: 15050, 15837: 15051, 15838: 15052, 15839: 15053, 15840: 15054, 15845: 15055, 15847: 15056, 15848: 15057, 15849: 15058, 15850: 15059, 15851: 15060, 15852: 15061, 15853: 15062, 15854: 15063, 15855: 15064, 15856: 15065, 15857: 15066, 15858: 15067, 15859: 15068, 15860: 15069, 15861: 15070, 15862: 15071, 15863: 15072, 15864: 15073, 15865: 15074, 15866: 15075, 15867: 15076, 15868: 15077, 15869: 15078, 15870: 15079, 15871: 15080, 15872: 15081, 15873: 15082, 15874: 15083, 15875: 15084, 15876: 15085, 15877: 15086, 15878: 15087, 15879: 15088, 15880: 15089, 15881: 15090, 15882: 15091, 15883: 15092, 15884: 15093, 15885: 15094, 15886: 15095, 15887: 15096, 15888: 15097, 15889: 15098, 15890: 15099, 15891: 15100, 15892: 15101, 15893: 15102, 15894: 15103, 15895: 15104, 15896: 15105, 15897: 15106, 15898: 15107, 15899: 15108, 15900: 15109, 15901: 15110, 15902: 15111, 15903: 15112, 15904: 15113, 15905: 15114, 15906: 15115, 15907: 15116, 15908: 15117, 15909: 15118, 15910: 15119, 15911: 15120, 15912: 15121, 15913: 15122, 15914: 15123, 15915: 15124, 15916: 15125, 15917: 15126, 15918: 15127, 15919: 15128, 15920: 15129, 15921: 15130, 15922: 15131, 15923: 15132, 15924: 15133, 15925: 15134, 15926: 15135, 15927: 15136, 15928: 15137, 15929: 15138, 15930: 15139, 15931: 15140, 15932: 15141, 15933: 15142, 15934: 15143, 15935: 15144, 15936: 15145, 15937: 15146, 15938: 15147, 15939: 15148, 15940: 15149, 15941: 15150, 15942: 15151, 15943: 15152, 15944: 15153, 15945: 15154, 15946: 15155, 15947: 15156, 15948: 15157, 15949: 15158, 15950: 15159, 15951: 15160, 15952: 15161, 15953: 15162, 15954: 15163, 15955: 15164, 15956: 15165, 15957: 15166, 15958: 15167, 15959: 15168, 15960: 15169, 15961: 15170, 15962: 15171, 15963: 15172, 15964: 15173, 15965: 15174, 15966: 15175, 15967: 15176, 15968: 15177, 15969: 15178, 15970: 15179, 15971: 15180, 15972: 15181, 15973: 15182, 15974: 15183, 15975: 15184, 15976: 15185, 15977: 15186, 15978: 15187, 15979: 15188, 15980: 15189, 15981: 15190, 15982: 15191, 15983: 15192, 15984: 15193, 15985: 15194, 15986: 15195, 15987: 15196, 15988: 15197, 15989: 15198, 15990: 15199, 15991: 15200, 15992: 15201, 15993: 15202, 15994: 15203, 15995: 15204, 15996: 15205, 15997: 15206, 15998: 15207, 15999: 15208, 16000: 15209, 16001: 15210, 16002: 15211, 16003: 15212, 16004: 15213, 16005: 15214, 16006: 15215, 16007: 15216, 16008: 15217, 16009: 15218, 16010: 15219, 16011: 15220, 16012: 15221, 16013: 15222, 16014: 15223, 16015: 15224, 16016: 15225, 16017: 15226, 16018: 15227, 16019: 15228, 16020: 15229, 16021: 15230, 16022: 15231, 16023: 15232, 16024: 15233, 16025: 15234, 16026: 15235, 16027: 15236, 16028: 15237, 16029: 15238, 16030: 15239, 16034: 15240, 16039: 15241, 16040: 15242, 16041: 15243, 16042: 15244, 16043: 15245, 16044: 15246, 16045: 15247, 16046: 15248, 16047: 15249, 16048: 15250, 16049: 15251, 16050: 15252, 16051: 15253, 16052: 15254, 16053: 15255, 16054: 15256, 16055: 15257, 16056: 15258, 16057: 15259, 16058: 15260, 16059: 15261, 16060: 15262, 16061: 15263, 16062: 15264, 16063: 15265, 16064: 15266, 16065: 15267, 16066: 15268, 16067: 15269, 16068: 15270, 16069: 15271, 16070: 15272, 16071: 15273, 16072: 15274, 16073: 15275, 16074: 15276, 16075: 15277, 16076: 15278, 16077: 15279, 16078: 15280, 16079: 15281, 16080: 15282, 16081: 15283, 16082: 15284, 16083: 15285, 16084: 15286, 16085: 15287, 16086: 15288, 16087: 15289, 16088: 15290, 16089: 15291, 16090: 15292, 16091: 15293, 16092: 15294, 16093: 15295, 16094: 15296, 16095: 15297, 16096: 15298, 16097: 15299, 16098: 15300, 16099: 15301, 16100: 15302, 16101: 15303, 16102: 15304, 16103: 15305, 16104: 15306, 16105: 15307, 16106: 15308, 16107: 15309, 16108: 15310, 16111: 15311, 16112: 15312, 16113: 15313, 16114: 15314, 16115: 15315, 16116: 15316, 16117: 15317, 16118: 15318, 16119: 15319, 16120: 15320, 16121: 15321, 16122: 15322, 16123: 15323, 16124: 15324, 16125: 15325, 16126: 15326, 16127: 15327, 16128: 15328, 16129: 15329, 16130: 15330, 16131: 15331, 16132: 15332, 16133: 15333, 16134: 15334, 16135: 15335, 16136: 15336, 16137: 15337, 16138: 15338, 16139: 15339, 16140: 15340, 16141: 15341, 16142: 15342, 16143: 15343, 16144: 15344, 16145: 15345, 16146: 15346, 16147: 15347, 16148: 15348, 16149: 15349, 16150: 15350, 16151: 15351, 16152: 15352, 16153: 15353, 16154: 15354, 16155: 15355, 16156: 15356, 16157: 15357, 16158: 15358, 16159: 15359, 16160: 15360, 16161: 15361, 16162: 15362, 16163: 15363, 16164: 15364, 16165: 15365, 16166: 15366, 16167: 15367, 16168: 15368, 16169: 15369, 16170: 15370, 16171: 15371, 16172: 15372, 16173: 15373, 16174: 15374, 16175: 15375, 16176: 15376, 16177: 15377, 16178: 15378, 16179: 15379, 16180: 15380, 16181: 15381, 16182: 15382, 16183: 15383, 16184: 15384, 16185: 15385, 16186: 15386, 16187: 15387, 16188: 15388, 16189: 15389, 16190: 15390, 16191: 15391, 16192: 15392, 16193: 15393, 16194: 15394, 16195: 15395, 16196: 15396, 16197: 15397, 16198: 15398, 16199: 15399, 16200: 15400, 16201: 15401, 16202: 15402, 16203: 15403, 16204: 15404, 16205: 15405, 16206: 15406, 16207: 15407, 16208: 15408, 16209: 15409, 16210: 15410, 16215: 15411, 16217: 15412, 16229: 15413, 16230: 15414, 16231: 15415, 16232: 15416, 16233: 15417, 16234: 15418, 16235: 15419, 16236: 15420, 16237: 15421, 16238: 15422, 16239: 15423, 16240: 15424, 16241: 15425, 16242: 15426, 16243: 15427, 16244: 15428, 16245: 15429, 16246: 15430, 16247: 15431, 16248: 15432, 16249: 15433, 16250: 15434, 16251: 15435, 16252: 15436, 16253: 15437, 16254: 15438, 16255: 15439, 16256: 15440, 16257: 15441, 16258: 15442, 16259: 15443, 16260: 15444, 16261: 15445, 16262: 15446, 16263: 15447, 16264: 15448, 16265: 15449, 16266: 15450, 16267: 15451, 16268: 15452, 16269: 15453, 16270: 15454, 16271: 15455, 16272: 15456, 16273: 15457, 16274: 15458, 16275: 15459, 16276: 15460, 16277: 15461, 16278: 15462, 16279: 15463, 16280: 15464, 16281: 15465, 16282: 15466, 16283: 15467, 16284: 15468, 16285: 15469, 16286: 15470, 16287: 15471, 16288: 15472, 16289: 15473, 16290: 15474, 16291: 15475, 16292: 15476, 16293: 15477, 16294: 15478, 16295: 15479, 16296: 15480, 16297: 15481, 16298: 15482, 16299: 15483, 16300: 15484, 16301: 15485, 16302: 15486, 16303: 15487, 16304: 15488, 16305: 15489, 16306: 15490, 16307: 15491, 16308: 15492, 16309: 15493, 16310: 15494, 16311: 15495, 16312: 15496, 16313: 15497, 16314: 15498, 16315: 15499, 16316: 15500, 16317: 15501, 16318: 15502, 16319: 15503, 16320: 15504, 16321: 15505, 16322: 15506, 16323: 15507, 16324: 15508, 16325: 15509, 16326: 15510, 16327: 15511, 16328: 15512, 16329: 15513, 16330: 15514, 16331: 15515, 16332: 15516, 16333: 15517, 16334: 15518, 16335: 15519, 16336: 15520, 16337: 15521, 16338: 15522, 16339: 15523, 16340: 15524, 16341: 15525, 16342: 15526, 16343: 15527, 16344: 15528, 16345: 15529, 16346: 15530, 16347: 15531, 16348: 15532, 16349: 15533, 16350: 15534, 16351: 15535, 16352: 15536, 16353: 15537, 16354: 15538, 16355: 15539, 16356: 15540, 16357: 15541, 16358: 15542, 16359: 15543, 16360: 15544, 16361: 15545, 16362: 15546, 16363: 15547, 16364: 15548, 16365: 15549, 16366: 15550, 16367: 15551, 16368: 15552, 16369: 15553, 16370: 15554, 16371: 15555, 16372: 15556, 16373: 15557, 16374: 15558, 16375: 15559, 16376: 15560, 16377: 15561, 16378: 15562, 16379: 15563, 16380: 15564, 16381: 15565, 16382: 15566, 16383: 15567, 16384: 15568, 16385: 15569, 16386: 15570, 16387: 15571, 16388: 15572, 16389: 15573, 16390: 15574, 16391: 15575, 16392: 15576, 16393: 15577, 16394: 15578, 16404: 15579, 16405: 15580, 16406: 15581, 16407: 15582, 16408: 15583, 16409: 15584, 16410: 15585, 16411: 15586, 16412: 15587, 16413: 15588, 16414: 15589, 16415: 15590, 16416: 15591, 16417: 15592, 16418: 15593, 16419: 15594, 16420: 15595, 16421: 15596, 16422: 15597, 16423: 15598, 16424: 15599, 16425: 15600, 16426: 15601, 16427: 15602, 16428: 15603, 16429: 15604, 16430: 15605, 16431: 15606, 16432: 15607, 16435: 15608, 16437: 15609, 16438: 15610, 16439: 15611, 16440: 15612, 16441: 15613, 16442: 15614, 16443: 15615, 16444: 15616, 16445: 15617, 16446: 15618, 16447: 15619, 16448: 15620, 16449: 15621, 16450: 15622, 16451: 15623, 16452: 15624, 16453: 15625, 16454: 15626, 16455: 15627, 16456: 15628, 16457: 15629, 16458: 15630, 16459: 15631, 16460: 15632, 16461: 15633, 16462: 15634, 16463: 15635, 16464: 15636, 16465: 15637, 16466: 15638, 16467: 15639, 16468: 15640, 16469: 15641, 16486: 15642, 16490: 15643, 16491: 15644, 16492: 15645, 16493: 15646, 16494: 15647, 16495: 15648, 16496: 15649, 16497: 15650, 16498: 15651, 16499: 15652, 16500: 15653, 16501: 15654, 16502: 15655, 16503: 15656, 16504: 15657, 16505: 15658, 16506: 15659, 16507: 15660, 16508: 15661, 16509: 15662, 16510: 15663, 16511: 15664, 16512: 15665, 16513: 15666, 16514: 15667, 16515: 15668, 16516: 15669, 16517: 15670, 16518: 15671, 16519: 15672, 16520: 15673, 16521: 15674, 16522: 15675, 16523: 15676, 16524: 15677, 16525: 15678, 16527: 15679, 16529: 15680, 16530: 15681, 16531: 15682, 16532: 15683, 16533: 15684, 16534: 15685, 16535: 15686, 16559: 15687, 16560: 15688, 16561: 15689, 16562: 15690, 16563: 15691, 16564: 15692, 16565: 15693, 16566: 15694, 16567: 15695, 16568: 15696, 16569: 15697, 16570: 15698, 16571: 15699, 16572: 15700, 16573: 15701, 16574: 15702, 16575: 15703, 16576: 15704, 16577: 15705, 16578: 15706, 16579: 15707, 16580: 15708, 16581: 15709, 16582: 15710, 16583: 15711, 16584: 15712, 16585: 15713, 16586: 15714, 16587: 15715, 16588: 15716, 16589: 15717, 16590: 15718, 16591: 15719, 16592: 15720, 16593: 15721, 16594: 15722, 16595: 15723, 16596: 15724, 16597: 15725, 16598: 15726, 16599: 15727, 16600: 15728, 16601: 15729, 16602: 15730, 16603: 15731, 16604: 15732, 16605: 15733, 16606: 15734, 16607: 15735, 16608: 15736, 16609: 15737, 16610: 15738, 16611: 15739, 16612: 15740, 16613: 15741, 16614: 15742, 16615: 15743, 16616: 15744, 16617: 15745, 16618: 15746, 16619: 15747, 16620: 15748, 16621: 15749, 16622: 15750, 16623: 15751, 16624: 15752, 16625: 15753, 16626: 15754, 16627: 15755, 16628: 15756, 16629: 15757, 16630: 15758, 16631: 15759, 16632: 15760, 16633: 15761, 16634: 15762, 16635: 15763, 16636: 15764, 16637: 15765, 16638: 15766, 16639: 15767, 16640: 15768, 16641: 15769, 16642: 15770, 16643: 15771, 16644: 15772, 16645: 15773, 16646: 15774, 16647: 15775, 16648: 15776, 16649: 15777, 16650: 15778, 16651: 15779, 16652: 15780, 16653: 15781, 16654: 15782, 16655: 15783, 16656: 15784, 16657: 15785, 16658: 15786, 16659: 15787, 16660: 15788, 16661: 15789, 16662: 15790, 16663: 15791, 16664: 15792, 16665: 15793, 16666: 15794, 16667: 15795, 16668: 15796, 16669: 15797, 16670: 15798, 16671: 15799, 16672: 15800, 16673: 15801, 16674: 15802, 16675: 15803, 16676: 15804, 16677: 15805, 16678: 15806, 16679: 15807, 16680: 15808, 16681: 15809, 16682: 15810, 16683: 15811, 16684: 15812, 16685: 15813, 16686: 15814, 16687: 15815, 16688: 15816, 16689: 15817, 16690: 15818, 16691: 15819, 16692: 15820, 16693: 15821, 16694: 15822, 16695: 15823, 16696: 15824, 16697: 15825, 16698: 15826, 16699: 15827, 16700: 15828, 16701: 15829, 16702: 15830, 16703: 15831, 16704: 15832, 16705: 15833, 16706: 15834, 16707: 15835, 16708: 15836, 16709: 15837, 16710: 15838, 16711: 15839, 16712: 15840, 16713: 15841, 16714: 15842, 16715: 15843, 16716: 15844, 16717: 15845, 16718: 15846, 16719: 15847, 16720: 15848, 16721: 15849, 16722: 15850, 16723: 15851, 16724: 15852, 16725: 15853, 16726: 15854, 16727: 15855, 16728: 15856, 16729: 15857, 16730: 15858, 16731: 15859, 16732: 15860, 16733: 15861, 16734: 15862, 16735: 15863, 16736: 15864, 16737: 15865, 16738: 15866, 16739: 15867, 16740: 15868, 16741: 15869, 16742: 15870, 16743: 15871, 16744: 15872, 16745: 15873, 16746: 15874, 16747: 15875, 16748: 15876, 16749: 15877, 16750: 15878, 16751: 15879, 16752: 15880, 16753: 15881, 16754: 15882, 16755: 15883, 16756: 15884, 16757: 15885, 16758: 15886, 16759: 15887, 16760: 15888, 16761: 15889, 16762: 15890, 16763: 15891, 16764: 15892, 16765: 15893, 16766: 15894, 16767: 15895, 16768: 15896, 16769: 15897, 16770: 15898, 16771: 15899, 16772: 15900, 16773: 15901, 16774: 15902, 16775: 15903, 16776: 15904, 16777: 15905, 16778: 15906, 16779: 15907, 16780: 15908, 16781: 15909, 16782: 15910, 16783: 15911, 16784: 15912, 16785: 15913, 16786: 15914, 16787: 15915, 16788: 15916, 16789: 15917, 16790: 15918, 16791: 15919, 16792: 15920, 16793: 15921, 16794: 15922, 16795: 15923, 16796: 15924, 16797: 15925, 16798: 15926, 16799: 15927, 16800: 15928, 16801: 15929, 16802: 15930, 16803: 15931, 16804: 15932, 16805: 15933, 16806: 15934, 16807: 15935, 16808: 15936, 16809: 15937, 16810: 15938, 16823: 15939, 16832: 15940, 16833: 15941, 16834: 15942, 16835: 15943, 16836: 15944, 16837: 15945, 16838: 15946, 16839: 15947, 16840: 15948, 16841: 15949, 16842: 15950, 16843: 15951, 16844: 15952, 16845: 15953, 16846: 15954, 16847: 15955, 16848: 15956, 16849: 15957, 16850: 15958, 16851: 15959, 16852: 15960, 16853: 15961, 16854: 15962, 16855: 15963, 16856: 15964, 16857: 15965, 16858: 15966, 16859: 15967, 16860: 15968, 16861: 15969, 16862: 15970, 16863: 15971, 16864: 15972, 16865: 15973, 16866: 15974, 16867: 15975, 16868: 15976, 16869: 15977, 16870: 15978, 16871: 15979, 16872: 15980, 16873: 15981, 16874: 15982, 16875: 15983, 16876: 15984, 16877: 15985, 16878: 15986, 16879: 15987, 16880: 15988, 16881: 15989, 16882: 15990, 16883: 15991, 16884: 15992, 16885: 15993, 16886: 15994, 16887: 15995, 16888: 15996, 16889: 15997, 16890: 15998, 16891: 15999, 16892: 16000, 16893: 16001, 16894: 16002, 16895: 16003, 16896: 16004, 16897: 16005, 16898: 16006, 16899: 16007, 16900: 16008, 16901: 16009, 16902: 16010, 16903: 16011, 16904: 16012, 16905: 16013, 16906: 16014, 16907: 16015, 16908: 16016, 16909: 16017, 16910: 16018, 16911: 16019, 16912: 16020, 16913: 16021, 16914: 16022, 16915: 16023, 16916: 16024, 16917: 16025, 16918: 16026, 16919: 16027, 16920: 16028, 16921: 16029, 16922: 16030, 16923: 16031, 16924: 16032, 16925: 16033, 16926: 16034, 16927: 16035, 16928: 16036, 16929: 16037, 16930: 16038, 16931: 16039, 16932: 16040, 16933: 16041, 16934: 16042, 16935: 16043, 16936: 16044, 16937: 16045, 16938: 16046, 16939: 16047, 16940: 16048, 16947: 16049, 16948: 16050, 16949: 16051, 16950: 16052, 16951: 16053, 16952: 16054, 16953: 16055, 16954: 16056, 16955: 16057, 16956: 16058, 16957: 16059, 16958: 16060, 16959: 16061, 16960: 16062, 16961: 16063, 16962: 16064, 16963: 16065, 16964: 16066, 16965: 16067, 16966: 16068, 16967: 16069, 16968: 16070, 16969: 16071, 16970: 16072, 16971: 16073, 16972: 16074, 16973: 16075, 16974: 16076, 16975: 16077, 16976: 16078, 16995: 16079, 17007: 16080, 17008: 16081, 17009: 16082, 17010: 16083, 17011: 16084, 17012: 16085, 17013: 16086, 17014: 16087, 17015: 16088, 17016: 16089, 17017: 16090, 17018: 16091, 17019: 16092, 17020: 16093, 17021: 16094, 17022: 16095, 17023: 16096, 17024: 16097, 17025: 16098, 17026: 16099, 17027: 16100, 17028: 16101, 17029: 16102, 17030: 16103, 17031: 16104, 17032: 16105, 17033: 16106, 17034: 16107, 17035: 16108, 17036: 16109, 17037: 16110, 17038: 16111, 17039: 16112, 17040: 16113, 17041: 16114, 17042: 16115, 17043: 16116, 17044: 16117, 17045: 16118, 17046: 16119, 17047: 16120, 17048: 16121, 17049: 16122, 17050: 16123, 17051: 16124, 17052: 16125, 17053: 16126, 17054: 16127, 17055: 16128, 17056: 16129, 17057: 16130, 17058: 16131, 17059: 16132, 17060: 16133, 17061: 16134, 17062: 16135, 17063: 16136, 17064: 16137, 17065: 16138, 17066: 16139, 17067: 16140, 17068: 16141, 17069: 16142, 17070: 16143, 17071: 16144, 17072: 16145, 17073: 16146, 17074: 16147, 17077: 16148, 17078: 16149, 17079: 16150, 17080: 16151, 17081: 16152, 17082: 16153, 17083: 16154, 17084: 16155, 17085: 16156, 17086: 16157, 17087: 16158, 17088: 16159, 17089: 16160, 17090: 16161, 17091: 16162, 17092: 16163, 17093: 16164, 17094: 16165, 17095: 16166, 17096: 16167, 17097: 16168, 17098: 16169, 17099: 16170, 17100: 16171, 17101: 16172, 17102: 16173, 17103: 16174, 17104: 16175, 17105: 16176, 17106: 16177, 17107: 16178, 17108: 16179, 17109: 16180, 17110: 16181, 17111: 16182, 17112: 16183, 17113: 16184, 17114: 16185, 17115: 16186, 17116: 16187, 17117: 16188, 17118: 16189, 17119: 16190, 17120: 16191, 17121: 16192, 17122: 16193, 17123: 16194, 17124: 16195, 17125: 16196, 17126: 16197, 17127: 16198, 17128: 16199, 17129: 16200, 17130: 16201, 17131: 16202, 17132: 16203, 17133: 16204, 17134: 16205, 17135: 16206, 17136: 16207, 17137: 16208, 17138: 16209, 17139: 16210, 17140: 16211, 17141: 16212, 17142: 16213, 17143: 16214, 17144: 16215, 17145: 16216, 17146: 16217, 17147: 16218, 17148: 16219, 17149: 16220, 17150: 16221, 17151: 16222, 17152: 16223, 17153: 16224, 17154: 16225, 17155: 16226, 17156: 16227, 17157: 16228, 17158: 16229, 17159: 16230, 17160: 16231, 17161: 16232, 17162: 16233, 17163: 16234, 17164: 16235, 17165: 16236, 17166: 16237, 17167: 16238, 17168: 16239, 17169: 16240, 17170: 16241, 17171: 16242, 17172: 16243, 17173: 16244, 17174: 16245, 17175: 16246, 17176: 16247, 17177: 16248, 17178: 16249, 17179: 16250, 17180: 16251, 17181: 16252, 17182: 16253, 17183: 16254, 17184: 16255, 17185: 16256, 17186: 16257, 17187: 16258, 17188: 16259, 17189: 16260, 17190: 16261, 17191: 16262, 17192: 16263, 17193: 16264, 17194: 16265, 17195: 16266, 17196: 16267, 17197: 16268, 17198: 16269, 17199: 16270, 17200: 16271, 17201: 16272, 17202: 16273, 17203: 16274, 17204: 16275, 17205: 16276, 17206: 16277, 17207: 16278, 17208: 16279, 17209: 16280, 17210: 16281, 17211: 16282, 17212: 16283, 17213: 16284, 17214: 16285, 17215: 16286, 17216: 16287, 17217: 16288, 17218: 16289, 17219: 16290, 17220: 16291, 17221: 16292, 17222: 16293, 17223: 16294, 17224: 16295, 17225: 16296, 17226: 16297, 17227: 16298, 17228: 16299, 17229: 16300, 17230: 16301, 17231: 16302, 17232: 16303, 17233: 16304, 17234: 16305, 17235: 16306, 17236: 16307, 17237: 16308, 17238: 16309, 17239: 16310, 17240: 16311, 17241: 16312, 17242: 16313, 17243: 16314, 17244: 16315, 17245: 16316, 17246: 16317, 17247: 16318, 17248: 16319, 17249: 16320, 17250: 16321, 17251: 16322, 17252: 16323, 17253: 16324, 17254: 16325, 17255: 16326, 17256: 16327, 17257: 16328, 17258: 16329, 17259: 16330, 17260: 16331, 17261: 16332, 17262: 16333, 17263: 16334, 17264: 16335, 17265: 16336, 17266: 16337, 17267: 16338, 17268: 16339, 17269: 16340, 17270: 16341, 17271: 16342, 17272: 16343, 17273: 16344, 17274: 16345, 17275: 16346, 17276: 16347, 17277: 16348, 17278: 16349, 17279: 16350, 17280: 16351, 17281: 16352, 17283: 16353, 17284: 16354, 17285: 16355, 17286: 16356, 17287: 16357, 17288: 16358, 17289: 16359, 17290: 16360, 17291: 16361, 17292: 16362, 17293: 16363, 17294: 16364, 17295: 16365, 17296: 16366, 17297: 16367, 17298: 16368, 17299: 16369, 17300: 16370, 17301: 16371, 17302: 16372, 17303: 16373, 17304: 16374, 17305: 16375, 17306: 16376, 17307: 16377, 17313: 16378, 17320: 16379, 17321: 16380, 17322: 16381, 17323: 16382, 17324: 16383, 17326: 16384, 17327: 16385, 17328: 16386, 17329: 16387, 17330: 16388, 17331: 16389, 17332: 16390, 17333: 16391, 17334: 16392, 17335: 16393, 17336: 16394, 17337: 16395, 17338: 16396, 17339: 16397, 17340: 16398, 17341: 16399, 17342: 16400, 17343: 16401, 17344: 16402, 17345: 16403, 17346: 16404, 17347: 16405, 17348: 16406, 17349: 16407, 17350: 16408, 17351: 16409, 17352: 16410, 17353: 16411, 17354: 16412, 17355: 16413, 17356: 16414, 17357: 16415, 17358: 16416, 17359: 16417, 17360: 16418, 17361: 16419, 17362: 16420, 17363: 16421, 17364: 16422, 17365: 16423, 17366: 16424, 17367: 16425, 17368: 16426, 17369: 16427, 17370: 16428, 17371: 16429, 17372: 16430, 17373: 16431, 17374: 16432, 17375: 16433, 17376: 16434, 17379: 16435, 17380: 16436, 17381: 16437, 17382: 16438, 17383: 16439, 17384: 16440, 17385: 16441, 17386: 16442, 17387: 16443, 17388: 16444, 17389: 16445, 17390: 16446, 17391: 16447, 17392: 16448, 17393: 16449, 17394: 16450, 17395: 16451, 17398: 16452, 17399: 16453, 17400: 16454, 17401: 16455, 17402: 16456, 17403: 16457, 17404: 16458, 17405: 16459, 17406: 16460, 17407: 16461, 17408: 16462, 17409: 16463, 17410: 16464, 17411: 16465, 17412: 16466, 17413: 16467, 17414: 16468, 17415: 16469, 17416: 16470, 17417: 16471, 17418: 16472, 17419: 16473, 17420: 16474, 17421: 16475, 17422: 16476, 17423: 16477, 17424: 16478, 17425: 16479, 17426: 16480, 17427: 16481, 17428: 16482, 17429: 16483, 17430: 16484, 17431: 16485, 17432: 16486, 17433: 16487, 17434: 16488, 17435: 16489, 17436: 16490, 17437: 16491, 17438: 16492, 17439: 16493, 17440: 16494, 17441: 16495, 17442: 16496, 17443: 16497, 17444: 16498, 17445: 16499, 17446: 16500, 17447: 16501, 17448: 16502, 17449: 16503, 17450: 16504, 17451: 16505, 17452: 16506, 17453: 16507, 17454: 16508, 17455: 16509, 17456: 16510, 17457: 16511, 17458: 16512, 17459: 16513, 17460: 16514, 17461: 16515, 17462: 16516, 17463: 16517, 17464: 16518, 17465: 16519, 17466: 16520, 17467: 16521, 17468: 16522, 17469: 16523, 17470: 16524, 17471: 16525, 17472: 16526, 17473: 16527, 17474: 16528, 17475: 16529, 17476: 16530, 17477: 16531, 17478: 16532, 17481: 16533, 17482: 16534, 17483: 16535, 17484: 16536, 17485: 16537, 17486: 16538, 17487: 16539, 17488: 16540, 17489: 16541, 17490: 16542, 17491: 16543, 17492: 16544, 17493: 16545, 17494: 16546, 17495: 16547, 17496: 16548, 17497: 16549, 17498: 16550, 17499: 16551, 17500: 16552, 17501: 16553, 17502: 16554, 17503: 16555, 17504: 16556, 17505: 16557, 17506: 16558, 17507: 16559, 17508: 16560, 17509: 16561, 17510: 16562, 17511: 16563, 17512: 16564, 17513: 16565, 17514: 16566, 17515: 16567, 17516: 16568, 17517: 16569, 17518: 16570, 17519: 16571, 17520: 16572, 17521: 16573, 17522: 16574, 17523: 16575, 17524: 16576, 17525: 16577, 17526: 16578, 17527: 16579, 17528: 16580, 17529: 16581, 17530: 16582, 17531: 16583, 17532: 16584, 17533: 16585, 17534: 16586, 17535: 16587, 17536: 16588, 17537: 16589, 17538: 16590, 17539: 16591, 17540: 16592, 17541: 16593, 17542: 16594, 17543: 16595, 17544: 16596, 17545: 16597, 17546: 16598, 17547: 16599, 17548: 16600, 17549: 16601, 17550: 16602, 17551: 16603, 17552: 16604, 17553: 16605, 17554: 16606, 17555: 16607, 17556: 16608, 17557: 16609, 17558: 16610, 17559: 16611, 17562: 16612, 17563: 16613, 17564: 16614, 17565: 16615, 17566: 16616, 17567: 16617, 17568: 16618, 17569: 16619, 17570: 16620, 17571: 16621, 17572: 16622, 17573: 16623, 17574: 16624, 17575: 16625, 17576: 16626, 17577: 16627, 17578: 16628, 17579: 16629, 17580: 16630, 17581: 16631, 17582: 16632, 17583: 16633, 17584: 16634, 17585: 16635, 17586: 16636, 17587: 16637, 17588: 16638, 17589: 16639, 17605: 16640, 17606: 16641, 17607: 16642, 17608: 16643, 17609: 16644, 17610: 16645, 17611: 16646, 17612: 16647, 17613: 16648, 17614: 16649, 17615: 16650, 17616: 16651, 17617: 16652, 17618: 16653, 17619: 16654, 17620: 16655, 17621: 16656, 17622: 16657, 17623: 16658, 17624: 16659, 17625: 16660, 17626: 16661, 17627: 16662, 17628: 16663, 17629: 16664, 17630: 16665, 17631: 16666, 17632: 16667, 17633: 16668, 17634: 16669, 17635: 16670, 17636: 16671, 17637: 16672, 17638: 16673, 17639: 16674, 17640: 16675, 17641: 16676, 17642: 16677, 17644: 16678, 17645: 16679, 17646: 16680, 17647: 16681, 17648: 16682, 17649: 16683, 17650: 16684, 17651: 16685, 17652: 16686, 17653: 16687, 17654: 16688, 17655: 16689, 17656: 16690, 17657: 16691, 17658: 16692, 17659: 16693, 17660: 16694, 17661: 16695, 17662: 16696, 17663: 16697, 17664: 16698, 17665: 16699, 17666: 16700, 17667: 16701, 17668: 16702, 17669: 16703, 17670: 16704, 17671: 16705, 17672: 16706, 17673: 16707, 17674: 16708, 17675: 16709, 17676: 16710, 17677: 16711, 17678: 16712, 17679: 16713, 17680: 16714, 17681: 16715, 17682: 16716, 17683: 16717, 17684: 16718, 17685: 16719, 17686: 16720, 17687: 16721, 17688: 16722, 17689: 16723, 17699: 16724, 17700: 16725, 17701: 16726, 17702: 16727, 17703: 16728, 17704: 16729, 17705: 16730, 17706: 16731, 17707: 16732, 17708: 16733, 17709: 16734, 17710: 16735, 17711: 16736, 17712: 16737, 17713: 16738, 17714: 16739, 17715: 16740, 17716: 16741, 17717: 16742, 17718: 16743, 17719: 16744, 17720: 16745, 17721: 16746, 17722: 16747, 17723: 16748, 17724: 16749, 17725: 16750, 17726: 16751, 17727: 16752, 17728: 16753, 17729: 16754, 17730: 16755, 17731: 16756, 17732: 16757, 17733: 16758, 17734: 16759, 17735: 16760, 17736: 16761, 17737: 16762, 17738: 16763, 17739: 16764, 17740: 16765, 17741: 16766, 17742: 16767, 17743: 16768, 17744: 16769, 17745: 16770, 17746: 16771, 17747: 16772, 17748: 16773, 17749: 16774, 17750: 16775, 17751: 16776, 17752: 16777, 17753: 16778, 17754: 16779, 17755: 16780, 17756: 16781, 17757: 16782, 17758: 16783, 17759: 16784, 17760: 16785, 17761: 16786, 17762: 16787, 17763: 16788, 17764: 16789, 17765: 16790, 17766: 16791, 17767: 16792, 17768: 16793, 17769: 16794, 17770: 16795, 17771: 16796, 17772: 16797, 17773: 16798, 17774: 16799, 17775: 16800, 17776: 16801, 17783: 16802, 17786: 16803, 17787: 16804, 17788: 16805, 17789: 16806, 17790: 16807, 17791: 16808, 17792: 16809, 17793: 16810, 17794: 16811, 17795: 16812, 17796: 16813, 17797: 16814, 17798: 16815, 17799: 16816, 17800: 16817, 17801: 16818, 17802: 16819, 17803: 16820, 17804: 16821, 17805: 16822, 17806: 16823, 17807: 16824, 17811: 16825, 17812: 16826, 17813: 16827, 17814: 16828, 17815: 16829, 17816: 16830, 17817: 16831, 17818: 16832, 17833: 16833, 17834: 16834, 17835: 16835, 17836: 16836, 17837: 16837, 17838: 16838, 17839: 16839, 17840: 16840, 17841: 16841, 17842: 16842, 17843: 16843, 17844: 16844, 17845: 16845, 17846: 16846, 17847: 16847, 17848: 16848, 17849: 16849, 17850: 16850, 17851: 16851, 17852: 16852, 17853: 16853, 17854: 16854, 17855: 16855, 17856: 16856, 17865: 16857, 17866: 16858, 17867: 16859, 17868: 16860, 17869: 16861, 17870: 16862, 17871: 16863, 17872: 16864, 17873: 16865, 17874: 16866, 17875: 16867, 17876: 16868, 17877: 16869, 17878: 16870, 17879: 16871, 17880: 16872, 17881: 16873, 17882: 16874, 17883: 16875, 17884: 16876, 17885: 16877, 17886: 16878, 17887: 16879, 17888: 16880, 17889: 16881, 17890: 16882, 17891: 16883, 17892: 16884, 17898: 16885, 17899: 16886, 17900: 16887, 17901: 16888, 17902: 16889, 17903: 16890, 17904: 16891, 17905: 16892, 17906: 16893, 17907: 16894, 17908: 16895, 17909: 16896, 17910: 16897, 17911: 16898, 17912: 16899, 17913: 16900, 17914: 16901, 17915: 16902, 17916: 16903, 17917: 16904, 17925: 16905, 17926: 16906, 17927: 16907, 17928: 16908, 17929: 16909, 17930: 16910, 17931: 16911, 17934: 16912, 17935: 16913, 17936: 16914, 17937: 16915, 17938: 16916, 17939: 16917, 17940: 16918, 17941: 16919, 17942: 16920, 17943: 16921, 17944: 16922, 17945: 16923, 17946: 16924, 17947: 16925, 17948: 16926, 17949: 16927, 17950: 16928, 17951: 16929, 17952: 16930, 17953: 16931, 17954: 16932, 17955: 16933, 17956: 16934, 17957: 16935, 17958: 16936, 17959: 16937, 17960: 16938, 17961: 16939, 17962: 16940, 17963: 16941, 17964: 16942, 17965: 16943, 17966: 16944, 17967: 16945, 17968: 16946, 17969: 16947, 17970: 16948, 17971: 16949, 17972: 16950, 17973: 16951, 17974: 16952, 17975: 16953, 17976: 16954, 17977: 16955, 17978: 16956, 17979: 16957, 17980: 16958, 17981: 16959, 17982: 16960, 17983: 16961, 17984: 16962, 17985: 16963, 17986: 16964, 17987: 16965, 17988: 16966, 17989: 16967, 17990: 16968, 17991: 16969, 17992: 16970, 17993: 16971, 17994: 16972, 17995: 16973, 17996: 16974, 17997: 16975, 17998: 16976, 17999: 16977, 18000: 16978, 18001: 16979, 18002: 16980, 18003: 16981, 18004: 16982, 18005: 16983, 18006: 16984, 18007: 16985, 18008: 16986, 18009: 16987, 18010: 16988, 18011: 16989, 18012: 16990, 18013: 16991, 18014: 16992, 18015: 16993, 18022: 16994, 18023: 16995, 18024: 16996, 18025: 16997, 18026: 16998, 18027: 16999, 18028: 17000, 18029: 17001, 18030: 17002, 18031: 17003, 18032: 17004, 18033: 17005, 18034: 17006, 18035: 17007, 18036: 17008, 18037: 17009, 18038: 17010, 18039: 17011, 18040: 17012, 18041: 17013, 18042: 17014, 18043: 17015, 18044: 17016, 18045: 17017, 18046: 17018, 18047: 17019, 18048: 17020, 18049: 17021, 18050: 17022, 18051: 17023, 18052: 17024, 18053: 17025, 18054: 17026, 18055: 17027, 18056: 17028, 18057: 17029, 18058: 17030, 18059: 17031, 18060: 17032, 18061: 17033, 18062: 17034, 18063: 17035, 18064: 17036, 18065: 17037, 18066: 17038, 18067: 17039, 18068: 17040, 18069: 17041, 18070: 17042, 18071: 17043, 18072: 17044, 18073: 17045, 18074: 17046, 18075: 17047, 18076: 17048, 18077: 17049, 18078: 17050, 18079: 17051, 18080: 17052, 18081: 17053, 18082: 17054, 18083: 17055, 18084: 17056, 18085: 17057, 18086: 17058, 18087: 17059, 18088: 17060, 18089: 17061, 18090: 17062, 18091: 17063, 18092: 17064, 18093: 17065, 18094: 17066, 18095: 17067, 18096: 17068, 18097: 17069, 18098: 17070, 18099: 17071, 18100: 17072, 18101: 17073, 18102: 17074, 18103: 17075, 18104: 17076, 18105: 17077, 18106: 17078, 18107: 17079, 18108: 17080, 18109: 17081, 18110: 17082, 18111: 17083, 18112: 17084, 18113: 17085, 18114: 17086, 18115: 17087, 18116: 17088, 18117: 17089, 18118: 17090, 18119: 17091, 18120: 17092, 18121: 17093, 18122: 17094, 18123: 17095, 18124: 17096, 18125: 17097, 18126: 17098, 18127: 17099, 18128: 17100, 18129: 17101, 18130: 17102, 18131: 17103, 18132: 17104, 18133: 17105, 18134: 17106, 18135: 17107, 18136: 17108, 18137: 17109, 18145: 17110, 18146: 17111, 18147: 17112, 18148: 17113, 18149: 17114, 18150: 17115, 18151: 17116, 18152: 17117, 18153: 17118, 18154: 17119, 18155: 17120, 18156: 17121, 18157: 17122, 18158: 17123, 18159: 17124, 18160: 17125, 18161: 17126, 18162: 17127, 18163: 17128, 18164: 17129, 18165: 17130, 18166: 17131, 18167: 17132, 18168: 17133, 18169: 17134, 18170: 17135, 18171: 17136, 18172: 17137, 18173: 17138, 18174: 17139, 18175: 17140, 18176: 17141, 18177: 17142, 18178: 17143, 18179: 17144, 18180: 17145, 18181: 17146, 18182: 17147, 18183: 17148, 18184: 17149, 18185: 17150, 18186: 17151, 18187: 17152, 18188: 17153, 18189: 17154, 18190: 17155, 18191: 17156, 18192: 17157, 18193: 17158, 18194: 17159, 18195: 17160, 18196: 17161, 18197: 17162, 18198: 17163, 18199: 17164, 18200: 17165, 18201: 17166, 18202: 17167, 18203: 17168, 18204: 17169, 18205: 17170, 18206: 17171, 18207: 17172, 18208: 17173, 18209: 17174, 18210: 17175, 18211: 17176, 18212: 17177, 18213: 17178, 18214: 17179, 18215: 17180, 18216: 17181, 18223: 17182, 18224: 17183, 18225: 17184, 18226: 17185, 18227: 17186, 18228: 17187, 18229: 17188, 18230: 17189, 18231: 17190, 18232: 17191, 18233: 17192, 18234: 17193, 18235: 17194, 18236: 17195, 18237: 17196, 18238: 17197, 18239: 17198, 18240: 17199, 18241: 17200, 18242: 17201, 18243: 17202, 18244: 17203, 18245: 17204, 18246: 17205, 18247: 17206, 18248: 17207, 18249: 17208, 18250: 17209, 18251: 17210, 18252: 17211, 18253: 17212, 18254: 17213, 18255: 17214, 18256: 17215, 18257: 17216, 18258: 17217, 18259: 17218, 18260: 17219, 18261: 17220, 18262: 17221, 18263: 17222, 18264: 17223, 18265: 17224, 18266: 17225, 18267: 17226, 18268: 17227, 18269: 17228, 18270: 17229, 18271: 17230, 18272: 17231, 18273: 17232, 18274: 17233, 18275: 17234, 18276: 17235, 18277: 17236, 18278: 17237, 18279: 17238, 18280: 17239, 18281: 17240, 18282: 17241, 18283: 17242, 18284: 17243, 18285: 17244, 18286: 17245, 18287: 17246, 18288: 17247, 18289: 17248, 18290: 17249, 18291: 17250, 18292: 17251, 18293: 17252, 18294: 17253, 18295: 17254, 18296: 17255, 18297: 17256, 18298: 17257, 18299: 17258, 18300: 17259, 18301: 17260, 18302: 17261, 18303: 17262, 18305: 17263, 18306: 17264, 18307: 17265, 18308: 17266, 18309: 17267, 18310: 17268, 18311: 17269, 18312: 17270, 18313: 17271, 18314: 17272, 18315: 17273, 18316: 17274, 18317: 17275, 18318: 17276, 18319: 17277, 18320: 17278, 18321: 17279, 18322: 17280, 18323: 17281, 18324: 17282, 18325: 17283, 18326: 17284, 18327: 17285, 18328: 17286, 18329: 17287, 18330: 17288, 18331: 17289, 18332: 17290, 18333: 17291, 18334: 17292, 18335: 17293, 18336: 17294, 18337: 17295, 18338: 17296, 18339: 17297, 18340: 17298, 18341: 17299, 18342: 17300, 18343: 17301, 18344: 17302, 18345: 17303, 18346: 17304, 18347: 17305, 18348: 17306, 18349: 17307, 18350: 17308, 18351: 17309, 18352: 17310, 18353: 17311, 18354: 17312, 18355: 17313, 18356: 17314, 18357: 17315, 18358: 17316, 18359: 17317, 18360: 17318, 18361: 17319, 18362: 17320, 18363: 17321, 18364: 17322, 18365: 17323, 18366: 17324, 18367: 17325, 18368: 17326, 18369: 17327, 18370: 17328, 18371: 17329, 18372: 17330, 18373: 17331, 18374: 17332, 18375: 17333, 18376: 17334, 18377: 17335, 18378: 17336, 18379: 17337, 18380: 17338, 18381: 17339, 18382: 17340, 18383: 17341, 18384: 17342, 18385: 17343, 18386: 17344, 18387: 17345, 18388: 17346, 18389: 17347, 18390: 17348, 18391: 17349, 18392: 17350, 18393: 17351, 18394: 17352, 18395: 17353, 18396: 17354, 18397: 17355, 18398: 17356, 18399: 17357, 18400: 17358, 18401: 17359, 18402: 17360, 18403: 17361, 18404: 17362, 18405: 17363, 18406: 17364, 18407: 17365, 18408: 17366, 18409: 17367, 18410: 17368, 18411: 17369, 18412: 17370, 18413: 17371, 18414: 17372, 18424: 17373, 18425: 17374, 18426: 17375, 18427: 17376, 18428: 17377, 18429: 17378, 18430: 17379, 18431: 17380, 18432: 17381, 18433: 17382, 18434: 17383, 18435: 17384, 18436: 17385, 18437: 17386, 18438: 17387, 18439: 17388, 18440: 17389, 18441: 17390, 18442: 17391, 18443: 17392, 18444: 17393, 18445: 17394, 18446: 17395, 18447: 17396, 18448: 17397, 18449: 17398, 18450: 17399, 18451: 17400, 18452: 17401, 18453: 17402, 18454: 17403, 18455: 17404, 18456: 17405, 18457: 17406, 18458: 17407, 18459: 17408, 18460: 17409, 18461: 17410, 18462: 17411, 18463: 17412, 18464: 17413, 18465: 17414, 18466: 17415, 18467: 17416, 18468: 17417, 18469: 17418, 18470: 17419, 18471: 17420, 18472: 17421, 18473: 17422, 18511: 17423, 18512: 17424, 18513: 17425, 18514: 17426, 18515: 17427, 18516: 17428, 18517: 17429, 18518: 17430, 18519: 17431, 18520: 17432, 18521: 17433, 18522: 17434, 18523: 17435, 18524: 17436, 18525: 17437, 18526: 17438, 18527: 17439, 18528: 17440, 18529: 17441, 18530: 17442, 18531: 17443, 18532: 17444, 18533: 17445, 18534: 17446, 18535: 17447, 18536: 17448, 18537: 17449, 18538: 17450, 18539: 17451, 18540: 17452, 18541: 17453, 18542: 17454, 18543: 17455, 18544: 17456, 18545: 17457, 18546: 17458, 18547: 17459, 18548: 17460, 18549: 17461, 18550: 17462, 18551: 17463, 18552: 17464, 18553: 17465, 18554: 17466, 18555: 17467, 18556: 17468, 18557: 17469, 18558: 17470, 18559: 17471, 18560: 17472, 18561: 17473, 18562: 17474, 18563: 17475, 18564: 17476, 18571: 17477, 18572: 17478, 18573: 17479, 18574: 17480, 18575: 17481, 18576: 17482, 18577: 17483, 18578: 17484, 18579: 17485, 18580: 17486, 18581: 17487, 18582: 17488, 18583: 17489, 18584: 17490, 18585: 17491, 18586: 17492, 18587: 17493, 18588: 17494, 18589: 17495, 18590: 17496, 18591: 17497, 18592: 17498, 18593: 17499, 18594: 17500, 18595: 17501, 18599: 17502, 18600: 17503, 18601: 17504, 18602: 17505, 18603: 17506, 18604: 17507, 18605: 17508, 18606: 17509, 18607: 17510, 18608: 17511, 18609: 17512, 18610: 17513, 18611: 17514, 18612: 17515, 18613: 17516, 18614: 17517, 18615: 17518, 18616: 17519, 18617: 17520, 18618: 17521, 18619: 17522, 18620: 17523, 18621: 17524, 18622: 17525, 18630: 17526, 18631: 17527, 18632: 17528, 18633: 17529, 18634: 17530, 18635: 17531, 18636: 17532, 18637: 17533, 18638: 17534, 18639: 17535, 18640: 17536, 18641: 17537, 18642: 17538, 18643: 17539, 18644: 17540, 18645: 17541, 18646: 17542, 18647: 17543, 18648: 17544, 18649: 17545, 18650: 17546, 18651: 17547, 18652: 17548, 18653: 17549, 18654: 17550, 18655: 17551, 18656: 17552, 18657: 17553, 18658: 17554, 18659: 17555, 18660: 17556, 18661: 17557, 18662: 17558, 18663: 17559, 18664: 17560, 18665: 17561, 18666: 17562, 18667: 17563, 18668: 17564, 18669: 17565, 18670: 17566, 18671: 17567, 18672: 17568, 18673: 17569, 18674: 17570, 18675: 17571, 18676: 17572, 18677: 17573, 18678: 17574, 18679: 17575, 18680: 17576, 18681: 17577, 18682: 17578, 18683: 17579, 18684: 17580, 18685: 17581, 18686: 17582, 18687: 17583, 18688: 17584, 18689: 17585, 18690: 17586, 18691: 17587, 18692: 17588, 18693: 17589, 18694: 17590, 18695: 17591, 18696: 17592, 18697: 17593, 18698: 17594, 18706: 17595, 18707: 17596, 18708: 17597, 18709: 17598, 18710: 17599, 18711: 17600, 18712: 17601, 18713: 17602, 18714: 17603, 18715: 17604, 18716: 17605, 18717: 17606, 18718: 17607, 18719: 17608, 18720: 17609, 18721: 17610, 18722: 17611, 18723: 17612, 18724: 17613, 18725: 17614, 18726: 17615, 18727: 17616, 18728: 17617, 18729: 17618, 18730: 17619, 18734: 17620, 18735: 17621, 18736: 17622, 18737: 17623, 18738: 17624, 18739: 17625, 18740: 17626, 18741: 17627, 18742: 17628, 18743: 17629, 18744: 17630, 18745: 17631}\n"
     ]
    }
   ],
   "source": [
    "keys = m\n",
    "values = newart\n",
    "dictionary = dict(zip(keys, values))\n",
    "print(dictionary) # {'a': 1, 'b': 2, 'c': 3}"
   ]
  },
  {
   "cell_type": "code",
   "execution_count": 72,
   "id": "23e680c1",
   "metadata": {},
   "outputs": [],
   "source": [
    "a_subset = {key: value for key, value in dictionary.items() if key in list3}"
   ]
  },
  {
   "cell_type": "code",
   "execution_count": 73,
   "id": "9d6fb914",
   "metadata": {},
   "outputs": [
    {
     "name": "stdout",
     "output_type": "stream",
     "text": [
      "12133\n"
     ]
    }
   ],
   "source": [
    "print(len(a_subset))"
   ]
  },
  {
   "cell_type": "code",
   "execution_count": 53,
   "id": "a6cf2942",
   "metadata": {},
   "outputs": [
    {
     "data": {
      "text/html": [
       "<div>\n",
       "<style scoped>\n",
       "    .dataframe tbody tr th:only-of-type {\n",
       "        vertical-align: middle;\n",
       "    }\n",
       "\n",
       "    .dataframe tbody tr th {\n",
       "        vertical-align: top;\n",
       "    }\n",
       "\n",
       "    .dataframe thead th {\n",
       "        text-align: right;\n",
       "    }\n",
       "</style>\n",
       "<table border=\"1\" class=\"dataframe\">\n",
       "  <thead>\n",
       "    <tr style=\"text-align: right;\">\n",
       "      <th></th>\n",
       "      <th>userID</th>\n",
       "      <th>artistID</th>\n",
       "      <th>tagID</th>\n",
       "      <th>day</th>\n",
       "      <th>month</th>\n",
       "      <th>year</th>\n",
       "    </tr>\n",
       "  </thead>\n",
       "  <tbody>\n",
       "    <tr>\n",
       "      <th>3267</th>\n",
       "      <td>40</td>\n",
       "      <td>14</td>\n",
       "      <td>61</td>\n",
       "      <td>1</td>\n",
       "      <td>9</td>\n",
       "      <td>2008</td>\n",
       "    </tr>\n",
       "    <tr>\n",
       "      <th>3268</th>\n",
       "      <td>40</td>\n",
       "      <td>14</td>\n",
       "      <td>86</td>\n",
       "      <td>1</td>\n",
       "      <td>9</td>\n",
       "      <td>2008</td>\n",
       "    </tr>\n",
       "    <tr>\n",
       "      <th>55420</th>\n",
       "      <td>557</td>\n",
       "      <td>14</td>\n",
       "      <td>10</td>\n",
       "      <td>1</td>\n",
       "      <td>10</td>\n",
       "      <td>2009</td>\n",
       "    </tr>\n",
       "    <tr>\n",
       "      <th>55421</th>\n",
       "      <td>557</td>\n",
       "      <td>14</td>\n",
       "      <td>12</td>\n",
       "      <td>1</td>\n",
       "      <td>10</td>\n",
       "      <td>2009</td>\n",
       "    </tr>\n",
       "    <tr>\n",
       "      <th>55422</th>\n",
       "      <td>557</td>\n",
       "      <td>14</td>\n",
       "      <td>565</td>\n",
       "      <td>1</td>\n",
       "      <td>10</td>\n",
       "      <td>2009</td>\n",
       "    </tr>\n",
       "  </tbody>\n",
       "</table>\n",
       "</div>"
      ],
      "text/plain": [
       "       userID  artistID  tagID  day  month  year\n",
       "3267       40        14     61    1      9  2008\n",
       "3268       40        14     86    1      9  2008\n",
       "55420     557        14     10    1     10  2009\n",
       "55421     557        14     12    1     10  2009\n",
       "55422     557        14    565    1     10  2009"
      ]
     },
     "execution_count": 53,
     "metadata": {},
     "output_type": "execute_result"
    }
   ],
   "source": [
    "df4[df4['artistID'] == 14]"
   ]
  },
  {
   "cell_type": "code",
   "execution_count": 54,
   "id": "53937f02",
   "metadata": {},
   "outputs": [
    {
     "data": {
      "text/html": [
       "<div>\n",
       "<style scoped>\n",
       "    .dataframe tbody tr th:only-of-type {\n",
       "        vertical-align: middle;\n",
       "    }\n",
       "\n",
       "    .dataframe tbody tr th {\n",
       "        vertical-align: top;\n",
       "    }\n",
       "\n",
       "    .dataframe thead th {\n",
       "        text-align: right;\n",
       "    }\n",
       "</style>\n",
       "<table border=\"1\" class=\"dataframe\">\n",
       "  <thead>\n",
       "    <tr style=\"text-align: right;\">\n",
       "      <th></th>\n",
       "      <th>id</th>\n",
       "      <th>name</th>\n",
       "      <th>url</th>\n",
       "      <th>pictureURL</th>\n",
       "      <th>artID</th>\n",
       "    </tr>\n",
       "  </thead>\n",
       "  <tbody>\n",
       "  </tbody>\n",
       "</table>\n",
       "</div>"
      ],
      "text/plain": [
       "Empty DataFrame\n",
       "Columns: [id, name, url, pictureURL, artID]\n",
       "Index: []"
      ]
     },
     "execution_count": 54,
     "metadata": {},
     "output_type": "execute_result"
    }
   ],
   "source": [
    "df[df['id'] == 14]"
   ]
  },
  {
   "cell_type": "code",
   "execution_count": 55,
   "id": "1f72a90f",
   "metadata": {},
   "outputs": [],
   "source": [
    "df4 = df4[~df4.artistID.isin(missing)]"
   ]
  },
  {
   "cell_type": "code",
   "execution_count": 57,
   "id": "c031b6df",
   "metadata": {},
   "outputs": [
    {
     "data": {
      "text/html": [
       "<div>\n",
       "<style scoped>\n",
       "    .dataframe tbody tr th:only-of-type {\n",
       "        vertical-align: middle;\n",
       "    }\n",
       "\n",
       "    .dataframe tbody tr th {\n",
       "        vertical-align: top;\n",
       "    }\n",
       "\n",
       "    .dataframe thead th {\n",
       "        text-align: right;\n",
       "    }\n",
       "</style>\n",
       "<table border=\"1\" class=\"dataframe\">\n",
       "  <thead>\n",
       "    <tr style=\"text-align: right;\">\n",
       "      <th></th>\n",
       "      <th>userID</th>\n",
       "      <th>artistID</th>\n",
       "      <th>tagID</th>\n",
       "      <th>day</th>\n",
       "      <th>month</th>\n",
       "      <th>year</th>\n",
       "    </tr>\n",
       "  </thead>\n",
       "  <tbody>\n",
       "  </tbody>\n",
       "</table>\n",
       "</div>"
      ],
      "text/plain": [
       "Empty DataFrame\n",
       "Columns: [userID, artistID, tagID, day, month, year]\n",
       "Index: []"
      ]
     },
     "execution_count": 57,
     "metadata": {},
     "output_type": "execute_result"
    }
   ],
   "source": [
    "df4[df4['artistID'] == 14]"
   ]
  },
  {
   "cell_type": "code",
   "execution_count": 59,
   "id": "09f6d66f",
   "metadata": {},
   "outputs": [
    {
     "name": "stderr",
     "output_type": "stream",
     "text": [
      "C:\\Users\\user\\AppData\\Local\\Temp/ipykernel_11332/3743877304.py:3: SettingWithCopyWarning: \n",
      "A value is trying to be set on a copy of a slice from a DataFrame.\n",
      "Try using .loc[row_indexer,col_indexer] = value instead\n",
      "\n",
      "See the caveats in the documentation: https://pandas.pydata.org/pandas-docs/stable/user_guide/indexing.html#returning-a-view-versus-a-copy\n",
      "  df4['artistID'] = s.map(a_subset)\n"
     ]
    }
   ],
   "source": [
    "s = df4['artistID']\n",
    "\n",
    "df4['artistID'] = s.map(a_subset)"
   ]
  },
  {
   "cell_type": "code",
   "execution_count": 65,
   "id": "c7257085",
   "metadata": {},
   "outputs": [
    {
     "data": {
      "text/plain": [
       "1892"
      ]
     },
     "execution_count": 65,
     "metadata": {},
     "output_type": "execute_result"
    }
   ],
   "source": [
    "df4['userID'].nunique()"
   ]
  },
  {
   "cell_type": "code",
   "execution_count": 67,
   "id": "102b1f40",
   "metadata": {},
   "outputs": [
    {
     "data": {
      "text/plain": [
       "0"
      ]
     },
     "execution_count": 67,
     "metadata": {},
     "output_type": "execute_result"
    }
   ],
   "source": [
    "df4['artistID'].min()"
   ]
  },
  {
   "cell_type": "code",
   "execution_count": null,
   "id": "f452207a",
   "metadata": {},
   "outputs": [],
   "source": []
  }
 ],
 "metadata": {
  "kernelspec": {
   "display_name": "Python 3 (ipykernel)",
   "language": "python",
   "name": "python3"
  },
  "language_info": {
   "codemirror_mode": {
    "name": "ipython",
    "version": 3
   },
   "file_extension": ".py",
   "mimetype": "text/x-python",
   "name": "python",
   "nbconvert_exporter": "python",
   "pygments_lexer": "ipython3",
   "version": "3.8.12"
  }
 },
 "nbformat": 4,
 "nbformat_minor": 5
}
