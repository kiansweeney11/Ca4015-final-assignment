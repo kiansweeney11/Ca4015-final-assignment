{
 "cells": [
  {
   "cell_type": "markdown",
   "id": "c90dff06",
   "metadata": {},
   "source": [
    "# Conclusions\n",
    "\n",
    "## Difference of systems\n",
    "Our systems certainly differed in how they were used and implemented. Our NN based system which utilised artist and user embeddings was developed solely for existing users to make recommendations for them. This was maybe a potential drawback of this system. Generating personalized data can be done but could be a timely process for this system while trying to implement spotify api libraries such as the one I used for my regularized model could potentially be tricky. I feel on the whole the regularized model was the best throwing up some very solid recommendations, with a sample of these recommendations matching the tags between artist inputs and recommended artists.  \n",
    "\n",
    "\n",
    "## Future Work\n",
    "One thing I would definitely like to do in the future is to generate data from my soundcloud or spotify data and append it to the dataset provided as an example for my NN system. This is something I definitely considered doing but time constraints prevented me from doing so. This way I could designate myself a user ID and generate recommendations for myself. I feel this would allow for a more practical test of the system. I would also like to test another system I found more thoroughly. I have left it on my git repository but decided against using it for the final submission as I already had enough systems tested and used. I would also like to test novelty of the regularized model in more detail. I would like to implement a testing procedure based on tags found in input artists and recommended artists to really test the robustness of the systems recommendations instead of taking a small sample of 1 or 2. Again time constraints were a limitation of this process and I would like to test this the same way as I did for the NN system as this is a key part of recommender systems. This file can be found [here](https://github.com/kiansweeney11/Ca4015-final-assignment/blob/master/recommender-past.ipynb)."
   ]
  }
 ],
 "metadata": {
  "kernelspec": {
   "display_name": "Python 3 (ipykernel)",
   "language": "python",
   "name": "python3"
  },
  "language_info": {
   "codemirror_mode": {
    "name": "ipython",
    "version": 3
   },
   "file_extension": ".py",
   "mimetype": "text/x-python",
   "name": "python",
   "nbconvert_exporter": "python",
   "pygments_lexer": "ipython3",
   "version": "3.8.12"
  }
 },
 "nbformat": 4,
 "nbformat_minor": 5
}
