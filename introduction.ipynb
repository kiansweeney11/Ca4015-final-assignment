{
 "cells": [
  {
   "cell_type": "markdown",
   "id": "e31c332d",
   "metadata": {},
   "source": [
    "# Introduction\n",
    "\n",
    "## CA4015 Assignment 3/4\n",
    "\n",
    "For our final assignment as part of the CA4015: Advanced Machine Learning module we were given the task of developing a recommender system. We would have to take an existing dataset and develop a recommendation system based off the most modern methods employed today. These methods were provided to us using an existing google colab book and it was up to us to implement and deploy these methods to our own data as we seen right.\n",
    "\n",
    "![](https://miro.medium.com/max/900/1*WxcROmxvYow2TJrJGXpwWQ.png)\n",
    "\n",
    "### Dataset\n",
    "We would be provided the [lastFM](https://grouplens.org/datasets/hetrec-2011/) dataset. This dataset consists of 5 files namely:\n",
    "- artists.dat = information about music artists listened and tagged by the users in the data.\n",
    "- tags.dat = information regarding available tags in the data.\n",
    "- user_artists.dat = information abouut artists listened to by each user and listening count (weight) for each user/artist pair specified.\n",
    "- user_taggedartists.dat = files contain the tag assignments of artists provided by each particular user and timestamp for each tag assigned.\n",
    "- user_friends.dat = the users which are deemed as \"friends\".\n",
    "\n",
    "The dataset was mostly clean but required a few minor fixes such as re-indexing among others.\n",
    "\n",
    "![](https://www.last.fm/static/images/lastfm_logo_facebook.15d8133be114.png)\n",
    "\n",
    "### Outline of process\n",
    "To start we will do some basic analysis of our data: what users listen to the most songs, what artists are most popular and so forth. Once this is done we will merge some of our dataframes together and begin to develop our models. We disregarded the \"softmax\" model in our process and implemented the regularized matrix model and basic model as per the colab provided. I wanted to compare this model to something else and this is what I did, comparing it to a system which utilises a neural network and works with feature embeddings. Finally, I tested our regularized model on my own spotify account to see what artist recommendations it could make to me based on my favourite artists. We also tried to cluster our data on artist's highest listened score and the number of unique users these artists had.\n",
    "\n",
    "### Links \n",
    "- [Git repo](https://github.com/kiansweeney11/Ca4015-final-assignment)"
   ]
  }
 ],
 "metadata": {
  "kernelspec": {
   "display_name": "Python 3 (ipykernel)",
   "language": "python",
   "name": "python3"
  },
  "language_info": {
   "codemirror_mode": {
    "name": "ipython",
    "version": 3
   },
   "file_extension": ".py",
   "mimetype": "text/x-python",
   "name": "python",
   "nbconvert_exporter": "python",
   "pygments_lexer": "ipython3",
   "version": "3.8.12"
  }
 },
 "nbformat": 4,
 "nbformat_minor": 5
}
