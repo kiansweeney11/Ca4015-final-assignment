{
 "cells": [
  {
   "cell_type": "code",
   "execution_count": 1,
   "id": "6859afc9",
   "metadata": {},
   "outputs": [
    {
     "name": "stdout",
     "output_type": "stream",
     "text": [
      "WARNING:tensorflow:From C:\\Users\\user\\anaconda3\\lib\\site-packages\\tensorflow\\python\\compat\\v2_compat.py:96: disable_resource_variables (from tensorflow.python.ops.variable_scope) is deprecated and will be removed in a future version.\n",
      "Instructions for updating:\n",
      "non-resource variables are not supported in the long term\n"
     ]
    }
   ],
   "source": [
    "from __future__ import print_function\n",
    "\n",
    "import numpy as np\n",
    "import pandas as pd\n",
    "import collections\n",
    "from mpl_toolkits.mplot3d import Axes3D\n",
    "from IPython import display\n",
    "from matplotlib import pyplot as plt\n",
    "from IPython.display import display\n",
    "import seaborn as sns\n",
    "import sklearn\n",
    "import sklearn.manifold\n",
    "import tensorflow.compat.v1 as tf\n",
    "tf.disable_v2_behavior()\n",
    "tf.logging.set_verbosity(tf.logging.ERROR)"
   ]
  },
  {
   "cell_type": "code",
   "execution_count": 2,
   "id": "50b935de",
   "metadata": {},
   "outputs": [
    {
     "name": "stderr",
     "output_type": "stream",
     "text": [
      "C:\\Users\\user\\anaconda3\\lib\\site-packages\\lightfm\\_lightfm_fast.py:9: UserWarning: LightFM was compiled without OpenMP support. Only a single thread will be used.\n",
      "  warnings.warn(\n"
     ]
    }
   ],
   "source": [
    "from sklearn.model_selection import train_test_split\n",
    "from sklearn.metrics import accuracy_score\n",
    "from sklearn.metrics import mean_squared_error\n",
    "from collections import Counter, defaultdict\n",
    "from operator import itemgetter\n",
    "import tensorflow as tf\n",
    "from tensorflow import keras\n",
    "from pylab import rcParams\n",
    "from pylab import savefig\n",
    "import lightfm\n",
    "from lightfm import LightFM\n",
    "from lightfm.data import Dataset\n",
    "from lightfm import cross_validation\n",
    "from lightfm.evaluation import precision_at_k\n",
    "from lightfm.evaluation import recall_at_k\n",
    "from lightfm.cross_validation import random_train_test_split\n",
    "from scipy.sparse import csr_matrix\n",
    "import scipy\n",
    "\n",
    "from sklearn.model_selection import train_test_split\n",
    "from collections import Counter, defaultdict\n",
    "from sklearn.metrics import accuracy_score\n",
    "import matplotlib.ticker as ticker\n",
    "from math import sqrt\n",
    "from sklearn.metrics import mean_squared_error"
   ]
  },
  {
   "cell_type": "code",
   "execution_count": 3,
   "id": "85c6870b",
   "metadata": {},
   "outputs": [],
   "source": [
    "# Install Altair and activate its colab renderer.\n",
    "#print(\"Installing Altair...\")\n",
    "#!pip install git+git://github.com/altair-viz/altair.git\n",
    "#import altair as alt\n",
    "#alt.data_transformers.enable('default', max_rows=None)\n",
    "#alt.renderers.enable('colab')\n",
    "#print(\"Done installing Altair.\")\n",
    "\n",
    "# Install spreadsheets and import authentication module.\n",
    "#USER_RATINGS = False\n",
    "#!pip install --upgrade -q gspread\n",
    "#from google.colab import auth\n",
    "#import gspread\n",
    "#from oauth2client.client import GoogleCredentials"
   ]
  },
  {
   "cell_type": "code",
   "execution_count": 4,
   "id": "700b07b3",
   "metadata": {},
   "outputs": [],
   "source": [
    "import matplotlib.pyplot as plt\n",
    "import os\n",
    "import warnings\n",
    "from keras.layers import Input, Embedding, Flatten, Dot, Dense, Concatenate\n",
    "from keras.models import Model"
   ]
  },
  {
   "cell_type": "markdown",
   "id": "32ff44ac",
   "metadata": {},
   "source": [
    "Firstly, I converted my data files from .dat to .csv format. I did this via excel using the data tab and it's \"get external data\" option and extracted it from text. All the delimiting was done by default and I had my files in a delimited format."
   ]
  },
  {
   "cell_type": "code",
   "execution_count": 5,
   "id": "e612c1ae",
   "metadata": {},
   "outputs": [
    {
     "data": {
      "text/html": [
       "<div>\n",
       "<style scoped>\n",
       "    .dataframe tbody tr th:only-of-type {\n",
       "        vertical-align: middle;\n",
       "    }\n",
       "\n",
       "    .dataframe tbody tr th {\n",
       "        vertical-align: top;\n",
       "    }\n",
       "\n",
       "    .dataframe thead th {\n",
       "        text-align: right;\n",
       "    }\n",
       "</style>\n",
       "<table border=\"1\" class=\"dataframe\">\n",
       "  <thead>\n",
       "    <tr style=\"text-align: right;\">\n",
       "      <th></th>\n",
       "      <th>id</th>\n",
       "      <th>name</th>\n",
       "      <th>url</th>\n",
       "      <th>pictureURL</th>\n",
       "    </tr>\n",
       "  </thead>\n",
       "  <tbody>\n",
       "    <tr>\n",
       "      <th>0</th>\n",
       "      <td>1</td>\n",
       "      <td>MALICE MIZER</td>\n",
       "      <td>http://www.last.fm/music/MALICE+MIZER</td>\n",
       "      <td>http://userserve-ak.last.fm/serve/252/10808.jpg</td>\n",
       "    </tr>\n",
       "    <tr>\n",
       "      <th>1</th>\n",
       "      <td>2</td>\n",
       "      <td>Diary of Dreams</td>\n",
       "      <td>http://www.last.fm/music/Diary+of+Dreams</td>\n",
       "      <td>http://userserve-ak.last.fm/serve/252/3052066.jpg</td>\n",
       "    </tr>\n",
       "    <tr>\n",
       "      <th>2</th>\n",
       "      <td>3</td>\n",
       "      <td>Carpathian Forest</td>\n",
       "      <td>http://www.last.fm/music/Carpathian+Forest</td>\n",
       "      <td>http://userserve-ak.last.fm/serve/252/40222717...</td>\n",
       "    </tr>\n",
       "    <tr>\n",
       "      <th>3</th>\n",
       "      <td>4</td>\n",
       "      <td>Moi dix Mois</td>\n",
       "      <td>http://www.last.fm/music/Moi+dix+Mois</td>\n",
       "      <td>http://userserve-ak.last.fm/serve/252/54697835...</td>\n",
       "    </tr>\n",
       "    <tr>\n",
       "      <th>4</th>\n",
       "      <td>5</td>\n",
       "      <td>Bella Morte</td>\n",
       "      <td>http://www.last.fm/music/Bella+Morte</td>\n",
       "      <td>http://userserve-ak.last.fm/serve/252/14789013...</td>\n",
       "    </tr>\n",
       "    <tr>\n",
       "      <th>...</th>\n",
       "      <td>...</td>\n",
       "      <td>...</td>\n",
       "      <td>...</td>\n",
       "      <td>...</td>\n",
       "    </tr>\n",
       "    <tr>\n",
       "      <th>17627</th>\n",
       "      <td>18741</td>\n",
       "      <td>Diamanda GalÃ¡s</td>\n",
       "      <td>http://www.last.fm/music/Diamanda+Gal%C3%A1s</td>\n",
       "      <td>http://userserve-ak.last.fm/serve/252/16352971...</td>\n",
       "    </tr>\n",
       "    <tr>\n",
       "      <th>17628</th>\n",
       "      <td>18742</td>\n",
       "      <td>Aya RL</td>\n",
       "      <td>http://www.last.fm/music/Aya+RL</td>\n",
       "      <td>http://userserve-ak.last.fm/serve/252/207445.jpg</td>\n",
       "    </tr>\n",
       "    <tr>\n",
       "      <th>17629</th>\n",
       "      <td>18743</td>\n",
       "      <td>Coptic Rain</td>\n",
       "      <td>http://www.last.fm/music/Coptic+Rain</td>\n",
       "      <td>http://userserve-ak.last.fm/serve/252/344868.jpg</td>\n",
       "    </tr>\n",
       "    <tr>\n",
       "      <th>17630</th>\n",
       "      <td>18744</td>\n",
       "      <td>Oz Alchemist</td>\n",
       "      <td>http://www.last.fm/music/Oz+Alchemist</td>\n",
       "      <td>http://userserve-ak.last.fm/serve/252/29297695...</td>\n",
       "    </tr>\n",
       "    <tr>\n",
       "      <th>17631</th>\n",
       "      <td>18745</td>\n",
       "      <td>Grzegorz Tomczak</td>\n",
       "      <td>http://www.last.fm/music/Grzegorz+Tomczak</td>\n",
       "      <td>http://userserve-ak.last.fm/serve/252/59486303...</td>\n",
       "    </tr>\n",
       "  </tbody>\n",
       "</table>\n",
       "<p>17632 rows × 4 columns</p>\n",
       "</div>"
      ],
      "text/plain": [
       "          id               name                                           url  \\\n",
       "0          1       MALICE MIZER         http://www.last.fm/music/MALICE+MIZER   \n",
       "1          2    Diary of Dreams      http://www.last.fm/music/Diary+of+Dreams   \n",
       "2          3  Carpathian Forest    http://www.last.fm/music/Carpathian+Forest   \n",
       "3          4       Moi dix Mois         http://www.last.fm/music/Moi+dix+Mois   \n",
       "4          5        Bella Morte          http://www.last.fm/music/Bella+Morte   \n",
       "...      ...                ...                                           ...   \n",
       "17627  18741    Diamanda GalÃ¡s  http://www.last.fm/music/Diamanda+Gal%C3%A1s   \n",
       "17628  18742             Aya RL               http://www.last.fm/music/Aya+RL   \n",
       "17629  18743        Coptic Rain          http://www.last.fm/music/Coptic+Rain   \n",
       "17630  18744       Oz Alchemist         http://www.last.fm/music/Oz+Alchemist   \n",
       "17631  18745   Grzegorz Tomczak     http://www.last.fm/music/Grzegorz+Tomczak   \n",
       "\n",
       "                                              pictureURL  \n",
       "0        http://userserve-ak.last.fm/serve/252/10808.jpg  \n",
       "1      http://userserve-ak.last.fm/serve/252/3052066.jpg  \n",
       "2      http://userserve-ak.last.fm/serve/252/40222717...  \n",
       "3      http://userserve-ak.last.fm/serve/252/54697835...  \n",
       "4      http://userserve-ak.last.fm/serve/252/14789013...  \n",
       "...                                                  ...  \n",
       "17627  http://userserve-ak.last.fm/serve/252/16352971...  \n",
       "17628   http://userserve-ak.last.fm/serve/252/207445.jpg  \n",
       "17629   http://userserve-ak.last.fm/serve/252/344868.jpg  \n",
       "17630  http://userserve-ak.last.fm/serve/252/29297695...  \n",
       "17631  http://userserve-ak.last.fm/serve/252/59486303...  \n",
       "\n",
       "[17632 rows x 4 columns]"
      ]
     },
     "execution_count": 5,
     "metadata": {},
     "output_type": "execute_result"
    }
   ],
   "source": [
    "df = pd.read_csv(\"data/hetrec2011-lastfm-2k/artists.csv\")\n",
    "df"
   ]
  },
  {
   "cell_type": "code",
   "execution_count": 6,
   "id": "1df4cee2",
   "metadata": {},
   "outputs": [
    {
     "data": {
      "text/plain": [
       "965"
      ]
     },
     "execution_count": 6,
     "metadata": {},
     "output_type": "execute_result"
    }
   ],
   "source": [
    "df['id'] = pd.to_numeric(df['id'])\n",
    "lst = []\n",
    "m = np.array(df['id'])\n",
    "for i in range(0,17632):\n",
    "    #print(i)\n",
    "    if i not in df.id.values:\n",
    "        lst.append(i)\n",
    "\n",
    "len(lst)"
   ]
  },
  {
   "cell_type": "code",
   "execution_count": 7,
   "id": "fb4b1d21",
   "metadata": {},
   "outputs": [],
   "source": [
    "newart = []\n",
    "for i in range(0, 17632):\n",
    "    newart.append(i)"
   ]
  },
  {
   "cell_type": "code",
   "execution_count": 8,
   "id": "fce87f3e",
   "metadata": {},
   "outputs": [],
   "source": [
    "newart = np.array(newart)\n",
    "df['artID'] = newart.tolist()"
   ]
  },
  {
   "cell_type": "code",
   "execution_count": 9,
   "id": "8188ad48",
   "metadata": {},
   "outputs": [
    {
     "data": {
      "text/html": [
       "<div>\n",
       "<style scoped>\n",
       "    .dataframe tbody tr th:only-of-type {\n",
       "        vertical-align: middle;\n",
       "    }\n",
       "\n",
       "    .dataframe tbody tr th {\n",
       "        vertical-align: top;\n",
       "    }\n",
       "\n",
       "    .dataframe thead th {\n",
       "        text-align: right;\n",
       "    }\n",
       "</style>\n",
       "<table border=\"1\" class=\"dataframe\">\n",
       "  <thead>\n",
       "    <tr style=\"text-align: right;\">\n",
       "      <th></th>\n",
       "      <th>name</th>\n",
       "      <th>url</th>\n",
       "      <th>pictureURL</th>\n",
       "      <th>artID</th>\n",
       "    </tr>\n",
       "  </thead>\n",
       "  <tbody>\n",
       "    <tr>\n",
       "      <th>0</th>\n",
       "      <td>MALICE MIZER</td>\n",
       "      <td>http://www.last.fm/music/MALICE+MIZER</td>\n",
       "      <td>http://userserve-ak.last.fm/serve/252/10808.jpg</td>\n",
       "      <td>0</td>\n",
       "    </tr>\n",
       "    <tr>\n",
       "      <th>1</th>\n",
       "      <td>Diary of Dreams</td>\n",
       "      <td>http://www.last.fm/music/Diary+of+Dreams</td>\n",
       "      <td>http://userserve-ak.last.fm/serve/252/3052066.jpg</td>\n",
       "      <td>1</td>\n",
       "    </tr>\n",
       "    <tr>\n",
       "      <th>2</th>\n",
       "      <td>Carpathian Forest</td>\n",
       "      <td>http://www.last.fm/music/Carpathian+Forest</td>\n",
       "      <td>http://userserve-ak.last.fm/serve/252/40222717...</td>\n",
       "      <td>2</td>\n",
       "    </tr>\n",
       "    <tr>\n",
       "      <th>3</th>\n",
       "      <td>Moi dix Mois</td>\n",
       "      <td>http://www.last.fm/music/Moi+dix+Mois</td>\n",
       "      <td>http://userserve-ak.last.fm/serve/252/54697835...</td>\n",
       "      <td>3</td>\n",
       "    </tr>\n",
       "    <tr>\n",
       "      <th>4</th>\n",
       "      <td>Bella Morte</td>\n",
       "      <td>http://www.last.fm/music/Bella+Morte</td>\n",
       "      <td>http://userserve-ak.last.fm/serve/252/14789013...</td>\n",
       "      <td>4</td>\n",
       "    </tr>\n",
       "  </tbody>\n",
       "</table>\n",
       "</div>"
      ],
      "text/plain": [
       "                name                                         url  \\\n",
       "0       MALICE MIZER       http://www.last.fm/music/MALICE+MIZER   \n",
       "1    Diary of Dreams    http://www.last.fm/music/Diary+of+Dreams   \n",
       "2  Carpathian Forest  http://www.last.fm/music/Carpathian+Forest   \n",
       "3       Moi dix Mois       http://www.last.fm/music/Moi+dix+Mois   \n",
       "4        Bella Morte        http://www.last.fm/music/Bella+Morte   \n",
       "\n",
       "                                          pictureURL  artID  \n",
       "0    http://userserve-ak.last.fm/serve/252/10808.jpg      0  \n",
       "1  http://userserve-ak.last.fm/serve/252/3052066.jpg      1  \n",
       "2  http://userserve-ak.last.fm/serve/252/40222717...      2  \n",
       "3  http://userserve-ak.last.fm/serve/252/54697835...      3  \n",
       "4  http://userserve-ak.last.fm/serve/252/14789013...      4  "
      ]
     },
     "execution_count": 9,
     "metadata": {},
     "output_type": "execute_result"
    }
   ],
   "source": [
    "df.drop(columns=['id'], inplace=True)\n",
    "df.head()"
   ]
  },
  {
   "cell_type": "markdown",
   "id": "1df5cbe5",
   "metadata": {},
   "source": [
    "There appears to be some unclean names such as \"Diamanda GalÃ¡s\" among others just taking an initial look at the data here."
   ]
  },
  {
   "cell_type": "code",
   "execution_count": 10,
   "id": "b4904c2d",
   "metadata": {},
   "outputs": [
    {
     "data": {
      "text/html": [
       "<div>\n",
       "<style scoped>\n",
       "    .dataframe tbody tr th:only-of-type {\n",
       "        vertical-align: middle;\n",
       "    }\n",
       "\n",
       "    .dataframe tbody tr th {\n",
       "        vertical-align: top;\n",
       "    }\n",
       "\n",
       "    .dataframe thead th {\n",
       "        text-align: right;\n",
       "    }\n",
       "</style>\n",
       "<table border=\"1\" class=\"dataframe\">\n",
       "  <thead>\n",
       "    <tr style=\"text-align: right;\">\n",
       "      <th></th>\n",
       "      <th>tagID</th>\n",
       "      <th>tagValue</th>\n",
       "    </tr>\n",
       "  </thead>\n",
       "  <tbody>\n",
       "    <tr>\n",
       "      <th>0</th>\n",
       "      <td>1</td>\n",
       "      <td>metal</td>\n",
       "    </tr>\n",
       "    <tr>\n",
       "      <th>1</th>\n",
       "      <td>2</td>\n",
       "      <td>alternative metal</td>\n",
       "    </tr>\n",
       "    <tr>\n",
       "      <th>2</th>\n",
       "      <td>3</td>\n",
       "      <td>goth rock</td>\n",
       "    </tr>\n",
       "    <tr>\n",
       "      <th>3</th>\n",
       "      <td>4</td>\n",
       "      <td>black metal</td>\n",
       "    </tr>\n",
       "    <tr>\n",
       "      <th>4</th>\n",
       "      <td>5</td>\n",
       "      <td>death metal</td>\n",
       "    </tr>\n",
       "    <tr>\n",
       "      <th>...</th>\n",
       "      <td>...</td>\n",
       "      <td>...</td>\n",
       "    </tr>\n",
       "    <tr>\n",
       "      <th>11941</th>\n",
       "      <td>12644</td>\n",
       "      <td>suomi</td>\n",
       "    </tr>\n",
       "    <tr>\n",
       "      <th>11942</th>\n",
       "      <td>12645</td>\n",
       "      <td>symbiosis</td>\n",
       "    </tr>\n",
       "    <tr>\n",
       "      <th>11943</th>\n",
       "      <td>12646</td>\n",
       "      <td>sverige</td>\n",
       "    </tr>\n",
       "    <tr>\n",
       "      <th>11944</th>\n",
       "      <td>12647</td>\n",
       "      <td>eire</td>\n",
       "    </tr>\n",
       "    <tr>\n",
       "      <th>11945</th>\n",
       "      <td>12648</td>\n",
       "      <td>electro latino</td>\n",
       "    </tr>\n",
       "  </tbody>\n",
       "</table>\n",
       "<p>11946 rows × 2 columns</p>\n",
       "</div>"
      ],
      "text/plain": [
       "       tagID           tagValue\n",
       "0          1              metal\n",
       "1          2  alternative metal\n",
       "2          3          goth rock\n",
       "3          4        black metal\n",
       "4          5        death metal\n",
       "...      ...                ...\n",
       "11941  12644              suomi\n",
       "11942  12645          symbiosis\n",
       "11943  12646            sverige\n",
       "11944  12647               eire\n",
       "11945  12648     electro latino\n",
       "\n",
       "[11946 rows x 2 columns]"
      ]
     },
     "execution_count": 10,
     "metadata": {},
     "output_type": "execute_result"
    }
   ],
   "source": [
    "df1 = pd.read_csv(\"data/hetrec2011-lastfm-2k/tags.csv\")\n",
    "df1"
   ]
  },
  {
   "cell_type": "code",
   "execution_count": 11,
   "id": "372d8f1a",
   "metadata": {},
   "outputs": [
    {
     "data": {
      "text/html": [
       "<div>\n",
       "<style scoped>\n",
       "    .dataframe tbody tr th:only-of-type {\n",
       "        vertical-align: middle;\n",
       "    }\n",
       "\n",
       "    .dataframe tbody tr th {\n",
       "        vertical-align: top;\n",
       "    }\n",
       "\n",
       "    .dataframe thead th {\n",
       "        text-align: right;\n",
       "    }\n",
       "</style>\n",
       "<table border=\"1\" class=\"dataframe\">\n",
       "  <thead>\n",
       "    <tr style=\"text-align: right;\">\n",
       "      <th></th>\n",
       "      <th>userID</th>\n",
       "      <th>artistID</th>\n",
       "      <th>weight</th>\n",
       "    </tr>\n",
       "  </thead>\n",
       "  <tbody>\n",
       "    <tr>\n",
       "      <th>0</th>\n",
       "      <td>2</td>\n",
       "      <td>51</td>\n",
       "      <td>13883</td>\n",
       "    </tr>\n",
       "    <tr>\n",
       "      <th>1</th>\n",
       "      <td>2</td>\n",
       "      <td>52</td>\n",
       "      <td>11690</td>\n",
       "    </tr>\n",
       "    <tr>\n",
       "      <th>2</th>\n",
       "      <td>2</td>\n",
       "      <td>53</td>\n",
       "      <td>11351</td>\n",
       "    </tr>\n",
       "    <tr>\n",
       "      <th>3</th>\n",
       "      <td>2</td>\n",
       "      <td>54</td>\n",
       "      <td>10300</td>\n",
       "    </tr>\n",
       "    <tr>\n",
       "      <th>4</th>\n",
       "      <td>2</td>\n",
       "      <td>55</td>\n",
       "      <td>8983</td>\n",
       "    </tr>\n",
       "    <tr>\n",
       "      <th>...</th>\n",
       "      <td>...</td>\n",
       "      <td>...</td>\n",
       "      <td>...</td>\n",
       "    </tr>\n",
       "    <tr>\n",
       "      <th>92829</th>\n",
       "      <td>2100</td>\n",
       "      <td>18726</td>\n",
       "      <td>337</td>\n",
       "    </tr>\n",
       "    <tr>\n",
       "      <th>92830</th>\n",
       "      <td>2100</td>\n",
       "      <td>18727</td>\n",
       "      <td>297</td>\n",
       "    </tr>\n",
       "    <tr>\n",
       "      <th>92831</th>\n",
       "      <td>2100</td>\n",
       "      <td>18728</td>\n",
       "      <td>281</td>\n",
       "    </tr>\n",
       "    <tr>\n",
       "      <th>92832</th>\n",
       "      <td>2100</td>\n",
       "      <td>18729</td>\n",
       "      <td>280</td>\n",
       "    </tr>\n",
       "    <tr>\n",
       "      <th>92833</th>\n",
       "      <td>2100</td>\n",
       "      <td>18730</td>\n",
       "      <td>263</td>\n",
       "    </tr>\n",
       "  </tbody>\n",
       "</table>\n",
       "<p>92834 rows × 3 columns</p>\n",
       "</div>"
      ],
      "text/plain": [
       "       userID  artistID  weight\n",
       "0           2        51   13883\n",
       "1           2        52   11690\n",
       "2           2        53   11351\n",
       "3           2        54   10300\n",
       "4           2        55    8983\n",
       "...       ...       ...     ...\n",
       "92829    2100     18726     337\n",
       "92830    2100     18727     297\n",
       "92831    2100     18728     281\n",
       "92832    2100     18729     280\n",
       "92833    2100     18730     263\n",
       "\n",
       "[92834 rows x 3 columns]"
      ]
     },
     "execution_count": 11,
     "metadata": {},
     "output_type": "execute_result"
    }
   ],
   "source": [
    "df2 = pd.read_csv(\"data/hetrec2011-lastfm-2k/user_artists.csv\")\n",
    "df2"
   ]
  },
  {
   "cell_type": "code",
   "execution_count": 12,
   "id": "213e5d31",
   "metadata": {},
   "outputs": [
    {
     "data": {
      "text/plain": [
       "1"
      ]
     },
     "execution_count": 12,
     "metadata": {},
     "output_type": "execute_result"
    }
   ],
   "source": [
    "df2['artistID'].min()"
   ]
  },
  {
   "cell_type": "code",
   "execution_count": 13,
   "id": "75cc8c19",
   "metadata": {},
   "outputs": [],
   "source": [
    "# Since the ids start at 2, we get them to start at 0. We also need to have the max value 1 less than the no of unique values.\n",
    "df2[\"userID\"] = df2[\"userID\"].apply(lambda x: str(x-2))\n",
    "df2[\"artistID\"] = df2[\"artistID\"].apply(lambda x: str(x-1))"
   ]
  },
  {
   "cell_type": "code",
   "execution_count": 14,
   "id": "0bf17f35",
   "metadata": {},
   "outputs": [],
   "source": [
    "df2['userID'] = df2['userID'].astype(int)\n",
    "xyz =  np.array(df2['userID'])\n",
    "#zzz = np.array(played['userID'])\n",
    "vals = []\n",
    "for i in range(len(xyz)):\n",
    "    v = xyz[i]\n",
    "    if v not in vals:\n",
    "        vals.append(v)\n",
    "    else:\n",
    "        continue"
   ]
  },
  {
   "cell_type": "code",
   "execution_count": 15,
   "id": "b0a192a5",
   "metadata": {},
   "outputs": [
    {
     "data": {
      "text/plain": [
       "2098"
      ]
     },
     "execution_count": 15,
     "metadata": {},
     "output_type": "execute_result"
    }
   ],
   "source": [
    "vals[-1]"
   ]
  },
  {
   "cell_type": "code",
   "execution_count": 16,
   "id": "62ffd020",
   "metadata": {},
   "outputs": [
    {
     "data": {
      "text/plain": [
       "2098"
      ]
     },
     "execution_count": 16,
     "metadata": {},
     "output_type": "execute_result"
    }
   ],
   "source": [
    "unique_list = list(set(vals))\n",
    "unique_list.sort()\n",
    "unique_list[-1]"
   ]
  },
  {
   "cell_type": "code",
   "execution_count": 17,
   "id": "86c40ba8",
   "metadata": {},
   "outputs": [
    {
     "data": {
      "text/plain": [
       "1891"
      ]
     },
     "execution_count": 17,
     "metadata": {},
     "output_type": "execute_result"
    }
   ],
   "source": [
    "usenew = []\n",
    "for i in range(0, 1892):\n",
    "    usenew.append(i)\n",
    "\n",
    "usenew[-1]"
   ]
  },
  {
   "cell_type": "code",
   "execution_count": 18,
   "id": "f93271d0",
   "metadata": {},
   "outputs": [],
   "source": [
    "keys = unique_list\n",
    "values = usenew\n",
    "dictionary = dict(zip(keys, values))\n",
    "#print(dictionary) # {'a': 1, 'b': 2, 'c': 3}"
   ]
  },
  {
   "cell_type": "code",
   "execution_count": 19,
   "id": "04397e42",
   "metadata": {},
   "outputs": [],
   "source": [
    "s = df2['userID']\n",
    "\n",
    "df2['userID'] = s.map(dictionary)"
   ]
  },
  {
   "cell_type": "code",
   "execution_count": 20,
   "id": "ee4af8c8",
   "metadata": {},
   "outputs": [
    {
     "data": {
      "text/html": [
       "<div>\n",
       "<style scoped>\n",
       "    .dataframe tbody tr th:only-of-type {\n",
       "        vertical-align: middle;\n",
       "    }\n",
       "\n",
       "    .dataframe tbody tr th {\n",
       "        vertical-align: top;\n",
       "    }\n",
       "\n",
       "    .dataframe thead th {\n",
       "        text-align: right;\n",
       "    }\n",
       "</style>\n",
       "<table border=\"1\" class=\"dataframe\">\n",
       "  <thead>\n",
       "    <tr style=\"text-align: right;\">\n",
       "      <th></th>\n",
       "      <th>userID</th>\n",
       "      <th>artistID</th>\n",
       "      <th>weight</th>\n",
       "    </tr>\n",
       "  </thead>\n",
       "  <tbody>\n",
       "    <tr>\n",
       "      <th>0</th>\n",
       "      <td>0</td>\n",
       "      <td>50</td>\n",
       "      <td>13883</td>\n",
       "    </tr>\n",
       "    <tr>\n",
       "      <th>1</th>\n",
       "      <td>0</td>\n",
       "      <td>51</td>\n",
       "      <td>11690</td>\n",
       "    </tr>\n",
       "    <tr>\n",
       "      <th>2</th>\n",
       "      <td>0</td>\n",
       "      <td>52</td>\n",
       "      <td>11351</td>\n",
       "    </tr>\n",
       "    <tr>\n",
       "      <th>3</th>\n",
       "      <td>0</td>\n",
       "      <td>53</td>\n",
       "      <td>10300</td>\n",
       "    </tr>\n",
       "    <tr>\n",
       "      <th>4</th>\n",
       "      <td>0</td>\n",
       "      <td>54</td>\n",
       "      <td>8983</td>\n",
       "    </tr>\n",
       "  </tbody>\n",
       "</table>\n",
       "</div>"
      ],
      "text/plain": [
       "   userID artistID  weight\n",
       "0       0       50   13883\n",
       "1       0       51   11690\n",
       "2       0       52   11351\n",
       "3       0       53   10300\n",
       "4       0       54    8983"
      ]
     },
     "execution_count": 20,
     "metadata": {},
     "output_type": "execute_result"
    }
   ],
   "source": [
    "df2.head()"
   ]
  },
  {
   "cell_type": "code",
   "execution_count": 21,
   "id": "4bc026c8",
   "metadata": {},
   "outputs": [],
   "source": [
    "df2['artistID'] = df2['artistID'].astype(int)\n",
    "xyz =  np.array(df2['artistID'])\n",
    "#zzz = np.array(played['userID'])\n",
    "vals = []\n",
    "for i in range(len(xyz)):\n",
    "    v = xyz[i]\n",
    "    if v not in vals:\n",
    "        vals.append(v)\n",
    "    else:\n",
    "        continue"
   ]
  },
  {
   "cell_type": "code",
   "execution_count": 22,
   "id": "065e2a0b",
   "metadata": {},
   "outputs": [
    {
     "data": {
      "text/plain": [
       "0"
      ]
     },
     "execution_count": 22,
     "metadata": {},
     "output_type": "execute_result"
    }
   ],
   "source": [
    "unique_list = list(set(vals))\n",
    "unique_list.sort()\n",
    "unique_list[0]"
   ]
  },
  {
   "cell_type": "code",
   "execution_count": 23,
   "id": "ab4a2de0",
   "metadata": {},
   "outputs": [
    {
     "data": {
      "text/plain": [
       "17631"
      ]
     },
     "execution_count": 23,
     "metadata": {},
     "output_type": "execute_result"
    }
   ],
   "source": [
    "usenew = []\n",
    "for i in range(0, 17632):\n",
    "    usenew.append(i)\n",
    "\n",
    "usenew[-1]"
   ]
  },
  {
   "cell_type": "code",
   "execution_count": 24,
   "id": "4e728879",
   "metadata": {},
   "outputs": [],
   "source": [
    "keys = unique_list\n",
    "values = usenew\n",
    "diction = dict(zip(keys, values))\n",
    "#print(diction) # {'a': 1, 'b': 2, 'c': 3}"
   ]
  },
  {
   "cell_type": "code",
   "execution_count": 25,
   "id": "090cd02b",
   "metadata": {},
   "outputs": [],
   "source": [
    "s = df2['artistID']\n",
    "\n",
    "df2['artistID'] = s.map(diction)"
   ]
  },
  {
   "cell_type": "code",
   "execution_count": 26,
   "id": "fb926189",
   "metadata": {},
   "outputs": [
    {
     "data": {
      "text/plain": [
       "352698"
      ]
     },
     "execution_count": 26,
     "metadata": {},
     "output_type": "execute_result"
    }
   ],
   "source": [
    "df2['weight'].max()"
   ]
  },
  {
   "cell_type": "code",
   "execution_count": 27,
   "id": "4c376ed3",
   "metadata": {},
   "outputs": [
    {
     "data": {
      "text/html": [
       "<div>\n",
       "<style scoped>\n",
       "    .dataframe tbody tr th:only-of-type {\n",
       "        vertical-align: middle;\n",
       "    }\n",
       "\n",
       "    .dataframe tbody tr th {\n",
       "        vertical-align: top;\n",
       "    }\n",
       "\n",
       "    .dataframe thead th {\n",
       "        text-align: right;\n",
       "    }\n",
       "</style>\n",
       "<table border=\"1\" class=\"dataframe\">\n",
       "  <thead>\n",
       "    <tr style=\"text-align: right;\">\n",
       "      <th></th>\n",
       "      <th>userID</th>\n",
       "      <th>artistID</th>\n",
       "      <th>weight</th>\n",
       "    </tr>\n",
       "  </thead>\n",
       "  <tbody>\n",
       "    <tr>\n",
       "      <th>0</th>\n",
       "      <td>0</td>\n",
       "      <td>45</td>\n",
       "      <td>13883</td>\n",
       "    </tr>\n",
       "    <tr>\n",
       "      <th>1</th>\n",
       "      <td>0</td>\n",
       "      <td>46</td>\n",
       "      <td>11690</td>\n",
       "    </tr>\n",
       "    <tr>\n",
       "      <th>2</th>\n",
       "      <td>0</td>\n",
       "      <td>47</td>\n",
       "      <td>11351</td>\n",
       "    </tr>\n",
       "    <tr>\n",
       "      <th>3</th>\n",
       "      <td>0</td>\n",
       "      <td>48</td>\n",
       "      <td>10300</td>\n",
       "    </tr>\n",
       "    <tr>\n",
       "      <th>4</th>\n",
       "      <td>0</td>\n",
       "      <td>49</td>\n",
       "      <td>8983</td>\n",
       "    </tr>\n",
       "    <tr>\n",
       "      <th>...</th>\n",
       "      <td>...</td>\n",
       "      <td>...</td>\n",
       "      <td>...</td>\n",
       "    </tr>\n",
       "    <tr>\n",
       "      <th>92829</th>\n",
       "      <td>1891</td>\n",
       "      <td>17615</td>\n",
       "      <td>337</td>\n",
       "    </tr>\n",
       "    <tr>\n",
       "      <th>92830</th>\n",
       "      <td>1891</td>\n",
       "      <td>17616</td>\n",
       "      <td>297</td>\n",
       "    </tr>\n",
       "    <tr>\n",
       "      <th>92831</th>\n",
       "      <td>1891</td>\n",
       "      <td>17617</td>\n",
       "      <td>281</td>\n",
       "    </tr>\n",
       "    <tr>\n",
       "      <th>92832</th>\n",
       "      <td>1891</td>\n",
       "      <td>17618</td>\n",
       "      <td>280</td>\n",
       "    </tr>\n",
       "    <tr>\n",
       "      <th>92833</th>\n",
       "      <td>1891</td>\n",
       "      <td>17619</td>\n",
       "      <td>263</td>\n",
       "    </tr>\n",
       "  </tbody>\n",
       "</table>\n",
       "<p>92834 rows × 3 columns</p>\n",
       "</div>"
      ],
      "text/plain": [
       "       userID  artistID  weight\n",
       "0           0        45   13883\n",
       "1           0        46   11690\n",
       "2           0        47   11351\n",
       "3           0        48   10300\n",
       "4           0        49    8983\n",
       "...       ...       ...     ...\n",
       "92829    1891     17615     337\n",
       "92830    1891     17616     297\n",
       "92831    1891     17617     281\n",
       "92832    1891     17618     280\n",
       "92833    1891     17619     263\n",
       "\n",
       "[92834 rows x 3 columns]"
      ]
     },
     "execution_count": 27,
     "metadata": {},
     "output_type": "execute_result"
    }
   ],
   "source": [
    "df2"
   ]
  },
  {
   "cell_type": "code",
   "execution_count": 28,
   "id": "b2ef80de",
   "metadata": {},
   "outputs": [
    {
     "data": {
      "text/html": [
       "<div>\n",
       "<style scoped>\n",
       "    .dataframe tbody tr th:only-of-type {\n",
       "        vertical-align: middle;\n",
       "    }\n",
       "\n",
       "    .dataframe tbody tr th {\n",
       "        vertical-align: top;\n",
       "    }\n",
       "\n",
       "    .dataframe thead th {\n",
       "        text-align: right;\n",
       "    }\n",
       "</style>\n",
       "<table border=\"1\" class=\"dataframe\">\n",
       "  <thead>\n",
       "    <tr style=\"text-align: right;\">\n",
       "      <th></th>\n",
       "      <th>userID</th>\n",
       "      <th>friendID</th>\n",
       "    </tr>\n",
       "  </thead>\n",
       "  <tbody>\n",
       "    <tr>\n",
       "      <th>0</th>\n",
       "      <td>2</td>\n",
       "      <td>275</td>\n",
       "    </tr>\n",
       "    <tr>\n",
       "      <th>1</th>\n",
       "      <td>2</td>\n",
       "      <td>428</td>\n",
       "    </tr>\n",
       "    <tr>\n",
       "      <th>2</th>\n",
       "      <td>2</td>\n",
       "      <td>515</td>\n",
       "    </tr>\n",
       "    <tr>\n",
       "      <th>3</th>\n",
       "      <td>2</td>\n",
       "      <td>761</td>\n",
       "    </tr>\n",
       "    <tr>\n",
       "      <th>4</th>\n",
       "      <td>2</td>\n",
       "      <td>831</td>\n",
       "    </tr>\n",
       "    <tr>\n",
       "      <th>...</th>\n",
       "      <td>...</td>\n",
       "      <td>...</td>\n",
       "    </tr>\n",
       "    <tr>\n",
       "      <th>25429</th>\n",
       "      <td>2099</td>\n",
       "      <td>1801</td>\n",
       "    </tr>\n",
       "    <tr>\n",
       "      <th>25430</th>\n",
       "      <td>2099</td>\n",
       "      <td>2006</td>\n",
       "    </tr>\n",
       "    <tr>\n",
       "      <th>25431</th>\n",
       "      <td>2099</td>\n",
       "      <td>2016</td>\n",
       "    </tr>\n",
       "    <tr>\n",
       "      <th>25432</th>\n",
       "      <td>2100</td>\n",
       "      <td>586</td>\n",
       "    </tr>\n",
       "    <tr>\n",
       "      <th>25433</th>\n",
       "      <td>2100</td>\n",
       "      <td>607</td>\n",
       "    </tr>\n",
       "  </tbody>\n",
       "</table>\n",
       "<p>25434 rows × 2 columns</p>\n",
       "</div>"
      ],
      "text/plain": [
       "       userID  friendID\n",
       "0           2       275\n",
       "1           2       428\n",
       "2           2       515\n",
       "3           2       761\n",
       "4           2       831\n",
       "...       ...       ...\n",
       "25429    2099      1801\n",
       "25430    2099      2006\n",
       "25431    2099      2016\n",
       "25432    2100       586\n",
       "25433    2100       607\n",
       "\n",
       "[25434 rows x 2 columns]"
      ]
     },
     "execution_count": 28,
     "metadata": {},
     "output_type": "execute_result"
    }
   ],
   "source": [
    "df3 = pd.read_csv(\"data/hetrec2011-lastfm-2k/user_friends.csv\")\n",
    "df3"
   ]
  },
  {
   "cell_type": "code",
   "execution_count": 29,
   "id": "97deb688",
   "metadata": {},
   "outputs": [],
   "source": [
    "# Since the ids start at 2, we get them to start at 0. We also need to have the max value 1 less than the no of unique values.\n",
    "df3[\"userID\"] = df3[\"userID\"].apply(lambda x: str(x-2))\n",
    "df3[\"friendID\"] = df3[\"friendID\"].apply(lambda x: str(x-2))\n",
    "\n",
    "df3['userID'] = pd.to_numeric(df3['userID'])\n",
    "df3['friendID'] = pd.to_numeric(df3['friendID'])"
   ]
  },
  {
   "cell_type": "code",
   "execution_count": 30,
   "id": "b916fd54",
   "metadata": {},
   "outputs": [
    {
     "data": {
      "text/plain": [
       "2098"
      ]
     },
     "execution_count": 30,
     "metadata": {},
     "output_type": "execute_result"
    }
   ],
   "source": [
    "df3['friendID'].max()"
   ]
  },
  {
   "cell_type": "code",
   "execution_count": 31,
   "id": "dd5da2d4",
   "metadata": {},
   "outputs": [
    {
     "data": {
      "text/plain": [
       "1892"
      ]
     },
     "execution_count": 31,
     "metadata": {},
     "output_type": "execute_result"
    }
   ],
   "source": [
    "df3['friendID'].nunique()"
   ]
  },
  {
   "cell_type": "code",
   "execution_count": 32,
   "id": "1680bc3e",
   "metadata": {},
   "outputs": [],
   "source": [
    "xyz =  np.array(df3['userID'])\n",
    "#zzz = np.array(df2['userID'])\n",
    "vals = []\n",
    "for i in range(len(xyz)):\n",
    "    if xyz[i] not in vals:\n",
    "        vals.append(xyz[i])"
   ]
  },
  {
   "cell_type": "code",
   "execution_count": 33,
   "id": "6e9f6baf",
   "metadata": {},
   "outputs": [
    {
     "data": {
      "text/plain": [
       "2098"
      ]
     },
     "execution_count": 33,
     "metadata": {},
     "output_type": "execute_result"
    }
   ],
   "source": [
    "unique_list = list(set(vals))\n",
    "unique_list.sort()\n",
    "unique_list[-1]"
   ]
  },
  {
   "cell_type": "code",
   "execution_count": 34,
   "id": "ed40605e",
   "metadata": {},
   "outputs": [
    {
     "data": {
      "text/plain": [
       "1891"
      ]
     },
     "execution_count": 34,
     "metadata": {},
     "output_type": "execute_result"
    }
   ],
   "source": [
    "usenew = []\n",
    "for i in range(0, 1892):\n",
    "    usenew.append(i)\n",
    "\n",
    "usenew[-1]"
   ]
  },
  {
   "cell_type": "code",
   "execution_count": 35,
   "id": "0f5871cf",
   "metadata": {},
   "outputs": [],
   "source": [
    "keys = unique_list\n",
    "values = usenew\n",
    "dictionary = dict(zip(keys, values))\n",
    "#print(dictionary) # {'a': 1, 'b': 2, 'c': 3}"
   ]
  },
  {
   "cell_type": "code",
   "execution_count": 36,
   "id": "9c01b1f3",
   "metadata": {},
   "outputs": [],
   "source": [
    "s = df3['userID']\n",
    "\n",
    "df3['userID'] = s.map(dictionary)"
   ]
  },
  {
   "cell_type": "code",
   "execution_count": 37,
   "id": "f04f5753",
   "metadata": {},
   "outputs": [],
   "source": [
    "o = df3['friendID']\n",
    "\n",
    "df3['friendID'] = o.map(dictionary)"
   ]
  },
  {
   "cell_type": "code",
   "execution_count": 38,
   "id": "78a14757",
   "metadata": {},
   "outputs": [
    {
     "data": {
      "text/plain": [
       "1891"
      ]
     },
     "execution_count": 38,
     "metadata": {},
     "output_type": "execute_result"
    }
   ],
   "source": [
    "df3['friendID'].max()"
   ]
  },
  {
   "cell_type": "code",
   "execution_count": 39,
   "id": "eaa9e409",
   "metadata": {},
   "outputs": [
    {
     "data": {
      "text/plain": [
       "False"
      ]
     },
     "execution_count": 39,
     "metadata": {},
     "output_type": "execute_result"
    }
   ],
   "source": [
    "df3.isnull().values.any()"
   ]
  },
  {
   "cell_type": "code",
   "execution_count": 40,
   "id": "1dff649e",
   "metadata": {},
   "outputs": [
    {
     "data": {
      "text/html": [
       "<div>\n",
       "<style scoped>\n",
       "    .dataframe tbody tr th:only-of-type {\n",
       "        vertical-align: middle;\n",
       "    }\n",
       "\n",
       "    .dataframe tbody tr th {\n",
       "        vertical-align: top;\n",
       "    }\n",
       "\n",
       "    .dataframe thead th {\n",
       "        text-align: right;\n",
       "    }\n",
       "</style>\n",
       "<table border=\"1\" class=\"dataframe\">\n",
       "  <thead>\n",
       "    <tr style=\"text-align: right;\">\n",
       "      <th></th>\n",
       "      <th>userID</th>\n",
       "      <th>artistID</th>\n",
       "      <th>tagID</th>\n",
       "      <th>day</th>\n",
       "      <th>month</th>\n",
       "      <th>year</th>\n",
       "    </tr>\n",
       "  </thead>\n",
       "  <tbody>\n",
       "    <tr>\n",
       "      <th>0</th>\n",
       "      <td>2</td>\n",
       "      <td>52</td>\n",
       "      <td>13</td>\n",
       "      <td>1</td>\n",
       "      <td>4</td>\n",
       "      <td>2009</td>\n",
       "    </tr>\n",
       "    <tr>\n",
       "      <th>1</th>\n",
       "      <td>2</td>\n",
       "      <td>52</td>\n",
       "      <td>15</td>\n",
       "      <td>1</td>\n",
       "      <td>4</td>\n",
       "      <td>2009</td>\n",
       "    </tr>\n",
       "    <tr>\n",
       "      <th>2</th>\n",
       "      <td>2</td>\n",
       "      <td>52</td>\n",
       "      <td>18</td>\n",
       "      <td>1</td>\n",
       "      <td>4</td>\n",
       "      <td>2009</td>\n",
       "    </tr>\n",
       "    <tr>\n",
       "      <th>3</th>\n",
       "      <td>2</td>\n",
       "      <td>52</td>\n",
       "      <td>21</td>\n",
       "      <td>1</td>\n",
       "      <td>4</td>\n",
       "      <td>2009</td>\n",
       "    </tr>\n",
       "    <tr>\n",
       "      <th>4</th>\n",
       "      <td>2</td>\n",
       "      <td>52</td>\n",
       "      <td>41</td>\n",
       "      <td>1</td>\n",
       "      <td>4</td>\n",
       "      <td>2009</td>\n",
       "    </tr>\n",
       "    <tr>\n",
       "      <th>...</th>\n",
       "      <td>...</td>\n",
       "      <td>...</td>\n",
       "      <td>...</td>\n",
       "      <td>...</td>\n",
       "      <td>...</td>\n",
       "      <td>...</td>\n",
       "    </tr>\n",
       "    <tr>\n",
       "      <th>186474</th>\n",
       "      <td>2100</td>\n",
       "      <td>16437</td>\n",
       "      <td>4</td>\n",
       "      <td>1</td>\n",
       "      <td>7</td>\n",
       "      <td>2010</td>\n",
       "    </tr>\n",
       "    <tr>\n",
       "      <th>186475</th>\n",
       "      <td>2100</td>\n",
       "      <td>16437</td>\n",
       "      <td>292</td>\n",
       "      <td>1</td>\n",
       "      <td>5</td>\n",
       "      <td>2010</td>\n",
       "    </tr>\n",
       "    <tr>\n",
       "      <th>186476</th>\n",
       "      <td>2100</td>\n",
       "      <td>16437</td>\n",
       "      <td>2087</td>\n",
       "      <td>1</td>\n",
       "      <td>7</td>\n",
       "      <td>2010</td>\n",
       "    </tr>\n",
       "    <tr>\n",
       "      <th>186477</th>\n",
       "      <td>2100</td>\n",
       "      <td>16437</td>\n",
       "      <td>2801</td>\n",
       "      <td>1</td>\n",
       "      <td>5</td>\n",
       "      <td>2010</td>\n",
       "    </tr>\n",
       "    <tr>\n",
       "      <th>186478</th>\n",
       "      <td>2100</td>\n",
       "      <td>16437</td>\n",
       "      <td>3335</td>\n",
       "      <td>1</td>\n",
       "      <td>7</td>\n",
       "      <td>2010</td>\n",
       "    </tr>\n",
       "  </tbody>\n",
       "</table>\n",
       "<p>186479 rows × 6 columns</p>\n",
       "</div>"
      ],
      "text/plain": [
       "        userID  artistID  tagID  day  month  year\n",
       "0            2        52     13    1      4  2009\n",
       "1            2        52     15    1      4  2009\n",
       "2            2        52     18    1      4  2009\n",
       "3            2        52     21    1      4  2009\n",
       "4            2        52     41    1      4  2009\n",
       "...        ...       ...    ...  ...    ...   ...\n",
       "186474    2100     16437      4    1      7  2010\n",
       "186475    2100     16437    292    1      5  2010\n",
       "186476    2100     16437   2087    1      7  2010\n",
       "186477    2100     16437   2801    1      5  2010\n",
       "186478    2100     16437   3335    1      7  2010\n",
       "\n",
       "[186479 rows x 6 columns]"
      ]
     },
     "execution_count": 40,
     "metadata": {},
     "output_type": "execute_result"
    }
   ],
   "source": [
    "df4 = pd.read_csv(\"data/hetrec2011-lastfm-2k/user_taggedartists-timestamps.csv\")\n",
    "df4"
   ]
  },
  {
   "cell_type": "code",
   "execution_count": 41,
   "id": "b926d128",
   "metadata": {},
   "outputs": [
    {
     "data": {
      "text/html": [
       "<div>\n",
       "<style scoped>\n",
       "    .dataframe tbody tr th:only-of-type {\n",
       "        vertical-align: middle;\n",
       "    }\n",
       "\n",
       "    .dataframe tbody tr th {\n",
       "        vertical-align: top;\n",
       "    }\n",
       "\n",
       "    .dataframe thead th {\n",
       "        text-align: right;\n",
       "    }\n",
       "</style>\n",
       "<table border=\"1\" class=\"dataframe\">\n",
       "  <thead>\n",
       "    <tr style=\"text-align: right;\">\n",
       "      <th></th>\n",
       "      <th>userID</th>\n",
       "      <th>artistID</th>\n",
       "      <th>tagID</th>\n",
       "      <th>day</th>\n",
       "      <th>month</th>\n",
       "      <th>year</th>\n",
       "    </tr>\n",
       "  </thead>\n",
       "  <tbody>\n",
       "    <tr>\n",
       "      <th>0</th>\n",
       "      <td>2</td>\n",
       "      <td>52</td>\n",
       "      <td>13</td>\n",
       "      <td>1</td>\n",
       "      <td>4</td>\n",
       "      <td>2009</td>\n",
       "    </tr>\n",
       "    <tr>\n",
       "      <th>1</th>\n",
       "      <td>2</td>\n",
       "      <td>52</td>\n",
       "      <td>15</td>\n",
       "      <td>1</td>\n",
       "      <td>4</td>\n",
       "      <td>2009</td>\n",
       "    </tr>\n",
       "    <tr>\n",
       "      <th>2</th>\n",
       "      <td>2</td>\n",
       "      <td>52</td>\n",
       "      <td>18</td>\n",
       "      <td>1</td>\n",
       "      <td>4</td>\n",
       "      <td>2009</td>\n",
       "    </tr>\n",
       "    <tr>\n",
       "      <th>3</th>\n",
       "      <td>2</td>\n",
       "      <td>52</td>\n",
       "      <td>21</td>\n",
       "      <td>1</td>\n",
       "      <td>4</td>\n",
       "      <td>2009</td>\n",
       "    </tr>\n",
       "    <tr>\n",
       "      <th>4</th>\n",
       "      <td>2</td>\n",
       "      <td>52</td>\n",
       "      <td>41</td>\n",
       "      <td>1</td>\n",
       "      <td>4</td>\n",
       "      <td>2009</td>\n",
       "    </tr>\n",
       "  </tbody>\n",
       "</table>\n",
       "</div>"
      ],
      "text/plain": [
       "   userID  artistID  tagID  day  month  year\n",
       "0       2        52     13    1      4  2009\n",
       "1       2        52     15    1      4  2009\n",
       "2       2        52     18    1      4  2009\n",
       "3       2        52     21    1      4  2009\n",
       "4       2        52     41    1      4  2009"
      ]
     },
     "execution_count": 41,
     "metadata": {},
     "output_type": "execute_result"
    }
   ],
   "source": [
    "df5 = pd.read_csv(\"data/hetrec2011-lastfm-2k/user_taggedartists.csv\")\n",
    "df5.head()"
   ]
  },
  {
   "cell_type": "markdown",
   "id": "e1b083bc",
   "metadata": {},
   "source": [
    "Our last two dataframes seem exactly the same. Let's check this before we delete anything."
   ]
  },
  {
   "cell_type": "code",
   "execution_count": 42,
   "id": "35a8d448",
   "metadata": {},
   "outputs": [
    {
     "name": "stdout",
     "output_type": "stream",
     "text": [
      "True\n"
     ]
    }
   ],
   "source": [
    "def checkequality(A, B):\n",
    "\n",
    "    df11 = A.sort_index(axis=1)\n",
    "    df11 = df11.sort_values(df11.columns.tolist()).reset_index(drop=True)\n",
    "\n",
    "    df22 = B.sort_index(axis=1)\n",
    "    df22 = df22.sort_values(df22.columns.tolist()).reset_index(drop=True)\n",
    "    return (df11 == df22).values.all()\n",
    "\n",
    "a = checkequality(df4, df5)\n",
    "print (a)"
   ]
  },
  {
   "cell_type": "markdown",
   "id": "36d9edee",
   "metadata": {},
   "source": [
    "Two of our files are exactly the same. We can delete one of these accordingly."
   ]
  },
  {
   "cell_type": "code",
   "execution_count": 43,
   "id": "5515d87d",
   "metadata": {},
   "outputs": [],
   "source": [
    "del df5"
   ]
  },
  {
   "cell_type": "code",
   "execution_count": 44,
   "id": "a193c3f2",
   "metadata": {},
   "outputs": [],
   "source": [
    "# Since the ids start at 2, we get them to start at 0. We also need to have the max value 1 less than the no of unique values.\n",
    "df4[\"userID\"] = df4[\"userID\"].apply(lambda x: str(x-2))\n",
    "df4[\"artistID\"] = df4[\"artistID\"].apply(lambda x: str(x-1))\n",
    "\n",
    "df4['artistID'] = df4['artistID'].astype(int)\n",
    "df4['userID'] = df4['userID'].astype(int)"
   ]
  },
  {
   "cell_type": "code",
   "execution_count": 45,
   "id": "f03b074e",
   "metadata": {},
   "outputs": [],
   "source": [
    "xyz =  np.array(df4['artistID'])\n",
    "#zzz = np.array(played['userID'])\n",
    "vals = []\n",
    "for i in range(len(xyz)):\n",
    "    v = xyz[i]\n",
    "    if v not in vals:\n",
    "        vals.append(v)\n",
    "    else:\n",
    "        continue"
   ]
  },
  {
   "cell_type": "code",
   "execution_count": 46,
   "id": "3f0d91d9",
   "metadata": {},
   "outputs": [
    {
     "name": "stdout",
     "output_type": "stream",
     "text": [
      "18743\n"
     ]
    },
    {
     "data": {
      "text/plain": [
       "17631"
      ]
     },
     "execution_count": 46,
     "metadata": {},
     "output_type": "execute_result"
    }
   ],
   "source": [
    "unique_list = list(set(vals))\n",
    "unique_list.sort()\n",
    "print(unique_list[-1])\n",
    "\n",
    "usenew = []\n",
    "for i in range(0, 17632):\n",
    "    usenew.append(i)\n",
    "\n",
    "usenew[-1]"
   ]
  },
  {
   "cell_type": "code",
   "execution_count": 47,
   "id": "cac8dd2d",
   "metadata": {},
   "outputs": [],
   "source": [
    "keys = unique_list\n",
    "values = usenew\n",
    "diction = dict(zip(keys, values))\n",
    "#print(diction) # {'a': 1, 'b': 2, 'c': 3}"
   ]
  },
  {
   "cell_type": "code",
   "execution_count": 48,
   "id": "ddf00d3d",
   "metadata": {},
   "outputs": [],
   "source": [
    "s = df4['artistID']\n",
    "\n",
    "df4['artistID'] = s.map(diction)"
   ]
  },
  {
   "cell_type": "code",
   "execution_count": 49,
   "id": "9df8a830",
   "metadata": {},
   "outputs": [],
   "source": [
    "s = df4['userID']\n",
    "\n",
    "df4['userID'] = s.map(dictionary)\n",
    "#print(dictionary)"
   ]
  },
  {
   "cell_type": "code",
   "execution_count": 50,
   "id": "48e54c4b",
   "metadata": {},
   "outputs": [
    {
     "data": {
      "text/html": [
       "<div>\n",
       "<style scoped>\n",
       "    .dataframe tbody tr th:only-of-type {\n",
       "        vertical-align: middle;\n",
       "    }\n",
       "\n",
       "    .dataframe tbody tr th {\n",
       "        vertical-align: top;\n",
       "    }\n",
       "\n",
       "    .dataframe thead th {\n",
       "        text-align: right;\n",
       "    }\n",
       "</style>\n",
       "<table border=\"1\" class=\"dataframe\">\n",
       "  <thead>\n",
       "    <tr style=\"text-align: right;\">\n",
       "      <th></th>\n",
       "      <th>userID</th>\n",
       "      <th>artistID</th>\n",
       "      <th>tagID</th>\n",
       "      <th>day</th>\n",
       "      <th>month</th>\n",
       "      <th>year</th>\n",
       "    </tr>\n",
       "  </thead>\n",
       "  <tbody>\n",
       "    <tr>\n",
       "      <th>0</th>\n",
       "      <td>0</td>\n",
       "      <td>49</td>\n",
       "      <td>13</td>\n",
       "      <td>1</td>\n",
       "      <td>4</td>\n",
       "      <td>2009</td>\n",
       "    </tr>\n",
       "    <tr>\n",
       "      <th>1</th>\n",
       "      <td>0</td>\n",
       "      <td>49</td>\n",
       "      <td>15</td>\n",
       "      <td>1</td>\n",
       "      <td>4</td>\n",
       "      <td>2009</td>\n",
       "    </tr>\n",
       "    <tr>\n",
       "      <th>2</th>\n",
       "      <td>0</td>\n",
       "      <td>49</td>\n",
       "      <td>18</td>\n",
       "      <td>1</td>\n",
       "      <td>4</td>\n",
       "      <td>2009</td>\n",
       "    </tr>\n",
       "    <tr>\n",
       "      <th>3</th>\n",
       "      <td>0</td>\n",
       "      <td>49</td>\n",
       "      <td>21</td>\n",
       "      <td>1</td>\n",
       "      <td>4</td>\n",
       "      <td>2009</td>\n",
       "    </tr>\n",
       "    <tr>\n",
       "      <th>4</th>\n",
       "      <td>0</td>\n",
       "      <td>49</td>\n",
       "      <td>41</td>\n",
       "      <td>1</td>\n",
       "      <td>4</td>\n",
       "      <td>2009</td>\n",
       "    </tr>\n",
       "    <tr>\n",
       "      <th>...</th>\n",
       "      <td>...</td>\n",
       "      <td>...</td>\n",
       "      <td>...</td>\n",
       "      <td>...</td>\n",
       "      <td>...</td>\n",
       "      <td>...</td>\n",
       "    </tr>\n",
       "    <tr>\n",
       "      <th>186474</th>\n",
       "      <td>1891</td>\n",
       "      <td>11288</td>\n",
       "      <td>4</td>\n",
       "      <td>1</td>\n",
       "      <td>7</td>\n",
       "      <td>2010</td>\n",
       "    </tr>\n",
       "    <tr>\n",
       "      <th>186475</th>\n",
       "      <td>1891</td>\n",
       "      <td>11288</td>\n",
       "      <td>292</td>\n",
       "      <td>1</td>\n",
       "      <td>5</td>\n",
       "      <td>2010</td>\n",
       "    </tr>\n",
       "    <tr>\n",
       "      <th>186476</th>\n",
       "      <td>1891</td>\n",
       "      <td>11288</td>\n",
       "      <td>2087</td>\n",
       "      <td>1</td>\n",
       "      <td>7</td>\n",
       "      <td>2010</td>\n",
       "    </tr>\n",
       "    <tr>\n",
       "      <th>186477</th>\n",
       "      <td>1891</td>\n",
       "      <td>11288</td>\n",
       "      <td>2801</td>\n",
       "      <td>1</td>\n",
       "      <td>5</td>\n",
       "      <td>2010</td>\n",
       "    </tr>\n",
       "    <tr>\n",
       "      <th>186478</th>\n",
       "      <td>1891</td>\n",
       "      <td>11288</td>\n",
       "      <td>3335</td>\n",
       "      <td>1</td>\n",
       "      <td>7</td>\n",
       "      <td>2010</td>\n",
       "    </tr>\n",
       "  </tbody>\n",
       "</table>\n",
       "<p>186479 rows × 6 columns</p>\n",
       "</div>"
      ],
      "text/plain": [
       "        userID  artistID  tagID  day  month  year\n",
       "0            0        49     13    1      4  2009\n",
       "1            0        49     15    1      4  2009\n",
       "2            0        49     18    1      4  2009\n",
       "3            0        49     21    1      4  2009\n",
       "4            0        49     41    1      4  2009\n",
       "...        ...       ...    ...  ...    ...   ...\n",
       "186474    1891     11288      4    1      7  2010\n",
       "186475    1891     11288    292    1      5  2010\n",
       "186476    1891     11288   2087    1      7  2010\n",
       "186477    1891     11288   2801    1      5  2010\n",
       "186478    1891     11288   3335    1      7  2010\n",
       "\n",
       "[186479 rows x 6 columns]"
      ]
     },
     "execution_count": 50,
     "metadata": {},
     "output_type": "execute_result"
    }
   ],
   "source": [
    "df4"
   ]
  },
  {
   "cell_type": "code",
   "execution_count": 51,
   "id": "19826964",
   "metadata": {},
   "outputs": [],
   "source": [
    "df4.drop(columns=['day', 'month', 'year'], inplace=True)"
   ]
  },
  {
   "cell_type": "code",
   "execution_count": 52,
   "id": "6f6bf95d",
   "metadata": {},
   "outputs": [
    {
     "data": {
      "text/plain": [
       "12522"
      ]
     },
     "execution_count": 52,
     "metadata": {},
     "output_type": "execute_result"
    }
   ],
   "source": [
    "tags = pd.merge(df1, df4, how=\"inner\", left_on=\"tagID\", right_on=\"tagID\")\n",
    "tags.isnull().values.any()\n",
    "tags['artistID'].max()"
   ]
  },
  {
   "cell_type": "markdown",
   "id": "522539a4",
   "metadata": {},
   "source": [
    "# Methodology\n",
    "Now that all our data files are read in and in the appropriate format we will begin our end to end process. These are as follows:\n",
    "##### 1. Data cleaning and processing\n",
    "##### 2. Visualization\n",
    "##### 3. Fitting our Model\n",
    "##### 4. Evaluating our Model"
   ]
  },
  {
   "cell_type": "markdown",
   "id": "cb32b05e",
   "metadata": {},
   "source": [
    "# Cleaning and Processing\n",
    "\n",
    "### Initial analysis and cleaning"
   ]
  },
  {
   "cell_type": "code",
   "execution_count": 53,
   "id": "1bc754b3",
   "metadata": {},
   "outputs": [
    {
     "data": {
      "text/plain": [
       "MALICE MIZER                        1\n",
       "BEAT!BEAT!BEAT!                     1\n",
       "ãƒˆã‚¯ãƒžãƒ«ã‚·ãƒ¥ãƒ¼ã‚´            1\n",
       "Thao with The Get Down Stay Down    1\n",
       "ãƒªã‚¢ãƒ»ãƒ‡ã‚£ã‚¾ãƒ³               1\n",
       "                                   ..\n",
       "Innerpartysystem                    1\n",
       "Helia                               1\n",
       "Devil Sold His Soul                 1\n",
       "Nevea Tears                         1\n",
       "Grzegorz Tomczak                    1\n",
       "Name: name, Length: 17632, dtype: int64"
      ]
     },
     "execution_count": 53,
     "metadata": {},
     "output_type": "execute_result"
    }
   ],
   "source": [
    "df['name'].value_counts()"
   ]
  },
  {
   "cell_type": "code",
   "execution_count": 54,
   "id": "421c76c1",
   "metadata": {},
   "outputs": [
    {
     "data": {
      "text/plain": [
       "1        1\n",
       "8368     1\n",
       "8359     1\n",
       "8360     1\n",
       "8361     1\n",
       "        ..\n",
       "4059     1\n",
       "4060     1\n",
       "4061     1\n",
       "4062     1\n",
       "12648    1\n",
       "Name: tagID, Length: 11946, dtype: int64"
      ]
     },
     "execution_count": 54,
     "metadata": {},
     "output_type": "execute_result"
    }
   ],
   "source": [
    "df1['tagID'].value_counts()"
   ]
  },
  {
   "cell_type": "markdown",
   "id": "08028b1e",
   "metadata": {},
   "source": [
    "After initial observation, I feel the timestamp dataframe is of little use to me and hence disregard it. As per the readme file we have 1892 users and 17632 artists in our data."
   ]
  },
  {
   "cell_type": "code",
   "execution_count": 55,
   "id": "624c8263",
   "metadata": {},
   "outputs": [],
   "source": [
    "dfs = [df, df1, df2, df3, df4]\n",
    "na = []\n",
    "for i in range(len(dfs)):\n",
    "    if dfs[i].isnull().values.any() > 0:\n",
    "        na.append(dfs[i])"
   ]
  },
  {
   "cell_type": "code",
   "execution_count": 56,
   "id": "720e9fde",
   "metadata": {},
   "outputs": [
    {
     "data": {
      "text/plain": [
       "[                    name                                           url  \\\n",
       " 0           MALICE MIZER         http://www.last.fm/music/MALICE+MIZER   \n",
       " 1        Diary of Dreams      http://www.last.fm/music/Diary+of+Dreams   \n",
       " 2      Carpathian Forest    http://www.last.fm/music/Carpathian+Forest   \n",
       " 3           Moi dix Mois         http://www.last.fm/music/Moi+dix+Mois   \n",
       " 4            Bella Morte          http://www.last.fm/music/Bella+Morte   \n",
       " ...                  ...                                           ...   \n",
       " 17627    Diamanda GalÃ¡s  http://www.last.fm/music/Diamanda+Gal%C3%A1s   \n",
       " 17628             Aya RL               http://www.last.fm/music/Aya+RL   \n",
       " 17629        Coptic Rain          http://www.last.fm/music/Coptic+Rain   \n",
       " 17630       Oz Alchemist         http://www.last.fm/music/Oz+Alchemist   \n",
       " 17631   Grzegorz Tomczak     http://www.last.fm/music/Grzegorz+Tomczak   \n",
       " \n",
       "                                               pictureURL  artID  \n",
       " 0        http://userserve-ak.last.fm/serve/252/10808.jpg      0  \n",
       " 1      http://userserve-ak.last.fm/serve/252/3052066.jpg      1  \n",
       " 2      http://userserve-ak.last.fm/serve/252/40222717...      2  \n",
       " 3      http://userserve-ak.last.fm/serve/252/54697835...      3  \n",
       " 4      http://userserve-ak.last.fm/serve/252/14789013...      4  \n",
       " ...                                                  ...    ...  \n",
       " 17627  http://userserve-ak.last.fm/serve/252/16352971...  17627  \n",
       " 17628   http://userserve-ak.last.fm/serve/252/207445.jpg  17628  \n",
       " 17629   http://userserve-ak.last.fm/serve/252/344868.jpg  17629  \n",
       " 17630  http://userserve-ak.last.fm/serve/252/29297695...  17630  \n",
       " 17631  http://userserve-ak.last.fm/serve/252/59486303...  17631  \n",
       " \n",
       " [17632 rows x 4 columns]]"
      ]
     },
     "execution_count": 56,
     "metadata": {},
     "output_type": "execute_result"
    }
   ],
   "source": [
    "na"
   ]
  },
  {
   "cell_type": "markdown",
   "id": "f47006fd",
   "metadata": {},
   "source": [
    "The only dataframe with nulls is our artists dataframe. Let's investigate this further to see if there is any important missing values such as ID's etc."
   ]
  },
  {
   "cell_type": "code",
   "execution_count": 57,
   "id": "78ee7f82",
   "metadata": {},
   "outputs": [
    {
     "data": {
      "text/plain": [
       "name          object\n",
       "url           object\n",
       "pictureURL    object\n",
       "artID          int64\n",
       "dtype: object"
      ]
     },
     "execution_count": 57,
     "metadata": {},
     "output_type": "execute_result"
    }
   ],
   "source": [
    "df.dtypes"
   ]
  },
  {
   "cell_type": "code",
   "execution_count": 58,
   "id": "b8326c87",
   "metadata": {},
   "outputs": [
    {
     "name": "stdout",
     "output_type": "stream",
     "text": [
      "pictureURL 0.0252 % missing values\n",
      "['pictureURL']\n"
     ]
    }
   ],
   "source": [
    "features_with_na = [features for features in df.columns if df[features].isnull().sum() > 0]\n",
    "\n",
    "for feature in features_with_na: \n",
    "    print(feature, np.round(df[feature].isnull().mean(), 4), '% missing values')\n",
    "    print(features_with_na)"
   ]
  },
  {
   "cell_type": "markdown",
   "id": "2d1ccfc7",
   "metadata": {},
   "source": [
    "This is a positive result as there are very few null values in the dataframe and the small amount that exist are in a column of lesser important that we will not need to impute missing values for."
   ]
  },
  {
   "cell_type": "code",
   "execution_count": 59,
   "id": "6e4d5a4d",
   "metadata": {},
   "outputs": [],
   "source": [
    "played = pd.merge(df, df2, how=\"inner\", left_on=\"artID\", right_on=\"artistID\")\n",
    "played.rename(columns={\"weight\": \"played\"}, inplace=True)"
   ]
  },
  {
   "cell_type": "markdown",
   "id": "9b76b522",
   "metadata": {},
   "source": [
    "We will drop the pictureURL column as there is not much information to be gained and there is some nulls present."
   ]
  },
  {
   "cell_type": "code",
   "execution_count": 60,
   "id": "f03db6c5",
   "metadata": {},
   "outputs": [],
   "source": [
    "played.drop(columns=['pictureURL'], inplace=True)"
   ]
  },
  {
   "cell_type": "code",
   "execution_count": 61,
   "id": "4fb68d03",
   "metadata": {},
   "outputs": [
    {
     "name": "stdout",
     "output_type": "stream",
     "text": [
      "The mean number of times a user listens to a song is: 745.2439300256372\n"
     ]
    }
   ],
   "source": [
    "mean = played['played'].mean()\n",
    "print(\"The mean number of times a user listens to a song is: \" + str(mean))"
   ]
  },
  {
   "cell_type": "code",
   "execution_count": 62,
   "id": "37bf535c",
   "metadata": {},
   "outputs": [
    {
     "name": "stdout",
     "output_type": "stream",
     "text": [
      "The median number of times a user listens to a song is: 260.0\n"
     ]
    }
   ],
   "source": [
    "median = played['played'].median()\n",
    "print(\"The median number of times a user listens to a song is: \" + str(median))"
   ]
  },
  {
   "cell_type": "code",
   "execution_count": 63,
   "id": "b081fe57",
   "metadata": {},
   "outputs": [
    {
     "data": {
      "text/plain": [
       "<AxesSubplot:>"
      ]
     },
     "execution_count": 63,
     "metadata": {},
     "output_type": "execute_result"
    },
    {
     "data": {
      "image/png": "[encoded data removed]",
      "text/plain": [
       "<Figure size 1296x432 with 1 Axes>"
      ]
     },
     "metadata": {
      "needs_background": "light"
     },
     "output_type": "display_data"
    }
   ],
   "source": [
    "played['name'].value_counts()[:20].plot(kind='barh', color='green', figsize=(18,6))"
   ]
  },
  {
   "cell_type": "code",
   "execution_count": 64,
   "id": "874082b0",
   "metadata": {},
   "outputs": [
    {
     "data": {
      "text/plain": [
       "<AxesSubplot:xlabel='played'>"
      ]
     },
     "execution_count": 64,
     "metadata": {},
     "output_type": "execute_result"
    },
    {
     "data": {
      "image/png": "[encoded data removed]",
      "text/plain": [
       "<Figure size 1080x504 with 1 Axes>"
      ]
     },
     "metadata": {
      "needs_background": "light"
     },
     "output_type": "display_data"
    }
   ],
   "source": [
    "plt.figure(figsize=[15,7])\n",
    "sns.boxplot(x=played['played'], color=\".25\")"
   ]
  },
  {
   "cell_type": "markdown",
   "id": "cec3c8db",
   "metadata": {},
   "source": [
    "There appears to be quite a lot of outliers here in the played column. Some users have obviously listened to their songs far more times than the average. We double check our values for mean and median earlier and can confirm there are quite a few outliers here."
   ]
  },
  {
   "cell_type": "code",
   "execution_count": 65,
   "id": "fccbac3d",
   "metadata": {},
   "outputs": [
    {
     "data": {
      "text/html": [
       "<div>\n",
       "<style scoped>\n",
       "    .dataframe tbody tr th:only-of-type {\n",
       "        vertical-align: middle;\n",
       "    }\n",
       "\n",
       "    .dataframe tbody tr th {\n",
       "        vertical-align: top;\n",
       "    }\n",
       "\n",
       "    .dataframe thead th {\n",
       "        text-align: right;\n",
       "    }\n",
       "</style>\n",
       "<table border=\"1\" class=\"dataframe\">\n",
       "  <thead>\n",
       "    <tr style=\"text-align: right;\">\n",
       "      <th></th>\n",
       "      <th>artID</th>\n",
       "      <th>userID</th>\n",
       "      <th>artistID</th>\n",
       "      <th>played</th>\n",
       "    </tr>\n",
       "  </thead>\n",
       "  <tbody>\n",
       "    <tr>\n",
       "      <th>count</th>\n",
       "      <td>92834.000000</td>\n",
       "      <td>92834.000000</td>\n",
       "      <td>92834.000000</td>\n",
       "      <td>92834.00000</td>\n",
       "    </tr>\n",
       "    <tr>\n",
       "      <th>mean</th>\n",
       "      <td>3235.736724</td>\n",
       "      <td>944.222483</td>\n",
       "      <td>3235.736724</td>\n",
       "      <td>745.24393</td>\n",
       "    </tr>\n",
       "    <tr>\n",
       "      <th>std</th>\n",
       "      <td>4197.216910</td>\n",
       "      <td>546.751074</td>\n",
       "      <td>4197.216910</td>\n",
       "      <td>3751.32208</td>\n",
       "    </tr>\n",
       "    <tr>\n",
       "      <th>min</th>\n",
       "      <td>0.000000</td>\n",
       "      <td>0.000000</td>\n",
       "      <td>0.000000</td>\n",
       "      <td>1.00000</td>\n",
       "    </tr>\n",
       "    <tr>\n",
       "      <th>25%</th>\n",
       "      <td>430.000000</td>\n",
       "      <td>470.000000</td>\n",
       "      <td>430.000000</td>\n",
       "      <td>107.00000</td>\n",
       "    </tr>\n",
       "    <tr>\n",
       "      <th>50%</th>\n",
       "      <td>1237.000000</td>\n",
       "      <td>944.000000</td>\n",
       "      <td>1237.000000</td>\n",
       "      <td>260.00000</td>\n",
       "    </tr>\n",
       "    <tr>\n",
       "      <th>75%</th>\n",
       "      <td>4266.000000</td>\n",
       "      <td>1416.000000</td>\n",
       "      <td>4266.000000</td>\n",
       "      <td>614.00000</td>\n",
       "    </tr>\n",
       "    <tr>\n",
       "      <th>max</th>\n",
       "      <td>17631.000000</td>\n",
       "      <td>1891.000000</td>\n",
       "      <td>17631.000000</td>\n",
       "      <td>352698.00000</td>\n",
       "    </tr>\n",
       "  </tbody>\n",
       "</table>\n",
       "</div>"
      ],
      "text/plain": [
       "              artID        userID      artistID        played\n",
       "count  92834.000000  92834.000000  92834.000000   92834.00000\n",
       "mean    3235.736724    944.222483   3235.736724     745.24393\n",
       "std     4197.216910    546.751074   4197.216910    3751.32208\n",
       "min        0.000000      0.000000      0.000000       1.00000\n",
       "25%      430.000000    470.000000    430.000000     107.00000\n",
       "50%     1237.000000    944.000000   1237.000000     260.00000\n",
       "75%     4266.000000   1416.000000   4266.000000     614.00000\n",
       "max    17631.000000   1891.000000  17631.000000  352698.00000"
      ]
     },
     "execution_count": 65,
     "metadata": {},
     "output_type": "execute_result"
    }
   ],
   "source": [
    "played.describe()"
   ]
  },
  {
   "cell_type": "code",
   "execution_count": 66,
   "id": "c92a5c04",
   "metadata": {},
   "outputs": [],
   "source": [
    "grouped_multiple = played.groupby(['artistID', 'name']).agg({'played': ['mean', 'median', 'max', 'sum']})\n",
    "grouped_multiple.columns = ['mean', 'med', 'max', 'sum']\n",
    "grouped_multiple = grouped_multiple.reset_index()\n",
    "#grouped_multiple.sort('price_mean', ascending=False)\n",
    "grouped_multiple = pd.DataFrame(grouped_multiple)"
   ]
  },
  {
   "cell_type": "code",
   "execution_count": 67,
   "id": "2ea39c87",
   "metadata": {},
   "outputs": [],
   "source": [
    "artdf = grouped_multiple.sort_values(by=['sum'], ascending=False)"
   ]
  },
  {
   "cell_type": "code",
   "execution_count": 68,
   "id": "56e564ee",
   "metadata": {},
   "outputs": [
    {
     "data": {
      "text/html": [
       "<div>\n",
       "<style scoped>\n",
       "    .dataframe tbody tr th:only-of-type {\n",
       "        vertical-align: middle;\n",
       "    }\n",
       "\n",
       "    .dataframe tbody tr th {\n",
       "        vertical-align: top;\n",
       "    }\n",
       "\n",
       "    .dataframe thead th {\n",
       "        text-align: right;\n",
       "    }\n",
       "</style>\n",
       "<table border=\"1\" class=\"dataframe\">\n",
       "  <thead>\n",
       "    <tr style=\"text-align: right;\">\n",
       "      <th></th>\n",
       "      <th>artistID</th>\n",
       "      <th>name</th>\n",
       "      <th>mean</th>\n",
       "      <th>med</th>\n",
       "      <th>max</th>\n",
       "      <th>sum</th>\n",
       "    </tr>\n",
       "  </thead>\n",
       "  <tbody>\n",
       "    <tr>\n",
       "      <th>283</th>\n",
       "      <td>283</td>\n",
       "      <td>Britney Spears</td>\n",
       "      <td>4584.559387</td>\n",
       "      <td>1000.5</td>\n",
       "      <td>131733</td>\n",
       "      <td>2393140</td>\n",
       "    </tr>\n",
       "    <tr>\n",
       "      <th>66</th>\n",
       "      <td>66</td>\n",
       "      <td>Depeche Mode</td>\n",
       "      <td>4614.567376</td>\n",
       "      <td>567.0</td>\n",
       "      <td>352698</td>\n",
       "      <td>1301308</td>\n",
       "    </tr>\n",
       "    <tr>\n",
       "      <th>83</th>\n",
       "      <td>83</td>\n",
       "      <td>Lady Gaga</td>\n",
       "      <td>2113.563011</td>\n",
       "      <td>590.0</td>\n",
       "      <td>114672</td>\n",
       "      <td>1291387</td>\n",
       "    </tr>\n",
       "    <tr>\n",
       "      <th>286</th>\n",
       "      <td>286</td>\n",
       "      <td>Christina Aguilera</td>\n",
       "      <td>2600.503686</td>\n",
       "      <td>739.0</td>\n",
       "      <td>176133</td>\n",
       "      <td>1058405</td>\n",
       "    </tr>\n",
       "    <tr>\n",
       "      <th>492</th>\n",
       "      <td>492</td>\n",
       "      <td>Paramore</td>\n",
       "      <td>2414.659148</td>\n",
       "      <td>417.0</td>\n",
       "      <td>227829</td>\n",
       "      <td>963449</td>\n",
       "    </tr>\n",
       "    <tr>\n",
       "      <th>...</th>\n",
       "      <td>...</td>\n",
       "      <td>...</td>\n",
       "      <td>...</td>\n",
       "      <td>...</td>\n",
       "      <td>...</td>\n",
       "      <td>...</td>\n",
       "    </tr>\n",
       "    <tr>\n",
       "      <th>16522</th>\n",
       "      <td>16522</td>\n",
       "      <td>K-Precise</td>\n",
       "      <td>1.000000</td>\n",
       "      <td>1.0</td>\n",
       "      <td>1</td>\n",
       "      <td>1</td>\n",
       "    </tr>\n",
       "    <tr>\n",
       "      <th>13713</th>\n",
       "      <td>13713</td>\n",
       "      <td>ZÃœNDER</td>\n",
       "      <td>1.000000</td>\n",
       "      <td>1.0</td>\n",
       "      <td>1</td>\n",
       "      <td>1</td>\n",
       "    </tr>\n",
       "    <tr>\n",
       "      <th>13712</th>\n",
       "      <td>13712</td>\n",
       "      <td>Evil Masquerade</td>\n",
       "      <td>1.000000</td>\n",
       "      <td>1.0</td>\n",
       "      <td>1</td>\n",
       "      <td>1</td>\n",
       "    </tr>\n",
       "    <tr>\n",
       "      <th>16239</th>\n",
       "      <td>16239</td>\n",
       "      <td>Gosling</td>\n",
       "      <td>1.000000</td>\n",
       "      <td>1.0</td>\n",
       "      <td>1</td>\n",
       "      <td>1</td>\n",
       "    </tr>\n",
       "    <tr>\n",
       "      <th>16241</th>\n",
       "      <td>16241</td>\n",
       "      <td>Kalson</td>\n",
       "      <td>1.000000</td>\n",
       "      <td>1.0</td>\n",
       "      <td>1</td>\n",
       "      <td>1</td>\n",
       "    </tr>\n",
       "  </tbody>\n",
       "</table>\n",
       "<p>17632 rows × 6 columns</p>\n",
       "</div>"
      ],
      "text/plain": [
       "       artistID                name         mean     med     max      sum\n",
       "283         283      Britney Spears  4584.559387  1000.5  131733  2393140\n",
       "66           66        Depeche Mode  4614.567376   567.0  352698  1301308\n",
       "83           83           Lady Gaga  2113.563011   590.0  114672  1291387\n",
       "286         286  Christina Aguilera  2600.503686   739.0  176133  1058405\n",
       "492         492            Paramore  2414.659148   417.0  227829   963449\n",
       "...         ...                 ...          ...     ...     ...      ...\n",
       "16522     16522           K-Precise     1.000000     1.0       1        1\n",
       "13713     13713             ZÃœNDER     1.000000     1.0       1        1\n",
       "13712     13712     Evil Masquerade     1.000000     1.0       1        1\n",
       "16239     16239             Gosling     1.000000     1.0       1        1\n",
       "16241     16241              Kalson     1.000000     1.0       1        1\n",
       "\n",
       "[17632 rows x 6 columns]"
      ]
     },
     "execution_count": 68,
     "metadata": {},
     "output_type": "execute_result"
    }
   ],
   "source": [
    "artdf"
   ]
  },
  {
   "cell_type": "code",
   "execution_count": 69,
   "id": "704dcb5a",
   "metadata": {},
   "outputs": [],
   "source": [
    "pt2 = artdf.head(20)"
   ]
  },
  {
   "cell_type": "code",
   "execution_count": 70,
   "id": "7c4ba44f",
   "metadata": {},
   "outputs": [
    {
     "data": {
      "text/plain": [
       "<AxesSubplot:title={'center':'Biggest artists by no of listens'}, xlabel='Artist', ylabel='Listens (millions)'>"
      ]
     },
     "execution_count": 70,
     "metadata": {},
     "output_type": "execute_result"
    },
    {
     "data": {
      "image/png": "[encoded data removed]",
      "text/plain": [
       "<Figure size 1296x432 with 1 Axes>"
      ]
     },
     "metadata": {
      "needs_background": "light"
     },
     "output_type": "display_data"
    }
   ],
   "source": [
    "pt2.plot.bar(x = 'name', y = 'sum', rot = 40, figsize=(18, 6), color='green', xlabel='Artist', ylabel='Listens (millions)', title='Biggest artists by no of listens')"
   ]
  },
  {
   "cell_type": "code",
   "execution_count": 71,
   "id": "453924a8",
   "metadata": {},
   "outputs": [],
   "source": [
    "grouped_multiple = played.groupby(['userID']).agg({'played': ['mean', 'median', 'max', 'sum']})\n",
    "grouped_multiple.columns = ['mean', 'med', 'max', 'sum']\n",
    "grouped_multiple = grouped_multiple.reset_index()\n",
    "#grouped_multiple.sort('price_mean', ascending=False)\n",
    "grouped_multiple = pd.DataFrame(grouped_multiple)"
   ]
  },
  {
   "cell_type": "code",
   "execution_count": 72,
   "id": "62cfbd70",
   "metadata": {},
   "outputs": [],
   "source": [
    "userdf = grouped_multiple.sort_values(by=['sum'], ascending=False)"
   ]
  },
  {
   "cell_type": "code",
   "execution_count": 73,
   "id": "742d4421",
   "metadata": {},
   "outputs": [],
   "source": [
    "pt3 = userdf.head(20)"
   ]
  },
  {
   "cell_type": "code",
   "execution_count": 74,
   "id": "d7c443ab",
   "metadata": {},
   "outputs": [
    {
     "data": {
      "text/plain": [
       "<AxesSubplot:title={'center':'Users by highest number of listens'}, xlabel='User', ylabel='Listens'>"
      ]
     },
     "execution_count": 74,
     "metadata": {},
     "output_type": "execute_result"
    },
    {
     "data": {
      "image/png": "[encoded data removed]",
      "text/plain": [
       "<Figure size 1296x432 with 1 Axes>"
      ]
     },
     "metadata": {
      "needs_background": "light"
     },
     "output_type": "display_data"
    }
   ],
   "source": [
    "pt3.plot.bar(x = 'userID', y = 'sum', rot = 40, figsize=(18, 6), color='turquoise', xlabel='User', ylabel='Listens', title='Users by highest number of listens')"
   ]
  },
  {
   "cell_type": "code",
   "execution_count": 75,
   "id": "afd9381f",
   "metadata": {},
   "outputs": [
    {
     "data": {
      "text/plain": [
       "283      4584.559387\n",
       "66       4614.567376\n",
       "83       2113.563011\n",
       "286      2600.503686\n",
       "492      2414.659148\n",
       "            ...     \n",
       "16522       1.000000\n",
       "13713       1.000000\n",
       "13712       1.000000\n",
       "16239       1.000000\n",
       "16241       1.000000\n",
       "Name: mean, Length: 17632, dtype: float64"
      ]
     },
     "execution_count": 75,
     "metadata": {},
     "output_type": "execute_result"
    }
   ],
   "source": [
    "artdf['mean']"
   ]
  },
  {
   "cell_type": "code",
   "execution_count": 76,
   "id": "c7374612",
   "metadata": {},
   "outputs": [
    {
     "data": {
      "text/plain": [
       "(92834, 6)"
      ]
     },
     "execution_count": 76,
     "metadata": {},
     "output_type": "execute_result"
    }
   ],
   "source": [
    "played.shape"
   ]
  },
  {
   "cell_type": "code",
   "execution_count": 77,
   "id": "a8ba58fe",
   "metadata": {},
   "outputs": [
    {
     "name": "stderr",
     "output_type": "stream",
     "text": [
      "C:\\Users\\user\\anaconda3\\lib\\site-packages\\seaborn\\distributions.py:2619: FutureWarning: `distplot` is a deprecated function and will be removed in a future version. Please adapt your code to use either `displot` (a figure-level function with similar flexibility) or `histplot` (an axes-level function for histograms).\n",
      "  warnings.warn(msg, FutureWarning)\n"
     ]
    },
    {
     "data": {
      "text/plain": [
       "Text(0, 0.5, 'Density')"
      ]
     },
     "execution_count": 77,
     "metadata": {},
     "output_type": "execute_result"
    },
    {
     "data": {
      "image/png": "[encoded data removed]",
      "text/plain": [
       "<Figure size 1080x504 with 1 Axes>"
      ]
     },
     "metadata": {
      "needs_background": "light"
     },
     "output_type": "display_data"
    }
   ],
   "source": [
    "plt.figure(figsize=[15,7])\n",
    "sns.distplot(played['played'])\n",
    "plt.xlabel('Played', fontsize=18)\n",
    "plt.ylabel('Density', fontsize=16)"
   ]
  },
  {
   "cell_type": "markdown",
   "id": "5bf4cc2e",
   "metadata": {},
   "source": [
    "The majority of values seem around the 1k or less mark. There are a lot of outlier values however going as far as 350,000 for the most extreme values. This confirms our earlier boxplot looking at these values in a clear manner."
   ]
  },
  {
   "cell_type": "code",
   "execution_count": 78,
   "id": "a4ae87b2",
   "metadata": {},
   "outputs": [],
   "source": [
    "xyz = pd.DataFrame(played['name'].value_counts())"
   ]
  },
  {
   "cell_type": "code",
   "execution_count": 79,
   "id": "ae163ac6",
   "metadata": {},
   "outputs": [],
   "source": [
    "xyz = xyz.reset_index()"
   ]
  },
  {
   "cell_type": "code",
   "execution_count": 80,
   "id": "f26b7b5f",
   "metadata": {},
   "outputs": [],
   "source": [
    "xyz.rename(columns={'index': 'name', 'name': 'unique'}, inplace=True)"
   ]
  },
  {
   "cell_type": "code",
   "execution_count": 81,
   "id": "dbf8e3d2",
   "metadata": {},
   "outputs": [
    {
     "data": {
      "text/html": [
       "<div>\n",
       "<style scoped>\n",
       "    .dataframe tbody tr th:only-of-type {\n",
       "        vertical-align: middle;\n",
       "    }\n",
       "\n",
       "    .dataframe tbody tr th {\n",
       "        vertical-align: top;\n",
       "    }\n",
       "\n",
       "    .dataframe thead th {\n",
       "        text-align: right;\n",
       "    }\n",
       "</style>\n",
       "<table border=\"1\" class=\"dataframe\">\n",
       "  <thead>\n",
       "    <tr style=\"text-align: right;\">\n",
       "      <th></th>\n",
       "      <th>name</th>\n",
       "      <th>unique</th>\n",
       "    </tr>\n",
       "  </thead>\n",
       "  <tbody>\n",
       "    <tr>\n",
       "      <th>0</th>\n",
       "      <td>Lady Gaga</td>\n",
       "      <td>611</td>\n",
       "    </tr>\n",
       "    <tr>\n",
       "      <th>1</th>\n",
       "      <td>Britney Spears</td>\n",
       "      <td>522</td>\n",
       "    </tr>\n",
       "    <tr>\n",
       "      <th>2</th>\n",
       "      <td>Rihanna</td>\n",
       "      <td>484</td>\n",
       "    </tr>\n",
       "    <tr>\n",
       "      <th>3</th>\n",
       "      <td>The Beatles</td>\n",
       "      <td>480</td>\n",
       "    </tr>\n",
       "    <tr>\n",
       "      <th>4</th>\n",
       "      <td>Katy Perry</td>\n",
       "      <td>473</td>\n",
       "    </tr>\n",
       "    <tr>\n",
       "      <th>...</th>\n",
       "      <td>...</td>\n",
       "      <td>...</td>\n",
       "    </tr>\n",
       "    <tr>\n",
       "      <th>17627</th>\n",
       "      <td>Karmina</td>\n",
       "      <td>1</td>\n",
       "    </tr>\n",
       "    <tr>\n",
       "      <th>17628</th>\n",
       "      <td>Alexandre Desplat &amp; Aaron Zigman</td>\n",
       "      <td>1</td>\n",
       "    </tr>\n",
       "    <tr>\n",
       "      <th>17629</th>\n",
       "      <td>Burning Brides</td>\n",
       "      <td>1</td>\n",
       "    </tr>\n",
       "    <tr>\n",
       "      <th>17630</th>\n",
       "      <td>ozzy</td>\n",
       "      <td>1</td>\n",
       "    </tr>\n",
       "    <tr>\n",
       "      <th>17631</th>\n",
       "      <td>Grzegorz Tomczak</td>\n",
       "      <td>1</td>\n",
       "    </tr>\n",
       "  </tbody>\n",
       "</table>\n",
       "<p>17632 rows × 2 columns</p>\n",
       "</div>"
      ],
      "text/plain": [
       "                                   name  unique\n",
       "0                             Lady Gaga     611\n",
       "1                        Britney Spears     522\n",
       "2                               Rihanna     484\n",
       "3                           The Beatles     480\n",
       "4                            Katy Perry     473\n",
       "...                                 ...     ...\n",
       "17627                           Karmina       1\n",
       "17628  Alexandre Desplat & Aaron Zigman       1\n",
       "17629                    Burning Brides       1\n",
       "17630                              ozzy       1\n",
       "17631                  Grzegorz Tomczak       1\n",
       "\n",
       "[17632 rows x 2 columns]"
      ]
     },
     "execution_count": 81,
     "metadata": {},
     "output_type": "execute_result"
    }
   ],
   "source": [
    "xyz"
   ]
  },
  {
   "cell_type": "code",
   "execution_count": 82,
   "id": "5aa07a20",
   "metadata": {},
   "outputs": [],
   "source": [
    "merged_df = artdf.merge(xyz, how = 'inner', on = ['name', 'name'])"
   ]
  },
  {
   "cell_type": "code",
   "execution_count": 83,
   "id": "ffe8102c",
   "metadata": {},
   "outputs": [
    {
     "data": {
      "text/html": [
       "<div>\n",
       "<style scoped>\n",
       "    .dataframe tbody tr th:only-of-type {\n",
       "        vertical-align: middle;\n",
       "    }\n",
       "\n",
       "    .dataframe tbody tr th {\n",
       "        vertical-align: top;\n",
       "    }\n",
       "\n",
       "    .dataframe thead th {\n",
       "        text-align: right;\n",
       "    }\n",
       "</style>\n",
       "<table border=\"1\" class=\"dataframe\">\n",
       "  <thead>\n",
       "    <tr style=\"text-align: right;\">\n",
       "      <th></th>\n",
       "      <th>artistID</th>\n",
       "      <th>name</th>\n",
       "      <th>mean</th>\n",
       "      <th>med</th>\n",
       "      <th>max</th>\n",
       "      <th>sum</th>\n",
       "      <th>unique</th>\n",
       "    </tr>\n",
       "  </thead>\n",
       "  <tbody>\n",
       "    <tr>\n",
       "      <th>0</th>\n",
       "      <td>283</td>\n",
       "      <td>Britney Spears</td>\n",
       "      <td>4584.559387</td>\n",
       "      <td>1000.5</td>\n",
       "      <td>131733</td>\n",
       "      <td>2393140</td>\n",
       "      <td>522</td>\n",
       "    </tr>\n",
       "    <tr>\n",
       "      <th>1</th>\n",
       "      <td>66</td>\n",
       "      <td>Depeche Mode</td>\n",
       "      <td>4614.567376</td>\n",
       "      <td>567.0</td>\n",
       "      <td>352698</td>\n",
       "      <td>1301308</td>\n",
       "      <td>282</td>\n",
       "    </tr>\n",
       "    <tr>\n",
       "      <th>2</th>\n",
       "      <td>83</td>\n",
       "      <td>Lady Gaga</td>\n",
       "      <td>2113.563011</td>\n",
       "      <td>590.0</td>\n",
       "      <td>114672</td>\n",
       "      <td>1291387</td>\n",
       "      <td>611</td>\n",
       "    </tr>\n",
       "    <tr>\n",
       "      <th>3</th>\n",
       "      <td>286</td>\n",
       "      <td>Christina Aguilera</td>\n",
       "      <td>2600.503686</td>\n",
       "      <td>739.0</td>\n",
       "      <td>176133</td>\n",
       "      <td>1058405</td>\n",
       "      <td>407</td>\n",
       "    </tr>\n",
       "    <tr>\n",
       "      <th>4</th>\n",
       "      <td>492</td>\n",
       "      <td>Paramore</td>\n",
       "      <td>2414.659148</td>\n",
       "      <td>417.0</td>\n",
       "      <td>227829</td>\n",
       "      <td>963449</td>\n",
       "      <td>399</td>\n",
       "    </tr>\n",
       "    <tr>\n",
       "      <th>...</th>\n",
       "      <td>...</td>\n",
       "      <td>...</td>\n",
       "      <td>...</td>\n",
       "      <td>...</td>\n",
       "      <td>...</td>\n",
       "      <td>...</td>\n",
       "      <td>...</td>\n",
       "    </tr>\n",
       "    <tr>\n",
       "      <th>17627</th>\n",
       "      <td>16522</td>\n",
       "      <td>K-Precise</td>\n",
       "      <td>1.000000</td>\n",
       "      <td>1.0</td>\n",
       "      <td>1</td>\n",
       "      <td>1</td>\n",
       "      <td>1</td>\n",
       "    </tr>\n",
       "    <tr>\n",
       "      <th>17628</th>\n",
       "      <td>13713</td>\n",
       "      <td>ZÃœNDER</td>\n",
       "      <td>1.000000</td>\n",
       "      <td>1.0</td>\n",
       "      <td>1</td>\n",
       "      <td>1</td>\n",
       "      <td>1</td>\n",
       "    </tr>\n",
       "    <tr>\n",
       "      <th>17629</th>\n",
       "      <td>13712</td>\n",
       "      <td>Evil Masquerade</td>\n",
       "      <td>1.000000</td>\n",
       "      <td>1.0</td>\n",
       "      <td>1</td>\n",
       "      <td>1</td>\n",
       "      <td>1</td>\n",
       "    </tr>\n",
       "    <tr>\n",
       "      <th>17630</th>\n",
       "      <td>16239</td>\n",
       "      <td>Gosling</td>\n",
       "      <td>1.000000</td>\n",
       "      <td>1.0</td>\n",
       "      <td>1</td>\n",
       "      <td>1</td>\n",
       "      <td>1</td>\n",
       "    </tr>\n",
       "    <tr>\n",
       "      <th>17631</th>\n",
       "      <td>16241</td>\n",
       "      <td>Kalson</td>\n",
       "      <td>1.000000</td>\n",
       "      <td>1.0</td>\n",
       "      <td>1</td>\n",
       "      <td>1</td>\n",
       "      <td>1</td>\n",
       "    </tr>\n",
       "  </tbody>\n",
       "</table>\n",
       "<p>17632 rows × 7 columns</p>\n",
       "</div>"
      ],
      "text/plain": [
       "       artistID                name         mean     med     max      sum  \\\n",
       "0           283      Britney Spears  4584.559387  1000.5  131733  2393140   \n",
       "1            66        Depeche Mode  4614.567376   567.0  352698  1301308   \n",
       "2            83           Lady Gaga  2113.563011   590.0  114672  1291387   \n",
       "3           286  Christina Aguilera  2600.503686   739.0  176133  1058405   \n",
       "4           492            Paramore  2414.659148   417.0  227829   963449   \n",
       "...         ...                 ...          ...     ...     ...      ...   \n",
       "17627     16522           K-Precise     1.000000     1.0       1        1   \n",
       "17628     13713             ZÃœNDER     1.000000     1.0       1        1   \n",
       "17629     13712     Evil Masquerade     1.000000     1.0       1        1   \n",
       "17630     16239             Gosling     1.000000     1.0       1        1   \n",
       "17631     16241              Kalson     1.000000     1.0       1        1   \n",
       "\n",
       "       unique  \n",
       "0         522  \n",
       "1         282  \n",
       "2         611  \n",
       "3         407  \n",
       "4         399  \n",
       "...       ...  \n",
       "17627       1  \n",
       "17628       1  \n",
       "17629       1  \n",
       "17630       1  \n",
       "17631       1  \n",
       "\n",
       "[17632 rows x 7 columns]"
      ]
     },
     "execution_count": 83,
     "metadata": {},
     "output_type": "execute_result"
    }
   ],
   "source": [
    "merged_df"
   ]
  },
  {
   "cell_type": "code",
   "execution_count": 84,
   "id": "bd17a23e",
   "metadata": {},
   "outputs": [],
   "source": [
    "percent = []\n",
    "val = merged_df['unique']\n",
    "total = played['userID'].nunique()\n",
    "percent = []\n",
    "for i in range(len(val)):\n",
    "    y = val[i] / total\n",
    "    percent.append(y)\n",
    "    #print(y)"
   ]
  },
  {
   "cell_type": "code",
   "execution_count": 85,
   "id": "55ce8e81",
   "metadata": {},
   "outputs": [],
   "source": [
    "percent = np.array(percent)\n",
    "artdf['Percentage'] = percent.tolist()"
   ]
  },
  {
   "cell_type": "code",
   "execution_count": 86,
   "id": "8f4ec8cf",
   "metadata": {},
   "outputs": [
    {
     "data": {
      "text/html": [
       "<div>\n",
       "<style scoped>\n",
       "    .dataframe tbody tr th:only-of-type {\n",
       "        vertical-align: middle;\n",
       "    }\n",
       "\n",
       "    .dataframe tbody tr th {\n",
       "        vertical-align: top;\n",
       "    }\n",
       "\n",
       "    .dataframe thead th {\n",
       "        text-align: right;\n",
       "    }\n",
       "</style>\n",
       "<table border=\"1\" class=\"dataframe\">\n",
       "  <thead>\n",
       "    <tr style=\"text-align: right;\">\n",
       "      <th></th>\n",
       "      <th>artistID</th>\n",
       "      <th>name</th>\n",
       "      <th>mean</th>\n",
       "      <th>med</th>\n",
       "      <th>max</th>\n",
       "      <th>sum</th>\n",
       "      <th>Percentage</th>\n",
       "    </tr>\n",
       "  </thead>\n",
       "  <tbody>\n",
       "    <tr>\n",
       "      <th>283</th>\n",
       "      <td>283</td>\n",
       "      <td>Britney Spears</td>\n",
       "      <td>4584.559387</td>\n",
       "      <td>1000.5</td>\n",
       "      <td>131733</td>\n",
       "      <td>2393140</td>\n",
       "      <td>0.275899</td>\n",
       "    </tr>\n",
       "    <tr>\n",
       "      <th>66</th>\n",
       "      <td>66</td>\n",
       "      <td>Depeche Mode</td>\n",
       "      <td>4614.567376</td>\n",
       "      <td>567.0</td>\n",
       "      <td>352698</td>\n",
       "      <td>1301308</td>\n",
       "      <td>0.149049</td>\n",
       "    </tr>\n",
       "    <tr>\n",
       "      <th>83</th>\n",
       "      <td>83</td>\n",
       "      <td>Lady Gaga</td>\n",
       "      <td>2113.563011</td>\n",
       "      <td>590.0</td>\n",
       "      <td>114672</td>\n",
       "      <td>1291387</td>\n",
       "      <td>0.322939</td>\n",
       "    </tr>\n",
       "    <tr>\n",
       "      <th>286</th>\n",
       "      <td>286</td>\n",
       "      <td>Christina Aguilera</td>\n",
       "      <td>2600.503686</td>\n",
       "      <td>739.0</td>\n",
       "      <td>176133</td>\n",
       "      <td>1058405</td>\n",
       "      <td>0.215116</td>\n",
       "    </tr>\n",
       "    <tr>\n",
       "      <th>492</th>\n",
       "      <td>492</td>\n",
       "      <td>Paramore</td>\n",
       "      <td>2414.659148</td>\n",
       "      <td>417.0</td>\n",
       "      <td>227829</td>\n",
       "      <td>963449</td>\n",
       "      <td>0.210888</td>\n",
       "    </tr>\n",
       "    <tr>\n",
       "      <th>...</th>\n",
       "      <td>...</td>\n",
       "      <td>...</td>\n",
       "      <td>...</td>\n",
       "      <td>...</td>\n",
       "      <td>...</td>\n",
       "      <td>...</td>\n",
       "      <td>...</td>\n",
       "    </tr>\n",
       "    <tr>\n",
       "      <th>16522</th>\n",
       "      <td>16522</td>\n",
       "      <td>K-Precise</td>\n",
       "      <td>1.000000</td>\n",
       "      <td>1.0</td>\n",
       "      <td>1</td>\n",
       "      <td>1</td>\n",
       "      <td>0.000529</td>\n",
       "    </tr>\n",
       "    <tr>\n",
       "      <th>13713</th>\n",
       "      <td>13713</td>\n",
       "      <td>ZÃœNDER</td>\n",
       "      <td>1.000000</td>\n",
       "      <td>1.0</td>\n",
       "      <td>1</td>\n",
       "      <td>1</td>\n",
       "      <td>0.000529</td>\n",
       "    </tr>\n",
       "    <tr>\n",
       "      <th>13712</th>\n",
       "      <td>13712</td>\n",
       "      <td>Evil Masquerade</td>\n",
       "      <td>1.000000</td>\n",
       "      <td>1.0</td>\n",
       "      <td>1</td>\n",
       "      <td>1</td>\n",
       "      <td>0.000529</td>\n",
       "    </tr>\n",
       "    <tr>\n",
       "      <th>16239</th>\n",
       "      <td>16239</td>\n",
       "      <td>Gosling</td>\n",
       "      <td>1.000000</td>\n",
       "      <td>1.0</td>\n",
       "      <td>1</td>\n",
       "      <td>1</td>\n",
       "      <td>0.000529</td>\n",
       "    </tr>\n",
       "    <tr>\n",
       "      <th>16241</th>\n",
       "      <td>16241</td>\n",
       "      <td>Kalson</td>\n",
       "      <td>1.000000</td>\n",
       "      <td>1.0</td>\n",
       "      <td>1</td>\n",
       "      <td>1</td>\n",
       "      <td>0.000529</td>\n",
       "    </tr>\n",
       "  </tbody>\n",
       "</table>\n",
       "<p>17632 rows × 7 columns</p>\n",
       "</div>"
      ],
      "text/plain": [
       "       artistID                name         mean     med     max      sum  \\\n",
       "283         283      Britney Spears  4584.559387  1000.5  131733  2393140   \n",
       "66           66        Depeche Mode  4614.567376   567.0  352698  1301308   \n",
       "83           83           Lady Gaga  2113.563011   590.0  114672  1291387   \n",
       "286         286  Christina Aguilera  2600.503686   739.0  176133  1058405   \n",
       "492         492            Paramore  2414.659148   417.0  227829   963449   \n",
       "...         ...                 ...          ...     ...     ...      ...   \n",
       "16522     16522           K-Precise     1.000000     1.0       1        1   \n",
       "13713     13713             ZÃœNDER     1.000000     1.0       1        1   \n",
       "13712     13712     Evil Masquerade     1.000000     1.0       1        1   \n",
       "16239     16239             Gosling     1.000000     1.0       1        1   \n",
       "16241     16241              Kalson     1.000000     1.0       1        1   \n",
       "\n",
       "       Percentage  \n",
       "283      0.275899  \n",
       "66       0.149049  \n",
       "83       0.322939  \n",
       "286      0.215116  \n",
       "492      0.210888  \n",
       "...           ...  \n",
       "16522    0.000529  \n",
       "13713    0.000529  \n",
       "13712    0.000529  \n",
       "16239    0.000529  \n",
       "16241    0.000529  \n",
       "\n",
       "[17632 rows x 7 columns]"
      ]
     },
     "execution_count": 86,
     "metadata": {},
     "output_type": "execute_result"
    }
   ],
   "source": [
    "artdf"
   ]
  },
  {
   "cell_type": "code",
   "execution_count": 87,
   "id": "51e6b784",
   "metadata": {},
   "outputs": [],
   "source": [
    "artdf['unique'] = merged_df['unique'].values"
   ]
  },
  {
   "cell_type": "code",
   "execution_count": 88,
   "id": "24cce513",
   "metadata": {},
   "outputs": [
    {
     "data": {
      "text/html": [
       "<div>\n",
       "<style scoped>\n",
       "    .dataframe tbody tr th:only-of-type {\n",
       "        vertical-align: middle;\n",
       "    }\n",
       "\n",
       "    .dataframe tbody tr th {\n",
       "        vertical-align: top;\n",
       "    }\n",
       "\n",
       "    .dataframe thead th {\n",
       "        text-align: right;\n",
       "    }\n",
       "</style>\n",
       "<table border=\"1\" class=\"dataframe\">\n",
       "  <thead>\n",
       "    <tr style=\"text-align: right;\">\n",
       "      <th></th>\n",
       "      <th>artistID</th>\n",
       "      <th>name</th>\n",
       "      <th>mean</th>\n",
       "      <th>med</th>\n",
       "      <th>max</th>\n",
       "      <th>sum</th>\n",
       "      <th>Percentage</th>\n",
       "      <th>unique</th>\n",
       "    </tr>\n",
       "  </thead>\n",
       "  <tbody>\n",
       "    <tr>\n",
       "      <th>283</th>\n",
       "      <td>283</td>\n",
       "      <td>Britney Spears</td>\n",
       "      <td>4584.559387</td>\n",
       "      <td>1000.5</td>\n",
       "      <td>131733</td>\n",
       "      <td>2393140</td>\n",
       "      <td>0.275899</td>\n",
       "      <td>522</td>\n",
       "    </tr>\n",
       "    <tr>\n",
       "      <th>66</th>\n",
       "      <td>66</td>\n",
       "      <td>Depeche Mode</td>\n",
       "      <td>4614.567376</td>\n",
       "      <td>567.0</td>\n",
       "      <td>352698</td>\n",
       "      <td>1301308</td>\n",
       "      <td>0.149049</td>\n",
       "      <td>282</td>\n",
       "    </tr>\n",
       "    <tr>\n",
       "      <th>83</th>\n",
       "      <td>83</td>\n",
       "      <td>Lady Gaga</td>\n",
       "      <td>2113.563011</td>\n",
       "      <td>590.0</td>\n",
       "      <td>114672</td>\n",
       "      <td>1291387</td>\n",
       "      <td>0.322939</td>\n",
       "      <td>611</td>\n",
       "    </tr>\n",
       "    <tr>\n",
       "      <th>286</th>\n",
       "      <td>286</td>\n",
       "      <td>Christina Aguilera</td>\n",
       "      <td>2600.503686</td>\n",
       "      <td>739.0</td>\n",
       "      <td>176133</td>\n",
       "      <td>1058405</td>\n",
       "      <td>0.215116</td>\n",
       "      <td>407</td>\n",
       "    </tr>\n",
       "    <tr>\n",
       "      <th>492</th>\n",
       "      <td>492</td>\n",
       "      <td>Paramore</td>\n",
       "      <td>2414.659148</td>\n",
       "      <td>417.0</td>\n",
       "      <td>227829</td>\n",
       "      <td>963449</td>\n",
       "      <td>0.210888</td>\n",
       "      <td>399</td>\n",
       "    </tr>\n",
       "    <tr>\n",
       "      <th>...</th>\n",
       "      <td>...</td>\n",
       "      <td>...</td>\n",
       "      <td>...</td>\n",
       "      <td>...</td>\n",
       "      <td>...</td>\n",
       "      <td>...</td>\n",
       "      <td>...</td>\n",
       "      <td>...</td>\n",
       "    </tr>\n",
       "    <tr>\n",
       "      <th>16522</th>\n",
       "      <td>16522</td>\n",
       "      <td>K-Precise</td>\n",
       "      <td>1.000000</td>\n",
       "      <td>1.0</td>\n",
       "      <td>1</td>\n",
       "      <td>1</td>\n",
       "      <td>0.000529</td>\n",
       "      <td>1</td>\n",
       "    </tr>\n",
       "    <tr>\n",
       "      <th>13713</th>\n",
       "      <td>13713</td>\n",
       "      <td>ZÃœNDER</td>\n",
       "      <td>1.000000</td>\n",
       "      <td>1.0</td>\n",
       "      <td>1</td>\n",
       "      <td>1</td>\n",
       "      <td>0.000529</td>\n",
       "      <td>1</td>\n",
       "    </tr>\n",
       "    <tr>\n",
       "      <th>13712</th>\n",
       "      <td>13712</td>\n",
       "      <td>Evil Masquerade</td>\n",
       "      <td>1.000000</td>\n",
       "      <td>1.0</td>\n",
       "      <td>1</td>\n",
       "      <td>1</td>\n",
       "      <td>0.000529</td>\n",
       "      <td>1</td>\n",
       "    </tr>\n",
       "    <tr>\n",
       "      <th>16239</th>\n",
       "      <td>16239</td>\n",
       "      <td>Gosling</td>\n",
       "      <td>1.000000</td>\n",
       "      <td>1.0</td>\n",
       "      <td>1</td>\n",
       "      <td>1</td>\n",
       "      <td>0.000529</td>\n",
       "      <td>1</td>\n",
       "    </tr>\n",
       "    <tr>\n",
       "      <th>16241</th>\n",
       "      <td>16241</td>\n",
       "      <td>Kalson</td>\n",
       "      <td>1.000000</td>\n",
       "      <td>1.0</td>\n",
       "      <td>1</td>\n",
       "      <td>1</td>\n",
       "      <td>0.000529</td>\n",
       "      <td>1</td>\n",
       "    </tr>\n",
       "  </tbody>\n",
       "</table>\n",
       "<p>17632 rows × 8 columns</p>\n",
       "</div>"
      ],
      "text/plain": [
       "       artistID                name         mean     med     max      sum  \\\n",
       "283         283      Britney Spears  4584.559387  1000.5  131733  2393140   \n",
       "66           66        Depeche Mode  4614.567376   567.0  352698  1301308   \n",
       "83           83           Lady Gaga  2113.563011   590.0  114672  1291387   \n",
       "286         286  Christina Aguilera  2600.503686   739.0  176133  1058405   \n",
       "492         492            Paramore  2414.659148   417.0  227829   963449   \n",
       "...         ...                 ...          ...     ...     ...      ...   \n",
       "16522     16522           K-Precise     1.000000     1.0       1        1   \n",
       "13713     13713             ZÃœNDER     1.000000     1.0       1        1   \n",
       "13712     13712     Evil Masquerade     1.000000     1.0       1        1   \n",
       "16239     16239             Gosling     1.000000     1.0       1        1   \n",
       "16241     16241              Kalson     1.000000     1.0       1        1   \n",
       "\n",
       "       Percentage  unique  \n",
       "283      0.275899     522  \n",
       "66       0.149049     282  \n",
       "83       0.322939     611  \n",
       "286      0.215116     407  \n",
       "492      0.210888     399  \n",
       "...           ...     ...  \n",
       "16522    0.000529       1  \n",
       "13713    0.000529       1  \n",
       "13712    0.000529       1  \n",
       "16239    0.000529       1  \n",
       "16241    0.000529       1  \n",
       "\n",
       "[17632 rows x 8 columns]"
      ]
     },
     "execution_count": 88,
     "metadata": {},
     "output_type": "execute_result"
    }
   ],
   "source": [
    "artdf"
   ]
  },
  {
   "cell_type": "code",
   "execution_count": 89,
   "id": "12463fd7",
   "metadata": {},
   "outputs": [],
   "source": [
    "artdf['Percentage'] = artdf['Percentage'].multiply(100)"
   ]
  },
  {
   "cell_type": "code",
   "execution_count": 90,
   "id": "fc785259",
   "metadata": {},
   "outputs": [],
   "source": [
    "artdf = artdf.sort_values(by=['Percentage'], ascending=False)"
   ]
  },
  {
   "cell_type": "code",
   "execution_count": 91,
   "id": "c99089d5",
   "metadata": {},
   "outputs": [
    {
     "data": {
      "text/plain": [
       "<AxesSubplot:title={'center':'Percentage of users who listen to most popular artists'}, xlabel='Artist', ylabel='% of unique users who listen'>"
      ]
     },
     "execution_count": 91,
     "metadata": {},
     "output_type": "execute_result"
    },
    {
     "data": {
      "image/png": "[encoded data removed]",
      "text/plain": [
       "<Figure size 1296x432 with 1 Axes>"
      ]
     },
     "metadata": {
      "needs_background": "light"
     },
     "output_type": "display_data"
    }
   ],
   "source": [
    "pt2 = artdf.head(20)\n",
    "pt2.plot.bar(x = 'name', y = 'Percentage', rot = 40, figsize=(18, 6), color='green', xlabel='Artist', ylabel='% of unique users who listen', title='Percentage of users who listen to most popular artists')"
   ]
  },
  {
   "cell_type": "code",
   "execution_count": 92,
   "id": "c71cfb7e",
   "metadata": {},
   "outputs": [
    {
     "name": "stdout",
     "output_type": "stream",
     "text": [
      "The percentage of artists with 1% or less users listening to them is 16794.\n",
      "The percentage of artists with 2% or less users listening to them is 17200.\n",
      "The percentage of artists with 3% or less users listening to them is 17350.\n",
      "The percentage of artists with 4% or less users listening to them is 17430.\n",
      "The percentage of artists with 5% or less users listening to them is 17497.\n"
     ]
    }
   ],
   "source": [
    "values = [1, 2, 3, 4, 5]\n",
    "for i in range(len(values)):\n",
    "    x = len(artdf[artdf['Percentage'] <= values[i]])\n",
    "    print(\"The percentage of artists with \" + str(values[i]) + \"% or less users listening to them is \" + str(x) + \".\")"
   ]
  },
  {
   "cell_type": "markdown",
   "id": "2df44288",
   "metadata": {},
   "source": [
    "We can tell on the whole of the 17632 artists that there are actually very few who are listened to by a wide audience. There are less than 1000 artists who have more than 1% of users listening to them. This means our data is probably leaned very heavily towards the most popular artists such as Britney Spears or Lady Gaga as per our barchart above."
   ]
  },
  {
   "cell_type": "code",
   "execution_count": 93,
   "id": "f060564d",
   "metadata": {},
   "outputs": [],
   "source": [
    "z = played[['name', 'artistID']]"
   ]
  },
  {
   "cell_type": "code",
   "execution_count": 94,
   "id": "20efd633",
   "metadata": {},
   "outputs": [],
   "source": [
    "z = z.drop_duplicates()"
   ]
  },
  {
   "cell_type": "markdown",
   "id": "334dea81",
   "metadata": {},
   "source": [
    "I was going to try to incorporate the tags as part of my recommender system but as per above I seem to lose data just by the shape and even looking at artistID 1 we see this ID occurs three times in our played data and only twice in our tagged dataset. This is porbably due to the fact the users left no tags on this. We also have some improper values for tags as per above such as \"better than lady gaga\" and \"#NAME?\" which aren't going to add any information to our data. If we choose a subset of tags and take out values such as these that aren't as common or add any information we could work with this then. However, this would mean trimming our dataset down further. With less data to work with this might negatively impact the effectiveness of our recommender system."
   ]
  },
  {
   "cell_type": "code",
   "execution_count": 95,
   "id": "f1dc73f8",
   "metadata": {},
   "outputs": [
    {
     "data": {
      "text/html": [
       "<div>\n",
       "<style scoped>\n",
       "    .dataframe tbody tr th:only-of-type {\n",
       "        vertical-align: middle;\n",
       "    }\n",
       "\n",
       "    .dataframe tbody tr th {\n",
       "        vertical-align: top;\n",
       "    }\n",
       "\n",
       "    .dataframe thead th {\n",
       "        text-align: right;\n",
       "    }\n",
       "</style>\n",
       "<table border=\"1\" class=\"dataframe\">\n",
       "  <thead>\n",
       "    <tr style=\"text-align: right;\">\n",
       "      <th></th>\n",
       "      <th>userID</th>\n",
       "      <th>artistID</th>\n",
       "      <th>tagID</th>\n",
       "    </tr>\n",
       "  </thead>\n",
       "  <tbody>\n",
       "    <tr>\n",
       "      <th>3251</th>\n",
       "      <td>37</td>\n",
       "      <td>1</td>\n",
       "      <td>30</td>\n",
       "    </tr>\n",
       "    <tr>\n",
       "      <th>3252</th>\n",
       "      <td>37</td>\n",
       "      <td>1</td>\n",
       "      <td>127</td>\n",
       "    </tr>\n",
       "    <tr>\n",
       "      <th>3253</th>\n",
       "      <td>37</td>\n",
       "      <td>1</td>\n",
       "      <td>575</td>\n",
       "    </tr>\n",
       "    <tr>\n",
       "      <th>21145</th>\n",
       "      <td>211</td>\n",
       "      <td>1</td>\n",
       "      <td>61</td>\n",
       "    </tr>\n",
       "    <tr>\n",
       "      <th>26470</th>\n",
       "      <td>247</td>\n",
       "      <td>1</td>\n",
       "      <td>30</td>\n",
       "    </tr>\n",
       "    <tr>\n",
       "      <th>31456</th>\n",
       "      <td>303</td>\n",
       "      <td>1</td>\n",
       "      <td>30</td>\n",
       "    </tr>\n",
       "    <tr>\n",
       "      <th>31457</th>\n",
       "      <td>303</td>\n",
       "      <td>1</td>\n",
       "      <td>179</td>\n",
       "    </tr>\n",
       "    <tr>\n",
       "      <th>31458</th>\n",
       "      <td>303</td>\n",
       "      <td>1</td>\n",
       "      <td>575</td>\n",
       "    </tr>\n",
       "    <tr>\n",
       "      <th>66247</th>\n",
       "      <td>649</td>\n",
       "      <td>1</td>\n",
       "      <td>14</td>\n",
       "    </tr>\n",
       "    <tr>\n",
       "      <th>66248</th>\n",
       "      <td>649</td>\n",
       "      <td>1</td>\n",
       "      <td>233</td>\n",
       "    </tr>\n",
       "    <tr>\n",
       "      <th>66249</th>\n",
       "      <td>649</td>\n",
       "      <td>1</td>\n",
       "      <td>727</td>\n",
       "    </tr>\n",
       "    <tr>\n",
       "      <th>85972</th>\n",
       "      <td>862</td>\n",
       "      <td>1</td>\n",
       "      <td>179</td>\n",
       "    </tr>\n",
       "    <tr>\n",
       "      <th>85973</th>\n",
       "      <td>862</td>\n",
       "      <td>1</td>\n",
       "      <td>575</td>\n",
       "    </tr>\n",
       "    <tr>\n",
       "      <th>127118</th>\n",
       "      <td>1314</td>\n",
       "      <td>1</td>\n",
       "      <td>18</td>\n",
       "    </tr>\n",
       "    <tr>\n",
       "      <th>127119</th>\n",
       "      <td>1314</td>\n",
       "      <td>1</td>\n",
       "      <td>30</td>\n",
       "    </tr>\n",
       "    <tr>\n",
       "      <th>127120</th>\n",
       "      <td>1314</td>\n",
       "      <td>1</td>\n",
       "      <td>127</td>\n",
       "    </tr>\n",
       "    <tr>\n",
       "      <th>127121</th>\n",
       "      <td>1314</td>\n",
       "      <td>1</td>\n",
       "      <td>179</td>\n",
       "    </tr>\n",
       "    <tr>\n",
       "      <th>127122</th>\n",
       "      <td>1314</td>\n",
       "      <td>1</td>\n",
       "      <td>575</td>\n",
       "    </tr>\n",
       "    <tr>\n",
       "      <th>137187</th>\n",
       "      <td>1446</td>\n",
       "      <td>1</td>\n",
       "      <td>575</td>\n",
       "    </tr>\n",
       "    <tr>\n",
       "      <th>137213</th>\n",
       "      <td>1448</td>\n",
       "      <td>1</td>\n",
       "      <td>575</td>\n",
       "    </tr>\n",
       "    <tr>\n",
       "      <th>137943</th>\n",
       "      <td>1463</td>\n",
       "      <td>1</td>\n",
       "      <td>10137</td>\n",
       "    </tr>\n",
       "    <tr>\n",
       "      <th>147515</th>\n",
       "      <td>1515</td>\n",
       "      <td>1</td>\n",
       "      <td>30</td>\n",
       "    </tr>\n",
       "    <tr>\n",
       "      <th>147516</th>\n",
       "      <td>1515</td>\n",
       "      <td>1</td>\n",
       "      <td>179</td>\n",
       "    </tr>\n",
       "    <tr>\n",
       "      <th>147517</th>\n",
       "      <td>1515</td>\n",
       "      <td>1</td>\n",
       "      <td>190</td>\n",
       "    </tr>\n",
       "    <tr>\n",
       "      <th>147518</th>\n",
       "      <td>1515</td>\n",
       "      <td>1</td>\n",
       "      <td>575</td>\n",
       "    </tr>\n",
       "    <tr>\n",
       "      <th>170778</th>\n",
       "      <td>1740</td>\n",
       "      <td>1</td>\n",
       "      <td>179</td>\n",
       "    </tr>\n",
       "    <tr>\n",
       "      <th>170779</th>\n",
       "      <td>1740</td>\n",
       "      <td>1</td>\n",
       "      <td>575</td>\n",
       "    </tr>\n",
       "  </tbody>\n",
       "</table>\n",
       "</div>"
      ],
      "text/plain": [
       "        userID  artistID  tagID\n",
       "3251        37         1     30\n",
       "3252        37         1    127\n",
       "3253        37         1    575\n",
       "21145      211         1     61\n",
       "26470      247         1     30\n",
       "31456      303         1     30\n",
       "31457      303         1    179\n",
       "31458      303         1    575\n",
       "66247      649         1     14\n",
       "66248      649         1    233\n",
       "66249      649         1    727\n",
       "85972      862         1    179\n",
       "85973      862         1    575\n",
       "127118    1314         1     18\n",
       "127119    1314         1     30\n",
       "127120    1314         1    127\n",
       "127121    1314         1    179\n",
       "127122    1314         1    575\n",
       "137187    1446         1    575\n",
       "137213    1448         1    575\n",
       "137943    1463         1  10137\n",
       "147515    1515         1     30\n",
       "147516    1515         1    179\n",
       "147517    1515         1    190\n",
       "147518    1515         1    575\n",
       "170778    1740         1    179\n",
       "170779    1740         1    575"
      ]
     },
     "execution_count": 95,
     "metadata": {},
     "output_type": "execute_result"
    }
   ],
   "source": [
    "df4[df4['artistID'] == 1]"
   ]
  },
  {
   "cell_type": "markdown",
   "id": "2aa566e1",
   "metadata": {},
   "source": [
    "This confirms that user 34 does not leave a tag on this artist's work. This is why we lose the rows we do when we try to incorporate the tags data into the listened data. We will disregard this for now."
   ]
  },
  {
   "cell_type": "code",
   "execution_count": 96,
   "id": "247e81d6",
   "metadata": {},
   "outputs": [
    {
     "data": {
      "text/plain": [
       "<AxesSubplot:>"
      ]
     },
     "execution_count": 96,
     "metadata": {},
     "output_type": "execute_result"
    },
    {
     "data": {
      "image/png": "[encoded data removed]",
      "text/plain": [
       "<Figure size 1296x432 with 1 Axes>"
      ]
     },
     "metadata": {
      "needs_background": "light"
     },
     "output_type": "display_data"
    }
   ],
   "source": [
    "# Let's check most popular tags\n",
    "tags['tagValue'].value_counts()[:20].plot(kind='barh', color='green', figsize=(18,6))"
   ]
  },
  {
   "cell_type": "markdown",
   "id": "5ddd1049",
   "metadata": {},
   "source": [
    "# Sparse Representation of Played matrix"
   ]
  },
  {
   "cell_type": "code",
   "execution_count": 97,
   "id": "dc9c84cd",
   "metadata": {},
   "outputs": [],
   "source": [
    "# Calculate sparsity of matrix\n",
    "def calculate_sparsity(M):\n",
    "    matrix_size = float(M.shape[0] * M.shape[1]) # Number of total possible interactions between artist and user in the matrix\n",
    "    num_plays = len(M.nonzero()[1]) # Number of times any artist has been interacted with\n",
    "    sparsity = 100 * (1 - float(num_plays / matrix_size))\n",
    "    return sparsity"
   ]
  },
  {
   "cell_type": "markdown",
   "id": "68d68df0",
   "metadata": {},
   "source": [
    "## Normalising our played column\n",
    "Next, one of the crucial aspects of our recommender system would be dealing with our played column. With such a diverse number of values from the range of 0 to over 350,000 we would have to deal with these appropriately. Our system would not be able to handle values of such a high nature and when I tried to run this I would get very high train errors and \"nan\" values for test error. I looked at a variety of different ways to normalize this value as a result and I would only incorporate two of these into my dataframe. I looked at capping any values above the 2,000 mark in our played column at 2,000 but decided against this method. As a result the methods I looked at were:\n",
    "\n",
    "##### 1) Simple Normalization - normalizing all values based off the highest value in the \"played\" column.\n",
    "\n",
    "##### 2) User based Normalization - grouping our played column by users and normalizing each user based off their own max value. I implemented this as a column called \"playedUserNorm\". This had the best results and was the column I implemented below.\n",
    "\n",
    "##### 3) Play Count Scaled - here I would take each value in the column and take it away from the minimum value in the column. I would then divide this by the max value of the column minus the minimum value. I implemented this with the column \"playCountScaled\".\n",
    "\n",
    "##### 4) Robust Scaling method - here we would scale each feature of the data set by subtracting the median and then dividing by the interquartile range. I tried this method but the results were poor and implementing it took a long time to run.\n"
   ]
  },
  {
   "cell_type": "code",
   "execution_count": 98,
   "id": "8538233b",
   "metadata": {},
   "outputs": [],
   "source": [
    "sm = played['played'].groupby(played['userID']).max()\n",
    "artss = np.array(played['userID'])\n",
    "playzz = np.array(played['played'])\n",
    "#artss[-1]\n",
    "newnorm = []\n",
    "for i in range(len(playzz)):\n",
    "    index = artss[i]\n",
    "    val = playzz[i] / sm[index]\n",
    "    newnorm.append(val)"
   ]
  },
  {
   "cell_type": "code",
   "execution_count": 99,
   "id": "66c4a174",
   "metadata": {},
   "outputs": [],
   "source": [
    "newnorm = np.array(newnorm)\n",
    "\n",
    "#add newnorm array as new column in DataFrame\n",
    "played['playedUserNorm'] = newnorm.tolist()"
   ]
  },
  {
   "cell_type": "code",
   "execution_count": 100,
   "id": "981d8e1c",
   "metadata": {},
   "outputs": [
    {
     "data": {
      "text/plain": [
       "1.0"
      ]
     },
     "execution_count": 100,
     "metadata": {},
     "output_type": "execute_result"
    }
   ],
   "source": [
    "played['playedUserNorm'].max()"
   ]
  },
  {
   "cell_type": "code",
   "execution_count": 101,
   "id": "258bde72",
   "metadata": {},
   "outputs": [],
   "source": [
    "pc = played.played\n",
    "play_count_scaled = (pc - pc.min()) / (pc.max() - pc.min())\n",
    "\n",
    "played = played.assign(playCountScaled=play_count_scaled)"
   ]
  },
  {
   "cell_type": "code",
   "execution_count": 102,
   "id": "39a18f69",
   "metadata": {},
   "outputs": [],
   "source": [
    "# !!! here is our 1) simple normalisation\n",
    "\n",
    "# played[\"playBasicNorm\"] = played[\"played\"] / played[\"played\"].max()"
   ]
  },
  {
   "cell_type": "code",
   "execution_count": 103,
   "id": "efefc134",
   "metadata": {},
   "outputs": [],
   "source": [
    "# played['playCountScaled'].equals(played['playBasicNorm'])"
   ]
  },
  {
   "cell_type": "code",
   "execution_count": 104,
   "id": "f0542be5",
   "metadata": {},
   "outputs": [
    {
     "data": {
      "text/html": [
       "<div>\n",
       "<style scoped>\n",
       "    .dataframe tbody tr th:only-of-type {\n",
       "        vertical-align: middle;\n",
       "    }\n",
       "\n",
       "    .dataframe tbody tr th {\n",
       "        vertical-align: top;\n",
       "    }\n",
       "\n",
       "    .dataframe thead th {\n",
       "        text-align: right;\n",
       "    }\n",
       "</style>\n",
       "<table border=\"1\" class=\"dataframe\">\n",
       "  <thead>\n",
       "    <tr style=\"text-align: right;\">\n",
       "      <th></th>\n",
       "      <th>name</th>\n",
       "      <th>url</th>\n",
       "      <th>artID</th>\n",
       "      <th>userID</th>\n",
       "      <th>artistID</th>\n",
       "      <th>played</th>\n",
       "      <th>playedUserNorm</th>\n",
       "      <th>playCountScaled</th>\n",
       "    </tr>\n",
       "  </thead>\n",
       "  <tbody>\n",
       "    <tr>\n",
       "      <th>0</th>\n",
       "      <td>MALICE MIZER</td>\n",
       "      <td>http://www.last.fm/music/MALICE+MIZER</td>\n",
       "      <td>0</td>\n",
       "      <td>31</td>\n",
       "      <td>0</td>\n",
       "      <td>212</td>\n",
       "      <td>0.055775</td>\n",
       "      <td>0.000598</td>\n",
       "    </tr>\n",
       "    <tr>\n",
       "      <th>1</th>\n",
       "      <td>MALICE MIZER</td>\n",
       "      <td>http://www.last.fm/music/MALICE+MIZER</td>\n",
       "      <td>0</td>\n",
       "      <td>256</td>\n",
       "      <td>0</td>\n",
       "      <td>483</td>\n",
       "      <td>0.065394</td>\n",
       "      <td>0.001367</td>\n",
       "    </tr>\n",
       "    <tr>\n",
       "      <th>2</th>\n",
       "      <td>MALICE MIZER</td>\n",
       "      <td>http://www.last.fm/music/MALICE+MIZER</td>\n",
       "      <td>0</td>\n",
       "      <td>729</td>\n",
       "      <td>0</td>\n",
       "      <td>76</td>\n",
       "      <td>0.025149</td>\n",
       "      <td>0.000213</td>\n",
       "    </tr>\n",
       "    <tr>\n",
       "      <th>3</th>\n",
       "      <td>Diary of Dreams</td>\n",
       "      <td>http://www.last.fm/music/Diary+of+Dreams</td>\n",
       "      <td>1</td>\n",
       "      <td>130</td>\n",
       "      <td>1</td>\n",
       "      <td>1021</td>\n",
       "      <td>0.150902</td>\n",
       "      <td>0.002892</td>\n",
       "    </tr>\n",
       "    <tr>\n",
       "      <th>4</th>\n",
       "      <td>Diary of Dreams</td>\n",
       "      <td>http://www.last.fm/music/Diary+of+Dreams</td>\n",
       "      <td>1</td>\n",
       "      <td>240</td>\n",
       "      <td>1</td>\n",
       "      <td>152</td>\n",
       "      <td>0.154315</td>\n",
       "      <td>0.000428</td>\n",
       "    </tr>\n",
       "  </tbody>\n",
       "</table>\n",
       "</div>"
      ],
      "text/plain": [
       "              name                                       url  artID  userID  \\\n",
       "0     MALICE MIZER     http://www.last.fm/music/MALICE+MIZER      0      31   \n",
       "1     MALICE MIZER     http://www.last.fm/music/MALICE+MIZER      0     256   \n",
       "2     MALICE MIZER     http://www.last.fm/music/MALICE+MIZER      0     729   \n",
       "3  Diary of Dreams  http://www.last.fm/music/Diary+of+Dreams      1     130   \n",
       "4  Diary of Dreams  http://www.last.fm/music/Diary+of+Dreams      1     240   \n",
       "\n",
       "   artistID  played  playedUserNorm  playCountScaled  \n",
       "0         0     212        0.055775         0.000598  \n",
       "1         0     483        0.065394         0.001367  \n",
       "2         0      76        0.025149         0.000213  \n",
       "3         1    1021        0.150902         0.002892  \n",
       "4         1     152        0.154315         0.000428  "
      ]
     },
     "execution_count": 104,
     "metadata": {},
     "output_type": "execute_result"
    }
   ],
   "source": [
    "played.head()"
   ]
  },
  {
   "cell_type": "code",
   "execution_count": 105,
   "id": "f73b2f36",
   "metadata": {},
   "outputs": [],
   "source": [
    "# !!! here is our attempt at robust scaling as per 4) \n",
    "\n",
    "#newcol = []\n",
    "#pl = np.array(played['played'])\n",
    "#for i in range(len(pl)):\n",
    "#    val = (pl[i] - played['played'].median())  / (played['played'].quantile(0.75) - played['played'].quantile(0.25))\n",
    "#    newcol.append(val)"
   ]
  },
  {
   "cell_type": "code",
   "execution_count": 106,
   "id": "cd88f691",
   "metadata": {},
   "outputs": [],
   "source": [
    "#newcol = np.array(newcol)\n",
    "\n",
    "#add newnorm array as new column in DataFrame\n",
    "#played['playedRobust'] = newcol.tolist()"
   ]
  },
  {
   "cell_type": "code",
   "execution_count": 107,
   "id": "ef473b6e",
   "metadata": {},
   "outputs": [],
   "source": [
    "def build_rating_sparse_tensor(ratings_df):\n",
    "  # ========================= Complete this section ============================\n",
    "    indices = ratings_df[['userID', 'artID']].values\n",
    "    values = ratings_df['playedUserNorm'].values\n",
    "  # ============================================================================\n",
    "\n",
    "    return tf.SparseTensor(\n",
    "      indices=indices,\n",
    "      values=values,\n",
    "      dense_shape=[len(played.userID.unique()), len(played.artID.unique())])"
   ]
  },
  {
   "cell_type": "code",
   "execution_count": 108,
   "id": "2910bba7",
   "metadata": {},
   "outputs": [
    {
     "data": {
      "text/plain": [
       "1892"
      ]
     },
     "execution_count": 108,
     "metadata": {},
     "output_type": "execute_result"
    }
   ],
   "source": [
    "len(played.userID.unique())"
   ]
  },
  {
   "cell_type": "code",
   "execution_count": 109,
   "id": "5bc503ab",
   "metadata": {},
   "outputs": [],
   "source": [
    "def sparse_mean_square_error(sparse_ratings, user_embeddings, artist_embeddings):\n",
    "    predictions = tf.reduce_sum(\n",
    "    tf.gather(user_embeddings, sparse_ratings.indices[:, 0]) * tf.gather(artist_embeddings, sparse_ratings.indices[:, 1]),\n",
    "      axis=1)\n",
    "    loss = tf.losses.mean_squared_error(sparse_ratings.values, predictions)\n",
    "    return loss"
   ]
  },
  {
   "cell_type": "markdown",
   "id": "933ea257",
   "metadata": {},
   "source": [
    "# Building Model"
   ]
  },
  {
   "cell_type": "code",
   "execution_count": 110,
   "id": "d44aaa3c",
   "metadata": {},
   "outputs": [],
   "source": [
    "import tensorflow.compat.v1 as tf\n",
    "tf.disable_v2_behavior()\n",
    "class CFModel(object):\n",
    "\n",
    "  def __init__(self, embedding_vars, loss, metrics=None):\n",
    "\n",
    "    self._embedding_vars = embedding_vars\n",
    "    self._loss = loss\n",
    "    self._metrics = metrics\n",
    "    self._embeddings = {k: None for k in embedding_vars}\n",
    "    self._session = None\n",
    "\n",
    "  @property\n",
    "  def embeddings(self):\n",
    "    \"\"\"The embeddings dictionary.\"\"\"\n",
    "    return self._embeddings\n",
    "\n",
    "  def train(self, num_iterations = 100, learning_rate = 1.0, plot_results=True,\n",
    "            optimizer=tf.train.GradientDescentOptimizer):\n",
    "\n",
    "    with self._loss.graph.as_default():\n",
    "      opt = optimizer(learning_rate)\n",
    "      train_op = opt.minimize(self._loss)\n",
    "      local_init_op = tf.group(\n",
    "          tf.variables_initializer(opt.variables()),\n",
    "          tf.local_variables_initializer())\n",
    "      if self._session is None:\n",
    "        self._session = tf.Session()\n",
    "        with self._session.as_default():\n",
    "          self._session.run(tf.global_variables_initializer())\n",
    "          self._session.run(tf.tables_initializer())\n",
    "          tf.train.start_queue_runners()\n",
    "\n",
    "    with self._session.as_default():\n",
    "      local_init_op.run()\n",
    "      iterations = []\n",
    "      metrics = self._metrics or ({},)\n",
    "      metrics_vals = [collections.defaultdict(list) for _ in self._metrics]\n",
    "\n",
    "      # Train and append results.\n",
    "      for i in range(num_iterations + 1):\n",
    "        _, results = self._session.run((train_op, metrics))\n",
    "        if (i % 10 == 0) or i == num_iterations:\n",
    "          print(\"\\r iteration %d: \" % i + \", \".join(\n",
    "                [\"%s=%f\" % (k, v) for r in results for k, v in r.items()]),\n",
    "                end='')\n",
    "          iterations.append(i)\n",
    "          for metric_val, result in zip(metrics_vals, results):\n",
    "            for k, v in result.items():\n",
    "              metric_val[k].append(v)\n",
    "\n",
    "      for k, v in self._embedding_vars.items():\n",
    "        self._embeddings[k] = v.eval()\n",
    "\n",
    "      if plot_results:\n",
    "        # Plot the metrics.\n",
    "        num_subplots = len(metrics) + 1\n",
    "        fig = plt.figure()\n",
    "        fig.set_size_inches(num_subplots * 10, 8)\n",
    "        for i, metric_vals in enumerate(metrics_vals):\n",
    "          ax = fig.add_subplot(1, num_subplots, i + 1)\n",
    "          for k, v in metric_vals.items():\n",
    "            ax.plot(iterations, v, label = k)\n",
    "          ax.set_xlim([1, num_iterations])\n",
    "          ax.legend()\n",
    "      return results"
   ]
  },
  {
   "cell_type": "markdown",
   "id": "bb5acbf3",
   "metadata": {},
   "source": [
    "# Build and Run the Model"
   ]
  },
  {
   "cell_type": "code",
   "execution_count": 111,
   "id": "b2c9c4c7",
   "metadata": {},
   "outputs": [],
   "source": [
    "from sklearn.model_selection import train_test_split\n",
    "def build_model(ratings, embedding_dim=3, init_stddev=1.):\n",
    "\n",
    "  # Split the ratings DataFrame into train and test.\n",
    "    #train_ratings, test_ratings = train_test_split(ratings, test_size=0.5)\n",
    "    train_ratings, test_ratings = split_dataframe(ratings)\n",
    "  # SparseTensor representation of the train and test datasets.\n",
    "    A_train = build_rating_sparse_tensor(train_ratings)\n",
    "    A_test = build_rating_sparse_tensor(test_ratings)\n",
    "  # Initialize the embeddings using a normal distribution.\n",
    "    U = tf.Variable(tf.random.normal(\n",
    "      [A_train.dense_shape[0], embedding_dim], stddev=init_stddev))\n",
    "    V = tf.Variable(tf.random.normal(\n",
    "      [A_train.dense_shape[1], embedding_dim], stddev=init_stddev))\n",
    "    train_loss = sparse_mean_square_error(A_train, U, V)\n",
    "    test_loss = sparse_mean_square_error(A_test, U, V)\n",
    "    metrics = {\n",
    "      'train_error': train_loss,\n",
    "      'test_error': test_loss\n",
    "    }\n",
    "    embeddings = {\n",
    "      \"userID\": U,\n",
    "      \"artID\": V\n",
    "    }\n",
    "    return CFModel(embeddings, train_loss, [metrics])"
   ]
  },
  {
   "cell_type": "code",
   "execution_count": 112,
   "id": "49643214",
   "metadata": {},
   "outputs": [],
   "source": [
    "def split_dataframe(df, holdout_fraction=0.3):\n",
    "  \n",
    "    test = df.sample(frac=holdout_fraction, replace=False)\n",
    "    train = df[~df.index.isin(test.index)]\n",
    "    return train, test"
   ]
  },
  {
   "cell_type": "code",
   "execution_count": 113,
   "id": "c1fac2fa",
   "metadata": {},
   "outputs": [],
   "source": [
    "xyz = played[['userID', 'artID', 'playedUserNorm']]"
   ]
  },
  {
   "cell_type": "code",
   "execution_count": 114,
   "id": "1804f359",
   "metadata": {
    "scrolled": false
   },
   "outputs": [
    {
     "name": "stdout",
     "output_type": "stream",
     "text": [
      " iteration 1000: train_error=0.031797, test_error=0.683726"
     ]
    },
    {
     "data": {
      "text/plain": [
       "[{'train_error': 0.03179749, 'test_error': 0.68372595}]"
      ]
     },
     "execution_count": 114,
     "metadata": {},
     "output_type": "execute_result"
    },
    {
     "data": {
      "image/png": "[encoded data removed]",
      "text/plain": [
       "<Figure size 1440x576 with 1 Axes>"
      ]
     },
     "metadata": {
      "needs_background": "light"
     },
     "output_type": "display_data"
    }
   ],
   "source": [
    "model = build_model(xyz,  embedding_dim=30, init_stddev=0.5)\n",
    "model.train(num_iterations=1000, learning_rate=10.)"
   ]
  },
  {
   "cell_type": "markdown",
   "id": "c3741d26",
   "metadata": {},
   "source": [
    "I tried to build my model but the high values for listens was giving me errors like so \"InvalidArgumentError: indices[4073] = 2077 is not in [0, 1892)\". "
   ]
  },
  {
   "cell_type": "markdown",
   "id": "bbe7cdef",
   "metadata": {},
   "source": [
    "This was why I changed the artist and user ID's to 1.) start from zero and 2.) increment by 1 until the length of unique values - 1. I had to normalise my weights then as I kept returning nan values for train and test errors above."
   ]
  },
  {
   "cell_type": "code",
   "execution_count": 115,
   "id": "1b5df32b",
   "metadata": {},
   "outputs": [
    {
     "data": {
      "text/html": [
       "<div>\n",
       "<style scoped>\n",
       "    .dataframe tbody tr th:only-of-type {\n",
       "        vertical-align: middle;\n",
       "    }\n",
       "\n",
       "    .dataframe tbody tr th {\n",
       "        vertical-align: top;\n",
       "    }\n",
       "\n",
       "    .dataframe thead th {\n",
       "        text-align: right;\n",
       "    }\n",
       "</style>\n",
       "<table border=\"1\" class=\"dataframe\">\n",
       "  <thead>\n",
       "    <tr style=\"text-align: right;\">\n",
       "      <th></th>\n",
       "      <th>name</th>\n",
       "      <th>url</th>\n",
       "      <th>artID</th>\n",
       "      <th>userID</th>\n",
       "      <th>artistID</th>\n",
       "      <th>played</th>\n",
       "      <th>playedUserNorm</th>\n",
       "      <th>playCountScaled</th>\n",
       "    </tr>\n",
       "  </thead>\n",
       "  <tbody>\n",
       "    <tr>\n",
       "      <th>0</th>\n",
       "      <td>MALICE MIZER</td>\n",
       "      <td>http://www.last.fm/music/MALICE+MIZER</td>\n",
       "      <td>0</td>\n",
       "      <td>31</td>\n",
       "      <td>0</td>\n",
       "      <td>212</td>\n",
       "      <td>0.055775</td>\n",
       "      <td>0.000598</td>\n",
       "    </tr>\n",
       "    <tr>\n",
       "      <th>1</th>\n",
       "      <td>MALICE MIZER</td>\n",
       "      <td>http://www.last.fm/music/MALICE+MIZER</td>\n",
       "      <td>0</td>\n",
       "      <td>256</td>\n",
       "      <td>0</td>\n",
       "      <td>483</td>\n",
       "      <td>0.065394</td>\n",
       "      <td>0.001367</td>\n",
       "    </tr>\n",
       "    <tr>\n",
       "      <th>2</th>\n",
       "      <td>MALICE MIZER</td>\n",
       "      <td>http://www.last.fm/music/MALICE+MIZER</td>\n",
       "      <td>0</td>\n",
       "      <td>729</td>\n",
       "      <td>0</td>\n",
       "      <td>76</td>\n",
       "      <td>0.025149</td>\n",
       "      <td>0.000213</td>\n",
       "    </tr>\n",
       "    <tr>\n",
       "      <th>3</th>\n",
       "      <td>Diary of Dreams</td>\n",
       "      <td>http://www.last.fm/music/Diary+of+Dreams</td>\n",
       "      <td>1</td>\n",
       "      <td>130</td>\n",
       "      <td>1</td>\n",
       "      <td>1021</td>\n",
       "      <td>0.150902</td>\n",
       "      <td>0.002892</td>\n",
       "    </tr>\n",
       "    <tr>\n",
       "      <th>4</th>\n",
       "      <td>Diary of Dreams</td>\n",
       "      <td>http://www.last.fm/music/Diary+of+Dreams</td>\n",
       "      <td>1</td>\n",
       "      <td>240</td>\n",
       "      <td>1</td>\n",
       "      <td>152</td>\n",
       "      <td>0.154315</td>\n",
       "      <td>0.000428</td>\n",
       "    </tr>\n",
       "    <tr>\n",
       "      <th>5</th>\n",
       "      <td>Diary of Dreams</td>\n",
       "      <td>http://www.last.fm/music/Diary+of+Dreams</td>\n",
       "      <td>1</td>\n",
       "      <td>303</td>\n",
       "      <td>1</td>\n",
       "      <td>3466</td>\n",
       "      <td>1.000000</td>\n",
       "      <td>0.009824</td>\n",
       "    </tr>\n",
       "  </tbody>\n",
       "</table>\n",
       "</div>"
      ],
      "text/plain": [
       "              name                                       url  artID  userID  \\\n",
       "0     MALICE MIZER     http://www.last.fm/music/MALICE+MIZER      0      31   \n",
       "1     MALICE MIZER     http://www.last.fm/music/MALICE+MIZER      0     256   \n",
       "2     MALICE MIZER     http://www.last.fm/music/MALICE+MIZER      0     729   \n",
       "3  Diary of Dreams  http://www.last.fm/music/Diary+of+Dreams      1     130   \n",
       "4  Diary of Dreams  http://www.last.fm/music/Diary+of+Dreams      1     240   \n",
       "5  Diary of Dreams  http://www.last.fm/music/Diary+of+Dreams      1     303   \n",
       "\n",
       "   artistID  played  playedUserNorm  playCountScaled  \n",
       "0         0     212        0.055775         0.000598  \n",
       "1         0     483        0.065394         0.001367  \n",
       "2         0      76        0.025149         0.000213  \n",
       "3         1    1021        0.150902         0.002892  \n",
       "4         1     152        0.154315         0.000428  \n",
       "5         1    3466        1.000000         0.009824  "
      ]
     },
     "execution_count": 115,
     "metadata": {},
     "output_type": "execute_result"
    }
   ],
   "source": [
    "played.head(6)"
   ]
  },
  {
   "cell_type": "code",
   "execution_count": 116,
   "id": "dc3da8cc",
   "metadata": {},
   "outputs": [],
   "source": [
    "#played[played[\"played\"] > 2000][\"played\"] = 2000"
   ]
  },
  {
   "cell_type": "code",
   "execution_count": 117,
   "id": "dbdf5043",
   "metadata": {},
   "outputs": [],
   "source": [
    "#indexes = played[played[\"played\"] > 2000].index"
   ]
  },
  {
   "cell_type": "code",
   "execution_count": 118,
   "id": "11452458",
   "metadata": {},
   "outputs": [],
   "source": [
    "#played.iloc[indexes,5] = 2000"
   ]
  },
  {
   "cell_type": "code",
   "execution_count": 119,
   "id": "02bd2761",
   "metadata": {},
   "outputs": [],
   "source": [
    "#played.head()"
   ]
  },
  {
   "cell_type": "markdown",
   "id": "f4f401b2",
   "metadata": {},
   "source": [
    "# Inspect Embeddings"
   ]
  },
  {
   "cell_type": "code",
   "execution_count": 120,
   "id": "f76c4102",
   "metadata": {},
   "outputs": [],
   "source": [
    "DOT = 'dot'\n",
    "COSINE = 'cosine'\n",
    "def compute_scores(query_embedding, item_embeddings, measure=DOT):\n",
    "  u = query_embedding\n",
    "  V = item_embeddings\n",
    "  if measure == COSINE:\n",
    "    V = V / np.linalg.norm(V, axis=1, keepdims=True)\n",
    "    u = u / np.linalg.norm(u)\n",
    "  scores = u.dot(V.T)\n",
    "  return scores"
   ]
  },
  {
   "cell_type": "code",
   "execution_count": 121,
   "id": "81197eda",
   "metadata": {},
   "outputs": [],
   "source": [
    "from IPython import display\n",
    "def artist_neighbors(model, title_substring, measure=DOT, k=6):\n",
    "  ids =  df[df['name'].str.contains(title_substring)].index.values\n",
    "  titles = df.iloc[ids]['name'].values\n",
    "  if len(titles) == 0:\n",
    "    raise ValueError(\"Found no artist with title %s\" % title_substring)\n",
    "  print(\"Nearest neighbors of : %s.\" % titles[0])\n",
    "  if len(titles) > 1:\n",
    "    print(\"[Found more than one matching artist. Other candidates: {}]\".format(\n",
    "        \", \".join(titles[1:])))\n",
    "  artistID = ids[0]\n",
    "  scores = compute_scores(\n",
    "      model.embeddings[\"artID\"][artistID], model.embeddings[\"artID\"],\n",
    "      measure)\n",
    "  score_key = measure + ' score'\n",
    "  df7 = pd.DataFrame({\n",
    "      score_key: list(scores),\n",
    "      'names': df['name'],\n",
    "  })\n",
    "  display.display(df7.sort_values([score_key], ascending=False).head(k))"
   ]
  },
  {
   "cell_type": "code",
   "execution_count": 123,
   "id": "f3ed6899",
   "metadata": {},
   "outputs": [
    {
     "name": "stdout",
     "output_type": "stream",
     "text": [
      "Nearest neighbors of : Lady Gaga.\n",
      "[Found more than one matching artist. Other candidates: Lady Gaga VS Christina Aguilera, BeyoncÃ© e Lady Gaga, Lady Gaga feat BeyoncÃ©]\n"
     ]
    },
    {
     "data": {
      "text/html": [
       "<div>\n",
       "<style scoped>\n",
       "    .dataframe tbody tr th:only-of-type {\n",
       "        vertical-align: middle;\n",
       "    }\n",
       "\n",
       "    .dataframe tbody tr th {\n",
       "        vertical-align: top;\n",
       "    }\n",
       "\n",
       "    .dataframe thead th {\n",
       "        text-align: right;\n",
       "    }\n",
       "</style>\n",
       "<table border=\"1\" class=\"dataframe\">\n",
       "  <thead>\n",
       "    <tr style=\"text-align: right;\">\n",
       "      <th></th>\n",
       "      <th>dot score</th>\n",
       "      <th>names</th>\n",
       "    </tr>\n",
       "  </thead>\n",
       "  <tbody>\n",
       "    <tr>\n",
       "      <th>3605</th>\n",
       "      <td>0.812613</td>\n",
       "      <td>Brian Wilson</td>\n",
       "    </tr>\n",
       "    <tr>\n",
       "      <th>12769</th>\n",
       "      <td>0.802375</td>\n",
       "      <td>Parasites</td>\n",
       "    </tr>\n",
       "    <tr>\n",
       "      <th>7440</th>\n",
       "      <td>0.791319</td>\n",
       "      <td>Konono NÂº1</td>\n",
       "    </tr>\n",
       "    <tr>\n",
       "      <th>5344</th>\n",
       "      <td>0.777069</td>\n",
       "      <td>Indica</td>\n",
       "    </tr>\n",
       "    <tr>\n",
       "      <th>13581</th>\n",
       "      <td>0.757277</td>\n",
       "      <td>All Parallels</td>\n",
       "    </tr>\n",
       "    <tr>\n",
       "      <th>3601</th>\n",
       "      <td>0.756598</td>\n",
       "      <td>Girl Talk</td>\n",
       "    </tr>\n",
       "  </tbody>\n",
       "</table>\n",
       "</div>"
      ],
      "text/plain": [
       "       dot score          names\n",
       "3605    0.812613   Brian Wilson\n",
       "12769   0.802375      Parasites\n",
       "7440    0.791319    Konono NÂº1\n",
       "5344    0.777069         Indica\n",
       "13581   0.757277  All Parallels\n",
       "3601    0.756598      Girl Talk"
      ]
     },
     "metadata": {},
     "output_type": "display_data"
    },
    {
     "name": "stdout",
     "output_type": "stream",
     "text": [
      "Nearest neighbors of : Lady Gaga.\n",
      "[Found more than one matching artist. Other candidates: Lady Gaga VS Christina Aguilera, BeyoncÃ© e Lady Gaga, Lady Gaga feat BeyoncÃ©]\n"
     ]
    },
    {
     "data": {
      "text/html": [
       "<div>\n",
       "<style scoped>\n",
       "    .dataframe tbody tr th:only-of-type {\n",
       "        vertical-align: middle;\n",
       "    }\n",
       "\n",
       "    .dataframe tbody tr th {\n",
       "        vertical-align: top;\n",
       "    }\n",
       "\n",
       "    .dataframe thead th {\n",
       "        text-align: right;\n",
       "    }\n",
       "</style>\n",
       "<table border=\"1\" class=\"dataframe\">\n",
       "  <thead>\n",
       "    <tr style=\"text-align: right;\">\n",
       "      <th></th>\n",
       "      <th>cosine score</th>\n",
       "      <th>names</th>\n",
       "    </tr>\n",
       "  </thead>\n",
       "  <tbody>\n",
       "    <tr>\n",
       "      <th>83</th>\n",
       "      <td>1.000000</td>\n",
       "      <td>Lady Gaga</td>\n",
       "    </tr>\n",
       "    <tr>\n",
       "      <th>16407</th>\n",
       "      <td>0.602692</td>\n",
       "      <td>Issa Bagayogo</td>\n",
       "    </tr>\n",
       "    <tr>\n",
       "      <th>1353</th>\n",
       "      <td>0.596446</td>\n",
       "      <td>Mekong Delta</td>\n",
       "    </tr>\n",
       "    <tr>\n",
       "      <th>4432</th>\n",
       "      <td>0.586931</td>\n",
       "      <td>The Flying Burrito Brothers</td>\n",
       "    </tr>\n",
       "    <tr>\n",
       "      <th>2042</th>\n",
       "      <td>0.583452</td>\n",
       "      <td>Midnight Hour</td>\n",
       "    </tr>\n",
       "    <tr>\n",
       "      <th>16034</th>\n",
       "      <td>0.575871</td>\n",
       "      <td>Cast of \"Sonny With a Chance\"</td>\n",
       "    </tr>\n",
       "  </tbody>\n",
       "</table>\n",
       "</div>"
      ],
      "text/plain": [
       "       cosine score                          names\n",
       "83         1.000000                      Lady Gaga\n",
       "16407      0.602692                  Issa Bagayogo\n",
       "1353       0.596446                   Mekong Delta\n",
       "4432       0.586931    The Flying Burrito Brothers\n",
       "2042       0.583452                  Midnight Hour\n",
       "16034      0.575871  Cast of \"Sonny With a Chance\""
      ]
     },
     "metadata": {},
     "output_type": "display_data"
    },
    {
     "name": "stdout",
     "output_type": "stream",
     "text": [
      "Nearest neighbors of : The Killers.\n",
      "[Found more than one matching artist. Other candidates: Arctic Monkeys vs The Killers]\n"
     ]
    },
    {
     "data": {
      "text/html": [
       "<div>\n",
       "<style scoped>\n",
       "    .dataframe tbody tr th:only-of-type {\n",
       "        vertical-align: middle;\n",
       "    }\n",
       "\n",
       "    .dataframe tbody tr th {\n",
       "        vertical-align: top;\n",
       "    }\n",
       "\n",
       "    .dataframe thead th {\n",
       "        text-align: right;\n",
       "    }\n",
       "</style>\n",
       "<table border=\"1\" class=\"dataframe\">\n",
       "  <thead>\n",
       "    <tr style=\"text-align: right;\">\n",
       "      <th></th>\n",
       "      <th>dot score</th>\n",
       "      <th>names</th>\n",
       "    </tr>\n",
       "  </thead>\n",
       "  <tbody>\n",
       "    <tr>\n",
       "      <th>11702</th>\n",
       "      <td>1.012849</td>\n",
       "      <td>Montgomery Bruce</td>\n",
       "    </tr>\n",
       "    <tr>\n",
       "      <th>4432</th>\n",
       "      <td>0.856808</td>\n",
       "      <td>The Flying Burrito Brothers</td>\n",
       "    </tr>\n",
       "    <tr>\n",
       "      <th>12628</th>\n",
       "      <td>0.842163</td>\n",
       "      <td>Ian Gillan</td>\n",
       "    </tr>\n",
       "    <tr>\n",
       "      <th>16301</th>\n",
       "      <td>0.767293</td>\n",
       "      <td>Exilia</td>\n",
       "    </tr>\n",
       "    <tr>\n",
       "      <th>15970</th>\n",
       "      <td>0.763515</td>\n",
       "      <td>Milivoj Culibrk</td>\n",
       "    </tr>\n",
       "    <tr>\n",
       "      <th>11658</th>\n",
       "      <td>0.755758</td>\n",
       "      <td>Alejandro Sanz y The Corrs</td>\n",
       "    </tr>\n",
       "  </tbody>\n",
       "</table>\n",
       "</div>"
      ],
      "text/plain": [
       "       dot score                        names\n",
       "11702   1.012849             Montgomery Bruce\n",
       "4432    0.856808  The Flying Burrito Brothers\n",
       "12628   0.842163                   Ian Gillan\n",
       "16301   0.767293                       Exilia\n",
       "15970   0.763515              Milivoj Culibrk\n",
       "11658   0.755758   Alejandro Sanz y The Corrs"
      ]
     },
     "metadata": {},
     "output_type": "display_data"
    },
    {
     "name": "stdout",
     "output_type": "stream",
     "text": [
      "Nearest neighbors of : The Killers.\n",
      "[Found more than one matching artist. Other candidates: Arctic Monkeys vs The Killers]\n"
     ]
    },
    {
     "data": {
      "text/html": [
       "<div>\n",
       "<style scoped>\n",
       "    .dataframe tbody tr th:only-of-type {\n",
       "        vertical-align: middle;\n",
       "    }\n",
       "\n",
       "    .dataframe tbody tr th {\n",
       "        vertical-align: top;\n",
       "    }\n",
       "\n",
       "    .dataframe thead th {\n",
       "        text-align: right;\n",
       "    }\n",
       "</style>\n",
       "<table border=\"1\" class=\"dataframe\">\n",
       "  <thead>\n",
       "    <tr style=\"text-align: right;\">\n",
       "      <th></th>\n",
       "      <th>cosine score</th>\n",
       "      <th>names</th>\n",
       "    </tr>\n",
       "  </thead>\n",
       "  <tbody>\n",
       "    <tr>\n",
       "      <th>223</th>\n",
       "      <td>1.000000</td>\n",
       "      <td>The Killers</td>\n",
       "    </tr>\n",
       "    <tr>\n",
       "      <th>148</th>\n",
       "      <td>0.740776</td>\n",
       "      <td>Radiohead</td>\n",
       "    </tr>\n",
       "    <tr>\n",
       "      <th>11702</th>\n",
       "      <td>0.725482</td>\n",
       "      <td>Montgomery Bruce</td>\n",
       "    </tr>\n",
       "    <tr>\n",
       "      <th>59</th>\n",
       "      <td>0.672198</td>\n",
       "      <td>Coldplay</td>\n",
       "    </tr>\n",
       "    <tr>\n",
       "      <th>4432</th>\n",
       "      <td>0.654321</td>\n",
       "      <td>The Flying Burrito Brothers</td>\n",
       "    </tr>\n",
       "    <tr>\n",
       "      <th>325</th>\n",
       "      <td>0.642990</td>\n",
       "      <td>Kanye West</td>\n",
       "    </tr>\n",
       "  </tbody>\n",
       "</table>\n",
       "</div>"
      ],
      "text/plain": [
       "       cosine score                        names\n",
       "223        1.000000                  The Killers\n",
       "148        0.740776                    Radiohead\n",
       "11702      0.725482             Montgomery Bruce\n",
       "59         0.672198                     Coldplay\n",
       "4432       0.654321  The Flying Burrito Brothers\n",
       "325        0.642990                   Kanye West"
      ]
     },
     "metadata": {},
     "output_type": "display_data"
    },
    {
     "name": "stdout",
     "output_type": "stream",
     "text": [
      "Nearest neighbors of : Black Eyed Peas.\n",
      "[Found more than one matching artist. Other candidates: The Black Eyed Peas, Juanes feat.Black Eyed Peas]\n"
     ]
    },
    {
     "data": {
      "text/html": [
       "<div>\n",
       "<style scoped>\n",
       "    .dataframe tbody tr th:only-of-type {\n",
       "        vertical-align: middle;\n",
       "    }\n",
       "\n",
       "    .dataframe tbody tr th {\n",
       "        vertical-align: top;\n",
       "    }\n",
       "\n",
       "    .dataframe thead th {\n",
       "        text-align: right;\n",
       "    }\n",
       "</style>\n",
       "<table border=\"1\" class=\"dataframe\">\n",
       "  <thead>\n",
       "    <tr style=\"text-align: right;\">\n",
       "      <th></th>\n",
       "      <th>dot score</th>\n",
       "      <th>names</th>\n",
       "    </tr>\n",
       "  </thead>\n",
       "  <tbody>\n",
       "    <tr>\n",
       "      <th>2654</th>\n",
       "      <td>0.251163</td>\n",
       "      <td>Boxcutter</td>\n",
       "    </tr>\n",
       "    <tr>\n",
       "      <th>9047</th>\n",
       "      <td>0.247331</td>\n",
       "      <td>De Oliveira, Daniel</td>\n",
       "    </tr>\n",
       "    <tr>\n",
       "      <th>6603</th>\n",
       "      <td>0.236491</td>\n",
       "      <td>Axel Rudi Pell</td>\n",
       "    </tr>\n",
       "    <tr>\n",
       "      <th>2100</th>\n",
       "      <td>0.236196</td>\n",
       "      <td>Saori@destiny</td>\n",
       "    </tr>\n",
       "    <tr>\n",
       "      <th>3952</th>\n",
       "      <td>0.234497</td>\n",
       "      <td>Chromeo</td>\n",
       "    </tr>\n",
       "    <tr>\n",
       "      <th>13979</th>\n",
       "      <td>0.233894</td>\n",
       "      <td>August Rush</td>\n",
       "    </tr>\n",
       "  </tbody>\n",
       "</table>\n",
       "</div>"
      ],
      "text/plain": [
       "       dot score                names\n",
       "2654    0.251163            Boxcutter\n",
       "9047    0.247331  De Oliveira, Daniel\n",
       "6603    0.236491       Axel Rudi Pell\n",
       "2100    0.236196        Saori@destiny\n",
       "3952    0.234497              Chromeo\n",
       "13979   0.233894          August Rush"
      ]
     },
     "metadata": {},
     "output_type": "display_data"
    },
    {
     "name": "stdout",
     "output_type": "stream",
     "text": [
      "Nearest neighbors of : Black Eyed Peas.\n",
      "[Found more than one matching artist. Other candidates: The Black Eyed Peas, Juanes feat.Black Eyed Peas]\n"
     ]
    },
    {
     "data": {
      "text/html": [
       "<div>\n",
       "<style scoped>\n",
       "    .dataframe tbody tr th:only-of-type {\n",
       "        vertical-align: middle;\n",
       "    }\n",
       "\n",
       "    .dataframe tbody tr th {\n",
       "        vertical-align: top;\n",
       "    }\n",
       "\n",
       "    .dataframe thead th {\n",
       "        text-align: right;\n",
       "    }\n",
       "</style>\n",
       "<table border=\"1\" class=\"dataframe\">\n",
       "  <thead>\n",
       "    <tr style=\"text-align: right;\">\n",
       "      <th></th>\n",
       "      <th>cosine score</th>\n",
       "      <th>names</th>\n",
       "    </tr>\n",
       "  </thead>\n",
       "  <tbody>\n",
       "    <tr>\n",
       "      <th>300</th>\n",
       "      <td>1.000000</td>\n",
       "      <td>Black Eyed Peas</td>\n",
       "    </tr>\n",
       "    <tr>\n",
       "      <th>283</th>\n",
       "      <td>0.669940</td>\n",
       "      <td>Britney Spears</td>\n",
       "    </tr>\n",
       "    <tr>\n",
       "      <th>282</th>\n",
       "      <td>0.649275</td>\n",
       "      <td>Rihanna</td>\n",
       "    </tr>\n",
       "    <tr>\n",
       "      <th>3952</th>\n",
       "      <td>0.641816</td>\n",
       "      <td>Chromeo</td>\n",
       "    </tr>\n",
       "    <tr>\n",
       "      <th>9047</th>\n",
       "      <td>0.592324</td>\n",
       "      <td>De Oliveira, Daniel</td>\n",
       "    </tr>\n",
       "    <tr>\n",
       "      <th>13979</th>\n",
       "      <td>0.582959</td>\n",
       "      <td>August Rush</td>\n",
       "    </tr>\n",
       "  </tbody>\n",
       "</table>\n",
       "</div>"
      ],
      "text/plain": [
       "       cosine score                names\n",
       "300        1.000000      Black Eyed Peas\n",
       "283        0.669940       Britney Spears\n",
       "282        0.649275              Rihanna\n",
       "3952       0.641816              Chromeo\n",
       "9047       0.592324  De Oliveira, Daniel\n",
       "13979      0.582959          August Rush"
      ]
     },
     "metadata": {},
     "output_type": "display_data"
    },
    {
     "name": "stdout",
     "output_type": "stream",
     "text": [
      "Nearest neighbors of : Rihanna.\n",
      "[Found more than one matching artist. Other candidates: Rihanna (feat. Drake), Jay-Z, Bono, The Edge & Rihanna, RihannaÌ€, Sean Paul ft. Rihanna, Rihanna-remixado REnan, \\Eminem f_ Rihanna]\n"
     ]
    },
    {
     "data": {
      "text/html": [
       "<div>\n",
       "<style scoped>\n",
       "    .dataframe tbody tr th:only-of-type {\n",
       "        vertical-align: middle;\n",
       "    }\n",
       "\n",
       "    .dataframe tbody tr th {\n",
       "        vertical-align: top;\n",
       "    }\n",
       "\n",
       "    .dataframe thead th {\n",
       "        text-align: right;\n",
       "    }\n",
       "</style>\n",
       "<table border=\"1\" class=\"dataframe\">\n",
       "  <thead>\n",
       "    <tr style=\"text-align: right;\">\n",
       "      <th></th>\n",
       "      <th>dot score</th>\n",
       "      <th>names</th>\n",
       "    </tr>\n",
       "  </thead>\n",
       "  <tbody>\n",
       "    <tr>\n",
       "      <th>6503</th>\n",
       "      <td>0.641052</td>\n",
       "      <td>Meiko Kaji</td>\n",
       "    </tr>\n",
       "    <tr>\n",
       "      <th>3468</th>\n",
       "      <td>0.624824</td>\n",
       "      <td>John Zorn</td>\n",
       "    </tr>\n",
       "    <tr>\n",
       "      <th>13262</th>\n",
       "      <td>0.612677</td>\n",
       "      <td>Jel</td>\n",
       "    </tr>\n",
       "    <tr>\n",
       "      <th>6603</th>\n",
       "      <td>0.609794</td>\n",
       "      <td>Axel Rudi Pell</td>\n",
       "    </tr>\n",
       "    <tr>\n",
       "      <th>6318</th>\n",
       "      <td>0.598739</td>\n",
       "      <td>The J. Geils Band</td>\n",
       "    </tr>\n",
       "    <tr>\n",
       "      <th>16945</th>\n",
       "      <td>0.598701</td>\n",
       "      <td>Frivolous</td>\n",
       "    </tr>\n",
       "  </tbody>\n",
       "</table>\n",
       "</div>"
      ],
      "text/plain": [
       "       dot score              names\n",
       "6503    0.641052         Meiko Kaji\n",
       "3468    0.624824          John Zorn\n",
       "13262   0.612677                Jel\n",
       "6603    0.609794     Axel Rudi Pell\n",
       "6318    0.598739  The J. Geils Band\n",
       "16945   0.598701          Frivolous"
      ]
     },
     "metadata": {},
     "output_type": "display_data"
    },
    {
     "name": "stdout",
     "output_type": "stream",
     "text": [
      "Nearest neighbors of : Rihanna.\n",
      "[Found more than one matching artist. Other candidates: Rihanna (feat. Drake), Jay-Z, Bono, The Edge & Rihanna, RihannaÌ€, Sean Paul ft. Rihanna, Rihanna-remixado REnan, \\Eminem f_ Rihanna]\n"
     ]
    },
    {
     "data": {
      "text/html": [
       "<div>\n",
       "<style scoped>\n",
       "    .dataframe tbody tr th:only-of-type {\n",
       "        vertical-align: middle;\n",
       "    }\n",
       "\n",
       "    .dataframe tbody tr th {\n",
       "        vertical-align: top;\n",
       "    }\n",
       "\n",
       "    .dataframe thead th {\n",
       "        text-align: right;\n",
       "    }\n",
       "</style>\n",
       "<table border=\"1\" class=\"dataframe\">\n",
       "  <thead>\n",
       "    <tr style=\"text-align: right;\">\n",
       "      <th></th>\n",
       "      <th>cosine score</th>\n",
       "      <th>names</th>\n",
       "    </tr>\n",
       "  </thead>\n",
       "  <tbody>\n",
       "    <tr>\n",
       "      <th>282</th>\n",
       "      <td>1.000000</td>\n",
       "      <td>Rihanna</td>\n",
       "    </tr>\n",
       "    <tr>\n",
       "      <th>13781</th>\n",
       "      <td>0.680468</td>\n",
       "      <td>å³é›¨éœ</td>\n",
       "    </tr>\n",
       "    <tr>\n",
       "      <th>13262</th>\n",
       "      <td>0.660701</td>\n",
       "      <td>Jel</td>\n",
       "    </tr>\n",
       "    <tr>\n",
       "      <th>300</th>\n",
       "      <td>0.649275</td>\n",
       "      <td>Black Eyed Peas</td>\n",
       "    </tr>\n",
       "    <tr>\n",
       "      <th>289</th>\n",
       "      <td>0.642422</td>\n",
       "      <td>BeyoncÃ©</td>\n",
       "    </tr>\n",
       "    <tr>\n",
       "      <th>3164</th>\n",
       "      <td>0.637739</td>\n",
       "      <td>L'Ã‚me Immortelle</td>\n",
       "    </tr>\n",
       "  </tbody>\n",
       "</table>\n",
       "</div>"
      ],
      "text/plain": [
       "       cosine score              names\n",
       "282        1.000000            Rihanna\n",
       "13781      0.680468          å³é›¨éœ\n",
       "13262      0.660701                Jel\n",
       "300        0.649275    Black Eyed Peas\n",
       "289        0.642422           BeyoncÃ©\n",
       "3164       0.637739  L'Ã‚me Immortelle"
      ]
     },
     "metadata": {},
     "output_type": "display_data"
    },
    {
     "name": "stdout",
     "output_type": "stream",
     "text": [
      "Nearest neighbors of : Gwen Stefani.\n",
      "[Found more than one matching artist. Other candidates: Panic! at the Disco feat. Britney Spears and Gwen Stefani]\n"
     ]
    },
    {
     "data": {
      "text/html": [
       "<div>\n",
       "<style scoped>\n",
       "    .dataframe tbody tr th:only-of-type {\n",
       "        vertical-align: middle;\n",
       "    }\n",
       "\n",
       "    .dataframe tbody tr th {\n",
       "        vertical-align: top;\n",
       "    }\n",
       "\n",
       "    .dataframe thead th {\n",
       "        text-align: right;\n",
       "    }\n",
       "</style>\n",
       "<table border=\"1\" class=\"dataframe\">\n",
       "  <thead>\n",
       "    <tr style=\"text-align: right;\">\n",
       "      <th></th>\n",
       "      <th>dot score</th>\n",
       "      <th>names</th>\n",
       "    </tr>\n",
       "  </thead>\n",
       "  <tbody>\n",
       "    <tr>\n",
       "      <th>5481</th>\n",
       "      <td>1.278136</td>\n",
       "      <td>In Blood We Trust</td>\n",
       "    </tr>\n",
       "    <tr>\n",
       "      <th>6337</th>\n",
       "      <td>1.192982</td>\n",
       "      <td>Fundo de Quintal</td>\n",
       "    </tr>\n",
       "    <tr>\n",
       "      <th>9852</th>\n",
       "      <td>1.162215</td>\n",
       "      <td>Dean Wareham</td>\n",
       "    </tr>\n",
       "    <tr>\n",
       "      <th>16791</th>\n",
       "      <td>1.159906</td>\n",
       "      <td>Johann Pachelbel</td>\n",
       "    </tr>\n",
       "    <tr>\n",
       "      <th>8961</th>\n",
       "      <td>1.147011</td>\n",
       "      <td>Kirk Whalum</td>\n",
       "    </tr>\n",
       "    <tr>\n",
       "      <th>16804</th>\n",
       "      <td>1.124971</td>\n",
       "      <td>Faber Drive</td>\n",
       "    </tr>\n",
       "  </tbody>\n",
       "</table>\n",
       "</div>"
      ],
      "text/plain": [
       "       dot score              names\n",
       "5481    1.278136  In Blood We Trust\n",
       "6337    1.192982   Fundo de Quintal\n",
       "9852    1.162215       Dean Wareham\n",
       "16791   1.159906   Johann Pachelbel\n",
       "8961    1.147011        Kirk Whalum\n",
       "16804   1.124971        Faber Drive"
      ]
     },
     "metadata": {},
     "output_type": "display_data"
    },
    {
     "name": "stdout",
     "output_type": "stream",
     "text": [
      "Nearest neighbors of : Gwen Stefani.\n",
      "[Found more than one matching artist. Other candidates: Panic! at the Disco feat. Britney Spears and Gwen Stefani]\n"
     ]
    },
    {
     "data": {
      "text/html": [
       "<div>\n",
       "<style scoped>\n",
       "    .dataframe tbody tr th:only-of-type {\n",
       "        vertical-align: middle;\n",
       "    }\n",
       "\n",
       "    .dataframe tbody tr th {\n",
       "        vertical-align: top;\n",
       "    }\n",
       "\n",
       "    .dataframe thead th {\n",
       "        text-align: right;\n",
       "    }\n",
       "</style>\n",
       "<table border=\"1\" class=\"dataframe\">\n",
       "  <thead>\n",
       "    <tr style=\"text-align: right;\">\n",
       "      <th></th>\n",
       "      <th>cosine score</th>\n",
       "      <th>names</th>\n",
       "    </tr>\n",
       "  </thead>\n",
       "  <tbody>\n",
       "    <tr>\n",
       "      <th>519</th>\n",
       "      <td>1.000000</td>\n",
       "      <td>Gwen Stefani</td>\n",
       "    </tr>\n",
       "    <tr>\n",
       "      <th>6337</th>\n",
       "      <td>0.694660</td>\n",
       "      <td>Fundo de Quintal</td>\n",
       "    </tr>\n",
       "    <tr>\n",
       "      <th>8566</th>\n",
       "      <td>0.656893</td>\n",
       "      <td>Hellsongs</td>\n",
       "    </tr>\n",
       "    <tr>\n",
       "      <th>9286</th>\n",
       "      <td>0.611154</td>\n",
       "      <td>Tiffany Evans</td>\n",
       "    </tr>\n",
       "    <tr>\n",
       "      <th>16791</th>\n",
       "      <td>0.587248</td>\n",
       "      <td>Johann Pachelbel</td>\n",
       "    </tr>\n",
       "    <tr>\n",
       "      <th>5481</th>\n",
       "      <td>0.575282</td>\n",
       "      <td>In Blood We Trust</td>\n",
       "    </tr>\n",
       "  </tbody>\n",
       "</table>\n",
       "</div>"
      ],
      "text/plain": [
       "       cosine score              names\n",
       "519        1.000000       Gwen Stefani\n",
       "6337       0.694660   Fundo de Quintal\n",
       "8566       0.656893          Hellsongs\n",
       "9286       0.611154      Tiffany Evans\n",
       "16791      0.587248   Johann Pachelbel\n",
       "5481       0.575282  In Blood We Trust"
      ]
     },
     "metadata": {},
     "output_type": "display_data"
    },
    {
     "name": "stdout",
     "output_type": "stream",
     "text": [
      "Nearest neighbors of : Eva Simons.\n",
      "[Found more than one matching artist. Other candidates: Afrojack ft. Eva Simons]\n"
     ]
    },
    {
     "data": {
      "text/html": [
       "<div>\n",
       "<style scoped>\n",
       "    .dataframe tbody tr th:only-of-type {\n",
       "        vertical-align: middle;\n",
       "    }\n",
       "\n",
       "    .dataframe tbody tr th {\n",
       "        vertical-align: top;\n",
       "    }\n",
       "\n",
       "    .dataframe thead th {\n",
       "        text-align: right;\n",
       "    }\n",
       "</style>\n",
       "<table border=\"1\" class=\"dataframe\">\n",
       "  <thead>\n",
       "    <tr style=\"text-align: right;\">\n",
       "      <th></th>\n",
       "      <th>dot score</th>\n",
       "      <th>names</th>\n",
       "    </tr>\n",
       "  </thead>\n",
       "  <tbody>\n",
       "    <tr>\n",
       "      <th>1432</th>\n",
       "      <td>8.246042</td>\n",
       "      <td>Eva Simons</td>\n",
       "    </tr>\n",
       "    <tr>\n",
       "      <th>14410</th>\n",
       "      <td>7.320895</td>\n",
       "      <td>Chyno Nyno</td>\n",
       "    </tr>\n",
       "    <tr>\n",
       "      <th>2267</th>\n",
       "      <td>5.500011</td>\n",
       "      <td>Born Ruffians</td>\n",
       "    </tr>\n",
       "    <tr>\n",
       "      <th>5985</th>\n",
       "      <td>5.429811</td>\n",
       "      <td>Tetsukazu Nakanishi</td>\n",
       "    </tr>\n",
       "    <tr>\n",
       "      <th>9365</th>\n",
       "      <td>5.413785</td>\n",
       "      <td>Jimmy Cliff</td>\n",
       "    </tr>\n",
       "    <tr>\n",
       "      <th>15360</th>\n",
       "      <td>5.188014</td>\n",
       "      <td>Tigarah</td>\n",
       "    </tr>\n",
       "  </tbody>\n",
       "</table>\n",
       "</div>"
      ],
      "text/plain": [
       "       dot score                names\n",
       "1432    8.246042           Eva Simons\n",
       "14410   7.320895           Chyno Nyno\n",
       "2267    5.500011        Born Ruffians\n",
       "5985    5.429811  Tetsukazu Nakanishi\n",
       "9365    5.413785          Jimmy Cliff\n",
       "15360   5.188014              Tigarah"
      ]
     },
     "metadata": {},
     "output_type": "display_data"
    },
    {
     "name": "stdout",
     "output_type": "stream",
     "text": [
      "Nearest neighbors of : Eva Simons.\n",
      "[Found more than one matching artist. Other candidates: Afrojack ft. Eva Simons]\n"
     ]
    },
    {
     "data": {
      "text/html": [
       "<div>\n",
       "<style scoped>\n",
       "    .dataframe tbody tr th:only-of-type {\n",
       "        vertical-align: middle;\n",
       "    }\n",
       "\n",
       "    .dataframe tbody tr th {\n",
       "        vertical-align: top;\n",
       "    }\n",
       "\n",
       "    .dataframe thead th {\n",
       "        text-align: right;\n",
       "    }\n",
       "</style>\n",
       "<table border=\"1\" class=\"dataframe\">\n",
       "  <thead>\n",
       "    <tr style=\"text-align: right;\">\n",
       "      <th></th>\n",
       "      <th>cosine score</th>\n",
       "      <th>names</th>\n",
       "    </tr>\n",
       "  </thead>\n",
       "  <tbody>\n",
       "    <tr>\n",
       "      <th>1432</th>\n",
       "      <td>1.000000</td>\n",
       "      <td>Eva Simons</td>\n",
       "    </tr>\n",
       "    <tr>\n",
       "      <th>14410</th>\n",
       "      <td>0.663481</td>\n",
       "      <td>Chyno Nyno</td>\n",
       "    </tr>\n",
       "    <tr>\n",
       "      <th>2527</th>\n",
       "      <td>0.637375</td>\n",
       "      <td>Hairspray (Soundtrack to the Motion Picture)</td>\n",
       "    </tr>\n",
       "    <tr>\n",
       "      <th>4375</th>\n",
       "      <td>0.628057</td>\n",
       "      <td>Cinderella</td>\n",
       "    </tr>\n",
       "    <tr>\n",
       "      <th>7378</th>\n",
       "      <td>0.611445</td>\n",
       "      <td>La Vida BohÃ¨me</td>\n",
       "    </tr>\n",
       "    <tr>\n",
       "      <th>2267</th>\n",
       "      <td>0.609220</td>\n",
       "      <td>Born Ruffians</td>\n",
       "    </tr>\n",
       "  </tbody>\n",
       "</table>\n",
       "</div>"
      ],
      "text/plain": [
       "       cosine score                                         names\n",
       "1432       1.000000                                    Eva Simons\n",
       "14410      0.663481                                    Chyno Nyno\n",
       "2527       0.637375  Hairspray (Soundtrack to the Motion Picture)\n",
       "4375       0.628057                                    Cinderella\n",
       "7378       0.611445                               La Vida BohÃ¨me\n",
       "2267       0.609220                                 Born Ruffians"
      ]
     },
     "metadata": {},
     "output_type": "display_data"
    }
   ],
   "source": [
    "artist_grp = ['Lady Gaga', 'The Killers', 'Black Eyed Peas', 'Rihanna', 'Gwen Stefani', 'Eva Simons']\n",
    "for art in range(len(artist_grp)):\n",
    "    artist_neighbors(model, artist_grp[art], DOT)\n",
    "    artist_neighbors(model, artist_grp[art], COSINE)"
   ]
  },
  {
   "cell_type": "markdown",
   "id": "88690f28",
   "metadata": {},
   "source": [
    "While our cosine score results provide very strong recommendations using the dot product model here produces mediocre results at best. This also factors in that the dot product is a very popular method for recommender systems and as a result we will need to incorporate further methods to get better results. We will attempt to use a regularized matrix. The key point of this being that regularization is to enforce conditions, for example sparsity or smoothness, that can produce stable predictive functions and in our case improve our model."
   ]
  },
  {
   "cell_type": "markdown",
   "id": "ede9a6e7",
   "metadata": {},
   "source": [
    "# Regularized Matrix"
   ]
  },
  {
   "cell_type": "code",
   "execution_count": 124,
   "id": "db021444",
   "metadata": {},
   "outputs": [],
   "source": [
    "def gravity(U, V):\n",
    "  return 1. / (U.shape[0].value * V.shape[0].value) * tf.reduce_sum(\n",
    "      tf.matmul(U, U, transpose_a = True) * tf.matmul(V, V, transpose_a = True))\n",
    "\n",
    "def build_regularized_model(data, embedding_dim = 3, regularization_coeff = .1, gravity_coeff = 1., init_stddev = 0.1):\n",
    "  # Split the ratings DataFrame into train and test.\n",
    "  train_ratings, test_ratings = split_dataframe(xyz)\n",
    "  # SparseTensor representation of the train and test datasets.\n",
    "  A_train = build_rating_sparse_tensor(train_ratings)\n",
    "  A_test = build_rating_sparse_tensor(test_ratings)\n",
    "  U = tf.Variable(tf.random_normal(\n",
    "      [A_train.dense_shape[0], embedding_dim], stddev = init_stddev))\n",
    "  V = tf.Variable(tf.random_normal(\n",
    "      [A_train.dense_shape[1], embedding_dim], stddev = init_stddev))\n",
    "\n",
    "  error_train = sparse_mean_square_error(A_train, U, V)\n",
    "  error_test = sparse_mean_square_error(A_test, U, V)\n",
    "  gravity_loss = gravity_coeff * gravity(U, V)\n",
    "  regularization_loss = regularization_coeff * (\n",
    "      tf.reduce_sum(U * U) / U.shape[0].value + tf.reduce_sum(V * V) / V.shape[0].value)\n",
    "  total_loss = error_train + regularization_loss + gravity_loss\n",
    "  losses = {\n",
    "      'train_error_observed': error_train,\n",
    "      'test_error_observed': error_test,\n",
    "  }\n",
    "  loss_components = {\n",
    "      'observed_loss': error_train,\n",
    "      'regularization_loss': regularization_loss,\n",
    "      'gravity_loss': gravity_loss,\n",
    "  }\n",
    "  embeddings = {\"userID\": U, \"artID\": V}\n",
    "\n",
    "  return CFModel(embeddings, total_loss, [losses, loss_components]), U, V"
   ]
  },
  {
   "cell_type": "code",
   "execution_count": 125,
   "id": "cc8faec3",
   "metadata": {},
   "outputs": [
    {
     "name": "stdout",
     "output_type": "stream",
     "text": [
      " iteration 2000: train_error_observed=0.032253, test_error_observed=0.050958, observed_loss=0.032253, regularization_loss=0.017137, gravity_loss=0.000742"
     ]
    },
    {
     "data": {
      "text/plain": [
       "[{'train_error_observed': 0.032252904, 'test_error_observed': 0.05095785},\n",
       " {'observed_loss': 0.032252904,\n",
       "  'regularization_loss': 0.017137468,\n",
       "  'gravity_loss': 0.00074249814}]"
      ]
     },
     "execution_count": 125,
     "metadata": {},
     "output_type": "execute_result"
    },
    {
     "data": {
      "image/png": "[encoded data removed]",
      "text/plain": [
       "<Figure size 2160x576 with 2 Axes>"
      ]
     },
     "metadata": {
      "needs_background": "light"
     },
     "output_type": "display_data"
    }
   ],
   "source": [
    "reg_model, u, v  = build_regularized_model(xyz, regularization_coeff=0.1, gravity_coeff=1.0, embedding_dim=35, init_stddev=.05)\n",
    "reg_model.train(num_iterations=2000, learning_rate=20.)"
   ]
  },
  {
   "cell_type": "markdown",
   "id": "fd05c4d1",
   "metadata": {},
   "source": [
    "Let's test our model on a group of artists to get a better understanding of it's recommendations."
   ]
  },
  {
   "cell_type": "code",
   "execution_count": 126,
   "id": "b8f0a232",
   "metadata": {},
   "outputs": [
    {
     "name": "stdout",
     "output_type": "stream",
     "text": [
      "Nearest neighbors of : Lady Gaga.\n",
      "[Found more than one matching artist. Other candidates: Lady Gaga VS Christina Aguilera, BeyoncÃ© e Lady Gaga, Lady Gaga feat BeyoncÃ©]\n"
     ]
    },
    {
     "data": {
      "text/html": [
       "<div>\n",
       "<style scoped>\n",
       "    .dataframe tbody tr th:only-of-type {\n",
       "        vertical-align: middle;\n",
       "    }\n",
       "\n",
       "    .dataframe tbody tr th {\n",
       "        vertical-align: top;\n",
       "    }\n",
       "\n",
       "    .dataframe thead th {\n",
       "        text-align: right;\n",
       "    }\n",
       "</style>\n",
       "<table border=\"1\" class=\"dataframe\">\n",
       "  <thead>\n",
       "    <tr style=\"text-align: right;\">\n",
       "      <th></th>\n",
       "      <th>dot score</th>\n",
       "      <th>names</th>\n",
       "    </tr>\n",
       "  </thead>\n",
       "  <tbody>\n",
       "    <tr>\n",
       "      <th>83</th>\n",
       "      <td>11.451717</td>\n",
       "      <td>Lady Gaga</td>\n",
       "    </tr>\n",
       "    <tr>\n",
       "      <th>283</th>\n",
       "      <td>4.555975</td>\n",
       "      <td>Britney Spears</td>\n",
       "    </tr>\n",
       "    <tr>\n",
       "      <th>282</th>\n",
       "      <td>3.346427</td>\n",
       "      <td>Rihanna</td>\n",
       "    </tr>\n",
       "    <tr>\n",
       "      <th>61</th>\n",
       "      <td>2.559813</td>\n",
       "      <td>Madonna</td>\n",
       "    </tr>\n",
       "    <tr>\n",
       "      <th>460</th>\n",
       "      <td>2.295269</td>\n",
       "      <td>Ke$ha</td>\n",
       "    </tr>\n",
       "    <tr>\n",
       "      <th>449</th>\n",
       "      <td>2.072138</td>\n",
       "      <td>Backstreet Boys</td>\n",
       "    </tr>\n",
       "  </tbody>\n",
       "</table>\n",
       "</div>"
      ],
      "text/plain": [
       "     dot score            names\n",
       "83   11.451717        Lady Gaga\n",
       "283   4.555975   Britney Spears\n",
       "282   3.346427          Rihanna\n",
       "61    2.559813          Madonna\n",
       "460   2.295269            Ke$ha\n",
       "449   2.072138  Backstreet Boys"
      ]
     },
     "metadata": {},
     "output_type": "display_data"
    },
    {
     "name": "stdout",
     "output_type": "stream",
     "text": [
      "Nearest neighbors of : Lady Gaga.\n",
      "[Found more than one matching artist. Other candidates: Lady Gaga VS Christina Aguilera, BeyoncÃ© e Lady Gaga, Lady Gaga feat BeyoncÃ©]\n"
     ]
    },
    {
     "data": {
      "text/html": [
       "<div>\n",
       "<style scoped>\n",
       "    .dataframe tbody tr th:only-of-type {\n",
       "        vertical-align: middle;\n",
       "    }\n",
       "\n",
       "    .dataframe tbody tr th {\n",
       "        vertical-align: top;\n",
       "    }\n",
       "\n",
       "    .dataframe thead th {\n",
       "        text-align: right;\n",
       "    }\n",
       "</style>\n",
       "<table border=\"1\" class=\"dataframe\">\n",
       "  <thead>\n",
       "    <tr style=\"text-align: right;\">\n",
       "      <th></th>\n",
       "      <th>cosine score</th>\n",
       "      <th>names</th>\n",
       "    </tr>\n",
       "  </thead>\n",
       "  <tbody>\n",
       "    <tr>\n",
       "      <th>83</th>\n",
       "      <td>1.000000</td>\n",
       "      <td>Lady Gaga</td>\n",
       "    </tr>\n",
       "    <tr>\n",
       "      <th>3360</th>\n",
       "      <td>0.726035</td>\n",
       "      <td>Heidi Montag</td>\n",
       "    </tr>\n",
       "    <tr>\n",
       "      <th>7968</th>\n",
       "      <td>0.671409</td>\n",
       "      <td>T-Pain</td>\n",
       "    </tr>\n",
       "    <tr>\n",
       "      <th>638</th>\n",
       "      <td>0.649688</td>\n",
       "      <td>Inna</td>\n",
       "    </tr>\n",
       "    <tr>\n",
       "      <th>5998</th>\n",
       "      <td>0.622371</td>\n",
       "      <td>Roupa Nova</td>\n",
       "    </tr>\n",
       "    <tr>\n",
       "      <th>525</th>\n",
       "      <td>0.616644</td>\n",
       "      <td>Taio Cruz</td>\n",
       "    </tr>\n",
       "  </tbody>\n",
       "</table>\n",
       "</div>"
      ],
      "text/plain": [
       "      cosine score         names\n",
       "83        1.000000     Lady Gaga\n",
       "3360      0.726035  Heidi Montag\n",
       "7968      0.671409        T-Pain\n",
       "638       0.649688          Inna\n",
       "5998      0.622371    Roupa Nova\n",
       "525       0.616644     Taio Cruz"
      ]
     },
     "metadata": {},
     "output_type": "display_data"
    },
    {
     "name": "stdout",
     "output_type": "stream",
     "text": [
      "Nearest neighbors of : The Killers.\n",
      "[Found more than one matching artist. Other candidates: Arctic Monkeys vs The Killers]\n"
     ]
    },
    {
     "data": {
      "text/html": [
       "<div>\n",
       "<style scoped>\n",
       "    .dataframe tbody tr th:only-of-type {\n",
       "        vertical-align: middle;\n",
       "    }\n",
       "\n",
       "    .dataframe tbody tr th {\n",
       "        vertical-align: top;\n",
       "    }\n",
       "\n",
       "    .dataframe thead th {\n",
       "        text-align: right;\n",
       "    }\n",
       "</style>\n",
       "<table border=\"1\" class=\"dataframe\">\n",
       "  <thead>\n",
       "    <tr style=\"text-align: right;\">\n",
       "      <th></th>\n",
       "      <th>dot score</th>\n",
       "      <th>names</th>\n",
       "    </tr>\n",
       "  </thead>\n",
       "  <tbody>\n",
       "    <tr>\n",
       "      <th>223</th>\n",
       "      <td>2.186165</td>\n",
       "      <td>The Killers</td>\n",
       "    </tr>\n",
       "    <tr>\n",
       "      <th>184</th>\n",
       "      <td>2.011312</td>\n",
       "      <td>Muse</td>\n",
       "    </tr>\n",
       "    <tr>\n",
       "      <th>221</th>\n",
       "      <td>1.783245</td>\n",
       "      <td>The Beatles</td>\n",
       "    </tr>\n",
       "    <tr>\n",
       "      <th>59</th>\n",
       "      <td>1.518394</td>\n",
       "      <td>Coldplay</td>\n",
       "    </tr>\n",
       "    <tr>\n",
       "      <th>167</th>\n",
       "      <td>1.514707</td>\n",
       "      <td>Placebo</td>\n",
       "    </tr>\n",
       "    <tr>\n",
       "      <th>45</th>\n",
       "      <td>1.496917</td>\n",
       "      <td>Duran Duran</td>\n",
       "    </tr>\n",
       "  </tbody>\n",
       "</table>\n",
       "</div>"
      ],
      "text/plain": [
       "     dot score        names\n",
       "223   2.186165  The Killers\n",
       "184   2.011312         Muse\n",
       "221   1.783245  The Beatles\n",
       "59    1.518394     Coldplay\n",
       "167   1.514707      Placebo\n",
       "45    1.496917  Duran Duran"
      ]
     },
     "metadata": {},
     "output_type": "display_data"
    },
    {
     "name": "stdout",
     "output_type": "stream",
     "text": [
      "Nearest neighbors of : The Killers.\n",
      "[Found more than one matching artist. Other candidates: Arctic Monkeys vs The Killers]\n"
     ]
    },
    {
     "data": {
      "text/html": [
       "<div>\n",
       "<style scoped>\n",
       "    .dataframe tbody tr th:only-of-type {\n",
       "        vertical-align: middle;\n",
       "    }\n",
       "\n",
       "    .dataframe tbody tr th {\n",
       "        vertical-align: top;\n",
       "    }\n",
       "\n",
       "    .dataframe thead th {\n",
       "        text-align: right;\n",
       "    }\n",
       "</style>\n",
       "<table border=\"1\" class=\"dataframe\">\n",
       "  <thead>\n",
       "    <tr style=\"text-align: right;\">\n",
       "      <th></th>\n",
       "      <th>cosine score</th>\n",
       "      <th>names</th>\n",
       "    </tr>\n",
       "  </thead>\n",
       "  <tbody>\n",
       "    <tr>\n",
       "      <th>223</th>\n",
       "      <td>1.000000</td>\n",
       "      <td>The Killers</td>\n",
       "    </tr>\n",
       "    <tr>\n",
       "      <th>1493</th>\n",
       "      <td>0.762569</td>\n",
       "      <td>Rooney</td>\n",
       "    </tr>\n",
       "    <tr>\n",
       "      <th>176</th>\n",
       "      <td>0.762555</td>\n",
       "      <td>Keane</td>\n",
       "    </tr>\n",
       "    <tr>\n",
       "      <th>960</th>\n",
       "      <td>0.755209</td>\n",
       "      <td>Kasabian</td>\n",
       "    </tr>\n",
       "    <tr>\n",
       "      <th>1146</th>\n",
       "      <td>0.726567</td>\n",
       "      <td>Hot Chip</td>\n",
       "    </tr>\n",
       "    <tr>\n",
       "      <th>4351</th>\n",
       "      <td>0.723640</td>\n",
       "      <td>The Bravery</td>\n",
       "    </tr>\n",
       "  </tbody>\n",
       "</table>\n",
       "</div>"
      ],
      "text/plain": [
       "      cosine score        names\n",
       "223       1.000000  The Killers\n",
       "1493      0.762569       Rooney\n",
       "176       0.762555        Keane\n",
       "960       0.755209     Kasabian\n",
       "1146      0.726567     Hot Chip\n",
       "4351      0.723640  The Bravery"
      ]
     },
     "metadata": {},
     "output_type": "display_data"
    },
    {
     "name": "stdout",
     "output_type": "stream",
     "text": [
      "Nearest neighbors of : Black Eyed Peas.\n",
      "[Found more than one matching artist. Other candidates: The Black Eyed Peas, Juanes feat.Black Eyed Peas]\n"
     ]
    },
    {
     "data": {
      "text/html": [
       "<div>\n",
       "<style scoped>\n",
       "    .dataframe tbody tr th:only-of-type {\n",
       "        vertical-align: middle;\n",
       "    }\n",
       "\n",
       "    .dataframe tbody tr th {\n",
       "        vertical-align: top;\n",
       "    }\n",
       "\n",
       "    .dataframe thead th {\n",
       "        text-align: right;\n",
       "    }\n",
       "</style>\n",
       "<table border=\"1\" class=\"dataframe\">\n",
       "  <thead>\n",
       "    <tr style=\"text-align: right;\">\n",
       "      <th></th>\n",
       "      <th>dot score</th>\n",
       "      <th>names</th>\n",
       "    </tr>\n",
       "  </thead>\n",
       "  <tbody>\n",
       "    <tr>\n",
       "      <th>283</th>\n",
       "      <td>1.622199</td>\n",
       "      <td>Britney Spears</td>\n",
       "    </tr>\n",
       "    <tr>\n",
       "      <th>282</th>\n",
       "      <td>1.153041</td>\n",
       "      <td>Rihanna</td>\n",
       "    </tr>\n",
       "    <tr>\n",
       "      <th>83</th>\n",
       "      <td>1.101440</td>\n",
       "      <td>Lady Gaga</td>\n",
       "    </tr>\n",
       "    <tr>\n",
       "      <th>61</th>\n",
       "      <td>0.982499</td>\n",
       "      <td>Madonna</td>\n",
       "    </tr>\n",
       "    <tr>\n",
       "      <th>327</th>\n",
       "      <td>0.897602</td>\n",
       "      <td>Avril Lavigne</td>\n",
       "    </tr>\n",
       "    <tr>\n",
       "      <th>221</th>\n",
       "      <td>0.883997</td>\n",
       "      <td>The Beatles</td>\n",
       "    </tr>\n",
       "  </tbody>\n",
       "</table>\n",
       "</div>"
      ],
      "text/plain": [
       "     dot score           names\n",
       "283   1.622199  Britney Spears\n",
       "282   1.153041         Rihanna\n",
       "83    1.101440       Lady Gaga\n",
       "61    0.982499         Madonna\n",
       "327   0.897602   Avril Lavigne\n",
       "221   0.883997     The Beatles"
      ]
     },
     "metadata": {},
     "output_type": "display_data"
    },
    {
     "name": "stdout",
     "output_type": "stream",
     "text": [
      "Nearest neighbors of : Black Eyed Peas.\n",
      "[Found more than one matching artist. Other candidates: The Black Eyed Peas, Juanes feat.Black Eyed Peas]\n"
     ]
    },
    {
     "data": {
      "text/html": [
       "<div>\n",
       "<style scoped>\n",
       "    .dataframe tbody tr th:only-of-type {\n",
       "        vertical-align: middle;\n",
       "    }\n",
       "\n",
       "    .dataframe tbody tr th {\n",
       "        vertical-align: top;\n",
       "    }\n",
       "\n",
       "    .dataframe thead th {\n",
       "        text-align: right;\n",
       "    }\n",
       "</style>\n",
       "<table border=\"1\" class=\"dataframe\">\n",
       "  <thead>\n",
       "    <tr style=\"text-align: right;\">\n",
       "      <th></th>\n",
       "      <th>cosine score</th>\n",
       "      <th>names</th>\n",
       "    </tr>\n",
       "  </thead>\n",
       "  <tbody>\n",
       "    <tr>\n",
       "      <th>300</th>\n",
       "      <td>1.000000</td>\n",
       "      <td>Black Eyed Peas</td>\n",
       "    </tr>\n",
       "    <tr>\n",
       "      <th>322</th>\n",
       "      <td>0.844094</td>\n",
       "      <td>David Guetta</td>\n",
       "    </tr>\n",
       "    <tr>\n",
       "      <th>539</th>\n",
       "      <td>0.815853</td>\n",
       "      <td>Flo Rida</td>\n",
       "    </tr>\n",
       "    <tr>\n",
       "      <th>292</th>\n",
       "      <td>0.811036</td>\n",
       "      <td>Lily Allen</td>\n",
       "    </tr>\n",
       "    <tr>\n",
       "      <th>323</th>\n",
       "      <td>0.795706</td>\n",
       "      <td>Justin Timberlake</td>\n",
       "    </tr>\n",
       "    <tr>\n",
       "      <th>479</th>\n",
       "      <td>0.794869</td>\n",
       "      <td>Kelis</td>\n",
       "    </tr>\n",
       "  </tbody>\n",
       "</table>\n",
       "</div>"
      ],
      "text/plain": [
       "     cosine score              names\n",
       "300      1.000000    Black Eyed Peas\n",
       "322      0.844094       David Guetta\n",
       "539      0.815853           Flo Rida\n",
       "292      0.811036         Lily Allen\n",
       "323      0.795706  Justin Timberlake\n",
       "479      0.794869              Kelis"
      ]
     },
     "metadata": {},
     "output_type": "display_data"
    },
    {
     "name": "stdout",
     "output_type": "stream",
     "text": [
      "Nearest neighbors of : Rihanna.\n",
      "[Found more than one matching artist. Other candidates: Rihanna (feat. Drake), Jay-Z, Bono, The Edge & Rihanna, RihannaÌ€, Sean Paul ft. Rihanna, Rihanna-remixado REnan, \\Eminem f_ Rihanna]\n"
     ]
    },
    {
     "data": {
      "text/html": [
       "<div>\n",
       "<style scoped>\n",
       "    .dataframe tbody tr th:only-of-type {\n",
       "        vertical-align: middle;\n",
       "    }\n",
       "\n",
       "    .dataframe tbody tr th {\n",
       "        vertical-align: top;\n",
       "    }\n",
       "\n",
       "    .dataframe thead th {\n",
       "        text-align: right;\n",
       "    }\n",
       "</style>\n",
       "<table border=\"1\" class=\"dataframe\">\n",
       "  <thead>\n",
       "    <tr style=\"text-align: right;\">\n",
       "      <th></th>\n",
       "      <th>dot score</th>\n",
       "      <th>names</th>\n",
       "    </tr>\n",
       "  </thead>\n",
       "  <tbody>\n",
       "    <tr>\n",
       "      <th>282</th>\n",
       "      <td>5.185256</td>\n",
       "      <td>Rihanna</td>\n",
       "    </tr>\n",
       "    <tr>\n",
       "      <th>283</th>\n",
       "      <td>3.600354</td>\n",
       "      <td>Britney Spears</td>\n",
       "    </tr>\n",
       "    <tr>\n",
       "      <th>83</th>\n",
       "      <td>3.346427</td>\n",
       "      <td>Lady Gaga</td>\n",
       "    </tr>\n",
       "    <tr>\n",
       "      <th>492</th>\n",
       "      <td>2.091759</td>\n",
       "      <td>Paramore</td>\n",
       "    </tr>\n",
       "    <tr>\n",
       "      <th>294</th>\n",
       "      <td>2.031574</td>\n",
       "      <td>Katy Perry</td>\n",
       "    </tr>\n",
       "    <tr>\n",
       "      <th>286</th>\n",
       "      <td>1.852469</td>\n",
       "      <td>Christina Aguilera</td>\n",
       "    </tr>\n",
       "  </tbody>\n",
       "</table>\n",
       "</div>"
      ],
      "text/plain": [
       "     dot score               names\n",
       "282   5.185256             Rihanna\n",
       "283   3.600354      Britney Spears\n",
       "83    3.346427           Lady Gaga\n",
       "492   2.091759            Paramore\n",
       "294   2.031574          Katy Perry\n",
       "286   1.852469  Christina Aguilera"
      ]
     },
     "metadata": {},
     "output_type": "display_data"
    },
    {
     "name": "stdout",
     "output_type": "stream",
     "text": [
      "Nearest neighbors of : Rihanna.\n",
      "[Found more than one matching artist. Other candidates: Rihanna (feat. Drake), Jay-Z, Bono, The Edge & Rihanna, RihannaÌ€, Sean Paul ft. Rihanna, Rihanna-remixado REnan, \\Eminem f_ Rihanna]\n"
     ]
    },
    {
     "data": {
      "text/html": [
       "<div>\n",
       "<style scoped>\n",
       "    .dataframe tbody tr th:only-of-type {\n",
       "        vertical-align: middle;\n",
       "    }\n",
       "\n",
       "    .dataframe tbody tr th {\n",
       "        vertical-align: top;\n",
       "    }\n",
       "\n",
       "    .dataframe thead th {\n",
       "        text-align: right;\n",
       "    }\n",
       "</style>\n",
       "<table border=\"1\" class=\"dataframe\">\n",
       "  <thead>\n",
       "    <tr style=\"text-align: right;\">\n",
       "      <th></th>\n",
       "      <th>cosine score</th>\n",
       "      <th>names</th>\n",
       "    </tr>\n",
       "  </thead>\n",
       "  <tbody>\n",
       "    <tr>\n",
       "      <th>282</th>\n",
       "      <td>1.000000</td>\n",
       "      <td>Rihanna</td>\n",
       "    </tr>\n",
       "    <tr>\n",
       "      <th>539</th>\n",
       "      <td>0.753068</td>\n",
       "      <td>Flo Rida</td>\n",
       "    </tr>\n",
       "    <tr>\n",
       "      <th>284</th>\n",
       "      <td>0.670805</td>\n",
       "      <td>Jordin Sparks</td>\n",
       "    </tr>\n",
       "    <tr>\n",
       "      <th>640</th>\n",
       "      <td>0.670176</td>\n",
       "      <td>RBD</td>\n",
       "    </tr>\n",
       "    <tr>\n",
       "      <th>2005</th>\n",
       "      <td>0.663199</td>\n",
       "      <td>Leighton Meester</td>\n",
       "    </tr>\n",
       "    <tr>\n",
       "      <th>343</th>\n",
       "      <td>0.662238</td>\n",
       "      <td>The Pussycat Dolls</td>\n",
       "    </tr>\n",
       "  </tbody>\n",
       "</table>\n",
       "</div>"
      ],
      "text/plain": [
       "      cosine score               names\n",
       "282       1.000000             Rihanna\n",
       "539       0.753068            Flo Rida\n",
       "284       0.670805       Jordin Sparks\n",
       "640       0.670176                 RBD\n",
       "2005      0.663199    Leighton Meester\n",
       "343       0.662238  The Pussycat Dolls"
      ]
     },
     "metadata": {},
     "output_type": "display_data"
    },
    {
     "name": "stdout",
     "output_type": "stream",
     "text": [
      "Nearest neighbors of : Gwen Stefani.\n",
      "[Found more than one matching artist. Other candidates: Panic! at the Disco feat. Britney Spears and Gwen Stefani]\n"
     ]
    },
    {
     "data": {
      "text/html": [
       "<div>\n",
       "<style scoped>\n",
       "    .dataframe tbody tr th:only-of-type {\n",
       "        vertical-align: middle;\n",
       "    }\n",
       "\n",
       "    .dataframe tbody tr th {\n",
       "        vertical-align: top;\n",
       "    }\n",
       "\n",
       "    .dataframe thead th {\n",
       "        text-align: right;\n",
       "    }\n",
       "</style>\n",
       "<table border=\"1\" class=\"dataframe\">\n",
       "  <thead>\n",
       "    <tr style=\"text-align: right;\">\n",
       "      <th></th>\n",
       "      <th>dot score</th>\n",
       "      <th>names</th>\n",
       "    </tr>\n",
       "  </thead>\n",
       "  <tbody>\n",
       "    <tr>\n",
       "      <th>283</th>\n",
       "      <td>1.137031</td>\n",
       "      <td>Britney Spears</td>\n",
       "    </tr>\n",
       "    <tr>\n",
       "      <th>83</th>\n",
       "      <td>0.773273</td>\n",
       "      <td>Lady Gaga</td>\n",
       "    </tr>\n",
       "    <tr>\n",
       "      <th>286</th>\n",
       "      <td>0.768911</td>\n",
       "      <td>Christina Aguilera</td>\n",
       "    </tr>\n",
       "    <tr>\n",
       "      <th>282</th>\n",
       "      <td>0.768826</td>\n",
       "      <td>Rihanna</td>\n",
       "    </tr>\n",
       "    <tr>\n",
       "      <th>61</th>\n",
       "      <td>0.747812</td>\n",
       "      <td>Madonna</td>\n",
       "    </tr>\n",
       "    <tr>\n",
       "      <th>673</th>\n",
       "      <td>0.724862</td>\n",
       "      <td>Glee Cast</td>\n",
       "    </tr>\n",
       "  </tbody>\n",
       "</table>\n",
       "</div>"
      ],
      "text/plain": [
       "     dot score               names\n",
       "283   1.137031      Britney Spears\n",
       "83    0.773273           Lady Gaga\n",
       "286   0.768911  Christina Aguilera\n",
       "282   0.768826             Rihanna\n",
       "61    0.747812             Madonna\n",
       "673   0.724862           Glee Cast"
      ]
     },
     "metadata": {},
     "output_type": "display_data"
    },
    {
     "name": "stdout",
     "output_type": "stream",
     "text": [
      "Nearest neighbors of : Gwen Stefani.\n",
      "[Found more than one matching artist. Other candidates: Panic! at the Disco feat. Britney Spears and Gwen Stefani]\n"
     ]
    },
    {
     "data": {
      "text/html": [
       "<div>\n",
       "<style scoped>\n",
       "    .dataframe tbody tr th:only-of-type {\n",
       "        vertical-align: middle;\n",
       "    }\n",
       "\n",
       "    .dataframe tbody tr th {\n",
       "        vertical-align: top;\n",
       "    }\n",
       "\n",
       "    .dataframe thead th {\n",
       "        text-align: right;\n",
       "    }\n",
       "</style>\n",
       "<table border=\"1\" class=\"dataframe\">\n",
       "  <thead>\n",
       "    <tr style=\"text-align: right;\">\n",
       "      <th></th>\n",
       "      <th>cosine score</th>\n",
       "      <th>names</th>\n",
       "    </tr>\n",
       "  </thead>\n",
       "  <tbody>\n",
       "    <tr>\n",
       "      <th>519</th>\n",
       "      <td>1.000000</td>\n",
       "      <td>Gwen Stefani</td>\n",
       "    </tr>\n",
       "    <tr>\n",
       "      <th>322</th>\n",
       "      <td>0.859870</td>\n",
       "      <td>David Guetta</td>\n",
       "    </tr>\n",
       "    <tr>\n",
       "      <th>284</th>\n",
       "      <td>0.858506</td>\n",
       "      <td>Jordin Sparks</td>\n",
       "    </tr>\n",
       "    <tr>\n",
       "      <th>459</th>\n",
       "      <td>0.849435</td>\n",
       "      <td>Jessica Simpson</td>\n",
       "    </tr>\n",
       "    <tr>\n",
       "      <th>529</th>\n",
       "      <td>0.833539</td>\n",
       "      <td>Sophie Ellis-Bextor</td>\n",
       "    </tr>\n",
       "    <tr>\n",
       "      <th>314</th>\n",
       "      <td>0.827926</td>\n",
       "      <td>Fergie</td>\n",
       "    </tr>\n",
       "  </tbody>\n",
       "</table>\n",
       "</div>"
      ],
      "text/plain": [
       "     cosine score                names\n",
       "519      1.000000         Gwen Stefani\n",
       "322      0.859870         David Guetta\n",
       "284      0.858506        Jordin Sparks\n",
       "459      0.849435      Jessica Simpson\n",
       "529      0.833539  Sophie Ellis-Bextor\n",
       "314      0.827926               Fergie"
      ]
     },
     "metadata": {},
     "output_type": "display_data"
    },
    {
     "name": "stdout",
     "output_type": "stream",
     "text": [
      "Nearest neighbors of : Eva Simons.\n",
      "[Found more than one matching artist. Other candidates: Afrojack ft. Eva Simons]\n"
     ]
    },
    {
     "data": {
      "text/html": [
       "<div>\n",
       "<style scoped>\n",
       "    .dataframe tbody tr th:only-of-type {\n",
       "        vertical-align: middle;\n",
       "    }\n",
       "\n",
       "    .dataframe tbody tr th {\n",
       "        vertical-align: top;\n",
       "    }\n",
       "\n",
       "    .dataframe thead th {\n",
       "        text-align: right;\n",
       "    }\n",
       "</style>\n",
       "<table border=\"1\" class=\"dataframe\">\n",
       "  <thead>\n",
       "    <tr style=\"text-align: right;\">\n",
       "      <th></th>\n",
       "      <th>dot score</th>\n",
       "      <th>names</th>\n",
       "    </tr>\n",
       "  </thead>\n",
       "  <tbody>\n",
       "    <tr>\n",
       "      <th>283</th>\n",
       "      <td>0.503081</td>\n",
       "      <td>Britney Spears</td>\n",
       "    </tr>\n",
       "    <tr>\n",
       "      <th>83</th>\n",
       "      <td>0.236004</td>\n",
       "      <td>Lady Gaga</td>\n",
       "    </tr>\n",
       "    <tr>\n",
       "      <th>286</th>\n",
       "      <td>0.232463</td>\n",
       "      <td>Christina Aguilera</td>\n",
       "    </tr>\n",
       "    <tr>\n",
       "      <th>673</th>\n",
       "      <td>0.231381</td>\n",
       "      <td>Glee Cast</td>\n",
       "    </tr>\n",
       "    <tr>\n",
       "      <th>338</th>\n",
       "      <td>0.222974</td>\n",
       "      <td>Taylor Swift</td>\n",
       "    </tr>\n",
       "    <tr>\n",
       "      <th>251</th>\n",
       "      <td>0.219168</td>\n",
       "      <td>Mariah Carey</td>\n",
       "    </tr>\n",
       "  </tbody>\n",
       "</table>\n",
       "</div>"
      ],
      "text/plain": [
       "     dot score               names\n",
       "283   0.503081      Britney Spears\n",
       "83    0.236004           Lady Gaga\n",
       "286   0.232463  Christina Aguilera\n",
       "673   0.231381           Glee Cast\n",
       "338   0.222974        Taylor Swift\n",
       "251   0.219168        Mariah Carey"
      ]
     },
     "metadata": {},
     "output_type": "display_data"
    },
    {
     "name": "stdout",
     "output_type": "stream",
     "text": [
      "Nearest neighbors of : Eva Simons.\n",
      "[Found more than one matching artist. Other candidates: Afrojack ft. Eva Simons]\n"
     ]
    },
    {
     "data": {
      "text/html": [
       "<div>\n",
       "<style scoped>\n",
       "    .dataframe tbody tr th:only-of-type {\n",
       "        vertical-align: middle;\n",
       "    }\n",
       "\n",
       "    .dataframe tbody tr th {\n",
       "        vertical-align: top;\n",
       "    }\n",
       "\n",
       "    .dataframe thead th {\n",
       "        text-align: right;\n",
       "    }\n",
       "</style>\n",
       "<table border=\"1\" class=\"dataframe\">\n",
       "  <thead>\n",
       "    <tr style=\"text-align: right;\">\n",
       "      <th></th>\n",
       "      <th>cosine score</th>\n",
       "      <th>names</th>\n",
       "    </tr>\n",
       "  </thead>\n",
       "  <tbody>\n",
       "    <tr>\n",
       "      <th>1432</th>\n",
       "      <td>1.000000</td>\n",
       "      <td>Eva Simons</td>\n",
       "    </tr>\n",
       "    <tr>\n",
       "      <th>295</th>\n",
       "      <td>0.712249</td>\n",
       "      <td>Alicia Keys</td>\n",
       "    </tr>\n",
       "    <tr>\n",
       "      <th>308</th>\n",
       "      <td>0.673509</td>\n",
       "      <td>Ciara</td>\n",
       "    </tr>\n",
       "    <tr>\n",
       "      <th>517</th>\n",
       "      <td>0.656303</td>\n",
       "      <td>Lindsay Lohan</td>\n",
       "    </tr>\n",
       "    <tr>\n",
       "      <th>3796</th>\n",
       "      <td>0.648124</td>\n",
       "      <td>Atif Aslam</td>\n",
       "    </tr>\n",
       "    <tr>\n",
       "      <th>777</th>\n",
       "      <td>0.646911</td>\n",
       "      <td>Mandy Moore</td>\n",
       "    </tr>\n",
       "  </tbody>\n",
       "</table>\n",
       "</div>"
      ],
      "text/plain": [
       "      cosine score          names\n",
       "1432      1.000000     Eva Simons\n",
       "295       0.712249    Alicia Keys\n",
       "308       0.673509          Ciara\n",
       "517       0.656303  Lindsay Lohan\n",
       "3796      0.648124     Atif Aslam\n",
       "777       0.646911    Mandy Moore"
      ]
     },
     "metadata": {},
     "output_type": "display_data"
    }
   ],
   "source": [
    "for art in range(len(artist_grp)):\n",
    "    artist_neighbors(reg_model, artist_grp[art], DOT)\n",
    "    artist_neighbors(reg_model, artist_grp[art], COSINE)"
   ]
  },
  {
   "cell_type": "markdown",
   "id": "d76da7b0",
   "metadata": {},
   "source": [
    "These are actually very good recommendations produced by our recommender system based off each users unique normalised values based on the highest listened value they obtained. Our reg_model is much superior on initial inspection than our standard model with much better recommendations all around. "
   ]
  },
  {
   "cell_type": "markdown",
   "id": "4fe4e306",
   "metadata": {},
   "source": [
    "# Alternate method - Recommender based on Neural Network"
   ]
  },
  {
   "cell_type": "markdown",
   "id": "daab35d1",
   "metadata": {},
   "source": [
    "Here we will try to implement another type of recommender system and see does it produce equally as good of results. Our alternate model is based off a neural network to make predictions for users based off listening numbers. As per this article on [Investopedia](https://www.investopedia.com/terms/n/neuralnetwork.asp#:~:text=A%20neural%20network%20is%20a,way%20the%20human%20brain%20operates.&text=Neural%20networks%20can%20adapt%20to,to%20redesign%20the%20output%20criteria.) , a neural network is a series of algorithms that endeavors to recognize underlying relationships in a set of data through a process that mimics the way the human brain operates. Neural networks can adapt to changing input; so the network generates the best possible result without needing to redesign the output criteria. This will help us uncover any listening patterns found in our data by users."
   ]
  },
  {
   "cell_type": "code",
   "execution_count": 127,
   "id": "48ff59c9",
   "metadata": {},
   "outputs": [],
   "source": [
    "sub = played[['userID', 'artID', 'playedUserNorm']]"
   ]
  },
  {
   "cell_type": "code",
   "execution_count": 128,
   "id": "5ec8c7f0",
   "metadata": {},
   "outputs": [
    {
     "data": {
      "text/html": [
       "<div>\n",
       "<style scoped>\n",
       "    .dataframe tbody tr th:only-of-type {\n",
       "        vertical-align: middle;\n",
       "    }\n",
       "\n",
       "    .dataframe tbody tr th {\n",
       "        vertical-align: top;\n",
       "    }\n",
       "\n",
       "    .dataframe thead th {\n",
       "        text-align: right;\n",
       "    }\n",
       "</style>\n",
       "<table border=\"1\" class=\"dataframe\">\n",
       "  <thead>\n",
       "    <tr style=\"text-align: right;\">\n",
       "      <th></th>\n",
       "      <th>userID</th>\n",
       "      <th>artID</th>\n",
       "      <th>playedUserNorm</th>\n",
       "    </tr>\n",
       "  </thead>\n",
       "  <tbody>\n",
       "    <tr>\n",
       "      <th>0</th>\n",
       "      <td>31</td>\n",
       "      <td>0</td>\n",
       "      <td>0.055775</td>\n",
       "    </tr>\n",
       "    <tr>\n",
       "      <th>1</th>\n",
       "      <td>256</td>\n",
       "      <td>0</td>\n",
       "      <td>0.065394</td>\n",
       "    </tr>\n",
       "    <tr>\n",
       "      <th>2</th>\n",
       "      <td>729</td>\n",
       "      <td>0</td>\n",
       "      <td>0.025149</td>\n",
       "    </tr>\n",
       "    <tr>\n",
       "      <th>3</th>\n",
       "      <td>130</td>\n",
       "      <td>1</td>\n",
       "      <td>0.150902</td>\n",
       "    </tr>\n",
       "    <tr>\n",
       "      <th>4</th>\n",
       "      <td>240</td>\n",
       "      <td>1</td>\n",
       "      <td>0.154315</td>\n",
       "    </tr>\n",
       "  </tbody>\n",
       "</table>\n",
       "</div>"
      ],
      "text/plain": [
       "   userID  artID  playedUserNorm\n",
       "0      31      0        0.055775\n",
       "1     256      0        0.065394\n",
       "2     729      0        0.025149\n",
       "3     130      1        0.150902\n",
       "4     240      1        0.154315"
      ]
     },
     "execution_count": 128,
     "metadata": {},
     "output_type": "execute_result"
    }
   ],
   "source": [
    "sub.head()"
   ]
  },
  {
   "cell_type": "code",
   "execution_count": 129,
   "id": "d918f570",
   "metadata": {},
   "outputs": [],
   "source": [
    "train, test = train_test_split(sub, test_size=0.3, train_size=0.7)"
   ]
  },
  {
   "cell_type": "code",
   "execution_count": 130,
   "id": "27c4e8b4",
   "metadata": {},
   "outputs": [
    {
     "data": {
      "text/html": [
       "<div>\n",
       "<style scoped>\n",
       "    .dataframe tbody tr th:only-of-type {\n",
       "        vertical-align: middle;\n",
       "    }\n",
       "\n",
       "    .dataframe tbody tr th {\n",
       "        vertical-align: top;\n",
       "    }\n",
       "\n",
       "    .dataframe thead th {\n",
       "        text-align: right;\n",
       "    }\n",
       "</style>\n",
       "<table border=\"1\" class=\"dataframe\">\n",
       "  <thead>\n",
       "    <tr style=\"text-align: right;\">\n",
       "      <th></th>\n",
       "      <th>userID</th>\n",
       "      <th>artID</th>\n",
       "      <th>playedUserNorm</th>\n",
       "    </tr>\n",
       "  </thead>\n",
       "  <tbody>\n",
       "    <tr>\n",
       "      <th>66560</th>\n",
       "      <td>1136</td>\n",
       "      <td>3602</td>\n",
       "      <td>0.049766</td>\n",
       "    </tr>\n",
       "    <tr>\n",
       "      <th>31594</th>\n",
       "      <td>1418</td>\n",
       "      <td>640</td>\n",
       "      <td>0.091278</td>\n",
       "    </tr>\n",
       "    <tr>\n",
       "      <th>91993</th>\n",
       "      <td>1750</td>\n",
       "      <td>16804</td>\n",
       "      <td>0.092032</td>\n",
       "    </tr>\n",
       "    <tr>\n",
       "      <th>7877</th>\n",
       "      <td>1857</td>\n",
       "      <td>192</td>\n",
       "      <td>0.264220</td>\n",
       "    </tr>\n",
       "    <tr>\n",
       "      <th>75847</th>\n",
       "      <td>1719</td>\n",
       "      <td>6281</td>\n",
       "      <td>0.001217</td>\n",
       "    </tr>\n",
       "  </tbody>\n",
       "</table>\n",
       "</div>"
      ],
      "text/plain": [
       "       userID  artID  playedUserNorm\n",
       "66560    1136   3602        0.049766\n",
       "31594    1418    640        0.091278\n",
       "91993    1750  16804        0.092032\n",
       "7877     1857    192        0.264220\n",
       "75847    1719   6281        0.001217"
      ]
     },
     "execution_count": 130,
     "metadata": {},
     "output_type": "execute_result"
    }
   ],
   "source": [
    "train.head()"
   ]
  },
  {
   "cell_type": "code",
   "execution_count": 131,
   "id": "3c78275b",
   "metadata": {},
   "outputs": [
    {
     "data": {
      "text/html": [
       "<div>\n",
       "<style scoped>\n",
       "    .dataframe tbody tr th:only-of-type {\n",
       "        vertical-align: middle;\n",
       "    }\n",
       "\n",
       "    .dataframe tbody tr th {\n",
       "        vertical-align: top;\n",
       "    }\n",
       "\n",
       "    .dataframe thead th {\n",
       "        text-align: right;\n",
       "    }\n",
       "</style>\n",
       "<table border=\"1\" class=\"dataframe\">\n",
       "  <thead>\n",
       "    <tr style=\"text-align: right;\">\n",
       "      <th></th>\n",
       "      <th>userID</th>\n",
       "      <th>artID</th>\n",
       "      <th>playedUserNorm</th>\n",
       "    </tr>\n",
       "  </thead>\n",
       "  <tbody>\n",
       "    <tr>\n",
       "      <th>15676</th>\n",
       "      <td>1656</td>\n",
       "      <td>293</td>\n",
       "      <td>0.087950</td>\n",
       "    </tr>\n",
       "    <tr>\n",
       "      <th>91736</th>\n",
       "      <td>1719</td>\n",
       "      <td>16553</td>\n",
       "      <td>0.001089</td>\n",
       "    </tr>\n",
       "    <tr>\n",
       "      <th>34497</th>\n",
       "      <td>1419</td>\n",
       "      <td>712</td>\n",
       "      <td>0.223278</td>\n",
       "    </tr>\n",
       "    <tr>\n",
       "      <th>47258</th>\n",
       "      <td>67</td>\n",
       "      <td>1341</td>\n",
       "      <td>0.088405</td>\n",
       "    </tr>\n",
       "    <tr>\n",
       "      <th>20202</th>\n",
       "      <td>289</td>\n",
       "      <td>346</td>\n",
       "      <td>0.198760</td>\n",
       "    </tr>\n",
       "  </tbody>\n",
       "</table>\n",
       "</div>"
      ],
      "text/plain": [
       "       userID  artID  playedUserNorm\n",
       "15676    1656    293        0.087950\n",
       "91736    1719  16553        0.001089\n",
       "34497    1419    712        0.223278\n",
       "47258      67   1341        0.088405\n",
       "20202     289    346        0.198760"
      ]
     },
     "execution_count": 131,
     "metadata": {},
     "output_type": "execute_result"
    }
   ],
   "source": [
    "test.head()"
   ]
  },
  {
   "cell_type": "code",
   "execution_count": 132,
   "id": "fa392270",
   "metadata": {},
   "outputs": [
    {
     "data": {
      "text/plain": [
       "1892"
      ]
     },
     "execution_count": 132,
     "metadata": {},
     "output_type": "execute_result"
    }
   ],
   "source": [
    "n_users = len(sub.userID.unique())\n",
    "n_users"
   ]
  },
  {
   "cell_type": "code",
   "execution_count": 133,
   "id": "0325210f",
   "metadata": {},
   "outputs": [
    {
     "data": {
      "text/plain": [
       "17632"
      ]
     },
     "execution_count": 133,
     "metadata": {},
     "output_type": "execute_result"
    }
   ],
   "source": [
    "n_artist = len(sub.artID.unique())\n",
    "n_artist"
   ]
  },
  {
   "cell_type": "code",
   "execution_count": 134,
   "id": "74ac60ab",
   "metadata": {},
   "outputs": [],
   "source": [
    "# creating artist embedding path\n",
    "artist_input = Input(shape=[1], name=\"Artist-Input\")\n",
    "artist_embedding = Embedding(n_artist + 1, 5, name=\"Artist-Embedding\")(artist_input)\n",
    "artist_vec = Flatten(name=\"Flatten-Artist\")(artist_embedding)\n",
    "\n",
    "# creating user embedding path\n",
    "user_input = Input(shape=[1], name=\"User-Input\")\n",
    "user_embedding = Embedding(n_users + 1, 5, name=\"User-Embedding\")(user_input)\n",
    "user_vec = Flatten(name=\"Flatten-Users\")(user_embedding)\n",
    "\n",
    "# performing dot product and creating model\n",
    "prod = Dot(name=\"Dot-Product\", axes=1)([artist_vec, user_vec])\n",
    "model = Model([user_input, artist_input], prod)\n",
    "model.compile('adam', 'mean_squared_error')"
   ]
  },
  {
   "cell_type": "code",
   "execution_count": 135,
   "id": "5442969c",
   "metadata": {},
   "outputs": [],
   "source": [
    "from keras.models import load_model\n",
    "\n",
    "if os.path.exists('regression_model.h5'):\n",
    "    model = load_model('regression_model.h5')\n",
    "else:\n",
    "    history = model.fit([train.userID, train.artID], train.playedUserNorm, epochs=5, verbose=1)\n",
    "    model.save('regression_model.h5')\n",
    "    plt.plot(history.history['loss'])\n",
    "    plt.xlabel(\"Epochs\")\n",
    "    plt.ylabel(\"Training Error\")"
   ]
  },
  {
   "cell_type": "code",
   "execution_count": 136,
   "id": "d55e6f86",
   "metadata": {},
   "outputs": [
    {
     "data": {
      "text/plain": [
       "11.677778882597863"
      ]
     },
     "execution_count": 136,
     "metadata": {},
     "output_type": "execute_result"
    }
   ],
   "source": [
    "model.evaluate([test.userID, test.artID], test.playedUserNorm)"
   ]
  },
  {
   "cell_type": "code",
   "execution_count": 137,
   "id": "e1e1b9e8",
   "metadata": {},
   "outputs": [
    {
     "name": "stdout",
     "output_type": "stream",
     "text": [
      "[7.8598976] 0.08795013850415513\n",
      "[0.12788406] 0.0010892401677662436\n",
      "[2.961723] 0.22327790973871733\n",
      "[1.1492586] 0.08840486867392697\n",
      "[4.0251484] 0.19876038878715313\n",
      "[0.8445718] 0.21489682939104177\n",
      "[2.381881] 0.019560492634629317\n",
      "[3.269423] 0.5192012288786483\n",
      "[2.6087484] 0.03307766059443912\n",
      "[5.5664124] 0.6111338853816513\n"
     ]
    },
    {
     "data": {
      "text/plain": [
       "[None, None, None, None, None, None, None, None, None, None]"
      ]
     },
     "execution_count": 137,
     "metadata": {},
     "output_type": "execute_result"
    }
   ],
   "source": [
    "predictions = model.predict([test.userID.head(10), test.artID.head(10)])\n",
    "\n",
    "[print(predictions[i], test.playedUserNorm.iloc[i]) for i in range(0,10)]"
   ]
  },
  {
   "cell_type": "markdown",
   "id": "6486925c",
   "metadata": {},
   "source": [
    "# Neural Network"
   ]
  },
  {
   "cell_type": "code",
   "execution_count": 138,
   "id": "358de26b",
   "metadata": {},
   "outputs": [],
   "source": [
    "# creating book embedding path\n",
    "artist_input = Input(shape=[1], name=\"Artist-Input\")\n",
    "artist_embedding = Embedding(n_artist + 1, 5, name=\"Artist-Embedding\")(artist_input)\n",
    "artist_vec = Flatten(name=\"Flatten-Artists\")(artist_embedding)\n",
    "\n",
    "# creating user embedding path\n",
    "user_input = Input(shape=[1], name=\"User-Input\")\n",
    "user_embedding = Embedding(n_users + 1, 5, name=\"User-Embedding\")(user_input)\n",
    "user_vec = Flatten(name=\"Flatten-Users\")(user_embedding)\n",
    "\n",
    "# concatenate features\n",
    "conc = Concatenate()([artist_vec, user_vec])\n",
    "\n",
    "# add fully-connected-layers\n",
    "fc1 = Dense(128, activation='relu')(conc)\n",
    "fc2 = Dense(32, activation='relu')(fc1)\n",
    "out = Dense(1)(fc2)\n",
    "\n",
    "# Create model and compile it\n",
    "model2 = Model([user_input, artist_input], out)\n",
    "model2.compile('adam', 'mean_squared_error')"
   ]
  },
  {
   "cell_type": "code",
   "execution_count": 139,
   "id": "0ed0d497",
   "metadata": {},
   "outputs": [],
   "source": [
    "from keras.models import load_model\n",
    "\n",
    "if os.path.exists('regression_model2.h5'):\n",
    "    model2 = load_model('regression_model2.h5')\n",
    "else:\n",
    "    history = model2.fit([train.userID, train.artID], train.playedUserNorm, epochs=5, verbose=1)\n",
    "    model2.save('regression_model2.h5')\n",
    "    plt.plot(history.history['loss'])\n",
    "    plt.xlabel(\"Epochs\")\n",
    "    plt.ylabel(\"Training Error\")"
   ]
  },
  {
   "cell_type": "code",
   "execution_count": 140,
   "id": "65147267",
   "metadata": {},
   "outputs": [
    {
     "data": {
      "text/plain": [
       "1864934.9903235072"
      ]
     },
     "execution_count": 140,
     "metadata": {},
     "output_type": "execute_result"
    }
   ],
   "source": [
    "model2.evaluate([test.userID, test.artID], test.playedUserNorm)"
   ]
  },
  {
   "cell_type": "code",
   "execution_count": 141,
   "id": "41d82ff9",
   "metadata": {},
   "outputs": [
    {
     "name": "stdout",
     "output_type": "stream",
     "text": [
      "[343.342] 0.08795013850415513\n",
      "[1713.7008] 0.0010892401677662436\n",
      "[286.21298] 0.22327790973871733\n",
      "[272.53452] 0.08840486867392697\n",
      "[417.40308] 0.19876038878715313\n",
      "[290.7295] 0.21489682939104177\n",
      "[253.49243] 0.019560492634629317\n",
      "[312.4691] 0.5192012288786483\n",
      "[473.30692] 0.03307766059443912\n",
      "[373.34338] 0.6111338853816513\n"
     ]
    },
    {
     "data": {
      "text/plain": [
       "[None, None, None, None, None, None, None, None, None, None]"
      ]
     },
     "execution_count": 141,
     "metadata": {},
     "output_type": "execute_result"
    }
   ],
   "source": [
    "predictions = model2.predict([test.userID.head(10), test.artID.head(10)])\n",
    "\n",
    "[print(predictions[i], test.playedUserNorm.iloc[i]) for i in range(0,10)]"
   ]
  },
  {
   "cell_type": "markdown",
   "id": "16b92489",
   "metadata": {},
   "source": [
    "# Visualizing Embeddings"
   ]
  },
  {
   "cell_type": "markdown",
   "id": "201ca9d8",
   "metadata": {},
   "source": [
    "Next, we will visualize our artist embeddings. As per this article [here](https://towardsdatascience.com/recommender-systems-from-learned-embeddings-f1d12288f278), embeddings can be defined as \"vector representations of an entity. Each item in the vector represents a feature or a combination of features for that entity\"."
   ]
  },
  {
   "cell_type": "code",
   "execution_count": 142,
   "id": "1727d913",
   "metadata": {},
   "outputs": [],
   "source": [
    "# Extract embeddings\n",
    "artist_em = model.get_layer(\"Artist-Embedding\")\n",
    "artist_em_weights = artist_em.get_weights()[0]"
   ]
  },
  {
   "cell_type": "code",
   "execution_count": 143,
   "id": "cb016b45",
   "metadata": {},
   "outputs": [
    {
     "data": {
      "text/plain": [
       "array([[ 0.04103883, -0.2710777 ,  0.28193265,  0.01121594, -0.21962109],\n",
       "       [ 0.42227656, -0.44878516,  0.46648487, -0.12221594, -0.40105212],\n",
       "       [-0.18079431, -0.13342255,  0.1553544 , -0.3333101 , -0.00778394],\n",
       "       [ 0.150518  , -0.19249448,  0.1592992 ,  0.12258738, -0.12723902],\n",
       "       [ 0.2513393 , -0.21272472,  0.1814355 , -0.22018886, -0.13649407]],\n",
       "      dtype=float32)"
      ]
     },
     "execution_count": 143,
     "metadata": {},
     "output_type": "execute_result"
    }
   ],
   "source": [
    "artist_em_weights[:5]"
   ]
  },
  {
   "cell_type": "code",
   "execution_count": 144,
   "id": "4d52fb49",
   "metadata": {},
   "outputs": [
    {
     "data": {
      "text/plain": [
       "<AxesSubplot:>"
      ]
     },
     "execution_count": 144,
     "metadata": {},
     "output_type": "execute_result"
    },
    {
     "data": {
      "image/png": "[encoded data removed]",
      "text/plain": [
       "<Figure size 432x288 with 1 Axes>"
      ]
     },
     "metadata": {
      "needs_background": "light"
     },
     "output_type": "display_data"
    }
   ],
   "source": [
    "from sklearn.decomposition import PCA\n",
    "import seaborn as sns\n",
    "\n",
    "pca = PCA(n_components=2)\n",
    "pca_result = pca.fit_transform(artist_em_weights)\n",
    "sns.scatterplot(x=pca_result[:,0], y=pca_result[:,1])"
   ]
  },
  {
   "cell_type": "code",
   "execution_count": 145,
   "id": "8eddbb66",
   "metadata": {},
   "outputs": [
    {
     "data": {
      "text/plain": [
       "1.0"
      ]
     },
     "execution_count": 145,
     "metadata": {},
     "output_type": "execute_result"
    }
   ],
   "source": [
    "artist_em_weights = artist_em_weights / np.linalg.norm(artist_em_weights, axis = 1).reshape((-1, 1))\n",
    "artist_em_weights[0][:10]\n",
    "np.sum(np.square(artist_em_weights[0]))"
   ]
  },
  {
   "cell_type": "code",
   "execution_count": 146,
   "id": "129e3135",
   "metadata": {},
   "outputs": [
    {
     "data": {
      "text/plain": [
       "<AxesSubplot:>"
      ]
     },
     "execution_count": 146,
     "metadata": {},
     "output_type": "execute_result"
    },
    {
     "data": {
      "image/png": "[encoded data removed]",
      "text/plain": [
       "<Figure size 432x288 with 1 Axes>"
      ]
     },
     "metadata": {
      "needs_background": "light"
     },
     "output_type": "display_data"
    }
   ],
   "source": [
    "pca = PCA(n_components=2)\n",
    "pca_result = pca.fit_transform(artist_em_weights)\n",
    "sns.scatterplot(x=pca_result[:,0], y=pca_result[:,1])"
   ]
  },
  {
   "cell_type": "code",
   "execution_count": 147,
   "id": "f6e9d8c3",
   "metadata": {},
   "outputs": [
    {
     "name": "stderr",
     "output_type": "stream",
     "text": [
      "C:\\Users\\user\\anaconda3\\lib\\site-packages\\sklearn\\manifold\\_t_sne.py:780: FutureWarning: The default initialization in TSNE will change from 'random' to 'pca' in 1.2.\n",
      "  warnings.warn(\n",
      "C:\\Users\\user\\anaconda3\\lib\\site-packages\\sklearn\\manifold\\_t_sne.py:790: FutureWarning: The default learning rate in TSNE will change from 200.0 to 'auto' in 1.2.\n",
      "  warnings.warn(\n"
     ]
    },
    {
     "name": "stdout",
     "output_type": "stream",
     "text": [
      "[t-SNE] Computing 121 nearest neighbors...\n",
      "[t-SNE] Indexed 17633 samples in 0.046s...\n",
      "[t-SNE] Computed neighbors for 17633 samples in 1.362s...\n",
      "[t-SNE] Computed conditional probabilities for sample 1000 / 17633\n",
      "[t-SNE] Computed conditional probabilities for sample 2000 / 17633\n",
      "[t-SNE] Computed conditional probabilities for sample 3000 / 17633\n",
      "[t-SNE] Computed conditional probabilities for sample 4000 / 17633\n",
      "[t-SNE] Computed conditional probabilities for sample 5000 / 17633\n",
      "[t-SNE] Computed conditional probabilities for sample 6000 / 17633\n",
      "[t-SNE] Computed conditional probabilities for sample 7000 / 17633\n",
      "[t-SNE] Computed conditional probabilities for sample 8000 / 17633\n",
      "[t-SNE] Computed conditional probabilities for sample 9000 / 17633\n",
      "[t-SNE] Computed conditional probabilities for sample 10000 / 17633\n",
      "[t-SNE] Computed conditional probabilities for sample 11000 / 17633\n",
      "[t-SNE] Computed conditional probabilities for sample 12000 / 17633\n",
      "[t-SNE] Computed conditional probabilities for sample 13000 / 17633\n",
      "[t-SNE] Computed conditional probabilities for sample 14000 / 17633\n",
      "[t-SNE] Computed conditional probabilities for sample 15000 / 17633\n",
      "[t-SNE] Computed conditional probabilities for sample 16000 / 17633\n",
      "[t-SNE] Computed conditional probabilities for sample 17000 / 17633\n",
      "[t-SNE] Computed conditional probabilities for sample 17633 / 17633\n",
      "[t-SNE] Mean sigma: 0.059542\n",
      "[t-SNE] KL divergence after 250 iterations with early exaggeration: 85.865356\n",
      "[t-SNE] KL divergence after 300 iterations: 3.412692\n"
     ]
    }
   ],
   "source": [
    "from sklearn.manifold import TSNE\n",
    "\n",
    "tsne = TSNE(n_components=2, verbose=1, perplexity=40, n_iter=300)\n",
    "tnse_results = tsne.fit_transform(artist_em_weights)"
   ]
  },
  {
   "cell_type": "code",
   "execution_count": 148,
   "id": "863e3b9a",
   "metadata": {},
   "outputs": [
    {
     "data": {
      "text/plain": [
       "<AxesSubplot:>"
      ]
     },
     "execution_count": 148,
     "metadata": {},
     "output_type": "execute_result"
    },
    {
     "data": {
      "image/png": "[encoded data removed]",
      "text/plain": [
       "<Figure size 432x288 with 1 Axes>"
      ]
     },
     "metadata": {
      "needs_background": "light"
     },
     "output_type": "display_data"
    }
   ],
   "source": [
    "sns.scatterplot(x=tnse_results[:,0], y=tnse_results[:,1])"
   ]
  },
  {
   "cell_type": "markdown",
   "id": "319dc8f9",
   "metadata": {},
   "source": [
    "# Making Recommendations"
   ]
  },
  {
   "cell_type": "code",
   "execution_count": 149,
   "id": "f938eeb5",
   "metadata": {},
   "outputs": [
    {
     "data": {
      "text/plain": [
       "array([    0,     1,     2, ..., 17629, 17630, 17631])"
      ]
     },
     "execution_count": 149,
     "metadata": {},
     "output_type": "execute_result"
    }
   ],
   "source": [
    "# Creating dataset for making recommendations for a user\n",
    "artist_data = np.array(list(set(sub.artID)))\n",
    "artist_data"
   ]
  },
  {
   "cell_type": "markdown",
   "id": "8f713eef",
   "metadata": {},
   "source": [
    "Let's pick a random user to generate recommendations for. We will go with the user of ID equalling 83."
   ]
  },
  {
   "cell_type": "code",
   "execution_count": 150,
   "id": "2c42c40e",
   "metadata": {},
   "outputs": [
    {
     "data": {
      "text/plain": [
       "array([83, 83, 83, ..., 83, 83, 83])"
      ]
     },
     "execution_count": 150,
     "metadata": {},
     "output_type": "execute_result"
    }
   ],
   "source": [
    "user = np.array([83 for i in range(len(artist_data))])\n",
    "user"
   ]
  },
  {
   "cell_type": "code",
   "execution_count": 151,
   "id": "8d3f4773",
   "metadata": {},
   "outputs": [
    {
     "data": {
      "text/plain": [
       "array([8131, 8135, 8324, 2754, 8139], dtype=int64)"
      ]
     },
     "execution_count": 151,
     "metadata": {},
     "output_type": "execute_result"
    }
   ],
   "source": [
    "predictions = model.predict([user, artist_data])\n",
    "\n",
    "predictions = np.array([a[0] for a in predictions])\n",
    "\n",
    "recommended_artist_ids = (predictions).argsort()[:5]\n",
    "\n",
    "recommended_artist_ids"
   ]
  },
  {
   "cell_type": "code",
   "execution_count": 152,
   "id": "0cbdee13",
   "metadata": {},
   "outputs": [
    {
     "data": {
      "text/plain": [
       "array([-1.1105492 , -1.0870131 , -1.0431927 , -0.9887378 , -0.98679465],\n",
       "      dtype=float32)"
      ]
     },
     "execution_count": 152,
     "metadata": {},
     "output_type": "execute_result"
    }
   ],
   "source": [
    "predictions[recommended_artist_ids]"
   ]
  },
  {
   "cell_type": "code",
   "execution_count": 153,
   "id": "280831a1",
   "metadata": {},
   "outputs": [
    {
     "data": {
      "text/html": [
       "<div>\n",
       "<style scoped>\n",
       "    .dataframe tbody tr th:only-of-type {\n",
       "        vertical-align: middle;\n",
       "    }\n",
       "\n",
       "    .dataframe tbody tr th {\n",
       "        vertical-align: top;\n",
       "    }\n",
       "\n",
       "    .dataframe thead th {\n",
       "        text-align: right;\n",
       "    }\n",
       "</style>\n",
       "<table border=\"1\" class=\"dataframe\">\n",
       "  <thead>\n",
       "    <tr style=\"text-align: right;\">\n",
       "      <th></th>\n",
       "      <th>name</th>\n",
       "      <th>url</th>\n",
       "      <th>pictureURL</th>\n",
       "      <th>artID</th>\n",
       "    </tr>\n",
       "  </thead>\n",
       "  <tbody>\n",
       "    <tr>\n",
       "      <th>2754</th>\n",
       "      <td>Dark Funeral</td>\n",
       "      <td>http://www.last.fm/music/Dark+Funeral</td>\n",
       "      <td>http://userserve-ak.last.fm/serve/252/13074411...</td>\n",
       "      <td>2754</td>\n",
       "    </tr>\n",
       "    <tr>\n",
       "      <th>8131</th>\n",
       "      <td>Nahash</td>\n",
       "      <td>http://www.last.fm/music/Nahash</td>\n",
       "      <td>http://userserve-ak.last.fm/serve/252/93322.jpg</td>\n",
       "      <td>8131</td>\n",
       "    </tr>\n",
       "    <tr>\n",
       "      <th>8135</th>\n",
       "      <td>Krabaras</td>\n",
       "      <td>http://www.last.fm/music/Krabaras</td>\n",
       "      <td>http://userserve-ak.last.fm/serve/252/44372179...</td>\n",
       "      <td>8135</td>\n",
       "    </tr>\n",
       "    <tr>\n",
       "      <th>8139</th>\n",
       "      <td>Luctus</td>\n",
       "      <td>http://www.last.fm/music/Luctus</td>\n",
       "      <td>http://userserve-ak.last.fm/serve/252/8688989.jpg</td>\n",
       "      <td>8139</td>\n",
       "    </tr>\n",
       "    <tr>\n",
       "      <th>8324</th>\n",
       "      <td>Dissimulation</td>\n",
       "      <td>http://www.last.fm/music/Dissimulation</td>\n",
       "      <td>http://userserve-ak.last.fm/serve/252/16340589...</td>\n",
       "      <td>8324</td>\n",
       "    </tr>\n",
       "  </tbody>\n",
       "</table>\n",
       "</div>"
      ],
      "text/plain": [
       "               name                                     url  \\\n",
       "2754   Dark Funeral   http://www.last.fm/music/Dark+Funeral   \n",
       "8131         Nahash         http://www.last.fm/music/Nahash   \n",
       "8135       Krabaras       http://www.last.fm/music/Krabaras   \n",
       "8139         Luctus         http://www.last.fm/music/Luctus   \n",
       "8324  Dissimulation  http://www.last.fm/music/Dissimulation   \n",
       "\n",
       "                                             pictureURL  artID  \n",
       "2754  http://userserve-ak.last.fm/serve/252/13074411...   2754  \n",
       "8131    http://userserve-ak.last.fm/serve/252/93322.jpg   8131  \n",
       "8135  http://userserve-ak.last.fm/serve/252/44372179...   8135  \n",
       "8139  http://userserve-ak.last.fm/serve/252/8688989.jpg   8139  \n",
       "8324  http://userserve-ak.last.fm/serve/252/16340589...   8324  "
      ]
     },
     "execution_count": 153,
     "metadata": {},
     "output_type": "execute_result"
    }
   ],
   "source": [
    "df[df['artID'].isin(recommended_artist_ids)]"
   ]
  },
  {
   "cell_type": "markdown",
   "id": "18c439e8",
   "metadata": {},
   "source": [
    "Let's check does our recommender produce novel results. In our recommender system as mentioned earlier it can be hard to gauge good recommenders in a formal manner (not a subjective manner such as a user rating the recommendations) as there is no ratings just listening figures. Users would eventually tire of being suggested the same artists so checking our recommender to see if it produces novel results is a good barometer of it's quality to start."
   ]
  },
  {
   "cell_type": "code",
   "execution_count": 154,
   "id": "35278f63",
   "metadata": {},
   "outputs": [],
   "source": [
    "test = played[played['userID'] == 83]"
   ]
  },
  {
   "cell_type": "code",
   "execution_count": 155,
   "id": "72880ea6",
   "metadata": {},
   "outputs": [
    {
     "data": {
      "text/html": [
       "<div>\n",
       "<style scoped>\n",
       "    .dataframe tbody tr th:only-of-type {\n",
       "        vertical-align: middle;\n",
       "    }\n",
       "\n",
       "    .dataframe tbody tr th {\n",
       "        vertical-align: top;\n",
       "    }\n",
       "\n",
       "    .dataframe thead th {\n",
       "        text-align: right;\n",
       "    }\n",
       "</style>\n",
       "<table border=\"1\" class=\"dataframe\">\n",
       "  <thead>\n",
       "    <tr style=\"text-align: right;\">\n",
       "      <th></th>\n",
       "      <th>name</th>\n",
       "      <th>url</th>\n",
       "      <th>artID</th>\n",
       "      <th>userID</th>\n",
       "      <th>artistID</th>\n",
       "      <th>played</th>\n",
       "      <th>playedUserNorm</th>\n",
       "      <th>playCountScaled</th>\n",
       "    </tr>\n",
       "  </thead>\n",
       "  <tbody>\n",
       "  </tbody>\n",
       "</table>\n",
       "</div>"
      ],
      "text/plain": [
       "Empty DataFrame\n",
       "Columns: [name, url, artID, userID, artistID, played, playedUserNorm, playCountScaled]\n",
       "Index: []"
      ]
     },
     "execution_count": 155,
     "metadata": {},
     "output_type": "execute_result"
    }
   ],
   "source": [
    "test[test['artID'].isin(recommended_artist_ids)]"
   ]
  },
  {
   "cell_type": "markdown",
   "id": "765213bb",
   "metadata": {},
   "source": [
    "Our recommender has produced completely novel results here for the user. This is potentially a good starting point for our recommender. Let's delve further into it's results looking at the recommendations for this particular user."
   ]
  },
  {
   "cell_type": "code",
   "execution_count": 156,
   "id": "5037f9ac",
   "metadata": {},
   "outputs": [],
   "source": [
    "usert = tags[tags['userID'] == 83]"
   ]
  },
  {
   "cell_type": "code",
   "execution_count": 157,
   "id": "d801a19f",
   "metadata": {},
   "outputs": [
    {
     "data": {
      "text/plain": [
       "pop                 21\n",
       "rnb                 14\n",
       "female vocalists    12\n",
       "hip-hop             11\n",
       "rap                  8\n",
       "soul                 8\n",
       "hip hop              7\n",
       "dance                6\n",
       "latin pop            5\n",
       "male vocalists       5\n",
       "latin                5\n",
       "dirty south          3\n",
       "spanish              2\n",
       "mexico               2\n",
       "southern rap         2\n",
       "Name: tagValue, dtype: int64"
      ]
     },
     "execution_count": 157,
     "metadata": {},
     "output_type": "execute_result"
    }
   ],
   "source": [
    "usert['tagValue'].value_counts()[:15]"
   ]
  },
  {
   "cell_type": "code",
   "execution_count": 158,
   "id": "1a1d40e6",
   "metadata": {},
   "outputs": [],
   "source": [
    "tagtest =  pd.merge(usert, test, how=\"inner\", left_on=['userID', 'artistID'], right_on=['userID', 'artistID'])"
   ]
  },
  {
   "cell_type": "code",
   "execution_count": 159,
   "id": "709afb35",
   "metadata": {},
   "outputs": [
    {
     "data": {
      "text/html": [
       "<div>\n",
       "<style scoped>\n",
       "    .dataframe tbody tr th:only-of-type {\n",
       "        vertical-align: middle;\n",
       "    }\n",
       "\n",
       "    .dataframe tbody tr th {\n",
       "        vertical-align: top;\n",
       "    }\n",
       "\n",
       "    .dataframe thead th {\n",
       "        text-align: right;\n",
       "    }\n",
       "</style>\n",
       "<table border=\"1\" class=\"dataframe\">\n",
       "  <thead>\n",
       "    <tr style=\"text-align: right;\">\n",
       "      <th></th>\n",
       "      <th>tagID</th>\n",
       "      <th>tagValue</th>\n",
       "      <th>userID</th>\n",
       "      <th>artistID</th>\n",
       "      <th>name</th>\n",
       "      <th>url</th>\n",
       "      <th>artID</th>\n",
       "      <th>played</th>\n",
       "      <th>playedUserNorm</th>\n",
       "      <th>playCountScaled</th>\n",
       "    </tr>\n",
       "  </thead>\n",
       "  <tbody>\n",
       "    <tr>\n",
       "      <th>0</th>\n",
       "      <td>102</td>\n",
       "      <td>hip-hop</td>\n",
       "      <td>83</td>\n",
       "      <td>288</td>\n",
       "      <td>Leona Lewis</td>\n",
       "      <td>http://www.last.fm/music/Leona+Lewis</td>\n",
       "      <td>288</td>\n",
       "      <td>76</td>\n",
       "      <td>0.575758</td>\n",
       "      <td>0.000213</td>\n",
       "    </tr>\n",
       "    <tr>\n",
       "      <th>1</th>\n",
       "      <td>103</td>\n",
       "      <td>rap</td>\n",
       "      <td>83</td>\n",
       "      <td>288</td>\n",
       "      <td>Leona Lewis</td>\n",
       "      <td>http://www.last.fm/music/Leona+Lewis</td>\n",
       "      <td>288</td>\n",
       "      <td>76</td>\n",
       "      <td>0.575758</td>\n",
       "      <td>0.000213</td>\n",
       "    </tr>\n",
       "    <tr>\n",
       "      <th>2</th>\n",
       "      <td>167</td>\n",
       "      <td>rnb</td>\n",
       "      <td>83</td>\n",
       "      <td>288</td>\n",
       "      <td>Leona Lewis</td>\n",
       "      <td>http://www.last.fm/music/Leona+Lewis</td>\n",
       "      <td>288</td>\n",
       "      <td>76</td>\n",
       "      <td>0.575758</td>\n",
       "      <td>0.000213</td>\n",
       "    </tr>\n",
       "    <tr>\n",
       "      <th>3</th>\n",
       "      <td>304</td>\n",
       "      <td>hip hop</td>\n",
       "      <td>83</td>\n",
       "      <td>288</td>\n",
       "      <td>Leona Lewis</td>\n",
       "      <td>http://www.last.fm/music/Leona+Lewis</td>\n",
       "      <td>288</td>\n",
       "      <td>76</td>\n",
       "      <td>0.575758</td>\n",
       "      <td>0.000213</td>\n",
       "    </tr>\n",
       "  </tbody>\n",
       "</table>\n",
       "</div>"
      ],
      "text/plain": [
       "   tagID tagValue  userID  artistID         name  \\\n",
       "0    102  hip-hop      83       288  Leona Lewis   \n",
       "1    103      rap      83       288  Leona Lewis   \n",
       "2    167      rnb      83       288  Leona Lewis   \n",
       "3    304  hip hop      83       288  Leona Lewis   \n",
       "\n",
       "                                    url  artID  played  playedUserNorm  \\\n",
       "0  http://www.last.fm/music/Leona+Lewis    288      76        0.575758   \n",
       "1  http://www.last.fm/music/Leona+Lewis    288      76        0.575758   \n",
       "2  http://www.last.fm/music/Leona+Lewis    288      76        0.575758   \n",
       "3  http://www.last.fm/music/Leona+Lewis    288      76        0.575758   \n",
       "\n",
       "   playCountScaled  \n",
       "0         0.000213  \n",
       "1         0.000213  \n",
       "2         0.000213  \n",
       "3         0.000213  "
      ]
     },
     "execution_count": 159,
     "metadata": {},
     "output_type": "execute_result"
    }
   ],
   "source": [
    "tagtest"
   ]
  },
  {
   "cell_type": "code",
   "execution_count": 160,
   "id": "34ce4543",
   "metadata": {},
   "outputs": [],
   "source": [
    "zzzz = df[df['artID'].isin(recommended_artist_ids)]"
   ]
  },
  {
   "cell_type": "code",
   "execution_count": 161,
   "id": "0f24304d",
   "metadata": {},
   "outputs": [],
   "source": [
    "zzzz1 = pd.merge(zzzz, tags, how=\"inner\", left_on=['artID'], right_on=['artistID'])"
   ]
  },
  {
   "cell_type": "code",
   "execution_count": 162,
   "id": "589e3f37",
   "metadata": {},
   "outputs": [
    {
     "data": {
      "text/html": [
       "<div>\n",
       "<style scoped>\n",
       "    .dataframe tbody tr th:only-of-type {\n",
       "        vertical-align: middle;\n",
       "    }\n",
       "\n",
       "    .dataframe tbody tr th {\n",
       "        vertical-align: top;\n",
       "    }\n",
       "\n",
       "    .dataframe thead th {\n",
       "        text-align: right;\n",
       "    }\n",
       "</style>\n",
       "<table border=\"1\" class=\"dataframe\">\n",
       "  <thead>\n",
       "    <tr style=\"text-align: right;\">\n",
       "      <th></th>\n",
       "      <th>name</th>\n",
       "      <th>url</th>\n",
       "      <th>pictureURL</th>\n",
       "      <th>artID</th>\n",
       "      <th>tagID</th>\n",
       "      <th>tagValue</th>\n",
       "      <th>userID</th>\n",
       "      <th>artistID</th>\n",
       "    </tr>\n",
       "  </thead>\n",
       "  <tbody>\n",
       "    <tr>\n",
       "      <th>0</th>\n",
       "      <td>Dark Funeral</td>\n",
       "      <td>http://www.last.fm/music/Dark+Funeral</td>\n",
       "      <td>http://userserve-ak.last.fm/serve/252/13074411...</td>\n",
       "      <td>2754</td>\n",
       "      <td>73</td>\n",
       "      <td>rock</td>\n",
       "      <td>622</td>\n",
       "      <td>2754</td>\n",
       "    </tr>\n",
       "    <tr>\n",
       "      <th>1</th>\n",
       "      <td>Dark Funeral</td>\n",
       "      <td>http://www.last.fm/music/Dark+Funeral</td>\n",
       "      <td>http://userserve-ak.last.fm/serve/252/13074411...</td>\n",
       "      <td>2754</td>\n",
       "      <td>73</td>\n",
       "      <td>rock</td>\n",
       "      <td>833</td>\n",
       "      <td>2754</td>\n",
       "    </tr>\n",
       "    <tr>\n",
       "      <th>2</th>\n",
       "      <td>Dark Funeral</td>\n",
       "      <td>http://www.last.fm/music/Dark+Funeral</td>\n",
       "      <td>http://userserve-ak.last.fm/serve/252/13074411...</td>\n",
       "      <td>2754</td>\n",
       "      <td>73</td>\n",
       "      <td>rock</td>\n",
       "      <td>1515</td>\n",
       "      <td>2754</td>\n",
       "    </tr>\n",
       "    <tr>\n",
       "      <th>3</th>\n",
       "      <td>Dark Funeral</td>\n",
       "      <td>http://www.last.fm/music/Dark+Funeral</td>\n",
       "      <td>http://userserve-ak.last.fm/serve/252/13074411...</td>\n",
       "      <td>2754</td>\n",
       "      <td>73</td>\n",
       "      <td>rock</td>\n",
       "      <td>1696</td>\n",
       "      <td>2754</td>\n",
       "    </tr>\n",
       "    <tr>\n",
       "      <th>4</th>\n",
       "      <td>Dark Funeral</td>\n",
       "      <td>http://www.last.fm/music/Dark+Funeral</td>\n",
       "      <td>http://userserve-ak.last.fm/serve/252/13074411...</td>\n",
       "      <td>2754</td>\n",
       "      <td>78</td>\n",
       "      <td>alternative rock</td>\n",
       "      <td>222</td>\n",
       "      <td>2754</td>\n",
       "    </tr>\n",
       "    <tr>\n",
       "      <th>5</th>\n",
       "      <td>Dark Funeral</td>\n",
       "      <td>http://www.last.fm/music/Dark+Funeral</td>\n",
       "      <td>http://userserve-ak.last.fm/serve/252/13074411...</td>\n",
       "      <td>2754</td>\n",
       "      <td>79</td>\n",
       "      <td>alternative</td>\n",
       "      <td>622</td>\n",
       "      <td>2754</td>\n",
       "    </tr>\n",
       "    <tr>\n",
       "      <th>6</th>\n",
       "      <td>Dark Funeral</td>\n",
       "      <td>http://www.last.fm/music/Dark+Funeral</td>\n",
       "      <td>http://userserve-ak.last.fm/serve/252/13074411...</td>\n",
       "      <td>2754</td>\n",
       "      <td>79</td>\n",
       "      <td>alternative</td>\n",
       "      <td>1515</td>\n",
       "      <td>2754</td>\n",
       "    </tr>\n",
       "    <tr>\n",
       "      <th>7</th>\n",
       "      <td>Dark Funeral</td>\n",
       "      <td>http://www.last.fm/music/Dark+Funeral</td>\n",
       "      <td>http://userserve-ak.last.fm/serve/252/13074411...</td>\n",
       "      <td>2754</td>\n",
       "      <td>81</td>\n",
       "      <td>indie</td>\n",
       "      <td>222</td>\n",
       "      <td>2754</td>\n",
       "    </tr>\n",
       "    <tr>\n",
       "      <th>8</th>\n",
       "      <td>Dark Funeral</td>\n",
       "      <td>http://www.last.fm/music/Dark+Funeral</td>\n",
       "      <td>http://userserve-ak.last.fm/serve/252/13074411...</td>\n",
       "      <td>2754</td>\n",
       "      <td>84</td>\n",
       "      <td>indie rock</td>\n",
       "      <td>222</td>\n",
       "      <td>2754</td>\n",
       "    </tr>\n",
       "    <tr>\n",
       "      <th>9</th>\n",
       "      <td>Dark Funeral</td>\n",
       "      <td>http://www.last.fm/music/Dark+Funeral</td>\n",
       "      <td>http://userserve-ak.last.fm/serve/252/13074411...</td>\n",
       "      <td>2754</td>\n",
       "      <td>127</td>\n",
       "      <td>seen live</td>\n",
       "      <td>622</td>\n",
       "      <td>2754</td>\n",
       "    </tr>\n",
       "    <tr>\n",
       "      <th>10</th>\n",
       "      <td>Dark Funeral</td>\n",
       "      <td>http://www.last.fm/music/Dark+Funeral</td>\n",
       "      <td>http://userserve-ak.last.fm/serve/252/13074411...</td>\n",
       "      <td>2754</td>\n",
       "      <td>127</td>\n",
       "      <td>seen live</td>\n",
       "      <td>1303</td>\n",
       "      <td>2754</td>\n",
       "    </tr>\n",
       "    <tr>\n",
       "      <th>11</th>\n",
       "      <td>Dark Funeral</td>\n",
       "      <td>http://www.last.fm/music/Dark+Funeral</td>\n",
       "      <td>http://userserve-ak.last.fm/serve/252/13074411...</td>\n",
       "      <td>2754</td>\n",
       "      <td>127</td>\n",
       "      <td>seen live</td>\n",
       "      <td>1512</td>\n",
       "      <td>2754</td>\n",
       "    </tr>\n",
       "    <tr>\n",
       "      <th>12</th>\n",
       "      <td>Dark Funeral</td>\n",
       "      <td>http://www.last.fm/music/Dark+Funeral</td>\n",
       "      <td>http://userserve-ak.last.fm/serve/252/13074411...</td>\n",
       "      <td>2754</td>\n",
       "      <td>130</td>\n",
       "      <td>female vocalists</td>\n",
       "      <td>1512</td>\n",
       "      <td>2754</td>\n",
       "    </tr>\n",
       "    <tr>\n",
       "      <th>13</th>\n",
       "      <td>Dark Funeral</td>\n",
       "      <td>http://www.last.fm/music/Dark+Funeral</td>\n",
       "      <td>http://userserve-ak.last.fm/serve/252/13074411...</td>\n",
       "      <td>2754</td>\n",
       "      <td>130</td>\n",
       "      <td>female vocalists</td>\n",
       "      <td>1515</td>\n",
       "      <td>2754</td>\n",
       "    </tr>\n",
       "    <tr>\n",
       "      <th>14</th>\n",
       "      <td>Dark Funeral</td>\n",
       "      <td>http://www.last.fm/music/Dark+Funeral</td>\n",
       "      <td>http://userserve-ak.last.fm/serve/252/13074411...</td>\n",
       "      <td>2754</td>\n",
       "      <td>170</td>\n",
       "      <td>grunge</td>\n",
       "      <td>1696</td>\n",
       "      <td>2754</td>\n",
       "    </tr>\n",
       "    <tr>\n",
       "      <th>15</th>\n",
       "      <td>Dark Funeral</td>\n",
       "      <td>http://www.last.fm/music/Dark+Funeral</td>\n",
       "      <td>http://userserve-ak.last.fm/serve/252/13074411...</td>\n",
       "      <td>2754</td>\n",
       "      <td>188</td>\n",
       "      <td>polish</td>\n",
       "      <td>222</td>\n",
       "      <td>2754</td>\n",
       "    </tr>\n",
       "    <tr>\n",
       "      <th>16</th>\n",
       "      <td>Dark Funeral</td>\n",
       "      <td>http://www.last.fm/music/Dark+Funeral</td>\n",
       "      <td>http://userserve-ak.last.fm/serve/252/13074411...</td>\n",
       "      <td>2754</td>\n",
       "      <td>188</td>\n",
       "      <td>polish</td>\n",
       "      <td>622</td>\n",
       "      <td>2754</td>\n",
       "    </tr>\n",
       "    <tr>\n",
       "      <th>17</th>\n",
       "      <td>Dark Funeral</td>\n",
       "      <td>http://www.last.fm/music/Dark+Funeral</td>\n",
       "      <td>http://userserve-ak.last.fm/serve/252/13074411...</td>\n",
       "      <td>2754</td>\n",
       "      <td>188</td>\n",
       "      <td>polish</td>\n",
       "      <td>1696</td>\n",
       "      <td>2754</td>\n",
       "    </tr>\n",
       "    <tr>\n",
       "      <th>18</th>\n",
       "      <td>Dark Funeral</td>\n",
       "      <td>http://www.last.fm/music/Dark+Funeral</td>\n",
       "      <td>http://userserve-ak.last.fm/serve/252/13074411...</td>\n",
       "      <td>2754</td>\n",
       "      <td>196</td>\n",
       "      <td>polish rock</td>\n",
       "      <td>833</td>\n",
       "      <td>2754</td>\n",
       "    </tr>\n",
       "    <tr>\n",
       "      <th>19</th>\n",
       "      <td>Dark Funeral</td>\n",
       "      <td>http://www.last.fm/music/Dark+Funeral</td>\n",
       "      <td>http://userserve-ak.last.fm/serve/252/13074411...</td>\n",
       "      <td>2754</td>\n",
       "      <td>12283</td>\n",
       "      <td>hey</td>\n",
       "      <td>1820</td>\n",
       "      <td>2754</td>\n",
       "    </tr>\n",
       "    <tr>\n",
       "      <th>20</th>\n",
       "      <td>Nahash</td>\n",
       "      <td>http://www.last.fm/music/Nahash</td>\n",
       "      <td>http://userserve-ak.last.fm/serve/252/93322.jpg</td>\n",
       "      <td>8131</td>\n",
       "      <td>191</td>\n",
       "      <td>instrumental</td>\n",
       "      <td>1121</td>\n",
       "      <td>8131</td>\n",
       "    </tr>\n",
       "    <tr>\n",
       "      <th>21</th>\n",
       "      <td>Nahash</td>\n",
       "      <td>http://www.last.fm/music/Nahash</td>\n",
       "      <td>http://userserve-ak.last.fm/serve/252/93322.jpg</td>\n",
       "      <td>8131</td>\n",
       "      <td>191</td>\n",
       "      <td>instrumental</td>\n",
       "      <td>1464</td>\n",
       "      <td>8131</td>\n",
       "    </tr>\n",
       "    <tr>\n",
       "      <th>22</th>\n",
       "      <td>Nahash</td>\n",
       "      <td>http://www.last.fm/music/Nahash</td>\n",
       "      <td>http://userserve-ak.last.fm/serve/252/93322.jpg</td>\n",
       "      <td>8131</td>\n",
       "      <td>960</td>\n",
       "      <td>my pleasuredome</td>\n",
       "      <td>69</td>\n",
       "      <td>8131</td>\n",
       "    </tr>\n",
       "    <tr>\n",
       "      <th>23</th>\n",
       "      <td>Nahash</td>\n",
       "      <td>http://www.last.fm/music/Nahash</td>\n",
       "      <td>http://userserve-ak.last.fm/serve/252/93322.jpg</td>\n",
       "      <td>8131</td>\n",
       "      <td>974</td>\n",
       "      <td>tango</td>\n",
       "      <td>69</td>\n",
       "      <td>8131</td>\n",
       "    </tr>\n",
       "    <tr>\n",
       "      <th>24</th>\n",
       "      <td>Nahash</td>\n",
       "      <td>http://www.last.fm/music/Nahash</td>\n",
       "      <td>http://userserve-ak.last.fm/serve/252/93322.jpg</td>\n",
       "      <td>8131</td>\n",
       "      <td>8003</td>\n",
       "      <td>tango nuevo</td>\n",
       "      <td>1121</td>\n",
       "      <td>8131</td>\n",
       "    </tr>\n",
       "    <tr>\n",
       "      <th>25</th>\n",
       "      <td>Krabaras</td>\n",
       "      <td>http://www.last.fm/music/Krabaras</td>\n",
       "      <td>http://userserve-ak.last.fm/serve/252/44372179...</td>\n",
       "      <td>8135</td>\n",
       "      <td>321</td>\n",
       "      <td>french</td>\n",
       "      <td>1534</td>\n",
       "      <td>8135</td>\n",
       "    </tr>\n",
       "    <tr>\n",
       "      <th>26</th>\n",
       "      <td>Krabaras</td>\n",
       "      <td>http://www.last.fm/music/Krabaras</td>\n",
       "      <td>http://userserve-ak.last.fm/serve/252/44372179...</td>\n",
       "      <td>8135</td>\n",
       "      <td>370</td>\n",
       "      <td>favorite</td>\n",
       "      <td>1534</td>\n",
       "      <td>8135</td>\n",
       "    </tr>\n",
       "    <tr>\n",
       "      <th>27</th>\n",
       "      <td>Luctus</td>\n",
       "      <td>http://www.last.fm/music/Luctus</td>\n",
       "      <td>http://userserve-ak.last.fm/serve/252/8688989.jpg</td>\n",
       "      <td>8139</td>\n",
       "      <td>385</td>\n",
       "      <td>melodic death metal</td>\n",
       "      <td>843</td>\n",
       "      <td>8139</td>\n",
       "    </tr>\n",
       "    <tr>\n",
       "      <th>28</th>\n",
       "      <td>Dissimulation</td>\n",
       "      <td>http://www.last.fm/music/Dissimulation</td>\n",
       "      <td>http://userserve-ak.last.fm/serve/252/16340589...</td>\n",
       "      <td>8324</td>\n",
       "      <td>30</td>\n",
       "      <td>german</td>\n",
       "      <td>862</td>\n",
       "      <td>8324</td>\n",
       "    </tr>\n",
       "    <tr>\n",
       "      <th>29</th>\n",
       "      <td>Dissimulation</td>\n",
       "      <td>http://www.last.fm/music/Dissimulation</td>\n",
       "      <td>http://userserve-ak.last.fm/serve/252/16340589...</td>\n",
       "      <td>8324</td>\n",
       "      <td>86</td>\n",
       "      <td>ebm</td>\n",
       "      <td>862</td>\n",
       "      <td>8324</td>\n",
       "    </tr>\n",
       "  </tbody>\n",
       "</table>\n",
       "</div>"
      ],
      "text/plain": [
       "             name                                     url  \\\n",
       "0    Dark Funeral   http://www.last.fm/music/Dark+Funeral   \n",
       "1    Dark Funeral   http://www.last.fm/music/Dark+Funeral   \n",
       "2    Dark Funeral   http://www.last.fm/music/Dark+Funeral   \n",
       "3    Dark Funeral   http://www.last.fm/music/Dark+Funeral   \n",
       "4    Dark Funeral   http://www.last.fm/music/Dark+Funeral   \n",
       "5    Dark Funeral   http://www.last.fm/music/Dark+Funeral   \n",
       "6    Dark Funeral   http://www.last.fm/music/Dark+Funeral   \n",
       "7    Dark Funeral   http://www.last.fm/music/Dark+Funeral   \n",
       "8    Dark Funeral   http://www.last.fm/music/Dark+Funeral   \n",
       "9    Dark Funeral   http://www.last.fm/music/Dark+Funeral   \n",
       "10   Dark Funeral   http://www.last.fm/music/Dark+Funeral   \n",
       "11   Dark Funeral   http://www.last.fm/music/Dark+Funeral   \n",
       "12   Dark Funeral   http://www.last.fm/music/Dark+Funeral   \n",
       "13   Dark Funeral   http://www.last.fm/music/Dark+Funeral   \n",
       "14   Dark Funeral   http://www.last.fm/music/Dark+Funeral   \n",
       "15   Dark Funeral   http://www.last.fm/music/Dark+Funeral   \n",
       "16   Dark Funeral   http://www.last.fm/music/Dark+Funeral   \n",
       "17   Dark Funeral   http://www.last.fm/music/Dark+Funeral   \n",
       "18   Dark Funeral   http://www.last.fm/music/Dark+Funeral   \n",
       "19   Dark Funeral   http://www.last.fm/music/Dark+Funeral   \n",
       "20         Nahash         http://www.last.fm/music/Nahash   \n",
       "21         Nahash         http://www.last.fm/music/Nahash   \n",
       "22         Nahash         http://www.last.fm/music/Nahash   \n",
       "23         Nahash         http://www.last.fm/music/Nahash   \n",
       "24         Nahash         http://www.last.fm/music/Nahash   \n",
       "25       Krabaras       http://www.last.fm/music/Krabaras   \n",
       "26       Krabaras       http://www.last.fm/music/Krabaras   \n",
       "27         Luctus         http://www.last.fm/music/Luctus   \n",
       "28  Dissimulation  http://www.last.fm/music/Dissimulation   \n",
       "29  Dissimulation  http://www.last.fm/music/Dissimulation   \n",
       "\n",
       "                                           pictureURL  artID  tagID  \\\n",
       "0   http://userserve-ak.last.fm/serve/252/13074411...   2754     73   \n",
       "1   http://userserve-ak.last.fm/serve/252/13074411...   2754     73   \n",
       "2   http://userserve-ak.last.fm/serve/252/13074411...   2754     73   \n",
       "3   http://userserve-ak.last.fm/serve/252/13074411...   2754     73   \n",
       "4   http://userserve-ak.last.fm/serve/252/13074411...   2754     78   \n",
       "5   http://userserve-ak.last.fm/serve/252/13074411...   2754     79   \n",
       "6   http://userserve-ak.last.fm/serve/252/13074411...   2754     79   \n",
       "7   http://userserve-ak.last.fm/serve/252/13074411...   2754     81   \n",
       "8   http://userserve-ak.last.fm/serve/252/13074411...   2754     84   \n",
       "9   http://userserve-ak.last.fm/serve/252/13074411...   2754    127   \n",
       "10  http://userserve-ak.last.fm/serve/252/13074411...   2754    127   \n",
       "11  http://userserve-ak.last.fm/serve/252/13074411...   2754    127   \n",
       "12  http://userserve-ak.last.fm/serve/252/13074411...   2754    130   \n",
       "13  http://userserve-ak.last.fm/serve/252/13074411...   2754    130   \n",
       "14  http://userserve-ak.last.fm/serve/252/13074411...   2754    170   \n",
       "15  http://userserve-ak.last.fm/serve/252/13074411...   2754    188   \n",
       "16  http://userserve-ak.last.fm/serve/252/13074411...   2754    188   \n",
       "17  http://userserve-ak.last.fm/serve/252/13074411...   2754    188   \n",
       "18  http://userserve-ak.last.fm/serve/252/13074411...   2754    196   \n",
       "19  http://userserve-ak.last.fm/serve/252/13074411...   2754  12283   \n",
       "20    http://userserve-ak.last.fm/serve/252/93322.jpg   8131    191   \n",
       "21    http://userserve-ak.last.fm/serve/252/93322.jpg   8131    191   \n",
       "22    http://userserve-ak.last.fm/serve/252/93322.jpg   8131    960   \n",
       "23    http://userserve-ak.last.fm/serve/252/93322.jpg   8131    974   \n",
       "24    http://userserve-ak.last.fm/serve/252/93322.jpg   8131   8003   \n",
       "25  http://userserve-ak.last.fm/serve/252/44372179...   8135    321   \n",
       "26  http://userserve-ak.last.fm/serve/252/44372179...   8135    370   \n",
       "27  http://userserve-ak.last.fm/serve/252/8688989.jpg   8139    385   \n",
       "28  http://userserve-ak.last.fm/serve/252/16340589...   8324     30   \n",
       "29  http://userserve-ak.last.fm/serve/252/16340589...   8324     86   \n",
       "\n",
       "               tagValue  userID  artistID  \n",
       "0                  rock     622      2754  \n",
       "1                  rock     833      2754  \n",
       "2                  rock    1515      2754  \n",
       "3                  rock    1696      2754  \n",
       "4      alternative rock     222      2754  \n",
       "5           alternative     622      2754  \n",
       "6           alternative    1515      2754  \n",
       "7                 indie     222      2754  \n",
       "8            indie rock     222      2754  \n",
       "9             seen live     622      2754  \n",
       "10            seen live    1303      2754  \n",
       "11            seen live    1512      2754  \n",
       "12     female vocalists    1512      2754  \n",
       "13     female vocalists    1515      2754  \n",
       "14               grunge    1696      2754  \n",
       "15               polish     222      2754  \n",
       "16               polish     622      2754  \n",
       "17               polish    1696      2754  \n",
       "18          polish rock     833      2754  \n",
       "19                  hey    1820      2754  \n",
       "20         instrumental    1121      8131  \n",
       "21         instrumental    1464      8131  \n",
       "22      my pleasuredome      69      8131  \n",
       "23                tango      69      8131  \n",
       "24          tango nuevo    1121      8131  \n",
       "25               french    1534      8135  \n",
       "26             favorite    1534      8135  \n",
       "27  melodic death metal     843      8139  \n",
       "28               german     862      8324  \n",
       "29                  ebm     862      8324  "
      ]
     },
     "execution_count": 162,
     "metadata": {},
     "output_type": "execute_result"
    }
   ],
   "source": [
    "zzzz1"
   ]
  },
  {
   "cell_type": "markdown",
   "id": "a5ffc797",
   "metadata": {},
   "source": [
    "Looking at these initial results the recommendations don't seen incredibly accurate for this user. Going by the tags they left they appear to be a keen fan of 'rnb', 'hip-hop' and 'rap'. We also see they like 'pop' and 'soul' music. However, the genres returned here don't align with this whatsoever. It appears to have just returned the most popular genres (rock was most popular tag from our earlier analysis) and misses the point. While it could be interpreted as good for a user to return completely different types of music opening their eyes to new artists, it appears these genres seem a bit far-fetched for our user here. The user had a high normalised played value of over 50% for this artist (Leona Lewis) they left tags for so obviously it indicates they are a big fan of these genres / artist(s). We will look at another method now as a result. "
   ]
  },
  {
   "cell_type": "markdown",
   "id": "a73ad6a9",
   "metadata": {},
   "source": [
    "# Alternate Method 2"
   ]
  },
  {
   "cell_type": "code",
   "execution_count": 163,
   "id": "1c95c2d5",
   "metadata": {},
   "outputs": [],
   "source": [
    "ratings_df = played.pivot(\n",
    "    index='userID', \n",
    "    columns='artistID', \n",
    "    values='playedUserNorm'\n",
    ")"
   ]
  },
  {
   "cell_type": "code",
   "execution_count": 164,
   "id": "753c5dd5",
   "metadata": {},
   "outputs": [],
   "source": [
    "ratings = ratings_df.fillna(0).values"
   ]
  },
  {
   "cell_type": "code",
   "execution_count": 165,
   "id": "49c8089a",
   "metadata": {},
   "outputs": [
    {
     "name": "stdout",
     "output_type": "stream",
     "text": [
      "0.28%\n"
     ]
    }
   ],
   "source": [
    "sparsity = float(len(ratings.nonzero()[0]))\n",
    "sparsity /= (ratings.shape[0] * ratings.shape[1])\n",
    "sparsity *= 100\n",
    "print('{:.2f}%'.format(sparsity))"
   ]
  },
  {
   "cell_type": "code",
   "execution_count": 166,
   "id": "6a32a5b6",
   "metadata": {},
   "outputs": [],
   "source": [
    "MIN_USER_RATINGS = 35\n",
    "DELETE_RATING_COUNT = 15\n",
    "\n",
    "def traintest_split(ratings):\n",
    "    \n",
    "    validation = np.zeros(ratings.shape)\n",
    "    train = ratings.copy()\n",
    "    \n",
    "    for user in np.arange(ratings.shape[0]):\n",
    "        if len(ratings[user,:].nonzero()[0]) >= MIN_USER_RATINGS:\n",
    "            val_ratings = np.random.choice(\n",
    "                ratings[user, :].nonzero()[0], \n",
    "                size=DELETE_RATING_COUNT,\n",
    "                replace=False\n",
    "            )\n",
    "            train[user, val_ratings] = 0\n",
    "            validation[user, val_ratings] = ratings[user, val_ratings]\n",
    "    return train, validation"
   ]
  },
  {
   "cell_type": "code",
   "execution_count": 167,
   "id": "6355b6a6",
   "metadata": {},
   "outputs": [],
   "source": [
    "train, val = traintest_split(ratings)"
   ]
  },
  {
   "cell_type": "code",
   "execution_count": 168,
   "id": "62a35e15",
   "metadata": {},
   "outputs": [
    {
     "data": {
      "text/plain": [
       "(1892, 17632)"
      ]
     },
     "execution_count": 168,
     "metadata": {},
     "output_type": "execute_result"
    }
   ],
   "source": [
    "train.shape"
   ]
  },
  {
   "cell_type": "code",
   "execution_count": 169,
   "id": "83d9c073",
   "metadata": {},
   "outputs": [],
   "source": [
    "def rmse(prediction, ground_truth):\n",
    "    prediction = prediction[ground_truth.nonzero()].flatten() \n",
    "    ground_truth = ground_truth[ground_truth.nonzero()].flatten()\n",
    "    return sqrt(mean_squared_error(prediction, ground_truth))"
   ]
  },
  {
   "cell_type": "code",
   "execution_count": 170,
   "id": "c0966b58",
   "metadata": {},
   "outputs": [],
   "source": [
    "class Recommender:\n",
    "  \n",
    "  def __init__(self, n_epochs=200, n_latent_features=3, lmbda=0.1, learning_rate=0.001):\n",
    "    self.n_epochs = n_epochs\n",
    "    self.n_latent_features = n_latent_features\n",
    "    self.lmbda = lmbda\n",
    "    self.learning_rate = learning_rate\n",
    "  \n",
    "  def predictions(self, P, Q):\n",
    "    return np.dot(P.T, Q)\n",
    "  \n",
    "  def fit(self, X_train, X_val):\n",
    "    m, n = X_train.shape\n",
    "\n",
    "    self.P = 3 * np.random.rand(self.n_latent_features, m)\n",
    "    self.Q = 3 * np.random.rand(self.n_latent_features, n)\n",
    "    \n",
    "    self.train_error = []\n",
    "    self.val_error = []\n",
    "\n",
    "    users, items = X_train.nonzero()\n",
    "    \n",
    "    for epoch in range(self.n_epochs):\n",
    "        for u, i in zip(users, items):\n",
    "            error = X_train[u, i] - self.predictions(self.P[:,u], self.Q[:,i])\n",
    "            self.P[:, u] += self.learning_rate * (error * self.Q[:, i] - self.lmbda * self.P[:, u])\n",
    "            self.Q[:, i] += self.learning_rate * (error * self.P[:, u] - self.lmbda * self.Q[:, i])\n",
    "\n",
    "        train_rmse = rmse(self.predictions(self.P, self.Q), X_train)\n",
    "        val_rmse = rmse(self.predictions(self.P, self.Q), X_val)\n",
    "        self.train_error.append(train_rmse)\n",
    "        self.val_error.append(val_rmse)\n",
    "        \n",
    "    return self\n",
    "  \n",
    "  def predict(self, X_train, user_index):\n",
    "    y_hat = self.predictions(self.P, self.Q)\n",
    "    predictions_index = np.where(X_train[user_index, :] == 0)[0]\n",
    "    return y_hat[user_index, predictions_index].flatten()"
   ]
  },
  {
   "cell_type": "code",
   "execution_count": 171,
   "id": "43ac0714",
   "metadata": {},
   "outputs": [],
   "source": [
    "recommender = Recommender().fit(train, val)"
   ]
  },
  {
   "cell_type": "code",
   "execution_count": 172,
   "id": "386d7cc2",
   "metadata": {},
   "outputs": [
    {
     "data": {
      "image/png": "[encoded data removed]",
      "text/plain": [
       "<Figure size 1152x576 with 1 Axes>"
      ]
     },
     "metadata": {
      "needs_background": "light"
     },
     "output_type": "display_data"
    }
   ],
   "source": [
    "plt.figure(figsize=(16,8))\n",
    "plt.plot(range(recommender.n_epochs), recommender.train_error, marker='o', label='Training Data');\n",
    "plt.plot(range(recommender.n_epochs), recommender.val_error, marker='v', label='Validation Data');\n",
    "plt.xlabel('Number of Epochs');\n",
    "plt.ylabel('RMSE');\n",
    "plt.legend()\n",
    "plt.grid()\n",
    "plt.show()"
   ]
  },
  {
   "cell_type": "markdown",
   "id": "57162f42",
   "metadata": {},
   "source": [
    "## Making Recommendations"
   ]
  },
  {
   "cell_type": "code",
   "execution_count": 173,
   "id": "06fe918e",
   "metadata": {},
   "outputs": [],
   "source": [
    "user_id = 83\n",
    "user_index = ratings_df.index.get_loc(user_id)\n",
    "predictions_index = np.where(train[user_index, :] == 0)[0]\n",
    "\n",
    "rating_predictions = recommender.predict(train, user_index)"
   ]
  },
  {
   "cell_type": "code",
   "execution_count": 174,
   "id": "5e1750db",
   "metadata": {},
   "outputs": [],
   "source": [
    "def create_artist_ratings(artists_df, artists_index, ratings, n=10):\n",
    "    artist_ids = ratings_df.columns[artists_index]\n",
    "    artist_ratings = pd.DataFrame(data=dict(artistId=artist_ids, rating=ratings))\n",
    "    top_n_artists = artist_ratings.sort_values(\"rating\", ascending=False).head(n)\n",
    "  \n",
    "    artist_recommendations = artists_df[artists_df.artID.isin(top_n_artists.artistId)].reset_index(drop=True)\n",
    "    artist_recommendations['rating'] = pd.Series(top_n_artists.rating.values)\n",
    "    return artist_recommendations.sort_values(\"rating\", ascending=False)"
   ]
  },
  {
   "cell_type": "code",
   "execution_count": 175,
   "id": "c4b28f5f",
   "metadata": {},
   "outputs": [
    {
     "data": {
      "text/html": [
       "<div>\n",
       "<style scoped>\n",
       "    .dataframe tbody tr th:only-of-type {\n",
       "        vertical-align: middle;\n",
       "    }\n",
       "\n",
       "    .dataframe tbody tr th {\n",
       "        vertical-align: top;\n",
       "    }\n",
       "\n",
       "    .dataframe thead th {\n",
       "        text-align: right;\n",
       "    }\n",
       "</style>\n",
       "<table border=\"1\" class=\"dataframe\">\n",
       "  <thead>\n",
       "    <tr style=\"text-align: right;\">\n",
       "      <th></th>\n",
       "      <th>name</th>\n",
       "      <th>url</th>\n",
       "      <th>pictureURL</th>\n",
       "      <th>artID</th>\n",
       "      <th>rating</th>\n",
       "    </tr>\n",
       "  </thead>\n",
       "  <tbody>\n",
       "    <tr>\n",
       "      <th>0</th>\n",
       "      <td>Janet Jackson</td>\n",
       "      <td>http://www.last.fm/music/Janet+Jackson</td>\n",
       "      <td>http://userserve-ak.last.fm/serve/252/4245358.jpg</td>\n",
       "      <td>279</td>\n",
       "      <td>1.000000</td>\n",
       "    </tr>\n",
       "    <tr>\n",
       "      <th>1</th>\n",
       "      <td>Christina Aguilera</td>\n",
       "      <td>http://www.last.fm/music/Christina+Aguilera</td>\n",
       "      <td>http://userserve-ak.last.fm/serve/252/47363849...</td>\n",
       "      <td>286</td>\n",
       "      <td>0.689394</td>\n",
       "    </tr>\n",
       "    <tr>\n",
       "      <th>2</th>\n",
       "      <td>Leona Lewis</td>\n",
       "      <td>http://www.last.fm/music/Leona+Lewis</td>\n",
       "      <td>http://userserve-ak.last.fm/serve/252/45104681...</td>\n",
       "      <td>288</td>\n",
       "      <td>0.643939</td>\n",
       "    </tr>\n",
       "    <tr>\n",
       "      <th>3</th>\n",
       "      <td>P!nk</td>\n",
       "      <td>http://www.last.fm/music/P%21nk</td>\n",
       "      <td>http://userserve-ak.last.fm/serve/252/56011579...</td>\n",
       "      <td>296</td>\n",
       "      <td>0.613636</td>\n",
       "    </tr>\n",
       "    <tr>\n",
       "      <th>4</th>\n",
       "      <td>Nelly Furtado</td>\n",
       "      <td>http://www.last.fm/music/Nelly+Furtado</td>\n",
       "      <td>http://userserve-ak.last.fm/serve/252/327744.jpg</td>\n",
       "      <td>304</td>\n",
       "      <td>0.575758</td>\n",
       "    </tr>\n",
       "    <tr>\n",
       "      <th>5</th>\n",
       "      <td>Jessica Simpson</td>\n",
       "      <td>http://www.last.fm/music/Jessica+Simpson</td>\n",
       "      <td>http://userserve-ak.last.fm/serve/252/44836897...</td>\n",
       "      <td>459</td>\n",
       "      <td>0.500000</td>\n",
       "    </tr>\n",
       "    <tr>\n",
       "      <th>6</th>\n",
       "      <td>Gwen Stefani</td>\n",
       "      <td>http://www.last.fm/music/Gwen+Stefani</td>\n",
       "      <td>http://userserve-ak.last.fm/serve/252/8516439.jpg</td>\n",
       "      <td>519</td>\n",
       "      <td>0.469697</td>\n",
       "    </tr>\n",
       "    <tr>\n",
       "      <th>7</th>\n",
       "      <td>Sophie Ellis-Bextor</td>\n",
       "      <td>http://www.last.fm/music/Sophie+Ellis-Bextor</td>\n",
       "      <td>http://userserve-ak.last.fm/serve/252/61811325...</td>\n",
       "      <td>529</td>\n",
       "      <td>0.462121</td>\n",
       "    </tr>\n",
       "    <tr>\n",
       "      <th>8</th>\n",
       "      <td>Cyndi Lauper</td>\n",
       "      <td>http://www.last.fm/music/Cyndi+Lauper</td>\n",
       "      <td>http://userserve-ak.last.fm/serve/252/6967243.jpg</td>\n",
       "      <td>880</td>\n",
       "      <td>0.462121</td>\n",
       "    </tr>\n",
       "    <tr>\n",
       "      <th>9</th>\n",
       "      <td>Alejandra GuzmÃ¡n</td>\n",
       "      <td>http://www.last.fm/music/Alejandra+Guzm%C3%A1n</td>\n",
       "      <td>http://userserve-ak.last.fm/serve/252/36319033...</td>\n",
       "      <td>2376</td>\n",
       "      <td>0.446970</td>\n",
       "    </tr>\n",
       "  </tbody>\n",
       "</table>\n",
       "</div>"
      ],
      "text/plain": [
       "                  name                                             url  \\\n",
       "0        Janet Jackson          http://www.last.fm/music/Janet+Jackson   \n",
       "1   Christina Aguilera     http://www.last.fm/music/Christina+Aguilera   \n",
       "2          Leona Lewis            http://www.last.fm/music/Leona+Lewis   \n",
       "3                 P!nk                 http://www.last.fm/music/P%21nk   \n",
       "4        Nelly Furtado          http://www.last.fm/music/Nelly+Furtado   \n",
       "5      Jessica Simpson        http://www.last.fm/music/Jessica+Simpson   \n",
       "6         Gwen Stefani           http://www.last.fm/music/Gwen+Stefani   \n",
       "7  Sophie Ellis-Bextor    http://www.last.fm/music/Sophie+Ellis-Bextor   \n",
       "8         Cyndi Lauper           http://www.last.fm/music/Cyndi+Lauper   \n",
       "9    Alejandra GuzmÃ¡n  http://www.last.fm/music/Alejandra+Guzm%C3%A1n   \n",
       "\n",
       "                                          pictureURL  artID    rating  \n",
       "0  http://userserve-ak.last.fm/serve/252/4245358.jpg    279  1.000000  \n",
       "1  http://userserve-ak.last.fm/serve/252/47363849...    286  0.689394  \n",
       "2  http://userserve-ak.last.fm/serve/252/45104681...    288  0.643939  \n",
       "3  http://userserve-ak.last.fm/serve/252/56011579...    296  0.613636  \n",
       "4   http://userserve-ak.last.fm/serve/252/327744.jpg    304  0.575758  \n",
       "5  http://userserve-ak.last.fm/serve/252/44836897...    459  0.500000  \n",
       "6  http://userserve-ak.last.fm/serve/252/8516439.jpg    519  0.469697  \n",
       "7  http://userserve-ak.last.fm/serve/252/61811325...    529  0.462121  \n",
       "8  http://userserve-ak.last.fm/serve/252/6967243.jpg    880  0.462121  \n",
       "9  http://userserve-ak.last.fm/serve/252/36319033...   2376  0.446970  "
      ]
     },
     "execution_count": 175,
     "metadata": {},
     "output_type": "execute_result"
    }
   ],
   "source": [
    "existing_ratings_index = np.where(train[user_index, :] > 0)[0]\n",
    "existing_ratings = train[user_index, existing_ratings_index]\n",
    "\n",
    "create_artist_ratings(df, existing_ratings_index, existing_ratings)"
   ]
  },
  {
   "cell_type": "code",
   "execution_count": 176,
   "id": "f4235eca",
   "metadata": {},
   "outputs": [
    {
     "data": {
      "text/html": [
       "<div>\n",
       "<style scoped>\n",
       "    .dataframe tbody tr th:only-of-type {\n",
       "        vertical-align: middle;\n",
       "    }\n",
       "\n",
       "    .dataframe tbody tr th {\n",
       "        vertical-align: top;\n",
       "    }\n",
       "\n",
       "    .dataframe thead th {\n",
       "        text-align: right;\n",
       "    }\n",
       "</style>\n",
       "<table border=\"1\" class=\"dataframe\">\n",
       "  <thead>\n",
       "    <tr style=\"text-align: right;\">\n",
       "      <th></th>\n",
       "      <th>name</th>\n",
       "      <th>url</th>\n",
       "      <th>pictureURL</th>\n",
       "      <th>artID</th>\n",
       "      <th>rating</th>\n",
       "    </tr>\n",
       "  </thead>\n",
       "  <tbody>\n",
       "    <tr>\n",
       "      <th>0</th>\n",
       "      <td>kenneth e Danilo</td>\n",
       "      <td>http://www.last.fm/music/kenneth+e+Danilo</td>\n",
       "      <td>NaN</td>\n",
       "      <td>5472</td>\n",
       "      <td>1.498642</td>\n",
       "    </tr>\n",
       "    <tr>\n",
       "      <th>1</th>\n",
       "      <td>Hick</td>\n",
       "      <td>http://www.last.fm/music/Hick</td>\n",
       "      <td>http://userserve-ak.last.fm/serve/252/53058311...</td>\n",
       "      <td>5862</td>\n",
       "      <td>1.494241</td>\n",
       "    </tr>\n",
       "    <tr>\n",
       "      <th>2</th>\n",
       "      <td>Satariel</td>\n",
       "      <td>http://www.last.fm/music/Satariel</td>\n",
       "      <td>http://userserve-ak.last.fm/serve/252/3527524.jpg</td>\n",
       "      <td>6676</td>\n",
       "      <td>1.485870</td>\n",
       "    </tr>\n",
       "    <tr>\n",
       "      <th>3</th>\n",
       "      <td>Arj Barker, Doug Benson &amp; Tony Camin</td>\n",
       "      <td>http://www.last.fm/music/Arj%2BBarker%252C%2BD...</td>\n",
       "      <td>http://userserve-ak.last.fm/serve/252/55510411...</td>\n",
       "      <td>6680</td>\n",
       "      <td>1.483970</td>\n",
       "    </tr>\n",
       "    <tr>\n",
       "      <th>4</th>\n",
       "      <td>Sampa Crew</td>\n",
       "      <td>http://www.last.fm/music/Sampa+Crew</td>\n",
       "      <td>http://userserve-ak.last.fm/serve/252/55678243...</td>\n",
       "      <td>8935</td>\n",
       "      <td>1.480258</td>\n",
       "    </tr>\n",
       "    <tr>\n",
       "      <th>5</th>\n",
       "      <td>è©©æœˆã‚«ã‚ªãƒª</td>\n",
       "      <td>http://www.last.fm/music/%E8%A9%A9%E6%9C%88%E3...</td>\n",
       "      <td>http://userserve-ak.last.fm/serve/252/33179955...</td>\n",
       "      <td>9971</td>\n",
       "      <td>1.478831</td>\n",
       "    </tr>\n",
       "    <tr>\n",
       "      <th>6</th>\n",
       "      <td>Tiromancino</td>\n",
       "      <td>http://www.last.fm/music/Tiromancino</td>\n",
       "      <td>http://userserve-ak.last.fm/serve/252/504510.jpg</td>\n",
       "      <td>11113</td>\n",
       "      <td>1.473183</td>\n",
       "    </tr>\n",
       "    <tr>\n",
       "      <th>7</th>\n",
       "      <td>Lizzy Borden</td>\n",
       "      <td>http://www.last.fm/music/Lizzy+Borden</td>\n",
       "      <td>http://userserve-ak.last.fm/serve/252/37719891...</td>\n",
       "      <td>12462</td>\n",
       "      <td>1.469922</td>\n",
       "    </tr>\n",
       "    <tr>\n",
       "      <th>8</th>\n",
       "      <td>Gothika</td>\n",
       "      <td>http://www.last.fm/music/Gothika</td>\n",
       "      <td>http://userserve-ak.last.fm/serve/252/46281.jpg</td>\n",
       "      <td>16701</td>\n",
       "      <td>1.468896</td>\n",
       "    </tr>\n",
       "    <tr>\n",
       "      <th>9</th>\n",
       "      <td>Tristeria</td>\n",
       "      <td>http://www.last.fm/music/Tristeria</td>\n",
       "      <td>http://userserve-ak.last.fm/serve/252/41101533...</td>\n",
       "      <td>17013</td>\n",
       "      <td>1.464956</td>\n",
       "    </tr>\n",
       "  </tbody>\n",
       "</table>\n",
       "</div>"
      ],
      "text/plain": [
       "                                   name  \\\n",
       "0                      kenneth e Danilo   \n",
       "1                                  Hick   \n",
       "2                              Satariel   \n",
       "3  Arj Barker, Doug Benson & Tony Camin   \n",
       "4                            Sampa Crew   \n",
       "5                       è©©æœˆã‚«ã‚ªãƒª   \n",
       "6                           Tiromancino   \n",
       "7                          Lizzy Borden   \n",
       "8                               Gothika   \n",
       "9                             Tristeria   \n",
       "\n",
       "                                                 url  \\\n",
       "0          http://www.last.fm/music/kenneth+e+Danilo   \n",
       "1                      http://www.last.fm/music/Hick   \n",
       "2                  http://www.last.fm/music/Satariel   \n",
       "3  http://www.last.fm/music/Arj%2BBarker%252C%2BD...   \n",
       "4                http://www.last.fm/music/Sampa+Crew   \n",
       "5  http://www.last.fm/music/%E8%A9%A9%E6%9C%88%E3...   \n",
       "6               http://www.last.fm/music/Tiromancino   \n",
       "7              http://www.last.fm/music/Lizzy+Borden   \n",
       "8                   http://www.last.fm/music/Gothika   \n",
       "9                 http://www.last.fm/music/Tristeria   \n",
       "\n",
       "                                          pictureURL  artID    rating  \n",
       "0                                                NaN   5472  1.498642  \n",
       "1  http://userserve-ak.last.fm/serve/252/53058311...   5862  1.494241  \n",
       "2  http://userserve-ak.last.fm/serve/252/3527524.jpg   6676  1.485870  \n",
       "3  http://userserve-ak.last.fm/serve/252/55510411...   6680  1.483970  \n",
       "4  http://userserve-ak.last.fm/serve/252/55678243...   8935  1.480258  \n",
       "5  http://userserve-ak.last.fm/serve/252/33179955...   9971  1.478831  \n",
       "6   http://userserve-ak.last.fm/serve/252/504510.jpg  11113  1.473183  \n",
       "7  http://userserve-ak.last.fm/serve/252/37719891...  12462  1.469922  \n",
       "8    http://userserve-ak.last.fm/serve/252/46281.jpg  16701  1.468896  \n",
       "9  http://userserve-ak.last.fm/serve/252/41101533...  17013  1.464956  "
      ]
     },
     "execution_count": 176,
     "metadata": {},
     "output_type": "execute_result"
    }
   ],
   "source": [
    "create_artist_ratings(df, predictions_index, rating_predictions)"
   ]
  },
  {
   "cell_type": "markdown",
   "id": "cf5736f7",
   "metadata": {},
   "source": [
    "Let's run a similar evaluation process over our second alternate method. We will look at the same user ID of 83 and look at the recommendations it makes."
   ]
  },
  {
   "cell_type": "code",
   "execution_count": 177,
   "id": "8390c2be",
   "metadata": {},
   "outputs": [
    {
     "data": {
      "text/html": [
       "<div>\n",
       "<style scoped>\n",
       "    .dataframe tbody tr th:only-of-type {\n",
       "        vertical-align: middle;\n",
       "    }\n",
       "\n",
       "    .dataframe tbody tr th {\n",
       "        vertical-align: top;\n",
       "    }\n",
       "\n",
       "    .dataframe thead th {\n",
       "        text-align: right;\n",
       "    }\n",
       "</style>\n",
       "<table border=\"1\" class=\"dataframe\">\n",
       "  <thead>\n",
       "    <tr style=\"text-align: right;\">\n",
       "      <th></th>\n",
       "      <th>name</th>\n",
       "      <th>url</th>\n",
       "      <th>artID</th>\n",
       "      <th>userID</th>\n",
       "      <th>artistID</th>\n",
       "      <th>played</th>\n",
       "      <th>playedUserNorm</th>\n",
       "      <th>playCountScaled</th>\n",
       "    </tr>\n",
       "  </thead>\n",
       "  <tbody>\n",
       "    <tr>\n",
       "      <th>1975</th>\n",
       "      <td>Madonna</td>\n",
       "      <td>http://www.last.fm/music/Madonna</td>\n",
       "      <td>61</td>\n",
       "      <td>83</td>\n",
       "      <td>61</td>\n",
       "      <td>108</td>\n",
       "      <td>0.818182</td>\n",
       "      <td>0.000303</td>\n",
       "    </tr>\n",
       "    <tr>\n",
       "      <th>5374</th>\n",
       "      <td>Enrique Iglesias</td>\n",
       "      <td>http://www.last.fm/music/Enrique+Iglesias</td>\n",
       "      <td>155</td>\n",
       "      <td>83</td>\n",
       "      <td>155</td>\n",
       "      <td>26</td>\n",
       "      <td>0.196970</td>\n",
       "      <td>0.000071</td>\n",
       "    </tr>\n",
       "    <tr>\n",
       "      <th>11971</th>\n",
       "      <td>Mariah Carey</td>\n",
       "      <td>http://www.last.fm/music/Mariah+Carey</td>\n",
       "      <td>251</td>\n",
       "      <td>83</td>\n",
       "      <td>251</td>\n",
       "      <td>25</td>\n",
       "      <td>0.189394</td>\n",
       "      <td>0.000068</td>\n",
       "    </tr>\n",
       "    <tr>\n",
       "      <th>12293</th>\n",
       "      <td>CÃ©line Dion</td>\n",
       "      <td>http://www.last.fm/music/C%C3%A9line+Dion</td>\n",
       "      <td>259</td>\n",
       "      <td>83</td>\n",
       "      <td>259</td>\n",
       "      <td>34</td>\n",
       "      <td>0.257576</td>\n",
       "      <td>0.000094</td>\n",
       "    </tr>\n",
       "    <tr>\n",
       "      <th>12593</th>\n",
       "      <td>Janet Jackson</td>\n",
       "      <td>http://www.last.fm/music/Janet+Jackson</td>\n",
       "      <td>279</td>\n",
       "      <td>83</td>\n",
       "      <td>279</td>\n",
       "      <td>85</td>\n",
       "      <td>0.643939</td>\n",
       "      <td>0.000238</td>\n",
       "    </tr>\n",
       "    <tr>\n",
       "      <th>12715</th>\n",
       "      <td>Rihanna</td>\n",
       "      <td>http://www.last.fm/music/Rihanna</td>\n",
       "      <td>282</td>\n",
       "      <td>83</td>\n",
       "      <td>282</td>\n",
       "      <td>20</td>\n",
       "      <td>0.151515</td>\n",
       "      <td>0.000054</td>\n",
       "    </tr>\n",
       "    <tr>\n",
       "      <th>13199</th>\n",
       "      <td>Britney Spears</td>\n",
       "      <td>http://www.last.fm/music/Britney+Spears</td>\n",
       "      <td>283</td>\n",
       "      <td>83</td>\n",
       "      <td>283</td>\n",
       "      <td>101</td>\n",
       "      <td>0.765152</td>\n",
       "      <td>0.000284</td>\n",
       "    </tr>\n",
       "    <tr>\n",
       "      <th>14065</th>\n",
       "      <td>Christina Aguilera</td>\n",
       "      <td>http://www.last.fm/music/Christina+Aguilera</td>\n",
       "      <td>286</td>\n",
       "      <td>83</td>\n",
       "      <td>286</td>\n",
       "      <td>132</td>\n",
       "      <td>1.000000</td>\n",
       "      <td>0.000371</td>\n",
       "    </tr>\n",
       "    <tr>\n",
       "      <th>14588</th>\n",
       "      <td>Leona Lewis</td>\n",
       "      <td>http://www.last.fm/music/Leona+Lewis</td>\n",
       "      <td>288</td>\n",
       "      <td>83</td>\n",
       "      <td>288</td>\n",
       "      <td>76</td>\n",
       "      <td>0.575758</td>\n",
       "      <td>0.000213</td>\n",
       "    </tr>\n",
       "    <tr>\n",
       "      <th>14758</th>\n",
       "      <td>BeyoncÃ©</td>\n",
       "      <td>http://www.last.fm/music/Beyonc%C3%A9</td>\n",
       "      <td>289</td>\n",
       "      <td>83</td>\n",
       "      <td>289</td>\n",
       "      <td>127</td>\n",
       "      <td>0.962121</td>\n",
       "      <td>0.000357</td>\n",
       "    </tr>\n",
       "    <tr>\n",
       "      <th>15713</th>\n",
       "      <td>Katy Perry</td>\n",
       "      <td>http://www.last.fm/music/Katy+Perry</td>\n",
       "      <td>294</td>\n",
       "      <td>83</td>\n",
       "      <td>294</td>\n",
       "      <td>57</td>\n",
       "      <td>0.431818</td>\n",
       "      <td>0.000159</td>\n",
       "    </tr>\n",
       "    <tr>\n",
       "      <th>16170</th>\n",
       "      <td>Alicia Keys</td>\n",
       "      <td>http://www.last.fm/music/Alicia+Keys</td>\n",
       "      <td>295</td>\n",
       "      <td>83</td>\n",
       "      <td>295</td>\n",
       "      <td>46</td>\n",
       "      <td>0.348485</td>\n",
       "      <td>0.000128</td>\n",
       "    </tr>\n",
       "    <tr>\n",
       "      <th>16329</th>\n",
       "      <td>P!nk</td>\n",
       "      <td>http://www.last.fm/music/P%21nk</td>\n",
       "      <td>296</td>\n",
       "      <td>83</td>\n",
       "      <td>296</td>\n",
       "      <td>66</td>\n",
       "      <td>0.500000</td>\n",
       "      <td>0.000184</td>\n",
       "    </tr>\n",
       "    <tr>\n",
       "      <th>16677</th>\n",
       "      <td>Katharine McPhee</td>\n",
       "      <td>http://www.last.fm/music/Katharine+McPhee</td>\n",
       "      <td>299</td>\n",
       "      <td>83</td>\n",
       "      <td>299</td>\n",
       "      <td>19</td>\n",
       "      <td>0.143939</td>\n",
       "      <td>0.000051</td>\n",
       "    </tr>\n",
       "    <tr>\n",
       "      <th>17123</th>\n",
       "      <td>Nelly Furtado</td>\n",
       "      <td>http://www.last.fm/music/Nelly+Furtado</td>\n",
       "      <td>304</td>\n",
       "      <td>83</td>\n",
       "      <td>304</td>\n",
       "      <td>91</td>\n",
       "      <td>0.689394</td>\n",
       "      <td>0.000255</td>\n",
       "    </tr>\n",
       "    <tr>\n",
       "      <th>17710</th>\n",
       "      <td>Hilary Duff</td>\n",
       "      <td>http://www.last.fm/music/Hilary+Duff</td>\n",
       "      <td>312</td>\n",
       "      <td>83</td>\n",
       "      <td>312</td>\n",
       "      <td>47</td>\n",
       "      <td>0.356061</td>\n",
       "      <td>0.000130</td>\n",
       "    </tr>\n",
       "    <tr>\n",
       "      <th>17877</th>\n",
       "      <td>Fergie</td>\n",
       "      <td>http://www.last.fm/music/Fergie</td>\n",
       "      <td>314</td>\n",
       "      <td>83</td>\n",
       "      <td>314</td>\n",
       "      <td>42</td>\n",
       "      <td>0.318182</td>\n",
       "      <td>0.000116</td>\n",
       "    </tr>\n",
       "    <tr>\n",
       "      <th>18723</th>\n",
       "      <td>Justin Timberlake</td>\n",
       "      <td>http://www.last.fm/music/Justin+Timberlake</td>\n",
       "      <td>323</td>\n",
       "      <td>83</td>\n",
       "      <td>323</td>\n",
       "      <td>90</td>\n",
       "      <td>0.681818</td>\n",
       "      <td>0.000252</td>\n",
       "    </tr>\n",
       "    <tr>\n",
       "      <th>19047</th>\n",
       "      <td>Kelly Rowland</td>\n",
       "      <td>http://www.last.fm/music/Kelly+Rowland</td>\n",
       "      <td>326</td>\n",
       "      <td>83</td>\n",
       "      <td>326</td>\n",
       "      <td>53</td>\n",
       "      <td>0.401515</td>\n",
       "      <td>0.000147</td>\n",
       "    </tr>\n",
       "    <tr>\n",
       "      <th>19539</th>\n",
       "      <td>Cher</td>\n",
       "      <td>http://www.last.fm/music/Cher</td>\n",
       "      <td>334</td>\n",
       "      <td>83</td>\n",
       "      <td>334</td>\n",
       "      <td>21</td>\n",
       "      <td>0.159091</td>\n",
       "      <td>0.000057</td>\n",
       "    </tr>\n",
       "    <tr>\n",
       "      <th>19942</th>\n",
       "      <td>The Pussycat Dolls</td>\n",
       "      <td>http://www.last.fm/music/The+Pussycat+Dolls</td>\n",
       "      <td>343</td>\n",
       "      <td>83</td>\n",
       "      <td>343</td>\n",
       "      <td>24</td>\n",
       "      <td>0.181818</td>\n",
       "      <td>0.000065</td>\n",
       "    </tr>\n",
       "    <tr>\n",
       "      <th>23894</th>\n",
       "      <td>Jesse McCartney</td>\n",
       "      <td>http://www.last.fm/music/Jesse+McCartney</td>\n",
       "      <td>450</td>\n",
       "      <td>83</td>\n",
       "      <td>450</td>\n",
       "      <td>25</td>\n",
       "      <td>0.189394</td>\n",
       "      <td>0.000068</td>\n",
       "    </tr>\n",
       "    <tr>\n",
       "      <th>23946</th>\n",
       "      <td>Aaron Carter</td>\n",
       "      <td>http://www.last.fm/music/Aaron+Carter</td>\n",
       "      <td>451</td>\n",
       "      <td>83</td>\n",
       "      <td>451</td>\n",
       "      <td>19</td>\n",
       "      <td>0.143939</td>\n",
       "      <td>0.000051</td>\n",
       "    </tr>\n",
       "    <tr>\n",
       "      <th>23957</th>\n",
       "      <td>Justin Bieber</td>\n",
       "      <td>http://www.last.fm/music/Justin+Bieber</td>\n",
       "      <td>452</td>\n",
       "      <td>83</td>\n",
       "      <td>452</td>\n",
       "      <td>21</td>\n",
       "      <td>0.159091</td>\n",
       "      <td>0.000057</td>\n",
       "    </tr>\n",
       "    <tr>\n",
       "      <th>24575</th>\n",
       "      <td>Jessica Simpson</td>\n",
       "      <td>http://www.last.fm/music/Jessica+Simpson</td>\n",
       "      <td>459</td>\n",
       "      <td>83</td>\n",
       "      <td>459</td>\n",
       "      <td>61</td>\n",
       "      <td>0.462121</td>\n",
       "      <td>0.000170</td>\n",
       "    </tr>\n",
       "    <tr>\n",
       "      <th>24649</th>\n",
       "      <td>Ke$ha</td>\n",
       "      <td>http://www.last.fm/music/Ke%24ha</td>\n",
       "      <td>460</td>\n",
       "      <td>83</td>\n",
       "      <td>460</td>\n",
       "      <td>33</td>\n",
       "      <td>0.250000</td>\n",
       "      <td>0.000091</td>\n",
       "    </tr>\n",
       "    <tr>\n",
       "      <th>25478</th>\n",
       "      <td>M. Pokora</td>\n",
       "      <td>http://www.last.fm/music/M.+Pokora</td>\n",
       "      <td>470</td>\n",
       "      <td>83</td>\n",
       "      <td>470</td>\n",
       "      <td>21</td>\n",
       "      <td>0.159091</td>\n",
       "      <td>0.000057</td>\n",
       "    </tr>\n",
       "    <tr>\n",
       "      <th>25630</th>\n",
       "      <td>Ne-Yo</td>\n",
       "      <td>http://www.last.fm/music/Ne-Yo</td>\n",
       "      <td>478</td>\n",
       "      <td>83</td>\n",
       "      <td>478</td>\n",
       "      <td>20</td>\n",
       "      <td>0.151515</td>\n",
       "      <td>0.000054</td>\n",
       "    </tr>\n",
       "    <tr>\n",
       "      <th>27918</th>\n",
       "      <td>Gwen Stefani</td>\n",
       "      <td>http://www.last.fm/music/Gwen+Stefani</td>\n",
       "      <td>519</td>\n",
       "      <td>83</td>\n",
       "      <td>519</td>\n",
       "      <td>81</td>\n",
       "      <td>0.613636</td>\n",
       "      <td>0.000227</td>\n",
       "    </tr>\n",
       "    <tr>\n",
       "      <th>28756</th>\n",
       "      <td>Sophie Ellis-Bextor</td>\n",
       "      <td>http://www.last.fm/music/Sophie+Ellis-Bextor</td>\n",
       "      <td>529</td>\n",
       "      <td>83</td>\n",
       "      <td>529</td>\n",
       "      <td>62</td>\n",
       "      <td>0.469697</td>\n",
       "      <td>0.000173</td>\n",
       "    </tr>\n",
       "    <tr>\n",
       "      <th>31477</th>\n",
       "      <td>Laura Pausini</td>\n",
       "      <td>http://www.last.fm/music/Laura+Pausini</td>\n",
       "      <td>635</td>\n",
       "      <td>83</td>\n",
       "      <td>635</td>\n",
       "      <td>43</td>\n",
       "      <td>0.325758</td>\n",
       "      <td>0.000119</td>\n",
       "    </tr>\n",
       "    <tr>\n",
       "      <th>32330</th>\n",
       "      <td>Selena Gomez &amp; the Scene</td>\n",
       "      <td>http://www.last.fm/music/Selena%2BGomez%2B%252...</td>\n",
       "      <td>680</td>\n",
       "      <td>83</td>\n",
       "      <td>680</td>\n",
       "      <td>31</td>\n",
       "      <td>0.234848</td>\n",
       "      <td>0.000085</td>\n",
       "    </tr>\n",
       "    <tr>\n",
       "      <th>35725</th>\n",
       "      <td>Fey</td>\n",
       "      <td>http://www.last.fm/music/Fey</td>\n",
       "      <td>779</td>\n",
       "      <td>83</td>\n",
       "      <td>779</td>\n",
       "      <td>31</td>\n",
       "      <td>0.234848</td>\n",
       "      <td>0.000085</td>\n",
       "    </tr>\n",
       "    <tr>\n",
       "      <th>35821</th>\n",
       "      <td>ThalÃ­a</td>\n",
       "      <td>http://www.last.fm/music/Thal%C3%ADa</td>\n",
       "      <td>783</td>\n",
       "      <td>83</td>\n",
       "      <td>783</td>\n",
       "      <td>46</td>\n",
       "      <td>0.348485</td>\n",
       "      <td>0.000128</td>\n",
       "    </tr>\n",
       "    <tr>\n",
       "      <th>37907</th>\n",
       "      <td>Cyndi Lauper</td>\n",
       "      <td>http://www.last.fm/music/Cyndi+Lauper</td>\n",
       "      <td>880</td>\n",
       "      <td>83</td>\n",
       "      <td>880</td>\n",
       "      <td>61</td>\n",
       "      <td>0.462121</td>\n",
       "      <td>0.000170</td>\n",
       "    </tr>\n",
       "    <tr>\n",
       "      <th>38623</th>\n",
       "      <td>Destiny's Child</td>\n",
       "      <td>http://www.last.fm/music/Destiny%27s+Child</td>\n",
       "      <td>904</td>\n",
       "      <td>83</td>\n",
       "      <td>904</td>\n",
       "      <td>43</td>\n",
       "      <td>0.325758</td>\n",
       "      <td>0.000119</td>\n",
       "    </tr>\n",
       "    <tr>\n",
       "      <th>49614</th>\n",
       "      <td>Eva Simons</td>\n",
       "      <td>http://www.last.fm/music/Eva+Simons</td>\n",
       "      <td>1432</td>\n",
       "      <td>83</td>\n",
       "      <td>1432</td>\n",
       "      <td>38</td>\n",
       "      <td>0.287879</td>\n",
       "      <td>0.000105</td>\n",
       "    </tr>\n",
       "    <tr>\n",
       "      <th>49733</th>\n",
       "      <td>Pitbull</td>\n",
       "      <td>http://www.last.fm/music/Pitbull</td>\n",
       "      <td>1440</td>\n",
       "      <td>83</td>\n",
       "      <td>1440</td>\n",
       "      <td>22</td>\n",
       "      <td>0.166667</td>\n",
       "      <td>0.000060</td>\n",
       "    </tr>\n",
       "    <tr>\n",
       "      <th>54935</th>\n",
       "      <td>Jennifer Hudson</td>\n",
       "      <td>http://www.last.fm/music/Jennifer+Hudson</td>\n",
       "      <td>1921</td>\n",
       "      <td>83</td>\n",
       "      <td>1921</td>\n",
       "      <td>26</td>\n",
       "      <td>0.196970</td>\n",
       "      <td>0.000071</td>\n",
       "    </tr>\n",
       "    <tr>\n",
       "      <th>54957</th>\n",
       "      <td>Michelle Williams</td>\n",
       "      <td>http://www.last.fm/music/Michelle+Williams</td>\n",
       "      <td>1922</td>\n",
       "      <td>83</td>\n",
       "      <td>1922</td>\n",
       "      <td>31</td>\n",
       "      <td>0.234848</td>\n",
       "      <td>0.000085</td>\n",
       "    </tr>\n",
       "    <tr>\n",
       "      <th>55886</th>\n",
       "      <td>Stacie Orrico</td>\n",
       "      <td>http://www.last.fm/music/Stacie+Orrico</td>\n",
       "      <td>2004</td>\n",
       "      <td>83</td>\n",
       "      <td>2004</td>\n",
       "      <td>19</td>\n",
       "      <td>0.143939</td>\n",
       "      <td>0.000051</td>\n",
       "    </tr>\n",
       "    <tr>\n",
       "      <th>55979</th>\n",
       "      <td>Gloria Estefan</td>\n",
       "      <td>http://www.last.fm/music/Gloria+Estefan</td>\n",
       "      <td>2008</td>\n",
       "      <td>83</td>\n",
       "      <td>2008</td>\n",
       "      <td>21</td>\n",
       "      <td>0.159091</td>\n",
       "      <td>0.000057</td>\n",
       "    </tr>\n",
       "    <tr>\n",
       "      <th>58493</th>\n",
       "      <td>MÃ³nica Naranjo</td>\n",
       "      <td>http://www.last.fm/music/M%C3%B3nica+Naranjo</td>\n",
       "      <td>2375</td>\n",
       "      <td>83</td>\n",
       "      <td>2375</td>\n",
       "      <td>72</td>\n",
       "      <td>0.545455</td>\n",
       "      <td>0.000201</td>\n",
       "    </tr>\n",
       "    <tr>\n",
       "      <th>58500</th>\n",
       "      <td>Alejandra GuzmÃ¡n</td>\n",
       "      <td>http://www.last.fm/music/Alejandra+Guzm%C3%A1n</td>\n",
       "      <td>2376</td>\n",
       "      <td>83</td>\n",
       "      <td>2376</td>\n",
       "      <td>59</td>\n",
       "      <td>0.446970</td>\n",
       "      <td>0.000164</td>\n",
       "    </tr>\n",
       "    <tr>\n",
       "      <th>58503</th>\n",
       "      <td>Jessie James</td>\n",
       "      <td>http://www.last.fm/music/Jessie+James</td>\n",
       "      <td>2377</td>\n",
       "      <td>83</td>\n",
       "      <td>2377</td>\n",
       "      <td>56</td>\n",
       "      <td>0.424242</td>\n",
       "      <td>0.000156</td>\n",
       "    </tr>\n",
       "    <tr>\n",
       "      <th>58522</th>\n",
       "      <td>LeToya</td>\n",
       "      <td>http://www.last.fm/music/LeToya</td>\n",
       "      <td>2378</td>\n",
       "      <td>83</td>\n",
       "      <td>2378</td>\n",
       "      <td>35</td>\n",
       "      <td>0.265152</td>\n",
       "      <td>0.000096</td>\n",
       "    </tr>\n",
       "    <tr>\n",
       "      <th>58524</th>\n",
       "      <td>Celia Cruz</td>\n",
       "      <td>http://www.last.fm/music/Celia+Cruz</td>\n",
       "      <td>2379</td>\n",
       "      <td>83</td>\n",
       "      <td>2379</td>\n",
       "      <td>32</td>\n",
       "      <td>0.242424</td>\n",
       "      <td>0.000088</td>\n",
       "    </tr>\n",
       "    <tr>\n",
       "      <th>58528</th>\n",
       "      <td>Chayanne</td>\n",
       "      <td>http://www.last.fm/music/Chayanne</td>\n",
       "      <td>2380</td>\n",
       "      <td>83</td>\n",
       "      <td>2380</td>\n",
       "      <td>27</td>\n",
       "      <td>0.204545</td>\n",
       "      <td>0.000074</td>\n",
       "    </tr>\n",
       "    <tr>\n",
       "      <th>58536</th>\n",
       "      <td>Yuri</td>\n",
       "      <td>http://www.last.fm/music/Yuri</td>\n",
       "      <td>2381</td>\n",
       "      <td>83</td>\n",
       "      <td>2381</td>\n",
       "      <td>22</td>\n",
       "      <td>0.166667</td>\n",
       "      <td>0.000060</td>\n",
       "    </tr>\n",
       "    <tr>\n",
       "      <th>58541</th>\n",
       "      <td>Patricia Rivera</td>\n",
       "      <td>http://www.last.fm/music/Patricia+Rivera</td>\n",
       "      <td>2382</td>\n",
       "      <td>83</td>\n",
       "      <td>2382</td>\n",
       "      <td>20</td>\n",
       "      <td>0.151515</td>\n",
       "      <td>0.000054</td>\n",
       "    </tr>\n",
       "  </tbody>\n",
       "</table>\n",
       "</div>"
      ],
      "text/plain": [
       "                           name  \\\n",
       "1975                    Madonna   \n",
       "5374           Enrique Iglesias   \n",
       "11971              Mariah Carey   \n",
       "12293              CÃ©line Dion   \n",
       "12593             Janet Jackson   \n",
       "12715                   Rihanna   \n",
       "13199            Britney Spears   \n",
       "14065        Christina Aguilera   \n",
       "14588               Leona Lewis   \n",
       "14758                  BeyoncÃ©   \n",
       "15713                Katy Perry   \n",
       "16170               Alicia Keys   \n",
       "16329                      P!nk   \n",
       "16677          Katharine McPhee   \n",
       "17123             Nelly Furtado   \n",
       "17710               Hilary Duff   \n",
       "17877                    Fergie   \n",
       "18723         Justin Timberlake   \n",
       "19047             Kelly Rowland   \n",
       "19539                      Cher   \n",
       "19942        The Pussycat Dolls   \n",
       "23894           Jesse McCartney   \n",
       "23946              Aaron Carter   \n",
       "23957             Justin Bieber   \n",
       "24575           Jessica Simpson   \n",
       "24649                     Ke$ha   \n",
       "25478                 M. Pokora   \n",
       "25630                     Ne-Yo   \n",
       "27918              Gwen Stefani   \n",
       "28756       Sophie Ellis-Bextor   \n",
       "31477             Laura Pausini   \n",
       "32330  Selena Gomez & the Scene   \n",
       "35725                       Fey   \n",
       "35821                   ThalÃ­a   \n",
       "37907              Cyndi Lauper   \n",
       "38623           Destiny's Child   \n",
       "49614                Eva Simons   \n",
       "49733                   Pitbull   \n",
       "54935           Jennifer Hudson   \n",
       "54957         Michelle Williams   \n",
       "55886             Stacie Orrico   \n",
       "55979            Gloria Estefan   \n",
       "58493           MÃ³nica Naranjo   \n",
       "58500         Alejandra GuzmÃ¡n   \n",
       "58503              Jessie James   \n",
       "58522                    LeToya   \n",
       "58524                Celia Cruz   \n",
       "58528                  Chayanne   \n",
       "58536                      Yuri   \n",
       "58541           Patricia Rivera   \n",
       "\n",
       "                                                     url  artID  userID  \\\n",
       "1975                    http://www.last.fm/music/Madonna     61      83   \n",
       "5374           http://www.last.fm/music/Enrique+Iglesias    155      83   \n",
       "11971              http://www.last.fm/music/Mariah+Carey    251      83   \n",
       "12293          http://www.last.fm/music/C%C3%A9line+Dion    259      83   \n",
       "12593             http://www.last.fm/music/Janet+Jackson    279      83   \n",
       "12715                   http://www.last.fm/music/Rihanna    282      83   \n",
       "13199            http://www.last.fm/music/Britney+Spears    283      83   \n",
       "14065        http://www.last.fm/music/Christina+Aguilera    286      83   \n",
       "14588               http://www.last.fm/music/Leona+Lewis    288      83   \n",
       "14758              http://www.last.fm/music/Beyonc%C3%A9    289      83   \n",
       "15713                http://www.last.fm/music/Katy+Perry    294      83   \n",
       "16170               http://www.last.fm/music/Alicia+Keys    295      83   \n",
       "16329                    http://www.last.fm/music/P%21nk    296      83   \n",
       "16677          http://www.last.fm/music/Katharine+McPhee    299      83   \n",
       "17123             http://www.last.fm/music/Nelly+Furtado    304      83   \n",
       "17710               http://www.last.fm/music/Hilary+Duff    312      83   \n",
       "17877                    http://www.last.fm/music/Fergie    314      83   \n",
       "18723         http://www.last.fm/music/Justin+Timberlake    323      83   \n",
       "19047             http://www.last.fm/music/Kelly+Rowland    326      83   \n",
       "19539                      http://www.last.fm/music/Cher    334      83   \n",
       "19942        http://www.last.fm/music/The+Pussycat+Dolls    343      83   \n",
       "23894           http://www.last.fm/music/Jesse+McCartney    450      83   \n",
       "23946              http://www.last.fm/music/Aaron+Carter    451      83   \n",
       "23957             http://www.last.fm/music/Justin+Bieber    452      83   \n",
       "24575           http://www.last.fm/music/Jessica+Simpson    459      83   \n",
       "24649                   http://www.last.fm/music/Ke%24ha    460      83   \n",
       "25478                 http://www.last.fm/music/M.+Pokora    470      83   \n",
       "25630                     http://www.last.fm/music/Ne-Yo    478      83   \n",
       "27918              http://www.last.fm/music/Gwen+Stefani    519      83   \n",
       "28756       http://www.last.fm/music/Sophie+Ellis-Bextor    529      83   \n",
       "31477             http://www.last.fm/music/Laura+Pausini    635      83   \n",
       "32330  http://www.last.fm/music/Selena%2BGomez%2B%252...    680      83   \n",
       "35725                       http://www.last.fm/music/Fey    779      83   \n",
       "35821               http://www.last.fm/music/Thal%C3%ADa    783      83   \n",
       "37907              http://www.last.fm/music/Cyndi+Lauper    880      83   \n",
       "38623         http://www.last.fm/music/Destiny%27s+Child    904      83   \n",
       "49614                http://www.last.fm/music/Eva+Simons   1432      83   \n",
       "49733                   http://www.last.fm/music/Pitbull   1440      83   \n",
       "54935           http://www.last.fm/music/Jennifer+Hudson   1921      83   \n",
       "54957         http://www.last.fm/music/Michelle+Williams   1922      83   \n",
       "55886             http://www.last.fm/music/Stacie+Orrico   2004      83   \n",
       "55979            http://www.last.fm/music/Gloria+Estefan   2008      83   \n",
       "58493       http://www.last.fm/music/M%C3%B3nica+Naranjo   2375      83   \n",
       "58500     http://www.last.fm/music/Alejandra+Guzm%C3%A1n   2376      83   \n",
       "58503              http://www.last.fm/music/Jessie+James   2377      83   \n",
       "58522                    http://www.last.fm/music/LeToya   2378      83   \n",
       "58524                http://www.last.fm/music/Celia+Cruz   2379      83   \n",
       "58528                  http://www.last.fm/music/Chayanne   2380      83   \n",
       "58536                      http://www.last.fm/music/Yuri   2381      83   \n",
       "58541           http://www.last.fm/music/Patricia+Rivera   2382      83   \n",
       "\n",
       "       artistID  played  playedUserNorm  playCountScaled  \n",
       "1975         61     108        0.818182         0.000303  \n",
       "5374        155      26        0.196970         0.000071  \n",
       "11971       251      25        0.189394         0.000068  \n",
       "12293       259      34        0.257576         0.000094  \n",
       "12593       279      85        0.643939         0.000238  \n",
       "12715       282      20        0.151515         0.000054  \n",
       "13199       283     101        0.765152         0.000284  \n",
       "14065       286     132        1.000000         0.000371  \n",
       "14588       288      76        0.575758         0.000213  \n",
       "14758       289     127        0.962121         0.000357  \n",
       "15713       294      57        0.431818         0.000159  \n",
       "16170       295      46        0.348485         0.000128  \n",
       "16329       296      66        0.500000         0.000184  \n",
       "16677       299      19        0.143939         0.000051  \n",
       "17123       304      91        0.689394         0.000255  \n",
       "17710       312      47        0.356061         0.000130  \n",
       "17877       314      42        0.318182         0.000116  \n",
       "18723       323      90        0.681818         0.000252  \n",
       "19047       326      53        0.401515         0.000147  \n",
       "19539       334      21        0.159091         0.000057  \n",
       "19942       343      24        0.181818         0.000065  \n",
       "23894       450      25        0.189394         0.000068  \n",
       "23946       451      19        0.143939         0.000051  \n",
       "23957       452      21        0.159091         0.000057  \n",
       "24575       459      61        0.462121         0.000170  \n",
       "24649       460      33        0.250000         0.000091  \n",
       "25478       470      21        0.159091         0.000057  \n",
       "25630       478      20        0.151515         0.000054  \n",
       "27918       519      81        0.613636         0.000227  \n",
       "28756       529      62        0.469697         0.000173  \n",
       "31477       635      43        0.325758         0.000119  \n",
       "32330       680      31        0.234848         0.000085  \n",
       "35725       779      31        0.234848         0.000085  \n",
       "35821       783      46        0.348485         0.000128  \n",
       "37907       880      61        0.462121         0.000170  \n",
       "38623       904      43        0.325758         0.000119  \n",
       "49614      1432      38        0.287879         0.000105  \n",
       "49733      1440      22        0.166667         0.000060  \n",
       "54935      1921      26        0.196970         0.000071  \n",
       "54957      1922      31        0.234848         0.000085  \n",
       "55886      2004      19        0.143939         0.000051  \n",
       "55979      2008      21        0.159091         0.000057  \n",
       "58493      2375      72        0.545455         0.000201  \n",
       "58500      2376      59        0.446970         0.000164  \n",
       "58503      2377      56        0.424242         0.000156  \n",
       "58522      2378      35        0.265152         0.000096  \n",
       "58524      2379      32        0.242424         0.000088  \n",
       "58528      2380      27        0.204545         0.000074  \n",
       "58536      2381      22        0.166667         0.000060  \n",
       "58541      2382      20        0.151515         0.000054  "
      ]
     },
     "execution_count": 177,
     "metadata": {},
     "output_type": "execute_result"
    }
   ],
   "source": [
    "played[played['userID'] == 83]"
   ]
  },
  {
   "cell_type": "code",
   "execution_count": 178,
   "id": "53dee9ff",
   "metadata": {},
   "outputs": [],
   "source": [
    "pre = create_artist_ratings(df, predictions_index, rating_predictions)\n",
    "zzzz2 = pd.merge(pre, tags, how=\"inner\", left_on=['artID'], right_on=['artistID'])"
   ]
  },
  {
   "cell_type": "code",
   "execution_count": 179,
   "id": "28397671",
   "metadata": {},
   "outputs": [
    {
     "data": {
      "text/plain": [
       "nu jazz              2\n",
       "acoustic             2\n",
       "80s                  2\n",
       "hard rock            2\n",
       "instrumental         2\n",
       "hair metal           2\n",
       "gabbacore            1\n",
       "glam metal           1\n",
       "contemporary jazz    1\n",
       "favorite artist      1\n",
       "jazz                 1\n",
       "male vocalists       1\n",
       "singer-songwriter    1\n",
       "pop                  1\n",
       "classic rock         1\n",
       "1989                 1\n",
       "rock                 1\n",
       "alternative          1\n",
       "synthpop             1\n",
       "electronic           1\n",
       "ambient              1\n",
       "chillout             1\n",
       "folk                 1\n",
       "melancholy           1\n",
       "reggae               1\n",
       "Name: tagValue, dtype: int64"
      ]
     },
     "execution_count": 179,
     "metadata": {},
     "output_type": "execute_result"
    }
   ],
   "source": [
    "zzzz2['tagValue'].value_counts()"
   ]
  },
  {
   "cell_type": "markdown",
   "id": "de2c35fe",
   "metadata": {},
   "source": [
    "We can see again that our system appears to be recommending artists of popular genres / tags more so and not making relevant recommendations. It is good that it is making novel recommendations on one hand and giving the user a wider scope of music. However, it must be said it would be more advisable if it could make recommendations more similar to what a user listens to identifying less popular artists of similar genres that they may have missed. This recommender like our neural network recommender appears to be suffering from the \"cold start\" problem many recommenders encounter."
   ]
  },
  {
   "cell_type": "markdown",
   "id": "bb78606e",
   "metadata": {},
   "source": [
    "# Spotify Recommender system"
   ]
  },
  {
   "cell_type": "markdown",
   "id": "a149bdc4",
   "metadata": {},
   "source": [
    "Here I will attempt to test my recommender system on my own personal spotify account to see what recommendations it provides. While it must be noted my music taste is not exactly mainstream for the most part, this should be a good test of the sturdiness of the recommender system. We will be using our first recommender system based on user and artist ID and each users uniquely normalised listening column."
   ]
  },
  {
   "cell_type": "code",
   "execution_count": 180,
   "id": "7af4d8eb",
   "metadata": {},
   "outputs": [],
   "source": [
    "import tekore as tk"
   ]
  },
  {
   "cell_type": "code",
   "execution_count": 181,
   "id": "172edec0",
   "metadata": {},
   "outputs": [],
   "source": [
    "# covering these details\n",
    "client_id = 'cb3a434dfacd4fd6b0a65dc5f4f1bd2e'\n",
    "client_secret = '39d56bef066c421f9e9ebc2bc0059ebc'"
   ]
  },
  {
   "cell_type": "code",
   "execution_count": 182,
   "id": "670f7d9c",
   "metadata": {},
   "outputs": [],
   "source": [
    "redirect_url = 'https://example.com/callback'"
   ]
  },
  {
   "cell_type": "code",
   "execution_count": 183,
   "id": "e9b93173",
   "metadata": {},
   "outputs": [
    {
     "name": "stdout",
     "output_type": "stream",
     "text": [
      "Opening browser for Spotify login...\n",
      "Please paste redirect URL: https://example.com/callback?code=AQAyoMmzOLcDLUwbzdT79PTI3zjQdZjosgxY5ZKMg52cQb-4daPbj2BBz2A1IgpaV0dNnMRBDSQ5ElyjmuN9NctxcAnz_VOSOXpr0yzq_wd8_4vfAh8VoBrF2NjK78L55YpUeTkOxNCn1A5lkgHmm7LOAz_5xwJx0B9N0_pAQ5C9M3ZKe5yLjC6EkNUEpNpQHq0cB_ARhyU9wlujF8B73Bfe__gQH1O8U3HLrJ7vnfw0IUaVmu-y52PG2xmI6lO7uuPbDDHoyf645uqrhvZqT3cnU3D98s2AFi3VwX1S3-zuQrlhZUcqTLBnWNvOSwWxfx3_xSyiEqYdTeVj-hFp8DwV64RQKZPtpod9Wcx8dDHL_A4jv0uJIKNZpNAm0QOyH7i2UC8usxV_6OjnMzegk7IgMF6gV-GG5gykz-HilAK2tFOOW_B-HF9fuwjLbOfW-hvVQ6TAnR8MBRtn-P9zSIwvLqYMRN5wOxlXVXvtQxorciGAHaccT3i1W-0UQnfJgT4bjNqt8S7shmFdbUR2Fc2mIlq44zsSyD1--Rj669e8XL7Hyy2ngRloSWX2xDyrV4fc2jNr4plErGKJadSD8PkQxfuwmWlnulusGHLieBmDetNIj2QqRdfT6qZWhM6c2rJJf4DNzU6ln6zv5jpS3Y3-DW5gaFX_O-_CU85AiJeaWqc&state=aHo9Jhl8ex8X46OE3wXztmtGSeSgELbmtbwVEG1hrSk\n"
     ]
    }
   ],
   "source": [
    "conf = (client_id, client_secret, redirect_url)\n",
    "token = tk.prompt_for_user_token(*conf, scope = tk.scope.every)\n",
    "\n",
    "spotify = tk.Spotify(token)\n",
    "\n",
    "# paste in link from new webpage opened up by this spotify call above into cell below"
   ]
  },
  {
   "cell_type": "code",
   "execution_count": 184,
   "id": "354a486e",
   "metadata": {},
   "outputs": [],
   "source": [
    "artists = spotify.current_user_top_artists(limit = 10)\n",
    "spotify_artists = artists.items"
   ]
  },
  {
   "cell_type": "code",
   "execution_count": 185,
   "id": "b8e9ec5c",
   "metadata": {},
   "outputs": [
    {
     "name": "stdout",
     "output_type": "stream",
     "text": [
      "Nearest neighbors of : Calvin Harris.\n"
     ]
    },
    {
     "data": {
      "text/html": [
       "<div>\n",
       "<style scoped>\n",
       "    .dataframe tbody tr th:only-of-type {\n",
       "        vertical-align: middle;\n",
       "    }\n",
       "\n",
       "    .dataframe tbody tr th {\n",
       "        vertical-align: top;\n",
       "    }\n",
       "\n",
       "    .dataframe thead th {\n",
       "        text-align: right;\n",
       "    }\n",
       "</style>\n",
       "<table border=\"1\" class=\"dataframe\">\n",
       "  <thead>\n",
       "    <tr style=\"text-align: right;\">\n",
       "      <th></th>\n",
       "      <th>dot score</th>\n",
       "      <th>names</th>\n",
       "    </tr>\n",
       "  </thead>\n",
       "  <tbody>\n",
       "    <tr>\n",
       "      <th>83</th>\n",
       "      <td>0.755486</td>\n",
       "      <td>Lady Gaga</td>\n",
       "    </tr>\n",
       "    <tr>\n",
       "      <th>283</th>\n",
       "      <td>0.667794</td>\n",
       "      <td>Britney Spears</td>\n",
       "    </tr>\n",
       "    <tr>\n",
       "      <th>61</th>\n",
       "      <td>0.595863</td>\n",
       "      <td>Madonna</td>\n",
       "    </tr>\n",
       "    <tr>\n",
       "      <th>167</th>\n",
       "      <td>0.548212</td>\n",
       "      <td>Placebo</td>\n",
       "    </tr>\n",
       "    <tr>\n",
       "      <th>1089</th>\n",
       "      <td>0.542046</td>\n",
       "      <td>BjÃ¶rk</td>\n",
       "    </tr>\n",
       "    <tr>\n",
       "      <th>66</th>\n",
       "      <td>0.538809</td>\n",
       "      <td>Depeche Mode</td>\n",
       "    </tr>\n",
       "  </tbody>\n",
       "</table>\n",
       "</div>"
      ],
      "text/plain": [
       "      dot score           names\n",
       "83     0.755486       Lady Gaga\n",
       "283    0.667794  Britney Spears\n",
       "61     0.595863         Madonna\n",
       "167    0.548212         Placebo\n",
       "1089   0.542046          BjÃ¶rk\n",
       "66     0.538809    Depeche Mode"
      ]
     },
     "metadata": {},
     "output_type": "display_data"
    },
    {
     "name": "stdout",
     "output_type": "stream",
     "text": [
      "Nearest neighbors of : Calvin Harris.\n"
     ]
    },
    {
     "data": {
      "text/html": [
       "<div>\n",
       "<style scoped>\n",
       "    .dataframe tbody tr th:only-of-type {\n",
       "        vertical-align: middle;\n",
       "    }\n",
       "\n",
       "    .dataframe tbody tr th {\n",
       "        vertical-align: top;\n",
       "    }\n",
       "\n",
       "    .dataframe thead th {\n",
       "        text-align: right;\n",
       "    }\n",
       "</style>\n",
       "<table border=\"1\" class=\"dataframe\">\n",
       "  <thead>\n",
       "    <tr style=\"text-align: right;\">\n",
       "      <th></th>\n",
       "      <th>cosine score</th>\n",
       "      <th>names</th>\n",
       "    </tr>\n",
       "  </thead>\n",
       "  <tbody>\n",
       "    <tr>\n",
       "      <th>1400</th>\n",
       "      <td>1.000000</td>\n",
       "      <td>Calvin Harris</td>\n",
       "    </tr>\n",
       "    <tr>\n",
       "      <th>1385</th>\n",
       "      <td>0.861905</td>\n",
       "      <td>The Chemical Brothers</td>\n",
       "    </tr>\n",
       "    <tr>\n",
       "      <th>2507</th>\n",
       "      <td>0.812462</td>\n",
       "      <td>Mando Diao</td>\n",
       "    </tr>\n",
       "    <tr>\n",
       "      <th>1234</th>\n",
       "      <td>0.806726</td>\n",
       "      <td>Mika</td>\n",
       "    </tr>\n",
       "    <tr>\n",
       "      <th>1389</th>\n",
       "      <td>0.803283</td>\n",
       "      <td>Justice</td>\n",
       "    </tr>\n",
       "    <tr>\n",
       "      <th>149</th>\n",
       "      <td>0.794625</td>\n",
       "      <td>Robbie Williams</td>\n",
       "    </tr>\n",
       "  </tbody>\n",
       "</table>\n",
       "</div>"
      ],
      "text/plain": [
       "      cosine score                  names\n",
       "1400      1.000000          Calvin Harris\n",
       "1385      0.861905  The Chemical Brothers\n",
       "2507      0.812462             Mando Diao\n",
       "1234      0.806726                   Mika\n",
       "1389      0.803283                Justice\n",
       "149       0.794625        Robbie Williams"
      ]
     },
     "metadata": {},
     "output_type": "display_data"
    },
    {
     "name": "stdout",
     "output_type": "stream",
     "text": [
      "Mark Blair is not in the LastFM data.\n",
      "Bissett is not in the LastFM data.\n",
      "Tobu is not in the LastFM data.\n",
      "Nearest neighbors of : David Guetta.\n",
      "[Found more than one matching artist. Other candidates: Chris Willis; David Guetta; Fergie; LMFAO]\n"
     ]
    },
    {
     "data": {
      "text/html": [
       "<div>\n",
       "<style scoped>\n",
       "    .dataframe tbody tr th:only-of-type {\n",
       "        vertical-align: middle;\n",
       "    }\n",
       "\n",
       "    .dataframe tbody tr th {\n",
       "        vertical-align: top;\n",
       "    }\n",
       "\n",
       "    .dataframe thead th {\n",
       "        text-align: right;\n",
       "    }\n",
       "</style>\n",
       "<table border=\"1\" class=\"dataframe\">\n",
       "  <thead>\n",
       "    <tr style=\"text-align: right;\">\n",
       "      <th></th>\n",
       "      <th>dot score</th>\n",
       "      <th>names</th>\n",
       "    </tr>\n",
       "  </thead>\n",
       "  <tbody>\n",
       "    <tr>\n",
       "      <th>283</th>\n",
       "      <td>1.225287</td>\n",
       "      <td>Britney Spears</td>\n",
       "    </tr>\n",
       "    <tr>\n",
       "      <th>83</th>\n",
       "      <td>0.916402</td>\n",
       "      <td>Lady Gaga</td>\n",
       "    </tr>\n",
       "    <tr>\n",
       "      <th>282</th>\n",
       "      <td>0.751706</td>\n",
       "      <td>Rihanna</td>\n",
       "    </tr>\n",
       "    <tr>\n",
       "      <th>492</th>\n",
       "      <td>0.718808</td>\n",
       "      <td>Paramore</td>\n",
       "    </tr>\n",
       "    <tr>\n",
       "      <th>673</th>\n",
       "      <td>0.661448</td>\n",
       "      <td>Glee Cast</td>\n",
       "    </tr>\n",
       "    <tr>\n",
       "      <th>286</th>\n",
       "      <td>0.624131</td>\n",
       "      <td>Christina Aguilera</td>\n",
       "    </tr>\n",
       "  </tbody>\n",
       "</table>\n",
       "</div>"
      ],
      "text/plain": [
       "     dot score               names\n",
       "283   1.225287      Britney Spears\n",
       "83    0.916402           Lady Gaga\n",
       "282   0.751706             Rihanna\n",
       "492   0.718808            Paramore\n",
       "673   0.661448           Glee Cast\n",
       "286   0.624131  Christina Aguilera"
      ]
     },
     "metadata": {},
     "output_type": "display_data"
    },
    {
     "name": "stdout",
     "output_type": "stream",
     "text": [
      "Nearest neighbors of : David Guetta.\n",
      "[Found more than one matching artist. Other candidates: Chris Willis; David Guetta; Fergie; LMFAO]\n"
     ]
    },
    {
     "data": {
      "text/html": [
       "<div>\n",
       "<style scoped>\n",
       "    .dataframe tbody tr th:only-of-type {\n",
       "        vertical-align: middle;\n",
       "    }\n",
       "\n",
       "    .dataframe tbody tr th {\n",
       "        vertical-align: top;\n",
       "    }\n",
       "\n",
       "    .dataframe thead th {\n",
       "        text-align: right;\n",
       "    }\n",
       "</style>\n",
       "<table border=\"1\" class=\"dataframe\">\n",
       "  <thead>\n",
       "    <tr style=\"text-align: right;\">\n",
       "      <th></th>\n",
       "      <th>cosine score</th>\n",
       "      <th>names</th>\n",
       "    </tr>\n",
       "  </thead>\n",
       "  <tbody>\n",
       "    <tr>\n",
       "      <th>322</th>\n",
       "      <td>1.000000</td>\n",
       "      <td>David Guetta</td>\n",
       "    </tr>\n",
       "    <tr>\n",
       "      <th>539</th>\n",
       "      <td>0.861302</td>\n",
       "      <td>Flo Rida</td>\n",
       "    </tr>\n",
       "    <tr>\n",
       "      <th>519</th>\n",
       "      <td>0.859870</td>\n",
       "      <td>Gwen Stefani</td>\n",
       "    </tr>\n",
       "    <tr>\n",
       "      <th>2504</th>\n",
       "      <td>0.858209</td>\n",
       "      <td>Robyn</td>\n",
       "    </tr>\n",
       "    <tr>\n",
       "      <th>65</th>\n",
       "      <td>0.852823</td>\n",
       "      <td>Dido</td>\n",
       "    </tr>\n",
       "    <tr>\n",
       "      <th>300</th>\n",
       "      <td>0.844094</td>\n",
       "      <td>Black Eyed Peas</td>\n",
       "    </tr>\n",
       "  </tbody>\n",
       "</table>\n",
       "</div>"
      ],
      "text/plain": [
       "      cosine score            names\n",
       "322       1.000000     David Guetta\n",
       "539       0.861302         Flo Rida\n",
       "519       0.859870     Gwen Stefani\n",
       "2504      0.858209            Robyn\n",
       "65        0.852823             Dido\n",
       "300       0.844094  Black Eyed Peas"
      ]
     },
     "metadata": {},
     "output_type": "display_data"
    },
    {
     "name": "stdout",
     "output_type": "stream",
     "text": [
      "Low Steppa is not in the LastFM data.\n",
      "Uniting Nations is not in the LastFM data.\n",
      "Sonny Fodera is not in the LastFM data.\n",
      "Nearest neighbors of : Eric Prydz.\n"
     ]
    },
    {
     "data": {
      "text/html": [
       "<div>\n",
       "<style scoped>\n",
       "    .dataframe tbody tr th:only-of-type {\n",
       "        vertical-align: middle;\n",
       "    }\n",
       "\n",
       "    .dataframe tbody tr th {\n",
       "        vertical-align: top;\n",
       "    }\n",
       "\n",
       "    .dataframe thead th {\n",
       "        text-align: right;\n",
       "    }\n",
       "</style>\n",
       "<table border=\"1\" class=\"dataframe\">\n",
       "  <thead>\n",
       "    <tr style=\"text-align: right;\">\n",
       "      <th></th>\n",
       "      <th>dot score</th>\n",
       "      <th>names</th>\n",
       "    </tr>\n",
       "  </thead>\n",
       "  <tbody>\n",
       "    <tr>\n",
       "      <th>221</th>\n",
       "      <td>0.124339</td>\n",
       "      <td>The Beatles</td>\n",
       "    </tr>\n",
       "    <tr>\n",
       "      <th>492</th>\n",
       "      <td>0.083971</td>\n",
       "      <td>Paramore</td>\n",
       "    </tr>\n",
       "    <tr>\n",
       "      <th>701</th>\n",
       "      <td>0.081313</td>\n",
       "      <td>Metallica</td>\n",
       "    </tr>\n",
       "    <tr>\n",
       "      <th>66</th>\n",
       "      <td>0.070629</td>\n",
       "      <td>Depeche Mode</td>\n",
       "    </tr>\n",
       "    <tr>\n",
       "      <th>1403</th>\n",
       "      <td>0.066893</td>\n",
       "      <td>Led Zeppelin</td>\n",
       "    </tr>\n",
       "    <tr>\n",
       "      <th>227</th>\n",
       "      <td>0.064273</td>\n",
       "      <td>Nine Inch Nails</td>\n",
       "    </tr>\n",
       "  </tbody>\n",
       "</table>\n",
       "</div>"
      ],
      "text/plain": [
       "      dot score            names\n",
       "221    0.124339      The Beatles\n",
       "492    0.083971         Paramore\n",
       "701    0.081313        Metallica\n",
       "66     0.070629     Depeche Mode\n",
       "1403   0.066893     Led Zeppelin\n",
       "227    0.064273  Nine Inch Nails"
      ]
     },
     "metadata": {},
     "output_type": "display_data"
    },
    {
     "name": "stdout",
     "output_type": "stream",
     "text": [
      "Nearest neighbors of : Eric Prydz.\n"
     ]
    },
    {
     "data": {
      "text/html": [
       "<div>\n",
       "<style scoped>\n",
       "    .dataframe tbody tr th:only-of-type {\n",
       "        vertical-align: middle;\n",
       "    }\n",
       "\n",
       "    .dataframe tbody tr th {\n",
       "        vertical-align: top;\n",
       "    }\n",
       "\n",
       "    .dataframe thead th {\n",
       "        text-align: right;\n",
       "    }\n",
       "</style>\n",
       "<table border=\"1\" class=\"dataframe\">\n",
       "  <thead>\n",
       "    <tr style=\"text-align: right;\">\n",
       "      <th></th>\n",
       "      <th>cosine score</th>\n",
       "      <th>names</th>\n",
       "    </tr>\n",
       "  </thead>\n",
       "  <tbody>\n",
       "    <tr>\n",
       "      <th>2494</th>\n",
       "      <td>1.000000</td>\n",
       "      <td>Eric Prydz</td>\n",
       "    </tr>\n",
       "    <tr>\n",
       "      <th>11563</th>\n",
       "      <td>0.581337</td>\n",
       "      <td>The Diamond Stretch</td>\n",
       "    </tr>\n",
       "    <tr>\n",
       "      <th>9563</th>\n",
       "      <td>0.562339</td>\n",
       "      <td>Ligeia</td>\n",
       "    </tr>\n",
       "    <tr>\n",
       "      <th>4156</th>\n",
       "      <td>0.554002</td>\n",
       "      <td>Eye Alaska</td>\n",
       "    </tr>\n",
       "    <tr>\n",
       "      <th>12248</th>\n",
       "      <td>0.550168</td>\n",
       "      <td>æ²³æ‘éš†ä¸€</td>\n",
       "    </tr>\n",
       "    <tr>\n",
       "      <th>941</th>\n",
       "      <td>0.538753</td>\n",
       "      <td>Kiko Loureiro</td>\n",
       "    </tr>\n",
       "  </tbody>\n",
       "</table>\n",
       "</div>"
      ],
      "text/plain": [
       "       cosine score                names\n",
       "2494       1.000000           Eric Prydz\n",
       "11563      0.581337  The Diamond Stretch\n",
       "9563       0.562339               Ligeia\n",
       "4156       0.554002           Eye Alaska\n",
       "12248      0.550168         æ²³æ‘éš†ä¸€\n",
       "941        0.538753        Kiko Loureiro"
      ]
     },
     "metadata": {},
     "output_type": "display_data"
    },
    {
     "name": "stdout",
     "output_type": "stream",
     "text": [
      "Pete Heller's Big Love is not in the LastFM data.\n"
     ]
    }
   ],
   "source": [
    "t = np.array(df['name'])\n",
    "for i in range(len(spotify_artists)):\n",
    "    if spotify_artists[i].name in t: \n",
    "        artist_neighbors(reg_model, spotify_artists[i].name, DOT)\n",
    "        artist_neighbors(reg_model, spotify_artists[i].name, COSINE)\n",
    "    else:\n",
    "        print(str(spotify_artists[i].name) + \" is not in the LastFM data.\")"
   ]
  },
  {
   "cell_type": "markdown",
   "id": "b7c60611",
   "metadata": {},
   "source": [
    "#### Personal Opinions on these recommendations\n",
    "As referenced earlier some of these artists aren't exactly mainstream, massively popular artists to a wider audience, hence the limited number of found artists. Calvin Harris and David Guetta are popular artists and the recommendations made by our recommender are actually good between dot score and cosine scores. The recommendations for Eric Prydz are not quite as good it has to be said especially for cosine scores. This may be due to lack of appropriate artists similar to Eric Prydz in the LastFM data as it would be a more obscure artist. The cosine and dot scores provided for this artists would appear to suggest this as they are noticeably lower than previous scores. However, on the whole I definitely find these recommendations quite good. These artists recommended are definitely not in my more popular artists and it is a good sign of the recommender system it is showing new artists. The recommendations for David Guetta and Calvin Harris are in my opinion very logical. There is artists that have collaborated with the pair in both sets of recommendations and other artists of a similar ilk who are not in my top artists. It must also be noted this dataset is from 2011 so the recommendations are based off a slightly more limited market of artists too which is why some of these artists could not be found and why some recommendations may be slightly more predictable."
   ]
  },
  {
   "cell_type": "markdown",
   "id": "d12ea46e",
   "metadata": {},
   "source": [
    "# Evaluation"
   ]
  },
  {
   "cell_type": "markdown",
   "id": "387e76dc",
   "metadata": {},
   "source": [
    "We will now try to evaluate our results and methods attempted so far. I will look at using methods such as Recall, Precision, Coverage and F1 to validate our methods. I feel methods such as mean absolute error (MAE) and root mean square error (RMSE) are not suitable to our data provided. These look at the difference between the actual and predicted values, which are not really applicable to the data here. The predicted artist could be number 1 and the actual artist could be 2 and this would appear as a very good result using this method. However, the difference in genres and similarity of artist could be completely different and hence the result is misleading. We will look to implement evaluation using the \"LightFM\" python library."
   ]
  },
  {
   "cell_type": "code",
   "execution_count": 186,
   "id": "9acee62a",
   "metadata": {},
   "outputs": [],
   "source": [
    "import implicit\n",
    "from tqdm import tqdm_notebook as tqdm\n",
    "import matplotlib.ticker as ticker\n",
    "from matplotlib import rc\n",
    "from pandas.api.types import CategoricalDtype\n",
    "import string\n",
    "import re\n",
    "import random\n",
    "import math\n",
    "from math import sqrt\n",
    "from math import log\n",
    "from collections import Counter, defaultdict\n",
    "from operator import itemgetter\n",
    "from pylab import rcParams\n",
    "from pylab import savefig"
   ]
  },
  {
   "cell_type": "code",
   "execution_count": 192,
   "id": "0486bfad",
   "metadata": {},
   "outputs": [],
   "source": [
    "# Create sparse matrix from dataframe object\n",
    "def create_sparse_matrix(data):\n",
    "  #get unique user ids and unique artist ids\n",
    "  users = list(np.sort(data.userID.unique()))\n",
    "  artists = list(data.artistID.unique())\n",
    "  plays = list(data.playCountScaled)\n",
    "\n",
    "  cat_type = CategoricalDtype(categories=users, ordered=True)\n",
    "  rows = data.userID.astype(cat_type).cat.codes\n",
    "\n",
    "  cat_type = CategoricalDtype(categories=artists, ordered=True)\n",
    "  cols = data.artistID.astype(cat_type).cat.codes\n",
    "  # we get the rows (user ids) and columns (artist ids) and populate them using plays\n",
    "  plays_sparse = scipy.sparse.csr_matrix((plays, (rows, cols)), shape=(len(users),len(artists)))\n",
    "  return plays_sparse"
   ]
  },
  {
   "cell_type": "code",
   "execution_count": 188,
   "id": "8a88282c",
   "metadata": {},
   "outputs": [],
   "source": [
    "# Calculate sparsity of matrix\n",
    "def calculate_sparsity(M):\n",
    "  matrix_size = float(M.shape[0] * M.shape[1]) # Number of total possible interactions between artist and user in the matrix\n",
    "  num_plays = len(M.nonzero()[0]) # Number of times any artist has been interacted with\n",
    "  sparsity = 100 * (1 - float(num_plays / matrix_size))\n",
    "  return sparsity"
   ]
  },
  {
   "cell_type": "code",
   "execution_count": 189,
   "id": "d968384a",
   "metadata": {},
   "outputs": [],
   "source": [
    "def evaluate_lightfm(model, original, train, test, user_features=None, item_features=None, n_rec = 20):\n",
    "    print(\"Evaluating LightFM...\")\n",
    "    print(\"Calculating Coverage...\")\n",
    "    catalog = []\n",
    "    for user in tqdm(range(0, original.shape[0])):\n",
    "      #get scores for this particular user for all artists\n",
    "      rec_scores = model.predict(user,np.arange(original.shape[1]),user_features=user_features, item_features=item_features)\n",
    "      #get top k items to recommend\n",
    "      rec_items = (-rec_scores).argsort()[:20]\n",
    "      #calculate coverage\n",
    "      #coverage calculation\n",
    "      for recs in rec_items:\n",
    "        if recs not in catalog:\n",
    "          catalog.append(recs)\n",
    "            \n",
    "    coverage = len(catalog)/float(original.shape[1])\n",
    "    print(\"Calculating Recall at k...\")\n",
    "    recall = recall_at_k(model, test, user_features = user_features, item_features = item_features, k = n_rec).mean()\n",
    "    print(\"Calculating Precision at k...\")\n",
    "    precision = precision_at_k(model, test, user_features = user_features, item_features = item_features, k = n_rec).mean()\n",
    "    f1 = (2 * precision * recall) / (precision + recall)\n",
    "    return coverage, precision, recall, f1"
   ]
  },
  {
   "cell_type": "code",
   "execution_count": 191,
   "id": "99fad042",
   "metadata": {},
   "outputs": [
    {
     "name": "stdout",
     "output_type": "stream",
     "text": [
      "Matrix Sparsity: 99.72171848800758\n",
      "Fitting model...\n",
      "Evaluating LightFM...\n",
      "Calculating Coverage...\n"
     ]
    },
    {
     "name": "stderr",
     "output_type": "stream",
     "text": [
      "C:\\Users\\user\\AppData\\Local\\Temp/ipykernel_28948/314659252.py:5: TqdmDeprecationWarning: This function will be removed in tqdm==5.0.0\n",
      "Please use `tqdm.notebook.tqdm` instead of `tqdm.tqdm_notebook`\n",
      "  for user in tqdm(range(0, original.shape[0])):\n"
     ]
    },
    {
     "data": {
      "application/vnd.jupyter.widget-view+json": {
       "model_id": "b2ef7f56f2aa441ba09d8079c41d6603",
       "version_major": 2,
       "version_minor": 0
      },
      "text/plain": [
       "  0%|          | 0/1892 [00:00<?, ?it/s]"
      ]
     },
     "metadata": {},
     "output_type": "display_data"
    },
    {
     "name": "stdout",
     "output_type": "stream",
     "text": [
      "Calculating Recall at k...\n",
      "Calculating Precision at k...\n",
      "Precision: 12.517204880714417 %\n",
      "Recall: 7.387510665225316 %\n",
      "Coverage: 0.7543103448275862 %\n",
      "F1: 9.291364585609548 %\n"
     ]
    }
   ],
   "source": [
    "playedx = played[['userID','artistID', 'playedUserNorm']]\n",
    "playedx.columns = ['userID','artistID', 'playedUserNorm']\n",
    "\n",
    "#create sparse matrix\n",
    "plays_sparse_light = create_sparse_matrix(playedx).astype('float')\n",
    "print('Matrix Sparsity:', calculate_sparsity(plays_sparse_light))\n",
    "\n",
    "train_ratings, test_ratings = split_dataframe(xyz)\n",
    "# SparseTensor representation of the train and test datasets.\n",
    "A_train = build_rating_sparse_tensor(train_ratings)\n",
    "A_test = build_rating_sparse_tensor(test_ratings)\n",
    "\n",
    "train_light, test_light = lightfm.cross_validation.random_train_test_split(plays_sparse_light, test_percentage = 0.7)\n",
    "model_fm_vanilla = LightFM(learning_rate=0.05, loss='bpr')\n",
    "\n",
    "#train model\n",
    "print(\"Fitting model...\")\n",
    "model_fm_vanilla.fit(train_light, epochs=10)\n",
    "\n",
    "#evaluate model\n",
    "coverage, precision, recall, f1 = evaluate_lightfm(model_fm_vanilla, plays_sparse_light, train_light, test_light)\n",
    "print(\"Precision:\", precision * 100, '%')\n",
    "print(\"Recall:\", recall * 100, '%')\n",
    "print(\"Coverage:\", coverage * 100, '%')\n",
    "print(\"F1:\", f1 * 100, '%')"
   ]
  },
  {
   "cell_type": "code",
   "execution_count": 193,
   "id": "8d17b581",
   "metadata": {},
   "outputs": [
    {
     "name": "stdout",
     "output_type": "stream",
     "text": [
      "Matrix Sparsity: 99.72362497745786\n",
      "Fitting model...\n",
      "Evaluating LightFM...\n",
      "Calculating Coverage...\n"
     ]
    },
    {
     "name": "stderr",
     "output_type": "stream",
     "text": [
      "C:\\Users\\user\\AppData\\Local\\Temp/ipykernel_28948/314659252.py:5: TqdmDeprecationWarning: This function will be removed in tqdm==5.0.0\n",
      "Please use `tqdm.notebook.tqdm` instead of `tqdm.tqdm_notebook`\n",
      "  for user in tqdm(range(0, original.shape[0])):\n"
     ]
    },
    {
     "data": {
      "application/vnd.jupyter.widget-view+json": {
       "model_id": "48b6cb9965854f1aba7a28ad987f5291",
       "version_major": 2,
       "version_minor": 0
      },
      "text/plain": [
       "  0%|          | 0/1892 [00:00<?, ?it/s]"
      ]
     },
     "metadata": {},
     "output_type": "display_data"
    },
    {
     "name": "stdout",
     "output_type": "stream",
     "text": [
      "Calculating Recall at k...\n",
      "Calculating Precision at k...\n",
      "Precision: 12.678666412830353 %\n",
      "Recall: 7.443313374161615 %\n",
      "Coverage: 0.8280399274047187 %\n",
      "F1: 9.379920691318953 %\n"
     ]
    }
   ],
   "source": [
    "playedx = played[['userID','artistID', 'playCountScaled']]\n",
    "playedx.columns = ['userID','artistID', 'playCountScaled']\n",
    "\n",
    "#create sparse matrix\n",
    "plays_sparse_light = create_sparse_matrix(playedx).astype('float')\n",
    "print('Matrix Sparsity:', calculate_sparsity(plays_sparse_light))\n",
    "\n",
    "train_light, test_light = lightfm.cross_validation.random_train_test_split(plays_sparse_light, test_percentage = 0.7)\n",
    "model_fm_vanilla = LightFM(learning_rate=0.05, loss='bpr')\n",
    "\n",
    "#train model\n",
    "print(\"Fitting model...\")\n",
    "model_fm_vanilla.fit(train_light, epochs=10)\n",
    "\n",
    "#evaluate model\n",
    "coverage, precision, recall, f1 = evaluate_lightfm(model_fm_vanilla, plays_sparse_light, train_light, test_light)\n",
    "print(\"Precision:\", precision * 100, '%')\n",
    "print(\"Recall:\", recall * 100, '%')\n",
    "print(\"Coverage:\", coverage * 100, '%')\n",
    "print(\"F1:\", f1 * 100, '%')"
   ]
  },
  {
   "cell_type": "markdown",
   "id": "5915f595",
   "metadata": {},
   "source": [
    "Our chosen accuracy when normalising with each user's max score is actually worse than our play count scaled metric. However, when I ran this with playCountScaled used for our recommender the recommendations were dreadul with very low dot and cosine scores. Of the sample of artists and my spotify recommendation the recommendations seemed far more accurate."
   ]
  },
  {
   "cell_type": "markdown",
   "id": "84ab0ca6",
   "metadata": {},
   "source": [
    "# Clustering"
   ]
  },
  {
   "cell_type": "code",
   "execution_count": null,
   "id": "bc6173d2",
   "metadata": {},
   "outputs": [],
   "source": []
  }
 ],
 "metadata": {
  "kernelspec": {
   "display_name": "Python 3 (ipykernel)",
   "language": "python",
   "name": "python3"
  },
  "language_info": {
   "codemirror_mode": {
    "name": "ipython",
    "version": 3
   },
   "file_extension": ".py",
   "mimetype": "text/x-python",
   "name": "python",
   "nbconvert_exporter": "python",
   "pygments_lexer": "ipython3",
   "version": "3.8.12"
  }
 },
 "nbformat": 4,
 "nbformat_minor": 5
}
