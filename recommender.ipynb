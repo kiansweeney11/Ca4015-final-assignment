{
 "cells": [
  {
   "cell_type": "code",
   "execution_count": 18,
   "id": "6859afc9",
   "metadata": {},
   "outputs": [
    {
     "name": "stderr",
     "output_type": "stream",
     "text": [
      "WARNING:root:Limited tf.compat.v2.summary API due to missing TensorBoard installation.\n",
      "WARNING:root:Limited tf.compat.v2.summary API due to missing TensorBoard installation.\n",
      "WARNING:root:Limited tf.compat.v2.summary API due to missing TensorBoard installation.\n",
      "WARNING:root:Limited tf.summary API due to missing TensorBoard installation.\n",
      "WARNING:root:Limited tf.compat.v2.summary API due to missing TensorBoard installation.\n",
      "WARNING:root:Limited tf.compat.v2.summary API due to missing TensorBoard installation.\n",
      "WARNING:root:Limited tf.compat.v2.summary API due to missing TensorBoard installation.\n"
     ]
    },
    {
     "name": "stdout",
     "output_type": "stream",
     "text": [
      "WARNING:tensorflow:From C:\\Users\\user\\anaconda3\\lib\\site-packages\\tensorflow\\python\\compat\\v2_compat.py:96: disable_resource_variables (from tensorflow.python.ops.variable_scope) is deprecated and will be removed in a future version.\n",
      "Instructions for updating:\n",
      "non-resource variables are not supported in the long term\n"
     ]
    },
    {
     "name": "stderr",
     "output_type": "stream",
     "text": [
      "WARNING:tensorflow:From C:\\Users\\user\\anaconda3\\lib\\site-packages\\tensorflow\\python\\compat\\v2_compat.py:96: disable_resource_variables (from tensorflow.python.ops.variable_scope) is deprecated and will be removed in a future version.\n",
      "Instructions for updating:\n",
      "non-resource variables are not supported in the long term\n"
     ]
    }
   ],
   "source": [
    "from __future__ import print_function\n",
    "\n",
    "import numpy as np\n",
    "import pandas as pd\n",
    "import collections\n",
    "from mpl_toolkits.mplot3d import Axes3D\n",
    "from IPython import display\n",
    "from matplotlib import pyplot as plt\n",
    "import sklearn\n",
    "import sklearn.manifold\n",
    "import tensorflow.compat.v1 as tf\n",
    "tf.disable_v2_behavior()\n",
    "tf.logging.set_verbosity(tf.logging.ERROR)"
   ]
  },
  {
   "cell_type": "code",
   "execution_count": 44,
   "id": "29559bf2",
   "metadata": {},
   "outputs": [
    {
     "name": "stdout",
     "output_type": "stream",
     "text": [
      "Imported seaborn libraries!\n"
     ]
    }
   ],
   "source": [
    "import matplotlib.pyplot as plt  # Matlab-style plotting\n",
    "from IPython.display import display\n",
    "import seaborn as sns\n",
    "print(\"Imported seaborn libraries!\")"
   ]
  },
  {
   "cell_type": "markdown",
   "id": "32ff44ac",
   "metadata": {},
   "source": [
    "Firstly, I converted my data files from .dat to .csv format. I did this via excel using the data tab and it's \"get external data\" option and extracted it from text. All the delimiting was done by default and I had my files in a delimited format."
   ]
  },
  {
   "cell_type": "code",
   "execution_count": 4,
   "id": "e612c1ae",
   "metadata": {},
   "outputs": [
    {
     "data": {
      "text/html": [
       "<div>\n",
       "<style scoped>\n",
       "    .dataframe tbody tr th:only-of-type {\n",
       "        vertical-align: middle;\n",
       "    }\n",
       "\n",
       "    .dataframe tbody tr th {\n",
       "        vertical-align: top;\n",
       "    }\n",
       "\n",
       "    .dataframe thead th {\n",
       "        text-align: right;\n",
       "    }\n",
       "</style>\n",
       "<table border=\"1\" class=\"dataframe\">\n",
       "  <thead>\n",
       "    <tr style=\"text-align: right;\">\n",
       "      <th></th>\n",
       "      <th>id</th>\n",
       "      <th>name</th>\n",
       "      <th>url</th>\n",
       "      <th>pictureURL</th>\n",
       "    </tr>\n",
       "  </thead>\n",
       "  <tbody>\n",
       "    <tr>\n",
       "      <th>0</th>\n",
       "      <td>1</td>\n",
       "      <td>MALICE MIZER</td>\n",
       "      <td>http://www.last.fm/music/MALICE+MIZER</td>\n",
       "      <td>http://userserve-ak.last.fm/serve/252/10808.jpg</td>\n",
       "    </tr>\n",
       "    <tr>\n",
       "      <th>1</th>\n",
       "      <td>2</td>\n",
       "      <td>Diary of Dreams</td>\n",
       "      <td>http://www.last.fm/music/Diary+of+Dreams</td>\n",
       "      <td>http://userserve-ak.last.fm/serve/252/3052066.jpg</td>\n",
       "    </tr>\n",
       "    <tr>\n",
       "      <th>2</th>\n",
       "      <td>3</td>\n",
       "      <td>Carpathian Forest</td>\n",
       "      <td>http://www.last.fm/music/Carpathian+Forest</td>\n",
       "      <td>http://userserve-ak.last.fm/serve/252/40222717...</td>\n",
       "    </tr>\n",
       "    <tr>\n",
       "      <th>3</th>\n",
       "      <td>4</td>\n",
       "      <td>Moi dix Mois</td>\n",
       "      <td>http://www.last.fm/music/Moi+dix+Mois</td>\n",
       "      <td>http://userserve-ak.last.fm/serve/252/54697835...</td>\n",
       "    </tr>\n",
       "    <tr>\n",
       "      <th>4</th>\n",
       "      <td>5</td>\n",
       "      <td>Bella Morte</td>\n",
       "      <td>http://www.last.fm/music/Bella+Morte</td>\n",
       "      <td>http://userserve-ak.last.fm/serve/252/14789013...</td>\n",
       "    </tr>\n",
       "    <tr>\n",
       "      <th>...</th>\n",
       "      <td>...</td>\n",
       "      <td>...</td>\n",
       "      <td>...</td>\n",
       "      <td>...</td>\n",
       "    </tr>\n",
       "    <tr>\n",
       "      <th>17627</th>\n",
       "      <td>18741</td>\n",
       "      <td>Diamanda GalÃ¡s</td>\n",
       "      <td>http://www.last.fm/music/Diamanda+Gal%C3%A1s</td>\n",
       "      <td>http://userserve-ak.last.fm/serve/252/16352971...</td>\n",
       "    </tr>\n",
       "    <tr>\n",
       "      <th>17628</th>\n",
       "      <td>18742</td>\n",
       "      <td>Aya RL</td>\n",
       "      <td>http://www.last.fm/music/Aya+RL</td>\n",
       "      <td>http://userserve-ak.last.fm/serve/252/207445.jpg</td>\n",
       "    </tr>\n",
       "    <tr>\n",
       "      <th>17629</th>\n",
       "      <td>18743</td>\n",
       "      <td>Coptic Rain</td>\n",
       "      <td>http://www.last.fm/music/Coptic+Rain</td>\n",
       "      <td>http://userserve-ak.last.fm/serve/252/344868.jpg</td>\n",
       "    </tr>\n",
       "    <tr>\n",
       "      <th>17630</th>\n",
       "      <td>18744</td>\n",
       "      <td>Oz Alchemist</td>\n",
       "      <td>http://www.last.fm/music/Oz+Alchemist</td>\n",
       "      <td>http://userserve-ak.last.fm/serve/252/29297695...</td>\n",
       "    </tr>\n",
       "    <tr>\n",
       "      <th>17631</th>\n",
       "      <td>18745</td>\n",
       "      <td>Grzegorz Tomczak</td>\n",
       "      <td>http://www.last.fm/music/Grzegorz+Tomczak</td>\n",
       "      <td>http://userserve-ak.last.fm/serve/252/59486303...</td>\n",
       "    </tr>\n",
       "  </tbody>\n",
       "</table>\n",
       "<p>17632 rows × 4 columns</p>\n",
       "</div>"
      ],
      "text/plain": [
       "          id               name                                           url  \\\n",
       "0          1       MALICE MIZER         http://www.last.fm/music/MALICE+MIZER   \n",
       "1          2    Diary of Dreams      http://www.last.fm/music/Diary+of+Dreams   \n",
       "2          3  Carpathian Forest    http://www.last.fm/music/Carpathian+Forest   \n",
       "3          4       Moi dix Mois         http://www.last.fm/music/Moi+dix+Mois   \n",
       "4          5        Bella Morte          http://www.last.fm/music/Bella+Morte   \n",
       "...      ...                ...                                           ...   \n",
       "17627  18741    Diamanda GalÃ¡s  http://www.last.fm/music/Diamanda+Gal%C3%A1s   \n",
       "17628  18742             Aya RL               http://www.last.fm/music/Aya+RL   \n",
       "17629  18743        Coptic Rain          http://www.last.fm/music/Coptic+Rain   \n",
       "17630  18744       Oz Alchemist         http://www.last.fm/music/Oz+Alchemist   \n",
       "17631  18745   Grzegorz Tomczak     http://www.last.fm/music/Grzegorz+Tomczak   \n",
       "\n",
       "                                              pictureURL  \n",
       "0        http://userserve-ak.last.fm/serve/252/10808.jpg  \n",
       "1      http://userserve-ak.last.fm/serve/252/3052066.jpg  \n",
       "2      http://userserve-ak.last.fm/serve/252/40222717...  \n",
       "3      http://userserve-ak.last.fm/serve/252/54697835...  \n",
       "4      http://userserve-ak.last.fm/serve/252/14789013...  \n",
       "...                                                  ...  \n",
       "17627  http://userserve-ak.last.fm/serve/252/16352971...  \n",
       "17628   http://userserve-ak.last.fm/serve/252/207445.jpg  \n",
       "17629   http://userserve-ak.last.fm/serve/252/344868.jpg  \n",
       "17630  http://userserve-ak.last.fm/serve/252/29297695...  \n",
       "17631  http://userserve-ak.last.fm/serve/252/59486303...  \n",
       "\n",
       "[17632 rows x 4 columns]"
      ]
     },
     "execution_count": 4,
     "metadata": {},
     "output_type": "execute_result"
    }
   ],
   "source": [
    "df = pd.read_csv(\"data/hetrec2011-lastfm-2k/artists.csv\")\n",
    "df"
   ]
  },
  {
   "cell_type": "markdown",
   "id": "1df5cbe5",
   "metadata": {},
   "source": [
    "There appears to be some unclean names such as \"Diamanda GalÃ¡s\" among others just taking an initial look at the data here."
   ]
  },
  {
   "cell_type": "code",
   "execution_count": 5,
   "id": "b4904c2d",
   "metadata": {},
   "outputs": [
    {
     "data": {
      "text/html": [
       "<div>\n",
       "<style scoped>\n",
       "    .dataframe tbody tr th:only-of-type {\n",
       "        vertical-align: middle;\n",
       "    }\n",
       "\n",
       "    .dataframe tbody tr th {\n",
       "        vertical-align: top;\n",
       "    }\n",
       "\n",
       "    .dataframe thead th {\n",
       "        text-align: right;\n",
       "    }\n",
       "</style>\n",
       "<table border=\"1\" class=\"dataframe\">\n",
       "  <thead>\n",
       "    <tr style=\"text-align: right;\">\n",
       "      <th></th>\n",
       "      <th>tagID</th>\n",
       "      <th>tagValue</th>\n",
       "    </tr>\n",
       "  </thead>\n",
       "  <tbody>\n",
       "    <tr>\n",
       "      <th>0</th>\n",
       "      <td>1</td>\n",
       "      <td>metal</td>\n",
       "    </tr>\n",
       "    <tr>\n",
       "      <th>1</th>\n",
       "      <td>2</td>\n",
       "      <td>alternative metal</td>\n",
       "    </tr>\n",
       "    <tr>\n",
       "      <th>2</th>\n",
       "      <td>3</td>\n",
       "      <td>goth rock</td>\n",
       "    </tr>\n",
       "    <tr>\n",
       "      <th>3</th>\n",
       "      <td>4</td>\n",
       "      <td>black metal</td>\n",
       "    </tr>\n",
       "    <tr>\n",
       "      <th>4</th>\n",
       "      <td>5</td>\n",
       "      <td>death metal</td>\n",
       "    </tr>\n",
       "    <tr>\n",
       "      <th>...</th>\n",
       "      <td>...</td>\n",
       "      <td>...</td>\n",
       "    </tr>\n",
       "    <tr>\n",
       "      <th>11941</th>\n",
       "      <td>12644</td>\n",
       "      <td>suomi</td>\n",
       "    </tr>\n",
       "    <tr>\n",
       "      <th>11942</th>\n",
       "      <td>12645</td>\n",
       "      <td>symbiosis</td>\n",
       "    </tr>\n",
       "    <tr>\n",
       "      <th>11943</th>\n",
       "      <td>12646</td>\n",
       "      <td>sverige</td>\n",
       "    </tr>\n",
       "    <tr>\n",
       "      <th>11944</th>\n",
       "      <td>12647</td>\n",
       "      <td>eire</td>\n",
       "    </tr>\n",
       "    <tr>\n",
       "      <th>11945</th>\n",
       "      <td>12648</td>\n",
       "      <td>electro latino</td>\n",
       "    </tr>\n",
       "  </tbody>\n",
       "</table>\n",
       "<p>11946 rows × 2 columns</p>\n",
       "</div>"
      ],
      "text/plain": [
       "       tagID           tagValue\n",
       "0          1              metal\n",
       "1          2  alternative metal\n",
       "2          3          goth rock\n",
       "3          4        black metal\n",
       "4          5        death metal\n",
       "...      ...                ...\n",
       "11941  12644              suomi\n",
       "11942  12645          symbiosis\n",
       "11943  12646            sverige\n",
       "11944  12647               eire\n",
       "11945  12648     electro latino\n",
       "\n",
       "[11946 rows x 2 columns]"
      ]
     },
     "execution_count": 5,
     "metadata": {},
     "output_type": "execute_result"
    }
   ],
   "source": [
    "df1 = pd.read_csv(\"data/hetrec2011-lastfm-2k/tags.csv\")\n",
    "df1"
   ]
  },
  {
   "cell_type": "code",
   "execution_count": 6,
   "id": "372d8f1a",
   "metadata": {},
   "outputs": [
    {
     "data": {
      "text/html": [
       "<div>\n",
       "<style scoped>\n",
       "    .dataframe tbody tr th:only-of-type {\n",
       "        vertical-align: middle;\n",
       "    }\n",
       "\n",
       "    .dataframe tbody tr th {\n",
       "        vertical-align: top;\n",
       "    }\n",
       "\n",
       "    .dataframe thead th {\n",
       "        text-align: right;\n",
       "    }\n",
       "</style>\n",
       "<table border=\"1\" class=\"dataframe\">\n",
       "  <thead>\n",
       "    <tr style=\"text-align: right;\">\n",
       "      <th></th>\n",
       "      <th>userID</th>\n",
       "      <th>artistID</th>\n",
       "      <th>weight</th>\n",
       "    </tr>\n",
       "  </thead>\n",
       "  <tbody>\n",
       "    <tr>\n",
       "      <th>0</th>\n",
       "      <td>2</td>\n",
       "      <td>51</td>\n",
       "      <td>13883</td>\n",
       "    </tr>\n",
       "    <tr>\n",
       "      <th>1</th>\n",
       "      <td>2</td>\n",
       "      <td>52</td>\n",
       "      <td>11690</td>\n",
       "    </tr>\n",
       "    <tr>\n",
       "      <th>2</th>\n",
       "      <td>2</td>\n",
       "      <td>53</td>\n",
       "      <td>11351</td>\n",
       "    </tr>\n",
       "    <tr>\n",
       "      <th>3</th>\n",
       "      <td>2</td>\n",
       "      <td>54</td>\n",
       "      <td>10300</td>\n",
       "    </tr>\n",
       "    <tr>\n",
       "      <th>4</th>\n",
       "      <td>2</td>\n",
       "      <td>55</td>\n",
       "      <td>8983</td>\n",
       "    </tr>\n",
       "    <tr>\n",
       "      <th>...</th>\n",
       "      <td>...</td>\n",
       "      <td>...</td>\n",
       "      <td>...</td>\n",
       "    </tr>\n",
       "    <tr>\n",
       "      <th>92829</th>\n",
       "      <td>2100</td>\n",
       "      <td>18726</td>\n",
       "      <td>337</td>\n",
       "    </tr>\n",
       "    <tr>\n",
       "      <th>92830</th>\n",
       "      <td>2100</td>\n",
       "      <td>18727</td>\n",
       "      <td>297</td>\n",
       "    </tr>\n",
       "    <tr>\n",
       "      <th>92831</th>\n",
       "      <td>2100</td>\n",
       "      <td>18728</td>\n",
       "      <td>281</td>\n",
       "    </tr>\n",
       "    <tr>\n",
       "      <th>92832</th>\n",
       "      <td>2100</td>\n",
       "      <td>18729</td>\n",
       "      <td>280</td>\n",
       "    </tr>\n",
       "    <tr>\n",
       "      <th>92833</th>\n",
       "      <td>2100</td>\n",
       "      <td>18730</td>\n",
       "      <td>263</td>\n",
       "    </tr>\n",
       "  </tbody>\n",
       "</table>\n",
       "<p>92834 rows × 3 columns</p>\n",
       "</div>"
      ],
      "text/plain": [
       "       userID  artistID  weight\n",
       "0           2        51   13883\n",
       "1           2        52   11690\n",
       "2           2        53   11351\n",
       "3           2        54   10300\n",
       "4           2        55    8983\n",
       "...       ...       ...     ...\n",
       "92829    2100     18726     337\n",
       "92830    2100     18727     297\n",
       "92831    2100     18728     281\n",
       "92832    2100     18729     280\n",
       "92833    2100     18730     263\n",
       "\n",
       "[92834 rows x 3 columns]"
      ]
     },
     "execution_count": 6,
     "metadata": {},
     "output_type": "execute_result"
    }
   ],
   "source": [
    "df2 = pd.read_csv(\"data/hetrec2011-lastfm-2k/user_artists.csv\")\n",
    "df2"
   ]
  },
  {
   "cell_type": "code",
   "execution_count": 200,
   "id": "81eefa4c",
   "metadata": {},
   "outputs": [
    {
     "data": {
      "text/plain": [
       "352698"
      ]
     },
     "execution_count": 200,
     "metadata": {},
     "output_type": "execute_result"
    }
   ],
   "source": [
    "df2['weight'].max()"
   ]
  },
  {
   "cell_type": "code",
   "execution_count": 7,
   "id": "b2ef80de",
   "metadata": {},
   "outputs": [
    {
     "data": {
      "text/html": [
       "<div>\n",
       "<style scoped>\n",
       "    .dataframe tbody tr th:only-of-type {\n",
       "        vertical-align: middle;\n",
       "    }\n",
       "\n",
       "    .dataframe tbody tr th {\n",
       "        vertical-align: top;\n",
       "    }\n",
       "\n",
       "    .dataframe thead th {\n",
       "        text-align: right;\n",
       "    }\n",
       "</style>\n",
       "<table border=\"1\" class=\"dataframe\">\n",
       "  <thead>\n",
       "    <tr style=\"text-align: right;\">\n",
       "      <th></th>\n",
       "      <th>userID</th>\n",
       "      <th>friendID</th>\n",
       "    </tr>\n",
       "  </thead>\n",
       "  <tbody>\n",
       "    <tr>\n",
       "      <th>0</th>\n",
       "      <td>2</td>\n",
       "      <td>275</td>\n",
       "    </tr>\n",
       "    <tr>\n",
       "      <th>1</th>\n",
       "      <td>2</td>\n",
       "      <td>428</td>\n",
       "    </tr>\n",
       "    <tr>\n",
       "      <th>2</th>\n",
       "      <td>2</td>\n",
       "      <td>515</td>\n",
       "    </tr>\n",
       "    <tr>\n",
       "      <th>3</th>\n",
       "      <td>2</td>\n",
       "      <td>761</td>\n",
       "    </tr>\n",
       "    <tr>\n",
       "      <th>4</th>\n",
       "      <td>2</td>\n",
       "      <td>831</td>\n",
       "    </tr>\n",
       "    <tr>\n",
       "      <th>...</th>\n",
       "      <td>...</td>\n",
       "      <td>...</td>\n",
       "    </tr>\n",
       "    <tr>\n",
       "      <th>25429</th>\n",
       "      <td>2099</td>\n",
       "      <td>1801</td>\n",
       "    </tr>\n",
       "    <tr>\n",
       "      <th>25430</th>\n",
       "      <td>2099</td>\n",
       "      <td>2006</td>\n",
       "    </tr>\n",
       "    <tr>\n",
       "      <th>25431</th>\n",
       "      <td>2099</td>\n",
       "      <td>2016</td>\n",
       "    </tr>\n",
       "    <tr>\n",
       "      <th>25432</th>\n",
       "      <td>2100</td>\n",
       "      <td>586</td>\n",
       "    </tr>\n",
       "    <tr>\n",
       "      <th>25433</th>\n",
       "      <td>2100</td>\n",
       "      <td>607</td>\n",
       "    </tr>\n",
       "  </tbody>\n",
       "</table>\n",
       "<p>25434 rows × 2 columns</p>\n",
       "</div>"
      ],
      "text/plain": [
       "       userID  friendID\n",
       "0           2       275\n",
       "1           2       428\n",
       "2           2       515\n",
       "3           2       761\n",
       "4           2       831\n",
       "...       ...       ...\n",
       "25429    2099      1801\n",
       "25430    2099      2006\n",
       "25431    2099      2016\n",
       "25432    2100       586\n",
       "25433    2100       607\n",
       "\n",
       "[25434 rows x 2 columns]"
      ]
     },
     "execution_count": 7,
     "metadata": {},
     "output_type": "execute_result"
    }
   ],
   "source": [
    "df3 = pd.read_csv(\"data/hetrec2011-lastfm-2k/user_friends.csv\")\n",
    "df3"
   ]
  },
  {
   "cell_type": "code",
   "execution_count": 201,
   "id": "1dff649e",
   "metadata": {},
   "outputs": [
    {
     "data": {
      "text/html": [
       "<div>\n",
       "<style scoped>\n",
       "    .dataframe tbody tr th:only-of-type {\n",
       "        vertical-align: middle;\n",
       "    }\n",
       "\n",
       "    .dataframe tbody tr th {\n",
       "        vertical-align: top;\n",
       "    }\n",
       "\n",
       "    .dataframe thead th {\n",
       "        text-align: right;\n",
       "    }\n",
       "</style>\n",
       "<table border=\"1\" class=\"dataframe\">\n",
       "  <thead>\n",
       "    <tr style=\"text-align: right;\">\n",
       "      <th></th>\n",
       "      <th>userID</th>\n",
       "      <th>artistID</th>\n",
       "      <th>tagID</th>\n",
       "      <th>day</th>\n",
       "      <th>month</th>\n",
       "      <th>year</th>\n",
       "    </tr>\n",
       "  </thead>\n",
       "  <tbody>\n",
       "    <tr>\n",
       "      <th>0</th>\n",
       "      <td>2</td>\n",
       "      <td>52</td>\n",
       "      <td>13</td>\n",
       "      <td>1</td>\n",
       "      <td>4</td>\n",
       "      <td>2009</td>\n",
       "    </tr>\n",
       "    <tr>\n",
       "      <th>1</th>\n",
       "      <td>2</td>\n",
       "      <td>52</td>\n",
       "      <td>15</td>\n",
       "      <td>1</td>\n",
       "      <td>4</td>\n",
       "      <td>2009</td>\n",
       "    </tr>\n",
       "    <tr>\n",
       "      <th>2</th>\n",
       "      <td>2</td>\n",
       "      <td>52</td>\n",
       "      <td>18</td>\n",
       "      <td>1</td>\n",
       "      <td>4</td>\n",
       "      <td>2009</td>\n",
       "    </tr>\n",
       "    <tr>\n",
       "      <th>3</th>\n",
       "      <td>2</td>\n",
       "      <td>52</td>\n",
       "      <td>21</td>\n",
       "      <td>1</td>\n",
       "      <td>4</td>\n",
       "      <td>2009</td>\n",
       "    </tr>\n",
       "    <tr>\n",
       "      <th>4</th>\n",
       "      <td>2</td>\n",
       "      <td>52</td>\n",
       "      <td>41</td>\n",
       "      <td>1</td>\n",
       "      <td>4</td>\n",
       "      <td>2009</td>\n",
       "    </tr>\n",
       "    <tr>\n",
       "      <th>...</th>\n",
       "      <td>...</td>\n",
       "      <td>...</td>\n",
       "      <td>...</td>\n",
       "      <td>...</td>\n",
       "      <td>...</td>\n",
       "      <td>...</td>\n",
       "    </tr>\n",
       "    <tr>\n",
       "      <th>186474</th>\n",
       "      <td>2100</td>\n",
       "      <td>16437</td>\n",
       "      <td>4</td>\n",
       "      <td>1</td>\n",
       "      <td>7</td>\n",
       "      <td>2010</td>\n",
       "    </tr>\n",
       "    <tr>\n",
       "      <th>186475</th>\n",
       "      <td>2100</td>\n",
       "      <td>16437</td>\n",
       "      <td>292</td>\n",
       "      <td>1</td>\n",
       "      <td>5</td>\n",
       "      <td>2010</td>\n",
       "    </tr>\n",
       "    <tr>\n",
       "      <th>186476</th>\n",
       "      <td>2100</td>\n",
       "      <td>16437</td>\n",
       "      <td>2087</td>\n",
       "      <td>1</td>\n",
       "      <td>7</td>\n",
       "      <td>2010</td>\n",
       "    </tr>\n",
       "    <tr>\n",
       "      <th>186477</th>\n",
       "      <td>2100</td>\n",
       "      <td>16437</td>\n",
       "      <td>2801</td>\n",
       "      <td>1</td>\n",
       "      <td>5</td>\n",
       "      <td>2010</td>\n",
       "    </tr>\n",
       "    <tr>\n",
       "      <th>186478</th>\n",
       "      <td>2100</td>\n",
       "      <td>16437</td>\n",
       "      <td>3335</td>\n",
       "      <td>1</td>\n",
       "      <td>7</td>\n",
       "      <td>2010</td>\n",
       "    </tr>\n",
       "  </tbody>\n",
       "</table>\n",
       "<p>186479 rows × 6 columns</p>\n",
       "</div>"
      ],
      "text/plain": [
       "        userID  artistID  tagID  day  month  year\n",
       "0            2        52     13    1      4  2009\n",
       "1            2        52     15    1      4  2009\n",
       "2            2        52     18    1      4  2009\n",
       "3            2        52     21    1      4  2009\n",
       "4            2        52     41    1      4  2009\n",
       "...        ...       ...    ...  ...    ...   ...\n",
       "186474    2100     16437      4    1      7  2010\n",
       "186475    2100     16437    292    1      5  2010\n",
       "186476    2100     16437   2087    1      7  2010\n",
       "186477    2100     16437   2801    1      5  2010\n",
       "186478    2100     16437   3335    1      7  2010\n",
       "\n",
       "[186479 rows x 6 columns]"
      ]
     },
     "execution_count": 201,
     "metadata": {},
     "output_type": "execute_result"
    }
   ],
   "source": [
    "df4 = pd.read_csv(\"data/hetrec2011-lastfm-2k/user_taggedartists-timestamps.csv\")\n",
    "df4"
   ]
  },
  {
   "cell_type": "code",
   "execution_count": 202,
   "id": "b544737b",
   "metadata": {},
   "outputs": [
    {
     "data": {
      "text/html": [
       "<div>\n",
       "<style scoped>\n",
       "    .dataframe tbody tr th:only-of-type {\n",
       "        vertical-align: middle;\n",
       "    }\n",
       "\n",
       "    .dataframe tbody tr th {\n",
       "        vertical-align: top;\n",
       "    }\n",
       "\n",
       "    .dataframe thead th {\n",
       "        text-align: right;\n",
       "    }\n",
       "</style>\n",
       "<table border=\"1\" class=\"dataframe\">\n",
       "  <thead>\n",
       "    <tr style=\"text-align: right;\">\n",
       "      <th></th>\n",
       "      <th>userID</th>\n",
       "      <th>artistID</th>\n",
       "      <th>tagID</th>\n",
       "      <th>day</th>\n",
       "      <th>month</th>\n",
       "      <th>year</th>\n",
       "    </tr>\n",
       "  </thead>\n",
       "  <tbody>\n",
       "    <tr>\n",
       "      <th>0</th>\n",
       "      <td>2</td>\n",
       "      <td>52</td>\n",
       "      <td>13</td>\n",
       "      <td>1</td>\n",
       "      <td>4</td>\n",
       "      <td>2009</td>\n",
       "    </tr>\n",
       "    <tr>\n",
       "      <th>1</th>\n",
       "      <td>2</td>\n",
       "      <td>52</td>\n",
       "      <td>15</td>\n",
       "      <td>1</td>\n",
       "      <td>4</td>\n",
       "      <td>2009</td>\n",
       "    </tr>\n",
       "    <tr>\n",
       "      <th>2</th>\n",
       "      <td>2</td>\n",
       "      <td>52</td>\n",
       "      <td>18</td>\n",
       "      <td>1</td>\n",
       "      <td>4</td>\n",
       "      <td>2009</td>\n",
       "    </tr>\n",
       "    <tr>\n",
       "      <th>3</th>\n",
       "      <td>2</td>\n",
       "      <td>52</td>\n",
       "      <td>21</td>\n",
       "      <td>1</td>\n",
       "      <td>4</td>\n",
       "      <td>2009</td>\n",
       "    </tr>\n",
       "    <tr>\n",
       "      <th>4</th>\n",
       "      <td>2</td>\n",
       "      <td>52</td>\n",
       "      <td>41</td>\n",
       "      <td>1</td>\n",
       "      <td>4</td>\n",
       "      <td>2009</td>\n",
       "    </tr>\n",
       "    <tr>\n",
       "      <th>...</th>\n",
       "      <td>...</td>\n",
       "      <td>...</td>\n",
       "      <td>...</td>\n",
       "      <td>...</td>\n",
       "      <td>...</td>\n",
       "      <td>...</td>\n",
       "    </tr>\n",
       "    <tr>\n",
       "      <th>186474</th>\n",
       "      <td>2100</td>\n",
       "      <td>16437</td>\n",
       "      <td>4</td>\n",
       "      <td>1</td>\n",
       "      <td>7</td>\n",
       "      <td>2010</td>\n",
       "    </tr>\n",
       "    <tr>\n",
       "      <th>186475</th>\n",
       "      <td>2100</td>\n",
       "      <td>16437</td>\n",
       "      <td>292</td>\n",
       "      <td>1</td>\n",
       "      <td>5</td>\n",
       "      <td>2010</td>\n",
       "    </tr>\n",
       "    <tr>\n",
       "      <th>186476</th>\n",
       "      <td>2100</td>\n",
       "      <td>16437</td>\n",
       "      <td>2087</td>\n",
       "      <td>1</td>\n",
       "      <td>7</td>\n",
       "      <td>2010</td>\n",
       "    </tr>\n",
       "    <tr>\n",
       "      <th>186477</th>\n",
       "      <td>2100</td>\n",
       "      <td>16437</td>\n",
       "      <td>2801</td>\n",
       "      <td>1</td>\n",
       "      <td>5</td>\n",
       "      <td>2010</td>\n",
       "    </tr>\n",
       "    <tr>\n",
       "      <th>186478</th>\n",
       "      <td>2100</td>\n",
       "      <td>16437</td>\n",
       "      <td>3335</td>\n",
       "      <td>1</td>\n",
       "      <td>7</td>\n",
       "      <td>2010</td>\n",
       "    </tr>\n",
       "  </tbody>\n",
       "</table>\n",
       "<p>186479 rows × 6 columns</p>\n",
       "</div>"
      ],
      "text/plain": [
       "        userID  artistID  tagID  day  month  year\n",
       "0            2        52     13    1      4  2009\n",
       "1            2        52     15    1      4  2009\n",
       "2            2        52     18    1      4  2009\n",
       "3            2        52     21    1      4  2009\n",
       "4            2        52     41    1      4  2009\n",
       "...        ...       ...    ...  ...    ...   ...\n",
       "186474    2100     16437      4    1      7  2010\n",
       "186475    2100     16437    292    1      5  2010\n",
       "186476    2100     16437   2087    1      7  2010\n",
       "186477    2100     16437   2801    1      5  2010\n",
       "186478    2100     16437   3335    1      7  2010\n",
       "\n",
       "[186479 rows x 6 columns]"
      ]
     },
     "execution_count": 202,
     "metadata": {},
     "output_type": "execute_result"
    }
   ],
   "source": [
    "df5 = pd.read_csv(\"data/hetrec2011-lastfm-2k/user_taggedartists.csv\")\n",
    "df5"
   ]
  },
  {
   "cell_type": "markdown",
   "id": "4eab0d10",
   "metadata": {},
   "source": [
    "Our last two dataframes seem exactly the same. Let's check this before we delete anything."
   ]
  },
  {
   "cell_type": "code",
   "execution_count": 203,
   "id": "1e972b86",
   "metadata": {},
   "outputs": [
    {
     "name": "stdout",
     "output_type": "stream",
     "text": [
      "True\n"
     ]
    }
   ],
   "source": [
    "def checkequality(A, B):\n",
    "\n",
    "    df11 = A.sort_index(axis=1)\n",
    "    df11 = df11.sort_values(df11.columns.tolist()).reset_index(drop=True)\n",
    "\n",
    "    df22 = B.sort_index(axis=1)\n",
    "    df22 = df22.sort_values(df22.columns.tolist()).reset_index(drop=True)\n",
    "    return (df11 == df22).values.all()\n",
    "\n",
    "a = checkequality(df4, df5)\n",
    "print (a)"
   ]
  },
  {
   "cell_type": "markdown",
   "id": "c2e85c83",
   "metadata": {},
   "source": [
    "Two of our files are exactly the same. We can delete one of these accordingly."
   ]
  },
  {
   "cell_type": "code",
   "execution_count": 204,
   "id": "a65efbd3",
   "metadata": {},
   "outputs": [],
   "source": [
    "del df5"
   ]
  },
  {
   "cell_type": "code",
   "execution_count": 13,
   "id": "19826964",
   "metadata": {},
   "outputs": [
    {
     "data": {
      "text/plain": [
       "<bound method DataFrame.info of           id               name                                           url  \\\n",
       "0          1       MALICE MIZER         http://www.last.fm/music/MALICE+MIZER   \n",
       "1          2    Diary of Dreams      http://www.last.fm/music/Diary+of+Dreams   \n",
       "2          3  Carpathian Forest    http://www.last.fm/music/Carpathian+Forest   \n",
       "3          4       Moi dix Mois         http://www.last.fm/music/Moi+dix+Mois   \n",
       "4          5        Bella Morte          http://www.last.fm/music/Bella+Morte   \n",
       "...      ...                ...                                           ...   \n",
       "17627  18741    Diamanda GalÃ¡s  http://www.last.fm/music/Diamanda+Gal%C3%A1s   \n",
       "17628  18742             Aya RL               http://www.last.fm/music/Aya+RL   \n",
       "17629  18743        Coptic Rain          http://www.last.fm/music/Coptic+Rain   \n",
       "17630  18744       Oz Alchemist         http://www.last.fm/music/Oz+Alchemist   \n",
       "17631  18745   Grzegorz Tomczak     http://www.last.fm/music/Grzegorz+Tomczak   \n",
       "\n",
       "                                              pictureURL  \n",
       "0        http://userserve-ak.last.fm/serve/252/10808.jpg  \n",
       "1      http://userserve-ak.last.fm/serve/252/3052066.jpg  \n",
       "2      http://userserve-ak.last.fm/serve/252/40222717...  \n",
       "3      http://userserve-ak.last.fm/serve/252/54697835...  \n",
       "4      http://userserve-ak.last.fm/serve/252/14789013...  \n",
       "...                                                  ...  \n",
       "17627  http://userserve-ak.last.fm/serve/252/16352971...  \n",
       "17628   http://userserve-ak.last.fm/serve/252/207445.jpg  \n",
       "17629   http://userserve-ak.last.fm/serve/252/344868.jpg  \n",
       "17630  http://userserve-ak.last.fm/serve/252/29297695...  \n",
       "17631  http://userserve-ak.last.fm/serve/252/59486303...  \n",
       "\n",
       "[17632 rows x 4 columns]>"
      ]
     },
     "execution_count": 13,
     "metadata": {},
     "output_type": "execute_result"
    }
   ],
   "source": [
    "df.info"
   ]
  },
  {
   "cell_type": "markdown",
   "id": "522539a4",
   "metadata": {},
   "source": [
    "# Methodology\n",
    "Now that all our data files are read in and in the appropriate format we will begin our end to end process. These are as follows:\n",
    "##### 1. Data cleaning and processing\n",
    "##### 2. Visualization\n",
    "##### 3. Fitting our Model\n",
    "##### 4. Evaluating our Model"
   ]
  },
  {
   "cell_type": "markdown",
   "id": "cb32b05e",
   "metadata": {},
   "source": [
    "# Cleaning and Processing\n",
    "\n",
    "### Initial analysis and cleaning"
   ]
  },
  {
   "cell_type": "code",
   "execution_count": 14,
   "id": "1bc754b3",
   "metadata": {},
   "outputs": [
    {
     "data": {
      "text/plain": [
       "Yuridia                                1\n",
       "Visa                                   1\n",
       "Popof                                  1\n",
       "Ð‘Ð°Ñ€Ð±Ð¸Ñ‚ÑƒÑ€Ð½Ñ‹Ð¹                 1\n",
       "Bandas GaÃºchas -  www.DownsMtv.com    1\n",
       "                                      ..\n",
       "Fantasia                               1\n",
       "Quella Mezza Sporca Dozzina            1\n",
       "Nickel Creek                           1\n",
       "Mason Jennings                         1\n",
       "Japandroids                            1\n",
       "Name: name, Length: 17632, dtype: int64"
      ]
     },
     "execution_count": 14,
     "metadata": {},
     "output_type": "execute_result"
    }
   ],
   "source": [
    "df['name'].value_counts()"
   ]
  },
  {
   "cell_type": "code",
   "execution_count": 16,
   "id": "421c76c1",
   "metadata": {},
   "outputs": [
    {
     "data": {
      "text/plain": [
       "2049     1\n",
       "10904    1\n",
       "653      1\n",
       "6798     1\n",
       "4751     1\n",
       "        ..\n",
       "7505     1\n",
       "1362     1\n",
       "3411     1\n",
       "9558     1\n",
       "2047     1\n",
       "Name: tagID, Length: 11946, dtype: int64"
      ]
     },
     "execution_count": 16,
     "metadata": {},
     "output_type": "execute_result"
    }
   ],
   "source": [
    "df1['tagID'].value_counts()"
   ]
  },
  {
   "cell_type": "markdown",
   "id": "08028b1e",
   "metadata": {},
   "source": [
    "After initial observation, I feel the timestamp dataframe is of little use to me and hence disregard it. As per the readme file we have 1892 users and 17632 artists in our data."
   ]
  },
  {
   "cell_type": "code",
   "execution_count": 23,
   "id": "624c8263",
   "metadata": {},
   "outputs": [],
   "source": [
    "dfs = [df, df1, df2, df3, df5]\n",
    "na = []\n",
    "for i in range(len(dfs)):\n",
    "    if dfs[i].isnull().values.any() > 0:\n",
    "        na.append(dfs[i])"
   ]
  },
  {
   "cell_type": "code",
   "execution_count": 24,
   "id": "720e9fde",
   "metadata": {},
   "outputs": [
    {
     "data": {
      "text/plain": [
       "[          id               name                                           url  \\\n",
       " 0          1       MALICE MIZER         http://www.last.fm/music/MALICE+MIZER   \n",
       " 1          2    Diary of Dreams      http://www.last.fm/music/Diary+of+Dreams   \n",
       " 2          3  Carpathian Forest    http://www.last.fm/music/Carpathian+Forest   \n",
       " 3          4       Moi dix Mois         http://www.last.fm/music/Moi+dix+Mois   \n",
       " 4          5        Bella Morte          http://www.last.fm/music/Bella+Morte   \n",
       " ...      ...                ...                                           ...   \n",
       " 17627  18741    Diamanda GalÃ¡s  http://www.last.fm/music/Diamanda+Gal%C3%A1s   \n",
       " 17628  18742             Aya RL               http://www.last.fm/music/Aya+RL   \n",
       " 17629  18743        Coptic Rain          http://www.last.fm/music/Coptic+Rain   \n",
       " 17630  18744       Oz Alchemist         http://www.last.fm/music/Oz+Alchemist   \n",
       " 17631  18745   Grzegorz Tomczak     http://www.last.fm/music/Grzegorz+Tomczak   \n",
       " \n",
       "                                               pictureURL  \n",
       " 0        http://userserve-ak.last.fm/serve/252/10808.jpg  \n",
       " 1      http://userserve-ak.last.fm/serve/252/3052066.jpg  \n",
       " 2      http://userserve-ak.last.fm/serve/252/40222717...  \n",
       " 3      http://userserve-ak.last.fm/serve/252/54697835...  \n",
       " 4      http://userserve-ak.last.fm/serve/252/14789013...  \n",
       " ...                                                  ...  \n",
       " 17627  http://userserve-ak.last.fm/serve/252/16352971...  \n",
       " 17628   http://userserve-ak.last.fm/serve/252/207445.jpg  \n",
       " 17629   http://userserve-ak.last.fm/serve/252/344868.jpg  \n",
       " 17630  http://userserve-ak.last.fm/serve/252/29297695...  \n",
       " 17631  http://userserve-ak.last.fm/serve/252/59486303...  \n",
       " \n",
       " [17632 rows x 4 columns]]"
      ]
     },
     "execution_count": 24,
     "metadata": {},
     "output_type": "execute_result"
    }
   ],
   "source": [
    "na"
   ]
  },
  {
   "cell_type": "markdown",
   "id": "f47006fd",
   "metadata": {},
   "source": [
    "The only dataframe with nulls is our artists dataframe. Let's investigate this further to see if there is any important missing values such as ID's etc."
   ]
  },
  {
   "cell_type": "code",
   "execution_count": 26,
   "id": "78ee7f82",
   "metadata": {},
   "outputs": [
    {
     "data": {
      "text/plain": [
       "id             int64\n",
       "name          object\n",
       "url           object\n",
       "pictureURL    object\n",
       "dtype: object"
      ]
     },
     "execution_count": 26,
     "metadata": {},
     "output_type": "execute_result"
    }
   ],
   "source": [
    "df.dtypes"
   ]
  },
  {
   "cell_type": "code",
   "execution_count": 30,
   "id": "b8326c87",
   "metadata": {},
   "outputs": [
    {
     "name": "stdout",
     "output_type": "stream",
     "text": [
      "pictureURL 0.0252 % missing values\n",
      "['pictureURL']\n"
     ]
    }
   ],
   "source": [
    "features_with_na = [features for features in df.columns if df[features].isnull().sum() > 0]\n",
    "\n",
    "for feature in features_with_na: \n",
    "    print(feature, np.round(df[feature].isnull().mean(), 4), '% missing values')\n",
    "    print(features_with_na)"
   ]
  },
  {
   "cell_type": "markdown",
   "id": "2d1ccfc7",
   "metadata": {},
   "source": [
    "This is a positive result as there are very few null values in the dataframe and the small amount that exist are in a column of lesser important that we will not need to impute missing values for."
   ]
  },
  {
   "cell_type": "code",
   "execution_count": 35,
   "id": "6e4d5a4d",
   "metadata": {},
   "outputs": [],
   "source": [
    "played = pd.merge(df, df2, how=\"inner\", left_on=\"id\", right_on=\"artistID\")\n",
    "played.rename(columns={\"weight\": \"played\"}, inplace=True)"
   ]
  },
  {
   "cell_type": "code",
   "execution_count": 36,
   "id": "2200d005",
   "metadata": {},
   "outputs": [
    {
     "data": {
      "text/html": [
       "<div>\n",
       "<style scoped>\n",
       "    .dataframe tbody tr th:only-of-type {\n",
       "        vertical-align: middle;\n",
       "    }\n",
       "\n",
       "    .dataframe tbody tr th {\n",
       "        vertical-align: top;\n",
       "    }\n",
       "\n",
       "    .dataframe thead th {\n",
       "        text-align: right;\n",
       "    }\n",
       "</style>\n",
       "<table border=\"1\" class=\"dataframe\">\n",
       "  <thead>\n",
       "    <tr style=\"text-align: right;\">\n",
       "      <th></th>\n",
       "      <th>id</th>\n",
       "      <th>name</th>\n",
       "      <th>url</th>\n",
       "      <th>pictureURL</th>\n",
       "      <th>userID</th>\n",
       "      <th>artistID</th>\n",
       "      <th>played</th>\n",
       "    </tr>\n",
       "  </thead>\n",
       "  <tbody>\n",
       "    <tr>\n",
       "      <th>0</th>\n",
       "      <td>1</td>\n",
       "      <td>MALICE MIZER</td>\n",
       "      <td>http://www.last.fm/music/MALICE+MIZER</td>\n",
       "      <td>http://userserve-ak.last.fm/serve/252/10808.jpg</td>\n",
       "      <td>34</td>\n",
       "      <td>1</td>\n",
       "      <td>212</td>\n",
       "    </tr>\n",
       "    <tr>\n",
       "      <th>1</th>\n",
       "      <td>1</td>\n",
       "      <td>MALICE MIZER</td>\n",
       "      <td>http://www.last.fm/music/MALICE+MIZER</td>\n",
       "      <td>http://userserve-ak.last.fm/serve/252/10808.jpg</td>\n",
       "      <td>274</td>\n",
       "      <td>1</td>\n",
       "      <td>483</td>\n",
       "    </tr>\n",
       "    <tr>\n",
       "      <th>2</th>\n",
       "      <td>1</td>\n",
       "      <td>MALICE MIZER</td>\n",
       "      <td>http://www.last.fm/music/MALICE+MIZER</td>\n",
       "      <td>http://userserve-ak.last.fm/serve/252/10808.jpg</td>\n",
       "      <td>785</td>\n",
       "      <td>1</td>\n",
       "      <td>76</td>\n",
       "    </tr>\n",
       "    <tr>\n",
       "      <th>3</th>\n",
       "      <td>2</td>\n",
       "      <td>Diary of Dreams</td>\n",
       "      <td>http://www.last.fm/music/Diary+of+Dreams</td>\n",
       "      <td>http://userserve-ak.last.fm/serve/252/3052066.jpg</td>\n",
       "      <td>135</td>\n",
       "      <td>2</td>\n",
       "      <td>1021</td>\n",
       "    </tr>\n",
       "    <tr>\n",
       "      <th>4</th>\n",
       "      <td>2</td>\n",
       "      <td>Diary of Dreams</td>\n",
       "      <td>http://www.last.fm/music/Diary+of+Dreams</td>\n",
       "      <td>http://userserve-ak.last.fm/serve/252/3052066.jpg</td>\n",
       "      <td>257</td>\n",
       "      <td>2</td>\n",
       "      <td>152</td>\n",
       "    </tr>\n",
       "    <tr>\n",
       "      <th>...</th>\n",
       "      <td>...</td>\n",
       "      <td>...</td>\n",
       "      <td>...</td>\n",
       "      <td>...</td>\n",
       "      <td>...</td>\n",
       "      <td>...</td>\n",
       "      <td>...</td>\n",
       "    </tr>\n",
       "    <tr>\n",
       "      <th>92829</th>\n",
       "      <td>18741</td>\n",
       "      <td>Diamanda GalÃ¡s</td>\n",
       "      <td>http://www.last.fm/music/Diamanda+Gal%C3%A1s</td>\n",
       "      <td>http://userserve-ak.last.fm/serve/252/16352971...</td>\n",
       "      <td>454</td>\n",
       "      <td>18741</td>\n",
       "      <td>301</td>\n",
       "    </tr>\n",
       "    <tr>\n",
       "      <th>92830</th>\n",
       "      <td>18742</td>\n",
       "      <td>Aya RL</td>\n",
       "      <td>http://www.last.fm/music/Aya+RL</td>\n",
       "      <td>http://userserve-ak.last.fm/serve/252/207445.jpg</td>\n",
       "      <td>454</td>\n",
       "      <td>18742</td>\n",
       "      <td>294</td>\n",
       "    </tr>\n",
       "    <tr>\n",
       "      <th>92831</th>\n",
       "      <td>18743</td>\n",
       "      <td>Coptic Rain</td>\n",
       "      <td>http://www.last.fm/music/Coptic+Rain</td>\n",
       "      <td>http://userserve-ak.last.fm/serve/252/344868.jpg</td>\n",
       "      <td>454</td>\n",
       "      <td>18743</td>\n",
       "      <td>287</td>\n",
       "    </tr>\n",
       "    <tr>\n",
       "      <th>92832</th>\n",
       "      <td>18744</td>\n",
       "      <td>Oz Alchemist</td>\n",
       "      <td>http://www.last.fm/music/Oz+Alchemist</td>\n",
       "      <td>http://userserve-ak.last.fm/serve/252/29297695...</td>\n",
       "      <td>454</td>\n",
       "      <td>18744</td>\n",
       "      <td>286</td>\n",
       "    </tr>\n",
       "    <tr>\n",
       "      <th>92833</th>\n",
       "      <td>18745</td>\n",
       "      <td>Grzegorz Tomczak</td>\n",
       "      <td>http://www.last.fm/music/Grzegorz+Tomczak</td>\n",
       "      <td>http://userserve-ak.last.fm/serve/252/59486303...</td>\n",
       "      <td>585</td>\n",
       "      <td>18745</td>\n",
       "      <td>426</td>\n",
       "    </tr>\n",
       "  </tbody>\n",
       "</table>\n",
       "<p>92834 rows × 7 columns</p>\n",
       "</div>"
      ],
      "text/plain": [
       "          id              name                                           url  \\\n",
       "0          1      MALICE MIZER         http://www.last.fm/music/MALICE+MIZER   \n",
       "1          1      MALICE MIZER         http://www.last.fm/music/MALICE+MIZER   \n",
       "2          1      MALICE MIZER         http://www.last.fm/music/MALICE+MIZER   \n",
       "3          2   Diary of Dreams      http://www.last.fm/music/Diary+of+Dreams   \n",
       "4          2   Diary of Dreams      http://www.last.fm/music/Diary+of+Dreams   \n",
       "...      ...               ...                                           ...   \n",
       "92829  18741   Diamanda GalÃ¡s  http://www.last.fm/music/Diamanda+Gal%C3%A1s   \n",
       "92830  18742            Aya RL               http://www.last.fm/music/Aya+RL   \n",
       "92831  18743       Coptic Rain          http://www.last.fm/music/Coptic+Rain   \n",
       "92832  18744      Oz Alchemist         http://www.last.fm/music/Oz+Alchemist   \n",
       "92833  18745  Grzegorz Tomczak     http://www.last.fm/music/Grzegorz+Tomczak   \n",
       "\n",
       "                                              pictureURL  userID  artistID  \\\n",
       "0        http://userserve-ak.last.fm/serve/252/10808.jpg      34         1   \n",
       "1        http://userserve-ak.last.fm/serve/252/10808.jpg     274         1   \n",
       "2        http://userserve-ak.last.fm/serve/252/10808.jpg     785         1   \n",
       "3      http://userserve-ak.last.fm/serve/252/3052066.jpg     135         2   \n",
       "4      http://userserve-ak.last.fm/serve/252/3052066.jpg     257         2   \n",
       "...                                                  ...     ...       ...   \n",
       "92829  http://userserve-ak.last.fm/serve/252/16352971...     454     18741   \n",
       "92830   http://userserve-ak.last.fm/serve/252/207445.jpg     454     18742   \n",
       "92831   http://userserve-ak.last.fm/serve/252/344868.jpg     454     18743   \n",
       "92832  http://userserve-ak.last.fm/serve/252/29297695...     454     18744   \n",
       "92833  http://userserve-ak.last.fm/serve/252/59486303...     585     18745   \n",
       "\n",
       "       played  \n",
       "0         212  \n",
       "1         483  \n",
       "2          76  \n",
       "3        1021  \n",
       "4         152  \n",
       "...       ...  \n",
       "92829     301  \n",
       "92830     294  \n",
       "92831     287  \n",
       "92832     286  \n",
       "92833     426  \n",
       "\n",
       "[92834 rows x 7 columns]"
      ]
     },
     "execution_count": 36,
     "metadata": {},
     "output_type": "execute_result"
    }
   ],
   "source": [
    "played"
   ]
  },
  {
   "cell_type": "markdown",
   "id": "9b76b522",
   "metadata": {},
   "source": [
    "We will drop the pictureURL column as there is not much information to be gained and there is some nulls present."
   ]
  },
  {
   "cell_type": "code",
   "execution_count": 37,
   "id": "f03db6c5",
   "metadata": {},
   "outputs": [],
   "source": [
    "played.drop(columns=['pictureURL'], inplace=True)"
   ]
  },
  {
   "cell_type": "code",
   "execution_count": 38,
   "id": "5a6e1b52",
   "metadata": {},
   "outputs": [
    {
     "data": {
      "text/html": [
       "<div>\n",
       "<style scoped>\n",
       "    .dataframe tbody tr th:only-of-type {\n",
       "        vertical-align: middle;\n",
       "    }\n",
       "\n",
       "    .dataframe tbody tr th {\n",
       "        vertical-align: top;\n",
       "    }\n",
       "\n",
       "    .dataframe thead th {\n",
       "        text-align: right;\n",
       "    }\n",
       "</style>\n",
       "<table border=\"1\" class=\"dataframe\">\n",
       "  <thead>\n",
       "    <tr style=\"text-align: right;\">\n",
       "      <th></th>\n",
       "      <th>id</th>\n",
       "      <th>name</th>\n",
       "      <th>url</th>\n",
       "      <th>userID</th>\n",
       "      <th>artistID</th>\n",
       "      <th>played</th>\n",
       "    </tr>\n",
       "  </thead>\n",
       "  <tbody>\n",
       "    <tr>\n",
       "      <th>0</th>\n",
       "      <td>1</td>\n",
       "      <td>MALICE MIZER</td>\n",
       "      <td>http://www.last.fm/music/MALICE+MIZER</td>\n",
       "      <td>34</td>\n",
       "      <td>1</td>\n",
       "      <td>212</td>\n",
       "    </tr>\n",
       "    <tr>\n",
       "      <th>1</th>\n",
       "      <td>1</td>\n",
       "      <td>MALICE MIZER</td>\n",
       "      <td>http://www.last.fm/music/MALICE+MIZER</td>\n",
       "      <td>274</td>\n",
       "      <td>1</td>\n",
       "      <td>483</td>\n",
       "    </tr>\n",
       "    <tr>\n",
       "      <th>2</th>\n",
       "      <td>1</td>\n",
       "      <td>MALICE MIZER</td>\n",
       "      <td>http://www.last.fm/music/MALICE+MIZER</td>\n",
       "      <td>785</td>\n",
       "      <td>1</td>\n",
       "      <td>76</td>\n",
       "    </tr>\n",
       "    <tr>\n",
       "      <th>3</th>\n",
       "      <td>2</td>\n",
       "      <td>Diary of Dreams</td>\n",
       "      <td>http://www.last.fm/music/Diary+of+Dreams</td>\n",
       "      <td>135</td>\n",
       "      <td>2</td>\n",
       "      <td>1021</td>\n",
       "    </tr>\n",
       "    <tr>\n",
       "      <th>4</th>\n",
       "      <td>2</td>\n",
       "      <td>Diary of Dreams</td>\n",
       "      <td>http://www.last.fm/music/Diary+of+Dreams</td>\n",
       "      <td>257</td>\n",
       "      <td>2</td>\n",
       "      <td>152</td>\n",
       "    </tr>\n",
       "    <tr>\n",
       "      <th>...</th>\n",
       "      <td>...</td>\n",
       "      <td>...</td>\n",
       "      <td>...</td>\n",
       "      <td>...</td>\n",
       "      <td>...</td>\n",
       "      <td>...</td>\n",
       "    </tr>\n",
       "    <tr>\n",
       "      <th>92829</th>\n",
       "      <td>18741</td>\n",
       "      <td>Diamanda GalÃ¡s</td>\n",
       "      <td>http://www.last.fm/music/Diamanda+Gal%C3%A1s</td>\n",
       "      <td>454</td>\n",
       "      <td>18741</td>\n",
       "      <td>301</td>\n",
       "    </tr>\n",
       "    <tr>\n",
       "      <th>92830</th>\n",
       "      <td>18742</td>\n",
       "      <td>Aya RL</td>\n",
       "      <td>http://www.last.fm/music/Aya+RL</td>\n",
       "      <td>454</td>\n",
       "      <td>18742</td>\n",
       "      <td>294</td>\n",
       "    </tr>\n",
       "    <tr>\n",
       "      <th>92831</th>\n",
       "      <td>18743</td>\n",
       "      <td>Coptic Rain</td>\n",
       "      <td>http://www.last.fm/music/Coptic+Rain</td>\n",
       "      <td>454</td>\n",
       "      <td>18743</td>\n",
       "      <td>287</td>\n",
       "    </tr>\n",
       "    <tr>\n",
       "      <th>92832</th>\n",
       "      <td>18744</td>\n",
       "      <td>Oz Alchemist</td>\n",
       "      <td>http://www.last.fm/music/Oz+Alchemist</td>\n",
       "      <td>454</td>\n",
       "      <td>18744</td>\n",
       "      <td>286</td>\n",
       "    </tr>\n",
       "    <tr>\n",
       "      <th>92833</th>\n",
       "      <td>18745</td>\n",
       "      <td>Grzegorz Tomczak</td>\n",
       "      <td>http://www.last.fm/music/Grzegorz+Tomczak</td>\n",
       "      <td>585</td>\n",
       "      <td>18745</td>\n",
       "      <td>426</td>\n",
       "    </tr>\n",
       "  </tbody>\n",
       "</table>\n",
       "<p>92834 rows × 6 columns</p>\n",
       "</div>"
      ],
      "text/plain": [
       "          id              name                                           url  \\\n",
       "0          1      MALICE MIZER         http://www.last.fm/music/MALICE+MIZER   \n",
       "1          1      MALICE MIZER         http://www.last.fm/music/MALICE+MIZER   \n",
       "2          1      MALICE MIZER         http://www.last.fm/music/MALICE+MIZER   \n",
       "3          2   Diary of Dreams      http://www.last.fm/music/Diary+of+Dreams   \n",
       "4          2   Diary of Dreams      http://www.last.fm/music/Diary+of+Dreams   \n",
       "...      ...               ...                                           ...   \n",
       "92829  18741   Diamanda GalÃ¡s  http://www.last.fm/music/Diamanda+Gal%C3%A1s   \n",
       "92830  18742            Aya RL               http://www.last.fm/music/Aya+RL   \n",
       "92831  18743       Coptic Rain          http://www.last.fm/music/Coptic+Rain   \n",
       "92832  18744      Oz Alchemist         http://www.last.fm/music/Oz+Alchemist   \n",
       "92833  18745  Grzegorz Tomczak     http://www.last.fm/music/Grzegorz+Tomczak   \n",
       "\n",
       "       userID  artistID  played  \n",
       "0          34         1     212  \n",
       "1         274         1     483  \n",
       "2         785         1      76  \n",
       "3         135         2    1021  \n",
       "4         257         2     152  \n",
       "...       ...       ...     ...  \n",
       "92829     454     18741     301  \n",
       "92830     454     18742     294  \n",
       "92831     454     18743     287  \n",
       "92832     454     18744     286  \n",
       "92833     585     18745     426  \n",
       "\n",
       "[92834 rows x 6 columns]"
      ]
     },
     "execution_count": 38,
     "metadata": {},
     "output_type": "execute_result"
    }
   ],
   "source": [
    "played"
   ]
  },
  {
   "cell_type": "code",
   "execution_count": 144,
   "id": "5bfc1275",
   "metadata": {},
   "outputs": [
    {
     "name": "stdout",
     "output_type": "stream",
     "text": [
      "The mean number of times a user listens to a song is: 745.2439300256372\n"
     ]
    }
   ],
   "source": [
    "mean = played['played'].mean()\n",
    "print(\"The mean number of times a user listens to a song is: \" + str(mean))"
   ]
  },
  {
   "cell_type": "code",
   "execution_count": 145,
   "id": "44897224",
   "metadata": {},
   "outputs": [
    {
     "name": "stdout",
     "output_type": "stream",
     "text": [
      "The median number of times a user listens to a song is: 260.0\n"
     ]
    }
   ],
   "source": [
    "median = played['played'].median()\n",
    "print(\"The median number of times a user listens to a song is: \" + str(median))"
   ]
  },
  {
   "cell_type": "code",
   "execution_count": 39,
   "id": "b081fe57",
   "metadata": {},
   "outputs": [
    {
     "data": {
      "text/plain": [
       "<AxesSubplot:>"
      ]
     },
     "execution_count": 39,
     "metadata": {},
     "output_type": "execute_result"
    },
    {
     "data": {
      "image/png": "[encoded data removed]",
      "text/plain": [
       "<Figure size 432x288 with 1 Axes>"
      ]
     },
     "metadata": {
      "needs_background": "light"
     },
     "output_type": "display_data"
    }
   ],
   "source": [
    "played['name'].value_counts()[:20].plot(kind='barh', color='green')"
   ]
  },
  {
   "cell_type": "code",
   "execution_count": 126,
   "id": "9804e4f7",
   "metadata": {},
   "outputs": [
    {
     "data": {
      "text/plain": [
       "<AxesSubplot:xlabel='played'>"
      ]
     },
     "execution_count": 126,
     "metadata": {},
     "output_type": "execute_result"
    },
    {
     "data": {
      "image/png": "[encoded data removed]",
      "text/plain": [
       "<Figure size 1080x504 with 1 Axes>"
      ]
     },
     "metadata": {
      "needs_background": "light"
     },
     "output_type": "display_data"
    }
   ],
   "source": [
    "plt.figure(figsize=[15,7])\n",
    "sns.boxplot(x=played['played'], color=\".25\")"
   ]
  },
  {
   "cell_type": "markdown",
   "id": "c5849db6",
   "metadata": {},
   "source": [
    "There appears to be quite a lot of outliers here in the played column. Some users have obviously listened to their songs far more times than the average. We double check our values for mean and median earlier and can confirm there are quite a few outliers here."
   ]
  },
  {
   "cell_type": "code",
   "execution_count": 68,
   "id": "43e0df15",
   "metadata": {},
   "outputs": [
    {
     "data": {
      "text/html": [
       "<div>\n",
       "<style scoped>\n",
       "    .dataframe tbody tr th:only-of-type {\n",
       "        vertical-align: middle;\n",
       "    }\n",
       "\n",
       "    .dataframe tbody tr th {\n",
       "        vertical-align: top;\n",
       "    }\n",
       "\n",
       "    .dataframe thead th {\n",
       "        text-align: right;\n",
       "    }\n",
       "</style>\n",
       "<table border=\"1\" class=\"dataframe\">\n",
       "  <thead>\n",
       "    <tr style=\"text-align: right;\">\n",
       "      <th></th>\n",
       "      <th>id</th>\n",
       "      <th>userID</th>\n",
       "      <th>artistID</th>\n",
       "      <th>played</th>\n",
       "    </tr>\n",
       "  </thead>\n",
       "  <tbody>\n",
       "    <tr>\n",
       "      <th>count</th>\n",
       "      <td>92834.000000</td>\n",
       "      <td>92834.000000</td>\n",
       "      <td>92834.000000</td>\n",
       "      <td>92834.00000</td>\n",
       "    </tr>\n",
       "    <tr>\n",
       "      <th>mean</th>\n",
       "      <td>3331.123145</td>\n",
       "      <td>1037.010481</td>\n",
       "      <td>3331.123145</td>\n",
       "      <td>745.24393</td>\n",
       "    </tr>\n",
       "    <tr>\n",
       "      <th>std</th>\n",
       "      <td>4383.590502</td>\n",
       "      <td>610.870436</td>\n",
       "      <td>4383.590502</td>\n",
       "      <td>3751.32208</td>\n",
       "    </tr>\n",
       "    <tr>\n",
       "      <th>min</th>\n",
       "      <td>1.000000</td>\n",
       "      <td>2.000000</td>\n",
       "      <td>1.000000</td>\n",
       "      <td>1.00000</td>\n",
       "    </tr>\n",
       "    <tr>\n",
       "      <th>25%</th>\n",
       "      <td>436.000000</td>\n",
       "      <td>502.000000</td>\n",
       "      <td>436.000000</td>\n",
       "      <td>107.00000</td>\n",
       "    </tr>\n",
       "    <tr>\n",
       "      <th>50%</th>\n",
       "      <td>1246.000000</td>\n",
       "      <td>1029.000000</td>\n",
       "      <td>1246.000000</td>\n",
       "      <td>260.00000</td>\n",
       "    </tr>\n",
       "    <tr>\n",
       "      <th>75%</th>\n",
       "      <td>4350.000000</td>\n",
       "      <td>1568.000000</td>\n",
       "      <td>4350.000000</td>\n",
       "      <td>614.00000</td>\n",
       "    </tr>\n",
       "    <tr>\n",
       "      <th>max</th>\n",
       "      <td>18745.000000</td>\n",
       "      <td>2100.000000</td>\n",
       "      <td>18745.000000</td>\n",
       "      <td>352698.00000</td>\n",
       "    </tr>\n",
       "  </tbody>\n",
       "</table>\n",
       "</div>"
      ],
      "text/plain": [
       "                 id        userID      artistID        played\n",
       "count  92834.000000  92834.000000  92834.000000   92834.00000\n",
       "mean    3331.123145   1037.010481   3331.123145     745.24393\n",
       "std     4383.590502    610.870436   4383.590502    3751.32208\n",
       "min        1.000000      2.000000      1.000000       1.00000\n",
       "25%      436.000000    502.000000    436.000000     107.00000\n",
       "50%     1246.000000   1029.000000   1246.000000     260.00000\n",
       "75%     4350.000000   1568.000000   4350.000000     614.00000\n",
       "max    18745.000000   2100.000000  18745.000000  352698.00000"
      ]
     },
     "execution_count": 68,
     "metadata": {},
     "output_type": "execute_result"
    }
   ],
   "source": [
    "played.describe()"
   ]
  },
  {
   "cell_type": "code",
   "execution_count": 69,
   "id": "58a16335",
   "metadata": {},
   "outputs": [
    {
     "name": "stderr",
     "output_type": "stream",
     "text": [
      "<ipython-input-69-1861b8911a57>:1: DeprecationWarning: `np.object` is a deprecated alias for the builtin `object`. To silence this warning, use `object` by itself. Doing this will not modify any behavior and is safe. \n",
      "Deprecated in NumPy 1.20; for more details and guidance: https://numpy.org/devdocs/release/1.20.0-notes.html#deprecations\n",
      "  played.describe(include=[np.object])\n"
     ]
    },
    {
     "data": {
      "text/html": [
       "<div>\n",
       "<style scoped>\n",
       "    .dataframe tbody tr th:only-of-type {\n",
       "        vertical-align: middle;\n",
       "    }\n",
       "\n",
       "    .dataframe tbody tr th {\n",
       "        vertical-align: top;\n",
       "    }\n",
       "\n",
       "    .dataframe thead th {\n",
       "        text-align: right;\n",
       "    }\n",
       "</style>\n",
       "<table border=\"1\" class=\"dataframe\">\n",
       "  <thead>\n",
       "    <tr style=\"text-align: right;\">\n",
       "      <th></th>\n",
       "      <th>name</th>\n",
       "      <th>url</th>\n",
       "    </tr>\n",
       "  </thead>\n",
       "  <tbody>\n",
       "    <tr>\n",
       "      <th>count</th>\n",
       "      <td>92834</td>\n",
       "      <td>92834</td>\n",
       "    </tr>\n",
       "    <tr>\n",
       "      <th>unique</th>\n",
       "      <td>17632</td>\n",
       "      <td>17632</td>\n",
       "    </tr>\n",
       "    <tr>\n",
       "      <th>top</th>\n",
       "      <td>Lady Gaga</td>\n",
       "      <td>http://www.last.fm/music/Lady+Gaga</td>\n",
       "    </tr>\n",
       "    <tr>\n",
       "      <th>freq</th>\n",
       "      <td>611</td>\n",
       "      <td>611</td>\n",
       "    </tr>\n",
       "  </tbody>\n",
       "</table>\n",
       "</div>"
      ],
      "text/plain": [
       "             name                                 url\n",
       "count       92834                               92834\n",
       "unique      17632                               17632\n",
       "top     Lady Gaga  http://www.last.fm/music/Lady+Gaga\n",
       "freq          611                                 611"
      ]
     },
     "execution_count": 69,
     "metadata": {},
     "output_type": "execute_result"
    }
   ],
   "source": [
    "played.describe(include=[np.object])"
   ]
  },
  {
   "cell_type": "code",
   "execution_count": 237,
   "id": "51660c4d",
   "metadata": {},
   "outputs": [],
   "source": [
    "grouped_multiple = played.groupby(['artistID', 'name']).agg({'played': ['mean', 'median', 'max', 'sum']})\n",
    "grouped_multiple.columns = ['mean', 'med', 'max', 'sum']\n",
    "grouped_multiple = grouped_multiple.reset_index()\n",
    "#grouped_multiple.sort('price_mean', ascending=False)\n",
    "grouped_multiple = pd.DataFrame(grouped_multiple)"
   ]
  },
  {
   "cell_type": "code",
   "execution_count": 128,
   "id": "5d18baaa",
   "metadata": {},
   "outputs": [],
   "source": [
    "artdf = grouped_multiple.sort_values(by=['sum'], ascending=False)"
   ]
  },
  {
   "cell_type": "code",
   "execution_count": 129,
   "id": "377b22e2",
   "metadata": {},
   "outputs": [
    {
     "data": {
      "text/html": [
       "<div>\n",
       "<style scoped>\n",
       "    .dataframe tbody tr th:only-of-type {\n",
       "        vertical-align: middle;\n",
       "    }\n",
       "\n",
       "    .dataframe tbody tr th {\n",
       "        vertical-align: top;\n",
       "    }\n",
       "\n",
       "    .dataframe thead th {\n",
       "        text-align: right;\n",
       "    }\n",
       "</style>\n",
       "<table border=\"1\" class=\"dataframe\">\n",
       "  <thead>\n",
       "    <tr style=\"text-align: right;\">\n",
       "      <th></th>\n",
       "      <th>artistID</th>\n",
       "      <th>name</th>\n",
       "      <th>mean</th>\n",
       "      <th>med</th>\n",
       "      <th>max</th>\n",
       "      <th>sum</th>\n",
       "    </tr>\n",
       "  </thead>\n",
       "  <tbody>\n",
       "    <tr>\n",
       "      <th>283</th>\n",
       "      <td>289</td>\n",
       "      <td>Britney Spears</td>\n",
       "      <td>4584.559387</td>\n",
       "      <td>1000.5</td>\n",
       "      <td>131733</td>\n",
       "      <td>2393140</td>\n",
       "    </tr>\n",
       "    <tr>\n",
       "      <th>66</th>\n",
       "      <td>72</td>\n",
       "      <td>Depeche Mode</td>\n",
       "      <td>4614.567376</td>\n",
       "      <td>567.0</td>\n",
       "      <td>352698</td>\n",
       "      <td>1301308</td>\n",
       "    </tr>\n",
       "    <tr>\n",
       "      <th>83</th>\n",
       "      <td>89</td>\n",
       "      <td>Lady Gaga</td>\n",
       "      <td>2113.563011</td>\n",
       "      <td>590.0</td>\n",
       "      <td>114672</td>\n",
       "      <td>1291387</td>\n",
       "    </tr>\n",
       "    <tr>\n",
       "      <th>286</th>\n",
       "      <td>292</td>\n",
       "      <td>Christina Aguilera</td>\n",
       "      <td>2600.503686</td>\n",
       "      <td>739.0</td>\n",
       "      <td>176133</td>\n",
       "      <td>1058405</td>\n",
       "    </tr>\n",
       "    <tr>\n",
       "      <th>492</th>\n",
       "      <td>498</td>\n",
       "      <td>Paramore</td>\n",
       "      <td>2414.659148</td>\n",
       "      <td>417.0</td>\n",
       "      <td>227829</td>\n",
       "      <td>963449</td>\n",
       "    </tr>\n",
       "    <tr>\n",
       "      <th>...</th>\n",
       "      <td>...</td>\n",
       "      <td>...</td>\n",
       "      <td>...</td>\n",
       "      <td>...</td>\n",
       "      <td>...</td>\n",
       "      <td>...</td>\n",
       "    </tr>\n",
       "    <tr>\n",
       "      <th>16522</th>\n",
       "      <td>17468</td>\n",
       "      <td>K-Precise</td>\n",
       "      <td>1.000000</td>\n",
       "      <td>1.0</td>\n",
       "      <td>1</td>\n",
       "      <td>1</td>\n",
       "    </tr>\n",
       "    <tr>\n",
       "      <th>13713</th>\n",
       "      <td>14309</td>\n",
       "      <td>ZÃœNDER</td>\n",
       "      <td>1.000000</td>\n",
       "      <td>1.0</td>\n",
       "      <td>1</td>\n",
       "      <td>1</td>\n",
       "    </tr>\n",
       "    <tr>\n",
       "      <th>13712</th>\n",
       "      <td>14308</td>\n",
       "      <td>Evil Masquerade</td>\n",
       "      <td>1.000000</td>\n",
       "      <td>1.0</td>\n",
       "      <td>1</td>\n",
       "      <td>1</td>\n",
       "    </tr>\n",
       "    <tr>\n",
       "      <th>16239</th>\n",
       "      <td>17168</td>\n",
       "      <td>Gosling</td>\n",
       "      <td>1.000000</td>\n",
       "      <td>1.0</td>\n",
       "      <td>1</td>\n",
       "      <td>1</td>\n",
       "    </tr>\n",
       "    <tr>\n",
       "      <th>16241</th>\n",
       "      <td>17170</td>\n",
       "      <td>Kalson</td>\n",
       "      <td>1.000000</td>\n",
       "      <td>1.0</td>\n",
       "      <td>1</td>\n",
       "      <td>1</td>\n",
       "    </tr>\n",
       "  </tbody>\n",
       "</table>\n",
       "<p>17632 rows × 6 columns</p>\n",
       "</div>"
      ],
      "text/plain": [
       "       artistID                name         mean     med     max      sum\n",
       "283         289      Britney Spears  4584.559387  1000.5  131733  2393140\n",
       "66           72        Depeche Mode  4614.567376   567.0  352698  1301308\n",
       "83           89           Lady Gaga  2113.563011   590.0  114672  1291387\n",
       "286         292  Christina Aguilera  2600.503686   739.0  176133  1058405\n",
       "492         498            Paramore  2414.659148   417.0  227829   963449\n",
       "...         ...                 ...          ...     ...     ...      ...\n",
       "16522     17468           K-Precise     1.000000     1.0       1        1\n",
       "13713     14309             ZÃœNDER     1.000000     1.0       1        1\n",
       "13712     14308     Evil Masquerade     1.000000     1.0       1        1\n",
       "16239     17168             Gosling     1.000000     1.0       1        1\n",
       "16241     17170              Kalson     1.000000     1.0       1        1\n",
       "\n",
       "[17632 rows x 6 columns]"
      ]
     },
     "execution_count": 129,
     "metadata": {},
     "output_type": "execute_result"
    }
   ],
   "source": [
    "artdf"
   ]
  },
  {
   "cell_type": "code",
   "execution_count": 130,
   "id": "607bae5c",
   "metadata": {},
   "outputs": [],
   "source": [
    "pt2 = artdf.head(20)"
   ]
  },
  {
   "cell_type": "code",
   "execution_count": 131,
   "id": "384d1a18",
   "metadata": {},
   "outputs": [
    {
     "data": {
      "text/plain": [
       "<AxesSubplot:title={'center':'Biggest artists by no of listens'}, xlabel='Artist', ylabel='Listens (millions)'>"
      ]
     },
     "execution_count": 131,
     "metadata": {},
     "output_type": "execute_result"
    },
    {
     "data": {
      "image/png": "[encoded data removed]",
      "text/plain": [
       "<Figure size 1296x432 with 1 Axes>"
      ]
     },
     "metadata": {
      "needs_background": "light"
     },
     "output_type": "display_data"
    }
   ],
   "source": [
    "pt2.plot.bar(x = 'name', y = 'sum', rot = 40, figsize=(18, 6), color='green', xlabel='Artist', ylabel='Listens (millions)', title='Biggest artists by no of listens')"
   ]
  },
  {
   "cell_type": "code",
   "execution_count": 235,
   "id": "78bc6c88",
   "metadata": {},
   "outputs": [],
   "source": [
    "grouped_multiple = played.groupby(['userID']).agg({'played': ['mean', 'median', 'max', 'sum']})\n",
    "grouped_multiple.columns = ['mean', 'med', 'max', 'sum']\n",
    "grouped_multiple = grouped_multiple.reset_index()\n",
    "#grouped_multiple.sort('price_mean', ascending=False)\n",
    "grouped_multiple = pd.DataFrame(grouped_multiple)"
   ]
  },
  {
   "cell_type": "code",
   "execution_count": 133,
   "id": "b35fc5ea",
   "metadata": {},
   "outputs": [],
   "source": [
    "userdf = grouped_multiple.sort_values(by=['sum'], ascending=False)"
   ]
  },
  {
   "cell_type": "code",
   "execution_count": 134,
   "id": "cf530e3c",
   "metadata": {},
   "outputs": [],
   "source": [
    "pt3 = userdf.head(20)"
   ]
  },
  {
   "cell_type": "code",
   "execution_count": 135,
   "id": "a4f84202",
   "metadata": {},
   "outputs": [
    {
     "data": {
      "text/plain": [
       "<AxesSubplot:title={'center':'Users with by no of listens'}, xlabel='User', ylabel='Listens (millions)'>"
      ]
     },
     "execution_count": 135,
     "metadata": {},
     "output_type": "execute_result"
    },
    {
     "data": {
      "image/png": "[encoded data removed]",
      "text/plain": [
       "<Figure size 1296x432 with 1 Axes>"
      ]
     },
     "metadata": {
      "needs_background": "light"
     },
     "output_type": "display_data"
    }
   ],
   "source": [
    "pt3.plot.bar(x = 'userID', y = 'sum', rot = 40, figsize=(18, 6), color='turquoise', xlabel='User', ylabel='Listens', title='Users with by no of listens')"
   ]
  },
  {
   "cell_type": "code",
   "execution_count": 168,
   "id": "5a07f72b",
   "metadata": {},
   "outputs": [
    {
     "data": {
      "text/plain": [
       "283      4584.559387\n",
       "66       4614.567376\n",
       "83       2113.563011\n",
       "286      2600.503686\n",
       "492      2414.659148\n",
       "            ...     \n",
       "16522       1.000000\n",
       "13713       1.000000\n",
       "13712       1.000000\n",
       "16239       1.000000\n",
       "16241       1.000000\n",
       "Name: mean, Length: 17632, dtype: float64"
      ]
     },
     "execution_count": 168,
     "metadata": {},
     "output_type": "execute_result"
    }
   ],
   "source": [
    "artdf['mean']"
   ]
  },
  {
   "cell_type": "code",
   "execution_count": 170,
   "id": "8a62f41a",
   "metadata": {},
   "outputs": [
    {
     "data": {
      "text/plain": [
       "(92834, 6)"
      ]
     },
     "execution_count": 170,
     "metadata": {},
     "output_type": "execute_result"
    }
   ],
   "source": [
    "played.shape"
   ]
  },
  {
   "cell_type": "code",
   "execution_count": 175,
   "id": "0ecbca2b",
   "metadata": {},
   "outputs": [
    {
     "name": "stderr",
     "output_type": "stream",
     "text": [
      "C:\\Users\\user\\anaconda3\\lib\\site-packages\\seaborn\\distributions.py:2557: FutureWarning: `distplot` is a deprecated function and will be removed in a future version. Please adapt your code to use either `displot` (a figure-level function with similar flexibility) or `histplot` (an axes-level function for histograms).\n",
      "  warnings.warn(msg, FutureWarning)\n"
     ]
    },
    {
     "data": {
      "text/plain": [
       "Text(0, 0.5, 'Density')"
      ]
     },
     "execution_count": 175,
     "metadata": {},
     "output_type": "execute_result"
    },
    {
     "data": {
      "image/png": "[encoded data removed]",
      "text/plain": [
       "<Figure size 1080x504 with 1 Axes>"
      ]
     },
     "metadata": {
      "needs_background": "light"
     },
     "output_type": "display_data"
    }
   ],
   "source": [
    "plt.figure(figsize=[15,7])\n",
    "sns.distplot(played['played'])\n",
    "plt.xlabel('Played', fontsize=18)\n",
    "plt.ylabel('Density', fontsize=16)"
   ]
  },
  {
   "cell_type": "code",
   "execution_count": 180,
   "id": "e260c23d",
   "metadata": {},
   "outputs": [
    {
     "name": "stderr",
     "output_type": "stream",
     "text": [
      "C:\\Users\\user\\anaconda3\\lib\\site-packages\\seaborn\\distributions.py:2557: FutureWarning: `distplot` is a deprecated function and will be removed in a future version. Please adapt your code to use either `displot` (a figure-level function with similar flexibility) or `histplot` (an axes-level function for histograms).\n",
      "  warnings.warn(msg, FutureWarning)\n"
     ]
    },
    {
     "data": {
      "text/plain": [
       "<AxesSubplot:xlabel='played', ylabel='Density'>"
      ]
     },
     "execution_count": 180,
     "metadata": {},
     "output_type": "execute_result"
    },
    {
     "data": {
      "image/png": "[encoded data removed]",
      "text/plain": [
       "<Figure size 1080x504 with 1 Axes>"
      ]
     },
     "metadata": {
      "needs_background": "light"
     },
     "output_type": "display_data"
    }
   ],
   "source": [
    "plt.figure(figsize=[15,7])\n",
    "plt.xlabel('L(played)', fontsize=18)\n",
    "plt.ylabel('Density', fontsize=16)\n",
    "sns.distplot(np.log1p(played[\"played\"]))"
   ]
  },
  {
   "cell_type": "code",
   "execution_count": 240,
   "id": "489d0841",
   "metadata": {},
   "outputs": [],
   "source": [
    "xyz = pd.DataFrame(played['name'].value_counts())"
   ]
  },
  {
   "cell_type": "code",
   "execution_count": 243,
   "id": "f150a9dd",
   "metadata": {},
   "outputs": [],
   "source": [
    "xyz = xyz.reset_index()"
   ]
  },
  {
   "cell_type": "code",
   "execution_count": 245,
   "id": "65226e45",
   "metadata": {},
   "outputs": [],
   "source": [
    "xyz.rename(columns={'index': 'name', 'name': 'unique'}, inplace=True)"
   ]
  },
  {
   "cell_type": "code",
   "execution_count": 246,
   "id": "1a8f351c",
   "metadata": {},
   "outputs": [
    {
     "data": {
      "text/html": [
       "<div>\n",
       "<style scoped>\n",
       "    .dataframe tbody tr th:only-of-type {\n",
       "        vertical-align: middle;\n",
       "    }\n",
       "\n",
       "    .dataframe tbody tr th {\n",
       "        vertical-align: top;\n",
       "    }\n",
       "\n",
       "    .dataframe thead th {\n",
       "        text-align: right;\n",
       "    }\n",
       "</style>\n",
       "<table border=\"1\" class=\"dataframe\">\n",
       "  <thead>\n",
       "    <tr style=\"text-align: right;\">\n",
       "      <th></th>\n",
       "      <th>name</th>\n",
       "      <th>unique</th>\n",
       "    </tr>\n",
       "  </thead>\n",
       "  <tbody>\n",
       "    <tr>\n",
       "      <th>0</th>\n",
       "      <td>Lady Gaga</td>\n",
       "      <td>611</td>\n",
       "    </tr>\n",
       "    <tr>\n",
       "      <th>1</th>\n",
       "      <td>Britney Spears</td>\n",
       "      <td>522</td>\n",
       "    </tr>\n",
       "    <tr>\n",
       "      <th>2</th>\n",
       "      <td>Rihanna</td>\n",
       "      <td>484</td>\n",
       "    </tr>\n",
       "    <tr>\n",
       "      <th>3</th>\n",
       "      <td>The Beatles</td>\n",
       "      <td>480</td>\n",
       "    </tr>\n",
       "    <tr>\n",
       "      <th>4</th>\n",
       "      <td>Katy Perry</td>\n",
       "      <td>473</td>\n",
       "    </tr>\n",
       "    <tr>\n",
       "      <th>...</th>\n",
       "      <td>...</td>\n",
       "      <td>...</td>\n",
       "    </tr>\n",
       "    <tr>\n",
       "      <th>17627</th>\n",
       "      <td>Maria Timm</td>\n",
       "      <td>1</td>\n",
       "    </tr>\n",
       "    <tr>\n",
       "      <th>17628</th>\n",
       "      <td>VanessÃ£o</td>\n",
       "      <td>1</td>\n",
       "    </tr>\n",
       "    <tr>\n",
       "      <th>17629</th>\n",
       "      <td>n1nthcloud</td>\n",
       "      <td>1</td>\n",
       "    </tr>\n",
       "    <tr>\n",
       "      <th>17630</th>\n",
       "      <td>Clara Rockmore</td>\n",
       "      <td>1</td>\n",
       "    </tr>\n",
       "    <tr>\n",
       "      <th>17631</th>\n",
       "      <td>Japandroids</td>\n",
       "      <td>1</td>\n",
       "    </tr>\n",
       "  </tbody>\n",
       "</table>\n",
       "<p>17632 rows × 2 columns</p>\n",
       "</div>"
      ],
      "text/plain": [
       "                 name  unique\n",
       "0           Lady Gaga     611\n",
       "1      Britney Spears     522\n",
       "2             Rihanna     484\n",
       "3         The Beatles     480\n",
       "4          Katy Perry     473\n",
       "...               ...     ...\n",
       "17627      Maria Timm       1\n",
       "17628       VanessÃ£o       1\n",
       "17629      n1nthcloud       1\n",
       "17630  Clara Rockmore       1\n",
       "17631     Japandroids       1\n",
       "\n",
       "[17632 rows x 2 columns]"
      ]
     },
     "execution_count": 246,
     "metadata": {},
     "output_type": "execute_result"
    }
   ],
   "source": [
    "xyz"
   ]
  },
  {
   "cell_type": "code",
   "execution_count": 247,
   "id": "f1ea0279",
   "metadata": {},
   "outputs": [],
   "source": [
    "merged_df = artdf.merge(xyz, how = 'inner', on = ['name', 'name'])"
   ]
  },
  {
   "cell_type": "code",
   "execution_count": 248,
   "id": "09927634",
   "metadata": {},
   "outputs": [
    {
     "data": {
      "text/html": [
       "<div>\n",
       "<style scoped>\n",
       "    .dataframe tbody tr th:only-of-type {\n",
       "        vertical-align: middle;\n",
       "    }\n",
       "\n",
       "    .dataframe tbody tr th {\n",
       "        vertical-align: top;\n",
       "    }\n",
       "\n",
       "    .dataframe thead th {\n",
       "        text-align: right;\n",
       "    }\n",
       "</style>\n",
       "<table border=\"1\" class=\"dataframe\">\n",
       "  <thead>\n",
       "    <tr style=\"text-align: right;\">\n",
       "      <th></th>\n",
       "      <th>artistID</th>\n",
       "      <th>name</th>\n",
       "      <th>mean</th>\n",
       "      <th>med</th>\n",
       "      <th>max</th>\n",
       "      <th>sum</th>\n",
       "      <th>Percentage</th>\n",
       "      <th>unique</th>\n",
       "    </tr>\n",
       "  </thead>\n",
       "  <tbody>\n",
       "    <tr>\n",
       "      <th>0</th>\n",
       "      <td>289</td>\n",
       "      <td>Britney Spears</td>\n",
       "      <td>4584.559387</td>\n",
       "      <td>1000.5</td>\n",
       "      <td>131733</td>\n",
       "      <td>2393140</td>\n",
       "      <td>0.322939</td>\n",
       "      <td>522</td>\n",
       "    </tr>\n",
       "    <tr>\n",
       "      <th>1</th>\n",
       "      <td>72</td>\n",
       "      <td>Depeche Mode</td>\n",
       "      <td>4614.567376</td>\n",
       "      <td>567.0</td>\n",
       "      <td>352698</td>\n",
       "      <td>1301308</td>\n",
       "      <td>0.275899</td>\n",
       "      <td>282</td>\n",
       "    </tr>\n",
       "    <tr>\n",
       "      <th>2</th>\n",
       "      <td>89</td>\n",
       "      <td>Lady Gaga</td>\n",
       "      <td>2113.563011</td>\n",
       "      <td>590.0</td>\n",
       "      <td>114672</td>\n",
       "      <td>1291387</td>\n",
       "      <td>0.255814</td>\n",
       "      <td>611</td>\n",
       "    </tr>\n",
       "    <tr>\n",
       "      <th>3</th>\n",
       "      <td>292</td>\n",
       "      <td>Christina Aguilera</td>\n",
       "      <td>2600.503686</td>\n",
       "      <td>739.0</td>\n",
       "      <td>176133</td>\n",
       "      <td>1058405</td>\n",
       "      <td>0.253700</td>\n",
       "      <td>407</td>\n",
       "    </tr>\n",
       "    <tr>\n",
       "      <th>4</th>\n",
       "      <td>498</td>\n",
       "      <td>Paramore</td>\n",
       "      <td>2414.659148</td>\n",
       "      <td>417.0</td>\n",
       "      <td>227829</td>\n",
       "      <td>963449</td>\n",
       "      <td>0.250000</td>\n",
       "      <td>399</td>\n",
       "    </tr>\n",
       "    <tr>\n",
       "      <th>...</th>\n",
       "      <td>...</td>\n",
       "      <td>...</td>\n",
       "      <td>...</td>\n",
       "      <td>...</td>\n",
       "      <td>...</td>\n",
       "      <td>...</td>\n",
       "      <td>...</td>\n",
       "      <td>...</td>\n",
       "    </tr>\n",
       "    <tr>\n",
       "      <th>17627</th>\n",
       "      <td>17468</td>\n",
       "      <td>K-Precise</td>\n",
       "      <td>1.000000</td>\n",
       "      <td>1.0</td>\n",
       "      <td>1</td>\n",
       "      <td>1</td>\n",
       "      <td>0.000529</td>\n",
       "      <td>1</td>\n",
       "    </tr>\n",
       "    <tr>\n",
       "      <th>17628</th>\n",
       "      <td>14309</td>\n",
       "      <td>ZÃœNDER</td>\n",
       "      <td>1.000000</td>\n",
       "      <td>1.0</td>\n",
       "      <td>1</td>\n",
       "      <td>1</td>\n",
       "      <td>0.000529</td>\n",
       "      <td>1</td>\n",
       "    </tr>\n",
       "    <tr>\n",
       "      <th>17629</th>\n",
       "      <td>14308</td>\n",
       "      <td>Evil Masquerade</td>\n",
       "      <td>1.000000</td>\n",
       "      <td>1.0</td>\n",
       "      <td>1</td>\n",
       "      <td>1</td>\n",
       "      <td>0.000529</td>\n",
       "      <td>1</td>\n",
       "    </tr>\n",
       "    <tr>\n",
       "      <th>17630</th>\n",
       "      <td>17168</td>\n",
       "      <td>Gosling</td>\n",
       "      <td>1.000000</td>\n",
       "      <td>1.0</td>\n",
       "      <td>1</td>\n",
       "      <td>1</td>\n",
       "      <td>0.000529</td>\n",
       "      <td>1</td>\n",
       "    </tr>\n",
       "    <tr>\n",
       "      <th>17631</th>\n",
       "      <td>17170</td>\n",
       "      <td>Kalson</td>\n",
       "      <td>1.000000</td>\n",
       "      <td>1.0</td>\n",
       "      <td>1</td>\n",
       "      <td>1</td>\n",
       "      <td>0.000529</td>\n",
       "      <td>1</td>\n",
       "    </tr>\n",
       "  </tbody>\n",
       "</table>\n",
       "<p>17632 rows × 8 columns</p>\n",
       "</div>"
      ],
      "text/plain": [
       "       artistID                name         mean     med     max      sum  \\\n",
       "0           289      Britney Spears  4584.559387  1000.5  131733  2393140   \n",
       "1            72        Depeche Mode  4614.567376   567.0  352698  1301308   \n",
       "2            89           Lady Gaga  2113.563011   590.0  114672  1291387   \n",
       "3           292  Christina Aguilera  2600.503686   739.0  176133  1058405   \n",
       "4           498            Paramore  2414.659148   417.0  227829   963449   \n",
       "...         ...                 ...          ...     ...     ...      ...   \n",
       "17627     17468           K-Precise     1.000000     1.0       1        1   \n",
       "17628     14309             ZÃœNDER     1.000000     1.0       1        1   \n",
       "17629     14308     Evil Masquerade     1.000000     1.0       1        1   \n",
       "17630     17168             Gosling     1.000000     1.0       1        1   \n",
       "17631     17170              Kalson     1.000000     1.0       1        1   \n",
       "\n",
       "       Percentage  unique  \n",
       "0        0.322939     522  \n",
       "1        0.275899     282  \n",
       "2        0.255814     611  \n",
       "3        0.253700     407  \n",
       "4        0.250000     399  \n",
       "...           ...     ...  \n",
       "17627    0.000529       1  \n",
       "17628    0.000529       1  \n",
       "17629    0.000529       1  \n",
       "17630    0.000529       1  \n",
       "17631    0.000529       1  \n",
       "\n",
       "[17632 rows x 8 columns]"
      ]
     },
     "execution_count": 248,
     "metadata": {},
     "output_type": "execute_result"
    }
   ],
   "source": [
    "merged_df"
   ]
  },
  {
   "cell_type": "code",
   "execution_count": 249,
   "id": "d97c7a54",
   "metadata": {},
   "outputs": [],
   "source": [
    "artdf['unique'] = merged_df['unique']"
   ]
  },
  {
   "cell_type": "code",
   "execution_count": 251,
   "id": "f4b72989",
   "metadata": {},
   "outputs": [],
   "source": [
    "percent = []\n",
    "val = artdf['unique']\n",
    "total = played['userID'].nunique()\n",
    "percent = []\n",
    "for i in range(len(val)):\n",
    "    y = val[i] / total\n",
    "    percent.append(y)\n",
    "    #print(y)"
   ]
  },
  {
   "cell_type": "code",
   "execution_count": 253,
   "id": "ae92e85e",
   "metadata": {},
   "outputs": [],
   "source": [
    "percent = np.array(percent)\n",
    "artdf['Percentage'] = percent.tolist()"
   ]
  },
  {
   "cell_type": "code",
   "execution_count": 257,
   "id": "7e112b8a",
   "metadata": {},
   "outputs": [
    {
     "data": {
      "text/html": [
       "<div>\n",
       "<style scoped>\n",
       "    .dataframe tbody tr th:only-of-type {\n",
       "        vertical-align: middle;\n",
       "    }\n",
       "\n",
       "    .dataframe tbody tr th {\n",
       "        vertical-align: top;\n",
       "    }\n",
       "\n",
       "    .dataframe thead th {\n",
       "        text-align: right;\n",
       "    }\n",
       "</style>\n",
       "<table border=\"1\" class=\"dataframe\">\n",
       "  <thead>\n",
       "    <tr style=\"text-align: right;\">\n",
       "      <th></th>\n",
       "      <th>artistID</th>\n",
       "      <th>name</th>\n",
       "      <th>mean</th>\n",
       "      <th>med</th>\n",
       "      <th>max</th>\n",
       "      <th>sum</th>\n",
       "      <th>Percentage</th>\n",
       "      <th>unique</th>\n",
       "    </tr>\n",
       "  </thead>\n",
       "  <tbody>\n",
       "    <tr>\n",
       "      <th>283</th>\n",
       "      <td>289</td>\n",
       "      <td>Britney Spears</td>\n",
       "      <td>4584.559387</td>\n",
       "      <td>1000.5</td>\n",
       "      <td>131733</td>\n",
       "      <td>2393140</td>\n",
       "      <td>0.275899</td>\n",
       "      <td>84</td>\n",
       "    </tr>\n",
       "    <tr>\n",
       "      <th>66</th>\n",
       "      <td>72</td>\n",
       "      <td>Depeche Mode</td>\n",
       "      <td>4614.567376</td>\n",
       "      <td>567.0</td>\n",
       "      <td>352698</td>\n",
       "      <td>1301308</td>\n",
       "      <td>0.149049</td>\n",
       "      <td>198</td>\n",
       "    </tr>\n",
       "    <tr>\n",
       "      <th>83</th>\n",
       "      <td>89</td>\n",
       "      <td>Lady Gaga</td>\n",
       "      <td>2113.563011</td>\n",
       "      <td>590.0</td>\n",
       "      <td>114672</td>\n",
       "      <td>1291387</td>\n",
       "      <td>0.322939</td>\n",
       "      <td>161</td>\n",
       "    </tr>\n",
       "    <tr>\n",
       "      <th>286</th>\n",
       "      <td>292</td>\n",
       "      <td>Christina Aguilera</td>\n",
       "      <td>2600.503686</td>\n",
       "      <td>739.0</td>\n",
       "      <td>176133</td>\n",
       "      <td>1058405</td>\n",
       "      <td>0.215116</td>\n",
       "      <td>85</td>\n",
       "    </tr>\n",
       "    <tr>\n",
       "      <th>492</th>\n",
       "      <td>498</td>\n",
       "      <td>Paramore</td>\n",
       "      <td>2414.659148</td>\n",
       "      <td>417.0</td>\n",
       "      <td>227829</td>\n",
       "      <td>963449</td>\n",
       "      <td>0.210888</td>\n",
       "      <td>38</td>\n",
       "    </tr>\n",
       "    <tr>\n",
       "      <th>...</th>\n",
       "      <td>...</td>\n",
       "      <td>...</td>\n",
       "      <td>...</td>\n",
       "      <td>...</td>\n",
       "      <td>...</td>\n",
       "      <td>...</td>\n",
       "      <td>...</td>\n",
       "      <td>...</td>\n",
       "    </tr>\n",
       "    <tr>\n",
       "      <th>16522</th>\n",
       "      <td>17468</td>\n",
       "      <td>K-Precise</td>\n",
       "      <td>1.000000</td>\n",
       "      <td>1.0</td>\n",
       "      <td>1</td>\n",
       "      <td>1</td>\n",
       "      <td>0.000529</td>\n",
       "      <td>1</td>\n",
       "    </tr>\n",
       "    <tr>\n",
       "      <th>13713</th>\n",
       "      <td>14309</td>\n",
       "      <td>ZÃœNDER</td>\n",
       "      <td>1.000000</td>\n",
       "      <td>1.0</td>\n",
       "      <td>1</td>\n",
       "      <td>1</td>\n",
       "      <td>0.000529</td>\n",
       "      <td>1</td>\n",
       "    </tr>\n",
       "    <tr>\n",
       "      <th>13712</th>\n",
       "      <td>14308</td>\n",
       "      <td>Evil Masquerade</td>\n",
       "      <td>1.000000</td>\n",
       "      <td>1.0</td>\n",
       "      <td>1</td>\n",
       "      <td>1</td>\n",
       "      <td>0.000529</td>\n",
       "      <td>1</td>\n",
       "    </tr>\n",
       "    <tr>\n",
       "      <th>16239</th>\n",
       "      <td>17168</td>\n",
       "      <td>Gosling</td>\n",
       "      <td>1.000000</td>\n",
       "      <td>1.0</td>\n",
       "      <td>1</td>\n",
       "      <td>1</td>\n",
       "      <td>0.000529</td>\n",
       "      <td>1</td>\n",
       "    </tr>\n",
       "    <tr>\n",
       "      <th>16241</th>\n",
       "      <td>17170</td>\n",
       "      <td>Kalson</td>\n",
       "      <td>1.000000</td>\n",
       "      <td>1.0</td>\n",
       "      <td>1</td>\n",
       "      <td>1</td>\n",
       "      <td>0.000529</td>\n",
       "      <td>1</td>\n",
       "    </tr>\n",
       "  </tbody>\n",
       "</table>\n",
       "<p>17632 rows × 8 columns</p>\n",
       "</div>"
      ],
      "text/plain": [
       "       artistID                name         mean     med     max      sum  \\\n",
       "283         289      Britney Spears  4584.559387  1000.5  131733  2393140   \n",
       "66           72        Depeche Mode  4614.567376   567.0  352698  1301308   \n",
       "83           89           Lady Gaga  2113.563011   590.0  114672  1291387   \n",
       "286         292  Christina Aguilera  2600.503686   739.0  176133  1058405   \n",
       "492         498            Paramore  2414.659148   417.0  227829   963449   \n",
       "...         ...                 ...          ...     ...     ...      ...   \n",
       "16522     17468           K-Precise     1.000000     1.0       1        1   \n",
       "13713     14309             ZÃœNDER     1.000000     1.0       1        1   \n",
       "13712     14308     Evil Masquerade     1.000000     1.0       1        1   \n",
       "16239     17168             Gosling     1.000000     1.0       1        1   \n",
       "16241     17170              Kalson     1.000000     1.0       1        1   \n",
       "\n",
       "       Percentage  unique  \n",
       "283      0.275899      84  \n",
       "66       0.149049     198  \n",
       "83       0.322939     161  \n",
       "286      0.215116      85  \n",
       "492      0.210888      38  \n",
       "...           ...     ...  \n",
       "16522    0.000529       1  \n",
       "13713    0.000529       1  \n",
       "13712    0.000529       1  \n",
       "16239    0.000529       1  \n",
       "16241    0.000529       1  \n",
       "\n",
       "[17632 rows x 8 columns]"
      ]
     },
     "execution_count": 257,
     "metadata": {},
     "output_type": "execute_result"
    }
   ],
   "source": [
    "artdf"
   ]
  },
  {
   "cell_type": "code",
   "execution_count": 259,
   "id": "a742dff7",
   "metadata": {},
   "outputs": [],
   "source": [
    "artdf = artdf.sort_values(by=['Percentage'], ascending=False)"
   ]
  },
  {
   "cell_type": "code",
   "execution_count": 260,
   "id": "80be2b2f",
   "metadata": {},
   "outputs": [
    {
     "data": {
      "text/plain": [
       "<AxesSubplot:title={'center':'Percentage of users who listen to most popular artists'}, xlabel='Artist', ylabel='% of unique users who listen'>"
      ]
     },
     "execution_count": 260,
     "metadata": {},
     "output_type": "execute_result"
    },
    {
     "data": {
      "image/png": "[encoded data removed]",
      "text/plain": [
       "<Figure size 1296x432 with 1 Axes>"
      ]
     },
     "metadata": {
      "needs_background": "light"
     },
     "output_type": "display_data"
    }
   ],
   "source": [
    "pt2 = artdf.head(20)\n",
    "pt2.plot.bar(x = 'name', y = 'Percentage', rot = 40, figsize=(18, 6), color='green', xlabel='Artist', ylabel='% of unique users who listen', title='Percentage of users who listen to most popular artists')"
   ]
  },
  {
   "cell_type": "code",
   "execution_count": 221,
   "id": "ed637f71",
   "metadata": {},
   "outputs": [
    {
     "name": "stdout",
     "output_type": "stream",
     "text": [
      "The percentage of artists with 0.01 or less users listening to them is 16794.\n",
      "The percentage of artists with 0.02 or less users listening to them is 17200.\n",
      "The percentage of artists with 0.03 or less users listening to them is 17350.\n",
      "The percentage of artists with 0.04 or less users listening to them is 17430.\n",
      "The percentage of artists with 0.05 or less users listening to them is 17497.\n"
     ]
    }
   ],
   "source": [
    "values = [0.01, 0.02, 0.03, 0.04, 0.05]\n",
    "for i in range(len(values)):\n",
    "    x = len(artdf[artdf['Percentage'] <= values[i]])\n",
    "    print(\"The percentage of artists with \" + str(values[i]) + \" or less users listening to them is \" + str(x) + \".\")"
   ]
  },
  {
   "cell_type": "markdown",
   "id": "1a451756",
   "metadata": {},
   "source": [
    "We can tell on the whole of the 17632 artists that there are actually very few who are listened to by a wide audience. There are less than 1000 artists who have more than 1% of users listening to them. This means our data is probably leaned very heavily towards the most popular artists such as Britney Spears or Lady Gaga as per our barchart above."
   ]
  },
  {
   "cell_type": "markdown",
   "id": "7412c76e",
   "metadata": {},
   "source": [
    "## Let's now look at our tags and see if we can get any information from this for our recommender system"
   ]
  },
  {
   "cell_type": "code",
   "execution_count": 275,
   "id": "185ca4a8",
   "metadata": {},
   "outputs": [],
   "source": [
    "tagged = pd.merge(df1, df4, how=\"inner\", left_on=\"tagID\", right_on=\"tagID\")"
   ]
  },
  {
   "cell_type": "code",
   "execution_count": 277,
   "id": "6c2a0d5c",
   "metadata": {},
   "outputs": [],
   "source": [
    "tagged.drop(columns=['day', 'month', 'year'], inplace=True)"
   ]
  },
  {
   "cell_type": "code",
   "execution_count": 278,
   "id": "c55ac64c",
   "metadata": {},
   "outputs": [
    {
     "data": {
      "text/html": [
       "<div>\n",
       "<style scoped>\n",
       "    .dataframe tbody tr th:only-of-type {\n",
       "        vertical-align: middle;\n",
       "    }\n",
       "\n",
       "    .dataframe tbody tr th {\n",
       "        vertical-align: top;\n",
       "    }\n",
       "\n",
       "    .dataframe thead th {\n",
       "        text-align: right;\n",
       "    }\n",
       "</style>\n",
       "<table border=\"1\" class=\"dataframe\">\n",
       "  <thead>\n",
       "    <tr style=\"text-align: right;\">\n",
       "      <th></th>\n",
       "      <th>tagID</th>\n",
       "      <th>tagValue</th>\n",
       "      <th>userID</th>\n",
       "      <th>artistID</th>\n",
       "    </tr>\n",
       "  </thead>\n",
       "  <tbody>\n",
       "    <tr>\n",
       "      <th>0</th>\n",
       "      <td>1</td>\n",
       "      <td>metal</td>\n",
       "      <td>4</td>\n",
       "      <td>918</td>\n",
       "    </tr>\n",
       "    <tr>\n",
       "      <th>1</th>\n",
       "      <td>1</td>\n",
       "      <td>metal</td>\n",
       "      <td>12</td>\n",
       "      <td>181</td>\n",
       "    </tr>\n",
       "    <tr>\n",
       "      <th>2</th>\n",
       "      <td>1</td>\n",
       "      <td>metal</td>\n",
       "      <td>12</td>\n",
       "      <td>198</td>\n",
       "    </tr>\n",
       "    <tr>\n",
       "      <th>3</th>\n",
       "      <td>1</td>\n",
       "      <td>metal</td>\n",
       "      <td>12</td>\n",
       "      <td>500</td>\n",
       "    </tr>\n",
       "    <tr>\n",
       "      <th>4</th>\n",
       "      <td>1</td>\n",
       "      <td>metal</td>\n",
       "      <td>12</td>\n",
       "      <td>503</td>\n",
       "    </tr>\n",
       "    <tr>\n",
       "      <th>...</th>\n",
       "      <td>...</td>\n",
       "      <td>...</td>\n",
       "      <td>...</td>\n",
       "      <td>...</td>\n",
       "    </tr>\n",
       "    <tr>\n",
       "      <th>186474</th>\n",
       "      <td>12647</td>\n",
       "      <td>eire</td>\n",
       "      <td>2096</td>\n",
       "      <td>166</td>\n",
       "    </tr>\n",
       "    <tr>\n",
       "      <th>186475</th>\n",
       "      <td>12647</td>\n",
       "      <td>eire</td>\n",
       "      <td>2096</td>\n",
       "      <td>389</td>\n",
       "    </tr>\n",
       "    <tr>\n",
       "      <th>186476</th>\n",
       "      <td>12647</td>\n",
       "      <td>eire</td>\n",
       "      <td>2096</td>\n",
       "      <td>511</td>\n",
       "    </tr>\n",
       "    <tr>\n",
       "      <th>186477</th>\n",
       "      <td>12647</td>\n",
       "      <td>eire</td>\n",
       "      <td>2096</td>\n",
       "      <td>1375</td>\n",
       "    </tr>\n",
       "    <tr>\n",
       "      <th>186478</th>\n",
       "      <td>12647</td>\n",
       "      <td>eire</td>\n",
       "      <td>2096</td>\n",
       "      <td>2542</td>\n",
       "    </tr>\n",
       "  </tbody>\n",
       "</table>\n",
       "<p>186479 rows × 4 columns</p>\n",
       "</div>"
      ],
      "text/plain": [
       "        tagID tagValue  userID  artistID\n",
       "0           1    metal       4       918\n",
       "1           1    metal      12       181\n",
       "2           1    metal      12       198\n",
       "3           1    metal      12       500\n",
       "4           1    metal      12       503\n",
       "...       ...      ...     ...       ...\n",
       "186474  12647     eire    2096       166\n",
       "186475  12647     eire    2096       389\n",
       "186476  12647     eire    2096       511\n",
       "186477  12647     eire    2096      1375\n",
       "186478  12647     eire    2096      2542\n",
       "\n",
       "[186479 rows x 4 columns]"
      ]
     },
     "execution_count": 278,
     "metadata": {},
     "output_type": "execute_result"
    }
   ],
   "source": [
    "tagged"
   ]
  },
  {
   "cell_type": "code",
   "execution_count": 281,
   "id": "7dff8458",
   "metadata": {},
   "outputs": [
    {
     "data": {
      "text/plain": [
       "9749"
      ]
     },
     "execution_count": 281,
     "metadata": {},
     "output_type": "execute_result"
    }
   ],
   "source": [
    "tagged['tagValue'].nunique()"
   ]
  },
  {
   "cell_type": "code",
   "execution_count": 282,
   "id": "a772ba97",
   "metadata": {},
   "outputs": [],
   "source": [
    "tagged1 = pd.merge(tagged, df3, how=\"inner\", left_on=\"userID\", right_on=\"userID\")"
   ]
  },
  {
   "cell_type": "code",
   "execution_count": 284,
   "id": "d5217a4a",
   "metadata": {},
   "outputs": [
    {
     "data": {
      "text/plain": [
       "False"
      ]
     },
     "execution_count": 284,
     "metadata": {},
     "output_type": "execute_result"
    }
   ],
   "source": [
    "tagged1.isnull().values.any()"
   ]
  },
  {
   "cell_type": "code",
   "execution_count": 285,
   "id": "deedbee6",
   "metadata": {},
   "outputs": [
    {
     "data": {
      "text/html": [
       "<div>\n",
       "<style scoped>\n",
       "    .dataframe tbody tr th:only-of-type {\n",
       "        vertical-align: middle;\n",
       "    }\n",
       "\n",
       "    .dataframe tbody tr th {\n",
       "        vertical-align: top;\n",
       "    }\n",
       "\n",
       "    .dataframe thead th {\n",
       "        text-align: right;\n",
       "    }\n",
       "</style>\n",
       "<table border=\"1\" class=\"dataframe\">\n",
       "  <thead>\n",
       "    <tr style=\"text-align: right;\">\n",
       "      <th></th>\n",
       "      <th>tagID</th>\n",
       "      <th>tagValue</th>\n",
       "      <th>userID</th>\n",
       "      <th>artistID</th>\n",
       "      <th>friendID</th>\n",
       "    </tr>\n",
       "  </thead>\n",
       "  <tbody>\n",
       "    <tr>\n",
       "      <th>0</th>\n",
       "      <td>1</td>\n",
       "      <td>metal</td>\n",
       "      <td>4</td>\n",
       "      <td>918</td>\n",
       "      <td>99</td>\n",
       "    </tr>\n",
       "    <tr>\n",
       "      <th>1</th>\n",
       "      <td>1</td>\n",
       "      <td>metal</td>\n",
       "      <td>4</td>\n",
       "      <td>918</td>\n",
       "      <td>124</td>\n",
       "    </tr>\n",
       "    <tr>\n",
       "      <th>2</th>\n",
       "      <td>1</td>\n",
       "      <td>metal</td>\n",
       "      <td>4</td>\n",
       "      <td>918</td>\n",
       "      <td>211</td>\n",
       "    </tr>\n",
       "    <tr>\n",
       "      <th>3</th>\n",
       "      <td>1</td>\n",
       "      <td>metal</td>\n",
       "      <td>4</td>\n",
       "      <td>918</td>\n",
       "      <td>264</td>\n",
       "    </tr>\n",
       "    <tr>\n",
       "      <th>4</th>\n",
       "      <td>1</td>\n",
       "      <td>metal</td>\n",
       "      <td>4</td>\n",
       "      <td>918</td>\n",
       "      <td>493</td>\n",
       "    </tr>\n",
       "    <tr>\n",
       "      <th>...</th>\n",
       "      <td>...</td>\n",
       "      <td>...</td>\n",
       "      <td>...</td>\n",
       "      <td>...</td>\n",
       "      <td>...</td>\n",
       "    </tr>\n",
       "    <tr>\n",
       "      <th>2857139</th>\n",
       "      <td>12641</td>\n",
       "      <td>derd</td>\n",
       "      <td>2095</td>\n",
       "      <td>18671</td>\n",
       "      <td>1342</td>\n",
       "    </tr>\n",
       "    <tr>\n",
       "      <th>2857140</th>\n",
       "      <td>12641</td>\n",
       "      <td>derd</td>\n",
       "      <td>2095</td>\n",
       "      <td>18680</td>\n",
       "      <td>655</td>\n",
       "    </tr>\n",
       "    <tr>\n",
       "      <th>2857141</th>\n",
       "      <td>12641</td>\n",
       "      <td>derd</td>\n",
       "      <td>2095</td>\n",
       "      <td>18680</td>\n",
       "      <td>1342</td>\n",
       "    </tr>\n",
       "    <tr>\n",
       "      <th>2857142</th>\n",
       "      <td>12641</td>\n",
       "      <td>derd</td>\n",
       "      <td>2095</td>\n",
       "      <td>18691</td>\n",
       "      <td>655</td>\n",
       "    </tr>\n",
       "    <tr>\n",
       "      <th>2857143</th>\n",
       "      <td>12641</td>\n",
       "      <td>derd</td>\n",
       "      <td>2095</td>\n",
       "      <td>18691</td>\n",
       "      <td>1342</td>\n",
       "    </tr>\n",
       "  </tbody>\n",
       "</table>\n",
       "<p>2857144 rows × 5 columns</p>\n",
       "</div>"
      ],
      "text/plain": [
       "         tagID tagValue  userID  artistID  friendID\n",
       "0            1    metal       4       918        99\n",
       "1            1    metal       4       918       124\n",
       "2            1    metal       4       918       211\n",
       "3            1    metal       4       918       264\n",
       "4            1    metal       4       918       493\n",
       "...        ...      ...     ...       ...       ...\n",
       "2857139  12641     derd    2095     18671      1342\n",
       "2857140  12641     derd    2095     18680       655\n",
       "2857141  12641     derd    2095     18680      1342\n",
       "2857142  12641     derd    2095     18691       655\n",
       "2857143  12641     derd    2095     18691      1342\n",
       "\n",
       "[2857144 rows x 5 columns]"
      ]
     },
     "execution_count": 285,
     "metadata": {},
     "output_type": "execute_result"
    }
   ],
   "source": [
    "tagged1"
   ]
  },
  {
   "cell_type": "code",
   "execution_count": 286,
   "id": "f3a92fbb",
   "metadata": {},
   "outputs": [
    {
     "data": {
      "text/html": [
       "<div>\n",
       "<style scoped>\n",
       "    .dataframe tbody tr th:only-of-type {\n",
       "        vertical-align: middle;\n",
       "    }\n",
       "\n",
       "    .dataframe tbody tr th {\n",
       "        vertical-align: top;\n",
       "    }\n",
       "\n",
       "    .dataframe thead th {\n",
       "        text-align: right;\n",
       "    }\n",
       "</style>\n",
       "<table border=\"1\" class=\"dataframe\">\n",
       "  <thead>\n",
       "    <tr style=\"text-align: right;\">\n",
       "      <th></th>\n",
       "      <th>userID</th>\n",
       "      <th>artistID</th>\n",
       "      <th>weight</th>\n",
       "    </tr>\n",
       "  </thead>\n",
       "  <tbody>\n",
       "    <tr>\n",
       "      <th>0</th>\n",
       "      <td>2</td>\n",
       "      <td>51</td>\n",
       "      <td>13883</td>\n",
       "    </tr>\n",
       "    <tr>\n",
       "      <th>1</th>\n",
       "      <td>2</td>\n",
       "      <td>52</td>\n",
       "      <td>11690</td>\n",
       "    </tr>\n",
       "    <tr>\n",
       "      <th>2</th>\n",
       "      <td>2</td>\n",
       "      <td>53</td>\n",
       "      <td>11351</td>\n",
       "    </tr>\n",
       "    <tr>\n",
       "      <th>3</th>\n",
       "      <td>2</td>\n",
       "      <td>54</td>\n",
       "      <td>10300</td>\n",
       "    </tr>\n",
       "    <tr>\n",
       "      <th>4</th>\n",
       "      <td>2</td>\n",
       "      <td>55</td>\n",
       "      <td>8983</td>\n",
       "    </tr>\n",
       "  </tbody>\n",
       "</table>\n",
       "</div>"
      ],
      "text/plain": [
       "   userID  artistID  weight\n",
       "0       2        51   13883\n",
       "1       2        52   11690\n",
       "2       2        53   11351\n",
       "3       2        54   10300\n",
       "4       2        55    8983"
      ]
     },
     "execution_count": 286,
     "metadata": {},
     "output_type": "execute_result"
    }
   ],
   "source": [
    "df2.head()"
   ]
  },
  {
   "cell_type": "code",
   "execution_count": 291,
   "id": "66416d14",
   "metadata": {},
   "outputs": [
    {
     "data": {
      "text/html": [
       "<div>\n",
       "<style scoped>\n",
       "    .dataframe tbody tr th:only-of-type {\n",
       "        vertical-align: middle;\n",
       "    }\n",
       "\n",
       "    .dataframe tbody tr th {\n",
       "        vertical-align: top;\n",
       "    }\n",
       "\n",
       "    .dataframe thead th {\n",
       "        text-align: right;\n",
       "    }\n",
       "</style>\n",
       "<table border=\"1\" class=\"dataframe\">\n",
       "  <thead>\n",
       "    <tr style=\"text-align: right;\">\n",
       "      <th></th>\n",
       "      <th>tagID</th>\n",
       "      <th>tagValue</th>\n",
       "      <th>userID</th>\n",
       "      <th>artistID</th>\n",
       "      <th>friendID</th>\n",
       "    </tr>\n",
       "  </thead>\n",
       "  <tbody>\n",
       "    <tr>\n",
       "      <th>0</th>\n",
       "      <td>1</td>\n",
       "      <td>metal</td>\n",
       "      <td>4</td>\n",
       "      <td>918</td>\n",
       "      <td>99</td>\n",
       "    </tr>\n",
       "    <tr>\n",
       "      <th>1</th>\n",
       "      <td>1</td>\n",
       "      <td>metal</td>\n",
       "      <td>4</td>\n",
       "      <td>918</td>\n",
       "      <td>124</td>\n",
       "    </tr>\n",
       "    <tr>\n",
       "      <th>2</th>\n",
       "      <td>1</td>\n",
       "      <td>metal</td>\n",
       "      <td>4</td>\n",
       "      <td>918</td>\n",
       "      <td>211</td>\n",
       "    </tr>\n",
       "    <tr>\n",
       "      <th>3</th>\n",
       "      <td>1</td>\n",
       "      <td>metal</td>\n",
       "      <td>4</td>\n",
       "      <td>918</td>\n",
       "      <td>264</td>\n",
       "    </tr>\n",
       "    <tr>\n",
       "      <th>4</th>\n",
       "      <td>1</td>\n",
       "      <td>metal</td>\n",
       "      <td>4</td>\n",
       "      <td>918</td>\n",
       "      <td>493</td>\n",
       "    </tr>\n",
       "    <tr>\n",
       "      <th>...</th>\n",
       "      <td>...</td>\n",
       "      <td>...</td>\n",
       "      <td>...</td>\n",
       "      <td>...</td>\n",
       "      <td>...</td>\n",
       "    </tr>\n",
       "    <tr>\n",
       "      <th>2857139</th>\n",
       "      <td>12641</td>\n",
       "      <td>derd</td>\n",
       "      <td>2095</td>\n",
       "      <td>18671</td>\n",
       "      <td>1342</td>\n",
       "    </tr>\n",
       "    <tr>\n",
       "      <th>2857140</th>\n",
       "      <td>12641</td>\n",
       "      <td>derd</td>\n",
       "      <td>2095</td>\n",
       "      <td>18680</td>\n",
       "      <td>655</td>\n",
       "    </tr>\n",
       "    <tr>\n",
       "      <th>2857141</th>\n",
       "      <td>12641</td>\n",
       "      <td>derd</td>\n",
       "      <td>2095</td>\n",
       "      <td>18680</td>\n",
       "      <td>1342</td>\n",
       "    </tr>\n",
       "    <tr>\n",
       "      <th>2857142</th>\n",
       "      <td>12641</td>\n",
       "      <td>derd</td>\n",
       "      <td>2095</td>\n",
       "      <td>18691</td>\n",
       "      <td>655</td>\n",
       "    </tr>\n",
       "    <tr>\n",
       "      <th>2857143</th>\n",
       "      <td>12641</td>\n",
       "      <td>derd</td>\n",
       "      <td>2095</td>\n",
       "      <td>18691</td>\n",
       "      <td>1342</td>\n",
       "    </tr>\n",
       "  </tbody>\n",
       "</table>\n",
       "<p>2857144 rows × 5 columns</p>\n",
       "</div>"
      ],
      "text/plain": [
       "         tagID tagValue  userID  artistID  friendID\n",
       "0            1    metal       4       918        99\n",
       "1            1    metal       4       918       124\n",
       "2            1    metal       4       918       211\n",
       "3            1    metal       4       918       264\n",
       "4            1    metal       4       918       493\n",
       "...        ...      ...     ...       ...       ...\n",
       "2857139  12641     derd    2095     18671      1342\n",
       "2857140  12641     derd    2095     18680       655\n",
       "2857141  12641     derd    2095     18680      1342\n",
       "2857142  12641     derd    2095     18691       655\n",
       "2857143  12641     derd    2095     18691      1342\n",
       "\n",
       "[2857144 rows x 5 columns]"
      ]
     },
     "execution_count": 291,
     "metadata": {},
     "output_type": "execute_result"
    }
   ],
   "source": [
    "tagged1"
   ]
  },
  {
   "cell_type": "code",
   "execution_count": 292,
   "id": "cf7bd5df",
   "metadata": {},
   "outputs": [
    {
     "data": {
      "text/plain": [
       "17632"
      ]
     },
     "execution_count": 292,
     "metadata": {},
     "output_type": "execute_result"
    }
   ],
   "source": [
    "played['name'].nunique()"
   ]
  },
  {
   "cell_type": "code",
   "execution_count": 295,
   "id": "485db729",
   "metadata": {},
   "outputs": [],
   "source": [
    "z = played[['name', 'artistID']]"
   ]
  },
  {
   "cell_type": "code",
   "execution_count": 298,
   "id": "39c31d0b",
   "metadata": {},
   "outputs": [],
   "source": [
    "z = z.drop_duplicates()"
   ]
  },
  {
   "cell_type": "code",
   "execution_count": 299,
   "id": "00782c8d",
   "metadata": {},
   "outputs": [
    {
     "data": {
      "text/html": [
       "<div>\n",
       "<style scoped>\n",
       "    .dataframe tbody tr th:only-of-type {\n",
       "        vertical-align: middle;\n",
       "    }\n",
       "\n",
       "    .dataframe tbody tr th {\n",
       "        vertical-align: top;\n",
       "    }\n",
       "\n",
       "    .dataframe thead th {\n",
       "        text-align: right;\n",
       "    }\n",
       "</style>\n",
       "<table border=\"1\" class=\"dataframe\">\n",
       "  <thead>\n",
       "    <tr style=\"text-align: right;\">\n",
       "      <th></th>\n",
       "      <th>name</th>\n",
       "      <th>artistID</th>\n",
       "    </tr>\n",
       "  </thead>\n",
       "  <tbody>\n",
       "    <tr>\n",
       "      <th>0</th>\n",
       "      <td>MALICE MIZER</td>\n",
       "      <td>1</td>\n",
       "    </tr>\n",
       "    <tr>\n",
       "      <th>3</th>\n",
       "      <td>Diary of Dreams</td>\n",
       "      <td>2</td>\n",
       "    </tr>\n",
       "    <tr>\n",
       "      <th>15</th>\n",
       "      <td>Carpathian Forest</td>\n",
       "      <td>3</td>\n",
       "    </tr>\n",
       "    <tr>\n",
       "      <th>18</th>\n",
       "      <td>Moi dix Mois</td>\n",
       "      <td>4</td>\n",
       "    </tr>\n",
       "    <tr>\n",
       "      <th>20</th>\n",
       "      <td>Bella Morte</td>\n",
       "      <td>5</td>\n",
       "    </tr>\n",
       "    <tr>\n",
       "      <th>...</th>\n",
       "      <td>...</td>\n",
       "      <td>...</td>\n",
       "    </tr>\n",
       "    <tr>\n",
       "      <th>92829</th>\n",
       "      <td>Diamanda GalÃ¡s</td>\n",
       "      <td>18741</td>\n",
       "    </tr>\n",
       "    <tr>\n",
       "      <th>92830</th>\n",
       "      <td>Aya RL</td>\n",
       "      <td>18742</td>\n",
       "    </tr>\n",
       "    <tr>\n",
       "      <th>92831</th>\n",
       "      <td>Coptic Rain</td>\n",
       "      <td>18743</td>\n",
       "    </tr>\n",
       "    <tr>\n",
       "      <th>92832</th>\n",
       "      <td>Oz Alchemist</td>\n",
       "      <td>18744</td>\n",
       "    </tr>\n",
       "    <tr>\n",
       "      <th>92833</th>\n",
       "      <td>Grzegorz Tomczak</td>\n",
       "      <td>18745</td>\n",
       "    </tr>\n",
       "  </tbody>\n",
       "</table>\n",
       "<p>17632 rows × 2 columns</p>\n",
       "</div>"
      ],
      "text/plain": [
       "                    name  artistID\n",
       "0           MALICE MIZER         1\n",
       "3        Diary of Dreams         2\n",
       "15     Carpathian Forest         3\n",
       "18          Moi dix Mois         4\n",
       "20           Bella Morte         5\n",
       "...                  ...       ...\n",
       "92829    Diamanda GalÃ¡s     18741\n",
       "92830             Aya RL     18742\n",
       "92831        Coptic Rain     18743\n",
       "92832       Oz Alchemist     18744\n",
       "92833   Grzegorz Tomczak     18745\n",
       "\n",
       "[17632 rows x 2 columns]"
      ]
     },
     "execution_count": 299,
     "metadata": {},
     "output_type": "execute_result"
    }
   ],
   "source": [
    "z"
   ]
  },
  {
   "cell_type": "code",
   "execution_count": 300,
   "id": "12bd6e89",
   "metadata": {},
   "outputs": [],
   "source": [
    "tagged2 = pd.merge(tagged1, z, how=\"inner\", left_on=\"artistID\", right_on=\"artistID\")"
   ]
  },
  {
   "cell_type": "code",
   "execution_count": 305,
   "id": "8f44706d",
   "metadata": {},
   "outputs": [
    {
     "data": {
      "text/plain": [
       "<AxesSubplot:>"
      ]
     },
     "execution_count": 305,
     "metadata": {},
     "output_type": "execute_result"
    },
    {
     "data": {
      "image/png": "[encoded data removed]",
      "text/plain": [
       "<Figure size 1296x432 with 1 Axes>"
      ]
     },
     "metadata": {
      "needs_background": "light"
     },
     "output_type": "display_data"
    }
   ],
   "source": [
    "tagged2['tagValue'].value_counts()[:20].plot(kind='barh', color='green', figsize=(18,6))"
   ]
  },
  {
   "cell_type": "code",
   "execution_count": 309,
   "id": "05dc9df1",
   "metadata": {},
   "outputs": [
    {
     "data": {
      "text/html": [
       "<div>\n",
       "<style scoped>\n",
       "    .dataframe tbody tr th:only-of-type {\n",
       "        vertical-align: middle;\n",
       "    }\n",
       "\n",
       "    .dataframe tbody tr th {\n",
       "        vertical-align: top;\n",
       "    }\n",
       "\n",
       "    .dataframe thead th {\n",
       "        text-align: right;\n",
       "    }\n",
       "</style>\n",
       "<table border=\"1\" class=\"dataframe\">\n",
       "  <thead>\n",
       "    <tr style=\"text-align: right;\">\n",
       "      <th></th>\n",
       "      <th>tagID</th>\n",
       "      <th>tagValue</th>\n",
       "      <th>userID</th>\n",
       "      <th>artistID</th>\n",
       "      <th>friendID</th>\n",
       "      <th>name</th>\n",
       "    </tr>\n",
       "  </thead>\n",
       "  <tbody>\n",
       "    <tr>\n",
       "      <th>0</th>\n",
       "      <td>1</td>\n",
       "      <td>metal</td>\n",
       "      <td>4</td>\n",
       "      <td>918</td>\n",
       "      <td>99</td>\n",
       "      <td>Megadeth</td>\n",
       "    </tr>\n",
       "    <tr>\n",
       "      <th>1</th>\n",
       "      <td>1</td>\n",
       "      <td>metal</td>\n",
       "      <td>4</td>\n",
       "      <td>918</td>\n",
       "      <td>124</td>\n",
       "      <td>Megadeth</td>\n",
       "    </tr>\n",
       "    <tr>\n",
       "      <th>2</th>\n",
       "      <td>1</td>\n",
       "      <td>metal</td>\n",
       "      <td>4</td>\n",
       "      <td>918</td>\n",
       "      <td>211</td>\n",
       "      <td>Megadeth</td>\n",
       "    </tr>\n",
       "    <tr>\n",
       "      <th>3</th>\n",
       "      <td>1</td>\n",
       "      <td>metal</td>\n",
       "      <td>4</td>\n",
       "      <td>918</td>\n",
       "      <td>264</td>\n",
       "      <td>Megadeth</td>\n",
       "    </tr>\n",
       "    <tr>\n",
       "      <th>4</th>\n",
       "      <td>1</td>\n",
       "      <td>metal</td>\n",
       "      <td>4</td>\n",
       "      <td>918</td>\n",
       "      <td>493</td>\n",
       "      <td>Megadeth</td>\n",
       "    </tr>\n",
       "  </tbody>\n",
       "</table>\n",
       "</div>"
      ],
      "text/plain": [
       "   tagID tagValue  userID  artistID  friendID      name\n",
       "0      1    metal       4       918        99  Megadeth\n",
       "1      1    metal       4       918       124  Megadeth\n",
       "2      1    metal       4       918       211  Megadeth\n",
       "3      1    metal       4       918       264  Megadeth\n",
       "4      1    metal       4       918       493  Megadeth"
      ]
     },
     "execution_count": 309,
     "metadata": {},
     "output_type": "execute_result"
    }
   ],
   "source": [
    "tagged2.head()"
   ]
  },
  {
   "cell_type": "code",
   "execution_count": 308,
   "id": "bc845069",
   "metadata": {},
   "outputs": [
    {
     "data": {
      "text/plain": [
       "False"
      ]
     },
     "execution_count": 308,
     "metadata": {},
     "output_type": "execute_result"
    }
   ],
   "source": [
    "tagged2.isnull().values.any()"
   ]
  },
  {
   "cell_type": "code",
   "execution_count": null,
   "id": "2a34c97c",
   "metadata": {},
   "outputs": [],
   "source": []
  }
 ],
 "metadata": {
  "kernelspec": {
   "display_name": "Python 3",
   "language": "python",
   "name": "python3"
  },
  "language_info": {
   "codemirror_mode": {
    "name": "ipython",
    "version": 3
   },
   "file_extension": ".py",
   "mimetype": "text/x-python",
   "name": "python",
   "nbconvert_exporter": "python",
   "pygments_lexer": "ipython3",
   "version": "3.8.8"
  }
 },
 "nbformat": 4,
 "nbformat_minor": 5
}
