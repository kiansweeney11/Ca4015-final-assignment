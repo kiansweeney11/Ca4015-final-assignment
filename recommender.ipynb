{
 "cells": [
  {
   "cell_type": "code",
   "execution_count": 1,
   "id": "6859afc9",
   "metadata": {},
   "outputs": [
    {
     "name": "stdout",
     "output_type": "stream",
     "text": [
      "WARNING:tensorflow:From C:\\Users\\user\\anaconda3\\lib\\site-packages\\tensorflow\\python\\compat\\v2_compat.py:96: disable_resource_variables (from tensorflow.python.ops.variable_scope) is deprecated and will be removed in a future version.\n",
      "Instructions for updating:\n",
      "non-resource variables are not supported in the long term\n"
     ]
    }
   ],
   "source": [
    "from __future__ import print_function\n",
    "\n",
    "import numpy as np\n",
    "import pandas as pd\n",
    "import collections\n",
    "from mpl_toolkits.mplot3d import Axes3D\n",
    "from IPython import display\n",
    "from matplotlib import pyplot as plt\n",
    "from IPython.display import display\n",
    "import seaborn as sns\n",
    "import sklearn\n",
    "import sklearn.manifold\n",
    "import tensorflow.compat.v1 as tf\n",
    "tf.disable_v2_behavior()\n",
    "tf.logging.set_verbosity(tf.logging.ERROR)"
   ]
  },
  {
   "cell_type": "code",
   "execution_count": 2,
   "id": "50b935de",
   "metadata": {},
   "outputs": [
    {
     "name": "stderr",
     "output_type": "stream",
     "text": [
      "C:\\Users\\user\\anaconda3\\lib\\site-packages\\lightfm\\_lightfm_fast.py:9: UserWarning: LightFM was compiled without OpenMP support. Only a single thread will be used.\n",
      "  warnings.warn(\n"
     ]
    }
   ],
   "source": [
    "from sklearn.model_selection import train_test_split\n",
    "from sklearn.metrics import accuracy_score\n",
    "from sklearn.metrics import mean_squared_error\n",
    "from collections import Counter, defaultdict\n",
    "from operator import itemgetter\n",
    "import tensorflow as tf\n",
    "from tensorflow import keras\n",
    "from pylab import rcParams\n",
    "from pylab import savefig\n",
    "import lightfm\n",
    "from lightfm import LightFM\n",
    "from lightfm.data import Dataset\n",
    "from lightfm import cross_validation\n",
    "from lightfm.evaluation import precision_at_k\n",
    "from lightfm.evaluation import recall_at_k\n",
    "from lightfm.cross_validation import random_train_test_split\n",
    "from scipy.sparse import csr_matrix\n",
    "import scipy\n",
    "import recmetrics\n",
    "\n",
    "from sklearn.model_selection import train_test_split\n",
    "from collections import Counter, defaultdict\n",
    "from sklearn.metrics import accuracy_score\n",
    "import matplotlib.ticker as ticker\n",
    "from math import sqrt\n",
    "from sklearn.metrics import mean_squared_error"
   ]
  },
  {
   "cell_type": "code",
   "execution_count": 3,
   "id": "85c6870b",
   "metadata": {},
   "outputs": [],
   "source": [
    "# Install Altair and activate its colab renderer.\n",
    "#print(\"Installing Altair...\")\n",
    "#!pip install git+git://github.com/altair-viz/altair.git\n",
    "#import altair as alt\n",
    "#alt.data_transformers.enable('default', max_rows=None)\n",
    "#alt.renderers.enable('colab')\n",
    "#print(\"Done installing Altair.\")\n",
    "\n",
    "# Install spreadsheets and import authentication module.\n",
    "#USER_RATINGS = False\n",
    "#!pip install --upgrade -q gspread\n",
    "#from google.colab import auth\n",
    "#import gspread\n",
    "#from oauth2client.client import GoogleCredentials"
   ]
  },
  {
   "cell_type": "code",
   "execution_count": 4,
   "id": "700b07b3",
   "metadata": {},
   "outputs": [],
   "source": [
    "import matplotlib.pyplot as plt\n",
    "import os\n",
    "import warnings\n",
    "from keras.layers import Input, Embedding, Flatten, Dot, Dense, Concatenate\n",
    "from keras.models import Model"
   ]
  },
  {
   "cell_type": "markdown",
   "id": "32ff44ac",
   "metadata": {},
   "source": [
    "Firstly, I converted my data files from .dat to .csv format. I did this via excel using the data tab and it's \"get external data\" option and extracted it from text. All the delimiting was done by default and I had my files in a delimited format."
   ]
  },
  {
   "cell_type": "code",
   "execution_count": 5,
   "id": "e612c1ae",
   "metadata": {},
   "outputs": [
    {
     "data": {
      "text/html": [
       "<div>\n",
       "<style scoped>\n",
       "    .dataframe tbody tr th:only-of-type {\n",
       "        vertical-align: middle;\n",
       "    }\n",
       "\n",
       "    .dataframe tbody tr th {\n",
       "        vertical-align: top;\n",
       "    }\n",
       "\n",
       "    .dataframe thead th {\n",
       "        text-align: right;\n",
       "    }\n",
       "</style>\n",
       "<table border=\"1\" class=\"dataframe\">\n",
       "  <thead>\n",
       "    <tr style=\"text-align: right;\">\n",
       "      <th></th>\n",
       "      <th>id</th>\n",
       "      <th>name</th>\n",
       "      <th>url</th>\n",
       "      <th>pictureURL</th>\n",
       "    </tr>\n",
       "  </thead>\n",
       "  <tbody>\n",
       "    <tr>\n",
       "      <th>0</th>\n",
       "      <td>1</td>\n",
       "      <td>MALICE MIZER</td>\n",
       "      <td>http://www.last.fm/music/MALICE+MIZER</td>\n",
       "      <td>http://userserve-ak.last.fm/serve/252/10808.jpg</td>\n",
       "    </tr>\n",
       "    <tr>\n",
       "      <th>1</th>\n",
       "      <td>2</td>\n",
       "      <td>Diary of Dreams</td>\n",
       "      <td>http://www.last.fm/music/Diary+of+Dreams</td>\n",
       "      <td>http://userserve-ak.last.fm/serve/252/3052066.jpg</td>\n",
       "    </tr>\n",
       "    <tr>\n",
       "      <th>2</th>\n",
       "      <td>3</td>\n",
       "      <td>Carpathian Forest</td>\n",
       "      <td>http://www.last.fm/music/Carpathian+Forest</td>\n",
       "      <td>http://userserve-ak.last.fm/serve/252/40222717...</td>\n",
       "    </tr>\n",
       "    <tr>\n",
       "      <th>3</th>\n",
       "      <td>4</td>\n",
       "      <td>Moi dix Mois</td>\n",
       "      <td>http://www.last.fm/music/Moi+dix+Mois</td>\n",
       "      <td>http://userserve-ak.last.fm/serve/252/54697835...</td>\n",
       "    </tr>\n",
       "    <tr>\n",
       "      <th>4</th>\n",
       "      <td>5</td>\n",
       "      <td>Bella Morte</td>\n",
       "      <td>http://www.last.fm/music/Bella+Morte</td>\n",
       "      <td>http://userserve-ak.last.fm/serve/252/14789013...</td>\n",
       "    </tr>\n",
       "    <tr>\n",
       "      <th>...</th>\n",
       "      <td>...</td>\n",
       "      <td>...</td>\n",
       "      <td>...</td>\n",
       "      <td>...</td>\n",
       "    </tr>\n",
       "    <tr>\n",
       "      <th>17627</th>\n",
       "      <td>18741</td>\n",
       "      <td>Diamanda GalÃ¡s</td>\n",
       "      <td>http://www.last.fm/music/Diamanda+Gal%C3%A1s</td>\n",
       "      <td>http://userserve-ak.last.fm/serve/252/16352971...</td>\n",
       "    </tr>\n",
       "    <tr>\n",
       "      <th>17628</th>\n",
       "      <td>18742</td>\n",
       "      <td>Aya RL</td>\n",
       "      <td>http://www.last.fm/music/Aya+RL</td>\n",
       "      <td>http://userserve-ak.last.fm/serve/252/207445.jpg</td>\n",
       "    </tr>\n",
       "    <tr>\n",
       "      <th>17629</th>\n",
       "      <td>18743</td>\n",
       "      <td>Coptic Rain</td>\n",
       "      <td>http://www.last.fm/music/Coptic+Rain</td>\n",
       "      <td>http://userserve-ak.last.fm/serve/252/344868.jpg</td>\n",
       "    </tr>\n",
       "    <tr>\n",
       "      <th>17630</th>\n",
       "      <td>18744</td>\n",
       "      <td>Oz Alchemist</td>\n",
       "      <td>http://www.last.fm/music/Oz+Alchemist</td>\n",
       "      <td>http://userserve-ak.last.fm/serve/252/29297695...</td>\n",
       "    </tr>\n",
       "    <tr>\n",
       "      <th>17631</th>\n",
       "      <td>18745</td>\n",
       "      <td>Grzegorz Tomczak</td>\n",
       "      <td>http://www.last.fm/music/Grzegorz+Tomczak</td>\n",
       "      <td>http://userserve-ak.last.fm/serve/252/59486303...</td>\n",
       "    </tr>\n",
       "  </tbody>\n",
       "</table>\n",
       "<p>17632 rows × 4 columns</p>\n",
       "</div>"
      ],
      "text/plain": [
       "          id               name                                           url  \\\n",
       "0          1       MALICE MIZER         http://www.last.fm/music/MALICE+MIZER   \n",
       "1          2    Diary of Dreams      http://www.last.fm/music/Diary+of+Dreams   \n",
       "2          3  Carpathian Forest    http://www.last.fm/music/Carpathian+Forest   \n",
       "3          4       Moi dix Mois         http://www.last.fm/music/Moi+dix+Mois   \n",
       "4          5        Bella Morte          http://www.last.fm/music/Bella+Morte   \n",
       "...      ...                ...                                           ...   \n",
       "17627  18741    Diamanda GalÃ¡s  http://www.last.fm/music/Diamanda+Gal%C3%A1s   \n",
       "17628  18742             Aya RL               http://www.last.fm/music/Aya+RL   \n",
       "17629  18743        Coptic Rain          http://www.last.fm/music/Coptic+Rain   \n",
       "17630  18744       Oz Alchemist         http://www.last.fm/music/Oz+Alchemist   \n",
       "17631  18745   Grzegorz Tomczak     http://www.last.fm/music/Grzegorz+Tomczak   \n",
       "\n",
       "                                              pictureURL  \n",
       "0        http://userserve-ak.last.fm/serve/252/10808.jpg  \n",
       "1      http://userserve-ak.last.fm/serve/252/3052066.jpg  \n",
       "2      http://userserve-ak.last.fm/serve/252/40222717...  \n",
       "3      http://userserve-ak.last.fm/serve/252/54697835...  \n",
       "4      http://userserve-ak.last.fm/serve/252/14789013...  \n",
       "...                                                  ...  \n",
       "17627  http://userserve-ak.last.fm/serve/252/16352971...  \n",
       "17628   http://userserve-ak.last.fm/serve/252/207445.jpg  \n",
       "17629   http://userserve-ak.last.fm/serve/252/344868.jpg  \n",
       "17630  http://userserve-ak.last.fm/serve/252/29297695...  \n",
       "17631  http://userserve-ak.last.fm/serve/252/59486303...  \n",
       "\n",
       "[17632 rows x 4 columns]"
      ]
     },
     "execution_count": 5,
     "metadata": {},
     "output_type": "execute_result"
    }
   ],
   "source": [
    "df = pd.read_csv(\"data/hetrec2011-lastfm-2k/artists.csv\")\n",
    "df"
   ]
  },
  {
   "cell_type": "code",
   "execution_count": 6,
   "id": "1df4cee2",
   "metadata": {},
   "outputs": [
    {
     "data": {
      "text/plain": [
       "965"
      ]
     },
     "execution_count": 6,
     "metadata": {},
     "output_type": "execute_result"
    }
   ],
   "source": [
    "df['id'] = pd.to_numeric(df['id'])\n",
    "lst = []\n",
    "m = np.array(df['id'])\n",
    "for i in range(0,17632):\n",
    "    #print(i)\n",
    "    if i not in df.id.values:\n",
    "        lst.append(i)\n",
    "\n",
    "len(lst)"
   ]
  },
  {
   "cell_type": "code",
   "execution_count": 7,
   "id": "fb4b1d21",
   "metadata": {},
   "outputs": [],
   "source": [
    "newart = []\n",
    "for i in range(0, 17632):\n",
    "    newart.append(i)"
   ]
  },
  {
   "cell_type": "code",
   "execution_count": 8,
   "id": "fce87f3e",
   "metadata": {},
   "outputs": [],
   "source": [
    "newart = np.array(newart)\n",
    "df['artID'] = newart.tolist()"
   ]
  },
  {
   "cell_type": "code",
   "execution_count": 9,
   "id": "8188ad48",
   "metadata": {},
   "outputs": [
    {
     "data": {
      "text/html": [
       "<div>\n",
       "<style scoped>\n",
       "    .dataframe tbody tr th:only-of-type {\n",
       "        vertical-align: middle;\n",
       "    }\n",
       "\n",
       "    .dataframe tbody tr th {\n",
       "        vertical-align: top;\n",
       "    }\n",
       "\n",
       "    .dataframe thead th {\n",
       "        text-align: right;\n",
       "    }\n",
       "</style>\n",
       "<table border=\"1\" class=\"dataframe\">\n",
       "  <thead>\n",
       "    <tr style=\"text-align: right;\">\n",
       "      <th></th>\n",
       "      <th>name</th>\n",
       "      <th>url</th>\n",
       "      <th>pictureURL</th>\n",
       "      <th>artID</th>\n",
       "    </tr>\n",
       "  </thead>\n",
       "  <tbody>\n",
       "    <tr>\n",
       "      <th>0</th>\n",
       "      <td>MALICE MIZER</td>\n",
       "      <td>http://www.last.fm/music/MALICE+MIZER</td>\n",
       "      <td>http://userserve-ak.last.fm/serve/252/10808.jpg</td>\n",
       "      <td>0</td>\n",
       "    </tr>\n",
       "    <tr>\n",
       "      <th>1</th>\n",
       "      <td>Diary of Dreams</td>\n",
       "      <td>http://www.last.fm/music/Diary+of+Dreams</td>\n",
       "      <td>http://userserve-ak.last.fm/serve/252/3052066.jpg</td>\n",
       "      <td>1</td>\n",
       "    </tr>\n",
       "    <tr>\n",
       "      <th>2</th>\n",
       "      <td>Carpathian Forest</td>\n",
       "      <td>http://www.last.fm/music/Carpathian+Forest</td>\n",
       "      <td>http://userserve-ak.last.fm/serve/252/40222717...</td>\n",
       "      <td>2</td>\n",
       "    </tr>\n",
       "    <tr>\n",
       "      <th>3</th>\n",
       "      <td>Moi dix Mois</td>\n",
       "      <td>http://www.last.fm/music/Moi+dix+Mois</td>\n",
       "      <td>http://userserve-ak.last.fm/serve/252/54697835...</td>\n",
       "      <td>3</td>\n",
       "    </tr>\n",
       "    <tr>\n",
       "      <th>4</th>\n",
       "      <td>Bella Morte</td>\n",
       "      <td>http://www.last.fm/music/Bella+Morte</td>\n",
       "      <td>http://userserve-ak.last.fm/serve/252/14789013...</td>\n",
       "      <td>4</td>\n",
       "    </tr>\n",
       "  </tbody>\n",
       "</table>\n",
       "</div>"
      ],
      "text/plain": [
       "                name                                         url  \\\n",
       "0       MALICE MIZER       http://www.last.fm/music/MALICE+MIZER   \n",
       "1    Diary of Dreams    http://www.last.fm/music/Diary+of+Dreams   \n",
       "2  Carpathian Forest  http://www.last.fm/music/Carpathian+Forest   \n",
       "3       Moi dix Mois       http://www.last.fm/music/Moi+dix+Mois   \n",
       "4        Bella Morte        http://www.last.fm/music/Bella+Morte   \n",
       "\n",
       "                                          pictureURL  artID  \n",
       "0    http://userserve-ak.last.fm/serve/252/10808.jpg      0  \n",
       "1  http://userserve-ak.last.fm/serve/252/3052066.jpg      1  \n",
       "2  http://userserve-ak.last.fm/serve/252/40222717...      2  \n",
       "3  http://userserve-ak.last.fm/serve/252/54697835...      3  \n",
       "4  http://userserve-ak.last.fm/serve/252/14789013...      4  "
      ]
     },
     "execution_count": 9,
     "metadata": {},
     "output_type": "execute_result"
    }
   ],
   "source": [
    "df.drop(columns=['id'], inplace=True)\n",
    "df.head()"
   ]
  },
  {
   "cell_type": "markdown",
   "id": "1df5cbe5",
   "metadata": {},
   "source": [
    "There appears to be some unclean names such as \"Diamanda GalÃ¡s\" among others just taking an initial look at the data here."
   ]
  },
  {
   "cell_type": "code",
   "execution_count": 10,
   "id": "b4904c2d",
   "metadata": {},
   "outputs": [
    {
     "data": {
      "text/html": [
       "<div>\n",
       "<style scoped>\n",
       "    .dataframe tbody tr th:only-of-type {\n",
       "        vertical-align: middle;\n",
       "    }\n",
       "\n",
       "    .dataframe tbody tr th {\n",
       "        vertical-align: top;\n",
       "    }\n",
       "\n",
       "    .dataframe thead th {\n",
       "        text-align: right;\n",
       "    }\n",
       "</style>\n",
       "<table border=\"1\" class=\"dataframe\">\n",
       "  <thead>\n",
       "    <tr style=\"text-align: right;\">\n",
       "      <th></th>\n",
       "      <th>tagID</th>\n",
       "      <th>tagValue</th>\n",
       "    </tr>\n",
       "  </thead>\n",
       "  <tbody>\n",
       "    <tr>\n",
       "      <th>0</th>\n",
       "      <td>1</td>\n",
       "      <td>metal</td>\n",
       "    </tr>\n",
       "    <tr>\n",
       "      <th>1</th>\n",
       "      <td>2</td>\n",
       "      <td>alternative metal</td>\n",
       "    </tr>\n",
       "    <tr>\n",
       "      <th>2</th>\n",
       "      <td>3</td>\n",
       "      <td>goth rock</td>\n",
       "    </tr>\n",
       "    <tr>\n",
       "      <th>3</th>\n",
       "      <td>4</td>\n",
       "      <td>black metal</td>\n",
       "    </tr>\n",
       "    <tr>\n",
       "      <th>4</th>\n",
       "      <td>5</td>\n",
       "      <td>death metal</td>\n",
       "    </tr>\n",
       "    <tr>\n",
       "      <th>...</th>\n",
       "      <td>...</td>\n",
       "      <td>...</td>\n",
       "    </tr>\n",
       "    <tr>\n",
       "      <th>11941</th>\n",
       "      <td>12644</td>\n",
       "      <td>suomi</td>\n",
       "    </tr>\n",
       "    <tr>\n",
       "      <th>11942</th>\n",
       "      <td>12645</td>\n",
       "      <td>symbiosis</td>\n",
       "    </tr>\n",
       "    <tr>\n",
       "      <th>11943</th>\n",
       "      <td>12646</td>\n",
       "      <td>sverige</td>\n",
       "    </tr>\n",
       "    <tr>\n",
       "      <th>11944</th>\n",
       "      <td>12647</td>\n",
       "      <td>eire</td>\n",
       "    </tr>\n",
       "    <tr>\n",
       "      <th>11945</th>\n",
       "      <td>12648</td>\n",
       "      <td>electro latino</td>\n",
       "    </tr>\n",
       "  </tbody>\n",
       "</table>\n",
       "<p>11946 rows × 2 columns</p>\n",
       "</div>"
      ],
      "text/plain": [
       "       tagID           tagValue\n",
       "0          1              metal\n",
       "1          2  alternative metal\n",
       "2          3          goth rock\n",
       "3          4        black metal\n",
       "4          5        death metal\n",
       "...      ...                ...\n",
       "11941  12644              suomi\n",
       "11942  12645          symbiosis\n",
       "11943  12646            sverige\n",
       "11944  12647               eire\n",
       "11945  12648     electro latino\n",
       "\n",
       "[11946 rows x 2 columns]"
      ]
     },
     "execution_count": 10,
     "metadata": {},
     "output_type": "execute_result"
    }
   ],
   "source": [
    "df1 = pd.read_csv(\"data/hetrec2011-lastfm-2k/tags.csv\")\n",
    "df1"
   ]
  },
  {
   "cell_type": "code",
   "execution_count": 11,
   "id": "372d8f1a",
   "metadata": {},
   "outputs": [
    {
     "data": {
      "text/html": [
       "<div>\n",
       "<style scoped>\n",
       "    .dataframe tbody tr th:only-of-type {\n",
       "        vertical-align: middle;\n",
       "    }\n",
       "\n",
       "    .dataframe tbody tr th {\n",
       "        vertical-align: top;\n",
       "    }\n",
       "\n",
       "    .dataframe thead th {\n",
       "        text-align: right;\n",
       "    }\n",
       "</style>\n",
       "<table border=\"1\" class=\"dataframe\">\n",
       "  <thead>\n",
       "    <tr style=\"text-align: right;\">\n",
       "      <th></th>\n",
       "      <th>userID</th>\n",
       "      <th>artistID</th>\n",
       "      <th>weight</th>\n",
       "    </tr>\n",
       "  </thead>\n",
       "  <tbody>\n",
       "    <tr>\n",
       "      <th>0</th>\n",
       "      <td>2</td>\n",
       "      <td>51</td>\n",
       "      <td>13883</td>\n",
       "    </tr>\n",
       "    <tr>\n",
       "      <th>1</th>\n",
       "      <td>2</td>\n",
       "      <td>52</td>\n",
       "      <td>11690</td>\n",
       "    </tr>\n",
       "    <tr>\n",
       "      <th>2</th>\n",
       "      <td>2</td>\n",
       "      <td>53</td>\n",
       "      <td>11351</td>\n",
       "    </tr>\n",
       "    <tr>\n",
       "      <th>3</th>\n",
       "      <td>2</td>\n",
       "      <td>54</td>\n",
       "      <td>10300</td>\n",
       "    </tr>\n",
       "    <tr>\n",
       "      <th>4</th>\n",
       "      <td>2</td>\n",
       "      <td>55</td>\n",
       "      <td>8983</td>\n",
       "    </tr>\n",
       "    <tr>\n",
       "      <th>...</th>\n",
       "      <td>...</td>\n",
       "      <td>...</td>\n",
       "      <td>...</td>\n",
       "    </tr>\n",
       "    <tr>\n",
       "      <th>92829</th>\n",
       "      <td>2100</td>\n",
       "      <td>18726</td>\n",
       "      <td>337</td>\n",
       "    </tr>\n",
       "    <tr>\n",
       "      <th>92830</th>\n",
       "      <td>2100</td>\n",
       "      <td>18727</td>\n",
       "      <td>297</td>\n",
       "    </tr>\n",
       "    <tr>\n",
       "      <th>92831</th>\n",
       "      <td>2100</td>\n",
       "      <td>18728</td>\n",
       "      <td>281</td>\n",
       "    </tr>\n",
       "    <tr>\n",
       "      <th>92832</th>\n",
       "      <td>2100</td>\n",
       "      <td>18729</td>\n",
       "      <td>280</td>\n",
       "    </tr>\n",
       "    <tr>\n",
       "      <th>92833</th>\n",
       "      <td>2100</td>\n",
       "      <td>18730</td>\n",
       "      <td>263</td>\n",
       "    </tr>\n",
       "  </tbody>\n",
       "</table>\n",
       "<p>92834 rows × 3 columns</p>\n",
       "</div>"
      ],
      "text/plain": [
       "       userID  artistID  weight\n",
       "0           2        51   13883\n",
       "1           2        52   11690\n",
       "2           2        53   11351\n",
       "3           2        54   10300\n",
       "4           2        55    8983\n",
       "...       ...       ...     ...\n",
       "92829    2100     18726     337\n",
       "92830    2100     18727     297\n",
       "92831    2100     18728     281\n",
       "92832    2100     18729     280\n",
       "92833    2100     18730     263\n",
       "\n",
       "[92834 rows x 3 columns]"
      ]
     },
     "execution_count": 11,
     "metadata": {},
     "output_type": "execute_result"
    }
   ],
   "source": [
    "df2 = pd.read_csv(\"data/hetrec2011-lastfm-2k/user_artists.csv\")\n",
    "df2"
   ]
  },
  {
   "cell_type": "code",
   "execution_count": 12,
   "id": "213e5d31",
   "metadata": {},
   "outputs": [
    {
     "data": {
      "text/plain": [
       "1"
      ]
     },
     "execution_count": 12,
     "metadata": {},
     "output_type": "execute_result"
    }
   ],
   "source": [
    "df2['artistID'].min()"
   ]
  },
  {
   "cell_type": "code",
   "execution_count": 13,
   "id": "75cc8c19",
   "metadata": {},
   "outputs": [],
   "source": [
    "# Since the ids start at 2, we get them to start at 0. We also need to have the max value 1 less than the no of unique values.\n",
    "df2[\"userID\"] = df2[\"userID\"].apply(lambda x: str(x-2))\n",
    "df2[\"artistID\"] = df2[\"artistID\"].apply(lambda x: str(x-1))"
   ]
  },
  {
   "cell_type": "code",
   "execution_count": 14,
   "id": "0bf17f35",
   "metadata": {},
   "outputs": [],
   "source": [
    "df2['userID'] = df2['userID'].astype(int)\n",
    "xyz =  np.array(df2['userID'])\n",
    "#zzz = np.array(played['userID'])\n",
    "vals = []\n",
    "for i in range(len(xyz)):\n",
    "    v = xyz[i]\n",
    "    if v not in vals:\n",
    "        vals.append(v)\n",
    "    else:\n",
    "        continue"
   ]
  },
  {
   "cell_type": "code",
   "execution_count": 15,
   "id": "b0a192a5",
   "metadata": {},
   "outputs": [
    {
     "data": {
      "text/plain": [
       "2098"
      ]
     },
     "execution_count": 15,
     "metadata": {},
     "output_type": "execute_result"
    }
   ],
   "source": [
    "vals[-1]"
   ]
  },
  {
   "cell_type": "code",
   "execution_count": 16,
   "id": "62ffd020",
   "metadata": {},
   "outputs": [
    {
     "data": {
      "text/plain": [
       "2098"
      ]
     },
     "execution_count": 16,
     "metadata": {},
     "output_type": "execute_result"
    }
   ],
   "source": [
    "unique_list = list(set(vals))\n",
    "unique_list.sort()\n",
    "unique_list[-1]"
   ]
  },
  {
   "cell_type": "code",
   "execution_count": 17,
   "id": "86c40ba8",
   "metadata": {},
   "outputs": [
    {
     "data": {
      "text/plain": [
       "1891"
      ]
     },
     "execution_count": 17,
     "metadata": {},
     "output_type": "execute_result"
    }
   ],
   "source": [
    "usenew = []\n",
    "for i in range(0, 1892):\n",
    "    usenew.append(i)\n",
    "\n",
    "usenew[-1]"
   ]
  },
  {
   "cell_type": "code",
   "execution_count": 18,
   "id": "f93271d0",
   "metadata": {},
   "outputs": [],
   "source": [
    "keys = unique_list\n",
    "values = usenew\n",
    "dictionary = dict(zip(keys, values))\n",
    "#print(dictionary) # {'a': 1, 'b': 2, 'c': 3}"
   ]
  },
  {
   "cell_type": "code",
   "execution_count": 19,
   "id": "04397e42",
   "metadata": {},
   "outputs": [],
   "source": [
    "s = df2['userID']\n",
    "\n",
    "df2['userID'] = s.map(dictionary)"
   ]
  },
  {
   "cell_type": "code",
   "execution_count": 20,
   "id": "ee4af8c8",
   "metadata": {},
   "outputs": [
    {
     "data": {
      "text/html": [
       "<div>\n",
       "<style scoped>\n",
       "    .dataframe tbody tr th:only-of-type {\n",
       "        vertical-align: middle;\n",
       "    }\n",
       "\n",
       "    .dataframe tbody tr th {\n",
       "        vertical-align: top;\n",
       "    }\n",
       "\n",
       "    .dataframe thead th {\n",
       "        text-align: right;\n",
       "    }\n",
       "</style>\n",
       "<table border=\"1\" class=\"dataframe\">\n",
       "  <thead>\n",
       "    <tr style=\"text-align: right;\">\n",
       "      <th></th>\n",
       "      <th>userID</th>\n",
       "      <th>artistID</th>\n",
       "      <th>weight</th>\n",
       "    </tr>\n",
       "  </thead>\n",
       "  <tbody>\n",
       "    <tr>\n",
       "      <th>0</th>\n",
       "      <td>0</td>\n",
       "      <td>50</td>\n",
       "      <td>13883</td>\n",
       "    </tr>\n",
       "    <tr>\n",
       "      <th>1</th>\n",
       "      <td>0</td>\n",
       "      <td>51</td>\n",
       "      <td>11690</td>\n",
       "    </tr>\n",
       "    <tr>\n",
       "      <th>2</th>\n",
       "      <td>0</td>\n",
       "      <td>52</td>\n",
       "      <td>11351</td>\n",
       "    </tr>\n",
       "    <tr>\n",
       "      <th>3</th>\n",
       "      <td>0</td>\n",
       "      <td>53</td>\n",
       "      <td>10300</td>\n",
       "    </tr>\n",
       "    <tr>\n",
       "      <th>4</th>\n",
       "      <td>0</td>\n",
       "      <td>54</td>\n",
       "      <td>8983</td>\n",
       "    </tr>\n",
       "  </tbody>\n",
       "</table>\n",
       "</div>"
      ],
      "text/plain": [
       "   userID artistID  weight\n",
       "0       0       50   13883\n",
       "1       0       51   11690\n",
       "2       0       52   11351\n",
       "3       0       53   10300\n",
       "4       0       54    8983"
      ]
     },
     "execution_count": 20,
     "metadata": {},
     "output_type": "execute_result"
    }
   ],
   "source": [
    "df2.head()"
   ]
  },
  {
   "cell_type": "code",
   "execution_count": 21,
   "id": "4bc026c8",
   "metadata": {},
   "outputs": [],
   "source": [
    "df2['artistID'] = df2['artistID'].astype(int)\n",
    "xyz =  np.array(df2['artistID'])\n",
    "#zzz = np.array(played['userID'])\n",
    "vals = []\n",
    "for i in range(len(xyz)):\n",
    "    v = xyz[i]\n",
    "    if v not in vals:\n",
    "        vals.append(v)\n",
    "    else:\n",
    "        continue"
   ]
  },
  {
   "cell_type": "code",
   "execution_count": 22,
   "id": "065e2a0b",
   "metadata": {},
   "outputs": [
    {
     "data": {
      "text/plain": [
       "0"
      ]
     },
     "execution_count": 22,
     "metadata": {},
     "output_type": "execute_result"
    }
   ],
   "source": [
    "unique_list = list(set(vals))\n",
    "unique_list.sort()\n",
    "unique_list[0]"
   ]
  },
  {
   "cell_type": "code",
   "execution_count": 23,
   "id": "ab4a2de0",
   "metadata": {},
   "outputs": [
    {
     "data": {
      "text/plain": [
       "17631"
      ]
     },
     "execution_count": 23,
     "metadata": {},
     "output_type": "execute_result"
    }
   ],
   "source": [
    "usenew = []\n",
    "for i in range(0, 17632):\n",
    "    usenew.append(i)\n",
    "\n",
    "usenew[-1]"
   ]
  },
  {
   "cell_type": "code",
   "execution_count": 24,
   "id": "4e728879",
   "metadata": {},
   "outputs": [],
   "source": [
    "keys = unique_list\n",
    "values = usenew\n",
    "diction = dict(zip(keys, values))\n",
    "#print(diction) # {'a': 1, 'b': 2, 'c': 3}"
   ]
  },
  {
   "cell_type": "code",
   "execution_count": 25,
   "id": "090cd02b",
   "metadata": {},
   "outputs": [],
   "source": [
    "s = df2['artistID']\n",
    "\n",
    "df2['artistID'] = s.map(diction)"
   ]
  },
  {
   "cell_type": "code",
   "execution_count": 26,
   "id": "fb926189",
   "metadata": {},
   "outputs": [
    {
     "data": {
      "text/plain": [
       "352698"
      ]
     },
     "execution_count": 26,
     "metadata": {},
     "output_type": "execute_result"
    }
   ],
   "source": [
    "df2['weight'].max()"
   ]
  },
  {
   "cell_type": "code",
   "execution_count": 27,
   "id": "4c376ed3",
   "metadata": {},
   "outputs": [
    {
     "data": {
      "text/html": [
       "<div>\n",
       "<style scoped>\n",
       "    .dataframe tbody tr th:only-of-type {\n",
       "        vertical-align: middle;\n",
       "    }\n",
       "\n",
       "    .dataframe tbody tr th {\n",
       "        vertical-align: top;\n",
       "    }\n",
       "\n",
       "    .dataframe thead th {\n",
       "        text-align: right;\n",
       "    }\n",
       "</style>\n",
       "<table border=\"1\" class=\"dataframe\">\n",
       "  <thead>\n",
       "    <tr style=\"text-align: right;\">\n",
       "      <th></th>\n",
       "      <th>userID</th>\n",
       "      <th>artistID</th>\n",
       "      <th>weight</th>\n",
       "    </tr>\n",
       "  </thead>\n",
       "  <tbody>\n",
       "    <tr>\n",
       "      <th>0</th>\n",
       "      <td>0</td>\n",
       "      <td>45</td>\n",
       "      <td>13883</td>\n",
       "    </tr>\n",
       "    <tr>\n",
       "      <th>1</th>\n",
       "      <td>0</td>\n",
       "      <td>46</td>\n",
       "      <td>11690</td>\n",
       "    </tr>\n",
       "    <tr>\n",
       "      <th>2</th>\n",
       "      <td>0</td>\n",
       "      <td>47</td>\n",
       "      <td>11351</td>\n",
       "    </tr>\n",
       "    <tr>\n",
       "      <th>3</th>\n",
       "      <td>0</td>\n",
       "      <td>48</td>\n",
       "      <td>10300</td>\n",
       "    </tr>\n",
       "    <tr>\n",
       "      <th>4</th>\n",
       "      <td>0</td>\n",
       "      <td>49</td>\n",
       "      <td>8983</td>\n",
       "    </tr>\n",
       "    <tr>\n",
       "      <th>...</th>\n",
       "      <td>...</td>\n",
       "      <td>...</td>\n",
       "      <td>...</td>\n",
       "    </tr>\n",
       "    <tr>\n",
       "      <th>92829</th>\n",
       "      <td>1891</td>\n",
       "      <td>17615</td>\n",
       "      <td>337</td>\n",
       "    </tr>\n",
       "    <tr>\n",
       "      <th>92830</th>\n",
       "      <td>1891</td>\n",
       "      <td>17616</td>\n",
       "      <td>297</td>\n",
       "    </tr>\n",
       "    <tr>\n",
       "      <th>92831</th>\n",
       "      <td>1891</td>\n",
       "      <td>17617</td>\n",
       "      <td>281</td>\n",
       "    </tr>\n",
       "    <tr>\n",
       "      <th>92832</th>\n",
       "      <td>1891</td>\n",
       "      <td>17618</td>\n",
       "      <td>280</td>\n",
       "    </tr>\n",
       "    <tr>\n",
       "      <th>92833</th>\n",
       "      <td>1891</td>\n",
       "      <td>17619</td>\n",
       "      <td>263</td>\n",
       "    </tr>\n",
       "  </tbody>\n",
       "</table>\n",
       "<p>92834 rows × 3 columns</p>\n",
       "</div>"
      ],
      "text/plain": [
       "       userID  artistID  weight\n",
       "0           0        45   13883\n",
       "1           0        46   11690\n",
       "2           0        47   11351\n",
       "3           0        48   10300\n",
       "4           0        49    8983\n",
       "...       ...       ...     ...\n",
       "92829    1891     17615     337\n",
       "92830    1891     17616     297\n",
       "92831    1891     17617     281\n",
       "92832    1891     17618     280\n",
       "92833    1891     17619     263\n",
       "\n",
       "[92834 rows x 3 columns]"
      ]
     },
     "execution_count": 27,
     "metadata": {},
     "output_type": "execute_result"
    }
   ],
   "source": [
    "df2"
   ]
  },
  {
   "cell_type": "code",
   "execution_count": 28,
   "id": "b2ef80de",
   "metadata": {},
   "outputs": [
    {
     "data": {
      "text/html": [
       "<div>\n",
       "<style scoped>\n",
       "    .dataframe tbody tr th:only-of-type {\n",
       "        vertical-align: middle;\n",
       "    }\n",
       "\n",
       "    .dataframe tbody tr th {\n",
       "        vertical-align: top;\n",
       "    }\n",
       "\n",
       "    .dataframe thead th {\n",
       "        text-align: right;\n",
       "    }\n",
       "</style>\n",
       "<table border=\"1\" class=\"dataframe\">\n",
       "  <thead>\n",
       "    <tr style=\"text-align: right;\">\n",
       "      <th></th>\n",
       "      <th>userID</th>\n",
       "      <th>friendID</th>\n",
       "    </tr>\n",
       "  </thead>\n",
       "  <tbody>\n",
       "    <tr>\n",
       "      <th>0</th>\n",
       "      <td>2</td>\n",
       "      <td>275</td>\n",
       "    </tr>\n",
       "    <tr>\n",
       "      <th>1</th>\n",
       "      <td>2</td>\n",
       "      <td>428</td>\n",
       "    </tr>\n",
       "    <tr>\n",
       "      <th>2</th>\n",
       "      <td>2</td>\n",
       "      <td>515</td>\n",
       "    </tr>\n",
       "    <tr>\n",
       "      <th>3</th>\n",
       "      <td>2</td>\n",
       "      <td>761</td>\n",
       "    </tr>\n",
       "    <tr>\n",
       "      <th>4</th>\n",
       "      <td>2</td>\n",
       "      <td>831</td>\n",
       "    </tr>\n",
       "    <tr>\n",
       "      <th>...</th>\n",
       "      <td>...</td>\n",
       "      <td>...</td>\n",
       "    </tr>\n",
       "    <tr>\n",
       "      <th>25429</th>\n",
       "      <td>2099</td>\n",
       "      <td>1801</td>\n",
       "    </tr>\n",
       "    <tr>\n",
       "      <th>25430</th>\n",
       "      <td>2099</td>\n",
       "      <td>2006</td>\n",
       "    </tr>\n",
       "    <tr>\n",
       "      <th>25431</th>\n",
       "      <td>2099</td>\n",
       "      <td>2016</td>\n",
       "    </tr>\n",
       "    <tr>\n",
       "      <th>25432</th>\n",
       "      <td>2100</td>\n",
       "      <td>586</td>\n",
       "    </tr>\n",
       "    <tr>\n",
       "      <th>25433</th>\n",
       "      <td>2100</td>\n",
       "      <td>607</td>\n",
       "    </tr>\n",
       "  </tbody>\n",
       "</table>\n",
       "<p>25434 rows × 2 columns</p>\n",
       "</div>"
      ],
      "text/plain": [
       "       userID  friendID\n",
       "0           2       275\n",
       "1           2       428\n",
       "2           2       515\n",
       "3           2       761\n",
       "4           2       831\n",
       "...       ...       ...\n",
       "25429    2099      1801\n",
       "25430    2099      2006\n",
       "25431    2099      2016\n",
       "25432    2100       586\n",
       "25433    2100       607\n",
       "\n",
       "[25434 rows x 2 columns]"
      ]
     },
     "execution_count": 28,
     "metadata": {},
     "output_type": "execute_result"
    }
   ],
   "source": [
    "df3 = pd.read_csv(\"data/hetrec2011-lastfm-2k/user_friends.csv\")\n",
    "df3"
   ]
  },
  {
   "cell_type": "code",
   "execution_count": 29,
   "id": "97deb688",
   "metadata": {},
   "outputs": [],
   "source": [
    "# Since the ids start at 2, we get them to start at 0. We also need to have the max value 1 less than the no of unique values.\n",
    "df3[\"userID\"] = df3[\"userID\"].apply(lambda x: str(x-2))\n",
    "df3[\"friendID\"] = df3[\"friendID\"].apply(lambda x: str(x-2))\n",
    "\n",
    "df3['userID'] = pd.to_numeric(df3['userID'])\n",
    "df3['friendID'] = pd.to_numeric(df3['friendID'])"
   ]
  },
  {
   "cell_type": "code",
   "execution_count": 30,
   "id": "b916fd54",
   "metadata": {},
   "outputs": [
    {
     "data": {
      "text/plain": [
       "2098"
      ]
     },
     "execution_count": 30,
     "metadata": {},
     "output_type": "execute_result"
    }
   ],
   "source": [
    "df3['friendID'].max()"
   ]
  },
  {
   "cell_type": "code",
   "execution_count": 31,
   "id": "dd5da2d4",
   "metadata": {},
   "outputs": [
    {
     "data": {
      "text/plain": [
       "1892"
      ]
     },
     "execution_count": 31,
     "metadata": {},
     "output_type": "execute_result"
    }
   ],
   "source": [
    "df3['friendID'].nunique()"
   ]
  },
  {
   "cell_type": "code",
   "execution_count": 32,
   "id": "1680bc3e",
   "metadata": {},
   "outputs": [],
   "source": [
    "xyz =  np.array(df3['userID'])\n",
    "#zzz = np.array(df2['userID'])\n",
    "vals = []\n",
    "for i in range(len(xyz)):\n",
    "    if xyz[i] not in vals:\n",
    "        vals.append(xyz[i])"
   ]
  },
  {
   "cell_type": "code",
   "execution_count": 33,
   "id": "6e9f6baf",
   "metadata": {},
   "outputs": [
    {
     "data": {
      "text/plain": [
       "2098"
      ]
     },
     "execution_count": 33,
     "metadata": {},
     "output_type": "execute_result"
    }
   ],
   "source": [
    "unique_list = list(set(vals))\n",
    "unique_list.sort()\n",
    "unique_list[-1]"
   ]
  },
  {
   "cell_type": "code",
   "execution_count": 34,
   "id": "ed40605e",
   "metadata": {},
   "outputs": [
    {
     "data": {
      "text/plain": [
       "1891"
      ]
     },
     "execution_count": 34,
     "metadata": {},
     "output_type": "execute_result"
    }
   ],
   "source": [
    "usenew = []\n",
    "for i in range(0, 1892):\n",
    "    usenew.append(i)\n",
    "\n",
    "usenew[-1]"
   ]
  },
  {
   "cell_type": "code",
   "execution_count": 35,
   "id": "0f5871cf",
   "metadata": {},
   "outputs": [],
   "source": [
    "keys = unique_list\n",
    "values = usenew\n",
    "dictionary = dict(zip(keys, values))\n",
    "#print(dictionary) # {'a': 1, 'b': 2, 'c': 3}"
   ]
  },
  {
   "cell_type": "code",
   "execution_count": 36,
   "id": "9c01b1f3",
   "metadata": {},
   "outputs": [],
   "source": [
    "s = df3['userID']\n",
    "\n",
    "df3['userID'] = s.map(dictionary)"
   ]
  },
  {
   "cell_type": "code",
   "execution_count": 37,
   "id": "f04f5753",
   "metadata": {},
   "outputs": [],
   "source": [
    "o = df3['friendID']\n",
    "\n",
    "df3['friendID'] = o.map(dictionary)"
   ]
  },
  {
   "cell_type": "code",
   "execution_count": 38,
   "id": "78a14757",
   "metadata": {},
   "outputs": [
    {
     "data": {
      "text/plain": [
       "1891"
      ]
     },
     "execution_count": 38,
     "metadata": {},
     "output_type": "execute_result"
    }
   ],
   "source": [
    "df3['friendID'].max()"
   ]
  },
  {
   "cell_type": "code",
   "execution_count": 39,
   "id": "eaa9e409",
   "metadata": {},
   "outputs": [
    {
     "data": {
      "text/plain": [
       "False"
      ]
     },
     "execution_count": 39,
     "metadata": {},
     "output_type": "execute_result"
    }
   ],
   "source": [
    "df3.isnull().values.any()"
   ]
  },
  {
   "cell_type": "code",
   "execution_count": 40,
   "id": "1dff649e",
   "metadata": {},
   "outputs": [
    {
     "data": {
      "text/html": [
       "<div>\n",
       "<style scoped>\n",
       "    .dataframe tbody tr th:only-of-type {\n",
       "        vertical-align: middle;\n",
       "    }\n",
       "\n",
       "    .dataframe tbody tr th {\n",
       "        vertical-align: top;\n",
       "    }\n",
       "\n",
       "    .dataframe thead th {\n",
       "        text-align: right;\n",
       "    }\n",
       "</style>\n",
       "<table border=\"1\" class=\"dataframe\">\n",
       "  <thead>\n",
       "    <tr style=\"text-align: right;\">\n",
       "      <th></th>\n",
       "      <th>userID</th>\n",
       "      <th>artistID</th>\n",
       "      <th>tagID</th>\n",
       "      <th>day</th>\n",
       "      <th>month</th>\n",
       "      <th>year</th>\n",
       "    </tr>\n",
       "  </thead>\n",
       "  <tbody>\n",
       "    <tr>\n",
       "      <th>0</th>\n",
       "      <td>2</td>\n",
       "      <td>52</td>\n",
       "      <td>13</td>\n",
       "      <td>1</td>\n",
       "      <td>4</td>\n",
       "      <td>2009</td>\n",
       "    </tr>\n",
       "    <tr>\n",
       "      <th>1</th>\n",
       "      <td>2</td>\n",
       "      <td>52</td>\n",
       "      <td>15</td>\n",
       "      <td>1</td>\n",
       "      <td>4</td>\n",
       "      <td>2009</td>\n",
       "    </tr>\n",
       "    <tr>\n",
       "      <th>2</th>\n",
       "      <td>2</td>\n",
       "      <td>52</td>\n",
       "      <td>18</td>\n",
       "      <td>1</td>\n",
       "      <td>4</td>\n",
       "      <td>2009</td>\n",
       "    </tr>\n",
       "    <tr>\n",
       "      <th>3</th>\n",
       "      <td>2</td>\n",
       "      <td>52</td>\n",
       "      <td>21</td>\n",
       "      <td>1</td>\n",
       "      <td>4</td>\n",
       "      <td>2009</td>\n",
       "    </tr>\n",
       "    <tr>\n",
       "      <th>4</th>\n",
       "      <td>2</td>\n",
       "      <td>52</td>\n",
       "      <td>41</td>\n",
       "      <td>1</td>\n",
       "      <td>4</td>\n",
       "      <td>2009</td>\n",
       "    </tr>\n",
       "    <tr>\n",
       "      <th>...</th>\n",
       "      <td>...</td>\n",
       "      <td>...</td>\n",
       "      <td>...</td>\n",
       "      <td>...</td>\n",
       "      <td>...</td>\n",
       "      <td>...</td>\n",
       "    </tr>\n",
       "    <tr>\n",
       "      <th>186474</th>\n",
       "      <td>2100</td>\n",
       "      <td>16437</td>\n",
       "      <td>4</td>\n",
       "      <td>1</td>\n",
       "      <td>7</td>\n",
       "      <td>2010</td>\n",
       "    </tr>\n",
       "    <tr>\n",
       "      <th>186475</th>\n",
       "      <td>2100</td>\n",
       "      <td>16437</td>\n",
       "      <td>292</td>\n",
       "      <td>1</td>\n",
       "      <td>5</td>\n",
       "      <td>2010</td>\n",
       "    </tr>\n",
       "    <tr>\n",
       "      <th>186476</th>\n",
       "      <td>2100</td>\n",
       "      <td>16437</td>\n",
       "      <td>2087</td>\n",
       "      <td>1</td>\n",
       "      <td>7</td>\n",
       "      <td>2010</td>\n",
       "    </tr>\n",
       "    <tr>\n",
       "      <th>186477</th>\n",
       "      <td>2100</td>\n",
       "      <td>16437</td>\n",
       "      <td>2801</td>\n",
       "      <td>1</td>\n",
       "      <td>5</td>\n",
       "      <td>2010</td>\n",
       "    </tr>\n",
       "    <tr>\n",
       "      <th>186478</th>\n",
       "      <td>2100</td>\n",
       "      <td>16437</td>\n",
       "      <td>3335</td>\n",
       "      <td>1</td>\n",
       "      <td>7</td>\n",
       "      <td>2010</td>\n",
       "    </tr>\n",
       "  </tbody>\n",
       "</table>\n",
       "<p>186479 rows × 6 columns</p>\n",
       "</div>"
      ],
      "text/plain": [
       "        userID  artistID  tagID  day  month  year\n",
       "0            2        52     13    1      4  2009\n",
       "1            2        52     15    1      4  2009\n",
       "2            2        52     18    1      4  2009\n",
       "3            2        52     21    1      4  2009\n",
       "4            2        52     41    1      4  2009\n",
       "...        ...       ...    ...  ...    ...   ...\n",
       "186474    2100     16437      4    1      7  2010\n",
       "186475    2100     16437    292    1      5  2010\n",
       "186476    2100     16437   2087    1      7  2010\n",
       "186477    2100     16437   2801    1      5  2010\n",
       "186478    2100     16437   3335    1      7  2010\n",
       "\n",
       "[186479 rows x 6 columns]"
      ]
     },
     "execution_count": 40,
     "metadata": {},
     "output_type": "execute_result"
    }
   ],
   "source": [
    "df4 = pd.read_csv(\"data/hetrec2011-lastfm-2k/user_taggedartists-timestamps.csv\")\n",
    "df4"
   ]
  },
  {
   "cell_type": "code",
   "execution_count": 41,
   "id": "b926d128",
   "metadata": {},
   "outputs": [
    {
     "data": {
      "text/html": [
       "<div>\n",
       "<style scoped>\n",
       "    .dataframe tbody tr th:only-of-type {\n",
       "        vertical-align: middle;\n",
       "    }\n",
       "\n",
       "    .dataframe tbody tr th {\n",
       "        vertical-align: top;\n",
       "    }\n",
       "\n",
       "    .dataframe thead th {\n",
       "        text-align: right;\n",
       "    }\n",
       "</style>\n",
       "<table border=\"1\" class=\"dataframe\">\n",
       "  <thead>\n",
       "    <tr style=\"text-align: right;\">\n",
       "      <th></th>\n",
       "      <th>userID</th>\n",
       "      <th>artistID</th>\n",
       "      <th>tagID</th>\n",
       "      <th>day</th>\n",
       "      <th>month</th>\n",
       "      <th>year</th>\n",
       "    </tr>\n",
       "  </thead>\n",
       "  <tbody>\n",
       "    <tr>\n",
       "      <th>0</th>\n",
       "      <td>2</td>\n",
       "      <td>52</td>\n",
       "      <td>13</td>\n",
       "      <td>1</td>\n",
       "      <td>4</td>\n",
       "      <td>2009</td>\n",
       "    </tr>\n",
       "    <tr>\n",
       "      <th>1</th>\n",
       "      <td>2</td>\n",
       "      <td>52</td>\n",
       "      <td>15</td>\n",
       "      <td>1</td>\n",
       "      <td>4</td>\n",
       "      <td>2009</td>\n",
       "    </tr>\n",
       "    <tr>\n",
       "      <th>2</th>\n",
       "      <td>2</td>\n",
       "      <td>52</td>\n",
       "      <td>18</td>\n",
       "      <td>1</td>\n",
       "      <td>4</td>\n",
       "      <td>2009</td>\n",
       "    </tr>\n",
       "    <tr>\n",
       "      <th>3</th>\n",
       "      <td>2</td>\n",
       "      <td>52</td>\n",
       "      <td>21</td>\n",
       "      <td>1</td>\n",
       "      <td>4</td>\n",
       "      <td>2009</td>\n",
       "    </tr>\n",
       "    <tr>\n",
       "      <th>4</th>\n",
       "      <td>2</td>\n",
       "      <td>52</td>\n",
       "      <td>41</td>\n",
       "      <td>1</td>\n",
       "      <td>4</td>\n",
       "      <td>2009</td>\n",
       "    </tr>\n",
       "  </tbody>\n",
       "</table>\n",
       "</div>"
      ],
      "text/plain": [
       "   userID  artistID  tagID  day  month  year\n",
       "0       2        52     13    1      4  2009\n",
       "1       2        52     15    1      4  2009\n",
       "2       2        52     18    1      4  2009\n",
       "3       2        52     21    1      4  2009\n",
       "4       2        52     41    1      4  2009"
      ]
     },
     "execution_count": 41,
     "metadata": {},
     "output_type": "execute_result"
    }
   ],
   "source": [
    "df5 = pd.read_csv(\"data/hetrec2011-lastfm-2k/user_taggedartists.csv\")\n",
    "df5.head()"
   ]
  },
  {
   "cell_type": "markdown",
   "id": "e1b083bc",
   "metadata": {},
   "source": [
    "Our last two dataframes seem exactly the same. Let's check this before we delete anything."
   ]
  },
  {
   "cell_type": "code",
   "execution_count": 42,
   "id": "35a8d448",
   "metadata": {},
   "outputs": [
    {
     "name": "stdout",
     "output_type": "stream",
     "text": [
      "True\n"
     ]
    }
   ],
   "source": [
    "def checkequality(A, B):\n",
    "\n",
    "    df11 = A.sort_index(axis=1)\n",
    "    df11 = df11.sort_values(df11.columns.tolist()).reset_index(drop=True)\n",
    "\n",
    "    df22 = B.sort_index(axis=1)\n",
    "    df22 = df22.sort_values(df22.columns.tolist()).reset_index(drop=True)\n",
    "    return (df11 == df22).values.all()\n",
    "\n",
    "a = checkequality(df4, df5)\n",
    "print (a)"
   ]
  },
  {
   "cell_type": "markdown",
   "id": "36d9edee",
   "metadata": {},
   "source": [
    "Two of our files are exactly the same. We can delete one of these accordingly."
   ]
  },
  {
   "cell_type": "code",
   "execution_count": 43,
   "id": "5515d87d",
   "metadata": {},
   "outputs": [],
   "source": [
    "del df5"
   ]
  },
  {
   "cell_type": "code",
   "execution_count": 44,
   "id": "a193c3f2",
   "metadata": {},
   "outputs": [],
   "source": [
    "# Since the ids start at 2, we get them to start at 0. We also need to have the max value 1 less than the no of unique values.\n",
    "df4[\"userID\"] = df4[\"userID\"].apply(lambda x: str(x-2))\n",
    "df4[\"artistID\"] = df4[\"artistID\"].apply(lambda x: str(x-1))\n",
    "\n",
    "df4['artistID'] = df4['artistID'].astype(int)\n",
    "df4['userID'] = df4['userID'].astype(int)"
   ]
  },
  {
   "cell_type": "code",
   "execution_count": 45,
   "id": "f03b074e",
   "metadata": {},
   "outputs": [],
   "source": [
    "xyz =  np.array(df4['artistID'])\n",
    "#zzz = np.array(played['userID'])\n",
    "vals = []\n",
    "for i in range(len(xyz)):\n",
    "    v = xyz[i]\n",
    "    if v not in vals:\n",
    "        vals.append(v)\n",
    "    else:\n",
    "        continue"
   ]
  },
  {
   "cell_type": "code",
   "execution_count": 46,
   "id": "3f0d91d9",
   "metadata": {},
   "outputs": [
    {
     "name": "stdout",
     "output_type": "stream",
     "text": [
      "18743\n"
     ]
    },
    {
     "data": {
      "text/plain": [
       "17631"
      ]
     },
     "execution_count": 46,
     "metadata": {},
     "output_type": "execute_result"
    }
   ],
   "source": [
    "unique_list = list(set(vals))\n",
    "unique_list.sort()\n",
    "print(unique_list[-1])\n",
    "\n",
    "usenew = []\n",
    "for i in range(0, 17632):\n",
    "    usenew.append(i)\n",
    "\n",
    "usenew[-1]"
   ]
  },
  {
   "cell_type": "code",
   "execution_count": 47,
   "id": "cac8dd2d",
   "metadata": {},
   "outputs": [],
   "source": [
    "keys = unique_list\n",
    "values = usenew\n",
    "diction = dict(zip(keys, values))\n",
    "#print(diction) # {'a': 1, 'b': 2, 'c': 3}"
   ]
  },
  {
   "cell_type": "code",
   "execution_count": 48,
   "id": "ddf00d3d",
   "metadata": {},
   "outputs": [],
   "source": [
    "s = df4['artistID']\n",
    "\n",
    "df4['artistID'] = s.map(diction)"
   ]
  },
  {
   "cell_type": "code",
   "execution_count": 49,
   "id": "9df8a830",
   "metadata": {},
   "outputs": [],
   "source": [
    "s = df4['userID']\n",
    "\n",
    "df4['userID'] = s.map(dictionary)\n",
    "#print(dictionary)"
   ]
  },
  {
   "cell_type": "code",
   "execution_count": 50,
   "id": "48e54c4b",
   "metadata": {},
   "outputs": [
    {
     "data": {
      "text/html": [
       "<div>\n",
       "<style scoped>\n",
       "    .dataframe tbody tr th:only-of-type {\n",
       "        vertical-align: middle;\n",
       "    }\n",
       "\n",
       "    .dataframe tbody tr th {\n",
       "        vertical-align: top;\n",
       "    }\n",
       "\n",
       "    .dataframe thead th {\n",
       "        text-align: right;\n",
       "    }\n",
       "</style>\n",
       "<table border=\"1\" class=\"dataframe\">\n",
       "  <thead>\n",
       "    <tr style=\"text-align: right;\">\n",
       "      <th></th>\n",
       "      <th>userID</th>\n",
       "      <th>artistID</th>\n",
       "      <th>tagID</th>\n",
       "      <th>day</th>\n",
       "      <th>month</th>\n",
       "      <th>year</th>\n",
       "    </tr>\n",
       "  </thead>\n",
       "  <tbody>\n",
       "    <tr>\n",
       "      <th>0</th>\n",
       "      <td>0</td>\n",
       "      <td>49</td>\n",
       "      <td>13</td>\n",
       "      <td>1</td>\n",
       "      <td>4</td>\n",
       "      <td>2009</td>\n",
       "    </tr>\n",
       "    <tr>\n",
       "      <th>1</th>\n",
       "      <td>0</td>\n",
       "      <td>49</td>\n",
       "      <td>15</td>\n",
       "      <td>1</td>\n",
       "      <td>4</td>\n",
       "      <td>2009</td>\n",
       "    </tr>\n",
       "    <tr>\n",
       "      <th>2</th>\n",
       "      <td>0</td>\n",
       "      <td>49</td>\n",
       "      <td>18</td>\n",
       "      <td>1</td>\n",
       "      <td>4</td>\n",
       "      <td>2009</td>\n",
       "    </tr>\n",
       "    <tr>\n",
       "      <th>3</th>\n",
       "      <td>0</td>\n",
       "      <td>49</td>\n",
       "      <td>21</td>\n",
       "      <td>1</td>\n",
       "      <td>4</td>\n",
       "      <td>2009</td>\n",
       "    </tr>\n",
       "    <tr>\n",
       "      <th>4</th>\n",
       "      <td>0</td>\n",
       "      <td>49</td>\n",
       "      <td>41</td>\n",
       "      <td>1</td>\n",
       "      <td>4</td>\n",
       "      <td>2009</td>\n",
       "    </tr>\n",
       "    <tr>\n",
       "      <th>...</th>\n",
       "      <td>...</td>\n",
       "      <td>...</td>\n",
       "      <td>...</td>\n",
       "      <td>...</td>\n",
       "      <td>...</td>\n",
       "      <td>...</td>\n",
       "    </tr>\n",
       "    <tr>\n",
       "      <th>186474</th>\n",
       "      <td>1891</td>\n",
       "      <td>11288</td>\n",
       "      <td>4</td>\n",
       "      <td>1</td>\n",
       "      <td>7</td>\n",
       "      <td>2010</td>\n",
       "    </tr>\n",
       "    <tr>\n",
       "      <th>186475</th>\n",
       "      <td>1891</td>\n",
       "      <td>11288</td>\n",
       "      <td>292</td>\n",
       "      <td>1</td>\n",
       "      <td>5</td>\n",
       "      <td>2010</td>\n",
       "    </tr>\n",
       "    <tr>\n",
       "      <th>186476</th>\n",
       "      <td>1891</td>\n",
       "      <td>11288</td>\n",
       "      <td>2087</td>\n",
       "      <td>1</td>\n",
       "      <td>7</td>\n",
       "      <td>2010</td>\n",
       "    </tr>\n",
       "    <tr>\n",
       "      <th>186477</th>\n",
       "      <td>1891</td>\n",
       "      <td>11288</td>\n",
       "      <td>2801</td>\n",
       "      <td>1</td>\n",
       "      <td>5</td>\n",
       "      <td>2010</td>\n",
       "    </tr>\n",
       "    <tr>\n",
       "      <th>186478</th>\n",
       "      <td>1891</td>\n",
       "      <td>11288</td>\n",
       "      <td>3335</td>\n",
       "      <td>1</td>\n",
       "      <td>7</td>\n",
       "      <td>2010</td>\n",
       "    </tr>\n",
       "  </tbody>\n",
       "</table>\n",
       "<p>186479 rows × 6 columns</p>\n",
       "</div>"
      ],
      "text/plain": [
       "        userID  artistID  tagID  day  month  year\n",
       "0            0        49     13    1      4  2009\n",
       "1            0        49     15    1      4  2009\n",
       "2            0        49     18    1      4  2009\n",
       "3            0        49     21    1      4  2009\n",
       "4            0        49     41    1      4  2009\n",
       "...        ...       ...    ...  ...    ...   ...\n",
       "186474    1891     11288      4    1      7  2010\n",
       "186475    1891     11288    292    1      5  2010\n",
       "186476    1891     11288   2087    1      7  2010\n",
       "186477    1891     11288   2801    1      5  2010\n",
       "186478    1891     11288   3335    1      7  2010\n",
       "\n",
       "[186479 rows x 6 columns]"
      ]
     },
     "execution_count": 50,
     "metadata": {},
     "output_type": "execute_result"
    }
   ],
   "source": [
    "df4"
   ]
  },
  {
   "cell_type": "code",
   "execution_count": 51,
   "id": "19826964",
   "metadata": {},
   "outputs": [],
   "source": [
    "df4.drop(columns=['day', 'month', 'year'], inplace=True)"
   ]
  },
  {
   "cell_type": "code",
   "execution_count": 52,
   "id": "6f6bf95d",
   "metadata": {},
   "outputs": [
    {
     "data": {
      "text/plain": [
       "12522"
      ]
     },
     "execution_count": 52,
     "metadata": {},
     "output_type": "execute_result"
    }
   ],
   "source": [
    "tags = pd.merge(df1, df4, how=\"inner\", left_on=\"tagID\", right_on=\"tagID\")\n",
    "tags.isnull().values.any()\n",
    "tags['artistID'].max()"
   ]
  },
  {
   "cell_type": "markdown",
   "id": "522539a4",
   "metadata": {},
   "source": [
    "# Methodology\n",
    "Now that all our data files are read in and in the appropriate format we will begin our end to end process. These are as follows:\n",
    "##### 1. Data cleaning and processing\n",
    "##### 2. Visualization\n",
    "##### 3. Fitting our Model\n",
    "##### 4. Evaluating our Model"
   ]
  },
  {
   "cell_type": "markdown",
   "id": "cb32b05e",
   "metadata": {},
   "source": [
    "# Cleaning and Processing\n",
    "\n",
    "### Initial analysis and cleaning"
   ]
  },
  {
   "cell_type": "code",
   "execution_count": 53,
   "id": "1bc754b3",
   "metadata": {},
   "outputs": [
    {
     "data": {
      "text/plain": [
       "MALICE MIZER                        1\n",
       "BEAT!BEAT!BEAT!                     1\n",
       "ãƒˆã‚¯ãƒžãƒ«ã‚·ãƒ¥ãƒ¼ã‚´            1\n",
       "Thao with The Get Down Stay Down    1\n",
       "ãƒªã‚¢ãƒ»ãƒ‡ã‚£ã‚¾ãƒ³               1\n",
       "                                   ..\n",
       "Innerpartysystem                    1\n",
       "Helia                               1\n",
       "Devil Sold His Soul                 1\n",
       "Nevea Tears                         1\n",
       "Grzegorz Tomczak                    1\n",
       "Name: name, Length: 17632, dtype: int64"
      ]
     },
     "execution_count": 53,
     "metadata": {},
     "output_type": "execute_result"
    }
   ],
   "source": [
    "df['name'].value_counts()"
   ]
  },
  {
   "cell_type": "code",
   "execution_count": 54,
   "id": "421c76c1",
   "metadata": {},
   "outputs": [
    {
     "data": {
      "text/plain": [
       "1        1\n",
       "8368     1\n",
       "8359     1\n",
       "8360     1\n",
       "8361     1\n",
       "        ..\n",
       "4059     1\n",
       "4060     1\n",
       "4061     1\n",
       "4062     1\n",
       "12648    1\n",
       "Name: tagID, Length: 11946, dtype: int64"
      ]
     },
     "execution_count": 54,
     "metadata": {},
     "output_type": "execute_result"
    }
   ],
   "source": [
    "df1['tagID'].value_counts()"
   ]
  },
  {
   "cell_type": "markdown",
   "id": "08028b1e",
   "metadata": {},
   "source": [
    "After initial observation, I feel the timestamp dataframe is of little use to me and hence disregard it. As per the readme file we have 1892 users and 17632 artists in our data."
   ]
  },
  {
   "cell_type": "code",
   "execution_count": 55,
   "id": "624c8263",
   "metadata": {},
   "outputs": [],
   "source": [
    "dfs = [df, df1, df2, df3, df4]\n",
    "na = []\n",
    "for i in range(len(dfs)):\n",
    "    if dfs[i].isnull().values.any() > 0:\n",
    "        na.append(dfs[i])"
   ]
  },
  {
   "cell_type": "code",
   "execution_count": 56,
   "id": "720e9fde",
   "metadata": {},
   "outputs": [
    {
     "data": {
      "text/plain": [
       "[                    name                                           url  \\\n",
       " 0           MALICE MIZER         http://www.last.fm/music/MALICE+MIZER   \n",
       " 1        Diary of Dreams      http://www.last.fm/music/Diary+of+Dreams   \n",
       " 2      Carpathian Forest    http://www.last.fm/music/Carpathian+Forest   \n",
       " 3           Moi dix Mois         http://www.last.fm/music/Moi+dix+Mois   \n",
       " 4            Bella Morte          http://www.last.fm/music/Bella+Morte   \n",
       " ...                  ...                                           ...   \n",
       " 17627    Diamanda GalÃ¡s  http://www.last.fm/music/Diamanda+Gal%C3%A1s   \n",
       " 17628             Aya RL               http://www.last.fm/music/Aya+RL   \n",
       " 17629        Coptic Rain          http://www.last.fm/music/Coptic+Rain   \n",
       " 17630       Oz Alchemist         http://www.last.fm/music/Oz+Alchemist   \n",
       " 17631   Grzegorz Tomczak     http://www.last.fm/music/Grzegorz+Tomczak   \n",
       " \n",
       "                                               pictureURL  artID  \n",
       " 0        http://userserve-ak.last.fm/serve/252/10808.jpg      0  \n",
       " 1      http://userserve-ak.last.fm/serve/252/3052066.jpg      1  \n",
       " 2      http://userserve-ak.last.fm/serve/252/40222717...      2  \n",
       " 3      http://userserve-ak.last.fm/serve/252/54697835...      3  \n",
       " 4      http://userserve-ak.last.fm/serve/252/14789013...      4  \n",
       " ...                                                  ...    ...  \n",
       " 17627  http://userserve-ak.last.fm/serve/252/16352971...  17627  \n",
       " 17628   http://userserve-ak.last.fm/serve/252/207445.jpg  17628  \n",
       " 17629   http://userserve-ak.last.fm/serve/252/344868.jpg  17629  \n",
       " 17630  http://userserve-ak.last.fm/serve/252/29297695...  17630  \n",
       " 17631  http://userserve-ak.last.fm/serve/252/59486303...  17631  \n",
       " \n",
       " [17632 rows x 4 columns]]"
      ]
     },
     "execution_count": 56,
     "metadata": {},
     "output_type": "execute_result"
    }
   ],
   "source": [
    "na"
   ]
  },
  {
   "cell_type": "markdown",
   "id": "f47006fd",
   "metadata": {},
   "source": [
    "The only dataframe with nulls is our artists dataframe. Let's investigate this further to see if there is any important missing values such as ID's etc."
   ]
  },
  {
   "cell_type": "code",
   "execution_count": 57,
   "id": "78ee7f82",
   "metadata": {},
   "outputs": [
    {
     "data": {
      "text/plain": [
       "name          object\n",
       "url           object\n",
       "pictureURL    object\n",
       "artID          int64\n",
       "dtype: object"
      ]
     },
     "execution_count": 57,
     "metadata": {},
     "output_type": "execute_result"
    }
   ],
   "source": [
    "df.dtypes"
   ]
  },
  {
   "cell_type": "code",
   "execution_count": 58,
   "id": "b8326c87",
   "metadata": {},
   "outputs": [
    {
     "name": "stdout",
     "output_type": "stream",
     "text": [
      "pictureURL 0.0252 % missing values\n",
      "['pictureURL']\n"
     ]
    }
   ],
   "source": [
    "features_with_na = [features for features in df.columns if df[features].isnull().sum() > 0]\n",
    "\n",
    "for feature in features_with_na: \n",
    "    print(feature, np.round(df[feature].isnull().mean(), 4), '% missing values')\n",
    "    print(features_with_na)"
   ]
  },
  {
   "cell_type": "markdown",
   "id": "2d1ccfc7",
   "metadata": {},
   "source": [
    "This is a positive result as there are very few null values in the dataframe and the small amount that exist are in a column of lesser important that we will not need to impute missing values for."
   ]
  },
  {
   "cell_type": "code",
   "execution_count": 59,
   "id": "6e4d5a4d",
   "metadata": {},
   "outputs": [],
   "source": [
    "played = pd.merge(df, df2, how=\"inner\", left_on=\"artID\", right_on=\"artistID\")\n",
    "played.rename(columns={\"weight\": \"played\"}, inplace=True)"
   ]
  },
  {
   "cell_type": "markdown",
   "id": "9b76b522",
   "metadata": {},
   "source": [
    "We will drop the pictureURL column as there is not much information to be gained and there is some nulls present."
   ]
  },
  {
   "cell_type": "code",
   "execution_count": 60,
   "id": "f03db6c5",
   "metadata": {},
   "outputs": [],
   "source": [
    "played.drop(columns=['pictureURL'], inplace=True)"
   ]
  },
  {
   "cell_type": "code",
   "execution_count": 61,
   "id": "4fb68d03",
   "metadata": {},
   "outputs": [
    {
     "name": "stdout",
     "output_type": "stream",
     "text": [
      "The mean number of times a user listens to a song is: 745.2439300256372\n"
     ]
    }
   ],
   "source": [
    "mean = played['played'].mean()\n",
    "print(\"The mean number of times a user listens to a song is: \" + str(mean))"
   ]
  },
  {
   "cell_type": "code",
   "execution_count": 62,
   "id": "37bf535c",
   "metadata": {},
   "outputs": [
    {
     "name": "stdout",
     "output_type": "stream",
     "text": [
      "The median number of times a user listens to a song is: 260.0\n"
     ]
    }
   ],
   "source": [
    "median = played['played'].median()\n",
    "print(\"The median number of times a user listens to a song is: \" + str(median))"
   ]
  },
  {
   "cell_type": "code",
   "execution_count": 63,
   "id": "b081fe57",
   "metadata": {},
   "outputs": [
    {
     "data": {
      "text/plain": [
       "<AxesSubplot:>"
      ]
     },
     "execution_count": 63,
     "metadata": {},
     "output_type": "execute_result"
    },
    {
     "data": {
      "image/png": "[encoded data removed]",
      "text/plain": [
       "<Figure size 1296x432 with 1 Axes>"
      ]
     },
     "metadata": {
      "needs_background": "light"
     },
     "output_type": "display_data"
    }
   ],
   "source": [
    "played['name'].value_counts()[:20].plot(kind='barh', color='green', figsize=(18,6))"
   ]
  },
  {
   "cell_type": "code",
   "execution_count": 64,
   "id": "874082b0",
   "metadata": {},
   "outputs": [
    {
     "data": {
      "text/plain": [
       "<AxesSubplot:xlabel='played'>"
      ]
     },
     "execution_count": 64,
     "metadata": {},
     "output_type": "execute_result"
    },
    {
     "data": {
      "image/png": "[encoded data removed]",
      "text/plain": [
       "<Figure size 1080x504 with 1 Axes>"
      ]
     },
     "metadata": {
      "needs_background": "light"
     },
     "output_type": "display_data"
    }
   ],
   "source": [
    "plt.figure(figsize=[15,7])\n",
    "sns.boxplot(x=played['played'], color=\".25\")"
   ]
  },
  {
   "cell_type": "markdown",
   "id": "cec3c8db",
   "metadata": {},
   "source": [
    "There appears to be quite a lot of outliers here in the played column. Some users have obviously listened to their songs far more times than the average. We double check our values for mean and median earlier and can confirm there are quite a few outliers here."
   ]
  },
  {
   "cell_type": "code",
   "execution_count": 65,
   "id": "fccbac3d",
   "metadata": {},
   "outputs": [
    {
     "data": {
      "text/html": [
       "<div>\n",
       "<style scoped>\n",
       "    .dataframe tbody tr th:only-of-type {\n",
       "        vertical-align: middle;\n",
       "    }\n",
       "\n",
       "    .dataframe tbody tr th {\n",
       "        vertical-align: top;\n",
       "    }\n",
       "\n",
       "    .dataframe thead th {\n",
       "        text-align: right;\n",
       "    }\n",
       "</style>\n",
       "<table border=\"1\" class=\"dataframe\">\n",
       "  <thead>\n",
       "    <tr style=\"text-align: right;\">\n",
       "      <th></th>\n",
       "      <th>artID</th>\n",
       "      <th>userID</th>\n",
       "      <th>artistID</th>\n",
       "      <th>played</th>\n",
       "    </tr>\n",
       "  </thead>\n",
       "  <tbody>\n",
       "    <tr>\n",
       "      <th>count</th>\n",
       "      <td>92834.000000</td>\n",
       "      <td>92834.000000</td>\n",
       "      <td>92834.000000</td>\n",
       "      <td>92834.00000</td>\n",
       "    </tr>\n",
       "    <tr>\n",
       "      <th>mean</th>\n",
       "      <td>3235.736724</td>\n",
       "      <td>944.222483</td>\n",
       "      <td>3235.736724</td>\n",
       "      <td>745.24393</td>\n",
       "    </tr>\n",
       "    <tr>\n",
       "      <th>std</th>\n",
       "      <td>4197.216910</td>\n",
       "      <td>546.751074</td>\n",
       "      <td>4197.216910</td>\n",
       "      <td>3751.32208</td>\n",
       "    </tr>\n",
       "    <tr>\n",
       "      <th>min</th>\n",
       "      <td>0.000000</td>\n",
       "      <td>0.000000</td>\n",
       "      <td>0.000000</td>\n",
       "      <td>1.00000</td>\n",
       "    </tr>\n",
       "    <tr>\n",
       "      <th>25%</th>\n",
       "      <td>430.000000</td>\n",
       "      <td>470.000000</td>\n",
       "      <td>430.000000</td>\n",
       "      <td>107.00000</td>\n",
       "    </tr>\n",
       "    <tr>\n",
       "      <th>50%</th>\n",
       "      <td>1237.000000</td>\n",
       "      <td>944.000000</td>\n",
       "      <td>1237.000000</td>\n",
       "      <td>260.00000</td>\n",
       "    </tr>\n",
       "    <tr>\n",
       "      <th>75%</th>\n",
       "      <td>4266.000000</td>\n",
       "      <td>1416.000000</td>\n",
       "      <td>4266.000000</td>\n",
       "      <td>614.00000</td>\n",
       "    </tr>\n",
       "    <tr>\n",
       "      <th>max</th>\n",
       "      <td>17631.000000</td>\n",
       "      <td>1891.000000</td>\n",
       "      <td>17631.000000</td>\n",
       "      <td>352698.00000</td>\n",
       "    </tr>\n",
       "  </tbody>\n",
       "</table>\n",
       "</div>"
      ],
      "text/plain": [
       "              artID        userID      artistID        played\n",
       "count  92834.000000  92834.000000  92834.000000   92834.00000\n",
       "mean    3235.736724    944.222483   3235.736724     745.24393\n",
       "std     4197.216910    546.751074   4197.216910    3751.32208\n",
       "min        0.000000      0.000000      0.000000       1.00000\n",
       "25%      430.000000    470.000000    430.000000     107.00000\n",
       "50%     1237.000000    944.000000   1237.000000     260.00000\n",
       "75%     4266.000000   1416.000000   4266.000000     614.00000\n",
       "max    17631.000000   1891.000000  17631.000000  352698.00000"
      ]
     },
     "execution_count": 65,
     "metadata": {},
     "output_type": "execute_result"
    }
   ],
   "source": [
    "played.describe()"
   ]
  },
  {
   "cell_type": "code",
   "execution_count": 66,
   "id": "c92a5c04",
   "metadata": {},
   "outputs": [],
   "source": [
    "grouped_multiple = played.groupby(['artistID', 'name']).agg({'played': ['mean', 'median', 'max', 'sum']})\n",
    "grouped_multiple.columns = ['mean', 'med', 'max', 'sum']\n",
    "grouped_multiple = grouped_multiple.reset_index()\n",
    "#grouped_multiple.sort('price_mean', ascending=False)\n",
    "grouped_multiple = pd.DataFrame(grouped_multiple)"
   ]
  },
  {
   "cell_type": "code",
   "execution_count": 67,
   "id": "2ea39c87",
   "metadata": {},
   "outputs": [],
   "source": [
    "artdf = grouped_multiple.sort_values(by=['sum'], ascending=False)"
   ]
  },
  {
   "cell_type": "code",
   "execution_count": 68,
   "id": "56e564ee",
   "metadata": {},
   "outputs": [
    {
     "data": {
      "text/html": [
       "<div>\n",
       "<style scoped>\n",
       "    .dataframe tbody tr th:only-of-type {\n",
       "        vertical-align: middle;\n",
       "    }\n",
       "\n",
       "    .dataframe tbody tr th {\n",
       "        vertical-align: top;\n",
       "    }\n",
       "\n",
       "    .dataframe thead th {\n",
       "        text-align: right;\n",
       "    }\n",
       "</style>\n",
       "<table border=\"1\" class=\"dataframe\">\n",
       "  <thead>\n",
       "    <tr style=\"text-align: right;\">\n",
       "      <th></th>\n",
       "      <th>artistID</th>\n",
       "      <th>name</th>\n",
       "      <th>mean</th>\n",
       "      <th>med</th>\n",
       "      <th>max</th>\n",
       "      <th>sum</th>\n",
       "    </tr>\n",
       "  </thead>\n",
       "  <tbody>\n",
       "    <tr>\n",
       "      <th>283</th>\n",
       "      <td>283</td>\n",
       "      <td>Britney Spears</td>\n",
       "      <td>4584.559387</td>\n",
       "      <td>1000.5</td>\n",
       "      <td>131733</td>\n",
       "      <td>2393140</td>\n",
       "    </tr>\n",
       "    <tr>\n",
       "      <th>66</th>\n",
       "      <td>66</td>\n",
       "      <td>Depeche Mode</td>\n",
       "      <td>4614.567376</td>\n",
       "      <td>567.0</td>\n",
       "      <td>352698</td>\n",
       "      <td>1301308</td>\n",
       "    </tr>\n",
       "    <tr>\n",
       "      <th>83</th>\n",
       "      <td>83</td>\n",
       "      <td>Lady Gaga</td>\n",
       "      <td>2113.563011</td>\n",
       "      <td>590.0</td>\n",
       "      <td>114672</td>\n",
       "      <td>1291387</td>\n",
       "    </tr>\n",
       "    <tr>\n",
       "      <th>286</th>\n",
       "      <td>286</td>\n",
       "      <td>Christina Aguilera</td>\n",
       "      <td>2600.503686</td>\n",
       "      <td>739.0</td>\n",
       "      <td>176133</td>\n",
       "      <td>1058405</td>\n",
       "    </tr>\n",
       "    <tr>\n",
       "      <th>492</th>\n",
       "      <td>492</td>\n",
       "      <td>Paramore</td>\n",
       "      <td>2414.659148</td>\n",
       "      <td>417.0</td>\n",
       "      <td>227829</td>\n",
       "      <td>963449</td>\n",
       "    </tr>\n",
       "    <tr>\n",
       "      <th>...</th>\n",
       "      <td>...</td>\n",
       "      <td>...</td>\n",
       "      <td>...</td>\n",
       "      <td>...</td>\n",
       "      <td>...</td>\n",
       "      <td>...</td>\n",
       "    </tr>\n",
       "    <tr>\n",
       "      <th>16522</th>\n",
       "      <td>16522</td>\n",
       "      <td>K-Precise</td>\n",
       "      <td>1.000000</td>\n",
       "      <td>1.0</td>\n",
       "      <td>1</td>\n",
       "      <td>1</td>\n",
       "    </tr>\n",
       "    <tr>\n",
       "      <th>13713</th>\n",
       "      <td>13713</td>\n",
       "      <td>ZÃœNDER</td>\n",
       "      <td>1.000000</td>\n",
       "      <td>1.0</td>\n",
       "      <td>1</td>\n",
       "      <td>1</td>\n",
       "    </tr>\n",
       "    <tr>\n",
       "      <th>13712</th>\n",
       "      <td>13712</td>\n",
       "      <td>Evil Masquerade</td>\n",
       "      <td>1.000000</td>\n",
       "      <td>1.0</td>\n",
       "      <td>1</td>\n",
       "      <td>1</td>\n",
       "    </tr>\n",
       "    <tr>\n",
       "      <th>16239</th>\n",
       "      <td>16239</td>\n",
       "      <td>Gosling</td>\n",
       "      <td>1.000000</td>\n",
       "      <td>1.0</td>\n",
       "      <td>1</td>\n",
       "      <td>1</td>\n",
       "    </tr>\n",
       "    <tr>\n",
       "      <th>16241</th>\n",
       "      <td>16241</td>\n",
       "      <td>Kalson</td>\n",
       "      <td>1.000000</td>\n",
       "      <td>1.0</td>\n",
       "      <td>1</td>\n",
       "      <td>1</td>\n",
       "    </tr>\n",
       "  </tbody>\n",
       "</table>\n",
       "<p>17632 rows × 6 columns</p>\n",
       "</div>"
      ],
      "text/plain": [
       "       artistID                name         mean     med     max      sum\n",
       "283         283      Britney Spears  4584.559387  1000.5  131733  2393140\n",
       "66           66        Depeche Mode  4614.567376   567.0  352698  1301308\n",
       "83           83           Lady Gaga  2113.563011   590.0  114672  1291387\n",
       "286         286  Christina Aguilera  2600.503686   739.0  176133  1058405\n",
       "492         492            Paramore  2414.659148   417.0  227829   963449\n",
       "...         ...                 ...          ...     ...     ...      ...\n",
       "16522     16522           K-Precise     1.000000     1.0       1        1\n",
       "13713     13713             ZÃœNDER     1.000000     1.0       1        1\n",
       "13712     13712     Evil Masquerade     1.000000     1.0       1        1\n",
       "16239     16239             Gosling     1.000000     1.0       1        1\n",
       "16241     16241              Kalson     1.000000     1.0       1        1\n",
       "\n",
       "[17632 rows x 6 columns]"
      ]
     },
     "execution_count": 68,
     "metadata": {},
     "output_type": "execute_result"
    }
   ],
   "source": [
    "artdf"
   ]
  },
  {
   "cell_type": "code",
   "execution_count": 69,
   "id": "704dcb5a",
   "metadata": {},
   "outputs": [],
   "source": [
    "pt2 = artdf.head(20)"
   ]
  },
  {
   "cell_type": "code",
   "execution_count": 70,
   "id": "7c4ba44f",
   "metadata": {},
   "outputs": [
    {
     "data": {
      "text/plain": [
       "<AxesSubplot:title={'center':'Biggest artists by no of listens'}, xlabel='Artist', ylabel='Listens (millions)'>"
      ]
     },
     "execution_count": 70,
     "metadata": {},
     "output_type": "execute_result"
    },
    {
     "data": {
      "image/png": "[encoded data removed]",
      "text/plain": [
       "<Figure size 1296x432 with 1 Axes>"
      ]
     },
     "metadata": {
      "needs_background": "light"
     },
     "output_type": "display_data"
    }
   ],
   "source": [
    "pt2.plot.bar(x = 'name', y = 'sum', rot = 40, figsize=(18, 6), color='green', xlabel='Artist', ylabel='Listens (millions)', title='Biggest artists by no of listens')"
   ]
  },
  {
   "cell_type": "code",
   "execution_count": 71,
   "id": "453924a8",
   "metadata": {},
   "outputs": [],
   "source": [
    "grouped_multiple = played.groupby(['userID']).agg({'played': ['mean', 'median', 'max', 'sum']})\n",
    "grouped_multiple.columns = ['mean', 'med', 'max', 'sum']\n",
    "grouped_multiple = grouped_multiple.reset_index()\n",
    "#grouped_multiple.sort('price_mean', ascending=False)\n",
    "grouped_multiple = pd.DataFrame(grouped_multiple)"
   ]
  },
  {
   "cell_type": "code",
   "execution_count": 72,
   "id": "62cfbd70",
   "metadata": {},
   "outputs": [],
   "source": [
    "userdf = grouped_multiple.sort_values(by=['sum'], ascending=False)"
   ]
  },
  {
   "cell_type": "code",
   "execution_count": 73,
   "id": "742d4421",
   "metadata": {},
   "outputs": [],
   "source": [
    "pt3 = userdf.head(20)"
   ]
  },
  {
   "cell_type": "code",
   "execution_count": 74,
   "id": "d7c443ab",
   "metadata": {},
   "outputs": [
    {
     "data": {
      "text/plain": [
       "<AxesSubplot:title={'center':'Users by highest number of listens'}, xlabel='User', ylabel='Listens'>"
      ]
     },
     "execution_count": 74,
     "metadata": {},
     "output_type": "execute_result"
    },
    {
     "data": {
      "image/png": "[encoded data removed]",
      "text/plain": [
       "<Figure size 1296x432 with 1 Axes>"
      ]
     },
     "metadata": {
      "needs_background": "light"
     },
     "output_type": "display_data"
    }
   ],
   "source": [
    "pt3.plot.bar(x = 'userID', y = 'sum', rot = 40, figsize=(18, 6), color='turquoise', xlabel='User', ylabel='Listens', title='Users by highest number of listens')"
   ]
  },
  {
   "cell_type": "code",
   "execution_count": 75,
   "id": "afd9381f",
   "metadata": {},
   "outputs": [
    {
     "data": {
      "text/plain": [
       "283      4584.559387\n",
       "66       4614.567376\n",
       "83       2113.563011\n",
       "286      2600.503686\n",
       "492      2414.659148\n",
       "            ...     \n",
       "16522       1.000000\n",
       "13713       1.000000\n",
       "13712       1.000000\n",
       "16239       1.000000\n",
       "16241       1.000000\n",
       "Name: mean, Length: 17632, dtype: float64"
      ]
     },
     "execution_count": 75,
     "metadata": {},
     "output_type": "execute_result"
    }
   ],
   "source": [
    "artdf['mean']"
   ]
  },
  {
   "cell_type": "code",
   "execution_count": 76,
   "id": "c7374612",
   "metadata": {},
   "outputs": [
    {
     "data": {
      "text/plain": [
       "(92834, 6)"
      ]
     },
     "execution_count": 76,
     "metadata": {},
     "output_type": "execute_result"
    }
   ],
   "source": [
    "played.shape"
   ]
  },
  {
   "cell_type": "code",
   "execution_count": 77,
   "id": "a8ba58fe",
   "metadata": {},
   "outputs": [
    {
     "name": "stderr",
     "output_type": "stream",
     "text": [
      "C:\\Users\\user\\anaconda3\\lib\\site-packages\\seaborn\\distributions.py:2619: FutureWarning: `distplot` is a deprecated function and will be removed in a future version. Please adapt your code to use either `displot` (a figure-level function with similar flexibility) or `histplot` (an axes-level function for histograms).\n",
      "  warnings.warn(msg, FutureWarning)\n"
     ]
    },
    {
     "data": {
      "text/plain": [
       "Text(0, 0.5, 'Density')"
      ]
     },
     "execution_count": 77,
     "metadata": {},
     "output_type": "execute_result"
    },
    {
     "data": {
      "image/png": "[encoded data removed]",
      "text/plain": [
       "<Figure size 1080x504 with 1 Axes>"
      ]
     },
     "metadata": {
      "needs_background": "light"
     },
     "output_type": "display_data"
    }
   ],
   "source": [
    "plt.figure(figsize=[15,7])\n",
    "sns.distplot(played['played'])\n",
    "plt.xlabel('Played', fontsize=18)\n",
    "plt.ylabel('Density', fontsize=16)"
   ]
  },
  {
   "cell_type": "markdown",
   "id": "5bf4cc2e",
   "metadata": {},
   "source": [
    "The majority of values seem around the 1k or less mark. There are a lot of outlier values however going as far as 350,000 for the most extreme values. This confirms our earlier boxplot looking at these values in a clear manner."
   ]
  },
  {
   "cell_type": "code",
   "execution_count": 78,
   "id": "a4ae87b2",
   "metadata": {},
   "outputs": [],
   "source": [
    "xyz = pd.DataFrame(played['name'].value_counts())"
   ]
  },
  {
   "cell_type": "code",
   "execution_count": 79,
   "id": "ae163ac6",
   "metadata": {},
   "outputs": [],
   "source": [
    "xyz = xyz.reset_index()"
   ]
  },
  {
   "cell_type": "code",
   "execution_count": 80,
   "id": "f26b7b5f",
   "metadata": {},
   "outputs": [],
   "source": [
    "xyz.rename(columns={'index': 'name', 'name': 'unique'}, inplace=True)"
   ]
  },
  {
   "cell_type": "code",
   "execution_count": 81,
   "id": "dbf8e3d2",
   "metadata": {},
   "outputs": [
    {
     "data": {
      "text/html": [
       "<div>\n",
       "<style scoped>\n",
       "    .dataframe tbody tr th:only-of-type {\n",
       "        vertical-align: middle;\n",
       "    }\n",
       "\n",
       "    .dataframe tbody tr th {\n",
       "        vertical-align: top;\n",
       "    }\n",
       "\n",
       "    .dataframe thead th {\n",
       "        text-align: right;\n",
       "    }\n",
       "</style>\n",
       "<table border=\"1\" class=\"dataframe\">\n",
       "  <thead>\n",
       "    <tr style=\"text-align: right;\">\n",
       "      <th></th>\n",
       "      <th>name</th>\n",
       "      <th>unique</th>\n",
       "    </tr>\n",
       "  </thead>\n",
       "  <tbody>\n",
       "    <tr>\n",
       "      <th>0</th>\n",
       "      <td>Lady Gaga</td>\n",
       "      <td>611</td>\n",
       "    </tr>\n",
       "    <tr>\n",
       "      <th>1</th>\n",
       "      <td>Britney Spears</td>\n",
       "      <td>522</td>\n",
       "    </tr>\n",
       "    <tr>\n",
       "      <th>2</th>\n",
       "      <td>Rihanna</td>\n",
       "      <td>484</td>\n",
       "    </tr>\n",
       "    <tr>\n",
       "      <th>3</th>\n",
       "      <td>The Beatles</td>\n",
       "      <td>480</td>\n",
       "    </tr>\n",
       "    <tr>\n",
       "      <th>4</th>\n",
       "      <td>Katy Perry</td>\n",
       "      <td>473</td>\n",
       "    </tr>\n",
       "    <tr>\n",
       "      <th>...</th>\n",
       "      <td>...</td>\n",
       "      <td>...</td>\n",
       "    </tr>\n",
       "    <tr>\n",
       "      <th>17627</th>\n",
       "      <td>Karmina</td>\n",
       "      <td>1</td>\n",
       "    </tr>\n",
       "    <tr>\n",
       "      <th>17628</th>\n",
       "      <td>Alexandre Desplat &amp; Aaron Zigman</td>\n",
       "      <td>1</td>\n",
       "    </tr>\n",
       "    <tr>\n",
       "      <th>17629</th>\n",
       "      <td>Burning Brides</td>\n",
       "      <td>1</td>\n",
       "    </tr>\n",
       "    <tr>\n",
       "      <th>17630</th>\n",
       "      <td>ozzy</td>\n",
       "      <td>1</td>\n",
       "    </tr>\n",
       "    <tr>\n",
       "      <th>17631</th>\n",
       "      <td>Grzegorz Tomczak</td>\n",
       "      <td>1</td>\n",
       "    </tr>\n",
       "  </tbody>\n",
       "</table>\n",
       "<p>17632 rows × 2 columns</p>\n",
       "</div>"
      ],
      "text/plain": [
       "                                   name  unique\n",
       "0                             Lady Gaga     611\n",
       "1                        Britney Spears     522\n",
       "2                               Rihanna     484\n",
       "3                           The Beatles     480\n",
       "4                            Katy Perry     473\n",
       "...                                 ...     ...\n",
       "17627                           Karmina       1\n",
       "17628  Alexandre Desplat & Aaron Zigman       1\n",
       "17629                    Burning Brides       1\n",
       "17630                              ozzy       1\n",
       "17631                  Grzegorz Tomczak       1\n",
       "\n",
       "[17632 rows x 2 columns]"
      ]
     },
     "execution_count": 81,
     "metadata": {},
     "output_type": "execute_result"
    }
   ],
   "source": [
    "xyz"
   ]
  },
  {
   "cell_type": "code",
   "execution_count": 82,
   "id": "5aa07a20",
   "metadata": {},
   "outputs": [],
   "source": [
    "merged_df = artdf.merge(xyz, how = 'inner', on = ['name', 'name'])"
   ]
  },
  {
   "cell_type": "code",
   "execution_count": 83,
   "id": "ffe8102c",
   "metadata": {},
   "outputs": [
    {
     "data": {
      "text/html": [
       "<div>\n",
       "<style scoped>\n",
       "    .dataframe tbody tr th:only-of-type {\n",
       "        vertical-align: middle;\n",
       "    }\n",
       "\n",
       "    .dataframe tbody tr th {\n",
       "        vertical-align: top;\n",
       "    }\n",
       "\n",
       "    .dataframe thead th {\n",
       "        text-align: right;\n",
       "    }\n",
       "</style>\n",
       "<table border=\"1\" class=\"dataframe\">\n",
       "  <thead>\n",
       "    <tr style=\"text-align: right;\">\n",
       "      <th></th>\n",
       "      <th>artistID</th>\n",
       "      <th>name</th>\n",
       "      <th>mean</th>\n",
       "      <th>med</th>\n",
       "      <th>max</th>\n",
       "      <th>sum</th>\n",
       "      <th>unique</th>\n",
       "    </tr>\n",
       "  </thead>\n",
       "  <tbody>\n",
       "    <tr>\n",
       "      <th>0</th>\n",
       "      <td>283</td>\n",
       "      <td>Britney Spears</td>\n",
       "      <td>4584.559387</td>\n",
       "      <td>1000.5</td>\n",
       "      <td>131733</td>\n",
       "      <td>2393140</td>\n",
       "      <td>522</td>\n",
       "    </tr>\n",
       "    <tr>\n",
       "      <th>1</th>\n",
       "      <td>66</td>\n",
       "      <td>Depeche Mode</td>\n",
       "      <td>4614.567376</td>\n",
       "      <td>567.0</td>\n",
       "      <td>352698</td>\n",
       "      <td>1301308</td>\n",
       "      <td>282</td>\n",
       "    </tr>\n",
       "    <tr>\n",
       "      <th>2</th>\n",
       "      <td>83</td>\n",
       "      <td>Lady Gaga</td>\n",
       "      <td>2113.563011</td>\n",
       "      <td>590.0</td>\n",
       "      <td>114672</td>\n",
       "      <td>1291387</td>\n",
       "      <td>611</td>\n",
       "    </tr>\n",
       "    <tr>\n",
       "      <th>3</th>\n",
       "      <td>286</td>\n",
       "      <td>Christina Aguilera</td>\n",
       "      <td>2600.503686</td>\n",
       "      <td>739.0</td>\n",
       "      <td>176133</td>\n",
       "      <td>1058405</td>\n",
       "      <td>407</td>\n",
       "    </tr>\n",
       "    <tr>\n",
       "      <th>4</th>\n",
       "      <td>492</td>\n",
       "      <td>Paramore</td>\n",
       "      <td>2414.659148</td>\n",
       "      <td>417.0</td>\n",
       "      <td>227829</td>\n",
       "      <td>963449</td>\n",
       "      <td>399</td>\n",
       "    </tr>\n",
       "    <tr>\n",
       "      <th>...</th>\n",
       "      <td>...</td>\n",
       "      <td>...</td>\n",
       "      <td>...</td>\n",
       "      <td>...</td>\n",
       "      <td>...</td>\n",
       "      <td>...</td>\n",
       "      <td>...</td>\n",
       "    </tr>\n",
       "    <tr>\n",
       "      <th>17627</th>\n",
       "      <td>16522</td>\n",
       "      <td>K-Precise</td>\n",
       "      <td>1.000000</td>\n",
       "      <td>1.0</td>\n",
       "      <td>1</td>\n",
       "      <td>1</td>\n",
       "      <td>1</td>\n",
       "    </tr>\n",
       "    <tr>\n",
       "      <th>17628</th>\n",
       "      <td>13713</td>\n",
       "      <td>ZÃœNDER</td>\n",
       "      <td>1.000000</td>\n",
       "      <td>1.0</td>\n",
       "      <td>1</td>\n",
       "      <td>1</td>\n",
       "      <td>1</td>\n",
       "    </tr>\n",
       "    <tr>\n",
       "      <th>17629</th>\n",
       "      <td>13712</td>\n",
       "      <td>Evil Masquerade</td>\n",
       "      <td>1.000000</td>\n",
       "      <td>1.0</td>\n",
       "      <td>1</td>\n",
       "      <td>1</td>\n",
       "      <td>1</td>\n",
       "    </tr>\n",
       "    <tr>\n",
       "      <th>17630</th>\n",
       "      <td>16239</td>\n",
       "      <td>Gosling</td>\n",
       "      <td>1.000000</td>\n",
       "      <td>1.0</td>\n",
       "      <td>1</td>\n",
       "      <td>1</td>\n",
       "      <td>1</td>\n",
       "    </tr>\n",
       "    <tr>\n",
       "      <th>17631</th>\n",
       "      <td>16241</td>\n",
       "      <td>Kalson</td>\n",
       "      <td>1.000000</td>\n",
       "      <td>1.0</td>\n",
       "      <td>1</td>\n",
       "      <td>1</td>\n",
       "      <td>1</td>\n",
       "    </tr>\n",
       "  </tbody>\n",
       "</table>\n",
       "<p>17632 rows × 7 columns</p>\n",
       "</div>"
      ],
      "text/plain": [
       "       artistID                name         mean     med     max      sum  \\\n",
       "0           283      Britney Spears  4584.559387  1000.5  131733  2393140   \n",
       "1            66        Depeche Mode  4614.567376   567.0  352698  1301308   \n",
       "2            83           Lady Gaga  2113.563011   590.0  114672  1291387   \n",
       "3           286  Christina Aguilera  2600.503686   739.0  176133  1058405   \n",
       "4           492            Paramore  2414.659148   417.0  227829   963449   \n",
       "...         ...                 ...          ...     ...     ...      ...   \n",
       "17627     16522           K-Precise     1.000000     1.0       1        1   \n",
       "17628     13713             ZÃœNDER     1.000000     1.0       1        1   \n",
       "17629     13712     Evil Masquerade     1.000000     1.0       1        1   \n",
       "17630     16239             Gosling     1.000000     1.0       1        1   \n",
       "17631     16241              Kalson     1.000000     1.0       1        1   \n",
       "\n",
       "       unique  \n",
       "0         522  \n",
       "1         282  \n",
       "2         611  \n",
       "3         407  \n",
       "4         399  \n",
       "...       ...  \n",
       "17627       1  \n",
       "17628       1  \n",
       "17629       1  \n",
       "17630       1  \n",
       "17631       1  \n",
       "\n",
       "[17632 rows x 7 columns]"
      ]
     },
     "execution_count": 83,
     "metadata": {},
     "output_type": "execute_result"
    }
   ],
   "source": [
    "merged_df"
   ]
  },
  {
   "cell_type": "code",
   "execution_count": 84,
   "id": "bd17a23e",
   "metadata": {},
   "outputs": [],
   "source": [
    "percent = []\n",
    "val = merged_df['unique']\n",
    "total = played['userID'].nunique()\n",
    "percent = []\n",
    "for i in range(len(val)):\n",
    "    y = val[i] / total\n",
    "    percent.append(y)\n",
    "    #print(y)"
   ]
  },
  {
   "cell_type": "code",
   "execution_count": 85,
   "id": "55ce8e81",
   "metadata": {},
   "outputs": [],
   "source": [
    "percent = np.array(percent)\n",
    "artdf['Percentage'] = percent.tolist()"
   ]
  },
  {
   "cell_type": "code",
   "execution_count": 86,
   "id": "8f4ec8cf",
   "metadata": {},
   "outputs": [
    {
     "data": {
      "text/html": [
       "<div>\n",
       "<style scoped>\n",
       "    .dataframe tbody tr th:only-of-type {\n",
       "        vertical-align: middle;\n",
       "    }\n",
       "\n",
       "    .dataframe tbody tr th {\n",
       "        vertical-align: top;\n",
       "    }\n",
       "\n",
       "    .dataframe thead th {\n",
       "        text-align: right;\n",
       "    }\n",
       "</style>\n",
       "<table border=\"1\" class=\"dataframe\">\n",
       "  <thead>\n",
       "    <tr style=\"text-align: right;\">\n",
       "      <th></th>\n",
       "      <th>artistID</th>\n",
       "      <th>name</th>\n",
       "      <th>mean</th>\n",
       "      <th>med</th>\n",
       "      <th>max</th>\n",
       "      <th>sum</th>\n",
       "      <th>Percentage</th>\n",
       "    </tr>\n",
       "  </thead>\n",
       "  <tbody>\n",
       "    <tr>\n",
       "      <th>283</th>\n",
       "      <td>283</td>\n",
       "      <td>Britney Spears</td>\n",
       "      <td>4584.559387</td>\n",
       "      <td>1000.5</td>\n",
       "      <td>131733</td>\n",
       "      <td>2393140</td>\n",
       "      <td>0.275899</td>\n",
       "    </tr>\n",
       "    <tr>\n",
       "      <th>66</th>\n",
       "      <td>66</td>\n",
       "      <td>Depeche Mode</td>\n",
       "      <td>4614.567376</td>\n",
       "      <td>567.0</td>\n",
       "      <td>352698</td>\n",
       "      <td>1301308</td>\n",
       "      <td>0.149049</td>\n",
       "    </tr>\n",
       "    <tr>\n",
       "      <th>83</th>\n",
       "      <td>83</td>\n",
       "      <td>Lady Gaga</td>\n",
       "      <td>2113.563011</td>\n",
       "      <td>590.0</td>\n",
       "      <td>114672</td>\n",
       "      <td>1291387</td>\n",
       "      <td>0.322939</td>\n",
       "    </tr>\n",
       "    <tr>\n",
       "      <th>286</th>\n",
       "      <td>286</td>\n",
       "      <td>Christina Aguilera</td>\n",
       "      <td>2600.503686</td>\n",
       "      <td>739.0</td>\n",
       "      <td>176133</td>\n",
       "      <td>1058405</td>\n",
       "      <td>0.215116</td>\n",
       "    </tr>\n",
       "    <tr>\n",
       "      <th>492</th>\n",
       "      <td>492</td>\n",
       "      <td>Paramore</td>\n",
       "      <td>2414.659148</td>\n",
       "      <td>417.0</td>\n",
       "      <td>227829</td>\n",
       "      <td>963449</td>\n",
       "      <td>0.210888</td>\n",
       "    </tr>\n",
       "    <tr>\n",
       "      <th>...</th>\n",
       "      <td>...</td>\n",
       "      <td>...</td>\n",
       "      <td>...</td>\n",
       "      <td>...</td>\n",
       "      <td>...</td>\n",
       "      <td>...</td>\n",
       "      <td>...</td>\n",
       "    </tr>\n",
       "    <tr>\n",
       "      <th>16522</th>\n",
       "      <td>16522</td>\n",
       "      <td>K-Precise</td>\n",
       "      <td>1.000000</td>\n",
       "      <td>1.0</td>\n",
       "      <td>1</td>\n",
       "      <td>1</td>\n",
       "      <td>0.000529</td>\n",
       "    </tr>\n",
       "    <tr>\n",
       "      <th>13713</th>\n",
       "      <td>13713</td>\n",
       "      <td>ZÃœNDER</td>\n",
       "      <td>1.000000</td>\n",
       "      <td>1.0</td>\n",
       "      <td>1</td>\n",
       "      <td>1</td>\n",
       "      <td>0.000529</td>\n",
       "    </tr>\n",
       "    <tr>\n",
       "      <th>13712</th>\n",
       "      <td>13712</td>\n",
       "      <td>Evil Masquerade</td>\n",
       "      <td>1.000000</td>\n",
       "      <td>1.0</td>\n",
       "      <td>1</td>\n",
       "      <td>1</td>\n",
       "      <td>0.000529</td>\n",
       "    </tr>\n",
       "    <tr>\n",
       "      <th>16239</th>\n",
       "      <td>16239</td>\n",
       "      <td>Gosling</td>\n",
       "      <td>1.000000</td>\n",
       "      <td>1.0</td>\n",
       "      <td>1</td>\n",
       "      <td>1</td>\n",
       "      <td>0.000529</td>\n",
       "    </tr>\n",
       "    <tr>\n",
       "      <th>16241</th>\n",
       "      <td>16241</td>\n",
       "      <td>Kalson</td>\n",
       "      <td>1.000000</td>\n",
       "      <td>1.0</td>\n",
       "      <td>1</td>\n",
       "      <td>1</td>\n",
       "      <td>0.000529</td>\n",
       "    </tr>\n",
       "  </tbody>\n",
       "</table>\n",
       "<p>17632 rows × 7 columns</p>\n",
       "</div>"
      ],
      "text/plain": [
       "       artistID                name         mean     med     max      sum  \\\n",
       "283         283      Britney Spears  4584.559387  1000.5  131733  2393140   \n",
       "66           66        Depeche Mode  4614.567376   567.0  352698  1301308   \n",
       "83           83           Lady Gaga  2113.563011   590.0  114672  1291387   \n",
       "286         286  Christina Aguilera  2600.503686   739.0  176133  1058405   \n",
       "492         492            Paramore  2414.659148   417.0  227829   963449   \n",
       "...         ...                 ...          ...     ...     ...      ...   \n",
       "16522     16522           K-Precise     1.000000     1.0       1        1   \n",
       "13713     13713             ZÃœNDER     1.000000     1.0       1        1   \n",
       "13712     13712     Evil Masquerade     1.000000     1.0       1        1   \n",
       "16239     16239             Gosling     1.000000     1.0       1        1   \n",
       "16241     16241              Kalson     1.000000     1.0       1        1   \n",
       "\n",
       "       Percentage  \n",
       "283      0.275899  \n",
       "66       0.149049  \n",
       "83       0.322939  \n",
       "286      0.215116  \n",
       "492      0.210888  \n",
       "...           ...  \n",
       "16522    0.000529  \n",
       "13713    0.000529  \n",
       "13712    0.000529  \n",
       "16239    0.000529  \n",
       "16241    0.000529  \n",
       "\n",
       "[17632 rows x 7 columns]"
      ]
     },
     "execution_count": 86,
     "metadata": {},
     "output_type": "execute_result"
    }
   ],
   "source": [
    "artdf"
   ]
  },
  {
   "cell_type": "code",
   "execution_count": 87,
   "id": "51e6b784",
   "metadata": {},
   "outputs": [],
   "source": [
    "artdf['unique'] = merged_df['unique'].values"
   ]
  },
  {
   "cell_type": "code",
   "execution_count": 88,
   "id": "24cce513",
   "metadata": {},
   "outputs": [
    {
     "data": {
      "text/html": [
       "<div>\n",
       "<style scoped>\n",
       "    .dataframe tbody tr th:only-of-type {\n",
       "        vertical-align: middle;\n",
       "    }\n",
       "\n",
       "    .dataframe tbody tr th {\n",
       "        vertical-align: top;\n",
       "    }\n",
       "\n",
       "    .dataframe thead th {\n",
       "        text-align: right;\n",
       "    }\n",
       "</style>\n",
       "<table border=\"1\" class=\"dataframe\">\n",
       "  <thead>\n",
       "    <tr style=\"text-align: right;\">\n",
       "      <th></th>\n",
       "      <th>artistID</th>\n",
       "      <th>name</th>\n",
       "      <th>mean</th>\n",
       "      <th>med</th>\n",
       "      <th>max</th>\n",
       "      <th>sum</th>\n",
       "      <th>Percentage</th>\n",
       "      <th>unique</th>\n",
       "    </tr>\n",
       "  </thead>\n",
       "  <tbody>\n",
       "    <tr>\n",
       "      <th>283</th>\n",
       "      <td>283</td>\n",
       "      <td>Britney Spears</td>\n",
       "      <td>4584.559387</td>\n",
       "      <td>1000.5</td>\n",
       "      <td>131733</td>\n",
       "      <td>2393140</td>\n",
       "      <td>0.275899</td>\n",
       "      <td>522</td>\n",
       "    </tr>\n",
       "    <tr>\n",
       "      <th>66</th>\n",
       "      <td>66</td>\n",
       "      <td>Depeche Mode</td>\n",
       "      <td>4614.567376</td>\n",
       "      <td>567.0</td>\n",
       "      <td>352698</td>\n",
       "      <td>1301308</td>\n",
       "      <td>0.149049</td>\n",
       "      <td>282</td>\n",
       "    </tr>\n",
       "    <tr>\n",
       "      <th>83</th>\n",
       "      <td>83</td>\n",
       "      <td>Lady Gaga</td>\n",
       "      <td>2113.563011</td>\n",
       "      <td>590.0</td>\n",
       "      <td>114672</td>\n",
       "      <td>1291387</td>\n",
       "      <td>0.322939</td>\n",
       "      <td>611</td>\n",
       "    </tr>\n",
       "    <tr>\n",
       "      <th>286</th>\n",
       "      <td>286</td>\n",
       "      <td>Christina Aguilera</td>\n",
       "      <td>2600.503686</td>\n",
       "      <td>739.0</td>\n",
       "      <td>176133</td>\n",
       "      <td>1058405</td>\n",
       "      <td>0.215116</td>\n",
       "      <td>407</td>\n",
       "    </tr>\n",
       "    <tr>\n",
       "      <th>492</th>\n",
       "      <td>492</td>\n",
       "      <td>Paramore</td>\n",
       "      <td>2414.659148</td>\n",
       "      <td>417.0</td>\n",
       "      <td>227829</td>\n",
       "      <td>963449</td>\n",
       "      <td>0.210888</td>\n",
       "      <td>399</td>\n",
       "    </tr>\n",
       "    <tr>\n",
       "      <th>...</th>\n",
       "      <td>...</td>\n",
       "      <td>...</td>\n",
       "      <td>...</td>\n",
       "      <td>...</td>\n",
       "      <td>...</td>\n",
       "      <td>...</td>\n",
       "      <td>...</td>\n",
       "      <td>...</td>\n",
       "    </tr>\n",
       "    <tr>\n",
       "      <th>16522</th>\n",
       "      <td>16522</td>\n",
       "      <td>K-Precise</td>\n",
       "      <td>1.000000</td>\n",
       "      <td>1.0</td>\n",
       "      <td>1</td>\n",
       "      <td>1</td>\n",
       "      <td>0.000529</td>\n",
       "      <td>1</td>\n",
       "    </tr>\n",
       "    <tr>\n",
       "      <th>13713</th>\n",
       "      <td>13713</td>\n",
       "      <td>ZÃœNDER</td>\n",
       "      <td>1.000000</td>\n",
       "      <td>1.0</td>\n",
       "      <td>1</td>\n",
       "      <td>1</td>\n",
       "      <td>0.000529</td>\n",
       "      <td>1</td>\n",
       "    </tr>\n",
       "    <tr>\n",
       "      <th>13712</th>\n",
       "      <td>13712</td>\n",
       "      <td>Evil Masquerade</td>\n",
       "      <td>1.000000</td>\n",
       "      <td>1.0</td>\n",
       "      <td>1</td>\n",
       "      <td>1</td>\n",
       "      <td>0.000529</td>\n",
       "      <td>1</td>\n",
       "    </tr>\n",
       "    <tr>\n",
       "      <th>16239</th>\n",
       "      <td>16239</td>\n",
       "      <td>Gosling</td>\n",
       "      <td>1.000000</td>\n",
       "      <td>1.0</td>\n",
       "      <td>1</td>\n",
       "      <td>1</td>\n",
       "      <td>0.000529</td>\n",
       "      <td>1</td>\n",
       "    </tr>\n",
       "    <tr>\n",
       "      <th>16241</th>\n",
       "      <td>16241</td>\n",
       "      <td>Kalson</td>\n",
       "      <td>1.000000</td>\n",
       "      <td>1.0</td>\n",
       "      <td>1</td>\n",
       "      <td>1</td>\n",
       "      <td>0.000529</td>\n",
       "      <td>1</td>\n",
       "    </tr>\n",
       "  </tbody>\n",
       "</table>\n",
       "<p>17632 rows × 8 columns</p>\n",
       "</div>"
      ],
      "text/plain": [
       "       artistID                name         mean     med     max      sum  \\\n",
       "283         283      Britney Spears  4584.559387  1000.5  131733  2393140   \n",
       "66           66        Depeche Mode  4614.567376   567.0  352698  1301308   \n",
       "83           83           Lady Gaga  2113.563011   590.0  114672  1291387   \n",
       "286         286  Christina Aguilera  2600.503686   739.0  176133  1058405   \n",
       "492         492            Paramore  2414.659148   417.0  227829   963449   \n",
       "...         ...                 ...          ...     ...     ...      ...   \n",
       "16522     16522           K-Precise     1.000000     1.0       1        1   \n",
       "13713     13713             ZÃœNDER     1.000000     1.0       1        1   \n",
       "13712     13712     Evil Masquerade     1.000000     1.0       1        1   \n",
       "16239     16239             Gosling     1.000000     1.0       1        1   \n",
       "16241     16241              Kalson     1.000000     1.0       1        1   \n",
       "\n",
       "       Percentage  unique  \n",
       "283      0.275899     522  \n",
       "66       0.149049     282  \n",
       "83       0.322939     611  \n",
       "286      0.215116     407  \n",
       "492      0.210888     399  \n",
       "...           ...     ...  \n",
       "16522    0.000529       1  \n",
       "13713    0.000529       1  \n",
       "13712    0.000529       1  \n",
       "16239    0.000529       1  \n",
       "16241    0.000529       1  \n",
       "\n",
       "[17632 rows x 8 columns]"
      ]
     },
     "execution_count": 88,
     "metadata": {},
     "output_type": "execute_result"
    }
   ],
   "source": [
    "artdf"
   ]
  },
  {
   "cell_type": "code",
   "execution_count": 89,
   "id": "12463fd7",
   "metadata": {},
   "outputs": [],
   "source": [
    "artdf['Percentage'] = artdf['Percentage'].multiply(100)"
   ]
  },
  {
   "cell_type": "code",
   "execution_count": 90,
   "id": "fc785259",
   "metadata": {},
   "outputs": [],
   "source": [
    "artdf = artdf.sort_values(by=['Percentage'], ascending=False)"
   ]
  },
  {
   "cell_type": "code",
   "execution_count": 91,
   "id": "c99089d5",
   "metadata": {},
   "outputs": [
    {
     "data": {
      "text/plain": [
       "<AxesSubplot:title={'center':'Percentage of users who listen to most popular artists'}, xlabel='Artist', ylabel='% of unique users who listen'>"
      ]
     },
     "execution_count": 91,
     "metadata": {},
     "output_type": "execute_result"
    },
    {
     "data": {
      "image/png": "[encoded data removed]",
      "text/plain": [
       "<Figure size 1296x432 with 1 Axes>"
      ]
     },
     "metadata": {
      "needs_background": "light"
     },
     "output_type": "display_data"
    }
   ],
   "source": [
    "pt2 = artdf.head(20)\n",
    "pt2.plot.bar(x = 'name', y = 'Percentage', rot = 40, figsize=(18, 6), color='green', xlabel='Artist', ylabel='% of unique users who listen', title='Percentage of users who listen to most popular artists')"
   ]
  },
  {
   "cell_type": "code",
   "execution_count": 92,
   "id": "c71cfb7e",
   "metadata": {},
   "outputs": [
    {
     "name": "stdout",
     "output_type": "stream",
     "text": [
      "The percentage of artists with 1% or less users listening to them is 16794.\n",
      "The percentage of artists with 2% or less users listening to them is 17200.\n",
      "The percentage of artists with 3% or less users listening to them is 17350.\n",
      "The percentage of artists with 4% or less users listening to them is 17430.\n",
      "The percentage of artists with 5% or less users listening to them is 17497.\n"
     ]
    }
   ],
   "source": [
    "values = [1, 2, 3, 4, 5]\n",
    "for i in range(len(values)):\n",
    "    x = len(artdf[artdf['Percentage'] <= values[i]])\n",
    "    print(\"The percentage of artists with \" + str(values[i]) + \"% or less users listening to them is \" + str(x) + \".\")"
   ]
  },
  {
   "cell_type": "markdown",
   "id": "2df44288",
   "metadata": {},
   "source": [
    "We can tell on the whole of the 17632 artists that there are actually very few who are listened to by a wide audience. There are less than 1000 artists who have more than 1% of users listening to them. This means our data is probably leaned very heavily towards the most popular artists such as Britney Spears or Lady Gaga as per our barchart above."
   ]
  },
  {
   "cell_type": "code",
   "execution_count": 93,
   "id": "f060564d",
   "metadata": {},
   "outputs": [],
   "source": [
    "z = played[['name', 'artistID']]"
   ]
  },
  {
   "cell_type": "code",
   "execution_count": 94,
   "id": "20efd633",
   "metadata": {},
   "outputs": [],
   "source": [
    "z = z.drop_duplicates()"
   ]
  },
  {
   "cell_type": "markdown",
   "id": "334dea81",
   "metadata": {},
   "source": [
    "I was going to try to incorporate the tags as part of my recommender system but as per above I seem to lose data just by the shape and even looking at artistID 1 we see this ID occurs three times in our played data and only twice in our tagged dataset. This is porbably due to the fact the users left no tags on this. We also have some improper values for tags as per above such as \"better than lady gaga\" and \"#NAME?\" which aren't going to add any information to our data. If we choose a subset of tags and take out values such as these that aren't as common or add any information we could work with this then. However, this would mean trimming our dataset down further. With less data to work with this might negatively impact the effectiveness of our recommender system."
   ]
  },
  {
   "cell_type": "code",
   "execution_count": 95,
   "id": "f1dc73f8",
   "metadata": {},
   "outputs": [
    {
     "data": {
      "text/html": [
       "<div>\n",
       "<style scoped>\n",
       "    .dataframe tbody tr th:only-of-type {\n",
       "        vertical-align: middle;\n",
       "    }\n",
       "\n",
       "    .dataframe tbody tr th {\n",
       "        vertical-align: top;\n",
       "    }\n",
       "\n",
       "    .dataframe thead th {\n",
       "        text-align: right;\n",
       "    }\n",
       "</style>\n",
       "<table border=\"1\" class=\"dataframe\">\n",
       "  <thead>\n",
       "    <tr style=\"text-align: right;\">\n",
       "      <th></th>\n",
       "      <th>userID</th>\n",
       "      <th>artistID</th>\n",
       "      <th>tagID</th>\n",
       "    </tr>\n",
       "  </thead>\n",
       "  <tbody>\n",
       "    <tr>\n",
       "      <th>3251</th>\n",
       "      <td>37</td>\n",
       "      <td>1</td>\n",
       "      <td>30</td>\n",
       "    </tr>\n",
       "    <tr>\n",
       "      <th>3252</th>\n",
       "      <td>37</td>\n",
       "      <td>1</td>\n",
       "      <td>127</td>\n",
       "    </tr>\n",
       "    <tr>\n",
       "      <th>3253</th>\n",
       "      <td>37</td>\n",
       "      <td>1</td>\n",
       "      <td>575</td>\n",
       "    </tr>\n",
       "    <tr>\n",
       "      <th>21145</th>\n",
       "      <td>211</td>\n",
       "      <td>1</td>\n",
       "      <td>61</td>\n",
       "    </tr>\n",
       "    <tr>\n",
       "      <th>26470</th>\n",
       "      <td>247</td>\n",
       "      <td>1</td>\n",
       "      <td>30</td>\n",
       "    </tr>\n",
       "    <tr>\n",
       "      <th>31456</th>\n",
       "      <td>303</td>\n",
       "      <td>1</td>\n",
       "      <td>30</td>\n",
       "    </tr>\n",
       "    <tr>\n",
       "      <th>31457</th>\n",
       "      <td>303</td>\n",
       "      <td>1</td>\n",
       "      <td>179</td>\n",
       "    </tr>\n",
       "    <tr>\n",
       "      <th>31458</th>\n",
       "      <td>303</td>\n",
       "      <td>1</td>\n",
       "      <td>575</td>\n",
       "    </tr>\n",
       "    <tr>\n",
       "      <th>66247</th>\n",
       "      <td>649</td>\n",
       "      <td>1</td>\n",
       "      <td>14</td>\n",
       "    </tr>\n",
       "    <tr>\n",
       "      <th>66248</th>\n",
       "      <td>649</td>\n",
       "      <td>1</td>\n",
       "      <td>233</td>\n",
       "    </tr>\n",
       "    <tr>\n",
       "      <th>66249</th>\n",
       "      <td>649</td>\n",
       "      <td>1</td>\n",
       "      <td>727</td>\n",
       "    </tr>\n",
       "    <tr>\n",
       "      <th>85972</th>\n",
       "      <td>862</td>\n",
       "      <td>1</td>\n",
       "      <td>179</td>\n",
       "    </tr>\n",
       "    <tr>\n",
       "      <th>85973</th>\n",
       "      <td>862</td>\n",
       "      <td>1</td>\n",
       "      <td>575</td>\n",
       "    </tr>\n",
       "    <tr>\n",
       "      <th>127118</th>\n",
       "      <td>1314</td>\n",
       "      <td>1</td>\n",
       "      <td>18</td>\n",
       "    </tr>\n",
       "    <tr>\n",
       "      <th>127119</th>\n",
       "      <td>1314</td>\n",
       "      <td>1</td>\n",
       "      <td>30</td>\n",
       "    </tr>\n",
       "    <tr>\n",
       "      <th>127120</th>\n",
       "      <td>1314</td>\n",
       "      <td>1</td>\n",
       "      <td>127</td>\n",
       "    </tr>\n",
       "    <tr>\n",
       "      <th>127121</th>\n",
       "      <td>1314</td>\n",
       "      <td>1</td>\n",
       "      <td>179</td>\n",
       "    </tr>\n",
       "    <tr>\n",
       "      <th>127122</th>\n",
       "      <td>1314</td>\n",
       "      <td>1</td>\n",
       "      <td>575</td>\n",
       "    </tr>\n",
       "    <tr>\n",
       "      <th>137187</th>\n",
       "      <td>1446</td>\n",
       "      <td>1</td>\n",
       "      <td>575</td>\n",
       "    </tr>\n",
       "    <tr>\n",
       "      <th>137213</th>\n",
       "      <td>1448</td>\n",
       "      <td>1</td>\n",
       "      <td>575</td>\n",
       "    </tr>\n",
       "    <tr>\n",
       "      <th>137943</th>\n",
       "      <td>1463</td>\n",
       "      <td>1</td>\n",
       "      <td>10137</td>\n",
       "    </tr>\n",
       "    <tr>\n",
       "      <th>147515</th>\n",
       "      <td>1515</td>\n",
       "      <td>1</td>\n",
       "      <td>30</td>\n",
       "    </tr>\n",
       "    <tr>\n",
       "      <th>147516</th>\n",
       "      <td>1515</td>\n",
       "      <td>1</td>\n",
       "      <td>179</td>\n",
       "    </tr>\n",
       "    <tr>\n",
       "      <th>147517</th>\n",
       "      <td>1515</td>\n",
       "      <td>1</td>\n",
       "      <td>190</td>\n",
       "    </tr>\n",
       "    <tr>\n",
       "      <th>147518</th>\n",
       "      <td>1515</td>\n",
       "      <td>1</td>\n",
       "      <td>575</td>\n",
       "    </tr>\n",
       "    <tr>\n",
       "      <th>170778</th>\n",
       "      <td>1740</td>\n",
       "      <td>1</td>\n",
       "      <td>179</td>\n",
       "    </tr>\n",
       "    <tr>\n",
       "      <th>170779</th>\n",
       "      <td>1740</td>\n",
       "      <td>1</td>\n",
       "      <td>575</td>\n",
       "    </tr>\n",
       "  </tbody>\n",
       "</table>\n",
       "</div>"
      ],
      "text/plain": [
       "        userID  artistID  tagID\n",
       "3251        37         1     30\n",
       "3252        37         1    127\n",
       "3253        37         1    575\n",
       "21145      211         1     61\n",
       "26470      247         1     30\n",
       "31456      303         1     30\n",
       "31457      303         1    179\n",
       "31458      303         1    575\n",
       "66247      649         1     14\n",
       "66248      649         1    233\n",
       "66249      649         1    727\n",
       "85972      862         1    179\n",
       "85973      862         1    575\n",
       "127118    1314         1     18\n",
       "127119    1314         1     30\n",
       "127120    1314         1    127\n",
       "127121    1314         1    179\n",
       "127122    1314         1    575\n",
       "137187    1446         1    575\n",
       "137213    1448         1    575\n",
       "137943    1463         1  10137\n",
       "147515    1515         1     30\n",
       "147516    1515         1    179\n",
       "147517    1515         1    190\n",
       "147518    1515         1    575\n",
       "170778    1740         1    179\n",
       "170779    1740         1    575"
      ]
     },
     "execution_count": 95,
     "metadata": {},
     "output_type": "execute_result"
    }
   ],
   "source": [
    "df4[df4['artistID'] == 1]"
   ]
  },
  {
   "cell_type": "markdown",
   "id": "2aa566e1",
   "metadata": {},
   "source": [
    "This confirms that user 34 does not leave a tag on this artist's work. This is why we lose the rows we do when we try to incorporate the tags data into the listened data. We will disregard this for now."
   ]
  },
  {
   "cell_type": "code",
   "execution_count": 96,
   "id": "247e81d6",
   "metadata": {},
   "outputs": [
    {
     "data": {
      "text/plain": [
       "<AxesSubplot:>"
      ]
     },
     "execution_count": 96,
     "metadata": {},
     "output_type": "execute_result"
    },
    {
     "data": {
      "image/png": "[encoded data removed]",
      "text/plain": [
       "<Figure size 1296x432 with 1 Axes>"
      ]
     },
     "metadata": {
      "needs_background": "light"
     },
     "output_type": "display_data"
    }
   ],
   "source": [
    "# Let's check most popular tags\n",
    "tags['tagValue'].value_counts()[:20].plot(kind='barh', color='green', figsize=(18,6))"
   ]
  },
  {
   "cell_type": "markdown",
   "id": "5ddd1049",
   "metadata": {},
   "source": [
    "# Sparse Representation of Played matrix"
   ]
  },
  {
   "cell_type": "code",
   "execution_count": 97,
   "id": "dc9c84cd",
   "metadata": {},
   "outputs": [],
   "source": [
    "# Calculate sparsity of matrix\n",
    "def calculate_sparsity(M):\n",
    "    matrix_size = float(M.shape[0] * M.shape[1]) # Number of total possible interactions between artist and user in the matrix\n",
    "    num_plays = len(M.nonzero()[1]) # Number of times any artist has been interacted with\n",
    "    sparsity = 100 * (1 - float(num_plays / matrix_size))\n",
    "    return sparsity"
   ]
  },
  {
   "cell_type": "markdown",
   "id": "68d68df0",
   "metadata": {},
   "source": [
    "## Normalising our played column\n",
    "Next, one of the crucial aspects of our recommender system would be dealing with our played column. With such a diverse number of values from the range of 0 to over 350,000 we would have to deal with these appropriately. Our system would not be able to handle values of such a high nature and when I tried to run this I would get very high train errors and \"nan\" values for test error. I looked at a variety of different ways to normalize this value as a result and I would only incorporate two of these into my dataframe. I looked at capping any values above the 2,000 mark in our played column at 2,000 but errors persisted with this approach. As a result the methods I looked at were:\n",
    "\n",
    "##### 1) Simple Normalization - normalizing all values based off the highest value in the \"played\" column.\n",
    "\n",
    "##### 2) User based Normalization - grouping our played column by users and normalizing each user based off their own max value. I implemented this as a column called \"playedUserNorm\". This had the best results and was the column I implemented below.\n",
    "\n",
    "##### 3) Play Count Scaled - here I would take each value in the column and take it away from the minimum value in the column. I would then divide this by the max value of the column minus the minimum value. I implemented this with the column \"playCountScaled\".\n",
    "\n",
    "##### 4) Robust Scaling method - here we would scale each feature of the data set by subtracting the median and then dividing by the interquartile range. I tried this method but the results were poor and implementing it took a long time to run.\n"
   ]
  },
  {
   "cell_type": "code",
   "execution_count": 98,
   "id": "8538233b",
   "metadata": {},
   "outputs": [],
   "source": [
    "sm = played['played'].groupby(played['userID']).max()\n",
    "artss = np.array(played['userID'])\n",
    "playzz = np.array(played['played'])\n",
    "#artss[-1]\n",
    "newnorm = []\n",
    "for i in range(len(playzz)):\n",
    "    index = artss[i]\n",
    "    val = playzz[i] / sm[index]\n",
    "    newnorm.append(val)"
   ]
  },
  {
   "cell_type": "code",
   "execution_count": 99,
   "id": "66c4a174",
   "metadata": {},
   "outputs": [],
   "source": [
    "newnorm = np.array(newnorm)\n",
    "\n",
    "#add newnorm array as new column in DataFrame\n",
    "played['playedUserNorm'] = newnorm.tolist()"
   ]
  },
  {
   "cell_type": "code",
   "execution_count": 100,
   "id": "981d8e1c",
   "metadata": {},
   "outputs": [
    {
     "data": {
      "text/plain": [
       "1.0"
      ]
     },
     "execution_count": 100,
     "metadata": {},
     "output_type": "execute_result"
    }
   ],
   "source": [
    "played['playedUserNorm'].max()"
   ]
  },
  {
   "cell_type": "code",
   "execution_count": 101,
   "id": "258bde72",
   "metadata": {},
   "outputs": [],
   "source": [
    "pc = played.played\n",
    "play_count_scaled = (pc - pc.min()) / (pc.max() - pc.min())\n",
    "\n",
    "played = played.assign(playCountScaled=play_count_scaled)"
   ]
  },
  {
   "cell_type": "code",
   "execution_count": 102,
   "id": "39a18f69",
   "metadata": {},
   "outputs": [],
   "source": [
    "# !!! here is our 1) simple normalisation\n",
    "\n",
    "# played[\"playBasicNorm\"] = played[\"played\"] / played[\"played\"].max()"
   ]
  },
  {
   "cell_type": "code",
   "execution_count": 103,
   "id": "efefc134",
   "metadata": {},
   "outputs": [],
   "source": [
    "# played['playCountScaled'].equals(played['playBasicNorm'])"
   ]
  },
  {
   "cell_type": "code",
   "execution_count": 104,
   "id": "f0542be5",
   "metadata": {},
   "outputs": [
    {
     "data": {
      "text/html": [
       "<div>\n",
       "<style scoped>\n",
       "    .dataframe tbody tr th:only-of-type {\n",
       "        vertical-align: middle;\n",
       "    }\n",
       "\n",
       "    .dataframe tbody tr th {\n",
       "        vertical-align: top;\n",
       "    }\n",
       "\n",
       "    .dataframe thead th {\n",
       "        text-align: right;\n",
       "    }\n",
       "</style>\n",
       "<table border=\"1\" class=\"dataframe\">\n",
       "  <thead>\n",
       "    <tr style=\"text-align: right;\">\n",
       "      <th></th>\n",
       "      <th>name</th>\n",
       "      <th>url</th>\n",
       "      <th>artID</th>\n",
       "      <th>userID</th>\n",
       "      <th>artistID</th>\n",
       "      <th>played</th>\n",
       "      <th>playedUserNorm</th>\n",
       "      <th>playCountScaled</th>\n",
       "    </tr>\n",
       "  </thead>\n",
       "  <tbody>\n",
       "    <tr>\n",
       "      <th>0</th>\n",
       "      <td>MALICE MIZER</td>\n",
       "      <td>http://www.last.fm/music/MALICE+MIZER</td>\n",
       "      <td>0</td>\n",
       "      <td>31</td>\n",
       "      <td>0</td>\n",
       "      <td>212</td>\n",
       "      <td>0.055775</td>\n",
       "      <td>0.000598</td>\n",
       "    </tr>\n",
       "    <tr>\n",
       "      <th>1</th>\n",
       "      <td>MALICE MIZER</td>\n",
       "      <td>http://www.last.fm/music/MALICE+MIZER</td>\n",
       "      <td>0</td>\n",
       "      <td>256</td>\n",
       "      <td>0</td>\n",
       "      <td>483</td>\n",
       "      <td>0.065394</td>\n",
       "      <td>0.001367</td>\n",
       "    </tr>\n",
       "    <tr>\n",
       "      <th>2</th>\n",
       "      <td>MALICE MIZER</td>\n",
       "      <td>http://www.last.fm/music/MALICE+MIZER</td>\n",
       "      <td>0</td>\n",
       "      <td>729</td>\n",
       "      <td>0</td>\n",
       "      <td>76</td>\n",
       "      <td>0.025149</td>\n",
       "      <td>0.000213</td>\n",
       "    </tr>\n",
       "    <tr>\n",
       "      <th>3</th>\n",
       "      <td>Diary of Dreams</td>\n",
       "      <td>http://www.last.fm/music/Diary+of+Dreams</td>\n",
       "      <td>1</td>\n",
       "      <td>130</td>\n",
       "      <td>1</td>\n",
       "      <td>1021</td>\n",
       "      <td>0.150902</td>\n",
       "      <td>0.002892</td>\n",
       "    </tr>\n",
       "    <tr>\n",
       "      <th>4</th>\n",
       "      <td>Diary of Dreams</td>\n",
       "      <td>http://www.last.fm/music/Diary+of+Dreams</td>\n",
       "      <td>1</td>\n",
       "      <td>240</td>\n",
       "      <td>1</td>\n",
       "      <td>152</td>\n",
       "      <td>0.154315</td>\n",
       "      <td>0.000428</td>\n",
       "    </tr>\n",
       "  </tbody>\n",
       "</table>\n",
       "</div>"
      ],
      "text/plain": [
       "              name                                       url  artID  userID  \\\n",
       "0     MALICE MIZER     http://www.last.fm/music/MALICE+MIZER      0      31   \n",
       "1     MALICE MIZER     http://www.last.fm/music/MALICE+MIZER      0     256   \n",
       "2     MALICE MIZER     http://www.last.fm/music/MALICE+MIZER      0     729   \n",
       "3  Diary of Dreams  http://www.last.fm/music/Diary+of+Dreams      1     130   \n",
       "4  Diary of Dreams  http://www.last.fm/music/Diary+of+Dreams      1     240   \n",
       "\n",
       "   artistID  played  playedUserNorm  playCountScaled  \n",
       "0         0     212        0.055775         0.000598  \n",
       "1         0     483        0.065394         0.001367  \n",
       "2         0      76        0.025149         0.000213  \n",
       "3         1    1021        0.150902         0.002892  \n",
       "4         1     152        0.154315         0.000428  "
      ]
     },
     "execution_count": 104,
     "metadata": {},
     "output_type": "execute_result"
    }
   ],
   "source": [
    "played.head()"
   ]
  },
  {
   "cell_type": "code",
   "execution_count": 105,
   "id": "f73b2f36",
   "metadata": {},
   "outputs": [],
   "source": [
    "# !!! here is our attempt at robust scaling as per 4) \n",
    "\n",
    "#newcol = []\n",
    "#pl = np.array(played['played'])\n",
    "#for i in range(len(pl)):\n",
    "#    val = (pl[i] - played['played'].median())  / (played['played'].quantile(0.75) - played['played'].quantile(0.25))\n",
    "#    newcol.append(val)"
   ]
  },
  {
   "cell_type": "code",
   "execution_count": 106,
   "id": "cd88f691",
   "metadata": {},
   "outputs": [],
   "source": [
    "#newcol = np.array(newcol)\n",
    "\n",
    "#add newnorm array as new column in DataFrame\n",
    "#played['playedRobust'] = newcol.tolist()"
   ]
  },
  {
   "cell_type": "code",
   "execution_count": 107,
   "id": "ef473b6e",
   "metadata": {},
   "outputs": [],
   "source": [
    "def build_rating_sparse_tensor(ratings_df):\n",
    "  # ========================= Complete this section ============================\n",
    "    indices = ratings_df[['userID', 'artID']].values\n",
    "    values = ratings_df['playedUserNorm'].values\n",
    "  # ============================================================================\n",
    "\n",
    "    return tf.SparseTensor(\n",
    "      indices=indices,\n",
    "      values=values,\n",
    "      dense_shape=[len(played.userID.unique()), len(played.artID.unique())])"
   ]
  },
  {
   "cell_type": "code",
   "execution_count": 108,
   "id": "2910bba7",
   "metadata": {},
   "outputs": [
    {
     "data": {
      "text/plain": [
       "1892"
      ]
     },
     "execution_count": 108,
     "metadata": {},
     "output_type": "execute_result"
    }
   ],
   "source": [
    "len(played.userID.unique())"
   ]
  },
  {
   "cell_type": "code",
   "execution_count": 109,
   "id": "5bc503ab",
   "metadata": {},
   "outputs": [],
   "source": [
    "def sparse_mean_square_error(sparse_ratings, user_embeddings, artist_embeddings):\n",
    "    predictions = tf.reduce_sum(\n",
    "    tf.gather(user_embeddings, sparse_ratings.indices[:, 0]) * tf.gather(artist_embeddings, sparse_ratings.indices[:, 1]),\n",
    "      axis=1)\n",
    "    loss = tf.losses.mean_squared_error(sparse_ratings.values, predictions)\n",
    "    return loss"
   ]
  },
  {
   "cell_type": "markdown",
   "id": "933ea257",
   "metadata": {},
   "source": [
    "# Building Model"
   ]
  },
  {
   "cell_type": "code",
   "execution_count": 110,
   "id": "d44aaa3c",
   "metadata": {},
   "outputs": [],
   "source": [
    "import tensorflow.compat.v1 as tf\n",
    "tf.disable_v2_behavior()\n",
    "class CFModel(object):\n",
    "\n",
    "  def __init__(self, embedding_vars, loss, metrics=None):\n",
    "\n",
    "    self._embedding_vars = embedding_vars\n",
    "    self._loss = loss\n",
    "    self._metrics = metrics\n",
    "    self._embeddings = {k: None for k in embedding_vars}\n",
    "    self._session = None\n",
    "\n",
    "  @property\n",
    "  def embeddings(self):\n",
    "    \"\"\"The embeddings dictionary.\"\"\"\n",
    "    return self._embeddings\n",
    "\n",
    "  def train(self, num_iterations = 100, learning_rate = 1.0, plot_results=True,\n",
    "            optimizer=tf.train.GradientDescentOptimizer):\n",
    "\n",
    "    with self._loss.graph.as_default():\n",
    "      opt = optimizer(learning_rate)\n",
    "      train_op = opt.minimize(self._loss)\n",
    "      local_init_op = tf.group(\n",
    "          tf.variables_initializer(opt.variables()),\n",
    "          tf.local_variables_initializer())\n",
    "      if self._session is None:\n",
    "        self._session = tf.Session()\n",
    "        with self._session.as_default():\n",
    "          self._session.run(tf.global_variables_initializer())\n",
    "          self._session.run(tf.tables_initializer())\n",
    "          tf.train.start_queue_runners()\n",
    "\n",
    "    with self._session.as_default():\n",
    "      local_init_op.run()\n",
    "      iterations = []\n",
    "      metrics = self._metrics or ({},)\n",
    "      metrics_vals = [collections.defaultdict(list) for _ in self._metrics]\n",
    "\n",
    "      # Train and append results.\n",
    "      for i in range(num_iterations + 1):\n",
    "        _, results = self._session.run((train_op, metrics))\n",
    "        if (i % 10 == 0) or i == num_iterations:\n",
    "          print(\"\\r iteration %d: \" % i + \", \".join(\n",
    "                [\"%s=%f\" % (k, v) for r in results for k, v in r.items()]),\n",
    "                end='')\n",
    "          iterations.append(i)\n",
    "          for metric_val, result in zip(metrics_vals, results):\n",
    "            for k, v in result.items():\n",
    "              metric_val[k].append(v)\n",
    "\n",
    "      for k, v in self._embedding_vars.items():\n",
    "        self._embeddings[k] = v.eval()\n",
    "\n",
    "      if plot_results:\n",
    "        # Plot the metrics.\n",
    "        num_subplots = len(metrics) + 1\n",
    "        fig = plt.figure()\n",
    "        fig.set_size_inches(num_subplots * 10, 8)\n",
    "        for i, metric_vals in enumerate(metrics_vals):\n",
    "          ax = fig.add_subplot(1, num_subplots, i + 1)\n",
    "          for k, v in metric_vals.items():\n",
    "            ax.plot(iterations, v, label = k)\n",
    "          ax.set_xlim([1, num_iterations])\n",
    "          ax.legend()\n",
    "      return results"
   ]
  },
  {
   "cell_type": "markdown",
   "id": "bb5acbf3",
   "metadata": {},
   "source": [
    "# Build and Run the Model"
   ]
  },
  {
   "cell_type": "code",
   "execution_count": 111,
   "id": "b2c9c4c7",
   "metadata": {},
   "outputs": [],
   "source": [
    "from sklearn.model_selection import train_test_split\n",
    "def build_model(ratings, embedding_dim=3, init_stddev=1.):\n",
    "\n",
    "  # Split the ratings DataFrame into train and test.\n",
    "    #train_ratings, test_ratings = train_test_split(ratings, test_size=0.5)\n",
    "    train_ratings, test_ratings = split_dataframe(ratings)\n",
    "  # SparseTensor representation of the train and test datasets.\n",
    "    A_train = build_rating_sparse_tensor(train_ratings)\n",
    "    A_test = build_rating_sparse_tensor(test_ratings)\n",
    "  # Initialize the embeddings using a normal distribution.\n",
    "    U = tf.Variable(tf.random.normal(\n",
    "      [A_train.dense_shape[0], embedding_dim], stddev=init_stddev))\n",
    "    V = tf.Variable(tf.random.normal(\n",
    "      [A_train.dense_shape[1], embedding_dim], stddev=init_stddev))\n",
    "    train_loss = sparse_mean_square_error(A_train, U, V)\n",
    "    test_loss = sparse_mean_square_error(A_test, U, V)\n",
    "    metrics = {\n",
    "      'train_error': train_loss,\n",
    "      'test_error': test_loss\n",
    "    }\n",
    "    embeddings = {\n",
    "      \"userID\": U,\n",
    "      \"artID\": V\n",
    "    }\n",
    "    return CFModel(embeddings, train_loss, [metrics])"
   ]
  },
  {
   "cell_type": "code",
   "execution_count": 112,
   "id": "49643214",
   "metadata": {},
   "outputs": [],
   "source": [
    "def split_dataframe(df, holdout_fraction=0.3):\n",
    "  \n",
    "    test = df.sample(frac=holdout_fraction, replace=False)\n",
    "    train = df[~df.index.isin(test.index)]\n",
    "    return train, test"
   ]
  },
  {
   "cell_type": "code",
   "execution_count": 113,
   "id": "c1fac2fa",
   "metadata": {},
   "outputs": [],
   "source": [
    "xyz = played[['userID', 'artID', 'playedUserNorm']]"
   ]
  },
  {
   "cell_type": "code",
   "execution_count": 114,
   "id": "1804f359",
   "metadata": {
    "scrolled": false
   },
   "outputs": [
    {
     "name": "stdout",
     "output_type": "stream",
     "text": [
      " iteration 1000: train_error=0.032257, test_error=0.694457"
     ]
    },
    {
     "data": {
      "text/plain": [
       "[{'train_error': 0.032257475, 'test_error': 0.6944568}]"
      ]
     },
     "execution_count": 114,
     "metadata": {},
     "output_type": "execute_result"
    },
    {
     "data": {
      "image/png": "[encoded data removed]",
      "text/plain": [
       "<Figure size 1440x576 with 1 Axes>"
      ]
     },
     "metadata": {
      "needs_background": "light"
     },
     "output_type": "display_data"
    }
   ],
   "source": [
    "model = build_model(xyz,  embedding_dim=30, init_stddev=0.5)\n",
    "model.train(num_iterations=1000, learning_rate=10.)"
   ]
  },
  {
   "cell_type": "markdown",
   "id": "c3741d26",
   "metadata": {},
   "source": [
    "I tried to build my model but the high values for listens was giving me errors like so \"InvalidArgumentError: indices[4073] = 2077 is not in [0, 1892)\". "
   ]
  },
  {
   "cell_type": "markdown",
   "id": "bbe7cdef",
   "metadata": {},
   "source": [
    "This was why I changed the artist and user ID's to 1.) start from zero and 2.) increment by 1 until the length of unique values - 1. I had to normalise my weights then as I kept returning nan values for train and test errors above."
   ]
  },
  {
   "cell_type": "code",
   "execution_count": 115,
   "id": "1b5df32b",
   "metadata": {},
   "outputs": [
    {
     "data": {
      "text/html": [
       "<div>\n",
       "<style scoped>\n",
       "    .dataframe tbody tr th:only-of-type {\n",
       "        vertical-align: middle;\n",
       "    }\n",
       "\n",
       "    .dataframe tbody tr th {\n",
       "        vertical-align: top;\n",
       "    }\n",
       "\n",
       "    .dataframe thead th {\n",
       "        text-align: right;\n",
       "    }\n",
       "</style>\n",
       "<table border=\"1\" class=\"dataframe\">\n",
       "  <thead>\n",
       "    <tr style=\"text-align: right;\">\n",
       "      <th></th>\n",
       "      <th>name</th>\n",
       "      <th>url</th>\n",
       "      <th>artID</th>\n",
       "      <th>userID</th>\n",
       "      <th>artistID</th>\n",
       "      <th>played</th>\n",
       "      <th>playedUserNorm</th>\n",
       "      <th>playCountScaled</th>\n",
       "    </tr>\n",
       "  </thead>\n",
       "  <tbody>\n",
       "    <tr>\n",
       "      <th>0</th>\n",
       "      <td>MALICE MIZER</td>\n",
       "      <td>http://www.last.fm/music/MALICE+MIZER</td>\n",
       "      <td>0</td>\n",
       "      <td>31</td>\n",
       "      <td>0</td>\n",
       "      <td>212</td>\n",
       "      <td>0.055775</td>\n",
       "      <td>0.000598</td>\n",
       "    </tr>\n",
       "    <tr>\n",
       "      <th>1</th>\n",
       "      <td>MALICE MIZER</td>\n",
       "      <td>http://www.last.fm/music/MALICE+MIZER</td>\n",
       "      <td>0</td>\n",
       "      <td>256</td>\n",
       "      <td>0</td>\n",
       "      <td>483</td>\n",
       "      <td>0.065394</td>\n",
       "      <td>0.001367</td>\n",
       "    </tr>\n",
       "    <tr>\n",
       "      <th>2</th>\n",
       "      <td>MALICE MIZER</td>\n",
       "      <td>http://www.last.fm/music/MALICE+MIZER</td>\n",
       "      <td>0</td>\n",
       "      <td>729</td>\n",
       "      <td>0</td>\n",
       "      <td>76</td>\n",
       "      <td>0.025149</td>\n",
       "      <td>0.000213</td>\n",
       "    </tr>\n",
       "    <tr>\n",
       "      <th>3</th>\n",
       "      <td>Diary of Dreams</td>\n",
       "      <td>http://www.last.fm/music/Diary+of+Dreams</td>\n",
       "      <td>1</td>\n",
       "      <td>130</td>\n",
       "      <td>1</td>\n",
       "      <td>1021</td>\n",
       "      <td>0.150902</td>\n",
       "      <td>0.002892</td>\n",
       "    </tr>\n",
       "    <tr>\n",
       "      <th>4</th>\n",
       "      <td>Diary of Dreams</td>\n",
       "      <td>http://www.last.fm/music/Diary+of+Dreams</td>\n",
       "      <td>1</td>\n",
       "      <td>240</td>\n",
       "      <td>1</td>\n",
       "      <td>152</td>\n",
       "      <td>0.154315</td>\n",
       "      <td>0.000428</td>\n",
       "    </tr>\n",
       "    <tr>\n",
       "      <th>5</th>\n",
       "      <td>Diary of Dreams</td>\n",
       "      <td>http://www.last.fm/music/Diary+of+Dreams</td>\n",
       "      <td>1</td>\n",
       "      <td>303</td>\n",
       "      <td>1</td>\n",
       "      <td>3466</td>\n",
       "      <td>1.000000</td>\n",
       "      <td>0.009824</td>\n",
       "    </tr>\n",
       "  </tbody>\n",
       "</table>\n",
       "</div>"
      ],
      "text/plain": [
       "              name                                       url  artID  userID  \\\n",
       "0     MALICE MIZER     http://www.last.fm/music/MALICE+MIZER      0      31   \n",
       "1     MALICE MIZER     http://www.last.fm/music/MALICE+MIZER      0     256   \n",
       "2     MALICE MIZER     http://www.last.fm/music/MALICE+MIZER      0     729   \n",
       "3  Diary of Dreams  http://www.last.fm/music/Diary+of+Dreams      1     130   \n",
       "4  Diary of Dreams  http://www.last.fm/music/Diary+of+Dreams      1     240   \n",
       "5  Diary of Dreams  http://www.last.fm/music/Diary+of+Dreams      1     303   \n",
       "\n",
       "   artistID  played  playedUserNorm  playCountScaled  \n",
       "0         0     212        0.055775         0.000598  \n",
       "1         0     483        0.065394         0.001367  \n",
       "2         0      76        0.025149         0.000213  \n",
       "3         1    1021        0.150902         0.002892  \n",
       "4         1     152        0.154315         0.000428  \n",
       "5         1    3466        1.000000         0.009824  "
      ]
     },
     "execution_count": 115,
     "metadata": {},
     "output_type": "execute_result"
    }
   ],
   "source": [
    "played.head(6)"
   ]
  },
  {
   "cell_type": "code",
   "execution_count": 116,
   "id": "dc3da8cc",
   "metadata": {},
   "outputs": [],
   "source": [
    "#played[played[\"played\"] > 2000][\"played\"] = 2000"
   ]
  },
  {
   "cell_type": "code",
   "execution_count": 117,
   "id": "dbdf5043",
   "metadata": {},
   "outputs": [],
   "source": [
    "#indexes = played[played[\"played\"] > 2000].index"
   ]
  },
  {
   "cell_type": "code",
   "execution_count": 118,
   "id": "11452458",
   "metadata": {},
   "outputs": [],
   "source": [
    "#played.iloc[indexes,5] = 2000"
   ]
  },
  {
   "cell_type": "code",
   "execution_count": 119,
   "id": "02bd2761",
   "metadata": {},
   "outputs": [],
   "source": [
    "#played.head()"
   ]
  },
  {
   "cell_type": "markdown",
   "id": "f4f401b2",
   "metadata": {},
   "source": [
    "# Inspect Embeddings"
   ]
  },
  {
   "cell_type": "code",
   "execution_count": 120,
   "id": "f76c4102",
   "metadata": {},
   "outputs": [],
   "source": [
    "DOT = 'dot'\n",
    "COSINE = 'cosine'\n",
    "def compute_scores(query_embedding, item_embeddings, measure=DOT):\n",
    "  u = query_embedding\n",
    "  V = item_embeddings\n",
    "  if measure == COSINE:\n",
    "    V = V / np.linalg.norm(V, axis=1, keepdims=True)\n",
    "    u = u / np.linalg.norm(u)\n",
    "  scores = u.dot(V.T)\n",
    "  return scores"
   ]
  },
  {
   "cell_type": "code",
   "execution_count": 121,
   "id": "81197eda",
   "metadata": {},
   "outputs": [],
   "source": [
    "from IPython import display\n",
    "def artist_neighbors(model, title_substring, measure=DOT, k=6):\n",
    "  ids =  df[df['name'].str.contains(title_substring)].index.values\n",
    "  titles = df.iloc[ids]['name'].values\n",
    "  if len(titles) == 0:\n",
    "    raise ValueError(\"Found no artist with title %s\" % title_substring)\n",
    "  print(\"Nearest neighbors of : %s.\" % titles[0])\n",
    "  if len(titles) > 1:\n",
    "    print(\"[Found more than one matching artist. Other candidates: {}]\".format(\n",
    "        \", \".join(titles[1:])))\n",
    "  artistID = ids[0]\n",
    "  scores = compute_scores(\n",
    "      model.embeddings[\"artID\"][artistID], model.embeddings[\"artID\"],\n",
    "      measure)\n",
    "  score_key = measure + ' score'\n",
    "  df7 = pd.DataFrame({\n",
    "      score_key: list(scores),\n",
    "      'names': df['name'],\n",
    "  })\n",
    "  display.display(df7.sort_values([score_key], ascending=False).head(k))"
   ]
  },
  {
   "cell_type": "code",
   "execution_count": 122,
   "id": "f3ed6899",
   "metadata": {},
   "outputs": [
    {
     "name": "stdout",
     "output_type": "stream",
     "text": [
      "Nearest neighbors of : Lady Gaga.\n",
      "[Found more than one matching artist. Other candidates: Lady Gaga VS Christina Aguilera, BeyoncÃ© e Lady Gaga, Lady Gaga feat BeyoncÃ©]\n"
     ]
    },
    {
     "data": {
      "text/html": [
       "<div>\n",
       "<style scoped>\n",
       "    .dataframe tbody tr th:only-of-type {\n",
       "        vertical-align: middle;\n",
       "    }\n",
       "\n",
       "    .dataframe tbody tr th {\n",
       "        vertical-align: top;\n",
       "    }\n",
       "\n",
       "    .dataframe thead th {\n",
       "        text-align: right;\n",
       "    }\n",
       "</style>\n",
       "<table border=\"1\" class=\"dataframe\">\n",
       "  <thead>\n",
       "    <tr style=\"text-align: right;\">\n",
       "      <th></th>\n",
       "      <th>dot score</th>\n",
       "      <th>names</th>\n",
       "    </tr>\n",
       "  </thead>\n",
       "  <tbody>\n",
       "    <tr>\n",
       "      <th>7899</th>\n",
       "      <td>0.836918</td>\n",
       "      <td>Baby Bash</td>\n",
       "    </tr>\n",
       "    <tr>\n",
       "      <th>11283</th>\n",
       "      <td>0.792433</td>\n",
       "      <td>Francisco TÃ¡rrega</td>\n",
       "    </tr>\n",
       "    <tr>\n",
       "      <th>10764</th>\n",
       "      <td>0.789495</td>\n",
       "      <td>Phelios</td>\n",
       "    </tr>\n",
       "    <tr>\n",
       "      <th>1757</th>\n",
       "      <td>0.783246</td>\n",
       "      <td>Little Joy</td>\n",
       "    </tr>\n",
       "    <tr>\n",
       "      <th>11444</th>\n",
       "      <td>0.757820</td>\n",
       "      <td>Prima Donna</td>\n",
       "    </tr>\n",
       "    <tr>\n",
       "      <th>8406</th>\n",
       "      <td>0.753183</td>\n",
       "      <td>KOMHATA 101</td>\n",
       "    </tr>\n",
       "  </tbody>\n",
       "</table>\n",
       "</div>"
      ],
      "text/plain": [
       "       dot score               names\n",
       "7899    0.836918           Baby Bash\n",
       "11283   0.792433  Francisco TÃ¡rrega\n",
       "10764   0.789495             Phelios\n",
       "1757    0.783246          Little Joy\n",
       "11444   0.757820         Prima Donna\n",
       "8406    0.753183         KOMHATA 101"
      ]
     },
     "metadata": {},
     "output_type": "display_data"
    },
    {
     "name": "stdout",
     "output_type": "stream",
     "text": [
      "Nearest neighbors of : Lady Gaga.\n",
      "[Found more than one matching artist. Other candidates: Lady Gaga VS Christina Aguilera, BeyoncÃ© e Lady Gaga, Lady Gaga feat BeyoncÃ©]\n"
     ]
    },
    {
     "data": {
      "text/html": [
       "<div>\n",
       "<style scoped>\n",
       "    .dataframe tbody tr th:only-of-type {\n",
       "        vertical-align: middle;\n",
       "    }\n",
       "\n",
       "    .dataframe tbody tr th {\n",
       "        vertical-align: top;\n",
       "    }\n",
       "\n",
       "    .dataframe thead th {\n",
       "        text-align: right;\n",
       "    }\n",
       "</style>\n",
       "<table border=\"1\" class=\"dataframe\">\n",
       "  <thead>\n",
       "    <tr style=\"text-align: right;\">\n",
       "      <th></th>\n",
       "      <th>cosine score</th>\n",
       "      <th>names</th>\n",
       "    </tr>\n",
       "  </thead>\n",
       "  <tbody>\n",
       "    <tr>\n",
       "      <th>83</th>\n",
       "      <td>1.000000</td>\n",
       "      <td>Lady Gaga</td>\n",
       "    </tr>\n",
       "    <tr>\n",
       "      <th>1757</th>\n",
       "      <td>0.654674</td>\n",
       "      <td>Little Joy</td>\n",
       "    </tr>\n",
       "    <tr>\n",
       "      <th>7899</th>\n",
       "      <td>0.635210</td>\n",
       "      <td>Baby Bash</td>\n",
       "    </tr>\n",
       "    <tr>\n",
       "      <th>8406</th>\n",
       "      <td>0.621825</td>\n",
       "      <td>KOMHATA 101</td>\n",
       "    </tr>\n",
       "    <tr>\n",
       "      <th>300</th>\n",
       "      <td>0.609242</td>\n",
       "      <td>Black Eyed Peas</td>\n",
       "    </tr>\n",
       "    <tr>\n",
       "      <th>294</th>\n",
       "      <td>0.598775</td>\n",
       "      <td>Katy Perry</td>\n",
       "    </tr>\n",
       "  </tbody>\n",
       "</table>\n",
       "</div>"
      ],
      "text/plain": [
       "      cosine score            names\n",
       "83        1.000000        Lady Gaga\n",
       "1757      0.654674       Little Joy\n",
       "7899      0.635210        Baby Bash\n",
       "8406      0.621825      KOMHATA 101\n",
       "300       0.609242  Black Eyed Peas\n",
       "294       0.598775       Katy Perry"
      ]
     },
     "metadata": {},
     "output_type": "display_data"
    },
    {
     "name": "stdout",
     "output_type": "stream",
     "text": [
      "Nearest neighbors of : The Killers.\n",
      "[Found more than one matching artist. Other candidates: Arctic Monkeys vs The Killers]\n"
     ]
    },
    {
     "data": {
      "text/html": [
       "<div>\n",
       "<style scoped>\n",
       "    .dataframe tbody tr th:only-of-type {\n",
       "        vertical-align: middle;\n",
       "    }\n",
       "\n",
       "    .dataframe tbody tr th {\n",
       "        vertical-align: top;\n",
       "    }\n",
       "\n",
       "    .dataframe thead th {\n",
       "        text-align: right;\n",
       "    }\n",
       "</style>\n",
       "<table border=\"1\" class=\"dataframe\">\n",
       "  <thead>\n",
       "    <tr style=\"text-align: right;\">\n",
       "      <th></th>\n",
       "      <th>dot score</th>\n",
       "      <th>names</th>\n",
       "    </tr>\n",
       "  </thead>\n",
       "  <tbody>\n",
       "    <tr>\n",
       "      <th>13515</th>\n",
       "      <td>0.738421</td>\n",
       "      <td>Cattle Decapitation</td>\n",
       "    </tr>\n",
       "    <tr>\n",
       "      <th>17518</th>\n",
       "      <td>0.725622</td>\n",
       "      <td>YEFFI</td>\n",
       "    </tr>\n",
       "    <tr>\n",
       "      <th>11103</th>\n",
       "      <td>0.705964</td>\n",
       "      <td>Radiola</td>\n",
       "    </tr>\n",
       "    <tr>\n",
       "      <th>10739</th>\n",
       "      <td>0.649659</td>\n",
       "      <td>Jamie Foxx</td>\n",
       "    </tr>\n",
       "    <tr>\n",
       "      <th>8873</th>\n",
       "      <td>0.646365</td>\n",
       "      <td>HÎ›L</td>\n",
       "    </tr>\n",
       "    <tr>\n",
       "      <th>5949</th>\n",
       "      <td>0.631807</td>\n",
       "      <td>Pacific!</td>\n",
       "    </tr>\n",
       "  </tbody>\n",
       "</table>\n",
       "</div>"
      ],
      "text/plain": [
       "       dot score                names\n",
       "13515   0.738421  Cattle Decapitation\n",
       "17518   0.725622                YEFFI\n",
       "11103   0.705964              Radiola\n",
       "10739   0.649659           Jamie Foxx\n",
       "8873    0.646365                 HÎ›L\n",
       "5949    0.631807             Pacific!"
      ]
     },
     "metadata": {},
     "output_type": "display_data"
    },
    {
     "name": "stdout",
     "output_type": "stream",
     "text": [
      "Nearest neighbors of : The Killers.\n",
      "[Found more than one matching artist. Other candidates: Arctic Monkeys vs The Killers]\n"
     ]
    },
    {
     "data": {
      "text/html": [
       "<div>\n",
       "<style scoped>\n",
       "    .dataframe tbody tr th:only-of-type {\n",
       "        vertical-align: middle;\n",
       "    }\n",
       "\n",
       "    .dataframe tbody tr th {\n",
       "        vertical-align: top;\n",
       "    }\n",
       "\n",
       "    .dataframe thead th {\n",
       "        text-align: right;\n",
       "    }\n",
       "</style>\n",
       "<table border=\"1\" class=\"dataframe\">\n",
       "  <thead>\n",
       "    <tr style=\"text-align: right;\">\n",
       "      <th></th>\n",
       "      <th>cosine score</th>\n",
       "      <th>names</th>\n",
       "    </tr>\n",
       "  </thead>\n",
       "  <tbody>\n",
       "    <tr>\n",
       "      <th>223</th>\n",
       "      <td>1.000000</td>\n",
       "      <td>The Killers</td>\n",
       "    </tr>\n",
       "    <tr>\n",
       "      <th>13003</th>\n",
       "      <td>0.690589</td>\n",
       "      <td>Ebba GrÑ†n</td>\n",
       "    </tr>\n",
       "    <tr>\n",
       "      <th>16978</th>\n",
       "      <td>0.644971</td>\n",
       "      <td>1974 AD</td>\n",
       "    </tr>\n",
       "    <tr>\n",
       "      <th>10122</th>\n",
       "      <td>0.612643</td>\n",
       "      <td>Bert Jansch</td>\n",
       "    </tr>\n",
       "    <tr>\n",
       "      <th>11103</th>\n",
       "      <td>0.603125</td>\n",
       "      <td>Radiola</td>\n",
       "    </tr>\n",
       "    <tr>\n",
       "      <th>13515</th>\n",
       "      <td>0.601540</td>\n",
       "      <td>Cattle Decapitation</td>\n",
       "    </tr>\n",
       "  </tbody>\n",
       "</table>\n",
       "</div>"
      ],
      "text/plain": [
       "       cosine score                names\n",
       "223        1.000000          The Killers\n",
       "13003      0.690589           Ebba GrÑ†n\n",
       "16978      0.644971              1974 AD\n",
       "10122      0.612643          Bert Jansch\n",
       "11103      0.603125              Radiola\n",
       "13515      0.601540  Cattle Decapitation"
      ]
     },
     "metadata": {},
     "output_type": "display_data"
    },
    {
     "name": "stdout",
     "output_type": "stream",
     "text": [
      "Nearest neighbors of : Black Eyed Peas.\n",
      "[Found more than one matching artist. Other candidates: The Black Eyed Peas, Juanes feat.Black Eyed Peas]\n"
     ]
    },
    {
     "data": {
      "text/html": [
       "<div>\n",
       "<style scoped>\n",
       "    .dataframe tbody tr th:only-of-type {\n",
       "        vertical-align: middle;\n",
       "    }\n",
       "\n",
       "    .dataframe tbody tr th {\n",
       "        vertical-align: top;\n",
       "    }\n",
       "\n",
       "    .dataframe thead th {\n",
       "        text-align: right;\n",
       "    }\n",
       "</style>\n",
       "<table border=\"1\" class=\"dataframe\">\n",
       "  <thead>\n",
       "    <tr style=\"text-align: right;\">\n",
       "      <th></th>\n",
       "      <th>dot score</th>\n",
       "      <th>names</th>\n",
       "    </tr>\n",
       "  </thead>\n",
       "  <tbody>\n",
       "    <tr>\n",
       "      <th>7899</th>\n",
       "      <td>0.434280</td>\n",
       "      <td>Baby Bash</td>\n",
       "    </tr>\n",
       "    <tr>\n",
       "      <th>10333</th>\n",
       "      <td>0.399144</td>\n",
       "      <td>Paul Anka</td>\n",
       "    </tr>\n",
       "    <tr>\n",
       "      <th>7356</th>\n",
       "      <td>0.388149</td>\n",
       "      <td>KLOQ</td>\n",
       "    </tr>\n",
       "    <tr>\n",
       "      <th>2468</th>\n",
       "      <td>0.363860</td>\n",
       "      <td>King Missile</td>\n",
       "    </tr>\n",
       "    <tr>\n",
       "      <th>12602</th>\n",
       "      <td>0.362477</td>\n",
       "      <td>Spoons</td>\n",
       "    </tr>\n",
       "    <tr>\n",
       "      <th>12593</th>\n",
       "      <td>0.351529</td>\n",
       "      <td>Bijelo Dugme</td>\n",
       "    </tr>\n",
       "  </tbody>\n",
       "</table>\n",
       "</div>"
      ],
      "text/plain": [
       "       dot score         names\n",
       "7899    0.434280     Baby Bash\n",
       "10333   0.399144     Paul Anka\n",
       "7356    0.388149          KLOQ\n",
       "2468    0.363860  King Missile\n",
       "12602   0.362477        Spoons\n",
       "12593   0.351529  Bijelo Dugme"
      ]
     },
     "metadata": {},
     "output_type": "display_data"
    },
    {
     "name": "stdout",
     "output_type": "stream",
     "text": [
      "Nearest neighbors of : Black Eyed Peas.\n",
      "[Found more than one matching artist. Other candidates: The Black Eyed Peas, Juanes feat.Black Eyed Peas]\n"
     ]
    },
    {
     "data": {
      "text/html": [
       "<div>\n",
       "<style scoped>\n",
       "    .dataframe tbody tr th:only-of-type {\n",
       "        vertical-align: middle;\n",
       "    }\n",
       "\n",
       "    .dataframe tbody tr th {\n",
       "        vertical-align: top;\n",
       "    }\n",
       "\n",
       "    .dataframe thead th {\n",
       "        text-align: right;\n",
       "    }\n",
       "</style>\n",
       "<table border=\"1\" class=\"dataframe\">\n",
       "  <thead>\n",
       "    <tr style=\"text-align: right;\">\n",
       "      <th></th>\n",
       "      <th>cosine score</th>\n",
       "      <th>names</th>\n",
       "    </tr>\n",
       "  </thead>\n",
       "  <tbody>\n",
       "    <tr>\n",
       "      <th>300</th>\n",
       "      <td>1.000000</td>\n",
       "      <td>Black Eyed Peas</td>\n",
       "    </tr>\n",
       "    <tr>\n",
       "      <th>7899</th>\n",
       "      <td>0.693547</td>\n",
       "      <td>Baby Bash</td>\n",
       "    </tr>\n",
       "    <tr>\n",
       "      <th>83</th>\n",
       "      <td>0.609242</td>\n",
       "      <td>Lady Gaga</td>\n",
       "    </tr>\n",
       "    <tr>\n",
       "      <th>2468</th>\n",
       "      <td>0.605409</td>\n",
       "      <td>King Missile</td>\n",
       "    </tr>\n",
       "    <tr>\n",
       "      <th>10333</th>\n",
       "      <td>0.602021</td>\n",
       "      <td>Paul Anka</td>\n",
       "    </tr>\n",
       "    <tr>\n",
       "      <th>12593</th>\n",
       "      <td>0.582031</td>\n",
       "      <td>Bijelo Dugme</td>\n",
       "    </tr>\n",
       "  </tbody>\n",
       "</table>\n",
       "</div>"
      ],
      "text/plain": [
       "       cosine score            names\n",
       "300        1.000000  Black Eyed Peas\n",
       "7899       0.693547        Baby Bash\n",
       "83         0.609242        Lady Gaga\n",
       "2468       0.605409     King Missile\n",
       "10333      0.602021        Paul Anka\n",
       "12593      0.582031     Bijelo Dugme"
      ]
     },
     "metadata": {},
     "output_type": "display_data"
    },
    {
     "name": "stdout",
     "output_type": "stream",
     "text": [
      "Nearest neighbors of : Rihanna.\n",
      "[Found more than one matching artist. Other candidates: Rihanna (feat. Drake), Jay-Z, Bono, The Edge & Rihanna, RihannaÌ€, Sean Paul ft. Rihanna, Rihanna-remixado REnan, \\Eminem f_ Rihanna]\n"
     ]
    },
    {
     "data": {
      "text/html": [
       "<div>\n",
       "<style scoped>\n",
       "    .dataframe tbody tr th:only-of-type {\n",
       "        vertical-align: middle;\n",
       "    }\n",
       "\n",
       "    .dataframe tbody tr th {\n",
       "        vertical-align: top;\n",
       "    }\n",
       "\n",
       "    .dataframe thead th {\n",
       "        text-align: right;\n",
       "    }\n",
       "</style>\n",
       "<table border=\"1\" class=\"dataframe\">\n",
       "  <thead>\n",
       "    <tr style=\"text-align: right;\">\n",
       "      <th></th>\n",
       "      <th>dot score</th>\n",
       "      <th>names</th>\n",
       "    </tr>\n",
       "  </thead>\n",
       "  <tbody>\n",
       "    <tr>\n",
       "      <th>14170</th>\n",
       "      <td>0.667369</td>\n",
       "      <td>Vanishing Point</td>\n",
       "    </tr>\n",
       "    <tr>\n",
       "      <th>6281</th>\n",
       "      <td>0.613225</td>\n",
       "      <td>Superchunk</td>\n",
       "    </tr>\n",
       "    <tr>\n",
       "      <th>8141</th>\n",
       "      <td>0.612232</td>\n",
       "      <td>MaturzFrum</td>\n",
       "    </tr>\n",
       "    <tr>\n",
       "      <th>5796</th>\n",
       "      <td>0.611067</td>\n",
       "      <td>The Search</td>\n",
       "    </tr>\n",
       "    <tr>\n",
       "      <th>8833</th>\n",
       "      <td>0.610914</td>\n",
       "      <td>Hava Narghile</td>\n",
       "    </tr>\n",
       "    <tr>\n",
       "      <th>14945</th>\n",
       "      <td>0.607800</td>\n",
       "      <td>Emiliana Torrini</td>\n",
       "    </tr>\n",
       "  </tbody>\n",
       "</table>\n",
       "</div>"
      ],
      "text/plain": [
       "       dot score             names\n",
       "14170   0.667369   Vanishing Point\n",
       "6281    0.613225        Superchunk\n",
       "8141    0.612232        MaturzFrum\n",
       "5796    0.611067        The Search\n",
       "8833    0.610914     Hava Narghile\n",
       "14945   0.607800  Emiliana Torrini"
      ]
     },
     "metadata": {},
     "output_type": "display_data"
    },
    {
     "name": "stdout",
     "output_type": "stream",
     "text": [
      "Nearest neighbors of : Rihanna.\n",
      "[Found more than one matching artist. Other candidates: Rihanna (feat. Drake), Jay-Z, Bono, The Edge & Rihanna, RihannaÌ€, Sean Paul ft. Rihanna, Rihanna-remixado REnan, \\Eminem f_ Rihanna]\n"
     ]
    },
    {
     "data": {
      "text/html": [
       "<div>\n",
       "<style scoped>\n",
       "    .dataframe tbody tr th:only-of-type {\n",
       "        vertical-align: middle;\n",
       "    }\n",
       "\n",
       "    .dataframe tbody tr th {\n",
       "        vertical-align: top;\n",
       "    }\n",
       "\n",
       "    .dataframe thead th {\n",
       "        text-align: right;\n",
       "    }\n",
       "</style>\n",
       "<table border=\"1\" class=\"dataframe\">\n",
       "  <thead>\n",
       "    <tr style=\"text-align: right;\">\n",
       "      <th></th>\n",
       "      <th>cosine score</th>\n",
       "      <th>names</th>\n",
       "    </tr>\n",
       "  </thead>\n",
       "  <tbody>\n",
       "    <tr>\n",
       "      <th>282</th>\n",
       "      <td>1.000000</td>\n",
       "      <td>Rihanna</td>\n",
       "    </tr>\n",
       "    <tr>\n",
       "      <th>293</th>\n",
       "      <td>0.632725</td>\n",
       "      <td>Jennifer Lopez</td>\n",
       "    </tr>\n",
       "    <tr>\n",
       "      <th>5285</th>\n",
       "      <td>0.626111</td>\n",
       "      <td>Frank Yankovic and His Yanks</td>\n",
       "    </tr>\n",
       "    <tr>\n",
       "      <th>8141</th>\n",
       "      <td>0.616276</td>\n",
       "      <td>MaturzFrum</td>\n",
       "    </tr>\n",
       "    <tr>\n",
       "      <th>6281</th>\n",
       "      <td>0.615105</td>\n",
       "      <td>Superchunk</td>\n",
       "    </tr>\n",
       "    <tr>\n",
       "      <th>8833</th>\n",
       "      <td>0.598326</td>\n",
       "      <td>Hava Narghile</td>\n",
       "    </tr>\n",
       "  </tbody>\n",
       "</table>\n",
       "</div>"
      ],
      "text/plain": [
       "      cosine score                         names\n",
       "282       1.000000                       Rihanna\n",
       "293       0.632725                Jennifer Lopez\n",
       "5285      0.626111  Frank Yankovic and His Yanks\n",
       "8141      0.616276                    MaturzFrum\n",
       "6281      0.615105                    Superchunk\n",
       "8833      0.598326                 Hava Narghile"
      ]
     },
     "metadata": {},
     "output_type": "display_data"
    },
    {
     "name": "stdout",
     "output_type": "stream",
     "text": [
      "Nearest neighbors of : Gwen Stefani.\n",
      "[Found more than one matching artist. Other candidates: Panic! at the Disco feat. Britney Spears and Gwen Stefani]\n"
     ]
    },
    {
     "data": {
      "text/html": [
       "<div>\n",
       "<style scoped>\n",
       "    .dataframe tbody tr th:only-of-type {\n",
       "        vertical-align: middle;\n",
       "    }\n",
       "\n",
       "    .dataframe tbody tr th {\n",
       "        vertical-align: top;\n",
       "    }\n",
       "\n",
       "    .dataframe thead th {\n",
       "        text-align: right;\n",
       "    }\n",
       "</style>\n",
       "<table border=\"1\" class=\"dataframe\">\n",
       "  <thead>\n",
       "    <tr style=\"text-align: right;\">\n",
       "      <th></th>\n",
       "      <th>dot score</th>\n",
       "      <th>names</th>\n",
       "    </tr>\n",
       "  </thead>\n",
       "  <tbody>\n",
       "    <tr>\n",
       "      <th>16266</th>\n",
       "      <td>1.809942</td>\n",
       "      <td>Ð“Ð ÐžÐ¢</td>\n",
       "    </tr>\n",
       "    <tr>\n",
       "      <th>14158</th>\n",
       "      <td>1.771639</td>\n",
       "      <td>Newklam</td>\n",
       "    </tr>\n",
       "    <tr>\n",
       "      <th>8250</th>\n",
       "      <td>1.766524</td>\n",
       "      <td>Peter Soleimanipour</td>\n",
       "    </tr>\n",
       "    <tr>\n",
       "      <th>5237</th>\n",
       "      <td>1.708542</td>\n",
       "      <td>Phutureprimitive</td>\n",
       "    </tr>\n",
       "    <tr>\n",
       "      <th>2205</th>\n",
       "      <td>1.670141</td>\n",
       "      <td>Aaliyah</td>\n",
       "    </tr>\n",
       "    <tr>\n",
       "      <th>15894</th>\n",
       "      <td>1.652519</td>\n",
       "      <td>Anna Margaret</td>\n",
       "    </tr>\n",
       "  </tbody>\n",
       "</table>\n",
       "</div>"
      ],
      "text/plain": [
       "       dot score                names\n",
       "16266   1.809942             Ð“Ð ÐžÐ¢\n",
       "14158   1.771639              Newklam\n",
       "8250    1.766524  Peter Soleimanipour\n",
       "5237    1.708542     Phutureprimitive\n",
       "2205    1.670141              Aaliyah\n",
       "15894   1.652519        Anna Margaret"
      ]
     },
     "metadata": {},
     "output_type": "display_data"
    },
    {
     "name": "stdout",
     "output_type": "stream",
     "text": [
      "Nearest neighbors of : Gwen Stefani.\n",
      "[Found more than one matching artist. Other candidates: Panic! at the Disco feat. Britney Spears and Gwen Stefani]\n"
     ]
    },
    {
     "data": {
      "text/html": [
       "<div>\n",
       "<style scoped>\n",
       "    .dataframe tbody tr th:only-of-type {\n",
       "        vertical-align: middle;\n",
       "    }\n",
       "\n",
       "    .dataframe tbody tr th {\n",
       "        vertical-align: top;\n",
       "    }\n",
       "\n",
       "    .dataframe thead th {\n",
       "        text-align: right;\n",
       "    }\n",
       "</style>\n",
       "<table border=\"1\" class=\"dataframe\">\n",
       "  <thead>\n",
       "    <tr style=\"text-align: right;\">\n",
       "      <th></th>\n",
       "      <th>cosine score</th>\n",
       "      <th>names</th>\n",
       "    </tr>\n",
       "  </thead>\n",
       "  <tbody>\n",
       "    <tr>\n",
       "      <th>519</th>\n",
       "      <td>1.000000</td>\n",
       "      <td>Gwen Stefani</td>\n",
       "    </tr>\n",
       "    <tr>\n",
       "      <th>14158</th>\n",
       "      <td>0.631235</td>\n",
       "      <td>Newklam</td>\n",
       "    </tr>\n",
       "    <tr>\n",
       "      <th>5237</th>\n",
       "      <td>0.625279</td>\n",
       "      <td>Phutureprimitive</td>\n",
       "    </tr>\n",
       "    <tr>\n",
       "      <th>11684</th>\n",
       "      <td>0.609046</td>\n",
       "      <td>Valentin</td>\n",
       "    </tr>\n",
       "    <tr>\n",
       "      <th>16266</th>\n",
       "      <td>0.600059</td>\n",
       "      <td>Ð“Ð ÐžÐ¢</td>\n",
       "    </tr>\n",
       "    <tr>\n",
       "      <th>16540</th>\n",
       "      <td>0.599892</td>\n",
       "      <td>moumoon</td>\n",
       "    </tr>\n",
       "  </tbody>\n",
       "</table>\n",
       "</div>"
      ],
      "text/plain": [
       "       cosine score             names\n",
       "519        1.000000      Gwen Stefani\n",
       "14158      0.631235           Newklam\n",
       "5237       0.625279  Phutureprimitive\n",
       "11684      0.609046          Valentin\n",
       "16266      0.600059          Ð“Ð ÐžÐ¢\n",
       "16540      0.599892           moumoon"
      ]
     },
     "metadata": {},
     "output_type": "display_data"
    },
    {
     "name": "stdout",
     "output_type": "stream",
     "text": [
      "Nearest neighbors of : Eva Simons.\n",
      "[Found more than one matching artist. Other candidates: Afrojack ft. Eva Simons]\n"
     ]
    },
    {
     "data": {
      "text/html": [
       "<div>\n",
       "<style scoped>\n",
       "    .dataframe tbody tr th:only-of-type {\n",
       "        vertical-align: middle;\n",
       "    }\n",
       "\n",
       "    .dataframe tbody tr th {\n",
       "        vertical-align: top;\n",
       "    }\n",
       "\n",
       "    .dataframe thead th {\n",
       "        text-align: right;\n",
       "    }\n",
       "</style>\n",
       "<table border=\"1\" class=\"dataframe\">\n",
       "  <thead>\n",
       "    <tr style=\"text-align: right;\">\n",
       "      <th></th>\n",
       "      <th>dot score</th>\n",
       "      <th>names</th>\n",
       "    </tr>\n",
       "  </thead>\n",
       "  <tbody>\n",
       "    <tr>\n",
       "      <th>1432</th>\n",
       "      <td>9.314402</td>\n",
       "      <td>Eva Simons</td>\n",
       "    </tr>\n",
       "    <tr>\n",
       "      <th>5708</th>\n",
       "      <td>5.801507</td>\n",
       "      <td>David Sylvian</td>\n",
       "    </tr>\n",
       "    <tr>\n",
       "      <th>2758</th>\n",
       "      <td>5.573169</td>\n",
       "      <td>Cryptopsy</td>\n",
       "    </tr>\n",
       "    <tr>\n",
       "      <th>68</th>\n",
       "      <td>5.229594</td>\n",
       "      <td>Basia</td>\n",
       "    </tr>\n",
       "    <tr>\n",
       "      <th>8381</th>\n",
       "      <td>5.224584</td>\n",
       "      <td>Miss Kittin</td>\n",
       "    </tr>\n",
       "    <tr>\n",
       "      <th>2789</th>\n",
       "      <td>5.192644</td>\n",
       "      <td>Claude Kelly</td>\n",
       "    </tr>\n",
       "  </tbody>\n",
       "</table>\n",
       "</div>"
      ],
      "text/plain": [
       "      dot score          names\n",
       "1432   9.314402     Eva Simons\n",
       "5708   5.801507  David Sylvian\n",
       "2758   5.573169      Cryptopsy\n",
       "68     5.229594          Basia\n",
       "8381   5.224584    Miss Kittin\n",
       "2789   5.192644   Claude Kelly"
      ]
     },
     "metadata": {},
     "output_type": "display_data"
    },
    {
     "name": "stdout",
     "output_type": "stream",
     "text": [
      "Nearest neighbors of : Eva Simons.\n",
      "[Found more than one matching artist. Other candidates: Afrojack ft. Eva Simons]\n"
     ]
    },
    {
     "data": {
      "text/html": [
       "<div>\n",
       "<style scoped>\n",
       "    .dataframe tbody tr th:only-of-type {\n",
       "        vertical-align: middle;\n",
       "    }\n",
       "\n",
       "    .dataframe tbody tr th {\n",
       "        vertical-align: top;\n",
       "    }\n",
       "\n",
       "    .dataframe thead th {\n",
       "        text-align: right;\n",
       "    }\n",
       "</style>\n",
       "<table border=\"1\" class=\"dataframe\">\n",
       "  <thead>\n",
       "    <tr style=\"text-align: right;\">\n",
       "      <th></th>\n",
       "      <th>cosine score</th>\n",
       "      <th>names</th>\n",
       "    </tr>\n",
       "  </thead>\n",
       "  <tbody>\n",
       "    <tr>\n",
       "      <th>1432</th>\n",
       "      <td>1.000000</td>\n",
       "      <td>Eva Simons</td>\n",
       "    </tr>\n",
       "    <tr>\n",
       "      <th>2758</th>\n",
       "      <td>0.662993</td>\n",
       "      <td>Cryptopsy</td>\n",
       "    </tr>\n",
       "    <tr>\n",
       "      <th>68</th>\n",
       "      <td>0.623887</td>\n",
       "      <td>Basia</td>\n",
       "    </tr>\n",
       "    <tr>\n",
       "      <th>14005</th>\n",
       "      <td>0.592238</td>\n",
       "      <td>YaÅŸar</td>\n",
       "    </tr>\n",
       "    <tr>\n",
       "      <th>5708</th>\n",
       "      <td>0.579306</td>\n",
       "      <td>David Sylvian</td>\n",
       "    </tr>\n",
       "    <tr>\n",
       "      <th>1386</th>\n",
       "      <td>0.577668</td>\n",
       "      <td>Freemasons</td>\n",
       "    </tr>\n",
       "  </tbody>\n",
       "</table>\n",
       "</div>"
      ],
      "text/plain": [
       "       cosine score          names\n",
       "1432       1.000000     Eva Simons\n",
       "2758       0.662993      Cryptopsy\n",
       "68         0.623887          Basia\n",
       "14005      0.592238         YaÅŸar\n",
       "5708       0.579306  David Sylvian\n",
       "1386       0.577668     Freemasons"
      ]
     },
     "metadata": {},
     "output_type": "display_data"
    }
   ],
   "source": [
    "artist_grp = ['Lady Gaga', 'The Killers', 'Black Eyed Peas', 'Rihanna', 'Gwen Stefani', 'Eva Simons']\n",
    "for art in range(len(artist_grp)):\n",
    "    artist_neighbors(model, artist_grp[art], DOT)\n",
    "    artist_neighbors(model, artist_grp[art], COSINE)"
   ]
  },
  {
   "cell_type": "markdown",
   "id": "88690f28",
   "metadata": {},
   "source": [
    "While our cosine score results provide very strong recommendations using the dot product model here produces mediocre results at best. This also factors in that the dot product is a very popular method for recommender systems and as a result we will need to incorporate further methods to get better results. We will attempt to use a regularized matrix. The key point of this being that regularization is to enforce conditions, for example sparsity or smoothness, that can produce stable predictive functions and in our case improve our model."
   ]
  },
  {
   "cell_type": "markdown",
   "id": "ede9a6e7",
   "metadata": {},
   "source": [
    "# Regularized Matrix"
   ]
  },
  {
   "cell_type": "code",
   "execution_count": 123,
   "id": "db021444",
   "metadata": {},
   "outputs": [],
   "source": [
    "def gravity(U, V):\n",
    "  return 1. / (U.shape[0].value * V.shape[0].value) * tf.reduce_sum(\n",
    "      tf.matmul(U, U, transpose_a = True) * tf.matmul(V, V, transpose_a = True))\n",
    "\n",
    "def build_regularized_model(data, embedding_dim = 3, regularization_coeff = .1, gravity_coeff = 1., init_stddev = 0.1):\n",
    "  # Split the ratings DataFrame into train and test.\n",
    "  train_ratings, test_ratings = split_dataframe(xyz)\n",
    "  # SparseTensor representation of the train and test datasets.\n",
    "  A_train = build_rating_sparse_tensor(train_ratings)\n",
    "  A_test = build_rating_sparse_tensor(test_ratings)\n",
    "  U = tf.Variable(tf.random_normal(\n",
    "      [A_train.dense_shape[0], embedding_dim], stddev = init_stddev))\n",
    "  V = tf.Variable(tf.random_normal(\n",
    "      [A_train.dense_shape[1], embedding_dim], stddev = init_stddev))\n",
    "\n",
    "  error_train = sparse_mean_square_error(A_train, U, V)\n",
    "  error_test = sparse_mean_square_error(A_test, U, V)\n",
    "  gravity_loss = gravity_coeff * gravity(U, V)\n",
    "  regularization_loss = regularization_coeff * (\n",
    "      tf.reduce_sum(U * U) / U.shape[0].value + tf.reduce_sum(V * V) / V.shape[0].value)\n",
    "  total_loss = error_train + regularization_loss + gravity_loss\n",
    "  losses = {\n",
    "      'train_error_observed': error_train,\n",
    "      'test_error_observed': error_test,\n",
    "  }\n",
    "  loss_components = {\n",
    "      'observed_loss': error_train,\n",
    "      'regularization_loss': regularization_loss,\n",
    "      'gravity_loss': gravity_loss,\n",
    "  }\n",
    "  embeddings = {\"userID\": U, \"artID\": V}\n",
    "\n",
    "  return CFModel(embeddings, total_loss, [losses, loss_components]), U, V"
   ]
  },
  {
   "cell_type": "code",
   "execution_count": 124,
   "id": "cc8faec3",
   "metadata": {},
   "outputs": [
    {
     "name": "stdout",
     "output_type": "stream",
     "text": [
      " iteration 2000: train_error_observed=0.032664, test_error_observed=0.049241, observed_loss=0.032664, regularization_loss=0.017236, gravity_loss=0.000740"
     ]
    },
    {
     "data": {
      "text/plain": [
       "[{'train_error_observed': 0.032664254, 'test_error_observed': 0.04924051},\n",
       " {'observed_loss': 0.032664254,\n",
       "  'regularization_loss': 0.017236037,\n",
       "  'gravity_loss': 0.00073959766}]"
      ]
     },
     "execution_count": 124,
     "metadata": {},
     "output_type": "execute_result"
    },
    {
     "data": {
      "image/png": "[encoded data removed]",
      "text/plain": [
       "<Figure size 2160x576 with 2 Axes>"
      ]
     },
     "metadata": {
      "needs_background": "light"
     },
     "output_type": "display_data"
    }
   ],
   "source": [
    "reg_model, u, v  = build_regularized_model(xyz, regularization_coeff=0.1, gravity_coeff=1.0, embedding_dim=35, init_stddev=.05)\n",
    "reg_model.train(num_iterations=2000, learning_rate=20.)"
   ]
  },
  {
   "cell_type": "markdown",
   "id": "a8c7d7da",
   "metadata": {},
   "source": [
    "Let's test our model on a group of artists to get a better understanding of it's recommendations."
   ]
  },
  {
   "cell_type": "code",
   "execution_count": 125,
   "id": "b8f0a232",
   "metadata": {},
   "outputs": [
    {
     "name": "stdout",
     "output_type": "stream",
     "text": [
      "Nearest neighbors of : Lady Gaga.\n",
      "[Found more than one matching artist. Other candidates: Lady Gaga VS Christina Aguilera, BeyoncÃ© e Lady Gaga, Lady Gaga feat BeyoncÃ©]\n"
     ]
    },
    {
     "data": {
      "text/html": [
       "<div>\n",
       "<style scoped>\n",
       "    .dataframe tbody tr th:only-of-type {\n",
       "        vertical-align: middle;\n",
       "    }\n",
       "\n",
       "    .dataframe tbody tr th {\n",
       "        vertical-align: top;\n",
       "    }\n",
       "\n",
       "    .dataframe thead th {\n",
       "        text-align: right;\n",
       "    }\n",
       "</style>\n",
       "<table border=\"1\" class=\"dataframe\">\n",
       "  <thead>\n",
       "    <tr style=\"text-align: right;\">\n",
       "      <th></th>\n",
       "      <th>dot score</th>\n",
       "      <th>names</th>\n",
       "    </tr>\n",
       "  </thead>\n",
       "  <tbody>\n",
       "    <tr>\n",
       "      <th>83</th>\n",
       "      <td>11.149323</td>\n",
       "      <td>Lady Gaga</td>\n",
       "    </tr>\n",
       "    <tr>\n",
       "      <th>283</th>\n",
       "      <td>4.525960</td>\n",
       "      <td>Britney Spears</td>\n",
       "    </tr>\n",
       "    <tr>\n",
       "      <th>282</th>\n",
       "      <td>3.016233</td>\n",
       "      <td>Rihanna</td>\n",
       "    </tr>\n",
       "    <tr>\n",
       "      <th>673</th>\n",
       "      <td>2.420350</td>\n",
       "      <td>Glee Cast</td>\n",
       "    </tr>\n",
       "    <tr>\n",
       "      <th>289</th>\n",
       "      <td>2.284751</td>\n",
       "      <td>BeyoncÃ©</td>\n",
       "    </tr>\n",
       "    <tr>\n",
       "      <th>49</th>\n",
       "      <td>2.130238</td>\n",
       "      <td>Kylie Minogue</td>\n",
       "    </tr>\n",
       "  </tbody>\n",
       "</table>\n",
       "</div>"
      ],
      "text/plain": [
       "     dot score           names\n",
       "83   11.149323       Lady Gaga\n",
       "283   4.525960  Britney Spears\n",
       "282   3.016233         Rihanna\n",
       "673   2.420350       Glee Cast\n",
       "289   2.284751        BeyoncÃ©\n",
       "49    2.130238   Kylie Minogue"
      ]
     },
     "metadata": {},
     "output_type": "display_data"
    },
    {
     "name": "stdout",
     "output_type": "stream",
     "text": [
      "Nearest neighbors of : Lady Gaga.\n",
      "[Found more than one matching artist. Other candidates: Lady Gaga VS Christina Aguilera, BeyoncÃ© e Lady Gaga, Lady Gaga feat BeyoncÃ©]\n"
     ]
    },
    {
     "data": {
      "text/html": [
       "<div>\n",
       "<style scoped>\n",
       "    .dataframe tbody tr th:only-of-type {\n",
       "        vertical-align: middle;\n",
       "    }\n",
       "\n",
       "    .dataframe tbody tr th {\n",
       "        vertical-align: top;\n",
       "    }\n",
       "\n",
       "    .dataframe thead th {\n",
       "        text-align: right;\n",
       "    }\n",
       "</style>\n",
       "<table border=\"1\" class=\"dataframe\">\n",
       "  <thead>\n",
       "    <tr style=\"text-align: right;\">\n",
       "      <th></th>\n",
       "      <th>cosine score</th>\n",
       "      <th>names</th>\n",
       "    </tr>\n",
       "  </thead>\n",
       "  <tbody>\n",
       "    <tr>\n",
       "      <th>83</th>\n",
       "      <td>1.000000</td>\n",
       "      <td>Lady Gaga</td>\n",
       "    </tr>\n",
       "    <tr>\n",
       "      <th>638</th>\n",
       "      <td>0.694369</td>\n",
       "      <td>Inna</td>\n",
       "    </tr>\n",
       "    <tr>\n",
       "      <th>629</th>\n",
       "      <td>0.667333</td>\n",
       "      <td>Teen Angels</td>\n",
       "    </tr>\n",
       "    <tr>\n",
       "      <th>7188</th>\n",
       "      <td>0.653419</td>\n",
       "      <td>Jay Sean</td>\n",
       "    </tr>\n",
       "    <tr>\n",
       "      <th>525</th>\n",
       "      <td>0.640803</td>\n",
       "      <td>Taio Cruz</td>\n",
       "    </tr>\n",
       "    <tr>\n",
       "      <th>4704</th>\n",
       "      <td>0.619135</td>\n",
       "      <td>Natalia Kills</td>\n",
       "    </tr>\n",
       "  </tbody>\n",
       "</table>\n",
       "</div>"
      ],
      "text/plain": [
       "      cosine score          names\n",
       "83        1.000000      Lady Gaga\n",
       "638       0.694369           Inna\n",
       "629       0.667333    Teen Angels\n",
       "7188      0.653419       Jay Sean\n",
       "525       0.640803      Taio Cruz\n",
       "4704      0.619135  Natalia Kills"
      ]
     },
     "metadata": {},
     "output_type": "display_data"
    },
    {
     "name": "stdout",
     "output_type": "stream",
     "text": [
      "Nearest neighbors of : The Killers.\n",
      "[Found more than one matching artist. Other candidates: Arctic Monkeys vs The Killers]\n"
     ]
    },
    {
     "data": {
      "text/html": [
       "<div>\n",
       "<style scoped>\n",
       "    .dataframe tbody tr th:only-of-type {\n",
       "        vertical-align: middle;\n",
       "    }\n",
       "\n",
       "    .dataframe tbody tr th {\n",
       "        vertical-align: top;\n",
       "    }\n",
       "\n",
       "    .dataframe thead th {\n",
       "        text-align: right;\n",
       "    }\n",
       "</style>\n",
       "<table border=\"1\" class=\"dataframe\">\n",
       "  <thead>\n",
       "    <tr style=\"text-align: right;\">\n",
       "      <th></th>\n",
       "      <th>dot score</th>\n",
       "      <th>names</th>\n",
       "    </tr>\n",
       "  </thead>\n",
       "  <tbody>\n",
       "    <tr>\n",
       "      <th>223</th>\n",
       "      <td>2.163726</td>\n",
       "      <td>The Killers</td>\n",
       "    </tr>\n",
       "    <tr>\n",
       "      <th>201</th>\n",
       "      <td>1.694752</td>\n",
       "      <td>Arctic Monkeys</td>\n",
       "    </tr>\n",
       "    <tr>\n",
       "      <th>433</th>\n",
       "      <td>1.620671</td>\n",
       "      <td>Los Hermanos</td>\n",
       "    </tr>\n",
       "    <tr>\n",
       "      <th>221</th>\n",
       "      <td>1.550426</td>\n",
       "      <td>The Beatles</td>\n",
       "    </tr>\n",
       "    <tr>\n",
       "      <th>184</th>\n",
       "      <td>1.523253</td>\n",
       "      <td>Muse</td>\n",
       "    </tr>\n",
       "    <tr>\n",
       "      <th>418</th>\n",
       "      <td>1.399548</td>\n",
       "      <td>The Strokes</td>\n",
       "    </tr>\n",
       "  </tbody>\n",
       "</table>\n",
       "</div>"
      ],
      "text/plain": [
       "     dot score           names\n",
       "223   2.163726     The Killers\n",
       "201   1.694752  Arctic Monkeys\n",
       "433   1.620671    Los Hermanos\n",
       "221   1.550426     The Beatles\n",
       "184   1.523253            Muse\n",
       "418   1.399548     The Strokes"
      ]
     },
     "metadata": {},
     "output_type": "display_data"
    },
    {
     "name": "stdout",
     "output_type": "stream",
     "text": [
      "Nearest neighbors of : The Killers.\n",
      "[Found more than one matching artist. Other candidates: Arctic Monkeys vs The Killers]\n"
     ]
    },
    {
     "data": {
      "text/html": [
       "<div>\n",
       "<style scoped>\n",
       "    .dataframe tbody tr th:only-of-type {\n",
       "        vertical-align: middle;\n",
       "    }\n",
       "\n",
       "    .dataframe tbody tr th {\n",
       "        vertical-align: top;\n",
       "    }\n",
       "\n",
       "    .dataframe thead th {\n",
       "        text-align: right;\n",
       "    }\n",
       "</style>\n",
       "<table border=\"1\" class=\"dataframe\">\n",
       "  <thead>\n",
       "    <tr style=\"text-align: right;\">\n",
       "      <th></th>\n",
       "      <th>cosine score</th>\n",
       "      <th>names</th>\n",
       "    </tr>\n",
       "  </thead>\n",
       "  <tbody>\n",
       "    <tr>\n",
       "      <th>223</th>\n",
       "      <td>1.000000</td>\n",
       "      <td>The Killers</td>\n",
       "    </tr>\n",
       "    <tr>\n",
       "      <th>3390</th>\n",
       "      <td>0.823263</td>\n",
       "      <td>Goo Goo Dolls</td>\n",
       "    </tr>\n",
       "    <tr>\n",
       "      <th>419</th>\n",
       "      <td>0.768164</td>\n",
       "      <td>Yeah Yeah Yeahs</td>\n",
       "    </tr>\n",
       "    <tr>\n",
       "      <th>4035</th>\n",
       "      <td>0.751401</td>\n",
       "      <td>The Postal Service</td>\n",
       "    </tr>\n",
       "    <tr>\n",
       "      <th>204</th>\n",
       "      <td>0.744716</td>\n",
       "      <td>Bloc Party</td>\n",
       "    </tr>\n",
       "    <tr>\n",
       "      <th>433</th>\n",
       "      <td>0.740768</td>\n",
       "      <td>Los Hermanos</td>\n",
       "    </tr>\n",
       "  </tbody>\n",
       "</table>\n",
       "</div>"
      ],
      "text/plain": [
       "      cosine score               names\n",
       "223       1.000000         The Killers\n",
       "3390      0.823263       Goo Goo Dolls\n",
       "419       0.768164     Yeah Yeah Yeahs\n",
       "4035      0.751401  The Postal Service\n",
       "204       0.744716          Bloc Party\n",
       "433       0.740768        Los Hermanos"
      ]
     },
     "metadata": {},
     "output_type": "display_data"
    },
    {
     "name": "stdout",
     "output_type": "stream",
     "text": [
      "Nearest neighbors of : Black Eyed Peas.\n",
      "[Found more than one matching artist. Other candidates: The Black Eyed Peas, Juanes feat.Black Eyed Peas]\n"
     ]
    },
    {
     "data": {
      "text/html": [
       "<div>\n",
       "<style scoped>\n",
       "    .dataframe tbody tr th:only-of-type {\n",
       "        vertical-align: middle;\n",
       "    }\n",
       "\n",
       "    .dataframe tbody tr th {\n",
       "        vertical-align: top;\n",
       "    }\n",
       "\n",
       "    .dataframe thead th {\n",
       "        text-align: right;\n",
       "    }\n",
       "</style>\n",
       "<table border=\"1\" class=\"dataframe\">\n",
       "  <thead>\n",
       "    <tr style=\"text-align: right;\">\n",
       "      <th></th>\n",
       "      <th>dot score</th>\n",
       "      <th>names</th>\n",
       "    </tr>\n",
       "  </thead>\n",
       "  <tbody>\n",
       "    <tr>\n",
       "      <th>283</th>\n",
       "      <td>1.513303</td>\n",
       "      <td>Britney Spears</td>\n",
       "    </tr>\n",
       "    <tr>\n",
       "      <th>282</th>\n",
       "      <td>1.117025</td>\n",
       "      <td>Rihanna</td>\n",
       "    </tr>\n",
       "    <tr>\n",
       "      <th>83</th>\n",
       "      <td>1.020691</td>\n",
       "      <td>Lady Gaga</td>\n",
       "    </tr>\n",
       "    <tr>\n",
       "      <th>66</th>\n",
       "      <td>0.988980</td>\n",
       "      <td>Depeche Mode</td>\n",
       "    </tr>\n",
       "    <tr>\n",
       "      <th>286</th>\n",
       "      <td>0.855596</td>\n",
       "      <td>Christina Aguilera</td>\n",
       "    </tr>\n",
       "    <tr>\n",
       "      <th>338</th>\n",
       "      <td>0.799291</td>\n",
       "      <td>Taylor Swift</td>\n",
       "    </tr>\n",
       "  </tbody>\n",
       "</table>\n",
       "</div>"
      ],
      "text/plain": [
       "     dot score               names\n",
       "283   1.513303      Britney Spears\n",
       "282   1.117025             Rihanna\n",
       "83    1.020691           Lady Gaga\n",
       "66    0.988980        Depeche Mode\n",
       "286   0.855596  Christina Aguilera\n",
       "338   0.799291        Taylor Swift"
      ]
     },
     "metadata": {},
     "output_type": "display_data"
    },
    {
     "name": "stdout",
     "output_type": "stream",
     "text": [
      "Nearest neighbors of : Black Eyed Peas.\n",
      "[Found more than one matching artist. Other candidates: The Black Eyed Peas, Juanes feat.Black Eyed Peas]\n"
     ]
    },
    {
     "data": {
      "text/html": [
       "<div>\n",
       "<style scoped>\n",
       "    .dataframe tbody tr th:only-of-type {\n",
       "        vertical-align: middle;\n",
       "    }\n",
       "\n",
       "    .dataframe tbody tr th {\n",
       "        vertical-align: top;\n",
       "    }\n",
       "\n",
       "    .dataframe thead th {\n",
       "        text-align: right;\n",
       "    }\n",
       "</style>\n",
       "<table border=\"1\" class=\"dataframe\">\n",
       "  <thead>\n",
       "    <tr style=\"text-align: right;\">\n",
       "      <th></th>\n",
       "      <th>cosine score</th>\n",
       "      <th>names</th>\n",
       "    </tr>\n",
       "  </thead>\n",
       "  <tbody>\n",
       "    <tr>\n",
       "      <th>300</th>\n",
       "      <td>1.000000</td>\n",
       "      <td>Black Eyed Peas</td>\n",
       "    </tr>\n",
       "    <tr>\n",
       "      <th>343</th>\n",
       "      <td>0.868265</td>\n",
       "      <td>The Pussycat Dolls</td>\n",
       "    </tr>\n",
       "    <tr>\n",
       "      <th>336</th>\n",
       "      <td>0.847331</td>\n",
       "      <td>Colbie Caillat</td>\n",
       "    </tr>\n",
       "    <tr>\n",
       "      <th>287</th>\n",
       "      <td>0.826126</td>\n",
       "      <td>Ashlee Simpson</td>\n",
       "    </tr>\n",
       "    <tr>\n",
       "      <th>317</th>\n",
       "      <td>0.810750</td>\n",
       "      <td>The Saturdays</td>\n",
       "    </tr>\n",
       "    <tr>\n",
       "      <th>314</th>\n",
       "      <td>0.809650</td>\n",
       "      <td>Fergie</td>\n",
       "    </tr>\n",
       "  </tbody>\n",
       "</table>\n",
       "</div>"
      ],
      "text/plain": [
       "     cosine score               names\n",
       "300      1.000000     Black Eyed Peas\n",
       "343      0.868265  The Pussycat Dolls\n",
       "336      0.847331      Colbie Caillat\n",
       "287      0.826126      Ashlee Simpson\n",
       "317      0.810750       The Saturdays\n",
       "314      0.809650              Fergie"
      ]
     },
     "metadata": {},
     "output_type": "display_data"
    },
    {
     "name": "stdout",
     "output_type": "stream",
     "text": [
      "Nearest neighbors of : Rihanna.\n",
      "[Found more than one matching artist. Other candidates: Rihanna (feat. Drake), Jay-Z, Bono, The Edge & Rihanna, RihannaÌ€, Sean Paul ft. Rihanna, Rihanna-remixado REnan, \\Eminem f_ Rihanna]\n"
     ]
    },
    {
     "data": {
      "text/html": [
       "<div>\n",
       "<style scoped>\n",
       "    .dataframe tbody tr th:only-of-type {\n",
       "        vertical-align: middle;\n",
       "    }\n",
       "\n",
       "    .dataframe tbody tr th {\n",
       "        vertical-align: top;\n",
       "    }\n",
       "\n",
       "    .dataframe thead th {\n",
       "        text-align: right;\n",
       "    }\n",
       "</style>\n",
       "<table border=\"1\" class=\"dataframe\">\n",
       "  <thead>\n",
       "    <tr style=\"text-align: right;\">\n",
       "      <th></th>\n",
       "      <th>dot score</th>\n",
       "      <th>names</th>\n",
       "    </tr>\n",
       "  </thead>\n",
       "  <tbody>\n",
       "    <tr>\n",
       "      <th>282</th>\n",
       "      <td>5.163428</td>\n",
       "      <td>Rihanna</td>\n",
       "    </tr>\n",
       "    <tr>\n",
       "      <th>283</th>\n",
       "      <td>3.511128</td>\n",
       "      <td>Britney Spears</td>\n",
       "    </tr>\n",
       "    <tr>\n",
       "      <th>66</th>\n",
       "      <td>3.286510</td>\n",
       "      <td>Depeche Mode</td>\n",
       "    </tr>\n",
       "    <tr>\n",
       "      <th>83</th>\n",
       "      <td>3.016233</td>\n",
       "      <td>Lady Gaga</td>\n",
       "    </tr>\n",
       "    <tr>\n",
       "      <th>338</th>\n",
       "      <td>2.232560</td>\n",
       "      <td>Taylor Swift</td>\n",
       "    </tr>\n",
       "    <tr>\n",
       "      <th>673</th>\n",
       "      <td>2.056847</td>\n",
       "      <td>Glee Cast</td>\n",
       "    </tr>\n",
       "  </tbody>\n",
       "</table>\n",
       "</div>"
      ],
      "text/plain": [
       "     dot score           names\n",
       "282   5.163428         Rihanna\n",
       "283   3.511128  Britney Spears\n",
       "66    3.286510    Depeche Mode\n",
       "83    3.016233       Lady Gaga\n",
       "338   2.232560    Taylor Swift\n",
       "673   2.056847       Glee Cast"
      ]
     },
     "metadata": {},
     "output_type": "display_data"
    },
    {
     "name": "stdout",
     "output_type": "stream",
     "text": [
      "Nearest neighbors of : Rihanna.\n",
      "[Found more than one matching artist. Other candidates: Rihanna (feat. Drake), Jay-Z, Bono, The Edge & Rihanna, RihannaÌ€, Sean Paul ft. Rihanna, Rihanna-remixado REnan, \\Eminem f_ Rihanna]\n"
     ]
    },
    {
     "data": {
      "text/html": [
       "<div>\n",
       "<style scoped>\n",
       "    .dataframe tbody tr th:only-of-type {\n",
       "        vertical-align: middle;\n",
       "    }\n",
       "\n",
       "    .dataframe tbody tr th {\n",
       "        vertical-align: top;\n",
       "    }\n",
       "\n",
       "    .dataframe thead th {\n",
       "        text-align: right;\n",
       "    }\n",
       "</style>\n",
       "<table border=\"1\" class=\"dataframe\">\n",
       "  <thead>\n",
       "    <tr style=\"text-align: right;\">\n",
       "      <th></th>\n",
       "      <th>cosine score</th>\n",
       "      <th>names</th>\n",
       "    </tr>\n",
       "  </thead>\n",
       "  <tbody>\n",
       "    <tr>\n",
       "      <th>282</th>\n",
       "      <td>1.000000</td>\n",
       "      <td>Rihanna</td>\n",
       "    </tr>\n",
       "    <tr>\n",
       "      <th>346</th>\n",
       "      <td>0.739779</td>\n",
       "      <td>Cheryl Cole</td>\n",
       "    </tr>\n",
       "    <tr>\n",
       "      <th>380</th>\n",
       "      <td>0.713973</td>\n",
       "      <td>Cascada</td>\n",
       "    </tr>\n",
       "    <tr>\n",
       "      <th>300</th>\n",
       "      <td>0.705280</td>\n",
       "      <td>Black Eyed Peas</td>\n",
       "    </tr>\n",
       "    <tr>\n",
       "      <th>458</th>\n",
       "      <td>0.705221</td>\n",
       "      <td>3OH!3</td>\n",
       "    </tr>\n",
       "    <tr>\n",
       "      <th>321</th>\n",
       "      <td>0.678683</td>\n",
       "      <td>Chris Brown</td>\n",
       "    </tr>\n",
       "  </tbody>\n",
       "</table>\n",
       "</div>"
      ],
      "text/plain": [
       "     cosine score            names\n",
       "282      1.000000          Rihanna\n",
       "346      0.739779      Cheryl Cole\n",
       "380      0.713973          Cascada\n",
       "300      0.705280  Black Eyed Peas\n",
       "458      0.705221            3OH!3\n",
       "321      0.678683      Chris Brown"
      ]
     },
     "metadata": {},
     "output_type": "display_data"
    },
    {
     "name": "stdout",
     "output_type": "stream",
     "text": [
      "Nearest neighbors of : Gwen Stefani.\n",
      "[Found more than one matching artist. Other candidates: Panic! at the Disco feat. Britney Spears and Gwen Stefani]\n"
     ]
    },
    {
     "data": {
      "text/html": [
       "<div>\n",
       "<style scoped>\n",
       "    .dataframe tbody tr th:only-of-type {\n",
       "        vertical-align: middle;\n",
       "    }\n",
       "\n",
       "    .dataframe tbody tr th {\n",
       "        vertical-align: top;\n",
       "    }\n",
       "\n",
       "    .dataframe thead th {\n",
       "        text-align: right;\n",
       "    }\n",
       "</style>\n",
       "<table border=\"1\" class=\"dataframe\">\n",
       "  <thead>\n",
       "    <tr style=\"text-align: right;\">\n",
       "      <th></th>\n",
       "      <th>dot score</th>\n",
       "      <th>names</th>\n",
       "    </tr>\n",
       "  </thead>\n",
       "  <tbody>\n",
       "    <tr>\n",
       "      <th>283</th>\n",
       "      <td>1.207806</td>\n",
       "      <td>Britney Spears</td>\n",
       "    </tr>\n",
       "    <tr>\n",
       "      <th>61</th>\n",
       "      <td>1.098422</td>\n",
       "      <td>Madonna</td>\n",
       "    </tr>\n",
       "    <tr>\n",
       "      <th>83</th>\n",
       "      <td>1.024359</td>\n",
       "      <td>Lady Gaga</td>\n",
       "    </tr>\n",
       "    <tr>\n",
       "      <th>286</th>\n",
       "      <td>0.875029</td>\n",
       "      <td>Christina Aguilera</td>\n",
       "    </tr>\n",
       "    <tr>\n",
       "      <th>66</th>\n",
       "      <td>0.825051</td>\n",
       "      <td>Depeche Mode</td>\n",
       "    </tr>\n",
       "    <tr>\n",
       "      <th>49</th>\n",
       "      <td>0.720191</td>\n",
       "      <td>Kylie Minogue</td>\n",
       "    </tr>\n",
       "  </tbody>\n",
       "</table>\n",
       "</div>"
      ],
      "text/plain": [
       "     dot score               names\n",
       "283   1.207806      Britney Spears\n",
       "61    1.098422             Madonna\n",
       "83    1.024359           Lady Gaga\n",
       "286   0.875029  Christina Aguilera\n",
       "66    0.825051        Depeche Mode\n",
       "49    0.720191       Kylie Minogue"
      ]
     },
     "metadata": {},
     "output_type": "display_data"
    },
    {
     "name": "stdout",
     "output_type": "stream",
     "text": [
      "Nearest neighbors of : Gwen Stefani.\n",
      "[Found more than one matching artist. Other candidates: Panic! at the Disco feat. Britney Spears and Gwen Stefani]\n"
     ]
    },
    {
     "data": {
      "text/html": [
       "<div>\n",
       "<style scoped>\n",
       "    .dataframe tbody tr th:only-of-type {\n",
       "        vertical-align: middle;\n",
       "    }\n",
       "\n",
       "    .dataframe tbody tr th {\n",
       "        vertical-align: top;\n",
       "    }\n",
       "\n",
       "    .dataframe thead th {\n",
       "        text-align: right;\n",
       "    }\n",
       "</style>\n",
       "<table border=\"1\" class=\"dataframe\">\n",
       "  <thead>\n",
       "    <tr style=\"text-align: right;\">\n",
       "      <th></th>\n",
       "      <th>cosine score</th>\n",
       "      <th>names</th>\n",
       "    </tr>\n",
       "  </thead>\n",
       "  <tbody>\n",
       "    <tr>\n",
       "      <th>519</th>\n",
       "      <td>1.000000</td>\n",
       "      <td>Gwen Stefani</td>\n",
       "    </tr>\n",
       "    <tr>\n",
       "      <th>459</th>\n",
       "      <td>0.863260</td>\n",
       "      <td>Jessica Simpson</td>\n",
       "    </tr>\n",
       "    <tr>\n",
       "      <th>321</th>\n",
       "      <td>0.820368</td>\n",
       "      <td>Chris Brown</td>\n",
       "    </tr>\n",
       "    <tr>\n",
       "      <th>323</th>\n",
       "      <td>0.801937</td>\n",
       "      <td>Justin Timberlake</td>\n",
       "    </tr>\n",
       "    <tr>\n",
       "      <th>517</th>\n",
       "      <td>0.801173</td>\n",
       "      <td>Lindsay Lohan</td>\n",
       "    </tr>\n",
       "    <tr>\n",
       "      <th>304</th>\n",
       "      <td>0.796653</td>\n",
       "      <td>Nelly Furtado</td>\n",
       "    </tr>\n",
       "  </tbody>\n",
       "</table>\n",
       "</div>"
      ],
      "text/plain": [
       "     cosine score              names\n",
       "519      1.000000       Gwen Stefani\n",
       "459      0.863260    Jessica Simpson\n",
       "321      0.820368        Chris Brown\n",
       "323      0.801937  Justin Timberlake\n",
       "517      0.801173      Lindsay Lohan\n",
       "304      0.796653      Nelly Furtado"
      ]
     },
     "metadata": {},
     "output_type": "display_data"
    },
    {
     "name": "stdout",
     "output_type": "stream",
     "text": [
      "Nearest neighbors of : Eva Simons.\n",
      "[Found more than one matching artist. Other candidates: Afrojack ft. Eva Simons]\n"
     ]
    },
    {
     "data": {
      "text/html": [
       "<div>\n",
       "<style scoped>\n",
       "    .dataframe tbody tr th:only-of-type {\n",
       "        vertical-align: middle;\n",
       "    }\n",
       "\n",
       "    .dataframe tbody tr th {\n",
       "        vertical-align: top;\n",
       "    }\n",
       "\n",
       "    .dataframe thead th {\n",
       "        text-align: right;\n",
       "    }\n",
       "</style>\n",
       "<table border=\"1\" class=\"dataframe\">\n",
       "  <thead>\n",
       "    <tr style=\"text-align: right;\">\n",
       "      <th></th>\n",
       "      <th>dot score</th>\n",
       "      <th>names</th>\n",
       "    </tr>\n",
       "  </thead>\n",
       "  <tbody>\n",
       "    <tr>\n",
       "      <th>83</th>\n",
       "      <td>0.279938</td>\n",
       "      <td>Lady Gaga</td>\n",
       "    </tr>\n",
       "    <tr>\n",
       "      <th>283</th>\n",
       "      <td>0.277323</td>\n",
       "      <td>Britney Spears</td>\n",
       "    </tr>\n",
       "    <tr>\n",
       "      <th>289</th>\n",
       "      <td>0.233170</td>\n",
       "      <td>BeyoncÃ©</td>\n",
       "    </tr>\n",
       "    <tr>\n",
       "      <th>282</th>\n",
       "      <td>0.176514</td>\n",
       "      <td>Rihanna</td>\n",
       "    </tr>\n",
       "    <tr>\n",
       "      <th>251</th>\n",
       "      <td>0.160372</td>\n",
       "      <td>Mariah Carey</td>\n",
       "    </tr>\n",
       "    <tr>\n",
       "      <th>286</th>\n",
       "      <td>0.139491</td>\n",
       "      <td>Christina Aguilera</td>\n",
       "    </tr>\n",
       "  </tbody>\n",
       "</table>\n",
       "</div>"
      ],
      "text/plain": [
       "     dot score               names\n",
       "83    0.279938           Lady Gaga\n",
       "283   0.277323      Britney Spears\n",
       "289   0.233170            BeyoncÃ©\n",
       "282   0.176514             Rihanna\n",
       "251   0.160372        Mariah Carey\n",
       "286   0.139491  Christina Aguilera"
      ]
     },
     "metadata": {},
     "output_type": "display_data"
    },
    {
     "name": "stdout",
     "output_type": "stream",
     "text": [
      "Nearest neighbors of : Eva Simons.\n",
      "[Found more than one matching artist. Other candidates: Afrojack ft. Eva Simons]\n"
     ]
    },
    {
     "data": {
      "text/html": [
       "<div>\n",
       "<style scoped>\n",
       "    .dataframe tbody tr th:only-of-type {\n",
       "        vertical-align: middle;\n",
       "    }\n",
       "\n",
       "    .dataframe tbody tr th {\n",
       "        vertical-align: top;\n",
       "    }\n",
       "\n",
       "    .dataframe thead th {\n",
       "        text-align: right;\n",
       "    }\n",
       "</style>\n",
       "<table border=\"1\" class=\"dataframe\">\n",
       "  <thead>\n",
       "    <tr style=\"text-align: right;\">\n",
       "      <th></th>\n",
       "      <th>cosine score</th>\n",
       "      <th>names</th>\n",
       "    </tr>\n",
       "  </thead>\n",
       "  <tbody>\n",
       "    <tr>\n",
       "      <th>1432</th>\n",
       "      <td>1.000000</td>\n",
       "      <td>Eva Simons</td>\n",
       "    </tr>\n",
       "    <tr>\n",
       "      <th>6173</th>\n",
       "      <td>0.686086</td>\n",
       "      <td>Matt Costa</td>\n",
       "    </tr>\n",
       "    <tr>\n",
       "      <th>289</th>\n",
       "      <td>0.685343</td>\n",
       "      <td>BeyoncÃ©</td>\n",
       "    </tr>\n",
       "    <tr>\n",
       "      <th>5694</th>\n",
       "      <td>0.631218</td>\n",
       "      <td>Masacre</td>\n",
       "    </tr>\n",
       "    <tr>\n",
       "      <th>1143</th>\n",
       "      <td>0.614630</td>\n",
       "      <td>Fire Bomber</td>\n",
       "    </tr>\n",
       "    <tr>\n",
       "      <th>11784</th>\n",
       "      <td>0.595236</td>\n",
       "      <td>Me and My Dick Cast</td>\n",
       "    </tr>\n",
       "  </tbody>\n",
       "</table>\n",
       "</div>"
      ],
      "text/plain": [
       "       cosine score                names\n",
       "1432       1.000000           Eva Simons\n",
       "6173       0.686086           Matt Costa\n",
       "289        0.685343             BeyoncÃ©\n",
       "5694       0.631218              Masacre\n",
       "1143       0.614630          Fire Bomber\n",
       "11784      0.595236  Me and My Dick Cast"
      ]
     },
     "metadata": {},
     "output_type": "display_data"
    }
   ],
   "source": [
    "for art in range(len(artist_grp)):\n",
    "    artist_neighbors(reg_model, artist_grp[art], DOT)\n",
    "    artist_neighbors(reg_model, artist_grp[art], COSINE)"
   ]
  },
  {
   "cell_type": "markdown",
   "id": "d76da7b0",
   "metadata": {},
   "source": [
    "These are actually very good recommendations produced by our recommender system based off each users unique normalised values based on the highest listened value they obtained. Our reg_model is much superior on initial inspection than our standard model with much better recommendations all around."
   ]
  },
  {
   "cell_type": "code",
   "execution_count": 126,
   "id": "b7c85cd3",
   "metadata": {},
   "outputs": [],
   "source": [
    "import recmetrics"
   ]
  },
  {
   "cell_type": "code",
   "execution_count": 127,
   "id": "716cc766",
   "metadata": {},
   "outputs": [],
   "source": [
    "#tt = reg_model.train(num_iterations=2000, learning_rate=20.)\n",
    "#recmetrics.coverage_plot(model_names='tt', coverage_scores='played')"
   ]
  },
  {
   "cell_type": "markdown",
   "id": "4fe4e306",
   "metadata": {},
   "source": [
    "# Alternate method - Recommender based on Neural Network"
   ]
  },
  {
   "cell_type": "markdown",
   "id": "daab35d1",
   "metadata": {},
   "source": [
    "Here we will try to implement another type of recommender system and see does it produce equally as good of results. Our alternate model is based off a neural network to make predictions for users based off listening numbers. As per this article on [Investopedia](https://www.investopedia.com/terms/n/neuralnetwork.asp#:~:text=A%20neural%20network%20is%20a,way%20the%20human%20brain%20operates.&text=Neural%20networks%20can%20adapt%20to,to%20redesign%20the%20output%20criteria.) , a neural network is a series of algorithms that endeavors to recognize underlying relationships in a set of data through a process that mimics the way the human brain operates. Neural networks can adapt to changing input; so the network generates the best possible result without needing to redesign the output criteria. This will help us uncover any listening patterns found in our data by users."
   ]
  },
  {
   "cell_type": "code",
   "execution_count": 128,
   "id": "48ff59c9",
   "metadata": {},
   "outputs": [],
   "source": [
    "sub = played[['userID', 'artID', 'playedUserNorm']]"
   ]
  },
  {
   "cell_type": "code",
   "execution_count": 129,
   "id": "5ec8c7f0",
   "metadata": {},
   "outputs": [
    {
     "data": {
      "text/html": [
       "<div>\n",
       "<style scoped>\n",
       "    .dataframe tbody tr th:only-of-type {\n",
       "        vertical-align: middle;\n",
       "    }\n",
       "\n",
       "    .dataframe tbody tr th {\n",
       "        vertical-align: top;\n",
       "    }\n",
       "\n",
       "    .dataframe thead th {\n",
       "        text-align: right;\n",
       "    }\n",
       "</style>\n",
       "<table border=\"1\" class=\"dataframe\">\n",
       "  <thead>\n",
       "    <tr style=\"text-align: right;\">\n",
       "      <th></th>\n",
       "      <th>userID</th>\n",
       "      <th>artID</th>\n",
       "      <th>playedUserNorm</th>\n",
       "    </tr>\n",
       "  </thead>\n",
       "  <tbody>\n",
       "    <tr>\n",
       "      <th>0</th>\n",
       "      <td>31</td>\n",
       "      <td>0</td>\n",
       "      <td>0.055775</td>\n",
       "    </tr>\n",
       "    <tr>\n",
       "      <th>1</th>\n",
       "      <td>256</td>\n",
       "      <td>0</td>\n",
       "      <td>0.065394</td>\n",
       "    </tr>\n",
       "    <tr>\n",
       "      <th>2</th>\n",
       "      <td>729</td>\n",
       "      <td>0</td>\n",
       "      <td>0.025149</td>\n",
       "    </tr>\n",
       "    <tr>\n",
       "      <th>3</th>\n",
       "      <td>130</td>\n",
       "      <td>1</td>\n",
       "      <td>0.150902</td>\n",
       "    </tr>\n",
       "    <tr>\n",
       "      <th>4</th>\n",
       "      <td>240</td>\n",
       "      <td>1</td>\n",
       "      <td>0.154315</td>\n",
       "    </tr>\n",
       "  </tbody>\n",
       "</table>\n",
       "</div>"
      ],
      "text/plain": [
       "   userID  artID  playedUserNorm\n",
       "0      31      0        0.055775\n",
       "1     256      0        0.065394\n",
       "2     729      0        0.025149\n",
       "3     130      1        0.150902\n",
       "4     240      1        0.154315"
      ]
     },
     "execution_count": 129,
     "metadata": {},
     "output_type": "execute_result"
    }
   ],
   "source": [
    "sub.head()"
   ]
  },
  {
   "cell_type": "code",
   "execution_count": 130,
   "id": "d918f570",
   "metadata": {},
   "outputs": [],
   "source": [
    "train, test = train_test_split(sub, test_size=0.3, train_size=0.7)"
   ]
  },
  {
   "cell_type": "code",
   "execution_count": 133,
   "id": "fa392270",
   "metadata": {},
   "outputs": [
    {
     "data": {
      "text/plain": [
       "1892"
      ]
     },
     "execution_count": 133,
     "metadata": {},
     "output_type": "execute_result"
    }
   ],
   "source": [
    "n_users = len(sub.userID.unique())\n",
    "n_users"
   ]
  },
  {
   "cell_type": "code",
   "execution_count": 134,
   "id": "0325210f",
   "metadata": {},
   "outputs": [
    {
     "data": {
      "text/plain": [
       "17632"
      ]
     },
     "execution_count": 134,
     "metadata": {},
     "output_type": "execute_result"
    }
   ],
   "source": [
    "n_artist = len(sub.artID.unique())\n",
    "n_artist"
   ]
  },
  {
   "cell_type": "code",
   "execution_count": 135,
   "id": "74ac60ab",
   "metadata": {},
   "outputs": [],
   "source": [
    "# creating artist embedding path\n",
    "artist_input = Input(shape=[1], name=\"Artist-Input\")\n",
    "artist_embedding = Embedding(n_artist + 1, 5, name=\"Artist-Embedding\")(artist_input)\n",
    "artist_vec = Flatten(name=\"Flatten-Artist\")(artist_embedding)\n",
    "\n",
    "# creating user embedding path\n",
    "user_input = Input(shape=[1], name=\"User-Input\")\n",
    "user_embedding = Embedding(n_users + 1, 5, name=\"User-Embedding\")(user_input)\n",
    "user_vec = Flatten(name=\"Flatten-Users\")(user_embedding)\n",
    "\n",
    "# performing dot product and creating model\n",
    "prod = Dot(name=\"Dot-Product\", axes=1)([artist_vec, user_vec])\n",
    "model = Model([user_input, artist_input], prod)\n",
    "model.compile('adam', 'mean_squared_error')"
   ]
  },
  {
   "cell_type": "code",
   "execution_count": 136,
   "id": "5442969c",
   "metadata": {},
   "outputs": [],
   "source": [
    "from keras.models import load_model\n",
    "\n",
    "if os.path.exists('regression_model.h5'):\n",
    "    model = load_model('regression_model.h5')\n",
    "else:\n",
    "    history = model.fit([train.userID, train.artID], train.playedUserNorm, epochs=5, verbose=1)\n",
    "    model.save('regression_model.h5')\n",
    "    plt.plot(history.history['loss'])\n",
    "    plt.xlabel(\"Epochs\")\n",
    "    plt.ylabel(\"Training Error\")"
   ]
  },
  {
   "cell_type": "code",
   "execution_count": 137,
   "id": "d55e6f86",
   "metadata": {},
   "outputs": [
    {
     "data": {
      "text/plain": [
       "11.429469593123153"
      ]
     },
     "execution_count": 137,
     "metadata": {},
     "output_type": "execute_result"
    }
   ],
   "source": [
    "model.evaluate([test.userID, test.artID], test.playedUserNorm)"
   ]
  },
  {
   "cell_type": "code",
   "execution_count": 138,
   "id": "e1e1b9e8",
   "metadata": {},
   "outputs": [
    {
     "name": "stdout",
     "output_type": "stream",
     "text": [
      "[1.3035811] 0.14639529180971064\n",
      "[5.722515] 0.0687221396731055\n",
      "[2.5226977] 0.23204689789936492\n",
      "[1.1344862] 0.0730816077953715\n",
      "[-0.06297127] 0.02364066193853428\n",
      "[7.122921] 0.08571974035891562\n",
      "[5.270552] 0.06682158778336338\n",
      "[4.7006917] 0.49617151607963245\n",
      "[2.358046] 0.4305555555555556\n",
      "[1.2106142] 0.4888888888888889\n"
     ]
    },
    {
     "data": {
      "text/plain": [
       "[None, None, None, None, None, None, None, None, None, None]"
      ]
     },
     "execution_count": 138,
     "metadata": {},
     "output_type": "execute_result"
    }
   ],
   "source": [
    "predictions = model.predict([test.userID.head(10), test.artID.head(10)])\n",
    "\n",
    "[print(predictions[i], test.playedUserNorm.iloc[i]) for i in range(0,10)]"
   ]
  },
  {
   "cell_type": "markdown",
   "id": "6486925c",
   "metadata": {},
   "source": [
    "# Neural Network"
   ]
  },
  {
   "cell_type": "code",
   "execution_count": 139,
   "id": "358de26b",
   "metadata": {},
   "outputs": [],
   "source": [
    "# creating book embedding path\n",
    "artist_input = Input(shape=[1], name=\"Artist-Input\")\n",
    "artist_embedding = Embedding(n_artist + 1, 5, name=\"Artist-Embedding\")(artist_input)\n",
    "artist_vec = Flatten(name=\"Flatten-Artists\")(artist_embedding)\n",
    "\n",
    "# creating user embedding path\n",
    "user_input = Input(shape=[1], name=\"User-Input\")\n",
    "user_embedding = Embedding(n_users + 1, 5, name=\"User-Embedding\")(user_input)\n",
    "user_vec = Flatten(name=\"Flatten-Users\")(user_embedding)\n",
    "\n",
    "# concatenate features\n",
    "conc = Concatenate()([artist_vec, user_vec])\n",
    "\n",
    "# add fully-connected-layers\n",
    "fc1 = Dense(128, activation='relu')(conc)\n",
    "fc2 = Dense(32, activation='relu')(fc1)\n",
    "out = Dense(1)(fc2)\n",
    "\n",
    "# Create model and compile it\n",
    "model2 = Model([user_input, artist_input], out)\n",
    "model2.compile('adam', 'mean_squared_error')"
   ]
  },
  {
   "cell_type": "code",
   "execution_count": 140,
   "id": "0ed0d497",
   "metadata": {},
   "outputs": [],
   "source": [
    "from keras.models import load_model\n",
    "\n",
    "if os.path.exists('regression_model2.h5'):\n",
    "    model2 = load_model('regression_model2.h5')\n",
    "else:\n",
    "    history = model2.fit([train.userID, train.artID], train.playedUserNorm, epochs=5, verbose=1)\n",
    "    model2.save('regression_model2.h5')\n",
    "    plt.plot(history.history['loss'])\n",
    "    plt.xlabel(\"Epochs\")\n",
    "    plt.ylabel(\"Training Error\")"
   ]
  },
  {
   "cell_type": "code",
   "execution_count": 141,
   "id": "65147267",
   "metadata": {},
   "outputs": [
    {
     "data": {
      "text/plain": [
       "1934263.1482711572"
      ]
     },
     "execution_count": 141,
     "metadata": {},
     "output_type": "execute_result"
    }
   ],
   "source": [
    "model2.evaluate([test.userID, test.artID], test.playedUserNorm)"
   ]
  },
  {
   "cell_type": "code",
   "execution_count": 142,
   "id": "41d82ff9",
   "metadata": {},
   "outputs": [
    {
     "name": "stdout",
     "output_type": "stream",
     "text": [
      "[2481.7197] 0.14639529180971064\n",
      "[1026.1852] 0.0687221396731055\n",
      "[236.44543] 0.23204689789936492\n",
      "[640.5943] 0.0730816077953715\n",
      "[264.38745] 0.02364066193853428\n",
      "[284.46906] 0.08571974035891562\n",
      "[250.13684] 0.06682158778336338\n",
      "[1146.5778] 0.49617151607963245\n",
      "[273.35706] 0.4305555555555556\n",
      "[265.46265] 0.4888888888888889\n"
     ]
    },
    {
     "data": {
      "text/plain": [
       "[None, None, None, None, None, None, None, None, None, None]"
      ]
     },
     "execution_count": 142,
     "metadata": {},
     "output_type": "execute_result"
    }
   ],
   "source": [
    "predictions = model2.predict([test.userID.head(10), test.artID.head(10)])\n",
    "\n",
    "[print(predictions[i], test.playedUserNorm.iloc[i]) for i in range(0,10)]"
   ]
  },
  {
   "cell_type": "markdown",
   "id": "16b92489",
   "metadata": {},
   "source": [
    "# Visualizing Embeddings"
   ]
  },
  {
   "cell_type": "markdown",
   "id": "85467c08",
   "metadata": {},
   "source": [
    "Next, we will visualize our artist embeddings. As per this article [here](https://towardsdatascience.com/recommender-systems-from-learned-embeddings-f1d12288f278), embeddings can be defined as \"vector representations of an entity. Each item in the vector represents a feature or a combination of features for that entity\"."
   ]
  },
  {
   "cell_type": "code",
   "execution_count": 143,
   "id": "1727d913",
   "metadata": {},
   "outputs": [],
   "source": [
    "# Extract embeddings\n",
    "artist_em = model.get_layer(\"Artist-Embedding\")\n",
    "artist_em_weights = artist_em.get_weights()[0]"
   ]
  },
  {
   "cell_type": "code",
   "execution_count": 144,
   "id": "cb016b45",
   "metadata": {},
   "outputs": [
    {
     "data": {
      "text/plain": [
       "array([[ 0.04103883, -0.2710777 ,  0.28193265,  0.01121594, -0.21962109],\n",
       "       [ 0.42227656, -0.44878516,  0.46648487, -0.12221594, -0.40105212],\n",
       "       [-0.18079431, -0.13342255,  0.1553544 , -0.3333101 , -0.00778394],\n",
       "       [ 0.150518  , -0.19249448,  0.1592992 ,  0.12258738, -0.12723902],\n",
       "       [ 0.2513393 , -0.21272472,  0.1814355 , -0.22018886, -0.13649407]],\n",
       "      dtype=float32)"
      ]
     },
     "execution_count": 144,
     "metadata": {},
     "output_type": "execute_result"
    }
   ],
   "source": [
    "artist_em_weights[:5]"
   ]
  },
  {
   "cell_type": "code",
   "execution_count": 145,
   "id": "4d52fb49",
   "metadata": {},
   "outputs": [
    {
     "data": {
      "text/plain": [
       "<AxesSubplot:>"
      ]
     },
     "execution_count": 145,
     "metadata": {},
     "output_type": "execute_result"
    },
    {
     "data": {
      "image/png": "[encoded data removed]",
      "text/plain": [
       "<Figure size 432x288 with 1 Axes>"
      ]
     },
     "metadata": {
      "needs_background": "light"
     },
     "output_type": "display_data"
    }
   ],
   "source": [
    "from sklearn.decomposition import PCA\n",
    "import seaborn as sns\n",
    "\n",
    "pca = PCA(n_components=2)\n",
    "pca_result = pca.fit_transform(artist_em_weights)\n",
    "sns.scatterplot(x=pca_result[:,0], y=pca_result[:,1])"
   ]
  },
  {
   "cell_type": "code",
   "execution_count": 146,
   "id": "8eddbb66",
   "metadata": {},
   "outputs": [
    {
     "data": {
      "text/plain": [
       "1.0"
      ]
     },
     "execution_count": 146,
     "metadata": {},
     "output_type": "execute_result"
    }
   ],
   "source": [
    "artist_em_weights = artist_em_weights / np.linalg.norm(artist_em_weights, axis = 1).reshape((-1, 1))\n",
    "artist_em_weights[0][:10]\n",
    "np.sum(np.square(artist_em_weights[0]))"
   ]
  },
  {
   "cell_type": "code",
   "execution_count": 147,
   "id": "129e3135",
   "metadata": {},
   "outputs": [
    {
     "data": {
      "text/plain": [
       "<AxesSubplot:>"
      ]
     },
     "execution_count": 147,
     "metadata": {},
     "output_type": "execute_result"
    },
    {
     "data": {
      "image/png": "[encoded data removed]",
      "text/plain": [
       "<Figure size 432x288 with 1 Axes>"
      ]
     },
     "metadata": {
      "needs_background": "light"
     },
     "output_type": "display_data"
    }
   ],
   "source": [
    "pca = PCA(n_components=2)\n",
    "pca_result = pca.fit_transform(artist_em_weights)\n",
    "sns.scatterplot(x=pca_result[:,0], y=pca_result[:,1])"
   ]
  },
  {
   "cell_type": "code",
   "execution_count": 148,
   "id": "f6e9d8c3",
   "metadata": {},
   "outputs": [
    {
     "name": "stdout",
     "output_type": "stream",
     "text": [
      "[t-SNE] Computing 121 nearest neighbors...\n",
      "[t-SNE] Indexed 17633 samples in 0.046s...\n",
      "[t-SNE] Computed neighbors for 17633 samples in 1.539s...\n",
      "[t-SNE] Computed conditional probabilities for sample 1000 / 17633\n",
      "[t-SNE] Computed conditional probabilities for sample 2000 / 17633\n",
      "[t-SNE] Computed conditional probabilities for sample 3000 / 17633\n",
      "[t-SNE] Computed conditional probabilities for sample 4000 / 17633\n",
      "[t-SNE] Computed conditional probabilities for sample 5000 / 17633\n",
      "[t-SNE] Computed conditional probabilities for sample 6000 / 17633\n",
      "[t-SNE] Computed conditional probabilities for sample 7000 / 17633\n",
      "[t-SNE] Computed conditional probabilities for sample 8000 / 17633\n",
      "[t-SNE] Computed conditional probabilities for sample 9000 / 17633\n",
      "[t-SNE] Computed conditional probabilities for sample 10000 / 17633\n",
      "[t-SNE] Computed conditional probabilities for sample 11000 / 17633\n",
      "[t-SNE] Computed conditional probabilities for sample 12000 / 17633\n",
      "[t-SNE] Computed conditional probabilities for sample 13000 / 17633\n",
      "[t-SNE] Computed conditional probabilities for sample 14000 / 17633\n",
      "[t-SNE] Computed conditional probabilities for sample 15000 / 17633\n",
      "[t-SNE] Computed conditional probabilities for sample 16000 / 17633\n",
      "[t-SNE] Computed conditional probabilities for sample 17000 / 17633\n",
      "[t-SNE] Computed conditional probabilities for sample 17633 / 17633\n",
      "[t-SNE] Mean sigma: 0.059542\n",
      "[t-SNE] KL divergence after 250 iterations with early exaggeration: 85.200150\n",
      "[t-SNE] KL divergence after 300 iterations: 3.422852\n"
     ]
    }
   ],
   "source": [
    "from sklearn.manifold import TSNE\n",
    "\n",
    "tsne = TSNE(n_components=2, verbose=1, perplexity=40, n_iter=300)\n",
    "tnse_results = tsne.fit_transform(artist_em_weights)"
   ]
  },
  {
   "cell_type": "code",
   "execution_count": 149,
   "id": "863e3b9a",
   "metadata": {},
   "outputs": [
    {
     "data": {
      "text/plain": [
       "<AxesSubplot:>"
      ]
     },
     "execution_count": 149,
     "metadata": {},
     "output_type": "execute_result"
    },
    {
     "data": {
      "image/png": "[encoded data removed]",
      "text/plain": [
       "<Figure size 432x288 with 1 Axes>"
      ]
     },
     "metadata": {
      "needs_background": "light"
     },
     "output_type": "display_data"
    }
   ],
   "source": [
    "sns.scatterplot(x=tnse_results[:,0], y=tnse_results[:,1])"
   ]
  },
  {
   "cell_type": "markdown",
   "id": "319dc8f9",
   "metadata": {},
   "source": [
    "# Making Recommendations"
   ]
  },
  {
   "cell_type": "code",
   "execution_count": 150,
   "id": "f938eeb5",
   "metadata": {},
   "outputs": [
    {
     "data": {
      "text/plain": [
       "array([    0,     1,     2, ..., 17629, 17630, 17631])"
      ]
     },
     "execution_count": 150,
     "metadata": {},
     "output_type": "execute_result"
    }
   ],
   "source": [
    "# Creating dataset for making recommendations for a user\n",
    "artist_data = np.array(list(set(sub.artID)))\n",
    "artist_data"
   ]
  },
  {
   "cell_type": "markdown",
   "id": "8f713eef",
   "metadata": {},
   "source": [
    "Let's pick a random user to generate recommendations for. We will go with the user of ID equalling 83."
   ]
  },
  {
   "cell_type": "code",
   "execution_count": 151,
   "id": "2c42c40e",
   "metadata": {},
   "outputs": [
    {
     "data": {
      "text/plain": [
       "array([83, 83, 83, ..., 83, 83, 83])"
      ]
     },
     "execution_count": 151,
     "metadata": {},
     "output_type": "execute_result"
    }
   ],
   "source": [
    "user = np.array([83 for i in range(len(artist_data))])\n",
    "user"
   ]
  },
  {
   "cell_type": "code",
   "execution_count": 152,
   "id": "8d3f4773",
   "metadata": {},
   "outputs": [
    {
     "data": {
      "text/plain": [
       "array([8131, 8135, 8324, 2754, 8139, 8317, 8151, 8136, 8315, 2729],\n",
       "      dtype=int64)"
      ]
     },
     "execution_count": 152,
     "metadata": {},
     "output_type": "execute_result"
    }
   ],
   "source": [
    "predictions = model.predict([user, artist_data])\n",
    "\n",
    "predictions = np.array([a[0] for a in predictions])\n",
    "\n",
    "recommended_artist_ids = (predictions).argsort()[:10]\n",
    "\n",
    "recommended_artist_ids"
   ]
  },
  {
   "cell_type": "code",
   "execution_count": 153,
   "id": "0cbdee13",
   "metadata": {},
   "outputs": [
    {
     "data": {
      "text/plain": [
       "array([-1.1105492 , -1.0870131 , -1.0431927 , -0.9887378 , -0.98679465,\n",
       "       -0.9674966 , -0.9587735 , -0.9441766 , -0.9026226 , -0.89995944],\n",
       "      dtype=float32)"
      ]
     },
     "execution_count": 153,
     "metadata": {},
     "output_type": "execute_result"
    }
   ],
   "source": [
    "predictions[recommended_artist_ids]"
   ]
  },
  {
   "cell_type": "code",
   "execution_count": 154,
   "id": "280831a1",
   "metadata": {},
   "outputs": [
    {
     "data": {
      "text/html": [
       "<div>\n",
       "<style scoped>\n",
       "    .dataframe tbody tr th:only-of-type {\n",
       "        vertical-align: middle;\n",
       "    }\n",
       "\n",
       "    .dataframe tbody tr th {\n",
       "        vertical-align: top;\n",
       "    }\n",
       "\n",
       "    .dataframe thead th {\n",
       "        text-align: right;\n",
       "    }\n",
       "</style>\n",
       "<table border=\"1\" class=\"dataframe\">\n",
       "  <thead>\n",
       "    <tr style=\"text-align: right;\">\n",
       "      <th></th>\n",
       "      <th>name</th>\n",
       "      <th>url</th>\n",
       "      <th>pictureURL</th>\n",
       "      <th>artID</th>\n",
       "    </tr>\n",
       "  </thead>\n",
       "  <tbody>\n",
       "    <tr>\n",
       "      <th>2729</th>\n",
       "      <td>Deathspell Omega</td>\n",
       "      <td>http://www.last.fm/music/Deathspell+Omega</td>\n",
       "      <td>http://userserve-ak.last.fm/serve/252/54245367...</td>\n",
       "      <td>2729</td>\n",
       "    </tr>\n",
       "    <tr>\n",
       "      <th>2754</th>\n",
       "      <td>Dark Funeral</td>\n",
       "      <td>http://www.last.fm/music/Dark+Funeral</td>\n",
       "      <td>http://userserve-ak.last.fm/serve/252/13074411...</td>\n",
       "      <td>2754</td>\n",
       "    </tr>\n",
       "    <tr>\n",
       "      <th>8131</th>\n",
       "      <td>Nahash</td>\n",
       "      <td>http://www.last.fm/music/Nahash</td>\n",
       "      <td>http://userserve-ak.last.fm/serve/252/93322.jpg</td>\n",
       "      <td>8131</td>\n",
       "    </tr>\n",
       "    <tr>\n",
       "      <th>8135</th>\n",
       "      <td>Krabaras</td>\n",
       "      <td>http://www.last.fm/music/Krabaras</td>\n",
       "      <td>http://userserve-ak.last.fm/serve/252/44372179...</td>\n",
       "      <td>8135</td>\n",
       "    </tr>\n",
       "    <tr>\n",
       "      <th>8136</th>\n",
       "      <td>DiktatÅ«ra</td>\n",
       "      <td>http://www.last.fm/music/Diktat%C5%ABra</td>\n",
       "      <td>http://userserve-ak.last.fm/serve/252/165489.jpg</td>\n",
       "      <td>8136</td>\n",
       "    </tr>\n",
       "    <tr>\n",
       "      <th>8139</th>\n",
       "      <td>Luctus</td>\n",
       "      <td>http://www.last.fm/music/Luctus</td>\n",
       "      <td>http://userserve-ak.last.fm/serve/252/8688989.jpg</td>\n",
       "      <td>8139</td>\n",
       "    </tr>\n",
       "    <tr>\n",
       "      <th>8151</th>\n",
       "      <td>Anubi</td>\n",
       "      <td>http://www.last.fm/music/Anubi</td>\n",
       "      <td>http://userserve-ak.last.fm/serve/252/27058983...</td>\n",
       "      <td>8151</td>\n",
       "    </tr>\n",
       "    <tr>\n",
       "      <th>8315</th>\n",
       "      <td>Gallhammer</td>\n",
       "      <td>http://www.last.fm/music/Gallhammer</td>\n",
       "      <td>http://userserve-ak.last.fm/serve/252/607745.jpg</td>\n",
       "      <td>8315</td>\n",
       "    </tr>\n",
       "    <tr>\n",
       "      <th>8317</th>\n",
       "      <td>Ossastorium</td>\n",
       "      <td>http://www.last.fm/music/Ossastorium</td>\n",
       "      <td>http://userserve-ak.last.fm/serve/252/51798.jpg</td>\n",
       "      <td>8317</td>\n",
       "    </tr>\n",
       "    <tr>\n",
       "      <th>8324</th>\n",
       "      <td>Dissimulation</td>\n",
       "      <td>http://www.last.fm/music/Dissimulation</td>\n",
       "      <td>http://userserve-ak.last.fm/serve/252/16340589...</td>\n",
       "      <td>8324</td>\n",
       "    </tr>\n",
       "  </tbody>\n",
       "</table>\n",
       "</div>"
      ],
      "text/plain": [
       "                  name                                        url  \\\n",
       "2729  Deathspell Omega  http://www.last.fm/music/Deathspell+Omega   \n",
       "2754      Dark Funeral      http://www.last.fm/music/Dark+Funeral   \n",
       "8131            Nahash            http://www.last.fm/music/Nahash   \n",
       "8135          Krabaras          http://www.last.fm/music/Krabaras   \n",
       "8136        DiktatÅ«ra    http://www.last.fm/music/Diktat%C5%ABra   \n",
       "8139            Luctus            http://www.last.fm/music/Luctus   \n",
       "8151             Anubi             http://www.last.fm/music/Anubi   \n",
       "8315        Gallhammer        http://www.last.fm/music/Gallhammer   \n",
       "8317       Ossastorium       http://www.last.fm/music/Ossastorium   \n",
       "8324     Dissimulation     http://www.last.fm/music/Dissimulation   \n",
       "\n",
       "                                             pictureURL  artID  \n",
       "2729  http://userserve-ak.last.fm/serve/252/54245367...   2729  \n",
       "2754  http://userserve-ak.last.fm/serve/252/13074411...   2754  \n",
       "8131    http://userserve-ak.last.fm/serve/252/93322.jpg   8131  \n",
       "8135  http://userserve-ak.last.fm/serve/252/44372179...   8135  \n",
       "8136   http://userserve-ak.last.fm/serve/252/165489.jpg   8136  \n",
       "8139  http://userserve-ak.last.fm/serve/252/8688989.jpg   8139  \n",
       "8151  http://userserve-ak.last.fm/serve/252/27058983...   8151  \n",
       "8315   http://userserve-ak.last.fm/serve/252/607745.jpg   8315  \n",
       "8317    http://userserve-ak.last.fm/serve/252/51798.jpg   8317  \n",
       "8324  http://userserve-ak.last.fm/serve/252/16340589...   8324  "
      ]
     },
     "execution_count": 154,
     "metadata": {},
     "output_type": "execute_result"
    }
   ],
   "source": [
    "df[df['artID'].isin(recommended_artist_ids)]"
   ]
  },
  {
   "cell_type": "markdown",
   "id": "18c439e8",
   "metadata": {},
   "source": [
    "Let's check does our recommender produce novel results. In our recommender system as mentioned earlier it can be hard to gauge good recommenders in a formal manner (not a subjective manner such as a user rating the recommendations) as there is no ratings just listening figures. Users would eventually tire of being suggested the same artists so checking our recommender to see if it produces novel results is a good barometer of it's quality to start."
   ]
  },
  {
   "cell_type": "code",
   "execution_count": 155,
   "id": "35278f63",
   "metadata": {},
   "outputs": [],
   "source": [
    "test = played[played['userID'] == 83]"
   ]
  },
  {
   "cell_type": "code",
   "execution_count": 156,
   "id": "72880ea6",
   "metadata": {},
   "outputs": [
    {
     "data": {
      "text/html": [
       "<div>\n",
       "<style scoped>\n",
       "    .dataframe tbody tr th:only-of-type {\n",
       "        vertical-align: middle;\n",
       "    }\n",
       "\n",
       "    .dataframe tbody tr th {\n",
       "        vertical-align: top;\n",
       "    }\n",
       "\n",
       "    .dataframe thead th {\n",
       "        text-align: right;\n",
       "    }\n",
       "</style>\n",
       "<table border=\"1\" class=\"dataframe\">\n",
       "  <thead>\n",
       "    <tr style=\"text-align: right;\">\n",
       "      <th></th>\n",
       "      <th>name</th>\n",
       "      <th>url</th>\n",
       "      <th>artID</th>\n",
       "      <th>userID</th>\n",
       "      <th>artistID</th>\n",
       "      <th>played</th>\n",
       "      <th>playedUserNorm</th>\n",
       "      <th>playCountScaled</th>\n",
       "    </tr>\n",
       "  </thead>\n",
       "  <tbody>\n",
       "  </tbody>\n",
       "</table>\n",
       "</div>"
      ],
      "text/plain": [
       "Empty DataFrame\n",
       "Columns: [name, url, artID, userID, artistID, played, playedUserNorm, playCountScaled]\n",
       "Index: []"
      ]
     },
     "execution_count": 156,
     "metadata": {},
     "output_type": "execute_result"
    }
   ],
   "source": [
    "test[test['artID'].isin(recommended_artist_ids)]"
   ]
  },
  {
   "cell_type": "markdown",
   "id": "765213bb",
   "metadata": {},
   "source": [
    "Our recommender has produced completely novel results here for the user. This is potentially a good starting point for our recommender. Let's delve further into it's results looking at the recommendations for this particular user."
   ]
  },
  {
   "cell_type": "code",
   "execution_count": 157,
   "id": "5037f9ac",
   "metadata": {},
   "outputs": [],
   "source": [
    "usert = tags[tags['userID'] == 83]"
   ]
  },
  {
   "cell_type": "code",
   "execution_count": 158,
   "id": "d801a19f",
   "metadata": {},
   "outputs": [],
   "source": [
    "m = usert['tagValue'].unique()"
   ]
  },
  {
   "cell_type": "code",
   "execution_count": 159,
   "id": "1a1d40e6",
   "metadata": {},
   "outputs": [],
   "source": [
    "tagtest =  pd.merge(usert, test, how=\"inner\", left_on=['userID', 'artistID'], right_on=['userID', 'artistID'])"
   ]
  },
  {
   "cell_type": "code",
   "execution_count": 160,
   "id": "709afb35",
   "metadata": {},
   "outputs": [
    {
     "data": {
      "text/html": [
       "<div>\n",
       "<style scoped>\n",
       "    .dataframe tbody tr th:only-of-type {\n",
       "        vertical-align: middle;\n",
       "    }\n",
       "\n",
       "    .dataframe tbody tr th {\n",
       "        vertical-align: top;\n",
       "    }\n",
       "\n",
       "    .dataframe thead th {\n",
       "        text-align: right;\n",
       "    }\n",
       "</style>\n",
       "<table border=\"1\" class=\"dataframe\">\n",
       "  <thead>\n",
       "    <tr style=\"text-align: right;\">\n",
       "      <th></th>\n",
       "      <th>tagID</th>\n",
       "      <th>tagValue</th>\n",
       "      <th>userID</th>\n",
       "      <th>artistID</th>\n",
       "      <th>name</th>\n",
       "      <th>url</th>\n",
       "      <th>artID</th>\n",
       "      <th>played</th>\n",
       "      <th>playedUserNorm</th>\n",
       "      <th>playCountScaled</th>\n",
       "    </tr>\n",
       "  </thead>\n",
       "  <tbody>\n",
       "    <tr>\n",
       "      <th>0</th>\n",
       "      <td>102</td>\n",
       "      <td>hip-hop</td>\n",
       "      <td>83</td>\n",
       "      <td>288</td>\n",
       "      <td>Leona Lewis</td>\n",
       "      <td>http://www.last.fm/music/Leona+Lewis</td>\n",
       "      <td>288</td>\n",
       "      <td>76</td>\n",
       "      <td>0.575758</td>\n",
       "      <td>0.000213</td>\n",
       "    </tr>\n",
       "    <tr>\n",
       "      <th>1</th>\n",
       "      <td>103</td>\n",
       "      <td>rap</td>\n",
       "      <td>83</td>\n",
       "      <td>288</td>\n",
       "      <td>Leona Lewis</td>\n",
       "      <td>http://www.last.fm/music/Leona+Lewis</td>\n",
       "      <td>288</td>\n",
       "      <td>76</td>\n",
       "      <td>0.575758</td>\n",
       "      <td>0.000213</td>\n",
       "    </tr>\n",
       "    <tr>\n",
       "      <th>2</th>\n",
       "      <td>167</td>\n",
       "      <td>rnb</td>\n",
       "      <td>83</td>\n",
       "      <td>288</td>\n",
       "      <td>Leona Lewis</td>\n",
       "      <td>http://www.last.fm/music/Leona+Lewis</td>\n",
       "      <td>288</td>\n",
       "      <td>76</td>\n",
       "      <td>0.575758</td>\n",
       "      <td>0.000213</td>\n",
       "    </tr>\n",
       "    <tr>\n",
       "      <th>3</th>\n",
       "      <td>304</td>\n",
       "      <td>hip hop</td>\n",
       "      <td>83</td>\n",
       "      <td>288</td>\n",
       "      <td>Leona Lewis</td>\n",
       "      <td>http://www.last.fm/music/Leona+Lewis</td>\n",
       "      <td>288</td>\n",
       "      <td>76</td>\n",
       "      <td>0.575758</td>\n",
       "      <td>0.000213</td>\n",
       "    </tr>\n",
       "  </tbody>\n",
       "</table>\n",
       "</div>"
      ],
      "text/plain": [
       "   tagID tagValue  userID  artistID         name  \\\n",
       "0    102  hip-hop      83       288  Leona Lewis   \n",
       "1    103      rap      83       288  Leona Lewis   \n",
       "2    167      rnb      83       288  Leona Lewis   \n",
       "3    304  hip hop      83       288  Leona Lewis   \n",
       "\n",
       "                                    url  artID  played  playedUserNorm  \\\n",
       "0  http://www.last.fm/music/Leona+Lewis    288      76        0.575758   \n",
       "1  http://www.last.fm/music/Leona+Lewis    288      76        0.575758   \n",
       "2  http://www.last.fm/music/Leona+Lewis    288      76        0.575758   \n",
       "3  http://www.last.fm/music/Leona+Lewis    288      76        0.575758   \n",
       "\n",
       "   playCountScaled  \n",
       "0         0.000213  \n",
       "1         0.000213  \n",
       "2         0.000213  \n",
       "3         0.000213  "
      ]
     },
     "execution_count": 160,
     "metadata": {},
     "output_type": "execute_result"
    }
   ],
   "source": [
    "tagtest"
   ]
  },
  {
   "cell_type": "code",
   "execution_count": 161,
   "id": "34ce4543",
   "metadata": {},
   "outputs": [],
   "source": [
    "zzzz = df[df['artID'].isin(recommended_artist_ids)]"
   ]
  },
  {
   "cell_type": "code",
   "execution_count": 162,
   "id": "0f24304d",
   "metadata": {},
   "outputs": [],
   "source": [
    "zzzz1 = pd.merge(zzzz, tags, how=\"inner\", left_on=['artID'], right_on=['artistID'])"
   ]
  },
  {
   "cell_type": "code",
   "execution_count": 163,
   "id": "589e3f37",
   "metadata": {},
   "outputs": [
    {
     "data": {
      "text/html": [
       "<div>\n",
       "<style scoped>\n",
       "    .dataframe tbody tr th:only-of-type {\n",
       "        vertical-align: middle;\n",
       "    }\n",
       "\n",
       "    .dataframe tbody tr th {\n",
       "        vertical-align: top;\n",
       "    }\n",
       "\n",
       "    .dataframe thead th {\n",
       "        text-align: right;\n",
       "    }\n",
       "</style>\n",
       "<table border=\"1\" class=\"dataframe\">\n",
       "  <thead>\n",
       "    <tr style=\"text-align: right;\">\n",
       "      <th></th>\n",
       "      <th>name</th>\n",
       "      <th>url</th>\n",
       "      <th>pictureURL</th>\n",
       "      <th>artID</th>\n",
       "      <th>tagID</th>\n",
       "      <th>tagValue</th>\n",
       "      <th>userID</th>\n",
       "      <th>artistID</th>\n",
       "    </tr>\n",
       "  </thead>\n",
       "  <tbody>\n",
       "    <tr>\n",
       "      <th>0</th>\n",
       "      <td>Deathspell Omega</td>\n",
       "      <td>http://www.last.fm/music/Deathspell+Omega</td>\n",
       "      <td>http://userserve-ak.last.fm/serve/252/54245367...</td>\n",
       "      <td>2729</td>\n",
       "      <td>16</td>\n",
       "      <td>new wave</td>\n",
       "      <td>666</td>\n",
       "      <td>2729</td>\n",
       "    </tr>\n",
       "    <tr>\n",
       "      <th>1</th>\n",
       "      <td>Deathspell Omega</td>\n",
       "      <td>http://www.last.fm/music/Deathspell+Omega</td>\n",
       "      <td>http://userserve-ak.last.fm/serve/252/54245367...</td>\n",
       "      <td>2729</td>\n",
       "      <td>16</td>\n",
       "      <td>new wave</td>\n",
       "      <td>1525</td>\n",
       "      <td>2729</td>\n",
       "    </tr>\n",
       "    <tr>\n",
       "      <th>2</th>\n",
       "      <td>Deathspell Omega</td>\n",
       "      <td>http://www.last.fm/music/Deathspell+Omega</td>\n",
       "      <td>http://userserve-ak.last.fm/serve/252/54245367...</td>\n",
       "      <td>2729</td>\n",
       "      <td>16</td>\n",
       "      <td>new wave</td>\n",
       "      <td>1561</td>\n",
       "      <td>2729</td>\n",
       "    </tr>\n",
       "    <tr>\n",
       "      <th>3</th>\n",
       "      <td>Deathspell Omega</td>\n",
       "      <td>http://www.last.fm/music/Deathspell+Omega</td>\n",
       "      <td>http://userserve-ak.last.fm/serve/252/54245367...</td>\n",
       "      <td>2729</td>\n",
       "      <td>18</td>\n",
       "      <td>electronic</td>\n",
       "      <td>264</td>\n",
       "      <td>2729</td>\n",
       "    </tr>\n",
       "    <tr>\n",
       "      <th>4</th>\n",
       "      <td>Deathspell Omega</td>\n",
       "      <td>http://www.last.fm/music/Deathspell+Omega</td>\n",
       "      <td>http://userserve-ak.last.fm/serve/252/54245367...</td>\n",
       "      <td>2729</td>\n",
       "      <td>18</td>\n",
       "      <td>electronic</td>\n",
       "      <td>458</td>\n",
       "      <td>2729</td>\n",
       "    </tr>\n",
       "    <tr>\n",
       "      <th>5</th>\n",
       "      <td>Deathspell Omega</td>\n",
       "      <td>http://www.last.fm/music/Deathspell+Omega</td>\n",
       "      <td>http://userserve-ak.last.fm/serve/252/54245367...</td>\n",
       "      <td>2729</td>\n",
       "      <td>18</td>\n",
       "      <td>electronic</td>\n",
       "      <td>666</td>\n",
       "      <td>2729</td>\n",
       "    </tr>\n",
       "    <tr>\n",
       "      <th>6</th>\n",
       "      <td>Deathspell Omega</td>\n",
       "      <td>http://www.last.fm/music/Deathspell+Omega</td>\n",
       "      <td>http://userserve-ak.last.fm/serve/252/54245367...</td>\n",
       "      <td>2729</td>\n",
       "      <td>18</td>\n",
       "      <td>electronic</td>\n",
       "      <td>1115</td>\n",
       "      <td>2729</td>\n",
       "    </tr>\n",
       "    <tr>\n",
       "      <th>7</th>\n",
       "      <td>Deathspell Omega</td>\n",
       "      <td>http://www.last.fm/music/Deathspell+Omega</td>\n",
       "      <td>http://userserve-ak.last.fm/serve/252/54245367...</td>\n",
       "      <td>2729</td>\n",
       "      <td>18</td>\n",
       "      <td>electronic</td>\n",
       "      <td>1525</td>\n",
       "      <td>2729</td>\n",
       "    </tr>\n",
       "    <tr>\n",
       "      <th>8</th>\n",
       "      <td>Deathspell Omega</td>\n",
       "      <td>http://www.last.fm/music/Deathspell+Omega</td>\n",
       "      <td>http://userserve-ak.last.fm/serve/252/54245367...</td>\n",
       "      <td>2729</td>\n",
       "      <td>18</td>\n",
       "      <td>electronic</td>\n",
       "      <td>1561</td>\n",
       "      <td>2729</td>\n",
       "    </tr>\n",
       "    <tr>\n",
       "      <th>9</th>\n",
       "      <td>Deathspell Omega</td>\n",
       "      <td>http://www.last.fm/music/Deathspell+Omega</td>\n",
       "      <td>http://userserve-ak.last.fm/serve/252/54245367...</td>\n",
       "      <td>2729</td>\n",
       "      <td>39</td>\n",
       "      <td>dance</td>\n",
       "      <td>348</td>\n",
       "      <td>2729</td>\n",
       "    </tr>\n",
       "    <tr>\n",
       "      <th>10</th>\n",
       "      <td>Deathspell Omega</td>\n",
       "      <td>http://www.last.fm/music/Deathspell+Omega</td>\n",
       "      <td>http://userserve-ak.last.fm/serve/252/54245367...</td>\n",
       "      <td>2729</td>\n",
       "      <td>39</td>\n",
       "      <td>dance</td>\n",
       "      <td>801</td>\n",
       "      <td>2729</td>\n",
       "    </tr>\n",
       "    <tr>\n",
       "      <th>11</th>\n",
       "      <td>Deathspell Omega</td>\n",
       "      <td>http://www.last.fm/music/Deathspell+Omega</td>\n",
       "      <td>http://userserve-ak.last.fm/serve/252/54245367...</td>\n",
       "      <td>2729</td>\n",
       "      <td>39</td>\n",
       "      <td>dance</td>\n",
       "      <td>1525</td>\n",
       "      <td>2729</td>\n",
       "    </tr>\n",
       "    <tr>\n",
       "      <th>12</th>\n",
       "      <td>Deathspell Omega</td>\n",
       "      <td>http://www.last.fm/music/Deathspell+Omega</td>\n",
       "      <td>http://userserve-ak.last.fm/serve/252/54245367...</td>\n",
       "      <td>2729</td>\n",
       "      <td>39</td>\n",
       "      <td>dance</td>\n",
       "      <td>1561</td>\n",
       "      <td>2729</td>\n",
       "    </tr>\n",
       "    <tr>\n",
       "      <th>13</th>\n",
       "      <td>Deathspell Omega</td>\n",
       "      <td>http://www.last.fm/music/Deathspell+Omega</td>\n",
       "      <td>http://userserve-ak.last.fm/serve/252/54245367...</td>\n",
       "      <td>2729</td>\n",
       "      <td>81</td>\n",
       "      <td>indie</td>\n",
       "      <td>1028</td>\n",
       "      <td>2729</td>\n",
       "    </tr>\n",
       "    <tr>\n",
       "      <th>14</th>\n",
       "      <td>Deathspell Omega</td>\n",
       "      <td>http://www.last.fm/music/Deathspell+Omega</td>\n",
       "      <td>http://userserve-ak.last.fm/serve/252/54245367...</td>\n",
       "      <td>2729</td>\n",
       "      <td>199</td>\n",
       "      <td>electropop</td>\n",
       "      <td>1525</td>\n",
       "      <td>2729</td>\n",
       "    </tr>\n",
       "  </tbody>\n",
       "</table>\n",
       "</div>"
      ],
      "text/plain": [
       "                name                                        url  \\\n",
       "0   Deathspell Omega  http://www.last.fm/music/Deathspell+Omega   \n",
       "1   Deathspell Omega  http://www.last.fm/music/Deathspell+Omega   \n",
       "2   Deathspell Omega  http://www.last.fm/music/Deathspell+Omega   \n",
       "3   Deathspell Omega  http://www.last.fm/music/Deathspell+Omega   \n",
       "4   Deathspell Omega  http://www.last.fm/music/Deathspell+Omega   \n",
       "5   Deathspell Omega  http://www.last.fm/music/Deathspell+Omega   \n",
       "6   Deathspell Omega  http://www.last.fm/music/Deathspell+Omega   \n",
       "7   Deathspell Omega  http://www.last.fm/music/Deathspell+Omega   \n",
       "8   Deathspell Omega  http://www.last.fm/music/Deathspell+Omega   \n",
       "9   Deathspell Omega  http://www.last.fm/music/Deathspell+Omega   \n",
       "10  Deathspell Omega  http://www.last.fm/music/Deathspell+Omega   \n",
       "11  Deathspell Omega  http://www.last.fm/music/Deathspell+Omega   \n",
       "12  Deathspell Omega  http://www.last.fm/music/Deathspell+Omega   \n",
       "13  Deathspell Omega  http://www.last.fm/music/Deathspell+Omega   \n",
       "14  Deathspell Omega  http://www.last.fm/music/Deathspell+Omega   \n",
       "\n",
       "                                           pictureURL  artID  tagID  \\\n",
       "0   http://userserve-ak.last.fm/serve/252/54245367...   2729     16   \n",
       "1   http://userserve-ak.last.fm/serve/252/54245367...   2729     16   \n",
       "2   http://userserve-ak.last.fm/serve/252/54245367...   2729     16   \n",
       "3   http://userserve-ak.last.fm/serve/252/54245367...   2729     18   \n",
       "4   http://userserve-ak.last.fm/serve/252/54245367...   2729     18   \n",
       "5   http://userserve-ak.last.fm/serve/252/54245367...   2729     18   \n",
       "6   http://userserve-ak.last.fm/serve/252/54245367...   2729     18   \n",
       "7   http://userserve-ak.last.fm/serve/252/54245367...   2729     18   \n",
       "8   http://userserve-ak.last.fm/serve/252/54245367...   2729     18   \n",
       "9   http://userserve-ak.last.fm/serve/252/54245367...   2729     39   \n",
       "10  http://userserve-ak.last.fm/serve/252/54245367...   2729     39   \n",
       "11  http://userserve-ak.last.fm/serve/252/54245367...   2729     39   \n",
       "12  http://userserve-ak.last.fm/serve/252/54245367...   2729     39   \n",
       "13  http://userserve-ak.last.fm/serve/252/54245367...   2729     81   \n",
       "14  http://userserve-ak.last.fm/serve/252/54245367...   2729    199   \n",
       "\n",
       "      tagValue  userID  artistID  \n",
       "0     new wave     666      2729  \n",
       "1     new wave    1525      2729  \n",
       "2     new wave    1561      2729  \n",
       "3   electronic     264      2729  \n",
       "4   electronic     458      2729  \n",
       "5   electronic     666      2729  \n",
       "6   electronic    1115      2729  \n",
       "7   electronic    1525      2729  \n",
       "8   electronic    1561      2729  \n",
       "9        dance     348      2729  \n",
       "10       dance     801      2729  \n",
       "11       dance    1525      2729  \n",
       "12       dance    1561      2729  \n",
       "13       indie    1028      2729  \n",
       "14  electropop    1525      2729  "
      ]
     },
     "execution_count": 163,
     "metadata": {},
     "output_type": "execute_result"
    }
   ],
   "source": [
    "zzzz1.head(15)"
   ]
  },
  {
   "cell_type": "markdown",
   "id": "64761aff",
   "metadata": {},
   "source": [
    "### Let's Evaluate our NN system's recommendations\n",
    "Let's try calculate precision here for values. We will look to see what tags have been assigned by user 83 that has been assigned to the recommended artists our NN has left them. If at least one tag is found in both the user and the recommended artists tags we assign a score of 1 (relevant) to our user. I will use a method of \"precision at K\". It is commonly used for evaluating music recommender systems. Out of the first K artists recommended we see how many of these are deemed relevant. As mentioned earlier our relevance can be deemed as an artist who has been given a tag by other users that is also a tag given by the user in question, user 83. I feel this is the most practical method of evaluating this NN system. Anyone with experience of using Spotify or SoundCloud would see that for recommendations you would only look at the first few maybe and lose interest after that. It is also hoped the first few recommendations are of a higher quality and more likely to attract a user's attention."
   ]
  },
  {
   "cell_type": "code",
   "execution_count": 164,
   "id": "34e79d3c",
   "metadata": {},
   "outputs": [
    {
     "name": "stdout",
     "output_type": "stream",
     "text": [
      "{'Deathspell Omega': '', 'Dark Funeral': '', 'Nahash': '', 'Krabaras': '', 'DiktatÅ«ra': '', 'Luctus': '', 'Anubi': '', 'Gallhammer': '', 'Ossastorium': '', 'Dissimulation': ''}\n"
     ]
    }
   ],
   "source": [
    "d = {}\n",
    "valz = np.array(zzzz1['tagValue'])\n",
    "vals = np.array(zzzz1['name'])\n",
    "for i in range(len(valz)):\n",
    "    if vals[i] not in d:\n",
    "        d[vals[i]] = \"\"\n",
    "    else:\n",
    "        continue\n",
    "print(d)"
   ]
  },
  {
   "cell_type": "code",
   "execution_count": 165,
   "id": "13a322d6",
   "metadata": {},
   "outputs": [],
   "source": [
    "valz = np.array(zzzz1['tagValue'])\n",
    "vals = np.array(zzzz1['name'])\n",
    "for i in range(len(valz)):\n",
    "    if vals[i] in d and valz[i] in m:\n",
    "        if valz[i] not in d[vals[i]]:\n",
    "            d[vals[i]] += valz[i] + \",\"\n",
    "    else:\n",
    "        continue"
   ]
  },
  {
   "cell_type": "code",
   "execution_count": 166,
   "id": "42daf04d",
   "metadata": {},
   "outputs": [],
   "source": [
    "def strip_dict(d):\n",
    "    return dict((k.strip(), v.strip()) for k, v in d.items())"
   ]
  },
  {
   "cell_type": "code",
   "execution_count": 167,
   "id": "6889ba1d",
   "metadata": {},
   "outputs": [
    {
     "data": {
      "text/plain": [
       "{'Deathspell Omega': 'electronic,dance,electropop,',\n",
       " 'Dark Funeral': 'rock,female vocalists,',\n",
       " 'Nahash': '',\n",
       " 'Krabaras': '',\n",
       " 'DiktatÅ«ra': '',\n",
       " 'Luctus': '',\n",
       " 'Anubi': '',\n",
       " 'Gallhammer': 'rock,',\n",
       " 'Ossastorium': 'electronic,',\n",
       " 'Dissimulation': ''}"
      ]
     },
     "execution_count": 167,
     "metadata": {},
     "output_type": "execute_result"
    }
   ],
   "source": [
    "strip_dict(d)"
   ]
  },
  {
   "cell_type": "code",
   "execution_count": 168,
   "id": "4c2dfa52",
   "metadata": {},
   "outputs": [],
   "source": [
    "for key, value in d.items():\n",
    "    d[key] = value.split(\",\")"
   ]
  },
  {
   "cell_type": "code",
   "execution_count": 169,
   "id": "63ac3b44",
   "metadata": {},
   "outputs": [],
   "source": [
    "for k, v in d.items():\n",
    "    v.pop()"
   ]
  },
  {
   "cell_type": "code",
   "execution_count": 170,
   "id": "e1cf83b0",
   "metadata": {},
   "outputs": [
    {
     "data": {
      "text/plain": [
       "{'Deathspell Omega': ['electronic', 'dance', 'electropop'],\n",
       " 'Dark Funeral': ['rock', 'female vocalists'],\n",
       " 'Nahash': [],\n",
       " 'Krabaras': [],\n",
       " 'DiktatÅ«ra': [],\n",
       " 'Luctus': [],\n",
       " 'Anubi': [],\n",
       " 'Gallhammer': ['rock'],\n",
       " 'Ossastorium': ['electronic'],\n",
       " 'Dissimulation': []}"
      ]
     },
     "execution_count": 170,
     "metadata": {},
     "output_type": "execute_result"
    }
   ],
   "source": [
    "d"
   ]
  },
  {
   "cell_type": "code",
   "execution_count": 171,
   "id": "b4aa49e5",
   "metadata": {},
   "outputs": [
    {
     "name": "stdout",
     "output_type": "stream",
     "text": [
      "Precision at k equal 10 for user 83 with tags information is: 0.4\n"
     ]
    }
   ],
   "source": [
    "l1 = list(d.items())\n",
    "#print(l1)\n",
    "count = 0\n",
    "for i in range(len(l1)):\n",
    "    if len(l1[i][1]) > 0:\n",
    "        count += 1\n",
    "    else:\n",
    "        continue\n",
    "print(\"Precision at k equal 10 for user 83 with tags information is: \" + str(count / len(l1)))"
   ]
  },
  {
   "cell_type": "markdown",
   "id": "da302c3c",
   "metadata": {},
   "source": [
    "It is interesting to note that for this user there is a precision score of 0.4. While as discussed below we thought the results were poor there appears to be some sense to our neural network recommender after all."
   ]
  },
  {
   "cell_type": "markdown",
   "id": "a5ffc797",
   "metadata": {},
   "source": [
    "Looking at these initial results the recommendations didn't seen incredibly accurate for this user. Going by the tags they left they appear to be a keen fan of 'rnb', 'hip-hop' and 'rap'. We also see they like 'pop' and 'soul' music. However, the genres returned here didn't appear to align with this whatsoever. Initially it appeared to have just returned the most popular genres (rock was most popular tag from our earlier analysis) and misses the point. It could definitely be interpreted as good for a user to return completely different types of music opening their eyes to new artists. Admittedly, the user had a high normalised played value of over 50% for this artist (Leona Lewis) they left tags for so obviously it indicates they are a big fan of these genres / artist(s). However, with our precision value here for the top 5 recommended artists we see some sense in the recommendations provided. While they are maybe not massively obvious they do appear to make some type of sense now. The first recommended artist for example 'Dark Funeral' has two tags in common and the fact these tags were given multiple times gives this a more reliable outlook, the same is also true of 'Deathspell Omega' with 3 relevant tags found here."
   ]
  },
  {
   "cell_type": "markdown",
   "id": "bb78606e",
   "metadata": {},
   "source": [
    "# Spotify Recommender system"
   ]
  },
  {
   "cell_type": "markdown",
   "id": "76a690ca",
   "metadata": {},
   "source": [
    "Here I will attempt to test my recommender system on my own personal spotify account to see what recommendations it provides. While it must be noted my music taste is not exactly mainstream for the most part, this should be a good test of the sturdiness of the recommender system. We will be using our first recommender system based on user and artist ID and each users uniquely normalised listening column."
   ]
  },
  {
   "cell_type": "code",
   "execution_count": 172,
   "id": "7af4d8eb",
   "metadata": {},
   "outputs": [],
   "source": [
    "import tekore as tk"
   ]
  },
  {
   "cell_type": "code",
   "execution_count": 173,
   "id": "172edec0",
   "metadata": {},
   "outputs": [],
   "source": [
    "# covering these details\n",
    "client_id = '#'\n",
    "client_secret = '#'"
   ]
  },
  {
   "cell_type": "code",
   "execution_count": 174,
   "id": "670f7d9c",
   "metadata": {},
   "outputs": [],
   "source": [
    "redirect_url = 'https://example.com/callback'"
   ]
  },
  {
   "cell_type": "code",
   "execution_count": 175,
   "id": "e9b93173",
   "metadata": {},
   "outputs": [
    {
     "name": "stdout",
     "output_type": "stream",
     "text": [
      "Opening browser for Spotify login...\n",
      "Please paste redirect URL: https://example.com/callback?code=AQAE5ErqRfiwIzsnZ9i02B2Wxg2znJDSEnJ-kVtqd5Yed35zt_G8kBjlte-zkx9WKymWBq2b58GJFHhknVdMHUb9CWxMUpLcabL9KWtV7MU8hMhi4J0yM4D1OoApmyIAX3OgAFrNG0g1pwjTAmOJc8vkbTyrH6YgSYxi5di3zqbYmXYY_n_fF4eVQw20nYx8feqHI9qMJZ52g_n14MYb914t1M2L3hKW06LUaW9qH0EtiKDhPCrGLhoj6BUz3vGz-VrXDCXMaFJNQ5_lCzbArT61VAnqBvk6iZVL8UdgA8coMCzOvZQsbuPojwF629H23Wc4yOQgGnfvmdkd05R8SoGh1e9mvngbqN3M-45DtZeg5s7-x5JWxvf5wcxksuSCRriGWm_h92JZfLs9xjVckdP5dZ1ZNQVkZ8FJe44NTT_v_xl8hsZPnk2XYdewcBAJ-oilkZAm1-CIMW6cZct6ppLL_VHntpL8bJdeAU8QyTM4wH57BromF4vJOO0vOx42XqSqnJAWsYWjYosGcO8PqFwh_qZf3b5TbjMSgpe0zh_bObbo62pFM8cs5rRiEWnoYjqh-2I7g_oaWDx65JVjOzZtvVSmw6CUxn4PrKQjO0i5p8lkicANVuWMXDiu-RLHNox2rvfemGNBiuuqDJyW_yBIQivwxu4Mn12H1wfYYkHS86E&state=AdSDJGOEmp6TaIHE7OhM5h7N139_45TkNGm0QmkbXS4\n"
     ]
    }
   ],
   "source": [
    "conf = (client_id, client_secret, redirect_url)\n",
    "token = tk.prompt_for_user_token(*conf, scope = tk.scope.every)\n",
    "\n",
    "spotify = tk.Spotify(token)\n",
    "\n",
    "# paste in link from new webpage opened up by this spotify call above into cell below"
   ]
  },
  {
   "cell_type": "code",
   "execution_count": 176,
   "id": "354a486e",
   "metadata": {},
   "outputs": [],
   "source": [
    "artists = spotify.current_user_top_artists(limit = 10)\n",
    "spotify_artists = artists.items"
   ]
  },
  {
   "cell_type": "code",
   "execution_count": 177,
   "id": "b8e9ec5c",
   "metadata": {},
   "outputs": [
    {
     "name": "stdout",
     "output_type": "stream",
     "text": [
      "Nearest neighbors of : Calvin Harris.\n"
     ]
    },
    {
     "data": {
      "text/html": [
       "<div>\n",
       "<style scoped>\n",
       "    .dataframe tbody tr th:only-of-type {\n",
       "        vertical-align: middle;\n",
       "    }\n",
       "\n",
       "    .dataframe tbody tr th {\n",
       "        vertical-align: top;\n",
       "    }\n",
       "\n",
       "    .dataframe thead th {\n",
       "        text-align: right;\n",
       "    }\n",
       "</style>\n",
       "<table border=\"1\" class=\"dataframe\">\n",
       "  <thead>\n",
       "    <tr style=\"text-align: right;\">\n",
       "      <th></th>\n",
       "      <th>dot score</th>\n",
       "      <th>names</th>\n",
       "    </tr>\n",
       "  </thead>\n",
       "  <tbody>\n",
       "    <tr>\n",
       "      <th>83</th>\n",
       "      <td>0.850127</td>\n",
       "      <td>Lady Gaga</td>\n",
       "    </tr>\n",
       "    <tr>\n",
       "      <th>673</th>\n",
       "      <td>0.603270</td>\n",
       "      <td>Glee Cast</td>\n",
       "    </tr>\n",
       "    <tr>\n",
       "      <th>201</th>\n",
       "      <td>0.602046</td>\n",
       "      <td>Arctic Monkeys</td>\n",
       "    </tr>\n",
       "    <tr>\n",
       "      <th>283</th>\n",
       "      <td>0.591399</td>\n",
       "      <td>Britney Spears</td>\n",
       "    </tr>\n",
       "    <tr>\n",
       "      <th>492</th>\n",
       "      <td>0.584087</td>\n",
       "      <td>Paramore</td>\n",
       "    </tr>\n",
       "    <tr>\n",
       "      <th>49</th>\n",
       "      <td>0.558559</td>\n",
       "      <td>Kylie Minogue</td>\n",
       "    </tr>\n",
       "  </tbody>\n",
       "</table>\n",
       "</div>"
      ],
      "text/plain": [
       "     dot score           names\n",
       "83    0.850127       Lady Gaga\n",
       "673   0.603270       Glee Cast\n",
       "201   0.602046  Arctic Monkeys\n",
       "283   0.591399  Britney Spears\n",
       "492   0.584087        Paramore\n",
       "49    0.558559   Kylie Minogue"
      ]
     },
     "metadata": {},
     "output_type": "display_data"
    },
    {
     "name": "stdout",
     "output_type": "stream",
     "text": [
      "Nearest neighbors of : Calvin Harris.\n"
     ]
    },
    {
     "data": {
      "text/html": [
       "<div>\n",
       "<style scoped>\n",
       "    .dataframe tbody tr th:only-of-type {\n",
       "        vertical-align: middle;\n",
       "    }\n",
       "\n",
       "    .dataframe tbody tr th {\n",
       "        vertical-align: top;\n",
       "    }\n",
       "\n",
       "    .dataframe thead th {\n",
       "        text-align: right;\n",
       "    }\n",
       "</style>\n",
       "<table border=\"1\" class=\"dataframe\">\n",
       "  <thead>\n",
       "    <tr style=\"text-align: right;\">\n",
       "      <th></th>\n",
       "      <th>cosine score</th>\n",
       "      <th>names</th>\n",
       "    </tr>\n",
       "  </thead>\n",
       "  <tbody>\n",
       "    <tr>\n",
       "      <th>1400</th>\n",
       "      <td>1.000000</td>\n",
       "      <td>Calvin Harris</td>\n",
       "    </tr>\n",
       "    <tr>\n",
       "      <th>292</th>\n",
       "      <td>0.865796</td>\n",
       "      <td>Lily Allen</td>\n",
       "    </tr>\n",
       "    <tr>\n",
       "      <th>424</th>\n",
       "      <td>0.854708</td>\n",
       "      <td>Kate Nash</td>\n",
       "    </tr>\n",
       "    <tr>\n",
       "      <th>3180</th>\n",
       "      <td>0.849887</td>\n",
       "      <td>Cansei de Ser Sexy</td>\n",
       "    </tr>\n",
       "    <tr>\n",
       "      <th>2068</th>\n",
       "      <td>0.837903</td>\n",
       "      <td>M.I.A.</td>\n",
       "    </tr>\n",
       "    <tr>\n",
       "      <th>3090</th>\n",
       "      <td>0.833644</td>\n",
       "      <td>Fiona Apple</td>\n",
       "    </tr>\n",
       "  </tbody>\n",
       "</table>\n",
       "</div>"
      ],
      "text/plain": [
       "      cosine score               names\n",
       "1400      1.000000       Calvin Harris\n",
       "292       0.865796          Lily Allen\n",
       "424       0.854708           Kate Nash\n",
       "3180      0.849887  Cansei de Ser Sexy\n",
       "2068      0.837903              M.I.A.\n",
       "3090      0.833644         Fiona Apple"
      ]
     },
     "metadata": {},
     "output_type": "display_data"
    },
    {
     "name": "stdout",
     "output_type": "stream",
     "text": [
      "Mark Blair is not in the LastFM data.\n",
      "Bissett is not in the LastFM data.\n",
      "Tobu is not in the LastFM data.\n",
      "Nearest neighbors of : David Guetta.\n",
      "[Found more than one matching artist. Other candidates: Chris Willis; David Guetta; Fergie; LMFAO]\n"
     ]
    },
    {
     "data": {
      "text/html": [
       "<div>\n",
       "<style scoped>\n",
       "    .dataframe tbody tr th:only-of-type {\n",
       "        vertical-align: middle;\n",
       "    }\n",
       "\n",
       "    .dataframe tbody tr th {\n",
       "        vertical-align: top;\n",
       "    }\n",
       "\n",
       "    .dataframe thead th {\n",
       "        text-align: right;\n",
       "    }\n",
       "</style>\n",
       "<table border=\"1\" class=\"dataframe\">\n",
       "  <thead>\n",
       "    <tr style=\"text-align: right;\">\n",
       "      <th></th>\n",
       "      <th>dot score</th>\n",
       "      <th>names</th>\n",
       "    </tr>\n",
       "  </thead>\n",
       "  <tbody>\n",
       "    <tr>\n",
       "      <th>283</th>\n",
       "      <td>1.685521</td>\n",
       "      <td>Britney Spears</td>\n",
       "    </tr>\n",
       "    <tr>\n",
       "      <th>282</th>\n",
       "      <td>1.078436</td>\n",
       "      <td>Rihanna</td>\n",
       "    </tr>\n",
       "    <tr>\n",
       "      <th>83</th>\n",
       "      <td>1.057136</td>\n",
       "      <td>Lady Gaga</td>\n",
       "    </tr>\n",
       "    <tr>\n",
       "      <th>286</th>\n",
       "      <td>0.957173</td>\n",
       "      <td>Christina Aguilera</td>\n",
       "    </tr>\n",
       "    <tr>\n",
       "      <th>61</th>\n",
       "      <td>0.932119</td>\n",
       "      <td>Madonna</td>\n",
       "    </tr>\n",
       "    <tr>\n",
       "      <th>492</th>\n",
       "      <td>0.924621</td>\n",
       "      <td>Paramore</td>\n",
       "    </tr>\n",
       "  </tbody>\n",
       "</table>\n",
       "</div>"
      ],
      "text/plain": [
       "     dot score               names\n",
       "283   1.685521      Britney Spears\n",
       "282   1.078436             Rihanna\n",
       "83    1.057136           Lady Gaga\n",
       "286   0.957173  Christina Aguilera\n",
       "61    0.932119             Madonna\n",
       "492   0.924621            Paramore"
      ]
     },
     "metadata": {},
     "output_type": "display_data"
    },
    {
     "name": "stdout",
     "output_type": "stream",
     "text": [
      "Nearest neighbors of : David Guetta.\n",
      "[Found more than one matching artist. Other candidates: Chris Willis; David Guetta; Fergie; LMFAO]\n"
     ]
    },
    {
     "data": {
      "text/html": [
       "<div>\n",
       "<style scoped>\n",
       "    .dataframe tbody tr th:only-of-type {\n",
       "        vertical-align: middle;\n",
       "    }\n",
       "\n",
       "    .dataframe tbody tr th {\n",
       "        vertical-align: top;\n",
       "    }\n",
       "\n",
       "    .dataframe thead th {\n",
       "        text-align: right;\n",
       "    }\n",
       "</style>\n",
       "<table border=\"1\" class=\"dataframe\">\n",
       "  <thead>\n",
       "    <tr style=\"text-align: right;\">\n",
       "      <th></th>\n",
       "      <th>cosine score</th>\n",
       "      <th>names</th>\n",
       "    </tr>\n",
       "  </thead>\n",
       "  <tbody>\n",
       "    <tr>\n",
       "      <th>322</th>\n",
       "      <td>1.000000</td>\n",
       "      <td>David Guetta</td>\n",
       "    </tr>\n",
       "    <tr>\n",
       "      <th>312</th>\n",
       "      <td>0.860556</td>\n",
       "      <td>Hilary Duff</td>\n",
       "    </tr>\n",
       "    <tr>\n",
       "      <th>399</th>\n",
       "      <td>0.853456</td>\n",
       "      <td>The Rasmus</td>\n",
       "    </tr>\n",
       "    <tr>\n",
       "      <th>517</th>\n",
       "      <td>0.825308</td>\n",
       "      <td>Lindsay Lohan</td>\n",
       "    </tr>\n",
       "    <tr>\n",
       "      <th>536</th>\n",
       "      <td>0.824755</td>\n",
       "      <td>Pitty</td>\n",
       "    </tr>\n",
       "    <tr>\n",
       "      <th>336</th>\n",
       "      <td>0.798463</td>\n",
       "      <td>Colbie Caillat</td>\n",
       "    </tr>\n",
       "  </tbody>\n",
       "</table>\n",
       "</div>"
      ],
      "text/plain": [
       "     cosine score           names\n",
       "322      1.000000    David Guetta\n",
       "312      0.860556     Hilary Duff\n",
       "399      0.853456      The Rasmus\n",
       "517      0.825308   Lindsay Lohan\n",
       "536      0.824755           Pitty\n",
       "336      0.798463  Colbie Caillat"
      ]
     },
     "metadata": {},
     "output_type": "display_data"
    },
    {
     "name": "stdout",
     "output_type": "stream",
     "text": [
      "Low Steppa is not in the LastFM data.\n",
      "Uniting Nations is not in the LastFM data.\n",
      "Sonny Fodera is not in the LastFM data.\n",
      "Nearest neighbors of : Eric Prydz.\n"
     ]
    },
    {
     "data": {
      "text/html": [
       "<div>\n",
       "<style scoped>\n",
       "    .dataframe tbody tr th:only-of-type {\n",
       "        vertical-align: middle;\n",
       "    }\n",
       "\n",
       "    .dataframe tbody tr th {\n",
       "        vertical-align: top;\n",
       "    }\n",
       "\n",
       "    .dataframe thead th {\n",
       "        text-align: right;\n",
       "    }\n",
       "</style>\n",
       "<table border=\"1\" class=\"dataframe\">\n",
       "  <thead>\n",
       "    <tr style=\"text-align: right;\">\n",
       "      <th></th>\n",
       "      <th>dot score</th>\n",
       "      <th>names</th>\n",
       "    </tr>\n",
       "  </thead>\n",
       "  <tbody>\n",
       "    <tr>\n",
       "      <th>221</th>\n",
       "      <td>0.090090</td>\n",
       "      <td>The Beatles</td>\n",
       "    </tr>\n",
       "    <tr>\n",
       "      <th>1663</th>\n",
       "      <td>0.086734</td>\n",
       "      <td>Avenged Sevenfold</td>\n",
       "    </tr>\n",
       "    <tr>\n",
       "      <th>492</th>\n",
       "      <td>0.074269</td>\n",
       "      <td>Paramore</td>\n",
       "    </tr>\n",
       "    <tr>\n",
       "      <th>61</th>\n",
       "      <td>0.064041</td>\n",
       "      <td>Madonna</td>\n",
       "    </tr>\n",
       "    <tr>\n",
       "      <th>1240</th>\n",
       "      <td>0.059517</td>\n",
       "      <td>Guns N' Roses</td>\n",
       "    </tr>\n",
       "    <tr>\n",
       "      <th>469</th>\n",
       "      <td>0.058974</td>\n",
       "      <td>Eminem</td>\n",
       "    </tr>\n",
       "  </tbody>\n",
       "</table>\n",
       "</div>"
      ],
      "text/plain": [
       "      dot score              names\n",
       "221    0.090090        The Beatles\n",
       "1663   0.086734  Avenged Sevenfold\n",
       "492    0.074269           Paramore\n",
       "61     0.064041            Madonna\n",
       "1240   0.059517      Guns N' Roses\n",
       "469    0.058974             Eminem"
      ]
     },
     "metadata": {},
     "output_type": "display_data"
    },
    {
     "name": "stdout",
     "output_type": "stream",
     "text": [
      "Nearest neighbors of : Eric Prydz.\n"
     ]
    },
    {
     "data": {
      "text/html": [
       "<div>\n",
       "<style scoped>\n",
       "    .dataframe tbody tr th:only-of-type {\n",
       "        vertical-align: middle;\n",
       "    }\n",
       "\n",
       "    .dataframe tbody tr th {\n",
       "        vertical-align: top;\n",
       "    }\n",
       "\n",
       "    .dataframe thead th {\n",
       "        text-align: right;\n",
       "    }\n",
       "</style>\n",
       "<table border=\"1\" class=\"dataframe\">\n",
       "  <thead>\n",
       "    <tr style=\"text-align: right;\">\n",
       "      <th></th>\n",
       "      <th>cosine score</th>\n",
       "      <th>names</th>\n",
       "    </tr>\n",
       "  </thead>\n",
       "  <tbody>\n",
       "    <tr>\n",
       "      <th>2494</th>\n",
       "      <td>1.000000</td>\n",
       "      <td>Eric Prydz</td>\n",
       "    </tr>\n",
       "    <tr>\n",
       "      <th>5129</th>\n",
       "      <td>0.614213</td>\n",
       "      <td>Juango DÃ¡valos</td>\n",
       "    </tr>\n",
       "    <tr>\n",
       "      <th>17481</th>\n",
       "      <td>0.573825</td>\n",
       "      <td>Anna Tatangelo</td>\n",
       "    </tr>\n",
       "    <tr>\n",
       "      <th>1339</th>\n",
       "      <td>0.543666</td>\n",
       "      <td>Alestorm</td>\n",
       "    </tr>\n",
       "    <tr>\n",
       "      <th>910</th>\n",
       "      <td>0.541264</td>\n",
       "      <td>Savatage</td>\n",
       "    </tr>\n",
       "    <tr>\n",
       "      <th>6648</th>\n",
       "      <td>0.539831</td>\n",
       "      <td>Under Line</td>\n",
       "    </tr>\n",
       "  </tbody>\n",
       "</table>\n",
       "</div>"
      ],
      "text/plain": [
       "       cosine score            names\n",
       "2494       1.000000       Eric Prydz\n",
       "5129       0.614213  Juango DÃ¡valos\n",
       "17481      0.573825   Anna Tatangelo\n",
       "1339       0.543666         Alestorm\n",
       "910        0.541264         Savatage\n",
       "6648       0.539831       Under Line"
      ]
     },
     "metadata": {},
     "output_type": "display_data"
    },
    {
     "name": "stdout",
     "output_type": "stream",
     "text": [
      "Pete Heller's Big Love is not in the LastFM data.\n"
     ]
    }
   ],
   "source": [
    "t = np.array(df['name'])\n",
    "for i in range(len(spotify_artists)):\n",
    "    if spotify_artists[i].name in t: \n",
    "        artist_neighbors(reg_model, spotify_artists[i].name, DOT)\n",
    "        artist_neighbors(reg_model, spotify_artists[i].name, COSINE)\n",
    "    else:\n",
    "        print(str(spotify_artists[i].name) + \" is not in the LastFM data.\")"
   ]
  },
  {
   "cell_type": "markdown",
   "id": "df700634",
   "metadata": {},
   "source": [
    "#### Personal Opinions on these recommendations\n",
    "As referenced earlier some of these artists aren't exactly mainstream, massively popular artists to a wider audience, hence the limited number of found artists. Calvin Harris and David Guetta are popular artists and the recommendations made by our recommender are actually good between dot score and cosine scores. The recommendations for Eric Prydz are not quite as good it has to be said especially for cosine scores. This may be due to lack of appropriate artists similar to Eric Prydz in the LastFM data as it would be a more obscure artist. The cosine and dot scores provided for this artists would appear to suggest this as they are noticeably lower than previous scores. However, on the whole I definitely find these recommendations quite good. These artists recommended are definitely not in my more popular artists and it is a good sign of the recommender system it is showing new artists. The recommendations for David Guetta and Calvin Harris are in my opinion very logical. There is artists that have collaborated with the pair in both sets of recommendations and other artists of a similar ilk who are not in my top artists. The Eric Prydz results do highlight some of the limitations of our approach. With the values scaled from just 0 to 1 scores with similar listening values will be aligned regardless of genre of user's preferences. It must also be noted this dataset is from 2011 so the recommendations are based off a slightly more limited market of artists too which is why some of these artists could not be found and why some recommendations may be slightly more predictable."
   ]
  },
  {
   "cell_type": "markdown",
   "id": "d12ea46e",
   "metadata": {},
   "source": [
    "# Evaluation"
   ]
  },
  {
   "cell_type": "markdown",
   "id": "387e76dc",
   "metadata": {},
   "source": [
    "We will now try to evaluate our results and methods attempted so far. I will look at using methods such as Recall, Precision, Coverage and F1 to validate our methods. I feel methods such as mean absolute error (MAE) and root mean square error (RMSE) are not suitable to our data provided. These look at the difference between the actual and predicted values, which are not really applicable to the data here. The predicted artist could be number 1 and the actual artist could be 2 and this would appear as a very good result using this method. However, the difference in genres and similarity of artist could be completely different and hence the result is misleading. We will look to implement evaluation using the \"LightFM\" python library."
   ]
  },
  {
   "cell_type": "code",
   "execution_count": 178,
   "id": "9acee62a",
   "metadata": {},
   "outputs": [],
   "source": [
    "import implicit\n",
    "from tqdm import tqdm_notebook as tqdm\n",
    "import matplotlib.ticker as ticker\n",
    "from matplotlib import rc\n",
    "from pandas.api.types import CategoricalDtype\n",
    "import string\n",
    "import re\n",
    "import random\n",
    "import math\n",
    "from math import sqrt\n",
    "from math import log\n",
    "from collections import Counter, defaultdict\n",
    "from operator import itemgetter\n",
    "from pylab import rcParams\n",
    "from pylab import savefig"
   ]
  },
  {
   "cell_type": "code",
   "execution_count": 184,
   "id": "0486bfad",
   "metadata": {},
   "outputs": [],
   "source": [
    "# Create sparse matrix from dataframe object\n",
    "def create_sparse_matrix(data):\n",
    "  #get unique user ids and unique artist ids\n",
    "  users = list(np.sort(data.userID.unique()))\n",
    "  artists = list(data.artistID.unique())\n",
    "  plays = list(data.playedUserNorm)\n",
    "\n",
    "  cat_type = CategoricalDtype(categories=users, ordered=True)\n",
    "  rows = data.userID.astype(cat_type).cat.codes\n",
    "\n",
    "  cat_type = CategoricalDtype(categories=artists, ordered=True)\n",
    "  cols = data.artistID.astype(cat_type).cat.codes\n",
    "  # we get the rows (user ids) and columns (artist ids) and populate them using plays\n",
    "  plays_sparse = scipy.sparse.csr_matrix((plays, (rows, cols)), shape=(len(users),len(artists)))\n",
    "  return plays_sparse"
   ]
  },
  {
   "cell_type": "code",
   "execution_count": 180,
   "id": "8a88282c",
   "metadata": {},
   "outputs": [],
   "source": [
    "# Calculate sparsity of matrix\n",
    "def calculate_sparsity(M):\n",
    "  matrix_size = float(M.shape[0] * M.shape[1]) # Number of total possible interactions between artist and user in the matrix\n",
    "  num_plays = len(M.nonzero()[0]) # Number of times any artist has been interacted with\n",
    "  sparsity = 100 * (1 - float(num_plays / matrix_size))\n",
    "  return sparsity"
   ]
  },
  {
   "cell_type": "code",
   "execution_count": 181,
   "id": "d968384a",
   "metadata": {},
   "outputs": [],
   "source": [
    "def evaluate_lightfm(model, original, train, test, user_features=None, item_features=None, n_rec = 20):\n",
    "    print(\"Evaluating LightFM...\")\n",
    "    print(\"Calculating Coverage...\")\n",
    "    catalog = []\n",
    "    for user in tqdm(range(0, original.shape[0])):\n",
    "      #get scores for this particular user for all artists\n",
    "      rec_scores = model.predict(user,np.arange(original.shape[1]),user_features=user_features, item_features=item_features)\n",
    "      #get top k items to recommend\n",
    "      rec_items = (-rec_scores).argsort()[:20]\n",
    "      #calculate coverage\n",
    "      #coverage calculation\n",
    "      for recs in rec_items:\n",
    "        if recs not in catalog:\n",
    "          catalog.append(recs)\n",
    "            \n",
    "    coverage = len(catalog)/float(original.shape[1])\n",
    "    print(\"Calculating Recall at k...\")\n",
    "    recall = recall_at_k(model, test, user_features = user_features, item_features = item_features, k = n_rec).mean()\n",
    "    print(\"Calculating Precision at k...\")\n",
    "    precision = precision_at_k(model, test, user_features = user_features, item_features = item_features, k = n_rec).mean()\n",
    "    f1 = (2 * precision * recall) / (precision + recall)\n",
    "    return coverage, precision, recall, f1"
   ]
  },
  {
   "cell_type": "code",
   "execution_count": 186,
   "id": "99fad042",
   "metadata": {},
   "outputs": [
    {
     "name": "stdout",
     "output_type": "stream",
     "text": [
      "Matrix Sparsity: 99.72171848800758\n",
      "Fitting model...\n",
      "Evaluating LightFM...\n",
      "Calculating Coverage...\n"
     ]
    },
    {
     "name": "stderr",
     "output_type": "stream",
     "text": [
      "C:\\Users\\user\\AppData\\Local\\Temp/ipykernel_27996/314659252.py:5: TqdmDeprecationWarning: This function will be removed in tqdm==5.0.0\n",
      "Please use `tqdm.notebook.tqdm` instead of `tqdm.tqdm_notebook`\n",
      "  for user in tqdm(range(0, original.shape[0])):\n"
     ]
    },
    {
     "data": {
      "application/vnd.jupyter.widget-view+json": {
       "model_id": "12052ef355a64a65b596469f7117fec9",
       "version_major": 2,
       "version_minor": 0
      },
      "text/plain": [
       "  0%|          | 0/1892 [00:00<?, ?it/s]"
      ]
     },
     "metadata": {},
     "output_type": "display_data"
    },
    {
     "name": "stdout",
     "output_type": "stream",
     "text": [
      "Calculating Recall at k...\n",
      "Calculating Precision at k...\n",
      "Precision: 12.879109382629395 %\n",
      "Recall: 7.531221890453887 %\n",
      "Coverage: 0.8337114337568058 %\n",
      "F1: 9.504542499995978 %\n"
     ]
    }
   ],
   "source": [
    "playedx = played[['userID','artistID', 'playedUserNorm']]\n",
    "playedx.columns = ['userID','artistID', 'playedUserNorm']\n",
    "\n",
    "#create sparse matrix like earlier\n",
    "plays_sparse_light = create_sparse_matrix(playedx).astype('float')\n",
    "print('Matrix Sparsity:', calculate_sparsity(plays_sparse_light))\n",
    "\n",
    "train_ratings, test_ratings = split_dataframe(xyz)\n",
    "# SparseTensor representation of the train and test datasets.\n",
    "A_train = build_rating_sparse_tensor(train_ratings)\n",
    "A_test = build_rating_sparse_tensor(test_ratings)\n",
    "\n",
    "train_light, test_light = lightfm.cross_validation.random_train_test_split(plays_sparse_light, test_percentage = 0.7)\n",
    "model_fm_vanilla = LightFM(learning_rate=0.05, loss='bpr')\n",
    "\n",
    "#train model\n",
    "print(\"Fitting model...\")\n",
    "model_fm_vanilla.fit(train_light, epochs=10)\n",
    "\n",
    "#evaluate model\n",
    "coverage, precision, recall, f1 = evaluate_lightfm(model_fm_vanilla, plays_sparse_light, train_light, test_light)\n",
    "print(\"Precision:\", precision * 100, '%')\n",
    "print(\"Recall:\", recall * 100, '%')\n",
    "print(\"Coverage:\", coverage * 100, '%')\n",
    "print(\"F1:\", f1 * 100, '%')"
   ]
  },
  {
   "cell_type": "code",
   "execution_count": 183,
   "id": "8d17b581",
   "metadata": {},
   "outputs": [
    {
     "name": "stdout",
     "output_type": "stream",
     "text": [
      "Matrix Sparsity: 99.72362497745786\n",
      "Fitting model...\n",
      "Evaluating LightFM...\n",
      "Calculating Coverage...\n"
     ]
    },
    {
     "name": "stderr",
     "output_type": "stream",
     "text": [
      "C:\\Users\\user\\AppData\\Local\\Temp/ipykernel_27996/314659252.py:5: TqdmDeprecationWarning: This function will be removed in tqdm==5.0.0\n",
      "Please use `tqdm.notebook.tqdm` instead of `tqdm.tqdm_notebook`\n",
      "  for user in tqdm(range(0, original.shape[0])):\n"
     ]
    },
    {
     "data": {
      "application/vnd.jupyter.widget-view+json": {
       "model_id": "add7a7b73c374d74942de16daea8f239",
       "version_major": 2,
       "version_minor": 0
      },
      "text/plain": [
       "  0%|          | 0/1892 [00:00<?, ?it/s]"
      ]
     },
     "metadata": {},
     "output_type": "display_data"
    },
    {
     "name": "stdout",
     "output_type": "stream",
     "text": [
      "Calculating Recall at k...\n",
      "Calculating Precision at k...\n",
      "Precision: 11.130227893590927 %\n",
      "Recall: 6.547820483133281 %\n",
      "Coverage: 0.7372958257713249 %\n",
      "F1: 8.24511084374583 %\n"
     ]
    }
   ],
   "source": [
    "playedx = played[['userID','artistID', 'playCountScaled']]\n",
    "playedx.columns = ['userID','artistID', 'playCountScaled']\n",
    "\n",
    "#create sparse matrix like earlier just compatible with lightFM\n",
    "plays_sparse_light = create_sparse_matrix(playedx).astype('float')\n",
    "print('Matrix Sparsity:', calculate_sparsity(plays_sparse_light))\n",
    "\n",
    "# split up data like we did earlier with our split_dataframe function\n",
    "train_light, test_light = lightfm.cross_validation.random_train_test_split(plays_sparse_light, test_percentage = 0.7)\n",
    "model_fm_vanilla = LightFM(learning_rate=0.05, loss='bpr')\n",
    "\n",
    "#train model\n",
    "print(\"Fitting model...\")\n",
    "model_fm_vanilla.fit(train_light, epochs=10)\n",
    "\n",
    "#evaluate model\n",
    "coverage, precision, recall, f1 = evaluate_lightfm(model_fm_vanilla, plays_sparse_light, train_light, test_light)\n",
    "print(\"Precision:\", precision * 100, '%')\n",
    "print(\"Recall:\", recall * 100, '%')\n",
    "print(\"Coverage:\", coverage * 100, '%')\n",
    "print(\"F1:\", f1 * 100, '%')"
   ]
  },
  {
   "cell_type": "markdown",
   "id": "5915f595",
   "metadata": {},
   "source": [
    "Our chosen accuracy when normalising with each user's max score is actually worse than our play count scaled metric. However, when I ran this with playCountScaled used for our recommender the recommendations were dreadful with very low dot and cosine scores. Of the sample of artists and my spotify recommendations the recommendations using the playedUserNorm column seemed far more accurate. This is probably because the scores are better scaled between 0 and 1, identifying popular artists more easily with values closer to 1 and also less known artists would have a better chance of being noticed if a handful of users listened to them a lot."
   ]
  },
  {
   "cell_type": "markdown",
   "id": "54611235",
   "metadata": {},
   "source": [
    "# Clustering"
   ]
  },
  {
   "cell_type": "code",
   "execution_count": null,
   "id": "d74d5898",
   "metadata": {},
   "outputs": [],
   "source": []
  }
 ],
 "metadata": {
  "kernelspec": {
   "display_name": "Python 3 (ipykernel)",
   "language": "python",
   "name": "python3"
  },
  "language_info": {
   "codemirror_mode": {
    "name": "ipython",
    "version": 3
   },
   "file_extension": ".py",
   "mimetype": "text/x-python",
   "name": "python",
   "nbconvert_exporter": "python",
   "pygments_lexer": "ipython3",
   "version": "3.8.12"
  }
 },
 "nbformat": 4,
 "nbformat_minor": 5
}
