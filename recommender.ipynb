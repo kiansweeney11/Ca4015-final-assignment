{
 "cells": [
  {
   "cell_type": "code",
   "execution_count": 1,
   "id": "6859afc9",
   "metadata": {},
   "outputs": [
    {
     "name": "stdout",
     "output_type": "stream",
     "text": [
      "WARNING:tensorflow:From C:\\Users\\user\\anaconda3\\lib\\site-packages\\tensorflow\\python\\compat\\v2_compat.py:96: disable_resource_variables (from tensorflow.python.ops.variable_scope) is deprecated and will be removed in a future version.\n",
      "Instructions for updating:\n",
      "non-resource variables are not supported in the long term\n"
     ]
    }
   ],
   "source": [
    "from __future__ import print_function\n",
    "\n",
    "import numpy as np\n",
    "import pandas as pd\n",
    "import collections\n",
    "from mpl_toolkits.mplot3d import Axes3D\n",
    "from IPython import display\n",
    "from matplotlib import pyplot as plt\n",
    "from IPython.display import display\n",
    "import seaborn as sns\n",
    "import sklearn\n",
    "import sklearn.manifold\n",
    "import tensorflow.compat.v1 as tf\n",
    "tf.disable_v2_behavior()\n",
    "tf.logging.set_verbosity(tf.logging.ERROR)"
   ]
  },
  {
   "cell_type": "code",
   "execution_count": 2,
   "id": "50b935de",
   "metadata": {},
   "outputs": [
    {
     "name": "stderr",
     "output_type": "stream",
     "text": [
      "C:\\Users\\user\\anaconda3\\lib\\site-packages\\lightfm\\_lightfm_fast.py:9: UserWarning: LightFM was compiled without OpenMP support. Only a single thread will be used.\n",
      "  warnings.warn(\n"
     ]
    }
   ],
   "source": [
    "from sklearn.model_selection import train_test_split\n",
    "from sklearn.metrics import accuracy_score\n",
    "from sklearn.metrics import mean_squared_error\n",
    "from collections import Counter, defaultdict\n",
    "from operator import itemgetter\n",
    "import tensorflow as tf\n",
    "from tensorflow import keras\n",
    "from pylab import rcParams\n",
    "from pylab import savefig\n",
    "import lightfm\n",
    "from lightfm import LightFM\n",
    "from lightfm.data import Dataset\n",
    "from lightfm import cross_validation\n",
    "from lightfm.evaluation import precision_at_k\n",
    "from lightfm.evaluation import recall_at_k\n",
    "from lightfm.cross_validation import random_train_test_split\n",
    "from scipy.sparse import csr_matrix\n",
    "import scipy\n",
    "\n",
    "from sklearn.model_selection import train_test_split\n",
    "from collections import Counter, defaultdict\n",
    "from sklearn.metrics import accuracy_score\n",
    "import matplotlib.ticker as ticker\n",
    "from math import sqrt\n",
    "from sklearn.metrics import mean_squared_error"
   ]
  },
  {
   "cell_type": "code",
   "execution_count": 4,
   "id": "85c6870b",
   "metadata": {},
   "outputs": [],
   "source": [
    "# Add some convenience functions to Pandas DataFrame.\n",
    "pd.options.display.max_rows = 10\n",
    "pd.options.display.float_format = '{:.3f}'.format\n",
    "def mask(df, key, function):\n",
    "  \"\"\"Returns a filtered dataframe, by applying function to key\"\"\"\n",
    "  return df[function(df[key])]\n",
    "\n",
    "def flatten_cols(df):\n",
    "  df.columns = [' '.join(col).strip() for col in df.columns.values]\n",
    "  return df\n",
    "\n",
    "pd.DataFrame.mask = mask\n",
    "pd.DataFrame.flatten_cols = flatten_cols\n",
    "\n",
    "# Install Altair and activate its colab renderer.\n",
    "#print(\"Installing Altair...\")\n",
    "#!pip install git+git://github.com/altair-viz/altair.git\n",
    "#import altair as alt\n",
    "#alt.data_transformers.enable('default', max_rows=None)\n",
    "#alt.renderers.enable('colab')\n",
    "#print(\"Done installing Altair.\")\n",
    "\n",
    "# Install spreadsheets and import authentication module.\n",
    "#USER_RATINGS = False\n",
    "#!pip install --upgrade -q gspread\n",
    "#from google.colab import auth\n",
    "#import gspread\n",
    "#from oauth2client.client import GoogleCredentials"
   ]
  },
  {
   "cell_type": "code",
   "execution_count": 5,
   "id": "700b07b3",
   "metadata": {},
   "outputs": [],
   "source": [
    "import matplotlib.pyplot as plt\n",
    "import os\n",
    "import warnings\n",
    "from keras.layers import Input, Embedding, Flatten, Dot, Dense, Concatenate\n",
    "from keras.models import Model"
   ]
  },
  {
   "cell_type": "markdown",
   "id": "32ff44ac",
   "metadata": {},
   "source": [
    "Firstly, I converted my data files from .dat to .csv format. I did this via excel using the data tab and it's \"get external data\" option and extracted it from text. All the delimiting was done by default and I had my files in a delimited format."
   ]
  },
  {
   "cell_type": "code",
   "execution_count": 6,
   "id": "e612c1ae",
   "metadata": {},
   "outputs": [
    {
     "data": {
      "text/html": [
       "<div>\n",
       "<style scoped>\n",
       "    .dataframe tbody tr th:only-of-type {\n",
       "        vertical-align: middle;\n",
       "    }\n",
       "\n",
       "    .dataframe tbody tr th {\n",
       "        vertical-align: top;\n",
       "    }\n",
       "\n",
       "    .dataframe thead th {\n",
       "        text-align: right;\n",
       "    }\n",
       "</style>\n",
       "<table border=\"1\" class=\"dataframe\">\n",
       "  <thead>\n",
       "    <tr style=\"text-align: right;\">\n",
       "      <th></th>\n",
       "      <th>id</th>\n",
       "      <th>name</th>\n",
       "      <th>url</th>\n",
       "      <th>pictureURL</th>\n",
       "    </tr>\n",
       "  </thead>\n",
       "  <tbody>\n",
       "    <tr>\n",
       "      <th>0</th>\n",
       "      <td>1</td>\n",
       "      <td>MALICE MIZER</td>\n",
       "      <td>http://www.last.fm/music/MALICE+MIZER</td>\n",
       "      <td>http://userserve-ak.last.fm/serve/252/10808.jpg</td>\n",
       "    </tr>\n",
       "    <tr>\n",
       "      <th>1</th>\n",
       "      <td>2</td>\n",
       "      <td>Diary of Dreams</td>\n",
       "      <td>http://www.last.fm/music/Diary+of+Dreams</td>\n",
       "      <td>http://userserve-ak.last.fm/serve/252/3052066.jpg</td>\n",
       "    </tr>\n",
       "    <tr>\n",
       "      <th>2</th>\n",
       "      <td>3</td>\n",
       "      <td>Carpathian Forest</td>\n",
       "      <td>http://www.last.fm/music/Carpathian+Forest</td>\n",
       "      <td>http://userserve-ak.last.fm/serve/252/40222717...</td>\n",
       "    </tr>\n",
       "    <tr>\n",
       "      <th>3</th>\n",
       "      <td>4</td>\n",
       "      <td>Moi dix Mois</td>\n",
       "      <td>http://www.last.fm/music/Moi+dix+Mois</td>\n",
       "      <td>http://userserve-ak.last.fm/serve/252/54697835...</td>\n",
       "    </tr>\n",
       "    <tr>\n",
       "      <th>4</th>\n",
       "      <td>5</td>\n",
       "      <td>Bella Morte</td>\n",
       "      <td>http://www.last.fm/music/Bella+Morte</td>\n",
       "      <td>http://userserve-ak.last.fm/serve/252/14789013...</td>\n",
       "    </tr>\n",
       "    <tr>\n",
       "      <th>...</th>\n",
       "      <td>...</td>\n",
       "      <td>...</td>\n",
       "      <td>...</td>\n",
       "      <td>...</td>\n",
       "    </tr>\n",
       "    <tr>\n",
       "      <th>17627</th>\n",
       "      <td>18741</td>\n",
       "      <td>Diamanda GalÃ¡s</td>\n",
       "      <td>http://www.last.fm/music/Diamanda+Gal%C3%A1s</td>\n",
       "      <td>http://userserve-ak.last.fm/serve/252/16352971...</td>\n",
       "    </tr>\n",
       "    <tr>\n",
       "      <th>17628</th>\n",
       "      <td>18742</td>\n",
       "      <td>Aya RL</td>\n",
       "      <td>http://www.last.fm/music/Aya+RL</td>\n",
       "      <td>http://userserve-ak.last.fm/serve/252/207445.jpg</td>\n",
       "    </tr>\n",
       "    <tr>\n",
       "      <th>17629</th>\n",
       "      <td>18743</td>\n",
       "      <td>Coptic Rain</td>\n",
       "      <td>http://www.last.fm/music/Coptic+Rain</td>\n",
       "      <td>http://userserve-ak.last.fm/serve/252/344868.jpg</td>\n",
       "    </tr>\n",
       "    <tr>\n",
       "      <th>17630</th>\n",
       "      <td>18744</td>\n",
       "      <td>Oz Alchemist</td>\n",
       "      <td>http://www.last.fm/music/Oz+Alchemist</td>\n",
       "      <td>http://userserve-ak.last.fm/serve/252/29297695...</td>\n",
       "    </tr>\n",
       "    <tr>\n",
       "      <th>17631</th>\n",
       "      <td>18745</td>\n",
       "      <td>Grzegorz Tomczak</td>\n",
       "      <td>http://www.last.fm/music/Grzegorz+Tomczak</td>\n",
       "      <td>http://userserve-ak.last.fm/serve/252/59486303...</td>\n",
       "    </tr>\n",
       "  </tbody>\n",
       "</table>\n",
       "<p>17632 rows × 4 columns</p>\n",
       "</div>"
      ],
      "text/plain": [
       "          id               name                                           url  \\\n",
       "0          1       MALICE MIZER         http://www.last.fm/music/MALICE+MIZER   \n",
       "1          2    Diary of Dreams      http://www.last.fm/music/Diary+of+Dreams   \n",
       "2          3  Carpathian Forest    http://www.last.fm/music/Carpathian+Forest   \n",
       "3          4       Moi dix Mois         http://www.last.fm/music/Moi+dix+Mois   \n",
       "4          5        Bella Morte          http://www.last.fm/music/Bella+Morte   \n",
       "...      ...                ...                                           ...   \n",
       "17627  18741    Diamanda GalÃ¡s  http://www.last.fm/music/Diamanda+Gal%C3%A1s   \n",
       "17628  18742             Aya RL               http://www.last.fm/music/Aya+RL   \n",
       "17629  18743        Coptic Rain          http://www.last.fm/music/Coptic+Rain   \n",
       "17630  18744       Oz Alchemist         http://www.last.fm/music/Oz+Alchemist   \n",
       "17631  18745   Grzegorz Tomczak     http://www.last.fm/music/Grzegorz+Tomczak   \n",
       "\n",
       "                                              pictureURL  \n",
       "0        http://userserve-ak.last.fm/serve/252/10808.jpg  \n",
       "1      http://userserve-ak.last.fm/serve/252/3052066.jpg  \n",
       "2      http://userserve-ak.last.fm/serve/252/40222717...  \n",
       "3      http://userserve-ak.last.fm/serve/252/54697835...  \n",
       "4      http://userserve-ak.last.fm/serve/252/14789013...  \n",
       "...                                                  ...  \n",
       "17627  http://userserve-ak.last.fm/serve/252/16352971...  \n",
       "17628   http://userserve-ak.last.fm/serve/252/207445.jpg  \n",
       "17629   http://userserve-ak.last.fm/serve/252/344868.jpg  \n",
       "17630  http://userserve-ak.last.fm/serve/252/29297695...  \n",
       "17631  http://userserve-ak.last.fm/serve/252/59486303...  \n",
       "\n",
       "[17632 rows x 4 columns]"
      ]
     },
     "execution_count": 6,
     "metadata": {},
     "output_type": "execute_result"
    }
   ],
   "source": [
    "df = pd.read_csv(\"data/hetrec2011-lastfm-2k/artists.csv\")\n",
    "df"
   ]
  },
  {
   "cell_type": "code",
   "execution_count": 7,
   "id": "1df4cee2",
   "metadata": {},
   "outputs": [
    {
     "data": {
      "text/plain": [
       "965"
      ]
     },
     "execution_count": 7,
     "metadata": {},
     "output_type": "execute_result"
    }
   ],
   "source": [
    "df['id'] = pd.to_numeric(df['id'])\n",
    "lst = []\n",
    "m = np.array(df['id'])\n",
    "for i in range(0,17632):\n",
    "    #print(i)\n",
    "    if i not in df.id.values:\n",
    "        lst.append(i)\n",
    "\n",
    "len(lst)"
   ]
  },
  {
   "cell_type": "code",
   "execution_count": 8,
   "id": "fb4b1d21",
   "metadata": {},
   "outputs": [],
   "source": [
    "newart = []\n",
    "for i in range(0, 17632):\n",
    "    newart.append(i)"
   ]
  },
  {
   "cell_type": "code",
   "execution_count": 9,
   "id": "fce87f3e",
   "metadata": {},
   "outputs": [],
   "source": [
    "newart = np.array(newart)\n",
    "df['artID'] = newart.tolist()"
   ]
  },
  {
   "cell_type": "code",
   "execution_count": 10,
   "id": "8188ad48",
   "metadata": {},
   "outputs": [
    {
     "data": {
      "text/html": [
       "<div>\n",
       "<style scoped>\n",
       "    .dataframe tbody tr th:only-of-type {\n",
       "        vertical-align: middle;\n",
       "    }\n",
       "\n",
       "    .dataframe tbody tr th {\n",
       "        vertical-align: top;\n",
       "    }\n",
       "\n",
       "    .dataframe thead th {\n",
       "        text-align: right;\n",
       "    }\n",
       "</style>\n",
       "<table border=\"1\" class=\"dataframe\">\n",
       "  <thead>\n",
       "    <tr style=\"text-align: right;\">\n",
       "      <th></th>\n",
       "      <th>name</th>\n",
       "      <th>url</th>\n",
       "      <th>pictureURL</th>\n",
       "      <th>artID</th>\n",
       "    </tr>\n",
       "  </thead>\n",
       "  <tbody>\n",
       "    <tr>\n",
       "      <th>0</th>\n",
       "      <td>MALICE MIZER</td>\n",
       "      <td>http://www.last.fm/music/MALICE+MIZER</td>\n",
       "      <td>http://userserve-ak.last.fm/serve/252/10808.jpg</td>\n",
       "      <td>0</td>\n",
       "    </tr>\n",
       "    <tr>\n",
       "      <th>1</th>\n",
       "      <td>Diary of Dreams</td>\n",
       "      <td>http://www.last.fm/music/Diary+of+Dreams</td>\n",
       "      <td>http://userserve-ak.last.fm/serve/252/3052066.jpg</td>\n",
       "      <td>1</td>\n",
       "    </tr>\n",
       "    <tr>\n",
       "      <th>2</th>\n",
       "      <td>Carpathian Forest</td>\n",
       "      <td>http://www.last.fm/music/Carpathian+Forest</td>\n",
       "      <td>http://userserve-ak.last.fm/serve/252/40222717...</td>\n",
       "      <td>2</td>\n",
       "    </tr>\n",
       "    <tr>\n",
       "      <th>3</th>\n",
       "      <td>Moi dix Mois</td>\n",
       "      <td>http://www.last.fm/music/Moi+dix+Mois</td>\n",
       "      <td>http://userserve-ak.last.fm/serve/252/54697835...</td>\n",
       "      <td>3</td>\n",
       "    </tr>\n",
       "    <tr>\n",
       "      <th>4</th>\n",
       "      <td>Bella Morte</td>\n",
       "      <td>http://www.last.fm/music/Bella+Morte</td>\n",
       "      <td>http://userserve-ak.last.fm/serve/252/14789013...</td>\n",
       "      <td>4</td>\n",
       "    </tr>\n",
       "  </tbody>\n",
       "</table>\n",
       "</div>"
      ],
      "text/plain": [
       "                name                                         url  \\\n",
       "0       MALICE MIZER       http://www.last.fm/music/MALICE+MIZER   \n",
       "1    Diary of Dreams    http://www.last.fm/music/Diary+of+Dreams   \n",
       "2  Carpathian Forest  http://www.last.fm/music/Carpathian+Forest   \n",
       "3       Moi dix Mois       http://www.last.fm/music/Moi+dix+Mois   \n",
       "4        Bella Morte        http://www.last.fm/music/Bella+Morte   \n",
       "\n",
       "                                          pictureURL  artID  \n",
       "0    http://userserve-ak.last.fm/serve/252/10808.jpg      0  \n",
       "1  http://userserve-ak.last.fm/serve/252/3052066.jpg      1  \n",
       "2  http://userserve-ak.last.fm/serve/252/40222717...      2  \n",
       "3  http://userserve-ak.last.fm/serve/252/54697835...      3  \n",
       "4  http://userserve-ak.last.fm/serve/252/14789013...      4  "
      ]
     },
     "execution_count": 10,
     "metadata": {},
     "output_type": "execute_result"
    }
   ],
   "source": [
    "df.drop(columns=['id'], inplace=True)\n",
    "df.head()"
   ]
  },
  {
   "cell_type": "markdown",
   "id": "1df5cbe5",
   "metadata": {},
   "source": [
    "There appears to be some unclean names such as \"Diamanda GalÃ¡s\" among others just taking an initial look at the data here."
   ]
  },
  {
   "cell_type": "code",
   "execution_count": 11,
   "id": "b4904c2d",
   "metadata": {},
   "outputs": [
    {
     "data": {
      "text/html": [
       "<div>\n",
       "<style scoped>\n",
       "    .dataframe tbody tr th:only-of-type {\n",
       "        vertical-align: middle;\n",
       "    }\n",
       "\n",
       "    .dataframe tbody tr th {\n",
       "        vertical-align: top;\n",
       "    }\n",
       "\n",
       "    .dataframe thead th {\n",
       "        text-align: right;\n",
       "    }\n",
       "</style>\n",
       "<table border=\"1\" class=\"dataframe\">\n",
       "  <thead>\n",
       "    <tr style=\"text-align: right;\">\n",
       "      <th></th>\n",
       "      <th>tagID</th>\n",
       "      <th>tagValue</th>\n",
       "    </tr>\n",
       "  </thead>\n",
       "  <tbody>\n",
       "    <tr>\n",
       "      <th>0</th>\n",
       "      <td>1</td>\n",
       "      <td>metal</td>\n",
       "    </tr>\n",
       "    <tr>\n",
       "      <th>1</th>\n",
       "      <td>2</td>\n",
       "      <td>alternative metal</td>\n",
       "    </tr>\n",
       "    <tr>\n",
       "      <th>2</th>\n",
       "      <td>3</td>\n",
       "      <td>goth rock</td>\n",
       "    </tr>\n",
       "    <tr>\n",
       "      <th>3</th>\n",
       "      <td>4</td>\n",
       "      <td>black metal</td>\n",
       "    </tr>\n",
       "    <tr>\n",
       "      <th>4</th>\n",
       "      <td>5</td>\n",
       "      <td>death metal</td>\n",
       "    </tr>\n",
       "    <tr>\n",
       "      <th>...</th>\n",
       "      <td>...</td>\n",
       "      <td>...</td>\n",
       "    </tr>\n",
       "    <tr>\n",
       "      <th>11941</th>\n",
       "      <td>12644</td>\n",
       "      <td>suomi</td>\n",
       "    </tr>\n",
       "    <tr>\n",
       "      <th>11942</th>\n",
       "      <td>12645</td>\n",
       "      <td>symbiosis</td>\n",
       "    </tr>\n",
       "    <tr>\n",
       "      <th>11943</th>\n",
       "      <td>12646</td>\n",
       "      <td>sverige</td>\n",
       "    </tr>\n",
       "    <tr>\n",
       "      <th>11944</th>\n",
       "      <td>12647</td>\n",
       "      <td>eire</td>\n",
       "    </tr>\n",
       "    <tr>\n",
       "      <th>11945</th>\n",
       "      <td>12648</td>\n",
       "      <td>electro latino</td>\n",
       "    </tr>\n",
       "  </tbody>\n",
       "</table>\n",
       "<p>11946 rows × 2 columns</p>\n",
       "</div>"
      ],
      "text/plain": [
       "       tagID           tagValue\n",
       "0          1              metal\n",
       "1          2  alternative metal\n",
       "2          3          goth rock\n",
       "3          4        black metal\n",
       "4          5        death metal\n",
       "...      ...                ...\n",
       "11941  12644              suomi\n",
       "11942  12645          symbiosis\n",
       "11943  12646            sverige\n",
       "11944  12647               eire\n",
       "11945  12648     electro latino\n",
       "\n",
       "[11946 rows x 2 columns]"
      ]
     },
     "execution_count": 11,
     "metadata": {},
     "output_type": "execute_result"
    }
   ],
   "source": [
    "df1 = pd.read_csv(\"data/hetrec2011-lastfm-2k/tags.csv\")\n",
    "df1"
   ]
  },
  {
   "cell_type": "code",
   "execution_count": 12,
   "id": "372d8f1a",
   "metadata": {},
   "outputs": [
    {
     "data": {
      "text/html": [
       "<div>\n",
       "<style scoped>\n",
       "    .dataframe tbody tr th:only-of-type {\n",
       "        vertical-align: middle;\n",
       "    }\n",
       "\n",
       "    .dataframe tbody tr th {\n",
       "        vertical-align: top;\n",
       "    }\n",
       "\n",
       "    .dataframe thead th {\n",
       "        text-align: right;\n",
       "    }\n",
       "</style>\n",
       "<table border=\"1\" class=\"dataframe\">\n",
       "  <thead>\n",
       "    <tr style=\"text-align: right;\">\n",
       "      <th></th>\n",
       "      <th>userID</th>\n",
       "      <th>artistID</th>\n",
       "      <th>weight</th>\n",
       "    </tr>\n",
       "  </thead>\n",
       "  <tbody>\n",
       "    <tr>\n",
       "      <th>0</th>\n",
       "      <td>2</td>\n",
       "      <td>51</td>\n",
       "      <td>13883</td>\n",
       "    </tr>\n",
       "    <tr>\n",
       "      <th>1</th>\n",
       "      <td>2</td>\n",
       "      <td>52</td>\n",
       "      <td>11690</td>\n",
       "    </tr>\n",
       "    <tr>\n",
       "      <th>2</th>\n",
       "      <td>2</td>\n",
       "      <td>53</td>\n",
       "      <td>11351</td>\n",
       "    </tr>\n",
       "    <tr>\n",
       "      <th>3</th>\n",
       "      <td>2</td>\n",
       "      <td>54</td>\n",
       "      <td>10300</td>\n",
       "    </tr>\n",
       "    <tr>\n",
       "      <th>4</th>\n",
       "      <td>2</td>\n",
       "      <td>55</td>\n",
       "      <td>8983</td>\n",
       "    </tr>\n",
       "    <tr>\n",
       "      <th>...</th>\n",
       "      <td>...</td>\n",
       "      <td>...</td>\n",
       "      <td>...</td>\n",
       "    </tr>\n",
       "    <tr>\n",
       "      <th>92829</th>\n",
       "      <td>2100</td>\n",
       "      <td>18726</td>\n",
       "      <td>337</td>\n",
       "    </tr>\n",
       "    <tr>\n",
       "      <th>92830</th>\n",
       "      <td>2100</td>\n",
       "      <td>18727</td>\n",
       "      <td>297</td>\n",
       "    </tr>\n",
       "    <tr>\n",
       "      <th>92831</th>\n",
       "      <td>2100</td>\n",
       "      <td>18728</td>\n",
       "      <td>281</td>\n",
       "    </tr>\n",
       "    <tr>\n",
       "      <th>92832</th>\n",
       "      <td>2100</td>\n",
       "      <td>18729</td>\n",
       "      <td>280</td>\n",
       "    </tr>\n",
       "    <tr>\n",
       "      <th>92833</th>\n",
       "      <td>2100</td>\n",
       "      <td>18730</td>\n",
       "      <td>263</td>\n",
       "    </tr>\n",
       "  </tbody>\n",
       "</table>\n",
       "<p>92834 rows × 3 columns</p>\n",
       "</div>"
      ],
      "text/plain": [
       "       userID  artistID  weight\n",
       "0           2        51   13883\n",
       "1           2        52   11690\n",
       "2           2        53   11351\n",
       "3           2        54   10300\n",
       "4           2        55    8983\n",
       "...       ...       ...     ...\n",
       "92829    2100     18726     337\n",
       "92830    2100     18727     297\n",
       "92831    2100     18728     281\n",
       "92832    2100     18729     280\n",
       "92833    2100     18730     263\n",
       "\n",
       "[92834 rows x 3 columns]"
      ]
     },
     "execution_count": 12,
     "metadata": {},
     "output_type": "execute_result"
    }
   ],
   "source": [
    "df2 = pd.read_csv(\"data/hetrec2011-lastfm-2k/user_artists.csv\")\n",
    "df2"
   ]
  },
  {
   "cell_type": "code",
   "execution_count": 13,
   "id": "213e5d31",
   "metadata": {},
   "outputs": [
    {
     "data": {
      "text/plain": [
       "1"
      ]
     },
     "execution_count": 13,
     "metadata": {},
     "output_type": "execute_result"
    }
   ],
   "source": [
    "df2['artistID'].min()"
   ]
  },
  {
   "cell_type": "code",
   "execution_count": 14,
   "id": "75cc8c19",
   "metadata": {},
   "outputs": [],
   "source": [
    "# Since the ids start at 2, we get them to start at 0. We also need to have the max value 1 less than the no of unique values.\n",
    "df2[\"userID\"] = df2[\"userID\"].apply(lambda x: str(x-2))\n",
    "df2[\"artistID\"] = df2[\"artistID\"].apply(lambda x: str(x-1))"
   ]
  },
  {
   "cell_type": "code",
   "execution_count": 15,
   "id": "0bf17f35",
   "metadata": {},
   "outputs": [],
   "source": [
    "df2['userID'] = df2['userID'].astype(int)\n",
    "xyz =  np.array(df2['userID'])\n",
    "#zzz = np.array(played['userID'])\n",
    "vals = []\n",
    "for i in range(len(xyz)):\n",
    "    v = xyz[i]\n",
    "    if v not in vals:\n",
    "        vals.append(v)\n",
    "    else:\n",
    "        continue"
   ]
  },
  {
   "cell_type": "code",
   "execution_count": 16,
   "id": "b0a192a5",
   "metadata": {},
   "outputs": [
    {
     "data": {
      "text/plain": [
       "2098"
      ]
     },
     "execution_count": 16,
     "metadata": {},
     "output_type": "execute_result"
    }
   ],
   "source": [
    "vals[-1]"
   ]
  },
  {
   "cell_type": "code",
   "execution_count": 17,
   "id": "62ffd020",
   "metadata": {},
   "outputs": [
    {
     "data": {
      "text/plain": [
       "2098"
      ]
     },
     "execution_count": 17,
     "metadata": {},
     "output_type": "execute_result"
    }
   ],
   "source": [
    "unique_list = list(set(vals))\n",
    "unique_list.sort()\n",
    "unique_list[-1]"
   ]
  },
  {
   "cell_type": "code",
   "execution_count": 18,
   "id": "86c40ba8",
   "metadata": {},
   "outputs": [
    {
     "data": {
      "text/plain": [
       "1891"
      ]
     },
     "execution_count": 18,
     "metadata": {},
     "output_type": "execute_result"
    }
   ],
   "source": [
    "usenew = []\n",
    "for i in range(0, 1892):\n",
    "    usenew.append(i)\n",
    "\n",
    "usenew[-1]"
   ]
  },
  {
   "cell_type": "code",
   "execution_count": 19,
   "id": "f93271d0",
   "metadata": {},
   "outputs": [],
   "source": [
    "keys = unique_list\n",
    "values = usenew\n",
    "dictionary = dict(zip(keys, values))\n",
    "#print(dictionary) # {'a': 1, 'b': 2, 'c': 3}"
   ]
  },
  {
   "cell_type": "code",
   "execution_count": 20,
   "id": "04397e42",
   "metadata": {},
   "outputs": [],
   "source": [
    "s = df2['userID']\n",
    "\n",
    "df2['userID'] = s.map(dictionary)"
   ]
  },
  {
   "cell_type": "code",
   "execution_count": 21,
   "id": "ee4af8c8",
   "metadata": {},
   "outputs": [
    {
     "data": {
      "text/html": [
       "<div>\n",
       "<style scoped>\n",
       "    .dataframe tbody tr th:only-of-type {\n",
       "        vertical-align: middle;\n",
       "    }\n",
       "\n",
       "    .dataframe tbody tr th {\n",
       "        vertical-align: top;\n",
       "    }\n",
       "\n",
       "    .dataframe thead th {\n",
       "        text-align: right;\n",
       "    }\n",
       "</style>\n",
       "<table border=\"1\" class=\"dataframe\">\n",
       "  <thead>\n",
       "    <tr style=\"text-align: right;\">\n",
       "      <th></th>\n",
       "      <th>userID</th>\n",
       "      <th>artistID</th>\n",
       "      <th>weight</th>\n",
       "    </tr>\n",
       "  </thead>\n",
       "  <tbody>\n",
       "    <tr>\n",
       "      <th>0</th>\n",
       "      <td>0</td>\n",
       "      <td>50</td>\n",
       "      <td>13883</td>\n",
       "    </tr>\n",
       "    <tr>\n",
       "      <th>1</th>\n",
       "      <td>0</td>\n",
       "      <td>51</td>\n",
       "      <td>11690</td>\n",
       "    </tr>\n",
       "    <tr>\n",
       "      <th>2</th>\n",
       "      <td>0</td>\n",
       "      <td>52</td>\n",
       "      <td>11351</td>\n",
       "    </tr>\n",
       "    <tr>\n",
       "      <th>3</th>\n",
       "      <td>0</td>\n",
       "      <td>53</td>\n",
       "      <td>10300</td>\n",
       "    </tr>\n",
       "    <tr>\n",
       "      <th>4</th>\n",
       "      <td>0</td>\n",
       "      <td>54</td>\n",
       "      <td>8983</td>\n",
       "    </tr>\n",
       "  </tbody>\n",
       "</table>\n",
       "</div>"
      ],
      "text/plain": [
       "   userID artistID  weight\n",
       "0       0       50   13883\n",
       "1       0       51   11690\n",
       "2       0       52   11351\n",
       "3       0       53   10300\n",
       "4       0       54    8983"
      ]
     },
     "execution_count": 21,
     "metadata": {},
     "output_type": "execute_result"
    }
   ],
   "source": [
    "df2.head()"
   ]
  },
  {
   "cell_type": "code",
   "execution_count": 22,
   "id": "4bc026c8",
   "metadata": {},
   "outputs": [],
   "source": [
    "df2['artistID'] = df2['artistID'].astype(int)\n",
    "xyz =  np.array(df2['artistID'])\n",
    "#zzz = np.array(played['userID'])\n",
    "vals = []\n",
    "for i in range(len(xyz)):\n",
    "    v = xyz[i]\n",
    "    if v not in vals:\n",
    "        vals.append(v)\n",
    "    else:\n",
    "        continue"
   ]
  },
  {
   "cell_type": "code",
   "execution_count": 23,
   "id": "065e2a0b",
   "metadata": {},
   "outputs": [
    {
     "data": {
      "text/plain": [
       "0"
      ]
     },
     "execution_count": 23,
     "metadata": {},
     "output_type": "execute_result"
    }
   ],
   "source": [
    "unique_list = list(set(vals))\n",
    "unique_list.sort()\n",
    "unique_list[0]"
   ]
  },
  {
   "cell_type": "code",
   "execution_count": 24,
   "id": "ab4a2de0",
   "metadata": {},
   "outputs": [
    {
     "data": {
      "text/plain": [
       "17631"
      ]
     },
     "execution_count": 24,
     "metadata": {},
     "output_type": "execute_result"
    }
   ],
   "source": [
    "usenew = []\n",
    "for i in range(0, 17632):\n",
    "    usenew.append(i)\n",
    "\n",
    "usenew[-1]"
   ]
  },
  {
   "cell_type": "code",
   "execution_count": 25,
   "id": "4e728879",
   "metadata": {},
   "outputs": [],
   "source": [
    "keys = unique_list\n",
    "values = usenew\n",
    "diction = dict(zip(keys, values))\n",
    "#print(diction) # {'a': 1, 'b': 2, 'c': 3}"
   ]
  },
  {
   "cell_type": "code",
   "execution_count": 26,
   "id": "090cd02b",
   "metadata": {},
   "outputs": [],
   "source": [
    "s = df2['artistID']\n",
    "\n",
    "df2['artistID'] = s.map(diction)"
   ]
  },
  {
   "cell_type": "code",
   "execution_count": 27,
   "id": "fb926189",
   "metadata": {},
   "outputs": [
    {
     "data": {
      "text/plain": [
       "352698"
      ]
     },
     "execution_count": 27,
     "metadata": {},
     "output_type": "execute_result"
    }
   ],
   "source": [
    "df2['weight'].max()"
   ]
  },
  {
   "cell_type": "code",
   "execution_count": 28,
   "id": "4c376ed3",
   "metadata": {},
   "outputs": [
    {
     "data": {
      "text/html": [
       "<div>\n",
       "<style scoped>\n",
       "    .dataframe tbody tr th:only-of-type {\n",
       "        vertical-align: middle;\n",
       "    }\n",
       "\n",
       "    .dataframe tbody tr th {\n",
       "        vertical-align: top;\n",
       "    }\n",
       "\n",
       "    .dataframe thead th {\n",
       "        text-align: right;\n",
       "    }\n",
       "</style>\n",
       "<table border=\"1\" class=\"dataframe\">\n",
       "  <thead>\n",
       "    <tr style=\"text-align: right;\">\n",
       "      <th></th>\n",
       "      <th>userID</th>\n",
       "      <th>artistID</th>\n",
       "      <th>weight</th>\n",
       "    </tr>\n",
       "  </thead>\n",
       "  <tbody>\n",
       "    <tr>\n",
       "      <th>0</th>\n",
       "      <td>0</td>\n",
       "      <td>45</td>\n",
       "      <td>13883</td>\n",
       "    </tr>\n",
       "    <tr>\n",
       "      <th>1</th>\n",
       "      <td>0</td>\n",
       "      <td>46</td>\n",
       "      <td>11690</td>\n",
       "    </tr>\n",
       "    <tr>\n",
       "      <th>2</th>\n",
       "      <td>0</td>\n",
       "      <td>47</td>\n",
       "      <td>11351</td>\n",
       "    </tr>\n",
       "    <tr>\n",
       "      <th>3</th>\n",
       "      <td>0</td>\n",
       "      <td>48</td>\n",
       "      <td>10300</td>\n",
       "    </tr>\n",
       "    <tr>\n",
       "      <th>4</th>\n",
       "      <td>0</td>\n",
       "      <td>49</td>\n",
       "      <td>8983</td>\n",
       "    </tr>\n",
       "    <tr>\n",
       "      <th>...</th>\n",
       "      <td>...</td>\n",
       "      <td>...</td>\n",
       "      <td>...</td>\n",
       "    </tr>\n",
       "    <tr>\n",
       "      <th>92829</th>\n",
       "      <td>1891</td>\n",
       "      <td>17615</td>\n",
       "      <td>337</td>\n",
       "    </tr>\n",
       "    <tr>\n",
       "      <th>92830</th>\n",
       "      <td>1891</td>\n",
       "      <td>17616</td>\n",
       "      <td>297</td>\n",
       "    </tr>\n",
       "    <tr>\n",
       "      <th>92831</th>\n",
       "      <td>1891</td>\n",
       "      <td>17617</td>\n",
       "      <td>281</td>\n",
       "    </tr>\n",
       "    <tr>\n",
       "      <th>92832</th>\n",
       "      <td>1891</td>\n",
       "      <td>17618</td>\n",
       "      <td>280</td>\n",
       "    </tr>\n",
       "    <tr>\n",
       "      <th>92833</th>\n",
       "      <td>1891</td>\n",
       "      <td>17619</td>\n",
       "      <td>263</td>\n",
       "    </tr>\n",
       "  </tbody>\n",
       "</table>\n",
       "<p>92834 rows × 3 columns</p>\n",
       "</div>"
      ],
      "text/plain": [
       "       userID  artistID  weight\n",
       "0           0        45   13883\n",
       "1           0        46   11690\n",
       "2           0        47   11351\n",
       "3           0        48   10300\n",
       "4           0        49    8983\n",
       "...       ...       ...     ...\n",
       "92829    1891     17615     337\n",
       "92830    1891     17616     297\n",
       "92831    1891     17617     281\n",
       "92832    1891     17618     280\n",
       "92833    1891     17619     263\n",
       "\n",
       "[92834 rows x 3 columns]"
      ]
     },
     "execution_count": 28,
     "metadata": {},
     "output_type": "execute_result"
    }
   ],
   "source": [
    "df2"
   ]
  },
  {
   "cell_type": "code",
   "execution_count": 29,
   "id": "b2ef80de",
   "metadata": {},
   "outputs": [
    {
     "data": {
      "text/html": [
       "<div>\n",
       "<style scoped>\n",
       "    .dataframe tbody tr th:only-of-type {\n",
       "        vertical-align: middle;\n",
       "    }\n",
       "\n",
       "    .dataframe tbody tr th {\n",
       "        vertical-align: top;\n",
       "    }\n",
       "\n",
       "    .dataframe thead th {\n",
       "        text-align: right;\n",
       "    }\n",
       "</style>\n",
       "<table border=\"1\" class=\"dataframe\">\n",
       "  <thead>\n",
       "    <tr style=\"text-align: right;\">\n",
       "      <th></th>\n",
       "      <th>userID</th>\n",
       "      <th>friendID</th>\n",
       "    </tr>\n",
       "  </thead>\n",
       "  <tbody>\n",
       "    <tr>\n",
       "      <th>0</th>\n",
       "      <td>2</td>\n",
       "      <td>275</td>\n",
       "    </tr>\n",
       "    <tr>\n",
       "      <th>1</th>\n",
       "      <td>2</td>\n",
       "      <td>428</td>\n",
       "    </tr>\n",
       "    <tr>\n",
       "      <th>2</th>\n",
       "      <td>2</td>\n",
       "      <td>515</td>\n",
       "    </tr>\n",
       "    <tr>\n",
       "      <th>3</th>\n",
       "      <td>2</td>\n",
       "      <td>761</td>\n",
       "    </tr>\n",
       "    <tr>\n",
       "      <th>4</th>\n",
       "      <td>2</td>\n",
       "      <td>831</td>\n",
       "    </tr>\n",
       "    <tr>\n",
       "      <th>...</th>\n",
       "      <td>...</td>\n",
       "      <td>...</td>\n",
       "    </tr>\n",
       "    <tr>\n",
       "      <th>25429</th>\n",
       "      <td>2099</td>\n",
       "      <td>1801</td>\n",
       "    </tr>\n",
       "    <tr>\n",
       "      <th>25430</th>\n",
       "      <td>2099</td>\n",
       "      <td>2006</td>\n",
       "    </tr>\n",
       "    <tr>\n",
       "      <th>25431</th>\n",
       "      <td>2099</td>\n",
       "      <td>2016</td>\n",
       "    </tr>\n",
       "    <tr>\n",
       "      <th>25432</th>\n",
       "      <td>2100</td>\n",
       "      <td>586</td>\n",
       "    </tr>\n",
       "    <tr>\n",
       "      <th>25433</th>\n",
       "      <td>2100</td>\n",
       "      <td>607</td>\n",
       "    </tr>\n",
       "  </tbody>\n",
       "</table>\n",
       "<p>25434 rows × 2 columns</p>\n",
       "</div>"
      ],
      "text/plain": [
       "       userID  friendID\n",
       "0           2       275\n",
       "1           2       428\n",
       "2           2       515\n",
       "3           2       761\n",
       "4           2       831\n",
       "...       ...       ...\n",
       "25429    2099      1801\n",
       "25430    2099      2006\n",
       "25431    2099      2016\n",
       "25432    2100       586\n",
       "25433    2100       607\n",
       "\n",
       "[25434 rows x 2 columns]"
      ]
     },
     "execution_count": 29,
     "metadata": {},
     "output_type": "execute_result"
    }
   ],
   "source": [
    "df3 = pd.read_csv(\"data/hetrec2011-lastfm-2k/user_friends.csv\")\n",
    "df3"
   ]
  },
  {
   "cell_type": "code",
   "execution_count": 30,
   "id": "97deb688",
   "metadata": {},
   "outputs": [],
   "source": [
    "# Since the ids start at 2, we get them to start at 0. We also need to have the max value 1 less than the no of unique values.\n",
    "df3[\"userID\"] = df3[\"userID\"].apply(lambda x: str(x-2))\n",
    "df3[\"friendID\"] = df3[\"friendID\"].apply(lambda x: str(x-2))\n",
    "\n",
    "df3['userID'] = pd.to_numeric(df3['userID'])\n",
    "df3['friendID'] = pd.to_numeric(df3['friendID'])"
   ]
  },
  {
   "cell_type": "code",
   "execution_count": 31,
   "id": "b916fd54",
   "metadata": {},
   "outputs": [
    {
     "data": {
      "text/plain": [
       "2098"
      ]
     },
     "execution_count": 31,
     "metadata": {},
     "output_type": "execute_result"
    }
   ],
   "source": [
    "df3['friendID'].max()"
   ]
  },
  {
   "cell_type": "code",
   "execution_count": 32,
   "id": "dd5da2d4",
   "metadata": {},
   "outputs": [
    {
     "data": {
      "text/plain": [
       "1892"
      ]
     },
     "execution_count": 32,
     "metadata": {},
     "output_type": "execute_result"
    }
   ],
   "source": [
    "df3['friendID'].nunique()"
   ]
  },
  {
   "cell_type": "code",
   "execution_count": 33,
   "id": "1680bc3e",
   "metadata": {},
   "outputs": [],
   "source": [
    "xyz =  np.array(df3['userID'])\n",
    "#zzz = np.array(df2['userID'])\n",
    "vals = []\n",
    "for i in range(len(xyz)):\n",
    "    if xyz[i] not in vals:\n",
    "        vals.append(xyz[i])"
   ]
  },
  {
   "cell_type": "code",
   "execution_count": 34,
   "id": "6e9f6baf",
   "metadata": {},
   "outputs": [
    {
     "data": {
      "text/plain": [
       "2098"
      ]
     },
     "execution_count": 34,
     "metadata": {},
     "output_type": "execute_result"
    }
   ],
   "source": [
    "unique_list = list(set(vals))\n",
    "unique_list.sort()\n",
    "unique_list[-1]"
   ]
  },
  {
   "cell_type": "code",
   "execution_count": 35,
   "id": "ed40605e",
   "metadata": {},
   "outputs": [
    {
     "data": {
      "text/plain": [
       "1891"
      ]
     },
     "execution_count": 35,
     "metadata": {},
     "output_type": "execute_result"
    }
   ],
   "source": [
    "usenew = []\n",
    "for i in range(0, 1892):\n",
    "    usenew.append(i)\n",
    "\n",
    "usenew[-1]"
   ]
  },
  {
   "cell_type": "code",
   "execution_count": 36,
   "id": "0f5871cf",
   "metadata": {},
   "outputs": [],
   "source": [
    "keys = unique_list\n",
    "values = usenew\n",
    "dictionary = dict(zip(keys, values))\n",
    "#print(dictionary) # {'a': 1, 'b': 2, 'c': 3}"
   ]
  },
  {
   "cell_type": "code",
   "execution_count": 37,
   "id": "9c01b1f3",
   "metadata": {},
   "outputs": [],
   "source": [
    "s = df3['userID']\n",
    "\n",
    "df3['userID'] = s.map(dictionary)"
   ]
  },
  {
   "cell_type": "code",
   "execution_count": 38,
   "id": "f04f5753",
   "metadata": {},
   "outputs": [],
   "source": [
    "o = df3['friendID']\n",
    "\n",
    "df3['friendID'] = o.map(dictionary)"
   ]
  },
  {
   "cell_type": "code",
   "execution_count": 39,
   "id": "78a14757",
   "metadata": {},
   "outputs": [
    {
     "data": {
      "text/plain": [
       "1891"
      ]
     },
     "execution_count": 39,
     "metadata": {},
     "output_type": "execute_result"
    }
   ],
   "source": [
    "df3['friendID'].max()"
   ]
  },
  {
   "cell_type": "code",
   "execution_count": 40,
   "id": "eaa9e409",
   "metadata": {},
   "outputs": [
    {
     "data": {
      "text/plain": [
       "False"
      ]
     },
     "execution_count": 40,
     "metadata": {},
     "output_type": "execute_result"
    }
   ],
   "source": [
    "df3.isnull().values.any()"
   ]
  },
  {
   "cell_type": "code",
   "execution_count": 41,
   "id": "1dff649e",
   "metadata": {},
   "outputs": [
    {
     "data": {
      "text/html": [
       "<div>\n",
       "<style scoped>\n",
       "    .dataframe tbody tr th:only-of-type {\n",
       "        vertical-align: middle;\n",
       "    }\n",
       "\n",
       "    .dataframe tbody tr th {\n",
       "        vertical-align: top;\n",
       "    }\n",
       "\n",
       "    .dataframe thead th {\n",
       "        text-align: right;\n",
       "    }\n",
       "</style>\n",
       "<table border=\"1\" class=\"dataframe\">\n",
       "  <thead>\n",
       "    <tr style=\"text-align: right;\">\n",
       "      <th></th>\n",
       "      <th>userID</th>\n",
       "      <th>artistID</th>\n",
       "      <th>tagID</th>\n",
       "      <th>day</th>\n",
       "      <th>month</th>\n",
       "      <th>year</th>\n",
       "    </tr>\n",
       "  </thead>\n",
       "  <tbody>\n",
       "    <tr>\n",
       "      <th>0</th>\n",
       "      <td>2</td>\n",
       "      <td>52</td>\n",
       "      <td>13</td>\n",
       "      <td>1</td>\n",
       "      <td>4</td>\n",
       "      <td>2009</td>\n",
       "    </tr>\n",
       "    <tr>\n",
       "      <th>1</th>\n",
       "      <td>2</td>\n",
       "      <td>52</td>\n",
       "      <td>15</td>\n",
       "      <td>1</td>\n",
       "      <td>4</td>\n",
       "      <td>2009</td>\n",
       "    </tr>\n",
       "    <tr>\n",
       "      <th>2</th>\n",
       "      <td>2</td>\n",
       "      <td>52</td>\n",
       "      <td>18</td>\n",
       "      <td>1</td>\n",
       "      <td>4</td>\n",
       "      <td>2009</td>\n",
       "    </tr>\n",
       "    <tr>\n",
       "      <th>3</th>\n",
       "      <td>2</td>\n",
       "      <td>52</td>\n",
       "      <td>21</td>\n",
       "      <td>1</td>\n",
       "      <td>4</td>\n",
       "      <td>2009</td>\n",
       "    </tr>\n",
       "    <tr>\n",
       "      <th>4</th>\n",
       "      <td>2</td>\n",
       "      <td>52</td>\n",
       "      <td>41</td>\n",
       "      <td>1</td>\n",
       "      <td>4</td>\n",
       "      <td>2009</td>\n",
       "    </tr>\n",
       "    <tr>\n",
       "      <th>...</th>\n",
       "      <td>...</td>\n",
       "      <td>...</td>\n",
       "      <td>...</td>\n",
       "      <td>...</td>\n",
       "      <td>...</td>\n",
       "      <td>...</td>\n",
       "    </tr>\n",
       "    <tr>\n",
       "      <th>186474</th>\n",
       "      <td>2100</td>\n",
       "      <td>16437</td>\n",
       "      <td>4</td>\n",
       "      <td>1</td>\n",
       "      <td>7</td>\n",
       "      <td>2010</td>\n",
       "    </tr>\n",
       "    <tr>\n",
       "      <th>186475</th>\n",
       "      <td>2100</td>\n",
       "      <td>16437</td>\n",
       "      <td>292</td>\n",
       "      <td>1</td>\n",
       "      <td>5</td>\n",
       "      <td>2010</td>\n",
       "    </tr>\n",
       "    <tr>\n",
       "      <th>186476</th>\n",
       "      <td>2100</td>\n",
       "      <td>16437</td>\n",
       "      <td>2087</td>\n",
       "      <td>1</td>\n",
       "      <td>7</td>\n",
       "      <td>2010</td>\n",
       "    </tr>\n",
       "    <tr>\n",
       "      <th>186477</th>\n",
       "      <td>2100</td>\n",
       "      <td>16437</td>\n",
       "      <td>2801</td>\n",
       "      <td>1</td>\n",
       "      <td>5</td>\n",
       "      <td>2010</td>\n",
       "    </tr>\n",
       "    <tr>\n",
       "      <th>186478</th>\n",
       "      <td>2100</td>\n",
       "      <td>16437</td>\n",
       "      <td>3335</td>\n",
       "      <td>1</td>\n",
       "      <td>7</td>\n",
       "      <td>2010</td>\n",
       "    </tr>\n",
       "  </tbody>\n",
       "</table>\n",
       "<p>186479 rows × 6 columns</p>\n",
       "</div>"
      ],
      "text/plain": [
       "        userID  artistID  tagID  day  month  year\n",
       "0            2        52     13    1      4  2009\n",
       "1            2        52     15    1      4  2009\n",
       "2            2        52     18    1      4  2009\n",
       "3            2        52     21    1      4  2009\n",
       "4            2        52     41    1      4  2009\n",
       "...        ...       ...    ...  ...    ...   ...\n",
       "186474    2100     16437      4    1      7  2010\n",
       "186475    2100     16437    292    1      5  2010\n",
       "186476    2100     16437   2087    1      7  2010\n",
       "186477    2100     16437   2801    1      5  2010\n",
       "186478    2100     16437   3335    1      7  2010\n",
       "\n",
       "[186479 rows x 6 columns]"
      ]
     },
     "execution_count": 41,
     "metadata": {},
     "output_type": "execute_result"
    }
   ],
   "source": [
    "df4 = pd.read_csv(\"data/hetrec2011-lastfm-2k/user_taggedartists-timestamps.csv\")\n",
    "df4"
   ]
  },
  {
   "cell_type": "code",
   "execution_count": null,
   "id": "be60a064",
   "metadata": {},
   "outputs": [],
   "source": [
    "df5 = pd.read_csv(\"data/hetrec2011-lastfm-2k/user_taggedartists.csv\")\n",
    "df5.head()"
   ]
  },
  {
   "cell_type": "markdown",
   "id": "b9b1fb84",
   "metadata": {},
   "source": [
    "Our last two dataframes seem exactly the same. Let's check this before we delete anything."
   ]
  },
  {
   "cell_type": "code",
   "execution_count": null,
   "id": "b0eda005",
   "metadata": {},
   "outputs": [],
   "source": [
    "def checkequality(A, B):\n",
    "\n",
    "    df11 = A.sort_index(axis=1)\n",
    "    df11 = df11.sort_values(df11.columns.tolist()).reset_index(drop=True)\n",
    "\n",
    "    df22 = B.sort_index(axis=1)\n",
    "    df22 = df22.sort_values(df22.columns.tolist()).reset_index(drop=True)\n",
    "    return (df11 == df22).values.all()\n",
    "\n",
    "a = checkequality(df4, df5)\n",
    "print (a)"
   ]
  },
  {
   "cell_type": "markdown",
   "id": "f9f45622",
   "metadata": {},
   "source": [
    "Two of our files are exactly the same. We can delete one of these accordingly."
   ]
  },
  {
   "cell_type": "code",
   "execution_count": null,
   "id": "2616eb3c",
   "metadata": {},
   "outputs": [],
   "source": [
    "del df5"
   ]
  },
  {
   "cell_type": "code",
   "execution_count": 42,
   "id": "a193c3f2",
   "metadata": {},
   "outputs": [],
   "source": [
    "# Since the ids start at 2, we get them to start at 0. We also need to have the max value 1 less than the no of unique values.\n",
    "df4[\"userID\"] = df4[\"userID\"].apply(lambda x: str(x-2))\n",
    "df4[\"artistID\"] = df4[\"artistID\"].apply(lambda x: str(x-1))\n",
    "\n",
    "df4['artistID'] = df4['artistID'].astype(int)\n",
    "df4['userID'] = df4['userID'].astype(int)"
   ]
  },
  {
   "cell_type": "code",
   "execution_count": 43,
   "id": "f03b074e",
   "metadata": {},
   "outputs": [],
   "source": [
    "xyz =  np.array(df4['artistID'])\n",
    "#zzz = np.array(played['userID'])\n",
    "vals = []\n",
    "for i in range(len(xyz)):\n",
    "    v = xyz[i]\n",
    "    if v not in vals:\n",
    "        vals.append(v)\n",
    "    else:\n",
    "        continue"
   ]
  },
  {
   "cell_type": "code",
   "execution_count": 44,
   "id": "3f0d91d9",
   "metadata": {},
   "outputs": [
    {
     "name": "stdout",
     "output_type": "stream",
     "text": [
      "18743\n"
     ]
    },
    {
     "data": {
      "text/plain": [
       "17631"
      ]
     },
     "execution_count": 44,
     "metadata": {},
     "output_type": "execute_result"
    }
   ],
   "source": [
    "unique_list = list(set(vals))\n",
    "unique_list.sort()\n",
    "print(unique_list[-1])\n",
    "\n",
    "usenew = []\n",
    "for i in range(0, 17632):\n",
    "    usenew.append(i)\n",
    "\n",
    "usenew[-1]"
   ]
  },
  {
   "cell_type": "code",
   "execution_count": 45,
   "id": "cac8dd2d",
   "metadata": {},
   "outputs": [],
   "source": [
    "keys = unique_list\n",
    "values = usenew\n",
    "diction = dict(zip(keys, values))\n",
    "#print(diction) # {'a': 1, 'b': 2, 'c': 3}"
   ]
  },
  {
   "cell_type": "code",
   "execution_count": 46,
   "id": "ddf00d3d",
   "metadata": {},
   "outputs": [],
   "source": [
    "s = df4['artistID']\n",
    "\n",
    "df4['artistID'] = s.map(diction)"
   ]
  },
  {
   "cell_type": "code",
   "execution_count": 47,
   "id": "9df8a830",
   "metadata": {},
   "outputs": [],
   "source": [
    "s = df4['userID']\n",
    "\n",
    "df4['userID'] = s.map(dictionary)\n",
    "#print(dictionary)"
   ]
  },
  {
   "cell_type": "code",
   "execution_count": 48,
   "id": "48e54c4b",
   "metadata": {},
   "outputs": [
    {
     "data": {
      "text/html": [
       "<div>\n",
       "<style scoped>\n",
       "    .dataframe tbody tr th:only-of-type {\n",
       "        vertical-align: middle;\n",
       "    }\n",
       "\n",
       "    .dataframe tbody tr th {\n",
       "        vertical-align: top;\n",
       "    }\n",
       "\n",
       "    .dataframe thead th {\n",
       "        text-align: right;\n",
       "    }\n",
       "</style>\n",
       "<table border=\"1\" class=\"dataframe\">\n",
       "  <thead>\n",
       "    <tr style=\"text-align: right;\">\n",
       "      <th></th>\n",
       "      <th>userID</th>\n",
       "      <th>artistID</th>\n",
       "      <th>tagID</th>\n",
       "      <th>day</th>\n",
       "      <th>month</th>\n",
       "      <th>year</th>\n",
       "    </tr>\n",
       "  </thead>\n",
       "  <tbody>\n",
       "    <tr>\n",
       "      <th>0</th>\n",
       "      <td>0</td>\n",
       "      <td>49</td>\n",
       "      <td>13</td>\n",
       "      <td>1</td>\n",
       "      <td>4</td>\n",
       "      <td>2009</td>\n",
       "    </tr>\n",
       "    <tr>\n",
       "      <th>1</th>\n",
       "      <td>0</td>\n",
       "      <td>49</td>\n",
       "      <td>15</td>\n",
       "      <td>1</td>\n",
       "      <td>4</td>\n",
       "      <td>2009</td>\n",
       "    </tr>\n",
       "    <tr>\n",
       "      <th>2</th>\n",
       "      <td>0</td>\n",
       "      <td>49</td>\n",
       "      <td>18</td>\n",
       "      <td>1</td>\n",
       "      <td>4</td>\n",
       "      <td>2009</td>\n",
       "    </tr>\n",
       "    <tr>\n",
       "      <th>3</th>\n",
       "      <td>0</td>\n",
       "      <td>49</td>\n",
       "      <td>21</td>\n",
       "      <td>1</td>\n",
       "      <td>4</td>\n",
       "      <td>2009</td>\n",
       "    </tr>\n",
       "    <tr>\n",
       "      <th>4</th>\n",
       "      <td>0</td>\n",
       "      <td>49</td>\n",
       "      <td>41</td>\n",
       "      <td>1</td>\n",
       "      <td>4</td>\n",
       "      <td>2009</td>\n",
       "    </tr>\n",
       "    <tr>\n",
       "      <th>...</th>\n",
       "      <td>...</td>\n",
       "      <td>...</td>\n",
       "      <td>...</td>\n",
       "      <td>...</td>\n",
       "      <td>...</td>\n",
       "      <td>...</td>\n",
       "    </tr>\n",
       "    <tr>\n",
       "      <th>186474</th>\n",
       "      <td>1891</td>\n",
       "      <td>11288</td>\n",
       "      <td>4</td>\n",
       "      <td>1</td>\n",
       "      <td>7</td>\n",
       "      <td>2010</td>\n",
       "    </tr>\n",
       "    <tr>\n",
       "      <th>186475</th>\n",
       "      <td>1891</td>\n",
       "      <td>11288</td>\n",
       "      <td>292</td>\n",
       "      <td>1</td>\n",
       "      <td>5</td>\n",
       "      <td>2010</td>\n",
       "    </tr>\n",
       "    <tr>\n",
       "      <th>186476</th>\n",
       "      <td>1891</td>\n",
       "      <td>11288</td>\n",
       "      <td>2087</td>\n",
       "      <td>1</td>\n",
       "      <td>7</td>\n",
       "      <td>2010</td>\n",
       "    </tr>\n",
       "    <tr>\n",
       "      <th>186477</th>\n",
       "      <td>1891</td>\n",
       "      <td>11288</td>\n",
       "      <td>2801</td>\n",
       "      <td>1</td>\n",
       "      <td>5</td>\n",
       "      <td>2010</td>\n",
       "    </tr>\n",
       "    <tr>\n",
       "      <th>186478</th>\n",
       "      <td>1891</td>\n",
       "      <td>11288</td>\n",
       "      <td>3335</td>\n",
       "      <td>1</td>\n",
       "      <td>7</td>\n",
       "      <td>2010</td>\n",
       "    </tr>\n",
       "  </tbody>\n",
       "</table>\n",
       "<p>186479 rows × 6 columns</p>\n",
       "</div>"
      ],
      "text/plain": [
       "        userID  artistID  tagID  day  month  year\n",
       "0            0        49     13    1      4  2009\n",
       "1            0        49     15    1      4  2009\n",
       "2            0        49     18    1      4  2009\n",
       "3            0        49     21    1      4  2009\n",
       "4            0        49     41    1      4  2009\n",
       "...        ...       ...    ...  ...    ...   ...\n",
       "186474    1891     11288      4    1      7  2010\n",
       "186475    1891     11288    292    1      5  2010\n",
       "186476    1891     11288   2087    1      7  2010\n",
       "186477    1891     11288   2801    1      5  2010\n",
       "186478    1891     11288   3335    1      7  2010\n",
       "\n",
       "[186479 rows x 6 columns]"
      ]
     },
     "execution_count": 48,
     "metadata": {},
     "output_type": "execute_result"
    }
   ],
   "source": [
    "df4"
   ]
  },
  {
   "cell_type": "code",
   "execution_count": 52,
   "id": "19826964",
   "metadata": {},
   "outputs": [
    {
     "data": {
      "text/plain": [
       "<bound method DataFrame.info of                     name                                           url  \\\n",
       "0           MALICE MIZER         http://www.last.fm/music/MALICE+MIZER   \n",
       "1        Diary of Dreams      http://www.last.fm/music/Diary+of+Dreams   \n",
       "2      Carpathian Forest    http://www.last.fm/music/Carpathian+Forest   \n",
       "3           Moi dix Mois         http://www.last.fm/music/Moi+dix+Mois   \n",
       "4            Bella Morte          http://www.last.fm/music/Bella+Morte   \n",
       "...                  ...                                           ...   \n",
       "17627    Diamanda GalÃ¡s  http://www.last.fm/music/Diamanda+Gal%C3%A1s   \n",
       "17628             Aya RL               http://www.last.fm/music/Aya+RL   \n",
       "17629        Coptic Rain          http://www.last.fm/music/Coptic+Rain   \n",
       "17630       Oz Alchemist         http://www.last.fm/music/Oz+Alchemist   \n",
       "17631   Grzegorz Tomczak     http://www.last.fm/music/Grzegorz+Tomczak   \n",
       "\n",
       "                                              pictureURL  artID  \n",
       "0        http://userserve-ak.last.fm/serve/252/10808.jpg      0  \n",
       "1      http://userserve-ak.last.fm/serve/252/3052066.jpg      1  \n",
       "2      http://userserve-ak.last.fm/serve/252/40222717...      2  \n",
       "3      http://userserve-ak.last.fm/serve/252/54697835...      3  \n",
       "4      http://userserve-ak.last.fm/serve/252/14789013...      4  \n",
       "...                                                  ...    ...  \n",
       "17627  http://userserve-ak.last.fm/serve/252/16352971...  17627  \n",
       "17628   http://userserve-ak.last.fm/serve/252/207445.jpg  17628  \n",
       "17629   http://userserve-ak.last.fm/serve/252/344868.jpg  17629  \n",
       "17630  http://userserve-ak.last.fm/serve/252/29297695...  17630  \n",
       "17631  http://userserve-ak.last.fm/serve/252/59486303...  17631  \n",
       "\n",
       "[17632 rows x 4 columns]>"
      ]
     },
     "execution_count": 52,
     "metadata": {},
     "output_type": "execute_result"
    }
   ],
   "source": [
    "df.info"
   ]
  },
  {
   "cell_type": "markdown",
   "id": "522539a4",
   "metadata": {},
   "source": [
    "# Methodology\n",
    "Now that all our data files are read in and in the appropriate format we will begin our end to end process. These are as follows:\n",
    "##### 1. Data cleaning and processing\n",
    "##### 2. Visualization\n",
    "##### 3. Fitting our Model\n",
    "##### 4. Evaluating our Model"
   ]
  },
  {
   "cell_type": "markdown",
   "id": "cb32b05e",
   "metadata": {},
   "source": [
    "# Cleaning and Processing\n",
    "\n",
    "### Initial analysis and cleaning"
   ]
  },
  {
   "cell_type": "code",
   "execution_count": 53,
   "id": "1bc754b3",
   "metadata": {},
   "outputs": [
    {
     "data": {
      "text/plain": [
       "MALICE MIZER                        1\n",
       "BEAT!BEAT!BEAT!                     1\n",
       "ãƒˆã‚¯ãƒžãƒ«ã‚·ãƒ¥ãƒ¼ã‚´            1\n",
       "Thao with The Get Down Stay Down    1\n",
       "ãƒªã‚¢ãƒ»ãƒ‡ã‚£ã‚¾ãƒ³               1\n",
       "                                   ..\n",
       "Innerpartysystem                    1\n",
       "Helia                               1\n",
       "Devil Sold His Soul                 1\n",
       "Nevea Tears                         1\n",
       "Grzegorz Tomczak                    1\n",
       "Name: name, Length: 17632, dtype: int64"
      ]
     },
     "execution_count": 53,
     "metadata": {},
     "output_type": "execute_result"
    }
   ],
   "source": [
    "df['name'].value_counts()"
   ]
  },
  {
   "cell_type": "code",
   "execution_count": 54,
   "id": "421c76c1",
   "metadata": {},
   "outputs": [
    {
     "data": {
      "text/plain": [
       "1        1\n",
       "8368     1\n",
       "8359     1\n",
       "8360     1\n",
       "8361     1\n",
       "        ..\n",
       "4059     1\n",
       "4060     1\n",
       "4061     1\n",
       "4062     1\n",
       "12648    1\n",
       "Name: tagID, Length: 11946, dtype: int64"
      ]
     },
     "execution_count": 54,
     "metadata": {},
     "output_type": "execute_result"
    }
   ],
   "source": [
    "df1['tagID'].value_counts()"
   ]
  },
  {
   "cell_type": "markdown",
   "id": "08028b1e",
   "metadata": {},
   "source": [
    "After initial observation, I feel the timestamp dataframe is of little use to me and hence disregard it. As per the readme file we have 1892 users and 17632 artists in our data."
   ]
  },
  {
   "cell_type": "code",
   "execution_count": 55,
   "id": "624c8263",
   "metadata": {},
   "outputs": [],
   "source": [
    "dfs = [df, df1, df2, df3, df4]\n",
    "na = []\n",
    "for i in range(len(dfs)):\n",
    "    if dfs[i].isnull().values.any() > 0:\n",
    "        na.append(dfs[i])"
   ]
  },
  {
   "cell_type": "code",
   "execution_count": 56,
   "id": "720e9fde",
   "metadata": {},
   "outputs": [
    {
     "data": {
      "text/plain": [
       "[                    name                                           url  \\\n",
       " 0           MALICE MIZER         http://www.last.fm/music/MALICE+MIZER   \n",
       " 1        Diary of Dreams      http://www.last.fm/music/Diary+of+Dreams   \n",
       " 2      Carpathian Forest    http://www.last.fm/music/Carpathian+Forest   \n",
       " 3           Moi dix Mois         http://www.last.fm/music/Moi+dix+Mois   \n",
       " 4            Bella Morte          http://www.last.fm/music/Bella+Morte   \n",
       " ...                  ...                                           ...   \n",
       " 17627    Diamanda GalÃ¡s  http://www.last.fm/music/Diamanda+Gal%C3%A1s   \n",
       " 17628             Aya RL               http://www.last.fm/music/Aya+RL   \n",
       " 17629        Coptic Rain          http://www.last.fm/music/Coptic+Rain   \n",
       " 17630       Oz Alchemist         http://www.last.fm/music/Oz+Alchemist   \n",
       " 17631   Grzegorz Tomczak     http://www.last.fm/music/Grzegorz+Tomczak   \n",
       " \n",
       "                                               pictureURL  artID  \n",
       " 0        http://userserve-ak.last.fm/serve/252/10808.jpg      0  \n",
       " 1      http://userserve-ak.last.fm/serve/252/3052066.jpg      1  \n",
       " 2      http://userserve-ak.last.fm/serve/252/40222717...      2  \n",
       " 3      http://userserve-ak.last.fm/serve/252/54697835...      3  \n",
       " 4      http://userserve-ak.last.fm/serve/252/14789013...      4  \n",
       " ...                                                  ...    ...  \n",
       " 17627  http://userserve-ak.last.fm/serve/252/16352971...  17627  \n",
       " 17628   http://userserve-ak.last.fm/serve/252/207445.jpg  17628  \n",
       " 17629   http://userserve-ak.last.fm/serve/252/344868.jpg  17629  \n",
       " 17630  http://userserve-ak.last.fm/serve/252/29297695...  17630  \n",
       " 17631  http://userserve-ak.last.fm/serve/252/59486303...  17631  \n",
       " \n",
       " [17632 rows x 4 columns]]"
      ]
     },
     "execution_count": 56,
     "metadata": {},
     "output_type": "execute_result"
    }
   ],
   "source": [
    "na"
   ]
  },
  {
   "cell_type": "markdown",
   "id": "f47006fd",
   "metadata": {},
   "source": [
    "The only dataframe with nulls is our artists dataframe. Let's investigate this further to see if there is any important missing values such as ID's etc."
   ]
  },
  {
   "cell_type": "code",
   "execution_count": 57,
   "id": "78ee7f82",
   "metadata": {},
   "outputs": [
    {
     "data": {
      "text/plain": [
       "name          object\n",
       "url           object\n",
       "pictureURL    object\n",
       "artID          int64\n",
       "dtype: object"
      ]
     },
     "execution_count": 57,
     "metadata": {},
     "output_type": "execute_result"
    }
   ],
   "source": [
    "df.dtypes"
   ]
  },
  {
   "cell_type": "code",
   "execution_count": 58,
   "id": "b8326c87",
   "metadata": {},
   "outputs": [
    {
     "name": "stdout",
     "output_type": "stream",
     "text": [
      "pictureURL 0.0252 % missing values\n",
      "['pictureURL']\n"
     ]
    }
   ],
   "source": [
    "features_with_na = [features for features in df.columns if df[features].isnull().sum() > 0]\n",
    "\n",
    "for feature in features_with_na: \n",
    "    print(feature, np.round(df[feature].isnull().mean(), 4), '% missing values')\n",
    "    print(features_with_na)"
   ]
  },
  {
   "cell_type": "markdown",
   "id": "2d1ccfc7",
   "metadata": {},
   "source": [
    "This is a positive result as there are very few null values in the dataframe and the small amount that exist are in a column of lesser important that we will not need to impute missing values for."
   ]
  },
  {
   "cell_type": "code",
   "execution_count": 59,
   "id": "6e4d5a4d",
   "metadata": {},
   "outputs": [],
   "source": [
    "played = pd.merge(df, df2, how=\"inner\", left_on=\"artID\", right_on=\"artistID\")\n",
    "played.rename(columns={\"weight\": \"played\"}, inplace=True)"
   ]
  },
  {
   "cell_type": "code",
   "execution_count": 60,
   "id": "2200d005",
   "metadata": {},
   "outputs": [
    {
     "data": {
      "text/html": [
       "<div>\n",
       "<style scoped>\n",
       "    .dataframe tbody tr th:only-of-type {\n",
       "        vertical-align: middle;\n",
       "    }\n",
       "\n",
       "    .dataframe tbody tr th {\n",
       "        vertical-align: top;\n",
       "    }\n",
       "\n",
       "    .dataframe thead th {\n",
       "        text-align: right;\n",
       "    }\n",
       "</style>\n",
       "<table border=\"1\" class=\"dataframe\">\n",
       "  <thead>\n",
       "    <tr style=\"text-align: right;\">\n",
       "      <th></th>\n",
       "      <th>name</th>\n",
       "      <th>url</th>\n",
       "      <th>pictureURL</th>\n",
       "      <th>artID</th>\n",
       "      <th>userID</th>\n",
       "      <th>artistID</th>\n",
       "      <th>played</th>\n",
       "    </tr>\n",
       "  </thead>\n",
       "  <tbody>\n",
       "    <tr>\n",
       "      <th>0</th>\n",
       "      <td>MALICE MIZER</td>\n",
       "      <td>http://www.last.fm/music/MALICE+MIZER</td>\n",
       "      <td>http://userserve-ak.last.fm/serve/252/10808.jpg</td>\n",
       "      <td>0</td>\n",
       "      <td>31</td>\n",
       "      <td>0</td>\n",
       "      <td>212</td>\n",
       "    </tr>\n",
       "    <tr>\n",
       "      <th>1</th>\n",
       "      <td>MALICE MIZER</td>\n",
       "      <td>http://www.last.fm/music/MALICE+MIZER</td>\n",
       "      <td>http://userserve-ak.last.fm/serve/252/10808.jpg</td>\n",
       "      <td>0</td>\n",
       "      <td>256</td>\n",
       "      <td>0</td>\n",
       "      <td>483</td>\n",
       "    </tr>\n",
       "    <tr>\n",
       "      <th>2</th>\n",
       "      <td>MALICE MIZER</td>\n",
       "      <td>http://www.last.fm/music/MALICE+MIZER</td>\n",
       "      <td>http://userserve-ak.last.fm/serve/252/10808.jpg</td>\n",
       "      <td>0</td>\n",
       "      <td>729</td>\n",
       "      <td>0</td>\n",
       "      <td>76</td>\n",
       "    </tr>\n",
       "    <tr>\n",
       "      <th>3</th>\n",
       "      <td>Diary of Dreams</td>\n",
       "      <td>http://www.last.fm/music/Diary+of+Dreams</td>\n",
       "      <td>http://userserve-ak.last.fm/serve/252/3052066.jpg</td>\n",
       "      <td>1</td>\n",
       "      <td>130</td>\n",
       "      <td>1</td>\n",
       "      <td>1021</td>\n",
       "    </tr>\n",
       "    <tr>\n",
       "      <th>4</th>\n",
       "      <td>Diary of Dreams</td>\n",
       "      <td>http://www.last.fm/music/Diary+of+Dreams</td>\n",
       "      <td>http://userserve-ak.last.fm/serve/252/3052066.jpg</td>\n",
       "      <td>1</td>\n",
       "      <td>240</td>\n",
       "      <td>1</td>\n",
       "      <td>152</td>\n",
       "    </tr>\n",
       "    <tr>\n",
       "      <th>...</th>\n",
       "      <td>...</td>\n",
       "      <td>...</td>\n",
       "      <td>...</td>\n",
       "      <td>...</td>\n",
       "      <td>...</td>\n",
       "      <td>...</td>\n",
       "      <td>...</td>\n",
       "    </tr>\n",
       "    <tr>\n",
       "      <th>92829</th>\n",
       "      <td>Diamanda GalÃ¡s</td>\n",
       "      <td>http://www.last.fm/music/Diamanda+Gal%C3%A1s</td>\n",
       "      <td>http://userserve-ak.last.fm/serve/252/16352971...</td>\n",
       "      <td>17627</td>\n",
       "      <td>423</td>\n",
       "      <td>17627</td>\n",
       "      <td>301</td>\n",
       "    </tr>\n",
       "    <tr>\n",
       "      <th>92830</th>\n",
       "      <td>Aya RL</td>\n",
       "      <td>http://www.last.fm/music/Aya+RL</td>\n",
       "      <td>http://userserve-ak.last.fm/serve/252/207445.jpg</td>\n",
       "      <td>17628</td>\n",
       "      <td>423</td>\n",
       "      <td>17628</td>\n",
       "      <td>294</td>\n",
       "    </tr>\n",
       "    <tr>\n",
       "      <th>92831</th>\n",
       "      <td>Coptic Rain</td>\n",
       "      <td>http://www.last.fm/music/Coptic+Rain</td>\n",
       "      <td>http://userserve-ak.last.fm/serve/252/344868.jpg</td>\n",
       "      <td>17629</td>\n",
       "      <td>423</td>\n",
       "      <td>17629</td>\n",
       "      <td>287</td>\n",
       "    </tr>\n",
       "    <tr>\n",
       "      <th>92832</th>\n",
       "      <td>Oz Alchemist</td>\n",
       "      <td>http://www.last.fm/music/Oz+Alchemist</td>\n",
       "      <td>http://userserve-ak.last.fm/serve/252/29297695...</td>\n",
       "      <td>17630</td>\n",
       "      <td>423</td>\n",
       "      <td>17630</td>\n",
       "      <td>286</td>\n",
       "    </tr>\n",
       "    <tr>\n",
       "      <th>92833</th>\n",
       "      <td>Grzegorz Tomczak</td>\n",
       "      <td>http://www.last.fm/music/Grzegorz+Tomczak</td>\n",
       "      <td>http://userserve-ak.last.fm/serve/252/59486303...</td>\n",
       "      <td>17631</td>\n",
       "      <td>547</td>\n",
       "      <td>17631</td>\n",
       "      <td>426</td>\n",
       "    </tr>\n",
       "  </tbody>\n",
       "</table>\n",
       "<p>92834 rows × 7 columns</p>\n",
       "</div>"
      ],
      "text/plain": [
       "                   name                                           url  \\\n",
       "0          MALICE MIZER         http://www.last.fm/music/MALICE+MIZER   \n",
       "1          MALICE MIZER         http://www.last.fm/music/MALICE+MIZER   \n",
       "2          MALICE MIZER         http://www.last.fm/music/MALICE+MIZER   \n",
       "3       Diary of Dreams      http://www.last.fm/music/Diary+of+Dreams   \n",
       "4       Diary of Dreams      http://www.last.fm/music/Diary+of+Dreams   \n",
       "...                 ...                                           ...   \n",
       "92829   Diamanda GalÃ¡s  http://www.last.fm/music/Diamanda+Gal%C3%A1s   \n",
       "92830            Aya RL               http://www.last.fm/music/Aya+RL   \n",
       "92831       Coptic Rain          http://www.last.fm/music/Coptic+Rain   \n",
       "92832      Oz Alchemist         http://www.last.fm/music/Oz+Alchemist   \n",
       "92833  Grzegorz Tomczak     http://www.last.fm/music/Grzegorz+Tomczak   \n",
       "\n",
       "                                              pictureURL  artID  userID  \\\n",
       "0        http://userserve-ak.last.fm/serve/252/10808.jpg      0      31   \n",
       "1        http://userserve-ak.last.fm/serve/252/10808.jpg      0     256   \n",
       "2        http://userserve-ak.last.fm/serve/252/10808.jpg      0     729   \n",
       "3      http://userserve-ak.last.fm/serve/252/3052066.jpg      1     130   \n",
       "4      http://userserve-ak.last.fm/serve/252/3052066.jpg      1     240   \n",
       "...                                                  ...    ...     ...   \n",
       "92829  http://userserve-ak.last.fm/serve/252/16352971...  17627     423   \n",
       "92830   http://userserve-ak.last.fm/serve/252/207445.jpg  17628     423   \n",
       "92831   http://userserve-ak.last.fm/serve/252/344868.jpg  17629     423   \n",
       "92832  http://userserve-ak.last.fm/serve/252/29297695...  17630     423   \n",
       "92833  http://userserve-ak.last.fm/serve/252/59486303...  17631     547   \n",
       "\n",
       "       artistID  played  \n",
       "0             0     212  \n",
       "1             0     483  \n",
       "2             0      76  \n",
       "3             1    1021  \n",
       "4             1     152  \n",
       "...         ...     ...  \n",
       "92829     17627     301  \n",
       "92830     17628     294  \n",
       "92831     17629     287  \n",
       "92832     17630     286  \n",
       "92833     17631     426  \n",
       "\n",
       "[92834 rows x 7 columns]"
      ]
     },
     "execution_count": 60,
     "metadata": {},
     "output_type": "execute_result"
    }
   ],
   "source": [
    "played"
   ]
  },
  {
   "cell_type": "markdown",
   "id": "9b76b522",
   "metadata": {},
   "source": [
    "We will drop the pictureURL column as there is not much information to be gained and there is some nulls present."
   ]
  },
  {
   "cell_type": "code",
   "execution_count": 61,
   "id": "f03db6c5",
   "metadata": {},
   "outputs": [],
   "source": [
    "played.drop(columns=['pictureURL'], inplace=True)"
   ]
  },
  {
   "cell_type": "code",
   "execution_count": 62,
   "id": "5a6e1b52",
   "metadata": {},
   "outputs": [
    {
     "data": {
      "text/html": [
       "<div>\n",
       "<style scoped>\n",
       "    .dataframe tbody tr th:only-of-type {\n",
       "        vertical-align: middle;\n",
       "    }\n",
       "\n",
       "    .dataframe tbody tr th {\n",
       "        vertical-align: top;\n",
       "    }\n",
       "\n",
       "    .dataframe thead th {\n",
       "        text-align: right;\n",
       "    }\n",
       "</style>\n",
       "<table border=\"1\" class=\"dataframe\">\n",
       "  <thead>\n",
       "    <tr style=\"text-align: right;\">\n",
       "      <th></th>\n",
       "      <th>name</th>\n",
       "      <th>url</th>\n",
       "      <th>artID</th>\n",
       "      <th>userID</th>\n",
       "      <th>artistID</th>\n",
       "      <th>played</th>\n",
       "    </tr>\n",
       "  </thead>\n",
       "  <tbody>\n",
       "    <tr>\n",
       "      <th>0</th>\n",
       "      <td>MALICE MIZER</td>\n",
       "      <td>http://www.last.fm/music/MALICE+MIZER</td>\n",
       "      <td>0</td>\n",
       "      <td>31</td>\n",
       "      <td>0</td>\n",
       "      <td>212</td>\n",
       "    </tr>\n",
       "    <tr>\n",
       "      <th>1</th>\n",
       "      <td>MALICE MIZER</td>\n",
       "      <td>http://www.last.fm/music/MALICE+MIZER</td>\n",
       "      <td>0</td>\n",
       "      <td>256</td>\n",
       "      <td>0</td>\n",
       "      <td>483</td>\n",
       "    </tr>\n",
       "    <tr>\n",
       "      <th>2</th>\n",
       "      <td>MALICE MIZER</td>\n",
       "      <td>http://www.last.fm/music/MALICE+MIZER</td>\n",
       "      <td>0</td>\n",
       "      <td>729</td>\n",
       "      <td>0</td>\n",
       "      <td>76</td>\n",
       "    </tr>\n",
       "    <tr>\n",
       "      <th>3</th>\n",
       "      <td>Diary of Dreams</td>\n",
       "      <td>http://www.last.fm/music/Diary+of+Dreams</td>\n",
       "      <td>1</td>\n",
       "      <td>130</td>\n",
       "      <td>1</td>\n",
       "      <td>1021</td>\n",
       "    </tr>\n",
       "    <tr>\n",
       "      <th>4</th>\n",
       "      <td>Diary of Dreams</td>\n",
       "      <td>http://www.last.fm/music/Diary+of+Dreams</td>\n",
       "      <td>1</td>\n",
       "      <td>240</td>\n",
       "      <td>1</td>\n",
       "      <td>152</td>\n",
       "    </tr>\n",
       "    <tr>\n",
       "      <th>...</th>\n",
       "      <td>...</td>\n",
       "      <td>...</td>\n",
       "      <td>...</td>\n",
       "      <td>...</td>\n",
       "      <td>...</td>\n",
       "      <td>...</td>\n",
       "    </tr>\n",
       "    <tr>\n",
       "      <th>92829</th>\n",
       "      <td>Diamanda GalÃ¡s</td>\n",
       "      <td>http://www.last.fm/music/Diamanda+Gal%C3%A1s</td>\n",
       "      <td>17627</td>\n",
       "      <td>423</td>\n",
       "      <td>17627</td>\n",
       "      <td>301</td>\n",
       "    </tr>\n",
       "    <tr>\n",
       "      <th>92830</th>\n",
       "      <td>Aya RL</td>\n",
       "      <td>http://www.last.fm/music/Aya+RL</td>\n",
       "      <td>17628</td>\n",
       "      <td>423</td>\n",
       "      <td>17628</td>\n",
       "      <td>294</td>\n",
       "    </tr>\n",
       "    <tr>\n",
       "      <th>92831</th>\n",
       "      <td>Coptic Rain</td>\n",
       "      <td>http://www.last.fm/music/Coptic+Rain</td>\n",
       "      <td>17629</td>\n",
       "      <td>423</td>\n",
       "      <td>17629</td>\n",
       "      <td>287</td>\n",
       "    </tr>\n",
       "    <tr>\n",
       "      <th>92832</th>\n",
       "      <td>Oz Alchemist</td>\n",
       "      <td>http://www.last.fm/music/Oz+Alchemist</td>\n",
       "      <td>17630</td>\n",
       "      <td>423</td>\n",
       "      <td>17630</td>\n",
       "      <td>286</td>\n",
       "    </tr>\n",
       "    <tr>\n",
       "      <th>92833</th>\n",
       "      <td>Grzegorz Tomczak</td>\n",
       "      <td>http://www.last.fm/music/Grzegorz+Tomczak</td>\n",
       "      <td>17631</td>\n",
       "      <td>547</td>\n",
       "      <td>17631</td>\n",
       "      <td>426</td>\n",
       "    </tr>\n",
       "  </tbody>\n",
       "</table>\n",
       "<p>92834 rows × 6 columns</p>\n",
       "</div>"
      ],
      "text/plain": [
       "                   name                                           url  artID  \\\n",
       "0          MALICE MIZER         http://www.last.fm/music/MALICE+MIZER      0   \n",
       "1          MALICE MIZER         http://www.last.fm/music/MALICE+MIZER      0   \n",
       "2          MALICE MIZER         http://www.last.fm/music/MALICE+MIZER      0   \n",
       "3       Diary of Dreams      http://www.last.fm/music/Diary+of+Dreams      1   \n",
       "4       Diary of Dreams      http://www.last.fm/music/Diary+of+Dreams      1   \n",
       "...                 ...                                           ...    ...   \n",
       "92829   Diamanda GalÃ¡s  http://www.last.fm/music/Diamanda+Gal%C3%A1s  17627   \n",
       "92830            Aya RL               http://www.last.fm/music/Aya+RL  17628   \n",
       "92831       Coptic Rain          http://www.last.fm/music/Coptic+Rain  17629   \n",
       "92832      Oz Alchemist         http://www.last.fm/music/Oz+Alchemist  17630   \n",
       "92833  Grzegorz Tomczak     http://www.last.fm/music/Grzegorz+Tomczak  17631   \n",
       "\n",
       "       userID  artistID  played  \n",
       "0          31         0     212  \n",
       "1         256         0     483  \n",
       "2         729         0      76  \n",
       "3         130         1    1021  \n",
       "4         240         1     152  \n",
       "...       ...       ...     ...  \n",
       "92829     423     17627     301  \n",
       "92830     423     17628     294  \n",
       "92831     423     17629     287  \n",
       "92832     423     17630     286  \n",
       "92833     547     17631     426  \n",
       "\n",
       "[92834 rows x 6 columns]"
      ]
     },
     "execution_count": 62,
     "metadata": {},
     "output_type": "execute_result"
    }
   ],
   "source": [
    "played"
   ]
  },
  {
   "cell_type": "code",
   "execution_count": 63,
   "id": "4fb68d03",
   "metadata": {},
   "outputs": [
    {
     "name": "stdout",
     "output_type": "stream",
     "text": [
      "The mean number of times a user listens to a song is: 745.2439300256372\n"
     ]
    }
   ],
   "source": [
    "mean = played['played'].mean()\n",
    "print(\"The mean number of times a user listens to a song is: \" + str(mean))"
   ]
  },
  {
   "cell_type": "code",
   "execution_count": 64,
   "id": "37bf535c",
   "metadata": {},
   "outputs": [
    {
     "name": "stdout",
     "output_type": "stream",
     "text": [
      "The median number of times a user listens to a song is: 260.0\n"
     ]
    }
   ],
   "source": [
    "median = played['played'].median()\n",
    "print(\"The median number of times a user listens to a song is: \" + str(median))"
   ]
  },
  {
   "cell_type": "code",
   "execution_count": 65,
   "id": "b081fe57",
   "metadata": {},
   "outputs": [
    {
     "data": {
      "text/plain": [
       "<AxesSubplot:>"
      ]
     },
     "execution_count": 65,
     "metadata": {},
     "output_type": "execute_result"
    },
    {
     "data": {
      "image/png": "[encoded data removed]",
      "text/plain": [
       "<Figure size 1296x432 with 1 Axes>"
      ]
     },
     "metadata": {
      "needs_background": "light"
     },
     "output_type": "display_data"
    }
   ],
   "source": [
    "played['name'].value_counts()[:20].plot(kind='barh', color='green', figsize=(18,6))"
   ]
  },
  {
   "cell_type": "code",
   "execution_count": 66,
   "id": "874082b0",
   "metadata": {},
   "outputs": [
    {
     "data": {
      "text/plain": [
       "<AxesSubplot:xlabel='played'>"
      ]
     },
     "execution_count": 66,
     "metadata": {},
     "output_type": "execute_result"
    },
    {
     "data": {
      "image/png": "[encoded data removed]",
      "text/plain": [
       "<Figure size 1080x504 with 1 Axes>"
      ]
     },
     "metadata": {
      "needs_background": "light"
     },
     "output_type": "display_data"
    }
   ],
   "source": [
    "plt.figure(figsize=[15,7])\n",
    "sns.boxplot(x=played['played'], color=\".25\")"
   ]
  },
  {
   "cell_type": "markdown",
   "id": "cec3c8db",
   "metadata": {},
   "source": [
    "There appears to be quite a lot of outliers here in the played column. Some users have obviously listened to their songs far more times than the average. We double check our values for mean and median earlier and can confirm there are quite a few outliers here."
   ]
  },
  {
   "cell_type": "code",
   "execution_count": 67,
   "id": "fccbac3d",
   "metadata": {},
   "outputs": [
    {
     "data": {
      "text/html": [
       "<div>\n",
       "<style scoped>\n",
       "    .dataframe tbody tr th:only-of-type {\n",
       "        vertical-align: middle;\n",
       "    }\n",
       "\n",
       "    .dataframe tbody tr th {\n",
       "        vertical-align: top;\n",
       "    }\n",
       "\n",
       "    .dataframe thead th {\n",
       "        text-align: right;\n",
       "    }\n",
       "</style>\n",
       "<table border=\"1\" class=\"dataframe\">\n",
       "  <thead>\n",
       "    <tr style=\"text-align: right;\">\n",
       "      <th></th>\n",
       "      <th>artID</th>\n",
       "      <th>userID</th>\n",
       "      <th>artistID</th>\n",
       "      <th>played</th>\n",
       "    </tr>\n",
       "  </thead>\n",
       "  <tbody>\n",
       "    <tr>\n",
       "      <th>count</th>\n",
       "      <td>92834.000</td>\n",
       "      <td>92834.000</td>\n",
       "      <td>92834.000</td>\n",
       "      <td>92834.000</td>\n",
       "    </tr>\n",
       "    <tr>\n",
       "      <th>mean</th>\n",
       "      <td>3235.737</td>\n",
       "      <td>944.222</td>\n",
       "      <td>3235.737</td>\n",
       "      <td>745.244</td>\n",
       "    </tr>\n",
       "    <tr>\n",
       "      <th>std</th>\n",
       "      <td>4197.217</td>\n",
       "      <td>546.751</td>\n",
       "      <td>4197.217</td>\n",
       "      <td>3751.322</td>\n",
       "    </tr>\n",
       "    <tr>\n",
       "      <th>min</th>\n",
       "      <td>0.000</td>\n",
       "      <td>0.000</td>\n",
       "      <td>0.000</td>\n",
       "      <td>1.000</td>\n",
       "    </tr>\n",
       "    <tr>\n",
       "      <th>25%</th>\n",
       "      <td>430.000</td>\n",
       "      <td>470.000</td>\n",
       "      <td>430.000</td>\n",
       "      <td>107.000</td>\n",
       "    </tr>\n",
       "    <tr>\n",
       "      <th>50%</th>\n",
       "      <td>1237.000</td>\n",
       "      <td>944.000</td>\n",
       "      <td>1237.000</td>\n",
       "      <td>260.000</td>\n",
       "    </tr>\n",
       "    <tr>\n",
       "      <th>75%</th>\n",
       "      <td>4266.000</td>\n",
       "      <td>1416.000</td>\n",
       "      <td>4266.000</td>\n",
       "      <td>614.000</td>\n",
       "    </tr>\n",
       "    <tr>\n",
       "      <th>max</th>\n",
       "      <td>17631.000</td>\n",
       "      <td>1891.000</td>\n",
       "      <td>17631.000</td>\n",
       "      <td>352698.000</td>\n",
       "    </tr>\n",
       "  </tbody>\n",
       "</table>\n",
       "</div>"
      ],
      "text/plain": [
       "          artID    userID  artistID     played\n",
       "count 92834.000 92834.000 92834.000  92834.000\n",
       "mean   3235.737   944.222  3235.737    745.244\n",
       "std    4197.217   546.751  4197.217   3751.322\n",
       "min       0.000     0.000     0.000      1.000\n",
       "25%     430.000   470.000   430.000    107.000\n",
       "50%    1237.000   944.000  1237.000    260.000\n",
       "75%    4266.000  1416.000  4266.000    614.000\n",
       "max   17631.000  1891.000 17631.000 352698.000"
      ]
     },
     "execution_count": 67,
     "metadata": {},
     "output_type": "execute_result"
    }
   ],
   "source": [
    "played.describe()"
   ]
  },
  {
   "cell_type": "code",
   "execution_count": 68,
   "id": "0f87f5b8",
   "metadata": {},
   "outputs": [
    {
     "name": "stderr",
     "output_type": "stream",
     "text": [
      "C:\\Users\\user\\AppData\\Local\\Temp/ipykernel_21248/3055805386.py:1: DeprecationWarning: `np.object` is a deprecated alias for the builtin `object`. To silence this warning, use `object` by itself. Doing this will not modify any behavior and is safe. \n",
      "Deprecated in NumPy 1.20; for more details and guidance: https://numpy.org/devdocs/release/1.20.0-notes.html#deprecations\n",
      "  played.describe(include=[np.object])\n"
     ]
    },
    {
     "data": {
      "text/html": [
       "<div>\n",
       "<style scoped>\n",
       "    .dataframe tbody tr th:only-of-type {\n",
       "        vertical-align: middle;\n",
       "    }\n",
       "\n",
       "    .dataframe tbody tr th {\n",
       "        vertical-align: top;\n",
       "    }\n",
       "\n",
       "    .dataframe thead th {\n",
       "        text-align: right;\n",
       "    }\n",
       "</style>\n",
       "<table border=\"1\" class=\"dataframe\">\n",
       "  <thead>\n",
       "    <tr style=\"text-align: right;\">\n",
       "      <th></th>\n",
       "      <th>name</th>\n",
       "      <th>url</th>\n",
       "    </tr>\n",
       "  </thead>\n",
       "  <tbody>\n",
       "    <tr>\n",
       "      <th>count</th>\n",
       "      <td>92834</td>\n",
       "      <td>92834</td>\n",
       "    </tr>\n",
       "    <tr>\n",
       "      <th>unique</th>\n",
       "      <td>17632</td>\n",
       "      <td>17632</td>\n",
       "    </tr>\n",
       "    <tr>\n",
       "      <th>top</th>\n",
       "      <td>Lady Gaga</td>\n",
       "      <td>http://www.last.fm/music/Lady+Gaga</td>\n",
       "    </tr>\n",
       "    <tr>\n",
       "      <th>freq</th>\n",
       "      <td>611</td>\n",
       "      <td>611</td>\n",
       "    </tr>\n",
       "  </tbody>\n",
       "</table>\n",
       "</div>"
      ],
      "text/plain": [
       "             name                                 url\n",
       "count       92834                               92834\n",
       "unique      17632                               17632\n",
       "top     Lady Gaga  http://www.last.fm/music/Lady+Gaga\n",
       "freq          611                                 611"
      ]
     },
     "execution_count": 68,
     "metadata": {},
     "output_type": "execute_result"
    }
   ],
   "source": [
    "played.describe(include=[np.object])"
   ]
  },
  {
   "cell_type": "code",
   "execution_count": 69,
   "id": "c92a5c04",
   "metadata": {},
   "outputs": [],
   "source": [
    "grouped_multiple = played.groupby(['artistID', 'name']).agg({'played': ['mean', 'median', 'max', 'sum']})\n",
    "grouped_multiple.columns = ['mean', 'med', 'max', 'sum']\n",
    "grouped_multiple = grouped_multiple.reset_index()\n",
    "#grouped_multiple.sort('price_mean', ascending=False)\n",
    "grouped_multiple = pd.DataFrame(grouped_multiple)"
   ]
  },
  {
   "cell_type": "code",
   "execution_count": 70,
   "id": "2ea39c87",
   "metadata": {},
   "outputs": [],
   "source": [
    "artdf = grouped_multiple.sort_values(by=['sum'], ascending=False)"
   ]
  },
  {
   "cell_type": "code",
   "execution_count": 71,
   "id": "56e564ee",
   "metadata": {},
   "outputs": [
    {
     "data": {
      "text/html": [
       "<div>\n",
       "<style scoped>\n",
       "    .dataframe tbody tr th:only-of-type {\n",
       "        vertical-align: middle;\n",
       "    }\n",
       "\n",
       "    .dataframe tbody tr th {\n",
       "        vertical-align: top;\n",
       "    }\n",
       "\n",
       "    .dataframe thead th {\n",
       "        text-align: right;\n",
       "    }\n",
       "</style>\n",
       "<table border=\"1\" class=\"dataframe\">\n",
       "  <thead>\n",
       "    <tr style=\"text-align: right;\">\n",
       "      <th></th>\n",
       "      <th>artistID</th>\n",
       "      <th>name</th>\n",
       "      <th>mean</th>\n",
       "      <th>med</th>\n",
       "      <th>max</th>\n",
       "      <th>sum</th>\n",
       "    </tr>\n",
       "  </thead>\n",
       "  <tbody>\n",
       "    <tr>\n",
       "      <th>283</th>\n",
       "      <td>283</td>\n",
       "      <td>Britney Spears</td>\n",
       "      <td>4584.559</td>\n",
       "      <td>1000.500</td>\n",
       "      <td>131733</td>\n",
       "      <td>2393140</td>\n",
       "    </tr>\n",
       "    <tr>\n",
       "      <th>66</th>\n",
       "      <td>66</td>\n",
       "      <td>Depeche Mode</td>\n",
       "      <td>4614.567</td>\n",
       "      <td>567.000</td>\n",
       "      <td>352698</td>\n",
       "      <td>1301308</td>\n",
       "    </tr>\n",
       "    <tr>\n",
       "      <th>83</th>\n",
       "      <td>83</td>\n",
       "      <td>Lady Gaga</td>\n",
       "      <td>2113.563</td>\n",
       "      <td>590.000</td>\n",
       "      <td>114672</td>\n",
       "      <td>1291387</td>\n",
       "    </tr>\n",
       "    <tr>\n",
       "      <th>286</th>\n",
       "      <td>286</td>\n",
       "      <td>Christina Aguilera</td>\n",
       "      <td>2600.504</td>\n",
       "      <td>739.000</td>\n",
       "      <td>176133</td>\n",
       "      <td>1058405</td>\n",
       "    </tr>\n",
       "    <tr>\n",
       "      <th>492</th>\n",
       "      <td>492</td>\n",
       "      <td>Paramore</td>\n",
       "      <td>2414.659</td>\n",
       "      <td>417.000</td>\n",
       "      <td>227829</td>\n",
       "      <td>963449</td>\n",
       "    </tr>\n",
       "    <tr>\n",
       "      <th>...</th>\n",
       "      <td>...</td>\n",
       "      <td>...</td>\n",
       "      <td>...</td>\n",
       "      <td>...</td>\n",
       "      <td>...</td>\n",
       "      <td>...</td>\n",
       "    </tr>\n",
       "    <tr>\n",
       "      <th>16522</th>\n",
       "      <td>16522</td>\n",
       "      <td>K-Precise</td>\n",
       "      <td>1.000</td>\n",
       "      <td>1.000</td>\n",
       "      <td>1</td>\n",
       "      <td>1</td>\n",
       "    </tr>\n",
       "    <tr>\n",
       "      <th>13713</th>\n",
       "      <td>13713</td>\n",
       "      <td>ZÃœNDER</td>\n",
       "      <td>1.000</td>\n",
       "      <td>1.000</td>\n",
       "      <td>1</td>\n",
       "      <td>1</td>\n",
       "    </tr>\n",
       "    <tr>\n",
       "      <th>13712</th>\n",
       "      <td>13712</td>\n",
       "      <td>Evil Masquerade</td>\n",
       "      <td>1.000</td>\n",
       "      <td>1.000</td>\n",
       "      <td>1</td>\n",
       "      <td>1</td>\n",
       "    </tr>\n",
       "    <tr>\n",
       "      <th>16239</th>\n",
       "      <td>16239</td>\n",
       "      <td>Gosling</td>\n",
       "      <td>1.000</td>\n",
       "      <td>1.000</td>\n",
       "      <td>1</td>\n",
       "      <td>1</td>\n",
       "    </tr>\n",
       "    <tr>\n",
       "      <th>16241</th>\n",
       "      <td>16241</td>\n",
       "      <td>Kalson</td>\n",
       "      <td>1.000</td>\n",
       "      <td>1.000</td>\n",
       "      <td>1</td>\n",
       "      <td>1</td>\n",
       "    </tr>\n",
       "  </tbody>\n",
       "</table>\n",
       "<p>17632 rows × 6 columns</p>\n",
       "</div>"
      ],
      "text/plain": [
       "       artistID                name     mean      med     max      sum\n",
       "283         283      Britney Spears 4584.559 1000.500  131733  2393140\n",
       "66           66        Depeche Mode 4614.567  567.000  352698  1301308\n",
       "83           83           Lady Gaga 2113.563  590.000  114672  1291387\n",
       "286         286  Christina Aguilera 2600.504  739.000  176133  1058405\n",
       "492         492            Paramore 2414.659  417.000  227829   963449\n",
       "...         ...                 ...      ...      ...     ...      ...\n",
       "16522     16522           K-Precise    1.000    1.000       1        1\n",
       "13713     13713             ZÃœNDER    1.000    1.000       1        1\n",
       "13712     13712     Evil Masquerade    1.000    1.000       1        1\n",
       "16239     16239             Gosling    1.000    1.000       1        1\n",
       "16241     16241              Kalson    1.000    1.000       1        1\n",
       "\n",
       "[17632 rows x 6 columns]"
      ]
     },
     "execution_count": 71,
     "metadata": {},
     "output_type": "execute_result"
    }
   ],
   "source": [
    "artdf"
   ]
  },
  {
   "cell_type": "code",
   "execution_count": 72,
   "id": "704dcb5a",
   "metadata": {},
   "outputs": [],
   "source": [
    "pt2 = artdf.head(20)"
   ]
  },
  {
   "cell_type": "code",
   "execution_count": 73,
   "id": "7c4ba44f",
   "metadata": {},
   "outputs": [
    {
     "data": {
      "text/plain": [
       "<AxesSubplot:title={'center':'Biggest artists by no of listens'}, xlabel='Artist', ylabel='Listens (millions)'>"
      ]
     },
     "execution_count": 73,
     "metadata": {},
     "output_type": "execute_result"
    },
    {
     "data": {
      "image/png": "[encoded data removed]",
      "text/plain": [
       "<Figure size 1296x432 with 1 Axes>"
      ]
     },
     "metadata": {
      "needs_background": "light"
     },
     "output_type": "display_data"
    }
   ],
   "source": [
    "pt2.plot.bar(x = 'name', y = 'sum', rot = 40, figsize=(18, 6), color='green', xlabel='Artist', ylabel='Listens (millions)', title='Biggest artists by no of listens')"
   ]
  },
  {
   "cell_type": "code",
   "execution_count": 74,
   "id": "453924a8",
   "metadata": {},
   "outputs": [],
   "source": [
    "grouped_multiple = played.groupby(['userID']).agg({'played': ['mean', 'median', 'max', 'sum']})\n",
    "grouped_multiple.columns = ['mean', 'med', 'max', 'sum']\n",
    "grouped_multiple = grouped_multiple.reset_index()\n",
    "#grouped_multiple.sort('price_mean', ascending=False)\n",
    "grouped_multiple = pd.DataFrame(grouped_multiple)"
   ]
  },
  {
   "cell_type": "code",
   "execution_count": 75,
   "id": "62cfbd70",
   "metadata": {},
   "outputs": [],
   "source": [
    "userdf = grouped_multiple.sort_values(by=['sum'], ascending=False)"
   ]
  },
  {
   "cell_type": "code",
   "execution_count": 76,
   "id": "742d4421",
   "metadata": {},
   "outputs": [],
   "source": [
    "pt3 = userdf.head(20)"
   ]
  },
  {
   "cell_type": "code",
   "execution_count": 77,
   "id": "d7c443ab",
   "metadata": {},
   "outputs": [
    {
     "data": {
      "text/plain": [
       "<AxesSubplot:title={'center':'Users with by no of listens'}, xlabel='User', ylabel='Listens'>"
      ]
     },
     "execution_count": 77,
     "metadata": {},
     "output_type": "execute_result"
    },
    {
     "data": {
      "image/png": "[encoded data removed]",
      "text/plain": [
       "<Figure size 1296x432 with 1 Axes>"
      ]
     },
     "metadata": {
      "needs_background": "light"
     },
     "output_type": "display_data"
    }
   ],
   "source": [
    "pt3.plot.bar(x = 'userID', y = 'sum', rot = 40, figsize=(18, 6), color='turquoise', xlabel='User', ylabel='Listens', title='Users by highest number of listens')"
   ]
  },
  {
   "cell_type": "code",
   "execution_count": 78,
   "id": "afd9381f",
   "metadata": {},
   "outputs": [
    {
     "data": {
      "text/plain": [
       "283     4584.559\n",
       "66      4614.567\n",
       "83      2113.563\n",
       "286     2600.504\n",
       "492     2414.659\n",
       "          ...   \n",
       "16522      1.000\n",
       "13713      1.000\n",
       "13712      1.000\n",
       "16239      1.000\n",
       "16241      1.000\n",
       "Name: mean, Length: 17632, dtype: float64"
      ]
     },
     "execution_count": 78,
     "metadata": {},
     "output_type": "execute_result"
    }
   ],
   "source": [
    "artdf['mean']"
   ]
  },
  {
   "cell_type": "code",
   "execution_count": 79,
   "id": "c7374612",
   "metadata": {},
   "outputs": [
    {
     "data": {
      "text/plain": [
       "(92834, 6)"
      ]
     },
     "execution_count": 79,
     "metadata": {},
     "output_type": "execute_result"
    }
   ],
   "source": [
    "played.shape"
   ]
  },
  {
   "cell_type": "code",
   "execution_count": 80,
   "id": "a8ba58fe",
   "metadata": {},
   "outputs": [
    {
     "name": "stderr",
     "output_type": "stream",
     "text": [
      "C:\\Users\\user\\anaconda3\\lib\\site-packages\\seaborn\\distributions.py:2619: FutureWarning: `distplot` is a deprecated function and will be removed in a future version. Please adapt your code to use either `displot` (a figure-level function with similar flexibility) or `histplot` (an axes-level function for histograms).\n",
      "  warnings.warn(msg, FutureWarning)\n"
     ]
    },
    {
     "data": {
      "text/plain": [
       "Text(0, 0.5, 'Density')"
      ]
     },
     "execution_count": 80,
     "metadata": {},
     "output_type": "execute_result"
    },
    {
     "data": {
      "image/png": "[encoded data removed]",
      "text/plain": [
       "<Figure size 1080x504 with 1 Axes>"
      ]
     },
     "metadata": {
      "needs_background": "light"
     },
     "output_type": "display_data"
    }
   ],
   "source": [
    "plt.figure(figsize=[15,7])\n",
    "sns.distplot(played['played'])\n",
    "plt.xlabel('Played', fontsize=18)\n",
    "plt.ylabel('Density', fontsize=16)"
   ]
  },
  {
   "cell_type": "markdown",
   "id": "5bf4cc2e",
   "metadata": {},
   "source": [
    "The majority of values seem around the 1k or less mark. There are a lot of outlier values however going as far as 350,000 for the most extreme values. This confirms our earlier boxplot looking at these values in a clear manner."
   ]
  },
  {
   "cell_type": "code",
   "execution_count": 81,
   "id": "a4ae87b2",
   "metadata": {},
   "outputs": [],
   "source": [
    "xyz = pd.DataFrame(played['name'].value_counts())"
   ]
  },
  {
   "cell_type": "code",
   "execution_count": 82,
   "id": "ae163ac6",
   "metadata": {},
   "outputs": [],
   "source": [
    "xyz = xyz.reset_index()"
   ]
  },
  {
   "cell_type": "code",
   "execution_count": 83,
   "id": "f26b7b5f",
   "metadata": {},
   "outputs": [],
   "source": [
    "xyz.rename(columns={'index': 'name', 'name': 'unique'}, inplace=True)"
   ]
  },
  {
   "cell_type": "code",
   "execution_count": 84,
   "id": "dbf8e3d2",
   "metadata": {},
   "outputs": [
    {
     "data": {
      "text/html": [
       "<div>\n",
       "<style scoped>\n",
       "    .dataframe tbody tr th:only-of-type {\n",
       "        vertical-align: middle;\n",
       "    }\n",
       "\n",
       "    .dataframe tbody tr th {\n",
       "        vertical-align: top;\n",
       "    }\n",
       "\n",
       "    .dataframe thead th {\n",
       "        text-align: right;\n",
       "    }\n",
       "</style>\n",
       "<table border=\"1\" class=\"dataframe\">\n",
       "  <thead>\n",
       "    <tr style=\"text-align: right;\">\n",
       "      <th></th>\n",
       "      <th>name</th>\n",
       "      <th>unique</th>\n",
       "    </tr>\n",
       "  </thead>\n",
       "  <tbody>\n",
       "    <tr>\n",
       "      <th>0</th>\n",
       "      <td>Lady Gaga</td>\n",
       "      <td>611</td>\n",
       "    </tr>\n",
       "    <tr>\n",
       "      <th>1</th>\n",
       "      <td>Britney Spears</td>\n",
       "      <td>522</td>\n",
       "    </tr>\n",
       "    <tr>\n",
       "      <th>2</th>\n",
       "      <td>Rihanna</td>\n",
       "      <td>484</td>\n",
       "    </tr>\n",
       "    <tr>\n",
       "      <th>3</th>\n",
       "      <td>The Beatles</td>\n",
       "      <td>480</td>\n",
       "    </tr>\n",
       "    <tr>\n",
       "      <th>4</th>\n",
       "      <td>Katy Perry</td>\n",
       "      <td>473</td>\n",
       "    </tr>\n",
       "    <tr>\n",
       "      <th>...</th>\n",
       "      <td>...</td>\n",
       "      <td>...</td>\n",
       "    </tr>\n",
       "    <tr>\n",
       "      <th>17627</th>\n",
       "      <td>Karmina</td>\n",
       "      <td>1</td>\n",
       "    </tr>\n",
       "    <tr>\n",
       "      <th>17628</th>\n",
       "      <td>Alexandre Desplat &amp; Aaron Zigman</td>\n",
       "      <td>1</td>\n",
       "    </tr>\n",
       "    <tr>\n",
       "      <th>17629</th>\n",
       "      <td>Burning Brides</td>\n",
       "      <td>1</td>\n",
       "    </tr>\n",
       "    <tr>\n",
       "      <th>17630</th>\n",
       "      <td>ozzy</td>\n",
       "      <td>1</td>\n",
       "    </tr>\n",
       "    <tr>\n",
       "      <th>17631</th>\n",
       "      <td>Grzegorz Tomczak</td>\n",
       "      <td>1</td>\n",
       "    </tr>\n",
       "  </tbody>\n",
       "</table>\n",
       "<p>17632 rows × 2 columns</p>\n",
       "</div>"
      ],
      "text/plain": [
       "                                   name  unique\n",
       "0                             Lady Gaga     611\n",
       "1                        Britney Spears     522\n",
       "2                               Rihanna     484\n",
       "3                           The Beatles     480\n",
       "4                            Katy Perry     473\n",
       "...                                 ...     ...\n",
       "17627                           Karmina       1\n",
       "17628  Alexandre Desplat & Aaron Zigman       1\n",
       "17629                    Burning Brides       1\n",
       "17630                              ozzy       1\n",
       "17631                  Grzegorz Tomczak       1\n",
       "\n",
       "[17632 rows x 2 columns]"
      ]
     },
     "execution_count": 84,
     "metadata": {},
     "output_type": "execute_result"
    }
   ],
   "source": [
    "xyz"
   ]
  },
  {
   "cell_type": "code",
   "execution_count": 85,
   "id": "5aa07a20",
   "metadata": {},
   "outputs": [],
   "source": [
    "merged_df = artdf.merge(xyz, how = 'inner', on = ['name', 'name'])"
   ]
  },
  {
   "cell_type": "code",
   "execution_count": 86,
   "id": "ffe8102c",
   "metadata": {},
   "outputs": [
    {
     "data": {
      "text/html": [
       "<div>\n",
       "<style scoped>\n",
       "    .dataframe tbody tr th:only-of-type {\n",
       "        vertical-align: middle;\n",
       "    }\n",
       "\n",
       "    .dataframe tbody tr th {\n",
       "        vertical-align: top;\n",
       "    }\n",
       "\n",
       "    .dataframe thead th {\n",
       "        text-align: right;\n",
       "    }\n",
       "</style>\n",
       "<table border=\"1\" class=\"dataframe\">\n",
       "  <thead>\n",
       "    <tr style=\"text-align: right;\">\n",
       "      <th></th>\n",
       "      <th>artistID</th>\n",
       "      <th>name</th>\n",
       "      <th>mean</th>\n",
       "      <th>med</th>\n",
       "      <th>max</th>\n",
       "      <th>sum</th>\n",
       "      <th>unique</th>\n",
       "    </tr>\n",
       "  </thead>\n",
       "  <tbody>\n",
       "    <tr>\n",
       "      <th>0</th>\n",
       "      <td>283</td>\n",
       "      <td>Britney Spears</td>\n",
       "      <td>4584.559</td>\n",
       "      <td>1000.500</td>\n",
       "      <td>131733</td>\n",
       "      <td>2393140</td>\n",
       "      <td>522</td>\n",
       "    </tr>\n",
       "    <tr>\n",
       "      <th>1</th>\n",
       "      <td>66</td>\n",
       "      <td>Depeche Mode</td>\n",
       "      <td>4614.567</td>\n",
       "      <td>567.000</td>\n",
       "      <td>352698</td>\n",
       "      <td>1301308</td>\n",
       "      <td>282</td>\n",
       "    </tr>\n",
       "    <tr>\n",
       "      <th>2</th>\n",
       "      <td>83</td>\n",
       "      <td>Lady Gaga</td>\n",
       "      <td>2113.563</td>\n",
       "      <td>590.000</td>\n",
       "      <td>114672</td>\n",
       "      <td>1291387</td>\n",
       "      <td>611</td>\n",
       "    </tr>\n",
       "    <tr>\n",
       "      <th>3</th>\n",
       "      <td>286</td>\n",
       "      <td>Christina Aguilera</td>\n",
       "      <td>2600.504</td>\n",
       "      <td>739.000</td>\n",
       "      <td>176133</td>\n",
       "      <td>1058405</td>\n",
       "      <td>407</td>\n",
       "    </tr>\n",
       "    <tr>\n",
       "      <th>4</th>\n",
       "      <td>492</td>\n",
       "      <td>Paramore</td>\n",
       "      <td>2414.659</td>\n",
       "      <td>417.000</td>\n",
       "      <td>227829</td>\n",
       "      <td>963449</td>\n",
       "      <td>399</td>\n",
       "    </tr>\n",
       "    <tr>\n",
       "      <th>...</th>\n",
       "      <td>...</td>\n",
       "      <td>...</td>\n",
       "      <td>...</td>\n",
       "      <td>...</td>\n",
       "      <td>...</td>\n",
       "      <td>...</td>\n",
       "      <td>...</td>\n",
       "    </tr>\n",
       "    <tr>\n",
       "      <th>17627</th>\n",
       "      <td>16522</td>\n",
       "      <td>K-Precise</td>\n",
       "      <td>1.000</td>\n",
       "      <td>1.000</td>\n",
       "      <td>1</td>\n",
       "      <td>1</td>\n",
       "      <td>1</td>\n",
       "    </tr>\n",
       "    <tr>\n",
       "      <th>17628</th>\n",
       "      <td>13713</td>\n",
       "      <td>ZÃœNDER</td>\n",
       "      <td>1.000</td>\n",
       "      <td>1.000</td>\n",
       "      <td>1</td>\n",
       "      <td>1</td>\n",
       "      <td>1</td>\n",
       "    </tr>\n",
       "    <tr>\n",
       "      <th>17629</th>\n",
       "      <td>13712</td>\n",
       "      <td>Evil Masquerade</td>\n",
       "      <td>1.000</td>\n",
       "      <td>1.000</td>\n",
       "      <td>1</td>\n",
       "      <td>1</td>\n",
       "      <td>1</td>\n",
       "    </tr>\n",
       "    <tr>\n",
       "      <th>17630</th>\n",
       "      <td>16239</td>\n",
       "      <td>Gosling</td>\n",
       "      <td>1.000</td>\n",
       "      <td>1.000</td>\n",
       "      <td>1</td>\n",
       "      <td>1</td>\n",
       "      <td>1</td>\n",
       "    </tr>\n",
       "    <tr>\n",
       "      <th>17631</th>\n",
       "      <td>16241</td>\n",
       "      <td>Kalson</td>\n",
       "      <td>1.000</td>\n",
       "      <td>1.000</td>\n",
       "      <td>1</td>\n",
       "      <td>1</td>\n",
       "      <td>1</td>\n",
       "    </tr>\n",
       "  </tbody>\n",
       "</table>\n",
       "<p>17632 rows × 7 columns</p>\n",
       "</div>"
      ],
      "text/plain": [
       "       artistID                name     mean      med     max      sum  unique\n",
       "0           283      Britney Spears 4584.559 1000.500  131733  2393140     522\n",
       "1            66        Depeche Mode 4614.567  567.000  352698  1301308     282\n",
       "2            83           Lady Gaga 2113.563  590.000  114672  1291387     611\n",
       "3           286  Christina Aguilera 2600.504  739.000  176133  1058405     407\n",
       "4           492            Paramore 2414.659  417.000  227829   963449     399\n",
       "...         ...                 ...      ...      ...     ...      ...     ...\n",
       "17627     16522           K-Precise    1.000    1.000       1        1       1\n",
       "17628     13713             ZÃœNDER    1.000    1.000       1        1       1\n",
       "17629     13712     Evil Masquerade    1.000    1.000       1        1       1\n",
       "17630     16239             Gosling    1.000    1.000       1        1       1\n",
       "17631     16241              Kalson    1.000    1.000       1        1       1\n",
       "\n",
       "[17632 rows x 7 columns]"
      ]
     },
     "execution_count": 86,
     "metadata": {},
     "output_type": "execute_result"
    }
   ],
   "source": [
    "merged_df"
   ]
  },
  {
   "cell_type": "code",
   "execution_count": 87,
   "id": "bd17a23e",
   "metadata": {},
   "outputs": [],
   "source": [
    "percent = []\n",
    "val = merged_df['unique']\n",
    "total = played['userID'].nunique()\n",
    "percent = []\n",
    "for i in range(len(val)):\n",
    "    y = val[i] / total\n",
    "    percent.append(y)\n",
    "    #print(y)"
   ]
  },
  {
   "cell_type": "code",
   "execution_count": 88,
   "id": "55ce8e81",
   "metadata": {},
   "outputs": [],
   "source": [
    "percent = np.array(percent)\n",
    "artdf['Percentage'] = percent.tolist()"
   ]
  },
  {
   "cell_type": "code",
   "execution_count": 89,
   "id": "8f4ec8cf",
   "metadata": {},
   "outputs": [
    {
     "data": {
      "text/html": [
       "<div>\n",
       "<style scoped>\n",
       "    .dataframe tbody tr th:only-of-type {\n",
       "        vertical-align: middle;\n",
       "    }\n",
       "\n",
       "    .dataframe tbody tr th {\n",
       "        vertical-align: top;\n",
       "    }\n",
       "\n",
       "    .dataframe thead th {\n",
       "        text-align: right;\n",
       "    }\n",
       "</style>\n",
       "<table border=\"1\" class=\"dataframe\">\n",
       "  <thead>\n",
       "    <tr style=\"text-align: right;\">\n",
       "      <th></th>\n",
       "      <th>artistID</th>\n",
       "      <th>name</th>\n",
       "      <th>mean</th>\n",
       "      <th>med</th>\n",
       "      <th>max</th>\n",
       "      <th>sum</th>\n",
       "      <th>Percentage</th>\n",
       "    </tr>\n",
       "  </thead>\n",
       "  <tbody>\n",
       "    <tr>\n",
       "      <th>283</th>\n",
       "      <td>283</td>\n",
       "      <td>Britney Spears</td>\n",
       "      <td>4584.559</td>\n",
       "      <td>1000.500</td>\n",
       "      <td>131733</td>\n",
       "      <td>2393140</td>\n",
       "      <td>0.276</td>\n",
       "    </tr>\n",
       "    <tr>\n",
       "      <th>66</th>\n",
       "      <td>66</td>\n",
       "      <td>Depeche Mode</td>\n",
       "      <td>4614.567</td>\n",
       "      <td>567.000</td>\n",
       "      <td>352698</td>\n",
       "      <td>1301308</td>\n",
       "      <td>0.149</td>\n",
       "    </tr>\n",
       "    <tr>\n",
       "      <th>83</th>\n",
       "      <td>83</td>\n",
       "      <td>Lady Gaga</td>\n",
       "      <td>2113.563</td>\n",
       "      <td>590.000</td>\n",
       "      <td>114672</td>\n",
       "      <td>1291387</td>\n",
       "      <td>0.323</td>\n",
       "    </tr>\n",
       "    <tr>\n",
       "      <th>286</th>\n",
       "      <td>286</td>\n",
       "      <td>Christina Aguilera</td>\n",
       "      <td>2600.504</td>\n",
       "      <td>739.000</td>\n",
       "      <td>176133</td>\n",
       "      <td>1058405</td>\n",
       "      <td>0.215</td>\n",
       "    </tr>\n",
       "    <tr>\n",
       "      <th>492</th>\n",
       "      <td>492</td>\n",
       "      <td>Paramore</td>\n",
       "      <td>2414.659</td>\n",
       "      <td>417.000</td>\n",
       "      <td>227829</td>\n",
       "      <td>963449</td>\n",
       "      <td>0.211</td>\n",
       "    </tr>\n",
       "    <tr>\n",
       "      <th>...</th>\n",
       "      <td>...</td>\n",
       "      <td>...</td>\n",
       "      <td>...</td>\n",
       "      <td>...</td>\n",
       "      <td>...</td>\n",
       "      <td>...</td>\n",
       "      <td>...</td>\n",
       "    </tr>\n",
       "    <tr>\n",
       "      <th>16522</th>\n",
       "      <td>16522</td>\n",
       "      <td>K-Precise</td>\n",
       "      <td>1.000</td>\n",
       "      <td>1.000</td>\n",
       "      <td>1</td>\n",
       "      <td>1</td>\n",
       "      <td>0.001</td>\n",
       "    </tr>\n",
       "    <tr>\n",
       "      <th>13713</th>\n",
       "      <td>13713</td>\n",
       "      <td>ZÃœNDER</td>\n",
       "      <td>1.000</td>\n",
       "      <td>1.000</td>\n",
       "      <td>1</td>\n",
       "      <td>1</td>\n",
       "      <td>0.001</td>\n",
       "    </tr>\n",
       "    <tr>\n",
       "      <th>13712</th>\n",
       "      <td>13712</td>\n",
       "      <td>Evil Masquerade</td>\n",
       "      <td>1.000</td>\n",
       "      <td>1.000</td>\n",
       "      <td>1</td>\n",
       "      <td>1</td>\n",
       "      <td>0.001</td>\n",
       "    </tr>\n",
       "    <tr>\n",
       "      <th>16239</th>\n",
       "      <td>16239</td>\n",
       "      <td>Gosling</td>\n",
       "      <td>1.000</td>\n",
       "      <td>1.000</td>\n",
       "      <td>1</td>\n",
       "      <td>1</td>\n",
       "      <td>0.001</td>\n",
       "    </tr>\n",
       "    <tr>\n",
       "      <th>16241</th>\n",
       "      <td>16241</td>\n",
       "      <td>Kalson</td>\n",
       "      <td>1.000</td>\n",
       "      <td>1.000</td>\n",
       "      <td>1</td>\n",
       "      <td>1</td>\n",
       "      <td>0.001</td>\n",
       "    </tr>\n",
       "  </tbody>\n",
       "</table>\n",
       "<p>17632 rows × 7 columns</p>\n",
       "</div>"
      ],
      "text/plain": [
       "       artistID                name     mean      med     max      sum  \\\n",
       "283         283      Britney Spears 4584.559 1000.500  131733  2393140   \n",
       "66           66        Depeche Mode 4614.567  567.000  352698  1301308   \n",
       "83           83           Lady Gaga 2113.563  590.000  114672  1291387   \n",
       "286         286  Christina Aguilera 2600.504  739.000  176133  1058405   \n",
       "492         492            Paramore 2414.659  417.000  227829   963449   \n",
       "...         ...                 ...      ...      ...     ...      ...   \n",
       "16522     16522           K-Precise    1.000    1.000       1        1   \n",
       "13713     13713             ZÃœNDER    1.000    1.000       1        1   \n",
       "13712     13712     Evil Masquerade    1.000    1.000       1        1   \n",
       "16239     16239             Gosling    1.000    1.000       1        1   \n",
       "16241     16241              Kalson    1.000    1.000       1        1   \n",
       "\n",
       "       Percentage  \n",
       "283         0.276  \n",
       "66          0.149  \n",
       "83          0.323  \n",
       "286         0.215  \n",
       "492         0.211  \n",
       "...           ...  \n",
       "16522       0.001  \n",
       "13713       0.001  \n",
       "13712       0.001  \n",
       "16239       0.001  \n",
       "16241       0.001  \n",
       "\n",
       "[17632 rows x 7 columns]"
      ]
     },
     "execution_count": 89,
     "metadata": {},
     "output_type": "execute_result"
    }
   ],
   "source": [
    "artdf"
   ]
  },
  {
   "cell_type": "code",
   "execution_count": 90,
   "id": "51e6b784",
   "metadata": {},
   "outputs": [],
   "source": [
    "artdf['unique'] = merged_df['unique'].values"
   ]
  },
  {
   "cell_type": "code",
   "execution_count": 91,
   "id": "24cce513",
   "metadata": {},
   "outputs": [
    {
     "data": {
      "text/html": [
       "<div>\n",
       "<style scoped>\n",
       "    .dataframe tbody tr th:only-of-type {\n",
       "        vertical-align: middle;\n",
       "    }\n",
       "\n",
       "    .dataframe tbody tr th {\n",
       "        vertical-align: top;\n",
       "    }\n",
       "\n",
       "    .dataframe thead th {\n",
       "        text-align: right;\n",
       "    }\n",
       "</style>\n",
       "<table border=\"1\" class=\"dataframe\">\n",
       "  <thead>\n",
       "    <tr style=\"text-align: right;\">\n",
       "      <th></th>\n",
       "      <th>artistID</th>\n",
       "      <th>name</th>\n",
       "      <th>mean</th>\n",
       "      <th>med</th>\n",
       "      <th>max</th>\n",
       "      <th>sum</th>\n",
       "      <th>Percentage</th>\n",
       "      <th>unique</th>\n",
       "    </tr>\n",
       "  </thead>\n",
       "  <tbody>\n",
       "    <tr>\n",
       "      <th>283</th>\n",
       "      <td>283</td>\n",
       "      <td>Britney Spears</td>\n",
       "      <td>4584.559</td>\n",
       "      <td>1000.500</td>\n",
       "      <td>131733</td>\n",
       "      <td>2393140</td>\n",
       "      <td>0.276</td>\n",
       "      <td>522</td>\n",
       "    </tr>\n",
       "    <tr>\n",
       "      <th>66</th>\n",
       "      <td>66</td>\n",
       "      <td>Depeche Mode</td>\n",
       "      <td>4614.567</td>\n",
       "      <td>567.000</td>\n",
       "      <td>352698</td>\n",
       "      <td>1301308</td>\n",
       "      <td>0.149</td>\n",
       "      <td>282</td>\n",
       "    </tr>\n",
       "    <tr>\n",
       "      <th>83</th>\n",
       "      <td>83</td>\n",
       "      <td>Lady Gaga</td>\n",
       "      <td>2113.563</td>\n",
       "      <td>590.000</td>\n",
       "      <td>114672</td>\n",
       "      <td>1291387</td>\n",
       "      <td>0.323</td>\n",
       "      <td>611</td>\n",
       "    </tr>\n",
       "    <tr>\n",
       "      <th>286</th>\n",
       "      <td>286</td>\n",
       "      <td>Christina Aguilera</td>\n",
       "      <td>2600.504</td>\n",
       "      <td>739.000</td>\n",
       "      <td>176133</td>\n",
       "      <td>1058405</td>\n",
       "      <td>0.215</td>\n",
       "      <td>407</td>\n",
       "    </tr>\n",
       "    <tr>\n",
       "      <th>492</th>\n",
       "      <td>492</td>\n",
       "      <td>Paramore</td>\n",
       "      <td>2414.659</td>\n",
       "      <td>417.000</td>\n",
       "      <td>227829</td>\n",
       "      <td>963449</td>\n",
       "      <td>0.211</td>\n",
       "      <td>399</td>\n",
       "    </tr>\n",
       "    <tr>\n",
       "      <th>...</th>\n",
       "      <td>...</td>\n",
       "      <td>...</td>\n",
       "      <td>...</td>\n",
       "      <td>...</td>\n",
       "      <td>...</td>\n",
       "      <td>...</td>\n",
       "      <td>...</td>\n",
       "      <td>...</td>\n",
       "    </tr>\n",
       "    <tr>\n",
       "      <th>16522</th>\n",
       "      <td>16522</td>\n",
       "      <td>K-Precise</td>\n",
       "      <td>1.000</td>\n",
       "      <td>1.000</td>\n",
       "      <td>1</td>\n",
       "      <td>1</td>\n",
       "      <td>0.001</td>\n",
       "      <td>1</td>\n",
       "    </tr>\n",
       "    <tr>\n",
       "      <th>13713</th>\n",
       "      <td>13713</td>\n",
       "      <td>ZÃœNDER</td>\n",
       "      <td>1.000</td>\n",
       "      <td>1.000</td>\n",
       "      <td>1</td>\n",
       "      <td>1</td>\n",
       "      <td>0.001</td>\n",
       "      <td>1</td>\n",
       "    </tr>\n",
       "    <tr>\n",
       "      <th>13712</th>\n",
       "      <td>13712</td>\n",
       "      <td>Evil Masquerade</td>\n",
       "      <td>1.000</td>\n",
       "      <td>1.000</td>\n",
       "      <td>1</td>\n",
       "      <td>1</td>\n",
       "      <td>0.001</td>\n",
       "      <td>1</td>\n",
       "    </tr>\n",
       "    <tr>\n",
       "      <th>16239</th>\n",
       "      <td>16239</td>\n",
       "      <td>Gosling</td>\n",
       "      <td>1.000</td>\n",
       "      <td>1.000</td>\n",
       "      <td>1</td>\n",
       "      <td>1</td>\n",
       "      <td>0.001</td>\n",
       "      <td>1</td>\n",
       "    </tr>\n",
       "    <tr>\n",
       "      <th>16241</th>\n",
       "      <td>16241</td>\n",
       "      <td>Kalson</td>\n",
       "      <td>1.000</td>\n",
       "      <td>1.000</td>\n",
       "      <td>1</td>\n",
       "      <td>1</td>\n",
       "      <td>0.001</td>\n",
       "      <td>1</td>\n",
       "    </tr>\n",
       "  </tbody>\n",
       "</table>\n",
       "<p>17632 rows × 8 columns</p>\n",
       "</div>"
      ],
      "text/plain": [
       "       artistID                name     mean      med     max      sum  \\\n",
       "283         283      Britney Spears 4584.559 1000.500  131733  2393140   \n",
       "66           66        Depeche Mode 4614.567  567.000  352698  1301308   \n",
       "83           83           Lady Gaga 2113.563  590.000  114672  1291387   \n",
       "286         286  Christina Aguilera 2600.504  739.000  176133  1058405   \n",
       "492         492            Paramore 2414.659  417.000  227829   963449   \n",
       "...         ...                 ...      ...      ...     ...      ...   \n",
       "16522     16522           K-Precise    1.000    1.000       1        1   \n",
       "13713     13713             ZÃœNDER    1.000    1.000       1        1   \n",
       "13712     13712     Evil Masquerade    1.000    1.000       1        1   \n",
       "16239     16239             Gosling    1.000    1.000       1        1   \n",
       "16241     16241              Kalson    1.000    1.000       1        1   \n",
       "\n",
       "       Percentage  unique  \n",
       "283         0.276     522  \n",
       "66          0.149     282  \n",
       "83          0.323     611  \n",
       "286         0.215     407  \n",
       "492         0.211     399  \n",
       "...           ...     ...  \n",
       "16522       0.001       1  \n",
       "13713       0.001       1  \n",
       "13712       0.001       1  \n",
       "16239       0.001       1  \n",
       "16241       0.001       1  \n",
       "\n",
       "[17632 rows x 8 columns]"
      ]
     },
     "execution_count": 91,
     "metadata": {},
     "output_type": "execute_result"
    }
   ],
   "source": [
    "artdf"
   ]
  },
  {
   "cell_type": "code",
   "execution_count": 92,
   "id": "12463fd7",
   "metadata": {},
   "outputs": [],
   "source": [
    "artdf['Percentage'] = artdf['Percentage'].multiply(100)"
   ]
  },
  {
   "cell_type": "code",
   "execution_count": 93,
   "id": "fc785259",
   "metadata": {},
   "outputs": [],
   "source": [
    "artdf = artdf.sort_values(by=['Percentage'], ascending=False)"
   ]
  },
  {
   "cell_type": "code",
   "execution_count": 94,
   "id": "c99089d5",
   "metadata": {},
   "outputs": [
    {
     "data": {
      "text/plain": [
       "<AxesSubplot:title={'center':'Percentage of users who listen to most popular artists'}, xlabel='Artist', ylabel='% of unique users who listen'>"
      ]
     },
     "execution_count": 94,
     "metadata": {},
     "output_type": "execute_result"
    },
    {
     "data": {
      "image/png": "[encoded data removed]",
      "text/plain": [
       "<Figure size 1296x432 with 1 Axes>"
      ]
     },
     "metadata": {
      "needs_background": "light"
     },
     "output_type": "display_data"
    }
   ],
   "source": [
    "pt2 = artdf.head(20)\n",
    "pt2.plot.bar(x = 'name', y = 'Percentage', rot = 40, figsize=(18, 6), color='green', xlabel='Artist', ylabel='% of unique users who listen', title='Percentage of users who listen to most popular artists')"
   ]
  },
  {
   "cell_type": "code",
   "execution_count": 95,
   "id": "c71cfb7e",
   "metadata": {},
   "outputs": [
    {
     "name": "stdout",
     "output_type": "stream",
     "text": [
      "The percentage of artists with 1% or less users listening to them is 16794.\n",
      "The percentage of artists with 2% or less users listening to them is 17200.\n",
      "The percentage of artists with 3% or less users listening to them is 17350.\n",
      "The percentage of artists with 4% or less users listening to them is 17430.\n",
      "The percentage of artists with 5% or less users listening to them is 17497.\n"
     ]
    }
   ],
   "source": [
    "values = [1, 2, 3, 4, 5]\n",
    "for i in range(len(values)):\n",
    "    x = len(artdf[artdf['Percentage'] <= values[i]])\n",
    "    print(\"The percentage of artists with \" + str(values[i]) + \"% or less users listening to them is \" + str(x) + \".\")"
   ]
  },
  {
   "cell_type": "markdown",
   "id": "2df44288",
   "metadata": {},
   "source": [
    "We can tell on the whole of the 17632 artists that there are actually very few who are listened to by a wide audience. There are less than 1000 artists who have more than 1% of users listening to them. This means our data is probably leaned very heavily towards the most popular artists such as Britney Spears or Lady Gaga as per our barchart above."
   ]
  },
  {
   "cell_type": "code",
   "execution_count": 96,
   "id": "f060564d",
   "metadata": {},
   "outputs": [],
   "source": [
    "z = played[['name', 'artistID']]"
   ]
  },
  {
   "cell_type": "code",
   "execution_count": 97,
   "id": "20efd633",
   "metadata": {},
   "outputs": [],
   "source": [
    "z = z.drop_duplicates()"
   ]
  },
  {
   "cell_type": "code",
   "execution_count": 98,
   "id": "13836e4d",
   "metadata": {},
   "outputs": [
    {
     "data": {
      "text/html": [
       "<div>\n",
       "<style scoped>\n",
       "    .dataframe tbody tr th:only-of-type {\n",
       "        vertical-align: middle;\n",
       "    }\n",
       "\n",
       "    .dataframe tbody tr th {\n",
       "        vertical-align: top;\n",
       "    }\n",
       "\n",
       "    .dataframe thead th {\n",
       "        text-align: right;\n",
       "    }\n",
       "</style>\n",
       "<table border=\"1\" class=\"dataframe\">\n",
       "  <thead>\n",
       "    <tr style=\"text-align: right;\">\n",
       "      <th></th>\n",
       "      <th>name</th>\n",
       "      <th>artistID</th>\n",
       "    </tr>\n",
       "  </thead>\n",
       "  <tbody>\n",
       "    <tr>\n",
       "      <th>0</th>\n",
       "      <td>MALICE MIZER</td>\n",
       "      <td>0</td>\n",
       "    </tr>\n",
       "    <tr>\n",
       "      <th>3</th>\n",
       "      <td>Diary of Dreams</td>\n",
       "      <td>1</td>\n",
       "    </tr>\n",
       "    <tr>\n",
       "      <th>15</th>\n",
       "      <td>Carpathian Forest</td>\n",
       "      <td>2</td>\n",
       "    </tr>\n",
       "    <tr>\n",
       "      <th>18</th>\n",
       "      <td>Moi dix Mois</td>\n",
       "      <td>3</td>\n",
       "    </tr>\n",
       "    <tr>\n",
       "      <th>20</th>\n",
       "      <td>Bella Morte</td>\n",
       "      <td>4</td>\n",
       "    </tr>\n",
       "    <tr>\n",
       "      <th>...</th>\n",
       "      <td>...</td>\n",
       "      <td>...</td>\n",
       "    </tr>\n",
       "    <tr>\n",
       "      <th>92829</th>\n",
       "      <td>Diamanda GalÃ¡s</td>\n",
       "      <td>17627</td>\n",
       "    </tr>\n",
       "    <tr>\n",
       "      <th>92830</th>\n",
       "      <td>Aya RL</td>\n",
       "      <td>17628</td>\n",
       "    </tr>\n",
       "    <tr>\n",
       "      <th>92831</th>\n",
       "      <td>Coptic Rain</td>\n",
       "      <td>17629</td>\n",
       "    </tr>\n",
       "    <tr>\n",
       "      <th>92832</th>\n",
       "      <td>Oz Alchemist</td>\n",
       "      <td>17630</td>\n",
       "    </tr>\n",
       "    <tr>\n",
       "      <th>92833</th>\n",
       "      <td>Grzegorz Tomczak</td>\n",
       "      <td>17631</td>\n",
       "    </tr>\n",
       "  </tbody>\n",
       "</table>\n",
       "<p>17632 rows × 2 columns</p>\n",
       "</div>"
      ],
      "text/plain": [
       "                    name  artistID\n",
       "0           MALICE MIZER         0\n",
       "3        Diary of Dreams         1\n",
       "15     Carpathian Forest         2\n",
       "18          Moi dix Mois         3\n",
       "20           Bella Morte         4\n",
       "...                  ...       ...\n",
       "92829    Diamanda GalÃ¡s     17627\n",
       "92830             Aya RL     17628\n",
       "92831        Coptic Rain     17629\n",
       "92832       Oz Alchemist     17630\n",
       "92833   Grzegorz Tomczak     17631\n",
       "\n",
       "[17632 rows x 2 columns]"
      ]
     },
     "execution_count": 98,
     "metadata": {},
     "output_type": "execute_result"
    }
   ],
   "source": [
    "z"
   ]
  },
  {
   "cell_type": "code",
   "execution_count": 99,
   "id": "e7b90e72",
   "metadata": {},
   "outputs": [
    {
     "data": {
      "text/html": [
       "<div>\n",
       "<style scoped>\n",
       "    .dataframe tbody tr th:only-of-type {\n",
       "        vertical-align: middle;\n",
       "    }\n",
       "\n",
       "    .dataframe tbody tr th {\n",
       "        vertical-align: top;\n",
       "    }\n",
       "\n",
       "    .dataframe thead th {\n",
       "        text-align: right;\n",
       "    }\n",
       "</style>\n",
       "<table border=\"1\" class=\"dataframe\">\n",
       "  <thead>\n",
       "    <tr style=\"text-align: right;\">\n",
       "      <th></th>\n",
       "      <th>name</th>\n",
       "      <th>url</th>\n",
       "      <th>artID</th>\n",
       "      <th>userID</th>\n",
       "      <th>artistID</th>\n",
       "      <th>played</th>\n",
       "    </tr>\n",
       "  </thead>\n",
       "  <tbody>\n",
       "    <tr>\n",
       "      <th>0</th>\n",
       "      <td>MALICE MIZER</td>\n",
       "      <td>http://www.last.fm/music/MALICE+MIZER</td>\n",
       "      <td>0</td>\n",
       "      <td>31</td>\n",
       "      <td>0</td>\n",
       "      <td>212</td>\n",
       "    </tr>\n",
       "    <tr>\n",
       "      <th>1</th>\n",
       "      <td>MALICE MIZER</td>\n",
       "      <td>http://www.last.fm/music/MALICE+MIZER</td>\n",
       "      <td>0</td>\n",
       "      <td>256</td>\n",
       "      <td>0</td>\n",
       "      <td>483</td>\n",
       "    </tr>\n",
       "    <tr>\n",
       "      <th>2</th>\n",
       "      <td>MALICE MIZER</td>\n",
       "      <td>http://www.last.fm/music/MALICE+MIZER</td>\n",
       "      <td>0</td>\n",
       "      <td>729</td>\n",
       "      <td>0</td>\n",
       "      <td>76</td>\n",
       "    </tr>\n",
       "    <tr>\n",
       "      <th>3</th>\n",
       "      <td>Diary of Dreams</td>\n",
       "      <td>http://www.last.fm/music/Diary+of+Dreams</td>\n",
       "      <td>1</td>\n",
       "      <td>130</td>\n",
       "      <td>1</td>\n",
       "      <td>1021</td>\n",
       "    </tr>\n",
       "    <tr>\n",
       "      <th>4</th>\n",
       "      <td>Diary of Dreams</td>\n",
       "      <td>http://www.last.fm/music/Diary+of+Dreams</td>\n",
       "      <td>1</td>\n",
       "      <td>240</td>\n",
       "      <td>1</td>\n",
       "      <td>152</td>\n",
       "    </tr>\n",
       "    <tr>\n",
       "      <th>...</th>\n",
       "      <td>...</td>\n",
       "      <td>...</td>\n",
       "      <td>...</td>\n",
       "      <td>...</td>\n",
       "      <td>...</td>\n",
       "      <td>...</td>\n",
       "    </tr>\n",
       "    <tr>\n",
       "      <th>92829</th>\n",
       "      <td>Diamanda GalÃ¡s</td>\n",
       "      <td>http://www.last.fm/music/Diamanda+Gal%C3%A1s</td>\n",
       "      <td>17627</td>\n",
       "      <td>423</td>\n",
       "      <td>17627</td>\n",
       "      <td>301</td>\n",
       "    </tr>\n",
       "    <tr>\n",
       "      <th>92830</th>\n",
       "      <td>Aya RL</td>\n",
       "      <td>http://www.last.fm/music/Aya+RL</td>\n",
       "      <td>17628</td>\n",
       "      <td>423</td>\n",
       "      <td>17628</td>\n",
       "      <td>294</td>\n",
       "    </tr>\n",
       "    <tr>\n",
       "      <th>92831</th>\n",
       "      <td>Coptic Rain</td>\n",
       "      <td>http://www.last.fm/music/Coptic+Rain</td>\n",
       "      <td>17629</td>\n",
       "      <td>423</td>\n",
       "      <td>17629</td>\n",
       "      <td>287</td>\n",
       "    </tr>\n",
       "    <tr>\n",
       "      <th>92832</th>\n",
       "      <td>Oz Alchemist</td>\n",
       "      <td>http://www.last.fm/music/Oz+Alchemist</td>\n",
       "      <td>17630</td>\n",
       "      <td>423</td>\n",
       "      <td>17630</td>\n",
       "      <td>286</td>\n",
       "    </tr>\n",
       "    <tr>\n",
       "      <th>92833</th>\n",
       "      <td>Grzegorz Tomczak</td>\n",
       "      <td>http://www.last.fm/music/Grzegorz+Tomczak</td>\n",
       "      <td>17631</td>\n",
       "      <td>547</td>\n",
       "      <td>17631</td>\n",
       "      <td>426</td>\n",
       "    </tr>\n",
       "  </tbody>\n",
       "</table>\n",
       "<p>92834 rows × 6 columns</p>\n",
       "</div>"
      ],
      "text/plain": [
       "                   name                                           url  artID  \\\n",
       "0          MALICE MIZER         http://www.last.fm/music/MALICE+MIZER      0   \n",
       "1          MALICE MIZER         http://www.last.fm/music/MALICE+MIZER      0   \n",
       "2          MALICE MIZER         http://www.last.fm/music/MALICE+MIZER      0   \n",
       "3       Diary of Dreams      http://www.last.fm/music/Diary+of+Dreams      1   \n",
       "4       Diary of Dreams      http://www.last.fm/music/Diary+of+Dreams      1   \n",
       "...                 ...                                           ...    ...   \n",
       "92829   Diamanda GalÃ¡s  http://www.last.fm/music/Diamanda+Gal%C3%A1s  17627   \n",
       "92830            Aya RL               http://www.last.fm/music/Aya+RL  17628   \n",
       "92831       Coptic Rain          http://www.last.fm/music/Coptic+Rain  17629   \n",
       "92832      Oz Alchemist         http://www.last.fm/music/Oz+Alchemist  17630   \n",
       "92833  Grzegorz Tomczak     http://www.last.fm/music/Grzegorz+Tomczak  17631   \n",
       "\n",
       "       userID  artistID  played  \n",
       "0          31         0     212  \n",
       "1         256         0     483  \n",
       "2         729         0      76  \n",
       "3         130         1    1021  \n",
       "4         240         1     152  \n",
       "...       ...       ...     ...  \n",
       "92829     423     17627     301  \n",
       "92830     423     17628     294  \n",
       "92831     423     17629     287  \n",
       "92832     423     17630     286  \n",
       "92833     547     17631     426  \n",
       "\n",
       "[92834 rows x 6 columns]"
      ]
     },
     "execution_count": 99,
     "metadata": {},
     "output_type": "execute_result"
    }
   ],
   "source": [
    "played"
   ]
  },
  {
   "cell_type": "code",
   "execution_count": 100,
   "id": "9a606ce9",
   "metadata": {},
   "outputs": [
    {
     "data": {
      "text/html": [
       "<div>\n",
       "<style scoped>\n",
       "    .dataframe tbody tr th:only-of-type {\n",
       "        vertical-align: middle;\n",
       "    }\n",
       "\n",
       "    .dataframe tbody tr th {\n",
       "        vertical-align: top;\n",
       "    }\n",
       "\n",
       "    .dataframe thead th {\n",
       "        text-align: right;\n",
       "    }\n",
       "</style>\n",
       "<table border=\"1\" class=\"dataframe\">\n",
       "  <thead>\n",
       "    <tr style=\"text-align: right;\">\n",
       "      <th></th>\n",
       "      <th>name</th>\n",
       "      <th>url</th>\n",
       "      <th>artID</th>\n",
       "      <th>userID</th>\n",
       "      <th>artistID</th>\n",
       "      <th>played</th>\n",
       "    </tr>\n",
       "  </thead>\n",
       "  <tbody>\n",
       "    <tr>\n",
       "      <th>0</th>\n",
       "      <td>MALICE MIZER</td>\n",
       "      <td>http://www.last.fm/music/MALICE+MIZER</td>\n",
       "      <td>0</td>\n",
       "      <td>31</td>\n",
       "      <td>0</td>\n",
       "      <td>212</td>\n",
       "    </tr>\n",
       "    <tr>\n",
       "      <th>1</th>\n",
       "      <td>MALICE MIZER</td>\n",
       "      <td>http://www.last.fm/music/MALICE+MIZER</td>\n",
       "      <td>0</td>\n",
       "      <td>256</td>\n",
       "      <td>0</td>\n",
       "      <td>483</td>\n",
       "    </tr>\n",
       "    <tr>\n",
       "      <th>2</th>\n",
       "      <td>MALICE MIZER</td>\n",
       "      <td>http://www.last.fm/music/MALICE+MIZER</td>\n",
       "      <td>0</td>\n",
       "      <td>729</td>\n",
       "      <td>0</td>\n",
       "      <td>76</td>\n",
       "    </tr>\n",
       "    <tr>\n",
       "      <th>3</th>\n",
       "      <td>Diary of Dreams</td>\n",
       "      <td>http://www.last.fm/music/Diary+of+Dreams</td>\n",
       "      <td>1</td>\n",
       "      <td>130</td>\n",
       "      <td>1</td>\n",
       "      <td>1021</td>\n",
       "    </tr>\n",
       "    <tr>\n",
       "      <th>4</th>\n",
       "      <td>Diary of Dreams</td>\n",
       "      <td>http://www.last.fm/music/Diary+of+Dreams</td>\n",
       "      <td>1</td>\n",
       "      <td>240</td>\n",
       "      <td>1</td>\n",
       "      <td>152</td>\n",
       "    </tr>\n",
       "  </tbody>\n",
       "</table>\n",
       "</div>"
      ],
      "text/plain": [
       "              name                                       url  artID  userID  \\\n",
       "0     MALICE MIZER     http://www.last.fm/music/MALICE+MIZER      0      31   \n",
       "1     MALICE MIZER     http://www.last.fm/music/MALICE+MIZER      0     256   \n",
       "2     MALICE MIZER     http://www.last.fm/music/MALICE+MIZER      0     729   \n",
       "3  Diary of Dreams  http://www.last.fm/music/Diary+of+Dreams      1     130   \n",
       "4  Diary of Dreams  http://www.last.fm/music/Diary+of+Dreams      1     240   \n",
       "\n",
       "   artistID  played  \n",
       "0         0     212  \n",
       "1         0     483  \n",
       "2         0      76  \n",
       "3         1    1021  \n",
       "4         1     152  "
      ]
     },
     "execution_count": 100,
     "metadata": {},
     "output_type": "execute_result"
    }
   ],
   "source": [
    "played.head()"
   ]
  },
  {
   "cell_type": "markdown",
   "id": "334dea81",
   "metadata": {},
   "source": [
    "I was going to try to incorporate the tags as part of my recommender system but as per above I seem to lose data just by the shape and even looking at artistID 1 we see this ID occurs three times in our played data and only twice in our tagged dataset. This is porbably due to the fact the users left no tags on this. We also have some improper values for tags as per above such as \"better than lady gaga\" and \"#NAME?\" which aren't going to add any information to our data. If we choose a subset of tags and take out values such as these that aren't as common or add any information we could work with this then. However, this would mean trimming our dataset down further. With less data to work with this might negatively impact the effectiveness of our recommender system."
   ]
  },
  {
   "cell_type": "code",
   "execution_count": 101,
   "id": "f1dc73f8",
   "metadata": {},
   "outputs": [
    {
     "data": {
      "text/html": [
       "<div>\n",
       "<style scoped>\n",
       "    .dataframe tbody tr th:only-of-type {\n",
       "        vertical-align: middle;\n",
       "    }\n",
       "\n",
       "    .dataframe tbody tr th {\n",
       "        vertical-align: top;\n",
       "    }\n",
       "\n",
       "    .dataframe thead th {\n",
       "        text-align: right;\n",
       "    }\n",
       "</style>\n",
       "<table border=\"1\" class=\"dataframe\">\n",
       "  <thead>\n",
       "    <tr style=\"text-align: right;\">\n",
       "      <th></th>\n",
       "      <th>userID</th>\n",
       "      <th>artistID</th>\n",
       "      <th>tagID</th>\n",
       "      <th>day</th>\n",
       "      <th>month</th>\n",
       "      <th>year</th>\n",
       "    </tr>\n",
       "  </thead>\n",
       "  <tbody>\n",
       "    <tr>\n",
       "      <th>3251</th>\n",
       "      <td>37</td>\n",
       "      <td>1</td>\n",
       "      <td>30</td>\n",
       "      <td>1</td>\n",
       "      <td>1</td>\n",
       "      <td>2009</td>\n",
       "    </tr>\n",
       "    <tr>\n",
       "      <th>3252</th>\n",
       "      <td>37</td>\n",
       "      <td>1</td>\n",
       "      <td>127</td>\n",
       "      <td>1</td>\n",
       "      <td>8</td>\n",
       "      <td>2009</td>\n",
       "    </tr>\n",
       "    <tr>\n",
       "      <th>3253</th>\n",
       "      <td>37</td>\n",
       "      <td>1</td>\n",
       "      <td>575</td>\n",
       "      <td>1</td>\n",
       "      <td>7</td>\n",
       "      <td>2008</td>\n",
       "    </tr>\n",
       "    <tr>\n",
       "      <th>21145</th>\n",
       "      <td>211</td>\n",
       "      <td>1</td>\n",
       "      <td>61</td>\n",
       "      <td>1</td>\n",
       "      <td>10</td>\n",
       "      <td>2009</td>\n",
       "    </tr>\n",
       "    <tr>\n",
       "      <th>26470</th>\n",
       "      <td>247</td>\n",
       "      <td>1</td>\n",
       "      <td>30</td>\n",
       "      <td>1</td>\n",
       "      <td>3</td>\n",
       "      <td>2008</td>\n",
       "    </tr>\n",
       "    <tr>\n",
       "      <th>...</th>\n",
       "      <td>...</td>\n",
       "      <td>...</td>\n",
       "      <td>...</td>\n",
       "      <td>...</td>\n",
       "      <td>...</td>\n",
       "      <td>...</td>\n",
       "    </tr>\n",
       "    <tr>\n",
       "      <th>147516</th>\n",
       "      <td>1515</td>\n",
       "      <td>1</td>\n",
       "      <td>179</td>\n",
       "      <td>1</td>\n",
       "      <td>1</td>\n",
       "      <td>2010</td>\n",
       "    </tr>\n",
       "    <tr>\n",
       "      <th>147517</th>\n",
       "      <td>1515</td>\n",
       "      <td>1</td>\n",
       "      <td>190</td>\n",
       "      <td>1</td>\n",
       "      <td>1</td>\n",
       "      <td>2010</td>\n",
       "    </tr>\n",
       "    <tr>\n",
       "      <th>147518</th>\n",
       "      <td>1515</td>\n",
       "      <td>1</td>\n",
       "      <td>575</td>\n",
       "      <td>1</td>\n",
       "      <td>1</td>\n",
       "      <td>2010</td>\n",
       "    </tr>\n",
       "    <tr>\n",
       "      <th>170778</th>\n",
       "      <td>1740</td>\n",
       "      <td>1</td>\n",
       "      <td>179</td>\n",
       "      <td>1</td>\n",
       "      <td>12</td>\n",
       "      <td>2006</td>\n",
       "    </tr>\n",
       "    <tr>\n",
       "      <th>170779</th>\n",
       "      <td>1740</td>\n",
       "      <td>1</td>\n",
       "      <td>575</td>\n",
       "      <td>1</td>\n",
       "      <td>12</td>\n",
       "      <td>2006</td>\n",
       "    </tr>\n",
       "  </tbody>\n",
       "</table>\n",
       "<p>27 rows × 6 columns</p>\n",
       "</div>"
      ],
      "text/plain": [
       "        userID  artistID  tagID  day  month  year\n",
       "3251        37         1     30    1      1  2009\n",
       "3252        37         1    127    1      8  2009\n",
       "3253        37         1    575    1      7  2008\n",
       "21145      211         1     61    1     10  2009\n",
       "26470      247         1     30    1      3  2008\n",
       "...        ...       ...    ...  ...    ...   ...\n",
       "147516    1515         1    179    1      1  2010\n",
       "147517    1515         1    190    1      1  2010\n",
       "147518    1515         1    575    1      1  2010\n",
       "170778    1740         1    179    1     12  2006\n",
       "170779    1740         1    575    1     12  2006\n",
       "\n",
       "[27 rows x 6 columns]"
      ]
     },
     "execution_count": 101,
     "metadata": {},
     "output_type": "execute_result"
    }
   ],
   "source": [
    "df4[df4['artistID'] == 1]"
   ]
  },
  {
   "cell_type": "markdown",
   "id": "2aa566e1",
   "metadata": {},
   "source": [
    "This confirms that user 34 does not leave a tag on this artist's work. This is why we lose the rows we do when we try to incorporate the tags data into the listened data. We will disregard this for now."
   ]
  },
  {
   "cell_type": "markdown",
   "id": "5ddd1049",
   "metadata": {},
   "source": [
    "# Sparse Representation of Played matrix"
   ]
  },
  {
   "cell_type": "code",
   "execution_count": 102,
   "id": "dc9c84cd",
   "metadata": {},
   "outputs": [],
   "source": [
    "# Calculate sparsity of matrix\n",
    "def calculate_sparsity(M):\n",
    "    matrix_size = float(M.shape[0] * M.shape[1]) # Number of total possible interactions between artist and user in the matrix\n",
    "    num_plays = len(M.nonzero()[1]) # Number of times any artist has been interacted with\n",
    "    sparsity = 100 * (1 - float(num_plays / matrix_size))\n",
    "    return sparsity"
   ]
  },
  {
   "cell_type": "markdown",
   "id": "4053bb55",
   "metadata": {},
   "source": [
    "## Normalising our played column\n",
    "Next, one of the crucial aspects of our recommender system would be dealing with our played column. With such a diverse number of values from the range of 0 to over 350,000 we would have to deal with these appropriately. Our system would not be able to handle values of such a high nature and when I tried to run this I would get very high train errors and \"nan\" values for test error. I looked at a variety of different ways to normalize this value as a result and I would only incorporate two of these into my dataframe. I looked at capping any values above the 2,000 mark in our played column at 2,000 but decided against this method. As a result the methods I looked at were:\n",
    "\n",
    "##### 1) Simple Normalization - normalizing all values based off the highest value in the \"played\" column.\n",
    "\n",
    "##### 2) User based Normalization - grouping our played column by users and normalizing each user based off their own max value. I implemented this as a column called \"playedUserNorm\". This had the best results and was the column I implemented below.\n",
    "\n",
    "##### 3) Play Count Scaled - here I would take each value in the column and take it away from the minimum value in the column. I would then divide this by the max value of the column minus the minimum value. I implemented this with the column \"playCountScaled\".\n",
    "\n",
    "##### 4) Robust Scaling method - here we would scale each feature of the data set by subtracting the median and then dividing by the interquartile range. I tried this method but the results were poor and implementing it take a long time to run.\n"
   ]
  },
  {
   "cell_type": "code",
   "execution_count": 105,
   "id": "8538233b",
   "metadata": {},
   "outputs": [],
   "source": [
    "sm = played['played'].groupby(played['userID']).max()\n",
    "artss = np.array(played['userID'])\n",
    "playzz = np.array(played['played'])\n",
    "#artss[-1]\n",
    "newnorm = []\n",
    "for i in range(len(playzz)):\n",
    "    index = artss[i]\n",
    "    val = playzz[i] / sm[index]\n",
    "    newnorm.append(val)"
   ]
  },
  {
   "cell_type": "code",
   "execution_count": 106,
   "id": "66c4a174",
   "metadata": {},
   "outputs": [],
   "source": [
    "newnorm = np.array(newnorm)\n",
    "\n",
    "#add newnorm array as new column in DataFrame\n",
    "played['playedUserNorm'] = newnorm.tolist()"
   ]
  },
  {
   "cell_type": "code",
   "execution_count": 107,
   "id": "981d8e1c",
   "metadata": {},
   "outputs": [
    {
     "data": {
      "text/plain": [
       "1.0"
      ]
     },
     "execution_count": 107,
     "metadata": {},
     "output_type": "execute_result"
    }
   ],
   "source": [
    "played['playedUserNorm'].max()"
   ]
  },
  {
   "cell_type": "code",
   "execution_count": 108,
   "id": "258bde72",
   "metadata": {},
   "outputs": [],
   "source": [
    "pc = played.played\n",
    "play_count_scaled = (pc - pc.min()) / (pc.max() - pc.min())\n",
    "\n",
    "played = played.assign(playCountScaled=play_count_scaled)"
   ]
  },
  {
   "cell_type": "code",
   "execution_count": 109,
   "id": "39a18f69",
   "metadata": {},
   "outputs": [],
   "source": [
    "# played[\"playBasicNorm\"] = played[\"played\"] / played[\"played\"].max()"
   ]
  },
  {
   "cell_type": "code",
   "execution_count": 110,
   "id": "efefc134",
   "metadata": {},
   "outputs": [],
   "source": [
    "# played['playCountScaled'].equals(played['playBasicNorm'])"
   ]
  },
  {
   "cell_type": "code",
   "execution_count": 111,
   "id": "f0542be5",
   "metadata": {},
   "outputs": [
    {
     "data": {
      "text/html": [
       "<div>\n",
       "<style scoped>\n",
       "    .dataframe tbody tr th:only-of-type {\n",
       "        vertical-align: middle;\n",
       "    }\n",
       "\n",
       "    .dataframe tbody tr th {\n",
       "        vertical-align: top;\n",
       "    }\n",
       "\n",
       "    .dataframe thead th {\n",
       "        text-align: right;\n",
       "    }\n",
       "</style>\n",
       "<table border=\"1\" class=\"dataframe\">\n",
       "  <thead>\n",
       "    <tr style=\"text-align: right;\">\n",
       "      <th></th>\n",
       "      <th>name</th>\n",
       "      <th>url</th>\n",
       "      <th>artID</th>\n",
       "      <th>userID</th>\n",
       "      <th>artistID</th>\n",
       "      <th>played</th>\n",
       "      <th>playedUserNorm</th>\n",
       "      <th>playCountScaled</th>\n",
       "    </tr>\n",
       "  </thead>\n",
       "  <tbody>\n",
       "    <tr>\n",
       "      <th>0</th>\n",
       "      <td>MALICE MIZER</td>\n",
       "      <td>http://www.last.fm/music/MALICE+MIZER</td>\n",
       "      <td>0</td>\n",
       "      <td>31</td>\n",
       "      <td>0</td>\n",
       "      <td>212</td>\n",
       "      <td>0.056</td>\n",
       "      <td>0.001</td>\n",
       "    </tr>\n",
       "    <tr>\n",
       "      <th>1</th>\n",
       "      <td>MALICE MIZER</td>\n",
       "      <td>http://www.last.fm/music/MALICE+MIZER</td>\n",
       "      <td>0</td>\n",
       "      <td>256</td>\n",
       "      <td>0</td>\n",
       "      <td>483</td>\n",
       "      <td>0.065</td>\n",
       "      <td>0.001</td>\n",
       "    </tr>\n",
       "    <tr>\n",
       "      <th>2</th>\n",
       "      <td>MALICE MIZER</td>\n",
       "      <td>http://www.last.fm/music/MALICE+MIZER</td>\n",
       "      <td>0</td>\n",
       "      <td>729</td>\n",
       "      <td>0</td>\n",
       "      <td>76</td>\n",
       "      <td>0.025</td>\n",
       "      <td>0.000</td>\n",
       "    </tr>\n",
       "    <tr>\n",
       "      <th>3</th>\n",
       "      <td>Diary of Dreams</td>\n",
       "      <td>http://www.last.fm/music/Diary+of+Dreams</td>\n",
       "      <td>1</td>\n",
       "      <td>130</td>\n",
       "      <td>1</td>\n",
       "      <td>1021</td>\n",
       "      <td>0.151</td>\n",
       "      <td>0.003</td>\n",
       "    </tr>\n",
       "    <tr>\n",
       "      <th>4</th>\n",
       "      <td>Diary of Dreams</td>\n",
       "      <td>http://www.last.fm/music/Diary+of+Dreams</td>\n",
       "      <td>1</td>\n",
       "      <td>240</td>\n",
       "      <td>1</td>\n",
       "      <td>152</td>\n",
       "      <td>0.154</td>\n",
       "      <td>0.000</td>\n",
       "    </tr>\n",
       "  </tbody>\n",
       "</table>\n",
       "</div>"
      ],
      "text/plain": [
       "              name                                       url  artID  userID  \\\n",
       "0     MALICE MIZER     http://www.last.fm/music/MALICE+MIZER      0      31   \n",
       "1     MALICE MIZER     http://www.last.fm/music/MALICE+MIZER      0     256   \n",
       "2     MALICE MIZER     http://www.last.fm/music/MALICE+MIZER      0     729   \n",
       "3  Diary of Dreams  http://www.last.fm/music/Diary+of+Dreams      1     130   \n",
       "4  Diary of Dreams  http://www.last.fm/music/Diary+of+Dreams      1     240   \n",
       "\n",
       "   artistID  played  playedUserNorm  playCountScaled  \n",
       "0         0     212           0.056            0.001  \n",
       "1         0     483           0.065            0.001  \n",
       "2         0      76           0.025            0.000  \n",
       "3         1    1021           0.151            0.003  \n",
       "4         1     152           0.154            0.000  "
      ]
     },
     "execution_count": 111,
     "metadata": {},
     "output_type": "execute_result"
    }
   ],
   "source": [
    "played.head()"
   ]
  },
  {
   "cell_type": "code",
   "execution_count": 112,
   "id": "f73b2f36",
   "metadata": {},
   "outputs": [],
   "source": [
    "#newcol = []\n",
    "#pl = np.array(played['played'])\n",
    "#for i in range(len(pl)):\n",
    "#    val = (pl[i] - played['played'].median())  / (played['played'].quantile(0.75) - played['played'].quantile(0.25))\n",
    "#    newcol.append(val)"
   ]
  },
  {
   "cell_type": "code",
   "execution_count": 113,
   "id": "cd88f691",
   "metadata": {},
   "outputs": [],
   "source": [
    "#newcol = np.array(newcol)\n",
    "\n",
    "#add newnorm array as new column in DataFrame\n",
    "#played['playedRobust'] = newcol.tolist()"
   ]
  },
  {
   "cell_type": "code",
   "execution_count": 114,
   "id": "289c56f6",
   "metadata": {},
   "outputs": [
    {
     "data": {
      "text/plain": [
       "name                object\n",
       "url                 object\n",
       "artID                int64\n",
       "userID               int64\n",
       "artistID             int64\n",
       "played               int64\n",
       "playedUserNorm     float64\n",
       "playCountScaled    float64\n",
       "dtype: object"
      ]
     },
     "execution_count": 114,
     "metadata": {},
     "output_type": "execute_result"
    }
   ],
   "source": [
    "played.dtypes"
   ]
  },
  {
   "cell_type": "code",
   "execution_count": 115,
   "id": "ef473b6e",
   "metadata": {},
   "outputs": [],
   "source": [
    "def build_rating_sparse_tensor(ratings_df):\n",
    "  # ========================= Complete this section ============================\n",
    "    indices = ratings_df[['userID', 'artID']].values\n",
    "    values = ratings_df['playedUserNorm'].values\n",
    "  # ============================================================================\n",
    "\n",
    "    return tf.SparseTensor(\n",
    "      indices=indices,\n",
    "      values=values,\n",
    "      dense_shape=[len(played.userID.unique()), len(played.artID.unique())])"
   ]
  },
  {
   "cell_type": "code",
   "execution_count": 116,
   "id": "2910bba7",
   "metadata": {},
   "outputs": [
    {
     "data": {
      "text/plain": [
       "1892"
      ]
     },
     "execution_count": 116,
     "metadata": {},
     "output_type": "execute_result"
    }
   ],
   "source": [
    "len(played.userID.unique())"
   ]
  },
  {
   "cell_type": "code",
   "execution_count": 119,
   "id": "0f236e16",
   "metadata": {},
   "outputs": [
    {
     "data": {
      "text/plain": [
       "92834"
      ]
     },
     "execution_count": 119,
     "metadata": {},
     "output_type": "execute_result"
    }
   ],
   "source": [
    "played.shape[0]"
   ]
  },
  {
   "cell_type": "code",
   "execution_count": 120,
   "id": "5bc503ab",
   "metadata": {},
   "outputs": [],
   "source": [
    "def sparse_mean_square_error(sparse_ratings, user_embeddings, artist_embeddings):\n",
    "    predictions = tf.reduce_sum(\n",
    "    tf.gather(user_embeddings, sparse_ratings.indices[:, 0]) * tf.gather(artist_embeddings, sparse_ratings.indices[:, 1]),\n",
    "      axis=1)\n",
    "    loss = tf.losses.mean_squared_error(sparse_ratings.values, predictions)\n",
    "    return loss"
   ]
  },
  {
   "cell_type": "markdown",
   "id": "933ea257",
   "metadata": {},
   "source": [
    "# Building Model"
   ]
  },
  {
   "cell_type": "code",
   "execution_count": 121,
   "id": "d44aaa3c",
   "metadata": {},
   "outputs": [],
   "source": [
    "class CFModel(object):\n",
    "\n",
    "  def __init__(self, embedding_vars, loss, metrics=None):\n",
    "\n",
    "    self._embedding_vars = embedding_vars\n",
    "    self._loss = loss\n",
    "    self._metrics = metrics\n",
    "    self._embeddings = {k: None for k in embedding_vars}\n",
    "    self._session = None\n",
    "\n",
    "  @property\n",
    "  def embeddings(self):\n",
    "    \"\"\"The embeddings dictionary.\"\"\"\n",
    "    return self._embeddings\n",
    "\n",
    "  def train(self, num_iterations = 100, learning_rate = 1.0, plot_results=True,\n",
    "            optimizer=tf.train.GradientDescentOptimizer):\n",
    "\n",
    "    with self._loss.graph.as_default():\n",
    "      opt = optimizer(learning_rate)\n",
    "      train_op = opt.minimize(self._loss)\n",
    "      local_init_op = tf.group(\n",
    "          tf.variables_initializer(opt.variables()),\n",
    "          tf.local_variables_initializer())\n",
    "      if self._session is None:\n",
    "        self._session = tf.Session()\n",
    "        with self._session.as_default():\n",
    "          self._session.run(tf.global_variables_initializer())\n",
    "          self._session.run(tf.tables_initializer())\n",
    "          tf.train.start_queue_runners()\n",
    "\n",
    "    with self._session.as_default():\n",
    "      local_init_op.run()\n",
    "      iterations = []\n",
    "      metrics = self._metrics or ({},)\n",
    "      metrics_vals = [collections.defaultdict(list) for _ in self._metrics]\n",
    "\n",
    "      # Train and append results.\n",
    "      for i in range(num_iterations + 1):\n",
    "        _, results = self._session.run((train_op, metrics))\n",
    "        if (i % 10 == 0) or i == num_iterations:\n",
    "          print(\"\\r iteration %d: \" % i + \", \".join(\n",
    "                [\"%s=%f\" % (k, v) for r in results for k, v in r.items()]),\n",
    "                end='')\n",
    "          iterations.append(i)\n",
    "          for metric_val, result in zip(metrics_vals, results):\n",
    "            for k, v in result.items():\n",
    "              metric_val[k].append(v)\n",
    "\n",
    "      for k, v in self._embedding_vars.items():\n",
    "        self._embeddings[k] = v.eval()\n",
    "\n",
    "      if plot_results:\n",
    "        # Plot the metrics.\n",
    "        num_subplots = len(metrics) + 1\n",
    "        fig = plt.figure()\n",
    "        fig.set_size_inches(num_subplots * 10, 8)\n",
    "        for i, metric_vals in enumerate(metrics_vals):\n",
    "          ax = fig.add_subplot(1, num_subplots, i + 1)\n",
    "          for k, v in metric_vals.items():\n",
    "            ax.plot(iterations, v, label = k)\n",
    "          ax.set_xlim([1, num_iterations])\n",
    "          ax.legend()\n",
    "      return results"
   ]
  },
  {
   "cell_type": "markdown",
   "id": "bb5acbf3",
   "metadata": {},
   "source": [
    "# Build and Run the Model"
   ]
  },
  {
   "cell_type": "code",
   "execution_count": 122,
   "id": "b2c9c4c7",
   "metadata": {},
   "outputs": [],
   "source": [
    "from sklearn.model_selection import train_test_split\n",
    "def build_model(ratings, embedding_dim=3, init_stddev=1.):\n",
    "\n",
    "  # Split the ratings DataFrame into train and test.\n",
    "    #train_ratings, test_ratings = train_test_split(ratings, test_size=0.5)\n",
    "    train_ratings, test_ratings = split_dataframe(ratings)\n",
    "  # SparseTensor representation of the train and test datasets.\n",
    "    A_train = build_rating_sparse_tensor(train_ratings)\n",
    "    A_test = build_rating_sparse_tensor(test_ratings)\n",
    "  # Initialize the embeddings using a normal distribution.\n",
    "    U = tf.Variable(tf.random.normal(\n",
    "      [A_train.dense_shape[0], embedding_dim], stddev=init_stddev))\n",
    "    V = tf.Variable(tf.random.normal(\n",
    "      [A_train.dense_shape[1], embedding_dim], stddev=init_stddev))\n",
    "    train_loss = sparse_mean_square_error(A_train, U, V)\n",
    "    test_loss = sparse_mean_square_error(A_test, U, V)\n",
    "    metrics = {\n",
    "      'train_error': train_loss,\n",
    "      'test_error': test_loss\n",
    "    }\n",
    "    embeddings = {\n",
    "      \"userID\": U,\n",
    "      \"artID\": V\n",
    "    }\n",
    "    return CFModel(embeddings, train_loss, [metrics])"
   ]
  },
  {
   "cell_type": "code",
   "execution_count": 123,
   "id": "49643214",
   "metadata": {},
   "outputs": [],
   "source": [
    "def split_dataframe(df, holdout_fraction=0.3):\n",
    "  \n",
    "    test = df.sample(frac=holdout_fraction, replace=False)\n",
    "    train = df[~df.index.isin(test.index)]\n",
    "    return train, test"
   ]
  },
  {
   "cell_type": "code",
   "execution_count": 124,
   "id": "c1fac2fa",
   "metadata": {},
   "outputs": [],
   "source": [
    "xyz = played[['userID', 'artID', 'playedUserNorm']]"
   ]
  },
  {
   "cell_type": "code",
   "execution_count": 126,
   "id": "1804f359",
   "metadata": {
    "scrolled": false
   },
   "outputs": [
    {
     "name": "stdout",
     "output_type": "stream",
     "text": [
      " iteration 1000: train_error=0.031697, test_error=0.691478"
     ]
    },
    {
     "data": {
      "text/plain": [
       "[{'train_error': 0.031697292, 'test_error': 0.69147766}]"
      ]
     },
     "execution_count": 126,
     "metadata": {},
     "output_type": "execute_result"
    },
    {
     "data": {
      "image/png": "[encoded data removed]",
      "text/plain": [
       "<Figure size 1440x576 with 1 Axes>"
      ]
     },
     "metadata": {
      "needs_background": "light"
     },
     "output_type": "display_data"
    }
   ],
   "source": [
    "model = build_model(xyz,  embedding_dim=30, init_stddev=0.5)\n",
    "model.train(num_iterations=1000, learning_rate=10.)"
   ]
  },
  {
   "cell_type": "markdown",
   "id": "c3741d26",
   "metadata": {},
   "source": [
    "I tried to build my model but the high values for listens was giving me errors like so \"InvalidArgumentError: indices[4073] = 2077 is not in [0, 1892)\". "
   ]
  },
  {
   "cell_type": "markdown",
   "id": "bbe7cdef",
   "metadata": {},
   "source": [
    "This was why I changed the artist and user ID's to 1.) start from zero and 2.) increment by 1 until the length of unique values - 1. I had to normalise my weights then as I kept returning nan values for train and test errors above."
   ]
  },
  {
   "cell_type": "code",
   "execution_count": 127,
   "id": "1b5df32b",
   "metadata": {},
   "outputs": [
    {
     "data": {
      "text/html": [
       "<div>\n",
       "<style scoped>\n",
       "    .dataframe tbody tr th:only-of-type {\n",
       "        vertical-align: middle;\n",
       "    }\n",
       "\n",
       "    .dataframe tbody tr th {\n",
       "        vertical-align: top;\n",
       "    }\n",
       "\n",
       "    .dataframe thead th {\n",
       "        text-align: right;\n",
       "    }\n",
       "</style>\n",
       "<table border=\"1\" class=\"dataframe\">\n",
       "  <thead>\n",
       "    <tr style=\"text-align: right;\">\n",
       "      <th></th>\n",
       "      <th>name</th>\n",
       "      <th>url</th>\n",
       "      <th>artID</th>\n",
       "      <th>userID</th>\n",
       "      <th>artistID</th>\n",
       "      <th>played</th>\n",
       "      <th>playedUserNorm</th>\n",
       "      <th>playCountScaled</th>\n",
       "    </tr>\n",
       "  </thead>\n",
       "  <tbody>\n",
       "    <tr>\n",
       "      <th>0</th>\n",
       "      <td>MALICE MIZER</td>\n",
       "      <td>http://www.last.fm/music/MALICE+MIZER</td>\n",
       "      <td>0</td>\n",
       "      <td>31</td>\n",
       "      <td>0</td>\n",
       "      <td>212</td>\n",
       "      <td>0.056</td>\n",
       "      <td>0.001</td>\n",
       "    </tr>\n",
       "    <tr>\n",
       "      <th>1</th>\n",
       "      <td>MALICE MIZER</td>\n",
       "      <td>http://www.last.fm/music/MALICE+MIZER</td>\n",
       "      <td>0</td>\n",
       "      <td>256</td>\n",
       "      <td>0</td>\n",
       "      <td>483</td>\n",
       "      <td>0.065</td>\n",
       "      <td>0.001</td>\n",
       "    </tr>\n",
       "    <tr>\n",
       "      <th>2</th>\n",
       "      <td>MALICE MIZER</td>\n",
       "      <td>http://www.last.fm/music/MALICE+MIZER</td>\n",
       "      <td>0</td>\n",
       "      <td>729</td>\n",
       "      <td>0</td>\n",
       "      <td>76</td>\n",
       "      <td>0.025</td>\n",
       "      <td>0.000</td>\n",
       "    </tr>\n",
       "    <tr>\n",
       "      <th>3</th>\n",
       "      <td>Diary of Dreams</td>\n",
       "      <td>http://www.last.fm/music/Diary+of+Dreams</td>\n",
       "      <td>1</td>\n",
       "      <td>130</td>\n",
       "      <td>1</td>\n",
       "      <td>1021</td>\n",
       "      <td>0.151</td>\n",
       "      <td>0.003</td>\n",
       "    </tr>\n",
       "    <tr>\n",
       "      <th>4</th>\n",
       "      <td>Diary of Dreams</td>\n",
       "      <td>http://www.last.fm/music/Diary+of+Dreams</td>\n",
       "      <td>1</td>\n",
       "      <td>240</td>\n",
       "      <td>1</td>\n",
       "      <td>152</td>\n",
       "      <td>0.154</td>\n",
       "      <td>0.000</td>\n",
       "    </tr>\n",
       "    <tr>\n",
       "      <th>5</th>\n",
       "      <td>Diary of Dreams</td>\n",
       "      <td>http://www.last.fm/music/Diary+of+Dreams</td>\n",
       "      <td>1</td>\n",
       "      <td>303</td>\n",
       "      <td>1</td>\n",
       "      <td>3466</td>\n",
       "      <td>1.000</td>\n",
       "      <td>0.010</td>\n",
       "    </tr>\n",
       "  </tbody>\n",
       "</table>\n",
       "</div>"
      ],
      "text/plain": [
       "              name                                       url  artID  userID  \\\n",
       "0     MALICE MIZER     http://www.last.fm/music/MALICE+MIZER      0      31   \n",
       "1     MALICE MIZER     http://www.last.fm/music/MALICE+MIZER      0     256   \n",
       "2     MALICE MIZER     http://www.last.fm/music/MALICE+MIZER      0     729   \n",
       "3  Diary of Dreams  http://www.last.fm/music/Diary+of+Dreams      1     130   \n",
       "4  Diary of Dreams  http://www.last.fm/music/Diary+of+Dreams      1     240   \n",
       "5  Diary of Dreams  http://www.last.fm/music/Diary+of+Dreams      1     303   \n",
       "\n",
       "   artistID  played  playedUserNorm  playCountScaled  \n",
       "0         0     212           0.056            0.001  \n",
       "1         0     483           0.065            0.001  \n",
       "2         0      76           0.025            0.000  \n",
       "3         1    1021           0.151            0.003  \n",
       "4         1     152           0.154            0.000  \n",
       "5         1    3466           1.000            0.010  "
      ]
     },
     "execution_count": 127,
     "metadata": {},
     "output_type": "execute_result"
    }
   ],
   "source": [
    "played.head(6)"
   ]
  },
  {
   "cell_type": "code",
   "execution_count": 128,
   "id": "dc3da8cc",
   "metadata": {},
   "outputs": [],
   "source": [
    "#played[played[\"played\"] > 2000][\"played\"] = 2000"
   ]
  },
  {
   "cell_type": "code",
   "execution_count": 129,
   "id": "dbdf5043",
   "metadata": {},
   "outputs": [],
   "source": [
    "#indexes = played[played[\"played\"] > 2000].index"
   ]
  },
  {
   "cell_type": "code",
   "execution_count": 130,
   "id": "11452458",
   "metadata": {},
   "outputs": [],
   "source": [
    "#played.iloc[indexes,5] = 2000"
   ]
  },
  {
   "cell_type": "code",
   "execution_count": 131,
   "id": "02bd2761",
   "metadata": {},
   "outputs": [],
   "source": [
    "#played.head()"
   ]
  },
  {
   "cell_type": "markdown",
   "id": "f4f401b2",
   "metadata": {},
   "source": [
    "# Inspect Embeddings"
   ]
  },
  {
   "cell_type": "code",
   "execution_count": 132,
   "id": "f76c4102",
   "metadata": {},
   "outputs": [],
   "source": [
    "DOT = 'dot'\n",
    "COSINE = 'cosine'\n",
    "def compute_scores(query_embedding, item_embeddings, measure=DOT):\n",
    "  u = query_embedding\n",
    "  V = item_embeddings\n",
    "  if measure == COSINE:\n",
    "    V = V / np.linalg.norm(V, axis=1, keepdims=True)\n",
    "    u = u / np.linalg.norm(u)\n",
    "  scores = u.dot(V.T)\n",
    "  return scores"
   ]
  },
  {
   "cell_type": "code",
   "execution_count": 133,
   "id": "81197eda",
   "metadata": {},
   "outputs": [],
   "source": [
    "def artist_neighbors(model, title_substring, measure=DOT, k=6):\n",
    "  ids =  df[df['name'].str.contains(title_substring)].index.values\n",
    "  titles = df.iloc[ids]['name'].values\n",
    "  if len(titles) == 0:\n",
    "    raise ValueError(\"Found no artist with title %s\" % title_substring)\n",
    "  print(\"Nearest neighbors of : %s.\" % titles[0])\n",
    "  if len(titles) > 1:\n",
    "    print(\"[Found more than one matching artist. Other candidates: {}]\".format(\n",
    "        \", \".join(titles[1:])))\n",
    "  artistID = ids[0]\n",
    "  scores = compute_scores(\n",
    "      model.embeddings[\"artID\"][artistID], model.embeddings[\"artID\"],\n",
    "      measure)\n",
    "  score_key = measure + ' score'\n",
    "  df7 = pd.DataFrame({\n",
    "      score_key: list(scores),\n",
    "      'names': df['name'],\n",
    "  })\n",
    "  display.display(df7.sort_values([score_key], ascending=False).head(k))"
   ]
  },
  {
   "cell_type": "code",
   "execution_count": 134,
   "id": "f3ed6899",
   "metadata": {},
   "outputs": [
    {
     "name": "stdout",
     "output_type": "stream",
     "text": [
      "Nearest neighbors of : Lady Gaga.\n",
      "[Found more than one matching artist. Other candidates: Lady Gaga VS Christina Aguilera, BeyoncÃ© e Lady Gaga, Lady Gaga feat BeyoncÃ©]\n"
     ]
    },
    {
     "data": {
      "text/html": [
       "<div>\n",
       "<style scoped>\n",
       "    .dataframe tbody tr th:only-of-type {\n",
       "        vertical-align: middle;\n",
       "    }\n",
       "\n",
       "    .dataframe tbody tr th {\n",
       "        vertical-align: top;\n",
       "    }\n",
       "\n",
       "    .dataframe thead th {\n",
       "        text-align: right;\n",
       "    }\n",
       "</style>\n",
       "<table border=\"1\" class=\"dataframe\">\n",
       "  <thead>\n",
       "    <tr style=\"text-align: right;\">\n",
       "      <th></th>\n",
       "      <th>dot score</th>\n",
       "      <th>names</th>\n",
       "    </tr>\n",
       "  </thead>\n",
       "  <tbody>\n",
       "    <tr>\n",
       "      <th>10117</th>\n",
       "      <td>0.965</td>\n",
       "      <td>Mad Sin</td>\n",
       "    </tr>\n",
       "    <tr>\n",
       "      <th>14466</th>\n",
       "      <td>0.934</td>\n",
       "      <td>Sha</td>\n",
       "    </tr>\n",
       "    <tr>\n",
       "      <th>14755</th>\n",
       "      <td>0.906</td>\n",
       "      <td>Randy Orton</td>\n",
       "    </tr>\n",
       "    <tr>\n",
       "      <th>8974</th>\n",
       "      <td>0.891</td>\n",
       "      <td>Haemorrhage</td>\n",
       "    </tr>\n",
       "    <tr>\n",
       "      <th>6063</th>\n",
       "      <td>0.887</td>\n",
       "      <td>The Beta Band</td>\n",
       "    </tr>\n",
       "    <tr>\n",
       "      <th>10065</th>\n",
       "      <td>0.883</td>\n",
       "      <td>Brian Bennett</td>\n",
       "    </tr>\n",
       "  </tbody>\n",
       "</table>\n",
       "</div>"
      ],
      "text/plain": [
       "       dot score          names\n",
       "10117      0.965        Mad Sin\n",
       "14466      0.934            Sha\n",
       "14755      0.906    Randy Orton\n",
       "8974       0.891    Haemorrhage\n",
       "6063       0.887  The Beta Band\n",
       "10065      0.883  Brian Bennett"
      ]
     },
     "metadata": {},
     "output_type": "display_data"
    },
    {
     "name": "stdout",
     "output_type": "stream",
     "text": [
      "Nearest neighbors of : Lady Gaga.\n",
      "[Found more than one matching artist. Other candidates: Lady Gaga VS Christina Aguilera, BeyoncÃ© e Lady Gaga, Lady Gaga feat BeyoncÃ©]\n"
     ]
    },
    {
     "data": {
      "text/html": [
       "<div>\n",
       "<style scoped>\n",
       "    .dataframe tbody tr th:only-of-type {\n",
       "        vertical-align: middle;\n",
       "    }\n",
       "\n",
       "    .dataframe tbody tr th {\n",
       "        vertical-align: top;\n",
       "    }\n",
       "\n",
       "    .dataframe thead th {\n",
       "        text-align: right;\n",
       "    }\n",
       "</style>\n",
       "<table border=\"1\" class=\"dataframe\">\n",
       "  <thead>\n",
       "    <tr style=\"text-align: right;\">\n",
       "      <th></th>\n",
       "      <th>cosine score</th>\n",
       "      <th>names</th>\n",
       "    </tr>\n",
       "  </thead>\n",
       "  <tbody>\n",
       "    <tr>\n",
       "      <th>83</th>\n",
       "      <td>1.000</td>\n",
       "      <td>Lady Gaga</td>\n",
       "    </tr>\n",
       "    <tr>\n",
       "      <th>294</th>\n",
       "      <td>0.764</td>\n",
       "      <td>Katy Perry</td>\n",
       "    </tr>\n",
       "    <tr>\n",
       "      <th>282</th>\n",
       "      <td>0.709</td>\n",
       "      <td>Rihanna</td>\n",
       "    </tr>\n",
       "    <tr>\n",
       "      <th>296</th>\n",
       "      <td>0.686</td>\n",
       "      <td>P!nk</td>\n",
       "    </tr>\n",
       "    <tr>\n",
       "      <th>283</th>\n",
       "      <td>0.682</td>\n",
       "      <td>Britney Spears</td>\n",
       "    </tr>\n",
       "    <tr>\n",
       "      <th>460</th>\n",
       "      <td>0.669</td>\n",
       "      <td>Ke$ha</td>\n",
       "    </tr>\n",
       "  </tbody>\n",
       "</table>\n",
       "</div>"
      ],
      "text/plain": [
       "     cosine score           names\n",
       "83          1.000       Lady Gaga\n",
       "294         0.764      Katy Perry\n",
       "282         0.709         Rihanna\n",
       "296         0.686            P!nk\n",
       "283         0.682  Britney Spears\n",
       "460         0.669           Ke$ha"
      ]
     },
     "metadata": {},
     "output_type": "display_data"
    }
   ],
   "source": [
    "artist_neighbors(model, \"Lady Gaga\", DOT)\n",
    "artist_neighbors(model, \"Lady Gaga\", COSINE)"
   ]
  },
  {
   "cell_type": "markdown",
   "id": "ede9a6e7",
   "metadata": {},
   "source": [
    "# Regularized Matrix"
   ]
  },
  {
   "cell_type": "code",
   "execution_count": 135,
   "id": "db021444",
   "metadata": {},
   "outputs": [],
   "source": [
    "def gravity(U, V):\n",
    "  return 1. / (U.shape[0].value * V.shape[0].value) * tf.reduce_sum(\n",
    "      tf.matmul(U, U, transpose_a = True) * tf.matmul(V, V, transpose_a = True))\n",
    "\n",
    "def build_regularized_model(data, embedding_dim = 3, regularization_coeff = .1, gravity_coeff = 1., init_stddev = 0.1):\n",
    "  # Split the ratings DataFrame into train and test.\n",
    "  train_ratings, test_ratings = split_dataframe(xyz)\n",
    "  # SparseTensor representation of the train and test datasets.\n",
    "  A_train = build_rating_sparse_tensor(train_ratings)\n",
    "  A_test = build_rating_sparse_tensor(test_ratings)\n",
    "  U = tf.Variable(tf.random_normal(\n",
    "      [A_train.dense_shape[0], embedding_dim], stddev = init_stddev))\n",
    "  V = tf.Variable(tf.random_normal(\n",
    "      [A_train.dense_shape[1], embedding_dim], stddev = init_stddev))\n",
    "\n",
    "  error_train = sparse_mean_square_error(A_train, U, V)\n",
    "  error_test = sparse_mean_square_error(A_test, U, V)\n",
    "  gravity_loss = gravity_coeff * gravity(U, V)\n",
    "  regularization_loss = regularization_coeff * (\n",
    "      tf.reduce_sum(U * U) / U.shape[0].value + tf.reduce_sum(V * V) / V.shape[0].value)\n",
    "  total_loss = error_train + regularization_loss + gravity_loss\n",
    "  losses = {\n",
    "      'train_error_observed': error_train,\n",
    "      'test_error_observed': error_test,\n",
    "  }\n",
    "  loss_components = {\n",
    "      'observed_loss': error_train,\n",
    "      'regularization_loss': regularization_loss,\n",
    "      'gravity_loss': gravity_loss,\n",
    "  }\n",
    "  embeddings = {\"userID\": U, \"artID\": V}\n",
    "\n",
    "  return CFModel(embeddings, total_loss, [losses, loss_components]), U, V"
   ]
  },
  {
   "cell_type": "code",
   "execution_count": 136,
   "id": "cc8faec3",
   "metadata": {},
   "outputs": [
    {
     "name": "stdout",
     "output_type": "stream",
     "text": [
      " iteration 2000: train_error_observed=0.032623, test_error_observed=0.050443, observed_loss=0.032623, regularization_loss=0.016983, gravity_loss=0.000805"
     ]
    },
    {
     "data": {
      "text/plain": [
       "[{'train_error_observed': 0.03262261, 'test_error_observed': 0.050443094},\n",
       " {'observed_loss': 0.03262261,\n",
       "  'regularization_loss': 0.01698325,\n",
       "  'gravity_loss': 0.0008048651}]"
      ]
     },
     "execution_count": 136,
     "metadata": {},
     "output_type": "execute_result"
    },
    {
     "data": {
      "image/png": "[encoded data removed]",
      "text/plain": [
       "<Figure size 2160x576 with 2 Axes>"
      ]
     },
     "metadata": {
      "needs_background": "light"
     },
     "output_type": "display_data"
    }
   ],
   "source": [
    "reg_model, u, v  = build_regularized_model(xyz, regularization_coeff=0.1, gravity_coeff=1.0, embedding_dim=35, init_stddev=.05)\n",
    "reg_model.train(num_iterations=2000, learning_rate=20.)"
   ]
  },
  {
   "cell_type": "code",
   "execution_count": 137,
   "id": "b8f0a232",
   "metadata": {},
   "outputs": [
    {
     "name": "stdout",
     "output_type": "stream",
     "text": [
      "Nearest neighbors of : Lady Gaga.\n",
      "[Found more than one matching artist. Other candidates: Lady Gaga VS Christina Aguilera, BeyoncÃ© e Lady Gaga, Lady Gaga feat BeyoncÃ©]\n"
     ]
    },
    {
     "data": {
      "text/html": [
       "<div>\n",
       "<style scoped>\n",
       "    .dataframe tbody tr th:only-of-type {\n",
       "        vertical-align: middle;\n",
       "    }\n",
       "\n",
       "    .dataframe tbody tr th {\n",
       "        vertical-align: top;\n",
       "    }\n",
       "\n",
       "    .dataframe thead th {\n",
       "        text-align: right;\n",
       "    }\n",
       "</style>\n",
       "<table border=\"1\" class=\"dataframe\">\n",
       "  <thead>\n",
       "    <tr style=\"text-align: right;\">\n",
       "      <th></th>\n",
       "      <th>dot score</th>\n",
       "      <th>names</th>\n",
       "    </tr>\n",
       "  </thead>\n",
       "  <tbody>\n",
       "    <tr>\n",
       "      <th>83</th>\n",
       "      <td>11.176</td>\n",
       "      <td>Lady Gaga</td>\n",
       "    </tr>\n",
       "    <tr>\n",
       "      <th>282</th>\n",
       "      <td>3.268</td>\n",
       "      <td>Rihanna</td>\n",
       "    </tr>\n",
       "    <tr>\n",
       "      <th>283</th>\n",
       "      <td>2.478</td>\n",
       "      <td>Britney Spears</td>\n",
       "    </tr>\n",
       "    <tr>\n",
       "      <th>673</th>\n",
       "      <td>2.448</td>\n",
       "      <td>Glee Cast</td>\n",
       "    </tr>\n",
       "    <tr>\n",
       "      <th>460</th>\n",
       "      <td>2.442</td>\n",
       "      <td>Ke$ha</td>\n",
       "    </tr>\n",
       "    <tr>\n",
       "      <th>289</th>\n",
       "      <td>2.385</td>\n",
       "      <td>BeyoncÃ©</td>\n",
       "    </tr>\n",
       "  </tbody>\n",
       "</table>\n",
       "</div>"
      ],
      "text/plain": [
       "     dot score           names\n",
       "83      11.176       Lady Gaga\n",
       "282      3.268         Rihanna\n",
       "283      2.478  Britney Spears\n",
       "673      2.448       Glee Cast\n",
       "460      2.442           Ke$ha\n",
       "289      2.385        BeyoncÃ©"
      ]
     },
     "metadata": {},
     "output_type": "display_data"
    },
    {
     "name": "stdout",
     "output_type": "stream",
     "text": [
      "Nearest neighbors of : Lady Gaga.\n",
      "[Found more than one matching artist. Other candidates: Lady Gaga VS Christina Aguilera, BeyoncÃ© e Lady Gaga, Lady Gaga feat BeyoncÃ©]\n"
     ]
    },
    {
     "data": {
      "text/html": [
       "<div>\n",
       "<style scoped>\n",
       "    .dataframe tbody tr th:only-of-type {\n",
       "        vertical-align: middle;\n",
       "    }\n",
       "\n",
       "    .dataframe tbody tr th {\n",
       "        vertical-align: top;\n",
       "    }\n",
       "\n",
       "    .dataframe thead th {\n",
       "        text-align: right;\n",
       "    }\n",
       "</style>\n",
       "<table border=\"1\" class=\"dataframe\">\n",
       "  <thead>\n",
       "    <tr style=\"text-align: right;\">\n",
       "      <th></th>\n",
       "      <th>cosine score</th>\n",
       "      <th>names</th>\n",
       "    </tr>\n",
       "  </thead>\n",
       "  <tbody>\n",
       "    <tr>\n",
       "      <th>83</th>\n",
       "      <td>1.000</td>\n",
       "      <td>Lady Gaga</td>\n",
       "    </tr>\n",
       "    <tr>\n",
       "      <th>1754</th>\n",
       "      <td>0.722</td>\n",
       "      <td>Maria Rita</td>\n",
       "    </tr>\n",
       "    <tr>\n",
       "      <th>537</th>\n",
       "      <td>0.664</td>\n",
       "      <td>Nicole Scherzinger</td>\n",
       "    </tr>\n",
       "    <tr>\n",
       "      <th>460</th>\n",
       "      <td>0.655</td>\n",
       "      <td>Ke$ha</td>\n",
       "    </tr>\n",
       "    <tr>\n",
       "      <th>4704</th>\n",
       "      <td>0.649</td>\n",
       "      <td>Natalia Kills</td>\n",
       "    </tr>\n",
       "    <tr>\n",
       "      <th>317</th>\n",
       "      <td>0.644</td>\n",
       "      <td>The Saturdays</td>\n",
       "    </tr>\n",
       "  </tbody>\n",
       "</table>\n",
       "</div>"
      ],
      "text/plain": [
       "      cosine score               names\n",
       "83           1.000           Lady Gaga\n",
       "1754         0.722          Maria Rita\n",
       "537          0.664  Nicole Scherzinger\n",
       "460          0.655               Ke$ha\n",
       "4704         0.649       Natalia Kills\n",
       "317          0.644       The Saturdays"
      ]
     },
     "metadata": {},
     "output_type": "display_data"
    }
   ],
   "source": [
    "artist_neighbors(reg_model, \"Lady Gaga\", DOT)\n",
    "artist_neighbors(reg_model, \"Lady Gaga\", COSINE)"
   ]
  },
  {
   "cell_type": "markdown",
   "id": "9ee8f585",
   "metadata": {},
   "source": [
    "These are actually very good recommendations produced by our recommender system based off each users unique normalised values based on the highest listened value they obtained. "
   ]
  },
  {
   "cell_type": "markdown",
   "id": "4fe4e306",
   "metadata": {},
   "source": [
    "# Alternate method"
   ]
  },
  {
   "cell_type": "code",
   "execution_count": 139,
   "id": "75b0114b",
   "metadata": {},
   "outputs": [
    {
     "data": {
      "text/plain": [
       "(92834, 8)"
      ]
     },
     "execution_count": 139,
     "metadata": {},
     "output_type": "execute_result"
    }
   ],
   "source": [
    "played.shape"
   ]
  },
  {
   "cell_type": "code",
   "execution_count": 140,
   "id": "2b87f059",
   "metadata": {},
   "outputs": [
    {
     "data": {
      "text/plain": [
       "name                object\n",
       "url                 object\n",
       "artID                int64\n",
       "userID               int64\n",
       "artistID             int64\n",
       "played               int64\n",
       "playedUserNorm     float64\n",
       "playCountScaled    float64\n",
       "dtype: object"
      ]
     },
     "execution_count": 140,
     "metadata": {},
     "output_type": "execute_result"
    }
   ],
   "source": [
    "played.dtypes"
   ]
  },
  {
   "cell_type": "code",
   "execution_count": 142,
   "id": "48ff59c9",
   "metadata": {},
   "outputs": [],
   "source": [
    "sub = played[['userID', 'artID', 'playedUserNorm']]"
   ]
  },
  {
   "cell_type": "code",
   "execution_count": 143,
   "id": "5ec8c7f0",
   "metadata": {},
   "outputs": [
    {
     "data": {
      "text/html": [
       "<div>\n",
       "<style scoped>\n",
       "    .dataframe tbody tr th:only-of-type {\n",
       "        vertical-align: middle;\n",
       "    }\n",
       "\n",
       "    .dataframe tbody tr th {\n",
       "        vertical-align: top;\n",
       "    }\n",
       "\n",
       "    .dataframe thead th {\n",
       "        text-align: right;\n",
       "    }\n",
       "</style>\n",
       "<table border=\"1\" class=\"dataframe\">\n",
       "  <thead>\n",
       "    <tr style=\"text-align: right;\">\n",
       "      <th></th>\n",
       "      <th>userID</th>\n",
       "      <th>artID</th>\n",
       "      <th>playedUserNorm</th>\n",
       "    </tr>\n",
       "  </thead>\n",
       "  <tbody>\n",
       "    <tr>\n",
       "      <th>0</th>\n",
       "      <td>31</td>\n",
       "      <td>0</td>\n",
       "      <td>0.056</td>\n",
       "    </tr>\n",
       "    <tr>\n",
       "      <th>1</th>\n",
       "      <td>256</td>\n",
       "      <td>0</td>\n",
       "      <td>0.065</td>\n",
       "    </tr>\n",
       "    <tr>\n",
       "      <th>2</th>\n",
       "      <td>729</td>\n",
       "      <td>0</td>\n",
       "      <td>0.025</td>\n",
       "    </tr>\n",
       "    <tr>\n",
       "      <th>3</th>\n",
       "      <td>130</td>\n",
       "      <td>1</td>\n",
       "      <td>0.151</td>\n",
       "    </tr>\n",
       "    <tr>\n",
       "      <th>4</th>\n",
       "      <td>240</td>\n",
       "      <td>1</td>\n",
       "      <td>0.154</td>\n",
       "    </tr>\n",
       "    <tr>\n",
       "      <th>...</th>\n",
       "      <td>...</td>\n",
       "      <td>...</td>\n",
       "      <td>...</td>\n",
       "    </tr>\n",
       "    <tr>\n",
       "      <th>92829</th>\n",
       "      <td>423</td>\n",
       "      <td>17627</td>\n",
       "      <td>0.041</td>\n",
       "    </tr>\n",
       "    <tr>\n",
       "      <th>92830</th>\n",
       "      <td>423</td>\n",
       "      <td>17628</td>\n",
       "      <td>0.040</td>\n",
       "    </tr>\n",
       "    <tr>\n",
       "      <th>92831</th>\n",
       "      <td>423</td>\n",
       "      <td>17629</td>\n",
       "      <td>0.039</td>\n",
       "    </tr>\n",
       "    <tr>\n",
       "      <th>92832</th>\n",
       "      <td>423</td>\n",
       "      <td>17630</td>\n",
       "      <td>0.039</td>\n",
       "    </tr>\n",
       "    <tr>\n",
       "      <th>92833</th>\n",
       "      <td>547</td>\n",
       "      <td>17631</td>\n",
       "      <td>0.039</td>\n",
       "    </tr>\n",
       "  </tbody>\n",
       "</table>\n",
       "<p>92834 rows × 3 columns</p>\n",
       "</div>"
      ],
      "text/plain": [
       "       userID  artID  playedUserNorm\n",
       "0          31      0           0.056\n",
       "1         256      0           0.065\n",
       "2         729      0           0.025\n",
       "3         130      1           0.151\n",
       "4         240      1           0.154\n",
       "...       ...    ...             ...\n",
       "92829     423  17627           0.041\n",
       "92830     423  17628           0.040\n",
       "92831     423  17629           0.039\n",
       "92832     423  17630           0.039\n",
       "92833     547  17631           0.039\n",
       "\n",
       "[92834 rows x 3 columns]"
      ]
     },
     "execution_count": 143,
     "metadata": {},
     "output_type": "execute_result"
    }
   ],
   "source": [
    "sub.head()"
   ]
  },
  {
   "cell_type": "code",
   "execution_count": 145,
   "id": "d918f570",
   "metadata": {},
   "outputs": [],
   "source": [
    "train, test = train_test_split(sub, test_size=0.7)"
   ]
  },
  {
   "cell_type": "code",
   "execution_count": 146,
   "id": "27c4e8b4",
   "metadata": {},
   "outputs": [
    {
     "data": {
      "text/html": [
       "<div>\n",
       "<style scoped>\n",
       "    .dataframe tbody tr th:only-of-type {\n",
       "        vertical-align: middle;\n",
       "    }\n",
       "\n",
       "    .dataframe tbody tr th {\n",
       "        vertical-align: top;\n",
       "    }\n",
       "\n",
       "    .dataframe thead th {\n",
       "        text-align: right;\n",
       "    }\n",
       "</style>\n",
       "<table border=\"1\" class=\"dataframe\">\n",
       "  <thead>\n",
       "    <tr style=\"text-align: right;\">\n",
       "      <th></th>\n",
       "      <th>userID</th>\n",
       "      <th>artID</th>\n",
       "      <th>playedUserNorm</th>\n",
       "    </tr>\n",
       "  </thead>\n",
       "  <tbody>\n",
       "    <tr>\n",
       "      <th>6346</th>\n",
       "      <td>821</td>\n",
       "      <td>169</td>\n",
       "      <td>0.044</td>\n",
       "    </tr>\n",
       "    <tr>\n",
       "      <th>2097</th>\n",
       "      <td>533</td>\n",
       "      <td>61</td>\n",
       "      <td>0.143</td>\n",
       "    </tr>\n",
       "    <tr>\n",
       "      <th>19668</th>\n",
       "      <td>35</td>\n",
       "      <td>338</td>\n",
       "      <td>0.041</td>\n",
       "    </tr>\n",
       "    <tr>\n",
       "      <th>38790</th>\n",
       "      <td>321</td>\n",
       "      <td>908</td>\n",
       "      <td>1.000</td>\n",
       "    </tr>\n",
       "    <tr>\n",
       "      <th>32385</th>\n",
       "      <td>845</td>\n",
       "      <td>680</td>\n",
       "      <td>0.188</td>\n",
       "    </tr>\n",
       "  </tbody>\n",
       "</table>\n",
       "</div>"
      ],
      "text/plain": [
       "       userID  artID  playedUserNorm\n",
       "6346      821    169           0.044\n",
       "2097      533     61           0.143\n",
       "19668      35    338           0.041\n",
       "38790     321    908           1.000\n",
       "32385     845    680           0.188"
      ]
     },
     "execution_count": 146,
     "metadata": {},
     "output_type": "execute_result"
    }
   ],
   "source": [
    "train.head()"
   ]
  },
  {
   "cell_type": "code",
   "execution_count": 147,
   "id": "3c78275b",
   "metadata": {},
   "outputs": [
    {
     "data": {
      "text/html": [
       "<div>\n",
       "<style scoped>\n",
       "    .dataframe tbody tr th:only-of-type {\n",
       "        vertical-align: middle;\n",
       "    }\n",
       "\n",
       "    .dataframe tbody tr th {\n",
       "        vertical-align: top;\n",
       "    }\n",
       "\n",
       "    .dataframe thead th {\n",
       "        text-align: right;\n",
       "    }\n",
       "</style>\n",
       "<table border=\"1\" class=\"dataframe\">\n",
       "  <thead>\n",
       "    <tr style=\"text-align: right;\">\n",
       "      <th></th>\n",
       "      <th>userID</th>\n",
       "      <th>artID</th>\n",
       "      <th>playedUserNorm</th>\n",
       "    </tr>\n",
       "  </thead>\n",
       "  <tbody>\n",
       "    <tr>\n",
       "      <th>30972</th>\n",
       "      <td>347</td>\n",
       "      <td>609</td>\n",
       "      <td>0.216</td>\n",
       "    </tr>\n",
       "    <tr>\n",
       "      <th>37619</th>\n",
       "      <td>777</td>\n",
       "      <td>859</td>\n",
       "      <td>0.251</td>\n",
       "    </tr>\n",
       "    <tr>\n",
       "      <th>65185</th>\n",
       "      <td>868</td>\n",
       "      <td>3360</td>\n",
       "      <td>0.333</td>\n",
       "    </tr>\n",
       "    <tr>\n",
       "      <th>6860</th>\n",
       "      <td>1759</td>\n",
       "      <td>181</td>\n",
       "      <td>0.107</td>\n",
       "    </tr>\n",
       "    <tr>\n",
       "      <th>27718</th>\n",
       "      <td>10</td>\n",
       "      <td>514</td>\n",
       "      <td>0.016</td>\n",
       "    </tr>\n",
       "  </tbody>\n",
       "</table>\n",
       "</div>"
      ],
      "text/plain": [
       "       userID  artID  playedUserNorm\n",
       "30972     347    609           0.216\n",
       "37619     777    859           0.251\n",
       "65185     868   3360           0.333\n",
       "6860     1759    181           0.107\n",
       "27718      10    514           0.016"
      ]
     },
     "execution_count": 147,
     "metadata": {},
     "output_type": "execute_result"
    }
   ],
   "source": [
    "test.head()"
   ]
  },
  {
   "cell_type": "code",
   "execution_count": 148,
   "id": "fa392270",
   "metadata": {},
   "outputs": [
    {
     "data": {
      "text/plain": [
       "1892"
      ]
     },
     "execution_count": 148,
     "metadata": {},
     "output_type": "execute_result"
    }
   ],
   "source": [
    "n_users = len(sub.userID.unique())\n",
    "n_users"
   ]
  },
  {
   "cell_type": "code",
   "execution_count": 149,
   "id": "0325210f",
   "metadata": {},
   "outputs": [
    {
     "data": {
      "text/plain": [
       "17632"
      ]
     },
     "execution_count": 149,
     "metadata": {},
     "output_type": "execute_result"
    }
   ],
   "source": [
    "n_artist = len(sub.artID.unique())\n",
    "n_artist"
   ]
  },
  {
   "cell_type": "code",
   "execution_count": 150,
   "id": "74ac60ab",
   "metadata": {},
   "outputs": [],
   "source": [
    "# creating artist embedding path\n",
    "artist_input = Input(shape=[1], name=\"Artist-Input\")\n",
    "artist_embedding = Embedding(n_artist + 1, 5, name=\"Artist-Embedding\")(artist_input)\n",
    "artist_vec = Flatten(name=\"Flatten-Artist\")(artist_embedding)\n",
    "\n",
    "# creating user embedding path\n",
    "user_input = Input(shape=[1], name=\"User-Input\")\n",
    "user_embedding = Embedding(n_users + 1, 5, name=\"User-Embedding\")(user_input)\n",
    "user_vec = Flatten(name=\"Flatten-Users\")(user_embedding)\n",
    "\n",
    "# performing dot product and creating model\n",
    "prod = Dot(name=\"Dot-Product\", axes=1)([artist_vec, user_vec])\n",
    "model = Model([user_input, artist_input], prod)\n",
    "model.compile('adam', 'mean_squared_error')"
   ]
  },
  {
   "cell_type": "code",
   "execution_count": 151,
   "id": "5442969c",
   "metadata": {},
   "outputs": [],
   "source": [
    "from keras.models import load_model\n",
    "\n",
    "if os.path.exists('regression_model.h5'):\n",
    "    model = load_model('regression_model.h5')\n",
    "else:\n",
    "    history = model.fit([train.userID, train.artID], train.playedUserNorm, epochs=5, verbose=1)\n",
    "    model.save('regression_model.h5')\n",
    "    plt.plot(history.history['loss'])\n",
    "    plt.xlabel(\"Epochs\")\n",
    "    plt.ylabel(\"Training Error\")"
   ]
  },
  {
   "cell_type": "code",
   "execution_count": 152,
   "id": "d55e6f86",
   "metadata": {},
   "outputs": [
    {
     "data": {
      "text/plain": [
       "11.666054178543401"
      ]
     },
     "execution_count": 152,
     "metadata": {},
     "output_type": "execute_result"
    }
   ],
   "source": [
    "model.evaluate([test.userID, test.artID], test.playedUserNorm)"
   ]
  },
  {
   "cell_type": "code",
   "execution_count": 153,
   "id": "e1e1b9e8",
   "metadata": {},
   "outputs": [
    {
     "name": "stdout",
     "output_type": "stream",
     "text": [
      "[4.173607] 0.2158792650918635\n",
      "[4.6073523] 0.2512254901960784\n",
      "[0.6478031] 0.3333333333333333\n",
      "[2.1924207] 0.10672358591248667\n",
      "[0.46936107] 0.01596448613786749\n",
      "[1.3001852] 0.038845331432644334\n",
      "[1.1848242] 0.016197208112812132\n",
      "[5.8000813] 0.03250222617987533\n",
      "[2.6986322] 0.1\n",
      "[1.636121] 0.06587523277467412\n"
     ]
    },
    {
     "data": {
      "text/plain": [
       "[None, None, None, None, None, None, None, None, None, None]"
      ]
     },
     "execution_count": 153,
     "metadata": {},
     "output_type": "execute_result"
    }
   ],
   "source": [
    "predictions = model.predict([test.userID.head(10), test.artID.head(10)])\n",
    "\n",
    "[print(predictions[i], test.playedUserNorm.iloc[i]) for i in range(0,10)]"
   ]
  },
  {
   "cell_type": "markdown",
   "id": "6486925c",
   "metadata": {},
   "source": [
    "# Neural Network"
   ]
  },
  {
   "cell_type": "code",
   "execution_count": 154,
   "id": "358de26b",
   "metadata": {},
   "outputs": [],
   "source": [
    "# creating book embedding path\n",
    "artist_input = Input(shape=[1], name=\"Artist-Input\")\n",
    "artist_embedding = Embedding(n_artist + 1, 5, name=\"Artist-Embedding\")(artist_input)\n",
    "artist_vec = Flatten(name=\"Flatten-Artists\")(artist_embedding)\n",
    "\n",
    "# creating user embedding path\n",
    "user_input = Input(shape=[1], name=\"User-Input\")\n",
    "user_embedding = Embedding(n_users + 1, 5, name=\"User-Embedding\")(user_input)\n",
    "user_vec = Flatten(name=\"Flatten-Users\")(user_embedding)\n",
    "\n",
    "# concatenate features\n",
    "conc = Concatenate()([artist_vec, user_vec])\n",
    "\n",
    "# add fully-connected-layers\n",
    "fc1 = Dense(128, activation='relu')(conc)\n",
    "fc2 = Dense(32, activation='relu')(fc1)\n",
    "out = Dense(1)(fc2)\n",
    "\n",
    "# Create model and compile it\n",
    "model2 = Model([user_input, artist_input], out)\n",
    "model2.compile('adam', 'mean_squared_error')"
   ]
  },
  {
   "cell_type": "code",
   "execution_count": 155,
   "id": "0ed0d497",
   "metadata": {},
   "outputs": [],
   "source": [
    "from keras.models import load_model\n",
    "\n",
    "if os.path.exists('regression_model2.h5'):\n",
    "    model2 = load_model('regression_model2.h5')\n",
    "else:\n",
    "    history = model2.fit([train.userID, train.artID], train.playedUserNorm, epochs=5, verbose=1)\n",
    "    model2.save('regression_model2.h5')\n",
    "    plt.plot(history.history['loss'])\n",
    "    plt.xlabel(\"Epochs\")\n",
    "    plt.ylabel(\"Training Error\")"
   ]
  },
  {
   "cell_type": "code",
   "execution_count": 156,
   "id": "65147267",
   "metadata": {},
   "outputs": [
    {
     "data": {
      "text/plain": [
       "1871792.4377923796"
      ]
     },
     "execution_count": 156,
     "metadata": {},
     "output_type": "execute_result"
    }
   ],
   "source": [
    "model2.evaluate([test.userID, test.artID], test.playedUserNorm)"
   ]
  },
  {
   "cell_type": "code",
   "execution_count": 157,
   "id": "41d82ff9",
   "metadata": {},
   "outputs": [
    {
     "name": "stdout",
     "output_type": "stream",
     "text": [
      "[247.21103] 0.2158792650918635\n",
      "[231.81247] 0.2512254901960784\n",
      "[422.76147] 0.3333333333333333\n",
      "[356.86636] 0.10672358591248667\n",
      "[4487.904] 0.01596448613786749\n",
      "[254.98761] 0.038845331432644334\n",
      "[309.5708] 0.016197208112812132\n",
      "[276.30463] 0.03250222617987533\n",
      "[2306.0793] 0.1\n",
      "[277.76935] 0.06587523277467412\n"
     ]
    },
    {
     "data": {
      "text/plain": [
       "[None, None, None, None, None, None, None, None, None, None]"
      ]
     },
     "execution_count": 157,
     "metadata": {},
     "output_type": "execute_result"
    }
   ],
   "source": [
    "predictions = model2.predict([test.userID.head(10), test.artID.head(10)])\n",
    "\n",
    "[print(predictions[i], test.playedUserNorm.iloc[i]) for i in range(0,10)]"
   ]
  },
  {
   "cell_type": "markdown",
   "id": "16b92489",
   "metadata": {},
   "source": [
    "# Visualizing Embeddings"
   ]
  },
  {
   "cell_type": "code",
   "execution_count": 158,
   "id": "1727d913",
   "metadata": {},
   "outputs": [],
   "source": [
    "# Extract embeddings\n",
    "artist_em = model.get_layer(\"Artist-Embedding\")\n",
    "artist_em_weights = artist_em.get_weights()[0]"
   ]
  },
  {
   "cell_type": "code",
   "execution_count": 159,
   "id": "cb016b45",
   "metadata": {},
   "outputs": [
    {
     "data": {
      "text/plain": [
       "array([[ 0.04103883, -0.2710777 ,  0.28193265,  0.01121594, -0.21962109],\n",
       "       [ 0.42227656, -0.44878516,  0.46648487, -0.12221594, -0.40105212],\n",
       "       [-0.18079431, -0.13342255,  0.1553544 , -0.3333101 , -0.00778394],\n",
       "       [ 0.150518  , -0.19249448,  0.1592992 ,  0.12258738, -0.12723902],\n",
       "       [ 0.2513393 , -0.21272472,  0.1814355 , -0.22018886, -0.13649407]],\n",
       "      dtype=float32)"
      ]
     },
     "execution_count": 159,
     "metadata": {},
     "output_type": "execute_result"
    }
   ],
   "source": [
    "artist_em_weights[:5]"
   ]
  },
  {
   "cell_type": "code",
   "execution_count": 160,
   "id": "4d52fb49",
   "metadata": {},
   "outputs": [
    {
     "data": {
      "text/plain": [
       "<AxesSubplot:>"
      ]
     },
     "execution_count": 160,
     "metadata": {},
     "output_type": "execute_result"
    },
    {
     "data": {
      "image/png": "[encoded data removed]",
      "text/plain": [
       "<Figure size 432x288 with 1 Axes>"
      ]
     },
     "metadata": {
      "needs_background": "light"
     },
     "output_type": "display_data"
    }
   ],
   "source": [
    "from sklearn.decomposition import PCA\n",
    "import seaborn as sns\n",
    "\n",
    "pca = PCA(n_components=2)\n",
    "pca_result = pca.fit_transform(artist_em_weights)\n",
    "sns.scatterplot(x=pca_result[:,0], y=pca_result[:,1])"
   ]
  },
  {
   "cell_type": "code",
   "execution_count": 161,
   "id": "8eddbb66",
   "metadata": {},
   "outputs": [
    {
     "data": {
      "text/plain": [
       "1.0"
      ]
     },
     "execution_count": 161,
     "metadata": {},
     "output_type": "execute_result"
    }
   ],
   "source": [
    "artist_em_weights = artist_em_weights / np.linalg.norm(artist_em_weights, axis = 1).reshape((-1, 1))\n",
    "artist_em_weights[0][:10]\n",
    "np.sum(np.square(artist_em_weights[0]))"
   ]
  },
  {
   "cell_type": "code",
   "execution_count": 162,
   "id": "129e3135",
   "metadata": {},
   "outputs": [
    {
     "data": {
      "text/plain": [
       "<AxesSubplot:>"
      ]
     },
     "execution_count": 162,
     "metadata": {},
     "output_type": "execute_result"
    },
    {
     "data": {
      "image/png": "[encoded data removed]",
      "text/plain": [
       "<Figure size 432x288 with 1 Axes>"
      ]
     },
     "metadata": {
      "needs_background": "light"
     },
     "output_type": "display_data"
    }
   ],
   "source": [
    "pca = PCA(n_components=2)\n",
    "pca_result = pca.fit_transform(artist_em_weights)\n",
    "sns.scatterplot(x=pca_result[:,0], y=pca_result[:,1])"
   ]
  },
  {
   "cell_type": "code",
   "execution_count": 163,
   "id": "f6e9d8c3",
   "metadata": {},
   "outputs": [
    {
     "name": "stderr",
     "output_type": "stream",
     "text": [
      "C:\\Users\\user\\anaconda3\\lib\\site-packages\\sklearn\\manifold\\_t_sne.py:780: FutureWarning: The default initialization in TSNE will change from 'random' to 'pca' in 1.2.\n",
      "  warnings.warn(\n",
      "C:\\Users\\user\\anaconda3\\lib\\site-packages\\sklearn\\manifold\\_t_sne.py:790: FutureWarning: The default learning rate in TSNE will change from 200.0 to 'auto' in 1.2.\n",
      "  warnings.warn(\n"
     ]
    },
    {
     "name": "stdout",
     "output_type": "stream",
     "text": [
      "[t-SNE] Computing 121 nearest neighbors...\n",
      "[t-SNE] Indexed 17633 samples in 0.037s...\n",
      "[t-SNE] Computed neighbors for 17633 samples in 1.293s...\n",
      "[t-SNE] Computed conditional probabilities for sample 1000 / 17633\n",
      "[t-SNE] Computed conditional probabilities for sample 2000 / 17633\n",
      "[t-SNE] Computed conditional probabilities for sample 3000 / 17633\n",
      "[t-SNE] Computed conditional probabilities for sample 4000 / 17633\n",
      "[t-SNE] Computed conditional probabilities for sample 5000 / 17633\n",
      "[t-SNE] Computed conditional probabilities for sample 6000 / 17633\n",
      "[t-SNE] Computed conditional probabilities for sample 7000 / 17633\n",
      "[t-SNE] Computed conditional probabilities for sample 8000 / 17633\n",
      "[t-SNE] Computed conditional probabilities for sample 9000 / 17633\n",
      "[t-SNE] Computed conditional probabilities for sample 10000 / 17633\n",
      "[t-SNE] Computed conditional probabilities for sample 11000 / 17633\n",
      "[t-SNE] Computed conditional probabilities for sample 12000 / 17633\n",
      "[t-SNE] Computed conditional probabilities for sample 13000 / 17633\n",
      "[t-SNE] Computed conditional probabilities for sample 14000 / 17633\n",
      "[t-SNE] Computed conditional probabilities for sample 15000 / 17633\n",
      "[t-SNE] Computed conditional probabilities for sample 16000 / 17633\n",
      "[t-SNE] Computed conditional probabilities for sample 17000 / 17633\n",
      "[t-SNE] Computed conditional probabilities for sample 17633 / 17633\n",
      "[t-SNE] Mean sigma: 0.059542\n",
      "[t-SNE] KL divergence after 250 iterations with early exaggeration: 85.188065\n",
      "[t-SNE] KL divergence after 300 iterations: 3.422904\n"
     ]
    }
   ],
   "source": [
    "from sklearn.manifold import TSNE\n",
    "\n",
    "tsne = TSNE(n_components=2, verbose=1, perplexity=40, n_iter=300)\n",
    "tnse_results = tsne.fit_transform(artist_em_weights)"
   ]
  },
  {
   "cell_type": "code",
   "execution_count": 164,
   "id": "863e3b9a",
   "metadata": {},
   "outputs": [
    {
     "data": {
      "text/plain": [
       "<AxesSubplot:>"
      ]
     },
     "execution_count": 164,
     "metadata": {},
     "output_type": "execute_result"
    },
    {
     "data": {
      "image/png": "[encoded data removed]",
      "text/plain": [
       "<Figure size 432x288 with 1 Axes>"
      ]
     },
     "metadata": {
      "needs_background": "light"
     },
     "output_type": "display_data"
    }
   ],
   "source": [
    "sns.scatterplot(x=tnse_results[:,0], y=tnse_results[:,1])"
   ]
  },
  {
   "cell_type": "markdown",
   "id": "319dc8f9",
   "metadata": {},
   "source": [
    "# Making Recommendations"
   ]
  },
  {
   "cell_type": "code",
   "execution_count": 165,
   "id": "f938eeb5",
   "metadata": {},
   "outputs": [
    {
     "data": {
      "text/plain": [
       "array([    0,     1,     2, ..., 17629, 17630, 17631])"
      ]
     },
     "execution_count": 165,
     "metadata": {},
     "output_type": "execute_result"
    }
   ],
   "source": [
    "# Creating dataset for making recommendations for the first user\n",
    "artist_data = np.array(list(set(sub.artID)))\n",
    "artist_data"
   ]
  },
  {
   "cell_type": "code",
   "execution_count": 166,
   "id": "2c42c40e",
   "metadata": {},
   "outputs": [
    {
     "data": {
      "text/plain": [
       "array([83, 83, 83, ..., 83, 83, 83])"
      ]
     },
     "execution_count": 166,
     "metadata": {},
     "output_type": "execute_result"
    }
   ],
   "source": [
    "user = np.array([83 for i in range(len(artist_data))])\n",
    "user"
   ]
  },
  {
   "cell_type": "code",
   "execution_count": 167,
   "id": "8d3f4773",
   "metadata": {},
   "outputs": [
    {
     "data": {
      "text/plain": [
       "array([8131, 8135, 8324, 2754, 8139], dtype=int64)"
      ]
     },
     "execution_count": 167,
     "metadata": {},
     "output_type": "execute_result"
    }
   ],
   "source": [
    "predictions = model.predict([user, artist_data])\n",
    "\n",
    "predictions = np.array([a[0] for a in predictions])\n",
    "\n",
    "recommended_artist_ids = (predictions).argsort()[:5]\n",
    "\n",
    "recommended_artist_ids"
   ]
  },
  {
   "cell_type": "code",
   "execution_count": 168,
   "id": "0cbdee13",
   "metadata": {},
   "outputs": [
    {
     "data": {
      "text/plain": [
       "array([-1.1105492 , -1.0870131 , -1.0431927 , -0.9887378 , -0.98679465],\n",
       "      dtype=float32)"
      ]
     },
     "execution_count": 168,
     "metadata": {},
     "output_type": "execute_result"
    }
   ],
   "source": [
    "predictions[recommended_artist_ids]"
   ]
  },
  {
   "cell_type": "code",
   "execution_count": 169,
   "id": "280831a1",
   "metadata": {},
   "outputs": [
    {
     "data": {
      "text/html": [
       "<div>\n",
       "<style scoped>\n",
       "    .dataframe tbody tr th:only-of-type {\n",
       "        vertical-align: middle;\n",
       "    }\n",
       "\n",
       "    .dataframe tbody tr th {\n",
       "        vertical-align: top;\n",
       "    }\n",
       "\n",
       "    .dataframe thead th {\n",
       "        text-align: right;\n",
       "    }\n",
       "</style>\n",
       "<table border=\"1\" class=\"dataframe\">\n",
       "  <thead>\n",
       "    <tr style=\"text-align: right;\">\n",
       "      <th></th>\n",
       "      <th>name</th>\n",
       "      <th>url</th>\n",
       "      <th>pictureURL</th>\n",
       "      <th>artID</th>\n",
       "    </tr>\n",
       "  </thead>\n",
       "  <tbody>\n",
       "    <tr>\n",
       "      <th>2754</th>\n",
       "      <td>Dark Funeral</td>\n",
       "      <td>http://www.last.fm/music/Dark+Funeral</td>\n",
       "      <td>http://userserve-ak.last.fm/serve/252/13074411...</td>\n",
       "      <td>2754</td>\n",
       "    </tr>\n",
       "    <tr>\n",
       "      <th>8131</th>\n",
       "      <td>Nahash</td>\n",
       "      <td>http://www.last.fm/music/Nahash</td>\n",
       "      <td>http://userserve-ak.last.fm/serve/252/93322.jpg</td>\n",
       "      <td>8131</td>\n",
       "    </tr>\n",
       "    <tr>\n",
       "      <th>8135</th>\n",
       "      <td>Krabaras</td>\n",
       "      <td>http://www.last.fm/music/Krabaras</td>\n",
       "      <td>http://userserve-ak.last.fm/serve/252/44372179...</td>\n",
       "      <td>8135</td>\n",
       "    </tr>\n",
       "    <tr>\n",
       "      <th>8139</th>\n",
       "      <td>Luctus</td>\n",
       "      <td>http://www.last.fm/music/Luctus</td>\n",
       "      <td>http://userserve-ak.last.fm/serve/252/8688989.jpg</td>\n",
       "      <td>8139</td>\n",
       "    </tr>\n",
       "    <tr>\n",
       "      <th>8324</th>\n",
       "      <td>Dissimulation</td>\n",
       "      <td>http://www.last.fm/music/Dissimulation</td>\n",
       "      <td>http://userserve-ak.last.fm/serve/252/16340589...</td>\n",
       "      <td>8324</td>\n",
       "    </tr>\n",
       "  </tbody>\n",
       "</table>\n",
       "</div>"
      ],
      "text/plain": [
       "               name                                     url  \\\n",
       "2754   Dark Funeral   http://www.last.fm/music/Dark+Funeral   \n",
       "8131         Nahash         http://www.last.fm/music/Nahash   \n",
       "8135       Krabaras       http://www.last.fm/music/Krabaras   \n",
       "8139         Luctus         http://www.last.fm/music/Luctus   \n",
       "8324  Dissimulation  http://www.last.fm/music/Dissimulation   \n",
       "\n",
       "                                             pictureURL  artID  \n",
       "2754  http://userserve-ak.last.fm/serve/252/13074411...   2754  \n",
       "8131    http://userserve-ak.last.fm/serve/252/93322.jpg   8131  \n",
       "8135  http://userserve-ak.last.fm/serve/252/44372179...   8135  \n",
       "8139  http://userserve-ak.last.fm/serve/252/8688989.jpg   8139  \n",
       "8324  http://userserve-ak.last.fm/serve/252/16340589...   8324  "
      ]
     },
     "execution_count": 169,
     "metadata": {},
     "output_type": "execute_result"
    }
   ],
   "source": [
    "df[df['artID'].isin(recommended_artist_ids)]"
   ]
  },
  {
   "cell_type": "markdown",
   "id": "f515cfc6",
   "metadata": {},
   "source": [
    "Let's check does our recommender produce novel results. In our recommender system as mentioned earlier it can be hard to gauge good recommenders in a formal manner (not a subjective manner such as a user rating the recommendations) as there is no ratings just listening figures. Users would eventually tire of being suggested the same artists so checking our recommender to see if it produces novel results is a good barometer of it's quality to start."
   ]
  },
  {
   "cell_type": "code",
   "execution_count": 217,
   "id": "5eef1d9b",
   "metadata": {},
   "outputs": [],
   "source": [
    "test = played[played['userID'] == 83]"
   ]
  },
  {
   "cell_type": "code",
   "execution_count": 219,
   "id": "5330164e",
   "metadata": {},
   "outputs": [
    {
     "data": {
      "text/html": [
       "<div>\n",
       "<style scoped>\n",
       "    .dataframe tbody tr th:only-of-type {\n",
       "        vertical-align: middle;\n",
       "    }\n",
       "\n",
       "    .dataframe tbody tr th {\n",
       "        vertical-align: top;\n",
       "    }\n",
       "\n",
       "    .dataframe thead th {\n",
       "        text-align: right;\n",
       "    }\n",
       "</style>\n",
       "<table border=\"1\" class=\"dataframe\">\n",
       "  <thead>\n",
       "    <tr style=\"text-align: right;\">\n",
       "      <th></th>\n",
       "      <th>name</th>\n",
       "      <th>url</th>\n",
       "      <th>artID</th>\n",
       "      <th>userID</th>\n",
       "      <th>artistID</th>\n",
       "      <th>played</th>\n",
       "      <th>playedUserNorm</th>\n",
       "      <th>playCountScaled</th>\n",
       "    </tr>\n",
       "  </thead>\n",
       "  <tbody>\n",
       "  </tbody>\n",
       "</table>\n",
       "</div>"
      ],
      "text/plain": [
       "Empty DataFrame\n",
       "Columns: [name, url, artID, userID, artistID, played, playedUserNorm, playCountScaled]\n",
       "Index: []"
      ]
     },
     "execution_count": 219,
     "metadata": {},
     "output_type": "execute_result"
    }
   ],
   "source": [
    "test[test['artID'].isin(recommended_artist_ids)]"
   ]
  },
  {
   "cell_type": "markdown",
   "id": "bfabe359",
   "metadata": {},
   "source": [
    "Our recommender has produced completely novel results here for the user. This is a good starting point for our recommender. Let's delve further into it's results."
   ]
  },
  {
   "cell_type": "code",
   "execution_count": 224,
   "id": "ac9529cc",
   "metadata": {},
   "outputs": [
    {
     "data": {
      "text/html": [
       "<div>\n",
       "<style scoped>\n",
       "    .dataframe tbody tr th:only-of-type {\n",
       "        vertical-align: middle;\n",
       "    }\n",
       "\n",
       "    .dataframe tbody tr th {\n",
       "        vertical-align: top;\n",
       "    }\n",
       "\n",
       "    .dataframe thead th {\n",
       "        text-align: right;\n",
       "    }\n",
       "</style>\n",
       "<table border=\"1\" class=\"dataframe\">\n",
       "  <thead>\n",
       "    <tr style=\"text-align: right;\">\n",
       "      <th></th>\n",
       "      <th>tagID</th>\n",
       "      <th>tagValue</th>\n",
       "      <th>userID</th>\n",
       "      <th>artistID</th>\n",
       "    </tr>\n",
       "  </thead>\n",
       "  <tbody>\n",
       "    <tr>\n",
       "      <th>9376</th>\n",
       "      <td>18</td>\n",
       "      <td>electronic</td>\n",
       "      <td>83</td>\n",
       "      <td>64</td>\n",
       "    </tr>\n",
       "    <tr>\n",
       "      <th>9377</th>\n",
       "      <td>18</td>\n",
       "      <td>electronic</td>\n",
       "      <td>83</td>\n",
       "      <td>418</td>\n",
       "    </tr>\n",
       "    <tr>\n",
       "      <th>15673</th>\n",
       "      <td>24</td>\n",
       "      <td>pop</td>\n",
       "      <td>83</td>\n",
       "      <td>64</td>\n",
       "    </tr>\n",
       "    <tr>\n",
       "      <th>15674</th>\n",
       "      <td>24</td>\n",
       "      <td>pop</td>\n",
       "      <td>83</td>\n",
       "      <td>256</td>\n",
       "    </tr>\n",
       "    <tr>\n",
       "      <th>15675</th>\n",
       "      <td>24</td>\n",
       "      <td>pop</td>\n",
       "      <td>83</td>\n",
       "      <td>262</td>\n",
       "    </tr>\n",
       "    <tr>\n",
       "      <th>...</th>\n",
       "      <td>...</td>\n",
       "      <td>...</td>\n",
       "      <td>...</td>\n",
       "      <td>...</td>\n",
       "    </tr>\n",
       "    <tr>\n",
       "      <th>142425</th>\n",
       "      <td>1080</td>\n",
       "      <td>mexico</td>\n",
       "      <td>83</td>\n",
       "      <td>3903</td>\n",
       "    </tr>\n",
       "    <tr>\n",
       "      <th>142473</th>\n",
       "      <td>1083</td>\n",
       "      <td>dirty south</td>\n",
       "      <td>83</td>\n",
       "      <td>291</td>\n",
       "    </tr>\n",
       "    <tr>\n",
       "      <th>142474</th>\n",
       "      <td>1083</td>\n",
       "      <td>dirty south</td>\n",
       "      <td>83</td>\n",
       "      <td>495</td>\n",
       "    </tr>\n",
       "    <tr>\n",
       "      <th>142475</th>\n",
       "      <td>1083</td>\n",
       "      <td>dirty south</td>\n",
       "      <td>83</td>\n",
       "      <td>1270</td>\n",
       "    </tr>\n",
       "    <tr>\n",
       "      <th>142632</th>\n",
       "      <td>1088</td>\n",
       "      <td>jessica simpson</td>\n",
       "      <td>83</td>\n",
       "      <td>417</td>\n",
       "    </tr>\n",
       "  </tbody>\n",
       "</table>\n",
       "<p>127 rows × 4 columns</p>\n",
       "</div>"
      ],
      "text/plain": [
       "        tagID         tagValue  userID  artistID\n",
       "9376       18       electronic      83        64\n",
       "9377       18       electronic      83       418\n",
       "15673      24              pop      83        64\n",
       "15674      24              pop      83       256\n",
       "15675      24              pop      83       262\n",
       "...       ...              ...     ...       ...\n",
       "142425   1080           mexico      83      3903\n",
       "142473   1083      dirty south      83       291\n",
       "142474   1083      dirty south      83       495\n",
       "142475   1083      dirty south      83      1270\n",
       "142632   1088  jessica simpson      83       417\n",
       "\n",
       "[127 rows x 4 columns]"
      ]
     },
     "execution_count": 224,
     "metadata": {},
     "output_type": "execute_result"
    }
   ],
   "source": [
    "tags[tags['userID'] == 83]"
   ]
  },
  {
   "cell_type": "code",
   "execution_count": 228,
   "id": "71f92942",
   "metadata": {},
   "outputs": [],
   "source": []
  },
  {
   "cell_type": "code",
   "execution_count": null,
   "id": "53a671c8",
   "metadata": {},
   "outputs": [],
   "source": []
  },
  {
   "cell_type": "code",
   "execution_count": null,
   "id": "f7292df4",
   "metadata": {},
   "outputs": [],
   "source": []
  },
  {
   "cell_type": "markdown",
   "id": "a73ad6a9",
   "metadata": {},
   "source": [
    "# Alternate Method 2"
   ]
  },
  {
   "cell_type": "code",
   "execution_count": 170,
   "id": "927e5213",
   "metadata": {},
   "outputs": [
    {
     "data": {
      "text/html": [
       "<div>\n",
       "<style scoped>\n",
       "    .dataframe tbody tr th:only-of-type {\n",
       "        vertical-align: middle;\n",
       "    }\n",
       "\n",
       "    .dataframe tbody tr th {\n",
       "        vertical-align: top;\n",
       "    }\n",
       "\n",
       "    .dataframe thead th {\n",
       "        text-align: right;\n",
       "    }\n",
       "</style>\n",
       "<table border=\"1\" class=\"dataframe\">\n",
       "  <thead>\n",
       "    <tr style=\"text-align: right;\">\n",
       "      <th></th>\n",
       "      <th>name</th>\n",
       "      <th>url</th>\n",
       "      <th>artID</th>\n",
       "      <th>userID</th>\n",
       "      <th>artistID</th>\n",
       "      <th>played</th>\n",
       "      <th>playedUserNorm</th>\n",
       "      <th>playCountScaled</th>\n",
       "    </tr>\n",
       "  </thead>\n",
       "  <tbody>\n",
       "    <tr>\n",
       "      <th>0</th>\n",
       "      <td>MALICE MIZER</td>\n",
       "      <td>http://www.last.fm/music/MALICE+MIZER</td>\n",
       "      <td>0</td>\n",
       "      <td>31</td>\n",
       "      <td>0</td>\n",
       "      <td>212</td>\n",
       "      <td>0.056</td>\n",
       "      <td>0.001</td>\n",
       "    </tr>\n",
       "    <tr>\n",
       "      <th>1</th>\n",
       "      <td>MALICE MIZER</td>\n",
       "      <td>http://www.last.fm/music/MALICE+MIZER</td>\n",
       "      <td>0</td>\n",
       "      <td>256</td>\n",
       "      <td>0</td>\n",
       "      <td>483</td>\n",
       "      <td>0.065</td>\n",
       "      <td>0.001</td>\n",
       "    </tr>\n",
       "    <tr>\n",
       "      <th>2</th>\n",
       "      <td>MALICE MIZER</td>\n",
       "      <td>http://www.last.fm/music/MALICE+MIZER</td>\n",
       "      <td>0</td>\n",
       "      <td>729</td>\n",
       "      <td>0</td>\n",
       "      <td>76</td>\n",
       "      <td>0.025</td>\n",
       "      <td>0.000</td>\n",
       "    </tr>\n",
       "    <tr>\n",
       "      <th>3</th>\n",
       "      <td>Diary of Dreams</td>\n",
       "      <td>http://www.last.fm/music/Diary+of+Dreams</td>\n",
       "      <td>1</td>\n",
       "      <td>130</td>\n",
       "      <td>1</td>\n",
       "      <td>1021</td>\n",
       "      <td>0.151</td>\n",
       "      <td>0.003</td>\n",
       "    </tr>\n",
       "    <tr>\n",
       "      <th>4</th>\n",
       "      <td>Diary of Dreams</td>\n",
       "      <td>http://www.last.fm/music/Diary+of+Dreams</td>\n",
       "      <td>1</td>\n",
       "      <td>240</td>\n",
       "      <td>1</td>\n",
       "      <td>152</td>\n",
       "      <td>0.154</td>\n",
       "      <td>0.000</td>\n",
       "    </tr>\n",
       "    <tr>\n",
       "      <th>...</th>\n",
       "      <td>...</td>\n",
       "      <td>...</td>\n",
       "      <td>...</td>\n",
       "      <td>...</td>\n",
       "      <td>...</td>\n",
       "      <td>...</td>\n",
       "      <td>...</td>\n",
       "      <td>...</td>\n",
       "    </tr>\n",
       "    <tr>\n",
       "      <th>92829</th>\n",
       "      <td>Diamanda GalÃ¡s</td>\n",
       "      <td>http://www.last.fm/music/Diamanda+Gal%C3%A1s</td>\n",
       "      <td>17627</td>\n",
       "      <td>423</td>\n",
       "      <td>17627</td>\n",
       "      <td>301</td>\n",
       "      <td>0.041</td>\n",
       "      <td>0.001</td>\n",
       "    </tr>\n",
       "    <tr>\n",
       "      <th>92830</th>\n",
       "      <td>Aya RL</td>\n",
       "      <td>http://www.last.fm/music/Aya+RL</td>\n",
       "      <td>17628</td>\n",
       "      <td>423</td>\n",
       "      <td>17628</td>\n",
       "      <td>294</td>\n",
       "      <td>0.040</td>\n",
       "      <td>0.001</td>\n",
       "    </tr>\n",
       "    <tr>\n",
       "      <th>92831</th>\n",
       "      <td>Coptic Rain</td>\n",
       "      <td>http://www.last.fm/music/Coptic+Rain</td>\n",
       "      <td>17629</td>\n",
       "      <td>423</td>\n",
       "      <td>17629</td>\n",
       "      <td>287</td>\n",
       "      <td>0.039</td>\n",
       "      <td>0.001</td>\n",
       "    </tr>\n",
       "    <tr>\n",
       "      <th>92832</th>\n",
       "      <td>Oz Alchemist</td>\n",
       "      <td>http://www.last.fm/music/Oz+Alchemist</td>\n",
       "      <td>17630</td>\n",
       "      <td>423</td>\n",
       "      <td>17630</td>\n",
       "      <td>286</td>\n",
       "      <td>0.039</td>\n",
       "      <td>0.001</td>\n",
       "    </tr>\n",
       "    <tr>\n",
       "      <th>92833</th>\n",
       "      <td>Grzegorz Tomczak</td>\n",
       "      <td>http://www.last.fm/music/Grzegorz+Tomczak</td>\n",
       "      <td>17631</td>\n",
       "      <td>547</td>\n",
       "      <td>17631</td>\n",
       "      <td>426</td>\n",
       "      <td>0.039</td>\n",
       "      <td>0.001</td>\n",
       "    </tr>\n",
       "  </tbody>\n",
       "</table>\n",
       "<p>92834 rows × 8 columns</p>\n",
       "</div>"
      ],
      "text/plain": [
       "                   name                                           url  artID  \\\n",
       "0          MALICE MIZER         http://www.last.fm/music/MALICE+MIZER      0   \n",
       "1          MALICE MIZER         http://www.last.fm/music/MALICE+MIZER      0   \n",
       "2          MALICE MIZER         http://www.last.fm/music/MALICE+MIZER      0   \n",
       "3       Diary of Dreams      http://www.last.fm/music/Diary+of+Dreams      1   \n",
       "4       Diary of Dreams      http://www.last.fm/music/Diary+of+Dreams      1   \n",
       "...                 ...                                           ...    ...   \n",
       "92829   Diamanda GalÃ¡s  http://www.last.fm/music/Diamanda+Gal%C3%A1s  17627   \n",
       "92830            Aya RL               http://www.last.fm/music/Aya+RL  17628   \n",
       "92831       Coptic Rain          http://www.last.fm/music/Coptic+Rain  17629   \n",
       "92832      Oz Alchemist         http://www.last.fm/music/Oz+Alchemist  17630   \n",
       "92833  Grzegorz Tomczak     http://www.last.fm/music/Grzegorz+Tomczak  17631   \n",
       "\n",
       "       userID  artistID  played  playedUserNorm  playCountScaled  \n",
       "0          31         0     212           0.056            0.001  \n",
       "1         256         0     483           0.065            0.001  \n",
       "2         729         0      76           0.025            0.000  \n",
       "3         130         1    1021           0.151            0.003  \n",
       "4         240         1     152           0.154            0.000  \n",
       "...       ...       ...     ...             ...              ...  \n",
       "92829     423     17627     301           0.041            0.001  \n",
       "92830     423     17628     294           0.040            0.001  \n",
       "92831     423     17629     287           0.039            0.001  \n",
       "92832     423     17630     286           0.039            0.001  \n",
       "92833     547     17631     426           0.039            0.001  \n",
       "\n",
       "[92834 rows x 8 columns]"
      ]
     },
     "execution_count": 170,
     "metadata": {},
     "output_type": "execute_result"
    }
   ],
   "source": [
    "played"
   ]
  },
  {
   "cell_type": "code",
   "execution_count": 171,
   "id": "1c95c2d5",
   "metadata": {},
   "outputs": [],
   "source": [
    "ratings_df = played.pivot(\n",
    "    index='userID', \n",
    "    columns='artistID', \n",
    "    values='playedUserNorm'\n",
    ")"
   ]
  },
  {
   "cell_type": "code",
   "execution_count": 172,
   "id": "753c5dd5",
   "metadata": {},
   "outputs": [],
   "source": [
    "ratings = ratings_df.fillna(0).values"
   ]
  },
  {
   "cell_type": "code",
   "execution_count": 173,
   "id": "49c8089a",
   "metadata": {},
   "outputs": [
    {
     "name": "stdout",
     "output_type": "stream",
     "text": [
      "0.28%\n"
     ]
    }
   ],
   "source": [
    "sparsity = float(len(ratings.nonzero()[0]))\n",
    "sparsity /= (ratings.shape[0] * ratings.shape[1])\n",
    "sparsity *= 100\n",
    "print('{:.2f}%'.format(sparsity))"
   ]
  },
  {
   "cell_type": "code",
   "execution_count": 174,
   "id": "6a32a5b6",
   "metadata": {},
   "outputs": [],
   "source": [
    "MIN_USER_RATINGS = 35\n",
    "DELETE_RATING_COUNT = 15\n",
    "\n",
    "def train_test_split(ratings):\n",
    "    \n",
    "    validation = np.zeros(ratings.shape)\n",
    "    train = ratings.copy()\n",
    "    \n",
    "    for user in np.arange(ratings.shape[0]):\n",
    "        if len(ratings[user,:].nonzero()[0]) >= MIN_USER_RATINGS:\n",
    "            val_ratings = np.random.choice(\n",
    "                ratings[user, :].nonzero()[0], \n",
    "                size=DELETE_RATING_COUNT,\n",
    "                replace=False\n",
    "            )\n",
    "            train[user, val_ratings] = 0\n",
    "            validation[user, val_ratings] = ratings[user, val_ratings]\n",
    "    return train, validation"
   ]
  },
  {
   "cell_type": "code",
   "execution_count": 175,
   "id": "6355b6a6",
   "metadata": {},
   "outputs": [],
   "source": [
    "train, val = train_test_split(ratings)"
   ]
  },
  {
   "cell_type": "code",
   "execution_count": 176,
   "id": "62a35e15",
   "metadata": {},
   "outputs": [
    {
     "data": {
      "text/plain": [
       "(1892, 17632)"
      ]
     },
     "execution_count": 176,
     "metadata": {},
     "output_type": "execute_result"
    }
   ],
   "source": [
    "train.shape"
   ]
  },
  {
   "cell_type": "code",
   "execution_count": 177,
   "id": "83d9c073",
   "metadata": {},
   "outputs": [],
   "source": [
    "def rmse(prediction, ground_truth):\n",
    "    prediction = prediction[ground_truth.nonzero()].flatten() \n",
    "    ground_truth = ground_truth[ground_truth.nonzero()].flatten()\n",
    "    return sqrt(mean_squared_error(prediction, ground_truth))"
   ]
  },
  {
   "cell_type": "code",
   "execution_count": 178,
   "id": "c0966b58",
   "metadata": {},
   "outputs": [],
   "source": [
    "class Recommender:\n",
    "  \n",
    "  def __init__(self, n_epochs=200, n_latent_features=3, lmbda=0.1, learning_rate=0.001):\n",
    "    self.n_epochs = n_epochs\n",
    "    self.n_latent_features = n_latent_features\n",
    "    self.lmbda = lmbda\n",
    "    self.learning_rate = learning_rate\n",
    "  \n",
    "  def predictions(self, P, Q):\n",
    "    return np.dot(P.T, Q)\n",
    "  \n",
    "  def fit(self, X_train, X_val):\n",
    "    m, n = X_train.shape\n",
    "\n",
    "    self.P = 3 * np.random.rand(self.n_latent_features, m)\n",
    "    self.Q = 3 * np.random.rand(self.n_latent_features, n)\n",
    "    \n",
    "    self.train_error = []\n",
    "    self.val_error = []\n",
    "\n",
    "    users, items = X_train.nonzero()\n",
    "    \n",
    "    for epoch in range(self.n_epochs):\n",
    "        for u, i in zip(users, items):\n",
    "            error = X_train[u, i] - self.predictions(self.P[:,u], self.Q[:,i])\n",
    "            self.P[:, u] += self.learning_rate * (error * self.Q[:, i] - self.lmbda * self.P[:, u])\n",
    "            self.Q[:, i] += self.learning_rate * (error * self.P[:, u] - self.lmbda * self.Q[:, i])\n",
    "\n",
    "        train_rmse = rmse(self.predictions(self.P, self.Q), X_train)\n",
    "        val_rmse = rmse(self.predictions(self.P, self.Q), X_val)\n",
    "        self.train_error.append(train_rmse)\n",
    "        self.val_error.append(val_rmse)\n",
    "        \n",
    "    return self\n",
    "  \n",
    "  def predict(self, X_train, user_index):\n",
    "    y_hat = self.predictions(self.P, self.Q)\n",
    "    predictions_index = np.where(X_train[user_index, :] == 0)[0]\n",
    "    return y_hat[user_index, predictions_index].flatten()"
   ]
  },
  {
   "cell_type": "code",
   "execution_count": 179,
   "id": "43ac0714",
   "metadata": {},
   "outputs": [],
   "source": [
    "recommender = Recommender().fit(train, val)"
   ]
  },
  {
   "cell_type": "code",
   "execution_count": 182,
   "id": "386d7cc2",
   "metadata": {},
   "outputs": [
    {
     "data": {
      "image/png": "[encoded data removed]",
      "text/plain": [
       "<Figure size 1152x576 with 1 Axes>"
      ]
     },
     "metadata": {
      "needs_background": "light"
     },
     "output_type": "display_data"
    }
   ],
   "source": [
    "plt.figure(figsize=(16,8))\n",
    "plt.plot(range(recommender.n_epochs), recommender.train_error, marker='o', label='Training Data');\n",
    "plt.plot(range(recommender.n_epochs), recommender.val_error, marker='v', label='Validation Data');\n",
    "plt.xlabel('Number of Epochs');\n",
    "plt.ylabel('RMSE');\n",
    "plt.legend()\n",
    "plt.grid()\n",
    "plt.show()"
   ]
  },
  {
   "cell_type": "markdown",
   "id": "57162f42",
   "metadata": {},
   "source": [
    "## Making Recommendations"
   ]
  },
  {
   "cell_type": "code",
   "execution_count": 183,
   "id": "06fe918e",
   "metadata": {},
   "outputs": [],
   "source": [
    "user_id = 15\n",
    "user_index = ratings_df.index.get_loc(user_id)\n",
    "predictions_index = np.where(train[user_index, :] == 0)[0]\n",
    "\n",
    "rating_predictions = recommender.predict(train, user_index)"
   ]
  },
  {
   "cell_type": "code",
   "execution_count": 184,
   "id": "5e1750db",
   "metadata": {},
   "outputs": [],
   "source": [
    "def create_artist_ratings(artists_df, artists_index, ratings, n=10):\n",
    "    artist_ids = ratings_df.columns[artists_index]\n",
    "    artist_ratings = pd.DataFrame(data=dict(artistId=artist_ids, rating=ratings))\n",
    "    top_n_artists = artist_ratings.sort_values(\"rating\", ascending=False).head(n)\n",
    "  \n",
    "    artist_recommendations = artists_df[artists_df.artID.isin(top_n_artists.artistId)].reset_index(drop=True)\n",
    "    artist_recommendations['rating'] = pd.Series(top_n_artists.rating.values)\n",
    "    return artist_recommendations.sort_values(\"rating\", ascending=False)"
   ]
  },
  {
   "cell_type": "code",
   "execution_count": 185,
   "id": "c4b28f5f",
   "metadata": {},
   "outputs": [
    {
     "data": {
      "text/html": [
       "<div>\n",
       "<style scoped>\n",
       "    .dataframe tbody tr th:only-of-type {\n",
       "        vertical-align: middle;\n",
       "    }\n",
       "\n",
       "    .dataframe tbody tr th {\n",
       "        vertical-align: top;\n",
       "    }\n",
       "\n",
       "    .dataframe thead th {\n",
       "        text-align: right;\n",
       "    }\n",
       "</style>\n",
       "<table border=\"1\" class=\"dataframe\">\n",
       "  <thead>\n",
       "    <tr style=\"text-align: right;\">\n",
       "      <th></th>\n",
       "      <th>name</th>\n",
       "      <th>url</th>\n",
       "      <th>pictureURL</th>\n",
       "      <th>artID</th>\n",
       "      <th>rating</th>\n",
       "    </tr>\n",
       "  </thead>\n",
       "  <tbody>\n",
       "    <tr>\n",
       "      <th>0</th>\n",
       "      <td>Lady Gaga</td>\n",
       "      <td>http://www.last.fm/music/Lady+Gaga</td>\n",
       "      <td>http://userserve-ak.last.fm/serve/252/47390093...</td>\n",
       "      <td>83</td>\n",
       "      <td>1.000</td>\n",
       "    </tr>\n",
       "    <tr>\n",
       "      <th>1</th>\n",
       "      <td>The Killers</td>\n",
       "      <td>http://www.last.fm/music/The+Killers</td>\n",
       "      <td>http://userserve-ak.last.fm/serve/252/250099.jpg</td>\n",
       "      <td>223</td>\n",
       "      <td>0.125</td>\n",
       "    </tr>\n",
       "    <tr>\n",
       "      <th>2</th>\n",
       "      <td>Taylor Swift</td>\n",
       "      <td>http://www.last.fm/music/Taylor+Swift</td>\n",
       "      <td>http://userserve-ak.last.fm/serve/252/45447333...</td>\n",
       "      <td>338</td>\n",
       "      <td>0.100</td>\n",
       "    </tr>\n",
       "    <tr>\n",
       "      <th>3</th>\n",
       "      <td>Adam Lambert</td>\n",
       "      <td>http://www.last.fm/music/Adam+Lambert</td>\n",
       "      <td>http://userserve-ak.last.fm/serve/252/56430315...</td>\n",
       "      <td>538</td>\n",
       "      <td>0.087</td>\n",
       "    </tr>\n",
       "    <tr>\n",
       "      <th>4</th>\n",
       "      <td>Ellie Goulding</td>\n",
       "      <td>http://www.last.fm/music/Ellie+Goulding</td>\n",
       "      <td>http://userserve-ak.last.fm/serve/252/62251875...</td>\n",
       "      <td>542</td>\n",
       "      <td>0.045</td>\n",
       "    </tr>\n",
       "    <tr>\n",
       "      <th>5</th>\n",
       "      <td>Glee Cast</td>\n",
       "      <td>http://www.last.fm/music/Glee+Cast</td>\n",
       "      <td>http://userserve-ak.last.fm/serve/252/44433851...</td>\n",
       "      <td>673</td>\n",
       "      <td>0.042</td>\n",
       "    </tr>\n",
       "    <tr>\n",
       "      <th>6</th>\n",
       "      <td>Lights</td>\n",
       "      <td>http://www.last.fm/music/Lights</td>\n",
       "      <td>http://userserve-ak.last.fm/serve/252/40210269...</td>\n",
       "      <td>676</td>\n",
       "      <td>0.033</td>\n",
       "    </tr>\n",
       "    <tr>\n",
       "      <th>7</th>\n",
       "      <td>John Mayer</td>\n",
       "      <td>http://www.last.fm/music/John+Mayer</td>\n",
       "      <td>http://userserve-ak.last.fm/serve/252/385672.jpg</td>\n",
       "      <td>677</td>\n",
       "      <td>0.032</td>\n",
       "    </tr>\n",
       "    <tr>\n",
       "      <th>8</th>\n",
       "      <td>American Idiot Cast</td>\n",
       "      <td>http://www.last.fm/music/American+Idiot+Cast</td>\n",
       "      <td>http://userserve-ak.last.fm/serve/252/53866529...</td>\n",
       "      <td>678</td>\n",
       "      <td>0.030</td>\n",
       "    </tr>\n",
       "    <tr>\n",
       "      <th>9</th>\n",
       "      <td>Selena Gomez &amp; the Scene</td>\n",
       "      <td>http://www.last.fm/music/Selena%2BGomez%2B%252...</td>\n",
       "      <td>http://userserve-ak.last.fm/serve/252/51703695...</td>\n",
       "      <td>680</td>\n",
       "      <td>0.026</td>\n",
       "    </tr>\n",
       "  </tbody>\n",
       "</table>\n",
       "</div>"
      ],
      "text/plain": [
       "                       name  \\\n",
       "0                 Lady Gaga   \n",
       "1               The Killers   \n",
       "2              Taylor Swift   \n",
       "3              Adam Lambert   \n",
       "4            Ellie Goulding   \n",
       "5                 Glee Cast   \n",
       "6                    Lights   \n",
       "7                John Mayer   \n",
       "8       American Idiot Cast   \n",
       "9  Selena Gomez & the Scene   \n",
       "\n",
       "                                                 url  \\\n",
       "0                 http://www.last.fm/music/Lady+Gaga   \n",
       "1               http://www.last.fm/music/The+Killers   \n",
       "2              http://www.last.fm/music/Taylor+Swift   \n",
       "3              http://www.last.fm/music/Adam+Lambert   \n",
       "4            http://www.last.fm/music/Ellie+Goulding   \n",
       "5                 http://www.last.fm/music/Glee+Cast   \n",
       "6                    http://www.last.fm/music/Lights   \n",
       "7                http://www.last.fm/music/John+Mayer   \n",
       "8       http://www.last.fm/music/American+Idiot+Cast   \n",
       "9  http://www.last.fm/music/Selena%2BGomez%2B%252...   \n",
       "\n",
       "                                          pictureURL  artID  rating  \n",
       "0  http://userserve-ak.last.fm/serve/252/47390093...     83   1.000  \n",
       "1   http://userserve-ak.last.fm/serve/252/250099.jpg    223   0.125  \n",
       "2  http://userserve-ak.last.fm/serve/252/45447333...    338   0.100  \n",
       "3  http://userserve-ak.last.fm/serve/252/56430315...    538   0.087  \n",
       "4  http://userserve-ak.last.fm/serve/252/62251875...    542   0.045  \n",
       "5  http://userserve-ak.last.fm/serve/252/44433851...    673   0.042  \n",
       "6  http://userserve-ak.last.fm/serve/252/40210269...    676   0.033  \n",
       "7   http://userserve-ak.last.fm/serve/252/385672.jpg    677   0.032  \n",
       "8  http://userserve-ak.last.fm/serve/252/53866529...    678   0.030  \n",
       "9  http://userserve-ak.last.fm/serve/252/51703695...    680   0.026  "
      ]
     },
     "execution_count": 185,
     "metadata": {},
     "output_type": "execute_result"
    }
   ],
   "source": [
    "existing_ratings_index = np.where(train[user_index, :] > 0)[0]\n",
    "existing_ratings = train[user_index, existing_ratings_index]\n",
    "\n",
    "create_artist_ratings(df, existing_ratings_index, existing_ratings)"
   ]
  },
  {
   "cell_type": "code",
   "execution_count": 186,
   "id": "f4235eca",
   "metadata": {},
   "outputs": [
    {
     "data": {
      "text/html": [
       "<div>\n",
       "<style scoped>\n",
       "    .dataframe tbody tr th:only-of-type {\n",
       "        vertical-align: middle;\n",
       "    }\n",
       "\n",
       "    .dataframe tbody tr th {\n",
       "        vertical-align: top;\n",
       "    }\n",
       "\n",
       "    .dataframe thead th {\n",
       "        text-align: right;\n",
       "    }\n",
       "</style>\n",
       "<table border=\"1\" class=\"dataframe\">\n",
       "  <thead>\n",
       "    <tr style=\"text-align: right;\">\n",
       "      <th></th>\n",
       "      <th>name</th>\n",
       "      <th>url</th>\n",
       "      <th>pictureURL</th>\n",
       "      <th>artID</th>\n",
       "      <th>rating</th>\n",
       "    </tr>\n",
       "  </thead>\n",
       "  <tbody>\n",
       "    <tr>\n",
       "      <th>0</th>\n",
       "      <td>Bilal Serbest</td>\n",
       "      <td>http://www.last.fm/music/Bilal+Serbest</td>\n",
       "      <td>http://userserve-ak.last.fm/serve/252/41059153...</td>\n",
       "      <td>2631</td>\n",
       "      <td>0.647</td>\n",
       "    </tr>\n",
       "    <tr>\n",
       "      <th>1</th>\n",
       "      <td>Alpinestars</td>\n",
       "      <td>http://www.last.fm/music/Alpinestars</td>\n",
       "      <td>http://userserve-ak.last.fm/serve/252/67343.jpg</td>\n",
       "      <td>4220</td>\n",
       "      <td>0.641</td>\n",
       "    </tr>\n",
       "    <tr>\n",
       "      <th>2</th>\n",
       "      <td>GIRL NEXT DOOR</td>\n",
       "      <td>http://www.last.fm/music/GIRL+NEXT+DOOR</td>\n",
       "      <td>http://userserve-ak.last.fm/serve/252/58768751...</td>\n",
       "      <td>5437</td>\n",
       "      <td>0.633</td>\n",
       "    </tr>\n",
       "    <tr>\n",
       "      <th>3</th>\n",
       "      <td>The Persuasions</td>\n",
       "      <td>http://www.last.fm/music/The+Persuasions</td>\n",
       "      <td>http://userserve-ak.last.fm/serve/252/373584.jpg</td>\n",
       "      <td>7931</td>\n",
       "      <td>0.633</td>\n",
       "    </tr>\n",
       "    <tr>\n",
       "      <th>4</th>\n",
       "      <td>Seba</td>\n",
       "      <td>http://www.last.fm/music/Seba</td>\n",
       "      <td>http://userserve-ak.last.fm/serve/252/17613945...</td>\n",
       "      <td>12390</td>\n",
       "      <td>0.627</td>\n",
       "    </tr>\n",
       "    <tr>\n",
       "      <th>5</th>\n",
       "      <td>Top</td>\n",
       "      <td>http://www.last.fm/music/Top</td>\n",
       "      <td>http://userserve-ak.last.fm/serve/252/56576915...</td>\n",
       "      <td>13658</td>\n",
       "      <td>0.624</td>\n",
       "    </tr>\n",
       "    <tr>\n",
       "      <th>6</th>\n",
       "      <td>Ena PÃ¡ 2000</td>\n",
       "      <td>http://www.last.fm/music/Ena+P%C3%A1+2000</td>\n",
       "      <td>http://userserve-ak.last.fm/serve/252/372386.jpg</td>\n",
       "      <td>14395</td>\n",
       "      <td>0.624</td>\n",
       "    </tr>\n",
       "    <tr>\n",
       "      <th>7</th>\n",
       "      <td>DJ Koze</td>\n",
       "      <td>http://www.last.fm/music/DJ+Koze</td>\n",
       "      <td>http://userserve-ak.last.fm/serve/252/45703561...</td>\n",
       "      <td>14998</td>\n",
       "      <td>0.623</td>\n",
       "    </tr>\n",
       "    <tr>\n",
       "      <th>8</th>\n",
       "      <td>Lindsay Lohan/Lindsay Lohan/Lindsay Lohan/Lind...</td>\n",
       "      <td>http://www.last.fm/music/Lindsay%2BLohan%252FL...</td>\n",
       "      <td>http://userserve-ak.last.fm/serve/252/54095047...</td>\n",
       "      <td>17236</td>\n",
       "      <td>0.621</td>\n",
       "    </tr>\n",
       "    <tr>\n",
       "      <th>9</th>\n",
       "      <td>Teodulija</td>\n",
       "      <td>http://www.last.fm/music/Teodulija</td>\n",
       "      <td>http://userserve-ak.last.fm/serve/252/291596.jpg</td>\n",
       "      <td>17575</td>\n",
       "      <td>0.621</td>\n",
       "    </tr>\n",
       "  </tbody>\n",
       "</table>\n",
       "</div>"
      ],
      "text/plain": [
       "                                                name  \\\n",
       "0                                      Bilal Serbest   \n",
       "1                                        Alpinestars   \n",
       "2                                     GIRL NEXT DOOR   \n",
       "3                                    The Persuasions   \n",
       "4                                               Seba   \n",
       "5                                                Top   \n",
       "6                                       Ena PÃ¡ 2000   \n",
       "7                                            DJ Koze   \n",
       "8  Lindsay Lohan/Lindsay Lohan/Lindsay Lohan/Lind...   \n",
       "9                                          Teodulija   \n",
       "\n",
       "                                                 url  \\\n",
       "0             http://www.last.fm/music/Bilal+Serbest   \n",
       "1               http://www.last.fm/music/Alpinestars   \n",
       "2            http://www.last.fm/music/GIRL+NEXT+DOOR   \n",
       "3           http://www.last.fm/music/The+Persuasions   \n",
       "4                      http://www.last.fm/music/Seba   \n",
       "5                       http://www.last.fm/music/Top   \n",
       "6          http://www.last.fm/music/Ena+P%C3%A1+2000   \n",
       "7                   http://www.last.fm/music/DJ+Koze   \n",
       "8  http://www.last.fm/music/Lindsay%2BLohan%252FL...   \n",
       "9                 http://www.last.fm/music/Teodulija   \n",
       "\n",
       "                                          pictureURL  artID  rating  \n",
       "0  http://userserve-ak.last.fm/serve/252/41059153...   2631   0.647  \n",
       "1    http://userserve-ak.last.fm/serve/252/67343.jpg   4220   0.641  \n",
       "2  http://userserve-ak.last.fm/serve/252/58768751...   5437   0.633  \n",
       "3   http://userserve-ak.last.fm/serve/252/373584.jpg   7931   0.633  \n",
       "4  http://userserve-ak.last.fm/serve/252/17613945...  12390   0.627  \n",
       "5  http://userserve-ak.last.fm/serve/252/56576915...  13658   0.624  \n",
       "6   http://userserve-ak.last.fm/serve/252/372386.jpg  14395   0.624  \n",
       "7  http://userserve-ak.last.fm/serve/252/45703561...  14998   0.623  \n",
       "8  http://userserve-ak.last.fm/serve/252/54095047...  17236   0.621  \n",
       "9   http://userserve-ak.last.fm/serve/252/291596.jpg  17575   0.621  "
      ]
     },
     "execution_count": 186,
     "metadata": {},
     "output_type": "execute_result"
    }
   ],
   "source": [
    "create_artist_ratings(df, predictions_index, rating_predictions)"
   ]
  },
  {
   "cell_type": "code",
   "execution_count": 187,
   "id": "8390c2be",
   "metadata": {},
   "outputs": [
    {
     "data": {
      "text/html": [
       "<div>\n",
       "<style scoped>\n",
       "    .dataframe tbody tr th:only-of-type {\n",
       "        vertical-align: middle;\n",
       "    }\n",
       "\n",
       "    .dataframe tbody tr th {\n",
       "        vertical-align: top;\n",
       "    }\n",
       "\n",
       "    .dataframe thead th {\n",
       "        text-align: right;\n",
       "    }\n",
       "</style>\n",
       "<table border=\"1\" class=\"dataframe\">\n",
       "  <thead>\n",
       "    <tr style=\"text-align: right;\">\n",
       "      <th></th>\n",
       "      <th>name</th>\n",
       "      <th>url</th>\n",
       "      <th>artID</th>\n",
       "      <th>userID</th>\n",
       "      <th>artistID</th>\n",
       "      <th>played</th>\n",
       "      <th>playedUserNorm</th>\n",
       "      <th>playCountScaled</th>\n",
       "    </tr>\n",
       "  </thead>\n",
       "  <tbody>\n",
       "    <tr>\n",
       "      <th>1068</th>\n",
       "      <td>Daft Punk</td>\n",
       "      <td>http://www.last.fm/music/Daft+Punk</td>\n",
       "      <td>50</td>\n",
       "      <td>15</td>\n",
       "      <td>50</td>\n",
       "      <td>242</td>\n",
       "      <td>0.017</td>\n",
       "      <td>0.001</td>\n",
       "    </tr>\n",
       "    <tr>\n",
       "      <th>1960</th>\n",
       "      <td>Madonna</td>\n",
       "      <td>http://www.last.fm/music/Madonna</td>\n",
       "      <td>61</td>\n",
       "      <td>15</td>\n",
       "      <td>61</td>\n",
       "      <td>303</td>\n",
       "      <td>0.021</td>\n",
       "      <td>0.001</td>\n",
       "    </tr>\n",
       "    <tr>\n",
       "      <th>3298</th>\n",
       "      <td>Lady Gaga</td>\n",
       "      <td>http://www.last.fm/music/Lady+Gaga</td>\n",
       "      <td>83</td>\n",
       "      <td>15</td>\n",
       "      <td>83</td>\n",
       "      <td>1255</td>\n",
       "      <td>0.087</td>\n",
       "      <td>0.004</td>\n",
       "    </tr>\n",
       "    <tr>\n",
       "      <th>10537</th>\n",
       "      <td>The Killers</td>\n",
       "      <td>http://www.last.fm/music/The+Killers</td>\n",
       "      <td>223</td>\n",
       "      <td>15</td>\n",
       "      <td>223</td>\n",
       "      <td>610</td>\n",
       "      <td>0.042</td>\n",
       "      <td>0.002</td>\n",
       "    </tr>\n",
       "    <tr>\n",
       "      <th>10842</th>\n",
       "      <td>Green Day</td>\n",
       "      <td>http://www.last.fm/music/Green+Day</td>\n",
       "      <td>224</td>\n",
       "      <td>15</td>\n",
       "      <td>224</td>\n",
       "      <td>120</td>\n",
       "      <td>0.008</td>\n",
       "      <td>0.000</td>\n",
       "    </tr>\n",
       "    <tr>\n",
       "      <th>...</th>\n",
       "      <td>...</td>\n",
       "      <td>...</td>\n",
       "      <td>...</td>\n",
       "      <td>...</td>\n",
       "      <td>...</td>\n",
       "      <td>...</td>\n",
       "      <td>...</td>\n",
       "      <td>...</td>\n",
       "    </tr>\n",
       "    <tr>\n",
       "      <th>32999</th>\n",
       "      <td>Boyce Avenue</td>\n",
       "      <td>http://www.last.fm/music/Boyce+Avenue</td>\n",
       "      <td>694</td>\n",
       "      <td>15</td>\n",
       "      <td>694</td>\n",
       "      <td>116</td>\n",
       "      <td>0.008</td>\n",
       "      <td>0.000</td>\n",
       "    </tr>\n",
       "    <tr>\n",
       "      <th>33003</th>\n",
       "      <td>Shakira</td>\n",
       "      <td>http://www.last.fm/music/Shakira</td>\n",
       "      <td>695</td>\n",
       "      <td>15</td>\n",
       "      <td>695</td>\n",
       "      <td>115</td>\n",
       "      <td>0.008</td>\n",
       "      <td>0.000</td>\n",
       "    </tr>\n",
       "    <tr>\n",
       "      <th>33322</th>\n",
       "      <td>Ester Dean</td>\n",
       "      <td>http://www.last.fm/music/Ester+Dean</td>\n",
       "      <td>696</td>\n",
       "      <td>15</td>\n",
       "      <td>696</td>\n",
       "      <td>109</td>\n",
       "      <td>0.008</td>\n",
       "      <td>0.000</td>\n",
       "    </tr>\n",
       "    <tr>\n",
       "      <th>33323</th>\n",
       "      <td>The xx</td>\n",
       "      <td>http://www.last.fm/music/The+xx</td>\n",
       "      <td>697</td>\n",
       "      <td>15</td>\n",
       "      <td>697</td>\n",
       "      <td>107</td>\n",
       "      <td>0.007</td>\n",
       "      <td>0.000</td>\n",
       "    </tr>\n",
       "    <tr>\n",
       "      <th>33405</th>\n",
       "      <td>The Pretty Reckless</td>\n",
       "      <td>http://www.last.fm/music/The+Pretty+Reckless</td>\n",
       "      <td>698</td>\n",
       "      <td>15</td>\n",
       "      <td>698</td>\n",
       "      <td>105</td>\n",
       "      <td>0.007</td>\n",
       "      <td>0.000</td>\n",
       "    </tr>\n",
       "  </tbody>\n",
       "</table>\n",
       "<p>50 rows × 8 columns</p>\n",
       "</div>"
      ],
      "text/plain": [
       "                      name                                           url  \\\n",
       "1068             Daft Punk            http://www.last.fm/music/Daft+Punk   \n",
       "1960               Madonna              http://www.last.fm/music/Madonna   \n",
       "3298             Lady Gaga            http://www.last.fm/music/Lady+Gaga   \n",
       "10537          The Killers          http://www.last.fm/music/The+Killers   \n",
       "10842            Green Day            http://www.last.fm/music/Green+Day   \n",
       "...                    ...                                           ...   \n",
       "32999         Boyce Avenue         http://www.last.fm/music/Boyce+Avenue   \n",
       "33003              Shakira              http://www.last.fm/music/Shakira   \n",
       "33322           Ester Dean           http://www.last.fm/music/Ester+Dean   \n",
       "33323               The xx               http://www.last.fm/music/The+xx   \n",
       "33405  The Pretty Reckless  http://www.last.fm/music/The+Pretty+Reckless   \n",
       "\n",
       "       artID  userID  artistID  played  playedUserNorm  playCountScaled  \n",
       "1068      50      15        50     242           0.017            0.001  \n",
       "1960      61      15        61     303           0.021            0.001  \n",
       "3298      83      15        83    1255           0.087            0.004  \n",
       "10537    223      15       223     610           0.042            0.002  \n",
       "10842    224      15       224     120           0.008            0.000  \n",
       "...      ...     ...       ...     ...             ...              ...  \n",
       "32999    694      15       694     116           0.008            0.000  \n",
       "33003    695      15       695     115           0.008            0.000  \n",
       "33322    696      15       696     109           0.008            0.000  \n",
       "33323    697      15       697     107           0.007            0.000  \n",
       "33405    698      15       698     105           0.007            0.000  \n",
       "\n",
       "[50 rows x 8 columns]"
      ]
     },
     "execution_count": 187,
     "metadata": {},
     "output_type": "execute_result"
    }
   ],
   "source": [
    "played[played['userID'] == 15]"
   ]
  },
  {
   "cell_type": "code",
   "execution_count": 188,
   "id": "455869f1",
   "metadata": {},
   "outputs": [
    {
     "data": {
      "text/html": [
       "<div>\n",
       "<style scoped>\n",
       "    .dataframe tbody tr th:only-of-type {\n",
       "        vertical-align: middle;\n",
       "    }\n",
       "\n",
       "    .dataframe tbody tr th {\n",
       "        vertical-align: top;\n",
       "    }\n",
       "\n",
       "    .dataframe thead th {\n",
       "        text-align: right;\n",
       "    }\n",
       "</style>\n",
       "<table border=\"1\" class=\"dataframe\">\n",
       "  <thead>\n",
       "    <tr style=\"text-align: right;\">\n",
       "      <th></th>\n",
       "      <th>userID</th>\n",
       "      <th>artistID</th>\n",
       "      <th>tagID</th>\n",
       "      <th>day</th>\n",
       "      <th>month</th>\n",
       "      <th>year</th>\n",
       "    </tr>\n",
       "  </thead>\n",
       "  <tbody>\n",
       "    <tr>\n",
       "      <th>0</th>\n",
       "      <td>0</td>\n",
       "      <td>49</td>\n",
       "      <td>13</td>\n",
       "      <td>1</td>\n",
       "      <td>4</td>\n",
       "      <td>2009</td>\n",
       "    </tr>\n",
       "    <tr>\n",
       "      <th>1</th>\n",
       "      <td>0</td>\n",
       "      <td>49</td>\n",
       "      <td>15</td>\n",
       "      <td>1</td>\n",
       "      <td>4</td>\n",
       "      <td>2009</td>\n",
       "    </tr>\n",
       "    <tr>\n",
       "      <th>2</th>\n",
       "      <td>0</td>\n",
       "      <td>49</td>\n",
       "      <td>18</td>\n",
       "      <td>1</td>\n",
       "      <td>4</td>\n",
       "      <td>2009</td>\n",
       "    </tr>\n",
       "    <tr>\n",
       "      <th>3</th>\n",
       "      <td>0</td>\n",
       "      <td>49</td>\n",
       "      <td>21</td>\n",
       "      <td>1</td>\n",
       "      <td>4</td>\n",
       "      <td>2009</td>\n",
       "    </tr>\n",
       "    <tr>\n",
       "      <th>4</th>\n",
       "      <td>0</td>\n",
       "      <td>49</td>\n",
       "      <td>41</td>\n",
       "      <td>1</td>\n",
       "      <td>4</td>\n",
       "      <td>2009</td>\n",
       "    </tr>\n",
       "  </tbody>\n",
       "</table>\n",
       "</div>"
      ],
      "text/plain": [
       "   userID  artistID  tagID  day  month  year\n",
       "0       0        49     13    1      4  2009\n",
       "1       0        49     15    1      4  2009\n",
       "2       0        49     18    1      4  2009\n",
       "3       0        49     21    1      4  2009\n",
       "4       0        49     41    1      4  2009"
      ]
     },
     "execution_count": 188,
     "metadata": {},
     "output_type": "execute_result"
    }
   ],
   "source": [
    "df4.head()"
   ]
  },
  {
   "cell_type": "code",
   "execution_count": 189,
   "id": "a60977f1",
   "metadata": {},
   "outputs": [],
   "source": [
    "df4.drop(columns=['day', 'month', 'year'], inplace=True)"
   ]
  },
  {
   "cell_type": "code",
   "execution_count": 192,
   "id": "dc0c76c7",
   "metadata": {},
   "outputs": [],
   "source": [
    "tags = pd.merge(df1, df4, how=\"inner\", left_on=\"tagID\", right_on=\"tagID\")"
   ]
  },
  {
   "cell_type": "code",
   "execution_count": 193,
   "id": "23fbf02f",
   "metadata": {},
   "outputs": [
    {
     "data": {
      "text/plain": [
       "False"
      ]
     },
     "execution_count": 193,
     "metadata": {},
     "output_type": "execute_result"
    }
   ],
   "source": [
    "tags.isnull().values.any()"
   ]
  },
  {
   "cell_type": "code",
   "execution_count": 222,
   "id": "3ee1ca03",
   "metadata": {},
   "outputs": [
    {
     "data": {
      "text/plain": [
       "12522"
      ]
     },
     "execution_count": 222,
     "metadata": {},
     "output_type": "execute_result"
    }
   ],
   "source": [
    "tags['artistID'].max()"
   ]
  },
  {
   "cell_type": "code",
   "execution_count": 195,
   "id": "d6207367",
   "metadata": {},
   "outputs": [
    {
     "data": {
      "text/plain": [
       "<AxesSubplot:>"
      ]
     },
     "execution_count": 195,
     "metadata": {},
     "output_type": "execute_result"
    },
    {
     "data": {
      "image/png": "[encoded data removed]",
      "text/plain": [
       "<Figure size 1296x432 with 1 Axes>"
      ]
     },
     "metadata": {
      "needs_background": "light"
     },
     "output_type": "display_data"
    }
   ],
   "source": [
    "tags['tagValue'].value_counts()[:20].plot(kind='barh', color='green', figsize=(18,6))"
   ]
  },
  {
   "cell_type": "markdown",
   "id": "bb78606e",
   "metadata": {},
   "source": [
    "# Spotify Recommender system"
   ]
  },
  {
   "cell_type": "code",
   "execution_count": 196,
   "id": "7af4d8eb",
   "metadata": {},
   "outputs": [],
   "source": [
    "import tekore as tk"
   ]
  },
  {
   "cell_type": "code",
   "execution_count": 197,
   "id": "172edec0",
   "metadata": {},
   "outputs": [],
   "source": [
    "client_id = 'cb3a434dfacd4fd6b0a65dc5f4f1bd2e'\n",
    "client_secret = '39d56bef066c421f9e9ebc2bc0059ebc'"
   ]
  },
  {
   "cell_type": "code",
   "execution_count": 198,
   "id": "670f7d9c",
   "metadata": {},
   "outputs": [],
   "source": [
    "redirect_url = 'http://ca4015.com/callback/'"
   ]
  },
  {
   "cell_type": "code",
   "execution_count": 199,
   "id": "e9b93173",
   "metadata": {},
   "outputs": [],
   "source": [
    "#conf = (client_id, client_secret, redirect_uri)\n",
    "#token = tk.prompt_for_user_token(*conf, scope = tk.scope.every)\n",
    "\n",
    "#spotify = tk.Spotify(token)"
   ]
  },
  {
   "cell_type": "code",
   "execution_count": 200,
   "id": "9505476d",
   "metadata": {},
   "outputs": [],
   "source": [
    "import spotipy\n",
    "from spotipy.oauth2 import SpotifyClientCredentials\n",
    "import spotipy.util as util\n",
    "#client_credentials_manager = SpotifyClientCredentials(client_id, client_secret)\n",
    "#sp = spotipy.Spotify(client_credentials_manager = client_credentials_manager)"
   ]
  },
  {
   "cell_type": "code",
   "execution_count": 201,
   "id": "354a486e",
   "metadata": {},
   "outputs": [
    {
     "data": {
      "text/plain": [
       "'\\nusername = \\'kiansweeney11\\'\\nclient_credentials_manager = SpotifyClientCredentials(client_id=client_id, client_secret=client_secret) \\nsp = spotipy.Spotify(client_credentials_manager=client_credentials_manager)\\nscope = \\'user-top-read\\'\\ntoken = util.prompt_for_user_token(username, scope)\\n\\nif token:\\n    sp = spotipy.Spotify(auth=token)\\nelse:\\n    print(\"Can\\'t get token for\", username)\\n'"
      ]
     },
     "execution_count": 201,
     "metadata": {},
     "output_type": "execute_result"
    }
   ],
   "source": [
    "'''\n",
    "username = 'kiansweeney11'\n",
    "client_credentials_manager = SpotifyClientCredentials(client_id=client_id, client_secret=client_secret) \n",
    "sp = spotipy.Spotify(client_credentials_manager=client_credentials_manager)\n",
    "scope = 'user-top-read'\n",
    "token = util.prompt_for_user_token(username, scope)\n",
    "\n",
    "if token:\n",
    "    sp = spotipy.Spotify(auth=token)\n",
    "else:\n",
    "    print(\"Can't get token for\", username)\n",
    "'''"
   ]
  },
  {
   "cell_type": "code",
   "execution_count": 202,
   "id": "b159ec80",
   "metadata": {},
   "outputs": [
    {
     "data": {
      "text/plain": [
       "\"\\nartist_name = []\\ntrack_name = []\\npopularity = []\\ntrack_id = []\\nresults = sp.current_user_top_tracks(limit=5,offset=0,time_range='medium_term')\\nfor i, t in enumerate(track_results['tracks']['items']):\\n    artist_name.append(t['artists'][0]['name'])\\n    track_name.append(t['name'])\\n    track_id.append(t['id'])\\n    popularity.append(t['popularity'])\\n\""
      ]
     },
     "execution_count": 202,
     "metadata": {},
     "output_type": "execute_result"
    }
   ],
   "source": [
    "'''\n",
    "artist_name = []\n",
    "track_name = []\n",
    "popularity = []\n",
    "track_id = []\n",
    "results = sp.current_user_top_tracks(limit=5,offset=0,time_range='medium_term')\n",
    "for i, t in enumerate(track_results['tracks']['items']):\n",
    "    artist_name.append(t['artists'][0]['name'])\n",
    "    track_name.append(t['name'])\n",
    "    track_id.append(t['id'])\n",
    "    popularity.append(t['popularity'])\n",
    "'''"
   ]
  },
  {
   "cell_type": "code",
   "execution_count": 203,
   "id": "b8e9ec5c",
   "metadata": {},
   "outputs": [
    {
     "data": {
      "text/plain": [
       "\"\\ntrack_dataframe = pd.DataFrame({'artist_name' : artist_name, 'track_name' : track_name, 'track_id' : track_id, 'popularity' : popularity})\\nprint(track_dataframe.shape)\\ntrack_dataframe.head(10)\\n\""
      ]
     },
     "execution_count": 203,
     "metadata": {},
     "output_type": "execute_result"
    }
   ],
   "source": [
    "'''\n",
    "track_dataframe = pd.DataFrame({'artist_name' : artist_name, 'track_name' : track_name, 'track_id' : track_id, 'popularity' : popularity})\n",
    "print(track_dataframe.shape)\n",
    "track_dataframe.head(10)\n",
    "'''"
   ]
  },
  {
   "cell_type": "code",
   "execution_count": 204,
   "id": "efc1e220",
   "metadata": {},
   "outputs": [
    {
     "data": {
      "text/html": [
       "<div>\n",
       "<style scoped>\n",
       "    .dataframe tbody tr th:only-of-type {\n",
       "        vertical-align: middle;\n",
       "    }\n",
       "\n",
       "    .dataframe tbody tr th {\n",
       "        vertical-align: top;\n",
       "    }\n",
       "\n",
       "    .dataframe thead th {\n",
       "        text-align: right;\n",
       "    }\n",
       "</style>\n",
       "<table border=\"1\" class=\"dataframe\">\n",
       "  <thead>\n",
       "    <tr style=\"text-align: right;\">\n",
       "      <th></th>\n",
       "      <th>name</th>\n",
       "      <th>url</th>\n",
       "      <th>artID</th>\n",
       "      <th>userID</th>\n",
       "      <th>artistID</th>\n",
       "      <th>played</th>\n",
       "      <th>playedUserNorm</th>\n",
       "      <th>playCountScaled</th>\n",
       "    </tr>\n",
       "  </thead>\n",
       "  <tbody>\n",
       "    <tr>\n",
       "      <th>0</th>\n",
       "      <td>MALICE MIZER</td>\n",
       "      <td>http://www.last.fm/music/MALICE+MIZER</td>\n",
       "      <td>0</td>\n",
       "      <td>31</td>\n",
       "      <td>0</td>\n",
       "      <td>212</td>\n",
       "      <td>0.056</td>\n",
       "      <td>0.001</td>\n",
       "    </tr>\n",
       "    <tr>\n",
       "      <th>1</th>\n",
       "      <td>MALICE MIZER</td>\n",
       "      <td>http://www.last.fm/music/MALICE+MIZER</td>\n",
       "      <td>0</td>\n",
       "      <td>256</td>\n",
       "      <td>0</td>\n",
       "      <td>483</td>\n",
       "      <td>0.065</td>\n",
       "      <td>0.001</td>\n",
       "    </tr>\n",
       "    <tr>\n",
       "      <th>2</th>\n",
       "      <td>MALICE MIZER</td>\n",
       "      <td>http://www.last.fm/music/MALICE+MIZER</td>\n",
       "      <td>0</td>\n",
       "      <td>729</td>\n",
       "      <td>0</td>\n",
       "      <td>76</td>\n",
       "      <td>0.025</td>\n",
       "      <td>0.000</td>\n",
       "    </tr>\n",
       "    <tr>\n",
       "      <th>3</th>\n",
       "      <td>Diary of Dreams</td>\n",
       "      <td>http://www.last.fm/music/Diary+of+Dreams</td>\n",
       "      <td>1</td>\n",
       "      <td>130</td>\n",
       "      <td>1</td>\n",
       "      <td>1021</td>\n",
       "      <td>0.151</td>\n",
       "      <td>0.003</td>\n",
       "    </tr>\n",
       "    <tr>\n",
       "      <th>4</th>\n",
       "      <td>Diary of Dreams</td>\n",
       "      <td>http://www.last.fm/music/Diary+of+Dreams</td>\n",
       "      <td>1</td>\n",
       "      <td>240</td>\n",
       "      <td>1</td>\n",
       "      <td>152</td>\n",
       "      <td>0.154</td>\n",
       "      <td>0.000</td>\n",
       "    </tr>\n",
       "    <tr>\n",
       "      <th>...</th>\n",
       "      <td>...</td>\n",
       "      <td>...</td>\n",
       "      <td>...</td>\n",
       "      <td>...</td>\n",
       "      <td>...</td>\n",
       "      <td>...</td>\n",
       "      <td>...</td>\n",
       "      <td>...</td>\n",
       "    </tr>\n",
       "    <tr>\n",
       "      <th>92829</th>\n",
       "      <td>Diamanda GalÃ¡s</td>\n",
       "      <td>http://www.last.fm/music/Diamanda+Gal%C3%A1s</td>\n",
       "      <td>17627</td>\n",
       "      <td>423</td>\n",
       "      <td>17627</td>\n",
       "      <td>301</td>\n",
       "      <td>0.041</td>\n",
       "      <td>0.001</td>\n",
       "    </tr>\n",
       "    <tr>\n",
       "      <th>92830</th>\n",
       "      <td>Aya RL</td>\n",
       "      <td>http://www.last.fm/music/Aya+RL</td>\n",
       "      <td>17628</td>\n",
       "      <td>423</td>\n",
       "      <td>17628</td>\n",
       "      <td>294</td>\n",
       "      <td>0.040</td>\n",
       "      <td>0.001</td>\n",
       "    </tr>\n",
       "    <tr>\n",
       "      <th>92831</th>\n",
       "      <td>Coptic Rain</td>\n",
       "      <td>http://www.last.fm/music/Coptic+Rain</td>\n",
       "      <td>17629</td>\n",
       "      <td>423</td>\n",
       "      <td>17629</td>\n",
       "      <td>287</td>\n",
       "      <td>0.039</td>\n",
       "      <td>0.001</td>\n",
       "    </tr>\n",
       "    <tr>\n",
       "      <th>92832</th>\n",
       "      <td>Oz Alchemist</td>\n",
       "      <td>http://www.last.fm/music/Oz+Alchemist</td>\n",
       "      <td>17630</td>\n",
       "      <td>423</td>\n",
       "      <td>17630</td>\n",
       "      <td>286</td>\n",
       "      <td>0.039</td>\n",
       "      <td>0.001</td>\n",
       "    </tr>\n",
       "    <tr>\n",
       "      <th>92833</th>\n",
       "      <td>Grzegorz Tomczak</td>\n",
       "      <td>http://www.last.fm/music/Grzegorz+Tomczak</td>\n",
       "      <td>17631</td>\n",
       "      <td>547</td>\n",
       "      <td>17631</td>\n",
       "      <td>426</td>\n",
       "      <td>0.039</td>\n",
       "      <td>0.001</td>\n",
       "    </tr>\n",
       "  </tbody>\n",
       "</table>\n",
       "<p>92834 rows × 8 columns</p>\n",
       "</div>"
      ],
      "text/plain": [
       "                   name                                           url  artID  \\\n",
       "0          MALICE MIZER         http://www.last.fm/music/MALICE+MIZER      0   \n",
       "1          MALICE MIZER         http://www.last.fm/music/MALICE+MIZER      0   \n",
       "2          MALICE MIZER         http://www.last.fm/music/MALICE+MIZER      0   \n",
       "3       Diary of Dreams      http://www.last.fm/music/Diary+of+Dreams      1   \n",
       "4       Diary of Dreams      http://www.last.fm/music/Diary+of+Dreams      1   \n",
       "...                 ...                                           ...    ...   \n",
       "92829   Diamanda GalÃ¡s  http://www.last.fm/music/Diamanda+Gal%C3%A1s  17627   \n",
       "92830            Aya RL               http://www.last.fm/music/Aya+RL  17628   \n",
       "92831       Coptic Rain          http://www.last.fm/music/Coptic+Rain  17629   \n",
       "92832      Oz Alchemist         http://www.last.fm/music/Oz+Alchemist  17630   \n",
       "92833  Grzegorz Tomczak     http://www.last.fm/music/Grzegorz+Tomczak  17631   \n",
       "\n",
       "       userID  artistID  played  playedUserNorm  playCountScaled  \n",
       "0          31         0     212           0.056            0.001  \n",
       "1         256         0     483           0.065            0.001  \n",
       "2         729         0      76           0.025            0.000  \n",
       "3         130         1    1021           0.151            0.003  \n",
       "4         240         1     152           0.154            0.000  \n",
       "...       ...       ...     ...             ...              ...  \n",
       "92829     423     17627     301           0.041            0.001  \n",
       "92830     423     17628     294           0.040            0.001  \n",
       "92831     423     17629     287           0.039            0.001  \n",
       "92832     423     17630     286           0.039            0.001  \n",
       "92833     547     17631     426           0.039            0.001  \n",
       "\n",
       "[92834 rows x 8 columns]"
      ]
     },
     "execution_count": 204,
     "metadata": {},
     "output_type": "execute_result"
    }
   ],
   "source": [
    "played"
   ]
  },
  {
   "cell_type": "markdown",
   "id": "d12ea46e",
   "metadata": {},
   "source": [
    "# Evaluation"
   ]
  },
  {
   "cell_type": "markdown",
   "id": "e392a2ff",
   "metadata": {},
   "source": [
    "We will now try to evaluate our results and methods attempted so far. I will look at using methods such as Recall, Precision, Coverage and F1 to validate our methods. I feel methods such as mean absolute error (MAE) and root mean square error (RMSE) are not suitable to our data provided. These look at the difference between the actual and predicted values, which are not really applicable to the data here. The predicted artist could be number 1 and the actual artist could be 2 and this would appear as a very good result using this method. However, the difference in genres and similarity of artist could be completely different and hence the result is misleading. We will look to implement evaluation using the \"LightFM\" python library."
   ]
  },
  {
   "cell_type": "code",
   "execution_count": 205,
   "id": "9acee62a",
   "metadata": {},
   "outputs": [],
   "source": [
    "import implicit\n",
    "from tqdm import tqdm_notebook as tqdm\n",
    "import matplotlib.ticker as ticker\n",
    "from matplotlib import rc\n",
    "from pandas.api.types import CategoricalDtype\n",
    "import string\n",
    "import re\n",
    "import random\n",
    "import math\n",
    "from math import sqrt\n",
    "from math import log\n",
    "from collections import Counter, defaultdict\n",
    "from operator import itemgetter\n",
    "from pylab import rcParams\n",
    "from pylab import savefig"
   ]
  },
  {
   "cell_type": "code",
   "execution_count": 210,
   "id": "0486bfad",
   "metadata": {},
   "outputs": [],
   "source": [
    "# Create sparse matrix from dataframe object\n",
    "def create_sparse_matrix(data):\n",
    "  #get unique user ids and unique artist ids\n",
    "  users = list(np.sort(data.userID.unique()))\n",
    "  artists = list(data.artistID.unique())\n",
    "  plays = list(data.playCountScaled)\n",
    "\n",
    "  cat_type = CategoricalDtype(categories=users, ordered=True)\n",
    "  rows = data.userID.astype(cat_type).cat.codes\n",
    "\n",
    "  cat_type = CategoricalDtype(categories=artists, ordered=True)\n",
    "  cols = data.artistID.astype(cat_type).cat.codes\n",
    "  # we get the rows (user ids) and columns (artist ids) and populate them using plays\n",
    "  plays_sparse = scipy.sparse.csr_matrix((plays, (rows, cols)), shape=(len(users),len(artists)))\n",
    "  return plays_sparse"
   ]
  },
  {
   "cell_type": "code",
   "execution_count": 207,
   "id": "8a88282c",
   "metadata": {},
   "outputs": [],
   "source": [
    "# Calculate sparsity of matrix\n",
    "def calculate_sparsity(M):\n",
    "  matrix_size = float(M.shape[0] * M.shape[1]) # Number of total possible interactions between artist and user in the matrix\n",
    "  num_plays = len(M.nonzero()[0]) # Number of times any artist has been interacted with\n",
    "  sparsity = 100 * (1 - float(num_plays / matrix_size))\n",
    "  return sparsity"
   ]
  },
  {
   "cell_type": "code",
   "execution_count": 208,
   "id": "d968384a",
   "metadata": {},
   "outputs": [],
   "source": [
    "def evaluate_lightfm(model, original, train, test, user_features=None, item_features=None, n_rec = 20):\n",
    "    print(\"Evaluating LightFM...\")\n",
    "    print(\"Calculating Coverage...\")\n",
    "    catalog = []\n",
    "    for user in tqdm(range(0, original.shape[0])):\n",
    "      #get scores for this particular user for all artists\n",
    "      rec_scores = model.predict(user,np.arange(original.shape[1]),user_features=user_features, item_features=item_features)\n",
    "      #get top k items to recommend\n",
    "      rec_items = (-rec_scores).argsort()[:20]\n",
    "      #calculate coverage\n",
    "      #coverage calculation\n",
    "      for recs in rec_items:\n",
    "        if recs not in catalog:\n",
    "          catalog.append(recs)\n",
    "            \n",
    "    coverage = len(catalog)/float(original.shape[1])\n",
    "    print(\"Calculating Recall at k...\")\n",
    "    recall = recall_at_k(model, test, user_features = user_features, item_features = item_features, k = n_rec).mean()\n",
    "    print(\"Calculating Precision at k...\")\n",
    "    precision = precision_at_k(model, test, user_features = user_features, item_features = item_features, k = n_rec).mean()\n",
    "    f1 = (2 * precision * recall) / (precision + recall)\n",
    "    return coverage, precision, recall, f1"
   ]
  },
  {
   "cell_type": "code",
   "execution_count": 209,
   "id": "99fad042",
   "metadata": {},
   "outputs": [
    {
     "name": "stdout",
     "output_type": "stream",
     "text": [
      "Matrix Sparsity: 99.72171848800758\n",
      "Fitting model...\n",
      "Evaluating LightFM...\n",
      "Calculating Coverage...\n"
     ]
    },
    {
     "name": "stderr",
     "output_type": "stream",
     "text": [
      "C:\\Users\\user\\AppData\\Local\\Temp/ipykernel_21248/314659252.py:5: TqdmDeprecationWarning: This function will be removed in tqdm==5.0.0\n",
      "Please use `tqdm.notebook.tqdm` instead of `tqdm.tqdm_notebook`\n",
      "  for user in tqdm(range(0, original.shape[0])):\n"
     ]
    },
    {
     "data": {
      "application/vnd.jupyter.widget-view+json": {
       "model_id": "ac4ed9587d6443178c1400b98139bf30",
       "version_major": 2,
       "version_minor": 0
      },
      "text/plain": [
       "  0%|          | 0/1892 [00:00<?, ?it/s]"
      ]
     },
     "metadata": {},
     "output_type": "display_data"
    },
    {
     "name": "stdout",
     "output_type": "stream",
     "text": [
      "Calculating Recall at k...\n",
      "Calculating Precision at k...\n",
      "Precision: 13.849206268787384 %\n",
      "Recall: 8.068666584477983 %\n",
      "Coverage: 0.8507259528130671 %\n",
      "F1: 10.196667221368596 %\n"
     ]
    }
   ],
   "source": [
    "playedx = played[['userID','artistID', 'playedUserNorm']]\n",
    "playedx.columns = ['userID','artistID', 'playedUserNorm']\n",
    "\n",
    "#create sparse matrix\n",
    "plays_sparse_light = create_sparse_matrix(playedx).astype('float')\n",
    "print('Matrix Sparsity:', calculate_sparsity(plays_sparse_light))\n",
    "\n",
    "train_light, test_light = lightfm.cross_validation.random_train_test_split(plays_sparse_light, test_percentage = 0.7)\n",
    "model_fm_vanilla = LightFM(learning_rate=0.05, loss='bpr')\n",
    "\n",
    "#train model\n",
    "print(\"Fitting model...\")\n",
    "model_fm_vanilla.fit(train_light, epochs=10)\n",
    "\n",
    "#evaluate model\n",
    "coverage, precision, recall, f1 = evaluate_lightfm(model_fm_vanilla, plays_sparse_light, train_light, test_light)\n",
    "print(\"Precision:\", precision * 100, '%')\n",
    "print(\"Recall:\", recall * 100, '%')\n",
    "print(\"Coverage:\", coverage * 100, '%')\n",
    "print(\"F1:\", f1 * 100, '%')"
   ]
  },
  {
   "cell_type": "code",
   "execution_count": 211,
   "id": "8d17b581",
   "metadata": {},
   "outputs": [
    {
     "name": "stdout",
     "output_type": "stream",
     "text": [
      "Matrix Sparsity: 99.72362497745786\n",
      "Fitting model...\n",
      "Evaluating LightFM...\n",
      "Calculating Coverage...\n"
     ]
    },
    {
     "name": "stderr",
     "output_type": "stream",
     "text": [
      "C:\\Users\\user\\AppData\\Local\\Temp/ipykernel_21248/314659252.py:5: TqdmDeprecationWarning: This function will be removed in tqdm==5.0.0\n",
      "Please use `tqdm.notebook.tqdm` instead of `tqdm.tqdm_notebook`\n",
      "  for user in tqdm(range(0, original.shape[0])):\n"
     ]
    },
    {
     "data": {
      "application/vnd.jupyter.widget-view+json": {
       "model_id": "83d99c9437d74d858f0dcf027c08466d",
       "version_major": 2,
       "version_minor": 0
      },
      "text/plain": [
       "  0%|          | 0/1892 [00:00<?, ?it/s]"
      ]
     },
     "metadata": {},
     "output_type": "display_data"
    },
    {
     "name": "stdout",
     "output_type": "stream",
     "text": [
      "Calculating Recall at k...\n",
      "Calculating Precision at k...\n",
      "Precision: 11.481481790542603 %\n",
      "Recall: 6.7381535764321185 %\n",
      "Coverage: 0.6749092558983666 %\n",
      "F1: 8.492374960468903 %\n"
     ]
    }
   ],
   "source": [
    "playedx = played[['userID','artistID', 'playCountScaled']]\n",
    "playedx.columns = ['userID','artistID', 'playCountScaled']\n",
    "\n",
    "#create sparse matrix\n",
    "plays_sparse_light = create_sparse_matrix(playedx).astype('float')\n",
    "print('Matrix Sparsity:', calculate_sparsity(plays_sparse_light))\n",
    "\n",
    "train_light, test_light = lightfm.cross_validation.random_train_test_split(plays_sparse_light, test_percentage = 0.7)\n",
    "model_fm_vanilla = LightFM(learning_rate=0.05, loss='bpr')\n",
    "\n",
    "#train model\n",
    "print(\"Fitting model...\")\n",
    "model_fm_vanilla.fit(train_light, epochs=10)\n",
    "\n",
    "#evaluate model\n",
    "coverage, precision, recall, f1 = evaluate_lightfm(model_fm_vanilla, plays_sparse_light, train_light, test_light)\n",
    "print(\"Precision:\", precision * 100, '%')\n",
    "print(\"Recall:\", recall * 100, '%')\n",
    "print(\"Coverage:\", coverage * 100, '%')\n",
    "print(\"F1:\", f1 * 100, '%')"
   ]
  },
  {
   "cell_type": "markdown",
   "id": "f7e87626",
   "metadata": {},
   "source": [
    "Our chosen accuracy when normalising with each user's max score is better than our play count scaled metric."
   ]
  },
  {
   "cell_type": "code",
   "execution_count": null,
   "id": "f3b53f6b",
   "metadata": {},
   "outputs": [],
   "source": []
  }
 ],
 "metadata": {
  "kernelspec": {
   "display_name": "Python 3 (ipykernel)",
   "language": "python",
   "name": "python3"
  },
  "language_info": {
   "codemirror_mode": {
    "name": "ipython",
    "version": 3
   },
   "file_extension": ".py",
   "mimetype": "text/x-python",
   "name": "python",
   "nbconvert_exporter": "python",
   "pygments_lexer": "ipython3",
   "version": "3.8.12"
  }
 },
 "nbformat": 4,
 "nbformat_minor": 5
}
