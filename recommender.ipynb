{
 "cells": [
  {
   "cell_type": "code",
   "execution_count": 1,
   "id": "6859afc9",
   "metadata": {},
   "outputs": [
    {
     "name": "stdout",
     "output_type": "stream",
     "text": [
      "WARNING:tensorflow:From C:\\Users\\user\\anaconda3\\lib\\site-packages\\tensorflow\\python\\compat\\v2_compat.py:96: disable_resource_variables (from tensorflow.python.ops.variable_scope) is deprecated and will be removed in a future version.\n",
      "Instructions for updating:\n",
      "non-resource variables are not supported in the long term\n"
     ]
    }
   ],
   "source": [
    "from __future__ import print_function\n",
    "\n",
    "import numpy as np\n",
    "import pandas as pd\n",
    "import collections\n",
    "from mpl_toolkits.mplot3d import Axes3D\n",
    "from IPython import display\n",
    "from matplotlib import pyplot as plt\n",
    "import sklearn\n",
    "import sklearn.manifold\n",
    "import tensorflow.compat.v1 as tf\n",
    "tf.disable_v2_behavior()\n",
    "tf.logging.set_verbosity(tf.logging.ERROR)"
   ]
  },
  {
   "cell_type": "code",
   "execution_count": 2,
   "id": "1f29d7a1",
   "metadata": {},
   "outputs": [
    {
     "name": "stderr",
     "output_type": "stream",
     "text": [
      "C:\\Users\\user\\anaconda3\\lib\\site-packages\\lightfm\\_lightfm_fast.py:9: UserWarning: LightFM was compiled without OpenMP support. Only a single thread will be used.\n",
      "  warnings.warn(\n"
     ]
    }
   ],
   "source": [
    "from sklearn.model_selection import train_test_split\n",
    "from sklearn.metrics import accuracy_score\n",
    "from sklearn.metrics import mean_squared_error\n",
    "from collections import Counter, defaultdict\n",
    "from operator import itemgetter\n",
    "import tensorflow as tf\n",
    "from tensorflow import keras\n",
    "from pylab import rcParams\n",
    "from pylab import savefig\n",
    "import lightfm\n",
    "from lightfm import LightFM\n",
    "from lightfm.data import Dataset\n",
    "from lightfm import cross_validation\n",
    "from lightfm.evaluation import precision_at_k\n",
    "from lightfm.evaluation import recall_at_k\n",
    "from lightfm.cross_validation import random_train_test_split\n",
    "import numpy as np\n",
    "from scipy.sparse import csr_matrix\n",
    "import scipy"
   ]
  },
  {
   "cell_type": "code",
   "execution_count": 3,
   "id": "0b617dce",
   "metadata": {},
   "outputs": [
    {
     "name": "stdout",
     "output_type": "stream",
     "text": [
      "Imported seaborn libraries!\n"
     ]
    }
   ],
   "source": [
    "import matplotlib.pyplot as plt  # Matlab-style plotting\n",
    "from IPython.display import display\n",
    "import seaborn as sns\n",
    "print(\"Imported seaborn libraries!\")"
   ]
  },
  {
   "cell_type": "code",
   "execution_count": 4,
   "id": "2907ba1d",
   "metadata": {},
   "outputs": [],
   "source": [
    "# @title Imports (run this cell)\n",
    "from __future__ import print_function\n",
    "\n",
    "import numpy as np\n",
    "import pandas as pd\n",
    "import collections\n",
    "from mpl_toolkits.mplot3d import Axes3D\n",
    "from IPython import display\n",
    "from matplotlib import pyplot as plt\n",
    "import sklearn\n",
    "import sklearn.manifold\n",
    "import tensorflow.compat.v1 as tf\n",
    "tf.disable_v2_behavior()\n",
    "tf.logging.set_verbosity(tf.logging.ERROR)\n",
    "\n",
    "# Add some convenience functions to Pandas DataFrame.\n",
    "pd.options.display.max_rows = 10\n",
    "pd.options.display.float_format = '{:.3f}'.format\n",
    "def mask(df, key, function):\n",
    "  \"\"\"Returns a filtered dataframe, by applying function to key\"\"\"\n",
    "  return df[function(df[key])]\n",
    "\n",
    "def flatten_cols(df):\n",
    "  df.columns = [' '.join(col).strip() for col in df.columns.values]\n",
    "  return df\n",
    "\n",
    "pd.DataFrame.mask = mask\n",
    "pd.DataFrame.flatten_cols = flatten_cols\n",
    "\n",
    "# Install Altair and activate its colab renderer.\n",
    "#print(\"Installing Altair...\")\n",
    "#!pip install git+git://github.com/altair-viz/altair.git\n",
    "#import altair as alt\n",
    "#alt.data_transformers.enable('default', max_rows=None)\n",
    "#alt.renderers.enable('colab')\n",
    "#print(\"Done installing Altair.\")\n",
    "\n",
    "# Install spreadsheets and import authentication module.\n",
    "#USER_RATINGS = False\n",
    "#!pip install --upgrade -q gspread\n",
    "#from google.colab import auth\n",
    "#import gspread\n",
    "#from oauth2client.client import GoogleCredentials"
   ]
  },
  {
   "cell_type": "code",
   "execution_count": 5,
   "id": "1bea2a0d",
   "metadata": {},
   "outputs": [],
   "source": [
    "import numpy as np\n",
    "import pandas as pd\n",
    "import matplotlib.pyplot as plt\n",
    "import os\n",
    "import warnings\n",
    "\n",
    "from keras.layers import Input, Embedding, Flatten, Dot, Dense, Concatenate\n",
    "from keras.models import Model"
   ]
  },
  {
   "cell_type": "markdown",
   "id": "32ff44ac",
   "metadata": {},
   "source": [
    "Firstly, I converted my data files from .dat to .csv format. I did this via excel using the data tab and it's \"get external data\" option and extracted it from text. All the delimiting was done by default and I had my files in a delimited format."
   ]
  },
  {
   "cell_type": "code",
   "execution_count": 6,
   "id": "e612c1ae",
   "metadata": {},
   "outputs": [
    {
     "data": {
      "text/html": [
       "<div>\n",
       "<style scoped>\n",
       "    .dataframe tbody tr th:only-of-type {\n",
       "        vertical-align: middle;\n",
       "    }\n",
       "\n",
       "    .dataframe tbody tr th {\n",
       "        vertical-align: top;\n",
       "    }\n",
       "\n",
       "    .dataframe thead th {\n",
       "        text-align: right;\n",
       "    }\n",
       "</style>\n",
       "<table border=\"1\" class=\"dataframe\">\n",
       "  <thead>\n",
       "    <tr style=\"text-align: right;\">\n",
       "      <th></th>\n",
       "      <th>id</th>\n",
       "      <th>name</th>\n",
       "      <th>url</th>\n",
       "      <th>pictureURL</th>\n",
       "    </tr>\n",
       "  </thead>\n",
       "  <tbody>\n",
       "    <tr>\n",
       "      <th>0</th>\n",
       "      <td>1</td>\n",
       "      <td>MALICE MIZER</td>\n",
       "      <td>http://www.last.fm/music/MALICE+MIZER</td>\n",
       "      <td>http://userserve-ak.last.fm/serve/252/10808.jpg</td>\n",
       "    </tr>\n",
       "    <tr>\n",
       "      <th>1</th>\n",
       "      <td>2</td>\n",
       "      <td>Diary of Dreams</td>\n",
       "      <td>http://www.last.fm/music/Diary+of+Dreams</td>\n",
       "      <td>http://userserve-ak.last.fm/serve/252/3052066.jpg</td>\n",
       "    </tr>\n",
       "    <tr>\n",
       "      <th>2</th>\n",
       "      <td>3</td>\n",
       "      <td>Carpathian Forest</td>\n",
       "      <td>http://www.last.fm/music/Carpathian+Forest</td>\n",
       "      <td>http://userserve-ak.last.fm/serve/252/40222717...</td>\n",
       "    </tr>\n",
       "    <tr>\n",
       "      <th>3</th>\n",
       "      <td>4</td>\n",
       "      <td>Moi dix Mois</td>\n",
       "      <td>http://www.last.fm/music/Moi+dix+Mois</td>\n",
       "      <td>http://userserve-ak.last.fm/serve/252/54697835...</td>\n",
       "    </tr>\n",
       "    <tr>\n",
       "      <th>4</th>\n",
       "      <td>5</td>\n",
       "      <td>Bella Morte</td>\n",
       "      <td>http://www.last.fm/music/Bella+Morte</td>\n",
       "      <td>http://userserve-ak.last.fm/serve/252/14789013...</td>\n",
       "    </tr>\n",
       "    <tr>\n",
       "      <th>...</th>\n",
       "      <td>...</td>\n",
       "      <td>...</td>\n",
       "      <td>...</td>\n",
       "      <td>...</td>\n",
       "    </tr>\n",
       "    <tr>\n",
       "      <th>17627</th>\n",
       "      <td>18741</td>\n",
       "      <td>Diamanda GalÃ¡s</td>\n",
       "      <td>http://www.last.fm/music/Diamanda+Gal%C3%A1s</td>\n",
       "      <td>http://userserve-ak.last.fm/serve/252/16352971...</td>\n",
       "    </tr>\n",
       "    <tr>\n",
       "      <th>17628</th>\n",
       "      <td>18742</td>\n",
       "      <td>Aya RL</td>\n",
       "      <td>http://www.last.fm/music/Aya+RL</td>\n",
       "      <td>http://userserve-ak.last.fm/serve/252/207445.jpg</td>\n",
       "    </tr>\n",
       "    <tr>\n",
       "      <th>17629</th>\n",
       "      <td>18743</td>\n",
       "      <td>Coptic Rain</td>\n",
       "      <td>http://www.last.fm/music/Coptic+Rain</td>\n",
       "      <td>http://userserve-ak.last.fm/serve/252/344868.jpg</td>\n",
       "    </tr>\n",
       "    <tr>\n",
       "      <th>17630</th>\n",
       "      <td>18744</td>\n",
       "      <td>Oz Alchemist</td>\n",
       "      <td>http://www.last.fm/music/Oz+Alchemist</td>\n",
       "      <td>http://userserve-ak.last.fm/serve/252/29297695...</td>\n",
       "    </tr>\n",
       "    <tr>\n",
       "      <th>17631</th>\n",
       "      <td>18745</td>\n",
       "      <td>Grzegorz Tomczak</td>\n",
       "      <td>http://www.last.fm/music/Grzegorz+Tomczak</td>\n",
       "      <td>http://userserve-ak.last.fm/serve/252/59486303...</td>\n",
       "    </tr>\n",
       "  </tbody>\n",
       "</table>\n",
       "<p>17632 rows × 4 columns</p>\n",
       "</div>"
      ],
      "text/plain": [
       "          id               name                                           url  \\\n",
       "0          1       MALICE MIZER         http://www.last.fm/music/MALICE+MIZER   \n",
       "1          2    Diary of Dreams      http://www.last.fm/music/Diary+of+Dreams   \n",
       "2          3  Carpathian Forest    http://www.last.fm/music/Carpathian+Forest   \n",
       "3          4       Moi dix Mois         http://www.last.fm/music/Moi+dix+Mois   \n",
       "4          5        Bella Morte          http://www.last.fm/music/Bella+Morte   \n",
       "...      ...                ...                                           ...   \n",
       "17627  18741    Diamanda GalÃ¡s  http://www.last.fm/music/Diamanda+Gal%C3%A1s   \n",
       "17628  18742             Aya RL               http://www.last.fm/music/Aya+RL   \n",
       "17629  18743        Coptic Rain          http://www.last.fm/music/Coptic+Rain   \n",
       "17630  18744       Oz Alchemist         http://www.last.fm/music/Oz+Alchemist   \n",
       "17631  18745   Grzegorz Tomczak     http://www.last.fm/music/Grzegorz+Tomczak   \n",
       "\n",
       "                                              pictureURL  \n",
       "0        http://userserve-ak.last.fm/serve/252/10808.jpg  \n",
       "1      http://userserve-ak.last.fm/serve/252/3052066.jpg  \n",
       "2      http://userserve-ak.last.fm/serve/252/40222717...  \n",
       "3      http://userserve-ak.last.fm/serve/252/54697835...  \n",
       "4      http://userserve-ak.last.fm/serve/252/14789013...  \n",
       "...                                                  ...  \n",
       "17627  http://userserve-ak.last.fm/serve/252/16352971...  \n",
       "17628   http://userserve-ak.last.fm/serve/252/207445.jpg  \n",
       "17629   http://userserve-ak.last.fm/serve/252/344868.jpg  \n",
       "17630  http://userserve-ak.last.fm/serve/252/29297695...  \n",
       "17631  http://userserve-ak.last.fm/serve/252/59486303...  \n",
       "\n",
       "[17632 rows x 4 columns]"
      ]
     },
     "execution_count": 6,
     "metadata": {},
     "output_type": "execute_result"
    }
   ],
   "source": [
    "df = pd.read_csv(\"data/hetrec2011-lastfm-2k/artists.csv\")\n",
    "df"
   ]
  },
  {
   "cell_type": "code",
   "execution_count": 7,
   "id": "4b87f5f4",
   "metadata": {},
   "outputs": [
    {
     "data": {
      "text/plain": [
       "965"
      ]
     },
     "execution_count": 7,
     "metadata": {},
     "output_type": "execute_result"
    }
   ],
   "source": [
    "df['id'] = pd.to_numeric(df['id'])\n",
    "lst = []\n",
    "m = np.array(df['id'])\n",
    "for i in range(0,17632):\n",
    "    #print(i)\n",
    "    if i not in df.id.values:\n",
    "        lst.append(i)\n",
    "\n",
    "len(lst)"
   ]
  },
  {
   "cell_type": "code",
   "execution_count": 8,
   "id": "4d8b1171",
   "metadata": {},
   "outputs": [],
   "source": [
    "newart = []\n",
    "for i in range(0, 17632):\n",
    "    newart.append(i)"
   ]
  },
  {
   "cell_type": "code",
   "execution_count": 9,
   "id": "4ba700a7",
   "metadata": {},
   "outputs": [],
   "source": [
    "newart = np.array(newart)\n",
    "df['artID'] = newart.tolist()"
   ]
  },
  {
   "cell_type": "code",
   "execution_count": 10,
   "id": "7badda76",
   "metadata": {},
   "outputs": [
    {
     "data": {
      "text/html": [
       "<div>\n",
       "<style scoped>\n",
       "    .dataframe tbody tr th:only-of-type {\n",
       "        vertical-align: middle;\n",
       "    }\n",
       "\n",
       "    .dataframe tbody tr th {\n",
       "        vertical-align: top;\n",
       "    }\n",
       "\n",
       "    .dataframe thead th {\n",
       "        text-align: right;\n",
       "    }\n",
       "</style>\n",
       "<table border=\"1\" class=\"dataframe\">\n",
       "  <thead>\n",
       "    <tr style=\"text-align: right;\">\n",
       "      <th></th>\n",
       "      <th>name</th>\n",
       "      <th>url</th>\n",
       "      <th>pictureURL</th>\n",
       "      <th>artID</th>\n",
       "    </tr>\n",
       "  </thead>\n",
       "  <tbody>\n",
       "    <tr>\n",
       "      <th>0</th>\n",
       "      <td>MALICE MIZER</td>\n",
       "      <td>http://www.last.fm/music/MALICE+MIZER</td>\n",
       "      <td>http://userserve-ak.last.fm/serve/252/10808.jpg</td>\n",
       "      <td>0</td>\n",
       "    </tr>\n",
       "    <tr>\n",
       "      <th>1</th>\n",
       "      <td>Diary of Dreams</td>\n",
       "      <td>http://www.last.fm/music/Diary+of+Dreams</td>\n",
       "      <td>http://userserve-ak.last.fm/serve/252/3052066.jpg</td>\n",
       "      <td>1</td>\n",
       "    </tr>\n",
       "    <tr>\n",
       "      <th>2</th>\n",
       "      <td>Carpathian Forest</td>\n",
       "      <td>http://www.last.fm/music/Carpathian+Forest</td>\n",
       "      <td>http://userserve-ak.last.fm/serve/252/40222717...</td>\n",
       "      <td>2</td>\n",
       "    </tr>\n",
       "    <tr>\n",
       "      <th>3</th>\n",
       "      <td>Moi dix Mois</td>\n",
       "      <td>http://www.last.fm/music/Moi+dix+Mois</td>\n",
       "      <td>http://userserve-ak.last.fm/serve/252/54697835...</td>\n",
       "      <td>3</td>\n",
       "    </tr>\n",
       "    <tr>\n",
       "      <th>4</th>\n",
       "      <td>Bella Morte</td>\n",
       "      <td>http://www.last.fm/music/Bella+Morte</td>\n",
       "      <td>http://userserve-ak.last.fm/serve/252/14789013...</td>\n",
       "      <td>4</td>\n",
       "    </tr>\n",
       "  </tbody>\n",
       "</table>\n",
       "</div>"
      ],
      "text/plain": [
       "                name                                         url  \\\n",
       "0       MALICE MIZER       http://www.last.fm/music/MALICE+MIZER   \n",
       "1    Diary of Dreams    http://www.last.fm/music/Diary+of+Dreams   \n",
       "2  Carpathian Forest  http://www.last.fm/music/Carpathian+Forest   \n",
       "3       Moi dix Mois       http://www.last.fm/music/Moi+dix+Mois   \n",
       "4        Bella Morte        http://www.last.fm/music/Bella+Morte   \n",
       "\n",
       "                                          pictureURL  artID  \n",
       "0    http://userserve-ak.last.fm/serve/252/10808.jpg      0  \n",
       "1  http://userserve-ak.last.fm/serve/252/3052066.jpg      1  \n",
       "2  http://userserve-ak.last.fm/serve/252/40222717...      2  \n",
       "3  http://userserve-ak.last.fm/serve/252/54697835...      3  \n",
       "4  http://userserve-ak.last.fm/serve/252/14789013...      4  "
      ]
     },
     "execution_count": 10,
     "metadata": {},
     "output_type": "execute_result"
    }
   ],
   "source": [
    "df.drop(columns=['id'], inplace=True)\n",
    "df.head()"
   ]
  },
  {
   "cell_type": "markdown",
   "id": "1df5cbe5",
   "metadata": {},
   "source": [
    "There appears to be some unclean names such as \"Diamanda GalÃ¡s\" among others just taking an initial look at the data here."
   ]
  },
  {
   "cell_type": "code",
   "execution_count": 11,
   "id": "b4904c2d",
   "metadata": {},
   "outputs": [
    {
     "data": {
      "text/html": [
       "<div>\n",
       "<style scoped>\n",
       "    .dataframe tbody tr th:only-of-type {\n",
       "        vertical-align: middle;\n",
       "    }\n",
       "\n",
       "    .dataframe tbody tr th {\n",
       "        vertical-align: top;\n",
       "    }\n",
       "\n",
       "    .dataframe thead th {\n",
       "        text-align: right;\n",
       "    }\n",
       "</style>\n",
       "<table border=\"1\" class=\"dataframe\">\n",
       "  <thead>\n",
       "    <tr style=\"text-align: right;\">\n",
       "      <th></th>\n",
       "      <th>tagID</th>\n",
       "      <th>tagValue</th>\n",
       "    </tr>\n",
       "  </thead>\n",
       "  <tbody>\n",
       "    <tr>\n",
       "      <th>0</th>\n",
       "      <td>1</td>\n",
       "      <td>metal</td>\n",
       "    </tr>\n",
       "    <tr>\n",
       "      <th>1</th>\n",
       "      <td>2</td>\n",
       "      <td>alternative metal</td>\n",
       "    </tr>\n",
       "    <tr>\n",
       "      <th>2</th>\n",
       "      <td>3</td>\n",
       "      <td>goth rock</td>\n",
       "    </tr>\n",
       "    <tr>\n",
       "      <th>3</th>\n",
       "      <td>4</td>\n",
       "      <td>black metal</td>\n",
       "    </tr>\n",
       "    <tr>\n",
       "      <th>4</th>\n",
       "      <td>5</td>\n",
       "      <td>death metal</td>\n",
       "    </tr>\n",
       "    <tr>\n",
       "      <th>...</th>\n",
       "      <td>...</td>\n",
       "      <td>...</td>\n",
       "    </tr>\n",
       "    <tr>\n",
       "      <th>11941</th>\n",
       "      <td>12644</td>\n",
       "      <td>suomi</td>\n",
       "    </tr>\n",
       "    <tr>\n",
       "      <th>11942</th>\n",
       "      <td>12645</td>\n",
       "      <td>symbiosis</td>\n",
       "    </tr>\n",
       "    <tr>\n",
       "      <th>11943</th>\n",
       "      <td>12646</td>\n",
       "      <td>sverige</td>\n",
       "    </tr>\n",
       "    <tr>\n",
       "      <th>11944</th>\n",
       "      <td>12647</td>\n",
       "      <td>eire</td>\n",
       "    </tr>\n",
       "    <tr>\n",
       "      <th>11945</th>\n",
       "      <td>12648</td>\n",
       "      <td>electro latino</td>\n",
       "    </tr>\n",
       "  </tbody>\n",
       "</table>\n",
       "<p>11946 rows × 2 columns</p>\n",
       "</div>"
      ],
      "text/plain": [
       "       tagID           tagValue\n",
       "0          1              metal\n",
       "1          2  alternative metal\n",
       "2          3          goth rock\n",
       "3          4        black metal\n",
       "4          5        death metal\n",
       "...      ...                ...\n",
       "11941  12644              suomi\n",
       "11942  12645          symbiosis\n",
       "11943  12646            sverige\n",
       "11944  12647               eire\n",
       "11945  12648     electro latino\n",
       "\n",
       "[11946 rows x 2 columns]"
      ]
     },
     "execution_count": 11,
     "metadata": {},
     "output_type": "execute_result"
    }
   ],
   "source": [
    "df1 = pd.read_csv(\"data/hetrec2011-lastfm-2k/tags.csv\")\n",
    "df1"
   ]
  },
  {
   "cell_type": "code",
   "execution_count": 12,
   "id": "372d8f1a",
   "metadata": {},
   "outputs": [
    {
     "data": {
      "text/html": [
       "<div>\n",
       "<style scoped>\n",
       "    .dataframe tbody tr th:only-of-type {\n",
       "        vertical-align: middle;\n",
       "    }\n",
       "\n",
       "    .dataframe tbody tr th {\n",
       "        vertical-align: top;\n",
       "    }\n",
       "\n",
       "    .dataframe thead th {\n",
       "        text-align: right;\n",
       "    }\n",
       "</style>\n",
       "<table border=\"1\" class=\"dataframe\">\n",
       "  <thead>\n",
       "    <tr style=\"text-align: right;\">\n",
       "      <th></th>\n",
       "      <th>userID</th>\n",
       "      <th>artistID</th>\n",
       "      <th>weight</th>\n",
       "    </tr>\n",
       "  </thead>\n",
       "  <tbody>\n",
       "    <tr>\n",
       "      <th>0</th>\n",
       "      <td>2</td>\n",
       "      <td>51</td>\n",
       "      <td>13883</td>\n",
       "    </tr>\n",
       "    <tr>\n",
       "      <th>1</th>\n",
       "      <td>2</td>\n",
       "      <td>52</td>\n",
       "      <td>11690</td>\n",
       "    </tr>\n",
       "    <tr>\n",
       "      <th>2</th>\n",
       "      <td>2</td>\n",
       "      <td>53</td>\n",
       "      <td>11351</td>\n",
       "    </tr>\n",
       "    <tr>\n",
       "      <th>3</th>\n",
       "      <td>2</td>\n",
       "      <td>54</td>\n",
       "      <td>10300</td>\n",
       "    </tr>\n",
       "    <tr>\n",
       "      <th>4</th>\n",
       "      <td>2</td>\n",
       "      <td>55</td>\n",
       "      <td>8983</td>\n",
       "    </tr>\n",
       "    <tr>\n",
       "      <th>...</th>\n",
       "      <td>...</td>\n",
       "      <td>...</td>\n",
       "      <td>...</td>\n",
       "    </tr>\n",
       "    <tr>\n",
       "      <th>92829</th>\n",
       "      <td>2100</td>\n",
       "      <td>18726</td>\n",
       "      <td>337</td>\n",
       "    </tr>\n",
       "    <tr>\n",
       "      <th>92830</th>\n",
       "      <td>2100</td>\n",
       "      <td>18727</td>\n",
       "      <td>297</td>\n",
       "    </tr>\n",
       "    <tr>\n",
       "      <th>92831</th>\n",
       "      <td>2100</td>\n",
       "      <td>18728</td>\n",
       "      <td>281</td>\n",
       "    </tr>\n",
       "    <tr>\n",
       "      <th>92832</th>\n",
       "      <td>2100</td>\n",
       "      <td>18729</td>\n",
       "      <td>280</td>\n",
       "    </tr>\n",
       "    <tr>\n",
       "      <th>92833</th>\n",
       "      <td>2100</td>\n",
       "      <td>18730</td>\n",
       "      <td>263</td>\n",
       "    </tr>\n",
       "  </tbody>\n",
       "</table>\n",
       "<p>92834 rows × 3 columns</p>\n",
       "</div>"
      ],
      "text/plain": [
       "       userID  artistID  weight\n",
       "0           2        51   13883\n",
       "1           2        52   11690\n",
       "2           2        53   11351\n",
       "3           2        54   10300\n",
       "4           2        55    8983\n",
       "...       ...       ...     ...\n",
       "92829    2100     18726     337\n",
       "92830    2100     18727     297\n",
       "92831    2100     18728     281\n",
       "92832    2100     18729     280\n",
       "92833    2100     18730     263\n",
       "\n",
       "[92834 rows x 3 columns]"
      ]
     },
     "execution_count": 12,
     "metadata": {},
     "output_type": "execute_result"
    }
   ],
   "source": [
    "df2 = pd.read_csv(\"data/hetrec2011-lastfm-2k/user_artists.csv\")\n",
    "df2"
   ]
  },
  {
   "cell_type": "code",
   "execution_count": 13,
   "id": "270f0df0",
   "metadata": {},
   "outputs": [
    {
     "data": {
      "text/plain": [
       "1"
      ]
     },
     "execution_count": 13,
     "metadata": {},
     "output_type": "execute_result"
    }
   ],
   "source": [
    "df2['artistID'].min()"
   ]
  },
  {
   "cell_type": "code",
   "execution_count": 14,
   "id": "10f76737",
   "metadata": {},
   "outputs": [],
   "source": [
    "# Since the ids start at 2, we get them to start at 0. We also need to have the max value 1 less than the no of unique values.\n",
    "df2[\"userID\"] = df2[\"userID\"].apply(lambda x: str(x-2))\n",
    "df2[\"artistID\"] = df2[\"artistID\"].apply(lambda x: str(x-1))"
   ]
  },
  {
   "cell_type": "code",
   "execution_count": 15,
   "id": "08e3a59b",
   "metadata": {},
   "outputs": [],
   "source": [
    "df2['userID'] = df2['userID'].astype(int)\n",
    "xyz =  np.array(df2['userID'])\n",
    "#zzz = np.array(played['userID'])\n",
    "vals = []\n",
    "for i in range(len(xyz)):\n",
    "    v = xyz[i]\n",
    "    if v not in vals:\n",
    "        vals.append(v)\n",
    "    else:\n",
    "        continue"
   ]
  },
  {
   "cell_type": "code",
   "execution_count": 16,
   "id": "ff006421",
   "metadata": {},
   "outputs": [
    {
     "data": {
      "text/plain": [
       "2098"
      ]
     },
     "execution_count": 16,
     "metadata": {},
     "output_type": "execute_result"
    }
   ],
   "source": [
    "vals[-1]"
   ]
  },
  {
   "cell_type": "code",
   "execution_count": 17,
   "id": "de4539ae",
   "metadata": {},
   "outputs": [
    {
     "data": {
      "text/plain": [
       "2098"
      ]
     },
     "execution_count": 17,
     "metadata": {},
     "output_type": "execute_result"
    }
   ],
   "source": [
    "unique_list = list(set(vals))\n",
    "unique_list.sort()\n",
    "unique_list[-1]"
   ]
  },
  {
   "cell_type": "code",
   "execution_count": 18,
   "id": "0ab9e06d",
   "metadata": {},
   "outputs": [
    {
     "data": {
      "text/plain": [
       "1891"
      ]
     },
     "execution_count": 18,
     "metadata": {},
     "output_type": "execute_result"
    }
   ],
   "source": [
    "usenew = []\n",
    "for i in range(0, 1892):\n",
    "    usenew.append(i)\n",
    "\n",
    "usenew[-1]"
   ]
  },
  {
   "cell_type": "code",
   "execution_count": 19,
   "id": "0ce55bc3",
   "metadata": {},
   "outputs": [
    {
     "name": "stdout",
     "output_type": "stream",
     "text": [
      "{0: 0, 1: 1, 2: 2, 3: 3, 4: 4, 5: 5, 6: 6, 7: 7, 8: 8, 9: 9, 10: 10, 11: 11, 12: 12, 13: 13, 14: 14, 15: 15, 16: 16, 18: 17, 19: 18, 20: 19, 21: 20, 22: 21, 23: 22, 24: 23, 25: 24, 26: 25, 27: 26, 28: 27, 29: 28, 30: 29, 31: 30, 32: 31, 33: 32, 34: 33, 35: 34, 36: 35, 37: 36, 38: 37, 39: 38, 40: 39, 41: 40, 42: 41, 43: 42, 44: 43, 45: 44, 46: 45, 47: 46, 48: 47, 49: 48, 50: 49, 51: 50, 52: 51, 53: 52, 54: 53, 55: 54, 56: 55, 57: 56, 58: 57, 59: 58, 60: 59, 61: 60, 62: 61, 63: 62, 64: 63, 66: 64, 67: 65, 68: 66, 69: 67, 70: 68, 71: 69, 72: 70, 73: 71, 74: 72, 75: 73, 76: 74, 77: 75, 78: 76, 79: 77, 80: 78, 81: 79, 82: 80, 83: 81, 84: 82, 85: 83, 86: 84, 87: 85, 88: 86, 89: 87, 90: 88, 92: 89, 93: 90, 94: 91, 95: 92, 96: 93, 97: 94, 98: 95, 99: 96, 100: 97, 101: 98, 102: 99, 103: 100, 104: 101, 105: 102, 106: 103, 107: 104, 108: 105, 109: 106, 110: 107, 111: 108, 112: 109, 113: 110, 114: 111, 115: 112, 116: 113, 117: 114, 118: 115, 119: 116, 120: 117, 121: 118, 122: 119, 123: 120, 124: 121, 125: 122, 126: 123, 127: 124, 128: 125, 129: 126, 130: 127, 131: 128, 132: 129, 133: 130, 134: 131, 135: 132, 137: 133, 138: 134, 139: 135, 140: 136, 141: 137, 142: 138, 143: 139, 144: 140, 145: 141, 146: 142, 147: 143, 148: 144, 149: 145, 150: 146, 151: 147, 152: 148, 153: 149, 154: 150, 155: 151, 156: 152, 157: 153, 159: 154, 160: 155, 161: 156, 162: 157, 164: 158, 166: 159, 168: 160, 169: 161, 170: 162, 171: 163, 172: 164, 173: 165, 174: 166, 175: 167, 176: 168, 177: 169, 178: 170, 179: 171, 180: 172, 181: 173, 182: 174, 183: 175, 184: 176, 185: 177, 186: 178, 187: 179, 188: 180, 189: 181, 190: 182, 191: 183, 192: 184, 193: 185, 194: 186, 196: 187, 198: 188, 199: 189, 200: 190, 201: 191, 202: 192, 203: 193, 204: 194, 205: 195, 206: 196, 207: 197, 208: 198, 209: 199, 210: 200, 211: 201, 212: 202, 213: 203, 214: 204, 215: 205, 216: 206, 217: 207, 218: 208, 221: 209, 222: 210, 223: 211, 224: 212, 225: 213, 226: 214, 227: 215, 228: 216, 229: 217, 230: 218, 231: 219, 232: 220, 233: 221, 234: 222, 235: 223, 236: 224, 238: 225, 239: 226, 240: 227, 241: 228, 242: 229, 245: 230, 246: 231, 247: 232, 248: 233, 249: 234, 250: 235, 251: 236, 252: 237, 253: 238, 254: 239, 255: 240, 256: 241, 257: 242, 258: 243, 259: 244, 260: 245, 261: 246, 262: 247, 263: 248, 264: 249, 265: 250, 266: 251, 267: 252, 268: 253, 269: 254, 271: 255, 272: 256, 273: 257, 275: 258, 276: 259, 277: 260, 278: 261, 279: 262, 280: 263, 281: 264, 282: 265, 283: 266, 284: 267, 286: 268, 287: 269, 288: 270, 289: 271, 290: 272, 291: 273, 292: 274, 293: 275, 294: 276, 295: 277, 296: 278, 297: 279, 298: 280, 299: 281, 300: 282, 301: 283, 302: 284, 303: 285, 304: 286, 305: 287, 306: 288, 308: 289, 309: 290, 310: 291, 311: 292, 312: 293, 313: 294, 314: 295, 315: 296, 316: 297, 317: 298, 318: 299, 319: 300, 320: 301, 322: 302, 323: 303, 324: 304, 325: 305, 326: 306, 327: 307, 328: 308, 329: 309, 330: 310, 331: 311, 332: 312, 333: 313, 334: 314, 335: 315, 336: 316, 337: 317, 338: 318, 339: 319, 340: 320, 341: 321, 342: 322, 343: 323, 344: 324, 345: 325, 346: 326, 347: 327, 348: 328, 349: 329, 350: 330, 351: 331, 352: 332, 353: 333, 354: 334, 355: 335, 356: 336, 357: 337, 358: 338, 359: 339, 360: 340, 361: 341, 362: 342, 363: 343, 364: 344, 365: 345, 366: 346, 367: 347, 368: 348, 369: 349, 370: 350, 372: 351, 373: 352, 374: 353, 375: 354, 376: 355, 378: 356, 380: 357, 381: 358, 383: 359, 384: 360, 385: 361, 386: 362, 388: 363, 389: 364, 390: 365, 391: 366, 392: 367, 393: 368, 394: 369, 395: 370, 396: 371, 397: 372, 398: 373, 399: 374, 400: 375, 401: 376, 402: 377, 403: 378, 404: 379, 405: 380, 406: 381, 407: 382, 408: 383, 409: 384, 410: 385, 411: 386, 412: 387, 413: 388, 414: 389, 415: 390, 416: 391, 417: 392, 418: 393, 419: 394, 421: 395, 422: 396, 423: 397, 424: 398, 425: 399, 426: 400, 428: 401, 429: 402, 430: 403, 431: 404, 432: 405, 433: 406, 434: 407, 435: 408, 436: 409, 437: 410, 438: 411, 439: 412, 440: 413, 441: 414, 442: 415, 444: 416, 445: 417, 447: 418, 448: 419, 449: 420, 450: 421, 451: 422, 452: 423, 453: 424, 454: 425, 455: 426, 456: 427, 457: 428, 458: 429, 459: 430, 460: 431, 461: 432, 462: 433, 463: 434, 464: 435, 465: 436, 466: 437, 467: 438, 468: 439, 469: 440, 470: 441, 471: 442, 472: 443, 473: 444, 474: 445, 475: 446, 476: 447, 477: 448, 478: 449, 479: 450, 480: 451, 482: 452, 483: 453, 484: 454, 485: 455, 486: 456, 487: 457, 488: 458, 489: 459, 490: 460, 491: 461, 492: 462, 493: 463, 494: 464, 495: 465, 496: 466, 497: 467, 498: 468, 499: 469, 500: 470, 501: 471, 502: 472, 504: 473, 505: 474, 506: 475, 507: 476, 508: 477, 509: 478, 510: 479, 511: 480, 512: 481, 513: 482, 514: 483, 515: 484, 516: 485, 517: 486, 518: 487, 519: 488, 521: 489, 523: 490, 524: 491, 525: 492, 527: 493, 528: 494, 529: 495, 530: 496, 531: 497, 532: 498, 533: 499, 534: 500, 535: 501, 536: 502, 537: 503, 538: 504, 539: 505, 540: 506, 541: 507, 542: 508, 543: 509, 544: 510, 545: 511, 546: 512, 547: 513, 548: 514, 549: 515, 550: 516, 551: 517, 553: 518, 554: 519, 555: 520, 556: 521, 557: 522, 558: 523, 559: 524, 560: 525, 561: 526, 563: 527, 564: 528, 565: 529, 566: 530, 567: 531, 568: 532, 569: 533, 570: 534, 571: 535, 572: 536, 573: 537, 574: 538, 575: 539, 576: 540, 577: 541, 578: 542, 579: 543, 580: 544, 581: 545, 582: 546, 583: 547, 584: 548, 585: 549, 587: 550, 588: 551, 590: 552, 591: 553, 592: 554, 593: 555, 594: 556, 596: 557, 599: 558, 600: 559, 601: 560, 602: 561, 603: 562, 604: 563, 605: 564, 606: 565, 607: 566, 609: 567, 610: 568, 611: 569, 612: 570, 613: 571, 614: 572, 615: 573, 616: 574, 617: 575, 618: 576, 619: 577, 620: 578, 621: 579, 622: 580, 623: 581, 625: 582, 626: 583, 627: 584, 629: 585, 630: 586, 631: 587, 632: 588, 633: 589, 634: 590, 635: 591, 636: 592, 637: 593, 638: 594, 639: 595, 640: 596, 641: 597, 642: 598, 643: 599, 644: 600, 645: 601, 647: 602, 648: 603, 649: 604, 650: 605, 652: 606, 653: 607, 654: 608, 655: 609, 656: 610, 657: 611, 658: 612, 659: 613, 660: 614, 661: 615, 662: 616, 663: 617, 664: 618, 665: 619, 666: 620, 667: 621, 668: 622, 669: 623, 670: 624, 671: 625, 672: 626, 673: 627, 674: 628, 675: 629, 676: 630, 677: 631, 678: 632, 679: 633, 680: 634, 681: 635, 682: 636, 683: 637, 684: 638, 685: 639, 686: 640, 687: 641, 688: 642, 689: 643, 690: 644, 691: 645, 692: 646, 693: 647, 694: 648, 695: 649, 696: 650, 697: 651, 698: 652, 699: 653, 700: 654, 701: 655, 702: 656, 703: 657, 704: 658, 705: 659, 706: 660, 707: 661, 708: 662, 709: 663, 710: 664, 711: 665, 712: 666, 713: 667, 714: 668, 715: 669, 716: 670, 717: 671, 718: 672, 719: 673, 720: 674, 721: 675, 723: 676, 724: 677, 725: 678, 726: 679, 727: 680, 728: 681, 729: 682, 730: 683, 731: 684, 732: 685, 733: 686, 734: 687, 735: 688, 736: 689, 737: 690, 739: 691, 740: 692, 741: 693, 742: 694, 743: 695, 744: 696, 745: 697, 747: 698, 748: 699, 749: 700, 750: 701, 751: 702, 752: 703, 754: 704, 755: 705, 756: 706, 757: 707, 758: 708, 759: 709, 760: 710, 761: 711, 762: 712, 763: 713, 765: 714, 766: 715, 767: 716, 768: 717, 769: 718, 770: 719, 771: 720, 774: 721, 775: 722, 776: 723, 777: 724, 778: 725, 779: 726, 780: 727, 782: 728, 783: 729, 784: 730, 785: 731, 786: 732, 787: 733, 788: 734, 789: 735, 790: 736, 791: 737, 792: 738, 793: 739, 795: 740, 796: 741, 797: 742, 798: 743, 799: 744, 800: 745, 802: 746, 803: 747, 804: 748, 805: 749, 806: 750, 807: 751, 808: 752, 810: 753, 811: 754, 812: 755, 813: 756, 814: 757, 815: 758, 816: 759, 817: 760, 818: 761, 819: 762, 820: 763, 821: 764, 822: 765, 823: 766, 824: 767, 825: 768, 826: 769, 827: 770, 828: 771, 829: 772, 830: 773, 832: 774, 833: 775, 834: 776, 835: 777, 836: 778, 837: 779, 838: 780, 839: 781, 840: 782, 841: 783, 842: 784, 843: 785, 844: 786, 845: 787, 846: 788, 847: 789, 848: 790, 849: 791, 850: 792, 851: 793, 852: 794, 853: 795, 854: 796, 856: 797, 857: 798, 858: 799, 859: 800, 860: 801, 861: 802, 862: 803, 863: 804, 866: 805, 867: 806, 868: 807, 869: 808, 871: 809, 872: 810, 873: 811, 874: 812, 875: 813, 876: 814, 879: 815, 880: 816, 882: 817, 883: 818, 884: 819, 885: 820, 886: 821, 887: 822, 888: 823, 889: 824, 891: 825, 893: 826, 894: 827, 895: 828, 896: 829, 897: 830, 898: 831, 901: 832, 902: 833, 903: 834, 904: 835, 905: 836, 906: 837, 907: 838, 908: 839, 909: 840, 910: 841, 911: 842, 912: 843, 913: 844, 914: 845, 915: 846, 917: 847, 918: 848, 919: 849, 920: 850, 922: 851, 923: 852, 924: 853, 925: 854, 926: 855, 927: 856, 928: 857, 929: 858, 930: 859, 931: 860, 932: 861, 933: 862, 934: 863, 936: 864, 937: 865, 938: 866, 939: 867, 940: 868, 941: 869, 944: 870, 946: 871, 947: 872, 948: 873, 949: 874, 950: 875, 951: 876, 952: 877, 953: 878, 955: 879, 956: 880, 957: 881, 958: 882, 959: 883, 960: 884, 961: 885, 962: 886, 963: 887, 964: 888, 965: 889, 966: 890, 967: 891, 969: 892, 970: 893, 973: 894, 974: 895, 975: 896, 976: 897, 977: 898, 978: 899, 979: 900, 980: 901, 982: 902, 983: 903, 984: 904, 985: 905, 987: 906, 988: 907, 989: 908, 991: 909, 992: 910, 993: 911, 994: 912, 995: 913, 996: 914, 997: 915, 999: 916, 1000: 917, 1001: 918, 1002: 919, 1003: 920, 1004: 921, 1005: 922, 1006: 923, 1007: 924, 1008: 925, 1009: 926, 1010: 927, 1011: 928, 1012: 929, 1013: 930, 1014: 931, 1015: 932, 1016: 933, 1017: 934, 1018: 935, 1019: 936, 1020: 937, 1021: 938, 1022: 939, 1023: 940, 1024: 941, 1025: 942, 1026: 943, 1027: 944, 1028: 945, 1030: 946, 1031: 947, 1032: 948, 1033: 949, 1034: 950, 1035: 951, 1036: 952, 1037: 953, 1038: 954, 1039: 955, 1040: 956, 1042: 957, 1044: 958, 1045: 959, 1047: 960, 1048: 961, 1049: 962, 1050: 963, 1051: 964, 1052: 965, 1053: 966, 1054: 967, 1055: 968, 1056: 969, 1058: 970, 1059: 971, 1060: 972, 1061: 973, 1062: 974, 1063: 975, 1065: 976, 1066: 977, 1067: 978, 1068: 979, 1069: 980, 1070: 981, 1071: 982, 1072: 983, 1073: 984, 1074: 985, 1076: 986, 1077: 987, 1078: 988, 1079: 989, 1080: 990, 1081: 991, 1082: 992, 1083: 993, 1084: 994, 1085: 995, 1086: 996, 1087: 997, 1088: 998, 1089: 999, 1090: 1000, 1091: 1001, 1092: 1002, 1095: 1003, 1096: 1004, 1097: 1005, 1098: 1006, 1099: 1007, 1100: 1008, 1101: 1009, 1102: 1010, 1104: 1011, 1105: 1012, 1106: 1013, 1107: 1014, 1108: 1015, 1109: 1016, 1110: 1017, 1111: 1018, 1112: 1019, 1113: 1020, 1114: 1021, 1116: 1022, 1117: 1023, 1118: 1024, 1119: 1025, 1120: 1026, 1121: 1027, 1122: 1028, 1123: 1029, 1124: 1030, 1126: 1031, 1128: 1032, 1129: 1033, 1130: 1034, 1131: 1035, 1132: 1036, 1133: 1037, 1134: 1038, 1135: 1039, 1136: 1040, 1137: 1041, 1138: 1042, 1141: 1043, 1142: 1044, 1143: 1045, 1144: 1046, 1145: 1047, 1146: 1048, 1147: 1049, 1148: 1050, 1149: 1051, 1150: 1052, 1151: 1053, 1152: 1054, 1153: 1055, 1154: 1056, 1155: 1057, 1156: 1058, 1157: 1059, 1158: 1060, 1159: 1061, 1161: 1062, 1162: 1063, 1163: 1064, 1164: 1065, 1165: 1066, 1168: 1067, 1169: 1068, 1170: 1069, 1171: 1070, 1172: 1071, 1174: 1072, 1175: 1073, 1176: 1074, 1177: 1075, 1178: 1076, 1179: 1077, 1180: 1078, 1181: 1079, 1182: 1080, 1183: 1081, 1184: 1082, 1185: 1083, 1186: 1084, 1187: 1085, 1188: 1086, 1189: 1087, 1190: 1088, 1191: 1089, 1192: 1090, 1193: 1091, 1194: 1092, 1195: 1093, 1196: 1094, 1197: 1095, 1198: 1096, 1200: 1097, 1202: 1098, 1203: 1099, 1204: 1100, 1205: 1101, 1207: 1102, 1208: 1103, 1209: 1104, 1210: 1105, 1211: 1106, 1212: 1107, 1213: 1108, 1214: 1109, 1215: 1110, 1217: 1111, 1218: 1112, 1219: 1113, 1220: 1114, 1221: 1115, 1222: 1116, 1223: 1117, 1224: 1118, 1226: 1119, 1227: 1120, 1228: 1121, 1229: 1122, 1230: 1123, 1231: 1124, 1232: 1125, 1233: 1126, 1234: 1127, 1235: 1128, 1236: 1129, 1237: 1130, 1238: 1131, 1240: 1132, 1241: 1133, 1242: 1134, 1243: 1135, 1244: 1136, 1245: 1137, 1246: 1138, 1247: 1139, 1251: 1140, 1252: 1141, 1253: 1142, 1254: 1143, 1256: 1144, 1257: 1145, 1259: 1146, 1260: 1147, 1261: 1148, 1262: 1149, 1263: 1150, 1264: 1151, 1265: 1152, 1268: 1153, 1269: 1154, 1270: 1155, 1271: 1156, 1272: 1157, 1273: 1158, 1274: 1159, 1275: 1160, 1276: 1161, 1277: 1162, 1278: 1163, 1279: 1164, 1280: 1165, 1281: 1166, 1282: 1167, 1284: 1168, 1285: 1169, 1286: 1170, 1287: 1171, 1288: 1172, 1289: 1173, 1290: 1174, 1291: 1175, 1292: 1176, 1293: 1177, 1294: 1178, 1296: 1179, 1297: 1180, 1298: 1181, 1299: 1182, 1300: 1183, 1301: 1184, 1302: 1185, 1303: 1186, 1305: 1187, 1306: 1188, 1307: 1189, 1308: 1190, 1309: 1191, 1310: 1192, 1311: 1193, 1313: 1194, 1314: 1195, 1316: 1196, 1317: 1197, 1319: 1198, 1320: 1199, 1321: 1200, 1322: 1201, 1323: 1202, 1325: 1203, 1327: 1204, 1328: 1205, 1329: 1206, 1330: 1207, 1331: 1208, 1332: 1209, 1333: 1210, 1334: 1211, 1335: 1212, 1337: 1213, 1338: 1214, 1340: 1215, 1341: 1216, 1343: 1217, 1344: 1218, 1345: 1219, 1346: 1220, 1347: 1221, 1348: 1222, 1349: 1223, 1350: 1224, 1351: 1225, 1352: 1226, 1353: 1227, 1354: 1228, 1355: 1229, 1356: 1230, 1358: 1231, 1360: 1232, 1361: 1233, 1362: 1234, 1363: 1235, 1364: 1236, 1365: 1237, 1366: 1238, 1367: 1239, 1369: 1240, 1370: 1241, 1371: 1242, 1372: 1243, 1373: 1244, 1374: 1245, 1375: 1246, 1376: 1247, 1377: 1248, 1378: 1249, 1379: 1250, 1380: 1251, 1381: 1252, 1382: 1253, 1383: 1254, 1384: 1255, 1385: 1256, 1386: 1257, 1387: 1258, 1388: 1259, 1391: 1260, 1392: 1261, 1393: 1262, 1394: 1263, 1395: 1264, 1396: 1265, 1397: 1266, 1399: 1267, 1400: 1268, 1401: 1269, 1402: 1270, 1403: 1271, 1404: 1272, 1405: 1273, 1406: 1274, 1408: 1275, 1409: 1276, 1411: 1277, 1412: 1278, 1414: 1279, 1416: 1280, 1417: 1281, 1418: 1282, 1419: 1283, 1420: 1284, 1421: 1285, 1422: 1286, 1423: 1287, 1424: 1288, 1425: 1289, 1426: 1290, 1427: 1291, 1428: 1292, 1429: 1293, 1430: 1294, 1431: 1295, 1432: 1296, 1433: 1297, 1435: 1298, 1436: 1299, 1437: 1300, 1438: 1301, 1439: 1302, 1440: 1303, 1441: 1304, 1442: 1305, 1443: 1306, 1444: 1307, 1445: 1308, 1447: 1309, 1448: 1310, 1449: 1311, 1450: 1312, 1451: 1313, 1452: 1314, 1453: 1315, 1454: 1316, 1455: 1317, 1456: 1318, 1457: 1319, 1459: 1320, 1460: 1321, 1461: 1322, 1462: 1323, 1463: 1324, 1464: 1325, 1465: 1326, 1467: 1327, 1468: 1328, 1469: 1329, 1470: 1330, 1471: 1331, 1472: 1332, 1473: 1333, 1474: 1334, 1475: 1335, 1476: 1336, 1477: 1337, 1478: 1338, 1479: 1339, 1481: 1340, 1482: 1341, 1483: 1342, 1484: 1343, 1486: 1344, 1487: 1345, 1488: 1346, 1489: 1347, 1490: 1348, 1491: 1349, 1492: 1350, 1493: 1351, 1494: 1352, 1495: 1353, 1496: 1354, 1497: 1355, 1498: 1356, 1499: 1357, 1500: 1358, 1501: 1359, 1502: 1360, 1503: 1361, 1504: 1362, 1505: 1363, 1506: 1364, 1507: 1365, 1509: 1366, 1511: 1367, 1512: 1368, 1513: 1369, 1514: 1370, 1515: 1371, 1516: 1372, 1517: 1373, 1518: 1374, 1519: 1375, 1520: 1376, 1522: 1377, 1523: 1378, 1525: 1379, 1526: 1380, 1528: 1381, 1529: 1382, 1530: 1383, 1531: 1384, 1532: 1385, 1533: 1386, 1534: 1387, 1535: 1388, 1536: 1389, 1537: 1390, 1538: 1391, 1539: 1392, 1540: 1393, 1541: 1394, 1542: 1395, 1543: 1396, 1544: 1397, 1545: 1398, 1547: 1399, 1549: 1400, 1550: 1401, 1551: 1402, 1552: 1403, 1553: 1404, 1554: 1405, 1555: 1406, 1556: 1407, 1557: 1408, 1558: 1409, 1560: 1410, 1561: 1411, 1562: 1412, 1563: 1413, 1564: 1414, 1565: 1415, 1566: 1416, 1568: 1417, 1570: 1418, 1571: 1419, 1572: 1420, 1573: 1421, 1574: 1422, 1575: 1423, 1576: 1424, 1577: 1425, 1578: 1426, 1579: 1427, 1580: 1428, 1581: 1429, 1582: 1430, 1583: 1431, 1584: 1432, 1585: 1433, 1586: 1434, 1587: 1435, 1588: 1436, 1589: 1437, 1590: 1438, 1591: 1439, 1592: 1440, 1593: 1441, 1594: 1442, 1595: 1443, 1597: 1444, 1598: 1445, 1599: 1446, 1601: 1447, 1602: 1448, 1603: 1449, 1604: 1450, 1605: 1451, 1606: 1452, 1609: 1453, 1611: 1454, 1612: 1455, 1613: 1456, 1614: 1457, 1615: 1458, 1616: 1459, 1617: 1460, 1618: 1461, 1619: 1462, 1620: 1463, 1621: 1464, 1622: 1465, 1623: 1466, 1624: 1467, 1625: 1468, 1626: 1469, 1627: 1470, 1628: 1471, 1630: 1472, 1631: 1473, 1632: 1474, 1633: 1475, 1634: 1476, 1635: 1477, 1636: 1478, 1637: 1479, 1638: 1480, 1639: 1481, 1640: 1482, 1641: 1483, 1642: 1484, 1644: 1485, 1645: 1486, 1646: 1487, 1647: 1488, 1648: 1489, 1650: 1490, 1651: 1491, 1652: 1492, 1653: 1493, 1654: 1494, 1655: 1495, 1656: 1496, 1657: 1497, 1658: 1498, 1659: 1499, 1660: 1500, 1661: 1501, 1662: 1502, 1663: 1503, 1664: 1504, 1665: 1505, 1667: 1506, 1668: 1507, 1669: 1508, 1670: 1509, 1672: 1510, 1673: 1511, 1674: 1512, 1675: 1513, 1676: 1514, 1677: 1515, 1678: 1516, 1680: 1517, 1681: 1518, 1682: 1519, 1683: 1520, 1684: 1521, 1685: 1522, 1686: 1523, 1687: 1524, 1688: 1525, 1689: 1526, 1690: 1527, 1691: 1528, 1692: 1529, 1693: 1530, 1694: 1531, 1695: 1532, 1697: 1533, 1698: 1534, 1699: 1535, 1700: 1536, 1701: 1537, 1702: 1538, 1703: 1539, 1704: 1540, 1705: 1541, 1706: 1542, 1707: 1543, 1708: 1544, 1709: 1545, 1710: 1546, 1713: 1547, 1715: 1548, 1716: 1549, 1717: 1550, 1718: 1551, 1719: 1552, 1720: 1553, 1721: 1554, 1722: 1555, 1723: 1556, 1724: 1557, 1725: 1558, 1726: 1559, 1727: 1560, 1728: 1561, 1729: 1562, 1730: 1563, 1731: 1564, 1732: 1565, 1734: 1566, 1735: 1567, 1738: 1568, 1739: 1569, 1740: 1570, 1741: 1571, 1742: 1572, 1743: 1573, 1744: 1574, 1745: 1575, 1746: 1576, 1747: 1577, 1749: 1578, 1750: 1579, 1751: 1580, 1752: 1581, 1753: 1582, 1755: 1583, 1756: 1584, 1757: 1585, 1758: 1586, 1759: 1587, 1760: 1588, 1762: 1589, 1763: 1590, 1764: 1591, 1766: 1592, 1767: 1593, 1768: 1594, 1769: 1595, 1770: 1596, 1771: 1597, 1772: 1598, 1773: 1599, 1774: 1600, 1775: 1601, 1776: 1602, 1777: 1603, 1778: 1604, 1779: 1605, 1780: 1606, 1781: 1607, 1782: 1608, 1783: 1609, 1784: 1610, 1785: 1611, 1786: 1612, 1787: 1613, 1788: 1614, 1789: 1615, 1790: 1616, 1791: 1617, 1792: 1618, 1793: 1619, 1794: 1620, 1795: 1621, 1796: 1622, 1797: 1623, 1798: 1624, 1799: 1625, 1800: 1626, 1801: 1627, 1802: 1628, 1803: 1629, 1804: 1630, 1805: 1631, 1806: 1632, 1807: 1633, 1808: 1634, 1809: 1635, 1811: 1636, 1812: 1637, 1813: 1638, 1814: 1639, 1815: 1640, 1816: 1641, 1817: 1642, 1818: 1643, 1819: 1644, 1820: 1645, 1821: 1646, 1822: 1647, 1823: 1648, 1824: 1649, 1825: 1650, 1826: 1651, 1827: 1652, 1828: 1653, 1829: 1654, 1830: 1655, 1831: 1656, 1832: 1657, 1833: 1658, 1834: 1659, 1836: 1660, 1837: 1661, 1838: 1662, 1839: 1663, 1840: 1664, 1842: 1665, 1843: 1666, 1844: 1667, 1845: 1668, 1846: 1669, 1848: 1670, 1849: 1671, 1850: 1672, 1851: 1673, 1852: 1674, 1853: 1675, 1854: 1676, 1855: 1677, 1856: 1678, 1857: 1679, 1858: 1680, 1859: 1681, 1860: 1682, 1861: 1683, 1862: 1684, 1863: 1685, 1864: 1686, 1865: 1687, 1866: 1688, 1867: 1689, 1869: 1690, 1870: 1691, 1871: 1692, 1872: 1693, 1873: 1694, 1875: 1695, 1877: 1696, 1878: 1697, 1879: 1698, 1880: 1699, 1881: 1700, 1883: 1701, 1885: 1702, 1886: 1703, 1887: 1704, 1888: 1705, 1889: 1706, 1890: 1707, 1891: 1708, 1892: 1709, 1893: 1710, 1894: 1711, 1895: 1712, 1896: 1713, 1897: 1714, 1898: 1715, 1900: 1716, 1901: 1717, 1902: 1718, 1903: 1719, 1904: 1720, 1905: 1721, 1906: 1722, 1907: 1723, 1908: 1724, 1909: 1725, 1910: 1726, 1912: 1727, 1913: 1728, 1915: 1729, 1916: 1730, 1917: 1731, 1918: 1732, 1919: 1733, 1920: 1734, 1921: 1735, 1922: 1736, 1923: 1737, 1924: 1738, 1926: 1739, 1927: 1740, 1928: 1741, 1929: 1742, 1931: 1743, 1932: 1744, 1933: 1745, 1934: 1746, 1935: 1747, 1936: 1748, 1937: 1749, 1939: 1750, 1940: 1751, 1942: 1752, 1944: 1753, 1945: 1754, 1946: 1755, 1947: 1756, 1948: 1757, 1949: 1758, 1950: 1759, 1952: 1760, 1953: 1761, 1954: 1762, 1955: 1763, 1956: 1764, 1957: 1765, 1959: 1766, 1960: 1767, 1961: 1768, 1962: 1769, 1963: 1770, 1964: 1771, 1966: 1772, 1967: 1773, 1969: 1774, 1970: 1775, 1971: 1776, 1972: 1777, 1973: 1778, 1974: 1779, 1975: 1780, 1976: 1781, 1977: 1782, 1978: 1783, 1979: 1784, 1980: 1785, 1981: 1786, 1982: 1787, 1984: 1788, 1985: 1789, 1986: 1790, 1987: 1791, 1988: 1792, 1989: 1793, 1990: 1794, 1991: 1795, 1992: 1796, 1993: 1797, 1994: 1798, 1995: 1799, 1996: 1800, 1997: 1801, 1998: 1802, 1999: 1803, 2001: 1804, 2002: 1805, 2003: 1806, 2004: 1807, 2005: 1808, 2006: 1809, 2007: 1810, 2008: 1811, 2009: 1812, 2011: 1813, 2012: 1814, 2013: 1815, 2014: 1816, 2015: 1817, 2016: 1818, 2017: 1819, 2018: 1820, 2019: 1821, 2020: 1822, 2021: 1823, 2022: 1824, 2023: 1825, 2025: 1826, 2026: 1827, 2027: 1828, 2028: 1829, 2029: 1830, 2030: 1831, 2031: 1832, 2032: 1833, 2033: 1834, 2034: 1835, 2035: 1836, 2036: 1837, 2037: 1838, 2038: 1839, 2039: 1840, 2040: 1841, 2041: 1842, 2042: 1843, 2043: 1844, 2044: 1845, 2045: 1846, 2046: 1847, 2049: 1848, 2050: 1849, 2051: 1850, 2052: 1851, 2053: 1852, 2054: 1853, 2055: 1854, 2056: 1855, 2057: 1856, 2058: 1857, 2059: 1858, 2060: 1859, 2062: 1860, 2063: 1861, 2064: 1862, 2065: 1863, 2066: 1864, 2067: 1865, 2068: 1866, 2069: 1867, 2070: 1868, 2073: 1869, 2074: 1870, 2075: 1871, 2076: 1872, 2077: 1873, 2078: 1874, 2079: 1875, 2081: 1876, 2082: 1877, 2083: 1878, 2084: 1879, 2085: 1880, 2086: 1881, 2088: 1882, 2089: 1883, 2090: 1884, 2091: 1885, 2092: 1886, 2093: 1887, 2094: 1888, 2095: 1889, 2097: 1890, 2098: 1891}\n"
     ]
    }
   ],
   "source": [
    "keys = unique_list\n",
    "values = usenew\n",
    "dictionary = dict(zip(keys, values))\n",
    "print(dictionary) # {'a': 1, 'b': 2, 'c': 3}"
   ]
  },
  {
   "cell_type": "code",
   "execution_count": 20,
   "id": "bd66e0ba",
   "metadata": {},
   "outputs": [],
   "source": [
    "s = df2['userID']\n",
    "\n",
    "df2['userID'] = s.map(dictionary)"
   ]
  },
  {
   "cell_type": "code",
   "execution_count": 21,
   "id": "bc3ba0d0",
   "metadata": {},
   "outputs": [
    {
     "data": {
      "text/html": [
       "<div>\n",
       "<style scoped>\n",
       "    .dataframe tbody tr th:only-of-type {\n",
       "        vertical-align: middle;\n",
       "    }\n",
       "\n",
       "    .dataframe tbody tr th {\n",
       "        vertical-align: top;\n",
       "    }\n",
       "\n",
       "    .dataframe thead th {\n",
       "        text-align: right;\n",
       "    }\n",
       "</style>\n",
       "<table border=\"1\" class=\"dataframe\">\n",
       "  <thead>\n",
       "    <tr style=\"text-align: right;\">\n",
       "      <th></th>\n",
       "      <th>userID</th>\n",
       "      <th>artistID</th>\n",
       "      <th>weight</th>\n",
       "    </tr>\n",
       "  </thead>\n",
       "  <tbody>\n",
       "    <tr>\n",
       "      <th>0</th>\n",
       "      <td>0</td>\n",
       "      <td>50</td>\n",
       "      <td>13883</td>\n",
       "    </tr>\n",
       "    <tr>\n",
       "      <th>1</th>\n",
       "      <td>0</td>\n",
       "      <td>51</td>\n",
       "      <td>11690</td>\n",
       "    </tr>\n",
       "    <tr>\n",
       "      <th>2</th>\n",
       "      <td>0</td>\n",
       "      <td>52</td>\n",
       "      <td>11351</td>\n",
       "    </tr>\n",
       "    <tr>\n",
       "      <th>3</th>\n",
       "      <td>0</td>\n",
       "      <td>53</td>\n",
       "      <td>10300</td>\n",
       "    </tr>\n",
       "    <tr>\n",
       "      <th>4</th>\n",
       "      <td>0</td>\n",
       "      <td>54</td>\n",
       "      <td>8983</td>\n",
       "    </tr>\n",
       "  </tbody>\n",
       "</table>\n",
       "</div>"
      ],
      "text/plain": [
       "   userID artistID  weight\n",
       "0       0       50   13883\n",
       "1       0       51   11690\n",
       "2       0       52   11351\n",
       "3       0       53   10300\n",
       "4       0       54    8983"
      ]
     },
     "execution_count": 21,
     "metadata": {},
     "output_type": "execute_result"
    }
   ],
   "source": [
    "df2.head()"
   ]
  },
  {
   "cell_type": "code",
   "execution_count": 22,
   "id": "aa528116",
   "metadata": {},
   "outputs": [],
   "source": [
    "df2['artistID'] = df2['artistID'].astype(int)\n",
    "xyz =  np.array(df2['artistID'])\n",
    "#zzz = np.array(played['userID'])\n",
    "vals = []\n",
    "for i in range(len(xyz)):\n",
    "    v = xyz[i]\n",
    "    if v not in vals:\n",
    "        vals.append(v)\n",
    "    else:\n",
    "        continue"
   ]
  },
  {
   "cell_type": "code",
   "execution_count": 23,
   "id": "cfcee232",
   "metadata": {},
   "outputs": [
    {
     "data": {
      "text/plain": [
       "0"
      ]
     },
     "execution_count": 23,
     "metadata": {},
     "output_type": "execute_result"
    }
   ],
   "source": [
    "unique_list = list(set(vals))\n",
    "unique_list.sort()\n",
    "unique_list[0]"
   ]
  },
  {
   "cell_type": "code",
   "execution_count": 24,
   "id": "2b42df64",
   "metadata": {},
   "outputs": [
    {
     "data": {
      "text/plain": [
       "17631"
      ]
     },
     "execution_count": 24,
     "metadata": {},
     "output_type": "execute_result"
    }
   ],
   "source": [
    "usenew = []\n",
    "for i in range(0, 17632):\n",
    "    usenew.append(i)\n",
    "\n",
    "usenew[-1]"
   ]
  },
  {
   "cell_type": "code",
   "execution_count": 25,
   "id": "00dee1d6",
   "metadata": {},
   "outputs": [
    {
     "name": "stdout",
     "output_type": "stream",
     "text": [
      "{0: 0, 1: 1, 2: 2, 3: 3, 4: 4, 5: 5, 6: 6, 7: 7, 8: 8, 9: 9, 10: 10, 11: 11, 12: 12, 14: 13, 15: 14, 16: 15, 17: 16, 18: 17, 19: 18, 20: 19, 21: 20, 22: 21, 23: 22, 24: 23, 25: 24, 26: 25, 27: 26, 29: 27, 30: 28, 31: 29, 33: 30, 35: 31, 36: 32, 37: 33, 38: 34, 39: 35, 40: 36, 42: 37, 43: 38, 44: 39, 45: 40, 46: 41, 47: 42, 48: 43, 49: 44, 50: 45, 51: 46, 52: 47, 53: 48, 54: 49, 55: 50, 56: 51, 57: 52, 58: 53, 59: 54, 60: 55, 61: 56, 62: 57, 63: 58, 64: 59, 65: 60, 66: 61, 67: 62, 68: 63, 69: 64, 70: 65, 71: 66, 72: 67, 73: 68, 74: 69, 75: 70, 76: 71, 77: 72, 78: 73, 79: 74, 80: 75, 81: 76, 82: 77, 83: 78, 84: 79, 85: 80, 86: 81, 87: 82, 88: 83, 89: 84, 90: 85, 91: 86, 92: 87, 93: 88, 94: 89, 95: 90, 96: 91, 97: 92, 98: 93, 99: 94, 100: 95, 101: 96, 102: 97, 103: 98, 104: 99, 105: 100, 106: 101, 107: 102, 108: 103, 109: 104, 110: 105, 111: 106, 112: 107, 113: 108, 114: 109, 115: 110, 116: 111, 117: 112, 118: 113, 119: 114, 120: 115, 121: 116, 122: 117, 123: 118, 124: 119, 125: 120, 126: 121, 127: 122, 128: 123, 129: 124, 130: 125, 131: 126, 132: 127, 133: 128, 134: 129, 135: 130, 136: 131, 137: 132, 138: 133, 139: 134, 140: 135, 141: 136, 142: 137, 143: 138, 144: 139, 145: 140, 146: 141, 147: 142, 148: 143, 149: 144, 150: 145, 151: 146, 152: 147, 153: 148, 154: 149, 155: 150, 156: 151, 157: 152, 158: 153, 159: 154, 160: 155, 161: 156, 162: 157, 163: 158, 164: 159, 165: 160, 166: 161, 167: 162, 168: 163, 169: 164, 170: 165, 171: 166, 172: 167, 173: 168, 174: 169, 175: 170, 176: 171, 177: 172, 178: 173, 179: 174, 180: 175, 181: 176, 182: 177, 183: 178, 184: 179, 185: 180, 186: 181, 187: 182, 188: 183, 189: 184, 190: 185, 191: 186, 192: 187, 193: 188, 194: 189, 195: 190, 196: 191, 197: 192, 198: 193, 199: 194, 200: 195, 201: 196, 202: 197, 203: 198, 204: 199, 205: 200, 206: 201, 207: 202, 208: 203, 209: 204, 210: 205, 211: 206, 212: 207, 213: 208, 214: 209, 215: 210, 216: 211, 217: 212, 218: 213, 219: 214, 220: 215, 221: 216, 222: 217, 223: 218, 224: 219, 225: 220, 226: 221, 227: 222, 228: 223, 229: 224, 230: 225, 231: 226, 232: 227, 233: 228, 234: 229, 235: 230, 236: 231, 237: 232, 238: 233, 239: 234, 240: 235, 241: 236, 242: 237, 243: 238, 244: 239, 245: 240, 246: 241, 247: 242, 248: 243, 249: 244, 250: 245, 251: 246, 252: 247, 253: 248, 254: 249, 255: 250, 256: 251, 257: 252, 258: 253, 259: 254, 260: 255, 261: 256, 262: 257, 263: 258, 264: 259, 265: 260, 266: 261, 267: 262, 268: 263, 269: 264, 270: 265, 271: 266, 272: 267, 273: 268, 274: 269, 275: 270, 276: 271, 277: 272, 278: 273, 279: 274, 280: 275, 281: 276, 282: 277, 283: 278, 284: 279, 285: 280, 286: 281, 287: 282, 288: 283, 289: 284, 290: 285, 291: 286, 292: 287, 293: 288, 294: 289, 295: 290, 296: 291, 297: 292, 298: 293, 299: 294, 300: 295, 301: 296, 302: 297, 303: 298, 304: 299, 305: 300, 306: 301, 307: 302, 308: 303, 309: 304, 310: 305, 311: 306, 312: 307, 313: 308, 314: 309, 315: 310, 316: 311, 317: 312, 318: 313, 319: 314, 320: 315, 321: 316, 322: 317, 323: 318, 324: 319, 325: 320, 326: 321, 327: 322, 328: 323, 329: 324, 330: 325, 331: 326, 332: 327, 333: 328, 334: 329, 335: 330, 336: 331, 337: 332, 338: 333, 339: 334, 340: 335, 341: 336, 342: 337, 343: 338, 344: 339, 345: 340, 346: 341, 347: 342, 348: 343, 349: 344, 350: 345, 351: 346, 352: 347, 353: 348, 354: 349, 355: 350, 356: 351, 357: 352, 358: 353, 359: 354, 360: 355, 361: 356, 362: 357, 363: 358, 364: 359, 365: 360, 366: 361, 367: 362, 368: 363, 369: 364, 370: 365, 371: 366, 372: 367, 373: 368, 374: 369, 375: 370, 376: 371, 377: 372, 378: 373, 379: 374, 380: 375, 381: 376, 382: 377, 383: 378, 384: 379, 385: 380, 386: 381, 387: 382, 388: 383, 389: 384, 390: 385, 391: 386, 392: 387, 393: 388, 394: 389, 395: 390, 396: 391, 397: 392, 398: 393, 399: 394, 400: 395, 401: 396, 402: 397, 403: 398, 404: 399, 405: 400, 406: 401, 407: 402, 408: 403, 409: 404, 410: 405, 411: 406, 412: 407, 413: 408, 414: 409, 415: 410, 416: 411, 417: 412, 418: 413, 419: 414, 420: 415, 421: 416, 422: 417, 423: 418, 424: 419, 425: 420, 426: 421, 427: 422, 428: 423, 429: 424, 430: 425, 431: 426, 432: 427, 433: 428, 434: 429, 435: 430, 436: 431, 437: 432, 438: 433, 439: 434, 440: 435, 441: 436, 442: 437, 443: 438, 444: 439, 445: 440, 446: 441, 447: 442, 448: 443, 449: 444, 450: 445, 451: 446, 452: 447, 453: 448, 454: 449, 455: 450, 456: 451, 457: 452, 458: 453, 459: 454, 460: 455, 461: 456, 462: 457, 463: 458, 464: 459, 465: 460, 466: 461, 467: 462, 468: 463, 469: 464, 470: 465, 471: 466, 472: 467, 473: 468, 474: 469, 475: 470, 476: 471, 477: 472, 478: 473, 479: 474, 480: 475, 481: 476, 482: 477, 483: 478, 484: 479, 485: 480, 486: 481, 487: 482, 488: 483, 489: 484, 490: 485, 491: 486, 492: 487, 493: 488, 494: 489, 495: 490, 496: 491, 497: 492, 498: 493, 499: 494, 500: 495, 501: 496, 502: 497, 503: 498, 504: 499, 505: 500, 506: 501, 507: 502, 508: 503, 509: 504, 510: 505, 511: 506, 512: 507, 513: 508, 514: 509, 515: 510, 516: 511, 517: 512, 518: 513, 519: 514, 520: 515, 521: 516, 522: 517, 523: 518, 524: 519, 525: 520, 526: 521, 527: 522, 528: 523, 529: 524, 530: 525, 531: 526, 532: 527, 533: 528, 534: 529, 535: 530, 536: 531, 537: 532, 538: 533, 539: 534, 540: 535, 541: 536, 542: 537, 543: 538, 544: 539, 545: 540, 546: 541, 547: 542, 548: 543, 549: 544, 550: 545, 551: 546, 552: 547, 553: 548, 554: 549, 555: 550, 556: 551, 557: 552, 558: 553, 559: 554, 560: 555, 561: 556, 562: 557, 563: 558, 564: 559, 565: 560, 566: 561, 567: 562, 568: 563, 569: 564, 570: 565, 571: 566, 572: 567, 573: 568, 574: 569, 575: 570, 576: 571, 577: 572, 578: 573, 579: 574, 580: 575, 581: 576, 582: 577, 583: 578, 584: 579, 585: 580, 586: 581, 587: 582, 588: 583, 589: 584, 590: 585, 591: 586, 592: 587, 593: 588, 594: 589, 595: 590, 596: 591, 597: 592, 598: 593, 599: 594, 600: 595, 601: 596, 602: 597, 603: 598, 604: 599, 605: 600, 606: 601, 607: 602, 608: 603, 609: 604, 610: 605, 611: 606, 612: 607, 613: 608, 614: 609, 615: 610, 616: 611, 617: 612, 618: 613, 619: 614, 620: 615, 621: 616, 622: 617, 623: 618, 624: 619, 625: 620, 626: 621, 627: 622, 628: 623, 629: 624, 630: 625, 631: 626, 632: 627, 633: 628, 634: 629, 635: 630, 636: 631, 637: 632, 638: 633, 639: 634, 640: 635, 641: 636, 642: 637, 643: 638, 644: 639, 645: 640, 646: 641, 647: 642, 648: 643, 649: 644, 650: 645, 651: 646, 652: 647, 653: 648, 654: 649, 655: 650, 656: 651, 657: 652, 658: 653, 659: 654, 660: 655, 661: 656, 662: 657, 663: 658, 664: 659, 665: 660, 666: 661, 667: 662, 668: 663, 669: 664, 670: 665, 671: 666, 672: 667, 673: 668, 674: 669, 675: 670, 676: 671, 677: 672, 678: 673, 679: 674, 680: 675, 681: 676, 682: 677, 683: 678, 684: 679, 685: 680, 686: 681, 687: 682, 688: 683, 689: 684, 690: 685, 691: 686, 692: 687, 693: 688, 694: 689, 695: 690, 696: 691, 697: 692, 698: 693, 699: 694, 700: 695, 701: 696, 702: 697, 703: 698, 704: 699, 705: 700, 706: 701, 707: 702, 708: 703, 709: 704, 710: 705, 711: 706, 712: 707, 713: 708, 714: 709, 715: 710, 716: 711, 717: 712, 718: 713, 719: 714, 720: 715, 721: 716, 722: 717, 723: 718, 724: 719, 725: 720, 726: 721, 727: 722, 728: 723, 729: 724, 730: 725, 731: 726, 732: 727, 733: 728, 734: 729, 735: 730, 736: 731, 737: 732, 738: 733, 742: 734, 743: 735, 744: 736, 745: 737, 746: 738, 747: 739, 748: 740, 749: 741, 750: 742, 751: 743, 752: 744, 753: 745, 754: 746, 755: 747, 756: 748, 757: 749, 758: 750, 759: 751, 760: 752, 761: 753, 762: 754, 763: 755, 764: 756, 765: 757, 766: 758, 767: 759, 768: 760, 769: 761, 770: 762, 771: 763, 772: 764, 773: 765, 774: 766, 775: 767, 776: 768, 777: 769, 778: 770, 779: 771, 780: 772, 781: 773, 782: 774, 783: 775, 784: 776, 785: 777, 786: 778, 787: 779, 788: 780, 789: 781, 790: 782, 791: 783, 792: 784, 793: 785, 794: 786, 795: 787, 796: 788, 797: 789, 798: 790, 799: 791, 800: 792, 801: 793, 802: 794, 803: 795, 804: 796, 805: 797, 806: 798, 807: 799, 808: 800, 809: 801, 810: 802, 811: 803, 812: 804, 813: 805, 814: 806, 815: 807, 816: 808, 817: 809, 818: 810, 819: 811, 820: 812, 821: 813, 822: 814, 823: 815, 824: 816, 825: 817, 826: 818, 827: 819, 828: 820, 829: 821, 830: 822, 831: 823, 832: 824, 833: 825, 834: 826, 835: 827, 836: 828, 837: 829, 838: 830, 839: 831, 840: 832, 841: 833, 842: 834, 843: 835, 844: 836, 845: 837, 846: 838, 847: 839, 848: 840, 849: 841, 850: 842, 851: 843, 852: 844, 853: 845, 854: 846, 855: 847, 856: 848, 857: 849, 858: 850, 859: 851, 860: 852, 861: 853, 862: 854, 863: 855, 864: 856, 865: 857, 866: 858, 867: 859, 868: 860, 869: 861, 870: 862, 871: 863, 872: 864, 873: 865, 874: 866, 875: 867, 876: 868, 877: 869, 878: 870, 879: 871, 880: 872, 881: 873, 882: 874, 883: 875, 884: 876, 885: 877, 886: 878, 887: 879, 888: 880, 889: 881, 890: 882, 891: 883, 892: 884, 893: 885, 894: 886, 895: 887, 896: 888, 897: 889, 898: 890, 899: 891, 900: 892, 901: 893, 902: 894, 903: 895, 904: 896, 905: 897, 906: 898, 907: 899, 908: 900, 909: 901, 910: 902, 911: 903, 912: 904, 913: 905, 914: 906, 915: 907, 916: 908, 917: 909, 918: 910, 919: 911, 920: 912, 921: 913, 922: 914, 923: 915, 924: 916, 925: 917, 926: 918, 927: 919, 928: 920, 929: 921, 930: 922, 931: 923, 932: 924, 933: 925, 934: 926, 935: 927, 936: 928, 937: 929, 938: 930, 939: 931, 940: 932, 941: 933, 942: 934, 943: 935, 944: 936, 945: 937, 946: 938, 947: 939, 948: 940, 949: 941, 950: 942, 951: 943, 952: 944, 953: 945, 954: 946, 955: 947, 956: 948, 957: 949, 958: 950, 959: 951, 960: 952, 961: 953, 962: 954, 963: 955, 964: 956, 965: 957, 966: 958, 967: 959, 968: 960, 969: 961, 970: 962, 971: 963, 972: 964, 973: 965, 974: 966, 975: 967, 976: 968, 977: 969, 978: 970, 979: 971, 980: 972, 981: 973, 982: 974, 983: 975, 984: 976, 985: 977, 986: 978, 987: 979, 988: 980, 989: 981, 990: 982, 991: 983, 992: 984, 993: 985, 994: 986, 995: 987, 996: 988, 997: 989, 998: 990, 999: 991, 1000: 992, 1001: 993, 1002: 994, 1003: 995, 1004: 996, 1005: 997, 1006: 998, 1007: 999, 1008: 1000, 1009: 1001, 1010: 1002, 1011: 1003, 1012: 1004, 1013: 1005, 1014: 1006, 1015: 1007, 1016: 1008, 1017: 1009, 1018: 1010, 1019: 1011, 1020: 1012, 1021: 1013, 1022: 1014, 1023: 1015, 1024: 1016, 1025: 1017, 1026: 1018, 1027: 1019, 1028: 1020, 1029: 1021, 1030: 1022, 1031: 1023, 1032: 1024, 1033: 1025, 1034: 1026, 1035: 1027, 1036: 1028, 1037: 1029, 1038: 1030, 1039: 1031, 1040: 1032, 1041: 1033, 1042: 1034, 1043: 1035, 1044: 1036, 1045: 1037, 1046: 1038, 1047: 1039, 1048: 1040, 1049: 1041, 1050: 1042, 1051: 1043, 1052: 1044, 1053: 1045, 1054: 1046, 1055: 1047, 1056: 1048, 1057: 1049, 1058: 1050, 1059: 1051, 1060: 1052, 1061: 1053, 1062: 1054, 1063: 1055, 1064: 1056, 1065: 1057, 1066: 1058, 1067: 1059, 1068: 1060, 1069: 1061, 1070: 1062, 1071: 1063, 1072: 1064, 1073: 1065, 1074: 1066, 1075: 1067, 1076: 1068, 1077: 1069, 1078: 1070, 1079: 1071, 1080: 1072, 1081: 1073, 1082: 1074, 1083: 1075, 1084: 1076, 1085: 1077, 1086: 1078, 1087: 1079, 1088: 1080, 1089: 1081, 1090: 1082, 1091: 1083, 1092: 1084, 1093: 1085, 1094: 1086, 1095: 1087, 1096: 1088, 1097: 1089, 1098: 1090, 1099: 1091, 1100: 1092, 1101: 1093, 1102: 1094, 1103: 1095, 1104: 1096, 1105: 1097, 1106: 1098, 1107: 1099, 1108: 1100, 1109: 1101, 1110: 1102, 1111: 1103, 1112: 1104, 1113: 1105, 1114: 1106, 1115: 1107, 1116: 1108, 1117: 1109, 1118: 1110, 1119: 1111, 1120: 1112, 1121: 1113, 1122: 1114, 1123: 1115, 1124: 1116, 1125: 1117, 1126: 1118, 1127: 1119, 1128: 1120, 1129: 1121, 1130: 1122, 1131: 1123, 1132: 1124, 1133: 1125, 1134: 1126, 1135: 1127, 1136: 1128, 1137: 1129, 1138: 1130, 1139: 1131, 1140: 1132, 1141: 1133, 1142: 1134, 1143: 1135, 1144: 1136, 1145: 1137, 1146: 1138, 1147: 1139, 1148: 1140, 1149: 1141, 1150: 1142, 1151: 1143, 1152: 1144, 1153: 1145, 1154: 1146, 1155: 1147, 1156: 1148, 1157: 1149, 1158: 1150, 1159: 1151, 1160: 1152, 1161: 1153, 1162: 1154, 1163: 1155, 1164: 1156, 1165: 1157, 1166: 1158, 1167: 1159, 1168: 1160, 1169: 1161, 1170: 1162, 1171: 1163, 1172: 1164, 1173: 1165, 1174: 1166, 1175: 1167, 1176: 1168, 1177: 1169, 1178: 1170, 1179: 1171, 1180: 1172, 1181: 1173, 1182: 1174, 1183: 1175, 1184: 1176, 1185: 1177, 1186: 1178, 1187: 1179, 1188: 1180, 1189: 1181, 1190: 1182, 1191: 1183, 1192: 1184, 1193: 1185, 1194: 1186, 1195: 1187, 1196: 1188, 1197: 1189, 1198: 1190, 1199: 1191, 1200: 1192, 1201: 1193, 1202: 1194, 1203: 1195, 1204: 1196, 1205: 1197, 1206: 1198, 1207: 1199, 1208: 1200, 1209: 1201, 1210: 1202, 1211: 1203, 1212: 1204, 1213: 1205, 1214: 1206, 1215: 1207, 1216: 1208, 1217: 1209, 1218: 1210, 1219: 1211, 1220: 1212, 1221: 1213, 1222: 1214, 1223: 1215, 1224: 1216, 1225: 1217, 1226: 1218, 1227: 1219, 1228: 1220, 1229: 1221, 1230: 1222, 1231: 1223, 1232: 1224, 1233: 1225, 1234: 1226, 1235: 1227, 1236: 1228, 1237: 1229, 1238: 1230, 1239: 1231, 1240: 1232, 1241: 1233, 1242: 1234, 1243: 1235, 1244: 1236, 1245: 1237, 1246: 1238, 1247: 1239, 1248: 1240, 1249: 1241, 1250: 1242, 1251: 1243, 1252: 1244, 1253: 1245, 1254: 1246, 1255: 1247, 1256: 1248, 1257: 1249, 1258: 1250, 1259: 1251, 1260: 1252, 1261: 1253, 1262: 1254, 1263: 1255, 1264: 1256, 1265: 1257, 1266: 1258, 1267: 1259, 1268: 1260, 1269: 1261, 1270: 1262, 1271: 1263, 1272: 1264, 1273: 1265, 1274: 1266, 1275: 1267, 1276: 1268, 1277: 1269, 1278: 1270, 1279: 1271, 1280: 1272, 1281: 1273, 1282: 1274, 1283: 1275, 1284: 1276, 1285: 1277, 1286: 1278, 1287: 1279, 1288: 1280, 1289: 1281, 1290: 1282, 1291: 1283, 1292: 1284, 1293: 1285, 1294: 1286, 1295: 1287, 1296: 1288, 1297: 1289, 1298: 1290, 1299: 1291, 1300: 1292, 1301: 1293, 1302: 1294, 1303: 1295, 1304: 1296, 1305: 1297, 1306: 1298, 1307: 1299, 1308: 1300, 1309: 1301, 1310: 1302, 1311: 1303, 1312: 1304, 1313: 1305, 1314: 1306, 1315: 1307, 1316: 1308, 1317: 1309, 1318: 1310, 1319: 1311, 1320: 1312, 1321: 1313, 1322: 1314, 1323: 1315, 1324: 1316, 1325: 1317, 1326: 1318, 1327: 1319, 1328: 1320, 1329: 1321, 1330: 1322, 1331: 1323, 1332: 1324, 1333: 1325, 1334: 1326, 1335: 1327, 1336: 1328, 1337: 1329, 1338: 1330, 1339: 1331, 1340: 1332, 1341: 1333, 1342: 1334, 1343: 1335, 1344: 1336, 1345: 1337, 1346: 1338, 1347: 1339, 1348: 1340, 1349: 1341, 1350: 1342, 1351: 1343, 1352: 1344, 1353: 1345, 1354: 1346, 1355: 1347, 1356: 1348, 1357: 1349, 1358: 1350, 1359: 1351, 1360: 1352, 1361: 1353, 1362: 1354, 1363: 1355, 1364: 1356, 1365: 1357, 1366: 1358, 1367: 1359, 1368: 1360, 1369: 1361, 1370: 1362, 1371: 1363, 1372: 1364, 1373: 1365, 1374: 1366, 1375: 1367, 1376: 1368, 1377: 1369, 1378: 1370, 1379: 1371, 1380: 1372, 1381: 1373, 1382: 1374, 1383: 1375, 1384: 1376, 1385: 1377, 1386: 1378, 1387: 1379, 1388: 1380, 1389: 1381, 1390: 1382, 1391: 1383, 1392: 1384, 1393: 1385, 1394: 1386, 1395: 1387, 1396: 1388, 1397: 1389, 1398: 1390, 1399: 1391, 1400: 1392, 1401: 1393, 1402: 1394, 1403: 1395, 1404: 1396, 1405: 1397, 1406: 1398, 1407: 1399, 1408: 1400, 1409: 1401, 1410: 1402, 1411: 1403, 1412: 1404, 1413: 1405, 1414: 1406, 1415: 1407, 1416: 1408, 1417: 1409, 1418: 1410, 1419: 1411, 1420: 1412, 1421: 1413, 1422: 1414, 1423: 1415, 1424: 1416, 1425: 1417, 1426: 1418, 1427: 1419, 1428: 1420, 1429: 1421, 1430: 1422, 1431: 1423, 1432: 1424, 1433: 1425, 1434: 1426, 1435: 1427, 1436: 1428, 1437: 1429, 1438: 1430, 1439: 1431, 1440: 1432, 1441: 1433, 1442: 1434, 1443: 1435, 1444: 1436, 1445: 1437, 1446: 1438, 1447: 1439, 1448: 1440, 1449: 1441, 1450: 1442, 1451: 1443, 1452: 1444, 1453: 1445, 1454: 1446, 1455: 1447, 1456: 1448, 1457: 1449, 1458: 1450, 1459: 1451, 1460: 1452, 1461: 1453, 1462: 1454, 1463: 1455, 1464: 1456, 1465: 1457, 1466: 1458, 1467: 1459, 1468: 1460, 1469: 1461, 1470: 1462, 1471: 1463, 1472: 1464, 1473: 1465, 1474: 1466, 1475: 1467, 1476: 1468, 1477: 1469, 1478: 1470, 1479: 1471, 1480: 1472, 1481: 1473, 1482: 1474, 1483: 1475, 1484: 1476, 1485: 1477, 1486: 1478, 1487: 1479, 1488: 1480, 1489: 1481, 1490: 1482, 1491: 1483, 1492: 1484, 1493: 1485, 1494: 1486, 1495: 1487, 1496: 1488, 1497: 1489, 1498: 1490, 1499: 1491, 1500: 1492, 1501: 1493, 1502: 1494, 1503: 1495, 1504: 1496, 1505: 1497, 1506: 1498, 1507: 1499, 1508: 1500, 1509: 1501, 1510: 1502, 1511: 1503, 1512: 1504, 1513: 1505, 1514: 1506, 1515: 1507, 1516: 1508, 1517: 1509, 1518: 1510, 1519: 1511, 1520: 1512, 1521: 1513, 1522: 1514, 1523: 1515, 1524: 1516, 1525: 1517, 1526: 1518, 1527: 1519, 1528: 1520, 1529: 1521, 1530: 1522, 1531: 1523, 1532: 1524, 1533: 1525, 1534: 1526, 1535: 1527, 1536: 1528, 1537: 1529, 1538: 1530, 1539: 1531, 1540: 1532, 1541: 1533, 1542: 1534, 1543: 1535, 1544: 1536, 1545: 1537, 1546: 1538, 1547: 1539, 1548: 1540, 1549: 1541, 1550: 1542, 1551: 1543, 1552: 1544, 1553: 1545, 1554: 1546, 1555: 1547, 1556: 1548, 1557: 1549, 1558: 1550, 1559: 1551, 1560: 1552, 1561: 1553, 1562: 1554, 1563: 1555, 1564: 1556, 1565: 1557, 1566: 1558, 1567: 1559, 1568: 1560, 1569: 1561, 1570: 1562, 1571: 1563, 1572: 1564, 1573: 1565, 1574: 1566, 1575: 1567, 1576: 1568, 1577: 1569, 1578: 1570, 1579: 1571, 1580: 1572, 1581: 1573, 1582: 1574, 1583: 1575, 1584: 1576, 1585: 1577, 1586: 1578, 1587: 1579, 1588: 1580, 1589: 1581, 1590: 1582, 1591: 1583, 1592: 1584, 1593: 1585, 1594: 1586, 1595: 1587, 1596: 1588, 1597: 1589, 1598: 1590, 1599: 1591, 1600: 1592, 1601: 1593, 1602: 1594, 1603: 1595, 1604: 1596, 1605: 1597, 1606: 1598, 1607: 1599, 1608: 1600, 1609: 1601, 1610: 1602, 1611: 1603, 1612: 1604, 1613: 1605, 1614: 1606, 1615: 1607, 1616: 1608, 1617: 1609, 1618: 1610, 1619: 1611, 1620: 1612, 1621: 1613, 1622: 1614, 1623: 1615, 1624: 1616, 1625: 1617, 1626: 1618, 1627: 1619, 1628: 1620, 1629: 1621, 1630: 1622, 1631: 1623, 1632: 1624, 1633: 1625, 1634: 1626, 1635: 1627, 1636: 1628, 1637: 1629, 1638: 1630, 1639: 1631, 1640: 1632, 1641: 1633, 1642: 1634, 1643: 1635, 1644: 1636, 1645: 1637, 1646: 1638, 1647: 1639, 1648: 1640, 1649: 1641, 1650: 1642, 1651: 1643, 1652: 1644, 1653: 1645, 1654: 1646, 1655: 1647, 1656: 1648, 1657: 1649, 1658: 1650, 1659: 1651, 1660: 1652, 1661: 1653, 1662: 1654, 1663: 1655, 1664: 1656, 1665: 1657, 1666: 1658, 1667: 1659, 1668: 1660, 1669: 1661, 1670: 1662, 1671: 1663, 1672: 1664, 1673: 1665, 1674: 1666, 1675: 1667, 1676: 1668, 1677: 1669, 1678: 1670, 1679: 1671, 1680: 1672, 1681: 1673, 1682: 1674, 1683: 1675, 1684: 1676, 1685: 1677, 1686: 1678, 1687: 1679, 1688: 1680, 1689: 1681, 1690: 1682, 1691: 1683, 1692: 1684, 1693: 1685, 1694: 1686, 1695: 1687, 1696: 1688, 1697: 1689, 1698: 1690, 1699: 1691, 1700: 1692, 1701: 1693, 1702: 1694, 1703: 1695, 1704: 1696, 1705: 1697, 1706: 1698, 1707: 1699, 1708: 1700, 1709: 1701, 1710: 1702, 1711: 1703, 1712: 1704, 1713: 1705, 1714: 1706, 1715: 1707, 1716: 1708, 1717: 1709, 1718: 1710, 1719: 1711, 1720: 1712, 1721: 1713, 1722: 1714, 1723: 1715, 1724: 1716, 1725: 1717, 1726: 1718, 1727: 1719, 1728: 1720, 1729: 1721, 1730: 1722, 1731: 1723, 1732: 1724, 1733: 1725, 1734: 1726, 1735: 1727, 1736: 1728, 1737: 1729, 1738: 1730, 1739: 1731, 1740: 1732, 1741: 1733, 1742: 1734, 1743: 1735, 1744: 1736, 1745: 1737, 1746: 1738, 1747: 1739, 1748: 1740, 1749: 1741, 1750: 1742, 1751: 1743, 1752: 1744, 1753: 1745, 1754: 1746, 1755: 1747, 1756: 1748, 1757: 1749, 1758: 1750, 1759: 1751, 1760: 1752, 1761: 1753, 1762: 1754, 1763: 1755, 1764: 1756, 1765: 1757, 1766: 1758, 1767: 1759, 1768: 1760, 1769: 1761, 1770: 1762, 1771: 1763, 1772: 1764, 1773: 1765, 1774: 1766, 1775: 1767, 1776: 1768, 1777: 1769, 1778: 1770, 1779: 1771, 1780: 1772, 1781: 1773, 1782: 1774, 1783: 1775, 1784: 1776, 1785: 1777, 1786: 1778, 1787: 1779, 1788: 1780, 1789: 1781, 1790: 1782, 1791: 1783, 1792: 1784, 1793: 1785, 1794: 1786, 1795: 1787, 1796: 1788, 1797: 1789, 1798: 1790, 1799: 1791, 1800: 1792, 1801: 1793, 1802: 1794, 1803: 1795, 1804: 1796, 1805: 1797, 1806: 1798, 1807: 1799, 1808: 1800, 1809: 1801, 1810: 1802, 1811: 1803, 1812: 1804, 1813: 1805, 1814: 1806, 1815: 1807, 1816: 1808, 1817: 1809, 1818: 1810, 1819: 1811, 1820: 1812, 1821: 1813, 1822: 1814, 1823: 1815, 1824: 1816, 1825: 1817, 1826: 1818, 1827: 1819, 1828: 1820, 1829: 1821, 1830: 1822, 1831: 1823, 1832: 1824, 1833: 1825, 1834: 1826, 1835: 1827, 1836: 1828, 1837: 1829, 1838: 1830, 1839: 1831, 1840: 1832, 1841: 1833, 1842: 1834, 1843: 1835, 1844: 1836, 1845: 1837, 1846: 1838, 1847: 1839, 1848: 1840, 1849: 1841, 1850: 1842, 1851: 1843, 1852: 1844, 1853: 1845, 1854: 1846, 1855: 1847, 1856: 1848, 1857: 1849, 1858: 1850, 1859: 1851, 1860: 1852, 1861: 1853, 1862: 1854, 1863: 1855, 1864: 1856, 1865: 1857, 1866: 1858, 1867: 1859, 1868: 1860, 1869: 1861, 1870: 1862, 1871: 1863, 1872: 1864, 1873: 1865, 1874: 1866, 1875: 1867, 1876: 1868, 1877: 1869, 1878: 1870, 1879: 1871, 1880: 1872, 1881: 1873, 1882: 1874, 1883: 1875, 1884: 1876, 1885: 1877, 1886: 1878, 1887: 1879, 1888: 1880, 1889: 1881, 1890: 1882, 1891: 1883, 1892: 1884, 1893: 1885, 1894: 1886, 1895: 1887, 1896: 1888, 1897: 1889, 1898: 1890, 1899: 1891, 1900: 1892, 1901: 1893, 1903: 1894, 1904: 1895, 1905: 1896, 1906: 1897, 1907: 1898, 1908: 1899, 1909: 1900, 1911: 1901, 1912: 1902, 1913: 1903, 1914: 1904, 1916: 1905, 1917: 1906, 1918: 1907, 1919: 1908, 1920: 1909, 1921: 1910, 1922: 1911, 1924: 1912, 1926: 1913, 1928: 1914, 1929: 1915, 1930: 1916, 1931: 1917, 1932: 1918, 1933: 1919, 1934: 1920, 1935: 1921, 1936: 1922, 1937: 1923, 1938: 1924, 1939: 1925, 1940: 1926, 1941: 1927, 1942: 1928, 1943: 1929, 1944: 1930, 1945: 1931, 1946: 1932, 1947: 1933, 1948: 1934, 1949: 1935, 1950: 1936, 1951: 1937, 1952: 1938, 1953: 1939, 1954: 1940, 1955: 1941, 1956: 1942, 1957: 1943, 1958: 1944, 1959: 1945, 1960: 1946, 1961: 1947, 1962: 1948, 1963: 1949, 1964: 1950, 1965: 1951, 1966: 1952, 1967: 1953, 1968: 1954, 1969: 1955, 1970: 1956, 1971: 1957, 1972: 1958, 1973: 1959, 1974: 1960, 1975: 1961, 1976: 1962, 1977: 1963, 1978: 1964, 1979: 1965, 1980: 1966, 1981: 1967, 1982: 1968, 1983: 1969, 1984: 1970, 1985: 1971, 1986: 1972, 1987: 1973, 1988: 1974, 1989: 1975, 1990: 1976, 1991: 1977, 1992: 1978, 1993: 1979, 1994: 1980, 1995: 1981, 1996: 1982, 1997: 1983, 1998: 1984, 1999: 1985, 2000: 1986, 2001: 1987, 2002: 1988, 2003: 1989, 2004: 1990, 2005: 1991, 2006: 1992, 2007: 1993, 2008: 1994, 2009: 1995, 2010: 1996, 2011: 1997, 2012: 1998, 2013: 1999, 2014: 2000, 2015: 2001, 2016: 2002, 2017: 2003, 2018: 2004, 2019: 2005, 2020: 2006, 2021: 2007, 2022: 2008, 2023: 2009, 2024: 2010, 2025: 2011, 2026: 2012, 2027: 2013, 2028: 2014, 2029: 2015, 2030: 2016, 2031: 2017, 2032: 2018, 2033: 2019, 2034: 2020, 2035: 2021, 2036: 2022, 2037: 2023, 2038: 2024, 2039: 2025, 2040: 2026, 2041: 2027, 2042: 2028, 2043: 2029, 2044: 2030, 2045: 2031, 2046: 2032, 2047: 2033, 2048: 2034, 2049: 2035, 2050: 2036, 2051: 2037, 2052: 2038, 2053: 2039, 2054: 2040, 2055: 2041, 2056: 2042, 2057: 2043, 2058: 2044, 2059: 2045, 2060: 2046, 2061: 2047, 2062: 2048, 2063: 2049, 2064: 2050, 2065: 2051, 2066: 2052, 2067: 2053, 2068: 2054, 2069: 2055, 2070: 2056, 2071: 2057, 2072: 2058, 2073: 2059, 2074: 2060, 2075: 2061, 2076: 2062, 2077: 2063, 2078: 2064, 2079: 2065, 2080: 2066, 2081: 2067, 2082: 2068, 2083: 2069, 2084: 2070, 2085: 2071, 2086: 2072, 2087: 2073, 2088: 2074, 2089: 2075, 2090: 2076, 2091: 2077, 2092: 2078, 2093: 2079, 2094: 2080, 2095: 2081, 2096: 2082, 2097: 2083, 2098: 2084, 2099: 2085, 2100: 2086, 2101: 2087, 2102: 2088, 2103: 2089, 2104: 2090, 2105: 2091, 2106: 2092, 2107: 2093, 2108: 2094, 2109: 2095, 2110: 2096, 2111: 2097, 2112: 2098, 2113: 2099, 2114: 2100, 2115: 2101, 2116: 2102, 2117: 2103, 2118: 2104, 2119: 2105, 2120: 2106, 2121: 2107, 2122: 2108, 2123: 2109, 2124: 2110, 2125: 2111, 2126: 2112, 2127: 2113, 2128: 2114, 2129: 2115, 2130: 2116, 2131: 2117, 2132: 2118, 2133: 2119, 2134: 2120, 2135: 2121, 2136: 2122, 2137: 2123, 2138: 2124, 2139: 2125, 2140: 2126, 2141: 2127, 2142: 2128, 2143: 2129, 2144: 2130, 2145: 2131, 2146: 2132, 2147: 2133, 2148: 2134, 2149: 2135, 2150: 2136, 2151: 2137, 2152: 2138, 2153: 2139, 2154: 2140, 2155: 2141, 2156: 2142, 2157: 2143, 2158: 2144, 2159: 2145, 2160: 2146, 2161: 2147, 2162: 2148, 2163: 2149, 2164: 2150, 2165: 2151, 2166: 2152, 2167: 2153, 2168: 2154, 2169: 2155, 2170: 2156, 2171: 2157, 2172: 2158, 2173: 2159, 2174: 2160, 2175: 2161, 2176: 2162, 2177: 2163, 2178: 2164, 2179: 2165, 2180: 2166, 2181: 2167, 2182: 2168, 2183: 2169, 2184: 2170, 2185: 2171, 2186: 2172, 2187: 2173, 2188: 2174, 2189: 2175, 2190: 2176, 2191: 2177, 2192: 2178, 2193: 2179, 2194: 2180, 2195: 2181, 2196: 2182, 2197: 2183, 2198: 2184, 2199: 2185, 2200: 2186, 2201: 2187, 2202: 2188, 2203: 2189, 2204: 2190, 2205: 2191, 2206: 2192, 2207: 2193, 2208: 2194, 2209: 2195, 2210: 2196, 2211: 2197, 2212: 2198, 2213: 2199, 2214: 2200, 2215: 2201, 2216: 2202, 2217: 2203, 2218: 2204, 2219: 2205, 2220: 2206, 2221: 2207, 2222: 2208, 2223: 2209, 2224: 2210, 2225: 2211, 2226: 2212, 2227: 2213, 2228: 2214, 2229: 2215, 2230: 2216, 2231: 2217, 2232: 2218, 2233: 2219, 2234: 2220, 2235: 2221, 2236: 2222, 2237: 2223, 2238: 2224, 2239: 2225, 2240: 2226, 2241: 2227, 2242: 2228, 2243: 2229, 2244: 2230, 2245: 2231, 2246: 2232, 2247: 2233, 2248: 2234, 2249: 2235, 2250: 2236, 2251: 2237, 2252: 2238, 2253: 2239, 2254: 2240, 2255: 2241, 2256: 2242, 2257: 2243, 2258: 2244, 2259: 2245, 2260: 2246, 2261: 2247, 2262: 2248, 2263: 2249, 2264: 2250, 2265: 2251, 2266: 2252, 2267: 2253, 2268: 2254, 2269: 2255, 2270: 2256, 2271: 2257, 2272: 2258, 2273: 2259, 2274: 2260, 2275: 2261, 2276: 2262, 2277: 2263, 2278: 2264, 2279: 2265, 2280: 2266, 2281: 2267, 2282: 2268, 2283: 2269, 2284: 2270, 2285: 2271, 2286: 2272, 2287: 2273, 2288: 2274, 2289: 2275, 2290: 2276, 2291: 2277, 2292: 2278, 2293: 2279, 2294: 2280, 2295: 2281, 2296: 2282, 2297: 2283, 2298: 2284, 2299: 2285, 2300: 2286, 2301: 2287, 2302: 2288, 2303: 2289, 2304: 2290, 2305: 2291, 2306: 2292, 2307: 2293, 2308: 2294, 2309: 2295, 2310: 2296, 2311: 2297, 2312: 2298, 2313: 2299, 2314: 2300, 2315: 2301, 2316: 2302, 2317: 2303, 2318: 2304, 2319: 2305, 2320: 2306, 2321: 2307, 2322: 2308, 2323: 2309, 2324: 2310, 2325: 2311, 2326: 2312, 2327: 2313, 2328: 2314, 2329: 2315, 2330: 2316, 2331: 2317, 2332: 2318, 2333: 2319, 2334: 2320, 2335: 2321, 2336: 2322, 2337: 2323, 2338: 2324, 2339: 2325, 2340: 2326, 2341: 2327, 2342: 2328, 2343: 2329, 2344: 2330, 2345: 2331, 2346: 2332, 2347: 2333, 2348: 2334, 2349: 2335, 2350: 2336, 2351: 2337, 2352: 2338, 2353: 2339, 2354: 2340, 2355: 2341, 2356: 2342, 2357: 2343, 2358: 2344, 2359: 2345, 2360: 2346, 2361: 2347, 2362: 2348, 2363: 2349, 2364: 2350, 2365: 2351, 2366: 2352, 2367: 2353, 2368: 2354, 2369: 2355, 2370: 2356, 2371: 2357, 2372: 2358, 2373: 2359, 2374: 2360, 2375: 2361, 2376: 2362, 2377: 2363, 2378: 2364, 2379: 2365, 2380: 2366, 2381: 2367, 2382: 2368, 2383: 2369, 2384: 2370, 2385: 2371, 2386: 2372, 2387: 2373, 2388: 2374, 2389: 2375, 2390: 2376, 2391: 2377, 2392: 2378, 2393: 2379, 2394: 2380, 2395: 2381, 2396: 2382, 2397: 2383, 2398: 2384, 2399: 2385, 2400: 2386, 2401: 2387, 2402: 2388, 2403: 2389, 2404: 2390, 2405: 2391, 2406: 2392, 2407: 2393, 2408: 2394, 2409: 2395, 2410: 2396, 2411: 2397, 2412: 2398, 2413: 2399, 2414: 2400, 2415: 2401, 2416: 2402, 2417: 2403, 2418: 2404, 2419: 2405, 2420: 2406, 2421: 2407, 2422: 2408, 2423: 2409, 2424: 2410, 2425: 2411, 2426: 2412, 2427: 2413, 2428: 2414, 2429: 2415, 2430: 2416, 2431: 2417, 2432: 2418, 2433: 2419, 2434: 2420, 2435: 2421, 2436: 2422, 2437: 2423, 2438: 2424, 2439: 2425, 2440: 2426, 2441: 2427, 2442: 2428, 2443: 2429, 2444: 2430, 2445: 2431, 2446: 2432, 2447: 2433, 2448: 2434, 2449: 2435, 2450: 2436, 2451: 2437, 2452: 2438, 2453: 2439, 2454: 2440, 2455: 2441, 2456: 2442, 2457: 2443, 2458: 2444, 2459: 2445, 2460: 2446, 2461: 2447, 2462: 2448, 2463: 2449, 2464: 2450, 2465: 2451, 2466: 2452, 2467: 2453, 2468: 2454, 2469: 2455, 2470: 2456, 2471: 2457, 2472: 2458, 2473: 2459, 2474: 2460, 2475: 2461, 2476: 2462, 2477: 2463, 2478: 2464, 2479: 2465, 2480: 2466, 2481: 2467, 2482: 2468, 2483: 2469, 2484: 2470, 2485: 2471, 2486: 2472, 2487: 2473, 2488: 2474, 2489: 2475, 2490: 2476, 2491: 2477, 2492: 2478, 2493: 2479, 2494: 2480, 2495: 2481, 2496: 2482, 2497: 2483, 2498: 2484, 2499: 2485, 2500: 2486, 2501: 2487, 2502: 2488, 2503: 2489, 2504: 2490, 2505: 2491, 2506: 2492, 2507: 2493, 2508: 2494, 2509: 2495, 2510: 2496, 2511: 2497, 2512: 2498, 2513: 2499, 2514: 2500, 2515: 2501, 2516: 2502, 2517: 2503, 2520: 2504, 2521: 2505, 2522: 2506, 2523: 2507, 2524: 2508, 2525: 2509, 2529: 2510, 2530: 2511, 2531: 2512, 2532: 2513, 2533: 2514, 2534: 2515, 2535: 2516, 2536: 2517, 2537: 2518, 2538: 2519, 2539: 2520, 2540: 2521, 2541: 2522, 2542: 2523, 2543: 2524, 2544: 2525, 2545: 2526, 2546: 2527, 2547: 2528, 2548: 2529, 2549: 2530, 2550: 2531, 2551: 2532, 2552: 2533, 2553: 2534, 2554: 2535, 2555: 2536, 2556: 2537, 2557: 2538, 2558: 2539, 2559: 2540, 2560: 2541, 2561: 2542, 2562: 2543, 2563: 2544, 2564: 2545, 2565: 2546, 2566: 2547, 2567: 2548, 2568: 2549, 2569: 2550, 2570: 2551, 2571: 2552, 2572: 2553, 2573: 2554, 2574: 2555, 2575: 2556, 2576: 2557, 2577: 2558, 2578: 2559, 2579: 2560, 2580: 2561, 2581: 2562, 2582: 2563, 2583: 2564, 2584: 2565, 2585: 2566, 2586: 2567, 2587: 2568, 2588: 2569, 2589: 2570, 2590: 2571, 2591: 2572, 2592: 2573, 2593: 2574, 2594: 2575, 2595: 2576, 2596: 2577, 2597: 2578, 2598: 2579, 2599: 2580, 2600: 2581, 2601: 2582, 2602: 2583, 2603: 2584, 2604: 2585, 2605: 2586, 2606: 2587, 2607: 2588, 2608: 2589, 2609: 2590, 2610: 2591, 2611: 2592, 2612: 2593, 2613: 2594, 2614: 2595, 2615: 2596, 2616: 2597, 2617: 2598, 2618: 2599, 2619: 2600, 2620: 2601, 2621: 2602, 2622: 2603, 2623: 2604, 2624: 2605, 2625: 2606, 2626: 2607, 2627: 2608, 2628: 2609, 2629: 2610, 2630: 2611, 2631: 2612, 2632: 2613, 2633: 2614, 2634: 2615, 2635: 2616, 2636: 2617, 2637: 2618, 2638: 2619, 2639: 2620, 2640: 2621, 2641: 2622, 2642: 2623, 2643: 2624, 2644: 2625, 2645: 2626, 2646: 2627, 2647: 2628, 2648: 2629, 2649: 2630, 2650: 2631, 2651: 2632, 2652: 2633, 2653: 2634, 2654: 2635, 2655: 2636, 2656: 2637, 2657: 2638, 2658: 2639, 2659: 2640, 2660: 2641, 2661: 2642, 2662: 2643, 2663: 2644, 2664: 2645, 2665: 2646, 2666: 2647, 2667: 2648, 2668: 2649, 2669: 2650, 2670: 2651, 2671: 2652, 2672: 2653, 2673: 2654, 2674: 2655, 2675: 2656, 2676: 2657, 2677: 2658, 2678: 2659, 2679: 2660, 2680: 2661, 2681: 2662, 2682: 2663, 2683: 2664, 2684: 2665, 2685: 2666, 2686: 2667, 2687: 2668, 2688: 2669, 2689: 2670, 2690: 2671, 2691: 2672, 2692: 2673, 2693: 2674, 2694: 2675, 2695: 2676, 2696: 2677, 2697: 2678, 2698: 2679, 2699: 2680, 2700: 2681, 2701: 2682, 2702: 2683, 2703: 2684, 2704: 2685, 2705: 2686, 2706: 2687, 2707: 2688, 2708: 2689, 2709: 2690, 2710: 2691, 2711: 2692, 2712: 2693, 2713: 2694, 2714: 2695, 2715: 2696, 2716: 2697, 2717: 2698, 2718: 2699, 2719: 2700, 2720: 2701, 2721: 2702, 2722: 2703, 2723: 2704, 2724: 2705, 2725: 2706, 2726: 2707, 2727: 2708, 2728: 2709, 2729: 2710, 2730: 2711, 2731: 2712, 2732: 2713, 2733: 2714, 2734: 2715, 2735: 2716, 2736: 2717, 2737: 2718, 2738: 2719, 2739: 2720, 2740: 2721, 2741: 2722, 2742: 2723, 2743: 2724, 2744: 2725, 2745: 2726, 2746: 2727, 2747: 2728, 2748: 2729, 2749: 2730, 2750: 2731, 2751: 2732, 2752: 2733, 2753: 2734, 2754: 2735, 2755: 2736, 2756: 2737, 2757: 2738, 2758: 2739, 2759: 2740, 2760: 2741, 2761: 2742, 2762: 2743, 2763: 2744, 2764: 2745, 2765: 2746, 2766: 2747, 2767: 2748, 2768: 2749, 2769: 2750, 2770: 2751, 2771: 2752, 2772: 2753, 2773: 2754, 2774: 2755, 2775: 2756, 2776: 2757, 2777: 2758, 2778: 2759, 2779: 2760, 2780: 2761, 2781: 2762, 2782: 2763, 2783: 2764, 2784: 2765, 2785: 2766, 2786: 2767, 2787: 2768, 2788: 2769, 2789: 2770, 2790: 2771, 2791: 2772, 2792: 2773, 2793: 2774, 2794: 2775, 2795: 2776, 2796: 2777, 2797: 2778, 2798: 2779, 2799: 2780, 2800: 2781, 2801: 2782, 2802: 2783, 2803: 2784, 2804: 2785, 2805: 2786, 2806: 2787, 2807: 2788, 2808: 2789, 2809: 2790, 2810: 2791, 2811: 2792, 2812: 2793, 2813: 2794, 2814: 2795, 2815: 2796, 2816: 2797, 2817: 2798, 2818: 2799, 2819: 2800, 2820: 2801, 2821: 2802, 2822: 2803, 2823: 2804, 2824: 2805, 2825: 2806, 2826: 2807, 2827: 2808, 2828: 2809, 2829: 2810, 2830: 2811, 2831: 2812, 2832: 2813, 2833: 2814, 2834: 2815, 2835: 2816, 2836: 2817, 2837: 2818, 2838: 2819, 2839: 2820, 2840: 2821, 2841: 2822, 2842: 2823, 2843: 2824, 2844: 2825, 2845: 2826, 2846: 2827, 2847: 2828, 2848: 2829, 2849: 2830, 2850: 2831, 2851: 2832, 2852: 2833, 2853: 2834, 2854: 2835, 2855: 2836, 2856: 2837, 2857: 2838, 2858: 2839, 2859: 2840, 2860: 2841, 2861: 2842, 2862: 2843, 2863: 2844, 2864: 2845, 2865: 2846, 2866: 2847, 2867: 2848, 2868: 2849, 2869: 2850, 2870: 2851, 2871: 2852, 2872: 2853, 2873: 2854, 2874: 2855, 2875: 2856, 2876: 2857, 2877: 2858, 2878: 2859, 2879: 2860, 2880: 2861, 2881: 2862, 2882: 2863, 2883: 2864, 2884: 2865, 2885: 2866, 2886: 2867, 2887: 2868, 2888: 2869, 2889: 2870, 2890: 2871, 2891: 2872, 2892: 2873, 2893: 2874, 2894: 2875, 2895: 2876, 2896: 2877, 2897: 2878, 2898: 2879, 2899: 2880, 2900: 2881, 2901: 2882, 2902: 2883, 2903: 2884, 2904: 2885, 2905: 2886, 2906: 2887, 2907: 2888, 2908: 2889, 2909: 2890, 2910: 2891, 2911: 2892, 2912: 2893, 2913: 2894, 2914: 2895, 2915: 2896, 2916: 2897, 2917: 2898, 2918: 2899, 2919: 2900, 2920: 2901, 2921: 2902, 2922: 2903, 2923: 2904, 2924: 2905, 2925: 2906, 2926: 2907, 2927: 2908, 2928: 2909, 2929: 2910, 2930: 2911, 2931: 2912, 2932: 2913, 2933: 2914, 2934: 2915, 2935: 2916, 2936: 2917, 2937: 2918, 2938: 2919, 2939: 2920, 2940: 2921, 2941: 2922, 2942: 2923, 2943: 2924, 2944: 2925, 2945: 2926, 2946: 2927, 2947: 2928, 2948: 2929, 2949: 2930, 2950: 2931, 2951: 2932, 2952: 2933, 2953: 2934, 2954: 2935, 2955: 2936, 2956: 2937, 2957: 2938, 2958: 2939, 2959: 2940, 2960: 2941, 2961: 2942, 2962: 2943, 2963: 2944, 2964: 2945, 2965: 2946, 2966: 2947, 2967: 2948, 2968: 2949, 2969: 2950, 2970: 2951, 2971: 2952, 2972: 2953, 2973: 2954, 2974: 2955, 2975: 2956, 2976: 2957, 2977: 2958, 2978: 2959, 2979: 2960, 2980: 2961, 2981: 2962, 2982: 2963, 2983: 2964, 2984: 2965, 2985: 2966, 2986: 2967, 2987: 2968, 2988: 2969, 2989: 2970, 2990: 2971, 2991: 2972, 2992: 2973, 2993: 2974, 2994: 2975, 2995: 2976, 2996: 2977, 2997: 2978, 2998: 2979, 2999: 2980, 3000: 2981, 3001: 2982, 3002: 2983, 3003: 2984, 3004: 2985, 3005: 2986, 3006: 2987, 3007: 2988, 3008: 2989, 3009: 2990, 3010: 2991, 3011: 2992, 3012: 2993, 3013: 2994, 3014: 2995, 3015: 2996, 3016: 2997, 3017: 2998, 3018: 2999, 3019: 3000, 3020: 3001, 3021: 3002, 3022: 3003, 3023: 3004, 3024: 3005, 3025: 3006, 3026: 3007, 3027: 3008, 3028: 3009, 3029: 3010, 3030: 3011, 3031: 3012, 3032: 3013, 3033: 3014, 3034: 3015, 3035: 3016, 3036: 3017, 3037: 3018, 3038: 3019, 3039: 3020, 3040: 3021, 3041: 3022, 3042: 3023, 3043: 3024, 3044: 3025, 3045: 3026, 3046: 3027, 3047: 3028, 3048: 3029, 3049: 3030, 3050: 3031, 3051: 3032, 3052: 3033, 3053: 3034, 3054: 3035, 3055: 3036, 3056: 3037, 3057: 3038, 3058: 3039, 3059: 3040, 3060: 3041, 3061: 3042, 3062: 3043, 3063: 3044, 3064: 3045, 3065: 3046, 3066: 3047, 3067: 3048, 3068: 3049, 3069: 3050, 3070: 3051, 3071: 3052, 3072: 3053, 3073: 3054, 3074: 3055, 3075: 3056, 3076: 3057, 3077: 3058, 3078: 3059, 3079: 3060, 3080: 3061, 3081: 3062, 3082: 3063, 3083: 3064, 3084: 3065, 3085: 3066, 3086: 3067, 3087: 3068, 3088: 3069, 3089: 3070, 3090: 3071, 3091: 3072, 3092: 3073, 3093: 3074, 3094: 3075, 3095: 3076, 3096: 3077, 3097: 3078, 3098: 3079, 3099: 3080, 3100: 3081, 3101: 3082, 3102: 3083, 3103: 3084, 3104: 3085, 3105: 3086, 3106: 3087, 3107: 3088, 3108: 3089, 3109: 3090, 3110: 3091, 3111: 3092, 3112: 3093, 3113: 3094, 3114: 3095, 3115: 3096, 3116: 3097, 3117: 3098, 3118: 3099, 3119: 3100, 3120: 3101, 3121: 3102, 3122: 3103, 3123: 3104, 3124: 3105, 3125: 3106, 3126: 3107, 3127: 3108, 3128: 3109, 3129: 3110, 3130: 3111, 3131: 3112, 3132: 3113, 3133: 3114, 3134: 3115, 3135: 3116, 3136: 3117, 3137: 3118, 3138: 3119, 3139: 3120, 3140: 3121, 3141: 3122, 3142: 3123, 3143: 3124, 3144: 3125, 3145: 3126, 3146: 3127, 3147: 3128, 3148: 3129, 3149: 3130, 3150: 3131, 3151: 3132, 3152: 3133, 3153: 3134, 3154: 3135, 3155: 3136, 3156: 3137, 3157: 3138, 3158: 3139, 3159: 3140, 3160: 3141, 3161: 3142, 3162: 3143, 3163: 3144, 3164: 3145, 3165: 3146, 3166: 3147, 3167: 3148, 3168: 3149, 3169: 3150, 3170: 3151, 3171: 3152, 3172: 3153, 3173: 3154, 3174: 3155, 3175: 3156, 3176: 3157, 3177: 3158, 3178: 3159, 3179: 3160, 3180: 3161, 3181: 3162, 3182: 3163, 3183: 3164, 3184: 3165, 3185: 3166, 3186: 3167, 3187: 3168, 3188: 3169, 3189: 3170, 3190: 3171, 3191: 3172, 3192: 3173, 3193: 3174, 3194: 3175, 3195: 3176, 3196: 3177, 3197: 3178, 3198: 3179, 3199: 3180, 3200: 3181, 3201: 3182, 3202: 3183, 3203: 3184, 3204: 3185, 3205: 3186, 3207: 3187, 3208: 3188, 3212: 3189, 3215: 3190, 3216: 3191, 3220: 3192, 3221: 3193, 3224: 3194, 3226: 3195, 3229: 3196, 3230: 3197, 3233: 3198, 3235: 3199, 3236: 3200, 3237: 3201, 3238: 3202, 3239: 3203, 3240: 3204, 3241: 3205, 3242: 3206, 3243: 3207, 3244: 3208, 3245: 3209, 3246: 3210, 3247: 3211, 3248: 3212, 3249: 3213, 3250: 3214, 3251: 3215, 3252: 3216, 3253: 3217, 3254: 3218, 3255: 3219, 3256: 3220, 3257: 3221, 3258: 3222, 3259: 3223, 3260: 3224, 3261: 3225, 3262: 3226, 3263: 3227, 3264: 3228, 3265: 3229, 3266: 3230, 3267: 3231, 3268: 3232, 3269: 3233, 3270: 3234, 3271: 3235, 3272: 3236, 3273: 3237, 3274: 3238, 3275: 3239, 3276: 3240, 3277: 3241, 3278: 3242, 3279: 3243, 3280: 3244, 3281: 3245, 3282: 3246, 3283: 3247, 3284: 3248, 3285: 3249, 3286: 3250, 3287: 3251, 3288: 3252, 3289: 3253, 3290: 3254, 3291: 3255, 3292: 3256, 3293: 3257, 3294: 3258, 3295: 3259, 3296: 3260, 3297: 3261, 3298: 3262, 3299: 3263, 3300: 3264, 3301: 3265, 3302: 3266, 3303: 3267, 3304: 3268, 3305: 3269, 3306: 3270, 3307: 3271, 3308: 3272, 3309: 3273, 3310: 3274, 3311: 3275, 3312: 3276, 3313: 3277, 3314: 3278, 3315: 3279, 3316: 3280, 3317: 3281, 3318: 3282, 3319: 3283, 3320: 3284, 3321: 3285, 3322: 3286, 3323: 3287, 3324: 3288, 3325: 3289, 3326: 3290, 3327: 3291, 3328: 3292, 3329: 3293, 3330: 3294, 3331: 3295, 3332: 3296, 3333: 3297, 3334: 3298, 3335: 3299, 3336: 3300, 3337: 3301, 3338: 3302, 3339: 3303, 3340: 3304, 3341: 3305, 3342: 3306, 3343: 3307, 3344: 3308, 3345: 3309, 3346: 3310, 3347: 3311, 3348: 3312, 3349: 3313, 3350: 3314, 3351: 3315, 3352: 3316, 3353: 3317, 3354: 3318, 3355: 3319, 3356: 3320, 3357: 3321, 3358: 3322, 3359: 3323, 3360: 3324, 3361: 3325, 3362: 3326, 3363: 3327, 3364: 3328, 3365: 3329, 3366: 3330, 3367: 3331, 3368: 3332, 3369: 3333, 3370: 3334, 3371: 3335, 3372: 3336, 3373: 3337, 3374: 3338, 3375: 3339, 3376: 3340, 3377: 3341, 3378: 3342, 3379: 3343, 3380: 3344, 3381: 3345, 3382: 3346, 3383: 3347, 3384: 3348, 3385: 3349, 3386: 3350, 3387: 3351, 3388: 3352, 3389: 3353, 3390: 3354, 3391: 3355, 3392: 3356, 3393: 3357, 3394: 3358, 3395: 3359, 3396: 3360, 3397: 3361, 3398: 3362, 3399: 3363, 3400: 3364, 3401: 3365, 3402: 3366, 3403: 3367, 3404: 3368, 3405: 3369, 3406: 3370, 3407: 3371, 3408: 3372, 3409: 3373, 3410: 3374, 3411: 3375, 3412: 3376, 3413: 3377, 3414: 3378, 3415: 3379, 3416: 3380, 3417: 3381, 3418: 3382, 3419: 3383, 3420: 3384, 3421: 3385, 3422: 3386, 3423: 3387, 3424: 3388, 3425: 3389, 3426: 3390, 3427: 3391, 3428: 3392, 3429: 3393, 3430: 3394, 3431: 3395, 3432: 3396, 3433: 3397, 3434: 3398, 3435: 3399, 3436: 3400, 3437: 3401, 3438: 3402, 3439: 3403, 3440: 3404, 3441: 3405, 3442: 3406, 3443: 3407, 3444: 3408, 3445: 3409, 3446: 3410, 3447: 3411, 3448: 3412, 3449: 3413, 3450: 3414, 3451: 3415, 3452: 3416, 3453: 3417, 3454: 3418, 3455: 3419, 3456: 3420, 3457: 3421, 3458: 3422, 3459: 3423, 3460: 3424, 3461: 3425, 3462: 3426, 3463: 3427, 3464: 3428, 3465: 3429, 3466: 3430, 3467: 3431, 3468: 3432, 3469: 3433, 3470: 3434, 3471: 3435, 3472: 3436, 3473: 3437, 3474: 3438, 3475: 3439, 3476: 3440, 3477: 3441, 3478: 3442, 3479: 3443, 3480: 3444, 3481: 3445, 3482: 3446, 3483: 3447, 3484: 3448, 3485: 3449, 3486: 3450, 3487: 3451, 3488: 3452, 3489: 3453, 3490: 3454, 3491: 3455, 3492: 3456, 3493: 3457, 3494: 3458, 3495: 3459, 3496: 3460, 3497: 3461, 3498: 3462, 3499: 3463, 3500: 3464, 3501: 3465, 3502: 3466, 3503: 3467, 3504: 3468, 3505: 3469, 3507: 3470, 3508: 3471, 3509: 3472, 3510: 3473, 3511: 3474, 3512: 3475, 3516: 3476, 3519: 3477, 3520: 3478, 3522: 3479, 3526: 3480, 3527: 3481, 3528: 3482, 3529: 3483, 3530: 3484, 3531: 3485, 3533: 3486, 3535: 3487, 3536: 3488, 3538: 3489, 3539: 3490, 3540: 3491, 3541: 3492, 3542: 3493, 3543: 3494, 3544: 3495, 3545: 3496, 3546: 3497, 3547: 3498, 3548: 3499, 3549: 3500, 3550: 3501, 3551: 3502, 3552: 3503, 3553: 3504, 3554: 3505, 3555: 3506, 3556: 3507, 3557: 3508, 3558: 3509, 3559: 3510, 3560: 3511, 3561: 3512, 3562: 3513, 3563: 3514, 3564: 3515, 3565: 3516, 3566: 3517, 3567: 3518, 3568: 3519, 3569: 3520, 3570: 3521, 3571: 3522, 3572: 3523, 3573: 3524, 3574: 3525, 3575: 3526, 3576: 3527, 3577: 3528, 3578: 3529, 3579: 3530, 3580: 3531, 3581: 3532, 3582: 3533, 3583: 3534, 3584: 3535, 3585: 3536, 3586: 3537, 3587: 3538, 3588: 3539, 3589: 3540, 3590: 3541, 3591: 3542, 3592: 3543, 3593: 3544, 3594: 3545, 3595: 3546, 3596: 3547, 3597: 3548, 3598: 3549, 3599: 3550, 3600: 3551, 3601: 3552, 3602: 3553, 3603: 3554, 3604: 3555, 3605: 3556, 3606: 3557, 3607: 3558, 3608: 3559, 3609: 3560, 3610: 3561, 3611: 3562, 3612: 3563, 3613: 3564, 3614: 3565, 3615: 3566, 3616: 3567, 3617: 3568, 3618: 3569, 3619: 3570, 3620: 3571, 3621: 3572, 3622: 3573, 3623: 3574, 3624: 3575, 3626: 3576, 3627: 3577, 3634: 3578, 3635: 3579, 3636: 3580, 3637: 3581, 3639: 3582, 3644: 3583, 3645: 3584, 3647: 3585, 3649: 3586, 3654: 3587, 3656: 3588, 3659: 3589, 3661: 3590, 3662: 3591, 3663: 3592, 3664: 3593, 3665: 3594, 3666: 3595, 3667: 3596, 3668: 3597, 3669: 3598, 3670: 3599, 3671: 3600, 3672: 3601, 3673: 3602, 3674: 3603, 3675: 3604, 3676: 3605, 3677: 3606, 3678: 3607, 3680: 3608, 3681: 3609, 3682: 3610, 3683: 3611, 3684: 3612, 3685: 3613, 3686: 3614, 3687: 3615, 3688: 3616, 3689: 3617, 3690: 3618, 3691: 3619, 3692: 3620, 3693: 3621, 3694: 3622, 3695: 3623, 3696: 3624, 3697: 3625, 3698: 3626, 3699: 3627, 3700: 3628, 3701: 3629, 3702: 3630, 3704: 3631, 3705: 3632, 3706: 3633, 3707: 3634, 3709: 3635, 3710: 3636, 3711: 3637, 3712: 3638, 3713: 3639, 3715: 3640, 3716: 3641, 3717: 3642, 3718: 3643, 3719: 3644, 3720: 3645, 3721: 3646, 3722: 3647, 3723: 3648, 3724: 3649, 3725: 3650, 3726: 3651, 3727: 3652, 3728: 3653, 3729: 3654, 3730: 3655, 3731: 3656, 3732: 3657, 3733: 3658, 3734: 3659, 3735: 3660, 3736: 3661, 3737: 3662, 3738: 3663, 3739: 3664, 3740: 3665, 3741: 3666, 3742: 3667, 3743: 3668, 3744: 3669, 3745: 3670, 3746: 3671, 3747: 3672, 3748: 3673, 3749: 3674, 3750: 3675, 3751: 3676, 3752: 3677, 3753: 3678, 3754: 3679, 3755: 3680, 3756: 3681, 3757: 3682, 3758: 3683, 3759: 3684, 3760: 3685, 3761: 3686, 3762: 3687, 3763: 3688, 3764: 3689, 3765: 3690, 3766: 3691, 3767: 3692, 3768: 3693, 3769: 3694, 3770: 3695, 3771: 3696, 3772: 3697, 3773: 3698, 3774: 3699, 3775: 3700, 3776: 3701, 3777: 3702, 3778: 3703, 3779: 3704, 3780: 3705, 3781: 3706, 3782: 3707, 3783: 3708, 3784: 3709, 3785: 3710, 3786: 3711, 3787: 3712, 3788: 3713, 3789: 3714, 3790: 3715, 3791: 3716, 3792: 3717, 3793: 3718, 3794: 3719, 3795: 3720, 3796: 3721, 3797: 3722, 3798: 3723, 3799: 3724, 3800: 3725, 3801: 3726, 3802: 3727, 3803: 3728, 3804: 3729, 3805: 3730, 3806: 3731, 3807: 3732, 3808: 3733, 3809: 3734, 3810: 3735, 3811: 3736, 3812: 3737, 3813: 3738, 3814: 3739, 3815: 3740, 3816: 3741, 3817: 3742, 3818: 3743, 3819: 3744, 3820: 3745, 3821: 3746, 3822: 3747, 3823: 3748, 3824: 3749, 3825: 3750, 3826: 3751, 3827: 3752, 3828: 3753, 3829: 3754, 3830: 3755, 3831: 3756, 3832: 3757, 3833: 3758, 3834: 3759, 3835: 3760, 3836: 3761, 3837: 3762, 3838: 3763, 3839: 3764, 3840: 3765, 3841: 3766, 3842: 3767, 3843: 3768, 3844: 3769, 3845: 3770, 3846: 3771, 3847: 3772, 3848: 3773, 3849: 3774, 3850: 3775, 3851: 3776, 3852: 3777, 3853: 3778, 3854: 3779, 3855: 3780, 3856: 3781, 3857: 3782, 3858: 3783, 3859: 3784, 3860: 3785, 3861: 3786, 3862: 3787, 3863: 3788, 3864: 3789, 3865: 3790, 3866: 3791, 3867: 3792, 3868: 3793, 3869: 3794, 3870: 3795, 3871: 3796, 3872: 3797, 3873: 3798, 3874: 3799, 3875: 3800, 3876: 3801, 3877: 3802, 3878: 3803, 3879: 3804, 3880: 3805, 3881: 3806, 3882: 3807, 3883: 3808, 3884: 3809, 3885: 3810, 3886: 3811, 3887: 3812, 3888: 3813, 3889: 3814, 3890: 3815, 3891: 3816, 3892: 3817, 3893: 3818, 3894: 3819, 3895: 3820, 3896: 3821, 3897: 3822, 3898: 3823, 3899: 3824, 3900: 3825, 3901: 3826, 3902: 3827, 3903: 3828, 3904: 3829, 3905: 3830, 3906: 3831, 3907: 3832, 3908: 3833, 3909: 3834, 3910: 3835, 3911: 3836, 3912: 3837, 3913: 3838, 3914: 3839, 3915: 3840, 3916: 3841, 3917: 3842, 3918: 3843, 3919: 3844, 3920: 3845, 3921: 3846, 3922: 3847, 3923: 3848, 3924: 3849, 3925: 3850, 3926: 3851, 3927: 3852, 3928: 3853, 3929: 3854, 3930: 3855, 3931: 3856, 3932: 3857, 3933: 3858, 3934: 3859, 3935: 3860, 3936: 3861, 3937: 3862, 3938: 3863, 3939: 3864, 3940: 3865, 3941: 3866, 3942: 3867, 3943: 3868, 3944: 3869, 3945: 3870, 3946: 3871, 3947: 3872, 3948: 3873, 3949: 3874, 3950: 3875, 3951: 3876, 3952: 3877, 3953: 3878, 3954: 3879, 3955: 3880, 3956: 3881, 3957: 3882, 3958: 3883, 3959: 3884, 3960: 3885, 3961: 3886, 3962: 3887, 3963: 3888, 3964: 3889, 3965: 3890, 3966: 3891, 3967: 3892, 3968: 3893, 3969: 3894, 3970: 3895, 3971: 3896, 3972: 3897, 3973: 3898, 3974: 3899, 3975: 3900, 3976: 3901, 3977: 3902, 3978: 3903, 3979: 3904, 3980: 3905, 3981: 3906, 3982: 3907, 3983: 3908, 3984: 3909, 3985: 3910, 3986: 3911, 3987: 3912, 3988: 3913, 3989: 3914, 3990: 3915, 3991: 3916, 3992: 3917, 3993: 3918, 3994: 3919, 3995: 3920, 3996: 3921, 3997: 3922, 3998: 3923, 3999: 3924, 4000: 3925, 4001: 3926, 4002: 3927, 4003: 3928, 4004: 3929, 4005: 3930, 4006: 3931, 4007: 3932, 4008: 3933, 4009: 3934, 4010: 3935, 4011: 3936, 4012: 3937, 4013: 3938, 4014: 3939, 4015: 3940, 4016: 3941, 4017: 3942, 4018: 3943, 4019: 3944, 4020: 3945, 4021: 3946, 4022: 3947, 4023: 3948, 4024: 3949, 4025: 3950, 4026: 3951, 4027: 3952, 4028: 3953, 4029: 3954, 4030: 3955, 4031: 3956, 4032: 3957, 4033: 3958, 4034: 3959, 4035: 3960, 4036: 3961, 4037: 3962, 4038: 3963, 4039: 3964, 4040: 3965, 4041: 3966, 4042: 3967, 4043: 3968, 4044: 3969, 4045: 3970, 4046: 3971, 4047: 3972, 4048: 3973, 4049: 3974, 4050: 3975, 4051: 3976, 4052: 3977, 4053: 3978, 4054: 3979, 4055: 3980, 4056: 3981, 4057: 3982, 4058: 3983, 4059: 3984, 4060: 3985, 4061: 3986, 4062: 3987, 4063: 3988, 4064: 3989, 4065: 3990, 4066: 3991, 4067: 3992, 4068: 3993, 4069: 3994, 4070: 3995, 4071: 3996, 4072: 3997, 4073: 3998, 4074: 3999, 4075: 4000, 4076: 4001, 4077: 4002, 4078: 4003, 4079: 4004, 4080: 4005, 4081: 4006, 4085: 4007, 4086: 4008, 4088: 4009, 4090: 4010, 4091: 4011, 4093: 4012, 4094: 4013, 4095: 4014, 4096: 4015, 4097: 4016, 4098: 4017, 4099: 4018, 4100: 4019, 4101: 4020, 4102: 4021, 4103: 4022, 4104: 4023, 4105: 4024, 4106: 4025, 4107: 4026, 4108: 4027, 4109: 4028, 4110: 4029, 4112: 4030, 4113: 4031, 4114: 4032, 4115: 4033, 4116: 4034, 4117: 4035, 4118: 4036, 4120: 4037, 4121: 4038, 4122: 4039, 4123: 4040, 4124: 4041, 4125: 4042, 4126: 4043, 4127: 4044, 4128: 4045, 4129: 4046, 4130: 4047, 4131: 4048, 4132: 4049, 4133: 4050, 4134: 4051, 4135: 4052, 4136: 4053, 4137: 4054, 4138: 4055, 4139: 4056, 4140: 4057, 4141: 4058, 4142: 4059, 4143: 4060, 4144: 4061, 4145: 4062, 4146: 4063, 4147: 4064, 4148: 4065, 4149: 4066, 4150: 4067, 4151: 4068, 4152: 4069, 4153: 4070, 4154: 4071, 4155: 4072, 4156: 4073, 4157: 4074, 4158: 4075, 4159: 4076, 4160: 4077, 4161: 4078, 4162: 4079, 4163: 4080, 4164: 4081, 4165: 4082, 4166: 4083, 4167: 4084, 4168: 4085, 4169: 4086, 4170: 4087, 4171: 4088, 4172: 4089, 4173: 4090, 4174: 4091, 4175: 4092, 4176: 4093, 4177: 4094, 4178: 4095, 4179: 4096, 4180: 4097, 4181: 4098, 4182: 4099, 4183: 4100, 4184: 4101, 4185: 4102, 4186: 4103, 4187: 4104, 4188: 4105, 4189: 4106, 4190: 4107, 4191: 4108, 4192: 4109, 4193: 4110, 4194: 4111, 4195: 4112, 4196: 4113, 4197: 4114, 4198: 4115, 4199: 4116, 4200: 4117, 4201: 4118, 4202: 4119, 4203: 4120, 4204: 4121, 4205: 4122, 4206: 4123, 4207: 4124, 4208: 4125, 4209: 4126, 4210: 4127, 4211: 4128, 4212: 4129, 4213: 4130, 4214: 4131, 4215: 4132, 4216: 4133, 4217: 4134, 4218: 4135, 4219: 4136, 4220: 4137, 4221: 4138, 4222: 4139, 4223: 4140, 4224: 4141, 4225: 4142, 4226: 4143, 4227: 4144, 4228: 4145, 4229: 4146, 4230: 4147, 4231: 4148, 4232: 4149, 4233: 4150, 4234: 4151, 4235: 4152, 4236: 4153, 4237: 4154, 4238: 4155, 4239: 4156, 4240: 4157, 4241: 4158, 4242: 4159, 4243: 4160, 4244: 4161, 4245: 4162, 4246: 4163, 4247: 4164, 4248: 4165, 4249: 4166, 4250: 4167, 4251: 4168, 4252: 4169, 4253: 4170, 4254: 4171, 4255: 4172, 4256: 4173, 4257: 4174, 4258: 4175, 4259: 4176, 4260: 4177, 4261: 4178, 4262: 4179, 4263: 4180, 4264: 4181, 4265: 4182, 4266: 4183, 4267: 4184, 4268: 4185, 4269: 4186, 4270: 4187, 4271: 4188, 4272: 4189, 4273: 4190, 4274: 4191, 4275: 4192, 4276: 4193, 4277: 4194, 4278: 4195, 4279: 4196, 4280: 4197, 4281: 4198, 4282: 4199, 4283: 4200, 4284: 4201, 4285: 4202, 4286: 4203, 4287: 4204, 4288: 4205, 4289: 4206, 4290: 4207, 4291: 4208, 4292: 4209, 4293: 4210, 4294: 4211, 4295: 4212, 4296: 4213, 4297: 4214, 4298: 4215, 4299: 4216, 4300: 4217, 4301: 4218, 4302: 4219, 4303: 4220, 4304: 4221, 4305: 4222, 4306: 4223, 4307: 4224, 4308: 4225, 4309: 4226, 4310: 4227, 4311: 4228, 4312: 4229, 4313: 4230, 4314: 4231, 4315: 4232, 4316: 4233, 4317: 4234, 4318: 4235, 4319: 4236, 4320: 4237, 4321: 4238, 4322: 4239, 4323: 4240, 4324: 4241, 4325: 4242, 4326: 4243, 4327: 4244, 4328: 4245, 4329: 4246, 4330: 4247, 4331: 4248, 4332: 4249, 4333: 4250, 4334: 4251, 4335: 4252, 4336: 4253, 4337: 4254, 4338: 4255, 4339: 4256, 4340: 4257, 4341: 4258, 4342: 4259, 4343: 4260, 4344: 4261, 4345: 4262, 4346: 4263, 4347: 4264, 4348: 4265, 4349: 4266, 4350: 4267, 4351: 4268, 4352: 4269, 4353: 4270, 4354: 4271, 4355: 4272, 4356: 4273, 4357: 4274, 4358: 4275, 4359: 4276, 4360: 4277, 4361: 4278, 4362: 4279, 4363: 4280, 4364: 4281, 4365: 4282, 4366: 4283, 4367: 4284, 4368: 4285, 4369: 4286, 4370: 4287, 4371: 4288, 4372: 4289, 4373: 4290, 4374: 4291, 4375: 4292, 4376: 4293, 4377: 4294, 4378: 4295, 4379: 4296, 4380: 4297, 4381: 4298, 4382: 4299, 4383: 4300, 4384: 4301, 4385: 4302, 4386: 4303, 4387: 4304, 4388: 4305, 4389: 4306, 4390: 4307, 4391: 4308, 4392: 4309, 4393: 4310, 4394: 4311, 4395: 4312, 4396: 4313, 4397: 4314, 4398: 4315, 4399: 4316, 4400: 4317, 4401: 4318, 4402: 4319, 4403: 4320, 4404: 4321, 4405: 4322, 4406: 4323, 4407: 4324, 4408: 4325, 4409: 4326, 4410: 4327, 4411: 4328, 4412: 4329, 4413: 4330, 4414: 4331, 4415: 4332, 4416: 4333, 4417: 4334, 4418: 4335, 4419: 4336, 4420: 4337, 4421: 4338, 4422: 4339, 4423: 4340, 4424: 4341, 4425: 4342, 4426: 4343, 4427: 4344, 4428: 4345, 4429: 4346, 4430: 4347, 4431: 4348, 4432: 4349, 4433: 4350, 4434: 4351, 4435: 4352, 4436: 4353, 4437: 4354, 4438: 4355, 4439: 4356, 4440: 4357, 4441: 4358, 4442: 4359, 4443: 4360, 4444: 4361, 4445: 4362, 4446: 4363, 4447: 4364, 4448: 4365, 4449: 4366, 4450: 4367, 4451: 4368, 4452: 4369, 4453: 4370, 4454: 4371, 4456: 4372, 4457: 4373, 4458: 4374, 4459: 4375, 4460: 4376, 4461: 4377, 4462: 4378, 4463: 4379, 4464: 4380, 4465: 4381, 4466: 4382, 4467: 4383, 4468: 4384, 4469: 4385, 4470: 4386, 4472: 4387, 4473: 4388, 4479: 4389, 4480: 4390, 4483: 4391, 4485: 4392, 4486: 4393, 4487: 4394, 4488: 4395, 4489: 4396, 4490: 4397, 4491: 4398, 4492: 4399, 4493: 4400, 4494: 4401, 4495: 4402, 4496: 4403, 4497: 4404, 4498: 4405, 4499: 4406, 4500: 4407, 4501: 4408, 4502: 4409, 4503: 4410, 4504: 4411, 4505: 4412, 4506: 4413, 4507: 4414, 4508: 4415, 4509: 4416, 4510: 4417, 4511: 4418, 4512: 4419, 4513: 4420, 4514: 4421, 4515: 4422, 4516: 4423, 4517: 4424, 4518: 4425, 4519: 4426, 4520: 4427, 4521: 4428, 4522: 4429, 4523: 4430, 4524: 4431, 4525: 4432, 4526: 4433, 4527: 4434, 4528: 4435, 4529: 4436, 4530: 4437, 4531: 4438, 4532: 4439, 4533: 4440, 4534: 4441, 4535: 4442, 4536: 4443, 4537: 4444, 4538: 4445, 4539: 4446, 4540: 4447, 4541: 4448, 4542: 4449, 4543: 4450, 4544: 4451, 4545: 4452, 4546: 4453, 4547: 4454, 4548: 4455, 4549: 4456, 4550: 4457, 4551: 4458, 4552: 4459, 4553: 4460, 4554: 4461, 4555: 4462, 4556: 4463, 4557: 4464, 4558: 4465, 4559: 4466, 4560: 4467, 4561: 4468, 4562: 4469, 4563: 4470, 4564: 4471, 4565: 4472, 4566: 4473, 4567: 4474, 4568: 4475, 4569: 4476, 4570: 4477, 4571: 4478, 4572: 4479, 4573: 4480, 4574: 4481, 4575: 4482, 4576: 4483, 4577: 4484, 4578: 4485, 4579: 4486, 4580: 4487, 4581: 4488, 4582: 4489, 4583: 4490, 4584: 4491, 4585: 4492, 4586: 4493, 4587: 4494, 4588: 4495, 4589: 4496, 4590: 4497, 4591: 4498, 4592: 4499, 4593: 4500, 4594: 4501, 4595: 4502, 4596: 4503, 4597: 4504, 4598: 4505, 4599: 4506, 4600: 4507, 4601: 4508, 4602: 4509, 4603: 4510, 4604: 4511, 4605: 4512, 4606: 4513, 4607: 4514, 4608: 4515, 4609: 4516, 4610: 4517, 4611: 4518, 4612: 4519, 4613: 4520, 4614: 4521, 4615: 4522, 4616: 4523, 4617: 4524, 4618: 4525, 4619: 4526, 4620: 4527, 4621: 4528, 4622: 4529, 4623: 4530, 4624: 4531, 4625: 4532, 4626: 4533, 4627: 4534, 4628: 4535, 4629: 4536, 4630: 4537, 4631: 4538, 4632: 4539, 4633: 4540, 4634: 4541, 4635: 4542, 4636: 4543, 4637: 4544, 4638: 4545, 4639: 4546, 4640: 4547, 4641: 4548, 4642: 4549, 4643: 4550, 4644: 4551, 4645: 4552, 4646: 4553, 4647: 4554, 4648: 4555, 4649: 4556, 4650: 4557, 4651: 4558, 4652: 4559, 4653: 4560, 4654: 4561, 4655: 4562, 4656: 4563, 4657: 4564, 4658: 4565, 4659: 4566, 4660: 4567, 4661: 4568, 4662: 4569, 4663: 4570, 4664: 4571, 4665: 4572, 4668: 4573, 4669: 4574, 4670: 4575, 4674: 4576, 4677: 4577, 4678: 4578, 4679: 4579, 4680: 4580, 4684: 4581, 4685: 4582, 4686: 4583, 4687: 4584, 4688: 4585, 4689: 4586, 4690: 4587, 4691: 4588, 4692: 4589, 4693: 4590, 4694: 4591, 4695: 4592, 4696: 4593, 4697: 4594, 4698: 4595, 4699: 4596, 4700: 4597, 4701: 4598, 4702: 4599, 4703: 4600, 4704: 4601, 4705: 4602, 4706: 4603, 4707: 4604, 4708: 4605, 4709: 4606, 4710: 4607, 4711: 4608, 4712: 4609, 4715: 4610, 4716: 4611, 4718: 4612, 4719: 4613, 4721: 4614, 4722: 4615, 4723: 4616, 4724: 4617, 4725: 4618, 4726: 4619, 4727: 4620, 4730: 4621, 4731: 4622, 4732: 4623, 4733: 4624, 4734: 4625, 4735: 4626, 4736: 4627, 4737: 4628, 4738: 4629, 4739: 4630, 4740: 4631, 4741: 4632, 4742: 4633, 4743: 4634, 4744: 4635, 4745: 4636, 4746: 4637, 4747: 4638, 4748: 4639, 4749: 4640, 4750: 4641, 4751: 4642, 4752: 4643, 4753: 4644, 4754: 4645, 4755: 4646, 4756: 4647, 4757: 4648, 4758: 4649, 4759: 4650, 4760: 4651, 4761: 4652, 4762: 4653, 4763: 4654, 4764: 4655, 4765: 4656, 4766: 4657, 4767: 4658, 4768: 4659, 4769: 4660, 4770: 4661, 4771: 4662, 4772: 4663, 4773: 4664, 4774: 4665, 4775: 4666, 4776: 4667, 4777: 4668, 4778: 4669, 4779: 4670, 4780: 4671, 4781: 4672, 4782: 4673, 4783: 4674, 4784: 4675, 4785: 4676, 4786: 4677, 4787: 4678, 4788: 4679, 4789: 4680, 4790: 4681, 4791: 4682, 4792: 4683, 4793: 4684, 4794: 4685, 4795: 4686, 4796: 4687, 4797: 4688, 4798: 4689, 4799: 4690, 4800: 4691, 4801: 4692, 4802: 4693, 4803: 4694, 4804: 4695, 4805: 4696, 4806: 4697, 4807: 4698, 4808: 4699, 4809: 4700, 4810: 4701, 4811: 4702, 4812: 4703, 4813: 4704, 4814: 4705, 4815: 4706, 4816: 4707, 4817: 4708, 4818: 4709, 4819: 4710, 4820: 4711, 4821: 4712, 4822: 4713, 4823: 4714, 4824: 4715, 4825: 4716, 4826: 4717, 4827: 4718, 4828: 4719, 4829: 4720, 4830: 4721, 4831: 4722, 4832: 4723, 4833: 4724, 4834: 4725, 4835: 4726, 4836: 4727, 4837: 4728, 4838: 4729, 4839: 4730, 4840: 4731, 4841: 4732, 4842: 4733, 4843: 4734, 4844: 4735, 4845: 4736, 4846: 4737, 4847: 4738, 4848: 4739, 4849: 4740, 4850: 4741, 4851: 4742, 4852: 4743, 4853: 4744, 4854: 4745, 4855: 4746, 4856: 4747, 4857: 4748, 4858: 4749, 4859: 4750, 4860: 4751, 4861: 4752, 4862: 4753, 4863: 4754, 4864: 4755, 4865: 4756, 4866: 4757, 4867: 4758, 4868: 4759, 4869: 4760, 4870: 4761, 4871: 4762, 4872: 4763, 4873: 4764, 4874: 4765, 4875: 4766, 4876: 4767, 4877: 4768, 4878: 4769, 4879: 4770, 4880: 4771, 4881: 4772, 4882: 4773, 4883: 4774, 4884: 4775, 4885: 4776, 4886: 4777, 4887: 4778, 4888: 4779, 4889: 4780, 4890: 4781, 4891: 4782, 4892: 4783, 4893: 4784, 4894: 4785, 4895: 4786, 4896: 4787, 4897: 4788, 4898: 4789, 4899: 4790, 4900: 4791, 4901: 4792, 4902: 4793, 4903: 4794, 4904: 4795, 4905: 4796, 4906: 4797, 4907: 4798, 4908: 4799, 4909: 4800, 4910: 4801, 4911: 4802, 4912: 4803, 4913: 4804, 4914: 4805, 4915: 4806, 4916: 4807, 4917: 4808, 4918: 4809, 4919: 4810, 4920: 4811, 4921: 4812, 4922: 4813, 4923: 4814, 4924: 4815, 4925: 4816, 4926: 4817, 4927: 4818, 4928: 4819, 4929: 4820, 4930: 4821, 4931: 4822, 4932: 4823, 4933: 4824, 4934: 4825, 4935: 4826, 4936: 4827, 4937: 4828, 4938: 4829, 4939: 4830, 4940: 4831, 4941: 4832, 4942: 4833, 4943: 4834, 4944: 4835, 4945: 4836, 4946: 4837, 4947: 4838, 4948: 4839, 4949: 4840, 4950: 4841, 4951: 4842, 4952: 4843, 4953: 4844, 4954: 4845, 4955: 4846, 4956: 4847, 4957: 4848, 4958: 4849, 4959: 4850, 4960: 4851, 4961: 4852, 4962: 4853, 4963: 4854, 4964: 4855, 4965: 4856, 4966: 4857, 4967: 4858, 4968: 4859, 4969: 4860, 4970: 4861, 4971: 4862, 4972: 4863, 4973: 4864, 4974: 4865, 4975: 4866, 4976: 4867, 4977: 4868, 4978: 4869, 4979: 4870, 4980: 4871, 4981: 4872, 4982: 4873, 4983: 4874, 4984: 4875, 4985: 4876, 4986: 4877, 4987: 4878, 4988: 4879, 4989: 4880, 4990: 4881, 4991: 4882, 4992: 4883, 4993: 4884, 4994: 4885, 4995: 4886, 4996: 4887, 4997: 4888, 4998: 4889, 4999: 4890, 5000: 4891, 5001: 4892, 5002: 4893, 5003: 4894, 5004: 4895, 5005: 4896, 5006: 4897, 5007: 4898, 5008: 4899, 5009: 4900, 5010: 4901, 5011: 4902, 5012: 4903, 5013: 4904, 5014: 4905, 5015: 4906, 5016: 4907, 5017: 4908, 5018: 4909, 5019: 4910, 5020: 4911, 5021: 4912, 5022: 4913, 5023: 4914, 5024: 4915, 5025: 4916, 5026: 4917, 5027: 4918, 5028: 4919, 5029: 4920, 5030: 4921, 5031: 4922, 5032: 4923, 5033: 4924, 5034: 4925, 5035: 4926, 5037: 4927, 5038: 4928, 5039: 4929, 5040: 4930, 5041: 4931, 5042: 4932, 5043: 4933, 5044: 4934, 5047: 4935, 5048: 4936, 5049: 4937, 5050: 4938, 5051: 4939, 5052: 4940, 5054: 4941, 5056: 4942, 5057: 4943, 5059: 4944, 5060: 4945, 5061: 4946, 5062: 4947, 5063: 4948, 5064: 4949, 5065: 4950, 5066: 4951, 5067: 4952, 5068: 4953, 5069: 4954, 5070: 4955, 5071: 4956, 5072: 4957, 5073: 4958, 5074: 4959, 5075: 4960, 5076: 4961, 5077: 4962, 5078: 4963, 5079: 4964, 5080: 4965, 5081: 4966, 5082: 4967, 5083: 4968, 5084: 4969, 5085: 4970, 5086: 4971, 5087: 4972, 5088: 4973, 5089: 4974, 5090: 4975, 5091: 4976, 5092: 4977, 5093: 4978, 5094: 4979, 5095: 4980, 5096: 4981, 5097: 4982, 5098: 4983, 5099: 4984, 5100: 4985, 5101: 4986, 5102: 4987, 5103: 4988, 5104: 4989, 5106: 4990, 5109: 4991, 5110: 4992, 5111: 4993, 5112: 4994, 5113: 4995, 5114: 4996, 5115: 4997, 5116: 4998, 5117: 4999, 5118: 5000, 5119: 5001, 5120: 5002, 5121: 5003, 5122: 5004, 5123: 5005, 5124: 5006, 5125: 5007, 5126: 5008, 5127: 5009, 5128: 5010, 5129: 5011, 5130: 5012, 5131: 5013, 5132: 5014, 5133: 5015, 5134: 5016, 5135: 5017, 5136: 5018, 5137: 5019, 5138: 5020, 5139: 5021, 5140: 5022, 5141: 5023, 5142: 5024, 5143: 5025, 5144: 5026, 5145: 5027, 5146: 5028, 5147: 5029, 5148: 5030, 5149: 5031, 5150: 5032, 5151: 5033, 5152: 5034, 5153: 5035, 5154: 5036, 5155: 5037, 5156: 5038, 5157: 5039, 5158: 5040, 5159: 5041, 5160: 5042, 5161: 5043, 5162: 5044, 5163: 5045, 5164: 5046, 5165: 5047, 5166: 5048, 5167: 5049, 5168: 5050, 5169: 5051, 5170: 5052, 5171: 5053, 5172: 5054, 5173: 5055, 5174: 5056, 5175: 5057, 5176: 5058, 5177: 5059, 5178: 5060, 5179: 5061, 5180: 5062, 5181: 5063, 5182: 5064, 5183: 5065, 5184: 5066, 5185: 5067, 5186: 5068, 5187: 5069, 5188: 5070, 5189: 5071, 5190: 5072, 5191: 5073, 5192: 5074, 5193: 5075, 5194: 5076, 5195: 5077, 5196: 5078, 5197: 5079, 5198: 5080, 5199: 5081, 5200: 5082, 5201: 5083, 5202: 5084, 5203: 5085, 5204: 5086, 5205: 5087, 5206: 5088, 5207: 5089, 5208: 5090, 5209: 5091, 5210: 5092, 5211: 5093, 5212: 5094, 5213: 5095, 5214: 5096, 5215: 5097, 5216: 5098, 5217: 5099, 5218: 5100, 5219: 5101, 5220: 5102, 5221: 5103, 5222: 5104, 5223: 5105, 5224: 5106, 5225: 5107, 5226: 5108, 5227: 5109, 5228: 5110, 5231: 5111, 5232: 5112, 5234: 5113, 5235: 5114, 5236: 5115, 5237: 5116, 5238: 5117, 5239: 5118, 5240: 5119, 5241: 5120, 5242: 5121, 5243: 5122, 5244: 5123, 5245: 5124, 5246: 5125, 5247: 5126, 5248: 5127, 5249: 5128, 5250: 5129, 5251: 5130, 5252: 5131, 5253: 5132, 5254: 5133, 5255: 5134, 5256: 5135, 5257: 5136, 5258: 5137, 5259: 5138, 5260: 5139, 5261: 5140, 5262: 5141, 5263: 5142, 5264: 5143, 5265: 5144, 5266: 5145, 5267: 5146, 5268: 5147, 5269: 5148, 5270: 5149, 5271: 5150, 5272: 5151, 5273: 5152, 5274: 5153, 5275: 5154, 5276: 5155, 5277: 5156, 5278: 5157, 5279: 5158, 5280: 5159, 5281: 5160, 5282: 5161, 5283: 5162, 5284: 5163, 5285: 5164, 5286: 5165, 5287: 5166, 5288: 5167, 5289: 5168, 5290: 5169, 5291: 5170, 5292: 5171, 5293: 5172, 5294: 5173, 5295: 5174, 5296: 5175, 5297: 5176, 5298: 5177, 5299: 5178, 5300: 5179, 5301: 5180, 5302: 5181, 5303: 5182, 5304: 5183, 5305: 5184, 5306: 5185, 5307: 5186, 5308: 5187, 5309: 5188, 5310: 5189, 5311: 5190, 5312: 5191, 5313: 5192, 5314: 5193, 5315: 5194, 5316: 5195, 5317: 5196, 5318: 5197, 5319: 5198, 5320: 5199, 5321: 5200, 5322: 5201, 5323: 5202, 5324: 5203, 5325: 5204, 5326: 5205, 5327: 5206, 5328: 5207, 5329: 5208, 5330: 5209, 5331: 5210, 5332: 5211, 5333: 5212, 5334: 5213, 5335: 5214, 5336: 5215, 5337: 5216, 5338: 5217, 5339: 5218, 5340: 5219, 5341: 5220, 5342: 5221, 5343: 5222, 5344: 5223, 5345: 5224, 5346: 5225, 5347: 5226, 5348: 5227, 5349: 5228, 5350: 5229, 5351: 5230, 5352: 5231, 5353: 5232, 5354: 5233, 5355: 5234, 5356: 5235, 5357: 5236, 5358: 5237, 5359: 5238, 5360: 5239, 5361: 5240, 5362: 5241, 5363: 5242, 5364: 5243, 5365: 5244, 5366: 5245, 5367: 5246, 5368: 5247, 5369: 5248, 5370: 5249, 5371: 5250, 5372: 5251, 5373: 5252, 5374: 5253, 5375: 5254, 5376: 5255, 5377: 5256, 5378: 5257, 5379: 5258, 5380: 5259, 5381: 5260, 5382: 5261, 5383: 5262, 5384: 5263, 5385: 5264, 5386: 5265, 5387: 5266, 5388: 5267, 5389: 5268, 5390: 5269, 5391: 5270, 5392: 5271, 5393: 5272, 5394: 5273, 5395: 5274, 5396: 5275, 5397: 5276, 5398: 5277, 5399: 5278, 5400: 5279, 5401: 5280, 5402: 5281, 5403: 5282, 5404: 5283, 5405: 5284, 5406: 5285, 5407: 5286, 5408: 5287, 5409: 5288, 5410: 5289, 5411: 5290, 5412: 5291, 5413: 5292, 5414: 5293, 5415: 5294, 5416: 5295, 5417: 5296, 5418: 5297, 5419: 5298, 5420: 5299, 5421: 5300, 5422: 5301, 5423: 5302, 5424: 5303, 5425: 5304, 5426: 5305, 5427: 5306, 5428: 5307, 5429: 5308, 5430: 5309, 5431: 5310, 5432: 5311, 5433: 5312, 5434: 5313, 5435: 5314, 5436: 5315, 5437: 5316, 5438: 5317, 5439: 5318, 5440: 5319, 5441: 5320, 5442: 5321, 5443: 5322, 5444: 5323, 5445: 5324, 5446: 5325, 5447: 5326, 5448: 5327, 5449: 5328, 5450: 5329, 5451: 5330, 5452: 5331, 5453: 5332, 5454: 5333, 5455: 5334, 5456: 5335, 5457: 5336, 5458: 5337, 5459: 5338, 5460: 5339, 5461: 5340, 5462: 5341, 5463: 5342, 5464: 5343, 5465: 5344, 5466: 5345, 5467: 5346, 5468: 5347, 5469: 5348, 5470: 5349, 5471: 5350, 5472: 5351, 5473: 5352, 5474: 5353, 5475: 5354, 5476: 5355, 5477: 5356, 5478: 5357, 5479: 5358, 5480: 5359, 5481: 5360, 5482: 5361, 5483: 5362, 5484: 5363, 5485: 5364, 5486: 5365, 5487: 5366, 5488: 5367, 5489: 5368, 5490: 5369, 5491: 5370, 5492: 5371, 5493: 5372, 5494: 5373, 5495: 5374, 5496: 5375, 5497: 5376, 5498: 5377, 5499: 5378, 5500: 5379, 5501: 5380, 5502: 5381, 5503: 5382, 5504: 5383, 5505: 5384, 5506: 5385, 5507: 5386, 5508: 5387, 5509: 5388, 5510: 5389, 5511: 5390, 5512: 5391, 5513: 5392, 5514: 5393, 5515: 5394, 5516: 5395, 5517: 5396, 5518: 5397, 5519: 5398, 5520: 5399, 5521: 5400, 5522: 5401, 5523: 5402, 5524: 5403, 5525: 5404, 5527: 5405, 5528: 5406, 5529: 5407, 5530: 5408, 5531: 5409, 5532: 5410, 5533: 5411, 5534: 5412, 5535: 5413, 5536: 5414, 5537: 5415, 5538: 5416, 5539: 5417, 5540: 5418, 5541: 5419, 5542: 5420, 5543: 5421, 5544: 5422, 5545: 5423, 5546: 5424, 5547: 5425, 5548: 5426, 5549: 5427, 5550: 5428, 5551: 5429, 5552: 5430, 5553: 5431, 5554: 5432, 5555: 5433, 5556: 5434, 5557: 5435, 5558: 5436, 5559: 5437, 5560: 5438, 5561: 5439, 5562: 5440, 5563: 5441, 5564: 5442, 5565: 5443, 5566: 5444, 5567: 5445, 5568: 5446, 5569: 5447, 5570: 5448, 5571: 5449, 5572: 5450, 5573: 5451, 5574: 5452, 5575: 5453, 5576: 5454, 5577: 5455, 5578: 5456, 5579: 5457, 5580: 5458, 5581: 5459, 5582: 5460, 5583: 5461, 5584: 5462, 5585: 5463, 5586: 5464, 5587: 5465, 5588: 5466, 5589: 5467, 5590: 5468, 5591: 5469, 5592: 5470, 5593: 5471, 5594: 5472, 5595: 5473, 5596: 5474, 5597: 5475, 5598: 5476, 5599: 5477, 5600: 5478, 5601: 5479, 5602: 5480, 5603: 5481, 5604: 5482, 5605: 5483, 5606: 5484, 5607: 5485, 5608: 5486, 5609: 5487, 5610: 5488, 5611: 5489, 5612: 5490, 5613: 5491, 5614: 5492, 5615: 5493, 5616: 5494, 5617: 5495, 5618: 5496, 5619: 5497, 5620: 5498, 5621: 5499, 5622: 5500, 5623: 5501, 5624: 5502, 5625: 5503, 5626: 5504, 5627: 5505, 5628: 5506, 5629: 5507, 5630: 5508, 5631: 5509, 5632: 5510, 5633: 5511, 5634: 5512, 5635: 5513, 5636: 5514, 5637: 5515, 5638: 5516, 5639: 5517, 5640: 5518, 5641: 5519, 5642: 5520, 5643: 5521, 5644: 5522, 5645: 5523, 5646: 5524, 5647: 5525, 5648: 5526, 5649: 5527, 5650: 5528, 5651: 5529, 5652: 5530, 5653: 5531, 5654: 5532, 5655: 5533, 5656: 5534, 5657: 5535, 5658: 5536, 5659: 5537, 5660: 5538, 5661: 5539, 5662: 5540, 5663: 5541, 5664: 5542, 5665: 5543, 5666: 5544, 5667: 5545, 5668: 5546, 5669: 5547, 5670: 5548, 5671: 5549, 5672: 5550, 5673: 5551, 5674: 5552, 5675: 5553, 5676: 5554, 5677: 5555, 5678: 5556, 5679: 5557, 5680: 5558, 5681: 5559, 5682: 5560, 5683: 5561, 5684: 5562, 5687: 5563, 5688: 5564, 5689: 5565, 5690: 5566, 5691: 5567, 5692: 5568, 5693: 5569, 5694: 5570, 5695: 5571, 5696: 5572, 5697: 5573, 5698: 5574, 5699: 5575, 5700: 5576, 5701: 5577, 5702: 5578, 5703: 5579, 5704: 5580, 5705: 5581, 5706: 5582, 5707: 5583, 5708: 5584, 5709: 5585, 5710: 5586, 5711: 5587, 5712: 5588, 5713: 5589, 5714: 5590, 5715: 5591, 5716: 5592, 5717: 5593, 5718: 5594, 5719: 5595, 5720: 5596, 5721: 5597, 5722: 5598, 5723: 5599, 5724: 5600, 5725: 5601, 5726: 5602, 5727: 5603, 5728: 5604, 5729: 5605, 5730: 5606, 5731: 5607, 5732: 5608, 5733: 5609, 5734: 5610, 5735: 5611, 5736: 5612, 5737: 5613, 5738: 5614, 5739: 5615, 5740: 5616, 5741: 5617, 5742: 5618, 5743: 5619, 5744: 5620, 5745: 5621, 5746: 5622, 5747: 5623, 5748: 5624, 5749: 5625, 5750: 5626, 5751: 5627, 5752: 5628, 5753: 5629, 5754: 5630, 5755: 5631, 5756: 5632, 5757: 5633, 5758: 5634, 5759: 5635, 5760: 5636, 5761: 5637, 5762: 5638, 5763: 5639, 5764: 5640, 5765: 5641, 5766: 5642, 5767: 5643, 5768: 5644, 5769: 5645, 5770: 5646, 5771: 5647, 5772: 5648, 5773: 5649, 5774: 5650, 5775: 5651, 5776: 5652, 5777: 5653, 5778: 5654, 5779: 5655, 5780: 5656, 5781: 5657, 5782: 5658, 5783: 5659, 5784: 5660, 5785: 5661, 5786: 5662, 5787: 5663, 5788: 5664, 5789: 5665, 5790: 5666, 5791: 5667, 5792: 5668, 5793: 5669, 5794: 5670, 5795: 5671, 5796: 5672, 5797: 5673, 5798: 5674, 5799: 5675, 5800: 5676, 5801: 5677, 5802: 5678, 5803: 5679, 5804: 5680, 5805: 5681, 5806: 5682, 5807: 5683, 5808: 5684, 5809: 5685, 5810: 5686, 5811: 5687, 5812: 5688, 5813: 5689, 5814: 5690, 5815: 5691, 5816: 5692, 5817: 5693, 5818: 5694, 5819: 5695, 5820: 5696, 5821: 5697, 5822: 5698, 5823: 5699, 5824: 5700, 5825: 5701, 5826: 5702, 5827: 5703, 5828: 5704, 5829: 5705, 5830: 5706, 5831: 5707, 5832: 5708, 5833: 5709, 5834: 5710, 5835: 5711, 5836: 5712, 5837: 5713, 5838: 5714, 5839: 5715, 5840: 5716, 5841: 5717, 5842: 5718, 5843: 5719, 5844: 5720, 5845: 5721, 5846: 5722, 5847: 5723, 5848: 5724, 5849: 5725, 5850: 5726, 5851: 5727, 5852: 5728, 5853: 5729, 5854: 5730, 5855: 5731, 5856: 5732, 5857: 5733, 5858: 5734, 5859: 5735, 5860: 5736, 5861: 5737, 5862: 5738, 5863: 5739, 5864: 5740, 5865: 5741, 5866: 5742, 5867: 5743, 5868: 5744, 5869: 5745, 5870: 5746, 5871: 5747, 5872: 5748, 5873: 5749, 5874: 5750, 5875: 5751, 5876: 5752, 5877: 5753, 5878: 5754, 5879: 5755, 5880: 5756, 5881: 5757, 5882: 5758, 5883: 5759, 5884: 5760, 5885: 5761, 5886: 5762, 5887: 5763, 5888: 5764, 5889: 5765, 5890: 5766, 5891: 5767, 5892: 5768, 5893: 5769, 5894: 5770, 5895: 5771, 5896: 5772, 5897: 5773, 5898: 5774, 5899: 5775, 5900: 5776, 5901: 5777, 5902: 5778, 5903: 5779, 5904: 5780, 5905: 5781, 5906: 5782, 5907: 5783, 5908: 5784, 5909: 5785, 5910: 5786, 5911: 5787, 5912: 5788, 5913: 5789, 5914: 5790, 5915: 5791, 5916: 5792, 5917: 5793, 5918: 5794, 5919: 5795, 5920: 5796, 5921: 5797, 5922: 5798, 5923: 5799, 5924: 5800, 5925: 5801, 5926: 5802, 5927: 5803, 5928: 5804, 5929: 5805, 5930: 5806, 5931: 5807, 5932: 5808, 5933: 5809, 5934: 5810, 5935: 5811, 5936: 5812, 5937: 5813, 5938: 5814, 5939: 5815, 5940: 5816, 5941: 5817, 5942: 5818, 5943: 5819, 5944: 5820, 5945: 5821, 5946: 5822, 5947: 5823, 5948: 5824, 5949: 5825, 5950: 5826, 5951: 5827, 5952: 5828, 5953: 5829, 5954: 5830, 5955: 5831, 5956: 5832, 5957: 5833, 5958: 5834, 5959: 5835, 5960: 5836, 5961: 5837, 5962: 5838, 5963: 5839, 5964: 5840, 5965: 5841, 5966: 5842, 5967: 5843, 5968: 5844, 5969: 5845, 5970: 5846, 5971: 5847, 5972: 5848, 5973: 5849, 5974: 5850, 5975: 5851, 5976: 5852, 5977: 5853, 5978: 5854, 5979: 5855, 5980: 5856, 5981: 5857, 5982: 5858, 5983: 5859, 5984: 5860, 5985: 5861, 5986: 5862, 5987: 5863, 5988: 5864, 5989: 5865, 5990: 5866, 5991: 5867, 5992: 5868, 5993: 5869, 5994: 5870, 5995: 5871, 5996: 5872, 5997: 5873, 5998: 5874, 5999: 5875, 6000: 5876, 6001: 5877, 6002: 5878, 6003: 5879, 6004: 5880, 6005: 5881, 6006: 5882, 6007: 5883, 6008: 5884, 6009: 5885, 6010: 5886, 6011: 5887, 6012: 5888, 6013: 5889, 6014: 5890, 6015: 5891, 6016: 5892, 6017: 5893, 6018: 5894, 6019: 5895, 6020: 5896, 6021: 5897, 6022: 5898, 6023: 5899, 6024: 5900, 6025: 5901, 6026: 5902, 6027: 5903, 6028: 5904, 6029: 5905, 6030: 5906, 6031: 5907, 6032: 5908, 6033: 5909, 6034: 5910, 6035: 5911, 6036: 5912, 6037: 5913, 6038: 5914, 6039: 5915, 6040: 5916, 6041: 5917, 6042: 5918, 6043: 5919, 6044: 5920, 6045: 5921, 6046: 5922, 6047: 5923, 6048: 5924, 6049: 5925, 6050: 5926, 6051: 5927, 6052: 5928, 6053: 5929, 6054: 5930, 6055: 5931, 6056: 5932, 6057: 5933, 6058: 5934, 6059: 5935, 6060: 5936, 6061: 5937, 6062: 5938, 6063: 5939, 6064: 5940, 6065: 5941, 6066: 5942, 6067: 5943, 6068: 5944, 6069: 5945, 6070: 5946, 6071: 5947, 6072: 5948, 6073: 5949, 6074: 5950, 6075: 5951, 6076: 5952, 6077: 5953, 6078: 5954, 6079: 5955, 6080: 5956, 6081: 5957, 6082: 5958, 6083: 5959, 6084: 5960, 6085: 5961, 6086: 5962, 6087: 5963, 6088: 5964, 6089: 5965, 6090: 5966, 6091: 5967, 6092: 5968, 6093: 5969, 6094: 5970, 6095: 5971, 6096: 5972, 6097: 5973, 6098: 5974, 6099: 5975, 6100: 5976, 6101: 5977, 6102: 5978, 6103: 5979, 6104: 5980, 6105: 5981, 6106: 5982, 6107: 5983, 6108: 5984, 6109: 5985, 6110: 5986, 6111: 5987, 6112: 5988, 6113: 5989, 6114: 5990, 6115: 5991, 6116: 5992, 6117: 5993, 6118: 5994, 6119: 5995, 6120: 5996, 6121: 5997, 6122: 5998, 6123: 5999, 6124: 6000, 6125: 6001, 6126: 6002, 6127: 6003, 6128: 6004, 6129: 6005, 6130: 6006, 6131: 6007, 6132: 6008, 6133: 6009, 6134: 6010, 6135: 6011, 6136: 6012, 6137: 6013, 6138: 6014, 6139: 6015, 6140: 6016, 6141: 6017, 6142: 6018, 6143: 6019, 6144: 6020, 6145: 6021, 6146: 6022, 6147: 6023, 6148: 6024, 6149: 6025, 6150: 6026, 6151: 6027, 6152: 6028, 6153: 6029, 6154: 6030, 6155: 6031, 6156: 6032, 6157: 6033, 6158: 6034, 6159: 6035, 6160: 6036, 6161: 6037, 6162: 6038, 6163: 6039, 6164: 6040, 6165: 6041, 6166: 6042, 6167: 6043, 6168: 6044, 6169: 6045, 6170: 6046, 6171: 6047, 6172: 6048, 6173: 6049, 6174: 6050, 6175: 6051, 6176: 6052, 6177: 6053, 6178: 6054, 6179: 6055, 6180: 6056, 6181: 6057, 6182: 6058, 6183: 6059, 6184: 6060, 6185: 6061, 6186: 6062, 6187: 6063, 6188: 6064, 6189: 6065, 6190: 6066, 6191: 6067, 6192: 6068, 6193: 6069, 6194: 6070, 6195: 6071, 6196: 6072, 6197: 6073, 6198: 6074, 6199: 6075, 6200: 6076, 6201: 6077, 6202: 6078, 6203: 6079, 6204: 6080, 6205: 6081, 6206: 6082, 6207: 6083, 6208: 6084, 6209: 6085, 6210: 6086, 6211: 6087, 6212: 6088, 6213: 6089, 6214: 6090, 6215: 6091, 6216: 6092, 6217: 6093, 6218: 6094, 6219: 6095, 6220: 6096, 6221: 6097, 6222: 6098, 6223: 6099, 6224: 6100, 6225: 6101, 6226: 6102, 6227: 6103, 6228: 6104, 6229: 6105, 6230: 6106, 6231: 6107, 6232: 6108, 6233: 6109, 6234: 6110, 6235: 6111, 6236: 6112, 6237: 6113, 6238: 6114, 6239: 6115, 6240: 6116, 6241: 6117, 6242: 6118, 6243: 6119, 6244: 6120, 6245: 6121, 6246: 6122, 6247: 6123, 6248: 6124, 6249: 6125, 6250: 6126, 6251: 6127, 6252: 6128, 6253: 6129, 6254: 6130, 6256: 6131, 6257: 6132, 6258: 6133, 6260: 6134, 6261: 6135, 6262: 6136, 6263: 6137, 6264: 6138, 6265: 6139, 6266: 6140, 6267: 6141, 6268: 6142, 6269: 6143, 6270: 6144, 6271: 6145, 6272: 6146, 6273: 6147, 6274: 6148, 6275: 6149, 6276: 6150, 6277: 6151, 6278: 6152, 6279: 6153, 6280: 6154, 6281: 6155, 6282: 6156, 6283: 6157, 6284: 6158, 6285: 6159, 6286: 6160, 6287: 6161, 6288: 6162, 6289: 6163, 6290: 6164, 6291: 6165, 6292: 6166, 6293: 6167, 6294: 6168, 6295: 6169, 6296: 6170, 6297: 6171, 6298: 6172, 6300: 6173, 6301: 6174, 6302: 6175, 6304: 6176, 6306: 6177, 6307: 6178, 6308: 6179, 6309: 6180, 6310: 6181, 6311: 6182, 6312: 6183, 6313: 6184, 6316: 6185, 6317: 6186, 6318: 6187, 6319: 6188, 6320: 6189, 6321: 6190, 6322: 6191, 6323: 6192, 6324: 6193, 6325: 6194, 6326: 6195, 6327: 6196, 6328: 6197, 6329: 6198, 6330: 6199, 6331: 6200, 6332: 6201, 6333: 6202, 6334: 6203, 6335: 6204, 6336: 6205, 6337: 6206, 6338: 6207, 6339: 6208, 6340: 6209, 6341: 6210, 6342: 6211, 6343: 6212, 6344: 6213, 6345: 6214, 6346: 6215, 6347: 6216, 6348: 6217, 6349: 6218, 6350: 6219, 6351: 6220, 6352: 6221, 6353: 6222, 6354: 6223, 6355: 6224, 6356: 6225, 6357: 6226, 6358: 6227, 6359: 6228, 6360: 6229, 6361: 6230, 6362: 6231, 6363: 6232, 6364: 6233, 6365: 6234, 6366: 6235, 6367: 6236, 6368: 6237, 6369: 6238, 6370: 6239, 6371: 6240, 6372: 6241, 6373: 6242, 6374: 6243, 6375: 6244, 6376: 6245, 6377: 6246, 6378: 6247, 6379: 6248, 6380: 6249, 6381: 6250, 6382: 6251, 6383: 6252, 6384: 6253, 6385: 6254, 6386: 6255, 6387: 6256, 6388: 6257, 6389: 6258, 6390: 6259, 6391: 6260, 6392: 6261, 6393: 6262, 6394: 6263, 6395: 6264, 6396: 6265, 6397: 6266, 6398: 6267, 6399: 6268, 6400: 6269, 6401: 6270, 6402: 6271, 6403: 6272, 6404: 6273, 6406: 6274, 6407: 6275, 6408: 6276, 6409: 6277, 6413: 6278, 6415: 6279, 6416: 6280, 6420: 6281, 6421: 6282, 6423: 6283, 6425: 6284, 6426: 6285, 6427: 6286, 6428: 6287, 6429: 6288, 6430: 6289, 6431: 6290, 6432: 6291, 6433: 6292, 6434: 6293, 6435: 6294, 6436: 6295, 6437: 6296, 6438: 6297, 6439: 6298, 6440: 6299, 6441: 6300, 6442: 6301, 6443: 6302, 6444: 6303, 6445: 6304, 6446: 6305, 6447: 6306, 6448: 6307, 6449: 6308, 6450: 6309, 6451: 6310, 6452: 6311, 6453: 6312, 6454: 6313, 6455: 6314, 6456: 6315, 6457: 6316, 6458: 6317, 6459: 6318, 6460: 6319, 6461: 6320, 6462: 6321, 6463: 6322, 6464: 6323, 6465: 6324, 6466: 6325, 6467: 6326, 6468: 6327, 6469: 6328, 6470: 6329, 6471: 6330, 6472: 6331, 6473: 6332, 6474: 6333, 6475: 6334, 6476: 6335, 6477: 6336, 6478: 6337, 6479: 6338, 6480: 6339, 6481: 6340, 6482: 6341, 6483: 6342, 6484: 6343, 6485: 6344, 6486: 6345, 6487: 6346, 6488: 6347, 6489: 6348, 6490: 6349, 6491: 6350, 6492: 6351, 6493: 6352, 6494: 6353, 6495: 6354, 6496: 6355, 6497: 6356, 6498: 6357, 6499: 6358, 6500: 6359, 6501: 6360, 6502: 6361, 6503: 6362, 6504: 6363, 6505: 6364, 6506: 6365, 6507: 6366, 6508: 6367, 6509: 6368, 6510: 6369, 6511: 6370, 6512: 6371, 6513: 6372, 6514: 6373, 6515: 6374, 6516: 6375, 6517: 6376, 6518: 6377, 6519: 6378, 6520: 6379, 6521: 6380, 6522: 6381, 6523: 6382, 6524: 6383, 6525: 6384, 6526: 6385, 6527: 6386, 6528: 6387, 6529: 6388, 6530: 6389, 6531: 6390, 6532: 6391, 6533: 6392, 6534: 6393, 6535: 6394, 6536: 6395, 6537: 6396, 6538: 6397, 6539: 6398, 6540: 6399, 6541: 6400, 6542: 6401, 6543: 6402, 6544: 6403, 6545: 6404, 6546: 6405, 6547: 6406, 6548: 6407, 6549: 6408, 6550: 6409, 6551: 6410, 6552: 6411, 6553: 6412, 6554: 6413, 6555: 6414, 6556: 6415, 6557: 6416, 6558: 6417, 6559: 6418, 6560: 6419, 6561: 6420, 6562: 6421, 6563: 6422, 6564: 6423, 6565: 6424, 6566: 6425, 6567: 6426, 6568: 6427, 6569: 6428, 6570: 6429, 6571: 6430, 6572: 6431, 6573: 6432, 6574: 6433, 6575: 6434, 6576: 6435, 6577: 6436, 6578: 6437, 6579: 6438, 6580: 6439, 6581: 6440, 6582: 6441, 6583: 6442, 6584: 6443, 6585: 6444, 6586: 6445, 6587: 6446, 6588: 6447, 6589: 6448, 6590: 6449, 6591: 6450, 6592: 6451, 6593: 6452, 6594: 6453, 6595: 6454, 6596: 6455, 6597: 6456, 6598: 6457, 6599: 6458, 6600: 6459, 6601: 6460, 6602: 6461, 6603: 6462, 6604: 6463, 6605: 6464, 6606: 6465, 6607: 6466, 6608: 6467, 6609: 6468, 6610: 6469, 6611: 6470, 6612: 6471, 6613: 6472, 6614: 6473, 6615: 6474, 6616: 6475, 6617: 6476, 6618: 6477, 6619: 6478, 6620: 6479, 6621: 6480, 6622: 6481, 6623: 6482, 6624: 6483, 6625: 6484, 6626: 6485, 6627: 6486, 6628: 6487, 6629: 6488, 6630: 6489, 6631: 6490, 6632: 6491, 6633: 6492, 6634: 6493, 6635: 6494, 6636: 6495, 6637: 6496, 6638: 6497, 6639: 6498, 6640: 6499, 6641: 6500, 6642: 6501, 6643: 6502, 6644: 6503, 6645: 6504, 6646: 6505, 6647: 6506, 6648: 6507, 6649: 6508, 6650: 6509, 6651: 6510, 6652: 6511, 6653: 6512, 6654: 6513, 6655: 6514, 6656: 6515, 6657: 6516, 6658: 6517, 6659: 6518, 6660: 6519, 6661: 6520, 6662: 6521, 6663: 6522, 6664: 6523, 6665: 6524, 6666: 6525, 6667: 6526, 6668: 6527, 6669: 6528, 6670: 6529, 6671: 6530, 6672: 6531, 6673: 6532, 6674: 6533, 6675: 6534, 6676: 6535, 6677: 6536, 6678: 6537, 6679: 6538, 6680: 6539, 6681: 6540, 6682: 6541, 6683: 6542, 6684: 6543, 6685: 6544, 6686: 6545, 6687: 6546, 6688: 6547, 6689: 6548, 6690: 6549, 6691: 6550, 6692: 6551, 6693: 6552, 6694: 6553, 6695: 6554, 6696: 6555, 6697: 6556, 6698: 6557, 6699: 6558, 6700: 6559, 6701: 6560, 6702: 6561, 6703: 6562, 6704: 6563, 6705: 6564, 6706: 6565, 6707: 6566, 6708: 6567, 6709: 6568, 6710: 6569, 6711: 6570, 6712: 6571, 6713: 6572, 6714: 6573, 6715: 6574, 6716: 6575, 6717: 6576, 6718: 6577, 6719: 6578, 6720: 6579, 6721: 6580, 6722: 6581, 6723: 6582, 6725: 6583, 6727: 6584, 6728: 6585, 6729: 6586, 6731: 6587, 6732: 6588, 6733: 6589, 6734: 6590, 6735: 6591, 6736: 6592, 6737: 6593, 6738: 6594, 6739: 6595, 6740: 6596, 6741: 6597, 6742: 6598, 6743: 6599, 6744: 6600, 6745: 6601, 6746: 6602, 6747: 6603, 6748: 6604, 6749: 6605, 6750: 6606, 6751: 6607, 6752: 6608, 6753: 6609, 6754: 6610, 6755: 6611, 6756: 6612, 6757: 6613, 6758: 6614, 6759: 6615, 6760: 6616, 6761: 6617, 6762: 6618, 6763: 6619, 6764: 6620, 6765: 6621, 6766: 6622, 6767: 6623, 6768: 6624, 6769: 6625, 6770: 6626, 6771: 6627, 6772: 6628, 6773: 6629, 6774: 6630, 6775: 6631, 6776: 6632, 6777: 6633, 6778: 6634, 6779: 6635, 6780: 6636, 6781: 6637, 6782: 6638, 6783: 6639, 6784: 6640, 6785: 6641, 6786: 6642, 6787: 6643, 6788: 6644, 6789: 6645, 6790: 6646, 6791: 6647, 6792: 6648, 6793: 6649, 6794: 6650, 6795: 6651, 6796: 6652, 6797: 6653, 6798: 6654, 6799: 6655, 6800: 6656, 6801: 6657, 6802: 6658, 6803: 6659, 6804: 6660, 6805: 6661, 6806: 6662, 6807: 6663, 6808: 6664, 6809: 6665, 6810: 6666, 6811: 6667, 6812: 6668, 6813: 6669, 6814: 6670, 6815: 6671, 6816: 6672, 6817: 6673, 6818: 6674, 6819: 6675, 6820: 6676, 6821: 6677, 6822: 6678, 6823: 6679, 6824: 6680, 6825: 6681, 6826: 6682, 6827: 6683, 6828: 6684, 6829: 6685, 6830: 6686, 6831: 6687, 6832: 6688, 6833: 6689, 6834: 6690, 6835: 6691, 6836: 6692, 6837: 6693, 6838: 6694, 6839: 6695, 6840: 6696, 6841: 6697, 6842: 6698, 6843: 6699, 6844: 6700, 6845: 6701, 6846: 6702, 6847: 6703, 6848: 6704, 6849: 6705, 6850: 6706, 6851: 6707, 6852: 6708, 6853: 6709, 6854: 6710, 6855: 6711, 6856: 6712, 6857: 6713, 6858: 6714, 6859: 6715, 6860: 6716, 6861: 6717, 6862: 6718, 6863: 6719, 6864: 6720, 6865: 6721, 6866: 6722, 6867: 6723, 6868: 6724, 6869: 6725, 6870: 6726, 6871: 6727, 6872: 6728, 6873: 6729, 6874: 6730, 6875: 6731, 6876: 6732, 6877: 6733, 6878: 6734, 6879: 6735, 6880: 6736, 6881: 6737, 6882: 6738, 6883: 6739, 6884: 6740, 6885: 6741, 6886: 6742, 6887: 6743, 6888: 6744, 6889: 6745, 6890: 6746, 6891: 6747, 6892: 6748, 6893: 6749, 6894: 6750, 6895: 6751, 6896: 6752, 6897: 6753, 6898: 6754, 6899: 6755, 6900: 6756, 6901: 6757, 6902: 6758, 6903: 6759, 6904: 6760, 6905: 6761, 6906: 6762, 6907: 6763, 6908: 6764, 6909: 6765, 6910: 6766, 6911: 6767, 6912: 6768, 6913: 6769, 6914: 6770, 6915: 6771, 6916: 6772, 6917: 6773, 6918: 6774, 6919: 6775, 6920: 6776, 6921: 6777, 6922: 6778, 6923: 6779, 6924: 6780, 6925: 6781, 6926: 6782, 6927: 6783, 6928: 6784, 6929: 6785, 6930: 6786, 6931: 6787, 6932: 6788, 6933: 6789, 6934: 6790, 6935: 6791, 6936: 6792, 6937: 6793, 6938: 6794, 6939: 6795, 6940: 6796, 6941: 6797, 6942: 6798, 6943: 6799, 6944: 6800, 6945: 6801, 6946: 6802, 6947: 6803, 6948: 6804, 6949: 6805, 6950: 6806, 6951: 6807, 6952: 6808, 6953: 6809, 6954: 6810, 6955: 6811, 6956: 6812, 6957: 6813, 6958: 6814, 6959: 6815, 6960: 6816, 6961: 6817, 6962: 6818, 6963: 6819, 6964: 6820, 6965: 6821, 6966: 6822, 6967: 6823, 6968: 6824, 6969: 6825, 6970: 6826, 6971: 6827, 6972: 6828, 6973: 6829, 6974: 6830, 6975: 6831, 6976: 6832, 6977: 6833, 6978: 6834, 6979: 6835, 6980: 6836, 6981: 6837, 6982: 6838, 6983: 6839, 6984: 6840, 6985: 6841, 6986: 6842, 6987: 6843, 6988: 6844, 6989: 6845, 6990: 6846, 6991: 6847, 6992: 6848, 6993: 6849, 6994: 6850, 6995: 6851, 6996: 6852, 7001: 6853, 7002: 6854, 7006: 6855, 7007: 6856, 7008: 6857, 7009: 6858, 7010: 6859, 7011: 6860, 7012: 6861, 7013: 6862, 7014: 6863, 7015: 6864, 7016: 6865, 7017: 6866, 7018: 6867, 7019: 6868, 7020: 6869, 7021: 6870, 7022: 6871, 7023: 6872, 7024: 6873, 7025: 6874, 7026: 6875, 7027: 6876, 7028: 6877, 7029: 6878, 7030: 6879, 7031: 6880, 7032: 6881, 7033: 6882, 7034: 6883, 7035: 6884, 7036: 6885, 7037: 6886, 7038: 6887, 7039: 6888, 7040: 6889, 7041: 6890, 7042: 6891, 7043: 6892, 7044: 6893, 7045: 6894, 7046: 6895, 7047: 6896, 7048: 6897, 7049: 6898, 7050: 6899, 7051: 6900, 7052: 6901, 7053: 6902, 7054: 6903, 7055: 6904, 7056: 6905, 7057: 6906, 7058: 6907, 7059: 6908, 7060: 6909, 7061: 6910, 7062: 6911, 7063: 6912, 7064: 6913, 7065: 6914, 7066: 6915, 7067: 6916, 7068: 6917, 7069: 6918, 7070: 6919, 7071: 6920, 7072: 6921, 7073: 6922, 7074: 6923, 7075: 6924, 7076: 6925, 7077: 6926, 7078: 6927, 7079: 6928, 7080: 6929, 7081: 6930, 7082: 6931, 7083: 6932, 7084: 6933, 7085: 6934, 7086: 6935, 7087: 6936, 7088: 6937, 7089: 6938, 7090: 6939, 7091: 6940, 7092: 6941, 7093: 6942, 7094: 6943, 7095: 6944, 7096: 6945, 7097: 6946, 7098: 6947, 7099: 6948, 7100: 6949, 7101: 6950, 7102: 6951, 7103: 6952, 7104: 6953, 7105: 6954, 7106: 6955, 7107: 6956, 7108: 6957, 7109: 6958, 7110: 6959, 7111: 6960, 7112: 6961, 7113: 6962, 7114: 6963, 7115: 6964, 7116: 6965, 7117: 6966, 7118: 6967, 7119: 6968, 7120: 6969, 7121: 6970, 7122: 6971, 7123: 6972, 7124: 6973, 7125: 6974, 7126: 6975, 7127: 6976, 7128: 6977, 7129: 6978, 7130: 6979, 7131: 6980, 7132: 6981, 7133: 6982, 7134: 6983, 7135: 6984, 7136: 6985, 7137: 6986, 7138: 6987, 7139: 6988, 7140: 6989, 7141: 6990, 7142: 6991, 7143: 6992, 7144: 6993, 7145: 6994, 7146: 6995, 7147: 6996, 7148: 6997, 7149: 6998, 7150: 6999, 7151: 7000, 7152: 7001, 7153: 7002, 7154: 7003, 7155: 7004, 7156: 7005, 7157: 7006, 7158: 7007, 7159: 7008, 7160: 7009, 7161: 7010, 7162: 7011, 7163: 7012, 7164: 7013, 7165: 7014, 7166: 7015, 7167: 7016, 7168: 7017, 7169: 7018, 7170: 7019, 7171: 7020, 7172: 7021, 7173: 7022, 7174: 7023, 7175: 7024, 7176: 7025, 7177: 7026, 7178: 7027, 7179: 7028, 7180: 7029, 7181: 7030, 7182: 7031, 7183: 7032, 7184: 7033, 7185: 7034, 7186: 7035, 7187: 7036, 7188: 7037, 7189: 7038, 7190: 7039, 7191: 7040, 7192: 7041, 7193: 7042, 7194: 7043, 7195: 7044, 7196: 7045, 7197: 7046, 7198: 7047, 7199: 7048, 7200: 7049, 7201: 7050, 7202: 7051, 7203: 7052, 7204: 7053, 7205: 7054, 7206: 7055, 7207: 7056, 7208: 7057, 7209: 7058, 7210: 7059, 7211: 7060, 7212: 7061, 7213: 7062, 7214: 7063, 7215: 7064, 7216: 7065, 7217: 7066, 7218: 7067, 7219: 7068, 7220: 7069, 7221: 7070, 7222: 7071, 7223: 7072, 7224: 7073, 7225: 7074, 7226: 7075, 7227: 7076, 7228: 7077, 7229: 7078, 7230: 7079, 7231: 7080, 7232: 7081, 7233: 7082, 7234: 7083, 7235: 7084, 7236: 7085, 7237: 7086, 7238: 7087, 7239: 7088, 7240: 7089, 7241: 7090, 7242: 7091, 7243: 7092, 7244: 7093, 7245: 7094, 7246: 7095, 7247: 7096, 7248: 7097, 7249: 7098, 7250: 7099, 7251: 7100, 7252: 7101, 7253: 7102, 7254: 7103, 7255: 7104, 7256: 7105, 7257: 7106, 7258: 7107, 7259: 7108, 7260: 7109, 7261: 7110, 7262: 7111, 7263: 7112, 7264: 7113, 7265: 7114, 7266: 7115, 7267: 7116, 7268: 7117, 7269: 7118, 7270: 7119, 7271: 7120, 7272: 7121, 7273: 7122, 7274: 7123, 7275: 7124, 7276: 7125, 7277: 7126, 7278: 7127, 7279: 7128, 7280: 7129, 7281: 7130, 7282: 7131, 7283: 7132, 7284: 7133, 7285: 7134, 7286: 7135, 7287: 7136, 7288: 7137, 7289: 7138, 7290: 7139, 7291: 7140, 7292: 7141, 7293: 7142, 7294: 7143, 7295: 7144, 7296: 7145, 7297: 7146, 7298: 7147, 7299: 7148, 7300: 7149, 7301: 7150, 7302: 7151, 7303: 7152, 7304: 7153, 7305: 7154, 7306: 7155, 7307: 7156, 7308: 7157, 7309: 7158, 7310: 7159, 7311: 7160, 7312: 7161, 7313: 7162, 7314: 7163, 7315: 7164, 7316: 7165, 7317: 7166, 7318: 7167, 7319: 7168, 7320: 7169, 7321: 7170, 7322: 7171, 7323: 7172, 7324: 7173, 7325: 7174, 7326: 7175, 7327: 7176, 7328: 7177, 7329: 7178, 7330: 7179, 7331: 7180, 7332: 7181, 7333: 7182, 7334: 7183, 7335: 7184, 7336: 7185, 7337: 7186, 7338: 7187, 7339: 7188, 7340: 7189, 7341: 7190, 7342: 7191, 7343: 7192, 7344: 7193, 7345: 7194, 7346: 7195, 7347: 7196, 7348: 7197, 7349: 7198, 7350: 7199, 7351: 7200, 7352: 7201, 7353: 7202, 7354: 7203, 7355: 7204, 7356: 7205, 7361: 7206, 7362: 7207, 7363: 7208, 7364: 7209, 7365: 7210, 7366: 7211, 7367: 7212, 7368: 7213, 7369: 7214, 7370: 7215, 7371: 7216, 7372: 7217, 7373: 7218, 7374: 7219, 7375: 7220, 7376: 7221, 7377: 7222, 7378: 7223, 7379: 7224, 7380: 7225, 7381: 7226, 7382: 7227, 7383: 7228, 7384: 7229, 7385: 7230, 7386: 7231, 7387: 7232, 7388: 7233, 7389: 7234, 7390: 7235, 7391: 7236, 7392: 7237, 7393: 7238, 7394: 7239, 7395: 7240, 7396: 7241, 7397: 7242, 7398: 7243, 7399: 7244, 7400: 7245, 7401: 7246, 7402: 7247, 7403: 7248, 7404: 7249, 7405: 7250, 7406: 7251, 7407: 7252, 7408: 7253, 7409: 7254, 7410: 7255, 7411: 7256, 7412: 7257, 7413: 7258, 7414: 7259, 7415: 7260, 7416: 7261, 7417: 7262, 7418: 7263, 7419: 7264, 7420: 7265, 7421: 7266, 7422: 7267, 7423: 7268, 7424: 7269, 7425: 7270, 7426: 7271, 7427: 7272, 7428: 7273, 7429: 7274, 7430: 7275, 7431: 7276, 7432: 7277, 7433: 7278, 7434: 7279, 7435: 7280, 7436: 7281, 7437: 7282, 7438: 7283, 7439: 7284, 7440: 7285, 7441: 7286, 7442: 7287, 7443: 7288, 7444: 7289, 7445: 7290, 7446: 7291, 7447: 7292, 7448: 7293, 7449: 7294, 7450: 7295, 7451: 7296, 7452: 7297, 7453: 7298, 7454: 7299, 7455: 7300, 7456: 7301, 7457: 7302, 7458: 7303, 7459: 7304, 7460: 7305, 7461: 7306, 7462: 7307, 7463: 7308, 7464: 7309, 7465: 7310, 7466: 7311, 7467: 7312, 7468: 7313, 7469: 7314, 7470: 7315, 7471: 7316, 7472: 7317, 7473: 7318, 7474: 7319, 7475: 7320, 7476: 7321, 7477: 7322, 7478: 7323, 7479: 7324, 7480: 7325, 7481: 7326, 7482: 7327, 7483: 7328, 7484: 7329, 7485: 7330, 7486: 7331, 7487: 7332, 7488: 7333, 7489: 7334, 7490: 7335, 7491: 7336, 7492: 7337, 7493: 7338, 7494: 7339, 7495: 7340, 7496: 7341, 7497: 7342, 7498: 7343, 7499: 7344, 7500: 7345, 7501: 7346, 7502: 7347, 7503: 7348, 7504: 7349, 7505: 7350, 7506: 7351, 7508: 7352, 7510: 7353, 7511: 7354, 7512: 7355, 7513: 7356, 7514: 7357, 7515: 7358, 7516: 7359, 7517: 7360, 7518: 7361, 7519: 7362, 7520: 7363, 7521: 7364, 7522: 7365, 7523: 7366, 7524: 7367, 7525: 7368, 7526: 7369, 7527: 7370, 7528: 7371, 7529: 7372, 7530: 7373, 7531: 7374, 7532: 7375, 7533: 7376, 7534: 7377, 7535: 7378, 7536: 7379, 7537: 7380, 7538: 7381, 7539: 7382, 7540: 7383, 7541: 7384, 7542: 7385, 7543: 7386, 7544: 7387, 7545: 7388, 7546: 7389, 7547: 7390, 7548: 7391, 7549: 7392, 7550: 7393, 7551: 7394, 7552: 7395, 7553: 7396, 7554: 7397, 7555: 7398, 7556: 7399, 7557: 7400, 7558: 7401, 7559: 7402, 7560: 7403, 7561: 7404, 7562: 7405, 7563: 7406, 7564: 7407, 7565: 7408, 7566: 7409, 7567: 7410, 7568: 7411, 7569: 7412, 7570: 7413, 7571: 7414, 7572: 7415, 7573: 7416, 7574: 7417, 7575: 7418, 7576: 7419, 7577: 7420, 7578: 7421, 7579: 7422, 7580: 7423, 7581: 7424, 7582: 7425, 7583: 7426, 7584: 7427, 7585: 7428, 7586: 7429, 7587: 7430, 7588: 7431, 7589: 7432, 7590: 7433, 7591: 7434, 7592: 7435, 7593: 7436, 7594: 7437, 7595: 7438, 7596: 7439, 7597: 7440, 7598: 7441, 7599: 7442, 7600: 7443, 7601: 7444, 7602: 7445, 7603: 7446, 7604: 7447, 7605: 7448, 7606: 7449, 7607: 7450, 7608: 7451, 7609: 7452, 7610: 7453, 7611: 7454, 7612: 7455, 7613: 7456, 7614: 7457, 7615: 7458, 7616: 7459, 7617: 7460, 7618: 7461, 7619: 7462, 7620: 7463, 7621: 7464, 7622: 7465, 7623: 7466, 7624: 7467, 7625: 7468, 7626: 7469, 7627: 7470, 7628: 7471, 7629: 7472, 7630: 7473, 7631: 7474, 7632: 7475, 7633: 7476, 7634: 7477, 7635: 7478, 7636: 7479, 7637: 7480, 7638: 7481, 7639: 7482, 7640: 7483, 7641: 7484, 7642: 7485, 7643: 7486, 7644: 7487, 7645: 7488, 7646: 7489, 7647: 7490, 7648: 7491, 7649: 7492, 7650: 7493, 7651: 7494, 7652: 7495, 7653: 7496, 7654: 7497, 7655: 7498, 7656: 7499, 7657: 7500, 7658: 7501, 7659: 7502, 7660: 7503, 7661: 7504, 7662: 7505, 7663: 7506, 7664: 7507, 7665: 7508, 7666: 7509, 7667: 7510, 7668: 7511, 7669: 7512, 7670: 7513, 7671: 7514, 7672: 7515, 7673: 7516, 7674: 7517, 7675: 7518, 7676: 7519, 7677: 7520, 7678: 7521, 7679: 7522, 7680: 7523, 7681: 7524, 7682: 7525, 7683: 7526, 7684: 7527, 7685: 7528, 7686: 7529, 7687: 7530, 7688: 7531, 7689: 7532, 7690: 7533, 7691: 7534, 7692: 7535, 7693: 7536, 7694: 7537, 7695: 7538, 7696: 7539, 7697: 7540, 7698: 7541, 7699: 7542, 7700: 7543, 7701: 7544, 7702: 7545, 7703: 7546, 7704: 7547, 7705: 7548, 7706: 7549, 7707: 7550, 7708: 7551, 7709: 7552, 7710: 7553, 7711: 7554, 7712: 7555, 7713: 7556, 7714: 7557, 7715: 7558, 7716: 7559, 7717: 7560, 7718: 7561, 7719: 7562, 7720: 7563, 7721: 7564, 7722: 7565, 7723: 7566, 7724: 7567, 7726: 7568, 7727: 7569, 7729: 7570, 7732: 7571, 7733: 7572, 7734: 7573, 7735: 7574, 7736: 7575, 7737: 7576, 7738: 7577, 7739: 7578, 7740: 7579, 7741: 7580, 7742: 7581, 7743: 7582, 7744: 7583, 7745: 7584, 7746: 7585, 7747: 7586, 7748: 7587, 7749: 7588, 7750: 7589, 7751: 7590, 7752: 7591, 7753: 7592, 7755: 7593, 7758: 7594, 7759: 7595, 7765: 7596, 7766: 7597, 7774: 7598, 7775: 7599, 7776: 7600, 7777: 7601, 7778: 7602, 7779: 7603, 7780: 7604, 7781: 7605, 7786: 7606, 7788: 7607, 7790: 7608, 7791: 7609, 7792: 7610, 7793: 7611, 7794: 7612, 7795: 7613, 7796: 7614, 7797: 7615, 7798: 7616, 7799: 7617, 7800: 7618, 7801: 7619, 7802: 7620, 7803: 7621, 7804: 7622, 7805: 7623, 7806: 7624, 7807: 7625, 7808: 7626, 7809: 7627, 7810: 7628, 7811: 7629, 7812: 7630, 7813: 7631, 7814: 7632, 7815: 7633, 7816: 7634, 7817: 7635, 7818: 7636, 7819: 7637, 7820: 7638, 7821: 7639, 7822: 7640, 7823: 7641, 7824: 7642, 7825: 7643, 7826: 7644, 7827: 7645, 7828: 7646, 7829: 7647, 7830: 7648, 7831: 7649, 7832: 7650, 7833: 7651, 7834: 7652, 7835: 7653, 7836: 7654, 7837: 7655, 7838: 7656, 7839: 7657, 7840: 7658, 7841: 7659, 7842: 7660, 7843: 7661, 7844: 7662, 7845: 7663, 7846: 7664, 7847: 7665, 7848: 7666, 7849: 7667, 7850: 7668, 7851: 7669, 7852: 7670, 7853: 7671, 7854: 7672, 7855: 7673, 7856: 7674, 7857: 7675, 7858: 7676, 7859: 7677, 7860: 7678, 7861: 7679, 7862: 7680, 7863: 7681, 7864: 7682, 7865: 7683, 7866: 7684, 7867: 7685, 7868: 7686, 7869: 7687, 7870: 7688, 7871: 7689, 7872: 7690, 7873: 7691, 7874: 7692, 7875: 7693, 7876: 7694, 7877: 7695, 7878: 7696, 7879: 7697, 7880: 7698, 7881: 7699, 7882: 7700, 7883: 7701, 7884: 7702, 7885: 7703, 7886: 7704, 7887: 7705, 7888: 7706, 7889: 7707, 7890: 7708, 7891: 7709, 7892: 7710, 7893: 7711, 7894: 7712, 7895: 7713, 7896: 7714, 7897: 7715, 7898: 7716, 7899: 7717, 7900: 7718, 7901: 7719, 7902: 7720, 7903: 7721, 7904: 7722, 7905: 7723, 7906: 7724, 7907: 7725, 7908: 7726, 7909: 7727, 7910: 7728, 7911: 7729, 7912: 7730, 7913: 7731, 7914: 7732, 7915: 7733, 7916: 7734, 7917: 7735, 7918: 7736, 7919: 7737, 7920: 7738, 7921: 7739, 7922: 7740, 7923: 7741, 7924: 7742, 7925: 7743, 7926: 7744, 7927: 7745, 7928: 7746, 7929: 7747, 7930: 7748, 7931: 7749, 7932: 7750, 7933: 7751, 7934: 7752, 7935: 7753, 7936: 7754, 7937: 7755, 7938: 7756, 7939: 7757, 7940: 7758, 7941: 7759, 7942: 7760, 7943: 7761, 7944: 7762, 7945: 7763, 7946: 7764, 7947: 7765, 7948: 7766, 7949: 7767, 7950: 7768, 7951: 7769, 7952: 7770, 7953: 7771, 7954: 7772, 7955: 7773, 7956: 7774, 7957: 7775, 7958: 7776, 7959: 7777, 7960: 7778, 7961: 7779, 7962: 7780, 7963: 7781, 7964: 7782, 7965: 7783, 7966: 7784, 7967: 7785, 7968: 7786, 7969: 7787, 7970: 7788, 7971: 7789, 7972: 7790, 7973: 7791, 7974: 7792, 7975: 7793, 7976: 7794, 7977: 7795, 7978: 7796, 7979: 7797, 7980: 7798, 7981: 7799, 7982: 7800, 7983: 7801, 7984: 7802, 7985: 7803, 7986: 7804, 7987: 7805, 7988: 7806, 7989: 7807, 7990: 7808, 7991: 7809, 7992: 7810, 7993: 7811, 7994: 7812, 7995: 7813, 7996: 7814, 7997: 7815, 7998: 7816, 7999: 7817, 8000: 7818, 8001: 7819, 8002: 7820, 8003: 7821, 8004: 7822, 8005: 7823, 8006: 7824, 8007: 7825, 8008: 7826, 8011: 7827, 8012: 7828, 8013: 7829, 8014: 7830, 8015: 7831, 8016: 7832, 8017: 7833, 8018: 7834, 8019: 7835, 8020: 7836, 8021: 7837, 8022: 7838, 8023: 7839, 8024: 7840, 8025: 7841, 8026: 7842, 8027: 7843, 8028: 7844, 8029: 7845, 8030: 7846, 8031: 7847, 8032: 7848, 8033: 7849, 8034: 7850, 8035: 7851, 8036: 7852, 8037: 7853, 8038: 7854, 8039: 7855, 8040: 7856, 8041: 7857, 8042: 7858, 8043: 7859, 8044: 7860, 8045: 7861, 8046: 7862, 8047: 7863, 8048: 7864, 8049: 7865, 8050: 7866, 8051: 7867, 8052: 7868, 8053: 7869, 8054: 7870, 8055: 7871, 8056: 7872, 8057: 7873, 8058: 7874, 8059: 7875, 8060: 7876, 8061: 7877, 8062: 7878, 8063: 7879, 8064: 7880, 8065: 7881, 8066: 7882, 8067: 7883, 8068: 7884, 8069: 7885, 8070: 7886, 8071: 7887, 8072: 7888, 8073: 7889, 8074: 7890, 8075: 7891, 8076: 7892, 8077: 7893, 8078: 7894, 8079: 7895, 8080: 7896, 8081: 7897, 8082: 7898, 8083: 7899, 8084: 7900, 8085: 7901, 8086: 7902, 8087: 7903, 8088: 7904, 8089: 7905, 8090: 7906, 8091: 7907, 8092: 7908, 8093: 7909, 8094: 7910, 8095: 7911, 8096: 7912, 8097: 7913, 8098: 7914, 8099: 7915, 8100: 7916, 8101: 7917, 8102: 7918, 8103: 7919, 8104: 7920, 8105: 7921, 8106: 7922, 8107: 7923, 8108: 7924, 8109: 7925, 8110: 7926, 8111: 7927, 8112: 7928, 8113: 7929, 8114: 7930, 8115: 7931, 8116: 7932, 8117: 7933, 8118: 7934, 8119: 7935, 8120: 7936, 8121: 7937, 8122: 7938, 8123: 7939, 8124: 7940, 8125: 7941, 8126: 7942, 8127: 7943, 8128: 7944, 8129: 7945, 8135: 7946, 8139: 7947, 8140: 7948, 8141: 7949, 8142: 7950, 8143: 7951, 8144: 7952, 8145: 7953, 8146: 7954, 8147: 7955, 8148: 7956, 8149: 7957, 8150: 7958, 8151: 7959, 8152: 7960, 8153: 7961, 8154: 7962, 8155: 7963, 8156: 7964, 8157: 7965, 8158: 7966, 8159: 7967, 8160: 7968, 8161: 7969, 8162: 7970, 8163: 7971, 8164: 7972, 8165: 7973, 8166: 7974, 8167: 7975, 8168: 7976, 8169: 7977, 8170: 7978, 8171: 7979, 8172: 7980, 8173: 7981, 8174: 7982, 8175: 7983, 8176: 7984, 8177: 7985, 8178: 7986, 8179: 7987, 8180: 7988, 8181: 7989, 8182: 7990, 8183: 7991, 8184: 7992, 8185: 7993, 8186: 7994, 8187: 7995, 8188: 7996, 8189: 7997, 8190: 7998, 8191: 7999, 8192: 8000, 8193: 8001, 8194: 8002, 8195: 8003, 8196: 8004, 8197: 8005, 8198: 8006, 8199: 8007, 8200: 8008, 8201: 8009, 8202: 8010, 8203: 8011, 8204: 8012, 8205: 8013, 8206: 8014, 8207: 8015, 8208: 8016, 8209: 8017, 8210: 8018, 8211: 8019, 8212: 8020, 8213: 8021, 8214: 8022, 8215: 8023, 8216: 8024, 8217: 8025, 8218: 8026, 8219: 8027, 8220: 8028, 8221: 8029, 8222: 8030, 8223: 8031, 8224: 8032, 8225: 8033, 8226: 8034, 8227: 8035, 8228: 8036, 8229: 8037, 8230: 8038, 8231: 8039, 8232: 8040, 8233: 8041, 8234: 8042, 8235: 8043, 8236: 8044, 8237: 8045, 8238: 8046, 8239: 8047, 8240: 8048, 8241: 8049, 8242: 8050, 8243: 8051, 8244: 8052, 8245: 8053, 8246: 8054, 8247: 8055, 8248: 8056, 8249: 8057, 8250: 8058, 8251: 8059, 8252: 8060, 8253: 8061, 8254: 8062, 8255: 8063, 8256: 8064, 8257: 8065, 8258: 8066, 8259: 8067, 8260: 8068, 8261: 8069, 8262: 8070, 8263: 8071, 8264: 8072, 8265: 8073, 8266: 8074, 8267: 8075, 8268: 8076, 8269: 8077, 8270: 8078, 8271: 8079, 8272: 8080, 8273: 8081, 8274: 8082, 8275: 8083, 8276: 8084, 8277: 8085, 8278: 8086, 8279: 8087, 8280: 8088, 8281: 8089, 8282: 8090, 8283: 8091, 8284: 8092, 8285: 8093, 8286: 8094, 8287: 8095, 8288: 8096, 8289: 8097, 8290: 8098, 8291: 8099, 8292: 8100, 8293: 8101, 8294: 8102, 8295: 8103, 8296: 8104, 8297: 8105, 8298: 8106, 8299: 8107, 8300: 8108, 8301: 8109, 8302: 8110, 8303: 8111, 8304: 8112, 8305: 8113, 8306: 8114, 8307: 8115, 8308: 8116, 8309: 8117, 8310: 8118, 8311: 8119, 8312: 8120, 8313: 8121, 8314: 8122, 8315: 8123, 8316: 8124, 8317: 8125, 8318: 8126, 8319: 8127, 8320: 8128, 8321: 8129, 8322: 8130, 8323: 8131, 8324: 8132, 8325: 8133, 8326: 8134, 8327: 8135, 8328: 8136, 8329: 8137, 8330: 8138, 8331: 8139, 8332: 8140, 8333: 8141, 8334: 8142, 8335: 8143, 8336: 8144, 8337: 8145, 8338: 8146, 8339: 8147, 8340: 8148, 8341: 8149, 8342: 8150, 8343: 8151, 8344: 8152, 8345: 8153, 8346: 8154, 8347: 8155, 8348: 8156, 8349: 8157, 8350: 8158, 8351: 8159, 8352: 8160, 8353: 8161, 8354: 8162, 8355: 8163, 8356: 8164, 8357: 8165, 8358: 8166, 8359: 8167, 8360: 8168, 8361: 8169, 8362: 8170, 8363: 8171, 8364: 8172, 8365: 8173, 8366: 8174, 8367: 8175, 8368: 8176, 8369: 8177, 8370: 8178, 8371: 8179, 8372: 8180, 8373: 8181, 8374: 8182, 8375: 8183, 8376: 8184, 8377: 8185, 8378: 8186, 8379: 8187, 8380: 8188, 8381: 8189, 8382: 8190, 8383: 8191, 8384: 8192, 8385: 8193, 8386: 8194, 8387: 8195, 8388: 8196, 8389: 8197, 8391: 8198, 8393: 8199, 8395: 8200, 8396: 8201, 8397: 8202, 8399: 8203, 8400: 8204, 8402: 8205, 8403: 8206, 8404: 8207, 8406: 8208, 8407: 8209, 8408: 8210, 8409: 8211, 8410: 8212, 8411: 8213, 8412: 8214, 8413: 8215, 8414: 8216, 8415: 8217, 8416: 8218, 8417: 8219, 8419: 8220, 8421: 8221, 8422: 8222, 8423: 8223, 8424: 8224, 8425: 8225, 8426: 8226, 8427: 8227, 8428: 8228, 8429: 8229, 8430: 8230, 8431: 8231, 8432: 8232, 8433: 8233, 8434: 8234, 8435: 8235, 8436: 8236, 8437: 8237, 8438: 8238, 8439: 8239, 8440: 8240, 8441: 8241, 8442: 8242, 8443: 8243, 8444: 8244, 8445: 8245, 8446: 8246, 8447: 8247, 8448: 8248, 8449: 8249, 8450: 8250, 8451: 8251, 8452: 8252, 8453: 8253, 8454: 8254, 8455: 8255, 8456: 8256, 8457: 8257, 8458: 8258, 8459: 8259, 8460: 8260, 8461: 8261, 8462: 8262, 8463: 8263, 8464: 8264, 8465: 8265, 8466: 8266, 8467: 8267, 8468: 8268, 8469: 8269, 8470: 8270, 8471: 8271, 8472: 8272, 8473: 8273, 8474: 8274, 8475: 8275, 8476: 8276, 8477: 8277, 8478: 8278, 8479: 8279, 8480: 8280, 8481: 8281, 8482: 8282, 8483: 8283, 8484: 8284, 8485: 8285, 8486: 8286, 8487: 8287, 8488: 8288, 8489: 8289, 8490: 8290, 8491: 8291, 8492: 8292, 8493: 8293, 8494: 8294, 8495: 8295, 8496: 8296, 8497: 8297, 8498: 8298, 8499: 8299, 8500: 8300, 8501: 8301, 8502: 8302, 8503: 8303, 8504: 8304, 8505: 8305, 8506: 8306, 8507: 8307, 8508: 8308, 8509: 8309, 8510: 8310, 8511: 8311, 8512: 8312, 8513: 8313, 8514: 8314, 8515: 8315, 8516: 8316, 8517: 8317, 8518: 8318, 8519: 8319, 8520: 8320, 8521: 8321, 8522: 8322, 8523: 8323, 8524: 8324, 8525: 8325, 8526: 8326, 8527: 8327, 8528: 8328, 8529: 8329, 8530: 8330, 8531: 8331, 8532: 8332, 8533: 8333, 8534: 8334, 8535: 8335, 8536: 8336, 8537: 8337, 8538: 8338, 8539: 8339, 8540: 8340, 8541: 8341, 8542: 8342, 8543: 8343, 8544: 8344, 8545: 8345, 8546: 8346, 8547: 8347, 8548: 8348, 8549: 8349, 8550: 8350, 8551: 8351, 8552: 8352, 8553: 8353, 8554: 8354, 8555: 8355, 8556: 8356, 8557: 8357, 8558: 8358, 8559: 8359, 8560: 8360, 8561: 8361, 8562: 8362, 8563: 8363, 8564: 8364, 8565: 8365, 8566: 8366, 8567: 8367, 8568: 8368, 8569: 8369, 8570: 8370, 8571: 8371, 8572: 8372, 8573: 8373, 8574: 8374, 8575: 8375, 8576: 8376, 8577: 8377, 8578: 8378, 8579: 8379, 8580: 8380, 8581: 8381, 8582: 8382, 8583: 8383, 8584: 8384, 8585: 8385, 8586: 8386, 8587: 8387, 8588: 8388, 8589: 8389, 8590: 8390, 8591: 8391, 8592: 8392, 8593: 8393, 8594: 8394, 8595: 8395, 8596: 8396, 8597: 8397, 8598: 8398, 8599: 8399, 8600: 8400, 8601: 8401, 8602: 8402, 8603: 8403, 8604: 8404, 8605: 8405, 8606: 8406, 8607: 8407, 8608: 8408, 8609: 8409, 8610: 8410, 8611: 8411, 8612: 8412, 8613: 8413, 8614: 8414, 8615: 8415, 8616: 8416, 8617: 8417, 8618: 8418, 8619: 8419, 8620: 8420, 8621: 8421, 8622: 8422, 8623: 8423, 8624: 8424, 8625: 8425, 8626: 8426, 8627: 8427, 8628: 8428, 8629: 8429, 8630: 8430, 8631: 8431, 8632: 8432, 8633: 8433, 8634: 8434, 8635: 8435, 8636: 8436, 8637: 8437, 8638: 8438, 8639: 8439, 8640: 8440, 8641: 8441, 8642: 8442, 8643: 8443, 8644: 8444, 8645: 8445, 8646: 8446, 8647: 8447, 8648: 8448, 8649: 8449, 8650: 8450, 8651: 8451, 8652: 8452, 8653: 8453, 8654: 8454, 8655: 8455, 8656: 8456, 8657: 8457, 8658: 8458, 8659: 8459, 8660: 8460, 8661: 8461, 8662: 8462, 8663: 8463, 8664: 8464, 8665: 8465, 8666: 8466, 8667: 8467, 8668: 8468, 8669: 8469, 8670: 8470, 8671: 8471, 8672: 8472, 8673: 8473, 8674: 8474, 8675: 8475, 8676: 8476, 8677: 8477, 8678: 8478, 8679: 8479, 8680: 8480, 8681: 8481, 8683: 8482, 8688: 8483, 8689: 8484, 8690: 8485, 8691: 8486, 8692: 8487, 8693: 8488, 8694: 8489, 8695: 8490, 8696: 8491, 8697: 8492, 8698: 8493, 8699: 8494, 8700: 8495, 8701: 8496, 8702: 8497, 8703: 8498, 8704: 8499, 8705: 8500, 8706: 8501, 8707: 8502, 8708: 8503, 8709: 8504, 8710: 8505, 8711: 8506, 8712: 8507, 8713: 8508, 8714: 8509, 8715: 8510, 8717: 8511, 8720: 8512, 8721: 8513, 8723: 8514, 8724: 8515, 8725: 8516, 8726: 8517, 8727: 8518, 8728: 8519, 8729: 8520, 8730: 8521, 8731: 8522, 8732: 8523, 8733: 8524, 8734: 8525, 8735: 8526, 8736: 8527, 8737: 8528, 8738: 8529, 8739: 8530, 8740: 8531, 8741: 8532, 8742: 8533, 8743: 8534, 8744: 8535, 8745: 8536, 8746: 8537, 8747: 8538, 8748: 8539, 8749: 8540, 8750: 8541, 8751: 8542, 8752: 8543, 8753: 8544, 8754: 8545, 8755: 8546, 8756: 8547, 8757: 8548, 8758: 8549, 8759: 8550, 8760: 8551, 8761: 8552, 8762: 8553, 8763: 8554, 8764: 8555, 8765: 8556, 8766: 8557, 8767: 8558, 8768: 8559, 8769: 8560, 8770: 8561, 8771: 8562, 8772: 8563, 8773: 8564, 8774: 8565, 8775: 8566, 8776: 8567, 8777: 8568, 8778: 8569, 8779: 8570, 8780: 8571, 8781: 8572, 8782: 8573, 8783: 8574, 8784: 8575, 8785: 8576, 8786: 8577, 8787: 8578, 8788: 8579, 8789: 8580, 8790: 8581, 8791: 8582, 8792: 8583, 8793: 8584, 8794: 8585, 8795: 8586, 8796: 8587, 8797: 8588, 8798: 8589, 8799: 8590, 8800: 8591, 8801: 8592, 8802: 8593, 8803: 8594, 8804: 8595, 8805: 8596, 8806: 8597, 8807: 8598, 8808: 8599, 8809: 8600, 8810: 8601, 8811: 8602, 8812: 8603, 8813: 8604, 8814: 8605, 8815: 8606, 8816: 8607, 8817: 8608, 8818: 8609, 8819: 8610, 8820: 8611, 8821: 8612, 8822: 8613, 8823: 8614, 8824: 8615, 8825: 8616, 8826: 8617, 8827: 8618, 8828: 8619, 8829: 8620, 8830: 8621, 8831: 8622, 8832: 8623, 8833: 8624, 8834: 8625, 8835: 8626, 8836: 8627, 8837: 8628, 8838: 8629, 8839: 8630, 8840: 8631, 8841: 8632, 8842: 8633, 8843: 8634, 8844: 8635, 8845: 8636, 8846: 8637, 8847: 8638, 8848: 8639, 8849: 8640, 8850: 8641, 8851: 8642, 8852: 8643, 8853: 8644, 8854: 8645, 8855: 8646, 8856: 8647, 8857: 8648, 8858: 8649, 8859: 8650, 8860: 8651, 8861: 8652, 8862: 8653, 8863: 8654, 8864: 8655, 8865: 8656, 8866: 8657, 8867: 8658, 8868: 8659, 8869: 8660, 8870: 8661, 8872: 8662, 8875: 8663, 8877: 8664, 8880: 8665, 8881: 8666, 8882: 8667, 8883: 8668, 8884: 8669, 8885: 8670, 8886: 8671, 8887: 8672, 8888: 8673, 8889: 8674, 8890: 8675, 8891: 8676, 8892: 8677, 8893: 8678, 8894: 8679, 8895: 8680, 8896: 8681, 8897: 8682, 8898: 8683, 8899: 8684, 8900: 8685, 8901: 8686, 8902: 8687, 8903: 8688, 8904: 8689, 8905: 8690, 8906: 8691, 8907: 8692, 8908: 8693, 8909: 8694, 8910: 8695, 8911: 8696, 8912: 8697, 8913: 8698, 8914: 8699, 8915: 8700, 8916: 8701, 8917: 8702, 8918: 8703, 8919: 8704, 8920: 8705, 8924: 8706, 8926: 8707, 8928: 8708, 8929: 8709, 8930: 8710, 8931: 8711, 8932: 8712, 8933: 8713, 8935: 8714, 8936: 8715, 8944: 8716, 8946: 8717, 8947: 8718, 8950: 8719, 8952: 8720, 8953: 8721, 8954: 8722, 8955: 8723, 8956: 8724, 8957: 8725, 8958: 8726, 8959: 8727, 8960: 8728, 8961: 8729, 8962: 8730, 8963: 8731, 8964: 8732, 8965: 8733, 8966: 8734, 8967: 8735, 8968: 8736, 8969: 8737, 8970: 8738, 8971: 8739, 8972: 8740, 8973: 8741, 8974: 8742, 8975: 8743, 8976: 8744, 8977: 8745, 8978: 8746, 8979: 8747, 8980: 8748, 8981: 8749, 8982: 8750, 8983: 8751, 8984: 8752, 8985: 8753, 8986: 8754, 8987: 8755, 8988: 8756, 8989: 8757, 8990: 8758, 8991: 8759, 8992: 8760, 8993: 8761, 8994: 8762, 8995: 8763, 8996: 8764, 8997: 8765, 8998: 8766, 8999: 8767, 9000: 8768, 9001: 8769, 9002: 8770, 9003: 8771, 9004: 8772, 9005: 8773, 9006: 8774, 9007: 8775, 9008: 8776, 9009: 8777, 9010: 8778, 9011: 8779, 9012: 8780, 9013: 8781, 9014: 8782, 9015: 8783, 9016: 8784, 9017: 8785, 9018: 8786, 9019: 8787, 9020: 8788, 9021: 8789, 9022: 8790, 9023: 8791, 9024: 8792, 9025: 8793, 9026: 8794, 9027: 8795, 9028: 8796, 9029: 8797, 9030: 8798, 9031: 8799, 9032: 8800, 9033: 8801, 9034: 8802, 9035: 8803, 9036: 8804, 9037: 8805, 9038: 8806, 9039: 8807, 9040: 8808, 9041: 8809, 9042: 8810, 9043: 8811, 9044: 8812, 9045: 8813, 9046: 8814, 9047: 8815, 9048: 8816, 9049: 8817, 9050: 8818, 9051: 8819, 9052: 8820, 9053: 8821, 9054: 8822, 9055: 8823, 9056: 8824, 9057: 8825, 9058: 8826, 9059: 8827, 9060: 8828, 9061: 8829, 9062: 8830, 9063: 8831, 9064: 8832, 9065: 8833, 9066: 8834, 9067: 8835, 9068: 8836, 9069: 8837, 9070: 8838, 9071: 8839, 9072: 8840, 9073: 8841, 9074: 8842, 9075: 8843, 9076: 8844, 9077: 8845, 9078: 8846, 9079: 8847, 9080: 8848, 9081: 8849, 9082: 8850, 9083: 8851, 9084: 8852, 9085: 8853, 9086: 8854, 9087: 8855, 9088: 8856, 9089: 8857, 9090: 8858, 9091: 8859, 9092: 8860, 9093: 8861, 9094: 8862, 9095: 8863, 9096: 8864, 9097: 8865, 9098: 8866, 9099: 8867, 9100: 8868, 9101: 8869, 9102: 8870, 9103: 8871, 9104: 8872, 9105: 8873, 9106: 8874, 9107: 8875, 9108: 8876, 9109: 8877, 9110: 8878, 9111: 8879, 9112: 8880, 9113: 8881, 9114: 8882, 9115: 8883, 9116: 8884, 9117: 8885, 9118: 8886, 9119: 8887, 9120: 8888, 9121: 8889, 9122: 8890, 9123: 8891, 9124: 8892, 9125: 8893, 9126: 8894, 9127: 8895, 9128: 8896, 9129: 8897, 9130: 8898, 9131: 8899, 9132: 8900, 9133: 8901, 9134: 8902, 9135: 8903, 9136: 8904, 9137: 8905, 9138: 8906, 9139: 8907, 9140: 8908, 9141: 8909, 9142: 8910, 9143: 8911, 9144: 8912, 9145: 8913, 9146: 8914, 9147: 8915, 9148: 8916, 9149: 8917, 9150: 8918, 9151: 8919, 9152: 8920, 9153: 8921, 9154: 8922, 9155: 8923, 9156: 8924, 9157: 8925, 9158: 8926, 9159: 8927, 9160: 8928, 9161: 8929, 9162: 8930, 9163: 8931, 9164: 8932, 9165: 8933, 9166: 8934, 9167: 8935, 9168: 8936, 9169: 8937, 9170: 8938, 9171: 8939, 9172: 8940, 9173: 8941, 9174: 8942, 9175: 8943, 9176: 8944, 9177: 8945, 9178: 8946, 9179: 8947, 9180: 8948, 9181: 8949, 9182: 8950, 9183: 8951, 9184: 8952, 9185: 8953, 9186: 8954, 9187: 8955, 9188: 8956, 9189: 8957, 9190: 8958, 9191: 8959, 9192: 8960, 9193: 8961, 9194: 8962, 9195: 8963, 9196: 8964, 9197: 8965, 9198: 8966, 9199: 8967, 9200: 8968, 9201: 8969, 9202: 8970, 9203: 8971, 9204: 8972, 9205: 8973, 9206: 8974, 9207: 8975, 9208: 8976, 9209: 8977, 9210: 8978, 9211: 8979, 9212: 8980, 9213: 8981, 9214: 8982, 9215: 8983, 9216: 8984, 9217: 8985, 9218: 8986, 9219: 8987, 9220: 8988, 9221: 8989, 9222: 8990, 9223: 8991, 9224: 8992, 9225: 8993, 9226: 8994, 9227: 8995, 9228: 8996, 9229: 8997, 9230: 8998, 9231: 8999, 9232: 9000, 9233: 9001, 9234: 9002, 9235: 9003, 9236: 9004, 9237: 9005, 9238: 9006, 9239: 9007, 9240: 9008, 9241: 9009, 9242: 9010, 9243: 9011, 9244: 9012, 9245: 9013, 9246: 9014, 9247: 9015, 9248: 9016, 9249: 9017, 9250: 9018, 9251: 9019, 9252: 9020, 9253: 9021, 9254: 9022, 9255: 9023, 9256: 9024, 9257: 9025, 9258: 9026, 9259: 9027, 9260: 9028, 9261: 9029, 9262: 9030, 9263: 9031, 9264: 9032, 9265: 9033, 9266: 9034, 9267: 9035, 9268: 9036, 9269: 9037, 9270: 9038, 9271: 9039, 9272: 9040, 9273: 9041, 9274: 9042, 9275: 9043, 9276: 9044, 9277: 9045, 9278: 9046, 9279: 9047, 9280: 9048, 9281: 9049, 9282: 9050, 9283: 9051, 9284: 9052, 9285: 9053, 9286: 9054, 9287: 9055, 9288: 9056, 9289: 9057, 9290: 9058, 9291: 9059, 9292: 9060, 9293: 9061, 9294: 9062, 9295: 9063, 9296: 9064, 9297: 9065, 9298: 9066, 9299: 9067, 9300: 9068, 9301: 9069, 9302: 9070, 9303: 9071, 9304: 9072, 9305: 9073, 9306: 9074, 9307: 9075, 9308: 9076, 9309: 9077, 9310: 9078, 9311: 9079, 9312: 9080, 9313: 9081, 9314: 9082, 9315: 9083, 9316: 9084, 9317: 9085, 9318: 9086, 9319: 9087, 9320: 9088, 9321: 9089, 9322: 9090, 9323: 9091, 9324: 9092, 9325: 9093, 9326: 9094, 9327: 9095, 9328: 9096, 9329: 9097, 9330: 9098, 9331: 9099, 9332: 9100, 9333: 9101, 9334: 9102, 9335: 9103, 9336: 9104, 9337: 9105, 9338: 9106, 9339: 9107, 9340: 9108, 9341: 9109, 9342: 9110, 9343: 9111, 9344: 9112, 9345: 9113, 9346: 9114, 9347: 9115, 9348: 9116, 9349: 9117, 9350: 9118, 9351: 9119, 9352: 9120, 9353: 9121, 9354: 9122, 9355: 9123, 9356: 9124, 9357: 9125, 9358: 9126, 9359: 9127, 9360: 9128, 9361: 9129, 9362: 9130, 9363: 9131, 9364: 9132, 9365: 9133, 9366: 9134, 9367: 9135, 9368: 9136, 9369: 9137, 9370: 9138, 9371: 9139, 9372: 9140, 9373: 9141, 9374: 9142, 9375: 9143, 9376: 9144, 9377: 9145, 9378: 9146, 9379: 9147, 9380: 9148, 9381: 9149, 9382: 9150, 9383: 9151, 9384: 9152, 9385: 9153, 9386: 9154, 9387: 9155, 9388: 9156, 9389: 9157, 9390: 9158, 9391: 9159, 9392: 9160, 9393: 9161, 9394: 9162, 9395: 9163, 9396: 9164, 9397: 9165, 9398: 9166, 9399: 9167, 9400: 9168, 9401: 9169, 9402: 9170, 9403: 9171, 9404: 9172, 9405: 9173, 9406: 9174, 9407: 9175, 9408: 9176, 9409: 9177, 9410: 9178, 9411: 9179, 9412: 9180, 9413: 9181, 9414: 9182, 9415: 9183, 9416: 9184, 9417: 9185, 9418: 9186, 9419: 9187, 9420: 9188, 9421: 9189, 9422: 9190, 9423: 9191, 9424: 9192, 9425: 9193, 9426: 9194, 9427: 9195, 9428: 9196, 9429: 9197, 9430: 9198, 9431: 9199, 9432: 9200, 9433: 9201, 9434: 9202, 9435: 9203, 9436: 9204, 9437: 9205, 9438: 9206, 9439: 9207, 9440: 9208, 9441: 9209, 9442: 9210, 9443: 9211, 9444: 9212, 9445: 9213, 9446: 9214, 9447: 9215, 9448: 9216, 9449: 9217, 9450: 9218, 9451: 9219, 9452: 9220, 9453: 9221, 9454: 9222, 9455: 9223, 9456: 9224, 9457: 9225, 9458: 9226, 9459: 9227, 9460: 9228, 9461: 9229, 9462: 9230, 9463: 9231, 9464: 9232, 9465: 9233, 9466: 9234, 9467: 9235, 9468: 9236, 9469: 9237, 9470: 9238, 9471: 9239, 9472: 9240, 9473: 9241, 9474: 9242, 9475: 9243, 9476: 9244, 9477: 9245, 9478: 9246, 9479: 9247, 9480: 9248, 9481: 9249, 9482: 9250, 9483: 9251, 9484: 9252, 9485: 9253, 9486: 9254, 9487: 9255, 9488: 9256, 9489: 9257, 9490: 9258, 9491: 9259, 9492: 9260, 9493: 9261, 9494: 9262, 9495: 9263, 9496: 9264, 9497: 9265, 9498: 9266, 9499: 9267, 9500: 9268, 9501: 9269, 9502: 9270, 9503: 9271, 9504: 9272, 9505: 9273, 9506: 9274, 9507: 9275, 9508: 9276, 9509: 9277, 9510: 9278, 9511: 9279, 9512: 9280, 9513: 9281, 9514: 9282, 9515: 9283, 9516: 9284, 9517: 9285, 9518: 9286, 9519: 9287, 9520: 9288, 9521: 9289, 9522: 9290, 9523: 9291, 9524: 9292, 9525: 9293, 9526: 9294, 9527: 9295, 9528: 9296, 9529: 9297, 9530: 9298, 9531: 9299, 9532: 9300, 9533: 9301, 9534: 9302, 9535: 9303, 9536: 9304, 9537: 9305, 9538: 9306, 9539: 9307, 9540: 9308, 9541: 9309, 9542: 9310, 9543: 9311, 9544: 9312, 9545: 9313, 9546: 9314, 9547: 9315, 9548: 9316, 9549: 9317, 9550: 9318, 9551: 9319, 9552: 9320, 9553: 9321, 9554: 9322, 9555: 9323, 9556: 9324, 9557: 9325, 9558: 9326, 9559: 9327, 9560: 9328, 9561: 9329, 9562: 9330, 9563: 9331, 9564: 9332, 9565: 9333, 9566: 9334, 9567: 9335, 9568: 9336, 9569: 9337, 9570: 9338, 9571: 9339, 9572: 9340, 9573: 9341, 9574: 9342, 9575: 9343, 9576: 9344, 9577: 9345, 9578: 9346, 9579: 9347, 9580: 9348, 9581: 9349, 9582: 9350, 9583: 9351, 9584: 9352, 9585: 9353, 9586: 9354, 9587: 9355, 9588: 9356, 9589: 9357, 9590: 9358, 9591: 9359, 9592: 9360, 9593: 9361, 9594: 9362, 9595: 9363, 9596: 9364, 9597: 9365, 9598: 9366, 9599: 9367, 9600: 9368, 9601: 9369, 9602: 9370, 9603: 9371, 9604: 9372, 9605: 9373, 9606: 9374, 9607: 9375, 9608: 9376, 9609: 9377, 9610: 9378, 9611: 9379, 9612: 9380, 9613: 9381, 9614: 9382, 9615: 9383, 9616: 9384, 9617: 9385, 9618: 9386, 9619: 9387, 9620: 9388, 9621: 9389, 9622: 9390, 9623: 9391, 9624: 9392, 9625: 9393, 9626: 9394, 9627: 9395, 9628: 9396, 9629: 9397, 9630: 9398, 9631: 9399, 9632: 9400, 9633: 9401, 9634: 9402, 9635: 9403, 9636: 9404, 9637: 9405, 9638: 9406, 9639: 9407, 9640: 9408, 9641: 9409, 9642: 9410, 9643: 9411, 9644: 9412, 9645: 9413, 9646: 9414, 9647: 9415, 9648: 9416, 9649: 9417, 9650: 9418, 9651: 9419, 9652: 9420, 9653: 9421, 9654: 9422, 9655: 9423, 9656: 9424, 9657: 9425, 9658: 9426, 9659: 9427, 9660: 9428, 9661: 9429, 9662: 9430, 9663: 9431, 9664: 9432, 9665: 9433, 9666: 9434, 9667: 9435, 9668: 9436, 9669: 9437, 9670: 9438, 9671: 9439, 9672: 9440, 9673: 9441, 9674: 9442, 9675: 9443, 9676: 9444, 9677: 9445, 9678: 9446, 9679: 9447, 9680: 9448, 9681: 9449, 9682: 9450, 9683: 9451, 9684: 9452, 9685: 9453, 9686: 9454, 9687: 9455, 9688: 9456, 9689: 9457, 9690: 9458, 9691: 9459, 9692: 9460, 9693: 9461, 9694: 9462, 9695: 9463, 9696: 9464, 9697: 9465, 9698: 9466, 9699: 9467, 9700: 9468, 9701: 9469, 9702: 9470, 9703: 9471, 9704: 9472, 9705: 9473, 9706: 9474, 9707: 9475, 9708: 9476, 9709: 9477, 9710: 9478, 9711: 9479, 9712: 9480, 9714: 9481, 9715: 9482, 9716: 9483, 9717: 9484, 9718: 9485, 9719: 9486, 9720: 9487, 9721: 9488, 9722: 9489, 9723: 9490, 9724: 9491, 9725: 9492, 9726: 9493, 9727: 9494, 9728: 9495, 9729: 9496, 9730: 9497, 9731: 9498, 9732: 9499, 9733: 9500, 9734: 9501, 9735: 9502, 9736: 9503, 9737: 9504, 9738: 9505, 9739: 9506, 9740: 9507, 9741: 9508, 9742: 9509, 9743: 9510, 9744: 9511, 9745: 9512, 9746: 9513, 9747: 9514, 9748: 9515, 9749: 9516, 9750: 9517, 9751: 9518, 9752: 9519, 9753: 9520, 9754: 9521, 9755: 9522, 9756: 9523, 9757: 9524, 9758: 9525, 9759: 9526, 9760: 9527, 9761: 9528, 9762: 9529, 9763: 9530, 9764: 9531, 9765: 9532, 9766: 9533, 9767: 9534, 9768: 9535, 9769: 9536, 9770: 9537, 9771: 9538, 9772: 9539, 9773: 9540, 9774: 9541, 9775: 9542, 9776: 9543, 9778: 9544, 9779: 9545, 9780: 9546, 9781: 9547, 9782: 9548, 9783: 9549, 9784: 9550, 9785: 9551, 9786: 9552, 9787: 9553, 9788: 9554, 9789: 9555, 9790: 9556, 9791: 9557, 9792: 9558, 9793: 9559, 9794: 9560, 9795: 9561, 9796: 9562, 9797: 9563, 9798: 9564, 9799: 9565, 9800: 9566, 9801: 9567, 9802: 9568, 9803: 9569, 9804: 9570, 9805: 9571, 9806: 9572, 9807: 9573, 9808: 9574, 9809: 9575, 9810: 9576, 9811: 9577, 9812: 9578, 9813: 9579, 9814: 9580, 9815: 9581, 9816: 9582, 9817: 9583, 9818: 9584, 9819: 9585, 9820: 9586, 9821: 9587, 9822: 9588, 9823: 9589, 9824: 9590, 9825: 9591, 9826: 9592, 9827: 9593, 9828: 9594, 9829: 9595, 9830: 9596, 9832: 9597, 9833: 9598, 9835: 9599, 9836: 9600, 9837: 9601, 9838: 9602, 9839: 9603, 9842: 9604, 9843: 9605, 9844: 9606, 9845: 9607, 9846: 9608, 9847: 9609, 9848: 9610, 9849: 9611, 9850: 9612, 9851: 9613, 9852: 9614, 9853: 9615, 9854: 9616, 9855: 9617, 9856: 9618, 9857: 9619, 9858: 9620, 9859: 9621, 9860: 9622, 9861: 9623, 9862: 9624, 9863: 9625, 9864: 9626, 9865: 9627, 9866: 9628, 9867: 9629, 9868: 9630, 9869: 9631, 9870: 9632, 9871: 9633, 9872: 9634, 9873: 9635, 9874: 9636, 9875: 9637, 9876: 9638, 9877: 9639, 9878: 9640, 9879: 9641, 9881: 9642, 9885: 9643, 9886: 9644, 9887: 9645, 9888: 9646, 9889: 9647, 9890: 9648, 9891: 9649, 9892: 9650, 9893: 9651, 9894: 9652, 9895: 9653, 9896: 9654, 9897: 9655, 9898: 9656, 9899: 9657, 9900: 9658, 9901: 9659, 9902: 9660, 9903: 9661, 9904: 9662, 9905: 9663, 9906: 9664, 9907: 9665, 9908: 9666, 9909: 9667, 9910: 9668, 9911: 9669, 9912: 9670, 9913: 9671, 9914: 9672, 9915: 9673, 9916: 9674, 9917: 9675, 9918: 9676, 9919: 9677, 9920: 9678, 9921: 9679, 9922: 9680, 9923: 9681, 9924: 9682, 9925: 9683, 9926: 9684, 9927: 9685, 9928: 9686, 9929: 9687, 9930: 9688, 9931: 9689, 9932: 9690, 9933: 9691, 9935: 9692, 9939: 9693, 9940: 9694, 9942: 9695, 9943: 9696, 9946: 9697, 9947: 9698, 9950: 9699, 9951: 9700, 9952: 9701, 9954: 9702, 9958: 9703, 9959: 9704, 9960: 9705, 9961: 9706, 9962: 9707, 9963: 9708, 9964: 9709, 9965: 9710, 9966: 9711, 9967: 9712, 9968: 9713, 9969: 9714, 9970: 9715, 9971: 9716, 9972: 9717, 9973: 9718, 9974: 9719, 9975: 9720, 9976: 9721, 9977: 9722, 9978: 9723, 9979: 9724, 9980: 9725, 9981: 9726, 9982: 9727, 9983: 9728, 9984: 9729, 9985: 9730, 9986: 9731, 9987: 9732, 9988: 9733, 9989: 9734, 9990: 9735, 9991: 9736, 9992: 9737, 9993: 9738, 9994: 9739, 9995: 9740, 9996: 9741, 9997: 9742, 9998: 9743, 9999: 9744, 10000: 9745, 10001: 9746, 10002: 9747, 10003: 9748, 10004: 9749, 10005: 9750, 10006: 9751, 10007: 9752, 10008: 9753, 10009: 9754, 10010: 9755, 10011: 9756, 10012: 9757, 10013: 9758, 10014: 9759, 10015: 9760, 10016: 9761, 10019: 9762, 10021: 9763, 10022: 9764, 10023: 9765, 10024: 9766, 10025: 9767, 10026: 9768, 10027: 9769, 10028: 9770, 10029: 9771, 10030: 9772, 10031: 9773, 10032: 9774, 10033: 9775, 10034: 9776, 10035: 9777, 10036: 9778, 10037: 9779, 10038: 9780, 10039: 9781, 10040: 9782, 10041: 9783, 10042: 9784, 10043: 9785, 10044: 9786, 10045: 9787, 10046: 9788, 10047: 9789, 10048: 9790, 10049: 9791, 10050: 9792, 10051: 9793, 10052: 9794, 10053: 9795, 10054: 9796, 10055: 9797, 10056: 9798, 10057: 9799, 10058: 9800, 10059: 9801, 10060: 9802, 10061: 9803, 10062: 9804, 10063: 9805, 10064: 9806, 10065: 9807, 10066: 9808, 10067: 9809, 10068: 9810, 10069: 9811, 10070: 9812, 10071: 9813, 10072: 9814, 10073: 9815, 10074: 9816, 10075: 9817, 10076: 9818, 10077: 9819, 10079: 9820, 10085: 9821, 10086: 9822, 10087: 9823, 10088: 9824, 10089: 9825, 10090: 9826, 10091: 9827, 10092: 9828, 10093: 9829, 10094: 9830, 10095: 9831, 10096: 9832, 10097: 9833, 10098: 9834, 10099: 9835, 10100: 9836, 10101: 9837, 10102: 9838, 10103: 9839, 10104: 9840, 10105: 9841, 10106: 9842, 10107: 9843, 10108: 9844, 10109: 9845, 10110: 9846, 10111: 9847, 10112: 9848, 10113: 9849, 10114: 9850, 10115: 9851, 10116: 9852, 10117: 9853, 10118: 9854, 10119: 9855, 10120: 9856, 10121: 9857, 10122: 9858, 10123: 9859, 10124: 9860, 10125: 9861, 10126: 9862, 10127: 9863, 10128: 9864, 10129: 9865, 10130: 9866, 10131: 9867, 10132: 9868, 10133: 9869, 10134: 9870, 10135: 9871, 10136: 9872, 10137: 9873, 10138: 9874, 10139: 9875, 10140: 9876, 10141: 9877, 10142: 9878, 10143: 9879, 10144: 9880, 10145: 9881, 10146: 9882, 10147: 9883, 10148: 9884, 10149: 9885, 10150: 9886, 10151: 9887, 10152: 9888, 10153: 9889, 10154: 9890, 10155: 9891, 10156: 9892, 10157: 9893, 10158: 9894, 10159: 9895, 10160: 9896, 10161: 9897, 10162: 9898, 10163: 9899, 10164: 9900, 10165: 9901, 10166: 9902, 10167: 9903, 10168: 9904, 10169: 9905, 10170: 9906, 10171: 9907, 10172: 9908, 10173: 9909, 10175: 9910, 10180: 9911, 10181: 9912, 10183: 9913, 10184: 9914, 10185: 9915, 10186: 9916, 10187: 9917, 10188: 9918, 10189: 9919, 10190: 9920, 10191: 9921, 10192: 9922, 10193: 9923, 10194: 9924, 10195: 9925, 10196: 9926, 10197: 9927, 10198: 9928, 10199: 9929, 10200: 9930, 10201: 9931, 10202: 9932, 10203: 9933, 10204: 9934, 10205: 9935, 10206: 9936, 10207: 9937, 10208: 9938, 10209: 9939, 10210: 9940, 10211: 9941, 10212: 9942, 10213: 9943, 10214: 9944, 10215: 9945, 10216: 9946, 10217: 9947, 10218: 9948, 10219: 9949, 10220: 9950, 10221: 9951, 10222: 9952, 10223: 9953, 10224: 9954, 10225: 9955, 10226: 9956, 10227: 9957, 10228: 9958, 10229: 9959, 10230: 9960, 10231: 9961, 10232: 9962, 10233: 9963, 10234: 9964, 10235: 9965, 10236: 9966, 10237: 9967, 10238: 9968, 10239: 9969, 10240: 9970, 10241: 9971, 10242: 9972, 10243: 9973, 10244: 9974, 10245: 9975, 10246: 9976, 10247: 9977, 10248: 9978, 10249: 9979, 10250: 9980, 10251: 9981, 10252: 9982, 10253: 9983, 10254: 9984, 10255: 9985, 10256: 9986, 10257: 9987, 10258: 9988, 10259: 9989, 10260: 9990, 10261: 9991, 10262: 9992, 10263: 9993, 10264: 9994, 10265: 9995, 10266: 9996, 10267: 9997, 10268: 9998, 10269: 9999, 10270: 10000, 10271: 10001, 10272: 10002, 10273: 10003, 10274: 10004, 10275: 10005, 10276: 10006, 10277: 10007, 10278: 10008, 10279: 10009, 10280: 10010, 10281: 10011, 10288: 10012, 10294: 10013, 10298: 10014, 10299: 10015, 10300: 10016, 10301: 10017, 10302: 10018, 10303: 10019, 10304: 10020, 10305: 10021, 10306: 10022, 10307: 10023, 10308: 10024, 10309: 10025, 10310: 10026, 10311: 10027, 10312: 10028, 10313: 10029, 10314: 10030, 10315: 10031, 10316: 10032, 10317: 10033, 10318: 10034, 10319: 10035, 10320: 10036, 10321: 10037, 10322: 10038, 10323: 10039, 10324: 10040, 10325: 10041, 10326: 10042, 10327: 10043, 10328: 10044, 10329: 10045, 10330: 10046, 10331: 10047, 10332: 10048, 10333: 10049, 10334: 10050, 10335: 10051, 10336: 10052, 10337: 10053, 10338: 10054, 10339: 10055, 10340: 10056, 10341: 10057, 10342: 10058, 10343: 10059, 10344: 10060, 10345: 10061, 10346: 10062, 10347: 10063, 10348: 10064, 10349: 10065, 10350: 10066, 10351: 10067, 10352: 10068, 10353: 10069, 10354: 10070, 10355: 10071, 10356: 10072, 10357: 10073, 10358: 10074, 10359: 10075, 10360: 10076, 10361: 10077, 10362: 10078, 10363: 10079, 10364: 10080, 10365: 10081, 10366: 10082, 10367: 10083, 10368: 10084, 10369: 10085, 10370: 10086, 10371: 10087, 10372: 10088, 10373: 10089, 10374: 10090, 10375: 10091, 10376: 10092, 10377: 10093, 10378: 10094, 10379: 10095, 10380: 10096, 10381: 10097, 10382: 10098, 10383: 10099, 10384: 10100, 10385: 10101, 10386: 10102, 10387: 10103, 10388: 10104, 10389: 10105, 10390: 10106, 10391: 10107, 10392: 10108, 10393: 10109, 10394: 10110, 10395: 10111, 10396: 10112, 10397: 10113, 10398: 10114, 10399: 10115, 10400: 10116, 10401: 10117, 10402: 10118, 10403: 10119, 10404: 10120, 10405: 10121, 10406: 10122, 10407: 10123, 10408: 10124, 10409: 10125, 10410: 10126, 10411: 10127, 10412: 10128, 10413: 10129, 10414: 10130, 10415: 10131, 10416: 10132, 10417: 10133, 10418: 10134, 10419: 10135, 10420: 10136, 10421: 10137, 10422: 10138, 10423: 10139, 10424: 10140, 10425: 10141, 10426: 10142, 10427: 10143, 10428: 10144, 10429: 10145, 10430: 10146, 10431: 10147, 10432: 10148, 10433: 10149, 10434: 10150, 10435: 10151, 10436: 10152, 10437: 10153, 10438: 10154, 10439: 10155, 10440: 10156, 10441: 10157, 10442: 10158, 10443: 10159, 10444: 10160, 10445: 10161, 10446: 10162, 10447: 10163, 10448: 10164, 10449: 10165, 10450: 10166, 10451: 10167, 10452: 10168, 10453: 10169, 10454: 10170, 10455: 10171, 10456: 10172, 10457: 10173, 10458: 10174, 10459: 10175, 10460: 10176, 10461: 10177, 10462: 10178, 10463: 10179, 10464: 10180, 10465: 10181, 10466: 10182, 10467: 10183, 10468: 10184, 10469: 10185, 10470: 10186, 10471: 10187, 10472: 10188, 10473: 10189, 10474: 10190, 10475: 10191, 10477: 10192, 10478: 10193, 10481: 10194, 10482: 10195, 10483: 10196, 10484: 10197, 10485: 10198, 10486: 10199, 10487: 10200, 10488: 10201, 10489: 10202, 10490: 10203, 10491: 10204, 10492: 10205, 10493: 10206, 10494: 10207, 10495: 10208, 10496: 10209, 10497: 10210, 10498: 10211, 10499: 10212, 10500: 10213, 10501: 10214, 10502: 10215, 10503: 10216, 10504: 10217, 10505: 10218, 10506: 10219, 10507: 10220, 10508: 10221, 10509: 10222, 10510: 10223, 10511: 10224, 10512: 10225, 10513: 10226, 10514: 10227, 10515: 10228, 10516: 10229, 10517: 10230, 10518: 10231, 10519: 10232, 10520: 10233, 10521: 10234, 10522: 10235, 10523: 10236, 10524: 10237, 10525: 10238, 10526: 10239, 10527: 10240, 10528: 10241, 10529: 10242, 10530: 10243, 10531: 10244, 10532: 10245, 10533: 10246, 10534: 10247, 10535: 10248, 10536: 10249, 10537: 10250, 10538: 10251, 10539: 10252, 10540: 10253, 10541: 10254, 10542: 10255, 10543: 10256, 10544: 10257, 10545: 10258, 10546: 10259, 10547: 10260, 10548: 10261, 10549: 10262, 10550: 10263, 10551: 10264, 10552: 10265, 10553: 10266, 10554: 10267, 10555: 10268, 10556: 10269, 10557: 10270, 10558: 10271, 10559: 10272, 10560: 10273, 10561: 10274, 10562: 10275, 10563: 10276, 10564: 10277, 10565: 10278, 10566: 10279, 10567: 10280, 10568: 10281, 10569: 10282, 10570: 10283, 10571: 10284, 10572: 10285, 10573: 10286, 10574: 10287, 10575: 10288, 10576: 10289, 10577: 10290, 10578: 10291, 10579: 10292, 10580: 10293, 10581: 10294, 10582: 10295, 10583: 10296, 10584: 10297, 10585: 10298, 10586: 10299, 10587: 10300, 10588: 10301, 10589: 10302, 10590: 10303, 10591: 10304, 10592: 10305, 10593: 10306, 10594: 10307, 10595: 10308, 10596: 10309, 10597: 10310, 10598: 10311, 10599: 10312, 10600: 10313, 10601: 10314, 10602: 10315, 10603: 10316, 10604: 10317, 10605: 10318, 10606: 10319, 10607: 10320, 10608: 10321, 10609: 10322, 10610: 10323, 10611: 10324, 10612: 10325, 10613: 10326, 10614: 10327, 10615: 10328, 10616: 10329, 10617: 10330, 10618: 10331, 10619: 10332, 10620: 10333, 10621: 10334, 10622: 10335, 10623: 10336, 10624: 10337, 10625: 10338, 10626: 10339, 10627: 10340, 10628: 10341, 10629: 10342, 10630: 10343, 10631: 10344, 10632: 10345, 10633: 10346, 10634: 10347, 10635: 10348, 10636: 10349, 10637: 10350, 10638: 10351, 10639: 10352, 10640: 10353, 10641: 10354, 10642: 10355, 10643: 10356, 10644: 10357, 10645: 10358, 10646: 10359, 10647: 10360, 10648: 10361, 10649: 10362, 10650: 10363, 10651: 10364, 10652: 10365, 10653: 10366, 10654: 10367, 10655: 10368, 10656: 10369, 10657: 10370, 10658: 10371, 10659: 10372, 10660: 10373, 10661: 10374, 10662: 10375, 10663: 10376, 10667: 10377, 10669: 10378, 10670: 10379, 10671: 10380, 10672: 10381, 10673: 10382, 10674: 10383, 10675: 10384, 10676: 10385, 10677: 10386, 10678: 10387, 10679: 10388, 10680: 10389, 10681: 10390, 10682: 10391, 10683: 10392, 10684: 10393, 10685: 10394, 10686: 10395, 10687: 10396, 10688: 10397, 10689: 10398, 10690: 10399, 10692: 10400, 10693: 10401, 10694: 10402, 10695: 10403, 10696: 10404, 10697: 10405, 10698: 10406, 10699: 10407, 10700: 10408, 10701: 10409, 10702: 10410, 10703: 10411, 10704: 10412, 10705: 10413, 10706: 10414, 10707: 10415, 10708: 10416, 10709: 10417, 10710: 10418, 10711: 10419, 10712: 10420, 10713: 10421, 10714: 10422, 10715: 10423, 10716: 10424, 10717: 10425, 10718: 10426, 10719: 10427, 10721: 10428, 10723: 10429, 10728: 10430, 10729: 10431, 10730: 10432, 10731: 10433, 10732: 10434, 10733: 10435, 10734: 10436, 10735: 10437, 10736: 10438, 10737: 10439, 10738: 10440, 10739: 10441, 10740: 10442, 10741: 10443, 10742: 10444, 10743: 10445, 10744: 10446, 10745: 10447, 10746: 10448, 10747: 10449, 10748: 10450, 10749: 10451, 10750: 10452, 10751: 10453, 10752: 10454, 10753: 10455, 10754: 10456, 10755: 10457, 10756: 10458, 10757: 10459, 10758: 10460, 10759: 10461, 10760: 10462, 10761: 10463, 10762: 10464, 10763: 10465, 10764: 10466, 10765: 10467, 10766: 10468, 10767: 10469, 10768: 10470, 10769: 10471, 10770: 10472, 10771: 10473, 10772: 10474, 10773: 10475, 10774: 10476, 10775: 10477, 10776: 10478, 10777: 10479, 10778: 10480, 10779: 10481, 10780: 10482, 10781: 10483, 10782: 10484, 10783: 10485, 10784: 10486, 10792: 10487, 10793: 10488, 10796: 10489, 10797: 10490, 10798: 10491, 10799: 10492, 10800: 10493, 10801: 10494, 10802: 10495, 10803: 10496, 10804: 10497, 10805: 10498, 10806: 10499, 10807: 10500, 10808: 10501, 10809: 10502, 10810: 10503, 10811: 10504, 10813: 10505, 10819: 10506, 10820: 10507, 10821: 10508, 10822: 10509, 10823: 10510, 10824: 10511, 10825: 10512, 10826: 10513, 10827: 10514, 10828: 10515, 10829: 10516, 10830: 10517, 10831: 10518, 10832: 10519, 10833: 10520, 10834: 10521, 10835: 10522, 10836: 10523, 10837: 10524, 10838: 10525, 10839: 10526, 10840: 10527, 10841: 10528, 10842: 10529, 10843: 10530, 10844: 10531, 10845: 10532, 10846: 10533, 10847: 10534, 10848: 10535, 10849: 10536, 10850: 10537, 10851: 10538, 10852: 10539, 10853: 10540, 10854: 10541, 10855: 10542, 10856: 10543, 10857: 10544, 10858: 10545, 10859: 10546, 10860: 10547, 10863: 10548, 10864: 10549, 10866: 10550, 10869: 10551, 10870: 10552, 10871: 10553, 10872: 10554, 10873: 10555, 10874: 10556, 10875: 10557, 10876: 10558, 10877: 10559, 10878: 10560, 10879: 10561, 10880: 10562, 10881: 10563, 10882: 10564, 10883: 10565, 10884: 10566, 10885: 10567, 10888: 10568, 10889: 10569, 10890: 10570, 10891: 10571, 10892: 10572, 10893: 10573, 10894: 10574, 10896: 10575, 10897: 10576, 10898: 10577, 10899: 10578, 10900: 10579, 10901: 10580, 10902: 10581, 10903: 10582, 10904: 10583, 10905: 10584, 10906: 10585, 10907: 10586, 10908: 10587, 10909: 10588, 10910: 10589, 10911: 10590, 10912: 10591, 10913: 10592, 10914: 10593, 10915: 10594, 10916: 10595, 10917: 10596, 10918: 10597, 10919: 10598, 10920: 10599, 10921: 10600, 10922: 10601, 10923: 10602, 10924: 10603, 10925: 10604, 10926: 10605, 10927: 10606, 10928: 10607, 10929: 10608, 10930: 10609, 10931: 10610, 10932: 10611, 10933: 10612, 10934: 10613, 10935: 10614, 10936: 10615, 10937: 10616, 10938: 10617, 10939: 10618, 10940: 10619, 10941: 10620, 10942: 10621, 10951: 10622, 10952: 10623, 10953: 10624, 10954: 10625, 10955: 10626, 10956: 10627, 10957: 10628, 10958: 10629, 10959: 10630, 10960: 10631, 10961: 10632, 10962: 10633, 10963: 10634, 10964: 10635, 10965: 10636, 10966: 10637, 10967: 10638, 10968: 10639, 10969: 10640, 10970: 10641, 10971: 10642, 10972: 10643, 10973: 10644, 10974: 10645, 10975: 10646, 10976: 10647, 10977: 10648, 10978: 10649, 10979: 10650, 10980: 10651, 10981: 10652, 10982: 10653, 10983: 10654, 10984: 10655, 10985: 10656, 10986: 10657, 10987: 10658, 10988: 10659, 10989: 10660, 10990: 10661, 10991: 10662, 10992: 10663, 10993: 10664, 10994: 10665, 10995: 10666, 10996: 10667, 10997: 10668, 10998: 10669, 10999: 10670, 11000: 10671, 11001: 10672, 11002: 10673, 11003: 10674, 11004: 10675, 11005: 10676, 11006: 10677, 11007: 10678, 11008: 10679, 11009: 10680, 11010: 10681, 11011: 10682, 11012: 10683, 11013: 10684, 11014: 10685, 11015: 10686, 11016: 10687, 11017: 10688, 11018: 10689, 11019: 10690, 11020: 10691, 11022: 10692, 11023: 10693, 11029: 10694, 11030: 10695, 11031: 10696, 11032: 10697, 11033: 10698, 11034: 10699, 11035: 10700, 11036: 10701, 11037: 10702, 11038: 10703, 11039: 10704, 11040: 10705, 11041: 10706, 11042: 10707, 11043: 10708, 11044: 10709, 11045: 10710, 11046: 10711, 11047: 10712, 11048: 10713, 11049: 10714, 11050: 10715, 11051: 10716, 11052: 10717, 11054: 10718, 11055: 10719, 11060: 10720, 11061: 10721, 11062: 10722, 11063: 10723, 11064: 10724, 11065: 10725, 11066: 10726, 11067: 10727, 11068: 10728, 11069: 10729, 11070: 10730, 11071: 10731, 11072: 10732, 11073: 10733, 11074: 10734, 11075: 10735, 11076: 10736, 11077: 10737, 11078: 10738, 11079: 10739, 11080: 10740, 11081: 10741, 11082: 10742, 11083: 10743, 11084: 10744, 11085: 10745, 11086: 10746, 11087: 10747, 11088: 10748, 11089: 10749, 11090: 10750, 11091: 10751, 11092: 10752, 11093: 10753, 11094: 10754, 11095: 10755, 11096: 10756, 11097: 10757, 11098: 10758, 11099: 10759, 11100: 10760, 11101: 10761, 11102: 10762, 11103: 10763, 11104: 10764, 11105: 10765, 11106: 10766, 11107: 10767, 11108: 10768, 11109: 10769, 11110: 10770, 11111: 10771, 11112: 10772, 11113: 10773, 11114: 10774, 11115: 10775, 11116: 10776, 11117: 10777, 11118: 10778, 11119: 10779, 11120: 10780, 11121: 10781, 11122: 10782, 11123: 10783, 11124: 10784, 11125: 10785, 11126: 10786, 11127: 10787, 11128: 10788, 11129: 10789, 11130: 10790, 11131: 10791, 11132: 10792, 11133: 10793, 11134: 10794, 11135: 10795, 11136: 10796, 11137: 10797, 11138: 10798, 11139: 10799, 11140: 10800, 11141: 10801, 11142: 10802, 11143: 10803, 11144: 10804, 11145: 10805, 11146: 10806, 11147: 10807, 11148: 10808, 11149: 10809, 11150: 10810, 11151: 10811, 11152: 10812, 11153: 10813, 11154: 10814, 11155: 10815, 11156: 10816, 11157: 10817, 11158: 10818, 11159: 10819, 11160: 10820, 11161: 10821, 11162: 10822, 11163: 10823, 11164: 10824, 11165: 10825, 11166: 10826, 11167: 10827, 11168: 10828, 11169: 10829, 11170: 10830, 11171: 10831, 11172: 10832, 11173: 10833, 11174: 10834, 11175: 10835, 11176: 10836, 11177: 10837, 11178: 10838, 11179: 10839, 11180: 10840, 11181: 10841, 11182: 10842, 11183: 10843, 11184: 10844, 11185: 10845, 11186: 10846, 11187: 10847, 11188: 10848, 11189: 10849, 11190: 10850, 11191: 10851, 11192: 10852, 11193: 10853, 11194: 10854, 11195: 10855, 11196: 10856, 11197: 10857, 11198: 10858, 11199: 10859, 11200: 10860, 11201: 10861, 11202: 10862, 11203: 10863, 11204: 10864, 11205: 10865, 11206: 10866, 11207: 10867, 11208: 10868, 11209: 10869, 11210: 10870, 11212: 10871, 11214: 10872, 11216: 10873, 11217: 10874, 11218: 10875, 11219: 10876, 11220: 10877, 11221: 10878, 11222: 10879, 11223: 10880, 11224: 10881, 11225: 10882, 11226: 10883, 11227: 10884, 11228: 10885, 11229: 10886, 11230: 10887, 11231: 10888, 11232: 10889, 11233: 10890, 11234: 10891, 11235: 10892, 11236: 10893, 11237: 10894, 11238: 10895, 11239: 10896, 11240: 10897, 11241: 10898, 11242: 10899, 11243: 10900, 11244: 10901, 11245: 10902, 11246: 10903, 11247: 10904, 11248: 10905, 11249: 10906, 11250: 10907, 11251: 10908, 11252: 10909, 11253: 10910, 11254: 10911, 11255: 10912, 11262: 10913, 11263: 10914, 11264: 10915, 11266: 10916, 11267: 10917, 11271: 10918, 11272: 10919, 11273: 10920, 11274: 10921, 11275: 10922, 11276: 10923, 11279: 10924, 11280: 10925, 11281: 10926, 11282: 10927, 11283: 10928, 11284: 10929, 11285: 10930, 11286: 10931, 11287: 10932, 11288: 10933, 11289: 10934, 11290: 10935, 11291: 10936, 11292: 10937, 11293: 10938, 11294: 10939, 11295: 10940, 11296: 10941, 11297: 10942, 11298: 10943, 11299: 10944, 11300: 10945, 11301: 10946, 11302: 10947, 11303: 10948, 11304: 10949, 11305: 10950, 11306: 10951, 11307: 10952, 11308: 10953, 11309: 10954, 11310: 10955, 11311: 10956, 11312: 10957, 11313: 10958, 11314: 10959, 11315: 10960, 11316: 10961, 11317: 10962, 11318: 10963, 11319: 10964, 11320: 10965, 11321: 10966, 11322: 10967, 11323: 10968, 11324: 10969, 11325: 10970, 11326: 10971, 11327: 10972, 11328: 10973, 11329: 10974, 11330: 10975, 11331: 10976, 11332: 10977, 11333: 10978, 11334: 10979, 11335: 10980, 11336: 10981, 11337: 10982, 11338: 10983, 11339: 10984, 11340: 10985, 11341: 10986, 11342: 10987, 11343: 10988, 11344: 10989, 11345: 10990, 11346: 10991, 11347: 10992, 11348: 10993, 11349: 10994, 11350: 10995, 11351: 10996, 11357: 10997, 11359: 10998, 11364: 10999, 11369: 11000, 11371: 11001, 11376: 11002, 11377: 11003, 11378: 11004, 11379: 11005, 11380: 11006, 11381: 11007, 11382: 11008, 11383: 11009, 11384: 11010, 11385: 11011, 11386: 11012, 11387: 11013, 11388: 11014, 11389: 11015, 11390: 11016, 11391: 11017, 11392: 11018, 11393: 11019, 11394: 11020, 11395: 11021, 11396: 11022, 11397: 11023, 11398: 11024, 11399: 11025, 11400: 11026, 11401: 11027, 11402: 11028, 11403: 11029, 11404: 11030, 11405: 11031, 11406: 11032, 11407: 11033, 11408: 11034, 11409: 11035, 11410: 11036, 11411: 11037, 11412: 11038, 11413: 11039, 11414: 11040, 11415: 11041, 11416: 11042, 11417: 11043, 11418: 11044, 11419: 11045, 11420: 11046, 11421: 11047, 11422: 11048, 11423: 11049, 11424: 11050, 11425: 11051, 11426: 11052, 11427: 11053, 11428: 11054, 11429: 11055, 11430: 11056, 11431: 11057, 11432: 11058, 11433: 11059, 11434: 11060, 11435: 11061, 11436: 11062, 11437: 11063, 11438: 11064, 11439: 11065, 11440: 11066, 11441: 11067, 11442: 11068, 11443: 11069, 11444: 11070, 11445: 11071, 11446: 11072, 11447: 11073, 11448: 11074, 11449: 11075, 11450: 11076, 11451: 11077, 11452: 11078, 11453: 11079, 11454: 11080, 11455: 11081, 11456: 11082, 11457: 11083, 11458: 11084, 11459: 11085, 11460: 11086, 11461: 11087, 11462: 11088, 11463: 11089, 11464: 11090, 11465: 11091, 11466: 11092, 11467: 11093, 11468: 11094, 11469: 11095, 11470: 11096, 11471: 11097, 11472: 11098, 11473: 11099, 11474: 11100, 11475: 11101, 11476: 11102, 11477: 11103, 11478: 11104, 11479: 11105, 11480: 11106, 11481: 11107, 11482: 11108, 11483: 11109, 11484: 11110, 11486: 11111, 11488: 11112, 11490: 11113, 11491: 11114, 11493: 11115, 11497: 11116, 11498: 11117, 11499: 11118, 11500: 11119, 11501: 11120, 11502: 11121, 11503: 11122, 11504: 11123, 11505: 11124, 11506: 11125, 11507: 11126, 11508: 11127, 11509: 11128, 11510: 11129, 11511: 11130, 11512: 11131, 11513: 11132, 11514: 11133, 11515: 11134, 11516: 11135, 11517: 11136, 11518: 11137, 11519: 11138, 11520: 11139, 11521: 11140, 11522: 11141, 11523: 11142, 11524: 11143, 11525: 11144, 11526: 11145, 11527: 11146, 11528: 11147, 11529: 11148, 11530: 11149, 11531: 11150, 11532: 11151, 11533: 11152, 11534: 11153, 11535: 11154, 11536: 11155, 11537: 11156, 11538: 11157, 11539: 11158, 11540: 11159, 11541: 11160, 11542: 11161, 11543: 11162, 11544: 11163, 11545: 11164, 11546: 11165, 11547: 11166, 11548: 11167, 11549: 11168, 11550: 11169, 11551: 11170, 11552: 11171, 11553: 11172, 11554: 11173, 11555: 11174, 11556: 11175, 11557: 11176, 11558: 11177, 11559: 11178, 11560: 11179, 11561: 11180, 11562: 11181, 11563: 11182, 11564: 11183, 11565: 11184, 11566: 11185, 11567: 11186, 11568: 11187, 11569: 11188, 11570: 11189, 11571: 11190, 11573: 11191, 11574: 11192, 11575: 11193, 11576: 11194, 11577: 11195, 11578: 11196, 11579: 11197, 11580: 11198, 11581: 11199, 11582: 11200, 11583: 11201, 11586: 11202, 11587: 11203, 11588: 11204, 11589: 11205, 11590: 11206, 11591: 11207, 11592: 11208, 11593: 11209, 11594: 11210, 11595: 11211, 11596: 11212, 11597: 11213, 11601: 11214, 11602: 11215, 11603: 11216, 11604: 11217, 11605: 11218, 11606: 11219, 11607: 11220, 11608: 11221, 11609: 11222, 11610: 11223, 11611: 11224, 11612: 11225, 11613: 11226, 11614: 11227, 11615: 11228, 11616: 11229, 11617: 11230, 11618: 11231, 11619: 11232, 11620: 11233, 11621: 11234, 11622: 11235, 11623: 11236, 11624: 11237, 11625: 11238, 11626: 11239, 11627: 11240, 11628: 11241, 11629: 11242, 11630: 11243, 11631: 11244, 11632: 11245, 11633: 11246, 11634: 11247, 11635: 11248, 11636: 11249, 11637: 11250, 11638: 11251, 11639: 11252, 11640: 11253, 11641: 11254, 11642: 11255, 11643: 11256, 11644: 11257, 11645: 11258, 11646: 11259, 11647: 11260, 11648: 11261, 11649: 11262, 11650: 11263, 11651: 11264, 11652: 11265, 11653: 11266, 11654: 11267, 11655: 11268, 11656: 11269, 11657: 11270, 11658: 11271, 11659: 11272, 11660: 11273, 11661: 11274, 11662: 11275, 11663: 11276, 11664: 11277, 11665: 11278, 11666: 11279, 11667: 11280, 11668: 11281, 11669: 11282, 11670: 11283, 11671: 11284, 11672: 11285, 11673: 11286, 11674: 11287, 11675: 11288, 11676: 11289, 11677: 11290, 11678: 11291, 11679: 11292, 11680: 11293, 11681: 11294, 11682: 11295, 11683: 11296, 11684: 11297, 11685: 11298, 11686: 11299, 11687: 11300, 11688: 11301, 11689: 11302, 11690: 11303, 11691: 11304, 11692: 11305, 11693: 11306, 11694: 11307, 11695: 11308, 11696: 11309, 11697: 11310, 11698: 11311, 11699: 11312, 11700: 11313, 11701: 11314, 11702: 11315, 11711: 11316, 11715: 11317, 11716: 11318, 11717: 11319, 11718: 11320, 11719: 11321, 11720: 11322, 11721: 11323, 11722: 11324, 11723: 11325, 11724: 11326, 11725: 11327, 11726: 11328, 11727: 11329, 11728: 11330, 11729: 11331, 11730: 11332, 11731: 11333, 11732: 11334, 11733: 11335, 11734: 11336, 11735: 11337, 11736: 11338, 11737: 11339, 11738: 11340, 11739: 11341, 11740: 11342, 11741: 11343, 11742: 11344, 11743: 11345, 11744: 11346, 11745: 11347, 11746: 11348, 11747: 11349, 11748: 11350, 11749: 11351, 11750: 11352, 11751: 11353, 11752: 11354, 11753: 11355, 11754: 11356, 11755: 11357, 11756: 11358, 11757: 11359, 11758: 11360, 11759: 11361, 11760: 11362, 11761: 11363, 11762: 11364, 11763: 11365, 11764: 11366, 11765: 11367, 11766: 11368, 11767: 11369, 11768: 11370, 11769: 11371, 11770: 11372, 11771: 11373, 11772: 11374, 11773: 11375, 11774: 11376, 11775: 11377, 11776: 11378, 11777: 11379, 11778: 11380, 11779: 11381, 11780: 11382, 11781: 11383, 11782: 11384, 11783: 11385, 11784: 11386, 11785: 11387, 11786: 11388, 11787: 11389, 11788: 11390, 11789: 11391, 11790: 11392, 11791: 11393, 11792: 11394, 11793: 11395, 11794: 11396, 11795: 11397, 11796: 11398, 11797: 11399, 11798: 11400, 11799: 11401, 11800: 11402, 11801: 11403, 11802: 11404, 11803: 11405, 11804: 11406, 11805: 11407, 11806: 11408, 11807: 11409, 11808: 11410, 11809: 11411, 11810: 11412, 11811: 11413, 11812: 11414, 11813: 11415, 11814: 11416, 11815: 11417, 11816: 11418, 11817: 11419, 11818: 11420, 11819: 11421, 11820: 11422, 11821: 11423, 11822: 11424, 11823: 11425, 11824: 11426, 11825: 11427, 11826: 11428, 11827: 11429, 11828: 11430, 11829: 11431, 11830: 11432, 11831: 11433, 11832: 11434, 11833: 11435, 11834: 11436, 11835: 11437, 11836: 11438, 11837: 11439, 11838: 11440, 11839: 11441, 11840: 11442, 11841: 11443, 11842: 11444, 11843: 11445, 11844: 11446, 11845: 11447, 11846: 11448, 11847: 11449, 11848: 11450, 11849: 11451, 11850: 11452, 11851: 11453, 11852: 11454, 11853: 11455, 11854: 11456, 11855: 11457, 11856: 11458, 11857: 11459, 11858: 11460, 11859: 11461, 11860: 11462, 11861: 11463, 11862: 11464, 11863: 11465, 11864: 11466, 11865: 11467, 11870: 11468, 11873: 11469, 11874: 11470, 11876: 11471, 11877: 11472, 11878: 11473, 11880: 11474, 11881: 11475, 11882: 11476, 11883: 11477, 11884: 11478, 11885: 11479, 11886: 11480, 11887: 11481, 11888: 11482, 11889: 11483, 11890: 11484, 11891: 11485, 11892: 11486, 11893: 11487, 11894: 11488, 11895: 11489, 11896: 11490, 11897: 11491, 11898: 11492, 11899: 11493, 11900: 11494, 11901: 11495, 11902: 11496, 11903: 11497, 11904: 11498, 11905: 11499, 11906: 11500, 11907: 11501, 11908: 11502, 11909: 11503, 11910: 11504, 11911: 11505, 11912: 11506, 11913: 11507, 11914: 11508, 11915: 11509, 11916: 11510, 11917: 11511, 11918: 11512, 11919: 11513, 11920: 11514, 11921: 11515, 11922: 11516, 11923: 11517, 11924: 11518, 11925: 11519, 11926: 11520, 11927: 11521, 11928: 11522, 11929: 11523, 11930: 11524, 11931: 11525, 11932: 11526, 11933: 11527, 11934: 11528, 11935: 11529, 11936: 11530, 11937: 11531, 11938: 11532, 11939: 11533, 11940: 11534, 11941: 11535, 11942: 11536, 11947: 11537, 11948: 11538, 11949: 11539, 11952: 11540, 11953: 11541, 11954: 11542, 11955: 11543, 11956: 11544, 11957: 11545, 11958: 11546, 11959: 11547, 11960: 11548, 11961: 11549, 11962: 11550, 11963: 11551, 11964: 11552, 11965: 11553, 11966: 11554, 11967: 11555, 11968: 11556, 11969: 11557, 11970: 11558, 11975: 11559, 11976: 11560, 11977: 11561, 11978: 11562, 11979: 11563, 11980: 11564, 11981: 11565, 11982: 11566, 11983: 11567, 11984: 11568, 11985: 11569, 11986: 11570, 11987: 11571, 11988: 11572, 11989: 11573, 11990: 11574, 11991: 11575, 11992: 11576, 11993: 11577, 11994: 11578, 11997: 11579, 11998: 11580, 11999: 11581, 12000: 11582, 12001: 11583, 12002: 11584, 12003: 11585, 12004: 11586, 12005: 11587, 12006: 11588, 12007: 11589, 12008: 11590, 12009: 11591, 12010: 11592, 12011: 11593, 12012: 11594, 12013: 11595, 12014: 11596, 12015: 11597, 12016: 11598, 12017: 11599, 12018: 11600, 12019: 11601, 12020: 11602, 12021: 11603, 12022: 11604, 12023: 11605, 12024: 11606, 12025: 11607, 12026: 11608, 12027: 11609, 12028: 11610, 12029: 11611, 12030: 11612, 12031: 11613, 12032: 11614, 12033: 11615, 12034: 11616, 12035: 11617, 12036: 11618, 12037: 11619, 12038: 11620, 12039: 11621, 12043: 11622, 12044: 11623, 12045: 11624, 12046: 11625, 12047: 11626, 12048: 11627, 12049: 11628, 12050: 11629, 12051: 11630, 12052: 11631, 12053: 11632, 12054: 11633, 12055: 11634, 12056: 11635, 12057: 11636, 12058: 11637, 12059: 11638, 12060: 11639, 12061: 11640, 12062: 11641, 12063: 11642, 12064: 11643, 12065: 11644, 12066: 11645, 12067: 11646, 12068: 11647, 12069: 11648, 12070: 11649, 12071: 11650, 12072: 11651, 12073: 11652, 12074: 11653, 12075: 11654, 12076: 11655, 12077: 11656, 12078: 11657, 12079: 11658, 12080: 11659, 12081: 11660, 12082: 11661, 12083: 11662, 12084: 11663, 12085: 11664, 12086: 11665, 12087: 11666, 12088: 11667, 12089: 11668, 12091: 11669, 12092: 11670, 12093: 11671, 12094: 11672, 12095: 11673, 12096: 11674, 12097: 11675, 12098: 11676, 12099: 11677, 12100: 11678, 12101: 11679, 12102: 11680, 12103: 11681, 12104: 11682, 12105: 11683, 12106: 11684, 12107: 11685, 12108: 11686, 12109: 11687, 12110: 11688, 12111: 11689, 12112: 11690, 12113: 11691, 12114: 11692, 12115: 11693, 12116: 11694, 12117: 11695, 12118: 11696, 12119: 11697, 12120: 11698, 12121: 11699, 12122: 11700, 12123: 11701, 12124: 11702, 12125: 11703, 12126: 11704, 12127: 11705, 12128: 11706, 12129: 11707, 12130: 11708, 12131: 11709, 12132: 11710, 12133: 11711, 12134: 11712, 12135: 11713, 12136: 11714, 12137: 11715, 12138: 11716, 12139: 11717, 12140: 11718, 12141: 11719, 12142: 11720, 12143: 11721, 12144: 11722, 12148: 11723, 12149: 11724, 12150: 11725, 12151: 11726, 12152: 11727, 12153: 11728, 12154: 11729, 12155: 11730, 12156: 11731, 12157: 11732, 12158: 11733, 12159: 11734, 12160: 11735, 12161: 11736, 12162: 11737, 12163: 11738, 12164: 11739, 12165: 11740, 12166: 11741, 12167: 11742, 12168: 11743, 12169: 11744, 12170: 11745, 12171: 11746, 12172: 11747, 12173: 11748, 12174: 11749, 12175: 11750, 12176: 11751, 12177: 11752, 12178: 11753, 12179: 11754, 12180: 11755, 12181: 11756, 12182: 11757, 12183: 11758, 12184: 11759, 12185: 11760, 12186: 11761, 12187: 11762, 12188: 11763, 12189: 11764, 12190: 11765, 12191: 11766, 12192: 11767, 12193: 11768, 12194: 11769, 12195: 11770, 12196: 11771, 12197: 11772, 12198: 11773, 12199: 11774, 12200: 11775, 12201: 11776, 12202: 11777, 12203: 11778, 12204: 11779, 12205: 11780, 12206: 11781, 12207: 11782, 12208: 11783, 12209: 11784, 12210: 11785, 12211: 11786, 12212: 11787, 12213: 11788, 12214: 11789, 12215: 11790, 12216: 11791, 12217: 11792, 12218: 11793, 12219: 11794, 12220: 11795, 12221: 11796, 12222: 11797, 12223: 11798, 12224: 11799, 12225: 11800, 12226: 11801, 12227: 11802, 12228: 11803, 12229: 11804, 12230: 11805, 12231: 11806, 12232: 11807, 12233: 11808, 12234: 11809, 12235: 11810, 12236: 11811, 12237: 11812, 12238: 11813, 12239: 11814, 12240: 11815, 12241: 11816, 12242: 11817, 12243: 11818, 12244: 11819, 12245: 11820, 12246: 11821, 12247: 11822, 12248: 11823, 12249: 11824, 12250: 11825, 12251: 11826, 12252: 11827, 12253: 11828, 12254: 11829, 12255: 11830, 12256: 11831, 12257: 11832, 12258: 11833, 12259: 11834, 12260: 11835, 12261: 11836, 12262: 11837, 12263: 11838, 12264: 11839, 12265: 11840, 12266: 11841, 12267: 11842, 12268: 11843, 12269: 11844, 12270: 11845, 12271: 11846, 12272: 11847, 12273: 11848, 12274: 11849, 12275: 11850, 12276: 11851, 12277: 11852, 12278: 11853, 12279: 11854, 12280: 11855, 12281: 11856, 12282: 11857, 12283: 11858, 12284: 11859, 12285: 11860, 12286: 11861, 12287: 11862, 12288: 11863, 12289: 11864, 12290: 11865, 12291: 11866, 12292: 11867, 12293: 11868, 12294: 11869, 12295: 11870, 12296: 11871, 12297: 11872, 12298: 11873, 12308: 11874, 12309: 11875, 12310: 11876, 12311: 11877, 12312: 11878, 12313: 11879, 12314: 11880, 12315: 11881, 12316: 11882, 12317: 11883, 12318: 11884, 12319: 11885, 12320: 11886, 12321: 11887, 12322: 11888, 12323: 11889, 12324: 11890, 12325: 11891, 12326: 11892, 12327: 11893, 12328: 11894, 12329: 11895, 12330: 11896, 12331: 11897, 12332: 11898, 12333: 11899, 12334: 11900, 12335: 11901, 12336: 11902, 12337: 11903, 12338: 11904, 12339: 11905, 12340: 11906, 12341: 11907, 12342: 11908, 12343: 11909, 12344: 11910, 12345: 11911, 12346: 11912, 12347: 11913, 12348: 11914, 12349: 11915, 12350: 11916, 12351: 11917, 12352: 11918, 12355: 11919, 12356: 11920, 12357: 11921, 12358: 11922, 12359: 11923, 12360: 11924, 12361: 11925, 12362: 11926, 12363: 11927, 12364: 11928, 12365: 11929, 12366: 11930, 12367: 11931, 12368: 11932, 12369: 11933, 12370: 11934, 12371: 11935, 12372: 11936, 12373: 11937, 12374: 11938, 12375: 11939, 12376: 11940, 12377: 11941, 12378: 11942, 12379: 11943, 12380: 11944, 12381: 11945, 12382: 11946, 12383: 11947, 12384: 11948, 12385: 11949, 12386: 11950, 12387: 11951, 12388: 11952, 12389: 11953, 12390: 11954, 12391: 11955, 12392: 11956, 12393: 11957, 12394: 11958, 12395: 11959, 12396: 11960, 12397: 11961, 12398: 11962, 12399: 11963, 12400: 11964, 12401: 11965, 12402: 11966, 12403: 11967, 12404: 11968, 12405: 11969, 12406: 11970, 12407: 11971, 12408: 11972, 12409: 11973, 12411: 11974, 12412: 11975, 12413: 11976, 12414: 11977, 12415: 11978, 12416: 11979, 12417: 11980, 12418: 11981, 12419: 11982, 12420: 11983, 12421: 11984, 12422: 11985, 12423: 11986, 12424: 11987, 12425: 11988, 12426: 11989, 12427: 11990, 12428: 11991, 12429: 11992, 12430: 11993, 12431: 11994, 12432: 11995, 12433: 11996, 12434: 11997, 12435: 11998, 12436: 11999, 12437: 12000, 12438: 12001, 12439: 12002, 12440: 12003, 12441: 12004, 12442: 12005, 12443: 12006, 12444: 12007, 12445: 12008, 12446: 12009, 12447: 12010, 12448: 12011, 12449: 12012, 12450: 12013, 12451: 12014, 12452: 12015, 12453: 12016, 12454: 12017, 12455: 12018, 12456: 12019, 12457: 12020, 12458: 12021, 12459: 12022, 12460: 12023, 12461: 12024, 12462: 12025, 12463: 12026, 12464: 12027, 12465: 12028, 12466: 12029, 12467: 12030, 12468: 12031, 12469: 12032, 12470: 12033, 12471: 12034, 12472: 12035, 12473: 12036, 12474: 12037, 12475: 12038, 12476: 12039, 12477: 12040, 12478: 12041, 12479: 12042, 12480: 12043, 12481: 12044, 12482: 12045, 12483: 12046, 12484: 12047, 12485: 12048, 12486: 12049, 12487: 12050, 12488: 12051, 12489: 12052, 12490: 12053, 12491: 12054, 12492: 12055, 12493: 12056, 12494: 12057, 12495: 12058, 12496: 12059, 12497: 12060, 12498: 12061, 12499: 12062, 12500: 12063, 12501: 12064, 12502: 12065, 12503: 12066, 12504: 12067, 12505: 12068, 12506: 12069, 12507: 12070, 12508: 12071, 12509: 12072, 12510: 12073, 12511: 12074, 12512: 12075, 12513: 12076, 12514: 12077, 12515: 12078, 12516: 12079, 12517: 12080, 12518: 12081, 12519: 12082, 12520: 12083, 12521: 12084, 12522: 12085, 12523: 12086, 12524: 12087, 12525: 12088, 12526: 12089, 12527: 12090, 12528: 12091, 12529: 12092, 12530: 12093, 12531: 12094, 12534: 12095, 12537: 12096, 12543: 12097, 12544: 12098, 12545: 12099, 12546: 12100, 12547: 12101, 12548: 12102, 12549: 12103, 12550: 12104, 12551: 12105, 12552: 12106, 12553: 12107, 12554: 12108, 12555: 12109, 12556: 12110, 12557: 12111, 12558: 12112, 12559: 12113, 12560: 12114, 12561: 12115, 12562: 12116, 12563: 12117, 12564: 12118, 12565: 12119, 12566: 12120, 12567: 12121, 12568: 12122, 12569: 12123, 12570: 12124, 12571: 12125, 12572: 12126, 12573: 12127, 12574: 12128, 12575: 12129, 12576: 12130, 12577: 12131, 12578: 12132, 12579: 12133, 12580: 12134, 12581: 12135, 12582: 12136, 12583: 12137, 12584: 12138, 12585: 12139, 12586: 12140, 12587: 12141, 12588: 12142, 12589: 12143, 12590: 12144, 12591: 12145, 12592: 12146, 12593: 12147, 12594: 12148, 12595: 12149, 12596: 12150, 12597: 12151, 12598: 12152, 12599: 12153, 12600: 12154, 12601: 12155, 12602: 12156, 12603: 12157, 12604: 12158, 12605: 12159, 12606: 12160, 12607: 12161, 12611: 12162, 12617: 12163, 12619: 12164, 12620: 12165, 12621: 12166, 12622: 12167, 12623: 12168, 12624: 12169, 12625: 12170, 12626: 12171, 12627: 12172, 12628: 12173, 12629: 12174, 12630: 12175, 12631: 12176, 12632: 12177, 12633: 12178, 12634: 12179, 12635: 12180, 12636: 12181, 12637: 12182, 12638: 12183, 12639: 12184, 12640: 12185, 12641: 12186, 12642: 12187, 12643: 12188, 12644: 12189, 12645: 12190, 12646: 12191, 12647: 12192, 12648: 12193, 12649: 12194, 12650: 12195, 12651: 12196, 12652: 12197, 12653: 12198, 12654: 12199, 12655: 12200, 12656: 12201, 12657: 12202, 12658: 12203, 12659: 12204, 12660: 12205, 12661: 12206, 12662: 12207, 12663: 12208, 12664: 12209, 12665: 12210, 12666: 12211, 12667: 12212, 12668: 12213, 12669: 12214, 12670: 12215, 12671: 12216, 12672: 12217, 12673: 12218, 12674: 12219, 12675: 12220, 12676: 12221, 12677: 12222, 12678: 12223, 12679: 12224, 12680: 12225, 12681: 12226, 12682: 12227, 12683: 12228, 12684: 12229, 12685: 12230, 12686: 12231, 12687: 12232, 12688: 12233, 12689: 12234, 12690: 12235, 12691: 12236, 12692: 12237, 12693: 12238, 12694: 12239, 12695: 12240, 12696: 12241, 12697: 12242, 12698: 12243, 12699: 12244, 12700: 12245, 12701: 12246, 12702: 12247, 12703: 12248, 12704: 12249, 12705: 12250, 12706: 12251, 12707: 12252, 12708: 12253, 12709: 12254, 12710: 12255, 12711: 12256, 12712: 12257, 12713: 12258, 12714: 12259, 12715: 12260, 12716: 12261, 12717: 12262, 12718: 12263, 12719: 12264, 12720: 12265, 12721: 12266, 12722: 12267, 12723: 12268, 12724: 12269, 12725: 12270, 12726: 12271, 12727: 12272, 12728: 12273, 12729: 12274, 12730: 12275, 12731: 12276, 12732: 12277, 12733: 12278, 12734: 12279, 12735: 12280, 12736: 12281, 12737: 12282, 12738: 12283, 12739: 12284, 12740: 12285, 12741: 12286, 12742: 12287, 12743: 12288, 12744: 12289, 12745: 12290, 12746: 12291, 12747: 12292, 12748: 12293, 12749: 12294, 12750: 12295, 12751: 12296, 12752: 12297, 12753: 12298, 12754: 12299, 12755: 12300, 12756: 12301, 12757: 12302, 12758: 12303, 12759: 12304, 12760: 12305, 12761: 12306, 12762: 12307, 12763: 12308, 12764: 12309, 12765: 12310, 12766: 12311, 12767: 12312, 12768: 12313, 12769: 12314, 12770: 12315, 12771: 12316, 12772: 12317, 12773: 12318, 12774: 12319, 12775: 12320, 12776: 12321, 12777: 12322, 12778: 12323, 12779: 12324, 12780: 12325, 12781: 12326, 12782: 12327, 12783: 12328, 12784: 12329, 12785: 12330, 12786: 12331, 12787: 12332, 12788: 12333, 12789: 12334, 12790: 12335, 12791: 12336, 12792: 12337, 12793: 12338, 12794: 12339, 12795: 12340, 12796: 12341, 12797: 12342, 12798: 12343, 12799: 12344, 12800: 12345, 12801: 12346, 12802: 12347, 12803: 12348, 12804: 12349, 12805: 12350, 12806: 12351, 12807: 12352, 12808: 12353, 12809: 12354, 12810: 12355, 12811: 12356, 12812: 12357, 12813: 12358, 12814: 12359, 12815: 12360, 12816: 12361, 12817: 12362, 12818: 12363, 12819: 12364, 12820: 12365, 12821: 12366, 12822: 12367, 12823: 12368, 12824: 12369, 12825: 12370, 12826: 12371, 12827: 12372, 12828: 12373, 12829: 12374, 12830: 12375, 12831: 12376, 12832: 12377, 12833: 12378, 12834: 12379, 12835: 12380, 12836: 12381, 12837: 12382, 12838: 12383, 12839: 12384, 12840: 12385, 12841: 12386, 12842: 12387, 12843: 12388, 12844: 12389, 12845: 12390, 12846: 12391, 12847: 12392, 12848: 12393, 12849: 12394, 12850: 12395, 12851: 12396, 12852: 12397, 12853: 12398, 12854: 12399, 12855: 12400, 12856: 12401, 12857: 12402, 12858: 12403, 12859: 12404, 12860: 12405, 12861: 12406, 12862: 12407, 12863: 12408, 12864: 12409, 12865: 12410, 12866: 12411, 12867: 12412, 12868: 12413, 12869: 12414, 12870: 12415, 12871: 12416, 12872: 12417, 12873: 12418, 12874: 12419, 12875: 12420, 12876: 12421, 12877: 12422, 12878: 12423, 12879: 12424, 12880: 12425, 12881: 12426, 12882: 12427, 12883: 12428, 12884: 12429, 12885: 12430, 12886: 12431, 12887: 12432, 12888: 12433, 12889: 12434, 12896: 12435, 12901: 12436, 12908: 12437, 12910: 12438, 12914: 12439, 12916: 12440, 12917: 12441, 12918: 12442, 12919: 12443, 12920: 12444, 12921: 12445, 12922: 12446, 12923: 12447, 12924: 12448, 12925: 12449, 12926: 12450, 12927: 12451, 12928: 12452, 12929: 12453, 12930: 12454, 12931: 12455, 12932: 12456, 12933: 12457, 12934: 12458, 12935: 12459, 12936: 12460, 12937: 12461, 12938: 12462, 12939: 12463, 12942: 12464, 12943: 12465, 12944: 12466, 12945: 12467, 12946: 12468, 12947: 12469, 12948: 12470, 12949: 12471, 12950: 12472, 12951: 12473, 12952: 12474, 12953: 12475, 12954: 12476, 12955: 12477, 12956: 12478, 12957: 12479, 12958: 12480, 12959: 12481, 12960: 12482, 12961: 12483, 12962: 12484, 12963: 12485, 12964: 12486, 12965: 12487, 12966: 12488, 12967: 12489, 12968: 12490, 12969: 12491, 12970: 12492, 12971: 12493, 12972: 12494, 12973: 12495, 12974: 12496, 12975: 12497, 12976: 12498, 12977: 12499, 12978: 12500, 12979: 12501, 12980: 12502, 12981: 12503, 12982: 12504, 12983: 12505, 12984: 12506, 12985: 12507, 12986: 12508, 12987: 12509, 12988: 12510, 12989: 12511, 12990: 12512, 12991: 12513, 12992: 12514, 12993: 12515, 12994: 12516, 12995: 12517, 12996: 12518, 12997: 12519, 12998: 12520, 12999: 12521, 13000: 12522, 13001: 12523, 13002: 12524, 13003: 12525, 13004: 12526, 13005: 12527, 13006: 12528, 13007: 12529, 13008: 12530, 13009: 12531, 13010: 12532, 13011: 12533, 13012: 12534, 13013: 12535, 13014: 12536, 13015: 12537, 13016: 12538, 13017: 12539, 13018: 12540, 13019: 12541, 13020: 12542, 13021: 12543, 13022: 12544, 13023: 12545, 13024: 12546, 13025: 12547, 13026: 12548, 13027: 12549, 13028: 12550, 13029: 12551, 13030: 12552, 13031: 12553, 13032: 12554, 13033: 12555, 13034: 12556, 13035: 12557, 13036: 12558, 13037: 12559, 13038: 12560, 13039: 12561, 13040: 12562, 13041: 12563, 13042: 12564, 13043: 12565, 13044: 12566, 13045: 12567, 13046: 12568, 13047: 12569, 13048: 12570, 13049: 12571, 13050: 12572, 13051: 12573, 13052: 12574, 13053: 12575, 13054: 12576, 13055: 12577, 13056: 12578, 13057: 12579, 13058: 12580, 13059: 12581, 13060: 12582, 13061: 12583, 13062: 12584, 13063: 12585, 13064: 12586, 13065: 12587, 13066: 12588, 13067: 12589, 13068: 12590, 13069: 12591, 13070: 12592, 13071: 12593, 13072: 12594, 13073: 12595, 13074: 12596, 13075: 12597, 13076: 12598, 13077: 12599, 13078: 12600, 13083: 12601, 13084: 12602, 13085: 12603, 13086: 12604, 13088: 12605, 13089: 12606, 13090: 12607, 13091: 12608, 13092: 12609, 13093: 12610, 13094: 12611, 13095: 12612, 13096: 12613, 13097: 12614, 13098: 12615, 13099: 12616, 13100: 12617, 13101: 12618, 13102: 12619, 13103: 12620, 13104: 12621, 13105: 12622, 13106: 12623, 13107: 12624, 13108: 12625, 13109: 12626, 13110: 12627, 13111: 12628, 13112: 12629, 13113: 12630, 13114: 12631, 13115: 12632, 13116: 12633, 13117: 12634, 13118: 12635, 13119: 12636, 13120: 12637, 13121: 12638, 13122: 12639, 13123: 12640, 13124: 12641, 13125: 12642, 13126: 12643, 13127: 12644, 13128: 12645, 13129: 12646, 13130: 12647, 13131: 12648, 13132: 12649, 13133: 12650, 13134: 12651, 13135: 12652, 13136: 12653, 13137: 12654, 13138: 12655, 13139: 12656, 13140: 12657, 13141: 12658, 13142: 12659, 13143: 12660, 13144: 12661, 13146: 12662, 13150: 12663, 13151: 12664, 13152: 12665, 13153: 12666, 13154: 12667, 13155: 12668, 13156: 12669, 13157: 12670, 13158: 12671, 13159: 12672, 13160: 12673, 13161: 12674, 13162: 12675, 13163: 12676, 13164: 12677, 13165: 12678, 13166: 12679, 13167: 12680, 13168: 12681, 13169: 12682, 13170: 12683, 13171: 12684, 13172: 12685, 13173: 12686, 13174: 12687, 13175: 12688, 13176: 12689, 13177: 12690, 13178: 12691, 13179: 12692, 13180: 12693, 13181: 12694, 13182: 12695, 13183: 12696, 13184: 12697, 13185: 12698, 13186: 12699, 13187: 12700, 13188: 12701, 13189: 12702, 13190: 12703, 13191: 12704, 13192: 12705, 13193: 12706, 13194: 12707, 13195: 12708, 13196: 12709, 13197: 12710, 13198: 12711, 13199: 12712, 13200: 12713, 13201: 12714, 13202: 12715, 13203: 12716, 13204: 12717, 13205: 12718, 13206: 12719, 13207: 12720, 13208: 12721, 13209: 12722, 13210: 12723, 13211: 12724, 13212: 12725, 13213: 12726, 13214: 12727, 13215: 12728, 13216: 12729, 13217: 12730, 13218: 12731, 13219: 12732, 13220: 12733, 13221: 12734, 13222: 12735, 13223: 12736, 13224: 12737, 13225: 12738, 13226: 12739, 13227: 12740, 13228: 12741, 13229: 12742, 13230: 12743, 13231: 12744, 13232: 12745, 13233: 12746, 13234: 12747, 13235: 12748, 13236: 12749, 13237: 12750, 13238: 12751, 13239: 12752, 13240: 12753, 13241: 12754, 13242: 12755, 13243: 12756, 13244: 12757, 13245: 12758, 13246: 12759, 13247: 12760, 13248: 12761, 13249: 12762, 13250: 12763, 13251: 12764, 13252: 12765, 13253: 12766, 13254: 12767, 13255: 12768, 13256: 12769, 13257: 12770, 13258: 12771, 13259: 12772, 13260: 12773, 13261: 12774, 13262: 12775, 13263: 12776, 13264: 12777, 13265: 12778, 13266: 12779, 13267: 12780, 13268: 12781, 13269: 12782, 13270: 12783, 13271: 12784, 13272: 12785, 13273: 12786, 13274: 12787, 13275: 12788, 13276: 12789, 13277: 12790, 13278: 12791, 13279: 12792, 13280: 12793, 13281: 12794, 13282: 12795, 13283: 12796, 13284: 12797, 13285: 12798, 13286: 12799, 13288: 12800, 13290: 12801, 13291: 12802, 13292: 12803, 13293: 12804, 13294: 12805, 13295: 12806, 13296: 12807, 13297: 12808, 13298: 12809, 13299: 12810, 13300: 12811, 13301: 12812, 13302: 12813, 13303: 12814, 13304: 12815, 13305: 12816, 13306: 12817, 13307: 12818, 13308: 12819, 13309: 12820, 13310: 12821, 13311: 12822, 13312: 12823, 13313: 12824, 13314: 12825, 13315: 12826, 13316: 12827, 13317: 12828, 13318: 12829, 13319: 12830, 13320: 12831, 13321: 12832, 13322: 12833, 13323: 12834, 13324: 12835, 13325: 12836, 13326: 12837, 13327: 12838, 13328: 12839, 13329: 12840, 13330: 12841, 13331: 12842, 13332: 12843, 13333: 12844, 13334: 12845, 13335: 12846, 13336: 12847, 13337: 12848, 13338: 12849, 13339: 12850, 13340: 12851, 13341: 12852, 13342: 12853, 13343: 12854, 13344: 12855, 13345: 12856, 13346: 12857, 13347: 12858, 13348: 12859, 13349: 12860, 13350: 12861, 13351: 12862, 13352: 12863, 13353: 12864, 13354: 12865, 13355: 12866, 13356: 12867, 13357: 12868, 13358: 12869, 13359: 12870, 13360: 12871, 13361: 12872, 13362: 12873, 13363: 12874, 13364: 12875, 13365: 12876, 13366: 12877, 13367: 12878, 13368: 12879, 13369: 12880, 13370: 12881, 13371: 12882, 13372: 12883, 13373: 12884, 13374: 12885, 13375: 12886, 13376: 12887, 13377: 12888, 13378: 12889, 13379: 12890, 13380: 12891, 13381: 12892, 13382: 12893, 13383: 12894, 13384: 12895, 13385: 12896, 13386: 12897, 13387: 12898, 13388: 12899, 13389: 12900, 13390: 12901, 13391: 12902, 13392: 12903, 13393: 12904, 13394: 12905, 13395: 12906, 13396: 12907, 13397: 12908, 13398: 12909, 13399: 12910, 13400: 12911, 13405: 12912, 13408: 12913, 13409: 12914, 13410: 12915, 13411: 12916, 13412: 12917, 13413: 12918, 13414: 12919, 13415: 12920, 13416: 12921, 13417: 12922, 13418: 12923, 13419: 12924, 13420: 12925, 13421: 12926, 13422: 12927, 13423: 12928, 13424: 12929, 13425: 12930, 13426: 12931, 13427: 12932, 13428: 12933, 13429: 12934, 13430: 12935, 13431: 12936, 13432: 12937, 13433: 12938, 13434: 12939, 13435: 12940, 13436: 12941, 13437: 12942, 13438: 12943, 13439: 12944, 13440: 12945, 13441: 12946, 13442: 12947, 13443: 12948, 13444: 12949, 13445: 12950, 13446: 12951, 13447: 12952, 13448: 12953, 13449: 12954, 13450: 12955, 13451: 12956, 13452: 12957, 13453: 12958, 13454: 12959, 13455: 12960, 13457: 12961, 13459: 12962, 13462: 12963, 13467: 12964, 13477: 12965, 13490: 12966, 13496: 12967, 13497: 12968, 13498: 12969, 13499: 12970, 13500: 12971, 13501: 12972, 13502: 12973, 13503: 12974, 13504: 12975, 13505: 12976, 13506: 12977, 13507: 12978, 13508: 12979, 13509: 12980, 13510: 12981, 13511: 12982, 13512: 12983, 13513: 12984, 13514: 12985, 13515: 12986, 13516: 12987, 13517: 12988, 13518: 12989, 13519: 12990, 13520: 12991, 13521: 12992, 13522: 12993, 13523: 12994, 13524: 12995, 13525: 12996, 13526: 12997, 13527: 12998, 13528: 12999, 13529: 13000, 13530: 13001, 13531: 13002, 13532: 13003, 13533: 13004, 13534: 13005, 13535: 13006, 13536: 13007, 13537: 13008, 13538: 13009, 13539: 13010, 13540: 13011, 13541: 13012, 13542: 13013, 13543: 13014, 13544: 13015, 13545: 13016, 13546: 13017, 13547: 13018, 13548: 13019, 13549: 13020, 13550: 13021, 13551: 13022, 13552: 13023, 13553: 13024, 13554: 13025, 13555: 13026, 13556: 13027, 13557: 13028, 13558: 13029, 13559: 13030, 13560: 13031, 13561: 13032, 13562: 13033, 13563: 13034, 13564: 13035, 13565: 13036, 13566: 13037, 13567: 13038, 13574: 13039, 13578: 13040, 13579: 13041, 13580: 13042, 13581: 13043, 13582: 13044, 13583: 13045, 13584: 13046, 13585: 13047, 13586: 13048, 13587: 13049, 13588: 13050, 13589: 13051, 13590: 13052, 13591: 13053, 13592: 13054, 13593: 13055, 13594: 13056, 13595: 13057, 13596: 13058, 13597: 13059, 13598: 13060, 13599: 13061, 13600: 13062, 13601: 13063, 13602: 13064, 13603: 13065, 13604: 13066, 13605: 13067, 13606: 13068, 13607: 13069, 13608: 13070, 13609: 13071, 13610: 13072, 13611: 13073, 13612: 13074, 13613: 13075, 13614: 13076, 13615: 13077, 13616: 13078, 13617: 13079, 13618: 13080, 13619: 13081, 13620: 13082, 13621: 13083, 13622: 13084, 13623: 13085, 13624: 13086, 13625: 13087, 13626: 13088, 13627: 13089, 13628: 13090, 13629: 13091, 13630: 13092, 13631: 13093, 13632: 13094, 13633: 13095, 13634: 13096, 13635: 13097, 13636: 13098, 13637: 13099, 13638: 13100, 13639: 13101, 13640: 13102, 13641: 13103, 13642: 13104, 13643: 13105, 13644: 13106, 13645: 13107, 13646: 13108, 13647: 13109, 13648: 13110, 13649: 13111, 13650: 13112, 13651: 13113, 13652: 13114, 13653: 13115, 13654: 13116, 13655: 13117, 13656: 13118, 13658: 13119, 13659: 13120, 13663: 13121, 13664: 13122, 13665: 13123, 13666: 13124, 13667: 13125, 13668: 13126, 13669: 13127, 13670: 13128, 13671: 13129, 13672: 13130, 13673: 13131, 13674: 13132, 13675: 13133, 13676: 13134, 13677: 13135, 13678: 13136, 13679: 13137, 13680: 13138, 13681: 13139, 13682: 13140, 13683: 13141, 13684: 13142, 13685: 13143, 13686: 13144, 13687: 13145, 13688: 13146, 13689: 13147, 13690: 13148, 13691: 13149, 13692: 13150, 13693: 13151, 13694: 13152, 13695: 13153, 13696: 13154, 13697: 13155, 13698: 13156, 13699: 13157, 13700: 13158, 13701: 13159, 13702: 13160, 13703: 13161, 13704: 13162, 13705: 13163, 13706: 13164, 13707: 13165, 13708: 13166, 13709: 13167, 13710: 13168, 13711: 13169, 13712: 13170, 13713: 13171, 13714: 13172, 13715: 13173, 13716: 13174, 13717: 13175, 13718: 13176, 13719: 13177, 13720: 13178, 13721: 13179, 13722: 13180, 13723: 13181, 13724: 13182, 13725: 13183, 13726: 13184, 13727: 13185, 13728: 13186, 13729: 13187, 13730: 13188, 13731: 13189, 13732: 13190, 13733: 13191, 13734: 13192, 13735: 13193, 13736: 13194, 13737: 13195, 13738: 13196, 13739: 13197, 13740: 13198, 13741: 13199, 13742: 13200, 13743: 13201, 13747: 13202, 13748: 13203, 13749: 13204, 13750: 13205, 13751: 13206, 13752: 13207, 13753: 13208, 13754: 13209, 13755: 13210, 13756: 13211, 13757: 13212, 13758: 13213, 13759: 13214, 13760: 13215, 13761: 13216, 13762: 13217, 13763: 13218, 13764: 13219, 13765: 13220, 13766: 13221, 13767: 13222, 13768: 13223, 13769: 13224, 13770: 13225, 13771: 13226, 13772: 13227, 13773: 13228, 13774: 13229, 13775: 13230, 13776: 13231, 13777: 13232, 13778: 13233, 13779: 13234, 13781: 13235, 13789: 13236, 13790: 13237, 13791: 13238, 13792: 13239, 13793: 13240, 13794: 13241, 13795: 13242, 13796: 13243, 13797: 13244, 13798: 13245, 13799: 13246, 13800: 13247, 13801: 13248, 13802: 13249, 13803: 13250, 13804: 13251, 13805: 13252, 13806: 13253, 13807: 13254, 13808: 13255, 13809: 13256, 13810: 13257, 13811: 13258, 13812: 13259, 13813: 13260, 13814: 13261, 13815: 13262, 13816: 13263, 13817: 13264, 13818: 13265, 13819: 13266, 13820: 13267, 13821: 13268, 13822: 13269, 13823: 13270, 13824: 13271, 13825: 13272, 13826: 13273, 13827: 13274, 13828: 13275, 13829: 13276, 13830: 13277, 13831: 13278, 13833: 13279, 13837: 13280, 13838: 13281, 13839: 13282, 13840: 13283, 13841: 13284, 13842: 13285, 13843: 13286, 13844: 13287, 13845: 13288, 13846: 13289, 13847: 13290, 13848: 13291, 13849: 13292, 13850: 13293, 13851: 13294, 13852: 13295, 13853: 13296, 13854: 13297, 13855: 13298, 13856: 13299, 13857: 13300, 13858: 13301, 13859: 13302, 13860: 13303, 13861: 13304, 13862: 13305, 13863: 13306, 13864: 13307, 13865: 13308, 13866: 13309, 13867: 13310, 13868: 13311, 13869: 13312, 13870: 13313, 13871: 13314, 13872: 13315, 13873: 13316, 13874: 13317, 13875: 13318, 13876: 13319, 13877: 13320, 13878: 13321, 13879: 13322, 13880: 13323, 13881: 13324, 13882: 13325, 13883: 13326, 13884: 13327, 13885: 13328, 13886: 13329, 13887: 13330, 13888: 13331, 13889: 13332, 13890: 13333, 13891: 13334, 13899: 13335, 13900: 13336, 13901: 13337, 13903: 13338, 13904: 13339, 13905: 13340, 13906: 13341, 13907: 13342, 13908: 13343, 13909: 13344, 13910: 13345, 13911: 13346, 13912: 13347, 13913: 13348, 13914: 13349, 13915: 13350, 13916: 13351, 13917: 13352, 13918: 13353, 13919: 13354, 13920: 13355, 13921: 13356, 13922: 13357, 13923: 13358, 13924: 13359, 13925: 13360, 13926: 13361, 13927: 13362, 13928: 13363, 13929: 13364, 13930: 13365, 13931: 13366, 13932: 13367, 13933: 13368, 13934: 13369, 13935: 13370, 13936: 13371, 13937: 13372, 13938: 13373, 13939: 13374, 13940: 13375, 13941: 13376, 13942: 13377, 13943: 13378, 13944: 13379, 13945: 13380, 13946: 13381, 13947: 13382, 13948: 13383, 13949: 13384, 13950: 13385, 13951: 13386, 13952: 13387, 13953: 13388, 13954: 13389, 13955: 13390, 13956: 13391, 13957: 13392, 13958: 13393, 13959: 13394, 13961: 13395, 13963: 13396, 13964: 13397, 13965: 13398, 13966: 13399, 13967: 13400, 13968: 13401, 13969: 13402, 13970: 13403, 13977: 13404, 13980: 13405, 13981: 13406, 13982: 13407, 13983: 13408, 13984: 13409, 13985: 13410, 13986: 13411, 13987: 13412, 13988: 13413, 13989: 13414, 13990: 13415, 13991: 13416, 13992: 13417, 13993: 13418, 13994: 13419, 13996: 13420, 13998: 13421, 13999: 13422, 14000: 13423, 14001: 13424, 14002: 13425, 14003: 13426, 14004: 13427, 14005: 13428, 14006: 13429, 14007: 13430, 14008: 13431, 14009: 13432, 14010: 13433, 14011: 13434, 14012: 13435, 14013: 13436, 14014: 13437, 14015: 13438, 14016: 13439, 14017: 13440, 14018: 13441, 14019: 13442, 14020: 13443, 14021: 13444, 14022: 13445, 14023: 13446, 14024: 13447, 14025: 13448, 14026: 13449, 14027: 13450, 14028: 13451, 14029: 13452, 14030: 13453, 14031: 13454, 14032: 13455, 14033: 13456, 14034: 13457, 14035: 13458, 14036: 13459, 14037: 13460, 14038: 13461, 14039: 13462, 14040: 13463, 14041: 13464, 14042: 13465, 14043: 13466, 14044: 13467, 14045: 13468, 14046: 13469, 14047: 13470, 14048: 13471, 14049: 13472, 14050: 13473, 14051: 13474, 14052: 13475, 14053: 13476, 14054: 13477, 14055: 13478, 14056: 13479, 14057: 13480, 14058: 13481, 14059: 13482, 14060: 13483, 14061: 13484, 14062: 13485, 14063: 13486, 14064: 13487, 14065: 13488, 14066: 13489, 14067: 13490, 14068: 13491, 14069: 13492, 14070: 13493, 14071: 13494, 14072: 13495, 14073: 13496, 14074: 13497, 14075: 13498, 14076: 13499, 14077: 13500, 14078: 13501, 14079: 13502, 14080: 13503, 14081: 13504, 14082: 13505, 14083: 13506, 14084: 13507, 14085: 13508, 14086: 13509, 14087: 13510, 14088: 13511, 14089: 13512, 14090: 13513, 14091: 13514, 14092: 13515, 14093: 13516, 14094: 13517, 14095: 13518, 14096: 13519, 14105: 13520, 14106: 13521, 14107: 13522, 14108: 13523, 14109: 13524, 14110: 13525, 14111: 13526, 14112: 13527, 14113: 13528, 14114: 13529, 14115: 13530, 14116: 13531, 14117: 13532, 14118: 13533, 14119: 13534, 14120: 13535, 14121: 13536, 14122: 13537, 14123: 13538, 14124: 13539, 14125: 13540, 14126: 13541, 14127: 13542, 14128: 13543, 14129: 13544, 14130: 13545, 14131: 13546, 14132: 13547, 14133: 13548, 14134: 13549, 14135: 13550, 14136: 13551, 14137: 13552, 14138: 13553, 14139: 13554, 14140: 13555, 14141: 13556, 14142: 13557, 14143: 13558, 14144: 13559, 14145: 13560, 14146: 13561, 14147: 13562, 14148: 13563, 14149: 13564, 14150: 13565, 14151: 13566, 14152: 13567, 14153: 13568, 14154: 13569, 14155: 13570, 14156: 13571, 14157: 13572, 14158: 13573, 14159: 13574, 14160: 13575, 14161: 13576, 14162: 13577, 14163: 13578, 14164: 13579, 14165: 13580, 14166: 13581, 14167: 13582, 14168: 13583, 14169: 13584, 14170: 13585, 14171: 13586, 14172: 13587, 14173: 13588, 14174: 13589, 14175: 13590, 14176: 13591, 14177: 13592, 14178: 13593, 14179: 13594, 14180: 13595, 14181: 13596, 14182: 13597, 14183: 13598, 14184: 13599, 14185: 13600, 14186: 13601, 14187: 13602, 14188: 13603, 14189: 13604, 14190: 13605, 14191: 13606, 14192: 13607, 14193: 13608, 14194: 13609, 14195: 13610, 14196: 13611, 14197: 13612, 14198: 13613, 14199: 13614, 14200: 13615, 14201: 13616, 14202: 13617, 14203: 13618, 14204: 13619, 14205: 13620, 14206: 13621, 14207: 13622, 14208: 13623, 14209: 13624, 14210: 13625, 14211: 13626, 14212: 13627, 14213: 13628, 14214: 13629, 14215: 13630, 14216: 13631, 14217: 13632, 14218: 13633, 14219: 13634, 14220: 13635, 14221: 13636, 14222: 13637, 14223: 13638, 14224: 13639, 14225: 13640, 14226: 13641, 14227: 13642, 14228: 13643, 14229: 13644, 14230: 13645, 14231: 13646, 14232: 13647, 14233: 13648, 14234: 13649, 14235: 13650, 14236: 13651, 14237: 13652, 14238: 13653, 14239: 13654, 14240: 13655, 14241: 13656, 14242: 13657, 14243: 13658, 14244: 13659, 14245: 13660, 14246: 13661, 14247: 13662, 14248: 13663, 14249: 13664, 14250: 13665, 14251: 13666, 14252: 13667, 14253: 13668, 14254: 13669, 14255: 13670, 14256: 13671, 14257: 13672, 14258: 13673, 14259: 13674, 14260: 13675, 14261: 13676, 14262: 13677, 14263: 13678, 14264: 13679, 14265: 13680, 14266: 13681, 14267: 13682, 14268: 13683, 14270: 13684, 14277: 13685, 14278: 13686, 14279: 13687, 14283: 13688, 14284: 13689, 14285: 13690, 14286: 13691, 14287: 13692, 14288: 13693, 14289: 13694, 14290: 13695, 14291: 13696, 14292: 13697, 14293: 13698, 14294: 13699, 14295: 13700, 14296: 13701, 14297: 13702, 14298: 13703, 14299: 13704, 14300: 13705, 14301: 13706, 14302: 13707, 14303: 13708, 14304: 13709, 14305: 13710, 14306: 13711, 14307: 13712, 14308: 13713, 14309: 13714, 14310: 13715, 14311: 13716, 14312: 13717, 14313: 13718, 14314: 13719, 14315: 13720, 14316: 13721, 14317: 13722, 14318: 13723, 14319: 13724, 14320: 13725, 14321: 13726, 14322: 13727, 14323: 13728, 14324: 13729, 14325: 13730, 14326: 13731, 14327: 13732, 14328: 13733, 14329: 13734, 14330: 13735, 14331: 13736, 14332: 13737, 14333: 13738, 14334: 13739, 14336: 13740, 14338: 13741, 14339: 13742, 14340: 13743, 14341: 13744, 14342: 13745, 14343: 13746, 14344: 13747, 14345: 13748, 14346: 13749, 14347: 13750, 14348: 13751, 14349: 13752, 14350: 13753, 14351: 13754, 14352: 13755, 14353: 13756, 14354: 13757, 14355: 13758, 14356: 13759, 14357: 13760, 14358: 13761, 14359: 13762, 14360: 13763, 14361: 13764, 14362: 13765, 14363: 13766, 14364: 13767, 14365: 13768, 14366: 13769, 14367: 13770, 14368: 13771, 14369: 13772, 14370: 13773, 14371: 13774, 14372: 13775, 14373: 13776, 14374: 13777, 14375: 13778, 14377: 13779, 14384: 13780, 14385: 13781, 14386: 13782, 14387: 13783, 14388: 13784, 14389: 13785, 14390: 13786, 14391: 13787, 14392: 13788, 14393: 13789, 14394: 13790, 14395: 13791, 14396: 13792, 14397: 13793, 14398: 13794, 14399: 13795, 14400: 13796, 14409: 13797, 14423: 13798, 14434: 13799, 14435: 13800, 14438: 13801, 14440: 13802, 14441: 13803, 14442: 13804, 14443: 13805, 14444: 13806, 14445: 13807, 14446: 13808, 14447: 13809, 14448: 13810, 14449: 13811, 14450: 13812, 14451: 13813, 14452: 13814, 14453: 13815, 14454: 13816, 14455: 13817, 14456: 13818, 14457: 13819, 14458: 13820, 14459: 13821, 14460: 13822, 14461: 13823, 14462: 13824, 14463: 13825, 14464: 13826, 14465: 13827, 14466: 13828, 14467: 13829, 14468: 13830, 14469: 13831, 14470: 13832, 14471: 13833, 14472: 13834, 14473: 13835, 14474: 13836, 14475: 13837, 14476: 13838, 14477: 13839, 14478: 13840, 14479: 13841, 14480: 13842, 14481: 13843, 14482: 13844, 14483: 13845, 14484: 13846, 14485: 13847, 14486: 13848, 14487: 13849, 14488: 13850, 14489: 13851, 14490: 13852, 14491: 13853, 14492: 13854, 14493: 13855, 14494: 13856, 14495: 13857, 14496: 13858, 14497: 13859, 14498: 13860, 14499: 13861, 14500: 13862, 14501: 13863, 14502: 13864, 14503: 13865, 14504: 13866, 14505: 13867, 14506: 13868, 14507: 13869, 14508: 13870, 14509: 13871, 14510: 13872, 14511: 13873, 14512: 13874, 14513: 13875, 14514: 13876, 14515: 13877, 14516: 13878, 14517: 13879, 14518: 13880, 14519: 13881, 14520: 13882, 14521: 13883, 14522: 13884, 14523: 13885, 14524: 13886, 14525: 13887, 14526: 13888, 14527: 13889, 14528: 13890, 14529: 13891, 14530: 13892, 14531: 13893, 14532: 13894, 14533: 13895, 14534: 13896, 14535: 13897, 14536: 13898, 14537: 13899, 14538: 13900, 14539: 13901, 14540: 13902, 14541: 13903, 14542: 13904, 14543: 13905, 14544: 13906, 14545: 13907, 14546: 13908, 14547: 13909, 14549: 13910, 14550: 13911, 14551: 13912, 14552: 13913, 14553: 13914, 14554: 13915, 14555: 13916, 14556: 13917, 14557: 13918, 14558: 13919, 14559: 13920, 14560: 13921, 14561: 13922, 14562: 13923, 14563: 13924, 14564: 13925, 14565: 13926, 14566: 13927, 14567: 13928, 14568: 13929, 14569: 13930, 14570: 13931, 14571: 13932, 14572: 13933, 14573: 13934, 14574: 13935, 14575: 13936, 14576: 13937, 14577: 13938, 14578: 13939, 14579: 13940, 14580: 13941, 14581: 13942, 14582: 13943, 14583: 13944, 14584: 13945, 14585: 13946, 14586: 13947, 14587: 13948, 14588: 13949, 14589: 13950, 14590: 13951, 14591: 13952, 14592: 13953, 14593: 13954, 14594: 13955, 14595: 13956, 14596: 13957, 14597: 13958, 14598: 13959, 14599: 13960, 14600: 13961, 14601: 13962, 14602: 13963, 14603: 13964, 14604: 13965, 14605: 13966, 14606: 13967, 14607: 13968, 14608: 13969, 14609: 13970, 14613: 13971, 14617: 13972, 14618: 13973, 14619: 13974, 14620: 13975, 14621: 13976, 14622: 13977, 14623: 13978, 14624: 13979, 14625: 13980, 14626: 13981, 14627: 13982, 14628: 13983, 14629: 13984, 14630: 13985, 14631: 13986, 14632: 13987, 14633: 13988, 14634: 13989, 14635: 13990, 14636: 13991, 14637: 13992, 14638: 13993, 14639: 13994, 14640: 13995, 14641: 13996, 14642: 13997, 14643: 13998, 14644: 13999, 14645: 14000, 14646: 14001, 14647: 14002, 14648: 14003, 14649: 14004, 14650: 14005, 14651: 14006, 14652: 14007, 14656: 14008, 14660: 14009, 14661: 14010, 14662: 14011, 14663: 14012, 14664: 14013, 14665: 14014, 14666: 14015, 14667: 14016, 14668: 14017, 14669: 14018, 14670: 14019, 14671: 14020, 14672: 14021, 14673: 14022, 14674: 14023, 14675: 14024, 14676: 14025, 14677: 14026, 14678: 14027, 14679: 14028, 14680: 14029, 14681: 14030, 14682: 14031, 14683: 14032, 14684: 14033, 14685: 14034, 14686: 14035, 14687: 14036, 14688: 14037, 14689: 14038, 14690: 14039, 14691: 14040, 14692: 14041, 14693: 14042, 14694: 14043, 14695: 14044, 14696: 14045, 14697: 14046, 14698: 14047, 14699: 14048, 14700: 14049, 14701: 14050, 14702: 14051, 14703: 14052, 14704: 14053, 14705: 14054, 14706: 14055, 14707: 14056, 14711: 14057, 14721: 14058, 14722: 14059, 14723: 14060, 14724: 14061, 14725: 14062, 14726: 14063, 14727: 14064, 14728: 14065, 14729: 14066, 14730: 14067, 14731: 14068, 14732: 14069, 14733: 14070, 14734: 14071, 14735: 14072, 14736: 14073, 14737: 14074, 14738: 14075, 14739: 14076, 14740: 14077, 14741: 14078, 14742: 14079, 14743: 14080, 14744: 14081, 14745: 14082, 14746: 14083, 14747: 14084, 14748: 14085, 14749: 14086, 14750: 14087, 14751: 14088, 14752: 14089, 14753: 14090, 14754: 14091, 14755: 14092, 14756: 14093, 14757: 14094, 14758: 14095, 14759: 14096, 14760: 14097, 14761: 14098, 14762: 14099, 14763: 14100, 14764: 14101, 14765: 14102, 14766: 14103, 14767: 14104, 14768: 14105, 14769: 14106, 14770: 14107, 14771: 14108, 14772: 14109, 14773: 14110, 14774: 14111, 14775: 14112, 14776: 14113, 14777: 14114, 14778: 14115, 14779: 14116, 14780: 14117, 14781: 14118, 14782: 14119, 14783: 14120, 14784: 14121, 14785: 14122, 14786: 14123, 14787: 14124, 14788: 14125, 14789: 14126, 14790: 14127, 14791: 14128, 14792: 14129, 14793: 14130, 14794: 14131, 14795: 14132, 14796: 14133, 14797: 14134, 14798: 14135, 14799: 14136, 14800: 14137, 14801: 14138, 14802: 14139, 14803: 14140, 14804: 14141, 14805: 14142, 14806: 14143, 14826: 14144, 14827: 14145, 14828: 14146, 14829: 14147, 14830: 14148, 14831: 14149, 14832: 14150, 14833: 14151, 14834: 14152, 14835: 14153, 14836: 14154, 14837: 14155, 14838: 14156, 14839: 14157, 14840: 14158, 14841: 14159, 14842: 14160, 14843: 14161, 14844: 14162, 14845: 14163, 14846: 14164, 14852: 14165, 14862: 14166, 14870: 14167, 14871: 14168, 14872: 14169, 14873: 14170, 14874: 14171, 14875: 14172, 14876: 14173, 14877: 14174, 14878: 14175, 14879: 14176, 14880: 14177, 14881: 14178, 14882: 14179, 14883: 14180, 14884: 14181, 14885: 14182, 14886: 14183, 14887: 14184, 14888: 14185, 14889: 14186, 14890: 14187, 14891: 14188, 14892: 14189, 14893: 14190, 14894: 14191, 14895: 14192, 14896: 14193, 14897: 14194, 14898: 14195, 14899: 14196, 14900: 14197, 14901: 14198, 14902: 14199, 14903: 14200, 14904: 14201, 14905: 14202, 14906: 14203, 14907: 14204, 14908: 14205, 14909: 14206, 14910: 14207, 14911: 14208, 14912: 14209, 14913: 14210, 14914: 14211, 14915: 14212, 14916: 14213, 14917: 14214, 14918: 14215, 14919: 14216, 14920: 14217, 14921: 14218, 14922: 14219, 14923: 14220, 14924: 14221, 14925: 14222, 14926: 14223, 14927: 14224, 14928: 14225, 14929: 14226, 14930: 14227, 14931: 14228, 14932: 14229, 14933: 14230, 14934: 14231, 14935: 14232, 14936: 14233, 14937: 14234, 14938: 14235, 14939: 14236, 14940: 14237, 14941: 14238, 14942: 14239, 14943: 14240, 14944: 14241, 14945: 14242, 14946: 14243, 14947: 14244, 14948: 14245, 14949: 14246, 14950: 14247, 14951: 14248, 14952: 14249, 14953: 14250, 14954: 14251, 14955: 14252, 14956: 14253, 14957: 14254, 14958: 14255, 14959: 14256, 14960: 14257, 14961: 14258, 14962: 14259, 14963: 14260, 14964: 14261, 14965: 14262, 14966: 14263, 14967: 14264, 14968: 14265, 14969: 14266, 14970: 14267, 14971: 14268, 14972: 14269, 14973: 14270, 14974: 14271, 14975: 14272, 14976: 14273, 14977: 14274, 14978: 14275, 14979: 14276, 14980: 14277, 14981: 14278, 14982: 14279, 14983: 14280, 14984: 14281, 14985: 14282, 14986: 14283, 14987: 14284, 14988: 14285, 14989: 14286, 14990: 14287, 14991: 14288, 14992: 14289, 14993: 14290, 14994: 14291, 14995: 14292, 14996: 14293, 14997: 14294, 14998: 14295, 14999: 14296, 15000: 14297, 15001: 14298, 15002: 14299, 15003: 14300, 15004: 14301, 15005: 14302, 15006: 14303, 15007: 14304, 15008: 14305, 15009: 14306, 15010: 14307, 15011: 14308, 15012: 14309, 15013: 14310, 15014: 14311, 15015: 14312, 15016: 14313, 15017: 14314, 15018: 14315, 15019: 14316, 15020: 14317, 15021: 14318, 15022: 14319, 15023: 14320, 15024: 14321, 15025: 14322, 15026: 14323, 15027: 14324, 15028: 14325, 15029: 14326, 15030: 14327, 15031: 14328, 15032: 14329, 15033: 14330, 15034: 14331, 15035: 14332, 15036: 14333, 15037: 14334, 15038: 14335, 15039: 14336, 15040: 14337, 15041: 14338, 15042: 14339, 15043: 14340, 15044: 14341, 15045: 14342, 15046: 14343, 15047: 14344, 15048: 14345, 15049: 14346, 15050: 14347, 15051: 14348, 15052: 14349, 15053: 14350, 15054: 14351, 15055: 14352, 15056: 14353, 15057: 14354, 15058: 14355, 15059: 14356, 15060: 14357, 15061: 14358, 15062: 14359, 15063: 14360, 15064: 14361, 15065: 14362, 15066: 14363, 15067: 14364, 15068: 14365, 15069: 14366, 15070: 14367, 15071: 14368, 15072: 14369, 15073: 14370, 15074: 14371, 15075: 14372, 15076: 14373, 15077: 14374, 15078: 14375, 15079: 14376, 15080: 14377, 15081: 14378, 15082: 14379, 15083: 14380, 15084: 14381, 15085: 14382, 15086: 14383, 15087: 14384, 15088: 14385, 15089: 14386, 15090: 14387, 15091: 14388, 15092: 14389, 15093: 14390, 15094: 14391, 15095: 14392, 15096: 14393, 15097: 14394, 15098: 14395, 15099: 14396, 15100: 14397, 15101: 14398, 15102: 14399, 15103: 14400, 15104: 14401, 15105: 14402, 15106: 14403, 15107: 14404, 15108: 14405, 15109: 14406, 15110: 14407, 15111: 14408, 15112: 14409, 15113: 14410, 15114: 14411, 15115: 14412, 15116: 14413, 15117: 14414, 15118: 14415, 15119: 14416, 15120: 14417, 15121: 14418, 15123: 14419, 15127: 14420, 15129: 14421, 15133: 14422, 15134: 14423, 15135: 14424, 15136: 14425, 15137: 14426, 15138: 14427, 15139: 14428, 15140: 14429, 15141: 14430, 15142: 14431, 15143: 14432, 15144: 14433, 15145: 14434, 15146: 14435, 15147: 14436, 15148: 14437, 15149: 14438, 15150: 14439, 15151: 14440, 15152: 14441, 15153: 14442, 15154: 14443, 15155: 14444, 15156: 14445, 15157: 14446, 15158: 14447, 15159: 14448, 15160: 14449, 15161: 14450, 15162: 14451, 15163: 14452, 15164: 14453, 15165: 14454, 15166: 14455, 15167: 14456, 15168: 14457, 15169: 14458, 15170: 14459, 15171: 14460, 15172: 14461, 15178: 14462, 15179: 14463, 15180: 14464, 15181: 14465, 15182: 14466, 15183: 14467, 15184: 14468, 15185: 14469, 15190: 14470, 15191: 14471, 15192: 14472, 15193: 14473, 15194: 14474, 15195: 14475, 15196: 14476, 15197: 14477, 15198: 14478, 15199: 14479, 15200: 14480, 15201: 14481, 15202: 14482, 15203: 14483, 15204: 14484, 15205: 14485, 15206: 14486, 15207: 14487, 15208: 14488, 15209: 14489, 15210: 14490, 15211: 14491, 15212: 14492, 15213: 14493, 15214: 14494, 15215: 14495, 15216: 14496, 15217: 14497, 15218: 14498, 15219: 14499, 15220: 14500, 15221: 14501, 15222: 14502, 15223: 14503, 15224: 14504, 15225: 14505, 15226: 14506, 15227: 14507, 15228: 14508, 15229: 14509, 15230: 14510, 15231: 14511, 15232: 14512, 15233: 14513, 15234: 14514, 15235: 14515, 15236: 14516, 15237: 14517, 15238: 14518, 15239: 14519, 15240: 14520, 15241: 14521, 15242: 14522, 15243: 14523, 15244: 14524, 15245: 14525, 15246: 14526, 15247: 14527, 15248: 14528, 15249: 14529, 15250: 14530, 15251: 14531, 15252: 14532, 15253: 14533, 15254: 14534, 15255: 14535, 15256: 14536, 15257: 14537, 15258: 14538, 15259: 14539, 15260: 14540, 15261: 14541, 15262: 14542, 15266: 14543, 15267: 14544, 15268: 14545, 15269: 14546, 15276: 14547, 15287: 14548, 15288: 14549, 15289: 14550, 15290: 14551, 15291: 14552, 15292: 14553, 15293: 14554, 15294: 14555, 15295: 14556, 15296: 14557, 15297: 14558, 15298: 14559, 15299: 14560, 15300: 14561, 15301: 14562, 15302: 14563, 15303: 14564, 15304: 14565, 15305: 14566, 15306: 14567, 15307: 14568, 15308: 14569, 15309: 14570, 15310: 14571, 15311: 14572, 15312: 14573, 15313: 14574, 15314: 14575, 15315: 14576, 15316: 14577, 15317: 14578, 15318: 14579, 15319: 14580, 15320: 14581, 15321: 14582, 15322: 14583, 15323: 14584, 15324: 14585, 15326: 14586, 15327: 14587, 15328: 14588, 15329: 14589, 15330: 14590, 15331: 14591, 15332: 14592, 15333: 14593, 15334: 14594, 15335: 14595, 15336: 14596, 15337: 14597, 15338: 14598, 15339: 14599, 15340: 14600, 15341: 14601, 15342: 14602, 15343: 14603, 15344: 14604, 15345: 14605, 15346: 14606, 15347: 14607, 15348: 14608, 15349: 14609, 15350: 14610, 15351: 14611, 15352: 14612, 15353: 14613, 15354: 14614, 15355: 14615, 15356: 14616, 15360: 14617, 15361: 14618, 15364: 14619, 15365: 14620, 15366: 14621, 15367: 14622, 15368: 14623, 15369: 14624, 15370: 14625, 15371: 14626, 15372: 14627, 15373: 14628, 15374: 14629, 15377: 14630, 15378: 14631, 15379: 14632, 15380: 14633, 15381: 14634, 15382: 14635, 15383: 14636, 15384: 14637, 15385: 14638, 15386: 14639, 15387: 14640, 15388: 14641, 15389: 14642, 15390: 14643, 15391: 14644, 15392: 14645, 15393: 14646, 15394: 14647, 15395: 14648, 15396: 14649, 15397: 14650, 15398: 14651, 15399: 14652, 15400: 14653, 15401: 14654, 15402: 14655, 15403: 14656, 15404: 14657, 15405: 14658, 15406: 14659, 15407: 14660, 15408: 14661, 15409: 14662, 15410: 14663, 15411: 14664, 15412: 14665, 15413: 14666, 15414: 14667, 15415: 14668, 15416: 14669, 15417: 14670, 15418: 14671, 15419: 14672, 15420: 14673, 15421: 14674, 15422: 14675, 15423: 14676, 15424: 14677, 15425: 14678, 15426: 14679, 15427: 14680, 15428: 14681, 15429: 14682, 15430: 14683, 15431: 14684, 15432: 14685, 15433: 14686, 15434: 14687, 15435: 14688, 15436: 14689, 15437: 14690, 15438: 14691, 15439: 14692, 15440: 14693, 15441: 14694, 15442: 14695, 15443: 14696, 15444: 14697, 15445: 14698, 15446: 14699, 15447: 14700, 15448: 14701, 15449: 14702, 15450: 14703, 15451: 14704, 15452: 14705, 15453: 14706, 15454: 14707, 15455: 14708, 15456: 14709, 15457: 14710, 15458: 14711, 15459: 14712, 15460: 14713, 15461: 14714, 15462: 14715, 15463: 14716, 15464: 14717, 15465: 14718, 15466: 14719, 15467: 14720, 15468: 14721, 15469: 14722, 15470: 14723, 15471: 14724, 15472: 14725, 15473: 14726, 15474: 14727, 15475: 14728, 15476: 14729, 15477: 14730, 15478: 14731, 15479: 14732, 15480: 14733, 15481: 14734, 15482: 14735, 15483: 14736, 15484: 14737, 15485: 14738, 15486: 14739, 15494: 14740, 15495: 14741, 15496: 14742, 15497: 14743, 15498: 14744, 15499: 14745, 15500: 14746, 15501: 14747, 15502: 14748, 15503: 14749, 15504: 14750, 15505: 14751, 15506: 14752, 15507: 14753, 15508: 14754, 15509: 14755, 15510: 14756, 15511: 14757, 15512: 14758, 15513: 14759, 15514: 14760, 15515: 14761, 15516: 14762, 15517: 14763, 15518: 14764, 15519: 14765, 15520: 14766, 15521: 14767, 15522: 14768, 15523: 14769, 15524: 14770, 15526: 14771, 15528: 14772, 15529: 14773, 15530: 14774, 15531: 14775, 15532: 14776, 15533: 14777, 15534: 14778, 15535: 14779, 15536: 14780, 15537: 14781, 15543: 14782, 15547: 14783, 15550: 14784, 15555: 14785, 15561: 14786, 15563: 14787, 15564: 14788, 15565: 14789, 15566: 14790, 15567: 14791, 15568: 14792, 15569: 14793, 15570: 14794, 15571: 14795, 15572: 14796, 15573: 14797, 15574: 14798, 15575: 14799, 15576: 14800, 15577: 14801, 15578: 14802, 15579: 14803, 15580: 14804, 15581: 14805, 15582: 14806, 15583: 14807, 15584: 14808, 15585: 14809, 15586: 14810, 15587: 14811, 15588: 14812, 15589: 14813, 15590: 14814, 15591: 14815, 15592: 14816, 15593: 14817, 15594: 14818, 15595: 14819, 15596: 14820, 15597: 14821, 15598: 14822, 15599: 14823, 15600: 14824, 15601: 14825, 15602: 14826, 15603: 14827, 15604: 14828, 15605: 14829, 15606: 14830, 15607: 14831, 15608: 14832, 15609: 14833, 15610: 14834, 15611: 14835, 15612: 14836, 15613: 14837, 15614: 14838, 15615: 14839, 15616: 14840, 15617: 14841, 15618: 14842, 15619: 14843, 15620: 14844, 15621: 14845, 15622: 14846, 15623: 14847, 15624: 14848, 15625: 14849, 15626: 14850, 15627: 14851, 15628: 14852, 15629: 14853, 15630: 14854, 15631: 14855, 15632: 14856, 15633: 14857, 15634: 14858, 15635: 14859, 15636: 14860, 15637: 14861, 15638: 14862, 15639: 14863, 15640: 14864, 15641: 14865, 15642: 14866, 15643: 14867, 15644: 14868, 15645: 14869, 15646: 14870, 15647: 14871, 15648: 14872, 15649: 14873, 15650: 14874, 15651: 14875, 15652: 14876, 15653: 14877, 15654: 14878, 15655: 14879, 15656: 14880, 15657: 14881, 15658: 14882, 15659: 14883, 15660: 14884, 15661: 14885, 15662: 14886, 15663: 14887, 15664: 14888, 15665: 14889, 15666: 14890, 15667: 14891, 15668: 14892, 15669: 14893, 15670: 14894, 15671: 14895, 15672: 14896, 15673: 14897, 15674: 14898, 15675: 14899, 15676: 14900, 15677: 14901, 15678: 14902, 15679: 14903, 15680: 14904, 15681: 14905, 15682: 14906, 15683: 14907, 15684: 14908, 15685: 14909, 15686: 14910, 15687: 14911, 15688: 14912, 15689: 14913, 15690: 14914, 15691: 14915, 15692: 14916, 15693: 14917, 15694: 14918, 15695: 14919, 15696: 14920, 15697: 14921, 15698: 14922, 15699: 14923, 15700: 14924, 15701: 14925, 15702: 14926, 15703: 14927, 15704: 14928, 15705: 14929, 15706: 14930, 15707: 14931, 15708: 14932, 15709: 14933, 15710: 14934, 15711: 14935, 15712: 14936, 15713: 14937, 15714: 14938, 15715: 14939, 15716: 14940, 15717: 14941, 15718: 14942, 15719: 14943, 15720: 14944, 15721: 14945, 15722: 14946, 15723: 14947, 15724: 14948, 15725: 14949, 15726: 14950, 15727: 14951, 15728: 14952, 15736: 14953, 15737: 14954, 15738: 14955, 15739: 14956, 15740: 14957, 15741: 14958, 15742: 14959, 15743: 14960, 15744: 14961, 15745: 14962, 15746: 14963, 15747: 14964, 15748: 14965, 15749: 14966, 15750: 14967, 15751: 14968, 15752: 14969, 15753: 14970, 15754: 14971, 15755: 14972, 15756: 14973, 15757: 14974, 15758: 14975, 15759: 14976, 15760: 14977, 15761: 14978, 15762: 14979, 15763: 14980, 15764: 14981, 15765: 14982, 15766: 14983, 15767: 14984, 15768: 14985, 15769: 14986, 15770: 14987, 15771: 14988, 15772: 14989, 15773: 14990, 15774: 14991, 15775: 14992, 15776: 14993, 15777: 14994, 15778: 14995, 15779: 14996, 15780: 14997, 15781: 14998, 15782: 14999, 15783: 15000, 15784: 15001, 15785: 15002, 15786: 15003, 15787: 15004, 15788: 15005, 15789: 15006, 15790: 15007, 15791: 15008, 15792: 15009, 15793: 15010, 15794: 15011, 15795: 15012, 15796: 15013, 15797: 15014, 15798: 15015, 15799: 15016, 15800: 15017, 15801: 15018, 15802: 15019, 15803: 15020, 15804: 15021, 15805: 15022, 15806: 15023, 15807: 15024, 15808: 15025, 15809: 15026, 15810: 15027, 15811: 15028, 15812: 15029, 15813: 15030, 15814: 15031, 15815: 15032, 15816: 15033, 15818: 15034, 15820: 15035, 15821: 15036, 15822: 15037, 15823: 15038, 15824: 15039, 15825: 15040, 15826: 15041, 15827: 15042, 15828: 15043, 15829: 15044, 15830: 15045, 15831: 15046, 15832: 15047, 15833: 15048, 15834: 15049, 15835: 15050, 15836: 15051, 15837: 15052, 15838: 15053, 15839: 15054, 15844: 15055, 15846: 15056, 15847: 15057, 15848: 15058, 15849: 15059, 15850: 15060, 15851: 15061, 15852: 15062, 15853: 15063, 15854: 15064, 15855: 15065, 15856: 15066, 15857: 15067, 15858: 15068, 15859: 15069, 15860: 15070, 15861: 15071, 15862: 15072, 15863: 15073, 15864: 15074, 15865: 15075, 15866: 15076, 15867: 15077, 15868: 15078, 15869: 15079, 15870: 15080, 15871: 15081, 15872: 15082, 15873: 15083, 15874: 15084, 15875: 15085, 15876: 15086, 15877: 15087, 15878: 15088, 15879: 15089, 15880: 15090, 15881: 15091, 15882: 15092, 15883: 15093, 15884: 15094, 15885: 15095, 15886: 15096, 15887: 15097, 15888: 15098, 15889: 15099, 15890: 15100, 15891: 15101, 15892: 15102, 15893: 15103, 15894: 15104, 15895: 15105, 15896: 15106, 15897: 15107, 15898: 15108, 15899: 15109, 15900: 15110, 15901: 15111, 15902: 15112, 15903: 15113, 15904: 15114, 15905: 15115, 15906: 15116, 15907: 15117, 15908: 15118, 15909: 15119, 15910: 15120, 15911: 15121, 15912: 15122, 15913: 15123, 15914: 15124, 15915: 15125, 15916: 15126, 15917: 15127, 15918: 15128, 15919: 15129, 15920: 15130, 15921: 15131, 15922: 15132, 15923: 15133, 15924: 15134, 15925: 15135, 15926: 15136, 15927: 15137, 15928: 15138, 15929: 15139, 15930: 15140, 15931: 15141, 15932: 15142, 15933: 15143, 15934: 15144, 15935: 15145, 15936: 15146, 15937: 15147, 15938: 15148, 15939: 15149, 15940: 15150, 15941: 15151, 15942: 15152, 15943: 15153, 15944: 15154, 15945: 15155, 15946: 15156, 15947: 15157, 15948: 15158, 15949: 15159, 15950: 15160, 15951: 15161, 15952: 15162, 15953: 15163, 15954: 15164, 15955: 15165, 15956: 15166, 15957: 15167, 15958: 15168, 15959: 15169, 15960: 15170, 15961: 15171, 15962: 15172, 15963: 15173, 15964: 15174, 15965: 15175, 15966: 15176, 15967: 15177, 15968: 15178, 15969: 15179, 15970: 15180, 15971: 15181, 15972: 15182, 15973: 15183, 15974: 15184, 15975: 15185, 15976: 15186, 15977: 15187, 15978: 15188, 15979: 15189, 15980: 15190, 15981: 15191, 15982: 15192, 15983: 15193, 15984: 15194, 15985: 15195, 15986: 15196, 15987: 15197, 15988: 15198, 15989: 15199, 15990: 15200, 15991: 15201, 15992: 15202, 15993: 15203, 15994: 15204, 15995: 15205, 15996: 15206, 15997: 15207, 15998: 15208, 15999: 15209, 16000: 15210, 16001: 15211, 16002: 15212, 16003: 15213, 16004: 15214, 16005: 15215, 16006: 15216, 16007: 15217, 16008: 15218, 16009: 15219, 16010: 15220, 16011: 15221, 16012: 15222, 16013: 15223, 16014: 15224, 16015: 15225, 16016: 15226, 16017: 15227, 16018: 15228, 16019: 15229, 16020: 15230, 16021: 15231, 16022: 15232, 16023: 15233, 16024: 15234, 16025: 15235, 16026: 15236, 16027: 15237, 16028: 15238, 16029: 15239, 16033: 15240, 16038: 15241, 16039: 15242, 16040: 15243, 16041: 15244, 16042: 15245, 16043: 15246, 16044: 15247, 16045: 15248, 16046: 15249, 16047: 15250, 16048: 15251, 16049: 15252, 16050: 15253, 16051: 15254, 16052: 15255, 16053: 15256, 16054: 15257, 16055: 15258, 16056: 15259, 16057: 15260, 16058: 15261, 16059: 15262, 16060: 15263, 16061: 15264, 16062: 15265, 16063: 15266, 16064: 15267, 16065: 15268, 16066: 15269, 16067: 15270, 16068: 15271, 16069: 15272, 16070: 15273, 16071: 15274, 16072: 15275, 16073: 15276, 16074: 15277, 16075: 15278, 16076: 15279, 16077: 15280, 16078: 15281, 16079: 15282, 16080: 15283, 16081: 15284, 16082: 15285, 16083: 15286, 16084: 15287, 16085: 15288, 16086: 15289, 16087: 15290, 16088: 15291, 16089: 15292, 16090: 15293, 16091: 15294, 16092: 15295, 16093: 15296, 16094: 15297, 16095: 15298, 16096: 15299, 16097: 15300, 16098: 15301, 16099: 15302, 16100: 15303, 16101: 15304, 16102: 15305, 16103: 15306, 16104: 15307, 16105: 15308, 16106: 15309, 16107: 15310, 16110: 15311, 16111: 15312, 16112: 15313, 16113: 15314, 16114: 15315, 16115: 15316, 16116: 15317, 16117: 15318, 16118: 15319, 16119: 15320, 16120: 15321, 16121: 15322, 16122: 15323, 16123: 15324, 16124: 15325, 16125: 15326, 16126: 15327, 16127: 15328, 16128: 15329, 16129: 15330, 16130: 15331, 16131: 15332, 16132: 15333, 16133: 15334, 16134: 15335, 16135: 15336, 16136: 15337, 16137: 15338, 16138: 15339, 16139: 15340, 16140: 15341, 16141: 15342, 16142: 15343, 16143: 15344, 16144: 15345, 16145: 15346, 16146: 15347, 16147: 15348, 16148: 15349, 16149: 15350, 16150: 15351, 16151: 15352, 16152: 15353, 16153: 15354, 16154: 15355, 16155: 15356, 16156: 15357, 16157: 15358, 16158: 15359, 16159: 15360, 16160: 15361, 16161: 15362, 16162: 15363, 16163: 15364, 16164: 15365, 16165: 15366, 16166: 15367, 16167: 15368, 16168: 15369, 16169: 15370, 16170: 15371, 16171: 15372, 16172: 15373, 16173: 15374, 16174: 15375, 16175: 15376, 16176: 15377, 16177: 15378, 16178: 15379, 16179: 15380, 16180: 15381, 16181: 15382, 16182: 15383, 16183: 15384, 16184: 15385, 16185: 15386, 16186: 15387, 16187: 15388, 16188: 15389, 16189: 15390, 16190: 15391, 16191: 15392, 16192: 15393, 16193: 15394, 16194: 15395, 16195: 15396, 16196: 15397, 16197: 15398, 16198: 15399, 16199: 15400, 16200: 15401, 16201: 15402, 16202: 15403, 16203: 15404, 16204: 15405, 16205: 15406, 16206: 15407, 16207: 15408, 16208: 15409, 16209: 15410, 16214: 15411, 16216: 15412, 16228: 15413, 16229: 15414, 16230: 15415, 16231: 15416, 16232: 15417, 16233: 15418, 16234: 15419, 16235: 15420, 16236: 15421, 16237: 15422, 16238: 15423, 16239: 15424, 16240: 15425, 16241: 15426, 16242: 15427, 16243: 15428, 16244: 15429, 16245: 15430, 16246: 15431, 16247: 15432, 16248: 15433, 16249: 15434, 16250: 15435, 16251: 15436, 16252: 15437, 16253: 15438, 16254: 15439, 16255: 15440, 16256: 15441, 16257: 15442, 16258: 15443, 16259: 15444, 16260: 15445, 16261: 15446, 16262: 15447, 16263: 15448, 16264: 15449, 16265: 15450, 16266: 15451, 16267: 15452, 16268: 15453, 16269: 15454, 16270: 15455, 16271: 15456, 16272: 15457, 16273: 15458, 16274: 15459, 16275: 15460, 16276: 15461, 16277: 15462, 16278: 15463, 16279: 15464, 16280: 15465, 16281: 15466, 16282: 15467, 16283: 15468, 16284: 15469, 16285: 15470, 16286: 15471, 16287: 15472, 16288: 15473, 16289: 15474, 16290: 15475, 16291: 15476, 16292: 15477, 16293: 15478, 16294: 15479, 16295: 15480, 16296: 15481, 16297: 15482, 16298: 15483, 16299: 15484, 16300: 15485, 16301: 15486, 16302: 15487, 16303: 15488, 16304: 15489, 16305: 15490, 16306: 15491, 16307: 15492, 16308: 15493, 16309: 15494, 16310: 15495, 16311: 15496, 16312: 15497, 16313: 15498, 16314: 15499, 16315: 15500, 16316: 15501, 16317: 15502, 16318: 15503, 16319: 15504, 16320: 15505, 16321: 15506, 16322: 15507, 16323: 15508, 16324: 15509, 16325: 15510, 16326: 15511, 16327: 15512, 16328: 15513, 16329: 15514, 16330: 15515, 16331: 15516, 16332: 15517, 16333: 15518, 16334: 15519, 16335: 15520, 16336: 15521, 16337: 15522, 16338: 15523, 16339: 15524, 16340: 15525, 16341: 15526, 16342: 15527, 16343: 15528, 16344: 15529, 16345: 15530, 16346: 15531, 16347: 15532, 16348: 15533, 16349: 15534, 16350: 15535, 16351: 15536, 16352: 15537, 16353: 15538, 16354: 15539, 16355: 15540, 16356: 15541, 16357: 15542, 16358: 15543, 16359: 15544, 16360: 15545, 16361: 15546, 16362: 15547, 16363: 15548, 16364: 15549, 16365: 15550, 16366: 15551, 16367: 15552, 16368: 15553, 16369: 15554, 16370: 15555, 16371: 15556, 16372: 15557, 16373: 15558, 16374: 15559, 16375: 15560, 16376: 15561, 16377: 15562, 16378: 15563, 16379: 15564, 16380: 15565, 16381: 15566, 16382: 15567, 16383: 15568, 16384: 15569, 16385: 15570, 16386: 15571, 16387: 15572, 16388: 15573, 16389: 15574, 16390: 15575, 16391: 15576, 16392: 15577, 16393: 15578, 16403: 15579, 16404: 15580, 16405: 15581, 16406: 15582, 16407: 15583, 16408: 15584, 16409: 15585, 16410: 15586, 16411: 15587, 16412: 15588, 16413: 15589, 16414: 15590, 16415: 15591, 16416: 15592, 16417: 15593, 16418: 15594, 16419: 15595, 16420: 15596, 16421: 15597, 16422: 15598, 16423: 15599, 16424: 15600, 16425: 15601, 16426: 15602, 16427: 15603, 16428: 15604, 16429: 15605, 16430: 15606, 16431: 15607, 16434: 15608, 16436: 15609, 16437: 15610, 16438: 15611, 16439: 15612, 16440: 15613, 16441: 15614, 16442: 15615, 16443: 15616, 16444: 15617, 16445: 15618, 16446: 15619, 16447: 15620, 16448: 15621, 16449: 15622, 16450: 15623, 16451: 15624, 16452: 15625, 16453: 15626, 16454: 15627, 16455: 15628, 16456: 15629, 16457: 15630, 16458: 15631, 16459: 15632, 16460: 15633, 16461: 15634, 16462: 15635, 16463: 15636, 16464: 15637, 16465: 15638, 16466: 15639, 16467: 15640, 16468: 15641, 16485: 15642, 16489: 15643, 16490: 15644, 16491: 15645, 16492: 15646, 16493: 15647, 16494: 15648, 16495: 15649, 16496: 15650, 16497: 15651, 16498: 15652, 16499: 15653, 16500: 15654, 16501: 15655, 16502: 15656, 16503: 15657, 16504: 15658, 16505: 15659, 16506: 15660, 16507: 15661, 16508: 15662, 16509: 15663, 16510: 15664, 16511: 15665, 16512: 15666, 16513: 15667, 16514: 15668, 16515: 15669, 16516: 15670, 16517: 15671, 16518: 15672, 16519: 15673, 16520: 15674, 16521: 15675, 16522: 15676, 16523: 15677, 16524: 15678, 16526: 15679, 16528: 15680, 16529: 15681, 16530: 15682, 16531: 15683, 16532: 15684, 16533: 15685, 16534: 15686, 16558: 15687, 16559: 15688, 16560: 15689, 16561: 15690, 16562: 15691, 16563: 15692, 16564: 15693, 16565: 15694, 16566: 15695, 16567: 15696, 16568: 15697, 16569: 15698, 16570: 15699, 16571: 15700, 16572: 15701, 16573: 15702, 16574: 15703, 16575: 15704, 16576: 15705, 16577: 15706, 16578: 15707, 16579: 15708, 16580: 15709, 16581: 15710, 16582: 15711, 16583: 15712, 16584: 15713, 16585: 15714, 16586: 15715, 16587: 15716, 16588: 15717, 16589: 15718, 16590: 15719, 16591: 15720, 16592: 15721, 16593: 15722, 16594: 15723, 16595: 15724, 16596: 15725, 16597: 15726, 16598: 15727, 16599: 15728, 16600: 15729, 16601: 15730, 16602: 15731, 16603: 15732, 16604: 15733, 16605: 15734, 16606: 15735, 16607: 15736, 16608: 15737, 16609: 15738, 16610: 15739, 16611: 15740, 16612: 15741, 16613: 15742, 16614: 15743, 16615: 15744, 16616: 15745, 16617: 15746, 16618: 15747, 16619: 15748, 16620: 15749, 16621: 15750, 16622: 15751, 16623: 15752, 16624: 15753, 16625: 15754, 16626: 15755, 16627: 15756, 16628: 15757, 16629: 15758, 16630: 15759, 16631: 15760, 16632: 15761, 16633: 15762, 16634: 15763, 16635: 15764, 16636: 15765, 16637: 15766, 16638: 15767, 16639: 15768, 16640: 15769, 16641: 15770, 16642: 15771, 16643: 15772, 16644: 15773, 16645: 15774, 16646: 15775, 16647: 15776, 16648: 15777, 16649: 15778, 16650: 15779, 16651: 15780, 16652: 15781, 16653: 15782, 16654: 15783, 16655: 15784, 16656: 15785, 16657: 15786, 16658: 15787, 16659: 15788, 16660: 15789, 16661: 15790, 16662: 15791, 16663: 15792, 16664: 15793, 16665: 15794, 16666: 15795, 16667: 15796, 16668: 15797, 16669: 15798, 16670: 15799, 16671: 15800, 16672: 15801, 16673: 15802, 16674: 15803, 16675: 15804, 16676: 15805, 16677: 15806, 16678: 15807, 16679: 15808, 16680: 15809, 16681: 15810, 16682: 15811, 16683: 15812, 16684: 15813, 16685: 15814, 16686: 15815, 16687: 15816, 16688: 15817, 16689: 15818, 16690: 15819, 16691: 15820, 16692: 15821, 16693: 15822, 16694: 15823, 16695: 15824, 16696: 15825, 16697: 15826, 16698: 15827, 16699: 15828, 16700: 15829, 16701: 15830, 16702: 15831, 16703: 15832, 16704: 15833, 16705: 15834, 16706: 15835, 16707: 15836, 16708: 15837, 16709: 15838, 16710: 15839, 16711: 15840, 16712: 15841, 16713: 15842, 16714: 15843, 16715: 15844, 16716: 15845, 16717: 15846, 16718: 15847, 16719: 15848, 16720: 15849, 16721: 15850, 16722: 15851, 16723: 15852, 16724: 15853, 16725: 15854, 16726: 15855, 16727: 15856, 16728: 15857, 16729: 15858, 16730: 15859, 16731: 15860, 16732: 15861, 16733: 15862, 16734: 15863, 16735: 15864, 16736: 15865, 16737: 15866, 16738: 15867, 16739: 15868, 16740: 15869, 16741: 15870, 16742: 15871, 16743: 15872, 16744: 15873, 16745: 15874, 16746: 15875, 16747: 15876, 16748: 15877, 16749: 15878, 16750: 15879, 16751: 15880, 16752: 15881, 16753: 15882, 16754: 15883, 16755: 15884, 16756: 15885, 16757: 15886, 16758: 15887, 16759: 15888, 16760: 15889, 16761: 15890, 16762: 15891, 16763: 15892, 16764: 15893, 16765: 15894, 16766: 15895, 16767: 15896, 16768: 15897, 16769: 15898, 16770: 15899, 16771: 15900, 16772: 15901, 16773: 15902, 16774: 15903, 16775: 15904, 16776: 15905, 16777: 15906, 16778: 15907, 16779: 15908, 16780: 15909, 16781: 15910, 16782: 15911, 16783: 15912, 16784: 15913, 16785: 15914, 16786: 15915, 16787: 15916, 16788: 15917, 16789: 15918, 16790: 15919, 16791: 15920, 16792: 15921, 16793: 15922, 16794: 15923, 16795: 15924, 16796: 15925, 16797: 15926, 16798: 15927, 16799: 15928, 16800: 15929, 16801: 15930, 16802: 15931, 16803: 15932, 16804: 15933, 16805: 15934, 16806: 15935, 16807: 15936, 16808: 15937, 16809: 15938, 16822: 15939, 16831: 15940, 16832: 15941, 16833: 15942, 16834: 15943, 16835: 15944, 16836: 15945, 16837: 15946, 16838: 15947, 16839: 15948, 16840: 15949, 16841: 15950, 16842: 15951, 16843: 15952, 16844: 15953, 16845: 15954, 16846: 15955, 16847: 15956, 16848: 15957, 16849: 15958, 16850: 15959, 16851: 15960, 16852: 15961, 16853: 15962, 16854: 15963, 16855: 15964, 16856: 15965, 16857: 15966, 16858: 15967, 16859: 15968, 16860: 15969, 16861: 15970, 16862: 15971, 16863: 15972, 16864: 15973, 16865: 15974, 16866: 15975, 16867: 15976, 16868: 15977, 16869: 15978, 16870: 15979, 16871: 15980, 16872: 15981, 16873: 15982, 16874: 15983, 16875: 15984, 16876: 15985, 16877: 15986, 16878: 15987, 16879: 15988, 16880: 15989, 16881: 15990, 16882: 15991, 16883: 15992, 16884: 15993, 16885: 15994, 16886: 15995, 16887: 15996, 16888: 15997, 16889: 15998, 16890: 15999, 16891: 16000, 16892: 16001, 16893: 16002, 16894: 16003, 16895: 16004, 16896: 16005, 16897: 16006, 16898: 16007, 16899: 16008, 16900: 16009, 16901: 16010, 16902: 16011, 16903: 16012, 16904: 16013, 16905: 16014, 16906: 16015, 16907: 16016, 16908: 16017, 16909: 16018, 16910: 16019, 16911: 16020, 16912: 16021, 16913: 16022, 16914: 16023, 16915: 16024, 16916: 16025, 16917: 16026, 16918: 16027, 16919: 16028, 16920: 16029, 16921: 16030, 16922: 16031, 16923: 16032, 16924: 16033, 16925: 16034, 16926: 16035, 16927: 16036, 16928: 16037, 16929: 16038, 16930: 16039, 16931: 16040, 16932: 16041, 16933: 16042, 16934: 16043, 16935: 16044, 16936: 16045, 16937: 16046, 16938: 16047, 16939: 16048, 16946: 16049, 16947: 16050, 16948: 16051, 16949: 16052, 16950: 16053, 16951: 16054, 16952: 16055, 16953: 16056, 16954: 16057, 16955: 16058, 16956: 16059, 16957: 16060, 16958: 16061, 16959: 16062, 16960: 16063, 16961: 16064, 16962: 16065, 16963: 16066, 16964: 16067, 16965: 16068, 16966: 16069, 16967: 16070, 16968: 16071, 16969: 16072, 16970: 16073, 16971: 16074, 16972: 16075, 16973: 16076, 16974: 16077, 16975: 16078, 16994: 16079, 17006: 16080, 17007: 16081, 17008: 16082, 17009: 16083, 17010: 16084, 17011: 16085, 17012: 16086, 17013: 16087, 17014: 16088, 17015: 16089, 17016: 16090, 17017: 16091, 17018: 16092, 17019: 16093, 17020: 16094, 17021: 16095, 17022: 16096, 17023: 16097, 17024: 16098, 17025: 16099, 17026: 16100, 17027: 16101, 17028: 16102, 17029: 16103, 17030: 16104, 17031: 16105, 17032: 16106, 17033: 16107, 17034: 16108, 17035: 16109, 17036: 16110, 17037: 16111, 17038: 16112, 17039: 16113, 17040: 16114, 17041: 16115, 17042: 16116, 17043: 16117, 17044: 16118, 17045: 16119, 17046: 16120, 17047: 16121, 17048: 16122, 17049: 16123, 17050: 16124, 17051: 16125, 17052: 16126, 17053: 16127, 17054: 16128, 17055: 16129, 17056: 16130, 17057: 16131, 17058: 16132, 17059: 16133, 17060: 16134, 17061: 16135, 17062: 16136, 17063: 16137, 17064: 16138, 17065: 16139, 17066: 16140, 17067: 16141, 17068: 16142, 17069: 16143, 17070: 16144, 17071: 16145, 17072: 16146, 17073: 16147, 17076: 16148, 17077: 16149, 17078: 16150, 17079: 16151, 17080: 16152, 17081: 16153, 17082: 16154, 17083: 16155, 17084: 16156, 17085: 16157, 17086: 16158, 17087: 16159, 17088: 16160, 17089: 16161, 17090: 16162, 17091: 16163, 17092: 16164, 17093: 16165, 17094: 16166, 17095: 16167, 17096: 16168, 17097: 16169, 17098: 16170, 17099: 16171, 17100: 16172, 17101: 16173, 17102: 16174, 17103: 16175, 17104: 16176, 17105: 16177, 17106: 16178, 17107: 16179, 17108: 16180, 17109: 16181, 17110: 16182, 17111: 16183, 17112: 16184, 17113: 16185, 17114: 16186, 17115: 16187, 17116: 16188, 17117: 16189, 17118: 16190, 17119: 16191, 17120: 16192, 17121: 16193, 17122: 16194, 17123: 16195, 17124: 16196, 17125: 16197, 17126: 16198, 17127: 16199, 17128: 16200, 17129: 16201, 17130: 16202, 17131: 16203, 17132: 16204, 17133: 16205, 17134: 16206, 17135: 16207, 17136: 16208, 17137: 16209, 17138: 16210, 17139: 16211, 17140: 16212, 17141: 16213, 17142: 16214, 17143: 16215, 17144: 16216, 17145: 16217, 17146: 16218, 17147: 16219, 17148: 16220, 17149: 16221, 17150: 16222, 17151: 16223, 17152: 16224, 17153: 16225, 17154: 16226, 17155: 16227, 17156: 16228, 17157: 16229, 17158: 16230, 17159: 16231, 17160: 16232, 17161: 16233, 17162: 16234, 17163: 16235, 17164: 16236, 17165: 16237, 17166: 16238, 17167: 16239, 17168: 16240, 17169: 16241, 17170: 16242, 17171: 16243, 17172: 16244, 17173: 16245, 17174: 16246, 17175: 16247, 17176: 16248, 17177: 16249, 17178: 16250, 17179: 16251, 17180: 16252, 17181: 16253, 17182: 16254, 17183: 16255, 17184: 16256, 17185: 16257, 17186: 16258, 17187: 16259, 17188: 16260, 17189: 16261, 17190: 16262, 17191: 16263, 17192: 16264, 17193: 16265, 17194: 16266, 17195: 16267, 17196: 16268, 17197: 16269, 17198: 16270, 17199: 16271, 17200: 16272, 17201: 16273, 17202: 16274, 17203: 16275, 17204: 16276, 17205: 16277, 17206: 16278, 17207: 16279, 17208: 16280, 17209: 16281, 17210: 16282, 17211: 16283, 17212: 16284, 17213: 16285, 17214: 16286, 17215: 16287, 17216: 16288, 17217: 16289, 17218: 16290, 17219: 16291, 17220: 16292, 17221: 16293, 17222: 16294, 17223: 16295, 17224: 16296, 17225: 16297, 17226: 16298, 17227: 16299, 17228: 16300, 17229: 16301, 17230: 16302, 17231: 16303, 17232: 16304, 17233: 16305, 17234: 16306, 17235: 16307, 17236: 16308, 17237: 16309, 17238: 16310, 17239: 16311, 17240: 16312, 17241: 16313, 17242: 16314, 17243: 16315, 17244: 16316, 17245: 16317, 17246: 16318, 17247: 16319, 17248: 16320, 17249: 16321, 17250: 16322, 17251: 16323, 17252: 16324, 17253: 16325, 17254: 16326, 17255: 16327, 17256: 16328, 17257: 16329, 17258: 16330, 17259: 16331, 17260: 16332, 17261: 16333, 17262: 16334, 17263: 16335, 17264: 16336, 17265: 16337, 17266: 16338, 17267: 16339, 17268: 16340, 17269: 16341, 17270: 16342, 17271: 16343, 17272: 16344, 17273: 16345, 17274: 16346, 17275: 16347, 17276: 16348, 17277: 16349, 17278: 16350, 17279: 16351, 17280: 16352, 17282: 16353, 17283: 16354, 17284: 16355, 17285: 16356, 17286: 16357, 17287: 16358, 17288: 16359, 17289: 16360, 17290: 16361, 17291: 16362, 17292: 16363, 17293: 16364, 17294: 16365, 17295: 16366, 17296: 16367, 17297: 16368, 17298: 16369, 17299: 16370, 17300: 16371, 17301: 16372, 17302: 16373, 17303: 16374, 17304: 16375, 17305: 16376, 17306: 16377, 17312: 16378, 17319: 16379, 17320: 16380, 17321: 16381, 17322: 16382, 17323: 16383, 17325: 16384, 17326: 16385, 17327: 16386, 17328: 16387, 17329: 16388, 17330: 16389, 17331: 16390, 17332: 16391, 17333: 16392, 17334: 16393, 17335: 16394, 17336: 16395, 17337: 16396, 17338: 16397, 17339: 16398, 17340: 16399, 17341: 16400, 17342: 16401, 17343: 16402, 17344: 16403, 17345: 16404, 17346: 16405, 17347: 16406, 17348: 16407, 17349: 16408, 17350: 16409, 17351: 16410, 17352: 16411, 17353: 16412, 17354: 16413, 17355: 16414, 17356: 16415, 17357: 16416, 17358: 16417, 17359: 16418, 17360: 16419, 17361: 16420, 17362: 16421, 17363: 16422, 17364: 16423, 17365: 16424, 17366: 16425, 17367: 16426, 17368: 16427, 17369: 16428, 17370: 16429, 17371: 16430, 17372: 16431, 17373: 16432, 17374: 16433, 17375: 16434, 17378: 16435, 17379: 16436, 17380: 16437, 17381: 16438, 17382: 16439, 17383: 16440, 17384: 16441, 17385: 16442, 17386: 16443, 17387: 16444, 17388: 16445, 17389: 16446, 17390: 16447, 17391: 16448, 17392: 16449, 17393: 16450, 17394: 16451, 17397: 16452, 17398: 16453, 17399: 16454, 17400: 16455, 17401: 16456, 17402: 16457, 17403: 16458, 17404: 16459, 17405: 16460, 17406: 16461, 17407: 16462, 17408: 16463, 17409: 16464, 17410: 16465, 17411: 16466, 17412: 16467, 17413: 16468, 17414: 16469, 17415: 16470, 17416: 16471, 17417: 16472, 17418: 16473, 17419: 16474, 17420: 16475, 17421: 16476, 17422: 16477, 17423: 16478, 17424: 16479, 17425: 16480, 17426: 16481, 17427: 16482, 17428: 16483, 17429: 16484, 17430: 16485, 17431: 16486, 17432: 16487, 17433: 16488, 17434: 16489, 17435: 16490, 17436: 16491, 17437: 16492, 17438: 16493, 17439: 16494, 17440: 16495, 17441: 16496, 17442: 16497, 17443: 16498, 17444: 16499, 17445: 16500, 17446: 16501, 17447: 16502, 17448: 16503, 17449: 16504, 17450: 16505, 17451: 16506, 17452: 16507, 17453: 16508, 17454: 16509, 17455: 16510, 17456: 16511, 17457: 16512, 17458: 16513, 17459: 16514, 17460: 16515, 17461: 16516, 17462: 16517, 17463: 16518, 17464: 16519, 17465: 16520, 17466: 16521, 17467: 16522, 17468: 16523, 17469: 16524, 17470: 16525, 17471: 16526, 17472: 16527, 17473: 16528, 17474: 16529, 17475: 16530, 17476: 16531, 17477: 16532, 17480: 16533, 17481: 16534, 17482: 16535, 17483: 16536, 17484: 16537, 17485: 16538, 17486: 16539, 17487: 16540, 17488: 16541, 17489: 16542, 17490: 16543, 17491: 16544, 17492: 16545, 17493: 16546, 17494: 16547, 17495: 16548, 17496: 16549, 17497: 16550, 17498: 16551, 17499: 16552, 17500: 16553, 17501: 16554, 17502: 16555, 17503: 16556, 17504: 16557, 17505: 16558, 17506: 16559, 17507: 16560, 17508: 16561, 17509: 16562, 17510: 16563, 17511: 16564, 17512: 16565, 17513: 16566, 17514: 16567, 17515: 16568, 17516: 16569, 17517: 16570, 17518: 16571, 17519: 16572, 17520: 16573, 17521: 16574, 17522: 16575, 17523: 16576, 17524: 16577, 17525: 16578, 17526: 16579, 17527: 16580, 17528: 16581, 17529: 16582, 17530: 16583, 17531: 16584, 17532: 16585, 17533: 16586, 17534: 16587, 17535: 16588, 17536: 16589, 17537: 16590, 17538: 16591, 17539: 16592, 17540: 16593, 17541: 16594, 17542: 16595, 17543: 16596, 17544: 16597, 17545: 16598, 17546: 16599, 17547: 16600, 17548: 16601, 17549: 16602, 17550: 16603, 17551: 16604, 17552: 16605, 17553: 16606, 17554: 16607, 17555: 16608, 17556: 16609, 17557: 16610, 17558: 16611, 17561: 16612, 17562: 16613, 17563: 16614, 17564: 16615, 17565: 16616, 17566: 16617, 17567: 16618, 17568: 16619, 17569: 16620, 17570: 16621, 17571: 16622, 17572: 16623, 17573: 16624, 17574: 16625, 17575: 16626, 17576: 16627, 17577: 16628, 17578: 16629, 17579: 16630, 17580: 16631, 17581: 16632, 17582: 16633, 17583: 16634, 17584: 16635, 17585: 16636, 17586: 16637, 17587: 16638, 17588: 16639, 17604: 16640, 17605: 16641, 17606: 16642, 17607: 16643, 17608: 16644, 17609: 16645, 17610: 16646, 17611: 16647, 17612: 16648, 17613: 16649, 17614: 16650, 17615: 16651, 17616: 16652, 17617: 16653, 17618: 16654, 17619: 16655, 17620: 16656, 17621: 16657, 17622: 16658, 17623: 16659, 17624: 16660, 17625: 16661, 17626: 16662, 17627: 16663, 17628: 16664, 17629: 16665, 17630: 16666, 17631: 16667, 17632: 16668, 17633: 16669, 17634: 16670, 17635: 16671, 17636: 16672, 17637: 16673, 17638: 16674, 17639: 16675, 17640: 16676, 17641: 16677, 17643: 16678, 17644: 16679, 17645: 16680, 17646: 16681, 17647: 16682, 17648: 16683, 17649: 16684, 17650: 16685, 17651: 16686, 17652: 16687, 17653: 16688, 17654: 16689, 17655: 16690, 17656: 16691, 17657: 16692, 17658: 16693, 17659: 16694, 17660: 16695, 17661: 16696, 17662: 16697, 17663: 16698, 17664: 16699, 17665: 16700, 17666: 16701, 17667: 16702, 17668: 16703, 17669: 16704, 17670: 16705, 17671: 16706, 17672: 16707, 17673: 16708, 17674: 16709, 17675: 16710, 17676: 16711, 17677: 16712, 17678: 16713, 17679: 16714, 17680: 16715, 17681: 16716, 17682: 16717, 17683: 16718, 17684: 16719, 17685: 16720, 17686: 16721, 17687: 16722, 17688: 16723, 17698: 16724, 17699: 16725, 17700: 16726, 17701: 16727, 17702: 16728, 17703: 16729, 17704: 16730, 17705: 16731, 17706: 16732, 17707: 16733, 17708: 16734, 17709: 16735, 17710: 16736, 17711: 16737, 17712: 16738, 17713: 16739, 17714: 16740, 17715: 16741, 17716: 16742, 17717: 16743, 17718: 16744, 17719: 16745, 17720: 16746, 17721: 16747, 17722: 16748, 17723: 16749, 17724: 16750, 17725: 16751, 17726: 16752, 17727: 16753, 17728: 16754, 17729: 16755, 17730: 16756, 17731: 16757, 17732: 16758, 17733: 16759, 17734: 16760, 17735: 16761, 17736: 16762, 17737: 16763, 17738: 16764, 17739: 16765, 17740: 16766, 17741: 16767, 17742: 16768, 17743: 16769, 17744: 16770, 17745: 16771, 17746: 16772, 17747: 16773, 17748: 16774, 17749: 16775, 17750: 16776, 17751: 16777, 17752: 16778, 17753: 16779, 17754: 16780, 17755: 16781, 17756: 16782, 17757: 16783, 17758: 16784, 17759: 16785, 17760: 16786, 17761: 16787, 17762: 16788, 17763: 16789, 17764: 16790, 17765: 16791, 17766: 16792, 17767: 16793, 17768: 16794, 17769: 16795, 17770: 16796, 17771: 16797, 17772: 16798, 17773: 16799, 17774: 16800, 17775: 16801, 17782: 16802, 17785: 16803, 17786: 16804, 17787: 16805, 17788: 16806, 17789: 16807, 17790: 16808, 17791: 16809, 17792: 16810, 17793: 16811, 17794: 16812, 17795: 16813, 17796: 16814, 17797: 16815, 17798: 16816, 17799: 16817, 17800: 16818, 17801: 16819, 17802: 16820, 17803: 16821, 17804: 16822, 17805: 16823, 17806: 16824, 17810: 16825, 17811: 16826, 17812: 16827, 17813: 16828, 17814: 16829, 17815: 16830, 17816: 16831, 17817: 16832, 17832: 16833, 17833: 16834, 17834: 16835, 17835: 16836, 17836: 16837, 17837: 16838, 17838: 16839, 17839: 16840, 17840: 16841, 17841: 16842, 17842: 16843, 17843: 16844, 17844: 16845, 17845: 16846, 17846: 16847, 17847: 16848, 17848: 16849, 17849: 16850, 17850: 16851, 17851: 16852, 17852: 16853, 17853: 16854, 17854: 16855, 17855: 16856, 17864: 16857, 17865: 16858, 17866: 16859, 17867: 16860, 17868: 16861, 17869: 16862, 17870: 16863, 17871: 16864, 17872: 16865, 17873: 16866, 17874: 16867, 17875: 16868, 17876: 16869, 17877: 16870, 17878: 16871, 17879: 16872, 17880: 16873, 17881: 16874, 17882: 16875, 17883: 16876, 17884: 16877, 17885: 16878, 17886: 16879, 17887: 16880, 17888: 16881, 17889: 16882, 17890: 16883, 17891: 16884, 17897: 16885, 17898: 16886, 17899: 16887, 17900: 16888, 17901: 16889, 17902: 16890, 17903: 16891, 17904: 16892, 17905: 16893, 17906: 16894, 17907: 16895, 17908: 16896, 17909: 16897, 17910: 16898, 17911: 16899, 17912: 16900, 17913: 16901, 17914: 16902, 17915: 16903, 17916: 16904, 17924: 16905, 17925: 16906, 17926: 16907, 17927: 16908, 17928: 16909, 17929: 16910, 17930: 16911, 17933: 16912, 17934: 16913, 17935: 16914, 17936: 16915, 17937: 16916, 17938: 16917, 17939: 16918, 17940: 16919, 17941: 16920, 17942: 16921, 17943: 16922, 17944: 16923, 17945: 16924, 17946: 16925, 17947: 16926, 17948: 16927, 17949: 16928, 17950: 16929, 17951: 16930, 17952: 16931, 17953: 16932, 17954: 16933, 17955: 16934, 17956: 16935, 17957: 16936, 17958: 16937, 17959: 16938, 17960: 16939, 17961: 16940, 17962: 16941, 17963: 16942, 17964: 16943, 17965: 16944, 17966: 16945, 17967: 16946, 17968: 16947, 17969: 16948, 17970: 16949, 17971: 16950, 17972: 16951, 17973: 16952, 17974: 16953, 17975: 16954, 17976: 16955, 17977: 16956, 17978: 16957, 17979: 16958, 17980: 16959, 17981: 16960, 17982: 16961, 17983: 16962, 17984: 16963, 17985: 16964, 17986: 16965, 17987: 16966, 17988: 16967, 17989: 16968, 17990: 16969, 17991: 16970, 17992: 16971, 17993: 16972, 17994: 16973, 17995: 16974, 17996: 16975, 17997: 16976, 17998: 16977, 17999: 16978, 18000: 16979, 18001: 16980, 18002: 16981, 18003: 16982, 18004: 16983, 18005: 16984, 18006: 16985, 18007: 16986, 18008: 16987, 18009: 16988, 18010: 16989, 18011: 16990, 18012: 16991, 18013: 16992, 18014: 16993, 18021: 16994, 18022: 16995, 18023: 16996, 18024: 16997, 18025: 16998, 18026: 16999, 18027: 17000, 18028: 17001, 18029: 17002, 18030: 17003, 18031: 17004, 18032: 17005, 18033: 17006, 18034: 17007, 18035: 17008, 18036: 17009, 18037: 17010, 18038: 17011, 18039: 17012, 18040: 17013, 18041: 17014, 18042: 17015, 18043: 17016, 18044: 17017, 18045: 17018, 18046: 17019, 18047: 17020, 18048: 17021, 18049: 17022, 18050: 17023, 18051: 17024, 18052: 17025, 18053: 17026, 18054: 17027, 18055: 17028, 18056: 17029, 18057: 17030, 18058: 17031, 18059: 17032, 18060: 17033, 18061: 17034, 18062: 17035, 18063: 17036, 18064: 17037, 18065: 17038, 18066: 17039, 18067: 17040, 18068: 17041, 18069: 17042, 18070: 17043, 18071: 17044, 18072: 17045, 18073: 17046, 18074: 17047, 18075: 17048, 18076: 17049, 18077: 17050, 18078: 17051, 18079: 17052, 18080: 17053, 18081: 17054, 18082: 17055, 18083: 17056, 18084: 17057, 18085: 17058, 18086: 17059, 18087: 17060, 18088: 17061, 18089: 17062, 18090: 17063, 18091: 17064, 18092: 17065, 18093: 17066, 18094: 17067, 18095: 17068, 18096: 17069, 18097: 17070, 18098: 17071, 18099: 17072, 18100: 17073, 18101: 17074, 18102: 17075, 18103: 17076, 18104: 17077, 18105: 17078, 18106: 17079, 18107: 17080, 18108: 17081, 18109: 17082, 18110: 17083, 18111: 17084, 18112: 17085, 18113: 17086, 18114: 17087, 18115: 17088, 18116: 17089, 18117: 17090, 18118: 17091, 18119: 17092, 18120: 17093, 18121: 17094, 18122: 17095, 18123: 17096, 18124: 17097, 18125: 17098, 18126: 17099, 18127: 17100, 18128: 17101, 18129: 17102, 18130: 17103, 18131: 17104, 18132: 17105, 18133: 17106, 18134: 17107, 18135: 17108, 18136: 17109, 18144: 17110, 18145: 17111, 18146: 17112, 18147: 17113, 18148: 17114, 18149: 17115, 18150: 17116, 18151: 17117, 18152: 17118, 18153: 17119, 18154: 17120, 18155: 17121, 18156: 17122, 18157: 17123, 18158: 17124, 18159: 17125, 18160: 17126, 18161: 17127, 18162: 17128, 18163: 17129, 18164: 17130, 18165: 17131, 18166: 17132, 18167: 17133, 18168: 17134, 18169: 17135, 18170: 17136, 18171: 17137, 18172: 17138, 18173: 17139, 18174: 17140, 18175: 17141, 18176: 17142, 18177: 17143, 18178: 17144, 18179: 17145, 18180: 17146, 18181: 17147, 18182: 17148, 18183: 17149, 18184: 17150, 18185: 17151, 18186: 17152, 18187: 17153, 18188: 17154, 18189: 17155, 18190: 17156, 18191: 17157, 18192: 17158, 18193: 17159, 18194: 17160, 18195: 17161, 18196: 17162, 18197: 17163, 18198: 17164, 18199: 17165, 18200: 17166, 18201: 17167, 18202: 17168, 18203: 17169, 18204: 17170, 18205: 17171, 18206: 17172, 18207: 17173, 18208: 17174, 18209: 17175, 18210: 17176, 18211: 17177, 18212: 17178, 18213: 17179, 18214: 17180, 18215: 17181, 18222: 17182, 18223: 17183, 18224: 17184, 18225: 17185, 18226: 17186, 18227: 17187, 18228: 17188, 18229: 17189, 18230: 17190, 18231: 17191, 18232: 17192, 18233: 17193, 18234: 17194, 18235: 17195, 18236: 17196, 18237: 17197, 18238: 17198, 18239: 17199, 18240: 17200, 18241: 17201, 18242: 17202, 18243: 17203, 18244: 17204, 18245: 17205, 18246: 17206, 18247: 17207, 18248: 17208, 18249: 17209, 18250: 17210, 18251: 17211, 18252: 17212, 18253: 17213, 18254: 17214, 18255: 17215, 18256: 17216, 18257: 17217, 18258: 17218, 18259: 17219, 18260: 17220, 18261: 17221, 18262: 17222, 18263: 17223, 18264: 17224, 18265: 17225, 18266: 17226, 18267: 17227, 18268: 17228, 18269: 17229, 18270: 17230, 18271: 17231, 18272: 17232, 18273: 17233, 18274: 17234, 18275: 17235, 18276: 17236, 18277: 17237, 18278: 17238, 18279: 17239, 18280: 17240, 18281: 17241, 18282: 17242, 18283: 17243, 18284: 17244, 18285: 17245, 18286: 17246, 18287: 17247, 18288: 17248, 18289: 17249, 18290: 17250, 18291: 17251, 18292: 17252, 18293: 17253, 18294: 17254, 18295: 17255, 18296: 17256, 18297: 17257, 18298: 17258, 18299: 17259, 18300: 17260, 18301: 17261, 18302: 17262, 18304: 17263, 18305: 17264, 18306: 17265, 18307: 17266, 18308: 17267, 18309: 17268, 18310: 17269, 18311: 17270, 18312: 17271, 18313: 17272, 18314: 17273, 18315: 17274, 18316: 17275, 18317: 17276, 18318: 17277, 18319: 17278, 18320: 17279, 18321: 17280, 18322: 17281, 18323: 17282, 18324: 17283, 18325: 17284, 18326: 17285, 18327: 17286, 18328: 17287, 18329: 17288, 18330: 17289, 18331: 17290, 18332: 17291, 18333: 17292, 18334: 17293, 18335: 17294, 18336: 17295, 18337: 17296, 18338: 17297, 18339: 17298, 18340: 17299, 18341: 17300, 18342: 17301, 18343: 17302, 18344: 17303, 18345: 17304, 18346: 17305, 18347: 17306, 18348: 17307, 18349: 17308, 18350: 17309, 18351: 17310, 18352: 17311, 18353: 17312, 18354: 17313, 18355: 17314, 18356: 17315, 18357: 17316, 18358: 17317, 18359: 17318, 18360: 17319, 18361: 17320, 18362: 17321, 18363: 17322, 18364: 17323, 18365: 17324, 18366: 17325, 18367: 17326, 18368: 17327, 18369: 17328, 18370: 17329, 18371: 17330, 18372: 17331, 18373: 17332, 18374: 17333, 18375: 17334, 18376: 17335, 18377: 17336, 18378: 17337, 18379: 17338, 18380: 17339, 18381: 17340, 18382: 17341, 18383: 17342, 18384: 17343, 18385: 17344, 18386: 17345, 18387: 17346, 18388: 17347, 18389: 17348, 18390: 17349, 18391: 17350, 18392: 17351, 18393: 17352, 18394: 17353, 18395: 17354, 18396: 17355, 18397: 17356, 18398: 17357, 18399: 17358, 18400: 17359, 18401: 17360, 18402: 17361, 18403: 17362, 18404: 17363, 18405: 17364, 18406: 17365, 18407: 17366, 18408: 17367, 18409: 17368, 18410: 17369, 18411: 17370, 18412: 17371, 18413: 17372, 18423: 17373, 18424: 17374, 18425: 17375, 18426: 17376, 18427: 17377, 18428: 17378, 18429: 17379, 18430: 17380, 18431: 17381, 18432: 17382, 18433: 17383, 18434: 17384, 18435: 17385, 18436: 17386, 18437: 17387, 18438: 17388, 18439: 17389, 18440: 17390, 18441: 17391, 18442: 17392, 18443: 17393, 18444: 17394, 18445: 17395, 18446: 17396, 18447: 17397, 18448: 17398, 18449: 17399, 18450: 17400, 18451: 17401, 18452: 17402, 18453: 17403, 18454: 17404, 18455: 17405, 18456: 17406, 18457: 17407, 18458: 17408, 18459: 17409, 18460: 17410, 18461: 17411, 18462: 17412, 18463: 17413, 18464: 17414, 18465: 17415, 18466: 17416, 18467: 17417, 18468: 17418, 18469: 17419, 18470: 17420, 18471: 17421, 18472: 17422, 18510: 17423, 18511: 17424, 18512: 17425, 18513: 17426, 18514: 17427, 18515: 17428, 18516: 17429, 18517: 17430, 18518: 17431, 18519: 17432, 18520: 17433, 18521: 17434, 18522: 17435, 18523: 17436, 18524: 17437, 18525: 17438, 18526: 17439, 18527: 17440, 18528: 17441, 18529: 17442, 18530: 17443, 18531: 17444, 18532: 17445, 18533: 17446, 18534: 17447, 18535: 17448, 18536: 17449, 18537: 17450, 18538: 17451, 18539: 17452, 18540: 17453, 18541: 17454, 18542: 17455, 18543: 17456, 18544: 17457, 18545: 17458, 18546: 17459, 18547: 17460, 18548: 17461, 18549: 17462, 18550: 17463, 18551: 17464, 18552: 17465, 18553: 17466, 18554: 17467, 18555: 17468, 18556: 17469, 18557: 17470, 18558: 17471, 18559: 17472, 18560: 17473, 18561: 17474, 18562: 17475, 18563: 17476, 18570: 17477, 18571: 17478, 18572: 17479, 18573: 17480, 18574: 17481, 18575: 17482, 18576: 17483, 18577: 17484, 18578: 17485, 18579: 17486, 18580: 17487, 18581: 17488, 18582: 17489, 18583: 17490, 18584: 17491, 18585: 17492, 18586: 17493, 18587: 17494, 18588: 17495, 18589: 17496, 18590: 17497, 18591: 17498, 18592: 17499, 18593: 17500, 18594: 17501, 18598: 17502, 18599: 17503, 18600: 17504, 18601: 17505, 18602: 17506, 18603: 17507, 18604: 17508, 18605: 17509, 18606: 17510, 18607: 17511, 18608: 17512, 18609: 17513, 18610: 17514, 18611: 17515, 18612: 17516, 18613: 17517, 18614: 17518, 18615: 17519, 18616: 17520, 18617: 17521, 18618: 17522, 18619: 17523, 18620: 17524, 18621: 17525, 18629: 17526, 18630: 17527, 18631: 17528, 18632: 17529, 18633: 17530, 18634: 17531, 18635: 17532, 18636: 17533, 18637: 17534, 18638: 17535, 18639: 17536, 18640: 17537, 18641: 17538, 18642: 17539, 18643: 17540, 18644: 17541, 18645: 17542, 18646: 17543, 18647: 17544, 18648: 17545, 18649: 17546, 18650: 17547, 18651: 17548, 18652: 17549, 18653: 17550, 18654: 17551, 18655: 17552, 18656: 17553, 18657: 17554, 18658: 17555, 18659: 17556, 18660: 17557, 18661: 17558, 18662: 17559, 18663: 17560, 18664: 17561, 18665: 17562, 18666: 17563, 18667: 17564, 18668: 17565, 18669: 17566, 18670: 17567, 18671: 17568, 18672: 17569, 18673: 17570, 18674: 17571, 18675: 17572, 18676: 17573, 18677: 17574, 18678: 17575, 18679: 17576, 18680: 17577, 18681: 17578, 18682: 17579, 18683: 17580, 18684: 17581, 18685: 17582, 18686: 17583, 18687: 17584, 18688: 17585, 18689: 17586, 18690: 17587, 18691: 17588, 18692: 17589, 18693: 17590, 18694: 17591, 18695: 17592, 18696: 17593, 18697: 17594, 18705: 17595, 18706: 17596, 18707: 17597, 18708: 17598, 18709: 17599, 18710: 17600, 18711: 17601, 18712: 17602, 18713: 17603, 18714: 17604, 18715: 17605, 18716: 17606, 18717: 17607, 18718: 17608, 18719: 17609, 18720: 17610, 18721: 17611, 18722: 17612, 18723: 17613, 18724: 17614, 18725: 17615, 18726: 17616, 18727: 17617, 18728: 17618, 18729: 17619, 18733: 17620, 18734: 17621, 18735: 17622, 18736: 17623, 18737: 17624, 18738: 17625, 18739: 17626, 18740: 17627, 18741: 17628, 18742: 17629, 18743: 17630, 18744: 17631}\n"
     ]
    }
   ],
   "source": [
    "keys = unique_list\n",
    "values = usenew\n",
    "dictionary = dict(zip(keys, values))\n",
    "print(dictionary) # {'a': 1, 'b': 2, 'c': 3}"
   ]
  },
  {
   "cell_type": "code",
   "execution_count": 26,
   "id": "1726c6aa",
   "metadata": {},
   "outputs": [],
   "source": [
    "s = df2['artistID']\n",
    "\n",
    "df2['artistID'] = s.map(dictionary)"
   ]
  },
  {
   "cell_type": "code",
   "execution_count": 27,
   "id": "fb926189",
   "metadata": {},
   "outputs": [
    {
     "data": {
      "text/plain": [
       "352698"
      ]
     },
     "execution_count": 27,
     "metadata": {},
     "output_type": "execute_result"
    }
   ],
   "source": [
    "df2['weight'].max()"
   ]
  },
  {
   "cell_type": "code",
   "execution_count": 28,
   "id": "182ec6b8",
   "metadata": {},
   "outputs": [
    {
     "data": {
      "text/html": [
       "<div>\n",
       "<style scoped>\n",
       "    .dataframe tbody tr th:only-of-type {\n",
       "        vertical-align: middle;\n",
       "    }\n",
       "\n",
       "    .dataframe tbody tr th {\n",
       "        vertical-align: top;\n",
       "    }\n",
       "\n",
       "    .dataframe thead th {\n",
       "        text-align: right;\n",
       "    }\n",
       "</style>\n",
       "<table border=\"1\" class=\"dataframe\">\n",
       "  <thead>\n",
       "    <tr style=\"text-align: right;\">\n",
       "      <th></th>\n",
       "      <th>userID</th>\n",
       "      <th>artistID</th>\n",
       "      <th>weight</th>\n",
       "    </tr>\n",
       "  </thead>\n",
       "  <tbody>\n",
       "    <tr>\n",
       "      <th>0</th>\n",
       "      <td>0</td>\n",
       "      <td>45</td>\n",
       "      <td>13883</td>\n",
       "    </tr>\n",
       "    <tr>\n",
       "      <th>1</th>\n",
       "      <td>0</td>\n",
       "      <td>46</td>\n",
       "      <td>11690</td>\n",
       "    </tr>\n",
       "    <tr>\n",
       "      <th>2</th>\n",
       "      <td>0</td>\n",
       "      <td>47</td>\n",
       "      <td>11351</td>\n",
       "    </tr>\n",
       "    <tr>\n",
       "      <th>3</th>\n",
       "      <td>0</td>\n",
       "      <td>48</td>\n",
       "      <td>10300</td>\n",
       "    </tr>\n",
       "    <tr>\n",
       "      <th>4</th>\n",
       "      <td>0</td>\n",
       "      <td>49</td>\n",
       "      <td>8983</td>\n",
       "    </tr>\n",
       "    <tr>\n",
       "      <th>...</th>\n",
       "      <td>...</td>\n",
       "      <td>...</td>\n",
       "      <td>...</td>\n",
       "    </tr>\n",
       "    <tr>\n",
       "      <th>92829</th>\n",
       "      <td>1891</td>\n",
       "      <td>17615</td>\n",
       "      <td>337</td>\n",
       "    </tr>\n",
       "    <tr>\n",
       "      <th>92830</th>\n",
       "      <td>1891</td>\n",
       "      <td>17616</td>\n",
       "      <td>297</td>\n",
       "    </tr>\n",
       "    <tr>\n",
       "      <th>92831</th>\n",
       "      <td>1891</td>\n",
       "      <td>17617</td>\n",
       "      <td>281</td>\n",
       "    </tr>\n",
       "    <tr>\n",
       "      <th>92832</th>\n",
       "      <td>1891</td>\n",
       "      <td>17618</td>\n",
       "      <td>280</td>\n",
       "    </tr>\n",
       "    <tr>\n",
       "      <th>92833</th>\n",
       "      <td>1891</td>\n",
       "      <td>17619</td>\n",
       "      <td>263</td>\n",
       "    </tr>\n",
       "  </tbody>\n",
       "</table>\n",
       "<p>92834 rows × 3 columns</p>\n",
       "</div>"
      ],
      "text/plain": [
       "       userID  artistID  weight\n",
       "0           0        45   13883\n",
       "1           0        46   11690\n",
       "2           0        47   11351\n",
       "3           0        48   10300\n",
       "4           0        49    8983\n",
       "...       ...       ...     ...\n",
       "92829    1891     17615     337\n",
       "92830    1891     17616     297\n",
       "92831    1891     17617     281\n",
       "92832    1891     17618     280\n",
       "92833    1891     17619     263\n",
       "\n",
       "[92834 rows x 3 columns]"
      ]
     },
     "execution_count": 28,
     "metadata": {},
     "output_type": "execute_result"
    }
   ],
   "source": [
    "df2"
   ]
  },
  {
   "cell_type": "code",
   "execution_count": 29,
   "id": "b2ef80de",
   "metadata": {},
   "outputs": [
    {
     "data": {
      "text/html": [
       "<div>\n",
       "<style scoped>\n",
       "    .dataframe tbody tr th:only-of-type {\n",
       "        vertical-align: middle;\n",
       "    }\n",
       "\n",
       "    .dataframe tbody tr th {\n",
       "        vertical-align: top;\n",
       "    }\n",
       "\n",
       "    .dataframe thead th {\n",
       "        text-align: right;\n",
       "    }\n",
       "</style>\n",
       "<table border=\"1\" class=\"dataframe\">\n",
       "  <thead>\n",
       "    <tr style=\"text-align: right;\">\n",
       "      <th></th>\n",
       "      <th>userID</th>\n",
       "      <th>friendID</th>\n",
       "    </tr>\n",
       "  </thead>\n",
       "  <tbody>\n",
       "    <tr>\n",
       "      <th>0</th>\n",
       "      <td>2</td>\n",
       "      <td>275</td>\n",
       "    </tr>\n",
       "    <tr>\n",
       "      <th>1</th>\n",
       "      <td>2</td>\n",
       "      <td>428</td>\n",
       "    </tr>\n",
       "    <tr>\n",
       "      <th>2</th>\n",
       "      <td>2</td>\n",
       "      <td>515</td>\n",
       "    </tr>\n",
       "    <tr>\n",
       "      <th>3</th>\n",
       "      <td>2</td>\n",
       "      <td>761</td>\n",
       "    </tr>\n",
       "    <tr>\n",
       "      <th>4</th>\n",
       "      <td>2</td>\n",
       "      <td>831</td>\n",
       "    </tr>\n",
       "    <tr>\n",
       "      <th>...</th>\n",
       "      <td>...</td>\n",
       "      <td>...</td>\n",
       "    </tr>\n",
       "    <tr>\n",
       "      <th>25429</th>\n",
       "      <td>2099</td>\n",
       "      <td>1801</td>\n",
       "    </tr>\n",
       "    <tr>\n",
       "      <th>25430</th>\n",
       "      <td>2099</td>\n",
       "      <td>2006</td>\n",
       "    </tr>\n",
       "    <tr>\n",
       "      <th>25431</th>\n",
       "      <td>2099</td>\n",
       "      <td>2016</td>\n",
       "    </tr>\n",
       "    <tr>\n",
       "      <th>25432</th>\n",
       "      <td>2100</td>\n",
       "      <td>586</td>\n",
       "    </tr>\n",
       "    <tr>\n",
       "      <th>25433</th>\n",
       "      <td>2100</td>\n",
       "      <td>607</td>\n",
       "    </tr>\n",
       "  </tbody>\n",
       "</table>\n",
       "<p>25434 rows × 2 columns</p>\n",
       "</div>"
      ],
      "text/plain": [
       "       userID  friendID\n",
       "0           2       275\n",
       "1           2       428\n",
       "2           2       515\n",
       "3           2       761\n",
       "4           2       831\n",
       "...       ...       ...\n",
       "25429    2099      1801\n",
       "25430    2099      2006\n",
       "25431    2099      2016\n",
       "25432    2100       586\n",
       "25433    2100       607\n",
       "\n",
       "[25434 rows x 2 columns]"
      ]
     },
     "execution_count": 29,
     "metadata": {},
     "output_type": "execute_result"
    }
   ],
   "source": [
    "df3 = pd.read_csv(\"data/hetrec2011-lastfm-2k/user_friends.csv\")\n",
    "df3"
   ]
  },
  {
   "cell_type": "code",
   "execution_count": 30,
   "id": "a9418444",
   "metadata": {},
   "outputs": [],
   "source": [
    "# Since the ids start at 2, we get them to start at 0. We also need to have the max value 1 less than the no of unique values.\n",
    "df3[\"userID\"] = df3[\"userID\"].apply(lambda x: str(x-2))\n",
    "df3[\"friendID\"] = df3[\"friendID\"].apply(lambda x: str(x-2))\n",
    "\n",
    "df3['userID'] = pd.to_numeric(df3['userID'])\n",
    "df3['friendID'] = pd.to_numeric(df3['friendID'])"
   ]
  },
  {
   "cell_type": "code",
   "execution_count": 31,
   "id": "057aef15",
   "metadata": {},
   "outputs": [
    {
     "data": {
      "text/plain": [
       "2098"
      ]
     },
     "execution_count": 31,
     "metadata": {},
     "output_type": "execute_result"
    }
   ],
   "source": [
    "df3['friendID'].max()"
   ]
  },
  {
   "cell_type": "code",
   "execution_count": 32,
   "id": "6affff9a",
   "metadata": {},
   "outputs": [
    {
     "data": {
      "text/plain": [
       "1892"
      ]
     },
     "execution_count": 32,
     "metadata": {},
     "output_type": "execute_result"
    }
   ],
   "source": [
    "df3['friendID'].nunique()"
   ]
  },
  {
   "cell_type": "code",
   "execution_count": 33,
   "id": "ed1742f9",
   "metadata": {},
   "outputs": [],
   "source": [
    "xyz =  np.array(df3['userID'])\n",
    "#zzz = np.array(df2['userID'])\n",
    "vals = []\n",
    "for i in range(len(xyz)):\n",
    "    if xyz[i] not in vals:\n",
    "        vals.append(xyz[i])"
   ]
  },
  {
   "cell_type": "code",
   "execution_count": 34,
   "id": "92478c7e",
   "metadata": {},
   "outputs": [
    {
     "data": {
      "text/plain": [
       "2098"
      ]
     },
     "execution_count": 34,
     "metadata": {},
     "output_type": "execute_result"
    }
   ],
   "source": [
    "unique_list = list(set(vals))\n",
    "unique_list.sort()\n",
    "unique_list[-1]"
   ]
  },
  {
   "cell_type": "code",
   "execution_count": 35,
   "id": "985f2b1e",
   "metadata": {},
   "outputs": [
    {
     "data": {
      "text/plain": [
       "1891"
      ]
     },
     "execution_count": 35,
     "metadata": {},
     "output_type": "execute_result"
    }
   ],
   "source": [
    "usenew = []\n",
    "for i in range(0, 1892):\n",
    "    usenew.append(i)\n",
    "\n",
    "usenew[-1]"
   ]
  },
  {
   "cell_type": "code",
   "execution_count": 36,
   "id": "0fe00bb4",
   "metadata": {},
   "outputs": [
    {
     "name": "stdout",
     "output_type": "stream",
     "text": [
      "{0: 0, 1: 1, 2: 2, 3: 3, 4: 4, 5: 5, 6: 6, 7: 7, 8: 8, 9: 9, 10: 10, 11: 11, 12: 12, 13: 13, 14: 14, 15: 15, 16: 16, 18: 17, 19: 18, 20: 19, 21: 20, 22: 21, 23: 22, 24: 23, 25: 24, 26: 25, 27: 26, 28: 27, 29: 28, 30: 29, 31: 30, 32: 31, 33: 32, 34: 33, 35: 34, 36: 35, 37: 36, 38: 37, 39: 38, 40: 39, 41: 40, 42: 41, 43: 42, 44: 43, 45: 44, 46: 45, 47: 46, 48: 47, 49: 48, 50: 49, 51: 50, 52: 51, 53: 52, 54: 53, 55: 54, 56: 55, 57: 56, 58: 57, 59: 58, 60: 59, 61: 60, 62: 61, 63: 62, 64: 63, 66: 64, 67: 65, 68: 66, 69: 67, 70: 68, 71: 69, 72: 70, 73: 71, 74: 72, 75: 73, 76: 74, 77: 75, 78: 76, 79: 77, 80: 78, 81: 79, 82: 80, 83: 81, 84: 82, 85: 83, 86: 84, 87: 85, 88: 86, 89: 87, 90: 88, 92: 89, 93: 90, 94: 91, 95: 92, 96: 93, 97: 94, 98: 95, 99: 96, 100: 97, 101: 98, 102: 99, 103: 100, 104: 101, 105: 102, 106: 103, 107: 104, 108: 105, 109: 106, 110: 107, 111: 108, 112: 109, 113: 110, 114: 111, 115: 112, 116: 113, 117: 114, 118: 115, 119: 116, 120: 117, 121: 118, 122: 119, 123: 120, 124: 121, 125: 122, 126: 123, 127: 124, 128: 125, 129: 126, 130: 127, 131: 128, 132: 129, 133: 130, 134: 131, 135: 132, 137: 133, 138: 134, 139: 135, 140: 136, 141: 137, 142: 138, 143: 139, 144: 140, 145: 141, 146: 142, 147: 143, 148: 144, 149: 145, 150: 146, 151: 147, 152: 148, 153: 149, 154: 150, 155: 151, 156: 152, 157: 153, 159: 154, 160: 155, 161: 156, 162: 157, 164: 158, 166: 159, 168: 160, 169: 161, 170: 162, 171: 163, 172: 164, 173: 165, 174: 166, 175: 167, 176: 168, 177: 169, 178: 170, 179: 171, 180: 172, 181: 173, 182: 174, 183: 175, 184: 176, 185: 177, 186: 178, 187: 179, 188: 180, 189: 181, 190: 182, 191: 183, 192: 184, 193: 185, 194: 186, 196: 187, 198: 188, 199: 189, 200: 190, 201: 191, 202: 192, 203: 193, 204: 194, 205: 195, 206: 196, 207: 197, 208: 198, 209: 199, 210: 200, 211: 201, 212: 202, 213: 203, 214: 204, 215: 205, 216: 206, 217: 207, 218: 208, 221: 209, 222: 210, 223: 211, 224: 212, 225: 213, 226: 214, 227: 215, 228: 216, 229: 217, 230: 218, 231: 219, 232: 220, 233: 221, 234: 222, 235: 223, 236: 224, 238: 225, 239: 226, 240: 227, 241: 228, 242: 229, 245: 230, 246: 231, 247: 232, 248: 233, 249: 234, 250: 235, 251: 236, 252: 237, 253: 238, 254: 239, 255: 240, 256: 241, 257: 242, 258: 243, 259: 244, 260: 245, 261: 246, 262: 247, 263: 248, 264: 249, 265: 250, 266: 251, 267: 252, 268: 253, 269: 254, 271: 255, 272: 256, 273: 257, 275: 258, 276: 259, 277: 260, 278: 261, 279: 262, 280: 263, 281: 264, 282: 265, 283: 266, 284: 267, 286: 268, 287: 269, 288: 270, 289: 271, 290: 272, 291: 273, 292: 274, 293: 275, 294: 276, 295: 277, 296: 278, 297: 279, 298: 280, 299: 281, 300: 282, 301: 283, 302: 284, 303: 285, 304: 286, 305: 287, 306: 288, 308: 289, 309: 290, 310: 291, 311: 292, 312: 293, 313: 294, 314: 295, 315: 296, 316: 297, 317: 298, 318: 299, 319: 300, 320: 301, 322: 302, 323: 303, 324: 304, 325: 305, 326: 306, 327: 307, 328: 308, 329: 309, 330: 310, 331: 311, 332: 312, 333: 313, 334: 314, 335: 315, 336: 316, 337: 317, 338: 318, 339: 319, 340: 320, 341: 321, 342: 322, 343: 323, 344: 324, 345: 325, 346: 326, 347: 327, 348: 328, 349: 329, 350: 330, 351: 331, 352: 332, 353: 333, 354: 334, 355: 335, 356: 336, 357: 337, 358: 338, 359: 339, 360: 340, 361: 341, 362: 342, 363: 343, 364: 344, 365: 345, 366: 346, 367: 347, 368: 348, 369: 349, 370: 350, 372: 351, 373: 352, 374: 353, 375: 354, 376: 355, 378: 356, 380: 357, 381: 358, 383: 359, 384: 360, 385: 361, 386: 362, 388: 363, 389: 364, 390: 365, 391: 366, 392: 367, 393: 368, 394: 369, 395: 370, 396: 371, 397: 372, 398: 373, 399: 374, 400: 375, 401: 376, 402: 377, 403: 378, 404: 379, 405: 380, 406: 381, 407: 382, 408: 383, 409: 384, 410: 385, 411: 386, 412: 387, 413: 388, 414: 389, 415: 390, 416: 391, 417: 392, 418: 393, 419: 394, 421: 395, 422: 396, 423: 397, 424: 398, 425: 399, 426: 400, 428: 401, 429: 402, 430: 403, 431: 404, 432: 405, 433: 406, 434: 407, 435: 408, 436: 409, 437: 410, 438: 411, 439: 412, 440: 413, 441: 414, 442: 415, 444: 416, 445: 417, 447: 418, 448: 419, 449: 420, 450: 421, 451: 422, 452: 423, 453: 424, 454: 425, 455: 426, 456: 427, 457: 428, 458: 429, 459: 430, 460: 431, 461: 432, 462: 433, 463: 434, 464: 435, 465: 436, 466: 437, 467: 438, 468: 439, 469: 440, 470: 441, 471: 442, 472: 443, 473: 444, 474: 445, 475: 446, 476: 447, 477: 448, 478: 449, 479: 450, 480: 451, 482: 452, 483: 453, 484: 454, 485: 455, 486: 456, 487: 457, 488: 458, 489: 459, 490: 460, 491: 461, 492: 462, 493: 463, 494: 464, 495: 465, 496: 466, 497: 467, 498: 468, 499: 469, 500: 470, 501: 471, 502: 472, 504: 473, 505: 474, 506: 475, 507: 476, 508: 477, 509: 478, 510: 479, 511: 480, 512: 481, 513: 482, 514: 483, 515: 484, 516: 485, 517: 486, 518: 487, 519: 488, 521: 489, 523: 490, 524: 491, 525: 492, 527: 493, 528: 494, 529: 495, 530: 496, 531: 497, 532: 498, 533: 499, 534: 500, 535: 501, 536: 502, 537: 503, 538: 504, 539: 505, 540: 506, 541: 507, 542: 508, 543: 509, 544: 510, 545: 511, 546: 512, 547: 513, 548: 514, 549: 515, 550: 516, 551: 517, 553: 518, 554: 519, 555: 520, 556: 521, 557: 522, 558: 523, 559: 524, 560: 525, 561: 526, 563: 527, 564: 528, 565: 529, 566: 530, 567: 531, 568: 532, 569: 533, 570: 534, 571: 535, 572: 536, 573: 537, 574: 538, 575: 539, 576: 540, 577: 541, 578: 542, 579: 543, 580: 544, 581: 545, 582: 546, 583: 547, 584: 548, 585: 549, 587: 550, 588: 551, 590: 552, 591: 553, 592: 554, 593: 555, 594: 556, 596: 557, 599: 558, 600: 559, 601: 560, 602: 561, 603: 562, 604: 563, 605: 564, 606: 565, 607: 566, 609: 567, 610: 568, 611: 569, 612: 570, 613: 571, 614: 572, 615: 573, 616: 574, 617: 575, 618: 576, 619: 577, 620: 578, 621: 579, 622: 580, 623: 581, 625: 582, 626: 583, 627: 584, 629: 585, 630: 586, 631: 587, 632: 588, 633: 589, 634: 590, 635: 591, 636: 592, 637: 593, 638: 594, 639: 595, 640: 596, 641: 597, 642: 598, 643: 599, 644: 600, 645: 601, 647: 602, 648: 603, 649: 604, 650: 605, 652: 606, 653: 607, 654: 608, 655: 609, 656: 610, 657: 611, 658: 612, 659: 613, 660: 614, 661: 615, 662: 616, 663: 617, 664: 618, 665: 619, 666: 620, 667: 621, 668: 622, 669: 623, 670: 624, 671: 625, 672: 626, 673: 627, 674: 628, 675: 629, 676: 630, 677: 631, 678: 632, 679: 633, 680: 634, 681: 635, 682: 636, 683: 637, 684: 638, 685: 639, 686: 640, 687: 641, 688: 642, 689: 643, 690: 644, 691: 645, 692: 646, 693: 647, 694: 648, 695: 649, 696: 650, 697: 651, 698: 652, 699: 653, 700: 654, 701: 655, 702: 656, 703: 657, 704: 658, 705: 659, 706: 660, 707: 661, 708: 662, 709: 663, 710: 664, 711: 665, 712: 666, 713: 667, 714: 668, 715: 669, 716: 670, 717: 671, 718: 672, 719: 673, 720: 674, 721: 675, 723: 676, 724: 677, 725: 678, 726: 679, 727: 680, 728: 681, 729: 682, 730: 683, 731: 684, 732: 685, 733: 686, 734: 687, 735: 688, 736: 689, 737: 690, 739: 691, 740: 692, 741: 693, 742: 694, 743: 695, 744: 696, 745: 697, 747: 698, 748: 699, 749: 700, 750: 701, 751: 702, 752: 703, 754: 704, 755: 705, 756: 706, 757: 707, 758: 708, 759: 709, 760: 710, 761: 711, 762: 712, 763: 713, 765: 714, 766: 715, 767: 716, 768: 717, 769: 718, 770: 719, 771: 720, 774: 721, 775: 722, 776: 723, 777: 724, 778: 725, 779: 726, 780: 727, 782: 728, 783: 729, 784: 730, 785: 731, 786: 732, 787: 733, 788: 734, 789: 735, 790: 736, 791: 737, 792: 738, 793: 739, 795: 740, 796: 741, 797: 742, 798: 743, 799: 744, 800: 745, 802: 746, 803: 747, 804: 748, 805: 749, 806: 750, 807: 751, 808: 752, 810: 753, 811: 754, 812: 755, 813: 756, 814: 757, 815: 758, 816: 759, 817: 760, 818: 761, 819: 762, 820: 763, 821: 764, 822: 765, 823: 766, 824: 767, 825: 768, 826: 769, 827: 770, 828: 771, 829: 772, 830: 773, 832: 774, 833: 775, 834: 776, 835: 777, 836: 778, 837: 779, 838: 780, 839: 781, 840: 782, 841: 783, 842: 784, 843: 785, 844: 786, 845: 787, 846: 788, 847: 789, 848: 790, 849: 791, 850: 792, 851: 793, 852: 794, 853: 795, 854: 796, 856: 797, 857: 798, 858: 799, 859: 800, 860: 801, 861: 802, 862: 803, 863: 804, 866: 805, 867: 806, 868: 807, 869: 808, 871: 809, 872: 810, 873: 811, 874: 812, 875: 813, 876: 814, 879: 815, 880: 816, 882: 817, 883: 818, 884: 819, 885: 820, 886: 821, 887: 822, 888: 823, 889: 824, 891: 825, 893: 826, 894: 827, 895: 828, 896: 829, 897: 830, 898: 831, 901: 832, 902: 833, 903: 834, 904: 835, 905: 836, 906: 837, 907: 838, 908: 839, 909: 840, 910: 841, 911: 842, 912: 843, 913: 844, 914: 845, 915: 846, 917: 847, 918: 848, 919: 849, 920: 850, 922: 851, 923: 852, 924: 853, 925: 854, 926: 855, 927: 856, 928: 857, 929: 858, 930: 859, 931: 860, 932: 861, 933: 862, 934: 863, 936: 864, 937: 865, 938: 866, 939: 867, 940: 868, 941: 869, 944: 870, 946: 871, 947: 872, 948: 873, 949: 874, 950: 875, 951: 876, 952: 877, 953: 878, 955: 879, 956: 880, 957: 881, 958: 882, 959: 883, 960: 884, 961: 885, 962: 886, 963: 887, 964: 888, 965: 889, 966: 890, 967: 891, 969: 892, 970: 893, 973: 894, 974: 895, 975: 896, 976: 897, 977: 898, 978: 899, 979: 900, 980: 901, 982: 902, 983: 903, 984: 904, 985: 905, 987: 906, 988: 907, 989: 908, 991: 909, 992: 910, 993: 911, 994: 912, 995: 913, 996: 914, 997: 915, 999: 916, 1000: 917, 1001: 918, 1002: 919, 1003: 920, 1004: 921, 1005: 922, 1006: 923, 1007: 924, 1008: 925, 1009: 926, 1010: 927, 1011: 928, 1012: 929, 1013: 930, 1014: 931, 1015: 932, 1016: 933, 1017: 934, 1018: 935, 1019: 936, 1020: 937, 1021: 938, 1022: 939, 1023: 940, 1024: 941, 1025: 942, 1026: 943, 1027: 944, 1028: 945, 1030: 946, 1031: 947, 1032: 948, 1033: 949, 1034: 950, 1035: 951, 1036: 952, 1037: 953, 1038: 954, 1039: 955, 1040: 956, 1042: 957, 1044: 958, 1045: 959, 1047: 960, 1048: 961, 1049: 962, 1050: 963, 1051: 964, 1052: 965, 1053: 966, 1054: 967, 1055: 968, 1056: 969, 1058: 970, 1059: 971, 1060: 972, 1061: 973, 1062: 974, 1063: 975, 1065: 976, 1066: 977, 1067: 978, 1068: 979, 1069: 980, 1070: 981, 1071: 982, 1072: 983, 1073: 984, 1074: 985, 1076: 986, 1077: 987, 1078: 988, 1079: 989, 1080: 990, 1081: 991, 1082: 992, 1083: 993, 1084: 994, 1085: 995, 1086: 996, 1087: 997, 1088: 998, 1089: 999, 1090: 1000, 1091: 1001, 1092: 1002, 1095: 1003, 1096: 1004, 1097: 1005, 1098: 1006, 1099: 1007, 1100: 1008, 1101: 1009, 1102: 1010, 1104: 1011, 1105: 1012, 1106: 1013, 1107: 1014, 1108: 1015, 1109: 1016, 1110: 1017, 1111: 1018, 1112: 1019, 1113: 1020, 1114: 1021, 1116: 1022, 1117: 1023, 1118: 1024, 1119: 1025, 1120: 1026, 1121: 1027, 1122: 1028, 1123: 1029, 1124: 1030, 1126: 1031, 1128: 1032, 1129: 1033, 1130: 1034, 1131: 1035, 1132: 1036, 1133: 1037, 1134: 1038, 1135: 1039, 1136: 1040, 1137: 1041, 1138: 1042, 1141: 1043, 1142: 1044, 1143: 1045, 1144: 1046, 1145: 1047, 1146: 1048, 1147: 1049, 1148: 1050, 1149: 1051, 1150: 1052, 1151: 1053, 1152: 1054, 1153: 1055, 1154: 1056, 1155: 1057, 1156: 1058, 1157: 1059, 1158: 1060, 1159: 1061, 1161: 1062, 1162: 1063, 1163: 1064, 1164: 1065, 1165: 1066, 1168: 1067, 1169: 1068, 1170: 1069, 1171: 1070, 1172: 1071, 1174: 1072, 1175: 1073, 1176: 1074, 1177: 1075, 1178: 1076, 1179: 1077, 1180: 1078, 1181: 1079, 1182: 1080, 1183: 1081, 1184: 1082, 1185: 1083, 1186: 1084, 1187: 1085, 1188: 1086, 1189: 1087, 1190: 1088, 1191: 1089, 1192: 1090, 1193: 1091, 1194: 1092, 1195: 1093, 1196: 1094, 1197: 1095, 1198: 1096, 1200: 1097, 1202: 1098, 1203: 1099, 1204: 1100, 1205: 1101, 1207: 1102, 1208: 1103, 1209: 1104, 1210: 1105, 1211: 1106, 1212: 1107, 1213: 1108, 1214: 1109, 1215: 1110, 1217: 1111, 1218: 1112, 1219: 1113, 1220: 1114, 1221: 1115, 1222: 1116, 1223: 1117, 1224: 1118, 1226: 1119, 1227: 1120, 1228: 1121, 1229: 1122, 1230: 1123, 1231: 1124, 1232: 1125, 1233: 1126, 1234: 1127, 1235: 1128, 1236: 1129, 1237: 1130, 1238: 1131, 1240: 1132, 1241: 1133, 1242: 1134, 1243: 1135, 1244: 1136, 1245: 1137, 1246: 1138, 1247: 1139, 1251: 1140, 1252: 1141, 1253: 1142, 1254: 1143, 1256: 1144, 1257: 1145, 1259: 1146, 1260: 1147, 1261: 1148, 1262: 1149, 1263: 1150, 1264: 1151, 1265: 1152, 1268: 1153, 1269: 1154, 1270: 1155, 1271: 1156, 1272: 1157, 1273: 1158, 1274: 1159, 1275: 1160, 1276: 1161, 1277: 1162, 1278: 1163, 1279: 1164, 1280: 1165, 1281: 1166, 1282: 1167, 1284: 1168, 1285: 1169, 1286: 1170, 1287: 1171, 1288: 1172, 1289: 1173, 1290: 1174, 1291: 1175, 1292: 1176, 1293: 1177, 1294: 1178, 1296: 1179, 1297: 1180, 1298: 1181, 1299: 1182, 1300: 1183, 1301: 1184, 1302: 1185, 1303: 1186, 1305: 1187, 1306: 1188, 1307: 1189, 1308: 1190, 1309: 1191, 1310: 1192, 1311: 1193, 1313: 1194, 1314: 1195, 1316: 1196, 1317: 1197, 1319: 1198, 1320: 1199, 1321: 1200, 1322: 1201, 1323: 1202, 1325: 1203, 1327: 1204, 1328: 1205, 1329: 1206, 1330: 1207, 1331: 1208, 1332: 1209, 1333: 1210, 1334: 1211, 1335: 1212, 1337: 1213, 1338: 1214, 1340: 1215, 1341: 1216, 1343: 1217, 1344: 1218, 1345: 1219, 1346: 1220, 1347: 1221, 1348: 1222, 1349: 1223, 1350: 1224, 1351: 1225, 1352: 1226, 1353: 1227, 1354: 1228, 1355: 1229, 1356: 1230, 1358: 1231, 1360: 1232, 1361: 1233, 1362: 1234, 1363: 1235, 1364: 1236, 1365: 1237, 1366: 1238, 1367: 1239, 1369: 1240, 1370: 1241, 1371: 1242, 1372: 1243, 1373: 1244, 1374: 1245, 1375: 1246, 1376: 1247, 1377: 1248, 1378: 1249, 1379: 1250, 1380: 1251, 1381: 1252, 1382: 1253, 1383: 1254, 1384: 1255, 1385: 1256, 1386: 1257, 1387: 1258, 1388: 1259, 1391: 1260, 1392: 1261, 1393: 1262, 1394: 1263, 1395: 1264, 1396: 1265, 1397: 1266, 1399: 1267, 1400: 1268, 1401: 1269, 1402: 1270, 1403: 1271, 1404: 1272, 1405: 1273, 1406: 1274, 1408: 1275, 1409: 1276, 1411: 1277, 1412: 1278, 1414: 1279, 1416: 1280, 1417: 1281, 1418: 1282, 1419: 1283, 1420: 1284, 1421: 1285, 1422: 1286, 1423: 1287, 1424: 1288, 1425: 1289, 1426: 1290, 1427: 1291, 1428: 1292, 1429: 1293, 1430: 1294, 1431: 1295, 1432: 1296, 1433: 1297, 1435: 1298, 1436: 1299, 1437: 1300, 1438: 1301, 1439: 1302, 1440: 1303, 1441: 1304, 1442: 1305, 1443: 1306, 1444: 1307, 1445: 1308, 1447: 1309, 1448: 1310, 1449: 1311, 1450: 1312, 1451: 1313, 1452: 1314, 1453: 1315, 1454: 1316, 1455: 1317, 1456: 1318, 1457: 1319, 1459: 1320, 1460: 1321, 1461: 1322, 1462: 1323, 1463: 1324, 1464: 1325, 1465: 1326, 1467: 1327, 1468: 1328, 1469: 1329, 1470: 1330, 1471: 1331, 1472: 1332, 1473: 1333, 1474: 1334, 1475: 1335, 1476: 1336, 1477: 1337, 1478: 1338, 1479: 1339, 1481: 1340, 1482: 1341, 1483: 1342, 1484: 1343, 1486: 1344, 1487: 1345, 1488: 1346, 1489: 1347, 1490: 1348, 1491: 1349, 1492: 1350, 1493: 1351, 1494: 1352, 1495: 1353, 1496: 1354, 1497: 1355, 1498: 1356, 1499: 1357, 1500: 1358, 1501: 1359, 1502: 1360, 1503: 1361, 1504: 1362, 1505: 1363, 1506: 1364, 1507: 1365, 1509: 1366, 1511: 1367, 1512: 1368, 1513: 1369, 1514: 1370, 1515: 1371, 1516: 1372, 1517: 1373, 1518: 1374, 1519: 1375, 1520: 1376, 1522: 1377, 1523: 1378, 1525: 1379, 1526: 1380, 1528: 1381, 1529: 1382, 1530: 1383, 1531: 1384, 1532: 1385, 1533: 1386, 1534: 1387, 1535: 1388, 1536: 1389, 1537: 1390, 1538: 1391, 1539: 1392, 1540: 1393, 1541: 1394, 1542: 1395, 1543: 1396, 1544: 1397, 1545: 1398, 1547: 1399, 1549: 1400, 1550: 1401, 1551: 1402, 1552: 1403, 1553: 1404, 1554: 1405, 1555: 1406, 1556: 1407, 1557: 1408, 1558: 1409, 1560: 1410, 1561: 1411, 1562: 1412, 1563: 1413, 1564: 1414, 1565: 1415, 1566: 1416, 1568: 1417, 1570: 1418, 1571: 1419, 1572: 1420, 1573: 1421, 1574: 1422, 1575: 1423, 1576: 1424, 1577: 1425, 1578: 1426, 1579: 1427, 1580: 1428, 1581: 1429, 1582: 1430, 1583: 1431, 1584: 1432, 1585: 1433, 1586: 1434, 1587: 1435, 1588: 1436, 1589: 1437, 1590: 1438, 1591: 1439, 1592: 1440, 1593: 1441, 1594: 1442, 1595: 1443, 1597: 1444, 1598: 1445, 1599: 1446, 1601: 1447, 1602: 1448, 1603: 1449, 1604: 1450, 1605: 1451, 1606: 1452, 1609: 1453, 1611: 1454, 1612: 1455, 1613: 1456, 1614: 1457, 1615: 1458, 1616: 1459, 1617: 1460, 1618: 1461, 1619: 1462, 1620: 1463, 1621: 1464, 1622: 1465, 1623: 1466, 1624: 1467, 1625: 1468, 1626: 1469, 1627: 1470, 1628: 1471, 1630: 1472, 1631: 1473, 1632: 1474, 1633: 1475, 1634: 1476, 1635: 1477, 1636: 1478, 1637: 1479, 1638: 1480, 1639: 1481, 1640: 1482, 1641: 1483, 1642: 1484, 1644: 1485, 1645: 1486, 1646: 1487, 1647: 1488, 1648: 1489, 1650: 1490, 1651: 1491, 1652: 1492, 1653: 1493, 1654: 1494, 1655: 1495, 1656: 1496, 1657: 1497, 1658: 1498, 1659: 1499, 1660: 1500, 1661: 1501, 1662: 1502, 1663: 1503, 1664: 1504, 1665: 1505, 1667: 1506, 1668: 1507, 1669: 1508, 1670: 1509, 1672: 1510, 1673: 1511, 1674: 1512, 1675: 1513, 1676: 1514, 1677: 1515, 1678: 1516, 1680: 1517, 1681: 1518, 1682: 1519, 1683: 1520, 1684: 1521, 1685: 1522, 1686: 1523, 1687: 1524, 1688: 1525, 1689: 1526, 1690: 1527, 1691: 1528, 1692: 1529, 1693: 1530, 1694: 1531, 1695: 1532, 1697: 1533, 1698: 1534, 1699: 1535, 1700: 1536, 1701: 1537, 1702: 1538, 1703: 1539, 1704: 1540, 1705: 1541, 1706: 1542, 1707: 1543, 1708: 1544, 1709: 1545, 1710: 1546, 1713: 1547, 1715: 1548, 1716: 1549, 1717: 1550, 1718: 1551, 1719: 1552, 1720: 1553, 1721: 1554, 1722: 1555, 1723: 1556, 1724: 1557, 1725: 1558, 1726: 1559, 1727: 1560, 1728: 1561, 1729: 1562, 1730: 1563, 1731: 1564, 1732: 1565, 1734: 1566, 1735: 1567, 1738: 1568, 1739: 1569, 1740: 1570, 1741: 1571, 1742: 1572, 1743: 1573, 1744: 1574, 1745: 1575, 1746: 1576, 1747: 1577, 1749: 1578, 1750: 1579, 1751: 1580, 1752: 1581, 1753: 1582, 1755: 1583, 1756: 1584, 1757: 1585, 1758: 1586, 1759: 1587, 1760: 1588, 1762: 1589, 1763: 1590, 1764: 1591, 1766: 1592, 1767: 1593, 1768: 1594, 1769: 1595, 1770: 1596, 1771: 1597, 1772: 1598, 1773: 1599, 1774: 1600, 1775: 1601, 1776: 1602, 1777: 1603, 1778: 1604, 1779: 1605, 1780: 1606, 1781: 1607, 1782: 1608, 1783: 1609, 1784: 1610, 1785: 1611, 1786: 1612, 1787: 1613, 1788: 1614, 1789: 1615, 1790: 1616, 1791: 1617, 1792: 1618, 1793: 1619, 1794: 1620, 1795: 1621, 1796: 1622, 1797: 1623, 1798: 1624, 1799: 1625, 1800: 1626, 1801: 1627, 1802: 1628, 1803: 1629, 1804: 1630, 1805: 1631, 1806: 1632, 1807: 1633, 1808: 1634, 1809: 1635, 1811: 1636, 1812: 1637, 1813: 1638, 1814: 1639, 1815: 1640, 1816: 1641, 1817: 1642, 1818: 1643, 1819: 1644, 1820: 1645, 1821: 1646, 1822: 1647, 1823: 1648, 1824: 1649, 1825: 1650, 1826: 1651, 1827: 1652, 1828: 1653, 1829: 1654, 1830: 1655, 1831: 1656, 1832: 1657, 1833: 1658, 1834: 1659, 1836: 1660, 1837: 1661, 1838: 1662, 1839: 1663, 1840: 1664, 1842: 1665, 1843: 1666, 1844: 1667, 1845: 1668, 1846: 1669, 1848: 1670, 1849: 1671, 1850: 1672, 1851: 1673, 1852: 1674, 1853: 1675, 1854: 1676, 1855: 1677, 1856: 1678, 1857: 1679, 1858: 1680, 1859: 1681, 1860: 1682, 1861: 1683, 1862: 1684, 1863: 1685, 1864: 1686, 1865: 1687, 1866: 1688, 1867: 1689, 1869: 1690, 1870: 1691, 1871: 1692, 1872: 1693, 1873: 1694, 1875: 1695, 1877: 1696, 1878: 1697, 1879: 1698, 1880: 1699, 1881: 1700, 1883: 1701, 1885: 1702, 1886: 1703, 1887: 1704, 1888: 1705, 1889: 1706, 1890: 1707, 1891: 1708, 1892: 1709, 1893: 1710, 1894: 1711, 1895: 1712, 1896: 1713, 1897: 1714, 1898: 1715, 1900: 1716, 1901: 1717, 1902: 1718, 1903: 1719, 1904: 1720, 1905: 1721, 1906: 1722, 1907: 1723, 1908: 1724, 1909: 1725, 1910: 1726, 1912: 1727, 1913: 1728, 1915: 1729, 1916: 1730, 1917: 1731, 1918: 1732, 1919: 1733, 1920: 1734, 1921: 1735, 1922: 1736, 1923: 1737, 1924: 1738, 1926: 1739, 1927: 1740, 1928: 1741, 1929: 1742, 1931: 1743, 1932: 1744, 1933: 1745, 1934: 1746, 1935: 1747, 1936: 1748, 1937: 1749, 1939: 1750, 1940: 1751, 1942: 1752, 1944: 1753, 1945: 1754, 1946: 1755, 1947: 1756, 1948: 1757, 1949: 1758, 1950: 1759, 1952: 1760, 1953: 1761, 1954: 1762, 1955: 1763, 1956: 1764, 1957: 1765, 1959: 1766, 1960: 1767, 1961: 1768, 1962: 1769, 1963: 1770, 1964: 1771, 1966: 1772, 1967: 1773, 1969: 1774, 1970: 1775, 1971: 1776, 1972: 1777, 1973: 1778, 1974: 1779, 1975: 1780, 1976: 1781, 1977: 1782, 1978: 1783, 1979: 1784, 1980: 1785, 1981: 1786, 1982: 1787, 1984: 1788, 1985: 1789, 1986: 1790, 1987: 1791, 1988: 1792, 1989: 1793, 1990: 1794, 1991: 1795, 1992: 1796, 1993: 1797, 1994: 1798, 1995: 1799, 1996: 1800, 1997: 1801, 1998: 1802, 1999: 1803, 2001: 1804, 2002: 1805, 2003: 1806, 2004: 1807, 2005: 1808, 2006: 1809, 2007: 1810, 2008: 1811, 2009: 1812, 2011: 1813, 2012: 1814, 2013: 1815, 2014: 1816, 2015: 1817, 2016: 1818, 2017: 1819, 2018: 1820, 2019: 1821, 2020: 1822, 2021: 1823, 2022: 1824, 2023: 1825, 2025: 1826, 2026: 1827, 2027: 1828, 2028: 1829, 2029: 1830, 2030: 1831, 2031: 1832, 2032: 1833, 2033: 1834, 2034: 1835, 2035: 1836, 2036: 1837, 2037: 1838, 2038: 1839, 2039: 1840, 2040: 1841, 2041: 1842, 2042: 1843, 2043: 1844, 2044: 1845, 2045: 1846, 2046: 1847, 2049: 1848, 2050: 1849, 2051: 1850, 2052: 1851, 2053: 1852, 2054: 1853, 2055: 1854, 2056: 1855, 2057: 1856, 2058: 1857, 2059: 1858, 2060: 1859, 2062: 1860, 2063: 1861, 2064: 1862, 2065: 1863, 2066: 1864, 2067: 1865, 2068: 1866, 2069: 1867, 2070: 1868, 2073: 1869, 2074: 1870, 2075: 1871, 2076: 1872, 2077: 1873, 2078: 1874, 2079: 1875, 2081: 1876, 2082: 1877, 2083: 1878, 2084: 1879, 2085: 1880, 2086: 1881, 2088: 1882, 2089: 1883, 2090: 1884, 2091: 1885, 2092: 1886, 2093: 1887, 2094: 1888, 2095: 1889, 2097: 1890, 2098: 1891}\n"
     ]
    }
   ],
   "source": [
    "keys = unique_list\n",
    "values = usenew\n",
    "dictionary = dict(zip(keys, values))\n",
    "print(dictionary) # {'a': 1, 'b': 2, 'c': 3}"
   ]
  },
  {
   "cell_type": "code",
   "execution_count": 37,
   "id": "5529c295",
   "metadata": {},
   "outputs": [],
   "source": [
    "s = df3['userID']\n",
    "\n",
    "df3['userID'] = s.map(dictionary)"
   ]
  },
  {
   "cell_type": "code",
   "execution_count": 38,
   "id": "a407aad0",
   "metadata": {},
   "outputs": [],
   "source": [
    "o = df3['friendID']\n",
    "\n",
    "df3['friendID'] = o.map(dictionary)"
   ]
  },
  {
   "cell_type": "code",
   "execution_count": 39,
   "id": "d9706bcf",
   "metadata": {},
   "outputs": [
    {
     "data": {
      "text/plain": [
       "1891"
      ]
     },
     "execution_count": 39,
     "metadata": {},
     "output_type": "execute_result"
    }
   ],
   "source": [
    "df3['friendID'].max()"
   ]
  },
  {
   "cell_type": "code",
   "execution_count": 40,
   "id": "2af93bc0",
   "metadata": {},
   "outputs": [
    {
     "data": {
      "text/plain": [
       "False"
      ]
     },
     "execution_count": 40,
     "metadata": {},
     "output_type": "execute_result"
    }
   ],
   "source": [
    "df3.isnull().values.any()"
   ]
  },
  {
   "cell_type": "code",
   "execution_count": 41,
   "id": "1dff649e",
   "metadata": {},
   "outputs": [
    {
     "data": {
      "text/html": [
       "<div>\n",
       "<style scoped>\n",
       "    .dataframe tbody tr th:only-of-type {\n",
       "        vertical-align: middle;\n",
       "    }\n",
       "\n",
       "    .dataframe tbody tr th {\n",
       "        vertical-align: top;\n",
       "    }\n",
       "\n",
       "    .dataframe thead th {\n",
       "        text-align: right;\n",
       "    }\n",
       "</style>\n",
       "<table border=\"1\" class=\"dataframe\">\n",
       "  <thead>\n",
       "    <tr style=\"text-align: right;\">\n",
       "      <th></th>\n",
       "      <th>userID</th>\n",
       "      <th>artistID</th>\n",
       "      <th>tagID</th>\n",
       "      <th>day</th>\n",
       "      <th>month</th>\n",
       "      <th>year</th>\n",
       "    </tr>\n",
       "  </thead>\n",
       "  <tbody>\n",
       "    <tr>\n",
       "      <th>0</th>\n",
       "      <td>2</td>\n",
       "      <td>52</td>\n",
       "      <td>13</td>\n",
       "      <td>1</td>\n",
       "      <td>4</td>\n",
       "      <td>2009</td>\n",
       "    </tr>\n",
       "    <tr>\n",
       "      <th>1</th>\n",
       "      <td>2</td>\n",
       "      <td>52</td>\n",
       "      <td>15</td>\n",
       "      <td>1</td>\n",
       "      <td>4</td>\n",
       "      <td>2009</td>\n",
       "    </tr>\n",
       "    <tr>\n",
       "      <th>2</th>\n",
       "      <td>2</td>\n",
       "      <td>52</td>\n",
       "      <td>18</td>\n",
       "      <td>1</td>\n",
       "      <td>4</td>\n",
       "      <td>2009</td>\n",
       "    </tr>\n",
       "    <tr>\n",
       "      <th>3</th>\n",
       "      <td>2</td>\n",
       "      <td>52</td>\n",
       "      <td>21</td>\n",
       "      <td>1</td>\n",
       "      <td>4</td>\n",
       "      <td>2009</td>\n",
       "    </tr>\n",
       "    <tr>\n",
       "      <th>4</th>\n",
       "      <td>2</td>\n",
       "      <td>52</td>\n",
       "      <td>41</td>\n",
       "      <td>1</td>\n",
       "      <td>4</td>\n",
       "      <td>2009</td>\n",
       "    </tr>\n",
       "    <tr>\n",
       "      <th>...</th>\n",
       "      <td>...</td>\n",
       "      <td>...</td>\n",
       "      <td>...</td>\n",
       "      <td>...</td>\n",
       "      <td>...</td>\n",
       "      <td>...</td>\n",
       "    </tr>\n",
       "    <tr>\n",
       "      <th>186474</th>\n",
       "      <td>2100</td>\n",
       "      <td>16437</td>\n",
       "      <td>4</td>\n",
       "      <td>1</td>\n",
       "      <td>7</td>\n",
       "      <td>2010</td>\n",
       "    </tr>\n",
       "    <tr>\n",
       "      <th>186475</th>\n",
       "      <td>2100</td>\n",
       "      <td>16437</td>\n",
       "      <td>292</td>\n",
       "      <td>1</td>\n",
       "      <td>5</td>\n",
       "      <td>2010</td>\n",
       "    </tr>\n",
       "    <tr>\n",
       "      <th>186476</th>\n",
       "      <td>2100</td>\n",
       "      <td>16437</td>\n",
       "      <td>2087</td>\n",
       "      <td>1</td>\n",
       "      <td>7</td>\n",
       "      <td>2010</td>\n",
       "    </tr>\n",
       "    <tr>\n",
       "      <th>186477</th>\n",
       "      <td>2100</td>\n",
       "      <td>16437</td>\n",
       "      <td>2801</td>\n",
       "      <td>1</td>\n",
       "      <td>5</td>\n",
       "      <td>2010</td>\n",
       "    </tr>\n",
       "    <tr>\n",
       "      <th>186478</th>\n",
       "      <td>2100</td>\n",
       "      <td>16437</td>\n",
       "      <td>3335</td>\n",
       "      <td>1</td>\n",
       "      <td>7</td>\n",
       "      <td>2010</td>\n",
       "    </tr>\n",
       "  </tbody>\n",
       "</table>\n",
       "<p>186479 rows × 6 columns</p>\n",
       "</div>"
      ],
      "text/plain": [
       "        userID  artistID  tagID  day  month  year\n",
       "0            2        52     13    1      4  2009\n",
       "1            2        52     15    1      4  2009\n",
       "2            2        52     18    1      4  2009\n",
       "3            2        52     21    1      4  2009\n",
       "4            2        52     41    1      4  2009\n",
       "...        ...       ...    ...  ...    ...   ...\n",
       "186474    2100     16437      4    1      7  2010\n",
       "186475    2100     16437    292    1      5  2010\n",
       "186476    2100     16437   2087    1      7  2010\n",
       "186477    2100     16437   2801    1      5  2010\n",
       "186478    2100     16437   3335    1      7  2010\n",
       "\n",
       "[186479 rows x 6 columns]"
      ]
     },
     "execution_count": 41,
     "metadata": {},
     "output_type": "execute_result"
    }
   ],
   "source": [
    "df4 = pd.read_csv(\"data/hetrec2011-lastfm-2k/user_taggedartists-timestamps.csv\")\n",
    "df4"
   ]
  },
  {
   "cell_type": "code",
   "execution_count": 42,
   "id": "b544737b",
   "metadata": {},
   "outputs": [
    {
     "data": {
      "text/html": [
       "<div>\n",
       "<style scoped>\n",
       "    .dataframe tbody tr th:only-of-type {\n",
       "        vertical-align: middle;\n",
       "    }\n",
       "\n",
       "    .dataframe tbody tr th {\n",
       "        vertical-align: top;\n",
       "    }\n",
       "\n",
       "    .dataframe thead th {\n",
       "        text-align: right;\n",
       "    }\n",
       "</style>\n",
       "<table border=\"1\" class=\"dataframe\">\n",
       "  <thead>\n",
       "    <tr style=\"text-align: right;\">\n",
       "      <th></th>\n",
       "      <th>userID</th>\n",
       "      <th>artistID</th>\n",
       "      <th>tagID</th>\n",
       "      <th>day</th>\n",
       "      <th>month</th>\n",
       "      <th>year</th>\n",
       "    </tr>\n",
       "  </thead>\n",
       "  <tbody>\n",
       "    <tr>\n",
       "      <th>0</th>\n",
       "      <td>2</td>\n",
       "      <td>52</td>\n",
       "      <td>13</td>\n",
       "      <td>1</td>\n",
       "      <td>4</td>\n",
       "      <td>2009</td>\n",
       "    </tr>\n",
       "    <tr>\n",
       "      <th>1</th>\n",
       "      <td>2</td>\n",
       "      <td>52</td>\n",
       "      <td>15</td>\n",
       "      <td>1</td>\n",
       "      <td>4</td>\n",
       "      <td>2009</td>\n",
       "    </tr>\n",
       "    <tr>\n",
       "      <th>2</th>\n",
       "      <td>2</td>\n",
       "      <td>52</td>\n",
       "      <td>18</td>\n",
       "      <td>1</td>\n",
       "      <td>4</td>\n",
       "      <td>2009</td>\n",
       "    </tr>\n",
       "    <tr>\n",
       "      <th>3</th>\n",
       "      <td>2</td>\n",
       "      <td>52</td>\n",
       "      <td>21</td>\n",
       "      <td>1</td>\n",
       "      <td>4</td>\n",
       "      <td>2009</td>\n",
       "    </tr>\n",
       "    <tr>\n",
       "      <th>4</th>\n",
       "      <td>2</td>\n",
       "      <td>52</td>\n",
       "      <td>41</td>\n",
       "      <td>1</td>\n",
       "      <td>4</td>\n",
       "      <td>2009</td>\n",
       "    </tr>\n",
       "    <tr>\n",
       "      <th>...</th>\n",
       "      <td>...</td>\n",
       "      <td>...</td>\n",
       "      <td>...</td>\n",
       "      <td>...</td>\n",
       "      <td>...</td>\n",
       "      <td>...</td>\n",
       "    </tr>\n",
       "    <tr>\n",
       "      <th>186474</th>\n",
       "      <td>2100</td>\n",
       "      <td>16437</td>\n",
       "      <td>4</td>\n",
       "      <td>1</td>\n",
       "      <td>7</td>\n",
       "      <td>2010</td>\n",
       "    </tr>\n",
       "    <tr>\n",
       "      <th>186475</th>\n",
       "      <td>2100</td>\n",
       "      <td>16437</td>\n",
       "      <td>292</td>\n",
       "      <td>1</td>\n",
       "      <td>5</td>\n",
       "      <td>2010</td>\n",
       "    </tr>\n",
       "    <tr>\n",
       "      <th>186476</th>\n",
       "      <td>2100</td>\n",
       "      <td>16437</td>\n",
       "      <td>2087</td>\n",
       "      <td>1</td>\n",
       "      <td>7</td>\n",
       "      <td>2010</td>\n",
       "    </tr>\n",
       "    <tr>\n",
       "      <th>186477</th>\n",
       "      <td>2100</td>\n",
       "      <td>16437</td>\n",
       "      <td>2801</td>\n",
       "      <td>1</td>\n",
       "      <td>5</td>\n",
       "      <td>2010</td>\n",
       "    </tr>\n",
       "    <tr>\n",
       "      <th>186478</th>\n",
       "      <td>2100</td>\n",
       "      <td>16437</td>\n",
       "      <td>3335</td>\n",
       "      <td>1</td>\n",
       "      <td>7</td>\n",
       "      <td>2010</td>\n",
       "    </tr>\n",
       "  </tbody>\n",
       "</table>\n",
       "<p>186479 rows × 6 columns</p>\n",
       "</div>"
      ],
      "text/plain": [
       "        userID  artistID  tagID  day  month  year\n",
       "0            2        52     13    1      4  2009\n",
       "1            2        52     15    1      4  2009\n",
       "2            2        52     18    1      4  2009\n",
       "3            2        52     21    1      4  2009\n",
       "4            2        52     41    1      4  2009\n",
       "...        ...       ...    ...  ...    ...   ...\n",
       "186474    2100     16437      4    1      7  2010\n",
       "186475    2100     16437    292    1      5  2010\n",
       "186476    2100     16437   2087    1      7  2010\n",
       "186477    2100     16437   2801    1      5  2010\n",
       "186478    2100     16437   3335    1      7  2010\n",
       "\n",
       "[186479 rows x 6 columns]"
      ]
     },
     "execution_count": 42,
     "metadata": {},
     "output_type": "execute_result"
    }
   ],
   "source": [
    "df5 = pd.read_csv(\"data/hetrec2011-lastfm-2k/user_taggedartists.csv\")\n",
    "df5"
   ]
  },
  {
   "cell_type": "markdown",
   "id": "1c706f88",
   "metadata": {},
   "source": [
    "Our last two dataframes seem exactly the same. Let's check this before we delete anything."
   ]
  },
  {
   "cell_type": "code",
   "execution_count": 43,
   "id": "1e972b86",
   "metadata": {},
   "outputs": [
    {
     "name": "stdout",
     "output_type": "stream",
     "text": [
      "True\n"
     ]
    }
   ],
   "source": [
    "def checkequality(A, B):\n",
    "\n",
    "    df11 = A.sort_index(axis=1)\n",
    "    df11 = df11.sort_values(df11.columns.tolist()).reset_index(drop=True)\n",
    "\n",
    "    df22 = B.sort_index(axis=1)\n",
    "    df22 = df22.sort_values(df22.columns.tolist()).reset_index(drop=True)\n",
    "    return (df11 == df22).values.all()\n",
    "\n",
    "a = checkequality(df4, df5)\n",
    "print (a)"
   ]
  },
  {
   "cell_type": "markdown",
   "id": "c2e85c83",
   "metadata": {},
   "source": [
    "Two of our files are exactly the same. We can delete one of these accordingly."
   ]
  },
  {
   "cell_type": "code",
   "execution_count": 44,
   "id": "a65efbd3",
   "metadata": {},
   "outputs": [],
   "source": [
    "del df5"
   ]
  },
  {
   "cell_type": "code",
   "execution_count": 45,
   "id": "19826964",
   "metadata": {},
   "outputs": [
    {
     "data": {
      "text/plain": [
       "<bound method DataFrame.info of                     name                                           url  \\\n",
       "0           MALICE MIZER         http://www.last.fm/music/MALICE+MIZER   \n",
       "1        Diary of Dreams      http://www.last.fm/music/Diary+of+Dreams   \n",
       "2      Carpathian Forest    http://www.last.fm/music/Carpathian+Forest   \n",
       "3           Moi dix Mois         http://www.last.fm/music/Moi+dix+Mois   \n",
       "4            Bella Morte          http://www.last.fm/music/Bella+Morte   \n",
       "...                  ...                                           ...   \n",
       "17627    Diamanda GalÃ¡s  http://www.last.fm/music/Diamanda+Gal%C3%A1s   \n",
       "17628             Aya RL               http://www.last.fm/music/Aya+RL   \n",
       "17629        Coptic Rain          http://www.last.fm/music/Coptic+Rain   \n",
       "17630       Oz Alchemist         http://www.last.fm/music/Oz+Alchemist   \n",
       "17631   Grzegorz Tomczak     http://www.last.fm/music/Grzegorz+Tomczak   \n",
       "\n",
       "                                              pictureURL  artID  \n",
       "0        http://userserve-ak.last.fm/serve/252/10808.jpg      0  \n",
       "1      http://userserve-ak.last.fm/serve/252/3052066.jpg      1  \n",
       "2      http://userserve-ak.last.fm/serve/252/40222717...      2  \n",
       "3      http://userserve-ak.last.fm/serve/252/54697835...      3  \n",
       "4      http://userserve-ak.last.fm/serve/252/14789013...      4  \n",
       "...                                                  ...    ...  \n",
       "17627  http://userserve-ak.last.fm/serve/252/16352971...  17627  \n",
       "17628   http://userserve-ak.last.fm/serve/252/207445.jpg  17628  \n",
       "17629   http://userserve-ak.last.fm/serve/252/344868.jpg  17629  \n",
       "17630  http://userserve-ak.last.fm/serve/252/29297695...  17630  \n",
       "17631  http://userserve-ak.last.fm/serve/252/59486303...  17631  \n",
       "\n",
       "[17632 rows x 4 columns]>"
      ]
     },
     "execution_count": 45,
     "metadata": {},
     "output_type": "execute_result"
    }
   ],
   "source": [
    "df.info"
   ]
  },
  {
   "cell_type": "markdown",
   "id": "522539a4",
   "metadata": {},
   "source": [
    "# Methodology\n",
    "Now that all our data files are read in and in the appropriate format we will begin our end to end process. These are as follows:\n",
    "##### 1. Data cleaning and processing\n",
    "##### 2. Visualization\n",
    "##### 3. Fitting our Model\n",
    "##### 4. Evaluating our Model"
   ]
  },
  {
   "cell_type": "markdown",
   "id": "cb32b05e",
   "metadata": {},
   "source": [
    "# Cleaning and Processing\n",
    "\n",
    "### Initial analysis and cleaning"
   ]
  },
  {
   "cell_type": "code",
   "execution_count": 46,
   "id": "1bc754b3",
   "metadata": {},
   "outputs": [
    {
     "data": {
      "text/plain": [
       "Wintersleep         1\n",
       "Covenant            1\n",
       "Spoons              1\n",
       "Katharine McPhee    1\n",
       "Favorite            1\n",
       "                   ..\n",
       "Clare Maguire       1\n",
       "Rome                1\n",
       "Distemper           1\n",
       "Aqua                1\n",
       "Chimaira            1\n",
       "Name: name, Length: 17632, dtype: int64"
      ]
     },
     "execution_count": 46,
     "metadata": {},
     "output_type": "execute_result"
    }
   ],
   "source": [
    "df['name'].value_counts()"
   ]
  },
  {
   "cell_type": "code",
   "execution_count": 47,
   "id": "421c76c1",
   "metadata": {},
   "outputs": [
    {
     "data": {
      "text/plain": [
       "2049     1\n",
       "10904    1\n",
       "653      1\n",
       "6798     1\n",
       "4751     1\n",
       "        ..\n",
       "7505     1\n",
       "1362     1\n",
       "3411     1\n",
       "9558     1\n",
       "2047     1\n",
       "Name: tagID, Length: 11946, dtype: int64"
      ]
     },
     "execution_count": 47,
     "metadata": {},
     "output_type": "execute_result"
    }
   ],
   "source": [
    "df1['tagID'].value_counts()"
   ]
  },
  {
   "cell_type": "markdown",
   "id": "08028b1e",
   "metadata": {},
   "source": [
    "After initial observation, I feel the timestamp dataframe is of little use to me and hence disregard it. As per the readme file we have 1892 users and 17632 artists in our data."
   ]
  },
  {
   "cell_type": "code",
   "execution_count": 48,
   "id": "624c8263",
   "metadata": {},
   "outputs": [],
   "source": [
    "dfs = [df, df1, df2, df3, df4]\n",
    "na = []\n",
    "for i in range(len(dfs)):\n",
    "    if dfs[i].isnull().values.any() > 0:\n",
    "        na.append(dfs[i])"
   ]
  },
  {
   "cell_type": "code",
   "execution_count": 49,
   "id": "720e9fde",
   "metadata": {},
   "outputs": [
    {
     "data": {
      "text/plain": [
       "[                    name                                           url  \\\n",
       " 0           MALICE MIZER         http://www.last.fm/music/MALICE+MIZER   \n",
       " 1        Diary of Dreams      http://www.last.fm/music/Diary+of+Dreams   \n",
       " 2      Carpathian Forest    http://www.last.fm/music/Carpathian+Forest   \n",
       " 3           Moi dix Mois         http://www.last.fm/music/Moi+dix+Mois   \n",
       " 4            Bella Morte          http://www.last.fm/music/Bella+Morte   \n",
       " ...                  ...                                           ...   \n",
       " 17627    Diamanda GalÃ¡s  http://www.last.fm/music/Diamanda+Gal%C3%A1s   \n",
       " 17628             Aya RL               http://www.last.fm/music/Aya+RL   \n",
       " 17629        Coptic Rain          http://www.last.fm/music/Coptic+Rain   \n",
       " 17630       Oz Alchemist         http://www.last.fm/music/Oz+Alchemist   \n",
       " 17631   Grzegorz Tomczak     http://www.last.fm/music/Grzegorz+Tomczak   \n",
       " \n",
       "                                               pictureURL  artID  \n",
       " 0        http://userserve-ak.last.fm/serve/252/10808.jpg      0  \n",
       " 1      http://userserve-ak.last.fm/serve/252/3052066.jpg      1  \n",
       " 2      http://userserve-ak.last.fm/serve/252/40222717...      2  \n",
       " 3      http://userserve-ak.last.fm/serve/252/54697835...      3  \n",
       " 4      http://userserve-ak.last.fm/serve/252/14789013...      4  \n",
       " ...                                                  ...    ...  \n",
       " 17627  http://userserve-ak.last.fm/serve/252/16352971...  17627  \n",
       " 17628   http://userserve-ak.last.fm/serve/252/207445.jpg  17628  \n",
       " 17629   http://userserve-ak.last.fm/serve/252/344868.jpg  17629  \n",
       " 17630  http://userserve-ak.last.fm/serve/252/29297695...  17630  \n",
       " 17631  http://userserve-ak.last.fm/serve/252/59486303...  17631  \n",
       " \n",
       " [17632 rows x 4 columns]]"
      ]
     },
     "execution_count": 49,
     "metadata": {},
     "output_type": "execute_result"
    }
   ],
   "source": [
    "na"
   ]
  },
  {
   "cell_type": "markdown",
   "id": "f47006fd",
   "metadata": {},
   "source": [
    "The only dataframe with nulls is our artists dataframe. Let's investigate this further to see if there is any important missing values such as ID's etc."
   ]
  },
  {
   "cell_type": "code",
   "execution_count": 50,
   "id": "78ee7f82",
   "metadata": {},
   "outputs": [
    {
     "data": {
      "text/plain": [
       "name          object\n",
       "url           object\n",
       "pictureURL    object\n",
       "artID          int64\n",
       "dtype: object"
      ]
     },
     "execution_count": 50,
     "metadata": {},
     "output_type": "execute_result"
    }
   ],
   "source": [
    "df.dtypes"
   ]
  },
  {
   "cell_type": "code",
   "execution_count": 51,
   "id": "b8326c87",
   "metadata": {},
   "outputs": [
    {
     "name": "stdout",
     "output_type": "stream",
     "text": [
      "pictureURL 0.0252 % missing values\n",
      "['pictureURL']\n"
     ]
    }
   ],
   "source": [
    "features_with_na = [features for features in df.columns if df[features].isnull().sum() > 0]\n",
    "\n",
    "for feature in features_with_na: \n",
    "    print(feature, np.round(df[feature].isnull().mean(), 4), '% missing values')\n",
    "    print(features_with_na)"
   ]
  },
  {
   "cell_type": "markdown",
   "id": "2d1ccfc7",
   "metadata": {},
   "source": [
    "This is a positive result as there are very few null values in the dataframe and the small amount that exist are in a column of lesser important that we will not need to impute missing values for."
   ]
  },
  {
   "cell_type": "code",
   "execution_count": 52,
   "id": "6e4d5a4d",
   "metadata": {},
   "outputs": [],
   "source": [
    "played = pd.merge(df, df2, how=\"inner\", left_on=\"artID\", right_on=\"artistID\")\n",
    "played.rename(columns={\"weight\": \"played\"}, inplace=True)"
   ]
  },
  {
   "cell_type": "code",
   "execution_count": 53,
   "id": "2200d005",
   "metadata": {},
   "outputs": [
    {
     "data": {
      "text/html": [
       "<div>\n",
       "<style scoped>\n",
       "    .dataframe tbody tr th:only-of-type {\n",
       "        vertical-align: middle;\n",
       "    }\n",
       "\n",
       "    .dataframe tbody tr th {\n",
       "        vertical-align: top;\n",
       "    }\n",
       "\n",
       "    .dataframe thead th {\n",
       "        text-align: right;\n",
       "    }\n",
       "</style>\n",
       "<table border=\"1\" class=\"dataframe\">\n",
       "  <thead>\n",
       "    <tr style=\"text-align: right;\">\n",
       "      <th></th>\n",
       "      <th>name</th>\n",
       "      <th>url</th>\n",
       "      <th>pictureURL</th>\n",
       "      <th>artID</th>\n",
       "      <th>userID</th>\n",
       "      <th>artistID</th>\n",
       "      <th>played</th>\n",
       "    </tr>\n",
       "  </thead>\n",
       "  <tbody>\n",
       "    <tr>\n",
       "      <th>0</th>\n",
       "      <td>MALICE MIZER</td>\n",
       "      <td>http://www.last.fm/music/MALICE+MIZER</td>\n",
       "      <td>http://userserve-ak.last.fm/serve/252/10808.jpg</td>\n",
       "      <td>0</td>\n",
       "      <td>31</td>\n",
       "      <td>0</td>\n",
       "      <td>212</td>\n",
       "    </tr>\n",
       "    <tr>\n",
       "      <th>1</th>\n",
       "      <td>MALICE MIZER</td>\n",
       "      <td>http://www.last.fm/music/MALICE+MIZER</td>\n",
       "      <td>http://userserve-ak.last.fm/serve/252/10808.jpg</td>\n",
       "      <td>0</td>\n",
       "      <td>256</td>\n",
       "      <td>0</td>\n",
       "      <td>483</td>\n",
       "    </tr>\n",
       "    <tr>\n",
       "      <th>2</th>\n",
       "      <td>MALICE MIZER</td>\n",
       "      <td>http://www.last.fm/music/MALICE+MIZER</td>\n",
       "      <td>http://userserve-ak.last.fm/serve/252/10808.jpg</td>\n",
       "      <td>0</td>\n",
       "      <td>729</td>\n",
       "      <td>0</td>\n",
       "      <td>76</td>\n",
       "    </tr>\n",
       "    <tr>\n",
       "      <th>3</th>\n",
       "      <td>Diary of Dreams</td>\n",
       "      <td>http://www.last.fm/music/Diary+of+Dreams</td>\n",
       "      <td>http://userserve-ak.last.fm/serve/252/3052066.jpg</td>\n",
       "      <td>1</td>\n",
       "      <td>130</td>\n",
       "      <td>1</td>\n",
       "      <td>1021</td>\n",
       "    </tr>\n",
       "    <tr>\n",
       "      <th>4</th>\n",
       "      <td>Diary of Dreams</td>\n",
       "      <td>http://www.last.fm/music/Diary+of+Dreams</td>\n",
       "      <td>http://userserve-ak.last.fm/serve/252/3052066.jpg</td>\n",
       "      <td>1</td>\n",
       "      <td>240</td>\n",
       "      <td>1</td>\n",
       "      <td>152</td>\n",
       "    </tr>\n",
       "    <tr>\n",
       "      <th>...</th>\n",
       "      <td>...</td>\n",
       "      <td>...</td>\n",
       "      <td>...</td>\n",
       "      <td>...</td>\n",
       "      <td>...</td>\n",
       "      <td>...</td>\n",
       "      <td>...</td>\n",
       "    </tr>\n",
       "    <tr>\n",
       "      <th>92829</th>\n",
       "      <td>Diamanda GalÃ¡s</td>\n",
       "      <td>http://www.last.fm/music/Diamanda+Gal%C3%A1s</td>\n",
       "      <td>http://userserve-ak.last.fm/serve/252/16352971...</td>\n",
       "      <td>17627</td>\n",
       "      <td>423</td>\n",
       "      <td>17627</td>\n",
       "      <td>301</td>\n",
       "    </tr>\n",
       "    <tr>\n",
       "      <th>92830</th>\n",
       "      <td>Aya RL</td>\n",
       "      <td>http://www.last.fm/music/Aya+RL</td>\n",
       "      <td>http://userserve-ak.last.fm/serve/252/207445.jpg</td>\n",
       "      <td>17628</td>\n",
       "      <td>423</td>\n",
       "      <td>17628</td>\n",
       "      <td>294</td>\n",
       "    </tr>\n",
       "    <tr>\n",
       "      <th>92831</th>\n",
       "      <td>Coptic Rain</td>\n",
       "      <td>http://www.last.fm/music/Coptic+Rain</td>\n",
       "      <td>http://userserve-ak.last.fm/serve/252/344868.jpg</td>\n",
       "      <td>17629</td>\n",
       "      <td>423</td>\n",
       "      <td>17629</td>\n",
       "      <td>287</td>\n",
       "    </tr>\n",
       "    <tr>\n",
       "      <th>92832</th>\n",
       "      <td>Oz Alchemist</td>\n",
       "      <td>http://www.last.fm/music/Oz+Alchemist</td>\n",
       "      <td>http://userserve-ak.last.fm/serve/252/29297695...</td>\n",
       "      <td>17630</td>\n",
       "      <td>423</td>\n",
       "      <td>17630</td>\n",
       "      <td>286</td>\n",
       "    </tr>\n",
       "    <tr>\n",
       "      <th>92833</th>\n",
       "      <td>Grzegorz Tomczak</td>\n",
       "      <td>http://www.last.fm/music/Grzegorz+Tomczak</td>\n",
       "      <td>http://userserve-ak.last.fm/serve/252/59486303...</td>\n",
       "      <td>17631</td>\n",
       "      <td>547</td>\n",
       "      <td>17631</td>\n",
       "      <td>426</td>\n",
       "    </tr>\n",
       "  </tbody>\n",
       "</table>\n",
       "<p>92834 rows × 7 columns</p>\n",
       "</div>"
      ],
      "text/plain": [
       "                   name                                           url  \\\n",
       "0          MALICE MIZER         http://www.last.fm/music/MALICE+MIZER   \n",
       "1          MALICE MIZER         http://www.last.fm/music/MALICE+MIZER   \n",
       "2          MALICE MIZER         http://www.last.fm/music/MALICE+MIZER   \n",
       "3       Diary of Dreams      http://www.last.fm/music/Diary+of+Dreams   \n",
       "4       Diary of Dreams      http://www.last.fm/music/Diary+of+Dreams   \n",
       "...                 ...                                           ...   \n",
       "92829   Diamanda GalÃ¡s  http://www.last.fm/music/Diamanda+Gal%C3%A1s   \n",
       "92830            Aya RL               http://www.last.fm/music/Aya+RL   \n",
       "92831       Coptic Rain          http://www.last.fm/music/Coptic+Rain   \n",
       "92832      Oz Alchemist         http://www.last.fm/music/Oz+Alchemist   \n",
       "92833  Grzegorz Tomczak     http://www.last.fm/music/Grzegorz+Tomczak   \n",
       "\n",
       "                                              pictureURL  artID  userID  \\\n",
       "0        http://userserve-ak.last.fm/serve/252/10808.jpg      0      31   \n",
       "1        http://userserve-ak.last.fm/serve/252/10808.jpg      0     256   \n",
       "2        http://userserve-ak.last.fm/serve/252/10808.jpg      0     729   \n",
       "3      http://userserve-ak.last.fm/serve/252/3052066.jpg      1     130   \n",
       "4      http://userserve-ak.last.fm/serve/252/3052066.jpg      1     240   \n",
       "...                                                  ...    ...     ...   \n",
       "92829  http://userserve-ak.last.fm/serve/252/16352971...  17627     423   \n",
       "92830   http://userserve-ak.last.fm/serve/252/207445.jpg  17628     423   \n",
       "92831   http://userserve-ak.last.fm/serve/252/344868.jpg  17629     423   \n",
       "92832  http://userserve-ak.last.fm/serve/252/29297695...  17630     423   \n",
       "92833  http://userserve-ak.last.fm/serve/252/59486303...  17631     547   \n",
       "\n",
       "       artistID  played  \n",
       "0             0     212  \n",
       "1             0     483  \n",
       "2             0      76  \n",
       "3             1    1021  \n",
       "4             1     152  \n",
       "...         ...     ...  \n",
       "92829     17627     301  \n",
       "92830     17628     294  \n",
       "92831     17629     287  \n",
       "92832     17630     286  \n",
       "92833     17631     426  \n",
       "\n",
       "[92834 rows x 7 columns]"
      ]
     },
     "execution_count": 53,
     "metadata": {},
     "output_type": "execute_result"
    }
   ],
   "source": [
    "played"
   ]
  },
  {
   "cell_type": "markdown",
   "id": "9b76b522",
   "metadata": {},
   "source": [
    "We will drop the pictureURL column as there is not much information to be gained and there is some nulls present."
   ]
  },
  {
   "cell_type": "code",
   "execution_count": 54,
   "id": "f03db6c5",
   "metadata": {},
   "outputs": [],
   "source": [
    "played.drop(columns=['pictureURL'], inplace=True)"
   ]
  },
  {
   "cell_type": "code",
   "execution_count": 55,
   "id": "5a6e1b52",
   "metadata": {},
   "outputs": [
    {
     "data": {
      "text/html": [
       "<div>\n",
       "<style scoped>\n",
       "    .dataframe tbody tr th:only-of-type {\n",
       "        vertical-align: middle;\n",
       "    }\n",
       "\n",
       "    .dataframe tbody tr th {\n",
       "        vertical-align: top;\n",
       "    }\n",
       "\n",
       "    .dataframe thead th {\n",
       "        text-align: right;\n",
       "    }\n",
       "</style>\n",
       "<table border=\"1\" class=\"dataframe\">\n",
       "  <thead>\n",
       "    <tr style=\"text-align: right;\">\n",
       "      <th></th>\n",
       "      <th>name</th>\n",
       "      <th>url</th>\n",
       "      <th>artID</th>\n",
       "      <th>userID</th>\n",
       "      <th>artistID</th>\n",
       "      <th>played</th>\n",
       "    </tr>\n",
       "  </thead>\n",
       "  <tbody>\n",
       "    <tr>\n",
       "      <th>0</th>\n",
       "      <td>MALICE MIZER</td>\n",
       "      <td>http://www.last.fm/music/MALICE+MIZER</td>\n",
       "      <td>0</td>\n",
       "      <td>31</td>\n",
       "      <td>0</td>\n",
       "      <td>212</td>\n",
       "    </tr>\n",
       "    <tr>\n",
       "      <th>1</th>\n",
       "      <td>MALICE MIZER</td>\n",
       "      <td>http://www.last.fm/music/MALICE+MIZER</td>\n",
       "      <td>0</td>\n",
       "      <td>256</td>\n",
       "      <td>0</td>\n",
       "      <td>483</td>\n",
       "    </tr>\n",
       "    <tr>\n",
       "      <th>2</th>\n",
       "      <td>MALICE MIZER</td>\n",
       "      <td>http://www.last.fm/music/MALICE+MIZER</td>\n",
       "      <td>0</td>\n",
       "      <td>729</td>\n",
       "      <td>0</td>\n",
       "      <td>76</td>\n",
       "    </tr>\n",
       "    <tr>\n",
       "      <th>3</th>\n",
       "      <td>Diary of Dreams</td>\n",
       "      <td>http://www.last.fm/music/Diary+of+Dreams</td>\n",
       "      <td>1</td>\n",
       "      <td>130</td>\n",
       "      <td>1</td>\n",
       "      <td>1021</td>\n",
       "    </tr>\n",
       "    <tr>\n",
       "      <th>4</th>\n",
       "      <td>Diary of Dreams</td>\n",
       "      <td>http://www.last.fm/music/Diary+of+Dreams</td>\n",
       "      <td>1</td>\n",
       "      <td>240</td>\n",
       "      <td>1</td>\n",
       "      <td>152</td>\n",
       "    </tr>\n",
       "    <tr>\n",
       "      <th>...</th>\n",
       "      <td>...</td>\n",
       "      <td>...</td>\n",
       "      <td>...</td>\n",
       "      <td>...</td>\n",
       "      <td>...</td>\n",
       "      <td>...</td>\n",
       "    </tr>\n",
       "    <tr>\n",
       "      <th>92829</th>\n",
       "      <td>Diamanda GalÃ¡s</td>\n",
       "      <td>http://www.last.fm/music/Diamanda+Gal%C3%A1s</td>\n",
       "      <td>17627</td>\n",
       "      <td>423</td>\n",
       "      <td>17627</td>\n",
       "      <td>301</td>\n",
       "    </tr>\n",
       "    <tr>\n",
       "      <th>92830</th>\n",
       "      <td>Aya RL</td>\n",
       "      <td>http://www.last.fm/music/Aya+RL</td>\n",
       "      <td>17628</td>\n",
       "      <td>423</td>\n",
       "      <td>17628</td>\n",
       "      <td>294</td>\n",
       "    </tr>\n",
       "    <tr>\n",
       "      <th>92831</th>\n",
       "      <td>Coptic Rain</td>\n",
       "      <td>http://www.last.fm/music/Coptic+Rain</td>\n",
       "      <td>17629</td>\n",
       "      <td>423</td>\n",
       "      <td>17629</td>\n",
       "      <td>287</td>\n",
       "    </tr>\n",
       "    <tr>\n",
       "      <th>92832</th>\n",
       "      <td>Oz Alchemist</td>\n",
       "      <td>http://www.last.fm/music/Oz+Alchemist</td>\n",
       "      <td>17630</td>\n",
       "      <td>423</td>\n",
       "      <td>17630</td>\n",
       "      <td>286</td>\n",
       "    </tr>\n",
       "    <tr>\n",
       "      <th>92833</th>\n",
       "      <td>Grzegorz Tomczak</td>\n",
       "      <td>http://www.last.fm/music/Grzegorz+Tomczak</td>\n",
       "      <td>17631</td>\n",
       "      <td>547</td>\n",
       "      <td>17631</td>\n",
       "      <td>426</td>\n",
       "    </tr>\n",
       "  </tbody>\n",
       "</table>\n",
       "<p>92834 rows × 6 columns</p>\n",
       "</div>"
      ],
      "text/plain": [
       "                   name                                           url  artID  \\\n",
       "0          MALICE MIZER         http://www.last.fm/music/MALICE+MIZER      0   \n",
       "1          MALICE MIZER         http://www.last.fm/music/MALICE+MIZER      0   \n",
       "2          MALICE MIZER         http://www.last.fm/music/MALICE+MIZER      0   \n",
       "3       Diary of Dreams      http://www.last.fm/music/Diary+of+Dreams      1   \n",
       "4       Diary of Dreams      http://www.last.fm/music/Diary+of+Dreams      1   \n",
       "...                 ...                                           ...    ...   \n",
       "92829   Diamanda GalÃ¡s  http://www.last.fm/music/Diamanda+Gal%C3%A1s  17627   \n",
       "92830            Aya RL               http://www.last.fm/music/Aya+RL  17628   \n",
       "92831       Coptic Rain          http://www.last.fm/music/Coptic+Rain  17629   \n",
       "92832      Oz Alchemist         http://www.last.fm/music/Oz+Alchemist  17630   \n",
       "92833  Grzegorz Tomczak     http://www.last.fm/music/Grzegorz+Tomczak  17631   \n",
       "\n",
       "       userID  artistID  played  \n",
       "0          31         0     212  \n",
       "1         256         0     483  \n",
       "2         729         0      76  \n",
       "3         130         1    1021  \n",
       "4         240         1     152  \n",
       "...       ...       ...     ...  \n",
       "92829     423     17627     301  \n",
       "92830     423     17628     294  \n",
       "92831     423     17629     287  \n",
       "92832     423     17630     286  \n",
       "92833     547     17631     426  \n",
       "\n",
       "[92834 rows x 6 columns]"
      ]
     },
     "execution_count": 55,
     "metadata": {},
     "output_type": "execute_result"
    }
   ],
   "source": [
    "played"
   ]
  },
  {
   "cell_type": "code",
   "execution_count": 56,
   "id": "4fb68d03",
   "metadata": {},
   "outputs": [
    {
     "name": "stdout",
     "output_type": "stream",
     "text": [
      "The mean number of times a user listens to a song is: 745.2439300256372\n"
     ]
    }
   ],
   "source": [
    "mean = played['played'].mean()\n",
    "print(\"The mean number of times a user listens to a song is: \" + str(mean))"
   ]
  },
  {
   "cell_type": "code",
   "execution_count": 57,
   "id": "37bf535c",
   "metadata": {},
   "outputs": [
    {
     "name": "stdout",
     "output_type": "stream",
     "text": [
      "The median number of times a user listens to a song is: 260.0\n"
     ]
    }
   ],
   "source": [
    "median = played['played'].median()\n",
    "print(\"The median number of times a user listens to a song is: \" + str(median))"
   ]
  },
  {
   "cell_type": "code",
   "execution_count": 58,
   "id": "b081fe57",
   "metadata": {},
   "outputs": [
    {
     "data": {
      "text/plain": [
       "<AxesSubplot:>"
      ]
     },
     "execution_count": 58,
     "metadata": {},
     "output_type": "execute_result"
    },
    {
     "data": {
      "image/png": "[encoded data removed]",
      "text/plain": [
       "<Figure size 1296x432 with 1 Axes>"
      ]
     },
     "metadata": {
      "needs_background": "light"
     },
     "output_type": "display_data"
    }
   ],
   "source": [
    "played['name'].value_counts()[:20].plot(kind='barh', color='green', figsize=(18,6))"
   ]
  },
  {
   "cell_type": "code",
   "execution_count": 59,
   "id": "874082b0",
   "metadata": {},
   "outputs": [
    {
     "data": {
      "text/plain": [
       "<AxesSubplot:xlabel='played'>"
      ]
     },
     "execution_count": 59,
     "metadata": {},
     "output_type": "execute_result"
    },
    {
     "data": {
      "image/png": "[encoded data removed]",
      "text/plain": [
       "<Figure size 1080x504 with 1 Axes>"
      ]
     },
     "metadata": {
      "needs_background": "light"
     },
     "output_type": "display_data"
    }
   ],
   "source": [
    "plt.figure(figsize=[15,7])\n",
    "sns.boxplot(x=played['played'], color=\".25\")"
   ]
  },
  {
   "cell_type": "markdown",
   "id": "cec3c8db",
   "metadata": {},
   "source": [
    "There appears to be quite a lot of outliers here in the played column. Some users have obviously listened to their songs far more times than the average. We double check our values for mean and median earlier and can confirm there are quite a few outliers here."
   ]
  },
  {
   "cell_type": "code",
   "execution_count": 60,
   "id": "fccbac3d",
   "metadata": {},
   "outputs": [
    {
     "data": {
      "text/html": [
       "<div>\n",
       "<style scoped>\n",
       "    .dataframe tbody tr th:only-of-type {\n",
       "        vertical-align: middle;\n",
       "    }\n",
       "\n",
       "    .dataframe tbody tr th {\n",
       "        vertical-align: top;\n",
       "    }\n",
       "\n",
       "    .dataframe thead th {\n",
       "        text-align: right;\n",
       "    }\n",
       "</style>\n",
       "<table border=\"1\" class=\"dataframe\">\n",
       "  <thead>\n",
       "    <tr style=\"text-align: right;\">\n",
       "      <th></th>\n",
       "      <th>artID</th>\n",
       "      <th>userID</th>\n",
       "      <th>artistID</th>\n",
       "      <th>played</th>\n",
       "    </tr>\n",
       "  </thead>\n",
       "  <tbody>\n",
       "    <tr>\n",
       "      <th>count</th>\n",
       "      <td>92834.000</td>\n",
       "      <td>92834.000</td>\n",
       "      <td>92834.000</td>\n",
       "      <td>92834.000</td>\n",
       "    </tr>\n",
       "    <tr>\n",
       "      <th>mean</th>\n",
       "      <td>3235.737</td>\n",
       "      <td>944.222</td>\n",
       "      <td>3235.737</td>\n",
       "      <td>745.244</td>\n",
       "    </tr>\n",
       "    <tr>\n",
       "      <th>std</th>\n",
       "      <td>4197.217</td>\n",
       "      <td>546.751</td>\n",
       "      <td>4197.217</td>\n",
       "      <td>3751.322</td>\n",
       "    </tr>\n",
       "    <tr>\n",
       "      <th>min</th>\n",
       "      <td>0.000</td>\n",
       "      <td>0.000</td>\n",
       "      <td>0.000</td>\n",
       "      <td>1.000</td>\n",
       "    </tr>\n",
       "    <tr>\n",
       "      <th>25%</th>\n",
       "      <td>430.000</td>\n",
       "      <td>470.000</td>\n",
       "      <td>430.000</td>\n",
       "      <td>107.000</td>\n",
       "    </tr>\n",
       "    <tr>\n",
       "      <th>50%</th>\n",
       "      <td>1237.000</td>\n",
       "      <td>944.000</td>\n",
       "      <td>1237.000</td>\n",
       "      <td>260.000</td>\n",
       "    </tr>\n",
       "    <tr>\n",
       "      <th>75%</th>\n",
       "      <td>4266.000</td>\n",
       "      <td>1416.000</td>\n",
       "      <td>4266.000</td>\n",
       "      <td>614.000</td>\n",
       "    </tr>\n",
       "    <tr>\n",
       "      <th>max</th>\n",
       "      <td>17631.000</td>\n",
       "      <td>1891.000</td>\n",
       "      <td>17631.000</td>\n",
       "      <td>352698.000</td>\n",
       "    </tr>\n",
       "  </tbody>\n",
       "</table>\n",
       "</div>"
      ],
      "text/plain": [
       "          artID    userID  artistID     played\n",
       "count 92834.000 92834.000 92834.000  92834.000\n",
       "mean   3235.737   944.222  3235.737    745.244\n",
       "std    4197.217   546.751  4197.217   3751.322\n",
       "min       0.000     0.000     0.000      1.000\n",
       "25%     430.000   470.000   430.000    107.000\n",
       "50%    1237.000   944.000  1237.000    260.000\n",
       "75%    4266.000  1416.000  4266.000    614.000\n",
       "max   17631.000  1891.000 17631.000 352698.000"
      ]
     },
     "execution_count": 60,
     "metadata": {},
     "output_type": "execute_result"
    }
   ],
   "source": [
    "played.describe()"
   ]
  },
  {
   "cell_type": "code",
   "execution_count": 61,
   "id": "0f87f5b8",
   "metadata": {},
   "outputs": [
    {
     "name": "stderr",
     "output_type": "stream",
     "text": [
      "<ipython-input-61-1861b8911a57>:1: DeprecationWarning: `np.object` is a deprecated alias for the builtin `object`. To silence this warning, use `object` by itself. Doing this will not modify any behavior and is safe. \n",
      "Deprecated in NumPy 1.20; for more details and guidance: https://numpy.org/devdocs/release/1.20.0-notes.html#deprecations\n",
      "  played.describe(include=[np.object])\n"
     ]
    },
    {
     "data": {
      "text/html": [
       "<div>\n",
       "<style scoped>\n",
       "    .dataframe tbody tr th:only-of-type {\n",
       "        vertical-align: middle;\n",
       "    }\n",
       "\n",
       "    .dataframe tbody tr th {\n",
       "        vertical-align: top;\n",
       "    }\n",
       "\n",
       "    .dataframe thead th {\n",
       "        text-align: right;\n",
       "    }\n",
       "</style>\n",
       "<table border=\"1\" class=\"dataframe\">\n",
       "  <thead>\n",
       "    <tr style=\"text-align: right;\">\n",
       "      <th></th>\n",
       "      <th>name</th>\n",
       "      <th>url</th>\n",
       "    </tr>\n",
       "  </thead>\n",
       "  <tbody>\n",
       "    <tr>\n",
       "      <th>count</th>\n",
       "      <td>92834</td>\n",
       "      <td>92834</td>\n",
       "    </tr>\n",
       "    <tr>\n",
       "      <th>unique</th>\n",
       "      <td>17632</td>\n",
       "      <td>17632</td>\n",
       "    </tr>\n",
       "    <tr>\n",
       "      <th>top</th>\n",
       "      <td>Lady Gaga</td>\n",
       "      <td>http://www.last.fm/music/Lady+Gaga</td>\n",
       "    </tr>\n",
       "    <tr>\n",
       "      <th>freq</th>\n",
       "      <td>611</td>\n",
       "      <td>611</td>\n",
       "    </tr>\n",
       "  </tbody>\n",
       "</table>\n",
       "</div>"
      ],
      "text/plain": [
       "             name                                 url\n",
       "count       92834                               92834\n",
       "unique      17632                               17632\n",
       "top     Lady Gaga  http://www.last.fm/music/Lady+Gaga\n",
       "freq          611                                 611"
      ]
     },
     "execution_count": 61,
     "metadata": {},
     "output_type": "execute_result"
    }
   ],
   "source": [
    "played.describe(include=[np.object])"
   ]
  },
  {
   "cell_type": "code",
   "execution_count": 62,
   "id": "c92a5c04",
   "metadata": {},
   "outputs": [],
   "source": [
    "grouped_multiple = played.groupby(['artistID', 'name']).agg({'played': ['mean', 'median', 'max', 'sum']})\n",
    "grouped_multiple.columns = ['mean', 'med', 'max', 'sum']\n",
    "grouped_multiple = grouped_multiple.reset_index()\n",
    "#grouped_multiple.sort('price_mean', ascending=False)\n",
    "grouped_multiple = pd.DataFrame(grouped_multiple)"
   ]
  },
  {
   "cell_type": "code",
   "execution_count": 63,
   "id": "2ea39c87",
   "metadata": {},
   "outputs": [],
   "source": [
    "artdf = grouped_multiple.sort_values(by=['sum'], ascending=False)"
   ]
  },
  {
   "cell_type": "code",
   "execution_count": 64,
   "id": "56e564ee",
   "metadata": {},
   "outputs": [
    {
     "data": {
      "text/html": [
       "<div>\n",
       "<style scoped>\n",
       "    .dataframe tbody tr th:only-of-type {\n",
       "        vertical-align: middle;\n",
       "    }\n",
       "\n",
       "    .dataframe tbody tr th {\n",
       "        vertical-align: top;\n",
       "    }\n",
       "\n",
       "    .dataframe thead th {\n",
       "        text-align: right;\n",
       "    }\n",
       "</style>\n",
       "<table border=\"1\" class=\"dataframe\">\n",
       "  <thead>\n",
       "    <tr style=\"text-align: right;\">\n",
       "      <th></th>\n",
       "      <th>artistID</th>\n",
       "      <th>name</th>\n",
       "      <th>mean</th>\n",
       "      <th>med</th>\n",
       "      <th>max</th>\n",
       "      <th>sum</th>\n",
       "    </tr>\n",
       "  </thead>\n",
       "  <tbody>\n",
       "    <tr>\n",
       "      <th>283</th>\n",
       "      <td>283</td>\n",
       "      <td>Britney Spears</td>\n",
       "      <td>4584.559</td>\n",
       "      <td>1000.500</td>\n",
       "      <td>131733</td>\n",
       "      <td>2393140</td>\n",
       "    </tr>\n",
       "    <tr>\n",
       "      <th>66</th>\n",
       "      <td>66</td>\n",
       "      <td>Depeche Mode</td>\n",
       "      <td>4614.567</td>\n",
       "      <td>567.000</td>\n",
       "      <td>352698</td>\n",
       "      <td>1301308</td>\n",
       "    </tr>\n",
       "    <tr>\n",
       "      <th>83</th>\n",
       "      <td>83</td>\n",
       "      <td>Lady Gaga</td>\n",
       "      <td>2113.563</td>\n",
       "      <td>590.000</td>\n",
       "      <td>114672</td>\n",
       "      <td>1291387</td>\n",
       "    </tr>\n",
       "    <tr>\n",
       "      <th>286</th>\n",
       "      <td>286</td>\n",
       "      <td>Christina Aguilera</td>\n",
       "      <td>2600.504</td>\n",
       "      <td>739.000</td>\n",
       "      <td>176133</td>\n",
       "      <td>1058405</td>\n",
       "    </tr>\n",
       "    <tr>\n",
       "      <th>492</th>\n",
       "      <td>492</td>\n",
       "      <td>Paramore</td>\n",
       "      <td>2414.659</td>\n",
       "      <td>417.000</td>\n",
       "      <td>227829</td>\n",
       "      <td>963449</td>\n",
       "    </tr>\n",
       "    <tr>\n",
       "      <th>...</th>\n",
       "      <td>...</td>\n",
       "      <td>...</td>\n",
       "      <td>...</td>\n",
       "      <td>...</td>\n",
       "      <td>...</td>\n",
       "      <td>...</td>\n",
       "    </tr>\n",
       "    <tr>\n",
       "      <th>16522</th>\n",
       "      <td>16522</td>\n",
       "      <td>K-Precise</td>\n",
       "      <td>1.000</td>\n",
       "      <td>1.000</td>\n",
       "      <td>1</td>\n",
       "      <td>1</td>\n",
       "    </tr>\n",
       "    <tr>\n",
       "      <th>13713</th>\n",
       "      <td>13713</td>\n",
       "      <td>ZÃœNDER</td>\n",
       "      <td>1.000</td>\n",
       "      <td>1.000</td>\n",
       "      <td>1</td>\n",
       "      <td>1</td>\n",
       "    </tr>\n",
       "    <tr>\n",
       "      <th>13712</th>\n",
       "      <td>13712</td>\n",
       "      <td>Evil Masquerade</td>\n",
       "      <td>1.000</td>\n",
       "      <td>1.000</td>\n",
       "      <td>1</td>\n",
       "      <td>1</td>\n",
       "    </tr>\n",
       "    <tr>\n",
       "      <th>16239</th>\n",
       "      <td>16239</td>\n",
       "      <td>Gosling</td>\n",
       "      <td>1.000</td>\n",
       "      <td>1.000</td>\n",
       "      <td>1</td>\n",
       "      <td>1</td>\n",
       "    </tr>\n",
       "    <tr>\n",
       "      <th>16241</th>\n",
       "      <td>16241</td>\n",
       "      <td>Kalson</td>\n",
       "      <td>1.000</td>\n",
       "      <td>1.000</td>\n",
       "      <td>1</td>\n",
       "      <td>1</td>\n",
       "    </tr>\n",
       "  </tbody>\n",
       "</table>\n",
       "<p>17632 rows × 6 columns</p>\n",
       "</div>"
      ],
      "text/plain": [
       "       artistID                name     mean      med     max      sum\n",
       "283         283      Britney Spears 4584.559 1000.500  131733  2393140\n",
       "66           66        Depeche Mode 4614.567  567.000  352698  1301308\n",
       "83           83           Lady Gaga 2113.563  590.000  114672  1291387\n",
       "286         286  Christina Aguilera 2600.504  739.000  176133  1058405\n",
       "492         492            Paramore 2414.659  417.000  227829   963449\n",
       "...         ...                 ...      ...      ...     ...      ...\n",
       "16522     16522           K-Precise    1.000    1.000       1        1\n",
       "13713     13713             ZÃœNDER    1.000    1.000       1        1\n",
       "13712     13712     Evil Masquerade    1.000    1.000       1        1\n",
       "16239     16239             Gosling    1.000    1.000       1        1\n",
       "16241     16241              Kalson    1.000    1.000       1        1\n",
       "\n",
       "[17632 rows x 6 columns]"
      ]
     },
     "execution_count": 64,
     "metadata": {},
     "output_type": "execute_result"
    }
   ],
   "source": [
    "artdf"
   ]
  },
  {
   "cell_type": "code",
   "execution_count": 65,
   "id": "704dcb5a",
   "metadata": {},
   "outputs": [],
   "source": [
    "pt2 = artdf.head(20)"
   ]
  },
  {
   "cell_type": "code",
   "execution_count": 66,
   "id": "7c4ba44f",
   "metadata": {},
   "outputs": [
    {
     "data": {
      "text/plain": [
       "<AxesSubplot:title={'center':'Biggest artists by no of listens'}, xlabel='Artist', ylabel='Listens (millions)'>"
      ]
     },
     "execution_count": 66,
     "metadata": {},
     "output_type": "execute_result"
    },
    {
     "data": {
      "image/png": "[encoded data removed]",
      "text/plain": [
       "<Figure size 1296x432 with 1 Axes>"
      ]
     },
     "metadata": {
      "needs_background": "light"
     },
     "output_type": "display_data"
    }
   ],
   "source": [
    "pt2.plot.bar(x = 'name', y = 'sum', rot = 40, figsize=(18, 6), color='green', xlabel='Artist', ylabel='Listens (millions)', title='Biggest artists by no of listens')"
   ]
  },
  {
   "cell_type": "code",
   "execution_count": 67,
   "id": "453924a8",
   "metadata": {},
   "outputs": [],
   "source": [
    "grouped_multiple = played.groupby(['userID']).agg({'played': ['mean', 'median', 'max', 'sum']})\n",
    "grouped_multiple.columns = ['mean', 'med', 'max', 'sum']\n",
    "grouped_multiple = grouped_multiple.reset_index()\n",
    "#grouped_multiple.sort('price_mean', ascending=False)\n",
    "grouped_multiple = pd.DataFrame(grouped_multiple)"
   ]
  },
  {
   "cell_type": "code",
   "execution_count": 68,
   "id": "62cfbd70",
   "metadata": {},
   "outputs": [],
   "source": [
    "userdf = grouped_multiple.sort_values(by=['sum'], ascending=False)"
   ]
  },
  {
   "cell_type": "code",
   "execution_count": 69,
   "id": "742d4421",
   "metadata": {},
   "outputs": [],
   "source": [
    "pt3 = userdf.head(20)"
   ]
  },
  {
   "cell_type": "code",
   "execution_count": 70,
   "id": "d7c443ab",
   "metadata": {},
   "outputs": [
    {
     "data": {
      "text/plain": [
       "<AxesSubplot:title={'center':'Users with by no of listens'}, xlabel='User', ylabel='Listens'>"
      ]
     },
     "execution_count": 70,
     "metadata": {},
     "output_type": "execute_result"
    },
    {
     "data": {
      "image/png": "[encoded data removed]",
      "text/plain": [
       "<Figure size 1296x432 with 1 Axes>"
      ]
     },
     "metadata": {
      "needs_background": "light"
     },
     "output_type": "display_data"
    }
   ],
   "source": [
    "pt3.plot.bar(x = 'userID', y = 'sum', rot = 40, figsize=(18, 6), color='turquoise', xlabel='User', ylabel='Listens', title='Users with by no of listens')"
   ]
  },
  {
   "cell_type": "code",
   "execution_count": 71,
   "id": "afd9381f",
   "metadata": {},
   "outputs": [
    {
     "data": {
      "text/plain": [
       "283     4584.559\n",
       "66      4614.567\n",
       "83      2113.563\n",
       "286     2600.504\n",
       "492     2414.659\n",
       "          ...   \n",
       "16522      1.000\n",
       "13713      1.000\n",
       "13712      1.000\n",
       "16239      1.000\n",
       "16241      1.000\n",
       "Name: mean, Length: 17632, dtype: float64"
      ]
     },
     "execution_count": 71,
     "metadata": {},
     "output_type": "execute_result"
    }
   ],
   "source": [
    "artdf['mean']"
   ]
  },
  {
   "cell_type": "code",
   "execution_count": 72,
   "id": "c7374612",
   "metadata": {},
   "outputs": [
    {
     "data": {
      "text/plain": [
       "(92834, 6)"
      ]
     },
     "execution_count": 72,
     "metadata": {},
     "output_type": "execute_result"
    }
   ],
   "source": [
    "played.shape"
   ]
  },
  {
   "cell_type": "code",
   "execution_count": 73,
   "id": "a8ba58fe",
   "metadata": {},
   "outputs": [
    {
     "name": "stderr",
     "output_type": "stream",
     "text": [
      "C:\\Users\\user\\anaconda3\\lib\\site-packages\\seaborn\\distributions.py:2557: FutureWarning: `distplot` is a deprecated function and will be removed in a future version. Please adapt your code to use either `displot` (a figure-level function with similar flexibility) or `histplot` (an axes-level function for histograms).\n",
      "  warnings.warn(msg, FutureWarning)\n"
     ]
    },
    {
     "data": {
      "text/plain": [
       "Text(0, 0.5, 'Density')"
      ]
     },
     "execution_count": 73,
     "metadata": {},
     "output_type": "execute_result"
    },
    {
     "data": {
      "image/png": "[encoded data removed]",
      "text/plain": [
       "<Figure size 1080x504 with 1 Axes>"
      ]
     },
     "metadata": {
      "needs_background": "light"
     },
     "output_type": "display_data"
    }
   ],
   "source": [
    "plt.figure(figsize=[15,7])\n",
    "sns.distplot(played['played'])\n",
    "plt.xlabel('Played', fontsize=18)\n",
    "plt.ylabel('Density', fontsize=16)"
   ]
  },
  {
   "cell_type": "code",
   "execution_count": 74,
   "id": "a4ae87b2",
   "metadata": {},
   "outputs": [],
   "source": [
    "xyz = pd.DataFrame(played['name'].value_counts())"
   ]
  },
  {
   "cell_type": "code",
   "execution_count": 75,
   "id": "ae163ac6",
   "metadata": {},
   "outputs": [],
   "source": [
    "xyz = xyz.reset_index()"
   ]
  },
  {
   "cell_type": "code",
   "execution_count": 76,
   "id": "f26b7b5f",
   "metadata": {},
   "outputs": [],
   "source": [
    "xyz.rename(columns={'index': 'name', 'name': 'unique'}, inplace=True)"
   ]
  },
  {
   "cell_type": "code",
   "execution_count": 77,
   "id": "dbf8e3d2",
   "metadata": {},
   "outputs": [
    {
     "data": {
      "text/html": [
       "<div>\n",
       "<style scoped>\n",
       "    .dataframe tbody tr th:only-of-type {\n",
       "        vertical-align: middle;\n",
       "    }\n",
       "\n",
       "    .dataframe tbody tr th {\n",
       "        vertical-align: top;\n",
       "    }\n",
       "\n",
       "    .dataframe thead th {\n",
       "        text-align: right;\n",
       "    }\n",
       "</style>\n",
       "<table border=\"1\" class=\"dataframe\">\n",
       "  <thead>\n",
       "    <tr style=\"text-align: right;\">\n",
       "      <th></th>\n",
       "      <th>name</th>\n",
       "      <th>unique</th>\n",
       "    </tr>\n",
       "  </thead>\n",
       "  <tbody>\n",
       "    <tr>\n",
       "      <th>0</th>\n",
       "      <td>Lady Gaga</td>\n",
       "      <td>611</td>\n",
       "    </tr>\n",
       "    <tr>\n",
       "      <th>1</th>\n",
       "      <td>Britney Spears</td>\n",
       "      <td>522</td>\n",
       "    </tr>\n",
       "    <tr>\n",
       "      <th>2</th>\n",
       "      <td>Rihanna</td>\n",
       "      <td>484</td>\n",
       "    </tr>\n",
       "    <tr>\n",
       "      <th>3</th>\n",
       "      <td>The Beatles</td>\n",
       "      <td>480</td>\n",
       "    </tr>\n",
       "    <tr>\n",
       "      <th>4</th>\n",
       "      <td>Katy Perry</td>\n",
       "      <td>473</td>\n",
       "    </tr>\n",
       "    <tr>\n",
       "      <th>...</th>\n",
       "      <td>...</td>\n",
       "      <td>...</td>\n",
       "    </tr>\n",
       "    <tr>\n",
       "      <th>17627</th>\n",
       "      <td>Liquid Mind</td>\n",
       "      <td>1</td>\n",
       "    </tr>\n",
       "    <tr>\n",
       "      <th>17628</th>\n",
       "      <td>Let It Flow</td>\n",
       "      <td>1</td>\n",
       "    </tr>\n",
       "    <tr>\n",
       "      <th>17629</th>\n",
       "      <td>Train of Thought</td>\n",
       "      <td>1</td>\n",
       "    </tr>\n",
       "    <tr>\n",
       "      <th>17630</th>\n",
       "      <td>Bros</td>\n",
       "      <td>1</td>\n",
       "    </tr>\n",
       "    <tr>\n",
       "      <th>17631</th>\n",
       "      <td>Sue and The Unicorn</td>\n",
       "      <td>1</td>\n",
       "    </tr>\n",
       "  </tbody>\n",
       "</table>\n",
       "<p>17632 rows × 2 columns</p>\n",
       "</div>"
      ],
      "text/plain": [
       "                      name  unique\n",
       "0                Lady Gaga     611\n",
       "1           Britney Spears     522\n",
       "2                  Rihanna     484\n",
       "3              The Beatles     480\n",
       "4               Katy Perry     473\n",
       "...                    ...     ...\n",
       "17627          Liquid Mind       1\n",
       "17628          Let It Flow       1\n",
       "17629     Train of Thought       1\n",
       "17630                 Bros       1\n",
       "17631  Sue and The Unicorn       1\n",
       "\n",
       "[17632 rows x 2 columns]"
      ]
     },
     "execution_count": 77,
     "metadata": {},
     "output_type": "execute_result"
    }
   ],
   "source": [
    "xyz"
   ]
  },
  {
   "cell_type": "code",
   "execution_count": 78,
   "id": "5aa07a20",
   "metadata": {},
   "outputs": [],
   "source": [
    "merged_df = artdf.merge(xyz, how = 'inner', on = ['name', 'name'])"
   ]
  },
  {
   "cell_type": "code",
   "execution_count": 79,
   "id": "ffe8102c",
   "metadata": {},
   "outputs": [
    {
     "data": {
      "text/html": [
       "<div>\n",
       "<style scoped>\n",
       "    .dataframe tbody tr th:only-of-type {\n",
       "        vertical-align: middle;\n",
       "    }\n",
       "\n",
       "    .dataframe tbody tr th {\n",
       "        vertical-align: top;\n",
       "    }\n",
       "\n",
       "    .dataframe thead th {\n",
       "        text-align: right;\n",
       "    }\n",
       "</style>\n",
       "<table border=\"1\" class=\"dataframe\">\n",
       "  <thead>\n",
       "    <tr style=\"text-align: right;\">\n",
       "      <th></th>\n",
       "      <th>artistID</th>\n",
       "      <th>name</th>\n",
       "      <th>mean</th>\n",
       "      <th>med</th>\n",
       "      <th>max</th>\n",
       "      <th>sum</th>\n",
       "      <th>unique</th>\n",
       "    </tr>\n",
       "  </thead>\n",
       "  <tbody>\n",
       "    <tr>\n",
       "      <th>0</th>\n",
       "      <td>283</td>\n",
       "      <td>Britney Spears</td>\n",
       "      <td>4584.559</td>\n",
       "      <td>1000.500</td>\n",
       "      <td>131733</td>\n",
       "      <td>2393140</td>\n",
       "      <td>522</td>\n",
       "    </tr>\n",
       "    <tr>\n",
       "      <th>1</th>\n",
       "      <td>66</td>\n",
       "      <td>Depeche Mode</td>\n",
       "      <td>4614.567</td>\n",
       "      <td>567.000</td>\n",
       "      <td>352698</td>\n",
       "      <td>1301308</td>\n",
       "      <td>282</td>\n",
       "    </tr>\n",
       "    <tr>\n",
       "      <th>2</th>\n",
       "      <td>83</td>\n",
       "      <td>Lady Gaga</td>\n",
       "      <td>2113.563</td>\n",
       "      <td>590.000</td>\n",
       "      <td>114672</td>\n",
       "      <td>1291387</td>\n",
       "      <td>611</td>\n",
       "    </tr>\n",
       "    <tr>\n",
       "      <th>3</th>\n",
       "      <td>286</td>\n",
       "      <td>Christina Aguilera</td>\n",
       "      <td>2600.504</td>\n",
       "      <td>739.000</td>\n",
       "      <td>176133</td>\n",
       "      <td>1058405</td>\n",
       "      <td>407</td>\n",
       "    </tr>\n",
       "    <tr>\n",
       "      <th>4</th>\n",
       "      <td>492</td>\n",
       "      <td>Paramore</td>\n",
       "      <td>2414.659</td>\n",
       "      <td>417.000</td>\n",
       "      <td>227829</td>\n",
       "      <td>963449</td>\n",
       "      <td>399</td>\n",
       "    </tr>\n",
       "    <tr>\n",
       "      <th>...</th>\n",
       "      <td>...</td>\n",
       "      <td>...</td>\n",
       "      <td>...</td>\n",
       "      <td>...</td>\n",
       "      <td>...</td>\n",
       "      <td>...</td>\n",
       "      <td>...</td>\n",
       "    </tr>\n",
       "    <tr>\n",
       "      <th>17627</th>\n",
       "      <td>16522</td>\n",
       "      <td>K-Precise</td>\n",
       "      <td>1.000</td>\n",
       "      <td>1.000</td>\n",
       "      <td>1</td>\n",
       "      <td>1</td>\n",
       "      <td>1</td>\n",
       "    </tr>\n",
       "    <tr>\n",
       "      <th>17628</th>\n",
       "      <td>13713</td>\n",
       "      <td>ZÃœNDER</td>\n",
       "      <td>1.000</td>\n",
       "      <td>1.000</td>\n",
       "      <td>1</td>\n",
       "      <td>1</td>\n",
       "      <td>1</td>\n",
       "    </tr>\n",
       "    <tr>\n",
       "      <th>17629</th>\n",
       "      <td>13712</td>\n",
       "      <td>Evil Masquerade</td>\n",
       "      <td>1.000</td>\n",
       "      <td>1.000</td>\n",
       "      <td>1</td>\n",
       "      <td>1</td>\n",
       "      <td>1</td>\n",
       "    </tr>\n",
       "    <tr>\n",
       "      <th>17630</th>\n",
       "      <td>16239</td>\n",
       "      <td>Gosling</td>\n",
       "      <td>1.000</td>\n",
       "      <td>1.000</td>\n",
       "      <td>1</td>\n",
       "      <td>1</td>\n",
       "      <td>1</td>\n",
       "    </tr>\n",
       "    <tr>\n",
       "      <th>17631</th>\n",
       "      <td>16241</td>\n",
       "      <td>Kalson</td>\n",
       "      <td>1.000</td>\n",
       "      <td>1.000</td>\n",
       "      <td>1</td>\n",
       "      <td>1</td>\n",
       "      <td>1</td>\n",
       "    </tr>\n",
       "  </tbody>\n",
       "</table>\n",
       "<p>17632 rows × 7 columns</p>\n",
       "</div>"
      ],
      "text/plain": [
       "       artistID                name     mean      med     max      sum  unique\n",
       "0           283      Britney Spears 4584.559 1000.500  131733  2393140     522\n",
       "1            66        Depeche Mode 4614.567  567.000  352698  1301308     282\n",
       "2            83           Lady Gaga 2113.563  590.000  114672  1291387     611\n",
       "3           286  Christina Aguilera 2600.504  739.000  176133  1058405     407\n",
       "4           492            Paramore 2414.659  417.000  227829   963449     399\n",
       "...         ...                 ...      ...      ...     ...      ...     ...\n",
       "17627     16522           K-Precise    1.000    1.000       1        1       1\n",
       "17628     13713             ZÃœNDER    1.000    1.000       1        1       1\n",
       "17629     13712     Evil Masquerade    1.000    1.000       1        1       1\n",
       "17630     16239             Gosling    1.000    1.000       1        1       1\n",
       "17631     16241              Kalson    1.000    1.000       1        1       1\n",
       "\n",
       "[17632 rows x 7 columns]"
      ]
     },
     "execution_count": 79,
     "metadata": {},
     "output_type": "execute_result"
    }
   ],
   "source": [
    "merged_df"
   ]
  },
  {
   "cell_type": "code",
   "execution_count": 80,
   "id": "bd17a23e",
   "metadata": {},
   "outputs": [],
   "source": [
    "percent = []\n",
    "val = merged_df['unique']\n",
    "total = played['userID'].nunique()\n",
    "percent = []\n",
    "for i in range(len(val)):\n",
    "    y = val[i] / total\n",
    "    percent.append(y)\n",
    "    #print(y)"
   ]
  },
  {
   "cell_type": "code",
   "execution_count": 81,
   "id": "55ce8e81",
   "metadata": {},
   "outputs": [],
   "source": [
    "percent = np.array(percent)\n",
    "artdf['Percentage'] = percent.tolist()"
   ]
  },
  {
   "cell_type": "code",
   "execution_count": 82,
   "id": "8f4ec8cf",
   "metadata": {},
   "outputs": [
    {
     "data": {
      "text/html": [
       "<div>\n",
       "<style scoped>\n",
       "    .dataframe tbody tr th:only-of-type {\n",
       "        vertical-align: middle;\n",
       "    }\n",
       "\n",
       "    .dataframe tbody tr th {\n",
       "        vertical-align: top;\n",
       "    }\n",
       "\n",
       "    .dataframe thead th {\n",
       "        text-align: right;\n",
       "    }\n",
       "</style>\n",
       "<table border=\"1\" class=\"dataframe\">\n",
       "  <thead>\n",
       "    <tr style=\"text-align: right;\">\n",
       "      <th></th>\n",
       "      <th>artistID</th>\n",
       "      <th>name</th>\n",
       "      <th>mean</th>\n",
       "      <th>med</th>\n",
       "      <th>max</th>\n",
       "      <th>sum</th>\n",
       "      <th>Percentage</th>\n",
       "    </tr>\n",
       "  </thead>\n",
       "  <tbody>\n",
       "    <tr>\n",
       "      <th>283</th>\n",
       "      <td>283</td>\n",
       "      <td>Britney Spears</td>\n",
       "      <td>4584.559</td>\n",
       "      <td>1000.500</td>\n",
       "      <td>131733</td>\n",
       "      <td>2393140</td>\n",
       "      <td>0.276</td>\n",
       "    </tr>\n",
       "    <tr>\n",
       "      <th>66</th>\n",
       "      <td>66</td>\n",
       "      <td>Depeche Mode</td>\n",
       "      <td>4614.567</td>\n",
       "      <td>567.000</td>\n",
       "      <td>352698</td>\n",
       "      <td>1301308</td>\n",
       "      <td>0.149</td>\n",
       "    </tr>\n",
       "    <tr>\n",
       "      <th>83</th>\n",
       "      <td>83</td>\n",
       "      <td>Lady Gaga</td>\n",
       "      <td>2113.563</td>\n",
       "      <td>590.000</td>\n",
       "      <td>114672</td>\n",
       "      <td>1291387</td>\n",
       "      <td>0.323</td>\n",
       "    </tr>\n",
       "    <tr>\n",
       "      <th>286</th>\n",
       "      <td>286</td>\n",
       "      <td>Christina Aguilera</td>\n",
       "      <td>2600.504</td>\n",
       "      <td>739.000</td>\n",
       "      <td>176133</td>\n",
       "      <td>1058405</td>\n",
       "      <td>0.215</td>\n",
       "    </tr>\n",
       "    <tr>\n",
       "      <th>492</th>\n",
       "      <td>492</td>\n",
       "      <td>Paramore</td>\n",
       "      <td>2414.659</td>\n",
       "      <td>417.000</td>\n",
       "      <td>227829</td>\n",
       "      <td>963449</td>\n",
       "      <td>0.211</td>\n",
       "    </tr>\n",
       "    <tr>\n",
       "      <th>...</th>\n",
       "      <td>...</td>\n",
       "      <td>...</td>\n",
       "      <td>...</td>\n",
       "      <td>...</td>\n",
       "      <td>...</td>\n",
       "      <td>...</td>\n",
       "      <td>...</td>\n",
       "    </tr>\n",
       "    <tr>\n",
       "      <th>16522</th>\n",
       "      <td>16522</td>\n",
       "      <td>K-Precise</td>\n",
       "      <td>1.000</td>\n",
       "      <td>1.000</td>\n",
       "      <td>1</td>\n",
       "      <td>1</td>\n",
       "      <td>0.001</td>\n",
       "    </tr>\n",
       "    <tr>\n",
       "      <th>13713</th>\n",
       "      <td>13713</td>\n",
       "      <td>ZÃœNDER</td>\n",
       "      <td>1.000</td>\n",
       "      <td>1.000</td>\n",
       "      <td>1</td>\n",
       "      <td>1</td>\n",
       "      <td>0.001</td>\n",
       "    </tr>\n",
       "    <tr>\n",
       "      <th>13712</th>\n",
       "      <td>13712</td>\n",
       "      <td>Evil Masquerade</td>\n",
       "      <td>1.000</td>\n",
       "      <td>1.000</td>\n",
       "      <td>1</td>\n",
       "      <td>1</td>\n",
       "      <td>0.001</td>\n",
       "    </tr>\n",
       "    <tr>\n",
       "      <th>16239</th>\n",
       "      <td>16239</td>\n",
       "      <td>Gosling</td>\n",
       "      <td>1.000</td>\n",
       "      <td>1.000</td>\n",
       "      <td>1</td>\n",
       "      <td>1</td>\n",
       "      <td>0.001</td>\n",
       "    </tr>\n",
       "    <tr>\n",
       "      <th>16241</th>\n",
       "      <td>16241</td>\n",
       "      <td>Kalson</td>\n",
       "      <td>1.000</td>\n",
       "      <td>1.000</td>\n",
       "      <td>1</td>\n",
       "      <td>1</td>\n",
       "      <td>0.001</td>\n",
       "    </tr>\n",
       "  </tbody>\n",
       "</table>\n",
       "<p>17632 rows × 7 columns</p>\n",
       "</div>"
      ],
      "text/plain": [
       "       artistID                name     mean      med     max      sum  \\\n",
       "283         283      Britney Spears 4584.559 1000.500  131733  2393140   \n",
       "66           66        Depeche Mode 4614.567  567.000  352698  1301308   \n",
       "83           83           Lady Gaga 2113.563  590.000  114672  1291387   \n",
       "286         286  Christina Aguilera 2600.504  739.000  176133  1058405   \n",
       "492         492            Paramore 2414.659  417.000  227829   963449   \n",
       "...         ...                 ...      ...      ...     ...      ...   \n",
       "16522     16522           K-Precise    1.000    1.000       1        1   \n",
       "13713     13713             ZÃœNDER    1.000    1.000       1        1   \n",
       "13712     13712     Evil Masquerade    1.000    1.000       1        1   \n",
       "16239     16239             Gosling    1.000    1.000       1        1   \n",
       "16241     16241              Kalson    1.000    1.000       1        1   \n",
       "\n",
       "       Percentage  \n",
       "283         0.276  \n",
       "66          0.149  \n",
       "83          0.323  \n",
       "286         0.215  \n",
       "492         0.211  \n",
       "...           ...  \n",
       "16522       0.001  \n",
       "13713       0.001  \n",
       "13712       0.001  \n",
       "16239       0.001  \n",
       "16241       0.001  \n",
       "\n",
       "[17632 rows x 7 columns]"
      ]
     },
     "execution_count": 82,
     "metadata": {},
     "output_type": "execute_result"
    }
   ],
   "source": [
    "artdf"
   ]
  },
  {
   "cell_type": "code",
   "execution_count": 83,
   "id": "b4c01015",
   "metadata": {},
   "outputs": [],
   "source": [
    "artdf['unique'] = merged_df['unique'].values"
   ]
  },
  {
   "cell_type": "code",
   "execution_count": 84,
   "id": "f35c0303",
   "metadata": {},
   "outputs": [
    {
     "data": {
      "text/html": [
       "<div>\n",
       "<style scoped>\n",
       "    .dataframe tbody tr th:only-of-type {\n",
       "        vertical-align: middle;\n",
       "    }\n",
       "\n",
       "    .dataframe tbody tr th {\n",
       "        vertical-align: top;\n",
       "    }\n",
       "\n",
       "    .dataframe thead th {\n",
       "        text-align: right;\n",
       "    }\n",
       "</style>\n",
       "<table border=\"1\" class=\"dataframe\">\n",
       "  <thead>\n",
       "    <tr style=\"text-align: right;\">\n",
       "      <th></th>\n",
       "      <th>artistID</th>\n",
       "      <th>name</th>\n",
       "      <th>mean</th>\n",
       "      <th>med</th>\n",
       "      <th>max</th>\n",
       "      <th>sum</th>\n",
       "      <th>Percentage</th>\n",
       "      <th>unique</th>\n",
       "    </tr>\n",
       "  </thead>\n",
       "  <tbody>\n",
       "    <tr>\n",
       "      <th>283</th>\n",
       "      <td>283</td>\n",
       "      <td>Britney Spears</td>\n",
       "      <td>4584.559</td>\n",
       "      <td>1000.500</td>\n",
       "      <td>131733</td>\n",
       "      <td>2393140</td>\n",
       "      <td>0.276</td>\n",
       "      <td>522</td>\n",
       "    </tr>\n",
       "    <tr>\n",
       "      <th>66</th>\n",
       "      <td>66</td>\n",
       "      <td>Depeche Mode</td>\n",
       "      <td>4614.567</td>\n",
       "      <td>567.000</td>\n",
       "      <td>352698</td>\n",
       "      <td>1301308</td>\n",
       "      <td>0.149</td>\n",
       "      <td>282</td>\n",
       "    </tr>\n",
       "    <tr>\n",
       "      <th>83</th>\n",
       "      <td>83</td>\n",
       "      <td>Lady Gaga</td>\n",
       "      <td>2113.563</td>\n",
       "      <td>590.000</td>\n",
       "      <td>114672</td>\n",
       "      <td>1291387</td>\n",
       "      <td>0.323</td>\n",
       "      <td>611</td>\n",
       "    </tr>\n",
       "    <tr>\n",
       "      <th>286</th>\n",
       "      <td>286</td>\n",
       "      <td>Christina Aguilera</td>\n",
       "      <td>2600.504</td>\n",
       "      <td>739.000</td>\n",
       "      <td>176133</td>\n",
       "      <td>1058405</td>\n",
       "      <td>0.215</td>\n",
       "      <td>407</td>\n",
       "    </tr>\n",
       "    <tr>\n",
       "      <th>492</th>\n",
       "      <td>492</td>\n",
       "      <td>Paramore</td>\n",
       "      <td>2414.659</td>\n",
       "      <td>417.000</td>\n",
       "      <td>227829</td>\n",
       "      <td>963449</td>\n",
       "      <td>0.211</td>\n",
       "      <td>399</td>\n",
       "    </tr>\n",
       "    <tr>\n",
       "      <th>...</th>\n",
       "      <td>...</td>\n",
       "      <td>...</td>\n",
       "      <td>...</td>\n",
       "      <td>...</td>\n",
       "      <td>...</td>\n",
       "      <td>...</td>\n",
       "      <td>...</td>\n",
       "      <td>...</td>\n",
       "    </tr>\n",
       "    <tr>\n",
       "      <th>16522</th>\n",
       "      <td>16522</td>\n",
       "      <td>K-Precise</td>\n",
       "      <td>1.000</td>\n",
       "      <td>1.000</td>\n",
       "      <td>1</td>\n",
       "      <td>1</td>\n",
       "      <td>0.001</td>\n",
       "      <td>1</td>\n",
       "    </tr>\n",
       "    <tr>\n",
       "      <th>13713</th>\n",
       "      <td>13713</td>\n",
       "      <td>ZÃœNDER</td>\n",
       "      <td>1.000</td>\n",
       "      <td>1.000</td>\n",
       "      <td>1</td>\n",
       "      <td>1</td>\n",
       "      <td>0.001</td>\n",
       "      <td>1</td>\n",
       "    </tr>\n",
       "    <tr>\n",
       "      <th>13712</th>\n",
       "      <td>13712</td>\n",
       "      <td>Evil Masquerade</td>\n",
       "      <td>1.000</td>\n",
       "      <td>1.000</td>\n",
       "      <td>1</td>\n",
       "      <td>1</td>\n",
       "      <td>0.001</td>\n",
       "      <td>1</td>\n",
       "    </tr>\n",
       "    <tr>\n",
       "      <th>16239</th>\n",
       "      <td>16239</td>\n",
       "      <td>Gosling</td>\n",
       "      <td>1.000</td>\n",
       "      <td>1.000</td>\n",
       "      <td>1</td>\n",
       "      <td>1</td>\n",
       "      <td>0.001</td>\n",
       "      <td>1</td>\n",
       "    </tr>\n",
       "    <tr>\n",
       "      <th>16241</th>\n",
       "      <td>16241</td>\n",
       "      <td>Kalson</td>\n",
       "      <td>1.000</td>\n",
       "      <td>1.000</td>\n",
       "      <td>1</td>\n",
       "      <td>1</td>\n",
       "      <td>0.001</td>\n",
       "      <td>1</td>\n",
       "    </tr>\n",
       "  </tbody>\n",
       "</table>\n",
       "<p>17632 rows × 8 columns</p>\n",
       "</div>"
      ],
      "text/plain": [
       "       artistID                name     mean      med     max      sum  \\\n",
       "283         283      Britney Spears 4584.559 1000.500  131733  2393140   \n",
       "66           66        Depeche Mode 4614.567  567.000  352698  1301308   \n",
       "83           83           Lady Gaga 2113.563  590.000  114672  1291387   \n",
       "286         286  Christina Aguilera 2600.504  739.000  176133  1058405   \n",
       "492         492            Paramore 2414.659  417.000  227829   963449   \n",
       "...         ...                 ...      ...      ...     ...      ...   \n",
       "16522     16522           K-Precise    1.000    1.000       1        1   \n",
       "13713     13713             ZÃœNDER    1.000    1.000       1        1   \n",
       "13712     13712     Evil Masquerade    1.000    1.000       1        1   \n",
       "16239     16239             Gosling    1.000    1.000       1        1   \n",
       "16241     16241              Kalson    1.000    1.000       1        1   \n",
       "\n",
       "       Percentage  unique  \n",
       "283         0.276     522  \n",
       "66          0.149     282  \n",
       "83          0.323     611  \n",
       "286         0.215     407  \n",
       "492         0.211     399  \n",
       "...           ...     ...  \n",
       "16522       0.001       1  \n",
       "13713       0.001       1  \n",
       "13712       0.001       1  \n",
       "16239       0.001       1  \n",
       "16241       0.001       1  \n",
       "\n",
       "[17632 rows x 8 columns]"
      ]
     },
     "execution_count": 84,
     "metadata": {},
     "output_type": "execute_result"
    }
   ],
   "source": [
    "artdf"
   ]
  },
  {
   "cell_type": "code",
   "execution_count": 85,
   "id": "fc785259",
   "metadata": {},
   "outputs": [],
   "source": [
    "artdf = artdf.sort_values(by=['Percentage'], ascending=False)"
   ]
  },
  {
   "cell_type": "code",
   "execution_count": 86,
   "id": "c99089d5",
   "metadata": {},
   "outputs": [
    {
     "data": {
      "text/plain": [
       "<AxesSubplot:title={'center':'Percentage of users who listen to most popular artists'}, xlabel='Artist', ylabel='% of unique users who listen'>"
      ]
     },
     "execution_count": 86,
     "metadata": {},
     "output_type": "execute_result"
    },
    {
     "data": {
      "image/png": "[encoded data removed]",
      "text/plain": [
       "<Figure size 1296x432 with 1 Axes>"
      ]
     },
     "metadata": {
      "needs_background": "light"
     },
     "output_type": "display_data"
    }
   ],
   "source": [
    "pt2 = artdf.head(20)\n",
    "pt2.plot.bar(x = 'name', y = 'Percentage', rot = 40, figsize=(18, 6), color='green', xlabel='Artist', ylabel='% of unique users who listen', title='Percentage of users who listen to most popular artists')"
   ]
  },
  {
   "cell_type": "code",
   "execution_count": 87,
   "id": "c71cfb7e",
   "metadata": {},
   "outputs": [
    {
     "name": "stdout",
     "output_type": "stream",
     "text": [
      "The percentage of artists with 0.01 or less users listening to them is 16794.\n",
      "The percentage of artists with 0.02 or less users listening to them is 17200.\n",
      "The percentage of artists with 0.03 or less users listening to them is 17350.\n",
      "The percentage of artists with 0.04 or less users listening to them is 17430.\n",
      "The percentage of artists with 0.05 or less users listening to them is 17497.\n"
     ]
    }
   ],
   "source": [
    "values = [0.01, 0.02, 0.03, 0.04, 0.05]\n",
    "for i in range(len(values)):\n",
    "    x = len(artdf[artdf['Percentage'] <= values[i]])\n",
    "    print(\"The percentage of artists with \" + str(values[i]) + \" or less users listening to them is \" + str(x) + \".\")"
   ]
  },
  {
   "cell_type": "markdown",
   "id": "2df44288",
   "metadata": {},
   "source": [
    "We can tell on the whole of the 17632 artists that there are actually very few who are listened to by a wide audience. There are less than 1000 artists who have more than 1% of users listening to them. This means our data is probably leaned very heavily towards the most popular artists such as Britney Spears or Lady Gaga as per our barchart above."
   ]
  },
  {
   "cell_type": "markdown",
   "id": "95947169",
   "metadata": {},
   "source": [
    "## Let's now look at our tags and see if we can get any information from this for our recommender system"
   ]
  },
  {
   "cell_type": "code",
   "execution_count": 88,
   "id": "48a3d157",
   "metadata": {},
   "outputs": [],
   "source": [
    "tagged = pd.merge(df1, df4, how=\"inner\", left_on=\"tagID\", right_on=\"tagID\")"
   ]
  },
  {
   "cell_type": "code",
   "execution_count": 89,
   "id": "cab1196b",
   "metadata": {},
   "outputs": [],
   "source": [
    "tagged.drop(columns=['day', 'month', 'year'], inplace=True)"
   ]
  },
  {
   "cell_type": "code",
   "execution_count": 90,
   "id": "02299137",
   "metadata": {},
   "outputs": [
    {
     "data": {
      "text/html": [
       "<div>\n",
       "<style scoped>\n",
       "    .dataframe tbody tr th:only-of-type {\n",
       "        vertical-align: middle;\n",
       "    }\n",
       "\n",
       "    .dataframe tbody tr th {\n",
       "        vertical-align: top;\n",
       "    }\n",
       "\n",
       "    .dataframe thead th {\n",
       "        text-align: right;\n",
       "    }\n",
       "</style>\n",
       "<table border=\"1\" class=\"dataframe\">\n",
       "  <thead>\n",
       "    <tr style=\"text-align: right;\">\n",
       "      <th></th>\n",
       "      <th>tagID</th>\n",
       "      <th>tagValue</th>\n",
       "      <th>userID</th>\n",
       "      <th>artistID</th>\n",
       "    </tr>\n",
       "  </thead>\n",
       "  <tbody>\n",
       "    <tr>\n",
       "      <th>0</th>\n",
       "      <td>1</td>\n",
       "      <td>metal</td>\n",
       "      <td>4</td>\n",
       "      <td>918</td>\n",
       "    </tr>\n",
       "    <tr>\n",
       "      <th>1</th>\n",
       "      <td>1</td>\n",
       "      <td>metal</td>\n",
       "      <td>12</td>\n",
       "      <td>181</td>\n",
       "    </tr>\n",
       "    <tr>\n",
       "      <th>2</th>\n",
       "      <td>1</td>\n",
       "      <td>metal</td>\n",
       "      <td>12</td>\n",
       "      <td>198</td>\n",
       "    </tr>\n",
       "    <tr>\n",
       "      <th>3</th>\n",
       "      <td>1</td>\n",
       "      <td>metal</td>\n",
       "      <td>12</td>\n",
       "      <td>500</td>\n",
       "    </tr>\n",
       "    <tr>\n",
       "      <th>4</th>\n",
       "      <td>1</td>\n",
       "      <td>metal</td>\n",
       "      <td>12</td>\n",
       "      <td>503</td>\n",
       "    </tr>\n",
       "    <tr>\n",
       "      <th>...</th>\n",
       "      <td>...</td>\n",
       "      <td>...</td>\n",
       "      <td>...</td>\n",
       "      <td>...</td>\n",
       "    </tr>\n",
       "    <tr>\n",
       "      <th>186474</th>\n",
       "      <td>12647</td>\n",
       "      <td>eire</td>\n",
       "      <td>2096</td>\n",
       "      <td>166</td>\n",
       "    </tr>\n",
       "    <tr>\n",
       "      <th>186475</th>\n",
       "      <td>12647</td>\n",
       "      <td>eire</td>\n",
       "      <td>2096</td>\n",
       "      <td>389</td>\n",
       "    </tr>\n",
       "    <tr>\n",
       "      <th>186476</th>\n",
       "      <td>12647</td>\n",
       "      <td>eire</td>\n",
       "      <td>2096</td>\n",
       "      <td>511</td>\n",
       "    </tr>\n",
       "    <tr>\n",
       "      <th>186477</th>\n",
       "      <td>12647</td>\n",
       "      <td>eire</td>\n",
       "      <td>2096</td>\n",
       "      <td>1375</td>\n",
       "    </tr>\n",
       "    <tr>\n",
       "      <th>186478</th>\n",
       "      <td>12647</td>\n",
       "      <td>eire</td>\n",
       "      <td>2096</td>\n",
       "      <td>2542</td>\n",
       "    </tr>\n",
       "  </tbody>\n",
       "</table>\n",
       "<p>186479 rows × 4 columns</p>\n",
       "</div>"
      ],
      "text/plain": [
       "        tagID tagValue  userID  artistID\n",
       "0           1    metal       4       918\n",
       "1           1    metal      12       181\n",
       "2           1    metal      12       198\n",
       "3           1    metal      12       500\n",
       "4           1    metal      12       503\n",
       "...       ...      ...     ...       ...\n",
       "186474  12647     eire    2096       166\n",
       "186475  12647     eire    2096       389\n",
       "186476  12647     eire    2096       511\n",
       "186477  12647     eire    2096      1375\n",
       "186478  12647     eire    2096      2542\n",
       "\n",
       "[186479 rows x 4 columns]"
      ]
     },
     "execution_count": 90,
     "metadata": {},
     "output_type": "execute_result"
    }
   ],
   "source": [
    "tagged"
   ]
  },
  {
   "cell_type": "code",
   "execution_count": 91,
   "id": "b9efd097",
   "metadata": {},
   "outputs": [
    {
     "data": {
      "text/plain": [
       "9749"
      ]
     },
     "execution_count": 91,
     "metadata": {},
     "output_type": "execute_result"
    }
   ],
   "source": [
    "tagged['tagValue'].nunique()"
   ]
  },
  {
   "cell_type": "code",
   "execution_count": 92,
   "id": "3c9e87a2",
   "metadata": {},
   "outputs": [
    {
     "data": {
      "text/plain": [
       "<AxesSubplot:>"
      ]
     },
     "execution_count": 92,
     "metadata": {},
     "output_type": "execute_result"
    },
    {
     "data": {
      "image/png": "[encoded data removed]",
      "text/plain": [
       "<Figure size 1296x432 with 1 Axes>"
      ]
     },
     "metadata": {
      "needs_background": "light"
     },
     "output_type": "display_data"
    }
   ],
   "source": [
    "tagged['tagValue'].value_counts()[:20].plot(kind='barh', color='green', figsize=(18,6))"
   ]
  },
  {
   "cell_type": "code",
   "execution_count": 93,
   "id": "35f3f3fe",
   "metadata": {},
   "outputs": [
    {
     "data": {
      "text/plain": [
       "17632"
      ]
     },
     "execution_count": 93,
     "metadata": {},
     "output_type": "execute_result"
    }
   ],
   "source": [
    "played['name'].nunique()"
   ]
  },
  {
   "cell_type": "code",
   "execution_count": 94,
   "id": "f060564d",
   "metadata": {},
   "outputs": [],
   "source": [
    "z = played[['name', 'artistID']]"
   ]
  },
  {
   "cell_type": "code",
   "execution_count": 95,
   "id": "20efd633",
   "metadata": {},
   "outputs": [],
   "source": [
    "z = z.drop_duplicates()"
   ]
  },
  {
   "cell_type": "code",
   "execution_count": 96,
   "id": "13836e4d",
   "metadata": {},
   "outputs": [
    {
     "data": {
      "text/html": [
       "<div>\n",
       "<style scoped>\n",
       "    .dataframe tbody tr th:only-of-type {\n",
       "        vertical-align: middle;\n",
       "    }\n",
       "\n",
       "    .dataframe tbody tr th {\n",
       "        vertical-align: top;\n",
       "    }\n",
       "\n",
       "    .dataframe thead th {\n",
       "        text-align: right;\n",
       "    }\n",
       "</style>\n",
       "<table border=\"1\" class=\"dataframe\">\n",
       "  <thead>\n",
       "    <tr style=\"text-align: right;\">\n",
       "      <th></th>\n",
       "      <th>name</th>\n",
       "      <th>artistID</th>\n",
       "    </tr>\n",
       "  </thead>\n",
       "  <tbody>\n",
       "    <tr>\n",
       "      <th>0</th>\n",
       "      <td>MALICE MIZER</td>\n",
       "      <td>0</td>\n",
       "    </tr>\n",
       "    <tr>\n",
       "      <th>3</th>\n",
       "      <td>Diary of Dreams</td>\n",
       "      <td>1</td>\n",
       "    </tr>\n",
       "    <tr>\n",
       "      <th>15</th>\n",
       "      <td>Carpathian Forest</td>\n",
       "      <td>2</td>\n",
       "    </tr>\n",
       "    <tr>\n",
       "      <th>18</th>\n",
       "      <td>Moi dix Mois</td>\n",
       "      <td>3</td>\n",
       "    </tr>\n",
       "    <tr>\n",
       "      <th>20</th>\n",
       "      <td>Bella Morte</td>\n",
       "      <td>4</td>\n",
       "    </tr>\n",
       "    <tr>\n",
       "      <th>...</th>\n",
       "      <td>...</td>\n",
       "      <td>...</td>\n",
       "    </tr>\n",
       "    <tr>\n",
       "      <th>92829</th>\n",
       "      <td>Diamanda GalÃ¡s</td>\n",
       "      <td>17627</td>\n",
       "    </tr>\n",
       "    <tr>\n",
       "      <th>92830</th>\n",
       "      <td>Aya RL</td>\n",
       "      <td>17628</td>\n",
       "    </tr>\n",
       "    <tr>\n",
       "      <th>92831</th>\n",
       "      <td>Coptic Rain</td>\n",
       "      <td>17629</td>\n",
       "    </tr>\n",
       "    <tr>\n",
       "      <th>92832</th>\n",
       "      <td>Oz Alchemist</td>\n",
       "      <td>17630</td>\n",
       "    </tr>\n",
       "    <tr>\n",
       "      <th>92833</th>\n",
       "      <td>Grzegorz Tomczak</td>\n",
       "      <td>17631</td>\n",
       "    </tr>\n",
       "  </tbody>\n",
       "</table>\n",
       "<p>17632 rows × 2 columns</p>\n",
       "</div>"
      ],
      "text/plain": [
       "                    name  artistID\n",
       "0           MALICE MIZER         0\n",
       "3        Diary of Dreams         1\n",
       "15     Carpathian Forest         2\n",
       "18          Moi dix Mois         3\n",
       "20           Bella Morte         4\n",
       "...                  ...       ...\n",
       "92829    Diamanda GalÃ¡s     17627\n",
       "92830             Aya RL     17628\n",
       "92831        Coptic Rain     17629\n",
       "92832       Oz Alchemist     17630\n",
       "92833   Grzegorz Tomczak     17631\n",
       "\n",
       "[17632 rows x 2 columns]"
      ]
     },
     "execution_count": 96,
     "metadata": {},
     "output_type": "execute_result"
    }
   ],
   "source": [
    "z"
   ]
  },
  {
   "cell_type": "code",
   "execution_count": 97,
   "id": "e7b90e72",
   "metadata": {},
   "outputs": [
    {
     "data": {
      "text/html": [
       "<div>\n",
       "<style scoped>\n",
       "    .dataframe tbody tr th:only-of-type {\n",
       "        vertical-align: middle;\n",
       "    }\n",
       "\n",
       "    .dataframe tbody tr th {\n",
       "        vertical-align: top;\n",
       "    }\n",
       "\n",
       "    .dataframe thead th {\n",
       "        text-align: right;\n",
       "    }\n",
       "</style>\n",
       "<table border=\"1\" class=\"dataframe\">\n",
       "  <thead>\n",
       "    <tr style=\"text-align: right;\">\n",
       "      <th></th>\n",
       "      <th>name</th>\n",
       "      <th>url</th>\n",
       "      <th>artID</th>\n",
       "      <th>userID</th>\n",
       "      <th>artistID</th>\n",
       "      <th>played</th>\n",
       "    </tr>\n",
       "  </thead>\n",
       "  <tbody>\n",
       "    <tr>\n",
       "      <th>0</th>\n",
       "      <td>MALICE MIZER</td>\n",
       "      <td>http://www.last.fm/music/MALICE+MIZER</td>\n",
       "      <td>0</td>\n",
       "      <td>31</td>\n",
       "      <td>0</td>\n",
       "      <td>212</td>\n",
       "    </tr>\n",
       "    <tr>\n",
       "      <th>1</th>\n",
       "      <td>MALICE MIZER</td>\n",
       "      <td>http://www.last.fm/music/MALICE+MIZER</td>\n",
       "      <td>0</td>\n",
       "      <td>256</td>\n",
       "      <td>0</td>\n",
       "      <td>483</td>\n",
       "    </tr>\n",
       "    <tr>\n",
       "      <th>2</th>\n",
       "      <td>MALICE MIZER</td>\n",
       "      <td>http://www.last.fm/music/MALICE+MIZER</td>\n",
       "      <td>0</td>\n",
       "      <td>729</td>\n",
       "      <td>0</td>\n",
       "      <td>76</td>\n",
       "    </tr>\n",
       "    <tr>\n",
       "      <th>3</th>\n",
       "      <td>Diary of Dreams</td>\n",
       "      <td>http://www.last.fm/music/Diary+of+Dreams</td>\n",
       "      <td>1</td>\n",
       "      <td>130</td>\n",
       "      <td>1</td>\n",
       "      <td>1021</td>\n",
       "    </tr>\n",
       "    <tr>\n",
       "      <th>4</th>\n",
       "      <td>Diary of Dreams</td>\n",
       "      <td>http://www.last.fm/music/Diary+of+Dreams</td>\n",
       "      <td>1</td>\n",
       "      <td>240</td>\n",
       "      <td>1</td>\n",
       "      <td>152</td>\n",
       "    </tr>\n",
       "    <tr>\n",
       "      <th>...</th>\n",
       "      <td>...</td>\n",
       "      <td>...</td>\n",
       "      <td>...</td>\n",
       "      <td>...</td>\n",
       "      <td>...</td>\n",
       "      <td>...</td>\n",
       "    </tr>\n",
       "    <tr>\n",
       "      <th>92829</th>\n",
       "      <td>Diamanda GalÃ¡s</td>\n",
       "      <td>http://www.last.fm/music/Diamanda+Gal%C3%A1s</td>\n",
       "      <td>17627</td>\n",
       "      <td>423</td>\n",
       "      <td>17627</td>\n",
       "      <td>301</td>\n",
       "    </tr>\n",
       "    <tr>\n",
       "      <th>92830</th>\n",
       "      <td>Aya RL</td>\n",
       "      <td>http://www.last.fm/music/Aya+RL</td>\n",
       "      <td>17628</td>\n",
       "      <td>423</td>\n",
       "      <td>17628</td>\n",
       "      <td>294</td>\n",
       "    </tr>\n",
       "    <tr>\n",
       "      <th>92831</th>\n",
       "      <td>Coptic Rain</td>\n",
       "      <td>http://www.last.fm/music/Coptic+Rain</td>\n",
       "      <td>17629</td>\n",
       "      <td>423</td>\n",
       "      <td>17629</td>\n",
       "      <td>287</td>\n",
       "    </tr>\n",
       "    <tr>\n",
       "      <th>92832</th>\n",
       "      <td>Oz Alchemist</td>\n",
       "      <td>http://www.last.fm/music/Oz+Alchemist</td>\n",
       "      <td>17630</td>\n",
       "      <td>423</td>\n",
       "      <td>17630</td>\n",
       "      <td>286</td>\n",
       "    </tr>\n",
       "    <tr>\n",
       "      <th>92833</th>\n",
       "      <td>Grzegorz Tomczak</td>\n",
       "      <td>http://www.last.fm/music/Grzegorz+Tomczak</td>\n",
       "      <td>17631</td>\n",
       "      <td>547</td>\n",
       "      <td>17631</td>\n",
       "      <td>426</td>\n",
       "    </tr>\n",
       "  </tbody>\n",
       "</table>\n",
       "<p>92834 rows × 6 columns</p>\n",
       "</div>"
      ],
      "text/plain": [
       "                   name                                           url  artID  \\\n",
       "0          MALICE MIZER         http://www.last.fm/music/MALICE+MIZER      0   \n",
       "1          MALICE MIZER         http://www.last.fm/music/MALICE+MIZER      0   \n",
       "2          MALICE MIZER         http://www.last.fm/music/MALICE+MIZER      0   \n",
       "3       Diary of Dreams      http://www.last.fm/music/Diary+of+Dreams      1   \n",
       "4       Diary of Dreams      http://www.last.fm/music/Diary+of+Dreams      1   \n",
       "...                 ...                                           ...    ...   \n",
       "92829   Diamanda GalÃ¡s  http://www.last.fm/music/Diamanda+Gal%C3%A1s  17627   \n",
       "92830            Aya RL               http://www.last.fm/music/Aya+RL  17628   \n",
       "92831       Coptic Rain          http://www.last.fm/music/Coptic+Rain  17629   \n",
       "92832      Oz Alchemist         http://www.last.fm/music/Oz+Alchemist  17630   \n",
       "92833  Grzegorz Tomczak     http://www.last.fm/music/Grzegorz+Tomczak  17631   \n",
       "\n",
       "       userID  artistID  played  \n",
       "0          31         0     212  \n",
       "1         256         0     483  \n",
       "2         729         0      76  \n",
       "3         130         1    1021  \n",
       "4         240         1     152  \n",
       "...       ...       ...     ...  \n",
       "92829     423     17627     301  \n",
       "92830     423     17628     294  \n",
       "92831     423     17629     287  \n",
       "92832     423     17630     286  \n",
       "92833     547     17631     426  \n",
       "\n",
       "[92834 rows x 6 columns]"
      ]
     },
     "execution_count": 97,
     "metadata": {},
     "output_type": "execute_result"
    }
   ],
   "source": [
    "played"
   ]
  },
  {
   "cell_type": "code",
   "execution_count": 98,
   "id": "9a606ce9",
   "metadata": {},
   "outputs": [
    {
     "data": {
      "text/html": [
       "<div>\n",
       "<style scoped>\n",
       "    .dataframe tbody tr th:only-of-type {\n",
       "        vertical-align: middle;\n",
       "    }\n",
       "\n",
       "    .dataframe tbody tr th {\n",
       "        vertical-align: top;\n",
       "    }\n",
       "\n",
       "    .dataframe thead th {\n",
       "        text-align: right;\n",
       "    }\n",
       "</style>\n",
       "<table border=\"1\" class=\"dataframe\">\n",
       "  <thead>\n",
       "    <tr style=\"text-align: right;\">\n",
       "      <th></th>\n",
       "      <th>name</th>\n",
       "      <th>url</th>\n",
       "      <th>artID</th>\n",
       "      <th>userID</th>\n",
       "      <th>artistID</th>\n",
       "      <th>played</th>\n",
       "    </tr>\n",
       "  </thead>\n",
       "  <tbody>\n",
       "    <tr>\n",
       "      <th>0</th>\n",
       "      <td>MALICE MIZER</td>\n",
       "      <td>http://www.last.fm/music/MALICE+MIZER</td>\n",
       "      <td>0</td>\n",
       "      <td>31</td>\n",
       "      <td>0</td>\n",
       "      <td>212</td>\n",
       "    </tr>\n",
       "    <tr>\n",
       "      <th>1</th>\n",
       "      <td>MALICE MIZER</td>\n",
       "      <td>http://www.last.fm/music/MALICE+MIZER</td>\n",
       "      <td>0</td>\n",
       "      <td>256</td>\n",
       "      <td>0</td>\n",
       "      <td>483</td>\n",
       "    </tr>\n",
       "    <tr>\n",
       "      <th>2</th>\n",
       "      <td>MALICE MIZER</td>\n",
       "      <td>http://www.last.fm/music/MALICE+MIZER</td>\n",
       "      <td>0</td>\n",
       "      <td>729</td>\n",
       "      <td>0</td>\n",
       "      <td>76</td>\n",
       "    </tr>\n",
       "    <tr>\n",
       "      <th>3</th>\n",
       "      <td>Diary of Dreams</td>\n",
       "      <td>http://www.last.fm/music/Diary+of+Dreams</td>\n",
       "      <td>1</td>\n",
       "      <td>130</td>\n",
       "      <td>1</td>\n",
       "      <td>1021</td>\n",
       "    </tr>\n",
       "    <tr>\n",
       "      <th>4</th>\n",
       "      <td>Diary of Dreams</td>\n",
       "      <td>http://www.last.fm/music/Diary+of+Dreams</td>\n",
       "      <td>1</td>\n",
       "      <td>240</td>\n",
       "      <td>1</td>\n",
       "      <td>152</td>\n",
       "    </tr>\n",
       "  </tbody>\n",
       "</table>\n",
       "</div>"
      ],
      "text/plain": [
       "              name                                       url  artID  userID  \\\n",
       "0     MALICE MIZER     http://www.last.fm/music/MALICE+MIZER      0      31   \n",
       "1     MALICE MIZER     http://www.last.fm/music/MALICE+MIZER      0     256   \n",
       "2     MALICE MIZER     http://www.last.fm/music/MALICE+MIZER      0     729   \n",
       "3  Diary of Dreams  http://www.last.fm/music/Diary+of+Dreams      1     130   \n",
       "4  Diary of Dreams  http://www.last.fm/music/Diary+of+Dreams      1     240   \n",
       "\n",
       "   artistID  played  \n",
       "0         0     212  \n",
       "1         0     483  \n",
       "2         0      76  \n",
       "3         1    1021  \n",
       "4         1     152  "
      ]
     },
     "execution_count": 98,
     "metadata": {},
     "output_type": "execute_result"
    }
   ],
   "source": [
    "played.head()"
   ]
  },
  {
   "cell_type": "markdown",
   "id": "334dea81",
   "metadata": {},
   "source": [
    "I was going to try to incorporate the tags as part of my recommender system but as per above I seem to lose data just by the shape and even looking at artistID 1 we see this ID occurs three times in our played data and only twice in our tagged dataset. This is porbably due to the fact the users left no tags on this. We also have some improper values for tags as per above such as \"better than lady gaga\" and \"#NAME?\" which aren't going to add any information to our data. If we choose a subset of tags and take out values such as these that aren't as common or add any information we could work with this then. However, this would mean trimming our dataset down further. With less data to work with this might negatively impact the effectiveness of our recommender system."
   ]
  },
  {
   "cell_type": "code",
   "execution_count": 99,
   "id": "f1dc73f8",
   "metadata": {},
   "outputs": [
    {
     "data": {
      "text/html": [
       "<div>\n",
       "<style scoped>\n",
       "    .dataframe tbody tr th:only-of-type {\n",
       "        vertical-align: middle;\n",
       "    }\n",
       "\n",
       "    .dataframe tbody tr th {\n",
       "        vertical-align: top;\n",
       "    }\n",
       "\n",
       "    .dataframe thead th {\n",
       "        text-align: right;\n",
       "    }\n",
       "</style>\n",
       "<table border=\"1\" class=\"dataframe\">\n",
       "  <thead>\n",
       "    <tr style=\"text-align: right;\">\n",
       "      <th></th>\n",
       "      <th>userID</th>\n",
       "      <th>artistID</th>\n",
       "      <th>tagID</th>\n",
       "      <th>day</th>\n",
       "      <th>month</th>\n",
       "      <th>year</th>\n",
       "    </tr>\n",
       "  </thead>\n",
       "  <tbody>\n",
       "    <tr>\n",
       "      <th>3037</th>\n",
       "      <td>37</td>\n",
       "      <td>1</td>\n",
       "      <td>552</td>\n",
       "      <td>1</td>\n",
       "      <td>7</td>\n",
       "      <td>2008</td>\n",
       "    </tr>\n",
       "    <tr>\n",
       "      <th>28338</th>\n",
       "      <td>274</td>\n",
       "      <td>1</td>\n",
       "      <td>1219</td>\n",
       "      <td>1</td>\n",
       "      <td>5</td>\n",
       "      <td>2008</td>\n",
       "    </tr>\n",
       "    <tr>\n",
       "      <th>64127</th>\n",
       "      <td>681</td>\n",
       "      <td>1</td>\n",
       "      <td>139</td>\n",
       "      <td>1</td>\n",
       "      <td>8</td>\n",
       "      <td>2008</td>\n",
       "    </tr>\n",
       "    <tr>\n",
       "      <th>64128</th>\n",
       "      <td>681</td>\n",
       "      <td>1</td>\n",
       "      <td>141</td>\n",
       "      <td>1</td>\n",
       "      <td>8</td>\n",
       "      <td>2008</td>\n",
       "    </tr>\n",
       "    <tr>\n",
       "      <th>76492</th>\n",
       "      <td>785</td>\n",
       "      <td>1</td>\n",
       "      <td>2850</td>\n",
       "      <td>1</td>\n",
       "      <td>8</td>\n",
       "      <td>2010</td>\n",
       "    </tr>\n",
       "    <tr>\n",
       "      <th>...</th>\n",
       "      <td>...</td>\n",
       "      <td>...</td>\n",
       "      <td>...</td>\n",
       "      <td>...</td>\n",
       "      <td>...</td>\n",
       "      <td>...</td>\n",
       "    </tr>\n",
       "    <tr>\n",
       "      <th>154400</th>\n",
       "      <td>1730</td>\n",
       "      <td>1</td>\n",
       "      <td>141</td>\n",
       "      <td>1</td>\n",
       "      <td>10</td>\n",
       "      <td>2008</td>\n",
       "    </tr>\n",
       "    <tr>\n",
       "      <th>154401</th>\n",
       "      <td>1730</td>\n",
       "      <td>1</td>\n",
       "      <td>179</td>\n",
       "      <td>1</td>\n",
       "      <td>10</td>\n",
       "      <td>2008</td>\n",
       "    </tr>\n",
       "    <tr>\n",
       "      <th>154402</th>\n",
       "      <td>1730</td>\n",
       "      <td>1</td>\n",
       "      <td>541</td>\n",
       "      <td>1</td>\n",
       "      <td>10</td>\n",
       "      <td>2008</td>\n",
       "    </tr>\n",
       "    <tr>\n",
       "      <th>170777</th>\n",
       "      <td>1929</td>\n",
       "      <td>1</td>\n",
       "      <td>139</td>\n",
       "      <td>1</td>\n",
       "      <td>5</td>\n",
       "      <td>2006</td>\n",
       "    </tr>\n",
       "    <tr>\n",
       "      <th>178854</th>\n",
       "      <td>1984</td>\n",
       "      <td>1</td>\n",
       "      <td>139</td>\n",
       "      <td>1</td>\n",
       "      <td>2</td>\n",
       "      <td>2008</td>\n",
       "    </tr>\n",
       "  </tbody>\n",
       "</table>\n",
       "<p>15 rows × 6 columns</p>\n",
       "</div>"
      ],
      "text/plain": [
       "        userID  artistID  tagID  day  month  year\n",
       "3037        37         1    552    1      7  2008\n",
       "28338      274         1   1219    1      5  2008\n",
       "64127      681         1    139    1      8  2008\n",
       "64128      681         1    141    1      8  2008\n",
       "76492      785         1   2850    1      8  2010\n",
       "...        ...       ...    ...  ...    ...   ...\n",
       "154400    1730         1    141    1     10  2008\n",
       "154401    1730         1    179    1     10  2008\n",
       "154402    1730         1    541    1     10  2008\n",
       "170777    1929         1    139    1      5  2006\n",
       "178854    1984         1    139    1      2  2008\n",
       "\n",
       "[15 rows x 6 columns]"
      ]
     },
     "execution_count": 99,
     "metadata": {},
     "output_type": "execute_result"
    }
   ],
   "source": [
    "df4[df4['artistID'] == 1]"
   ]
  },
  {
   "cell_type": "markdown",
   "id": "2aa566e1",
   "metadata": {},
   "source": [
    "This confirms that user 34 does not leave a tag on this artist's work. This is why we lose the rows we do when we try to incorporate the tags data into the listened data. We will disregard this for now."
   ]
  },
  {
   "cell_type": "markdown",
   "id": "5ddd1049",
   "metadata": {},
   "source": [
    "# Sparse Representation of Played matrix"
   ]
  },
  {
   "cell_type": "code",
   "execution_count": 100,
   "id": "dc9c84cd",
   "metadata": {},
   "outputs": [],
   "source": [
    "# Calculate sparsity of matrix\n",
    "def calculate_sparsity(M):\n",
    "  matrix_size = float(M.shape[0] * M.shape[1]) # Number of total possible interactions between artist and user in the matrix\n",
    "  num_plays = len(M.nonzero()[0]) # Number of times any artist has been interacted with\n",
    "  sparsity = 100 * (1 - float(num_plays / matrix_size))\n",
    "  return sparsity"
   ]
  },
  {
   "cell_type": "code",
   "execution_count": 101,
   "id": "b5d8947e",
   "metadata": {},
   "outputs": [],
   "source": [
    "#sparsity = 1.0 - ( count_nonzero(A) / float(A.size) )\n",
    "#print(sparsity)"
   ]
  },
  {
   "cell_type": "code",
   "execution_count": 102,
   "id": "037928d0",
   "metadata": {},
   "outputs": [
    {
     "data": {
      "text/html": [
       "<div>\n",
       "<style scoped>\n",
       "    .dataframe tbody tr th:only-of-type {\n",
       "        vertical-align: middle;\n",
       "    }\n",
       "\n",
       "    .dataframe tbody tr th {\n",
       "        vertical-align: top;\n",
       "    }\n",
       "\n",
       "    .dataframe thead th {\n",
       "        text-align: right;\n",
       "    }\n",
       "</style>\n",
       "<table border=\"1\" class=\"dataframe\">\n",
       "  <thead>\n",
       "    <tr style=\"text-align: right;\">\n",
       "      <th></th>\n",
       "      <th>name</th>\n",
       "      <th>url</th>\n",
       "      <th>artID</th>\n",
       "      <th>userID</th>\n",
       "      <th>artistID</th>\n",
       "      <th>played</th>\n",
       "    </tr>\n",
       "  </thead>\n",
       "  <tbody>\n",
       "    <tr>\n",
       "      <th>0</th>\n",
       "      <td>MALICE MIZER</td>\n",
       "      <td>http://www.last.fm/music/MALICE+MIZER</td>\n",
       "      <td>0</td>\n",
       "      <td>31</td>\n",
       "      <td>0</td>\n",
       "      <td>212</td>\n",
       "    </tr>\n",
       "    <tr>\n",
       "      <th>1</th>\n",
       "      <td>MALICE MIZER</td>\n",
       "      <td>http://www.last.fm/music/MALICE+MIZER</td>\n",
       "      <td>0</td>\n",
       "      <td>256</td>\n",
       "      <td>0</td>\n",
       "      <td>483</td>\n",
       "    </tr>\n",
       "    <tr>\n",
       "      <th>2</th>\n",
       "      <td>MALICE MIZER</td>\n",
       "      <td>http://www.last.fm/music/MALICE+MIZER</td>\n",
       "      <td>0</td>\n",
       "      <td>729</td>\n",
       "      <td>0</td>\n",
       "      <td>76</td>\n",
       "    </tr>\n",
       "    <tr>\n",
       "      <th>3</th>\n",
       "      <td>Diary of Dreams</td>\n",
       "      <td>http://www.last.fm/music/Diary+of+Dreams</td>\n",
       "      <td>1</td>\n",
       "      <td>130</td>\n",
       "      <td>1</td>\n",
       "      <td>1021</td>\n",
       "    </tr>\n",
       "    <tr>\n",
       "      <th>4</th>\n",
       "      <td>Diary of Dreams</td>\n",
       "      <td>http://www.last.fm/music/Diary+of+Dreams</td>\n",
       "      <td>1</td>\n",
       "      <td>240</td>\n",
       "      <td>1</td>\n",
       "      <td>152</td>\n",
       "    </tr>\n",
       "    <tr>\n",
       "      <th>...</th>\n",
       "      <td>...</td>\n",
       "      <td>...</td>\n",
       "      <td>...</td>\n",
       "      <td>...</td>\n",
       "      <td>...</td>\n",
       "      <td>...</td>\n",
       "    </tr>\n",
       "    <tr>\n",
       "      <th>92829</th>\n",
       "      <td>Diamanda GalÃ¡s</td>\n",
       "      <td>http://www.last.fm/music/Diamanda+Gal%C3%A1s</td>\n",
       "      <td>17627</td>\n",
       "      <td>423</td>\n",
       "      <td>17627</td>\n",
       "      <td>301</td>\n",
       "    </tr>\n",
       "    <tr>\n",
       "      <th>92830</th>\n",
       "      <td>Aya RL</td>\n",
       "      <td>http://www.last.fm/music/Aya+RL</td>\n",
       "      <td>17628</td>\n",
       "      <td>423</td>\n",
       "      <td>17628</td>\n",
       "      <td>294</td>\n",
       "    </tr>\n",
       "    <tr>\n",
       "      <th>92831</th>\n",
       "      <td>Coptic Rain</td>\n",
       "      <td>http://www.last.fm/music/Coptic+Rain</td>\n",
       "      <td>17629</td>\n",
       "      <td>423</td>\n",
       "      <td>17629</td>\n",
       "      <td>287</td>\n",
       "    </tr>\n",
       "    <tr>\n",
       "      <th>92832</th>\n",
       "      <td>Oz Alchemist</td>\n",
       "      <td>http://www.last.fm/music/Oz+Alchemist</td>\n",
       "      <td>17630</td>\n",
       "      <td>423</td>\n",
       "      <td>17630</td>\n",
       "      <td>286</td>\n",
       "    </tr>\n",
       "    <tr>\n",
       "      <th>92833</th>\n",
       "      <td>Grzegorz Tomczak</td>\n",
       "      <td>http://www.last.fm/music/Grzegorz+Tomczak</td>\n",
       "      <td>17631</td>\n",
       "      <td>547</td>\n",
       "      <td>17631</td>\n",
       "      <td>426</td>\n",
       "    </tr>\n",
       "  </tbody>\n",
       "</table>\n",
       "<p>92834 rows × 6 columns</p>\n",
       "</div>"
      ],
      "text/plain": [
       "                   name                                           url  artID  \\\n",
       "0          MALICE MIZER         http://www.last.fm/music/MALICE+MIZER      0   \n",
       "1          MALICE MIZER         http://www.last.fm/music/MALICE+MIZER      0   \n",
       "2          MALICE MIZER         http://www.last.fm/music/MALICE+MIZER      0   \n",
       "3       Diary of Dreams      http://www.last.fm/music/Diary+of+Dreams      1   \n",
       "4       Diary of Dreams      http://www.last.fm/music/Diary+of+Dreams      1   \n",
       "...                 ...                                           ...    ...   \n",
       "92829   Diamanda GalÃ¡s  http://www.last.fm/music/Diamanda+Gal%C3%A1s  17627   \n",
       "92830            Aya RL               http://www.last.fm/music/Aya+RL  17628   \n",
       "92831       Coptic Rain          http://www.last.fm/music/Coptic+Rain  17629   \n",
       "92832      Oz Alchemist         http://www.last.fm/music/Oz+Alchemist  17630   \n",
       "92833  Grzegorz Tomczak     http://www.last.fm/music/Grzegorz+Tomczak  17631   \n",
       "\n",
       "       userID  artistID  played  \n",
       "0          31         0     212  \n",
       "1         256         0     483  \n",
       "2         729         0      76  \n",
       "3         130         1    1021  \n",
       "4         240         1     152  \n",
       "...       ...       ...     ...  \n",
       "92829     423     17627     301  \n",
       "92830     423     17628     294  \n",
       "92831     423     17629     287  \n",
       "92832     423     17630     286  \n",
       "92833     547     17631     426  \n",
       "\n",
       "[92834 rows x 6 columns]"
      ]
     },
     "execution_count": 102,
     "metadata": {},
     "output_type": "execute_result"
    }
   ],
   "source": [
    "played"
   ]
  },
  {
   "cell_type": "code",
   "execution_count": 103,
   "id": "9daf7d46",
   "metadata": {},
   "outputs": [
    {
     "data": {
      "text/plain": [
       "name        object\n",
       "url         object\n",
       "artID        int64\n",
       "userID       int64\n",
       "artistID     int64\n",
       "played       int64\n",
       "dtype: object"
      ]
     },
     "execution_count": 103,
     "metadata": {},
     "output_type": "execute_result"
    }
   ],
   "source": [
    "played.dtypes"
   ]
  },
  {
   "cell_type": "code",
   "execution_count": 104,
   "id": "4003bd49",
   "metadata": {},
   "outputs": [],
   "source": [
    "def build_rating_sparse_tensor(ratings_df):\n",
    "  # ========================= Complete this section ============================\n",
    "    indices = ratings_df[['userID', 'artID']].values\n",
    "    values = ratings_df['played'].values\n",
    "  # ============================================================================\n",
    "\n",
    "    return tf.SparseTensor(\n",
    "      indices=indices,\n",
    "      values=values,\n",
    "      dense_shape=[len(played.userID.unique()), len(played.artID.unique())])"
   ]
  },
  {
   "cell_type": "code",
   "execution_count": 105,
   "id": "f7dbe564",
   "metadata": {},
   "outputs": [
    {
     "data": {
      "text/plain": [
       "92834"
      ]
     },
     "execution_count": 105,
     "metadata": {},
     "output_type": "execute_result"
    }
   ],
   "source": [
    "len(played.userID)"
   ]
  },
  {
   "cell_type": "code",
   "execution_count": 106,
   "id": "bb7d777c",
   "metadata": {},
   "outputs": [
    {
     "data": {
      "text/plain": [
       "92834"
      ]
     },
     "execution_count": 106,
     "metadata": {},
     "output_type": "execute_result"
    }
   ],
   "source": [
    "len(played[['userID', 'artistID']].values)"
   ]
  },
  {
   "cell_type": "code",
   "execution_count": 107,
   "id": "1909b457",
   "metadata": {},
   "outputs": [
    {
     "data": {
      "text/plain": [
       "92834"
      ]
     },
     "execution_count": 107,
     "metadata": {},
     "output_type": "execute_result"
    }
   ],
   "source": [
    "len(played['played'].values)"
   ]
  },
  {
   "cell_type": "code",
   "execution_count": 108,
   "id": "1f102a31",
   "metadata": {},
   "outputs": [
    {
     "data": {
      "text/plain": [
       "92834"
      ]
     },
     "execution_count": 108,
     "metadata": {},
     "output_type": "execute_result"
    }
   ],
   "source": [
    "played.shape[0]"
   ]
  },
  {
   "cell_type": "code",
   "execution_count": 109,
   "id": "9fe3bb7d",
   "metadata": {},
   "outputs": [],
   "source": [
    "def sparse_mean_square_error(sparse_ratings, user_embeddings, movie_embeddings):\n",
    "    predictions = tf.gather_nd(tf.matmul(user_embeddings, movie_embeddings, transpose_b=True), sparse_ratings.indices)\n",
    "    loss = tf.losses.mean_squared_error(sparse_ratings.values, predictions)\n",
    "    return loss"
   ]
  },
  {
   "cell_type": "markdown",
   "id": "f4689cdc",
   "metadata": {},
   "source": [
    "# Building Model"
   ]
  },
  {
   "cell_type": "code",
   "execution_count": 110,
   "id": "e14be38f",
   "metadata": {},
   "outputs": [],
   "source": [
    "class CFModel(object):\n",
    "  \"\"\"Simple class that represents a collaborative filtering model\"\"\"\n",
    "  def __init__(self, embedding_vars, loss, metrics=None):\n",
    "    \"\"\"Initializes a CFModel.\n",
    "    Args:\n",
    "      embedding_vars: A dictionary of tf.Variables.\n",
    "      loss: A float Tensor. The loss to optimize.\n",
    "      metrics: optional list of dictionaries of Tensors. The metrics in each\n",
    "        dictionary will be plotted in a separate figure during training.\n",
    "    \"\"\"\n",
    "    self._embedding_vars = embedding_vars\n",
    "    self._loss = loss\n",
    "    self._metrics = metrics\n",
    "    self._embeddings = {k: None for k in embedding_vars}\n",
    "    self._session = None\n",
    "\n",
    "  @property\n",
    "  def embeddings(self):\n",
    "    \"\"\"The embeddings dictionary.\"\"\"\n",
    "    return self._embeddings\n",
    "\n",
    "  def train(self, num_iterations=100, learning_rate=1.0, plot_results=True,\n",
    "            optimizer=tf.train.GradientDescentOptimizer):\n",
    "    \"\"\"Trains the model.\n",
    "    Args:\n",
    "      iterations: number of iterations to run.\n",
    "      learning_rate: optimizer learning rate.\n",
    "      plot_results: whether to plot the results at the end of training.\n",
    "      optimizer: the optimizer to use. Default to GradientDescentOptimizer.\n",
    "    Returns:\n",
    "      The metrics dictionary evaluated at the last iteration.\n",
    "    \"\"\"\n",
    "    with self._loss.graph.as_default():\n",
    "      opt = optimizer(learning_rate)\n",
    "      train_op = opt.minimize(self._loss)\n",
    "      local_init_op = tf.group(\n",
    "          tf.variables_initializer(opt.variables()),\n",
    "          tf.local_variables_initializer())\n",
    "      if self._session is None:\n",
    "        self._session = tf.Session()\n",
    "        with self._session.as_default():\n",
    "          self._session.run(tf.global_variables_initializer())\n",
    "          self._session.run(tf.tables_initializer())\n",
    "          tf.train.start_queue_runners()\n",
    "\n",
    "    with self._session.as_default():\n",
    "      local_init_op.run()\n",
    "      iterations = []\n",
    "      metrics = self._metrics or ({},)\n",
    "      metrics_vals = [collections.defaultdict(list) for _ in self._metrics]\n",
    "\n",
    "      # Train and append results.\n",
    "      for i in range(num_iterations + 1):\n",
    "        _, results = self._session.run((train_op, metrics))\n",
    "        if (i % 10 == 0) or i == num_iterations:\n",
    "          print(\"\\r iteration %d: \" % i + \", \".join(\n",
    "                [\"%s=%f\" % (k, v) for r in results for k, v in r.items()]),\n",
    "                end='')\n",
    "          iterations.append(i)\n",
    "          for metric_val, result in zip(metrics_vals, results):\n",
    "            for k, v in result.items():\n",
    "              metric_val[k].append(v)\n",
    "\n",
    "      for k, v in self._embedding_vars.items():\n",
    "        self._embeddings[k] = v.eval()\n",
    "\n",
    "      if plot_results:\n",
    "        # Plot the metrics.\n",
    "        num_subplots = len(metrics)+1\n",
    "        fig = plt.figure()\n",
    "        fig.set_size_inches(num_subplots*10, 8)\n",
    "        for i, metric_vals in enumerate(metrics_vals):\n",
    "          ax = fig.add_subplot(1, num_subplots, i+1)\n",
    "          for k, v in metric_vals.items():\n",
    "            ax.plot(iterations, v, label=k)\n",
    "          ax.set_xlim([1, num_iterations])\n",
    "          ax.legend()\n",
    "      return results"
   ]
  },
  {
   "cell_type": "markdown",
   "id": "de5a8cbe",
   "metadata": {},
   "source": [
    "# Build Model"
   ]
  },
  {
   "cell_type": "code",
   "execution_count": 111,
   "id": "26eacb3f",
   "metadata": {},
   "outputs": [],
   "source": [
    "from sklearn.model_selection import train_test_split\n",
    "def build_model(ratings, embedding_dim=3, init_stddev=1.):\n",
    "\n",
    "  # Split the ratings DataFrame into train and test.\n",
    "    train_ratings, test_ratings = train_test_split(ratings, test_size=0.2, random_state=42)\n",
    "  # SparseTensor representation of the train and test datasets.\n",
    "    A_train = build_rating_sparse_tensor(train_ratings)\n",
    "    A_test = build_rating_sparse_tensor(test_ratings)\n",
    "  # Initialize the embeddings using a normal distribution.\n",
    "    U = tf.Variable(tf.random.normal(\n",
    "      [A_train.dense_shape[0], embedding_dim], stddev=init_stddev))\n",
    "    V = tf.Variable(tf.random.normal(\n",
    "      [A_train.dense_shape[1], embedding_dim], stddev=init_stddev))\n",
    "    train_loss = sparse_mean_square_error(A_train, U, V)\n",
    "    test_loss = sparse_mean_square_error(A_test, U, V)\n",
    "    metrics = {\n",
    "      'train_error': train_loss,\n",
    "      'test_error': test_loss\n",
    "    }\n",
    "    embeddings = {\n",
    "      \"mapped1\": U,\n",
    "      \"mapped\": V\n",
    "    }\n",
    "    return CFModel(embeddings, train_loss, [metrics])"
   ]
  },
  {
   "cell_type": "code",
   "execution_count": 112,
   "id": "dc93454b",
   "metadata": {},
   "outputs": [],
   "source": [
    "def split_dataframe(df, holdout_fraction=0.1):\n",
    "  \n",
    "    test = df.sample(frac=holdout_fraction, replace=False)\n",
    "    train = df[~df.index.isin(test.index)]\n",
    "    return train, test"
   ]
  },
  {
   "cell_type": "code",
   "execution_count": 113,
   "id": "752e6e8a",
   "metadata": {},
   "outputs": [],
   "source": [
    "xyz = played[['userID', 'artID', 'played']]"
   ]
  },
  {
   "cell_type": "code",
   "execution_count": 114,
   "id": "874a92f6",
   "metadata": {},
   "outputs": [
    {
     "name": "stderr",
     "output_type": "stream",
     "text": [
      "<ipython-input-114-a184a1311fb9>:1: SettingWithCopyWarning: \n",
      "A value is trying to be set on a copy of a slice from a DataFrame.\n",
      "Try using .loc[row_indexer,col_indexer] = value instead\n",
      "\n",
      "See the caveats in the documentation: https://pandas.pydata.org/pandas-docs/stable/user_guide/indexing.html#returning-a-view-versus-a-copy\n",
      "  xyz['userID'] = xyz['userID'].astype(str)\n",
      "<ipython-input-114-a184a1311fb9>:2: SettingWithCopyWarning: \n",
      "A value is trying to be set on a copy of a slice from a DataFrame.\n",
      "Try using .loc[row_indexer,col_indexer] = value instead\n",
      "\n",
      "See the caveats in the documentation: https://pandas.pydata.org/pandas-docs/stable/user_guide/indexing.html#returning-a-view-versus-a-copy\n",
      "  xyz['artID'] = xyz['artID'].astype(str)\n",
      "<ipython-input-114-a184a1311fb9>:3: SettingWithCopyWarning: \n",
      "A value is trying to be set on a copy of a slice from a DataFrame.\n",
      "Try using .loc[row_indexer,col_indexer] = value instead\n",
      "\n",
      "See the caveats in the documentation: https://pandas.pydata.org/pandas-docs/stable/user_guide/indexing.html#returning-a-view-versus-a-copy\n",
      "  xyz['played'] = xyz['played'].astype(float)\n"
     ]
    }
   ],
   "source": [
    "xyz['userID'] = xyz['userID'].astype(str)\n",
    "xyz['artID'] = xyz['artID'].astype(str)\n",
    "xyz['played'] = xyz['played'].astype(float)\n",
    "xyz = xyz.sample(frac=1).reset_index(drop=True)"
   ]
  },
  {
   "cell_type": "code",
   "execution_count": 115,
   "id": "9fa2b50a",
   "metadata": {
    "scrolled": false
   },
   "outputs": [
    {
     "name": "stdout",
     "output_type": "stream",
     "text": [
      " iteration 1000: train_error=nan, test_error=nanerror=7782034.500000"
     ]
    },
    {
     "data": {
      "text/plain": [
       "[{'train_error': nan, 'test_error': nan}]"
      ]
     },
     "execution_count": 115,
     "metadata": {},
     "output_type": "execute_result"
    },
    {
     "data": {
      "image/png": "[encoded data removed]",
      "text/plain": [
       "<Figure size 1440x576 with 1 Axes>"
      ]
     },
     "metadata": {
      "needs_background": "light"
     },
     "output_type": "display_data"
    }
   ],
   "source": [
    "model = build_model(played,  embedding_dim=30, init_stddev=0.5)\n",
    "model.train(num_iterations=1000, learning_rate=10.)"
   ]
  },
  {
   "cell_type": "markdown",
   "id": "f3e7f602",
   "metadata": {},
   "source": [
    "I tried to build my model but the high values for listens was giving me errors like so \"InvalidArgumentError: indices[4073] = 2077 is not in [0, 1892)\". "
   ]
  },
  {
   "cell_type": "markdown",
   "id": "c77e9c75",
   "metadata": {},
   "source": [
    "This would mean that I would need to normalise some of these values in some way."
   ]
  },
  {
   "cell_type": "code",
   "execution_count": 116,
   "id": "66730ec2",
   "metadata": {},
   "outputs": [
    {
     "data": {
      "text/html": [
       "<div>\n",
       "<style scoped>\n",
       "    .dataframe tbody tr th:only-of-type {\n",
       "        vertical-align: middle;\n",
       "    }\n",
       "\n",
       "    .dataframe tbody tr th {\n",
       "        vertical-align: top;\n",
       "    }\n",
       "\n",
       "    .dataframe thead th {\n",
       "        text-align: right;\n",
       "    }\n",
       "</style>\n",
       "<table border=\"1\" class=\"dataframe\">\n",
       "  <thead>\n",
       "    <tr style=\"text-align: right;\">\n",
       "      <th></th>\n",
       "      <th>name</th>\n",
       "      <th>url</th>\n",
       "      <th>artID</th>\n",
       "      <th>userID</th>\n",
       "      <th>artistID</th>\n",
       "      <th>played</th>\n",
       "    </tr>\n",
       "  </thead>\n",
       "  <tbody>\n",
       "    <tr>\n",
       "      <th>0</th>\n",
       "      <td>MALICE MIZER</td>\n",
       "      <td>http://www.last.fm/music/MALICE+MIZER</td>\n",
       "      <td>0</td>\n",
       "      <td>31</td>\n",
       "      <td>0</td>\n",
       "      <td>212</td>\n",
       "    </tr>\n",
       "    <tr>\n",
       "      <th>1</th>\n",
       "      <td>MALICE MIZER</td>\n",
       "      <td>http://www.last.fm/music/MALICE+MIZER</td>\n",
       "      <td>0</td>\n",
       "      <td>256</td>\n",
       "      <td>0</td>\n",
       "      <td>483</td>\n",
       "    </tr>\n",
       "    <tr>\n",
       "      <th>2</th>\n",
       "      <td>MALICE MIZER</td>\n",
       "      <td>http://www.last.fm/music/MALICE+MIZER</td>\n",
       "      <td>0</td>\n",
       "      <td>729</td>\n",
       "      <td>0</td>\n",
       "      <td>76</td>\n",
       "    </tr>\n",
       "    <tr>\n",
       "      <th>3</th>\n",
       "      <td>Diary of Dreams</td>\n",
       "      <td>http://www.last.fm/music/Diary+of+Dreams</td>\n",
       "      <td>1</td>\n",
       "      <td>130</td>\n",
       "      <td>1</td>\n",
       "      <td>1021</td>\n",
       "    </tr>\n",
       "    <tr>\n",
       "      <th>4</th>\n",
       "      <td>Diary of Dreams</td>\n",
       "      <td>http://www.last.fm/music/Diary+of+Dreams</td>\n",
       "      <td>1</td>\n",
       "      <td>240</td>\n",
       "      <td>1</td>\n",
       "      <td>152</td>\n",
       "    </tr>\n",
       "    <tr>\n",
       "      <th>5</th>\n",
       "      <td>Diary of Dreams</td>\n",
       "      <td>http://www.last.fm/music/Diary+of+Dreams</td>\n",
       "      <td>1</td>\n",
       "      <td>303</td>\n",
       "      <td>1</td>\n",
       "      <td>3466</td>\n",
       "    </tr>\n",
       "  </tbody>\n",
       "</table>\n",
       "</div>"
      ],
      "text/plain": [
       "              name                                       url  artID  userID  \\\n",
       "0     MALICE MIZER     http://www.last.fm/music/MALICE+MIZER      0      31   \n",
       "1     MALICE MIZER     http://www.last.fm/music/MALICE+MIZER      0     256   \n",
       "2     MALICE MIZER     http://www.last.fm/music/MALICE+MIZER      0     729   \n",
       "3  Diary of Dreams  http://www.last.fm/music/Diary+of+Dreams      1     130   \n",
       "4  Diary of Dreams  http://www.last.fm/music/Diary+of+Dreams      1     240   \n",
       "5  Diary of Dreams  http://www.last.fm/music/Diary+of+Dreams      1     303   \n",
       "\n",
       "   artistID  played  \n",
       "0         0     212  \n",
       "1         0     483  \n",
       "2         0      76  \n",
       "3         1    1021  \n",
       "4         1     152  \n",
       "5         1    3466  "
      ]
     },
     "execution_count": 116,
     "metadata": {},
     "output_type": "execute_result"
    }
   ],
   "source": [
    "played.head(6)"
   ]
  },
  {
   "cell_type": "code",
   "execution_count": 117,
   "id": "f9bf07ed",
   "metadata": {},
   "outputs": [
    {
     "name": "stderr",
     "output_type": "stream",
     "text": [
      "<ipython-input-117-f8959ccb73cd>:1: SettingWithCopyWarning: \n",
      "A value is trying to be set on a copy of a slice from a DataFrame.\n",
      "Try using .loc[row_indexer,col_indexer] = value instead\n",
      "\n",
      "See the caveats in the documentation: https://pandas.pydata.org/pandas-docs/stable/user_guide/indexing.html#returning-a-view-versus-a-copy\n",
      "  played[played[\"played\"] > 2000][\"played\"] = 2000\n"
     ]
    }
   ],
   "source": [
    "played[played[\"played\"] > 2000][\"played\"] = 2000"
   ]
  },
  {
   "cell_type": "code",
   "execution_count": 118,
   "id": "4910ceb0",
   "metadata": {},
   "outputs": [],
   "source": [
    "indexes = played[played[\"played\"] > 2000].index"
   ]
  },
  {
   "cell_type": "code",
   "execution_count": 119,
   "id": "635e1367",
   "metadata": {},
   "outputs": [
    {
     "data": {
      "text/plain": [
       "Int64Index([    5,    67,    76,   115,   126,   133,   141,   150,   160,\n",
       "              174,\n",
       "            ...\n",
       "            92584, 92672, 92673, 92674, 92675, 92676, 92683, 92684, 92756,\n",
       "            92757],\n",
       "           dtype='int64', length=5721)"
      ]
     },
     "execution_count": 119,
     "metadata": {},
     "output_type": "execute_result"
    }
   ],
   "source": [
    "indexes"
   ]
  },
  {
   "cell_type": "code",
   "execution_count": 120,
   "id": "d1c8ea99",
   "metadata": {},
   "outputs": [],
   "source": [
    "played.iloc[indexes,5] = 2000"
   ]
  },
  {
   "cell_type": "code",
   "execution_count": 121,
   "id": "04726ad6",
   "metadata": {},
   "outputs": [
    {
     "data": {
      "text/html": [
       "<div>\n",
       "<style scoped>\n",
       "    .dataframe tbody tr th:only-of-type {\n",
       "        vertical-align: middle;\n",
       "    }\n",
       "\n",
       "    .dataframe tbody tr th {\n",
       "        vertical-align: top;\n",
       "    }\n",
       "\n",
       "    .dataframe thead th {\n",
       "        text-align: right;\n",
       "    }\n",
       "</style>\n",
       "<table border=\"1\" class=\"dataframe\">\n",
       "  <thead>\n",
       "    <tr style=\"text-align: right;\">\n",
       "      <th></th>\n",
       "      <th>name</th>\n",
       "      <th>url</th>\n",
       "      <th>artID</th>\n",
       "      <th>userID</th>\n",
       "      <th>artistID</th>\n",
       "      <th>played</th>\n",
       "    </tr>\n",
       "  </thead>\n",
       "  <tbody>\n",
       "    <tr>\n",
       "      <th>0</th>\n",
       "      <td>MALICE MIZER</td>\n",
       "      <td>http://www.last.fm/music/MALICE+MIZER</td>\n",
       "      <td>0</td>\n",
       "      <td>31</td>\n",
       "      <td>0</td>\n",
       "      <td>212</td>\n",
       "    </tr>\n",
       "    <tr>\n",
       "      <th>1</th>\n",
       "      <td>MALICE MIZER</td>\n",
       "      <td>http://www.last.fm/music/MALICE+MIZER</td>\n",
       "      <td>0</td>\n",
       "      <td>256</td>\n",
       "      <td>0</td>\n",
       "      <td>483</td>\n",
       "    </tr>\n",
       "    <tr>\n",
       "      <th>2</th>\n",
       "      <td>MALICE MIZER</td>\n",
       "      <td>http://www.last.fm/music/MALICE+MIZER</td>\n",
       "      <td>0</td>\n",
       "      <td>729</td>\n",
       "      <td>0</td>\n",
       "      <td>76</td>\n",
       "    </tr>\n",
       "    <tr>\n",
       "      <th>3</th>\n",
       "      <td>Diary of Dreams</td>\n",
       "      <td>http://www.last.fm/music/Diary+of+Dreams</td>\n",
       "      <td>1</td>\n",
       "      <td>130</td>\n",
       "      <td>1</td>\n",
       "      <td>1021</td>\n",
       "    </tr>\n",
       "    <tr>\n",
       "      <th>4</th>\n",
       "      <td>Diary of Dreams</td>\n",
       "      <td>http://www.last.fm/music/Diary+of+Dreams</td>\n",
       "      <td>1</td>\n",
       "      <td>240</td>\n",
       "      <td>1</td>\n",
       "      <td>152</td>\n",
       "    </tr>\n",
       "    <tr>\n",
       "      <th>5</th>\n",
       "      <td>Diary of Dreams</td>\n",
       "      <td>http://www.last.fm/music/Diary+of+Dreams</td>\n",
       "      <td>1</td>\n",
       "      <td>303</td>\n",
       "      <td>1</td>\n",
       "      <td>2000</td>\n",
       "    </tr>\n",
       "  </tbody>\n",
       "</table>\n",
       "</div>"
      ],
      "text/plain": [
       "              name                                       url  artID  userID  \\\n",
       "0     MALICE MIZER     http://www.last.fm/music/MALICE+MIZER      0      31   \n",
       "1     MALICE MIZER     http://www.last.fm/music/MALICE+MIZER      0     256   \n",
       "2     MALICE MIZER     http://www.last.fm/music/MALICE+MIZER      0     729   \n",
       "3  Diary of Dreams  http://www.last.fm/music/Diary+of+Dreams      1     130   \n",
       "4  Diary of Dreams  http://www.last.fm/music/Diary+of+Dreams      1     240   \n",
       "5  Diary of Dreams  http://www.last.fm/music/Diary+of+Dreams      1     303   \n",
       "\n",
       "   artistID  played  \n",
       "0         0     212  \n",
       "1         0     483  \n",
       "2         0      76  \n",
       "3         1    1021  \n",
       "4         1     152  \n",
       "5         1    2000  "
      ]
     },
     "execution_count": 121,
     "metadata": {},
     "output_type": "execute_result"
    }
   ],
   "source": [
    "played.head(6)"
   ]
  },
  {
   "cell_type": "code",
   "execution_count": 122,
   "id": "452aab6b",
   "metadata": {},
   "outputs": [
    {
     "data": {
      "text/html": [
       "<div>\n",
       "<style scoped>\n",
       "    .dataframe tbody tr th:only-of-type {\n",
       "        vertical-align: middle;\n",
       "    }\n",
       "\n",
       "    .dataframe tbody tr th {\n",
       "        vertical-align: top;\n",
       "    }\n",
       "\n",
       "    .dataframe thead th {\n",
       "        text-align: right;\n",
       "    }\n",
       "</style>\n",
       "<table border=\"1\" class=\"dataframe\">\n",
       "  <thead>\n",
       "    <tr style=\"text-align: right;\">\n",
       "      <th></th>\n",
       "      <th>name</th>\n",
       "      <th>url</th>\n",
       "      <th>artID</th>\n",
       "      <th>userID</th>\n",
       "      <th>artistID</th>\n",
       "      <th>played</th>\n",
       "    </tr>\n",
       "  </thead>\n",
       "  <tbody>\n",
       "    <tr>\n",
       "      <th>0</th>\n",
       "      <td>MALICE MIZER</td>\n",
       "      <td>http://www.last.fm/music/MALICE+MIZER</td>\n",
       "      <td>0</td>\n",
       "      <td>31</td>\n",
       "      <td>0</td>\n",
       "      <td>212</td>\n",
       "    </tr>\n",
       "    <tr>\n",
       "      <th>1</th>\n",
       "      <td>MALICE MIZER</td>\n",
       "      <td>http://www.last.fm/music/MALICE+MIZER</td>\n",
       "      <td>0</td>\n",
       "      <td>256</td>\n",
       "      <td>0</td>\n",
       "      <td>483</td>\n",
       "    </tr>\n",
       "    <tr>\n",
       "      <th>2</th>\n",
       "      <td>MALICE MIZER</td>\n",
       "      <td>http://www.last.fm/music/MALICE+MIZER</td>\n",
       "      <td>0</td>\n",
       "      <td>729</td>\n",
       "      <td>0</td>\n",
       "      <td>76</td>\n",
       "    </tr>\n",
       "    <tr>\n",
       "      <th>3</th>\n",
       "      <td>Diary of Dreams</td>\n",
       "      <td>http://www.last.fm/music/Diary+of+Dreams</td>\n",
       "      <td>1</td>\n",
       "      <td>130</td>\n",
       "      <td>1</td>\n",
       "      <td>1021</td>\n",
       "    </tr>\n",
       "    <tr>\n",
       "      <th>4</th>\n",
       "      <td>Diary of Dreams</td>\n",
       "      <td>http://www.last.fm/music/Diary+of+Dreams</td>\n",
       "      <td>1</td>\n",
       "      <td>240</td>\n",
       "      <td>1</td>\n",
       "      <td>152</td>\n",
       "    </tr>\n",
       "  </tbody>\n",
       "</table>\n",
       "</div>"
      ],
      "text/plain": [
       "              name                                       url  artID  userID  \\\n",
       "0     MALICE MIZER     http://www.last.fm/music/MALICE+MIZER      0      31   \n",
       "1     MALICE MIZER     http://www.last.fm/music/MALICE+MIZER      0     256   \n",
       "2     MALICE MIZER     http://www.last.fm/music/MALICE+MIZER      0     729   \n",
       "3  Diary of Dreams  http://www.last.fm/music/Diary+of+Dreams      1     130   \n",
       "4  Diary of Dreams  http://www.last.fm/music/Diary+of+Dreams      1     240   \n",
       "\n",
       "   artistID  played  \n",
       "0         0     212  \n",
       "1         0     483  \n",
       "2         0      76  \n",
       "3         1    1021  \n",
       "4         1     152  "
      ]
     },
     "execution_count": 122,
     "metadata": {},
     "output_type": "execute_result"
    }
   ],
   "source": [
    "played.head()"
   ]
  },
  {
   "cell_type": "markdown",
   "id": "5ec1b735",
   "metadata": {},
   "source": [
    "# Alternate method"
   ]
  },
  {
   "cell_type": "code",
   "execution_count": 123,
   "id": "db639cdf",
   "metadata": {},
   "outputs": [
    {
     "data": {
      "text/plain": [
       "(92834, 6)"
      ]
     },
     "execution_count": 123,
     "metadata": {},
     "output_type": "execute_result"
    }
   ],
   "source": [
    "played.shape"
   ]
  },
  {
   "cell_type": "code",
   "execution_count": 146,
   "id": "963109d3",
   "metadata": {},
   "outputs": [
    {
     "data": {
      "text/plain": [
       "name        object\n",
       "url         object\n",
       "artID        int64\n",
       "userID       int64\n",
       "artistID     int64\n",
       "played       int64\n",
       "dtype: object"
      ]
     },
     "execution_count": 146,
     "metadata": {},
     "output_type": "execute_result"
    }
   ],
   "source": [
    "played.dtypes"
   ]
  },
  {
   "cell_type": "code",
   "execution_count": 124,
   "id": "3fc4cb30",
   "metadata": {},
   "outputs": [
    {
     "data": {
      "text/html": [
       "<div>\n",
       "<style scoped>\n",
       "    .dataframe tbody tr th:only-of-type {\n",
       "        vertical-align: middle;\n",
       "    }\n",
       "\n",
       "    .dataframe tbody tr th {\n",
       "        vertical-align: top;\n",
       "    }\n",
       "\n",
       "    .dataframe thead th {\n",
       "        text-align: right;\n",
       "    }\n",
       "</style>\n",
       "<table border=\"1\" class=\"dataframe\">\n",
       "  <thead>\n",
       "    <tr style=\"text-align: right;\">\n",
       "      <th></th>\n",
       "      <th>name</th>\n",
       "      <th>url</th>\n",
       "      <th>artID</th>\n",
       "      <th>userID</th>\n",
       "      <th>artistID</th>\n",
       "      <th>played</th>\n",
       "    </tr>\n",
       "  </thead>\n",
       "  <tbody>\n",
       "    <tr>\n",
       "      <th>0</th>\n",
       "      <td>MALICE MIZER</td>\n",
       "      <td>http://www.last.fm/music/MALICE+MIZER</td>\n",
       "      <td>0</td>\n",
       "      <td>31</td>\n",
       "      <td>0</td>\n",
       "      <td>212</td>\n",
       "    </tr>\n",
       "    <tr>\n",
       "      <th>1</th>\n",
       "      <td>MALICE MIZER</td>\n",
       "      <td>http://www.last.fm/music/MALICE+MIZER</td>\n",
       "      <td>0</td>\n",
       "      <td>256</td>\n",
       "      <td>0</td>\n",
       "      <td>483</td>\n",
       "    </tr>\n",
       "    <tr>\n",
       "      <th>2</th>\n",
       "      <td>MALICE MIZER</td>\n",
       "      <td>http://www.last.fm/music/MALICE+MIZER</td>\n",
       "      <td>0</td>\n",
       "      <td>729</td>\n",
       "      <td>0</td>\n",
       "      <td>76</td>\n",
       "    </tr>\n",
       "    <tr>\n",
       "      <th>3</th>\n",
       "      <td>Diary of Dreams</td>\n",
       "      <td>http://www.last.fm/music/Diary+of+Dreams</td>\n",
       "      <td>1</td>\n",
       "      <td>130</td>\n",
       "      <td>1</td>\n",
       "      <td>1021</td>\n",
       "    </tr>\n",
       "    <tr>\n",
       "      <th>4</th>\n",
       "      <td>Diary of Dreams</td>\n",
       "      <td>http://www.last.fm/music/Diary+of+Dreams</td>\n",
       "      <td>1</td>\n",
       "      <td>240</td>\n",
       "      <td>1</td>\n",
       "      <td>152</td>\n",
       "    </tr>\n",
       "  </tbody>\n",
       "</table>\n",
       "</div>"
      ],
      "text/plain": [
       "              name                                       url  artID  userID  \\\n",
       "0     MALICE MIZER     http://www.last.fm/music/MALICE+MIZER      0      31   \n",
       "1     MALICE MIZER     http://www.last.fm/music/MALICE+MIZER      0     256   \n",
       "2     MALICE MIZER     http://www.last.fm/music/MALICE+MIZER      0     729   \n",
       "3  Diary of Dreams  http://www.last.fm/music/Diary+of+Dreams      1     130   \n",
       "4  Diary of Dreams  http://www.last.fm/music/Diary+of+Dreams      1     240   \n",
       "\n",
       "   artistID  played  \n",
       "0         0     212  \n",
       "1         0     483  \n",
       "2         0      76  \n",
       "3         1    1021  \n",
       "4         1     152  "
      ]
     },
     "execution_count": 124,
     "metadata": {},
     "output_type": "execute_result"
    }
   ],
   "source": [
    "played.head()"
   ]
  },
  {
   "cell_type": "code",
   "execution_count": 126,
   "id": "e1757c06",
   "metadata": {},
   "outputs": [],
   "source": [
    "sub = played[['userID', 'artID', 'played']]"
   ]
  },
  {
   "cell_type": "code",
   "execution_count": 127,
   "id": "27ece515",
   "metadata": {},
   "outputs": [],
   "source": [
    "#sub.rename(columns={'mapped1': 'userID', 'mapped': 'artistID'}, inplace=True)"
   ]
  },
  {
   "cell_type": "code",
   "execution_count": 128,
   "id": "5c013c13",
   "metadata": {},
   "outputs": [
    {
     "data": {
      "text/html": [
       "<div>\n",
       "<style scoped>\n",
       "    .dataframe tbody tr th:only-of-type {\n",
       "        vertical-align: middle;\n",
       "    }\n",
       "\n",
       "    .dataframe tbody tr th {\n",
       "        vertical-align: top;\n",
       "    }\n",
       "\n",
       "    .dataframe thead th {\n",
       "        text-align: right;\n",
       "    }\n",
       "</style>\n",
       "<table border=\"1\" class=\"dataframe\">\n",
       "  <thead>\n",
       "    <tr style=\"text-align: right;\">\n",
       "      <th></th>\n",
       "      <th>userID</th>\n",
       "      <th>artID</th>\n",
       "      <th>played</th>\n",
       "    </tr>\n",
       "  </thead>\n",
       "  <tbody>\n",
       "    <tr>\n",
       "      <th>0</th>\n",
       "      <td>31</td>\n",
       "      <td>0</td>\n",
       "      <td>212</td>\n",
       "    </tr>\n",
       "    <tr>\n",
       "      <th>1</th>\n",
       "      <td>256</td>\n",
       "      <td>0</td>\n",
       "      <td>483</td>\n",
       "    </tr>\n",
       "    <tr>\n",
       "      <th>2</th>\n",
       "      <td>729</td>\n",
       "      <td>0</td>\n",
       "      <td>76</td>\n",
       "    </tr>\n",
       "    <tr>\n",
       "      <th>3</th>\n",
       "      <td>130</td>\n",
       "      <td>1</td>\n",
       "      <td>1021</td>\n",
       "    </tr>\n",
       "    <tr>\n",
       "      <th>4</th>\n",
       "      <td>240</td>\n",
       "      <td>1</td>\n",
       "      <td>152</td>\n",
       "    </tr>\n",
       "    <tr>\n",
       "      <th>...</th>\n",
       "      <td>...</td>\n",
       "      <td>...</td>\n",
       "      <td>...</td>\n",
       "    </tr>\n",
       "    <tr>\n",
       "      <th>92829</th>\n",
       "      <td>423</td>\n",
       "      <td>17627</td>\n",
       "      <td>301</td>\n",
       "    </tr>\n",
       "    <tr>\n",
       "      <th>92830</th>\n",
       "      <td>423</td>\n",
       "      <td>17628</td>\n",
       "      <td>294</td>\n",
       "    </tr>\n",
       "    <tr>\n",
       "      <th>92831</th>\n",
       "      <td>423</td>\n",
       "      <td>17629</td>\n",
       "      <td>287</td>\n",
       "    </tr>\n",
       "    <tr>\n",
       "      <th>92832</th>\n",
       "      <td>423</td>\n",
       "      <td>17630</td>\n",
       "      <td>286</td>\n",
       "    </tr>\n",
       "    <tr>\n",
       "      <th>92833</th>\n",
       "      <td>547</td>\n",
       "      <td>17631</td>\n",
       "      <td>426</td>\n",
       "    </tr>\n",
       "  </tbody>\n",
       "</table>\n",
       "<p>92834 rows × 3 columns</p>\n",
       "</div>"
      ],
      "text/plain": [
       "       userID  artID  played\n",
       "0          31      0     212\n",
       "1         256      0     483\n",
       "2         729      0      76\n",
       "3         130      1    1021\n",
       "4         240      1     152\n",
       "...       ...    ...     ...\n",
       "92829     423  17627     301\n",
       "92830     423  17628     294\n",
       "92831     423  17629     287\n",
       "92832     423  17630     286\n",
       "92833     547  17631     426\n",
       "\n",
       "[92834 rows x 3 columns]"
      ]
     },
     "execution_count": 128,
     "metadata": {},
     "output_type": "execute_result"
    }
   ],
   "source": [
    "sub"
   ]
  },
  {
   "cell_type": "code",
   "execution_count": 129,
   "id": "f05ff519",
   "metadata": {},
   "outputs": [],
   "source": [
    "train, test = train_test_split(sub, test_size=0.7)"
   ]
  },
  {
   "cell_type": "code",
   "execution_count": 130,
   "id": "4fdc4342",
   "metadata": {},
   "outputs": [
    {
     "data": {
      "text/html": [
       "<div>\n",
       "<style scoped>\n",
       "    .dataframe tbody tr th:only-of-type {\n",
       "        vertical-align: middle;\n",
       "    }\n",
       "\n",
       "    .dataframe tbody tr th {\n",
       "        vertical-align: top;\n",
       "    }\n",
       "\n",
       "    .dataframe thead th {\n",
       "        text-align: right;\n",
       "    }\n",
       "</style>\n",
       "<table border=\"1\" class=\"dataframe\">\n",
       "  <thead>\n",
       "    <tr style=\"text-align: right;\">\n",
       "      <th></th>\n",
       "      <th>userID</th>\n",
       "      <th>artID</th>\n",
       "      <th>played</th>\n",
       "    </tr>\n",
       "  </thead>\n",
       "  <tbody>\n",
       "    <tr>\n",
       "      <th>38639</th>\n",
       "      <td>386</td>\n",
       "      <td>904</td>\n",
       "      <td>518</td>\n",
       "    </tr>\n",
       "    <tr>\n",
       "      <th>53711</th>\n",
       "      <td>251</td>\n",
       "      <td>1801</td>\n",
       "      <td>425</td>\n",
       "    </tr>\n",
       "    <tr>\n",
       "      <th>60416</th>\n",
       "      <td>1016</td>\n",
       "      <td>2601</td>\n",
       "      <td>1852</td>\n",
       "    </tr>\n",
       "    <tr>\n",
       "      <th>80734</th>\n",
       "      <td>597</td>\n",
       "      <td>8509</td>\n",
       "      <td>190</td>\n",
       "    </tr>\n",
       "    <tr>\n",
       "      <th>80474</th>\n",
       "      <td>1591</td>\n",
       "      <td>8404</td>\n",
       "      <td>123</td>\n",
       "    </tr>\n",
       "  </tbody>\n",
       "</table>\n",
       "</div>"
      ],
      "text/plain": [
       "       userID  artID  played\n",
       "38639     386    904     518\n",
       "53711     251   1801     425\n",
       "60416    1016   2601    1852\n",
       "80734     597   8509     190\n",
       "80474    1591   8404     123"
      ]
     },
     "execution_count": 130,
     "metadata": {},
     "output_type": "execute_result"
    }
   ],
   "source": [
    "train.head()"
   ]
  },
  {
   "cell_type": "code",
   "execution_count": 131,
   "id": "f051e5e2",
   "metadata": {},
   "outputs": [
    {
     "data": {
      "text/html": [
       "<div>\n",
       "<style scoped>\n",
       "    .dataframe tbody tr th:only-of-type {\n",
       "        vertical-align: middle;\n",
       "    }\n",
       "\n",
       "    .dataframe tbody tr th {\n",
       "        vertical-align: top;\n",
       "    }\n",
       "\n",
       "    .dataframe thead th {\n",
       "        text-align: right;\n",
       "    }\n",
       "</style>\n",
       "<table border=\"1\" class=\"dataframe\">\n",
       "  <thead>\n",
       "    <tr style=\"text-align: right;\">\n",
       "      <th></th>\n",
       "      <th>userID</th>\n",
       "      <th>artID</th>\n",
       "      <th>played</th>\n",
       "    </tr>\n",
       "  </thead>\n",
       "  <tbody>\n",
       "    <tr>\n",
       "      <th>22858</th>\n",
       "      <td>8</td>\n",
       "      <td>424</td>\n",
       "      <td>560</td>\n",
       "    </tr>\n",
       "    <tr>\n",
       "      <th>39476</th>\n",
       "      <td>200</td>\n",
       "      <td>933</td>\n",
       "      <td>58</td>\n",
       "    </tr>\n",
       "    <tr>\n",
       "      <th>64022</th>\n",
       "      <td>342</td>\n",
       "      <td>3183</td>\n",
       "      <td>477</td>\n",
       "    </tr>\n",
       "    <tr>\n",
       "      <th>73750</th>\n",
       "      <td>1567</td>\n",
       "      <td>5530</td>\n",
       "      <td>374</td>\n",
       "    </tr>\n",
       "    <tr>\n",
       "      <th>47729</th>\n",
       "      <td>1164</td>\n",
       "      <td>1363</td>\n",
       "      <td>7</td>\n",
       "    </tr>\n",
       "  </tbody>\n",
       "</table>\n",
       "</div>"
      ],
      "text/plain": [
       "       userID  artID  played\n",
       "22858       8    424     560\n",
       "39476     200    933      58\n",
       "64022     342   3183     477\n",
       "73750    1567   5530     374\n",
       "47729    1164   1363       7"
      ]
     },
     "execution_count": 131,
     "metadata": {},
     "output_type": "execute_result"
    }
   ],
   "source": [
    "test.head()"
   ]
  },
  {
   "cell_type": "code",
   "execution_count": 132,
   "id": "b47b3c32",
   "metadata": {},
   "outputs": [
    {
     "data": {
      "text/plain": [
       "1892"
      ]
     },
     "execution_count": 132,
     "metadata": {},
     "output_type": "execute_result"
    }
   ],
   "source": [
    "n_users = len(sub.userID.unique())\n",
    "n_users"
   ]
  },
  {
   "cell_type": "code",
   "execution_count": 134,
   "id": "5b0dbed2",
   "metadata": {},
   "outputs": [
    {
     "data": {
      "text/plain": [
       "17632"
      ]
     },
     "execution_count": 134,
     "metadata": {},
     "output_type": "execute_result"
    }
   ],
   "source": [
    "n_artist = len(sub.artID.unique())\n",
    "n_artist"
   ]
  },
  {
   "cell_type": "code",
   "execution_count": 135,
   "id": "b5649fd1",
   "metadata": {},
   "outputs": [],
   "source": [
    "# creating artist embedding path\n",
    "artist_input = Input(shape=[1], name=\"Artist-Input\")\n",
    "artist_embedding = Embedding(n_artist + 1, 5, name=\"Artist-Embedding\")(artist_input)\n",
    "artist_vec = Flatten(name=\"Flatten-Artist\")(artist_embedding)\n",
    "\n",
    "# creating user embedding path\n",
    "user_input = Input(shape=[1], name=\"User-Input\")\n",
    "user_embedding = Embedding(n_users + 1, 5, name=\"User-Embedding\")(user_input)\n",
    "user_vec = Flatten(name=\"Flatten-Users\")(user_embedding)\n",
    "\n",
    "# performing dot product and creating model\n",
    "prod = Dot(name=\"Dot-Product\", axes=1)([artist_vec, user_vec])\n",
    "model = Model([user_input, artist_input], prod)\n",
    "model.compile('adam', 'mean_squared_error')"
   ]
  },
  {
   "cell_type": "code",
   "execution_count": 138,
   "id": "f50dd06b",
   "metadata": {},
   "outputs": [],
   "source": [
    "from keras.models import load_model\n",
    "\n",
    "if os.path.exists('regression_model.h5'):\n",
    "    model = load_model('regression_model.h5')\n",
    "else:\n",
    "    history = model.fit([train.userID, train.artID], train.played, epochs=5, verbose=1)\n",
    "    model.save('regression_model.h5')\n",
    "    plt.plot(history.history['loss'])\n",
    "    plt.xlabel(\"Epochs\")\n",
    "    plt.ylabel(\"Training Error\")"
   ]
  },
  {
   "cell_type": "code",
   "execution_count": 139,
   "id": "bbc0f7ef",
   "metadata": {},
   "outputs": [
    {
     "data": {
      "text/plain": [
       "533782.9603017666"
      ]
     },
     "execution_count": 139,
     "metadata": {},
     "output_type": "execute_result"
    }
   ],
   "source": [
    "model.evaluate([test.userID, test.artID], test.played)"
   ]
  },
  {
   "cell_type": "code",
   "execution_count": 141,
   "id": "d8d0fd97",
   "metadata": {},
   "outputs": [
    {
     "name": "stdout",
     "output_type": "stream",
     "text": [
      "[4.6550655] 560\n",
      "[1.4814452] 58\n",
      "[0.85337687] 477\n",
      "[0.5395932] 374\n",
      "[4.853064] 7\n",
      "[0.47067714] 58\n",
      "[0.68341243] 70\n",
      "[0.56041586] 114\n",
      "[1.6889571] 188\n",
      "[3.4167838] 310\n"
     ]
    },
    {
     "data": {
      "text/plain": [
       "[None, None, None, None, None, None, None, None, None, None]"
      ]
     },
     "execution_count": 141,
     "metadata": {},
     "output_type": "execute_result"
    }
   ],
   "source": [
    "predictions = model.predict([test.userID.head(10), test.artID.head(10)])\n",
    "\n",
    "[print(predictions[i], test.played.iloc[i]) for i in range(0,10)]"
   ]
  },
  {
   "cell_type": "markdown",
   "id": "62f0ca65",
   "metadata": {},
   "source": [
    "# Neural Network"
   ]
  },
  {
   "cell_type": "code",
   "execution_count": 142,
   "id": "380b50a7",
   "metadata": {},
   "outputs": [],
   "source": [
    "# creating book embedding path\n",
    "artist_input = Input(shape=[1], name=\"Artist-Input\")\n",
    "artist_embedding = Embedding(n_artist + 1, 5, name=\"Artist-Embedding\")(artist_input)\n",
    "artist_vec = Flatten(name=\"Flatten-Artists\")(artist_embedding)\n",
    "\n",
    "# creating user embedding path\n",
    "user_input = Input(shape=[1], name=\"User-Input\")\n",
    "user_embedding = Embedding(n_users + 1, 5, name=\"User-Embedding\")(user_input)\n",
    "user_vec = Flatten(name=\"Flatten-Users\")(user_embedding)\n",
    "\n",
    "# concatenate features\n",
    "conc = Concatenate()([artist_vec, user_vec])\n",
    "\n",
    "# add fully-connected-layers\n",
    "fc1 = Dense(128, activation='relu')(conc)\n",
    "fc2 = Dense(32, activation='relu')(fc1)\n",
    "out = Dense(1)(fc2)\n",
    "\n",
    "# Create model and compile it\n",
    "model2 = Model([user_input, artist_input], out)\n",
    "model2.compile('adam', 'mean_squared_error')"
   ]
  },
  {
   "cell_type": "code",
   "execution_count": 143,
   "id": "d16c8e35",
   "metadata": {},
   "outputs": [],
   "source": [
    "from keras.models import load_model\n",
    "\n",
    "if os.path.exists('regression_model2.h5'):\n",
    "    model2 = load_model('regression_model2.h5')\n",
    "else:\n",
    "    history = model2.fit([train.userID, train.artID], train.played, epochs=5, verbose=1)\n",
    "    model2.save('regression_model2.h5')\n",
    "    plt.plot(history.history['loss'])\n",
    "    plt.xlabel(\"Epochs\")\n",
    "    plt.ylabel(\"Training Error\")"
   ]
  },
  {
   "cell_type": "code",
   "execution_count": 144,
   "id": "4b6ecb5e",
   "metadata": {},
   "outputs": [
    {
     "data": {
      "text/plain": [
       "1107344.4362054507"
      ]
     },
     "execution_count": 144,
     "metadata": {},
     "output_type": "execute_result"
    }
   ],
   "source": [
    "model2.evaluate([test.userID, test.artID], test.played)"
   ]
  },
  {
   "cell_type": "code",
   "execution_count": 145,
   "id": "05078745",
   "metadata": {},
   "outputs": [
    {
     "name": "stdout",
     "output_type": "stream",
     "text": [
      "[355.7778] 560\n",
      "[230.71167] 58\n",
      "[264.73853] 477\n",
      "[248.79677] 374\n",
      "[265.90387] 7\n",
      "[238.61171] 58\n",
      "[242.0368] 70\n",
      "[234.47836] 114\n",
      "[471.93317] 188\n",
      "[248.64082] 310\n"
     ]
    },
    {
     "data": {
      "text/plain": [
       "[None, None, None, None, None, None, None, None, None, None]"
      ]
     },
     "execution_count": 145,
     "metadata": {},
     "output_type": "execute_result"
    }
   ],
   "source": [
    "predictions = model2.predict([test.userID.head(10), test.artID.head(10)])\n",
    "\n",
    "[print(predictions[i], test.played.iloc[i]) for i in range(0,10)]"
   ]
  },
  {
   "cell_type": "markdown",
   "id": "a3020199",
   "metadata": {},
   "source": [
    "# Visualizing Embeddings"
   ]
  },
  {
   "cell_type": "code",
   "execution_count": 147,
   "id": "36d68abd",
   "metadata": {},
   "outputs": [],
   "source": [
    "# Extract embeddings\n",
    "artist_em = model.get_layer(\"Artist-Embedding\")\n",
    "artist_em_weights = artist_em.get_weights()[0]"
   ]
  },
  {
   "cell_type": "code",
   "execution_count": 148,
   "id": "082a1eeb",
   "metadata": {},
   "outputs": [
    {
     "data": {
      "text/plain": [
       "array([[ 0.04103883, -0.2710777 ,  0.28193265,  0.01121594, -0.21962109],\n",
       "       [ 0.42227656, -0.44878516,  0.46648487, -0.12221594, -0.40105212],\n",
       "       [-0.18079431, -0.13342255,  0.1553544 , -0.3333101 , -0.00778394],\n",
       "       [ 0.150518  , -0.19249448,  0.1592992 ,  0.12258738, -0.12723902],\n",
       "       [ 0.2513393 , -0.21272472,  0.1814355 , -0.22018886, -0.13649407]],\n",
       "      dtype=float32)"
      ]
     },
     "execution_count": 148,
     "metadata": {},
     "output_type": "execute_result"
    }
   ],
   "source": [
    "artist_em_weights[:5]"
   ]
  },
  {
   "cell_type": "code",
   "execution_count": 149,
   "id": "080285de",
   "metadata": {},
   "outputs": [
    {
     "data": {
      "text/plain": [
       "<AxesSubplot:>"
      ]
     },
     "execution_count": 149,
     "metadata": {},
     "output_type": "execute_result"
    },
    {
     "data": {
      "image/png": "[encoded data removed]",
      "text/plain": [
       "<Figure size 432x288 with 1 Axes>"
      ]
     },
     "metadata": {
      "needs_background": "light"
     },
     "output_type": "display_data"
    }
   ],
   "source": [
    "from sklearn.decomposition import PCA\n",
    "import seaborn as sns\n",
    "\n",
    "pca = PCA(n_components=2)\n",
    "pca_result = pca.fit_transform(artist_em_weights)\n",
    "sns.scatterplot(x=pca_result[:,0], y=pca_result[:,1])"
   ]
  },
  {
   "cell_type": "code",
   "execution_count": 150,
   "id": "a74ee545",
   "metadata": {},
   "outputs": [
    {
     "data": {
      "text/plain": [
       "1.0"
      ]
     },
     "execution_count": 150,
     "metadata": {},
     "output_type": "execute_result"
    }
   ],
   "source": [
    "artist_em_weights = artist_em_weights / np.linalg.norm(artist_em_weights, axis = 1).reshape((-1, 1))\n",
    "artist_em_weights[0][:10]\n",
    "np.sum(np.square(artist_em_weights[0]))"
   ]
  },
  {
   "cell_type": "code",
   "execution_count": 151,
   "id": "0a363fef",
   "metadata": {},
   "outputs": [
    {
     "data": {
      "text/plain": [
       "<AxesSubplot:>"
      ]
     },
     "execution_count": 151,
     "metadata": {},
     "output_type": "execute_result"
    },
    {
     "data": {
      "image/png": "[encoded data removed]",
      "text/plain": [
       "<Figure size 432x288 with 1 Axes>"
      ]
     },
     "metadata": {
      "needs_background": "light"
     },
     "output_type": "display_data"
    }
   ],
   "source": [
    "pca = PCA(n_components=2)\n",
    "pca_result = pca.fit_transform(artist_em_weights)\n",
    "sns.scatterplot(x=pca_result[:,0], y=pca_result[:,1])"
   ]
  },
  {
   "cell_type": "code",
   "execution_count": 152,
   "id": "81b19f30",
   "metadata": {},
   "outputs": [
    {
     "name": "stderr",
     "output_type": "stream",
     "text": [
      "C:\\Users\\user\\anaconda3\\lib\\site-packages\\sklearn\\manifold\\_t_sne.py:780: FutureWarning: The default initialization in TSNE will change from 'random' to 'pca' in 1.2.\n",
      "  warnings.warn(\n",
      "C:\\Users\\user\\anaconda3\\lib\\site-packages\\sklearn\\manifold\\_t_sne.py:790: FutureWarning: The default learning rate in TSNE will change from 200.0 to 'auto' in 1.2.\n",
      "  warnings.warn(\n"
     ]
    },
    {
     "name": "stdout",
     "output_type": "stream",
     "text": [
      "[t-SNE] Computing 121 nearest neighbors...\n",
      "[t-SNE] Indexed 17633 samples in 0.039s...\n",
      "[t-SNE] Computed neighbors for 17633 samples in 1.281s...\n",
      "[t-SNE] Computed conditional probabilities for sample 1000 / 17633\n",
      "[t-SNE] Computed conditional probabilities for sample 2000 / 17633\n",
      "[t-SNE] Computed conditional probabilities for sample 3000 / 17633\n",
      "[t-SNE] Computed conditional probabilities for sample 4000 / 17633\n",
      "[t-SNE] Computed conditional probabilities for sample 5000 / 17633\n",
      "[t-SNE] Computed conditional probabilities for sample 6000 / 17633\n",
      "[t-SNE] Computed conditional probabilities for sample 7000 / 17633\n",
      "[t-SNE] Computed conditional probabilities for sample 8000 / 17633\n",
      "[t-SNE] Computed conditional probabilities for sample 9000 / 17633\n",
      "[t-SNE] Computed conditional probabilities for sample 10000 / 17633\n",
      "[t-SNE] Computed conditional probabilities for sample 11000 / 17633\n",
      "[t-SNE] Computed conditional probabilities for sample 12000 / 17633\n",
      "[t-SNE] Computed conditional probabilities for sample 13000 / 17633\n",
      "[t-SNE] Computed conditional probabilities for sample 14000 / 17633\n",
      "[t-SNE] Computed conditional probabilities for sample 15000 / 17633\n",
      "[t-SNE] Computed conditional probabilities for sample 16000 / 17633\n",
      "[t-SNE] Computed conditional probabilities for sample 17000 / 17633\n",
      "[t-SNE] Computed conditional probabilities for sample 17633 / 17633\n",
      "[t-SNE] Mean sigma: 0.059542\n",
      "[t-SNE] KL divergence after 250 iterations with early exaggeration: 85.087860\n",
      "[t-SNE] KL divergence after 300 iterations: 3.408413\n"
     ]
    }
   ],
   "source": [
    "from sklearn.manifold import TSNE\n",
    "\n",
    "tsne = TSNE(n_components=2, verbose=1, perplexity=40, n_iter=300)\n",
    "tnse_results = tsne.fit_transform(artist_em_weights)"
   ]
  },
  {
   "cell_type": "code",
   "execution_count": 153,
   "id": "a8a84d4f",
   "metadata": {},
   "outputs": [
    {
     "data": {
      "text/plain": [
       "<AxesSubplot:>"
      ]
     },
     "execution_count": 153,
     "metadata": {},
     "output_type": "execute_result"
    },
    {
     "data": {
      "image/png": "[encoded data removed]",
      "text/plain": [
       "<Figure size 432x288 with 1 Axes>"
      ]
     },
     "metadata": {
      "needs_background": "light"
     },
     "output_type": "display_data"
    }
   ],
   "source": [
    "sns.scatterplot(x=tnse_results[:,0], y=tnse_results[:,1])"
   ]
  },
  {
   "cell_type": "markdown",
   "id": "32c98fd3",
   "metadata": {},
   "source": [
    "# Making Recommendations"
   ]
  },
  {
   "cell_type": "code",
   "execution_count": 155,
   "id": "58f09f0a",
   "metadata": {},
   "outputs": [
    {
     "data": {
      "text/plain": [
       "array([    0,     1,     2, ..., 17629, 17630, 17631])"
      ]
     },
     "execution_count": 155,
     "metadata": {},
     "output_type": "execute_result"
    }
   ],
   "source": [
    "# Creating dataset for making recommendations for the first user\n",
    "artist_data = np.array(list(set(sub.artID)))\n",
    "artist_data"
   ]
  },
  {
   "cell_type": "code",
   "execution_count": 156,
   "id": "f7dff3b9",
   "metadata": {},
   "outputs": [
    {
     "data": {
      "text/plain": [
       "array([98, 98, 98, ..., 98, 98, 98])"
      ]
     },
     "execution_count": 156,
     "metadata": {},
     "output_type": "execute_result"
    }
   ],
   "source": [
    "user = np.array([98 for i in range(len(artist_data))])\n",
    "user"
   ]
  },
  {
   "cell_type": "code",
   "execution_count": 157,
   "id": "983c1937",
   "metadata": {},
   "outputs": [
    {
     "data": {
      "text/plain": [
       "array([8131, 8135, 8324, 8139, 2754], dtype=int64)"
      ]
     },
     "execution_count": 157,
     "metadata": {},
     "output_type": "execute_result"
    }
   ],
   "source": [
    "predictions = model.predict([user, artist_data])\n",
    "\n",
    "predictions = np.array([a[0] for a in predictions])\n",
    "\n",
    "recommended_artist_ids = (predictions).argsort()[:5]\n",
    "\n",
    "recommended_artist_ids"
   ]
  },
  {
   "cell_type": "code",
   "execution_count": 158,
   "id": "5030fe5f",
   "metadata": {},
   "outputs": [
    {
     "data": {
      "text/plain": [
       "array([-0.4680127 , -0.4555061 , -0.43691623, -0.42654103, -0.4250893 ],\n",
       "      dtype=float32)"
      ]
     },
     "execution_count": 158,
     "metadata": {},
     "output_type": "execute_result"
    }
   ],
   "source": [
    "predictions[recommended_artist_ids]"
   ]
  },
  {
   "cell_type": "code",
   "execution_count": 159,
   "id": "e3f1ebe4",
   "metadata": {},
   "outputs": [
    {
     "data": {
      "text/html": [
       "<div>\n",
       "<style scoped>\n",
       "    .dataframe tbody tr th:only-of-type {\n",
       "        vertical-align: middle;\n",
       "    }\n",
       "\n",
       "    .dataframe tbody tr th {\n",
       "        vertical-align: top;\n",
       "    }\n",
       "\n",
       "    .dataframe thead th {\n",
       "        text-align: right;\n",
       "    }\n",
       "</style>\n",
       "<table border=\"1\" class=\"dataframe\">\n",
       "  <thead>\n",
       "    <tr style=\"text-align: right;\">\n",
       "      <th></th>\n",
       "      <th>name</th>\n",
       "      <th>url</th>\n",
       "      <th>pictureURL</th>\n",
       "      <th>artID</th>\n",
       "    </tr>\n",
       "  </thead>\n",
       "  <tbody>\n",
       "    <tr>\n",
       "      <th>2754</th>\n",
       "      <td>Dark Funeral</td>\n",
       "      <td>http://www.last.fm/music/Dark+Funeral</td>\n",
       "      <td>http://userserve-ak.last.fm/serve/252/13074411...</td>\n",
       "      <td>2754</td>\n",
       "    </tr>\n",
       "    <tr>\n",
       "      <th>8131</th>\n",
       "      <td>Nahash</td>\n",
       "      <td>http://www.last.fm/music/Nahash</td>\n",
       "      <td>http://userserve-ak.last.fm/serve/252/93322.jpg</td>\n",
       "      <td>8131</td>\n",
       "    </tr>\n",
       "    <tr>\n",
       "      <th>8135</th>\n",
       "      <td>Krabaras</td>\n",
       "      <td>http://www.last.fm/music/Krabaras</td>\n",
       "      <td>http://userserve-ak.last.fm/serve/252/44372179...</td>\n",
       "      <td>8135</td>\n",
       "    </tr>\n",
       "    <tr>\n",
       "      <th>8139</th>\n",
       "      <td>Luctus</td>\n",
       "      <td>http://www.last.fm/music/Luctus</td>\n",
       "      <td>http://userserve-ak.last.fm/serve/252/8688989.jpg</td>\n",
       "      <td>8139</td>\n",
       "    </tr>\n",
       "    <tr>\n",
       "      <th>8324</th>\n",
       "      <td>Dissimulation</td>\n",
       "      <td>http://www.last.fm/music/Dissimulation</td>\n",
       "      <td>http://userserve-ak.last.fm/serve/252/16340589...</td>\n",
       "      <td>8324</td>\n",
       "    </tr>\n",
       "  </tbody>\n",
       "</table>\n",
       "</div>"
      ],
      "text/plain": [
       "               name                                     url  \\\n",
       "2754   Dark Funeral   http://www.last.fm/music/Dark+Funeral   \n",
       "8131         Nahash         http://www.last.fm/music/Nahash   \n",
       "8135       Krabaras       http://www.last.fm/music/Krabaras   \n",
       "8139         Luctus         http://www.last.fm/music/Luctus   \n",
       "8324  Dissimulation  http://www.last.fm/music/Dissimulation   \n",
       "\n",
       "                                             pictureURL  artID  \n",
       "2754  http://userserve-ak.last.fm/serve/252/13074411...   2754  \n",
       "8131    http://userserve-ak.last.fm/serve/252/93322.jpg   8131  \n",
       "8135  http://userserve-ak.last.fm/serve/252/44372179...   8135  \n",
       "8139  http://userserve-ak.last.fm/serve/252/8688989.jpg   8139  \n",
       "8324  http://userserve-ak.last.fm/serve/252/16340589...   8324  "
      ]
     },
     "execution_count": 159,
     "metadata": {},
     "output_type": "execute_result"
    }
   ],
   "source": [
    "df[df['artID'].isin(recommended_artist_ids)]"
   ]
  },
  {
   "cell_type": "code",
   "execution_count": 164,
   "id": "d5b43da6",
   "metadata": {},
   "outputs": [
    {
     "data": {
      "text/html": [
       "<div>\n",
       "<style scoped>\n",
       "    .dataframe tbody tr th:only-of-type {\n",
       "        vertical-align: middle;\n",
       "    }\n",
       "\n",
       "    .dataframe tbody tr th {\n",
       "        vertical-align: top;\n",
       "    }\n",
       "\n",
       "    .dataframe thead th {\n",
       "        text-align: right;\n",
       "    }\n",
       "</style>\n",
       "<table border=\"1\" class=\"dataframe\">\n",
       "  <thead>\n",
       "    <tr style=\"text-align: right;\">\n",
       "      <th></th>\n",
       "      <th>name</th>\n",
       "      <th>url</th>\n",
       "      <th>artID</th>\n",
       "      <th>userID</th>\n",
       "      <th>artistID</th>\n",
       "      <th>played</th>\n",
       "    </tr>\n",
       "  </thead>\n",
       "  <tbody>\n",
       "    <tr>\n",
       "      <th>681</th>\n",
       "      <td>Air</td>\n",
       "      <td>http://www.last.fm/music/Air</td>\n",
       "      <td>47</td>\n",
       "      <td>98</td>\n",
       "      <td>47</td>\n",
       "      <td>36</td>\n",
       "    </tr>\n",
       "    <tr>\n",
       "      <th>1501</th>\n",
       "      <td>RÃ¶yksopp</td>\n",
       "      <td>http://www.last.fm/music/R%C3%B6yksopp</td>\n",
       "      <td>58</td>\n",
       "      <td>98</td>\n",
       "      <td>58</td>\n",
       "      <td>56</td>\n",
       "    </tr>\n",
       "    <tr>\n",
       "      <th>1582</th>\n",
       "      <td>Coldplay</td>\n",
       "      <td>http://www.last.fm/music/Coldplay</td>\n",
       "      <td>59</td>\n",
       "      <td>98</td>\n",
       "      <td>59</td>\n",
       "      <td>53</td>\n",
       "    </tr>\n",
       "    <tr>\n",
       "      <th>2588</th>\n",
       "      <td>Depeche Mode</td>\n",
       "      <td>http://www.last.fm/music/Depeche+Mode</td>\n",
       "      <td>66</td>\n",
       "      <td>98</td>\n",
       "      <td>66</td>\n",
       "      <td>1733</td>\n",
       "    </tr>\n",
       "    <tr>\n",
       "      <th>2865</th>\n",
       "      <td>Camouflage</td>\n",
       "      <td>http://www.last.fm/music/Camouflage</td>\n",
       "      <td>69</td>\n",
       "      <td>98</td>\n",
       "      <td>69</td>\n",
       "      <td>66</td>\n",
       "    </tr>\n",
       "    <tr>\n",
       "      <th>3324</th>\n",
       "      <td>Lady Gaga</td>\n",
       "      <td>http://www.last.fm/music/Lady+Gaga</td>\n",
       "      <td>83</td>\n",
       "      <td>98</td>\n",
       "      <td>83</td>\n",
       "      <td>69</td>\n",
       "    </tr>\n",
       "    <tr>\n",
       "      <th>4410</th>\n",
       "      <td>Radiohead</td>\n",
       "      <td>http://www.last.fm/music/Radiohead</td>\n",
       "      <td>148</td>\n",
       "      <td>98</td>\n",
       "      <td>148</td>\n",
       "      <td>168</td>\n",
       "    </tr>\n",
       "    <tr>\n",
       "      <th>5151</th>\n",
       "      <td>The Cure</td>\n",
       "      <td>http://www.last.fm/music/The+Cure</td>\n",
       "      <td>153</td>\n",
       "      <td>98</td>\n",
       "      <td>153</td>\n",
       "      <td>46</td>\n",
       "    </tr>\n",
       "    <tr>\n",
       "      <th>5804</th>\n",
       "      <td>The Cranberries</td>\n",
       "      <td>http://www.last.fm/music/The+Cranberries</td>\n",
       "      <td>160</td>\n",
       "      <td>98</td>\n",
       "      <td>160</td>\n",
       "      <td>23</td>\n",
       "    </tr>\n",
       "    <tr>\n",
       "      <th>6519</th>\n",
       "      <td>Keane</td>\n",
       "      <td>http://www.last.fm/music/Keane</td>\n",
       "      <td>176</td>\n",
       "      <td>98</td>\n",
       "      <td>176</td>\n",
       "      <td>19</td>\n",
       "    </tr>\n",
       "  </tbody>\n",
       "</table>\n",
       "</div>"
      ],
      "text/plain": [
       "                 name                                       url  artID  \\\n",
       "681               Air              http://www.last.fm/music/Air     47   \n",
       "1501        RÃ¶yksopp    http://www.last.fm/music/R%C3%B6yksopp     58   \n",
       "1582         Coldplay         http://www.last.fm/music/Coldplay     59   \n",
       "2588     Depeche Mode     http://www.last.fm/music/Depeche+Mode     66   \n",
       "2865       Camouflage       http://www.last.fm/music/Camouflage     69   \n",
       "3324        Lady Gaga        http://www.last.fm/music/Lady+Gaga     83   \n",
       "4410        Radiohead        http://www.last.fm/music/Radiohead    148   \n",
       "5151         The Cure         http://www.last.fm/music/The+Cure    153   \n",
       "5804  The Cranberries  http://www.last.fm/music/The+Cranberries    160   \n",
       "6519            Keane            http://www.last.fm/music/Keane    176   \n",
       "\n",
       "      userID  artistID  played  \n",
       "681       98        47      36  \n",
       "1501      98        58      56  \n",
       "1582      98        59      53  \n",
       "2588      98        66    1733  \n",
       "2865      98        69      66  \n",
       "3324      98        83      69  \n",
       "4410      98       148     168  \n",
       "5151      98       153      46  \n",
       "5804      98       160      23  \n",
       "6519      98       176      19  "
      ]
     },
     "execution_count": 164,
     "metadata": {},
     "output_type": "execute_result"
    }
   ],
   "source": [
    "played[played['userID'] == 98][:10]"
   ]
  },
  {
   "cell_type": "markdown",
   "id": "932d7d4f",
   "metadata": {},
   "source": [
    "We will look at tag information related to recommendations and see do they represent good recommendations."
   ]
  },
  {
   "cell_type": "code",
   "execution_count": null,
   "id": "6fd62cac",
   "metadata": {},
   "outputs": [],
   "source": [
    "tagged"
   ]
  },
  {
   "cell_type": "code",
   "execution_count": null,
   "id": "648d0eee",
   "metadata": {},
   "outputs": [],
   "source": [
    "df2"
   ]
  },
  {
   "cell_type": "code",
   "execution_count": null,
   "id": "8f139b32",
   "metadata": {},
   "outputs": [],
   "source": []
  }
 ],
 "metadata": {
  "kernelspec": {
   "display_name": "Python 3",
   "language": "python",
   "name": "python3"
  },
  "language_info": {
   "codemirror_mode": {
    "name": "ipython",
    "version": 3
   },
   "file_extension": ".py",
   "mimetype": "text/x-python",
   "name": "python",
   "nbconvert_exporter": "python",
   "pygments_lexer": "ipython3",
   "version": "3.8.8"
  }
 },
 "nbformat": 4,
 "nbformat_minor": 5
}
